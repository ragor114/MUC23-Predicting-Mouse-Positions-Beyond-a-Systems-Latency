{
 "cells": [
  {
   "cell_type": "code",
   "source": [
    "!nvidia-smi"
   ],
   "metadata": {
    "colab": {
     "base_uri": "https://localhost:8080/"
    },
    "id": "aFDmZik618bW",
    "outputId": "4ceec7de-190b-4878-9ec2-08fdeb39ff5b",
    "pycharm": {
     "name": "#%%\n"
    }
   },
   "execution_count": null,
   "outputs": [
    {
     "output_type": "stream",
     "name": "stdout",
     "text": [
      "Fri Jul  1 14:56:55 2022       \n",
      "+-----------------------------------------------------------------------------+\n",
      "| NVIDIA-SMI 460.32.03    Driver Version: 460.32.03    CUDA Version: 11.2     |\n",
      "|-------------------------------+----------------------+----------------------+\n",
      "| GPU  Name        Persistence-M| Bus-Id        Disp.A | Volatile Uncorr. ECC |\n",
      "| Fan  Temp  Perf  Pwr:Usage/Cap|         Memory-Usage | GPU-Util  Compute M. |\n",
      "|                               |                      |               MIG M. |\n",
      "|===============================+======================+======================|\n",
      "|   0  Tesla P100-PCIE...  Off  | 00000000:00:04.0 Off |                    0 |\n",
      "| N/A   37C    P0    27W / 250W |      0MiB / 16280MiB |      0%      Default |\n",
      "|                               |                      |                  N/A |\n",
      "+-------------------------------+----------------------+----------------------+\n",
      "                                                                               \n",
      "+-----------------------------------------------------------------------------+\n",
      "| Processes:                                                                  |\n",
      "|  GPU   GI   CI        PID   Type   Process name                  GPU Memory |\n",
      "|        ID   ID                                                   Usage      |\n",
      "|=============================================================================|\n",
      "|  No running processes found                                                 |\n",
      "+-----------------------------------------------------------------------------+\n"
     ]
    }
   ]
  },
  {
   "cell_type": "markdown",
   "source": [
    "# Data Preparation"
   ],
   "metadata": {
    "collapsed": false,
    "pycharm": {
     "name": "#%% md\n"
    },
    "id": "q3gi0A2D16cY"
   }
  },
  {
   "cell_type": "code",
   "source": [
    "# For Colab only!\n",
    "from google.colab import drive\n",
    "drive.mount('/content/drive')"
   ],
   "metadata": {
    "colab": {
     "base_uri": "https://localhost:8080/"
    },
    "id": "f7llQRHs1_H2",
    "outputId": "180278fe-7beb-40b1-aa1a-f72ab60166d5",
    "pycharm": {
     "name": "#%%\n"
    }
   },
   "execution_count": null,
   "outputs": [
    {
     "output_type": "stream",
     "name": "stdout",
     "text": [
      "Mounted at /content/drive\n"
     ]
    }
   ]
  },
  {
   "cell_type": "code",
   "execution_count": null,
   "metadata": {
    "collapsed": true,
    "pycharm": {
     "name": "#%%\n"
    },
    "id": "ZLUwwO7616ca"
   },
   "outputs": [],
   "source": [
    "import pandas as pd\n",
    "import os"
   ]
  },
  {
   "cell_type": "code",
   "execution_count": null,
   "outputs": [],
   "source": [
    "all_data = []\n",
    "if os.getcwd().split(\"\\\\\")[len(os.getcwd().split(\"\\\\\")) - 1] != \"data\":\n",
    "    os.chdir('/content/drive/MyDrive/BA/data')\n",
    "\n",
    "for f in os.listdir():\n",
    "    # print(f)\n",
    "    part_id = f.split(\"_\")[1].split(\".\")[0]\n",
    "    # print(part_id)\n",
    "    df = pd.read_csv(f, sep=\";\")\n",
    "    df[\"part_id\"] = part_id\n",
    "    all_data.append(df)"
   ],
   "metadata": {
    "pycharm": {
     "name": "#%%\n"
    },
    "id": "4H7s7Ma316cc"
   }
  },
  {
   "cell_type": "code",
   "source": [
    "all_data[0].head()"
   ],
   "metadata": {
    "id": "aCQgjHRrWabH",
    "outputId": "94382f2a-a10e-49ed-99ce-c0c51b8a0809",
    "colab": {
     "base_uri": "https://localhost:8080/",
     "height": 206
    },
    "pycharm": {
     "name": "#%%\n"
    }
   },
   "execution_count": null,
   "outputs": [
    {
     "output_type": "execute_result",
     "data": {
      "text/plain": [
       "       timestamp  active  xPos  yPos  TargetX  StartX  TunnelAmplitude  \\\n",
       "0  1651594672586       0     0     0    356.5  1563.5             1207   \n",
       "1  1651594672604       0   976   929    356.5  1563.5             1207   \n",
       "2  1651594672620       0   976   929    356.5  1563.5             1207   \n",
       "3  1651594672631       0   976   929    356.5  1563.5             1207   \n",
       "4  1651594672653       0   976   929    356.5  1563.5             1207   \n",
       "\n",
       "   TunnelWidth  YDistanceToTop  YDistanceToBottom   part_id  \n",
       "0           45          -442.0              487.0  95528384  \n",
       "1           45           411.5             -366.5  95528384  \n",
       "2           45           411.5             -366.5  95528384  \n",
       "3           45           411.5             -366.5  95528384  \n",
       "4           45           411.5             -366.5  95528384  "
      ],
      "text/html": [
       "\n",
       "  <div id=\"df-b7b7dba4-37e1-4a09-b2fc-df8ed017bae9\">\n",
       "    <div class=\"colab-df-container\">\n",
       "      <div>\n",
       "<style scoped>\n",
       "    .dataframe tbody tr th:only-of-type {\n",
       "        vertical-align: middle;\n",
       "    }\n",
       "\n",
       "    .dataframe tbody tr th {\n",
       "        vertical-align: top;\n",
       "    }\n",
       "\n",
       "    .dataframe thead th {\n",
       "        text-align: right;\n",
       "    }\n",
       "</style>\n",
       "<table border=\"1\" class=\"dataframe\">\n",
       "  <thead>\n",
       "    <tr style=\"text-align: right;\">\n",
       "      <th></th>\n",
       "      <th>timestamp</th>\n",
       "      <th>active</th>\n",
       "      <th>xPos</th>\n",
       "      <th>yPos</th>\n",
       "      <th>TargetX</th>\n",
       "      <th>StartX</th>\n",
       "      <th>TunnelAmplitude</th>\n",
       "      <th>TunnelWidth</th>\n",
       "      <th>YDistanceToTop</th>\n",
       "      <th>YDistanceToBottom</th>\n",
       "      <th>part_id</th>\n",
       "    </tr>\n",
       "  </thead>\n",
       "  <tbody>\n",
       "    <tr>\n",
       "      <th>0</th>\n",
       "      <td>1651594672586</td>\n",
       "      <td>0</td>\n",
       "      <td>0</td>\n",
       "      <td>0</td>\n",
       "      <td>356.5</td>\n",
       "      <td>1563.5</td>\n",
       "      <td>1207</td>\n",
       "      <td>45</td>\n",
       "      <td>-442.0</td>\n",
       "      <td>487.0</td>\n",
       "      <td>95528384</td>\n",
       "    </tr>\n",
       "    <tr>\n",
       "      <th>1</th>\n",
       "      <td>1651594672604</td>\n",
       "      <td>0</td>\n",
       "      <td>976</td>\n",
       "      <td>929</td>\n",
       "      <td>356.5</td>\n",
       "      <td>1563.5</td>\n",
       "      <td>1207</td>\n",
       "      <td>45</td>\n",
       "      <td>411.5</td>\n",
       "      <td>-366.5</td>\n",
       "      <td>95528384</td>\n",
       "    </tr>\n",
       "    <tr>\n",
       "      <th>2</th>\n",
       "      <td>1651594672620</td>\n",
       "      <td>0</td>\n",
       "      <td>976</td>\n",
       "      <td>929</td>\n",
       "      <td>356.5</td>\n",
       "      <td>1563.5</td>\n",
       "      <td>1207</td>\n",
       "      <td>45</td>\n",
       "      <td>411.5</td>\n",
       "      <td>-366.5</td>\n",
       "      <td>95528384</td>\n",
       "    </tr>\n",
       "    <tr>\n",
       "      <th>3</th>\n",
       "      <td>1651594672631</td>\n",
       "      <td>0</td>\n",
       "      <td>976</td>\n",
       "      <td>929</td>\n",
       "      <td>356.5</td>\n",
       "      <td>1563.5</td>\n",
       "      <td>1207</td>\n",
       "      <td>45</td>\n",
       "      <td>411.5</td>\n",
       "      <td>-366.5</td>\n",
       "      <td>95528384</td>\n",
       "    </tr>\n",
       "    <tr>\n",
       "      <th>4</th>\n",
       "      <td>1651594672653</td>\n",
       "      <td>0</td>\n",
       "      <td>976</td>\n",
       "      <td>929</td>\n",
       "      <td>356.5</td>\n",
       "      <td>1563.5</td>\n",
       "      <td>1207</td>\n",
       "      <td>45</td>\n",
       "      <td>411.5</td>\n",
       "      <td>-366.5</td>\n",
       "      <td>95528384</td>\n",
       "    </tr>\n",
       "  </tbody>\n",
       "</table>\n",
       "</div>\n",
       "      <button class=\"colab-df-convert\" onclick=\"convertToInteractive('df-b7b7dba4-37e1-4a09-b2fc-df8ed017bae9')\"\n",
       "              title=\"Convert this dataframe to an interactive table.\"\n",
       "              style=\"display:none;\">\n",
       "        \n",
       "  <svg xmlns=\"http://www.w3.org/2000/svg\" height=\"24px\"viewBox=\"0 0 24 24\"\n",
       "       width=\"24px\">\n",
       "    <path d=\"M0 0h24v24H0V0z\" fill=\"none\"/>\n",
       "    <path d=\"M18.56 5.44l.94 2.06.94-2.06 2.06-.94-2.06-.94-.94-2.06-.94 2.06-2.06.94zm-11 1L8.5 8.5l.94-2.06 2.06-.94-2.06-.94L8.5 2.5l-.94 2.06-2.06.94zm10 10l.94 2.06.94-2.06 2.06-.94-2.06-.94-.94-2.06-.94 2.06-2.06.94z\"/><path d=\"M17.41 7.96l-1.37-1.37c-.4-.4-.92-.59-1.43-.59-.52 0-1.04.2-1.43.59L10.3 9.45l-7.72 7.72c-.78.78-.78 2.05 0 2.83L4 21.41c.39.39.9.59 1.41.59.51 0 1.02-.2 1.41-.59l7.78-7.78 2.81-2.81c.8-.78.8-2.07 0-2.86zM5.41 20L4 18.59l7.72-7.72 1.47 1.35L5.41 20z\"/>\n",
       "  </svg>\n",
       "      </button>\n",
       "      \n",
       "  <style>\n",
       "    .colab-df-container {\n",
       "      display:flex;\n",
       "      flex-wrap:wrap;\n",
       "      gap: 12px;\n",
       "    }\n",
       "\n",
       "    .colab-df-convert {\n",
       "      background-color: #E8F0FE;\n",
       "      border: none;\n",
       "      border-radius: 50%;\n",
       "      cursor: pointer;\n",
       "      display: none;\n",
       "      fill: #1967D2;\n",
       "      height: 32px;\n",
       "      padding: 0 0 0 0;\n",
       "      width: 32px;\n",
       "    }\n",
       "\n",
       "    .colab-df-convert:hover {\n",
       "      background-color: #E2EBFA;\n",
       "      box-shadow: 0px 1px 2px rgba(60, 64, 67, 0.3), 0px 1px 3px 1px rgba(60, 64, 67, 0.15);\n",
       "      fill: #174EA6;\n",
       "    }\n",
       "\n",
       "    [theme=dark] .colab-df-convert {\n",
       "      background-color: #3B4455;\n",
       "      fill: #D2E3FC;\n",
       "    }\n",
       "\n",
       "    [theme=dark] .colab-df-convert:hover {\n",
       "      background-color: #434B5C;\n",
       "      box-shadow: 0px 1px 3px 1px rgba(0, 0, 0, 0.15);\n",
       "      filter: drop-shadow(0px 1px 2px rgba(0, 0, 0, 0.3));\n",
       "      fill: #FFFFFF;\n",
       "    }\n",
       "  </style>\n",
       "\n",
       "      <script>\n",
       "        const buttonEl =\n",
       "          document.querySelector('#df-b7b7dba4-37e1-4a09-b2fc-df8ed017bae9 button.colab-df-convert');\n",
       "        buttonEl.style.display =\n",
       "          google.colab.kernel.accessAllowed ? 'block' : 'none';\n",
       "\n",
       "        async function convertToInteractive(key) {\n",
       "          const element = document.querySelector('#df-b7b7dba4-37e1-4a09-b2fc-df8ed017bae9');\n",
       "          const dataTable =\n",
       "            await google.colab.kernel.invokeFunction('convertToInteractive',\n",
       "                                                     [key], {});\n",
       "          if (!dataTable) return;\n",
       "\n",
       "          const docLinkHtml = 'Like what you see? Visit the ' +\n",
       "            '<a target=\"_blank\" href=https://colab.research.google.com/notebooks/data_table.ipynb>data table notebook</a>'\n",
       "            + ' to learn more about interactive tables.';\n",
       "          element.innerHTML = '';\n",
       "          dataTable['output_type'] = 'display_data';\n",
       "          await google.colab.output.renderOutput(dataTable, element);\n",
       "          const docLink = document.createElement('div');\n",
       "          docLink.innerHTML = docLinkHtml;\n",
       "          element.appendChild(docLink);\n",
       "        }\n",
       "      </script>\n",
       "    </div>\n",
       "  </div>\n",
       "  "
      ]
     },
     "metadata": {},
     "execution_count": 4
    }
   ]
  },
  {
   "cell_type": "markdown",
   "source": [
    "## Normalize by Screensize"
   ],
   "metadata": {
    "collapsed": false,
    "pycharm": {
     "name": "#%% md\n"
    },
    "id": "Lo1oTYcj16ce"
   }
  },
  {
   "cell_type": "code",
   "execution_count": null,
   "outputs": [],
   "source": [
    "import copy"
   ],
   "metadata": {
    "pycharm": {
     "name": "#%%\n"
    },
    "id": "mMFKojHZ16cf"
   }
  },
  {
   "cell_type": "code",
   "execution_count": null,
   "outputs": [],
   "source": [
    "def normalize_by_screen(datapoint, screenwidth, screenheight):\n",
    "    normalized = copy.deepcopy(datapoint)\n",
    "    normalized[\"xPos\"] /= screenwidth\n",
    "    normalized[\"TargetX\"] /= screenwidth\n",
    "    normalized[\"StartX\"] /= screenwidth\n",
    "    normalized[\"TunnelAmplitude\"] /= screenwidth\n",
    "    normalized[\"yPos\"] /= screenheight\n",
    "    normalized[\"TunnelWidth\"] /= screenheight\n",
    "    normalized[\"YDistanceToTop\"] /= screenheight\n",
    "    normalized[\"YDistanceToBottom\"] /= screenheight\n",
    "    return normalized"
   ],
   "metadata": {
    "pycharm": {
     "name": "#%%\n"
    },
    "id": "dH0ypRuW16cs"
   }
  },
  {
   "cell_type": "code",
   "execution_count": null,
   "outputs": [],
   "source": [
    "def get_participants_screensize(datapoint):\n",
    "    x_res = -1\n",
    "    y_res = -1\n",
    "    # print(datapoint)\n",
    "    curr_part_id = datapoint[\"part_id\"][0]\n",
    "    # print(part_id)\n",
    "    for f in os.listdir():\n",
    "        curr_id = f.split(\"_\")[1].split(\".\")[0]\n",
    "        if curr_id == curr_part_id:\n",
    "            demographic = pd.read_csv(f, sep=\";\")\n",
    "            real_res_string = demographic[\"Real Res\"][0]\n",
    "            real_res_string = real_res_string.replace(\"px\", \"\")\n",
    "            x_res = real_res_string.split(\" x \")[0]\n",
    "            y_res = real_res_string.split(\" x \")[1]\n",
    "    return int(x_res), int(y_res)"
   ],
   "metadata": {
    "pycharm": {
     "name": "#%%\n"
    },
    "id": "wHOMkm4V16ct"
   }
  },
  {
   "cell_type": "code",
   "execution_count": null,
   "outputs": [],
   "source": [
    "def normalize_screensize(dataset):\n",
    "    if os.getcwd().split(\"\\\\\")[len(os.getcwd().split(\"\\\\\")) - 1] != \"demographic_data\":\n",
    "        os.chdir(\"/content/drive/MyDrive/BA/demographic_data\")\n",
    "    for i, datapoint in enumerate(dataset):\n",
    "        screenwidth, screenheight = get_participants_screensize(datapoint)\n",
    "        dataset[i] = normalize_by_screen(datapoint, screenwidth, screenheight)"
   ],
   "metadata": {
    "pycharm": {
     "name": "#%%\n"
    },
    "id": "RLxkVnYN16cu"
   }
  },
  {
   "cell_type": "markdown",
   "source": [
    "## First Order Derivation"
   ],
   "metadata": {
    "collapsed": false,
    "pycharm": {
     "name": "#%% md\n"
    },
    "id": "YeIjVqN_16cv"
   }
  },
  {
   "cell_type": "code",
   "execution_count": null,
   "outputs": [],
   "source": [
    "def get_data_with_derivate(datapoint):\n",
    "    diffSeries = datapoint[\"xPos\"].diff(periods=1)\n",
    "    datapoint.insert(3, \"xSpeed\", diffSeries)\n",
    "    diffSeries = datapoint[\"yPos\"].diff(periods=1)\n",
    "    datapoint.insert(5, \"ySpeed\", diffSeries)"
   ],
   "metadata": {
    "pycharm": {
     "name": "#%%\n"
    },
    "id": "1h2GnNB016cw"
   }
  },
  {
   "cell_type": "markdown",
   "source": [
    "## To np Array"
   ],
   "metadata": {
    "collapsed": false,
    "pycharm": {
     "name": "#%% md\n"
    },
    "id": "bVfn_2Pw16cx"
   }
  },
  {
   "cell_type": "code",
   "execution_count": null,
   "outputs": [],
   "source": [
    "import numpy as np"
   ],
   "metadata": {
    "pycharm": {
     "name": "#%%\n"
    },
    "id": "Lpbn9BQJ16cz"
   }
  },
  {
   "cell_type": "code",
   "execution_count": null,
   "outputs": [],
   "source": [
    "def get_np_arrays(data):\n",
    "    data_array = []\n",
    "    for curr in data:\n",
    "        removed = copy.deepcopy(curr)\n",
    "        removed = removed.drop('timestamp', axis=1)\n",
    "        removed = removed.drop('xPos', axis=1)\n",
    "        removed = removed.drop('yPos', axis=1)\n",
    "        removed = removed.drop('part_id', axis=1)\n",
    "        data_array.append(removed.to_numpy(copy=True))\n",
    "    return data_array"
   ],
   "metadata": {
    "pycharm": {
     "name": "#%%\n"
    },
    "id": "TnDSIb3J16c0"
   }
  },
  {
   "cell_type": "markdown",
   "source": [
    "## Split into sections"
   ],
   "metadata": {
    "collapsed": false,
    "pycharm": {
     "name": "#%% md\n"
    },
    "id": "8J4hhhEb16c1"
   }
  },
  {
   "cell_type": "code",
   "execution_count": null,
   "outputs": [],
   "source": [
    "def append_samples_of_length_n(participant_data, n, samples, labels, label_distance):\n",
    "    for i in range(participant_data.shape[0] - (n+label_distance)):\n",
    "        samples.append(copy.deepcopy(participant_data[i:i+n]))\n",
    "        sum_to_label = np.array([0,0], dtype='float64')\n",
    "        for j in range (i+n, i+n+label_distance):\n",
    "            sum_to_label += participant_data[j][1:3]\n",
    "        labels.append(copy.deepcopy(sum_to_label))\n",
    "        # labels.append(copy.deepcopy(participant_data[i+n+label_distance][1:3]))"
   ],
   "metadata": {
    "pycharm": {
     "name": "#%%\n"
    },
    "id": "Nz8gm4si16c4"
   }
  },
  {
   "cell_type": "code",
   "execution_count": null,
   "outputs": [],
   "source": [
    "def get_samples_and_labels(data_array, N=10, label_distance=10):\n",
    "    samples = []\n",
    "    labels = []\n",
    "    for participant_data in data_array:\n",
    "        append_samples_of_length_n(participant_data, N, samples, labels, label_distance)\n",
    "    return samples, labels"
   ],
   "metadata": {
    "pycharm": {
     "name": "#%%\n"
    },
    "id": "tb0-D16H16c5"
   }
  },
  {
   "cell_type": "markdown",
   "source": [
    "## Remove unusable"
   ],
   "metadata": {
    "collapsed": false,
    "pycharm": {
     "name": "#%% md\n"
    },
    "id": "wYTvp8uW16c6"
   }
  },
  {
   "cell_type": "code",
   "execution_count": null,
   "outputs": [],
   "source": [
    "def remove_unusable(data, labels, verbose=0):\n",
    "    # print(labels)\n",
    "    new_data = []\n",
    "    new_labels = []\n",
    "    for i, sample in enumerate(data):\n",
    "        bool_array = np.all(sample == sample[0,:], axis=0)\n",
    "        if bool_array[1] == False or bool_array[2] == False:\n",
    "            if labels[i][0] != 0:\n",
    "                new_data.append(sample)\n",
    "                new_labels.append(labels[i])\n",
    "        if verbose > 1 and i % 100000 == 0:\n",
    "            print(f'evaluated {i}')\n",
    "\n",
    "    if verbose > 0:\n",
    "        print(f'removed {len(data) - len(new_data)} samples')\n",
    "\n",
    "    return new_data, new_labels"
   ],
   "metadata": {
    "pycharm": {
     "name": "#%%\n"
    },
    "id": "X_H-VF-J16c7"
   }
  },
  {
   "cell_type": "markdown",
   "source": [
    "## Make face the same way"
   ],
   "metadata": {
    "collapsed": false,
    "pycharm": {
     "name": "#%% md\n"
    },
    "id": "WB5BV1aW16c8"
   }
  },
  {
   "cell_type": "code",
   "execution_count": null,
   "outputs": [],
   "source": [
    "def make_same_orientation(data, labels, verbose=0):\n",
    "    changed = 0\n",
    "    for i, sample in enumerate(data):\n",
    "        average_x_speed = np.average(sample, axis=0)[1]\n",
    "        if average_x_speed < 0:\n",
    "            # print(sample[:, 1])\n",
    "            sample[:, 1] *= -1\n",
    "            # print(labels[i])\n",
    "            # print(labels[i][0])\n",
    "            labels[i][0] *= -1\n",
    "            if verbose > 0:\n",
    "                changed += 1\n",
    "    if verbose > 0:\n",
    "        print(f'Changed {changed} samples')"
   ],
   "metadata": {
    "pycharm": {
     "name": "#%%\n"
    },
    "id": "9rhC4Flp16c9"
   }
  },
  {
   "cell_type": "markdown",
   "source": [
    "## Total transformation"
   ],
   "metadata": {
    "collapsed": false,
    "pycharm": {
     "name": "#%% md\n"
    },
    "id": "iUlMDX5316c9"
   }
  },
  {
   "cell_type": "code",
   "execution_count": null,
   "outputs": [],
   "source": [
    "def get_transformed_data(dataset, N, label_distance, verbose):\n",
    "    normalize_screensize(dataset)\n",
    "\n",
    "    if'xSpeed' not in dataset[0].columns:\n",
    "        for datapoint in dataset:\n",
    "            get_data_with_derivate(datapoint)\n",
    "            datapoint.drop(index=0, axis=0, inplace=True)\n",
    "\n",
    "    data_array = get_np_arrays(dataset)\n",
    "\n",
    "    samples, labels = get_samples_and_labels(data_array, N, label_distance)\n",
    "\n",
    "    samples, labels = remove_unusable(samples, labels, verbose=verbose)\n",
    "\n",
    "    make_same_orientation(samples, labels, verbose=verbose)\n",
    "\n",
    "    return samples, labels"
   ],
   "metadata": {
    "pycharm": {
     "name": "#%%\n"
    },
    "id": "mnNtqMYZ16c-"
   }
  },
  {
   "cell_type": "markdown",
   "source": [
    "## Train-Test-Split"
   ],
   "metadata": {
    "collapsed": false,
    "pycharm": {
     "name": "#%% md\n"
    },
    "id": "nXN3ex5416c-"
   }
  },
  {
   "cell_type": "code",
   "execution_count": null,
   "outputs": [],
   "source": [
    "TRAIN_SPLIT = 0.8\n",
    "TEST_SPLIT = 1.0 - TRAIN_SPLIT"
   ],
   "metadata": {
    "pycharm": {
     "name": "#%%\n"
    },
    "id": "NuLitNn716c_"
   }
  },
  {
   "cell_type": "code",
   "execution_count": null,
   "outputs": [],
   "source": [
    "import random as rand\n",
    "SEED = 27255"
   ],
   "metadata": {
    "pycharm": {
     "name": "#%%\n"
    },
    "id": "y-4D2ODx16c_"
   }
  },
  {
   "cell_type": "code",
   "execution_count": null,
   "outputs": [],
   "source": [
    "def get_train_test_split_data(dataset):\n",
    "    train_data_amount = 0.8 * len(dataset)\n",
    "\n",
    "    train_data = []\n",
    "    test_data = []\n",
    "\n",
    "    rand.seed(SEED)\n",
    "    train_indizes = rand.sample(range(len(dataset)), int(train_data_amount))\n",
    "    # print(train_indizes)\n",
    "\n",
    "    for i, sample in enumerate(dataset):\n",
    "        if i in train_indizes:\n",
    "            train_data.append(sample)\n",
    "        else:\n",
    "            test_data.append(sample)\n",
    "\n",
    "    # print(len(train_data))\n",
    "    # print(len(test_data))\n",
    "\n",
    "    return train_data, test_data"
   ],
   "metadata": {
    "pycharm": {
     "name": "#%%\n"
    },
    "id": "f5LuIU5H16c_"
   }
  },
  {
   "cell_type": "markdown",
   "source": [
    "## Normalize"
   ],
   "metadata": {
    "collapsed": false,
    "pycharm": {
     "name": "#%% md\n"
    },
    "id": "PJ_haKDM16dA"
   }
  },
  {
   "cell_type": "code",
   "execution_count": null,
   "outputs": [],
   "source": [
    "def get_average_array(arr, axis=(0,1)):\n",
    "    return np.mean(arr, axis=axis)"
   ],
   "metadata": {
    "pycharm": {
     "name": "#%%\n"
    },
    "id": "teZ6oq9416dA"
   }
  },
  {
   "cell_type": "code",
   "execution_count": null,
   "outputs": [],
   "source": [
    "def get_normalized_arrays(train_samples, train_labels, test_samples, test_labels):\n",
    "    #avg_array = get_average_array(train_samples)\n",
    "    # print(avg_array)\n",
    "    #avg_label_array = get_average_array(train_labels, 0)\n",
    "\n",
    "    train_array = np.array(train_samples)\n",
    "    test_array = np.array(test_samples)\n",
    "    train_labels_array = np.array(train_labels)\n",
    "    test_labels_array = np.array(test_labels)\n",
    "\n",
    "    #train_normalized = train_array[:, :, ] / avg_array\n",
    "    #train_normalized[:, : , 0] = train_array[:, :, 0]\n",
    "    #train_normalized[:, :, 2] = train_array[:, :, 2]\n",
    "\n",
    "    #test_normalized = test_array[:, :, ] / avg_array\n",
    "    #test_normalized[:, :, 0] = test_array[:, :, 0]\n",
    "    #test_normalized[:, :, 2] = test_array[:, :, 2]\n",
    "\n",
    "    # train_labels_array[:, 0] /= avg_label_array[0:1] - averages are very low!\n",
    "\n",
    "    # test_labels_array[:, 0] /= avg_label_array[0:1]\n",
    "\n",
    "    return train_array, train_labels_array, test_array, test_labels_array"
   ],
   "metadata": {
    "pycharm": {
     "name": "#%%\n"
    },
    "id": "zM9RSmJi16dB"
   }
  },
  {
   "cell_type": "markdown",
   "source": [
    "## Get Shuffled Data"
   ],
   "metadata": {
    "collapsed": false,
    "pycharm": {
     "name": "#%% md\n"
    },
    "id": "0g5B9_3v16dB"
   }
  },
  {
   "cell_type": "code",
   "execution_count": null,
   "outputs": [],
   "source": [
    "from sklearn.utils import shuffle"
   ],
   "metadata": {
    "pycharm": {
     "name": "#%%\n"
    },
    "id": "SK9NEbtP16dB"
   }
  },
  {
   "cell_type": "code",
   "execution_count": null,
   "outputs": [],
   "source": [
    "VERBOSE = 1\n",
    "LABEL_DISTANCE = 6 # 6 => 100ms\n",
    "\n",
    "def get_preprocessed_data(N):\n",
    "    curr_data = copy.deepcopy(all_data)\n",
    "    train_data, test_data = get_train_test_split_data(curr_data)\n",
    "\n",
    "    train_samples, train_labels = get_transformed_data(train_data, N, LABEL_DISTANCE, 0)\n",
    "    test_samples, test_labels = get_transformed_data(test_data, N, LABEL_DISTANCE, 0)\n",
    "\n",
    "    train_samples, train_labels, test_samples, test_labels = get_normalized_arrays(train_samples, train_labels, test_samples, test_labels)\n",
    "\n",
    "    train_samples, train_labels = shuffle(train_samples, train_labels, random_state=SEED)\n",
    "    test_samples, test_labels = shuffle(test_samples, test_labels, random_state=SEED)\n",
    "\n",
    "    return train_samples, train_labels, test_samples, test_labels"
   ],
   "metadata": {
    "pycharm": {
     "name": "#%%\n"
    },
    "id": "5C_eblCN16dB"
   }
  },
  {
   "cell_type": "markdown",
   "source": [
    "# Signal To Noise Ratio Metric"
   ],
   "metadata": {
    "collapsed": false,
    "pycharm": {
     "name": "#%% md\n"
    },
    "id": "vszLSXNo16dC"
   }
  },
  {
   "cell_type": "markdown",
   "source": [
    "Following: https://stackoverflow.com/questions/68598751/noise-to-signal-ratio-custom-loss-function-in-keras-not-working"
   ],
   "metadata": {
    "collapsed": false,
    "pycharm": {
     "name": "#%% md\n"
    },
    "id": "uFDY2Uux16dC"
   }
  },
  {
   "cell_type": "code",
   "execution_count": null,
   "outputs": [],
   "source": [
    "import tensorflow as tf\n",
    "import numpy as np"
   ],
   "metadata": {
    "pycharm": {
     "name": "#%%\n"
    },
    "id": "yf2Zt9a116dD"
   }
  },
  {
   "cell_type": "code",
   "execution_count": null,
   "outputs": [],
   "source": [
    "def noiseToSignalLoss(y_true, y_pred):\n",
    "    losses = tf.math.divide(\n",
    "        tf.math.reduce_sum(\n",
    "            tf.math.pow(\n",
    "               tf.math.subtract(y_true, y_pred)\n",
    "            , 2)\n",
    "        , axis=-1),\n",
    "        tf.math.reduce_sum(\n",
    "            tf.math.pow(y_true, 2)\n",
    "        , axis=-1)\n",
    "    )\n",
    "\n",
    "    return tf.reduce_mean(losses, axis=-1)"
   ],
   "metadata": {
    "pycharm": {
     "name": "#%%\n"
    },
    "id": "h2otrM4l16dE"
   }
  },
  {
   "cell_type": "markdown",
   "source": [
    "# Fully Connected ANNs"
   ],
   "metadata": {
    "collapsed": false,
    "pycharm": {
     "name": "#%% md\n"
    },
    "id": "FYFI1QUH16dG"
   }
  },
  {
   "cell_type": "code",
   "source": [
    "!pip install tensorflowjs"
   ],
   "metadata": {
    "colab": {
     "base_uri": "https://localhost:8080/",
     "height": 1000
    },
    "id": "-YAa-7Od45pu",
    "outputId": "0390427c-9226-4ca2-b7cc-90e766684f03",
    "pycharm": {
     "name": "#%%\n"
    }
   },
   "execution_count": null,
   "outputs": [
    {
     "output_type": "stream",
     "name": "stdout",
     "text": [
      "Looking in indexes: https://pypi.org/simple, https://us-python.pkg.dev/colab-wheels/public/simple/\n",
      "Collecting tensorflowjs\n",
      "  Downloading tensorflowjs-3.18.0-py3-none-any.whl (77 kB)\n",
      "\u001B[K     |████████████████████████████████| 77 kB 4.5 MB/s \n",
      "\u001B[?25hRequirement already satisfied: tensorflow-hub<0.13,>=0.7.0 in /usr/local/lib/python3.7/dist-packages (from tensorflowjs) (0.12.0)\n",
      "Requirement already satisfied: tensorflow<3,>=2.1.0 in /usr/local/lib/python3.7/dist-packages (from tensorflowjs) (2.8.2+zzzcolab20220527125636)\n",
      "Collecting packaging~=20.9\n",
      "  Downloading packaging-20.9-py2.py3-none-any.whl (40 kB)\n",
      "\u001B[K     |████████████████████████████████| 40 kB 7.3 MB/s \n",
      "\u001B[?25hRequirement already satisfied: six<2,>=1.12.0 in /usr/local/lib/python3.7/dist-packages (from tensorflowjs) (1.15.0)\n",
      "Requirement already satisfied: pyparsing>=2.0.2 in /usr/local/lib/python3.7/dist-packages (from packaging~=20.9->tensorflowjs) (3.0.9)\n",
      "Requirement already satisfied: opt-einsum>=2.3.2 in /usr/local/lib/python3.7/dist-packages (from tensorflow<3,>=2.1.0->tensorflowjs) (3.3.0)\n",
      "Requirement already satisfied: protobuf<3.20,>=3.9.2 in /usr/local/lib/python3.7/dist-packages (from tensorflow<3,>=2.1.0->tensorflowjs) (3.17.3)\n",
      "Requirement already satisfied: numpy>=1.20 in /usr/local/lib/python3.7/dist-packages (from tensorflow<3,>=2.1.0->tensorflowjs) (1.21.6)\n",
      "Requirement already satisfied: typing-extensions>=3.6.6 in /usr/local/lib/python3.7/dist-packages (from tensorflow<3,>=2.1.0->tensorflowjs) (4.1.1)\n",
      "Requirement already satisfied: tensorboard<2.9,>=2.8 in /usr/local/lib/python3.7/dist-packages (from tensorflow<3,>=2.1.0->tensorflowjs) (2.8.0)\n",
      "Requirement already satisfied: keras<2.9,>=2.8.0rc0 in /usr/local/lib/python3.7/dist-packages (from tensorflow<3,>=2.1.0->tensorflowjs) (2.8.0)\n",
      "Requirement already satisfied: astunparse>=1.6.0 in /usr/local/lib/python3.7/dist-packages (from tensorflow<3,>=2.1.0->tensorflowjs) (1.6.3)\n",
      "Requirement already satisfied: wrapt>=1.11.0 in /usr/local/lib/python3.7/dist-packages (from tensorflow<3,>=2.1.0->tensorflowjs) (1.14.1)\n",
      "Requirement already satisfied: keras-preprocessing>=1.1.1 in /usr/local/lib/python3.7/dist-packages (from tensorflow<3,>=2.1.0->tensorflowjs) (1.1.2)\n",
      "Requirement already satisfied: gast>=0.2.1 in /usr/local/lib/python3.7/dist-packages (from tensorflow<3,>=2.1.0->tensorflowjs) (0.5.3)\n",
      "Requirement already satisfied: libclang>=9.0.1 in /usr/local/lib/python3.7/dist-packages (from tensorflow<3,>=2.1.0->tensorflowjs) (14.0.1)\n",
      "Requirement already satisfied: tensorflow-io-gcs-filesystem>=0.23.1 in /usr/local/lib/python3.7/dist-packages (from tensorflow<3,>=2.1.0->tensorflowjs) (0.26.0)\n",
      "Requirement already satisfied: grpcio<2.0,>=1.24.3 in /usr/local/lib/python3.7/dist-packages (from tensorflow<3,>=2.1.0->tensorflowjs) (1.46.3)\n",
      "Requirement already satisfied: flatbuffers>=1.12 in /usr/local/lib/python3.7/dist-packages (from tensorflow<3,>=2.1.0->tensorflowjs) (2.0)\n",
      "Requirement already satisfied: h5py>=2.9.0 in /usr/local/lib/python3.7/dist-packages (from tensorflow<3,>=2.1.0->tensorflowjs) (3.1.0)\n",
      "Requirement already satisfied: termcolor>=1.1.0 in /usr/local/lib/python3.7/dist-packages (from tensorflow<3,>=2.1.0->tensorflowjs) (1.1.0)\n",
      "Requirement already satisfied: google-pasta>=0.1.1 in /usr/local/lib/python3.7/dist-packages (from tensorflow<3,>=2.1.0->tensorflowjs) (0.2.0)\n",
      "Requirement already satisfied: absl-py>=0.4.0 in /usr/local/lib/python3.7/dist-packages (from tensorflow<3,>=2.1.0->tensorflowjs) (1.1.0)\n",
      "Requirement already satisfied: setuptools in /usr/local/lib/python3.7/dist-packages (from tensorflow<3,>=2.1.0->tensorflowjs) (57.4.0)\n",
      "Requirement already satisfied: tensorflow-estimator<2.9,>=2.8 in /usr/local/lib/python3.7/dist-packages (from tensorflow<3,>=2.1.0->tensorflowjs) (2.8.0)\n",
      "Requirement already satisfied: wheel<1.0,>=0.23.0 in /usr/local/lib/python3.7/dist-packages (from astunparse>=1.6.0->tensorflow<3,>=2.1.0->tensorflowjs) (0.37.1)\n",
      "Requirement already satisfied: cached-property in /usr/local/lib/python3.7/dist-packages (from h5py>=2.9.0->tensorflow<3,>=2.1.0->tensorflowjs) (1.5.2)\n",
      "Requirement already satisfied: google-auth<3,>=1.6.3 in /usr/local/lib/python3.7/dist-packages (from tensorboard<2.9,>=2.8->tensorflow<3,>=2.1.0->tensorflowjs) (1.35.0)\n",
      "Requirement already satisfied: requests<3,>=2.21.0 in /usr/local/lib/python3.7/dist-packages (from tensorboard<2.9,>=2.8->tensorflow<3,>=2.1.0->tensorflowjs) (2.23.0)\n",
      "Requirement already satisfied: markdown>=2.6.8 in /usr/local/lib/python3.7/dist-packages (from tensorboard<2.9,>=2.8->tensorflow<3,>=2.1.0->tensorflowjs) (3.3.7)\n",
      "Requirement already satisfied: tensorboard-data-server<0.7.0,>=0.6.0 in /usr/local/lib/python3.7/dist-packages (from tensorboard<2.9,>=2.8->tensorflow<3,>=2.1.0->tensorflowjs) (0.6.1)\n",
      "Requirement already satisfied: werkzeug>=0.11.15 in /usr/local/lib/python3.7/dist-packages (from tensorboard<2.9,>=2.8->tensorflow<3,>=2.1.0->tensorflowjs) (1.0.1)\n",
      "Requirement already satisfied: google-auth-oauthlib<0.5,>=0.4.1 in /usr/local/lib/python3.7/dist-packages (from tensorboard<2.9,>=2.8->tensorflow<3,>=2.1.0->tensorflowjs) (0.4.6)\n",
      "Requirement already satisfied: tensorboard-plugin-wit>=1.6.0 in /usr/local/lib/python3.7/dist-packages (from tensorboard<2.9,>=2.8->tensorflow<3,>=2.1.0->tensorflowjs) (1.8.1)\n",
      "Requirement already satisfied: rsa<5,>=3.1.4 in /usr/local/lib/python3.7/dist-packages (from google-auth<3,>=1.6.3->tensorboard<2.9,>=2.8->tensorflow<3,>=2.1.0->tensorflowjs) (4.8)\n",
      "Requirement already satisfied: pyasn1-modules>=0.2.1 in /usr/local/lib/python3.7/dist-packages (from google-auth<3,>=1.6.3->tensorboard<2.9,>=2.8->tensorflow<3,>=2.1.0->tensorflowjs) (0.2.8)\n",
      "Requirement already satisfied: cachetools<5.0,>=2.0.0 in /usr/local/lib/python3.7/dist-packages (from google-auth<3,>=1.6.3->tensorboard<2.9,>=2.8->tensorflow<3,>=2.1.0->tensorflowjs) (4.2.4)\n",
      "Requirement already satisfied: requests-oauthlib>=0.7.0 in /usr/local/lib/python3.7/dist-packages (from google-auth-oauthlib<0.5,>=0.4.1->tensorboard<2.9,>=2.8->tensorflow<3,>=2.1.0->tensorflowjs) (1.3.1)\n",
      "Requirement already satisfied: importlib-metadata>=4.4 in /usr/local/lib/python3.7/dist-packages (from markdown>=2.6.8->tensorboard<2.9,>=2.8->tensorflow<3,>=2.1.0->tensorflowjs) (4.11.4)\n",
      "Requirement already satisfied: zipp>=0.5 in /usr/local/lib/python3.7/dist-packages (from importlib-metadata>=4.4->markdown>=2.6.8->tensorboard<2.9,>=2.8->tensorflow<3,>=2.1.0->tensorflowjs) (3.8.0)\n",
      "Requirement already satisfied: pyasn1<0.5.0,>=0.4.6 in /usr/local/lib/python3.7/dist-packages (from pyasn1-modules>=0.2.1->google-auth<3,>=1.6.3->tensorboard<2.9,>=2.8->tensorflow<3,>=2.1.0->tensorflowjs) (0.4.8)\n",
      "Requirement already satisfied: idna<3,>=2.5 in /usr/local/lib/python3.7/dist-packages (from requests<3,>=2.21.0->tensorboard<2.9,>=2.8->tensorflow<3,>=2.1.0->tensorflowjs) (2.10)\n",
      "Requirement already satisfied: certifi>=2017.4.17 in /usr/local/lib/python3.7/dist-packages (from requests<3,>=2.21.0->tensorboard<2.9,>=2.8->tensorflow<3,>=2.1.0->tensorflowjs) (2022.6.15)\n",
      "Requirement already satisfied: chardet<4,>=3.0.2 in /usr/local/lib/python3.7/dist-packages (from requests<3,>=2.21.0->tensorboard<2.9,>=2.8->tensorflow<3,>=2.1.0->tensorflowjs) (3.0.4)\n",
      "Requirement already satisfied: urllib3!=1.25.0,!=1.25.1,<1.26,>=1.21.1 in /usr/local/lib/python3.7/dist-packages (from requests<3,>=2.21.0->tensorboard<2.9,>=2.8->tensorflow<3,>=2.1.0->tensorflowjs) (1.24.3)\n",
      "Requirement already satisfied: oauthlib>=3.0.0 in /usr/local/lib/python3.7/dist-packages (from requests-oauthlib>=0.7.0->google-auth-oauthlib<0.5,>=0.4.1->tensorboard<2.9,>=2.8->tensorflow<3,>=2.1.0->tensorflowjs) (3.2.0)\n",
      "Installing collected packages: packaging, tensorflowjs\n",
      "  Attempting uninstall: packaging\n",
      "    Found existing installation: packaging 21.3\n",
      "    Uninstalling packaging-21.3:\n",
      "      Successfully uninstalled packaging-21.3\n",
      "\u001B[31mERROR: pip's dependency resolver does not currently take into account all the packages that are installed. This behaviour is the source of the following dependency conflicts.\n",
      "datascience 0.10.6 requires folium==0.2.1, but you have folium 0.8.3 which is incompatible.\u001B[0m\n",
      "Successfully installed packaging-20.9 tensorflowjs-3.18.0\n"
     ]
    },
    {
     "output_type": "display_data",
     "data": {
      "application/vnd.colab-display-data+json": {
       "pip_warning": {
        "packages": [
         "packaging"
        ]
       }
      }
     },
     "metadata": {}
    }
   ]
  },
  {
   "cell_type": "code",
   "execution_count": null,
   "outputs": [],
   "source": [
    "EPOCHS = 100"
   ],
   "metadata": {
    "pycharm": {
     "name": "#%%\n"
    },
    "id": "pw7E6OQb16dL"
   }
  },
  {
   "cell_type": "code",
   "execution_count": null,
   "outputs": [],
   "source": [
    "from tensorflow import keras\n",
    "from keras import layers\n",
    "import matplotlib.pyplot as plt\n",
    "import tensorflowjs as tfjs"
   ],
   "metadata": {
    "pycharm": {
     "name": "#%%\n"
    },
    "id": "iOQOHEBr16dG"
   }
  },
  {
   "cell_type": "code",
   "source": [
    "def get_model(train_x):\n",
    "    number_of_inputs = train_x.shape[1]\n",
    "\n",
    "    model = keras.Sequential()\n",
    "    model.add(\n",
    "        layers.Input(shape=(number_of_inputs, ))\n",
    "    )\n",
    "\n",
    "    model.add(\n",
    "        layers.Dense(134, activation='tanh')\n",
    "    )\n",
    "\n",
    "    model.add(\n",
    "        layers.Dense(112, activation='tanh')\n",
    "    )\n",
    "\n",
    "    model.add(\n",
    "        layers.Dense(90, activation='tanh')\n",
    "    )\n",
    "\n",
    "    model.add(\n",
    "        layers.Dense(223, activation='tanh')\n",
    "    )\n",
    "\n",
    "    model.add(\n",
    "        layers.Dense(199, activation='tanh')\n",
    "    )\n",
    "\n",
    "    model.add(\n",
    "        layers.Dense(100, activation='tanh')\n",
    "    )\n",
    "\n",
    "    model.add(\n",
    "        layers.Dense(145, activation='tanh')\n",
    "    )\n",
    "\n",
    "    model.add(\n",
    "        layers.Dense(160, activation='tanh')\n",
    "    )\n",
    "\n",
    "    model.add(\n",
    "        layers.Dense(231, activation='tanh')\n",
    "    )\n",
    "\n",
    "    model.add(\n",
    "        layers.Dense(83, activation='tanh')\n",
    "    )\n",
    "\n",
    "    model.add(\n",
    "        layers.Dense(182, activation='tanh')\n",
    "    )\n",
    "\n",
    "    model.add(\n",
    "        layers.Dense(147, activation='tanh')\n",
    "    )\n",
    "\n",
    "    model.add(\n",
    "        layers.Dense(165, activation='tanh')\n",
    "    )\n",
    "\n",
    "    model.add(\n",
    "        layers.Dense(134, activation='tanh')\n",
    "    )\n",
    "\n",
    "    model.add(\n",
    "        layers.Dense(139, activation='tanh')\n",
    "    )\n",
    "\n",
    "    model.add(\n",
    "        layers.Dense(244, activation='tanh')\n",
    "    )\n",
    "\n",
    "    model.add(\n",
    "        layers.Dense(194, activation='tanh')\n",
    "    )\n",
    "    \n",
    "    model.add(layers.Dropout(0.2296))\n",
    "\n",
    "    model.add(layers.Dense(2, activation='linear'))\n",
    "\n",
    "    return model"
   ],
   "metadata": {
    "id": "batslDjEEKMn",
    "pycharm": {
     "name": "#%%\n"
    }
   },
   "execution_count": null,
   "outputs": []
  },
  {
   "cell_type": "code",
   "source": [
    "def get_data():\n",
    "    train_samples, train_labels, test_samples, test_labels = get_preprocessed_data(6)\n",
    "    train_samples = train_samples.reshape(train_samples.shape[0], train_samples.shape[1] * train_samples.shape[2])\n",
    "    test_samples = test_samples.reshape(test_samples.shape[0], test_samples.shape[1] * test_samples.shape[2])\n",
    "\n",
    "    return train_samples, train_labels, test_samples, test_labels"
   ],
   "metadata": {
    "id": "PoD_NCFTEohN",
    "pycharm": {
     "name": "#%%\n"
    }
   },
   "execution_count": null,
   "outputs": []
  },
  {
   "cell_type": "code",
   "source": [
    "def plot_train_vs_val(history, key, model_name):\n",
    "    plt.figure()\n",
    "    plt.plot(history.history[key], c='blue')\n",
    "    plt.plot(history.history['val_'+key], c='black')\n",
    "    plt.title(f'{model_name} - {key}')\n",
    "    plt.ylabel(key)\n",
    "    plt.xlabel('epoch')\n",
    "    plt.legend(['train', 'validation'], loc='upper left')\n",
    "    # plt.xlim([0, 100])\n",
    "    plt.show()"
   ],
   "metadata": {
    "id": "c6T4KcDZEtYH",
    "pycharm": {
     "name": "#%%\n"
    }
   },
   "execution_count": null,
   "outputs": []
  },
  {
   "cell_type": "code",
   "source": [
    "def plot_all(history, model_name):\n",
    "    keys = history.history.keys()\n",
    "    print(keys)\n",
    "    for key in keys:\n",
    "        split_key = key.split('_')\n",
    "        if split_key[0] != 'val':\n",
    "          plot_train_vs_val(history, key, model_name)"
   ],
   "metadata": {
    "id": "7jeAw5VaEu4G",
    "pycharm": {
     "name": "#%%\n"
    }
   },
   "execution_count": null,
   "outputs": []
  },
  {
   "cell_type": "code",
   "source": [
    "train_X, train_Y, test_X, test_Y = get_data()"
   ],
   "metadata": {
    "id": "RTfHBgqBEwom",
    "pycharm": {
     "name": "#%%\n"
    }
   },
   "execution_count": null,
   "outputs": []
  },
  {
   "cell_type": "code",
   "source": [
    "model = get_model(train_X)\n",
    "\n",
    "callbacks = [\n",
    "    keras.callbacks.EarlyStopping(patience=7),\n",
    "]\n",
    "\n",
    "metrics = [\n",
    "    keras.metrics.MeanSquaredError(),\n",
    "    keras.metrics.RootMeanSquaredError(),\n",
    "    keras.metrics.MeanAbsoluteError(),\n",
    "    noiseToSignalLoss,\n",
    "]\n",
    "\n",
    "model.compile(optimizer=keras.optimizers.Adam(learning_rate=9.91390e-05), loss=keras.losses.MeanAbsoluteError(), metrics=metrics)\n",
    "\n",
    "history = model.fit(train_X, train_Y, batch_size=382, validation_split=0.1, verbose=1, epochs=EPOCHS, callbacks=callbacks)"
   ],
   "metadata": {
    "colab": {
     "base_uri": "https://localhost:8080/"
    },
    "id": "8aUFAq2WEymm",
    "outputId": "6b88dcd5-06cf-4a18-9a5c-c1873649430d",
    "pycharm": {
     "name": "#%%\n"
    }
   },
   "execution_count": null,
   "outputs": [
    {
     "output_type": "stream",
     "name": "stdout",
     "text": [
      "Epoch 1/100\n",
      "4060/4060 [==============================] - 28s 6ms/step - loss: 0.0148 - mean_squared_error: 0.0021 - root_mean_squared_error: 0.0454 - mean_absolute_error: 0.0148 - noiseToSignalLoss: 23.6524 - val_loss: 0.0133 - val_mean_squared_error: 0.0019 - val_root_mean_squared_error: 0.0433 - val_mean_absolute_error: 0.0133 - val_noiseToSignalLoss: 13.6244\n",
      "Epoch 2/100\n",
      "4060/4060 [==============================] - 24s 6ms/step - loss: 0.0133 - mean_squared_error: 0.0018 - root_mean_squared_error: 0.0424 - mean_absolute_error: 0.0133 - noiseToSignalLoss: 14.8453 - val_loss: 0.0132 - val_mean_squared_error: 0.0018 - val_root_mean_squared_error: 0.0428 - val_mean_absolute_error: 0.0132 - val_noiseToSignalLoss: 12.0567\n",
      "Epoch 3/100\n",
      "4060/4060 [==============================] - 25s 6ms/step - loss: 0.0130 - mean_squared_error: 0.0018 - root_mean_squared_error: 0.0419 - mean_absolute_error: 0.0130 - noiseToSignalLoss: 13.9497 - val_loss: 0.0130 - val_mean_squared_error: 0.0018 - val_root_mean_squared_error: 0.0421 - val_mean_absolute_error: 0.0130 - val_noiseToSignalLoss: 16.0798\n",
      "Epoch 4/100\n",
      "4060/4060 [==============================] - 24s 6ms/step - loss: 0.0129 - mean_squared_error: 0.0017 - root_mean_squared_error: 0.0418 - mean_absolute_error: 0.0129 - noiseToSignalLoss: 12.9944 - val_loss: 0.0129 - val_mean_squared_error: 0.0018 - val_root_mean_squared_error: 0.0425 - val_mean_absolute_error: 0.0129 - val_noiseToSignalLoss: 13.4769\n",
      "Epoch 5/100\n",
      "4060/4060 [==============================] - 24s 6ms/step - loss: 0.0128 - mean_squared_error: 0.0017 - root_mean_squared_error: 0.0418 - mean_absolute_error: 0.0128 - noiseToSignalLoss: 12.3918 - val_loss: 0.0128 - val_mean_squared_error: 0.0018 - val_root_mean_squared_error: 0.0423 - val_mean_absolute_error: 0.0128 - val_noiseToSignalLoss: 11.7131\n",
      "Epoch 6/100\n",
      "4060/4060 [==============================] - 24s 6ms/step - loss: 0.0128 - mean_squared_error: 0.0017 - root_mean_squared_error: 0.0418 - mean_absolute_error: 0.0128 - noiseToSignalLoss: 11.8585 - val_loss: 0.0130 - val_mean_squared_error: 0.0018 - val_root_mean_squared_error: 0.0424 - val_mean_absolute_error: 0.0130 - val_noiseToSignalLoss: 9.8124\n",
      "Epoch 7/100\n",
      "4060/4060 [==============================] - 24s 6ms/step - loss: 0.0127 - mean_squared_error: 0.0017 - root_mean_squared_error: 0.0417 - mean_absolute_error: 0.0127 - noiseToSignalLoss: 11.6633 - val_loss: 0.0127 - val_mean_squared_error: 0.0018 - val_root_mean_squared_error: 0.0421 - val_mean_absolute_error: 0.0127 - val_noiseToSignalLoss: 12.7916\n",
      "Epoch 8/100\n",
      "4060/4060 [==============================] - 24s 6ms/step - loss: 0.0127 - mean_squared_error: 0.0017 - root_mean_squared_error: 0.0416 - mean_absolute_error: 0.0127 - noiseToSignalLoss: 11.5869 - val_loss: 0.0127 - val_mean_squared_error: 0.0018 - val_root_mean_squared_error: 0.0425 - val_mean_absolute_error: 0.0127 - val_noiseToSignalLoss: 9.1544\n",
      "Epoch 9/100\n",
      "4060/4060 [==============================] - 24s 6ms/step - loss: 0.0126 - mean_squared_error: 0.0017 - root_mean_squared_error: 0.0415 - mean_absolute_error: 0.0126 - noiseToSignalLoss: 11.4195 - val_loss: 0.0127 - val_mean_squared_error: 0.0018 - val_root_mean_squared_error: 0.0419 - val_mean_absolute_error: 0.0127 - val_noiseToSignalLoss: 12.0086\n",
      "Epoch 10/100\n",
      "4060/4060 [==============================] - 24s 6ms/step - loss: 0.0126 - mean_squared_error: 0.0017 - root_mean_squared_error: 0.0414 - mean_absolute_error: 0.0126 - noiseToSignalLoss: 11.2358 - val_loss: 0.0126 - val_mean_squared_error: 0.0018 - val_root_mean_squared_error: 0.0419 - val_mean_absolute_error: 0.0126 - val_noiseToSignalLoss: 10.2979\n",
      "Epoch 11/100\n",
      "4060/4060 [==============================] - 24s 6ms/step - loss: 0.0126 - mean_squared_error: 0.0017 - root_mean_squared_error: 0.0413 - mean_absolute_error: 0.0126 - noiseToSignalLoss: 11.1203 - val_loss: 0.0126 - val_mean_squared_error: 0.0017 - val_root_mean_squared_error: 0.0417 - val_mean_absolute_error: 0.0126 - val_noiseToSignalLoss: 11.4725\n",
      "Epoch 12/100\n",
      "4060/4060 [==============================] - 24s 6ms/step - loss: 0.0126 - mean_squared_error: 0.0017 - root_mean_squared_error: 0.0412 - mean_absolute_error: 0.0126 - noiseToSignalLoss: 11.0263 - val_loss: 0.0126 - val_mean_squared_error: 0.0018 - val_root_mean_squared_error: 0.0421 - val_mean_absolute_error: 0.0126 - val_noiseToSignalLoss: 9.2805\n",
      "Epoch 13/100\n",
      "4060/4060 [==============================] - 24s 6ms/step - loss: 0.0125 - mean_squared_error: 0.0017 - root_mean_squared_error: 0.0411 - mean_absolute_error: 0.0125 - noiseToSignalLoss: 10.9185 - val_loss: 0.0127 - val_mean_squared_error: 0.0017 - val_root_mean_squared_error: 0.0415 - val_mean_absolute_error: 0.0127 - val_noiseToSignalLoss: 12.4129\n",
      "Epoch 14/100\n",
      "4060/4060 [==============================] - 24s 6ms/step - loss: 0.0125 - mean_squared_error: 0.0017 - root_mean_squared_error: 0.0411 - mean_absolute_error: 0.0125 - noiseToSignalLoss: 10.9069 - val_loss: 0.0125 - val_mean_squared_error: 0.0017 - val_root_mean_squared_error: 0.0413 - val_mean_absolute_error: 0.0125 - val_noiseToSignalLoss: 12.5257\n",
      "Epoch 15/100\n",
      "4060/4060 [==============================] - 24s 6ms/step - loss: 0.0125 - mean_squared_error: 0.0017 - root_mean_squared_error: 0.0410 - mean_absolute_error: 0.0125 - noiseToSignalLoss: 10.6605 - val_loss: 0.0127 - val_mean_squared_error: 0.0017 - val_root_mean_squared_error: 0.0418 - val_mean_absolute_error: 0.0127 - val_noiseToSignalLoss: 11.5225\n",
      "Epoch 16/100\n",
      "4060/4060 [==============================] - 24s 6ms/step - loss: 0.0125 - mean_squared_error: 0.0017 - root_mean_squared_error: 0.0409 - mean_absolute_error: 0.0125 - noiseToSignalLoss: 10.7712 - val_loss: 0.0125 - val_mean_squared_error: 0.0017 - val_root_mean_squared_error: 0.0415 - val_mean_absolute_error: 0.0125 - val_noiseToSignalLoss: 10.8312\n",
      "Epoch 17/100\n",
      "4060/4060 [==============================] - 24s 6ms/step - loss: 0.0125 - mean_squared_error: 0.0017 - root_mean_squared_error: 0.0409 - mean_absolute_error: 0.0125 - noiseToSignalLoss: 10.7397 - val_loss: 0.0125 - val_mean_squared_error: 0.0017 - val_root_mean_squared_error: 0.0416 - val_mean_absolute_error: 0.0125 - val_noiseToSignalLoss: 12.5862\n",
      "Epoch 18/100\n",
      "4060/4060 [==============================] - 23s 6ms/step - loss: 0.0124 - mean_squared_error: 0.0017 - root_mean_squared_error: 0.0408 - mean_absolute_error: 0.0124 - noiseToSignalLoss: 10.6859 - val_loss: 0.0124 - val_mean_squared_error: 0.0017 - val_root_mean_squared_error: 0.0414 - val_mean_absolute_error: 0.0124 - val_noiseToSignalLoss: 9.8587\n",
      "Epoch 19/100\n",
      "4060/4060 [==============================] - 24s 6ms/step - loss: 0.0124 - mean_squared_error: 0.0017 - root_mean_squared_error: 0.0408 - mean_absolute_error: 0.0124 - noiseToSignalLoss: 10.6027 - val_loss: 0.0124 - val_mean_squared_error: 0.0017 - val_root_mean_squared_error: 0.0412 - val_mean_absolute_error: 0.0124 - val_noiseToSignalLoss: 10.3895\n",
      "Epoch 20/100\n",
      "4060/4060 [==============================] - 24s 6ms/step - loss: 0.0124 - mean_squared_error: 0.0017 - root_mean_squared_error: 0.0407 - mean_absolute_error: 0.0124 - noiseToSignalLoss: 10.6276 - val_loss: 0.0124 - val_mean_squared_error: 0.0017 - val_root_mean_squared_error: 0.0415 - val_mean_absolute_error: 0.0124 - val_noiseToSignalLoss: 10.0351\n",
      "Epoch 21/100\n",
      "4060/4060 [==============================] - 24s 6ms/step - loss: 0.0124 - mean_squared_error: 0.0016 - root_mean_squared_error: 0.0406 - mean_absolute_error: 0.0124 - noiseToSignalLoss: 10.7100 - val_loss: 0.0125 - val_mean_squared_error: 0.0017 - val_root_mean_squared_error: 0.0412 - val_mean_absolute_error: 0.0125 - val_noiseToSignalLoss: 12.4370\n",
      "Epoch 22/100\n",
      "4060/4060 [==============================] - 24s 6ms/step - loss: 0.0123 - mean_squared_error: 0.0016 - root_mean_squared_error: 0.0405 - mean_absolute_error: 0.0123 - noiseToSignalLoss: 10.4412 - val_loss: 0.0124 - val_mean_squared_error: 0.0017 - val_root_mean_squared_error: 0.0413 - val_mean_absolute_error: 0.0124 - val_noiseToSignalLoss: 10.3334\n",
      "Epoch 23/100\n",
      "4060/4060 [==============================] - 24s 6ms/step - loss: 0.0123 - mean_squared_error: 0.0016 - root_mean_squared_error: 0.0404 - mean_absolute_error: 0.0123 - noiseToSignalLoss: 10.5609 - val_loss: 0.0124 - val_mean_squared_error: 0.0017 - val_root_mean_squared_error: 0.0413 - val_mean_absolute_error: 0.0124 - val_noiseToSignalLoss: 11.0601\n",
      "Epoch 24/100\n",
      "4060/4060 [==============================] - 24s 6ms/step - loss: 0.0123 - mean_squared_error: 0.0016 - root_mean_squared_error: 0.0404 - mean_absolute_error: 0.0123 - noiseToSignalLoss: 10.4562 - val_loss: 0.0123 - val_mean_squared_error: 0.0017 - val_root_mean_squared_error: 0.0409 - val_mean_absolute_error: 0.0123 - val_noiseToSignalLoss: 11.1693\n",
      "Epoch 25/100\n",
      "4060/4060 [==============================] - 24s 6ms/step - loss: 0.0123 - mean_squared_error: 0.0016 - root_mean_squared_error: 0.0403 - mean_absolute_error: 0.0123 - noiseToSignalLoss: 10.4094 - val_loss: 0.0123 - val_mean_squared_error: 0.0017 - val_root_mean_squared_error: 0.0411 - val_mean_absolute_error: 0.0123 - val_noiseToSignalLoss: 8.5887\n",
      "Epoch 26/100\n",
      "4060/4060 [==============================] - 24s 6ms/step - loss: 0.0122 - mean_squared_error: 0.0016 - root_mean_squared_error: 0.0402 - mean_absolute_error: 0.0122 - noiseToSignalLoss: 10.3006 - val_loss: 0.0123 - val_mean_squared_error: 0.0016 - val_root_mean_squared_error: 0.0406 - val_mean_absolute_error: 0.0123 - val_noiseToSignalLoss: 11.4446\n",
      "Epoch 27/100\n",
      "4060/4060 [==============================] - 24s 6ms/step - loss: 0.0122 - mean_squared_error: 0.0016 - root_mean_squared_error: 0.0400 - mean_absolute_error: 0.0122 - noiseToSignalLoss: 10.2300 - val_loss: 0.0123 - val_mean_squared_error: 0.0016 - val_root_mean_squared_error: 0.0405 - val_mean_absolute_error: 0.0123 - val_noiseToSignalLoss: 11.8462\n",
      "Epoch 28/100\n",
      "4060/4060 [==============================] - 25s 6ms/step - loss: 0.0122 - mean_squared_error: 0.0016 - root_mean_squared_error: 0.0399 - mean_absolute_error: 0.0122 - noiseToSignalLoss: 10.1374 - val_loss: 0.0122 - val_mean_squared_error: 0.0016 - val_root_mean_squared_error: 0.0403 - val_mean_absolute_error: 0.0122 - val_noiseToSignalLoss: 11.8037\n",
      "Epoch 29/100\n",
      "4060/4060 [==============================] - 24s 6ms/step - loss: 0.0121 - mean_squared_error: 0.0016 - root_mean_squared_error: 0.0398 - mean_absolute_error: 0.0121 - noiseToSignalLoss: 9.9608 - val_loss: 0.0124 - val_mean_squared_error: 0.0017 - val_root_mean_squared_error: 0.0409 - val_mean_absolute_error: 0.0124 - val_noiseToSignalLoss: 11.7250\n",
      "Epoch 30/100\n",
      "4060/4060 [==============================] - 24s 6ms/step - loss: 0.0121 - mean_squared_error: 0.0016 - root_mean_squared_error: 0.0397 - mean_absolute_error: 0.0121 - noiseToSignalLoss: 9.7731 - val_loss: 0.0124 - val_mean_squared_error: 0.0016 - val_root_mean_squared_error: 0.0401 - val_mean_absolute_error: 0.0124 - val_noiseToSignalLoss: 13.5966\n",
      "Epoch 31/100\n",
      "4060/4060 [==============================] - 24s 6ms/step - loss: 0.0121 - mean_squared_error: 0.0016 - root_mean_squared_error: 0.0396 - mean_absolute_error: 0.0121 - noiseToSignalLoss: 9.7237 - val_loss: 0.0122 - val_mean_squared_error: 0.0016 - val_root_mean_squared_error: 0.0404 - val_mean_absolute_error: 0.0122 - val_noiseToSignalLoss: 10.0214\n",
      "Epoch 32/100\n",
      "4060/4060 [==============================] - 24s 6ms/step - loss: 0.0121 - mean_squared_error: 0.0016 - root_mean_squared_error: 0.0395 - mean_absolute_error: 0.0121 - noiseToSignalLoss: 9.7415 - val_loss: 0.0123 - val_mean_squared_error: 0.0016 - val_root_mean_squared_error: 0.0401 - val_mean_absolute_error: 0.0123 - val_noiseToSignalLoss: 11.9520\n",
      "Epoch 33/100\n",
      "4060/4060 [==============================] - 24s 6ms/step - loss: 0.0120 - mean_squared_error: 0.0016 - root_mean_squared_error: 0.0395 - mean_absolute_error: 0.0120 - noiseToSignalLoss: 9.7213 - val_loss: 0.0121 - val_mean_squared_error: 0.0016 - val_root_mean_squared_error: 0.0404 - val_mean_absolute_error: 0.0121 - val_noiseToSignalLoss: 8.3969\n",
      "Epoch 34/100\n",
      "4060/4060 [==============================] - 24s 6ms/step - loss: 0.0120 - mean_squared_error: 0.0016 - root_mean_squared_error: 0.0394 - mean_absolute_error: 0.0120 - noiseToSignalLoss: 9.6887 - val_loss: 0.0121 - val_mean_squared_error: 0.0016 - val_root_mean_squared_error: 0.0401 - val_mean_absolute_error: 0.0121 - val_noiseToSignalLoss: 10.2199\n",
      "Epoch 35/100\n",
      "4060/4060 [==============================] - 24s 6ms/step - loss: 0.0120 - mean_squared_error: 0.0015 - root_mean_squared_error: 0.0393 - mean_absolute_error: 0.0120 - noiseToSignalLoss: 9.6130 - val_loss: 0.0121 - val_mean_squared_error: 0.0016 - val_root_mean_squared_error: 0.0401 - val_mean_absolute_error: 0.0121 - val_noiseToSignalLoss: 9.6576\n",
      "Epoch 36/100\n",
      "4060/4060 [==============================] - 24s 6ms/step - loss: 0.0120 - mean_squared_error: 0.0015 - root_mean_squared_error: 0.0392 - mean_absolute_error: 0.0120 - noiseToSignalLoss: 9.6066 - val_loss: 0.0121 - val_mean_squared_error: 0.0016 - val_root_mean_squared_error: 0.0401 - val_mean_absolute_error: 0.0121 - val_noiseToSignalLoss: 7.9334\n",
      "Epoch 37/100\n",
      "4060/4060 [==============================] - 24s 6ms/step - loss: 0.0120 - mean_squared_error: 0.0015 - root_mean_squared_error: 0.0392 - mean_absolute_error: 0.0120 - noiseToSignalLoss: 9.4830 - val_loss: 0.0120 - val_mean_squared_error: 0.0016 - val_root_mean_squared_error: 0.0399 - val_mean_absolute_error: 0.0120 - val_noiseToSignalLoss: 8.5348\n",
      "Epoch 38/100\n",
      "4060/4060 [==============================] - 24s 6ms/step - loss: 0.0119 - mean_squared_error: 0.0015 - root_mean_squared_error: 0.0391 - mean_absolute_error: 0.0119 - noiseToSignalLoss: 9.2890 - val_loss: 0.0120 - val_mean_squared_error: 0.0016 - val_root_mean_squared_error: 0.0398 - val_mean_absolute_error: 0.0120 - val_noiseToSignalLoss: 8.9132\n",
      "Epoch 39/100\n",
      "4060/4060 [==============================] - 24s 6ms/step - loss: 0.0119 - mean_squared_error: 0.0015 - root_mean_squared_error: 0.0391 - mean_absolute_error: 0.0119 - noiseToSignalLoss: 9.2929 - val_loss: 0.0120 - val_mean_squared_error: 0.0016 - val_root_mean_squared_error: 0.0399 - val_mean_absolute_error: 0.0120 - val_noiseToSignalLoss: 8.6218\n",
      "Epoch 40/100\n",
      "4060/4060 [==============================] - 25s 6ms/step - loss: 0.0119 - mean_squared_error: 0.0015 - root_mean_squared_error: 0.0390 - mean_absolute_error: 0.0119 - noiseToSignalLoss: 9.2107 - val_loss: 0.0120 - val_mean_squared_error: 0.0016 - val_root_mean_squared_error: 0.0404 - val_mean_absolute_error: 0.0120 - val_noiseToSignalLoss: 7.0437\n",
      "Epoch 41/100\n",
      "4060/4060 [==============================] - 24s 6ms/step - loss: 0.0119 - mean_squared_error: 0.0015 - root_mean_squared_error: 0.0389 - mean_absolute_error: 0.0119 - noiseToSignalLoss: 9.0924 - val_loss: 0.0121 - val_mean_squared_error: 0.0016 - val_root_mean_squared_error: 0.0397 - val_mean_absolute_error: 0.0121 - val_noiseToSignalLoss: 10.4163\n",
      "Epoch 42/100\n",
      "4060/4060 [==============================] - 24s 6ms/step - loss: 0.0119 - mean_squared_error: 0.0015 - root_mean_squared_error: 0.0389 - mean_absolute_error: 0.0119 - noiseToSignalLoss: 9.3120 - val_loss: 0.0120 - val_mean_squared_error: 0.0016 - val_root_mean_squared_error: 0.0399 - val_mean_absolute_error: 0.0120 - val_noiseToSignalLoss: 9.8550\n",
      "Epoch 43/100\n",
      "4060/4060 [==============================] - 25s 6ms/step - loss: 0.0119 - mean_squared_error: 0.0015 - root_mean_squared_error: 0.0388 - mean_absolute_error: 0.0119 - noiseToSignalLoss: 9.1237 - val_loss: 0.0120 - val_mean_squared_error: 0.0016 - val_root_mean_squared_error: 0.0400 - val_mean_absolute_error: 0.0120 - val_noiseToSignalLoss: 8.2990\n",
      "Epoch 44/100\n",
      "4060/4060 [==============================] - 25s 6ms/step - loss: 0.0119 - mean_squared_error: 0.0015 - root_mean_squared_error: 0.0388 - mean_absolute_error: 0.0119 - noiseToSignalLoss: 8.9670 - val_loss: 0.0119 - val_mean_squared_error: 0.0016 - val_root_mean_squared_error: 0.0400 - val_mean_absolute_error: 0.0119 - val_noiseToSignalLoss: 8.0212\n",
      "Epoch 45/100\n",
      "4060/4060 [==============================] - 24s 6ms/step - loss: 0.0118 - mean_squared_error: 0.0015 - root_mean_squared_error: 0.0387 - mean_absolute_error: 0.0118 - noiseToSignalLoss: 9.0421 - val_loss: 0.0119 - val_mean_squared_error: 0.0016 - val_root_mean_squared_error: 0.0397 - val_mean_absolute_error: 0.0119 - val_noiseToSignalLoss: 10.1878\n",
      "Epoch 46/100\n",
      "4060/4060 [==============================] - 25s 6ms/step - loss: 0.0118 - mean_squared_error: 0.0015 - root_mean_squared_error: 0.0387 - mean_absolute_error: 0.0118 - noiseToSignalLoss: 9.0459 - val_loss: 0.0119 - val_mean_squared_error: 0.0016 - val_root_mean_squared_error: 0.0394 - val_mean_absolute_error: 0.0119 - val_noiseToSignalLoss: 9.4642\n",
      "Epoch 47/100\n",
      "4060/4060 [==============================] - 25s 6ms/step - loss: 0.0118 - mean_squared_error: 0.0015 - root_mean_squared_error: 0.0386 - mean_absolute_error: 0.0118 - noiseToSignalLoss: 8.8838 - val_loss: 0.0119 - val_mean_squared_error: 0.0015 - val_root_mean_squared_error: 0.0393 - val_mean_absolute_error: 0.0119 - val_noiseToSignalLoss: 9.4071\n",
      "Epoch 48/100\n",
      "4060/4060 [==============================] - 24s 6ms/step - loss: 0.0118 - mean_squared_error: 0.0015 - root_mean_squared_error: 0.0386 - mean_absolute_error: 0.0118 - noiseToSignalLoss: 8.8353 - val_loss: 0.0119 - val_mean_squared_error: 0.0015 - val_root_mean_squared_error: 0.0393 - val_mean_absolute_error: 0.0119 - val_noiseToSignalLoss: 10.1668\n",
      "Epoch 49/100\n",
      "4060/4060 [==============================] - 24s 6ms/step - loss: 0.0118 - mean_squared_error: 0.0015 - root_mean_squared_error: 0.0385 - mean_absolute_error: 0.0118 - noiseToSignalLoss: 8.9484 - val_loss: 0.0119 - val_mean_squared_error: 0.0016 - val_root_mean_squared_error: 0.0395 - val_mean_absolute_error: 0.0119 - val_noiseToSignalLoss: 9.2880\n",
      "Epoch 50/100\n",
      "4060/4060 [==============================] - 24s 6ms/step - loss: 0.0118 - mean_squared_error: 0.0015 - root_mean_squared_error: 0.0385 - mean_absolute_error: 0.0118 - noiseToSignalLoss: 8.8571 - val_loss: 0.0119 - val_mean_squared_error: 0.0016 - val_root_mean_squared_error: 0.0394 - val_mean_absolute_error: 0.0119 - val_noiseToSignalLoss: 8.6298\n",
      "Epoch 51/100\n",
      "4060/4060 [==============================] - 24s 6ms/step - loss: 0.0118 - mean_squared_error: 0.0015 - root_mean_squared_error: 0.0384 - mean_absolute_error: 0.0118 - noiseToSignalLoss: 8.9970 - val_loss: 0.0119 - val_mean_squared_error: 0.0016 - val_root_mean_squared_error: 0.0395 - val_mean_absolute_error: 0.0119 - val_noiseToSignalLoss: 7.9083\n",
      "Epoch 52/100\n",
      "4060/4060 [==============================] - 25s 6ms/step - loss: 0.0118 - mean_squared_error: 0.0015 - root_mean_squared_error: 0.0384 - mean_absolute_error: 0.0118 - noiseToSignalLoss: 8.9049 - val_loss: 0.0119 - val_mean_squared_error: 0.0016 - val_root_mean_squared_error: 0.0396 - val_mean_absolute_error: 0.0119 - val_noiseToSignalLoss: 8.5690\n",
      "Epoch 53/100\n",
      "4060/4060 [==============================] - 24s 6ms/step - loss: 0.0118 - mean_squared_error: 0.0015 - root_mean_squared_error: 0.0383 - mean_absolute_error: 0.0118 - noiseToSignalLoss: 8.8755 - val_loss: 0.0119 - val_mean_squared_error: 0.0016 - val_root_mean_squared_error: 0.0396 - val_mean_absolute_error: 0.0119 - val_noiseToSignalLoss: 8.0242\n",
      "Epoch 54/100\n",
      "4060/4060 [==============================] - 24s 6ms/step - loss: 0.0117 - mean_squared_error: 0.0015 - root_mean_squared_error: 0.0383 - mean_absolute_error: 0.0117 - noiseToSignalLoss: 8.8056 - val_loss: 0.0119 - val_mean_squared_error: 0.0016 - val_root_mean_squared_error: 0.0394 - val_mean_absolute_error: 0.0119 - val_noiseToSignalLoss: 9.7682\n",
      "Epoch 55/100\n",
      "4060/4060 [==============================] - 25s 6ms/step - loss: 0.0117 - mean_squared_error: 0.0015 - root_mean_squared_error: 0.0382 - mean_absolute_error: 0.0117 - noiseToSignalLoss: 8.8280 - val_loss: 0.0120 - val_mean_squared_error: 0.0016 - val_root_mean_squared_error: 0.0397 - val_mean_absolute_error: 0.0120 - val_noiseToSignalLoss: 8.0836\n",
      "Epoch 56/100\n",
      "4060/4060 [==============================] - 24s 6ms/step - loss: 0.0117 - mean_squared_error: 0.0015 - root_mean_squared_error: 0.0382 - mean_absolute_error: 0.0117 - noiseToSignalLoss: 8.9524 - val_loss: 0.0119 - val_mean_squared_error: 0.0015 - val_root_mean_squared_error: 0.0391 - val_mean_absolute_error: 0.0119 - val_noiseToSignalLoss: 9.8376\n",
      "Epoch 57/100\n",
      "4060/4060 [==============================] - 24s 6ms/step - loss: 0.0117 - mean_squared_error: 0.0015 - root_mean_squared_error: 0.0382 - mean_absolute_error: 0.0117 - noiseToSignalLoss: 8.7722 - val_loss: 0.0120 - val_mean_squared_error: 0.0015 - val_root_mean_squared_error: 0.0393 - val_mean_absolute_error: 0.0120 - val_noiseToSignalLoss: 10.9923\n",
      "Epoch 58/100\n",
      "4060/4060 [==============================] - 24s 6ms/step - loss: 0.0117 - mean_squared_error: 0.0015 - root_mean_squared_error: 0.0381 - mean_absolute_error: 0.0117 - noiseToSignalLoss: 8.7025 - val_loss: 0.0118 - val_mean_squared_error: 0.0015 - val_root_mean_squared_error: 0.0391 - val_mean_absolute_error: 0.0118 - val_noiseToSignalLoss: 9.5833\n",
      "Epoch 59/100\n",
      "4060/4060 [==============================] - 24s 6ms/step - loss: 0.0117 - mean_squared_error: 0.0014 - root_mean_squared_error: 0.0381 - mean_absolute_error: 0.0117 - noiseToSignalLoss: 8.7155 - val_loss: 0.0118 - val_mean_squared_error: 0.0015 - val_root_mean_squared_error: 0.0388 - val_mean_absolute_error: 0.0118 - val_noiseToSignalLoss: 9.1515\n",
      "Epoch 60/100\n",
      "4060/4060 [==============================] - 24s 6ms/step - loss: 0.0117 - mean_squared_error: 0.0014 - root_mean_squared_error: 0.0380 - mean_absolute_error: 0.0117 - noiseToSignalLoss: 8.7646 - val_loss: 0.0117 - val_mean_squared_error: 0.0015 - val_root_mean_squared_error: 0.0391 - val_mean_absolute_error: 0.0117 - val_noiseToSignalLoss: 9.5082\n",
      "Epoch 61/100\n",
      "4060/4060 [==============================] - 24s 6ms/step - loss: 0.0117 - mean_squared_error: 0.0014 - root_mean_squared_error: 0.0379 - mean_absolute_error: 0.0117 - noiseToSignalLoss: 8.7952 - val_loss: 0.0118 - val_mean_squared_error: 0.0015 - val_root_mean_squared_error: 0.0391 - val_mean_absolute_error: 0.0118 - val_noiseToSignalLoss: 8.9034\n",
      "Epoch 62/100\n",
      "4060/4060 [==============================] - 24s 6ms/step - loss: 0.0117 - mean_squared_error: 0.0014 - root_mean_squared_error: 0.0379 - mean_absolute_error: 0.0117 - noiseToSignalLoss: 8.7667 - val_loss: 0.0119 - val_mean_squared_error: 0.0015 - val_root_mean_squared_error: 0.0392 - val_mean_absolute_error: 0.0119 - val_noiseToSignalLoss: 7.7899\n",
      "Epoch 63/100\n",
      "4060/4060 [==============================] - 24s 6ms/step - loss: 0.0117 - mean_squared_error: 0.0014 - root_mean_squared_error: 0.0379 - mean_absolute_error: 0.0117 - noiseToSignalLoss: 8.7352 - val_loss: 0.0118 - val_mean_squared_error: 0.0015 - val_root_mean_squared_error: 0.0391 - val_mean_absolute_error: 0.0118 - val_noiseToSignalLoss: 8.5212\n",
      "Epoch 64/100\n",
      "4060/4060 [==============================] - 25s 6ms/step - loss: 0.0116 - mean_squared_error: 0.0014 - root_mean_squared_error: 0.0379 - mean_absolute_error: 0.0116 - noiseToSignalLoss: 8.7341 - val_loss: 0.0119 - val_mean_squared_error: 0.0015 - val_root_mean_squared_error: 0.0392 - val_mean_absolute_error: 0.0119 - val_noiseToSignalLoss: 10.2289\n",
      "Epoch 65/100\n",
      "4060/4060 [==============================] - 24s 6ms/step - loss: 0.0116 - mean_squared_error: 0.0014 - root_mean_squared_error: 0.0378 - mean_absolute_error: 0.0116 - noiseToSignalLoss: 8.6613 - val_loss: 0.0118 - val_mean_squared_error: 0.0015 - val_root_mean_squared_error: 0.0391 - val_mean_absolute_error: 0.0118 - val_noiseToSignalLoss: 8.3929\n",
      "Epoch 66/100\n",
      "4060/4060 [==============================] - 24s 6ms/step - loss: 0.0116 - mean_squared_error: 0.0014 - root_mean_squared_error: 0.0378 - mean_absolute_error: 0.0116 - noiseToSignalLoss: 8.8565 - val_loss: 0.0118 - val_mean_squared_error: 0.0015 - val_root_mean_squared_error: 0.0389 - val_mean_absolute_error: 0.0118 - val_noiseToSignalLoss: 9.9490\n",
      "Epoch 67/100\n",
      "4060/4060 [==============================] - 24s 6ms/step - loss: 0.0116 - mean_squared_error: 0.0014 - root_mean_squared_error: 0.0377 - mean_absolute_error: 0.0116 - noiseToSignalLoss: 8.5206 - val_loss: 0.0118 - val_mean_squared_error: 0.0015 - val_root_mean_squared_error: 0.0389 - val_mean_absolute_error: 0.0118 - val_noiseToSignalLoss: 10.3686\n"
     ]
    }
   ]
  },
  {
   "cell_type": "code",
   "source": [
    "preds = model.predict(test_X[:1000], batch_size=1)\n",
    "\n",
    "preds"
   ],
   "metadata": {
    "colab": {
     "base_uri": "https://localhost:8080/"
    },
    "id": "0A9267I0FANn",
    "outputId": "0648fe66-9f25-4720-eddc-7365f5510afb",
    "pycharm": {
     "name": "#%%\n"
    }
   },
   "execution_count": null,
   "outputs": [
    {
     "output_type": "execute_result",
     "data": {
      "text/plain": [
       "array([[2.93712355e-02, 1.84558710e-04],\n",
       "       [2.50306949e-02, 2.40105204e-03],\n",
       "       [1.03956880e-02, 4.60057963e-05],\n",
       "       ...,\n",
       "       [1.02014905e-02, 1.31744237e-04],\n",
       "       [1.18017364e-02, 1.73750828e-04],\n",
       "       [4.79072798e-03, 1.64128991e-03]], dtype=float32)"
      ]
     },
     "metadata": {},
     "execution_count": 35
    }
   ]
  },
  {
   "cell_type": "code",
   "source": [
    "model.evaluate(test_X, test_Y)"
   ],
   "metadata": {
    "colab": {
     "base_uri": "https://localhost:8080/"
    },
    "id": "uz46HgVQFDrH",
    "outputId": "9e5486a7-fde3-43fc-9c28-f3c91ab85e14",
    "pycharm": {
     "name": "#%%\n"
    }
   },
   "execution_count": null,
   "outputs": [
    {
     "output_type": "stream",
     "name": "stdout",
     "text": [
      "16038/16038 [==============================] - 46s 3ms/step - loss: 0.0097 - mean_squared_error: 9.2927e-04 - root_mean_squared_error: 0.0305 - mean_absolute_error: 0.0097 - noiseToSignalLoss: 8.6182\n"
     ]
    },
    {
     "output_type": "execute_result",
     "data": {
      "text/plain": [
       "[0.009719306603074074,\n",
       " 0.0009292706963606179,\n",
       " 0.030483940616250038,\n",
       " 0.009719306603074074,\n",
       " 8.618175506591797]"
      ]
     },
     "metadata": {},
     "execution_count": 36
    }
   ]
  },
  {
   "cell_type": "code",
   "source": [
    "plot_all(history, 'Optimized Fully-connected Feed-Forward Model for MeanAbsoluteError')"
   ],
   "metadata": {
    "colab": {
     "base_uri": "https://localhost:8080/",
     "height": 1000
    },
    "id": "MNL1p_wCFYC-",
    "outputId": "e5955e4b-fe61-478d-cdbf-fdc04c62c3a3",
    "pycharm": {
     "name": "#%%\n"
    }
   },
   "execution_count": null,
   "outputs": [
    {
     "output_type": "stream",
     "name": "stdout",
     "text": [
      "dict_keys(['loss', 'mean_squared_error', 'root_mean_squared_error', 'mean_absolute_error', 'noiseToSignalLoss', 'val_loss', 'val_mean_squared_error', 'val_root_mean_squared_error', 'val_mean_absolute_error', 'val_noiseToSignalLoss'])\n"
     ]
    },
    {
     "output_type": "display_data",
     "data": {
      "text/plain": [
       "<Figure size 432x288 with 1 Axes>"
      ],
      "image/png": "[encoded data removed]"
     },
     "metadata": {
      "needs_background": "light"
     }
    },
    {
     "output_type": "display_data",
     "data": {
      "text/plain": [
       "<Figure size 432x288 with 1 Axes>"
      ],
      "image/png": "[encoded data removed]"
     },
     "metadata": {
      "needs_background": "light"
     }
    },
    {
     "output_type": "display_data",
     "data": {
      "text/plain": [
       "<Figure size 432x288 with 1 Axes>"
      ],
      "image/png": "[encoded data removed]"
     },
     "metadata": {
      "needs_background": "light"
     }
    },
    {
     "output_type": "display_data",
     "data": {
      "text/plain": [
       "<Figure size 432x288 with 1 Axes>"
      ],
      "image/png": "[encoded data removed]"
     },
     "metadata": {
      "needs_background": "light"
     }
    },
    {
     "output_type": "display_data",
     "data": {
      "text/plain": [
       "<Figure size 432x288 with 1 Axes>"
      ],
      "image/png": "[encoded data removed]"
     },
     "metadata": {
      "needs_background": "light"
     }
    }
   ]
  },
  {
   "cell_type": "code",
   "source": [
    "os.chdir('/content/drive/MyDrive/BA')\n",
    "!mkdir savedModel\n",
    "\n",
    "model.save('savedModel/ff_ann_optimized')\n",
    "\n",
    "tfjs.converters.convert_tf_saved_model('./savedModel/ff_ann_optimized', './savedModel/tfjs_ff_ann_optimized')"
   ],
   "metadata": {
    "colab": {
     "base_uri": "https://localhost:8080/"
    },
    "id": "w-VNOoAhN5TR",
    "outputId": "c7970c6a-bbe8-4d4b-ab07-90923fd02a6e",
    "pycharm": {
     "name": "#%%\n"
    }
   },
   "execution_count": null,
   "outputs": [
    {
     "output_type": "stream",
     "name": "stdout",
     "text": [
      "mkdir: cannot create directory ‘savedModel’: File exists\n",
      "INFO:tensorflow:Assets written to: savedModel/ff_ann_optimized/assets\n",
      "Writing weight file ./savedModel/tfjs_ff_ann_optimized/model.json...\n"
     ]
    }
   ]
  },
  {
   "cell_type": "markdown",
   "source": [
    "# Ensemble\n",
    "\n",
    "4 Modelle parallel"
   ],
   "metadata": {
    "id": "FmQLqPvULibf",
    "pycharm": {
     "name": "#%% md\n"
    }
   }
  },
  {
   "cell_type": "code",
   "source": [
    "number_of_inputs = train_X.shape[1]"
   ],
   "metadata": {
    "id": "ZJgtXJc6LlQn",
    "pycharm": {
     "name": "#%%\n"
    }
   },
   "execution_count": null,
   "outputs": []
  },
  {
   "cell_type": "code",
   "source": [
    "model_1 = keras.Sequential()\n",
    "model_1.add(\n",
    "    layers.Input(shape=(number_of_inputs, ))\n",
    ")\n",
    "\n",
    "model_1.add(\n",
    "    layers.Dense(134, activation='tanh')\n",
    ")\n",
    "\n",
    "model_1.add(\n",
    "    layers.Dense(112, activation='tanh')\n",
    ")\n",
    "\n",
    "model_1.add(\n",
    "    layers.Dense(90, activation='tanh')\n",
    ")\n",
    "\n",
    "model_1.add(\n",
    "    layers.Dense(223, activation='tanh')\n",
    ")\n",
    "\n",
    "model_1.add(\n",
    "    layers.Dense(199, activation='tanh')\n",
    ")\n",
    "\n",
    "model_1.add(\n",
    "    layers.Dense(100, activation='tanh')\n",
    ")\n",
    "\n",
    "model_1.add(\n",
    "    layers.Dense(145, activation='tanh')\n",
    ")\n",
    "\n",
    "model_1.add(\n",
    "    layers.Dense(160, activation='tanh')\n",
    ")\n",
    "\n",
    "model_1.add(\n",
    "    layers.Dense(231, activation='tanh')\n",
    ")\n",
    "\n",
    "model_1.add(\n",
    "    layers.Dense(83, activation='tanh')\n",
    ")\n",
    "\n",
    "model_1.add(\n",
    "    layers.Dense(182, activation='tanh')\n",
    ")\n",
    "\n",
    "model_1.add(\n",
    "    layers.Dense(147, activation='tanh')\n",
    ")\n",
    "\n",
    "model_1.add(\n",
    "    layers.Dense(165, activation='tanh')\n",
    ")\n",
    "\n",
    "model_1.add(\n",
    "    layers.Dense(134, activation='tanh')\n",
    ")\n",
    "\n",
    "model_1.add(\n",
    "    layers.Dense(139, activation='tanh')\n",
    ")\n",
    "\n",
    "model_1.add(\n",
    "    layers.Dense(244, activation='tanh')\n",
    ")\n",
    "\n",
    "model_1.add(\n",
    "    layers.Dense(194, activation='tanh')\n",
    ")\n",
    "\n",
    "model_1.add(layers.Dropout(0.2296))\n",
    "\n",
    "model_1.add(layers.Dense(2, activation='linear'))"
   ],
   "metadata": {
    "id": "S2W5gQp0MimK",
    "pycharm": {
     "name": "#%%\n"
    }
   },
   "execution_count": null,
   "outputs": []
  },
  {
   "cell_type": "code",
   "source": [
    "model_2 = keras.Sequential()\n",
    "\n",
    "model_2.add(\n",
    "    layers.Input(shape=(number_of_inputs, ))\n",
    ")\n",
    "\n",
    "model_2.add(\n",
    "    layers.Dense(127, activation='tanh')\n",
    ")\n",
    "\n",
    "model_2.add(\n",
    "    layers.Dense(211, activation='tanh')\n",
    ")\n",
    "\n",
    "model_2.add(\n",
    "    layers.Dense(108, activation='tanh')\n",
    ")\n",
    "\n",
    "model_2.add(\n",
    "    layers.Dense(209, activation='tanh')\n",
    ")\n",
    "\n",
    "model_2.add(\n",
    "    layers.Dense(196, activation='tanh')\n",
    ")\n",
    "\n",
    "model_2.add(\n",
    "    layers.Dense(249, activation='tanh')\n",
    ")\n",
    "\n",
    "model_2.add(\n",
    "    layers.Dense(140, activation='tanh')\n",
    ")\n",
    "\n",
    "model_2.add(\n",
    "    layers.Dense(180, activation='tanh')\n",
    ")\n",
    "\n",
    "model_2.add(\n",
    "    layers.Dense(236, activation='tanh')\n",
    ")\n",
    "\n",
    "model_2.add(\n",
    "    layers.Dense(174, activation='tanh')\n",
    ")\n",
    "\n",
    "model_2.add(\n",
    "    layers.Dense(97, activation='tanh')\n",
    ")\n",
    "\n",
    "model_2.add(\n",
    "    layers.Dense(84, activation='tanh')\n",
    ")\n",
    "\n",
    "model_2.add(\n",
    "    layers.Dense(222, activation='tanh')\n",
    ")\n",
    "\n",
    "model_2.add(\n",
    "    layers.Dense(245, activation='tanh')\n",
    ")\n",
    "\n",
    "model_2.add(\n",
    "    layers.Dense(166, activation='tanh')\n",
    ")\n",
    "\n",
    "model_2.add(\n",
    "    layers.Dense(200, activation='tanh')\n",
    ")\n",
    "\n",
    "model_2.add(\n",
    "    layers.Dense(99, activation='tanh')\n",
    ")\n",
    "\n",
    "model_2.add(layers.Dropout(0.2296))\n",
    "\n",
    "model_2.add(layers.Dense(2, activation='linear'))\n",
    "\n",
    "#lr = 9.505e-05"
   ],
   "metadata": {
    "id": "RnbyjcVXM6Um",
    "pycharm": {
     "name": "#%%\n"
    }
   },
   "execution_count": null,
   "outputs": []
  },
  {
   "cell_type": "code",
   "source": [
    "model_3 = keras.Sequential()\n",
    "\n",
    "model_3.add(\n",
    "    layers.Input(shape=(number_of_inputs, ))\n",
    ")\n",
    "\n",
    "model_3.add(\n",
    "    layers.Dense(118, activation='tanh')\n",
    ")\n",
    "\n",
    "model_3.add(\n",
    "    layers.Dense(233, activation='tanh')\n",
    ")\n",
    "\n",
    "model_3.add(\n",
    "    layers.Dense(108, activation='tanh')\n",
    ")\n",
    "\n",
    "model_3.add(\n",
    "    layers.Dense(225, activation='tanh')\n",
    ")\n",
    "\n",
    "model_3.add(\n",
    "    layers.Dense(188, activation='tanh')\n",
    ")\n",
    "\n",
    "model_3.add(\n",
    "    layers.Dense(205, activation='tanh')\n",
    ")\n",
    "\n",
    "model_3.add(\n",
    "    layers.Dense(151, activation='tanh')\n",
    ")\n",
    "\n",
    "model_3.add(\n",
    "    layers.Dense(185, activation='tanh')\n",
    ")\n",
    "\n",
    "model_3.add(\n",
    "    layers.Dense(243, activation='tanh')\n",
    ")\n",
    "\n",
    "model_3.add(\n",
    "    layers.Dense(174, activation='tanh')\n",
    ")\n",
    "\n",
    "model_3.add(\n",
    "    layers.Dense(89, activation='tanh')\n",
    ")\n",
    "\n",
    "model_3.add(\n",
    "    layers.Dense(88, activation='tanh')\n",
    ")\n",
    "\n",
    "model_3.add(\n",
    "    layers.Dense(227, activation='tanh')\n",
    ")\n",
    "\n",
    "model_3.add(\n",
    "    layers.Dense(241, activation='tanh')\n",
    ")\n",
    "\n",
    "model_3.add(\n",
    "    layers.Dense(140, activation='tanh')\n",
    ")\n",
    "\n",
    "model_3.add(\n",
    "    layers.Dense(173, activation='tanh')\n",
    ")\n",
    "\n",
    "model_3.add(\n",
    "    layers.Dense(105, activation='tanh')\n",
    ")\n",
    "\n",
    "model_3.add(layers.Dropout(0.2296))\n",
    "\n",
    "model_3.add(layers.Dense(2, activation='linear'))\n",
    "\n",
    "# lr= 9.9035e-05"
   ],
   "metadata": {
    "id": "bSpf4EMdNIOD",
    "pycharm": {
     "name": "#%%\n"
    }
   },
   "execution_count": null,
   "outputs": []
  },
  {
   "cell_type": "code",
   "source": [
    "model_4 = keras.Sequential()\n",
    "\n",
    "model_4.add(\n",
    "    layers.Input(shape=(number_of_inputs, ))\n",
    ")\n",
    "\n",
    "model_4.add(\n",
    "    layers.Dense(213, activation='tanh')\n",
    ")\n",
    "\n",
    "model_4.add(\n",
    "    layers.Dense(127, activation='tanh')\n",
    ")\n",
    "\n",
    "model_4.add(\n",
    "    layers.Dense(109, activation='tanh')\n",
    ")\n",
    "\n",
    "model_4.add(\n",
    "    layers.Dense(232, activation='tanh')\n",
    ")\n",
    "\n",
    "model_4.add(\n",
    "    layers.Dense(192, activation='tanh')\n",
    ")\n",
    "\n",
    "model_4.add(\n",
    "    layers.Dense(150, activation='tanh')\n",
    ")\n",
    "\n",
    "model_4.add(\n",
    "    layers.Dense(74, activation='tanh')\n",
    ")\n",
    "\n",
    "model_4.add(\n",
    "    layers.Dense(172, activation='tanh')\n",
    ")\n",
    "\n",
    "model_4.add(\n",
    "    layers.Dense(102, activation='tanh')\n",
    ")\n",
    "\n",
    "model_4.add(\n",
    "    layers.Dense(74, activation='tanh')\n",
    ")\n",
    "\n",
    "model_4.add(\n",
    "    layers.Dense(93, activation='tanh')\n",
    ")\n",
    "\n",
    "model_4.add(\n",
    "    layers.Dense(160, activation='tanh')\n",
    ")\n",
    "\n",
    "model_4.add(\n",
    "    layers.Dense(150, activation='tanh')\n",
    ")\n",
    "\n",
    "model_4.add(\n",
    "    layers.Dense(91, activation='tanh')\n",
    ")\n",
    "\n",
    "model_4.add(\n",
    "    layers.Dense(103, activation='tanh')\n",
    ")\n",
    "\n",
    "model_4.add(\n",
    "    layers.Dense(171, activation='tanh')\n",
    ")\n",
    "\n",
    "model_4.add(\n",
    "    layers.Dense(239, activation='tanh')\n",
    ")\n",
    "\n",
    "model_4.add(layers.Dropout(0.2296))\n",
    "\n",
    "model_4.add(layers.Dense(2, activation='linear'))\n",
    "\n",
    "# lr = 6.0232e-05"
   ],
   "metadata": {
    "id": "5Whbqr5VNTvc",
    "pycharm": {
     "name": "#%%\n"
    }
   },
   "execution_count": null,
   "outputs": []
  },
  {
   "cell_type": "code",
   "source": [
    "callbacks = [\n",
    "    keras.callbacks.EarlyStopping(patience=7),\n",
    "]\n",
    "\n",
    "metrics = [\n",
    "    keras.metrics.MeanSquaredError(),\n",
    "    keras.metrics.RootMeanSquaredError(),\n",
    "    keras.metrics.MeanAbsoluteError(),\n",
    "    noiseToSignalLoss,\n",
    "]\n",
    "\n",
    "model_1.compile(optimizer=keras.optimizers.Adam(learning_rate=9.91390e-05), loss=keras.losses.MeanAbsoluteError(), metrics=metrics)\n",
    "\n",
    "history_1 = model_1.fit(train_X, train_Y, batch_size=382, validation_split=0.1, verbose=1, epochs=EPOCHS, callbacks=callbacks)\n",
    "\n",
    "model_1.evaluate(test_X, test_Y)"
   ],
   "metadata": {
    "colab": {
     "base_uri": "https://localhost:8080/"
    },
    "id": "oT6OL3BSPf89",
    "outputId": "10ae5362-aa00-4d4a-be23-991dbc2ac8f6",
    "pycharm": {
     "name": "#%%\n"
    }
   },
   "execution_count": null,
   "outputs": [
    {
     "output_type": "stream",
     "name": "stdout",
     "text": [
      "Epoch 1/100\n",
      "4060/4060 [==============================] - 26s 5ms/step - loss: 0.0151 - mean_squared_error: 0.0021 - root_mean_squared_error: 0.0459 - mean_absolute_error: 0.0151 - noiseToSignalLoss: 28.3058 - val_loss: 0.0139 - val_mean_squared_error: 0.0019 - val_root_mean_squared_error: 0.0435 - val_mean_absolute_error: 0.0139 - val_noiseToSignalLoss: 21.5395\n",
      "Epoch 2/100\n",
      "4060/4060 [==============================] - 18s 4ms/step - loss: 0.0133 - mean_squared_error: 0.0018 - root_mean_squared_error: 0.0425 - mean_absolute_error: 0.0133 - noiseToSignalLoss: 14.6917 - val_loss: 0.0131 - val_mean_squared_error: 0.0018 - val_root_mean_squared_error: 0.0428 - val_mean_absolute_error: 0.0131 - val_noiseToSignalLoss: 11.3368\n",
      "Epoch 3/100\n",
      "4060/4060 [==============================] - 18s 4ms/step - loss: 0.0130 - mean_squared_error: 0.0018 - root_mean_squared_error: 0.0419 - mean_absolute_error: 0.0130 - noiseToSignalLoss: 14.0097 - val_loss: 0.0131 - val_mean_squared_error: 0.0018 - val_root_mean_squared_error: 0.0424 - val_mean_absolute_error: 0.0131 - val_noiseToSignalLoss: 12.1328\n",
      "Epoch 4/100\n",
      "4060/4060 [==============================] - 18s 4ms/step - loss: 0.0129 - mean_squared_error: 0.0017 - root_mean_squared_error: 0.0418 - mean_absolute_error: 0.0129 - noiseToSignalLoss: 13.4407 - val_loss: 0.0128 - val_mean_squared_error: 0.0018 - val_root_mean_squared_error: 0.0424 - val_mean_absolute_error: 0.0128 - val_noiseToSignalLoss: 12.6888\n",
      "Epoch 5/100\n",
      "4060/4060 [==============================] - 19s 5ms/step - loss: 0.0128 - mean_squared_error: 0.0018 - root_mean_squared_error: 0.0419 - mean_absolute_error: 0.0128 - noiseToSignalLoss: 12.5009 - val_loss: 0.0128 - val_mean_squared_error: 0.0018 - val_root_mean_squared_error: 0.0424 - val_mean_absolute_error: 0.0128 - val_noiseToSignalLoss: 12.4182\n",
      "Epoch 6/100\n",
      "4060/4060 [==============================] - 19s 5ms/step - loss: 0.0128 - mean_squared_error: 0.0018 - root_mean_squared_error: 0.0418 - mean_absolute_error: 0.0128 - noiseToSignalLoss: 11.9128 - val_loss: 0.0128 - val_mean_squared_error: 0.0018 - val_root_mean_squared_error: 0.0423 - val_mean_absolute_error: 0.0128 - val_noiseToSignalLoss: 12.1450\n",
      "Epoch 7/100\n",
      "4060/4060 [==============================] - 18s 5ms/step - loss: 0.0127 - mean_squared_error: 0.0017 - root_mean_squared_error: 0.0418 - mean_absolute_error: 0.0127 - noiseToSignalLoss: 11.7144 - val_loss: 0.0128 - val_mean_squared_error: 0.0018 - val_root_mean_squared_error: 0.0424 - val_mean_absolute_error: 0.0128 - val_noiseToSignalLoss: 10.0897\n",
      "Epoch 8/100\n",
      "4060/4060 [==============================] - 18s 5ms/step - loss: 0.0127 - mean_squared_error: 0.0017 - root_mean_squared_error: 0.0417 - mean_absolute_error: 0.0127 - noiseToSignalLoss: 11.4481 - val_loss: 0.0127 - val_mean_squared_error: 0.0018 - val_root_mean_squared_error: 0.0423 - val_mean_absolute_error: 0.0127 - val_noiseToSignalLoss: 11.6316\n",
      "Epoch 9/100\n",
      "4060/4060 [==============================] - 19s 5ms/step - loss: 0.0127 - mean_squared_error: 0.0017 - root_mean_squared_error: 0.0416 - mean_absolute_error: 0.0127 - noiseToSignalLoss: 11.3483 - val_loss: 0.0128 - val_mean_squared_error: 0.0017 - val_root_mean_squared_error: 0.0418 - val_mean_absolute_error: 0.0128 - val_noiseToSignalLoss: 13.2560\n",
      "Epoch 10/100\n",
      "4060/4060 [==============================] - 19s 5ms/step - loss: 0.0126 - mean_squared_error: 0.0017 - root_mean_squared_error: 0.0414 - mean_absolute_error: 0.0126 - noiseToSignalLoss: 11.4364 - val_loss: 0.0126 - val_mean_squared_error: 0.0018 - val_root_mean_squared_error: 0.0419 - val_mean_absolute_error: 0.0126 - val_noiseToSignalLoss: 9.2445\n",
      "Epoch 11/100\n",
      "4060/4060 [==============================] - 19s 5ms/step - loss: 0.0126 - mean_squared_error: 0.0017 - root_mean_squared_error: 0.0413 - mean_absolute_error: 0.0126 - noiseToSignalLoss: 11.2728 - val_loss: 0.0127 - val_mean_squared_error: 0.0017 - val_root_mean_squared_error: 0.0418 - val_mean_absolute_error: 0.0127 - val_noiseToSignalLoss: 9.9863\n",
      "Epoch 12/100\n",
      "4060/4060 [==============================] - 18s 5ms/step - loss: 0.0125 - mean_squared_error: 0.0017 - root_mean_squared_error: 0.0412 - mean_absolute_error: 0.0125 - noiseToSignalLoss: 11.0923 - val_loss: 0.0127 - val_mean_squared_error: 0.0018 - val_root_mean_squared_error: 0.0420 - val_mean_absolute_error: 0.0127 - val_noiseToSignalLoss: 8.5062\n",
      "Epoch 13/100\n",
      "4060/4060 [==============================] - 18s 4ms/step - loss: 0.0125 - mean_squared_error: 0.0017 - root_mean_squared_error: 0.0411 - mean_absolute_error: 0.0125 - noiseToSignalLoss: 11.1083 - val_loss: 0.0126 - val_mean_squared_error: 0.0017 - val_root_mean_squared_error: 0.0414 - val_mean_absolute_error: 0.0126 - val_noiseToSignalLoss: 12.1008\n",
      "Epoch 14/100\n",
      "4060/4060 [==============================] - 20s 5ms/step - loss: 0.0125 - mean_squared_error: 0.0017 - root_mean_squared_error: 0.0410 - mean_absolute_error: 0.0125 - noiseToSignalLoss: 10.9850 - val_loss: 0.0125 - val_mean_squared_error: 0.0017 - val_root_mean_squared_error: 0.0417 - val_mean_absolute_error: 0.0125 - val_noiseToSignalLoss: 10.1049\n",
      "Epoch 15/100\n",
      "4060/4060 [==============================] - 18s 4ms/step - loss: 0.0125 - mean_squared_error: 0.0017 - root_mean_squared_error: 0.0410 - mean_absolute_error: 0.0125 - noiseToSignalLoss: 10.8933 - val_loss: 0.0125 - val_mean_squared_error: 0.0018 - val_root_mean_squared_error: 0.0421 - val_mean_absolute_error: 0.0125 - val_noiseToSignalLoss: 10.7496\n",
      "Epoch 16/100\n",
      "4060/4060 [==============================] - 18s 5ms/step - loss: 0.0125 - mean_squared_error: 0.0017 - root_mean_squared_error: 0.0409 - mean_absolute_error: 0.0125 - noiseToSignalLoss: 10.8968 - val_loss: 0.0125 - val_mean_squared_error: 0.0017 - val_root_mean_squared_error: 0.0417 - val_mean_absolute_error: 0.0125 - val_noiseToSignalLoss: 9.7977\n",
      "Epoch 17/100\n",
      "4060/4060 [==============================] - 18s 5ms/step - loss: 0.0124 - mean_squared_error: 0.0017 - root_mean_squared_error: 0.0409 - mean_absolute_error: 0.0124 - noiseToSignalLoss: 10.7049 - val_loss: 0.0125 - val_mean_squared_error: 0.0017 - val_root_mean_squared_error: 0.0412 - val_mean_absolute_error: 0.0125 - val_noiseToSignalLoss: 11.5231\n",
      "Epoch 18/100\n",
      "4060/4060 [==============================] - 19s 5ms/step - loss: 0.0124 - mean_squared_error: 0.0017 - root_mean_squared_error: 0.0408 - mean_absolute_error: 0.0124 - noiseToSignalLoss: 10.7131 - val_loss: 0.0124 - val_mean_squared_error: 0.0017 - val_root_mean_squared_error: 0.0414 - val_mean_absolute_error: 0.0124 - val_noiseToSignalLoss: 10.5671\n",
      "Epoch 19/100\n",
      "4060/4060 [==============================] - 19s 5ms/step - loss: 0.0124 - mean_squared_error: 0.0017 - root_mean_squared_error: 0.0408 - mean_absolute_error: 0.0124 - noiseToSignalLoss: 10.7230 - val_loss: 0.0124 - val_mean_squared_error: 0.0017 - val_root_mean_squared_error: 0.0412 - val_mean_absolute_error: 0.0124 - val_noiseToSignalLoss: 11.7973\n",
      "Epoch 20/100\n",
      "4060/4060 [==============================] - 18s 5ms/step - loss: 0.0124 - mean_squared_error: 0.0017 - root_mean_squared_error: 0.0407 - mean_absolute_error: 0.0124 - noiseToSignalLoss: 10.7557 - val_loss: 0.0124 - val_mean_squared_error: 0.0017 - val_root_mean_squared_error: 0.0413 - val_mean_absolute_error: 0.0124 - val_noiseToSignalLoss: 11.2363\n",
      "Epoch 21/100\n",
      "4060/4060 [==============================] - 18s 5ms/step - loss: 0.0124 - mean_squared_error: 0.0017 - root_mean_squared_error: 0.0407 - mean_absolute_error: 0.0124 - noiseToSignalLoss: 10.6510 - val_loss: 0.0125 - val_mean_squared_error: 0.0017 - val_root_mean_squared_error: 0.0413 - val_mean_absolute_error: 0.0125 - val_noiseToSignalLoss: 11.5975\n",
      "Epoch 22/100\n",
      "4060/4060 [==============================] - 18s 5ms/step - loss: 0.0124 - mean_squared_error: 0.0016 - root_mean_squared_error: 0.0406 - mean_absolute_error: 0.0124 - noiseToSignalLoss: 10.5480 - val_loss: 0.0124 - val_mean_squared_error: 0.0017 - val_root_mean_squared_error: 0.0410 - val_mean_absolute_error: 0.0124 - val_noiseToSignalLoss: 11.2369\n",
      "Epoch 23/100\n",
      "4060/4060 [==============================] - 19s 5ms/step - loss: 0.0123 - mean_squared_error: 0.0016 - root_mean_squared_error: 0.0405 - mean_absolute_error: 0.0123 - noiseToSignalLoss: 10.4849 - val_loss: 0.0123 - val_mean_squared_error: 0.0017 - val_root_mean_squared_error: 0.0414 - val_mean_absolute_error: 0.0123 - val_noiseToSignalLoss: 9.2998\n",
      "Epoch 24/100\n",
      "4060/4060 [==============================] - 19s 5ms/step - loss: 0.0123 - mean_squared_error: 0.0016 - root_mean_squared_error: 0.0405 - mean_absolute_error: 0.0123 - noiseToSignalLoss: 10.5170 - val_loss: 0.0124 - val_mean_squared_error: 0.0017 - val_root_mean_squared_error: 0.0409 - val_mean_absolute_error: 0.0124 - val_noiseToSignalLoss: 9.9347\n",
      "Epoch 25/100\n",
      "4060/4060 [==============================] - 18s 4ms/step - loss: 0.0123 - mean_squared_error: 0.0016 - root_mean_squared_error: 0.0404 - mean_absolute_error: 0.0123 - noiseToSignalLoss: 10.6076 - val_loss: 0.0123 - val_mean_squared_error: 0.0017 - val_root_mean_squared_error: 0.0411 - val_mean_absolute_error: 0.0123 - val_noiseToSignalLoss: 10.4408\n",
      "Epoch 26/100\n",
      "4060/4060 [==============================] - 18s 4ms/step - loss: 0.0123 - mean_squared_error: 0.0016 - root_mean_squared_error: 0.0403 - mean_absolute_error: 0.0123 - noiseToSignalLoss: 10.6039 - val_loss: 0.0123 - val_mean_squared_error: 0.0017 - val_root_mean_squared_error: 0.0409 - val_mean_absolute_error: 0.0123 - val_noiseToSignalLoss: 10.7801\n",
      "Epoch 27/100\n",
      "4060/4060 [==============================] - 18s 5ms/step - loss: 0.0123 - mean_squared_error: 0.0016 - root_mean_squared_error: 0.0402 - mean_absolute_error: 0.0123 - noiseToSignalLoss: 10.6597 - val_loss: 0.0124 - val_mean_squared_error: 0.0017 - val_root_mean_squared_error: 0.0412 - val_mean_absolute_error: 0.0124 - val_noiseToSignalLoss: 11.5441\n",
      "Epoch 28/100\n",
      "4060/4060 [==============================] - 19s 5ms/step - loss: 0.0122 - mean_squared_error: 0.0016 - root_mean_squared_error: 0.0402 - mean_absolute_error: 0.0122 - noiseToSignalLoss: 10.6115 - val_loss: 0.0123 - val_mean_squared_error: 0.0017 - val_root_mean_squared_error: 0.0407 - val_mean_absolute_error: 0.0123 - val_noiseToSignalLoss: 9.9373\n",
      "Epoch 29/100\n",
      "4060/4060 [==============================] - 19s 5ms/step - loss: 0.0122 - mean_squared_error: 0.0016 - root_mean_squared_error: 0.0401 - mean_absolute_error: 0.0122 - noiseToSignalLoss: 10.5915 - val_loss: 0.0123 - val_mean_squared_error: 0.0016 - val_root_mean_squared_error: 0.0405 - val_mean_absolute_error: 0.0123 - val_noiseToSignalLoss: 11.6411\n",
      "Epoch 30/100\n",
      "4060/4060 [==============================] - 19s 5ms/step - loss: 0.0122 - mean_squared_error: 0.0016 - root_mean_squared_error: 0.0401 - mean_absolute_error: 0.0122 - noiseToSignalLoss: 10.5929 - val_loss: 0.0123 - val_mean_squared_error: 0.0016 - val_root_mean_squared_error: 0.0406 - val_mean_absolute_error: 0.0123 - val_noiseToSignalLoss: 10.7564\n",
      "Epoch 31/100\n",
      "4060/4060 [==============================] - 20s 5ms/step - loss: 0.0122 - mean_squared_error: 0.0016 - root_mean_squared_error: 0.0400 - mean_absolute_error: 0.0122 - noiseToSignalLoss: 10.4168 - val_loss: 0.0123 - val_mean_squared_error: 0.0017 - val_root_mean_squared_error: 0.0413 - val_mean_absolute_error: 0.0123 - val_noiseToSignalLoss: 8.2281\n",
      "Epoch 32/100\n",
      "4060/4060 [==============================] - 19s 5ms/step - loss: 0.0122 - mean_squared_error: 0.0016 - root_mean_squared_error: 0.0400 - mean_absolute_error: 0.0122 - noiseToSignalLoss: 10.5206 - val_loss: 0.0123 - val_mean_squared_error: 0.0016 - val_root_mean_squared_error: 0.0404 - val_mean_absolute_error: 0.0123 - val_noiseToSignalLoss: 12.2017\n",
      "Epoch 33/100\n",
      "4060/4060 [==============================] - 19s 5ms/step - loss: 0.0122 - mean_squared_error: 0.0016 - root_mean_squared_error: 0.0400 - mean_absolute_error: 0.0122 - noiseToSignalLoss: 10.3406 - val_loss: 0.0122 - val_mean_squared_error: 0.0016 - val_root_mean_squared_error: 0.0406 - val_mean_absolute_error: 0.0122 - val_noiseToSignalLoss: 10.5680\n",
      "Epoch 34/100\n",
      "4060/4060 [==============================] - 19s 5ms/step - loss: 0.0122 - mean_squared_error: 0.0016 - root_mean_squared_error: 0.0399 - mean_absolute_error: 0.0122 - noiseToSignalLoss: 10.4938 - val_loss: 0.0122 - val_mean_squared_error: 0.0016 - val_root_mean_squared_error: 0.0405 - val_mean_absolute_error: 0.0122 - val_noiseToSignalLoss: 11.2766\n",
      "Epoch 35/100\n",
      "4060/4060 [==============================] - 19s 5ms/step - loss: 0.0121 - mean_squared_error: 0.0016 - root_mean_squared_error: 0.0398 - mean_absolute_error: 0.0121 - noiseToSignalLoss: 10.0069 - val_loss: 0.0122 - val_mean_squared_error: 0.0016 - val_root_mean_squared_error: 0.0401 - val_mean_absolute_error: 0.0122 - val_noiseToSignalLoss: 11.1727\n",
      "Epoch 36/100\n",
      "4060/4060 [==============================] - 19s 5ms/step - loss: 0.0121 - mean_squared_error: 0.0016 - root_mean_squared_error: 0.0397 - mean_absolute_error: 0.0121 - noiseToSignalLoss: 9.8782 - val_loss: 0.0121 - val_mean_squared_error: 0.0016 - val_root_mean_squared_error: 0.0403 - val_mean_absolute_error: 0.0121 - val_noiseToSignalLoss: 9.8304\n",
      "Epoch 37/100\n",
      "4060/4060 [==============================] - 19s 5ms/step - loss: 0.0121 - mean_squared_error: 0.0016 - root_mean_squared_error: 0.0396 - mean_absolute_error: 0.0121 - noiseToSignalLoss: 9.9556 - val_loss: 0.0123 - val_mean_squared_error: 0.0016 - val_root_mean_squared_error: 0.0403 - val_mean_absolute_error: 0.0123 - val_noiseToSignalLoss: 12.1769\n",
      "Epoch 38/100\n",
      "4060/4060 [==============================] - 19s 5ms/step - loss: 0.0120 - mean_squared_error: 0.0016 - root_mean_squared_error: 0.0395 - mean_absolute_error: 0.0120 - noiseToSignalLoss: 9.7445 - val_loss: 0.0121 - val_mean_squared_error: 0.0016 - val_root_mean_squared_error: 0.0400 - val_mean_absolute_error: 0.0121 - val_noiseToSignalLoss: 11.3804\n",
      "Epoch 39/100\n",
      "4060/4060 [==============================] - 20s 5ms/step - loss: 0.0120 - mean_squared_error: 0.0016 - root_mean_squared_error: 0.0394 - mean_absolute_error: 0.0120 - noiseToSignalLoss: 9.5238 - val_loss: 0.0121 - val_mean_squared_error: 0.0016 - val_root_mean_squared_error: 0.0403 - val_mean_absolute_error: 0.0121 - val_noiseToSignalLoss: 9.7434\n",
      "Epoch 40/100\n",
      "4060/4060 [==============================] - 19s 5ms/step - loss: 0.0120 - mean_squared_error: 0.0015 - root_mean_squared_error: 0.0393 - mean_absolute_error: 0.0120 - noiseToSignalLoss: 9.5632 - val_loss: 0.0120 - val_mean_squared_error: 0.0016 - val_root_mean_squared_error: 0.0403 - val_mean_absolute_error: 0.0120 - val_noiseToSignalLoss: 8.9510\n",
      "Epoch 41/100\n",
      "4060/4060 [==============================] - 19s 5ms/step - loss: 0.0120 - mean_squared_error: 0.0015 - root_mean_squared_error: 0.0393 - mean_absolute_error: 0.0120 - noiseToSignalLoss: 9.4419 - val_loss: 0.0120 - val_mean_squared_error: 0.0016 - val_root_mean_squared_error: 0.0398 - val_mean_absolute_error: 0.0120 - val_noiseToSignalLoss: 10.3614\n",
      "Epoch 42/100\n",
      "4060/4060 [==============================] - 19s 5ms/step - loss: 0.0120 - mean_squared_error: 0.0015 - root_mean_squared_error: 0.0392 - mean_absolute_error: 0.0120 - noiseToSignalLoss: 9.5049 - val_loss: 0.0121 - val_mean_squared_error: 0.0016 - val_root_mean_squared_error: 0.0402 - val_mean_absolute_error: 0.0121 - val_noiseToSignalLoss: 8.7657\n",
      "Epoch 43/100\n",
      "4060/4060 [==============================] - 19s 5ms/step - loss: 0.0119 - mean_squared_error: 0.0015 - root_mean_squared_error: 0.0392 - mean_absolute_error: 0.0119 - noiseToSignalLoss: 9.2102 - val_loss: 0.0120 - val_mean_squared_error: 0.0016 - val_root_mean_squared_error: 0.0396 - val_mean_absolute_error: 0.0120 - val_noiseToSignalLoss: 10.4781\n",
      "Epoch 44/100\n",
      "4060/4060 [==============================] - 19s 5ms/step - loss: 0.0119 - mean_squared_error: 0.0015 - root_mean_squared_error: 0.0391 - mean_absolute_error: 0.0119 - noiseToSignalLoss: 9.4031 - val_loss: 0.0120 - val_mean_squared_error: 0.0016 - val_root_mean_squared_error: 0.0402 - val_mean_absolute_error: 0.0120 - val_noiseToSignalLoss: 9.1458\n",
      "Epoch 45/100\n",
      "4060/4060 [==============================] - 19s 5ms/step - loss: 0.0119 - mean_squared_error: 0.0015 - root_mean_squared_error: 0.0391 - mean_absolute_error: 0.0119 - noiseToSignalLoss: 9.3715 - val_loss: 0.0120 - val_mean_squared_error: 0.0016 - val_root_mean_squared_error: 0.0397 - val_mean_absolute_error: 0.0120 - val_noiseToSignalLoss: 11.3049\n",
      "Epoch 46/100\n",
      "4060/4060 [==============================] - 19s 5ms/step - loss: 0.0119 - mean_squared_error: 0.0015 - root_mean_squared_error: 0.0390 - mean_absolute_error: 0.0119 - noiseToSignalLoss: 9.2482 - val_loss: 0.0119 - val_mean_squared_error: 0.0016 - val_root_mean_squared_error: 0.0397 - val_mean_absolute_error: 0.0119 - val_noiseToSignalLoss: 10.3288\n",
      "Epoch 47/100\n",
      "4060/4060 [==============================] - 19s 5ms/step - loss: 0.0119 - mean_squared_error: 0.0015 - root_mean_squared_error: 0.0390 - mean_absolute_error: 0.0119 - noiseToSignalLoss: 9.3526 - val_loss: 0.0121 - val_mean_squared_error: 0.0016 - val_root_mean_squared_error: 0.0401 - val_mean_absolute_error: 0.0121 - val_noiseToSignalLoss: 9.4030\n",
      "Epoch 48/100\n",
      "4060/4060 [==============================] - 19s 5ms/step - loss: 0.0119 - mean_squared_error: 0.0015 - root_mean_squared_error: 0.0389 - mean_absolute_error: 0.0119 - noiseToSignalLoss: 9.3209 - val_loss: 0.0119 - val_mean_squared_error: 0.0016 - val_root_mean_squared_error: 0.0397 - val_mean_absolute_error: 0.0119 - val_noiseToSignalLoss: 8.6206\n",
      "Epoch 49/100\n",
      "4060/4060 [==============================] - 19s 5ms/step - loss: 0.0119 - mean_squared_error: 0.0015 - root_mean_squared_error: 0.0388 - mean_absolute_error: 0.0119 - noiseToSignalLoss: 9.2938 - val_loss: 0.0119 - val_mean_squared_error: 0.0016 - val_root_mean_squared_error: 0.0397 - val_mean_absolute_error: 0.0119 - val_noiseToSignalLoss: 9.1226\n",
      "Epoch 50/100\n",
      "4060/4060 [==============================] - 19s 5ms/step - loss: 0.0118 - mean_squared_error: 0.0015 - root_mean_squared_error: 0.0388 - mean_absolute_error: 0.0118 - noiseToSignalLoss: 9.0048 - val_loss: 0.0121 - val_mean_squared_error: 0.0016 - val_root_mean_squared_error: 0.0399 - val_mean_absolute_error: 0.0121 - val_noiseToSignalLoss: 6.8816\n",
      "Epoch 51/100\n",
      "4060/4060 [==============================] - 19s 5ms/step - loss: 0.0118 - mean_squared_error: 0.0015 - root_mean_squared_error: 0.0387 - mean_absolute_error: 0.0118 - noiseToSignalLoss: 8.9699 - val_loss: 0.0120 - val_mean_squared_error: 0.0016 - val_root_mean_squared_error: 0.0397 - val_mean_absolute_error: 0.0120 - val_noiseToSignalLoss: 10.4698\n",
      "Epoch 52/100\n",
      "4060/4060 [==============================] - 19s 5ms/step - loss: 0.0118 - mean_squared_error: 0.0015 - root_mean_squared_error: 0.0387 - mean_absolute_error: 0.0118 - noiseToSignalLoss: 9.0353 - val_loss: 0.0120 - val_mean_squared_error: 0.0016 - val_root_mean_squared_error: 0.0399 - val_mean_absolute_error: 0.0120 - val_noiseToSignalLoss: 8.4958\n",
      "Epoch 53/100\n",
      "4060/4060 [==============================] - 18s 5ms/step - loss: 0.0118 - mean_squared_error: 0.0015 - root_mean_squared_error: 0.0386 - mean_absolute_error: 0.0118 - noiseToSignalLoss: 8.8818 - val_loss: 0.0119 - val_mean_squared_error: 0.0016 - val_root_mean_squared_error: 0.0399 - val_mean_absolute_error: 0.0119 - val_noiseToSignalLoss: 8.7102\n",
      "Epoch 54/100\n",
      "4060/4060 [==============================] - 19s 5ms/step - loss: 0.0118 - mean_squared_error: 0.0015 - root_mean_squared_error: 0.0386 - mean_absolute_error: 0.0118 - noiseToSignalLoss: 9.0313 - val_loss: 0.0119 - val_mean_squared_error: 0.0016 - val_root_mean_squared_error: 0.0398 - val_mean_absolute_error: 0.0119 - val_noiseToSignalLoss: 9.9088\n",
      "Epoch 55/100\n",
      "4060/4060 [==============================] - 20s 5ms/step - loss: 0.0118 - mean_squared_error: 0.0015 - root_mean_squared_error: 0.0386 - mean_absolute_error: 0.0118 - noiseToSignalLoss: 8.9039 - val_loss: 0.0120 - val_mean_squared_error: 0.0016 - val_root_mean_squared_error: 0.0394 - val_mean_absolute_error: 0.0120 - val_noiseToSignalLoss: 10.4227\n",
      "Epoch 56/100\n",
      "4060/4060 [==============================] - 19s 5ms/step - loss: 0.0118 - mean_squared_error: 0.0015 - root_mean_squared_error: 0.0385 - mean_absolute_error: 0.0118 - noiseToSignalLoss: 8.9849 - val_loss: 0.0119 - val_mean_squared_error: 0.0016 - val_root_mean_squared_error: 0.0397 - val_mean_absolute_error: 0.0119 - val_noiseToSignalLoss: 8.7353\n",
      "Epoch 57/100\n",
      "4060/4060 [==============================] - 18s 5ms/step - loss: 0.0118 - mean_squared_error: 0.0015 - root_mean_squared_error: 0.0384 - mean_absolute_error: 0.0118 - noiseToSignalLoss: 9.0437 - val_loss: 0.0120 - val_mean_squared_error: 0.0016 - val_root_mean_squared_error: 0.0395 - val_mean_absolute_error: 0.0120 - val_noiseToSignalLoss: 10.8616\n",
      "Epoch 58/100\n",
      "4060/4060 [==============================] - 18s 5ms/step - loss: 0.0118 - mean_squared_error: 0.0015 - root_mean_squared_error: 0.0384 - mean_absolute_error: 0.0118 - noiseToSignalLoss: 8.8964 - val_loss: 0.0119 - val_mean_squared_error: 0.0016 - val_root_mean_squared_error: 0.0395 - val_mean_absolute_error: 0.0119 - val_noiseToSignalLoss: 8.5154\n",
      "Epoch 59/100\n",
      "4060/4060 [==============================] - 19s 5ms/step - loss: 0.0118 - mean_squared_error: 0.0015 - root_mean_squared_error: 0.0384 - mean_absolute_error: 0.0118 - noiseToSignalLoss: 8.9927 - val_loss: 0.0119 - val_mean_squared_error: 0.0015 - val_root_mean_squared_error: 0.0392 - val_mean_absolute_error: 0.0119 - val_noiseToSignalLoss: 9.0709\n",
      "Epoch 60/100\n",
      "4060/4060 [==============================] - 19s 5ms/step - loss: 0.0117 - mean_squared_error: 0.0015 - root_mean_squared_error: 0.0383 - mean_absolute_error: 0.0117 - noiseToSignalLoss: 8.7987 - val_loss: 0.0119 - val_mean_squared_error: 0.0015 - val_root_mean_squared_error: 0.0394 - val_mean_absolute_error: 0.0119 - val_noiseToSignalLoss: 10.2146\n",
      "Epoch 61/100\n",
      "4060/4060 [==============================] - 19s 5ms/step - loss: 0.0117 - mean_squared_error: 0.0015 - root_mean_squared_error: 0.0383 - mean_absolute_error: 0.0117 - noiseToSignalLoss: 8.8841 - val_loss: 0.0119 - val_mean_squared_error: 0.0016 - val_root_mean_squared_error: 0.0394 - val_mean_absolute_error: 0.0119 - val_noiseToSignalLoss: 8.9250\n",
      "Epoch 62/100\n",
      "4060/4060 [==============================] - 18s 5ms/step - loss: 0.0117 - mean_squared_error: 0.0015 - root_mean_squared_error: 0.0382 - mean_absolute_error: 0.0117 - noiseToSignalLoss: 8.8134 - val_loss: 0.0118 - val_mean_squared_error: 0.0015 - val_root_mean_squared_error: 0.0392 - val_mean_absolute_error: 0.0118 - val_noiseToSignalLoss: 8.8633\n",
      "Epoch 63/100\n",
      "4060/4060 [==============================] - 19s 5ms/step - loss: 0.0117 - mean_squared_error: 0.0015 - root_mean_squared_error: 0.0382 - mean_absolute_error: 0.0117 - noiseToSignalLoss: 8.8353 - val_loss: 0.0119 - val_mean_squared_error: 0.0015 - val_root_mean_squared_error: 0.0392 - val_mean_absolute_error: 0.0119 - val_noiseToSignalLoss: 9.5577\n",
      "Epoch 64/100\n",
      "4060/4060 [==============================] - 19s 5ms/step - loss: 0.0117 - mean_squared_error: 0.0015 - root_mean_squared_error: 0.0381 - mean_absolute_error: 0.0117 - noiseToSignalLoss: 8.8735 - val_loss: 0.0118 - val_mean_squared_error: 0.0015 - val_root_mean_squared_error: 0.0393 - val_mean_absolute_error: 0.0118 - val_noiseToSignalLoss: 8.2617\n",
      "Epoch 65/100\n",
      "4060/4060 [==============================] - 19s 5ms/step - loss: 0.0117 - mean_squared_error: 0.0015 - root_mean_squared_error: 0.0381 - mean_absolute_error: 0.0117 - noiseToSignalLoss: 9.0651 - val_loss: 0.0118 - val_mean_squared_error: 0.0015 - val_root_mean_squared_error: 0.0388 - val_mean_absolute_error: 0.0118 - val_noiseToSignalLoss: 10.4455\n",
      "Epoch 66/100\n",
      "4060/4060 [==============================] - 18s 5ms/step - loss: 0.0117 - mean_squared_error: 0.0014 - root_mean_squared_error: 0.0380 - mean_absolute_error: 0.0117 - noiseToSignalLoss: 8.8262 - val_loss: 0.0119 - val_mean_squared_error: 0.0015 - val_root_mean_squared_error: 0.0391 - val_mean_absolute_error: 0.0119 - val_noiseToSignalLoss: 9.4193\n",
      "Epoch 67/100\n",
      "4060/4060 [==============================] - 19s 5ms/step - loss: 0.0117 - mean_squared_error: 0.0014 - root_mean_squared_error: 0.0380 - mean_absolute_error: 0.0117 - noiseToSignalLoss: 8.7942 - val_loss: 0.0118 - val_mean_squared_error: 0.0015 - val_root_mean_squared_error: 0.0391 - val_mean_absolute_error: 0.0118 - val_noiseToSignalLoss: 9.1573\n",
      "Epoch 68/100\n",
      "4060/4060 [==============================] - 20s 5ms/step - loss: 0.0117 - mean_squared_error: 0.0014 - root_mean_squared_error: 0.0380 - mean_absolute_error: 0.0117 - noiseToSignalLoss: 8.8733 - val_loss: 0.0119 - val_mean_squared_error: 0.0015 - val_root_mean_squared_error: 0.0392 - val_mean_absolute_error: 0.0119 - val_noiseToSignalLoss: 9.3586\n",
      "Epoch 69/100\n",
      "4060/4060 [==============================] - 18s 5ms/step - loss: 0.0116 - mean_squared_error: 0.0014 - root_mean_squared_error: 0.0379 - mean_absolute_error: 0.0116 - noiseToSignalLoss: 8.8932 - val_loss: 0.0118 - val_mean_squared_error: 0.0015 - val_root_mean_squared_error: 0.0391 - val_mean_absolute_error: 0.0118 - val_noiseToSignalLoss: 7.9400\n",
      "Epoch 70/100\n",
      "4060/4060 [==============================] - 19s 5ms/step - loss: 0.0116 - mean_squared_error: 0.0014 - root_mean_squared_error: 0.0379 - mean_absolute_error: 0.0116 - noiseToSignalLoss: 8.7535 - val_loss: 0.0118 - val_mean_squared_error: 0.0015 - val_root_mean_squared_error: 0.0390 - val_mean_absolute_error: 0.0118 - val_noiseToSignalLoss: 9.2733\n",
      "Epoch 71/100\n",
      "4060/4060 [==============================] - 19s 5ms/step - loss: 0.0116 - mean_squared_error: 0.0014 - root_mean_squared_error: 0.0378 - mean_absolute_error: 0.0116 - noiseToSignalLoss: 8.7114 - val_loss: 0.0118 - val_mean_squared_error: 0.0015 - val_root_mean_squared_error: 0.0387 - val_mean_absolute_error: 0.0118 - val_noiseToSignalLoss: 8.3247\n",
      "Epoch 72/100\n",
      "4060/4060 [==============================] - 19s 5ms/step - loss: 0.0116 - mean_squared_error: 0.0014 - root_mean_squared_error: 0.0378 - mean_absolute_error: 0.0116 - noiseToSignalLoss: 8.6186 - val_loss: 0.0117 - val_mean_squared_error: 0.0015 - val_root_mean_squared_error: 0.0387 - val_mean_absolute_error: 0.0117 - val_noiseToSignalLoss: 9.8041\n",
      "Epoch 73/100\n",
      "4060/4060 [==============================] - 19s 5ms/step - loss: 0.0116 - mean_squared_error: 0.0014 - root_mean_squared_error: 0.0378 - mean_absolute_error: 0.0116 - noiseToSignalLoss: 8.7293 - val_loss: 0.0119 - val_mean_squared_error: 0.0015 - val_root_mean_squared_error: 0.0392 - val_mean_absolute_error: 0.0119 - val_noiseToSignalLoss: 9.3593\n",
      "Epoch 74/100\n",
      "4060/4060 [==============================] - 19s 5ms/step - loss: 0.0116 - mean_squared_error: 0.0014 - root_mean_squared_error: 0.0377 - mean_absolute_error: 0.0116 - noiseToSignalLoss: 8.6454 - val_loss: 0.0118 - val_mean_squared_error: 0.0015 - val_root_mean_squared_error: 0.0388 - val_mean_absolute_error: 0.0118 - val_noiseToSignalLoss: 9.5163\n",
      "Epoch 75/100\n",
      "4060/4060 [==============================] - 19s 5ms/step - loss: 0.0116 - mean_squared_error: 0.0014 - root_mean_squared_error: 0.0377 - mean_absolute_error: 0.0116 - noiseToSignalLoss: 8.6275 - val_loss: 0.0118 - val_mean_squared_error: 0.0015 - val_root_mean_squared_error: 0.0387 - val_mean_absolute_error: 0.0118 - val_noiseToSignalLoss: 8.8289\n",
      "Epoch 76/100\n",
      "4060/4060 [==============================] - 19s 5ms/step - loss: 0.0116 - mean_squared_error: 0.0014 - root_mean_squared_error: 0.0377 - mean_absolute_error: 0.0116 - noiseToSignalLoss: 8.7898 - val_loss: 0.0118 - val_mean_squared_error: 0.0015 - val_root_mean_squared_error: 0.0390 - val_mean_absolute_error: 0.0118 - val_noiseToSignalLoss: 8.7616\n",
      "Epoch 77/100\n",
      "4060/4060 [==============================] - 19s 5ms/step - loss: 0.0116 - mean_squared_error: 0.0014 - root_mean_squared_error: 0.0376 - mean_absolute_error: 0.0116 - noiseToSignalLoss: 8.7814 - val_loss: 0.0117 - val_mean_squared_error: 0.0015 - val_root_mean_squared_error: 0.0387 - val_mean_absolute_error: 0.0117 - val_noiseToSignalLoss: 9.4224\n",
      "Epoch 78/100\n",
      "4060/4060 [==============================] - 19s 5ms/step - loss: 0.0116 - mean_squared_error: 0.0014 - root_mean_squared_error: 0.0375 - mean_absolute_error: 0.0116 - noiseToSignalLoss: 8.9021 - val_loss: 0.0118 - val_mean_squared_error: 0.0015 - val_root_mean_squared_error: 0.0390 - val_mean_absolute_error: 0.0118 - val_noiseToSignalLoss: 9.4809\n",
      "Epoch 79/100\n",
      "4060/4060 [==============================] - 18s 5ms/step - loss: 0.0116 - mean_squared_error: 0.0014 - root_mean_squared_error: 0.0375 - mean_absolute_error: 0.0116 - noiseToSignalLoss: 8.7441 - val_loss: 0.0118 - val_mean_squared_error: 0.0015 - val_root_mean_squared_error: 0.0386 - val_mean_absolute_error: 0.0118 - val_noiseToSignalLoss: 11.5891\n",
      "Epoch 80/100\n",
      "4060/4060 [==============================] - 19s 5ms/step - loss: 0.0116 - mean_squared_error: 0.0014 - root_mean_squared_error: 0.0375 - mean_absolute_error: 0.0116 - noiseToSignalLoss: 8.6434 - val_loss: 0.0117 - val_mean_squared_error: 0.0015 - val_root_mean_squared_error: 0.0385 - val_mean_absolute_error: 0.0117 - val_noiseToSignalLoss: 10.3588\n",
      "Epoch 81/100\n",
      "4060/4060 [==============================] - 20s 5ms/step - loss: 0.0116 - mean_squared_error: 0.0014 - root_mean_squared_error: 0.0375 - mean_absolute_error: 0.0116 - noiseToSignalLoss: 8.6233 - val_loss: 0.0117 - val_mean_squared_error: 0.0015 - val_root_mean_squared_error: 0.0387 - val_mean_absolute_error: 0.0117 - val_noiseToSignalLoss: 8.2182\n",
      "Epoch 82/100\n",
      "4060/4060 [==============================] - 19s 5ms/step - loss: 0.0115 - mean_squared_error: 0.0014 - root_mean_squared_error: 0.0375 - mean_absolute_error: 0.0115 - noiseToSignalLoss: 8.7938 - val_loss: 0.0117 - val_mean_squared_error: 0.0015 - val_root_mean_squared_error: 0.0384 - val_mean_absolute_error: 0.0117 - val_noiseToSignalLoss: 9.1111\n",
      "Epoch 83/100\n",
      "4060/4060 [==============================] - 19s 5ms/step - loss: 0.0115 - mean_squared_error: 0.0014 - root_mean_squared_error: 0.0374 - mean_absolute_error: 0.0115 - noiseToSignalLoss: 8.7001 - val_loss: 0.0117 - val_mean_squared_error: 0.0015 - val_root_mean_squared_error: 0.0385 - val_mean_absolute_error: 0.0117 - val_noiseToSignalLoss: 10.0437\n",
      "Epoch 84/100\n",
      "4060/4060 [==============================] - 19s 5ms/step - loss: 0.0115 - mean_squared_error: 0.0014 - root_mean_squared_error: 0.0374 - mean_absolute_error: 0.0115 - noiseToSignalLoss: 8.6627 - val_loss: 0.0117 - val_mean_squared_error: 0.0015 - val_root_mean_squared_error: 0.0388 - val_mean_absolute_error: 0.0117 - val_noiseToSignalLoss: 8.3233\n",
      "Epoch 85/100\n",
      "4060/4060 [==============================] - 19s 5ms/step - loss: 0.0115 - mean_squared_error: 0.0014 - root_mean_squared_error: 0.0373 - mean_absolute_error: 0.0115 - noiseToSignalLoss: 8.7015 - val_loss: 0.0117 - val_mean_squared_error: 0.0015 - val_root_mean_squared_error: 0.0387 - val_mean_absolute_error: 0.0117 - val_noiseToSignalLoss: 9.2186\n",
      "Epoch 86/100\n",
      "4060/4060 [==============================] - 19s 5ms/step - loss: 0.0115 - mean_squared_error: 0.0014 - root_mean_squared_error: 0.0373 - mean_absolute_error: 0.0115 - noiseToSignalLoss: 8.5780 - val_loss: 0.0118 - val_mean_squared_error: 0.0015 - val_root_mean_squared_error: 0.0389 - val_mean_absolute_error: 0.0118 - val_noiseToSignalLoss: 9.0442\n",
      "Epoch 87/100\n",
      "4060/4060 [==============================] - 19s 5ms/step - loss: 0.0115 - mean_squared_error: 0.0014 - root_mean_squared_error: 0.0373 - mean_absolute_error: 0.0115 - noiseToSignalLoss: 8.9023 - val_loss: 0.0118 - val_mean_squared_error: 0.0015 - val_root_mean_squared_error: 0.0387 - val_mean_absolute_error: 0.0118 - val_noiseToSignalLoss: 9.8928\n",
      "Epoch 88/100\n",
      "4060/4060 [==============================] - 19s 5ms/step - loss: 0.0115 - mean_squared_error: 0.0014 - root_mean_squared_error: 0.0373 - mean_absolute_error: 0.0115 - noiseToSignalLoss: 8.7200 - val_loss: 0.0117 - val_mean_squared_error: 0.0015 - val_root_mean_squared_error: 0.0389 - val_mean_absolute_error: 0.0117 - val_noiseToSignalLoss: 8.1701\n",
      "Epoch 89/100\n",
      "4060/4060 [==============================] - 19s 5ms/step - loss: 0.0115 - mean_squared_error: 0.0014 - root_mean_squared_error: 0.0372 - mean_absolute_error: 0.0115 - noiseToSignalLoss: 8.5233 - val_loss: 0.0117 - val_mean_squared_error: 0.0015 - val_root_mean_squared_error: 0.0386 - val_mean_absolute_error: 0.0117 - val_noiseToSignalLoss: 9.7488\n",
      "Epoch 90/100\n",
      "4060/4060 [==============================] - 19s 5ms/step - loss: 0.0115 - mean_squared_error: 0.0014 - root_mean_squared_error: 0.0372 - mean_absolute_error: 0.0115 - noiseToSignalLoss: 8.6779 - val_loss: 0.0118 - val_mean_squared_error: 0.0015 - val_root_mean_squared_error: 0.0384 - val_mean_absolute_error: 0.0118 - val_noiseToSignalLoss: 9.9962\n",
      "16038/16038 [==============================] - 45s 3ms/step - loss: 0.0097 - mean_squared_error: 9.1051e-04 - root_mean_squared_error: 0.0302 - mean_absolute_error: 0.0097 - noiseToSignalLoss: 9.3011\n"
     ]
    },
    {
     "output_type": "execute_result",
     "data": {
      "text/plain": [
       "[0.009700676426291466,\n",
       " 0.000910511298570782,\n",
       " 0.030174680054187775,\n",
       " 0.009700676426291466,\n",
       " 9.301055908203125]"
      ]
     },
     "metadata": {},
     "execution_count": 38
    }
   ]
  },
  {
   "cell_type": "code",
   "source": [
    "callbacks = [\n",
    "    keras.callbacks.EarlyStopping(patience=7),\n",
    "]\n",
    "\n",
    "metrics = [\n",
    "    keras.metrics.MeanSquaredError(),\n",
    "    keras.metrics.RootMeanSquaredError(),\n",
    "    keras.metrics.MeanAbsoluteError(),\n",
    "    noiseToSignalLoss,\n",
    "]\n",
    "\n",
    "model_2.compile(optimizer=keras.optimizers.Adam(learning_rate=9.505e-05), loss=keras.losses.MeanAbsoluteError(), metrics=metrics)\n",
    "\n",
    "history_2 = model_2.fit(train_X, train_Y, batch_size=382, validation_split=0.1, verbose=1, epochs=EPOCHS, callbacks=callbacks)\n",
    "\n",
    "model_2.evaluate(test_X, test_Y)"
   ],
   "metadata": {
    "colab": {
     "base_uri": "https://localhost:8080/"
    },
    "id": "HwvSJMxVPnM3",
    "outputId": "4e03fd7d-9c41-41cd-eb86-379324c701dd",
    "pycharm": {
     "name": "#%%\n"
    }
   },
   "execution_count": null,
   "outputs": [
    {
     "output_type": "stream",
     "name": "stdout",
     "text": [
      "Epoch 1/100\n",
      "4060/4060 [==============================] - 21s 5ms/step - loss: 0.0152 - mean_squared_error: 0.0021 - root_mean_squared_error: 0.0459 - mean_absolute_error: 0.0152 - noiseToSignalLoss: 28.8374 - val_loss: 0.0137 - val_mean_squared_error: 0.0019 - val_root_mean_squared_error: 0.0434 - val_mean_absolute_error: 0.0137 - val_noiseToSignalLoss: 16.5201\n",
      "Epoch 2/100\n",
      "4060/4060 [==============================] - 18s 4ms/step - loss: 0.0133 - mean_squared_error: 0.0018 - root_mean_squared_error: 0.0424 - mean_absolute_error: 0.0133 - noiseToSignalLoss: 15.0260 - val_loss: 0.0130 - val_mean_squared_error: 0.0018 - val_root_mean_squared_error: 0.0423 - val_mean_absolute_error: 0.0130 - val_noiseToSignalLoss: 13.8839\n",
      "Epoch 3/100\n",
      "4060/4060 [==============================] - 18s 4ms/step - loss: 0.0130 - mean_squared_error: 0.0018 - root_mean_squared_error: 0.0420 - mean_absolute_error: 0.0130 - noiseToSignalLoss: 13.8657 - val_loss: 0.0130 - val_mean_squared_error: 0.0018 - val_root_mean_squared_error: 0.0424 - val_mean_absolute_error: 0.0130 - val_noiseToSignalLoss: 14.4375\n",
      "Epoch 4/100\n",
      "4060/4060 [==============================] - 18s 4ms/step - loss: 0.0129 - mean_squared_error: 0.0018 - root_mean_squared_error: 0.0418 - mean_absolute_error: 0.0129 - noiseToSignalLoss: 13.0861 - val_loss: 0.0128 - val_mean_squared_error: 0.0018 - val_root_mean_squared_error: 0.0423 - val_mean_absolute_error: 0.0128 - val_noiseToSignalLoss: 13.2255\n",
      "Epoch 5/100\n",
      "4060/4060 [==============================] - 18s 4ms/step - loss: 0.0129 - mean_squared_error: 0.0018 - root_mean_squared_error: 0.0418 - mean_absolute_error: 0.0129 - noiseToSignalLoss: 12.5154 - val_loss: 0.0127 - val_mean_squared_error: 0.0018 - val_root_mean_squared_error: 0.0423 - val_mean_absolute_error: 0.0127 - val_noiseToSignalLoss: 11.9929\n",
      "Epoch 6/100\n",
      "4060/4060 [==============================] - 18s 4ms/step - loss: 0.0128 - mean_squared_error: 0.0017 - root_mean_squared_error: 0.0418 - mean_absolute_error: 0.0128 - noiseToSignalLoss: 12.1457 - val_loss: 0.0128 - val_mean_squared_error: 0.0018 - val_root_mean_squared_error: 0.0424 - val_mean_absolute_error: 0.0128 - val_noiseToSignalLoss: 11.0338\n",
      "Epoch 7/100\n",
      "4060/4060 [==============================] - 18s 4ms/step - loss: 0.0128 - mean_squared_error: 0.0017 - root_mean_squared_error: 0.0418 - mean_absolute_error: 0.0128 - noiseToSignalLoss: 11.9558 - val_loss: 0.0131 - val_mean_squared_error: 0.0018 - val_root_mean_squared_error: 0.0423 - val_mean_absolute_error: 0.0131 - val_noiseToSignalLoss: 17.1617\n",
      "Epoch 8/100\n",
      "4060/4060 [==============================] - 18s 4ms/step - loss: 0.0128 - mean_squared_error: 0.0017 - root_mean_squared_error: 0.0417 - mean_absolute_error: 0.0128 - noiseToSignalLoss: 11.6880 - val_loss: 0.0127 - val_mean_squared_error: 0.0018 - val_root_mean_squared_error: 0.0425 - val_mean_absolute_error: 0.0127 - val_noiseToSignalLoss: 10.3506\n",
      "Epoch 9/100\n",
      "4060/4060 [==============================] - 18s 4ms/step - loss: 0.0127 - mean_squared_error: 0.0017 - root_mean_squared_error: 0.0417 - mean_absolute_error: 0.0127 - noiseToSignalLoss: 11.3852 - val_loss: 0.0127 - val_mean_squared_error: 0.0018 - val_root_mean_squared_error: 0.0423 - val_mean_absolute_error: 0.0127 - val_noiseToSignalLoss: 10.3518\n",
      "Epoch 10/100\n",
      "4060/4060 [==============================] - 18s 4ms/step - loss: 0.0127 - mean_squared_error: 0.0017 - root_mean_squared_error: 0.0416 - mean_absolute_error: 0.0127 - noiseToSignalLoss: 11.3514 - val_loss: 0.0127 - val_mean_squared_error: 0.0018 - val_root_mean_squared_error: 0.0419 - val_mean_absolute_error: 0.0127 - val_noiseToSignalLoss: 12.6181\n",
      "Epoch 11/100\n",
      "4060/4060 [==============================] - 18s 4ms/step - loss: 0.0126 - mean_squared_error: 0.0017 - root_mean_squared_error: 0.0415 - mean_absolute_error: 0.0126 - noiseToSignalLoss: 11.2437 - val_loss: 0.0126 - val_mean_squared_error: 0.0017 - val_root_mean_squared_error: 0.0417 - val_mean_absolute_error: 0.0126 - val_noiseToSignalLoss: 12.4171\n",
      "Epoch 12/100\n",
      "4060/4060 [==============================] - 18s 4ms/step - loss: 0.0126 - mean_squared_error: 0.0017 - root_mean_squared_error: 0.0413 - mean_absolute_error: 0.0126 - noiseToSignalLoss: 11.0447 - val_loss: 0.0126 - val_mean_squared_error: 0.0017 - val_root_mean_squared_error: 0.0415 - val_mean_absolute_error: 0.0126 - val_noiseToSignalLoss: 12.0884\n",
      "Epoch 13/100\n",
      "4060/4060 [==============================] - 18s 4ms/step - loss: 0.0126 - mean_squared_error: 0.0017 - root_mean_squared_error: 0.0412 - mean_absolute_error: 0.0126 - noiseToSignalLoss: 10.9848 - val_loss: 0.0125 - val_mean_squared_error: 0.0017 - val_root_mean_squared_error: 0.0416 - val_mean_absolute_error: 0.0125 - val_noiseToSignalLoss: 10.9560\n",
      "Epoch 14/100\n",
      "4060/4060 [==============================] - 18s 5ms/step - loss: 0.0125 - mean_squared_error: 0.0017 - root_mean_squared_error: 0.0411 - mean_absolute_error: 0.0125 - noiseToSignalLoss: 10.8566 - val_loss: 0.0126 - val_mean_squared_error: 0.0018 - val_root_mean_squared_error: 0.0419 - val_mean_absolute_error: 0.0126 - val_noiseToSignalLoss: 9.1384\n",
      "Epoch 15/100\n",
      "4060/4060 [==============================] - 18s 5ms/step - loss: 0.0125 - mean_squared_error: 0.0017 - root_mean_squared_error: 0.0411 - mean_absolute_error: 0.0125 - noiseToSignalLoss: 10.7961 - val_loss: 0.0126 - val_mean_squared_error: 0.0017 - val_root_mean_squared_error: 0.0413 - val_mean_absolute_error: 0.0126 - val_noiseToSignalLoss: 12.3630\n",
      "Epoch 16/100\n",
      "4060/4060 [==============================] - 18s 4ms/step - loss: 0.0125 - mean_squared_error: 0.0017 - root_mean_squared_error: 0.0410 - mean_absolute_error: 0.0125 - noiseToSignalLoss: 10.7082 - val_loss: 0.0125 - val_mean_squared_error: 0.0017 - val_root_mean_squared_error: 0.0417 - val_mean_absolute_error: 0.0125 - val_noiseToSignalLoss: 9.1973\n",
      "Epoch 17/100\n",
      "4060/4060 [==============================] - 18s 4ms/step - loss: 0.0125 - mean_squared_error: 0.0017 - root_mean_squared_error: 0.0409 - mean_absolute_error: 0.0125 - noiseToSignalLoss: 10.5255 - val_loss: 0.0124 - val_mean_squared_error: 0.0017 - val_root_mean_squared_error: 0.0414 - val_mean_absolute_error: 0.0124 - val_noiseToSignalLoss: 10.5265\n",
      "Epoch 18/100\n",
      "4060/4060 [==============================] - 18s 5ms/step - loss: 0.0124 - mean_squared_error: 0.0017 - root_mean_squared_error: 0.0409 - mean_absolute_error: 0.0124 - noiseToSignalLoss: 10.5185 - val_loss: 0.0125 - val_mean_squared_error: 0.0017 - val_root_mean_squared_error: 0.0412 - val_mean_absolute_error: 0.0125 - val_noiseToSignalLoss: 11.2071\n",
      "Epoch 19/100\n",
      "4060/4060 [==============================] - 18s 5ms/step - loss: 0.0124 - mean_squared_error: 0.0017 - root_mean_squared_error: 0.0408 - mean_absolute_error: 0.0124 - noiseToSignalLoss: 10.4941 - val_loss: 0.0125 - val_mean_squared_error: 0.0017 - val_root_mean_squared_error: 0.0417 - val_mean_absolute_error: 0.0125 - val_noiseToSignalLoss: 10.1391\n",
      "Epoch 20/100\n",
      "4060/4060 [==============================] - 18s 4ms/step - loss: 0.0124 - mean_squared_error: 0.0017 - root_mean_squared_error: 0.0407 - mean_absolute_error: 0.0124 - noiseToSignalLoss: 10.4602 - val_loss: 0.0124 - val_mean_squared_error: 0.0017 - val_root_mean_squared_error: 0.0411 - val_mean_absolute_error: 0.0124 - val_noiseToSignalLoss: 11.5301\n",
      "Epoch 21/100\n",
      "4060/4060 [==============================] - 18s 4ms/step - loss: 0.0124 - mean_squared_error: 0.0016 - root_mean_squared_error: 0.0406 - mean_absolute_error: 0.0124 - noiseToSignalLoss: 10.4854 - val_loss: 0.0124 - val_mean_squared_error: 0.0017 - val_root_mean_squared_error: 0.0410 - val_mean_absolute_error: 0.0124 - val_noiseToSignalLoss: 11.5247\n",
      "Epoch 22/100\n",
      "4060/4060 [==============================] - 18s 5ms/step - loss: 0.0123 - mean_squared_error: 0.0016 - root_mean_squared_error: 0.0405 - mean_absolute_error: 0.0123 - noiseToSignalLoss: 10.4751 - val_loss: 0.0124 - val_mean_squared_error: 0.0017 - val_root_mean_squared_error: 0.0412 - val_mean_absolute_error: 0.0124 - val_noiseToSignalLoss: 10.7264\n",
      "Epoch 23/100\n",
      "4060/4060 [==============================] - 18s 4ms/step - loss: 0.0123 - mean_squared_error: 0.0016 - root_mean_squared_error: 0.0404 - mean_absolute_error: 0.0123 - noiseToSignalLoss: 10.6425 - val_loss: 0.0124 - val_mean_squared_error: 0.0017 - val_root_mean_squared_error: 0.0409 - val_mean_absolute_error: 0.0124 - val_noiseToSignalLoss: 11.6685\n",
      "Epoch 24/100\n",
      "4060/4060 [==============================] - 18s 4ms/step - loss: 0.0123 - mean_squared_error: 0.0016 - root_mean_squared_error: 0.0403 - mean_absolute_error: 0.0123 - noiseToSignalLoss: 10.5702 - val_loss: 0.0124 - val_mean_squared_error: 0.0017 - val_root_mean_squared_error: 0.0411 - val_mean_absolute_error: 0.0124 - val_noiseToSignalLoss: 9.8349\n",
      "Epoch 25/100\n",
      "4060/4060 [==============================] - 18s 4ms/step - loss: 0.0123 - mean_squared_error: 0.0016 - root_mean_squared_error: 0.0403 - mean_absolute_error: 0.0123 - noiseToSignalLoss: 10.4598 - val_loss: 0.0123 - val_mean_squared_error: 0.0017 - val_root_mean_squared_error: 0.0407 - val_mean_absolute_error: 0.0123 - val_noiseToSignalLoss: 12.0298\n",
      "Epoch 26/100\n",
      "4060/4060 [==============================] - 19s 5ms/step - loss: 0.0122 - mean_squared_error: 0.0016 - root_mean_squared_error: 0.0402 - mean_absolute_error: 0.0122 - noiseToSignalLoss: 10.6415 - val_loss: 0.0124 - val_mean_squared_error: 0.0017 - val_root_mean_squared_error: 0.0412 - val_mean_absolute_error: 0.0124 - val_noiseToSignalLoss: 10.4988\n",
      "Epoch 27/100\n",
      "4060/4060 [==============================] - 18s 4ms/step - loss: 0.0122 - mean_squared_error: 0.0016 - root_mean_squared_error: 0.0401 - mean_absolute_error: 0.0122 - noiseToSignalLoss: 10.4541 - val_loss: 0.0123 - val_mean_squared_error: 0.0017 - val_root_mean_squared_error: 0.0408 - val_mean_absolute_error: 0.0123 - val_noiseToSignalLoss: 10.4603\n",
      "Epoch 28/100\n",
      "4060/4060 [==============================] - 18s 4ms/step - loss: 0.0122 - mean_squared_error: 0.0016 - root_mean_squared_error: 0.0399 - mean_absolute_error: 0.0122 - noiseToSignalLoss: 10.1651 - val_loss: 0.0122 - val_mean_squared_error: 0.0016 - val_root_mean_squared_error: 0.0406 - val_mean_absolute_error: 0.0122 - val_noiseToSignalLoss: 9.8364\n",
      "Epoch 29/100\n",
      "4060/4060 [==============================] - 18s 4ms/step - loss: 0.0121 - mean_squared_error: 0.0016 - root_mean_squared_error: 0.0398 - mean_absolute_error: 0.0121 - noiseToSignalLoss: 10.1232 - val_loss: 0.0122 - val_mean_squared_error: 0.0016 - val_root_mean_squared_error: 0.0401 - val_mean_absolute_error: 0.0122 - val_noiseToSignalLoss: 11.8831\n",
      "Epoch 30/100\n",
      "4060/4060 [==============================] - 18s 4ms/step - loss: 0.0121 - mean_squared_error: 0.0016 - root_mean_squared_error: 0.0397 - mean_absolute_error: 0.0121 - noiseToSignalLoss: 10.0467 - val_loss: 0.0121 - val_mean_squared_error: 0.0016 - val_root_mean_squared_error: 0.0400 - val_mean_absolute_error: 0.0121 - val_noiseToSignalLoss: 10.8822\n",
      "Epoch 31/100\n",
      "4060/4060 [==============================] - 18s 5ms/step - loss: 0.0121 - mean_squared_error: 0.0016 - root_mean_squared_error: 0.0396 - mean_absolute_error: 0.0121 - noiseToSignalLoss: 9.9451 - val_loss: 0.0121 - val_mean_squared_error: 0.0016 - val_root_mean_squared_error: 0.0400 - val_mean_absolute_error: 0.0121 - val_noiseToSignalLoss: 10.2250\n",
      "Epoch 32/100\n",
      "4060/4060 [==============================] - 19s 5ms/step - loss: 0.0121 - mean_squared_error: 0.0016 - root_mean_squared_error: 0.0395 - mean_absolute_error: 0.0121 - noiseToSignalLoss: 9.7908 - val_loss: 0.0121 - val_mean_squared_error: 0.0016 - val_root_mean_squared_error: 0.0406 - val_mean_absolute_error: 0.0121 - val_noiseToSignalLoss: 9.1602\n",
      "Epoch 33/100\n",
      "4060/4060 [==============================] - 18s 4ms/step - loss: 0.0120 - mean_squared_error: 0.0016 - root_mean_squared_error: 0.0394 - mean_absolute_error: 0.0120 - noiseToSignalLoss: 9.7099 - val_loss: 0.0121 - val_mean_squared_error: 0.0016 - val_root_mean_squared_error: 0.0402 - val_mean_absolute_error: 0.0121 - val_noiseToSignalLoss: 10.0547\n",
      "Epoch 34/100\n",
      "4060/4060 [==============================] - 18s 5ms/step - loss: 0.0120 - mean_squared_error: 0.0015 - root_mean_squared_error: 0.0393 - mean_absolute_error: 0.0120 - noiseToSignalLoss: 9.5685 - val_loss: 0.0121 - val_mean_squared_error: 0.0016 - val_root_mean_squared_error: 0.0403 - val_mean_absolute_error: 0.0121 - val_noiseToSignalLoss: 9.0326\n",
      "Epoch 35/100\n",
      "4060/4060 [==============================] - 18s 5ms/step - loss: 0.0120 - mean_squared_error: 0.0015 - root_mean_squared_error: 0.0393 - mean_absolute_error: 0.0120 - noiseToSignalLoss: 9.5035 - val_loss: 0.0122 - val_mean_squared_error: 0.0016 - val_root_mean_squared_error: 0.0399 - val_mean_absolute_error: 0.0122 - val_noiseToSignalLoss: 11.8907\n",
      "Epoch 36/100\n",
      "4060/4060 [==============================] - 19s 5ms/step - loss: 0.0120 - mean_squared_error: 0.0015 - root_mean_squared_error: 0.0392 - mean_absolute_error: 0.0120 - noiseToSignalLoss: 9.3990 - val_loss: 0.0121 - val_mean_squared_error: 0.0016 - val_root_mean_squared_error: 0.0403 - val_mean_absolute_error: 0.0121 - val_noiseToSignalLoss: 9.4522\n",
      "Epoch 37/100\n",
      "4060/4060 [==============================] - 18s 5ms/step - loss: 0.0120 - mean_squared_error: 0.0015 - root_mean_squared_error: 0.0391 - mean_absolute_error: 0.0120 - noiseToSignalLoss: 9.3259 - val_loss: 0.0120 - val_mean_squared_error: 0.0016 - val_root_mean_squared_error: 0.0398 - val_mean_absolute_error: 0.0120 - val_noiseToSignalLoss: 9.6815\n",
      "Epoch 38/100\n",
      "4060/4060 [==============================] - 18s 4ms/step - loss: 0.0119 - mean_squared_error: 0.0015 - root_mean_squared_error: 0.0391 - mean_absolute_error: 0.0119 - noiseToSignalLoss: 9.1496 - val_loss: 0.0120 - val_mean_squared_error: 0.0016 - val_root_mean_squared_error: 0.0397 - val_mean_absolute_error: 0.0120 - val_noiseToSignalLoss: 9.6592\n",
      "Epoch 39/100\n",
      "4060/4060 [==============================] - 18s 4ms/step - loss: 0.0119 - mean_squared_error: 0.0015 - root_mean_squared_error: 0.0390 - mean_absolute_error: 0.0119 - noiseToSignalLoss: 9.2442 - val_loss: 0.0120 - val_mean_squared_error: 0.0016 - val_root_mean_squared_error: 0.0398 - val_mean_absolute_error: 0.0120 - val_noiseToSignalLoss: 8.9102\n",
      "Epoch 40/100\n",
      "4060/4060 [==============================] - 18s 5ms/step - loss: 0.0119 - mean_squared_error: 0.0015 - root_mean_squared_error: 0.0389 - mean_absolute_error: 0.0119 - noiseToSignalLoss: 9.2936 - val_loss: 0.0120 - val_mean_squared_error: 0.0016 - val_root_mean_squared_error: 0.0396 - val_mean_absolute_error: 0.0120 - val_noiseToSignalLoss: 11.0728\n",
      "Epoch 41/100\n",
      "4060/4060 [==============================] - 19s 5ms/step - loss: 0.0119 - mean_squared_error: 0.0015 - root_mean_squared_error: 0.0389 - mean_absolute_error: 0.0119 - noiseToSignalLoss: 9.0744 - val_loss: 0.0119 - val_mean_squared_error: 0.0016 - val_root_mean_squared_error: 0.0399 - val_mean_absolute_error: 0.0119 - val_noiseToSignalLoss: 8.3100\n",
      "Epoch 42/100\n",
      "4060/4060 [==============================] - 18s 4ms/step - loss: 0.0119 - mean_squared_error: 0.0015 - root_mean_squared_error: 0.0388 - mean_absolute_error: 0.0119 - noiseToSignalLoss: 9.2720 - val_loss: 0.0119 - val_mean_squared_error: 0.0016 - val_root_mean_squared_error: 0.0397 - val_mean_absolute_error: 0.0119 - val_noiseToSignalLoss: 8.6998\n",
      "Epoch 43/100\n",
      "4060/4060 [==============================] - 18s 4ms/step - loss: 0.0119 - mean_squared_error: 0.0015 - root_mean_squared_error: 0.0388 - mean_absolute_error: 0.0119 - noiseToSignalLoss: 9.1608 - val_loss: 0.0120 - val_mean_squared_error: 0.0016 - val_root_mean_squared_error: 0.0395 - val_mean_absolute_error: 0.0120 - val_noiseToSignalLoss: 11.0483\n",
      "Epoch 44/100\n",
      "4060/4060 [==============================] - 18s 4ms/step - loss: 0.0118 - mean_squared_error: 0.0015 - root_mean_squared_error: 0.0387 - mean_absolute_error: 0.0118 - noiseToSignalLoss: 8.9499 - val_loss: 0.0119 - val_mean_squared_error: 0.0016 - val_root_mean_squared_error: 0.0396 - val_mean_absolute_error: 0.0119 - val_noiseToSignalLoss: 9.5405\n",
      "Epoch 45/100\n",
      "4060/4060 [==============================] - 19s 5ms/step - loss: 0.0118 - mean_squared_error: 0.0015 - root_mean_squared_error: 0.0387 - mean_absolute_error: 0.0118 - noiseToSignalLoss: 9.1480 - val_loss: 0.0119 - val_mean_squared_error: 0.0016 - val_root_mean_squared_error: 0.0396 - val_mean_absolute_error: 0.0119 - val_noiseToSignalLoss: 8.8709\n",
      "Epoch 46/100\n",
      "4060/4060 [==============================] - 18s 4ms/step - loss: 0.0118 - mean_squared_error: 0.0015 - root_mean_squared_error: 0.0386 - mean_absolute_error: 0.0118 - noiseToSignalLoss: 8.9840 - val_loss: 0.0119 - val_mean_squared_error: 0.0016 - val_root_mean_squared_error: 0.0394 - val_mean_absolute_error: 0.0119 - val_noiseToSignalLoss: 9.2839\n",
      "Epoch 47/100\n",
      "4060/4060 [==============================] - 18s 4ms/step - loss: 0.0118 - mean_squared_error: 0.0015 - root_mean_squared_error: 0.0385 - mean_absolute_error: 0.0118 - noiseToSignalLoss: 9.0291 - val_loss: 0.0119 - val_mean_squared_error: 0.0016 - val_root_mean_squared_error: 0.0398 - val_mean_absolute_error: 0.0119 - val_noiseToSignalLoss: 8.2849\n",
      "Epoch 48/100\n",
      "4060/4060 [==============================] - 18s 4ms/step - loss: 0.0118 - mean_squared_error: 0.0015 - root_mean_squared_error: 0.0385 - mean_absolute_error: 0.0118 - noiseToSignalLoss: 8.9846 - val_loss: 0.0119 - val_mean_squared_error: 0.0015 - val_root_mean_squared_error: 0.0392 - val_mean_absolute_error: 0.0119 - val_noiseToSignalLoss: 8.5491\n",
      "Epoch 49/100\n",
      "4060/4060 [==============================] - 18s 5ms/step - loss: 0.0118 - mean_squared_error: 0.0015 - root_mean_squared_error: 0.0384 - mean_absolute_error: 0.0118 - noiseToSignalLoss: 8.9367 - val_loss: 0.0118 - val_mean_squared_error: 0.0015 - val_root_mean_squared_error: 0.0392 - val_mean_absolute_error: 0.0118 - val_noiseToSignalLoss: 9.6494\n",
      "Epoch 50/100\n",
      "4060/4060 [==============================] - 18s 4ms/step - loss: 0.0118 - mean_squared_error: 0.0015 - root_mean_squared_error: 0.0384 - mean_absolute_error: 0.0118 - noiseToSignalLoss: 9.0492 - val_loss: 0.0119 - val_mean_squared_error: 0.0016 - val_root_mean_squared_error: 0.0395 - val_mean_absolute_error: 0.0119 - val_noiseToSignalLoss: 8.9218\n",
      "Epoch 51/100\n",
      "4060/4060 [==============================] - 18s 5ms/step - loss: 0.0118 - mean_squared_error: 0.0015 - root_mean_squared_error: 0.0383 - mean_absolute_error: 0.0118 - noiseToSignalLoss: 9.0539 - val_loss: 0.0119 - val_mean_squared_error: 0.0016 - val_root_mean_squared_error: 0.0395 - val_mean_absolute_error: 0.0119 - val_noiseToSignalLoss: 9.9480\n",
      "Epoch 52/100\n",
      "4060/4060 [==============================] - 19s 5ms/step - loss: 0.0117 - mean_squared_error: 0.0015 - root_mean_squared_error: 0.0383 - mean_absolute_error: 0.0117 - noiseToSignalLoss: 8.9954 - val_loss: 0.0118 - val_mean_squared_error: 0.0015 - val_root_mean_squared_error: 0.0389 - val_mean_absolute_error: 0.0118 - val_noiseToSignalLoss: 8.7400\n",
      "Epoch 53/100\n",
      "4060/4060 [==============================] - 19s 5ms/step - loss: 0.0117 - mean_squared_error: 0.0015 - root_mean_squared_error: 0.0382 - mean_absolute_error: 0.0117 - noiseToSignalLoss: 9.1800 - val_loss: 0.0119 - val_mean_squared_error: 0.0016 - val_root_mean_squared_error: 0.0396 - val_mean_absolute_error: 0.0119 - val_noiseToSignalLoss: 9.4496\n",
      "Epoch 54/100\n",
      "4060/4060 [==============================] - 19s 5ms/step - loss: 0.0117 - mean_squared_error: 0.0015 - root_mean_squared_error: 0.0382 - mean_absolute_error: 0.0117 - noiseToSignalLoss: 8.9972 - val_loss: 0.0119 - val_mean_squared_error: 0.0015 - val_root_mean_squared_error: 0.0393 - val_mean_absolute_error: 0.0119 - val_noiseToSignalLoss: 9.9410\n",
      "Epoch 55/100\n",
      "4060/4060 [==============================] - 19s 5ms/step - loss: 0.0117 - mean_squared_error: 0.0015 - root_mean_squared_error: 0.0381 - mean_absolute_error: 0.0117 - noiseToSignalLoss: 9.0604 - val_loss: 0.0119 - val_mean_squared_error: 0.0015 - val_root_mean_squared_error: 0.0391 - val_mean_absolute_error: 0.0119 - val_noiseToSignalLoss: 9.6054\n",
      "Epoch 56/100\n",
      "4060/4060 [==============================] - 19s 5ms/step - loss: 0.0117 - mean_squared_error: 0.0015 - root_mean_squared_error: 0.0381 - mean_absolute_error: 0.0117 - noiseToSignalLoss: 8.9203 - val_loss: 0.0118 - val_mean_squared_error: 0.0015 - val_root_mean_squared_error: 0.0389 - val_mean_absolute_error: 0.0118 - val_noiseToSignalLoss: 9.3733\n",
      "16038/16038 [==============================] - 44s 3ms/step - loss: 0.0097 - mean_squared_error: 9.2505e-04 - root_mean_squared_error: 0.0304 - mean_absolute_error: 0.0097 - noiseToSignalLoss: 8.4920\n"
     ]
    },
    {
     "output_type": "execute_result",
     "data": {
      "text/plain": [
       "[0.009683068841695786,\n",
       " 0.0009250480215996504,\n",
       " 0.030414601787924767,\n",
       " 0.009683068841695786,\n",
       " 8.492030143737793]"
      ]
     },
     "metadata": {},
     "execution_count": 39
    }
   ]
  },
  {
   "cell_type": "code",
   "source": [
    "callbacks = [\n",
    "    keras.callbacks.EarlyStopping(patience=7),\n",
    "]\n",
    "\n",
    "metrics = [\n",
    "    keras.metrics.MeanSquaredError(),\n",
    "    keras.metrics.RootMeanSquaredError(),\n",
    "    keras.metrics.MeanAbsoluteError(),\n",
    "    noiseToSignalLoss,\n",
    "]\n",
    "\n",
    "model_3.compile(optimizer=keras.optimizers.Adam(learning_rate=9.9035e-05), loss=keras.losses.MeanAbsoluteError(), metrics=metrics)\n",
    "\n",
    "history_3 = model_3.fit(train_X, train_Y, batch_size=382, validation_split=0.1, verbose=1, epochs=EPOCHS, callbacks=callbacks)\n",
    "\n",
    "model_3.evaluate(test_X, test_Y)"
   ],
   "metadata": {
    "colab": {
     "base_uri": "https://localhost:8080/"
    },
    "id": "t5Fzu4kRPxgr",
    "outputId": "0470fce3-0ef6-4de9-aeca-7a2661cbb30e",
    "pycharm": {
     "name": "#%%\n"
    }
   },
   "execution_count": null,
   "outputs": [
    {
     "output_type": "stream",
     "name": "stdout",
     "text": [
      "Epoch 1/100\n",
      "4060/4060 [==============================] - 19s 4ms/step - loss: 0.0153 - mean_squared_error: 0.0021 - root_mean_squared_error: 0.0458 - mean_absolute_error: 0.0153 - noiseToSignalLoss: 28.4522 - val_loss: 0.0135 - val_mean_squared_error: 0.0019 - val_root_mean_squared_error: 0.0437 - val_mean_absolute_error: 0.0135 - val_noiseToSignalLoss: 16.1284\n",
      "Epoch 2/100\n",
      "4060/4060 [==============================] - 18s 4ms/step - loss: 0.0134 - mean_squared_error: 0.0018 - root_mean_squared_error: 0.0425 - mean_absolute_error: 0.0134 - noiseToSignalLoss: 15.0695 - val_loss: 0.0130 - val_mean_squared_error: 0.0018 - val_root_mean_squared_error: 0.0426 - val_mean_absolute_error: 0.0130 - val_noiseToSignalLoss: 12.5337\n",
      "Epoch 3/100\n",
      "4060/4060 [==============================] - 18s 4ms/step - loss: 0.0131 - mean_squared_error: 0.0018 - root_mean_squared_error: 0.0420 - mean_absolute_error: 0.0131 - noiseToSignalLoss: 13.8138 - val_loss: 0.0128 - val_mean_squared_error: 0.0018 - val_root_mean_squared_error: 0.0426 - val_mean_absolute_error: 0.0128 - val_noiseToSignalLoss: 11.0747\n",
      "Epoch 4/100\n",
      "4060/4060 [==============================] - 19s 5ms/step - loss: 0.0129 - mean_squared_error: 0.0018 - root_mean_squared_error: 0.0419 - mean_absolute_error: 0.0129 - noiseToSignalLoss: 12.9103 - val_loss: 0.0128 - val_mean_squared_error: 0.0018 - val_root_mean_squared_error: 0.0423 - val_mean_absolute_error: 0.0128 - val_noiseToSignalLoss: 12.2098\n",
      "Epoch 5/100\n",
      "4060/4060 [==============================] - 18s 4ms/step - loss: 0.0129 - mean_squared_error: 0.0017 - root_mean_squared_error: 0.0418 - mean_absolute_error: 0.0129 - noiseToSignalLoss: 12.6465 - val_loss: 0.0131 - val_mean_squared_error: 0.0018 - val_root_mean_squared_error: 0.0422 - val_mean_absolute_error: 0.0131 - val_noiseToSignalLoss: 18.7774\n",
      "Epoch 6/100\n",
      "4060/4060 [==============================] - 18s 4ms/step - loss: 0.0128 - mean_squared_error: 0.0017 - root_mean_squared_error: 0.0418 - mean_absolute_error: 0.0128 - noiseToSignalLoss: 12.1840 - val_loss: 0.0127 - val_mean_squared_error: 0.0018 - val_root_mean_squared_error: 0.0422 - val_mean_absolute_error: 0.0127 - val_noiseToSignalLoss: 12.3457\n",
      "Epoch 7/100\n",
      "4060/4060 [==============================] - 18s 5ms/step - loss: 0.0128 - mean_squared_error: 0.0017 - root_mean_squared_error: 0.0418 - mean_absolute_error: 0.0128 - noiseToSignalLoss: 12.0076 - val_loss: 0.0127 - val_mean_squared_error: 0.0018 - val_root_mean_squared_error: 0.0421 - val_mean_absolute_error: 0.0127 - val_noiseToSignalLoss: 11.9560\n",
      "Epoch 8/100\n",
      "4060/4060 [==============================] - 18s 4ms/step - loss: 0.0127 - mean_squared_error: 0.0017 - root_mean_squared_error: 0.0417 - mean_absolute_error: 0.0127 - noiseToSignalLoss: 11.7978 - val_loss: 0.0128 - val_mean_squared_error: 0.0018 - val_root_mean_squared_error: 0.0422 - val_mean_absolute_error: 0.0128 - val_noiseToSignalLoss: 13.1536\n",
      "Epoch 9/100\n",
      "4060/4060 [==============================] - 18s 4ms/step - loss: 0.0127 - mean_squared_error: 0.0017 - root_mean_squared_error: 0.0416 - mean_absolute_error: 0.0127 - noiseToSignalLoss: 11.6014 - val_loss: 0.0130 - val_mean_squared_error: 0.0018 - val_root_mean_squared_error: 0.0423 - val_mean_absolute_error: 0.0130 - val_noiseToSignalLoss: 10.3179\n",
      "Epoch 10/100\n",
      "4060/4060 [==============================] - 18s 4ms/step - loss: 0.0127 - mean_squared_error: 0.0017 - root_mean_squared_error: 0.0415 - mean_absolute_error: 0.0127 - noiseToSignalLoss: 11.5087 - val_loss: 0.0127 - val_mean_squared_error: 0.0017 - val_root_mean_squared_error: 0.0416 - val_mean_absolute_error: 0.0127 - val_noiseToSignalLoss: 12.6111\n",
      "Epoch 11/100\n",
      "4060/4060 [==============================] - 18s 4ms/step - loss: 0.0126 - mean_squared_error: 0.0017 - root_mean_squared_error: 0.0414 - mean_absolute_error: 0.0126 - noiseToSignalLoss: 11.5226 - val_loss: 0.0127 - val_mean_squared_error: 0.0017 - val_root_mean_squared_error: 0.0416 - val_mean_absolute_error: 0.0127 - val_noiseToSignalLoss: 12.2933\n",
      "Epoch 12/100\n",
      "4060/4060 [==============================] - 18s 4ms/step - loss: 0.0126 - mean_squared_error: 0.0017 - root_mean_squared_error: 0.0413 - mean_absolute_error: 0.0126 - noiseToSignalLoss: 11.5896 - val_loss: 0.0126 - val_mean_squared_error: 0.0018 - val_root_mean_squared_error: 0.0420 - val_mean_absolute_error: 0.0126 - val_noiseToSignalLoss: 9.3078\n",
      "Epoch 13/100\n",
      "4060/4060 [==============================] - 18s 5ms/step - loss: 0.0126 - mean_squared_error: 0.0017 - root_mean_squared_error: 0.0412 - mean_absolute_error: 0.0126 - noiseToSignalLoss: 11.4986 - val_loss: 0.0125 - val_mean_squared_error: 0.0017 - val_root_mean_squared_error: 0.0416 - val_mean_absolute_error: 0.0125 - val_noiseToSignalLoss: 11.3711\n",
      "Epoch 14/100\n",
      "4060/4060 [==============================] - 18s 4ms/step - loss: 0.0125 - mean_squared_error: 0.0017 - root_mean_squared_error: 0.0412 - mean_absolute_error: 0.0125 - noiseToSignalLoss: 11.3987 - val_loss: 0.0125 - val_mean_squared_error: 0.0017 - val_root_mean_squared_error: 0.0415 - val_mean_absolute_error: 0.0125 - val_noiseToSignalLoss: 11.1599\n",
      "Epoch 15/100\n",
      "4060/4060 [==============================] - 18s 4ms/step - loss: 0.0125 - mean_squared_error: 0.0017 - root_mean_squared_error: 0.0411 - mean_absolute_error: 0.0125 - noiseToSignalLoss: 11.2998 - val_loss: 0.0125 - val_mean_squared_error: 0.0017 - val_root_mean_squared_error: 0.0415 - val_mean_absolute_error: 0.0125 - val_noiseToSignalLoss: 11.3686\n",
      "Epoch 16/100\n",
      "4060/4060 [==============================] - 18s 5ms/step - loss: 0.0125 - mean_squared_error: 0.0017 - root_mean_squared_error: 0.0410 - mean_absolute_error: 0.0125 - noiseToSignalLoss: 11.2558 - val_loss: 0.0125 - val_mean_squared_error: 0.0017 - val_root_mean_squared_error: 0.0415 - val_mean_absolute_error: 0.0125 - val_noiseToSignalLoss: 13.1829\n",
      "Epoch 17/100\n",
      "4060/4060 [==============================] - 18s 5ms/step - loss: 0.0125 - mean_squared_error: 0.0017 - root_mean_squared_error: 0.0409 - mean_absolute_error: 0.0125 - noiseToSignalLoss: 11.2714 - val_loss: 0.0125 - val_mean_squared_error: 0.0017 - val_root_mean_squared_error: 0.0414 - val_mean_absolute_error: 0.0125 - val_noiseToSignalLoss: 11.6128\n",
      "Epoch 18/100\n",
      "4060/4060 [==============================] - 19s 5ms/step - loss: 0.0124 - mean_squared_error: 0.0017 - root_mean_squared_error: 0.0408 - mean_absolute_error: 0.0124 - noiseToSignalLoss: 11.0888 - val_loss: 0.0125 - val_mean_squared_error: 0.0017 - val_root_mean_squared_error: 0.0411 - val_mean_absolute_error: 0.0125 - val_noiseToSignalLoss: 12.3445\n",
      "Epoch 19/100\n",
      "4060/4060 [==============================] - 18s 5ms/step - loss: 0.0124 - mean_squared_error: 0.0017 - root_mean_squared_error: 0.0407 - mean_absolute_error: 0.0124 - noiseToSignalLoss: 11.3190 - val_loss: 0.0124 - val_mean_squared_error: 0.0017 - val_root_mean_squared_error: 0.0412 - val_mean_absolute_error: 0.0124 - val_noiseToSignalLoss: 11.0153\n",
      "Epoch 20/100\n",
      "4060/4060 [==============================] - 18s 5ms/step - loss: 0.0124 - mean_squared_error: 0.0017 - root_mean_squared_error: 0.0406 - mean_absolute_error: 0.0124 - noiseToSignalLoss: 11.1400 - val_loss: 0.0124 - val_mean_squared_error: 0.0017 - val_root_mean_squared_error: 0.0411 - val_mean_absolute_error: 0.0124 - val_noiseToSignalLoss: 11.1041\n",
      "Epoch 21/100\n",
      "4060/4060 [==============================] - 19s 5ms/step - loss: 0.0124 - mean_squared_error: 0.0016 - root_mean_squared_error: 0.0406 - mean_absolute_error: 0.0124 - noiseToSignalLoss: 11.0286 - val_loss: 0.0124 - val_mean_squared_error: 0.0017 - val_root_mean_squared_error: 0.0414 - val_mean_absolute_error: 0.0124 - val_noiseToSignalLoss: 9.7305\n",
      "Epoch 22/100\n",
      "4060/4060 [==============================] - 18s 4ms/step - loss: 0.0123 - mean_squared_error: 0.0016 - root_mean_squared_error: 0.0404 - mean_absolute_error: 0.0123 - noiseToSignalLoss: 10.8201 - val_loss: 0.0124 - val_mean_squared_error: 0.0017 - val_root_mean_squared_error: 0.0410 - val_mean_absolute_error: 0.0124 - val_noiseToSignalLoss: 11.1415\n",
      "Epoch 23/100\n",
      "4060/4060 [==============================] - 18s 4ms/step - loss: 0.0123 - mean_squared_error: 0.0016 - root_mean_squared_error: 0.0404 - mean_absolute_error: 0.0123 - noiseToSignalLoss: 10.8220 - val_loss: 0.0124 - val_mean_squared_error: 0.0017 - val_root_mean_squared_error: 0.0409 - val_mean_absolute_error: 0.0124 - val_noiseToSignalLoss: 9.5579\n",
      "Epoch 24/100\n",
      "4060/4060 [==============================] - 18s 4ms/step - loss: 0.0123 - mean_squared_error: 0.0016 - root_mean_squared_error: 0.0403 - mean_absolute_error: 0.0123 - noiseToSignalLoss: 10.7063 - val_loss: 0.0124 - val_mean_squared_error: 0.0017 - val_root_mean_squared_error: 0.0411 - val_mean_absolute_error: 0.0124 - val_noiseToSignalLoss: 9.8239\n",
      "Epoch 25/100\n",
      "4060/4060 [==============================] - 18s 4ms/step - loss: 0.0123 - mean_squared_error: 0.0016 - root_mean_squared_error: 0.0402 - mean_absolute_error: 0.0123 - noiseToSignalLoss: 10.6750 - val_loss: 0.0123 - val_mean_squared_error: 0.0016 - val_root_mean_squared_error: 0.0406 - val_mean_absolute_error: 0.0123 - val_noiseToSignalLoss: 11.2044\n",
      "Epoch 26/100\n",
      "4060/4060 [==============================] - 18s 4ms/step - loss: 0.0123 - mean_squared_error: 0.0016 - root_mean_squared_error: 0.0402 - mean_absolute_error: 0.0123 - noiseToSignalLoss: 10.6853 - val_loss: 0.0124 - val_mean_squared_error: 0.0017 - val_root_mean_squared_error: 0.0408 - val_mean_absolute_error: 0.0124 - val_noiseToSignalLoss: 11.2146\n",
      "Epoch 27/100\n",
      "4060/4060 [==============================] - 18s 4ms/step - loss: 0.0122 - mean_squared_error: 0.0016 - root_mean_squared_error: 0.0401 - mean_absolute_error: 0.0122 - noiseToSignalLoss: 10.4724 - val_loss: 0.0123 - val_mean_squared_error: 0.0017 - val_root_mean_squared_error: 0.0411 - val_mean_absolute_error: 0.0123 - val_noiseToSignalLoss: 9.3883\n",
      "Epoch 28/100\n",
      "4060/4060 [==============================] - 18s 4ms/step - loss: 0.0122 - mean_squared_error: 0.0016 - root_mean_squared_error: 0.0401 - mean_absolute_error: 0.0122 - noiseToSignalLoss: 10.4753 - val_loss: 0.0124 - val_mean_squared_error: 0.0017 - val_root_mean_squared_error: 0.0410 - val_mean_absolute_error: 0.0124 - val_noiseToSignalLoss: 9.2581\n",
      "Epoch 29/100\n",
      "4060/4060 [==============================] - 18s 5ms/step - loss: 0.0122 - mean_squared_error: 0.0016 - root_mean_squared_error: 0.0400 - mean_absolute_error: 0.0122 - noiseToSignalLoss: 10.4587 - val_loss: 0.0123 - val_mean_squared_error: 0.0017 - val_root_mean_squared_error: 0.0408 - val_mean_absolute_error: 0.0123 - val_noiseToSignalLoss: 10.2221\n",
      "Epoch 30/100\n",
      "4060/4060 [==============================] - 18s 4ms/step - loss: 0.0122 - mean_squared_error: 0.0016 - root_mean_squared_error: 0.0400 - mean_absolute_error: 0.0122 - noiseToSignalLoss: 10.4402 - val_loss: 0.0123 - val_mean_squared_error: 0.0016 - val_root_mean_squared_error: 0.0404 - val_mean_absolute_error: 0.0123 - val_noiseToSignalLoss: 10.6068\n",
      "Epoch 31/100\n",
      "4060/4060 [==============================] - 19s 5ms/step - loss: 0.0122 - mean_squared_error: 0.0016 - root_mean_squared_error: 0.0399 - mean_absolute_error: 0.0122 - noiseToSignalLoss: 10.3787 - val_loss: 0.0122 - val_mean_squared_error: 0.0016 - val_root_mean_squared_error: 0.0406 - val_mean_absolute_error: 0.0122 - val_noiseToSignalLoss: 9.9081\n",
      "Epoch 32/100\n",
      "4060/4060 [==============================] - 19s 5ms/step - loss: 0.0122 - mean_squared_error: 0.0016 - root_mean_squared_error: 0.0398 - mean_absolute_error: 0.0122 - noiseToSignalLoss: 10.1787 - val_loss: 0.0122 - val_mean_squared_error: 0.0016 - val_root_mean_squared_error: 0.0404 - val_mean_absolute_error: 0.0122 - val_noiseToSignalLoss: 9.7650\n",
      "Epoch 33/100\n",
      "4060/4060 [==============================] - 18s 4ms/step - loss: 0.0121 - mean_squared_error: 0.0016 - root_mean_squared_error: 0.0397 - mean_absolute_error: 0.0121 - noiseToSignalLoss: 10.0484 - val_loss: 0.0121 - val_mean_squared_error: 0.0016 - val_root_mean_squared_error: 0.0403 - val_mean_absolute_error: 0.0121 - val_noiseToSignalLoss: 9.8558\n",
      "Epoch 34/100\n",
      "4060/4060 [==============================] - 18s 4ms/step - loss: 0.0121 - mean_squared_error: 0.0016 - root_mean_squared_error: 0.0396 - mean_absolute_error: 0.0121 - noiseToSignalLoss: 9.8638 - val_loss: 0.0121 - val_mean_squared_error: 0.0016 - val_root_mean_squared_error: 0.0404 - val_mean_absolute_error: 0.0121 - val_noiseToSignalLoss: 8.9437\n",
      "Epoch 35/100\n",
      "4060/4060 [==============================] - 19s 5ms/step - loss: 0.0121 - mean_squared_error: 0.0016 - root_mean_squared_error: 0.0395 - mean_absolute_error: 0.0121 - noiseToSignalLoss: 9.9187 - val_loss: 0.0122 - val_mean_squared_error: 0.0016 - val_root_mean_squared_error: 0.0402 - val_mean_absolute_error: 0.0122 - val_noiseToSignalLoss: 11.7543\n",
      "Epoch 36/100\n",
      "4060/4060 [==============================] - 18s 4ms/step - loss: 0.0120 - mean_squared_error: 0.0015 - root_mean_squared_error: 0.0394 - mean_absolute_error: 0.0120 - noiseToSignalLoss: 9.8551 - val_loss: 0.0122 - val_mean_squared_error: 0.0016 - val_root_mean_squared_error: 0.0401 - val_mean_absolute_error: 0.0122 - val_noiseToSignalLoss: 8.7404\n",
      "Epoch 37/100\n",
      "4060/4060 [==============================] - 18s 4ms/step - loss: 0.0120 - mean_squared_error: 0.0015 - root_mean_squared_error: 0.0393 - mean_absolute_error: 0.0120 - noiseToSignalLoss: 9.7278 - val_loss: 0.0121 - val_mean_squared_error: 0.0016 - val_root_mean_squared_error: 0.0398 - val_mean_absolute_error: 0.0121 - val_noiseToSignalLoss: 10.2447\n",
      "Epoch 38/100\n",
      "4060/4060 [==============================] - 18s 4ms/step - loss: 0.0120 - mean_squared_error: 0.0015 - root_mean_squared_error: 0.0392 - mean_absolute_error: 0.0120 - noiseToSignalLoss: 9.6396 - val_loss: 0.0120 - val_mean_squared_error: 0.0016 - val_root_mean_squared_error: 0.0398 - val_mean_absolute_error: 0.0120 - val_noiseToSignalLoss: 9.8284\n",
      "Epoch 39/100\n",
      "4060/4060 [==============================] - 18s 4ms/step - loss: 0.0120 - mean_squared_error: 0.0015 - root_mean_squared_error: 0.0391 - mean_absolute_error: 0.0120 - noiseToSignalLoss: 9.6342 - val_loss: 0.0120 - val_mean_squared_error: 0.0016 - val_root_mean_squared_error: 0.0396 - val_mean_absolute_error: 0.0120 - val_noiseToSignalLoss: 9.0371\n",
      "Epoch 40/100\n",
      "4060/4060 [==============================] - 19s 5ms/step - loss: 0.0120 - mean_squared_error: 0.0015 - root_mean_squared_error: 0.0391 - mean_absolute_error: 0.0120 - noiseToSignalLoss: 9.5320 - val_loss: 0.0121 - val_mean_squared_error: 0.0016 - val_root_mean_squared_error: 0.0399 - val_mean_absolute_error: 0.0121 - val_noiseToSignalLoss: 10.8448\n",
      "Epoch 41/100\n",
      "4060/4060 [==============================] - 19s 5ms/step - loss: 0.0119 - mean_squared_error: 0.0015 - root_mean_squared_error: 0.0390 - mean_absolute_error: 0.0119 - noiseToSignalLoss: 9.4946 - val_loss: 0.0120 - val_mean_squared_error: 0.0016 - val_root_mean_squared_error: 0.0397 - val_mean_absolute_error: 0.0120 - val_noiseToSignalLoss: 11.2717\n",
      "Epoch 42/100\n",
      "4060/4060 [==============================] - 19s 5ms/step - loss: 0.0119 - mean_squared_error: 0.0015 - root_mean_squared_error: 0.0390 - mean_absolute_error: 0.0119 - noiseToSignalLoss: 9.4616 - val_loss: 0.0120 - val_mean_squared_error: 0.0016 - val_root_mean_squared_error: 0.0397 - val_mean_absolute_error: 0.0120 - val_noiseToSignalLoss: 9.7667\n",
      "Epoch 43/100\n",
      "4060/4060 [==============================] - 19s 5ms/step - loss: 0.0119 - mean_squared_error: 0.0015 - root_mean_squared_error: 0.0389 - mean_absolute_error: 0.0119 - noiseToSignalLoss: 9.4434 - val_loss: 0.0120 - val_mean_squared_error: 0.0016 - val_root_mean_squared_error: 0.0397 - val_mean_absolute_error: 0.0120 - val_noiseToSignalLoss: 10.7668\n",
      "Epoch 44/100\n",
      "4060/4060 [==============================] - 19s 5ms/step - loss: 0.0119 - mean_squared_error: 0.0015 - root_mean_squared_error: 0.0389 - mean_absolute_error: 0.0119 - noiseToSignalLoss: 9.2352 - val_loss: 0.0120 - val_mean_squared_error: 0.0016 - val_root_mean_squared_error: 0.0396 - val_mean_absolute_error: 0.0120 - val_noiseToSignalLoss: 11.0497\n",
      "Epoch 45/100\n",
      "4060/4060 [==============================] - 18s 4ms/step - loss: 0.0119 - mean_squared_error: 0.0015 - root_mean_squared_error: 0.0388 - mean_absolute_error: 0.0119 - noiseToSignalLoss: 9.2968 - val_loss: 0.0120 - val_mean_squared_error: 0.0016 - val_root_mean_squared_error: 0.0397 - val_mean_absolute_error: 0.0120 - val_noiseToSignalLoss: 10.0154\n",
      "Epoch 46/100\n",
      "4060/4060 [==============================] - 18s 4ms/step - loss: 0.0119 - mean_squared_error: 0.0015 - root_mean_squared_error: 0.0388 - mean_absolute_error: 0.0119 - noiseToSignalLoss: 9.2774 - val_loss: 0.0121 - val_mean_squared_error: 0.0016 - val_root_mean_squared_error: 0.0397 - val_mean_absolute_error: 0.0121 - val_noiseToSignalLoss: 9.0107\n",
      "Epoch 47/100\n",
      "4060/4060 [==============================] - 19s 5ms/step - loss: 0.0119 - mean_squared_error: 0.0015 - root_mean_squared_error: 0.0388 - mean_absolute_error: 0.0119 - noiseToSignalLoss: 9.3054 - val_loss: 0.0120 - val_mean_squared_error: 0.0016 - val_root_mean_squared_error: 0.0397 - val_mean_absolute_error: 0.0120 - val_noiseToSignalLoss: 8.3954\n",
      "Epoch 48/100\n",
      "4060/4060 [==============================] - 18s 5ms/step - loss: 0.0118 - mean_squared_error: 0.0015 - root_mean_squared_error: 0.0387 - mean_absolute_error: 0.0118 - noiseToSignalLoss: 9.1825 - val_loss: 0.0119 - val_mean_squared_error: 0.0016 - val_root_mean_squared_error: 0.0396 - val_mean_absolute_error: 0.0119 - val_noiseToSignalLoss: 10.1880\n",
      "Epoch 49/100\n",
      "4060/4060 [==============================] - 18s 4ms/step - loss: 0.0118 - mean_squared_error: 0.0015 - root_mean_squared_error: 0.0387 - mean_absolute_error: 0.0118 - noiseToSignalLoss: 9.1219 - val_loss: 0.0119 - val_mean_squared_error: 0.0016 - val_root_mean_squared_error: 0.0395 - val_mean_absolute_error: 0.0119 - val_noiseToSignalLoss: 9.1398\n",
      "Epoch 50/100\n",
      "4060/4060 [==============================] - 19s 5ms/step - loss: 0.0118 - mean_squared_error: 0.0015 - root_mean_squared_error: 0.0386 - mean_absolute_error: 0.0118 - noiseToSignalLoss: 9.1075 - val_loss: 0.0119 - val_mean_squared_error: 0.0016 - val_root_mean_squared_error: 0.0396 - val_mean_absolute_error: 0.0119 - val_noiseToSignalLoss: 8.9561\n",
      "Epoch 51/100\n",
      "4060/4060 [==============================] - 19s 5ms/step - loss: 0.0118 - mean_squared_error: 0.0015 - root_mean_squared_error: 0.0386 - mean_absolute_error: 0.0118 - noiseToSignalLoss: 9.0963 - val_loss: 0.0119 - val_mean_squared_error: 0.0016 - val_root_mean_squared_error: 0.0396 - val_mean_absolute_error: 0.0119 - val_noiseToSignalLoss: 8.8593\n",
      "Epoch 52/100\n",
      "4060/4060 [==============================] - 18s 5ms/step - loss: 0.0118 - mean_squared_error: 0.0015 - root_mean_squared_error: 0.0386 - mean_absolute_error: 0.0118 - noiseToSignalLoss: 9.0186 - val_loss: 0.0119 - val_mean_squared_error: 0.0016 - val_root_mean_squared_error: 0.0396 - val_mean_absolute_error: 0.0119 - val_noiseToSignalLoss: 10.6685\n",
      "Epoch 53/100\n",
      "4060/4060 [==============================] - 19s 5ms/step - loss: 0.0118 - mean_squared_error: 0.0015 - root_mean_squared_error: 0.0386 - mean_absolute_error: 0.0118 - noiseToSignalLoss: 9.0619 - val_loss: 0.0119 - val_mean_squared_error: 0.0016 - val_root_mean_squared_error: 0.0395 - val_mean_absolute_error: 0.0119 - val_noiseToSignalLoss: 8.5336\n",
      "Epoch 54/100\n",
      "4060/4060 [==============================] - 18s 5ms/step - loss: 0.0118 - mean_squared_error: 0.0015 - root_mean_squared_error: 0.0385 - mean_absolute_error: 0.0118 - noiseToSignalLoss: 9.2293 - val_loss: 0.0119 - val_mean_squared_error: 0.0016 - val_root_mean_squared_error: 0.0394 - val_mean_absolute_error: 0.0119 - val_noiseToSignalLoss: 9.4677\n",
      "Epoch 55/100\n",
      "4060/4060 [==============================] - 19s 5ms/step - loss: 0.0118 - mean_squared_error: 0.0015 - root_mean_squared_error: 0.0385 - mean_absolute_error: 0.0118 - noiseToSignalLoss: 9.0159 - val_loss: 0.0119 - val_mean_squared_error: 0.0015 - val_root_mean_squared_error: 0.0393 - val_mean_absolute_error: 0.0119 - val_noiseToSignalLoss: 10.1224\n",
      "Epoch 56/100\n",
      "4060/4060 [==============================] - 18s 5ms/step - loss: 0.0118 - mean_squared_error: 0.0015 - root_mean_squared_error: 0.0385 - mean_absolute_error: 0.0118 - noiseToSignalLoss: 9.0158 - val_loss: 0.0119 - val_mean_squared_error: 0.0016 - val_root_mean_squared_error: 0.0395 - val_mean_absolute_error: 0.0119 - val_noiseToSignalLoss: 10.0918\n",
      "16038/16038 [==============================] - 44s 3ms/step - loss: 0.0097 - mean_squared_error: 9.3838e-04 - root_mean_squared_error: 0.0306 - mean_absolute_error: 0.0097 - noiseToSignalLoss: 8.1175\n"
     ]
    },
    {
     "output_type": "execute_result",
     "data": {
      "text/plain": [
       "[0.009714072570204735,\n",
       " 0.0009383799624629319,\n",
       " 0.03063298761844635,\n",
       " 0.009714072570204735,\n",
       " 8.11750602722168]"
      ]
     },
     "metadata": {},
     "execution_count": 40
    }
   ]
  },
  {
   "cell_type": "code",
   "source": [
    "callbacks = [\n",
    "    keras.callbacks.EarlyStopping(patience=7),\n",
    "]\n",
    "\n",
    "metrics = [\n",
    "    keras.metrics.MeanSquaredError(),\n",
    "    keras.metrics.RootMeanSquaredError(),\n",
    "    keras.metrics.MeanAbsoluteError(),\n",
    "    noiseToSignalLoss,\n",
    "]\n",
    "\n",
    "model_4.compile(optimizer=keras.optimizers.Adam(learning_rate=6.0232e-05), loss=keras.losses.MeanAbsoluteError(), metrics=metrics)\n",
    "\n",
    "history_4 = model_4.fit(train_X, train_Y, batch_size=382, validation_split=0.1, verbose=1, epochs=EPOCHS, callbacks=callbacks)\n",
    "\n",
    "model_4.evaluate(test_X, test_Y)"
   ],
   "metadata": {
    "colab": {
     "base_uri": "https://localhost:8080/"
    },
    "id": "rwW3MEiVP4jb",
    "outputId": "f0cfb3b2-8474-40a3-eeee-aea324ccd1ae",
    "pycharm": {
     "name": "#%%\n"
    }
   },
   "execution_count": null,
   "outputs": [
    {
     "output_type": "stream",
     "name": "stdout",
     "text": [
      "Epoch 1/100\n",
      "4060/4060 [==============================] - 19s 4ms/step - loss: 0.0151 - mean_squared_error: 0.0021 - root_mean_squared_error: 0.0461 - mean_absolute_error: 0.0151 - noiseToSignalLoss: 24.8610 - val_loss: 0.0139 - val_mean_squared_error: 0.0020 - val_root_mean_squared_error: 0.0448 - val_mean_absolute_error: 0.0139 - val_noiseToSignalLoss: 11.4339\n",
      "Epoch 2/100\n",
      "4060/4060 [==============================] - 18s 5ms/step - loss: 0.0134 - mean_squared_error: 0.0018 - root_mean_squared_error: 0.0428 - mean_absolute_error: 0.0134 - noiseToSignalLoss: 15.2595 - val_loss: 0.0130 - val_mean_squared_error: 0.0018 - val_root_mean_squared_error: 0.0430 - val_mean_absolute_error: 0.0130 - val_noiseToSignalLoss: 11.4987\n",
      "Epoch 3/100\n",
      "4060/4060 [==============================] - 19s 5ms/step - loss: 0.0130 - mean_squared_error: 0.0018 - root_mean_squared_error: 0.0421 - mean_absolute_error: 0.0130 - noiseToSignalLoss: 14.0307 - val_loss: 0.0130 - val_mean_squared_error: 0.0018 - val_root_mean_squared_error: 0.0426 - val_mean_absolute_error: 0.0130 - val_noiseToSignalLoss: 11.9261\n",
      "Epoch 4/100\n",
      "4060/4060 [==============================] - 18s 4ms/step - loss: 0.0129 - mean_squared_error: 0.0018 - root_mean_squared_error: 0.0419 - mean_absolute_error: 0.0129 - noiseToSignalLoss: 13.9856 - val_loss: 0.0128 - val_mean_squared_error: 0.0018 - val_root_mean_squared_error: 0.0425 - val_mean_absolute_error: 0.0128 - val_noiseToSignalLoss: 12.7816\n",
      "Epoch 5/100\n",
      "4060/4060 [==============================] - 18s 4ms/step - loss: 0.0128 - mean_squared_error: 0.0017 - root_mean_squared_error: 0.0417 - mean_absolute_error: 0.0128 - noiseToSignalLoss: 13.2909 - val_loss: 0.0129 - val_mean_squared_error: 0.0018 - val_root_mean_squared_error: 0.0424 - val_mean_absolute_error: 0.0129 - val_noiseToSignalLoss: 12.0371\n",
      "Epoch 6/100\n",
      "4060/4060 [==============================] - 18s 4ms/step - loss: 0.0128 - mean_squared_error: 0.0017 - root_mean_squared_error: 0.0417 - mean_absolute_error: 0.0128 - noiseToSignalLoss: 12.6601 - val_loss: 0.0129 - val_mean_squared_error: 0.0018 - val_root_mean_squared_error: 0.0425 - val_mean_absolute_error: 0.0129 - val_noiseToSignalLoss: 9.1428\n",
      "Epoch 7/100\n",
      "4060/4060 [==============================] - 18s 4ms/step - loss: 0.0128 - mean_squared_error: 0.0017 - root_mean_squared_error: 0.0417 - mean_absolute_error: 0.0128 - noiseToSignalLoss: 12.2692 - val_loss: 0.0128 - val_mean_squared_error: 0.0018 - val_root_mean_squared_error: 0.0422 - val_mean_absolute_error: 0.0128 - val_noiseToSignalLoss: 12.2404\n",
      "Epoch 8/100\n",
      "4060/4060 [==============================] - 18s 4ms/step - loss: 0.0127 - mean_squared_error: 0.0017 - root_mean_squared_error: 0.0416 - mean_absolute_error: 0.0127 - noiseToSignalLoss: 11.8341 - val_loss: 0.0128 - val_mean_squared_error: 0.0018 - val_root_mean_squared_error: 0.0424 - val_mean_absolute_error: 0.0128 - val_noiseToSignalLoss: 9.8559\n",
      "Epoch 9/100\n",
      "4060/4060 [==============================] - 18s 4ms/step - loss: 0.0127 - mean_squared_error: 0.0017 - root_mean_squared_error: 0.0416 - mean_absolute_error: 0.0127 - noiseToSignalLoss: 11.6580 - val_loss: 0.0128 - val_mean_squared_error: 0.0018 - val_root_mean_squared_error: 0.0422 - val_mean_absolute_error: 0.0128 - val_noiseToSignalLoss: 11.6068\n",
      "Epoch 10/100\n",
      "4060/4060 [==============================] - 18s 4ms/step - loss: 0.0127 - mean_squared_error: 0.0017 - root_mean_squared_error: 0.0416 - mean_absolute_error: 0.0127 - noiseToSignalLoss: 11.3931 - val_loss: 0.0129 - val_mean_squared_error: 0.0018 - val_root_mean_squared_error: 0.0420 - val_mean_absolute_error: 0.0129 - val_noiseToSignalLoss: 13.7702\n",
      "Epoch 11/100\n",
      "4060/4060 [==============================] - 18s 4ms/step - loss: 0.0126 - mean_squared_error: 0.0017 - root_mean_squared_error: 0.0414 - mean_absolute_error: 0.0126 - noiseToSignalLoss: 11.5834 - val_loss: 0.0126 - val_mean_squared_error: 0.0018 - val_root_mean_squared_error: 0.0422 - val_mean_absolute_error: 0.0126 - val_noiseToSignalLoss: 10.5853\n",
      "Epoch 12/100\n",
      "4060/4060 [==============================] - 18s 4ms/step - loss: 0.0126 - mean_squared_error: 0.0017 - root_mean_squared_error: 0.0413 - mean_absolute_error: 0.0126 - noiseToSignalLoss: 11.5121 - val_loss: 0.0127 - val_mean_squared_error: 0.0018 - val_root_mean_squared_error: 0.0420 - val_mean_absolute_error: 0.0127 - val_noiseToSignalLoss: 10.2867\n",
      "Epoch 13/100\n",
      "4060/4060 [==============================] - 18s 4ms/step - loss: 0.0126 - mean_squared_error: 0.0017 - root_mean_squared_error: 0.0412 - mean_absolute_error: 0.0126 - noiseToSignalLoss: 11.5530 - val_loss: 0.0126 - val_mean_squared_error: 0.0017 - val_root_mean_squared_error: 0.0418 - val_mean_absolute_error: 0.0126 - val_noiseToSignalLoss: 10.0530\n",
      "Epoch 14/100\n",
      "4060/4060 [==============================] - 20s 5ms/step - loss: 0.0125 - mean_squared_error: 0.0017 - root_mean_squared_error: 0.0411 - mean_absolute_error: 0.0125 - noiseToSignalLoss: 11.6589 - val_loss: 0.0126 - val_mean_squared_error: 0.0017 - val_root_mean_squared_error: 0.0417 - val_mean_absolute_error: 0.0126 - val_noiseToSignalLoss: 11.8675\n",
      "Epoch 15/100\n",
      "4060/4060 [==============================] - 18s 5ms/step - loss: 0.0125 - mean_squared_error: 0.0017 - root_mean_squared_error: 0.0411 - mean_absolute_error: 0.0125 - noiseToSignalLoss: 11.6262 - val_loss: 0.0125 - val_mean_squared_error: 0.0017 - val_root_mean_squared_error: 0.0416 - val_mean_absolute_error: 0.0125 - val_noiseToSignalLoss: 10.7547\n",
      "Epoch 16/100\n",
      "4060/4060 [==============================] - 18s 5ms/step - loss: 0.0125 - mean_squared_error: 0.0017 - root_mean_squared_error: 0.0410 - mean_absolute_error: 0.0125 - noiseToSignalLoss: 11.7247 - val_loss: 0.0126 - val_mean_squared_error: 0.0017 - val_root_mean_squared_error: 0.0416 - val_mean_absolute_error: 0.0126 - val_noiseToSignalLoss: 11.1734\n",
      "Epoch 17/100\n",
      "4060/4060 [==============================] - 18s 4ms/step - loss: 0.0125 - mean_squared_error: 0.0017 - root_mean_squared_error: 0.0410 - mean_absolute_error: 0.0125 - noiseToSignalLoss: 11.5224 - val_loss: 0.0126 - val_mean_squared_error: 0.0017 - val_root_mean_squared_error: 0.0412 - val_mean_absolute_error: 0.0126 - val_noiseToSignalLoss: 13.8684\n",
      "Epoch 18/100\n",
      "4060/4060 [==============================] - 18s 4ms/step - loss: 0.0125 - mean_squared_error: 0.0017 - root_mean_squared_error: 0.0409 - mean_absolute_error: 0.0125 - noiseToSignalLoss: 11.4668 - val_loss: 0.0126 - val_mean_squared_error: 0.0017 - val_root_mean_squared_error: 0.0413 - val_mean_absolute_error: 0.0126 - val_noiseToSignalLoss: 12.1377\n",
      "Epoch 19/100\n",
      "4060/4060 [==============================] - 18s 4ms/step - loss: 0.0125 - mean_squared_error: 0.0017 - root_mean_squared_error: 0.0409 - mean_absolute_error: 0.0125 - noiseToSignalLoss: 11.4749 - val_loss: 0.0124 - val_mean_squared_error: 0.0017 - val_root_mean_squared_error: 0.0415 - val_mean_absolute_error: 0.0124 - val_noiseToSignalLoss: 10.3646\n",
      "Epoch 20/100\n",
      "4060/4060 [==============================] - 18s 4ms/step - loss: 0.0125 - mean_squared_error: 0.0017 - root_mean_squared_error: 0.0409 - mean_absolute_error: 0.0125 - noiseToSignalLoss: 11.4441 - val_loss: 0.0124 - val_mean_squared_error: 0.0017 - val_root_mean_squared_error: 0.0415 - val_mean_absolute_error: 0.0124 - val_noiseToSignalLoss: 10.9303\n",
      "Epoch 21/100\n",
      "4060/4060 [==============================] - 18s 5ms/step - loss: 0.0124 - mean_squared_error: 0.0017 - root_mean_squared_error: 0.0408 - mean_absolute_error: 0.0124 - noiseToSignalLoss: 11.3475 - val_loss: 0.0125 - val_mean_squared_error: 0.0017 - val_root_mean_squared_error: 0.0414 - val_mean_absolute_error: 0.0125 - val_noiseToSignalLoss: 11.1621\n",
      "Epoch 22/100\n",
      "4060/4060 [==============================] - 18s 4ms/step - loss: 0.0124 - mean_squared_error: 0.0017 - root_mean_squared_error: 0.0408 - mean_absolute_error: 0.0124 - noiseToSignalLoss: 11.1960 - val_loss: 0.0125 - val_mean_squared_error: 0.0017 - val_root_mean_squared_error: 0.0416 - val_mean_absolute_error: 0.0125 - val_noiseToSignalLoss: 8.7398\n",
      "Epoch 23/100\n",
      "4060/4060 [==============================] - 18s 5ms/step - loss: 0.0124 - mean_squared_error: 0.0017 - root_mean_squared_error: 0.0408 - mean_absolute_error: 0.0124 - noiseToSignalLoss: 11.0539 - val_loss: 0.0125 - val_mean_squared_error: 0.0017 - val_root_mean_squared_error: 0.0418 - val_mean_absolute_error: 0.0125 - val_noiseToSignalLoss: 10.4699\n",
      "Epoch 24/100\n",
      "4060/4060 [==============================] - 18s 5ms/step - loss: 0.0124 - mean_squared_error: 0.0017 - root_mean_squared_error: 0.0407 - mean_absolute_error: 0.0124 - noiseToSignalLoss: 11.0614 - val_loss: 0.0124 - val_mean_squared_error: 0.0017 - val_root_mean_squared_error: 0.0415 - val_mean_absolute_error: 0.0124 - val_noiseToSignalLoss: 10.5010\n",
      "Epoch 25/100\n",
      "4060/4060 [==============================] - 18s 5ms/step - loss: 0.0124 - mean_squared_error: 0.0017 - root_mean_squared_error: 0.0407 - mean_absolute_error: 0.0124 - noiseToSignalLoss: 10.9093 - val_loss: 0.0124 - val_mean_squared_error: 0.0017 - val_root_mean_squared_error: 0.0411 - val_mean_absolute_error: 0.0124 - val_noiseToSignalLoss: 12.4438\n",
      "Epoch 26/100\n",
      "4060/4060 [==============================] - 18s 4ms/step - loss: 0.0124 - mean_squared_error: 0.0016 - root_mean_squared_error: 0.0406 - mean_absolute_error: 0.0124 - noiseToSignalLoss: 11.0855 - val_loss: 0.0125 - val_mean_squared_error: 0.0017 - val_root_mean_squared_error: 0.0409 - val_mean_absolute_error: 0.0125 - val_noiseToSignalLoss: 14.1433\n",
      "Epoch 27/100\n",
      "4060/4060 [==============================] - 18s 5ms/step - loss: 0.0124 - mean_squared_error: 0.0016 - root_mean_squared_error: 0.0406 - mean_absolute_error: 0.0124 - noiseToSignalLoss: 10.8281 - val_loss: 0.0124 - val_mean_squared_error: 0.0017 - val_root_mean_squared_error: 0.0414 - val_mean_absolute_error: 0.0124 - val_noiseToSignalLoss: 9.9559\n",
      "Epoch 28/100\n",
      "4060/4060 [==============================] - 18s 5ms/step - loss: 0.0123 - mean_squared_error: 0.0016 - root_mean_squared_error: 0.0405 - mean_absolute_error: 0.0123 - noiseToSignalLoss: 10.6679 - val_loss: 0.0124 - val_mean_squared_error: 0.0017 - val_root_mean_squared_error: 0.0414 - val_mean_absolute_error: 0.0124 - val_noiseToSignalLoss: 9.4520\n",
      "Epoch 29/100\n",
      "4060/4060 [==============================] - 18s 5ms/step - loss: 0.0123 - mean_squared_error: 0.0016 - root_mean_squared_error: 0.0405 - mean_absolute_error: 0.0123 - noiseToSignalLoss: 10.6936 - val_loss: 0.0124 - val_mean_squared_error: 0.0017 - val_root_mean_squared_error: 0.0411 - val_mean_absolute_error: 0.0124 - val_noiseToSignalLoss: 10.4836\n",
      "Epoch 30/100\n",
      "4060/4060 [==============================] - 19s 5ms/step - loss: 0.0123 - mean_squared_error: 0.0016 - root_mean_squared_error: 0.0404 - mean_absolute_error: 0.0123 - noiseToSignalLoss: 10.7617 - val_loss: 0.0123 - val_mean_squared_error: 0.0017 - val_root_mean_squared_error: 0.0410 - val_mean_absolute_error: 0.0123 - val_noiseToSignalLoss: 10.3848\n",
      "Epoch 31/100\n",
      "4060/4060 [==============================] - 18s 4ms/step - loss: 0.0123 - mean_squared_error: 0.0016 - root_mean_squared_error: 0.0403 - mean_absolute_error: 0.0123 - noiseToSignalLoss: 10.7284 - val_loss: 0.0123 - val_mean_squared_error: 0.0017 - val_root_mean_squared_error: 0.0411 - val_mean_absolute_error: 0.0123 - val_noiseToSignalLoss: 9.8783\n",
      "Epoch 32/100\n",
      "4060/4060 [==============================] - 18s 4ms/step - loss: 0.0123 - mean_squared_error: 0.0016 - root_mean_squared_error: 0.0403 - mean_absolute_error: 0.0123 - noiseToSignalLoss: 10.5516 - val_loss: 0.0123 - val_mean_squared_error: 0.0017 - val_root_mean_squared_error: 0.0411 - val_mean_absolute_error: 0.0123 - val_noiseToSignalLoss: 10.1701\n",
      "Epoch 33/100\n",
      "4060/4060 [==============================] - 18s 4ms/step - loss: 0.0123 - mean_squared_error: 0.0016 - root_mean_squared_error: 0.0402 - mean_absolute_error: 0.0123 - noiseToSignalLoss: 10.5970 - val_loss: 0.0124 - val_mean_squared_error: 0.0017 - val_root_mean_squared_error: 0.0409 - val_mean_absolute_error: 0.0124 - val_noiseToSignalLoss: 12.3618\n",
      "Epoch 34/100\n",
      "4060/4060 [==============================] - 18s 4ms/step - loss: 0.0122 - mean_squared_error: 0.0016 - root_mean_squared_error: 0.0402 - mean_absolute_error: 0.0122 - noiseToSignalLoss: 10.5821 - val_loss: 0.0123 - val_mean_squared_error: 0.0017 - val_root_mean_squared_error: 0.0409 - val_mean_absolute_error: 0.0123 - val_noiseToSignalLoss: 11.2925\n",
      "Epoch 35/100\n",
      "4060/4060 [==============================] - 18s 4ms/step - loss: 0.0122 - mean_squared_error: 0.0016 - root_mean_squared_error: 0.0401 - mean_absolute_error: 0.0122 - noiseToSignalLoss: 10.5780 - val_loss: 0.0123 - val_mean_squared_error: 0.0017 - val_root_mean_squared_error: 0.0409 - val_mean_absolute_error: 0.0123 - val_noiseToSignalLoss: 9.9821\n",
      "Epoch 36/100\n",
      "4060/4060 [==============================] - 18s 4ms/step - loss: 0.0122 - mean_squared_error: 0.0016 - root_mean_squared_error: 0.0401 - mean_absolute_error: 0.0122 - noiseToSignalLoss: 10.6703 - val_loss: 0.0123 - val_mean_squared_error: 0.0017 - val_root_mean_squared_error: 0.0410 - val_mean_absolute_error: 0.0123 - val_noiseToSignalLoss: 10.1443\n",
      "Epoch 37/100\n",
      "4060/4060 [==============================] - 18s 4ms/step - loss: 0.0122 - mean_squared_error: 0.0016 - root_mean_squared_error: 0.0400 - mean_absolute_error: 0.0122 - noiseToSignalLoss: 10.5392 - val_loss: 0.0124 - val_mean_squared_error: 0.0017 - val_root_mean_squared_error: 0.0411 - val_mean_absolute_error: 0.0124 - val_noiseToSignalLoss: 9.5018\n",
      "Epoch 38/100\n",
      "4060/4060 [==============================] - 18s 4ms/step - loss: 0.0122 - mean_squared_error: 0.0016 - root_mean_squared_error: 0.0400 - mean_absolute_error: 0.0122 - noiseToSignalLoss: 10.4999 - val_loss: 0.0122 - val_mean_squared_error: 0.0017 - val_root_mean_squared_error: 0.0408 - val_mean_absolute_error: 0.0122 - val_noiseToSignalLoss: 9.3983\n",
      "Epoch 39/100\n",
      "4060/4060 [==============================] - 18s 4ms/step - loss: 0.0122 - mean_squared_error: 0.0016 - root_mean_squared_error: 0.0399 - mean_absolute_error: 0.0122 - noiseToSignalLoss: 10.4905 - val_loss: 0.0123 - val_mean_squared_error: 0.0016 - val_root_mean_squared_error: 0.0405 - val_mean_absolute_error: 0.0123 - val_noiseToSignalLoss: 12.9615\n",
      "Epoch 40/100\n",
      "4060/4060 [==============================] - 18s 4ms/step - loss: 0.0122 - mean_squared_error: 0.0016 - root_mean_squared_error: 0.0399 - mean_absolute_error: 0.0122 - noiseToSignalLoss: 10.4505 - val_loss: 0.0123 - val_mean_squared_error: 0.0016 - val_root_mean_squared_error: 0.0403 - val_mean_absolute_error: 0.0123 - val_noiseToSignalLoss: 14.3907\n",
      "Epoch 41/100\n",
      "4060/4060 [==============================] - 18s 4ms/step - loss: 0.0122 - mean_squared_error: 0.0016 - root_mean_squared_error: 0.0398 - mean_absolute_error: 0.0122 - noiseToSignalLoss: 10.3301 - val_loss: 0.0122 - val_mean_squared_error: 0.0016 - val_root_mean_squared_error: 0.0405 - val_mean_absolute_error: 0.0122 - val_noiseToSignalLoss: 11.8380\n",
      "Epoch 42/100\n",
      "4060/4060 [==============================] - 19s 5ms/step - loss: 0.0121 - mean_squared_error: 0.0016 - root_mean_squared_error: 0.0398 - mean_absolute_error: 0.0121 - noiseToSignalLoss: 10.4189 - val_loss: 0.0122 - val_mean_squared_error: 0.0017 - val_root_mean_squared_error: 0.0406 - val_mean_absolute_error: 0.0122 - val_noiseToSignalLoss: 10.6726\n",
      "Epoch 43/100\n",
      "4060/4060 [==============================] - 18s 4ms/step - loss: 0.0121 - mean_squared_error: 0.0016 - root_mean_squared_error: 0.0398 - mean_absolute_error: 0.0121 - noiseToSignalLoss: 10.3859 - val_loss: 0.0122 - val_mean_squared_error: 0.0016 - val_root_mean_squared_error: 0.0404 - val_mean_absolute_error: 0.0122 - val_noiseToSignalLoss: 10.8518\n",
      "Epoch 44/100\n",
      "4060/4060 [==============================] - 18s 4ms/step - loss: 0.0121 - mean_squared_error: 0.0016 - root_mean_squared_error: 0.0397 - mean_absolute_error: 0.0121 - noiseToSignalLoss: 10.3177 - val_loss: 0.0123 - val_mean_squared_error: 0.0016 - val_root_mean_squared_error: 0.0405 - val_mean_absolute_error: 0.0123 - val_noiseToSignalLoss: 10.3501\n",
      "Epoch 45/100\n",
      "4060/4060 [==============================] - 18s 4ms/step - loss: 0.0121 - mean_squared_error: 0.0016 - root_mean_squared_error: 0.0397 - mean_absolute_error: 0.0121 - noiseToSignalLoss: 10.3649 - val_loss: 0.0122 - val_mean_squared_error: 0.0017 - val_root_mean_squared_error: 0.0408 - val_mean_absolute_error: 0.0122 - val_noiseToSignalLoss: 11.0913\n",
      "Epoch 46/100\n",
      "4060/4060 [==============================] - 18s 4ms/step - loss: 0.0121 - mean_squared_error: 0.0016 - root_mean_squared_error: 0.0396 - mean_absolute_error: 0.0121 - noiseToSignalLoss: 10.3143 - val_loss: 0.0122 - val_mean_squared_error: 0.0017 - val_root_mean_squared_error: 0.0410 - val_mean_absolute_error: 0.0122 - val_noiseToSignalLoss: 9.7461\n",
      "Epoch 47/100\n",
      "4060/4060 [==============================] - 18s 4ms/step - loss: 0.0121 - mean_squared_error: 0.0016 - root_mean_squared_error: 0.0396 - mean_absolute_error: 0.0121 - noiseToSignalLoss: 10.2373 - val_loss: 0.0123 - val_mean_squared_error: 0.0017 - val_root_mean_squared_error: 0.0412 - val_mean_absolute_error: 0.0123 - val_noiseToSignalLoss: 8.8617\n",
      "Epoch 48/100\n",
      "4060/4060 [==============================] - 18s 4ms/step - loss: 0.0121 - mean_squared_error: 0.0016 - root_mean_squared_error: 0.0396 - mean_absolute_error: 0.0121 - noiseToSignalLoss: 10.2066 - val_loss: 0.0121 - val_mean_squared_error: 0.0016 - val_root_mean_squared_error: 0.0404 - val_mean_absolute_error: 0.0121 - val_noiseToSignalLoss: 10.8183\n",
      "Epoch 49/100\n",
      "4060/4060 [==============================] - 18s 4ms/step - loss: 0.0121 - mean_squared_error: 0.0016 - root_mean_squared_error: 0.0395 - mean_absolute_error: 0.0121 - noiseToSignalLoss: 10.1918 - val_loss: 0.0121 - val_mean_squared_error: 0.0016 - val_root_mean_squared_error: 0.0402 - val_mean_absolute_error: 0.0121 - val_noiseToSignalLoss: 10.4441\n",
      "Epoch 50/100\n",
      "4060/4060 [==============================] - 18s 4ms/step - loss: 0.0121 - mean_squared_error: 0.0016 - root_mean_squared_error: 0.0395 - mean_absolute_error: 0.0121 - noiseToSignalLoss: 10.1564 - val_loss: 0.0122 - val_mean_squared_error: 0.0016 - val_root_mean_squared_error: 0.0400 - val_mean_absolute_error: 0.0122 - val_noiseToSignalLoss: 12.6180\n",
      "Epoch 51/100\n",
      "4060/4060 [==============================] - 18s 4ms/step - loss: 0.0121 - mean_squared_error: 0.0016 - root_mean_squared_error: 0.0395 - mean_absolute_error: 0.0121 - noiseToSignalLoss: 10.1011 - val_loss: 0.0121 - val_mean_squared_error: 0.0016 - val_root_mean_squared_error: 0.0405 - val_mean_absolute_error: 0.0121 - val_noiseToSignalLoss: 9.6571\n",
      "Epoch 52/100\n",
      "4060/4060 [==============================] - 18s 4ms/step - loss: 0.0121 - mean_squared_error: 0.0016 - root_mean_squared_error: 0.0394 - mean_absolute_error: 0.0121 - noiseToSignalLoss: 10.1032 - val_loss: 0.0121 - val_mean_squared_error: 0.0016 - val_root_mean_squared_error: 0.0402 - val_mean_absolute_error: 0.0121 - val_noiseToSignalLoss: 11.6519\n",
      "Epoch 53/100\n",
      "4060/4060 [==============================] - 19s 5ms/step - loss: 0.0120 - mean_squared_error: 0.0016 - root_mean_squared_error: 0.0394 - mean_absolute_error: 0.0120 - noiseToSignalLoss: 9.9425 - val_loss: 0.0121 - val_mean_squared_error: 0.0016 - val_root_mean_squared_error: 0.0399 - val_mean_absolute_error: 0.0121 - val_noiseToSignalLoss: 11.6138\n",
      "Epoch 54/100\n",
      "4060/4060 [==============================] - 18s 4ms/step - loss: 0.0120 - mean_squared_error: 0.0015 - root_mean_squared_error: 0.0394 - mean_absolute_error: 0.0120 - noiseToSignalLoss: 9.8620 - val_loss: 0.0121 - val_mean_squared_error: 0.0016 - val_root_mean_squared_error: 0.0398 - val_mean_absolute_error: 0.0121 - val_noiseToSignalLoss: 12.5043\n",
      "Epoch 55/100\n",
      "4060/4060 [==============================] - 19s 5ms/step - loss: 0.0120 - mean_squared_error: 0.0015 - root_mean_squared_error: 0.0393 - mean_absolute_error: 0.0120 - noiseToSignalLoss: 9.8448 - val_loss: 0.0122 - val_mean_squared_error: 0.0016 - val_root_mean_squared_error: 0.0404 - val_mean_absolute_error: 0.0122 - val_noiseToSignalLoss: 9.9794\n",
      "Epoch 56/100\n",
      "4060/4060 [==============================] - 18s 4ms/step - loss: 0.0120 - mean_squared_error: 0.0015 - root_mean_squared_error: 0.0392 - mean_absolute_error: 0.0120 - noiseToSignalLoss: 9.9441 - val_loss: 0.0121 - val_mean_squared_error: 0.0016 - val_root_mean_squared_error: 0.0397 - val_mean_absolute_error: 0.0121 - val_noiseToSignalLoss: 11.1296\n",
      "Epoch 57/100\n",
      "4060/4060 [==============================] - 19s 5ms/step - loss: 0.0120 - mean_squared_error: 0.0015 - root_mean_squared_error: 0.0392 - mean_absolute_error: 0.0120 - noiseToSignalLoss: 9.8047 - val_loss: 0.0121 - val_mean_squared_error: 0.0016 - val_root_mean_squared_error: 0.0402 - val_mean_absolute_error: 0.0121 - val_noiseToSignalLoss: 9.5552\n",
      "Epoch 58/100\n",
      "4060/4060 [==============================] - 19s 5ms/step - loss: 0.0120 - mean_squared_error: 0.0015 - root_mean_squared_error: 0.0391 - mean_absolute_error: 0.0120 - noiseToSignalLoss: 9.8001 - val_loss: 0.0121 - val_mean_squared_error: 0.0016 - val_root_mean_squared_error: 0.0397 - val_mean_absolute_error: 0.0121 - val_noiseToSignalLoss: 10.3450\n",
      "Epoch 59/100\n",
      "4060/4060 [==============================] - 18s 4ms/step - loss: 0.0120 - mean_squared_error: 0.0015 - root_mean_squared_error: 0.0390 - mean_absolute_error: 0.0120 - noiseToSignalLoss: 9.8345 - val_loss: 0.0121 - val_mean_squared_error: 0.0016 - val_root_mean_squared_error: 0.0401 - val_mean_absolute_error: 0.0121 - val_noiseToSignalLoss: 8.6909\n",
      "Epoch 60/100\n",
      "4060/4060 [==============================] - 18s 5ms/step - loss: 0.0119 - mean_squared_error: 0.0015 - root_mean_squared_error: 0.0390 - mean_absolute_error: 0.0119 - noiseToSignalLoss: 9.8835 - val_loss: 0.0120 - val_mean_squared_error: 0.0016 - val_root_mean_squared_error: 0.0400 - val_mean_absolute_error: 0.0120 - val_noiseToSignalLoss: 9.2565\n",
      "Epoch 61/100\n",
      "4060/4060 [==============================] - 19s 5ms/step - loss: 0.0119 - mean_squared_error: 0.0015 - root_mean_squared_error: 0.0389 - mean_absolute_error: 0.0119 - noiseToSignalLoss: 9.7260 - val_loss: 0.0120 - val_mean_squared_error: 0.0016 - val_root_mean_squared_error: 0.0403 - val_mean_absolute_error: 0.0120 - val_noiseToSignalLoss: 9.0525\n",
      "Epoch 62/100\n",
      "4060/4060 [==============================] - 19s 5ms/step - loss: 0.0119 - mean_squared_error: 0.0015 - root_mean_squared_error: 0.0389 - mean_absolute_error: 0.0119 - noiseToSignalLoss: 9.9083 - val_loss: 0.0120 - val_mean_squared_error: 0.0016 - val_root_mean_squared_error: 0.0400 - val_mean_absolute_error: 0.0120 - val_noiseToSignalLoss: 8.8675\n",
      "Epoch 63/100\n",
      "4060/4060 [==============================] - 18s 4ms/step - loss: 0.0119 - mean_squared_error: 0.0015 - root_mean_squared_error: 0.0388 - mean_absolute_error: 0.0119 - noiseToSignalLoss: 9.6113 - val_loss: 0.0120 - val_mean_squared_error: 0.0016 - val_root_mean_squared_error: 0.0396 - val_mean_absolute_error: 0.0120 - val_noiseToSignalLoss: 10.8117\n",
      "Epoch 64/100\n",
      "4060/4060 [==============================] - 18s 4ms/step - loss: 0.0119 - mean_squared_error: 0.0015 - root_mean_squared_error: 0.0388 - mean_absolute_error: 0.0119 - noiseToSignalLoss: 9.6690 - val_loss: 0.0120 - val_mean_squared_error: 0.0016 - val_root_mean_squared_error: 0.0400 - val_mean_absolute_error: 0.0120 - val_noiseToSignalLoss: 10.1197\n",
      "Epoch 65/100\n",
      "4060/4060 [==============================] - 19s 5ms/step - loss: 0.0119 - mean_squared_error: 0.0015 - root_mean_squared_error: 0.0387 - mean_absolute_error: 0.0119 - noiseToSignalLoss: 9.6194 - val_loss: 0.0120 - val_mean_squared_error: 0.0016 - val_root_mean_squared_error: 0.0400 - val_mean_absolute_error: 0.0120 - val_noiseToSignalLoss: 8.5662\n",
      "Epoch 66/100\n",
      "4060/4060 [==============================] - 19s 5ms/step - loss: 0.0119 - mean_squared_error: 0.0015 - root_mean_squared_error: 0.0387 - mean_absolute_error: 0.0119 - noiseToSignalLoss: 9.5514 - val_loss: 0.0120 - val_mean_squared_error: 0.0016 - val_root_mean_squared_error: 0.0398 - val_mean_absolute_error: 0.0120 - val_noiseToSignalLoss: 8.6091\n",
      "Epoch 67/100\n",
      "4060/4060 [==============================] - 19s 5ms/step - loss: 0.0118 - mean_squared_error: 0.0015 - root_mean_squared_error: 0.0386 - mean_absolute_error: 0.0118 - noiseToSignalLoss: 9.4897 - val_loss: 0.0120 - val_mean_squared_error: 0.0016 - val_root_mean_squared_error: 0.0394 - val_mean_absolute_error: 0.0120 - val_noiseToSignalLoss: 8.9127\n",
      "Epoch 68/100\n",
      "4060/4060 [==============================] - 19s 5ms/step - loss: 0.0118 - mean_squared_error: 0.0015 - root_mean_squared_error: 0.0386 - mean_absolute_error: 0.0118 - noiseToSignalLoss: 9.5134 - val_loss: 0.0119 - val_mean_squared_error: 0.0016 - val_root_mean_squared_error: 0.0396 - val_mean_absolute_error: 0.0119 - val_noiseToSignalLoss: 9.8843\n",
      "Epoch 69/100\n",
      "4060/4060 [==============================] - 18s 4ms/step - loss: 0.0118 - mean_squared_error: 0.0015 - root_mean_squared_error: 0.0385 - mean_absolute_error: 0.0118 - noiseToSignalLoss: 9.4036 - val_loss: 0.0120 - val_mean_squared_error: 0.0016 - val_root_mean_squared_error: 0.0396 - val_mean_absolute_error: 0.0120 - val_noiseToSignalLoss: 10.7343\n",
      "Epoch 70/100\n",
      "4060/4060 [==============================] - 18s 5ms/step - loss: 0.0118 - mean_squared_error: 0.0015 - root_mean_squared_error: 0.0385 - mean_absolute_error: 0.0118 - noiseToSignalLoss: 9.3381 - val_loss: 0.0119 - val_mean_squared_error: 0.0015 - val_root_mean_squared_error: 0.0393 - val_mean_absolute_error: 0.0119 - val_noiseToSignalLoss: 10.6662\n",
      "Epoch 71/100\n",
      "4060/4060 [==============================] - 19s 5ms/step - loss: 0.0118 - mean_squared_error: 0.0015 - root_mean_squared_error: 0.0385 - mean_absolute_error: 0.0118 - noiseToSignalLoss: 9.3841 - val_loss: 0.0119 - val_mean_squared_error: 0.0016 - val_root_mean_squared_error: 0.0396 - val_mean_absolute_error: 0.0119 - val_noiseToSignalLoss: 9.2717\n",
      "Epoch 72/100\n",
      "4060/4060 [==============================] - 19s 5ms/step - loss: 0.0118 - mean_squared_error: 0.0015 - root_mean_squared_error: 0.0384 - mean_absolute_error: 0.0118 - noiseToSignalLoss: 9.3164 - val_loss: 0.0119 - val_mean_squared_error: 0.0016 - val_root_mean_squared_error: 0.0396 - val_mean_absolute_error: 0.0119 - val_noiseToSignalLoss: 8.8540\n",
      "Epoch 73/100\n",
      "4060/4060 [==============================] - 19s 5ms/step - loss: 0.0118 - mean_squared_error: 0.0015 - root_mean_squared_error: 0.0384 - mean_absolute_error: 0.0118 - noiseToSignalLoss: 9.1587 - val_loss: 0.0121 - val_mean_squared_error: 0.0016 - val_root_mean_squared_error: 0.0401 - val_mean_absolute_error: 0.0121 - val_noiseToSignalLoss: 8.0187\n",
      "Epoch 74/100\n",
      "4060/4060 [==============================] - 19s 5ms/step - loss: 0.0118 - mean_squared_error: 0.0015 - root_mean_squared_error: 0.0384 - mean_absolute_error: 0.0118 - noiseToSignalLoss: 9.2810 - val_loss: 0.0119 - val_mean_squared_error: 0.0016 - val_root_mean_squared_error: 0.0394 - val_mean_absolute_error: 0.0119 - val_noiseToSignalLoss: 10.0901\n",
      "Epoch 75/100\n",
      "4060/4060 [==============================] - 18s 5ms/step - loss: 0.0118 - mean_squared_error: 0.0015 - root_mean_squared_error: 0.0383 - mean_absolute_error: 0.0118 - noiseToSignalLoss: 9.2148 - val_loss: 0.0119 - val_mean_squared_error: 0.0016 - val_root_mean_squared_error: 0.0397 - val_mean_absolute_error: 0.0119 - val_noiseToSignalLoss: 7.5738\n",
      "Epoch 76/100\n",
      "4060/4060 [==============================] - 19s 5ms/step - loss: 0.0117 - mean_squared_error: 0.0015 - root_mean_squared_error: 0.0383 - mean_absolute_error: 0.0117 - noiseToSignalLoss: 9.0926 - val_loss: 0.0118 - val_mean_squared_error: 0.0016 - val_root_mean_squared_error: 0.0396 - val_mean_absolute_error: 0.0118 - val_noiseToSignalLoss: 8.2791\n",
      "Epoch 77/100\n",
      "4060/4060 [==============================] - 19s 5ms/step - loss: 0.0117 - mean_squared_error: 0.0015 - root_mean_squared_error: 0.0383 - mean_absolute_error: 0.0117 - noiseToSignalLoss: 9.0935 - val_loss: 0.0119 - val_mean_squared_error: 0.0015 - val_root_mean_squared_error: 0.0393 - val_mean_absolute_error: 0.0119 - val_noiseToSignalLoss: 9.9787\n",
      "Epoch 78/100\n",
      "4060/4060 [==============================] - 19s 5ms/step - loss: 0.0117 - mean_squared_error: 0.0015 - root_mean_squared_error: 0.0382 - mean_absolute_error: 0.0117 - noiseToSignalLoss: 9.1416 - val_loss: 0.0119 - val_mean_squared_error: 0.0015 - val_root_mean_squared_error: 0.0391 - val_mean_absolute_error: 0.0119 - val_noiseToSignalLoss: 8.3376\n",
      "Epoch 79/100\n",
      "4060/4060 [==============================] - 19s 5ms/step - loss: 0.0117 - mean_squared_error: 0.0015 - root_mean_squared_error: 0.0382 - mean_absolute_error: 0.0117 - noiseToSignalLoss: 9.0456 - val_loss: 0.0119 - val_mean_squared_error: 0.0016 - val_root_mean_squared_error: 0.0395 - val_mean_absolute_error: 0.0119 - val_noiseToSignalLoss: 8.9079\n",
      "Epoch 80/100\n",
      "4060/4060 [==============================] - 19s 5ms/step - loss: 0.0117 - mean_squared_error: 0.0015 - root_mean_squared_error: 0.0382 - mean_absolute_error: 0.0117 - noiseToSignalLoss: 9.0199 - val_loss: 0.0119 - val_mean_squared_error: 0.0015 - val_root_mean_squared_error: 0.0392 - val_mean_absolute_error: 0.0119 - val_noiseToSignalLoss: 9.5133\n",
      "Epoch 81/100\n",
      "4060/4060 [==============================] - 18s 5ms/step - loss: 0.0117 - mean_squared_error: 0.0015 - root_mean_squared_error: 0.0381 - mean_absolute_error: 0.0117 - noiseToSignalLoss: 9.0213 - val_loss: 0.0118 - val_mean_squared_error: 0.0015 - val_root_mean_squared_error: 0.0390 - val_mean_absolute_error: 0.0118 - val_noiseToSignalLoss: 10.5628\n",
      "Epoch 82/100\n",
      "4060/4060 [==============================] - 20s 5ms/step - loss: 0.0117 - mean_squared_error: 0.0015 - root_mean_squared_error: 0.0381 - mean_absolute_error: 0.0117 - noiseToSignalLoss: 9.2061 - val_loss: 0.0119 - val_mean_squared_error: 0.0015 - val_root_mean_squared_error: 0.0392 - val_mean_absolute_error: 0.0119 - val_noiseToSignalLoss: 10.4887\n",
      "Epoch 83/100\n",
      "4060/4060 [==============================] - 19s 5ms/step - loss: 0.0117 - mean_squared_error: 0.0014 - root_mean_squared_error: 0.0380 - mean_absolute_error: 0.0117 - noiseToSignalLoss: 9.2052 - val_loss: 0.0119 - val_mean_squared_error: 0.0015 - val_root_mean_squared_error: 0.0392 - val_mean_absolute_error: 0.0119 - val_noiseToSignalLoss: 9.8046\n",
      "Epoch 84/100\n",
      "4060/4060 [==============================] - 19s 5ms/step - loss: 0.0117 - mean_squared_error: 0.0014 - root_mean_squared_error: 0.0380 - mean_absolute_error: 0.0117 - noiseToSignalLoss: 8.9603 - val_loss: 0.0118 - val_mean_squared_error: 0.0015 - val_root_mean_squared_error: 0.0390 - val_mean_absolute_error: 0.0118 - val_noiseToSignalLoss: 10.0535\n",
      "Epoch 85/100\n",
      "4060/4060 [==============================] - 19s 5ms/step - loss: 0.0117 - mean_squared_error: 0.0014 - root_mean_squared_error: 0.0380 - mean_absolute_error: 0.0117 - noiseToSignalLoss: 9.0357 - val_loss: 0.0119 - val_mean_squared_error: 0.0016 - val_root_mean_squared_error: 0.0394 - val_mean_absolute_error: 0.0119 - val_noiseToSignalLoss: 9.8332\n",
      "Epoch 86/100\n",
      "4060/4060 [==============================] - 19s 5ms/step - loss: 0.0117 - mean_squared_error: 0.0014 - root_mean_squared_error: 0.0379 - mean_absolute_error: 0.0117 - noiseToSignalLoss: 9.2179 - val_loss: 0.0118 - val_mean_squared_error: 0.0015 - val_root_mean_squared_error: 0.0391 - val_mean_absolute_error: 0.0118 - val_noiseToSignalLoss: 8.6514\n",
      "Epoch 87/100\n",
      "4060/4060 [==============================] - 18s 5ms/step - loss: 0.0117 - mean_squared_error: 0.0014 - root_mean_squared_error: 0.0379 - mean_absolute_error: 0.0117 - noiseToSignalLoss: 9.0930 - val_loss: 0.0118 - val_mean_squared_error: 0.0015 - val_root_mean_squared_error: 0.0388 - val_mean_absolute_error: 0.0118 - val_noiseToSignalLoss: 10.7222\n",
      "Epoch 88/100\n",
      "4060/4060 [==============================] - 19s 5ms/step - loss: 0.0117 - mean_squared_error: 0.0014 - root_mean_squared_error: 0.0379 - mean_absolute_error: 0.0117 - noiseToSignalLoss: 8.9489 - val_loss: 0.0118 - val_mean_squared_error: 0.0015 - val_root_mean_squared_error: 0.0388 - val_mean_absolute_error: 0.0118 - val_noiseToSignalLoss: 10.5662\n",
      "Epoch 89/100\n",
      "4060/4060 [==============================] - 19s 5ms/step - loss: 0.0116 - mean_squared_error: 0.0014 - root_mean_squared_error: 0.0379 - mean_absolute_error: 0.0116 - noiseToSignalLoss: 8.9432 - val_loss: 0.0118 - val_mean_squared_error: 0.0015 - val_root_mean_squared_error: 0.0389 - val_mean_absolute_error: 0.0118 - val_noiseToSignalLoss: 9.7965\n",
      "Epoch 90/100\n",
      "4060/4060 [==============================] - 19s 5ms/step - loss: 0.0116 - mean_squared_error: 0.0014 - root_mean_squared_error: 0.0379 - mean_absolute_error: 0.0116 - noiseToSignalLoss: 8.8866 - val_loss: 0.0119 - val_mean_squared_error: 0.0015 - val_root_mean_squared_error: 0.0390 - val_mean_absolute_error: 0.0119 - val_noiseToSignalLoss: 10.0197\n",
      "Epoch 91/100\n",
      "4060/4060 [==============================] - 19s 5ms/step - loss: 0.0116 - mean_squared_error: 0.0014 - root_mean_squared_error: 0.0378 - mean_absolute_error: 0.0116 - noiseToSignalLoss: 8.8871 - val_loss: 0.0118 - val_mean_squared_error: 0.0015 - val_root_mean_squared_error: 0.0389 - val_mean_absolute_error: 0.0118 - val_noiseToSignalLoss: 9.8731\n",
      "Epoch 92/100\n",
      "4060/4060 [==============================] - 19s 5ms/step - loss: 0.0116 - mean_squared_error: 0.0014 - root_mean_squared_error: 0.0378 - mean_absolute_error: 0.0116 - noiseToSignalLoss: 8.9789 - val_loss: 0.0118 - val_mean_squared_error: 0.0015 - val_root_mean_squared_error: 0.0390 - val_mean_absolute_error: 0.0118 - val_noiseToSignalLoss: 9.3545\n",
      "Epoch 93/100\n",
      "4060/4060 [==============================] - 19s 5ms/step - loss: 0.0116 - mean_squared_error: 0.0014 - root_mean_squared_error: 0.0378 - mean_absolute_error: 0.0116 - noiseToSignalLoss: 8.7224 - val_loss: 0.0118 - val_mean_squared_error: 0.0015 - val_root_mean_squared_error: 0.0389 - val_mean_absolute_error: 0.0118 - val_noiseToSignalLoss: 8.7139\n",
      "Epoch 94/100\n",
      "4060/4060 [==============================] - 19s 5ms/step - loss: 0.0116 - mean_squared_error: 0.0014 - root_mean_squared_error: 0.0377 - mean_absolute_error: 0.0116 - noiseToSignalLoss: 8.8547 - val_loss: 0.0118 - val_mean_squared_error: 0.0015 - val_root_mean_squared_error: 0.0388 - val_mean_absolute_error: 0.0118 - val_noiseToSignalLoss: 10.2010\n",
      "Epoch 95/100\n",
      "4060/4060 [==============================] - 20s 5ms/step - loss: 0.0116 - mean_squared_error: 0.0014 - root_mean_squared_error: 0.0377 - mean_absolute_error: 0.0116 - noiseToSignalLoss: 8.8151 - val_loss: 0.0118 - val_mean_squared_error: 0.0015 - val_root_mean_squared_error: 0.0389 - val_mean_absolute_error: 0.0118 - val_noiseToSignalLoss: 9.2068\n",
      "Epoch 96/100\n",
      "4060/4060 [==============================] - 19s 5ms/step - loss: 0.0116 - mean_squared_error: 0.0014 - root_mean_squared_error: 0.0377 - mean_absolute_error: 0.0116 - noiseToSignalLoss: 9.0064 - val_loss: 0.0119 - val_mean_squared_error: 0.0016 - val_root_mean_squared_error: 0.0396 - val_mean_absolute_error: 0.0119 - val_noiseToSignalLoss: 8.1902\n",
      "Epoch 97/100\n",
      "4060/4060 [==============================] - 19s 5ms/step - loss: 0.0116 - mean_squared_error: 0.0014 - root_mean_squared_error: 0.0377 - mean_absolute_error: 0.0116 - noiseToSignalLoss: 8.7317 - val_loss: 0.0117 - val_mean_squared_error: 0.0015 - val_root_mean_squared_error: 0.0385 - val_mean_absolute_error: 0.0117 - val_noiseToSignalLoss: 9.6852\n",
      "Epoch 98/100\n",
      "4060/4060 [==============================] - 19s 5ms/step - loss: 0.0116 - mean_squared_error: 0.0014 - root_mean_squared_error: 0.0376 - mean_absolute_error: 0.0116 - noiseToSignalLoss: 8.8527 - val_loss: 0.0119 - val_mean_squared_error: 0.0015 - val_root_mean_squared_error: 0.0390 - val_mean_absolute_error: 0.0119 - val_noiseToSignalLoss: 10.8472\n",
      "Epoch 99/100\n",
      "4060/4060 [==============================] - 19s 5ms/step - loss: 0.0116 - mean_squared_error: 0.0014 - root_mean_squared_error: 0.0377 - mean_absolute_error: 0.0116 - noiseToSignalLoss: 8.6632 - val_loss: 0.0118 - val_mean_squared_error: 0.0015 - val_root_mean_squared_error: 0.0389 - val_mean_absolute_error: 0.0118 - val_noiseToSignalLoss: 10.7403\n",
      "Epoch 100/100\n",
      "4060/4060 [==============================] - 19s 5ms/step - loss: 0.0116 - mean_squared_error: 0.0014 - root_mean_squared_error: 0.0376 - mean_absolute_error: 0.0116 - noiseToSignalLoss: 8.8561 - val_loss: 0.0118 - val_mean_squared_error: 0.0015 - val_root_mean_squared_error: 0.0390 - val_mean_absolute_error: 0.0118 - val_noiseToSignalLoss: 10.1720\n",
      "16038/16038 [==============================] - 45s 3ms/step - loss: 0.0096 - mean_squared_error: 9.2555e-04 - root_mean_squared_error: 0.0304 - mean_absolute_error: 0.0096 - noiseToSignalLoss: 8.1266\n"
     ]
    },
    {
     "output_type": "execute_result",
     "data": {
      "text/plain": [
       "[0.009634212590754032,\n",
       " 0.000925548083614558,\n",
       " 0.030422821640968323,\n",
       " 0.009634212590754032,\n",
       " 8.126571655273438]"
      ]
     },
     "metadata": {},
     "execution_count": 41
    }
   ]
  },
  {
   "cell_type": "code",
   "source": [
    "from sklearn.metrics import mean_absolute_error"
   ],
   "metadata": {
    "id": "KEECl0XvQnEj",
    "pycharm": {
     "name": "#%%\n"
    }
   },
   "execution_count": null,
   "outputs": []
  },
  {
   "cell_type": "code",
   "source": [
    "# get mean predicted values\n",
    "\n",
    "pred_1 = model_1.predict(test_X)\n",
    "pred_2 = model_2.predict(test_X)\n",
    "pred_3 = model_3.predict(test_X)\n",
    "pred_4 = model_4.predict(test_X)\n",
    "\n",
    "\n",
    "mean_pred = np.mean(np.array([pred_1, pred_2, pred_3, pred_4]), axis=0 )\n",
    "\n",
    "mae = mean_absolute_error(test_Y, mean_pred)\n",
    "\n",
    "print(mae)"
   ],
   "metadata": {
    "colab": {
     "base_uri": "https://localhost:8080/"
    },
    "id": "Un7yqzuXQAer",
    "outputId": "e8495238-bcbf-4e79-bc32-2f216e617299",
    "pycharm": {
     "name": "#%%\n"
    }
   },
   "execution_count": null,
   "outputs": [
    {
     "output_type": "stream",
     "name": "stdout",
     "text": [
      "0.00953422086092017\n"
     ]
    }
   ]
  },
  {
   "cell_type": "code",
   "source": [
    "os.chdir('/content/drive/MyDrive/BA/savedModel')\n",
    "!mkdir ensemble\n",
    "\n",
    "model_1.save('ensemble/ff_ensemble_1')\n",
    "model_2.save('ensemble/ff_ensemble_2')\n",
    "model_3.save('ensemble/ff_ensemble_3')\n",
    "model_4.save('ensemble/ff_ensemble_4')\n",
    "\n",
    "tfjs.converters.convert_tf_saved_model('./ensemble/ff_ensemble_1', './ensemble/tfjs_ff_ensemble_1')\n",
    "tfjs.converters.convert_tf_saved_model('./ensemble/ff_ensemble_2', './ensemble/tfjs_ff_ensemble_2')\n",
    "tfjs.converters.convert_tf_saved_model('./ensemble/ff_ensemble_3', './ensemble/tfjs_ff_ensemble_3')\n",
    "tfjs.converters.convert_tf_saved_model('./ensemble/ff_ensemble_4', './ensemble/tfjs_ff_ensemble_4')"
   ],
   "metadata": {
    "colab": {
     "base_uri": "https://localhost:8080/"
    },
    "id": "SFd4OVZkpZuy",
    "outputId": "ac8026b5-aed2-4e11-aed8-9b67dce38735",
    "pycharm": {
     "name": "#%%\n"
    }
   },
   "execution_count": null,
   "outputs": [
    {
     "output_type": "stream",
     "name": "stdout",
     "text": [
      "mkdir: cannot create directory ‘ensemble’: File exists\n",
      "INFO:tensorflow:Assets written to: ensemble/ff_ensemble_1/assets\n",
      "INFO:tensorflow:Assets written to: ensemble/ff_ensemble_2/assets\n",
      "INFO:tensorflow:Assets written to: ensemble/ff_ensemble_3/assets\n",
      "INFO:tensorflow:Assets written to: ensemble/ff_ensemble_4/assets\n",
      "Writing weight file ./ensemble/tfjs_ff_ensemble_1/model.json...\n",
      "Writing weight file ./ensemble/tfjs_ff_ensemble_2/model.json...\n",
      "Writing weight file ./ensemble/tfjs_ff_ensemble_3/model.json...\n",
      "Writing weight file ./ensemble/tfjs_ff_ensemble_4/model.json...\n"
     ]
    }
   ]
  }
 ],
 "metadata": {
  "kernelspec": {
   "display_name": "Python 3",
   "language": "python",
   "name": "python3"
  },
  "language_info": {
   "codemirror_mode": {
    "name": "ipython",
    "version": 2
   },
   "file_extension": ".py",
   "mimetype": "text/x-python",
   "name": "python",
   "nbconvert_exporter": "python",
   "pygments_lexer": "ipython2",
   "version": "2.7.6"
  },
  "colab": {
   "provenance": [],
   "collapsed_sections": []
  },
  "accelerator": "GPU",
  "gpuClass": "standard"
 },
 "nbformat": 4,
 "nbformat_minor": 0
}