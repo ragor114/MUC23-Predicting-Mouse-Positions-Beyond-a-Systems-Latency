{
 "cells": [
  {
   "cell_type": "code",
   "source": [
    "!pip install optuna"
   ],
   "metadata": {
    "colab": {
     "base_uri": "https://localhost:8080/"
    },
    "id": "dk-Vi7Z6hoA6",
    "outputId": "a276479b-2493-4273-dfc2-7f8dd01f4c0a",
    "pycharm": {
     "name": "#%%\n"
    }
   },
   "execution_count": null,
   "outputs": [
    {
     "output_type": "stream",
     "name": "stdout",
     "text": [
      "Looking in indexes: https://pypi.org/simple, https://us-python.pkg.dev/colab-wheels/public/simple/\n",
      "Collecting optuna\n",
      "  Downloading optuna-2.10.1-py3-none-any.whl (308 kB)\n",
      "\u001B[K     |████████████████████████████████| 308 kB 12.6 MB/s \n",
      "\u001B[?25hRequirement already satisfied: tqdm in /usr/local/lib/python3.7/dist-packages (from optuna) (4.64.0)\n",
      "Collecting colorlog\n",
      "  Downloading colorlog-6.6.0-py2.py3-none-any.whl (11 kB)\n",
      "Requirement already satisfied: scipy!=1.4.0 in /usr/local/lib/python3.7/dist-packages (from optuna) (1.4.1)\n",
      "Collecting alembic\n",
      "  Downloading alembic-1.8.0-py3-none-any.whl (209 kB)\n",
      "\u001B[K     |████████████████████████████████| 209 kB 89.4 MB/s \n",
      "\u001B[?25hRequirement already satisfied: PyYAML in /usr/local/lib/python3.7/dist-packages (from optuna) (3.13)\n",
      "Requirement already satisfied: sqlalchemy>=1.1.0 in /usr/local/lib/python3.7/dist-packages (from optuna) (1.4.37)\n",
      "Collecting cmaes>=0.8.2\n",
      "  Downloading cmaes-0.8.2-py3-none-any.whl (15 kB)\n",
      "Requirement already satisfied: numpy in /usr/local/lib/python3.7/dist-packages (from optuna) (1.21.6)\n",
      "Collecting cliff\n",
      "  Downloading cliff-3.10.1-py3-none-any.whl (81 kB)\n",
      "\u001B[K     |████████████████████████████████| 81 kB 10.3 MB/s \n",
      "\u001B[?25hRequirement already satisfied: packaging>=20.0 in /usr/local/lib/python3.7/dist-packages (from optuna) (21.3)\n",
      "Requirement already satisfied: pyparsing!=3.0.5,>=2.0.2 in /usr/local/lib/python3.7/dist-packages (from packaging>=20.0->optuna) (3.0.9)\n",
      "Requirement already satisfied: importlib-metadata in /usr/local/lib/python3.7/dist-packages (from sqlalchemy>=1.1.0->optuna) (4.11.4)\n",
      "Requirement already satisfied: greenlet!=0.4.17 in /usr/local/lib/python3.7/dist-packages (from sqlalchemy>=1.1.0->optuna) (1.1.2)\n",
      "Requirement already satisfied: importlib-resources in /usr/local/lib/python3.7/dist-packages (from alembic->optuna) (5.7.1)\n",
      "Collecting Mako\n",
      "  Downloading Mako-1.2.0-py3-none-any.whl (78 kB)\n",
      "\u001B[K     |████████████████████████████████| 78 kB 7.0 MB/s \n",
      "\u001B[?25hRequirement already satisfied: PrettyTable>=0.7.2 in /usr/local/lib/python3.7/dist-packages (from cliff->optuna) (3.3.0)\n",
      "Collecting stevedore>=2.0.1\n",
      "  Downloading stevedore-3.5.0-py3-none-any.whl (49 kB)\n",
      "\u001B[K     |████████████████████████████████| 49 kB 4.2 MB/s \n",
      "\u001B[?25hCollecting pbr!=2.1.0,>=2.0.0\n",
      "  Downloading pbr-5.9.0-py2.py3-none-any.whl (112 kB)\n",
      "\u001B[K     |████████████████████████████████| 112 kB 60.7 MB/s \n",
      "\u001B[?25hCollecting autopage>=0.4.0\n",
      "  Downloading autopage-0.5.1-py3-none-any.whl (29 kB)\n",
      "Collecting cmd2>=1.0.0\n",
      "  Downloading cmd2-2.4.1-py3-none-any.whl (146 kB)\n",
      "\u001B[K     |████████████████████████████████| 146 kB 72.8 MB/s \n",
      "\u001B[?25hRequirement already satisfied: attrs>=16.3.0 in /usr/local/lib/python3.7/dist-packages (from cmd2>=1.0.0->cliff->optuna) (21.4.0)\n",
      "Requirement already satisfied: typing-extensions in /usr/local/lib/python3.7/dist-packages (from cmd2>=1.0.0->cliff->optuna) (4.1.1)\n",
      "Requirement already satisfied: wcwidth>=0.1.7 in /usr/local/lib/python3.7/dist-packages (from cmd2>=1.0.0->cliff->optuna) (0.2.5)\n",
      "Collecting pyperclip>=1.6\n",
      "  Downloading pyperclip-1.8.2.tar.gz (20 kB)\n",
      "Requirement already satisfied: zipp>=0.5 in /usr/local/lib/python3.7/dist-packages (from importlib-metadata->sqlalchemy>=1.1.0->optuna) (3.8.0)\n",
      "Requirement already satisfied: MarkupSafe>=0.9.2 in /usr/local/lib/python3.7/dist-packages (from Mako->alembic->optuna) (2.0.1)\n",
      "Building wheels for collected packages: pyperclip\n",
      "  Building wheel for pyperclip (setup.py) ... \u001B[?25l\u001B[?25hdone\n",
      "  Created wheel for pyperclip: filename=pyperclip-1.8.2-py3-none-any.whl size=11137 sha256=de9625618f87f076cb54ace8ab820d07071b6e17d844e24b5f6bb88ab3746758\n",
      "  Stored in directory: /root/.cache/pip/wheels/9f/18/84/8f69f8b08169c7bae2dde6bd7daf0c19fca8c8e500ee620a28\n",
      "Successfully built pyperclip\n",
      "Installing collected packages: pyperclip, pbr, stevedore, Mako, cmd2, autopage, colorlog, cmaes, cliff, alembic, optuna\n",
      "Successfully installed Mako-1.2.0 alembic-1.8.0 autopage-0.5.1 cliff-3.10.1 cmaes-0.8.2 cmd2-2.4.1 colorlog-6.6.0 optuna-2.10.1 pbr-5.9.0 pyperclip-1.8.2 stevedore-3.5.0\n"
     ]
    }
   ]
  },
  {
   "cell_type": "code",
   "source": [
    "!nvidia-smi"
   ],
   "metadata": {
    "colab": {
     "base_uri": "https://localhost:8080/"
    },
    "id": "ZEJviNiCQovy",
    "outputId": "20053613-cde7-486a-b773-6068c5640d0c",
    "pycharm": {
     "name": "#%%\n"
    }
   },
   "execution_count": null,
   "outputs": [
    {
     "output_type": "stream",
     "name": "stdout",
     "text": [
      "Wed Jun 29 15:09:45 2022       \n",
      "+-----------------------------------------------------------------------------+\n",
      "| NVIDIA-SMI 460.32.03    Driver Version: 460.32.03    CUDA Version: 11.2     |\n",
      "|-------------------------------+----------------------+----------------------+\n",
      "| GPU  Name        Persistence-M| Bus-Id        Disp.A | Volatile Uncorr. ECC |\n",
      "| Fan  Temp  Perf  Pwr:Usage/Cap|         Memory-Usage | GPU-Util  Compute M. |\n",
      "|                               |                      |               MIG M. |\n",
      "|===============================+======================+======================|\n",
      "|   0  Tesla T4            Off  | 00000000:00:04.0 Off |                    0 |\n",
      "| N/A   36C    P8     9W /  70W |      0MiB / 15109MiB |      0%      Default |\n",
      "|                               |                      |                  N/A |\n",
      "+-------------------------------+----------------------+----------------------+\n",
      "                                                                               \n",
      "+-----------------------------------------------------------------------------+\n",
      "| Processes:                                                                  |\n",
      "|  GPU   GI   CI        PID   Type   Process name                  GPU Memory |\n",
      "|        ID   ID                                                   Usage      |\n",
      "|=============================================================================|\n",
      "|  No running processes found                                                 |\n",
      "+-----------------------------------------------------------------------------+\n"
     ]
    }
   ]
  },
  {
   "cell_type": "markdown",
   "source": [
    "# Load Data"
   ],
   "metadata": {
    "collapsed": false,
    "pycharm": {
     "name": "#%% md\n"
    },
    "id": "o56i7ae9fFdP"
   }
  },
  {
   "cell_type": "code",
   "source": [
    "# For Colab only!\n",
    "from google.colab import drive\n",
    "drive.mount('/content/drive')"
   ],
   "metadata": {
    "colab": {
     "base_uri": "https://localhost:8080/"
    },
    "id": "RXFvVOsBgOOJ",
    "outputId": "46aaf36a-2837-4442-854c-4455b89d0526",
    "pycharm": {
     "name": "#%%\n"
    }
   },
   "execution_count": null,
   "outputs": [
    {
     "output_type": "stream",
     "name": "stdout",
     "text": [
      "Mounted at /content/drive\n"
     ]
    }
   ]
  },
  {
   "cell_type": "code",
   "execution_count": null,
   "outputs": [],
   "source": [
    "import pandas as pd\n",
    "import os"
   ],
   "metadata": {
    "pycharm": {
     "name": "#%%\n"
    },
    "id": "I-8_w9FLfFdT"
   }
  },
  {
   "cell_type": "code",
   "execution_count": null,
   "outputs": [],
   "source": [
    "all_data = []\n",
    "if os.getcwd().split(\"\\\\\")[len(os.getcwd().split(\"\\\\\")) - 1] != \"data\":\n",
    "    os.chdir('/content/drive/MyDrive/BA/data')\n",
    "\n",
    "for f in os.listdir():\n",
    "    # print(f)\n",
    "    part_id = f.split(\"_\")[1].split(\".\")[0]\n",
    "    # print(part_id)\n",
    "    df = pd.read_csv(f, sep=\";\")\n",
    "    df[\"part_id\"] = part_id\n",
    "    all_data.append(df)"
   ],
   "metadata": {
    "pycharm": {
     "name": "#%%\n"
    },
    "id": "-BIUJ7BQRa0M"
   }
  },
  {
   "cell_type": "code",
   "execution_count": null,
   "outputs": [
    {
     "output_type": "stream",
     "name": "stdout",
     "text": [
      "60\n"
     ]
    },
    {
     "output_type": "execute_result",
     "data": {
      "text/plain": [
       "       timestamp  active  xPos  yPos  TargetX  StartX  TunnelAmplitude  \\\n",
       "0  1651594672586       0     0     0    356.5  1563.5             1207   \n",
       "1  1651594672604       0   976   929    356.5  1563.5             1207   \n",
       "2  1651594672620       0   976   929    356.5  1563.5             1207   \n",
       "3  1651594672631       0   976   929    356.5  1563.5             1207   \n",
       "4  1651594672653       0   976   929    356.5  1563.5             1207   \n",
       "\n",
       "   TunnelWidth  YDistanceToTop  YDistanceToBottom   part_id  \n",
       "0           45          -442.0              487.0  95528384  \n",
       "1           45           411.5             -366.5  95528384  \n",
       "2           45           411.5             -366.5  95528384  \n",
       "3           45           411.5             -366.5  95528384  \n",
       "4           45           411.5             -366.5  95528384  "
      ],
      "text/html": [
       "\n",
       "  <div id=\"df-d105b4d4-7d3b-43e8-b6bc-98d2f3868bc8\">\n",
       "    <div class=\"colab-df-container\">\n",
       "      <div>\n",
       "<style scoped>\n",
       "    .dataframe tbody tr th:only-of-type {\n",
       "        vertical-align: middle;\n",
       "    }\n",
       "\n",
       "    .dataframe tbody tr th {\n",
       "        vertical-align: top;\n",
       "    }\n",
       "\n",
       "    .dataframe thead th {\n",
       "        text-align: right;\n",
       "    }\n",
       "</style>\n",
       "<table border=\"1\" class=\"dataframe\">\n",
       "  <thead>\n",
       "    <tr style=\"text-align: right;\">\n",
       "      <th></th>\n",
       "      <th>timestamp</th>\n",
       "      <th>active</th>\n",
       "      <th>xPos</th>\n",
       "      <th>yPos</th>\n",
       "      <th>TargetX</th>\n",
       "      <th>StartX</th>\n",
       "      <th>TunnelAmplitude</th>\n",
       "      <th>TunnelWidth</th>\n",
       "      <th>YDistanceToTop</th>\n",
       "      <th>YDistanceToBottom</th>\n",
       "      <th>part_id</th>\n",
       "    </tr>\n",
       "  </thead>\n",
       "  <tbody>\n",
       "    <tr>\n",
       "      <th>0</th>\n",
       "      <td>1651594672586</td>\n",
       "      <td>0</td>\n",
       "      <td>0</td>\n",
       "      <td>0</td>\n",
       "      <td>356.5</td>\n",
       "      <td>1563.5</td>\n",
       "      <td>1207</td>\n",
       "      <td>45</td>\n",
       "      <td>-442.0</td>\n",
       "      <td>487.0</td>\n",
       "      <td>95528384</td>\n",
       "    </tr>\n",
       "    <tr>\n",
       "      <th>1</th>\n",
       "      <td>1651594672604</td>\n",
       "      <td>0</td>\n",
       "      <td>976</td>\n",
       "      <td>929</td>\n",
       "      <td>356.5</td>\n",
       "      <td>1563.5</td>\n",
       "      <td>1207</td>\n",
       "      <td>45</td>\n",
       "      <td>411.5</td>\n",
       "      <td>-366.5</td>\n",
       "      <td>95528384</td>\n",
       "    </tr>\n",
       "    <tr>\n",
       "      <th>2</th>\n",
       "      <td>1651594672620</td>\n",
       "      <td>0</td>\n",
       "      <td>976</td>\n",
       "      <td>929</td>\n",
       "      <td>356.5</td>\n",
       "      <td>1563.5</td>\n",
       "      <td>1207</td>\n",
       "      <td>45</td>\n",
       "      <td>411.5</td>\n",
       "      <td>-366.5</td>\n",
       "      <td>95528384</td>\n",
       "    </tr>\n",
       "    <tr>\n",
       "      <th>3</th>\n",
       "      <td>1651594672631</td>\n",
       "      <td>0</td>\n",
       "      <td>976</td>\n",
       "      <td>929</td>\n",
       "      <td>356.5</td>\n",
       "      <td>1563.5</td>\n",
       "      <td>1207</td>\n",
       "      <td>45</td>\n",
       "      <td>411.5</td>\n",
       "      <td>-366.5</td>\n",
       "      <td>95528384</td>\n",
       "    </tr>\n",
       "    <tr>\n",
       "      <th>4</th>\n",
       "      <td>1651594672653</td>\n",
       "      <td>0</td>\n",
       "      <td>976</td>\n",
       "      <td>929</td>\n",
       "      <td>356.5</td>\n",
       "      <td>1563.5</td>\n",
       "      <td>1207</td>\n",
       "      <td>45</td>\n",
       "      <td>411.5</td>\n",
       "      <td>-366.5</td>\n",
       "      <td>95528384</td>\n",
       "    </tr>\n",
       "  </tbody>\n",
       "</table>\n",
       "</div>\n",
       "      <button class=\"colab-df-convert\" onclick=\"convertToInteractive('df-d105b4d4-7d3b-43e8-b6bc-98d2f3868bc8')\"\n",
       "              title=\"Convert this dataframe to an interactive table.\"\n",
       "              style=\"display:none;\">\n",
       "        \n",
       "  <svg xmlns=\"http://www.w3.org/2000/svg\" height=\"24px\"viewBox=\"0 0 24 24\"\n",
       "       width=\"24px\">\n",
       "    <path d=\"M0 0h24v24H0V0z\" fill=\"none\"/>\n",
       "    <path d=\"M18.56 5.44l.94 2.06.94-2.06 2.06-.94-2.06-.94-.94-2.06-.94 2.06-2.06.94zm-11 1L8.5 8.5l.94-2.06 2.06-.94-2.06-.94L8.5 2.5l-.94 2.06-2.06.94zm10 10l.94 2.06.94-2.06 2.06-.94-2.06-.94-.94-2.06-.94 2.06-2.06.94z\"/><path d=\"M17.41 7.96l-1.37-1.37c-.4-.4-.92-.59-1.43-.59-.52 0-1.04.2-1.43.59L10.3 9.45l-7.72 7.72c-.78.78-.78 2.05 0 2.83L4 21.41c.39.39.9.59 1.41.59.51 0 1.02-.2 1.41-.59l7.78-7.78 2.81-2.81c.8-.78.8-2.07 0-2.86zM5.41 20L4 18.59l7.72-7.72 1.47 1.35L5.41 20z\"/>\n",
       "  </svg>\n",
       "      </button>\n",
       "      \n",
       "  <style>\n",
       "    .colab-df-container {\n",
       "      display:flex;\n",
       "      flex-wrap:wrap;\n",
       "      gap: 12px;\n",
       "    }\n",
       "\n",
       "    .colab-df-convert {\n",
       "      background-color: #E8F0FE;\n",
       "      border: none;\n",
       "      border-radius: 50%;\n",
       "      cursor: pointer;\n",
       "      display: none;\n",
       "      fill: #1967D2;\n",
       "      height: 32px;\n",
       "      padding: 0 0 0 0;\n",
       "      width: 32px;\n",
       "    }\n",
       "\n",
       "    .colab-df-convert:hover {\n",
       "      background-color: #E2EBFA;\n",
       "      box-shadow: 0px 1px 2px rgba(60, 64, 67, 0.3), 0px 1px 3px 1px rgba(60, 64, 67, 0.15);\n",
       "      fill: #174EA6;\n",
       "    }\n",
       "\n",
       "    [theme=dark] .colab-df-convert {\n",
       "      background-color: #3B4455;\n",
       "      fill: #D2E3FC;\n",
       "    }\n",
       "\n",
       "    [theme=dark] .colab-df-convert:hover {\n",
       "      background-color: #434B5C;\n",
       "      box-shadow: 0px 1px 3px 1px rgba(0, 0, 0, 0.15);\n",
       "      filter: drop-shadow(0px 1px 2px rgba(0, 0, 0, 0.3));\n",
       "      fill: #FFFFFF;\n",
       "    }\n",
       "  </style>\n",
       "\n",
       "      <script>\n",
       "        const buttonEl =\n",
       "          document.querySelector('#df-d105b4d4-7d3b-43e8-b6bc-98d2f3868bc8 button.colab-df-convert');\n",
       "        buttonEl.style.display =\n",
       "          google.colab.kernel.accessAllowed ? 'block' : 'none';\n",
       "\n",
       "        async function convertToInteractive(key) {\n",
       "          const element = document.querySelector('#df-d105b4d4-7d3b-43e8-b6bc-98d2f3868bc8');\n",
       "          const dataTable =\n",
       "            await google.colab.kernel.invokeFunction('convertToInteractive',\n",
       "                                                     [key], {});\n",
       "          if (!dataTable) return;\n",
       "\n",
       "          const docLinkHtml = 'Like what you see? Visit the ' +\n",
       "            '<a target=\"_blank\" href=https://colab.research.google.com/notebooks/data_table.ipynb>data table notebook</a>'\n",
       "            + ' to learn more about interactive tables.';\n",
       "          element.innerHTML = '';\n",
       "          dataTable['output_type'] = 'display_data';\n",
       "          await google.colab.output.renderOutput(dataTable, element);\n",
       "          const docLink = document.createElement('div');\n",
       "          docLink.innerHTML = docLinkHtml;\n",
       "          element.appendChild(docLink);\n",
       "        }\n",
       "      </script>\n",
       "    </div>\n",
       "  </div>\n",
       "  "
      ]
     },
     "metadata": {},
     "execution_count": 7
    }
   ],
   "source": [
    "print(len(all_data))\n",
    "all_data[0].head()"
   ],
   "metadata": {
    "pycharm": {
     "name": "#%%\n"
    },
    "colab": {
     "base_uri": "https://localhost:8080/",
     "height": 224
    },
    "id": "0a-7Jwl8Ra0P",
    "outputId": "fd066b2c-d0e6-438e-96cd-6526398c24f2"
   }
  },
  {
   "cell_type": "markdown",
   "source": [
    "# Preprocess Data"
   ],
   "metadata": {
    "collapsed": false,
    "pycharm": {
     "name": "#%% md\n"
    },
    "id": "vrEGgY7JRa0Q"
   }
  },
  {
   "cell_type": "markdown",
   "source": [
    "## Normalize by Participants Displaysize"
   ],
   "metadata": {
    "collapsed": false,
    "pycharm": {
     "name": "#%% md\n"
    },
    "id": "k4lvLGm9Ra0T"
   }
  },
  {
   "cell_type": "code",
   "execution_count": null,
   "outputs": [],
   "source": [
    "import copy"
   ],
   "metadata": {
    "pycharm": {
     "name": "#%%\n"
    },
    "id": "vQSq6YESRa0W"
   }
  },
  {
   "cell_type": "code",
   "execution_count": null,
   "outputs": [],
   "source": [
    "def normalize_by_screen(datapoint, screenwidth, screenheight):\n",
    "    normalized = copy.deepcopy(datapoint)\n",
    "    normalized[\"xPos\"] /= screenwidth\n",
    "    normalized[\"TargetX\"] /= screenwidth\n",
    "    normalized[\"StartX\"] /= screenwidth\n",
    "    normalized[\"TunnelAmplitude\"] /= screenwidth\n",
    "    normalized[\"yPos\"] /= screenheight\n",
    "    normalized[\"TunnelWidth\"] /= screenheight\n",
    "    normalized[\"YDistanceToTop\"] /= screenheight\n",
    "    normalized[\"YDistanceToBottom\"] /= screenheight\n",
    "    return normalized"
   ],
   "metadata": {
    "pycharm": {
     "name": "#%%\n"
    },
    "id": "weuy6LzcRa0X"
   }
  },
  {
   "cell_type": "code",
   "execution_count": null,
   "outputs": [],
   "source": [
    "def get_participants_screensize(datapoint):\n",
    "    x_res = -1\n",
    "    y_res = -1\n",
    "    # print(datapoint)\n",
    "    curr_part_id = datapoint[\"part_id\"][0]\n",
    "    # print(part_id)\n",
    "    for f in os.listdir():\n",
    "        curr_id = f.split(\"_\")[1].split(\".\")[0]\n",
    "        if curr_id == curr_part_id:\n",
    "            demographic = pd.read_csv(f, sep=\";\")\n",
    "            real_res_string = demographic[\"Real Res\"][0]\n",
    "            real_res_string = real_res_string.replace(\"px\", \"\")\n",
    "            x_res = real_res_string.split(\" x \")[0]\n",
    "            y_res = real_res_string.split(\" x \")[1]\n",
    "    return int(x_res), int(y_res)"
   ],
   "metadata": {
    "pycharm": {
     "name": "#%%\n"
    },
    "id": "METZK8CuRa0a"
   }
  },
  {
   "cell_type": "code",
   "execution_count": null,
   "outputs": [],
   "source": [
    "def normalize_screensize(dataset):\n",
    "    if os.getcwd().split(\"\\\\\")[len(os.getcwd().split(\"\\\\\")) - 1] != \"demographic_data\":\n",
    "        os.chdir(\"/content/drive/MyDrive/BA/demographic_data\")\n",
    "    for i, datapoint in enumerate(dataset):\n",
    "        screenwidth, screenheight = get_participants_screensize(datapoint)\n",
    "        dataset[i] = normalize_by_screen(datapoint, screenwidth, screenheight)"
   ],
   "metadata": {
    "pycharm": {
     "name": "#%%\n"
    },
    "id": "FkndMo5yRa0b"
   }
  },
  {
   "cell_type": "markdown",
   "source": [
    "## First Order Derivation\n",
    "The goal is to make the movement independent of the positions\n",
    "Therefore, xPos and yPos are converted to speeds by taking the first derivation"
   ],
   "metadata": {
    "collapsed": false,
    "pycharm": {
     "name": "#%% md\n"
    },
    "id": "7zINz_3PRa0d"
   }
  },
  {
   "cell_type": "code",
   "execution_count": null,
   "outputs": [],
   "source": [
    "def get_data_with_derivate(datapoint):\n",
    "    diffSeries = datapoint[\"xPos\"].diff(periods=1)\n",
    "    datapoint.insert(3, \"xSpeed\", diffSeries)\n",
    "    diffSeries = datapoint[\"yPos\"].diff(periods=1)\n",
    "    datapoint.insert(5, \"ySpeed\", diffSeries)"
   ],
   "metadata": {
    "pycharm": {
     "name": "#%%\n"
    },
    "id": "OGYZLJM7Ra0f"
   }
  },
  {
   "cell_type": "markdown",
   "source": [
    "## Umwandeln in Array"
   ],
   "metadata": {
    "collapsed": false,
    "pycharm": {
     "name": "#%% md\n"
    },
    "id": "Mr_bZv4jRa0h"
   }
  },
  {
   "cell_type": "code",
   "execution_count": null,
   "outputs": [],
   "source": [
    "import numpy as np"
   ],
   "metadata": {
    "pycharm": {
     "name": "#%%\n"
    },
    "id": "0CWbjoTWRa0i"
   }
  },
  {
   "cell_type": "code",
   "execution_count": null,
   "outputs": [],
   "source": [
    "def get_np_arrays(data):\n",
    "    data_array = []\n",
    "    for curr in data:\n",
    "        removed = copy.deepcopy(curr)\n",
    "        removed = removed.drop('timestamp', axis=1)\n",
    "        removed = removed.drop('xPos', axis=1)\n",
    "        removed = removed.drop('yPos', axis=1)\n",
    "        removed = removed.drop('part_id', axis=1)\n",
    "        data_array.append(removed.to_numpy(copy=True))\n",
    "    return data_array"
   ],
   "metadata": {
    "pycharm": {
     "name": "#%%\n"
    },
    "id": "58-atKtuRa0j"
   }
  },
  {
   "cell_type": "markdown",
   "source": [
    "## Split into sections of n samples"
   ],
   "metadata": {
    "collapsed": false,
    "pycharm": {
     "name": "#%% md\n"
    },
    "id": "86bGSEqyRa0k"
   }
  },
  {
   "cell_type": "code",
   "execution_count": null,
   "outputs": [],
   "source": [
    "def append_samples_of_length_n(participant_data, n, samples, labels, label_distance):\n",
    "    for i in range(participant_data.shape[0] - (n+label_distance)):\n",
    "        samples.append(copy.deepcopy(participant_data[i:i+n]))\n",
    "        sum_to_label = np.array([0,0], dtype='float64')\n",
    "        for j in range (i+n+1, i+n+label_distance):\n",
    "            sum_to_label += participant_data[j][1:3]\n",
    "        labels.append(copy.deepcopy(sum_to_label))\n",
    "        # labels.append(copy.deepcopy(participant_data[i+n+label_distance][1:3]))"
   ],
   "metadata": {
    "pycharm": {
     "name": "#%%\n"
    },
    "id": "SY8p21R6Ra0m"
   }
  },
  {
   "cell_type": "code",
   "execution_count": null,
   "outputs": [],
   "source": [
    "def get_samples_and_labels(data_array, N=10, label_distance=10):\n",
    "    samples = []\n",
    "    labels = []\n",
    "    for participant_data in data_array:\n",
    "        append_samples_of_length_n(participant_data, N, samples, labels, label_distance)\n",
    "    return samples, labels"
   ],
   "metadata": {
    "pycharm": {
     "name": "#%%\n"
    },
    "id": "4QJkYRQgRa0m"
   }
  },
  {
   "cell_type": "markdown",
   "source": [
    "## Remove unusable samples\n",
    "If in one sample all 10 xSpeeds and ySpeeds are equal the sample is removed, if between the last sample and the label the mouse isn't moved the sample is removed"
   ],
   "metadata": {
    "collapsed": false,
    "pycharm": {
     "name": "#%% md\n"
    },
    "id": "Zw8hjA6SRa0n"
   }
  },
  {
   "cell_type": "code",
   "execution_count": null,
   "outputs": [],
   "source": [
    "def remove_unusable(data, labels, verbose=0):\n",
    "    # print(labels)\n",
    "    new_data = []\n",
    "    new_labels = []\n",
    "    for i, sample in enumerate(data):\n",
    "        bool_array = np.all(sample == sample[0,:], axis=0)\n",
    "        if bool_array[1] == False or bool_array[2] == False:\n",
    "            if labels[i][0] != 0:\n",
    "                new_data.append(sample)\n",
    "                new_labels.append(labels[i])\n",
    "        if verbose > 1 and i % 100000 == 0:\n",
    "            print(f'evaluated {i}')\n",
    "\n",
    "    if verbose > 0:\n",
    "        print(f'removed {len(data) - len(new_data)} samples')\n",
    "\n",
    "    return new_data, new_labels"
   ],
   "metadata": {
    "pycharm": {
     "name": "#%%\n"
    },
    "id": "G_T9BcsURa0o"
   }
  },
  {
   "cell_type": "markdown",
   "source": [
    "## Make all Samples face the same way\n",
    "The average xSpeed is calculated, if this average is negative all xSpeeds are multiplied by one to make all vectors face in the same direction"
   ],
   "metadata": {
    "collapsed": false,
    "pycharm": {
     "name": "#%% md\n"
    },
    "id": "9W1cCJSQRa0o"
   }
  },
  {
   "cell_type": "code",
   "execution_count": null,
   "outputs": [],
   "source": [
    "def make_same_orientation(data, labels, verbose=0):\n",
    "    changed = 0\n",
    "    for i, sample in enumerate(data):\n",
    "        average_x_speed = np.average(sample, axis=0)[1]\n",
    "        if average_x_speed < 0:\n",
    "            sample[:, 1] *= -1\n",
    "            labels[i][0] *= -1\n",
    "            if verbose > 0:\n",
    "                changed += 1\n",
    "    if verbose > 0:\n",
    "        print(f'Changed {changed} samples')"
   ],
   "metadata": {
    "pycharm": {
     "name": "#%%\n"
    },
    "id": "xx7t-mLDRa0p"
   }
  },
  {
   "cell_type": "markdown",
   "source": [
    "## Transform a dataset"
   ],
   "metadata": {
    "collapsed": false,
    "pycharm": {
     "name": "#%% md\n"
    },
    "id": "iZhcLlXXRa0q"
   }
  },
  {
   "cell_type": "code",
   "execution_count": null,
   "outputs": [],
   "source": [
    "def get_transformed_data(dataset, N, label_distance, verbose):\n",
    "    normalize_screensize(dataset)\n",
    "\n",
    "    if'xSpeed' not in dataset[0].columns:\n",
    "        for datapoint in dataset:\n",
    "            get_data_with_derivate(datapoint)\n",
    "            datapoint.drop(index=0, axis=0, inplace=True)\n",
    "\n",
    "    data_array = get_np_arrays(dataset)\n",
    "\n",
    "    samples, labels = get_samples_and_labels(data_array, N, label_distance)\n",
    "\n",
    "    samples, labels = remove_unusable(samples, labels, verbose=verbose)\n",
    "\n",
    "    make_same_orientation(samples, labels, verbose=verbose)\n",
    "\n",
    "    return samples, labels"
   ],
   "metadata": {
    "pycharm": {
     "name": "#%%\n"
    },
    "id": "N25fjPc5Ra0q"
   }
  },
  {
   "cell_type": "markdown",
   "source": [
    "## Train-Test-Split\n",
    "Initially the entire dataset given in all_data are split into Test and Train group by participants, than the datasets are preprocessed in the same way"
   ],
   "metadata": {
    "collapsed": false,
    "pycharm": {
     "name": "#%% md\n"
    },
    "id": "sthPg4EeRa0q"
   }
  },
  {
   "cell_type": "code",
   "execution_count": null,
   "outputs": [],
   "source": [
    "TRAIN_SPLIT = 0.8\n",
    "TEST_SPLIT = 1.0 - TRAIN_SPLIT"
   ],
   "metadata": {
    "pycharm": {
     "name": "#%%\n"
    },
    "id": "-e0NepAyRa0r"
   }
  },
  {
   "cell_type": "code",
   "execution_count": null,
   "outputs": [],
   "source": [
    "import random as rand\n",
    "SEED = 27255"
   ],
   "metadata": {
    "pycharm": {
     "name": "#%%\n"
    },
    "id": "clDQAsRFRa0r"
   }
  },
  {
   "cell_type": "code",
   "execution_count": null,
   "outputs": [],
   "source": [
    "def get_train_test_split_data(dataset):\n",
    "    train_data_amount = 0.8 * len(dataset)\n",
    "\n",
    "    train_data = []\n",
    "    test_data = []\n",
    "\n",
    "    rand.seed(SEED)\n",
    "    train_indizes = rand.sample(range(len(dataset)), int(train_data_amount))\n",
    "    # print(train_indizes)\n",
    "\n",
    "    for i, sample in enumerate(dataset):\n",
    "        if i in train_indizes:\n",
    "            train_data.append(sample)\n",
    "        else:\n",
    "            test_data.append(sample)\n",
    "\n",
    "    # print(len(train_data))\n",
    "    # print(len(test_data))\n",
    "\n",
    "    return train_data, test_data"
   ],
   "metadata": {
    "pycharm": {
     "name": "#%%\n"
    },
    "id": "OQrsMfvgRa0r"
   }
  },
  {
   "cell_type": "markdown",
   "source": [
    "## Normalize Trainingdata\n",
    "The average column values of the training data is calculated, each value in test and training data is divided by the average of its column"
   ],
   "metadata": {
    "collapsed": false,
    "pycharm": {
     "name": "#%% md\n"
    },
    "id": "9zFZq6E9Ra0s"
   }
  },
  {
   "cell_type": "code",
   "execution_count": null,
   "outputs": [],
   "source": [
    "def get_average_array(arr, axis=(0,1)):\n",
    "    return np.mean(arr, axis=axis)"
   ],
   "metadata": {
    "pycharm": {
     "name": "#%%\n"
    },
    "id": "dO38uWBORa0t"
   }
  },
  {
   "cell_type": "code",
   "execution_count": null,
   "outputs": [],
   "source": [
    "def get_normalized_arrays(train_samples, train_labels, test_samples, test_labels):\n",
    "    #avg_array = get_average_array(train_samples)\n",
    "    #avg_label_array = get_average_array(train_labels, 0)\n",
    "\n",
    "    train_array = np.array(train_samples)\n",
    "    test_array = np.array(test_samples)\n",
    "    train_labels_array = np.array(train_labels)\n",
    "    test_labels_array = np.array(test_labels)\n",
    "\n",
    "    #train_normalized = train_array[:, :, ] / avg_array\n",
    "    #train_normalized[:, : , 0] = train_array[:, :, 0]\n",
    "    #train_normalized[:, :, 2] = train_array[:, :, 2]\n",
    "\n",
    "    #test_normalized = test_array[:, :, ] / avg_array\n",
    "    #test_normalized[:, :, 0] = test_array[:, :, 0]\n",
    "    #test_normalized[:, :, 2] = test_array[:, :, 2]\n",
    "\n",
    "    # train_labels_array[:, 0] /= avg_label_array[0:1] - averages are very low!\n",
    "\n",
    "    # test_labels_array[:, 0] /= avg_label_array[0:1]\n",
    "\n",
    "    return train_array, train_labels_array, test_array, test_labels_array"
   ],
   "metadata": {
    "pycharm": {
     "name": "#%%\n"
    },
    "id": "IZTyg2I1Ra0u"
   }
  },
  {
   "cell_type": "markdown",
   "source": [
    "## Shuffle Arrays"
   ],
   "metadata": {
    "collapsed": false,
    "pycharm": {
     "name": "#%% md\n"
    },
    "id": "xxAX3h8pRa0u"
   }
  },
  {
   "cell_type": "code",
   "execution_count": null,
   "outputs": [],
   "source": [
    "from sklearn.utils import shuffle"
   ],
   "metadata": {
    "pycharm": {
     "name": "#%%\n"
    },
    "id": "elzcacaeRa0v"
   }
  },
  {
   "cell_type": "code",
   "execution_count": null,
   "outputs": [],
   "source": [
    "VERBOSE = 1\n",
    "LABEL_DISTANCE = 6 # 6 => 100ms\n",
    "\n",
    "def get_preprocessed_data(N):\n",
    "    curr_data = copy.deepcopy(all_data)\n",
    "    train_data, test_data = get_train_test_split_data(curr_data)\n",
    "\n",
    "    train_samples, train_labels = get_transformed_data(train_data, N, LABEL_DISTANCE, 0)\n",
    "    test_samples, test_labels = get_transformed_data(test_data, N, LABEL_DISTANCE, 0)\n",
    "\n",
    "    train_samples, train_labels, test_samples, test_labels = get_normalized_arrays(train_samples, train_labels, test_samples, test_labels)\n",
    "\n",
    "    train_samples, train_labels = shuffle(train_samples, train_labels, random_state=SEED)\n",
    "    test_samples, test_labels = shuffle(test_samples, test_labels, random_state=SEED)\n",
    "\n",
    "    return train_samples, train_labels, test_samples, test_labels"
   ],
   "metadata": {
    "pycharm": {
     "name": "#%%\n"
    },
    "id": "slPtax1QRa0w"
   }
  },
  {
   "cell_type": "markdown",
   "source": [
    "# Hyperparameter Optimization"
   ],
   "metadata": {
    "collapsed": false,
    "pycharm": {
     "name": "#%% md\n"
    },
    "id": "0nPkqx7FRa0w"
   }
  },
  {
   "cell_type": "code",
   "execution_count": null,
   "outputs": [],
   "source": [
    "import tensorflow as tf\n",
    "from tensorflow import keras\n",
    "from keras import layers\n",
    "import optuna"
   ],
   "metadata": {
    "pycharm": {
     "name": "#%%\n"
    },
    "id": "NW03G_cvRa0x"
   }
  },
  {
   "cell_type": "code",
   "execution_count": null,
   "outputs": [],
   "source": [
    "OPTIMIZATION_SPLIT = 0.2\n",
    "NUMBER_OF_TRIALS = 100\n",
    "EPOCHS = 20"
   ],
   "metadata": {
    "pycharm": {
     "name": "#%%\n"
    },
    "id": "T-y0WJofRa0x"
   }
  },
  {
   "cell_type": "code",
   "source": [
    "def noiseToSignalLoss(y_true, y_pred):\n",
    "    losses = tf.math.divide(\n",
    "        tf.math.reduce_sum(\n",
    "            tf.math.pow(\n",
    "               tf.math.subtract(y_true, y_pred)\n",
    "            , 2)\n",
    "        , axis=-1),\n",
    "        tf.math.reduce_sum(\n",
    "            tf.math.pow(y_true, 2)\n",
    "        , axis=-1)\n",
    "    )\n",
    "\n",
    "    return tf.reduce_mean(losses, axis=-1)"
   ],
   "metadata": {
    "id": "kU70tiP5EwsY",
    "pycharm": {
     "name": "#%%\n"
    }
   },
   "execution_count": null,
   "outputs": []
  },
  {
   "cell_type": "markdown",
   "source": [
    "# Final Optimization - Dense for MAE"
   ],
   "metadata": {
    "id": "vT2HIz-kCSw2",
    "pycharm": {
     "name": "#%% md\n"
    }
   }
  },
  {
   "cell_type": "code",
   "source": [
    "def create_dataset(trial):\n",
    "    N = trial.suggest_int('sequence_length', 3, 7)\n",
    "\n",
    "    train_samples, train_labels, test_samples, test_labels = get_preprocessed_data(N)\n",
    "\n",
    "    highest_index_train = int(train_samples.shape[0] * OPTIMIZATION_SPLIT)\n",
    "    highest_index_test = int(test_samples.shape[0] * OPTIMIZATION_SPLIT)\n",
    "\n",
    "    train_samples = train_samples.reshape(train_samples.shape[0], train_samples.shape[1] * train_samples.shape[2])\n",
    "    test_samples = test_samples.reshape(test_samples.shape[0], test_samples.shape[1] * test_samples.shape[2])\n",
    "\n",
    "    return train_samples[:highest_index_train], train_labels[:highest_index_train], test_samples[:highest_index_test], test_labels[:highest_index_test]"
   ],
   "metadata": {
    "id": "yxG8glogCWEE",
    "pycharm": {
     "name": "#%%\n"
    }
   },
   "execution_count": null,
   "outputs": []
  },
  {
   "cell_type": "code",
   "source": [
    "def create_model(trial, train_X):\n",
    "    number_of_inputs = train_X.shape[1]\n",
    "\n",
    "    ff1_hidden_neurons = trial.suggest_int('ff1_hidden_neurons', 70, 250)\n",
    "    ff2_hidden_neurons = trial.suggest_int('ff2_hidden_neurons', 70, 250)\n",
    "    ff3_hidden_neurons = trial.suggest_int('ff3_hidden_neurons', 70, 250)\n",
    "    ff4_hidden_neurons = trial.suggest_int('ff4_hidden_neurons', 70, 250)\n",
    "    ff5_hidden_neurons = trial.suggest_int('ff5_hidden_neurons', 70, 250)\n",
    "    ff6_hidden_neurons = trial.suggest_int('ff6_hidden_neurons', 70, 250)\n",
    "    ff7_hidden_neurons = trial.suggest_int('ff7_hidden_neurons', 70, 250)\n",
    "    ff8_hidden_neurons = trial.suggest_int('ff8_hidden_neurons', 70, 250)\n",
    "    ff9_hidden_neurons = trial.suggest_int('ff9_hidden_neurons', 70, 250)\n",
    "    ff10_hidden_neurons = trial.suggest_int('ff10_hidden_neurons', 70, 250)\n",
    "    ff11_hidden_neurons = trial.suggest_int('ff11_hidden_neurons', 70, 250)\n",
    "    ff12_hidden_neurons = trial.suggest_int('ff12_hidden_neurons', 70, 250)\n",
    "    ff13_hidden_neurons = trial.suggest_int('ff13_hidden_neurons', 70, 250)\n",
    "    ff14_hidden_neurons = trial.suggest_int('ff14_hidden_neurons', 70, 250)\n",
    "    ff15_hidden_neurons = trial.suggest_int('ff15_hidden_neurons', 70, 250)\n",
    "    ff16_hidden_neurons = trial.suggest_int('ff16_hidden_neurons', 70, 250)\n",
    "    ff17_hidden_neurons = trial.suggest_int('ff17_hidden_neurons', 70, 250)\n",
    "\n",
    "    model = keras.Sequential()\n",
    "    model.add(\n",
    "        layers.Input(shape=(number_of_inputs, ))\n",
    "    )\n",
    "\n",
    "    model.add(\n",
    "        layers.Dense(ff1_hidden_neurons, activation='tanh')\n",
    "    )\n",
    "\n",
    "    model.add(\n",
    "        layers.Dense(ff2_hidden_neurons, activation='tanh')\n",
    "    )\n",
    "\n",
    "    model.add(\n",
    "        layers.Dense(ff3_hidden_neurons, activation='tanh')\n",
    "    )\n",
    "\n",
    "    model.add(\n",
    "        layers.Dense(ff4_hidden_neurons, activation='tanh')\n",
    "    )\n",
    "\n",
    "    model.add(\n",
    "        layers.Dense(ff5_hidden_neurons, activation='tanh')\n",
    "    )\n",
    "\n",
    "    model.add(\n",
    "        layers.Dense(ff6_hidden_neurons, activation='tanh')\n",
    "    )\n",
    "\n",
    "    model.add(\n",
    "        layers.Dense(ff7_hidden_neurons, activation='tanh')\n",
    "    )\n",
    "\n",
    "    model.add(\n",
    "        layers.Dense(ff8_hidden_neurons, activation='tanh')\n",
    "    )\n",
    "\n",
    "    model.add(\n",
    "        layers.Dense(ff9_hidden_neurons, activation='tanh')\n",
    "    )\n",
    "\n",
    "    model.add(\n",
    "        layers.Dense(ff10_hidden_neurons, activation='tanh')\n",
    "    )\n",
    "\n",
    "    model.add(\n",
    "        layers.Dense(ff11_hidden_neurons, activation='tanh')\n",
    "    )\n",
    "\n",
    "    model.add(\n",
    "        layers.Dense(ff12_hidden_neurons, activation='tanh')\n",
    "    )\n",
    "\n",
    "    model.add(\n",
    "        layers.Dense(ff13_hidden_neurons, activation='tanh')\n",
    "    )\n",
    "\n",
    "    model.add(\n",
    "        layers.Dense(ff14_hidden_neurons, activation='tanh')\n",
    "    )\n",
    "\n",
    "    model.add(\n",
    "        layers.Dense(ff15_hidden_neurons, activation='tanh')\n",
    "    )\n",
    "\n",
    "    model.add(\n",
    "        layers.Dense(ff16_hidden_neurons, activation='tanh')\n",
    "    )\n",
    "\n",
    "    model.add(\n",
    "        layers.Dense(ff17_hidden_neurons, activation='tanh')\n",
    "    )\n",
    "    \n",
    "    model.add(layers.Dropout(0.2296))\n",
    "\n",
    "    model.add(layers.Dense(2, activation='linear'))\n",
    "\n",
    "    return model"
   ],
   "metadata": {
    "id": "SmrRiIBECisW",
    "pycharm": {
     "name": "#%%\n"
    }
   },
   "execution_count": null,
   "outputs": []
  },
  {
   "cell_type": "code",
   "source": [
    "def objective(trial):\n",
    "    train_X, train_Y, test_X, test_Y = create_dataset(trial)\n",
    "    model = create_model(trial, train_X)\n",
    "\n",
    "    monitor = 'val_loss'\n",
    "\n",
    "    callbacks = [\n",
    "        # keras.callbacks.EarlyStopping(patience=10),\n",
    "        optuna.integration.TFKerasPruningCallback(trial, monitor),\n",
    "    ]\n",
    "\n",
    "    lr = trial.suggest_float('learning_rate', 1e-10, 1e-4, log=True)\n",
    "\n",
    "    model.compile(optimizer=keras.optimizers.Adam(learning_rate=lr), loss=keras.losses.MeanAbsoluteError(), metrics=[keras.metrics.MeanSquaredError(), keras.metrics.RootMeanSquaredError(), noiseToSignalLoss])\n",
    "\n",
    "    history = model.fit(train_X, train_Y, batch_size=382, validation_split=0.1, verbose=1, epochs=EPOCHS, callbacks=callbacks)\n",
    "\n",
    "    eval_results = model.evaluate(test_X, test_Y, batch_size=382)\n",
    "\n",
    "    return float(eval_results[0])"
   ],
   "metadata": {
    "id": "EMy7HRX6EA40",
    "pycharm": {
     "name": "#%%\n"
    }
   },
   "execution_count": null,
   "outputs": []
  },
  {
   "cell_type": "code",
   "source": [
    "study = optuna.create_study(direction='minimize', pruner=optuna.pruners.SuccessiveHalvingPruner(), sampler=optuna.samplers.TPESampler())\n",
    "\n",
    "study.optimize(objective, n_trials=NUMBER_OF_TRIALS)\n",
    "\n",
    "# show results\n",
    "pruned_trials = study.get_trials(states=[optuna.trial.TrialState.PRUNED])\n",
    "complete_trials = study.get_trials(states=[optuna.trial.TrialState.COMPLETE])\n",
    "\n",
    "print('Study statistics:')\n",
    "print('   Number of finished Trials: ', len(study.trials))\n",
    "print('   Number of pruned Trials: ', len(pruned_trials))\n",
    "print('   Number of complete Trials: ', len(complete_trials))\n",
    "\n",
    "print('Best Trial: ')\n",
    "trial = study.best_trial\n",
    "\n",
    "print('  MAE: ', trial.value)\n",
    "\n",
    "print('   Params: ')\n",
    "for key, value in trial.params.items():\n",
    "    print('   {}: {}'.format(key, value))"
   ],
   "metadata": {
    "colab": {
     "base_uri": "https://localhost:8080/"
    },
    "id": "G44bolliFEF7",
    "outputId": "d102e536-2c02-46f4-959c-4fc4b1dfc535",
    "pycharm": {
     "name": "#%%\n"
    }
   },
   "execution_count": null,
   "outputs": [
    {
     "output_type": "stream",
     "name": "stderr",
     "text": [
      "\u001B[32m[I 2022-06-29 15:33:58,407]\u001B[0m A new study created in memory with name: no-name-8c0ceb91-ddaf-49ad-8315-5a764dd1c82d\u001B[0m\n"
     ]
    },
    {
     "output_type": "stream",
     "name": "stdout",
     "text": [
      "Epoch 1/20\n",
      "800/800 [==============================] - 8s 5ms/step - loss: 0.0454 - mean_squared_error: 0.0048 - root_mean_squared_error: 0.0695 - noiseToSignalLoss: 527.1057 - val_loss: 0.0179 - val_mean_squared_error: 0.0021 - val_root_mean_squared_error: 0.0460 - val_noiseToSignalLoss: 38.4445\n",
      "Epoch 2/20\n",
      "800/800 [==============================] - 4s 5ms/step - loss: 0.0217 - mean_squared_error: 0.0022 - root_mean_squared_error: 0.0473 - noiseToSignalLoss: 65.2406 - val_loss: 0.0156 - val_mean_squared_error: 0.0020 - val_root_mean_squared_error: 0.0446 - val_noiseToSignalLoss: 22.3817\n",
      "Epoch 3/20\n",
      "800/800 [==============================] - 4s 5ms/step - loss: 0.0178 - mean_squared_error: 0.0020 - root_mean_squared_error: 0.0449 - noiseToSignalLoss: 34.9820 - val_loss: 0.0149 - val_mean_squared_error: 0.0020 - val_root_mean_squared_error: 0.0442 - val_noiseToSignalLoss: 17.9982\n",
      "Epoch 4/20\n",
      "800/800 [==============================] - 4s 5ms/step - loss: 0.0165 - mean_squared_error: 0.0019 - root_mean_squared_error: 0.0441 - noiseToSignalLoss: 27.5133 - val_loss: 0.0146 - val_mean_squared_error: 0.0019 - val_root_mean_squared_error: 0.0437 - val_noiseToSignalLoss: 21.2239\n",
      "Epoch 5/20\n",
      "800/800 [==============================] - 4s 5ms/step - loss: 0.0157 - mean_squared_error: 0.0019 - root_mean_squared_error: 0.0435 - noiseToSignalLoss: 24.3253 - val_loss: 0.0143 - val_mean_squared_error: 0.0019 - val_root_mean_squared_error: 0.0436 - val_noiseToSignalLoss: 17.1932\n",
      "Epoch 6/20\n",
      "800/800 [==============================] - 4s 5ms/step - loss: 0.0152 - mean_squared_error: 0.0019 - root_mean_squared_error: 0.0430 - noiseToSignalLoss: 23.7668 - val_loss: 0.0140 - val_mean_squared_error: 0.0019 - val_root_mean_squared_error: 0.0433 - val_noiseToSignalLoss: 17.6690\n",
      "Epoch 7/20\n",
      "800/800 [==============================] - 4s 5ms/step - loss: 0.0147 - mean_squared_error: 0.0018 - root_mean_squared_error: 0.0427 - noiseToSignalLoss: 23.4127 - val_loss: 0.0137 - val_mean_squared_error: 0.0018 - val_root_mean_squared_error: 0.0430 - val_noiseToSignalLoss: 18.3297\n",
      "Epoch 8/20\n",
      "800/800 [==============================] - 4s 5ms/step - loss: 0.0144 - mean_squared_error: 0.0018 - root_mean_squared_error: 0.0423 - noiseToSignalLoss: 25.0092 - val_loss: 0.0135 - val_mean_squared_error: 0.0018 - val_root_mean_squared_error: 0.0427 - val_noiseToSignalLoss: 20.6632\n",
      "Epoch 9/20\n",
      "800/800 [==============================] - 4s 5ms/step - loss: 0.0141 - mean_squared_error: 0.0018 - root_mean_squared_error: 0.0421 - noiseToSignalLoss: 25.5957 - val_loss: 0.0134 - val_mean_squared_error: 0.0018 - val_root_mean_squared_error: 0.0425 - val_noiseToSignalLoss: 20.7595\n",
      "Epoch 10/20\n",
      "800/800 [==============================] - 4s 5ms/step - loss: 0.0139 - mean_squared_error: 0.0018 - root_mean_squared_error: 0.0419 - noiseToSignalLoss: 26.9070 - val_loss: 0.0132 - val_mean_squared_error: 0.0018 - val_root_mean_squared_error: 0.0424 - val_noiseToSignalLoss: 20.7478\n",
      "Epoch 11/20\n",
      "800/800 [==============================] - 4s 5ms/step - loss: 0.0138 - mean_squared_error: 0.0017 - root_mean_squared_error: 0.0417 - noiseToSignalLoss: 28.3881 - val_loss: 0.0131 - val_mean_squared_error: 0.0018 - val_root_mean_squared_error: 0.0422 - val_noiseToSignalLoss: 21.0473\n",
      "Epoch 12/20\n",
      "800/800 [==============================] - 4s 5ms/step - loss: 0.0136 - mean_squared_error: 0.0017 - root_mean_squared_error: 0.0416 - noiseToSignalLoss: 28.4919 - val_loss: 0.0130 - val_mean_squared_error: 0.0018 - val_root_mean_squared_error: 0.0421 - val_noiseToSignalLoss: 21.0758\n",
      "Epoch 13/20\n",
      "800/800 [==============================] - 4s 5ms/step - loss: 0.0135 - mean_squared_error: 0.0017 - root_mean_squared_error: 0.0414 - noiseToSignalLoss: 28.9605 - val_loss: 0.0129 - val_mean_squared_error: 0.0018 - val_root_mean_squared_error: 0.0421 - val_noiseToSignalLoss: 18.9976\n",
      "Epoch 14/20\n",
      "800/800 [==============================] - 4s 5ms/step - loss: 0.0134 - mean_squared_error: 0.0017 - root_mean_squared_error: 0.0413 - noiseToSignalLoss: 28.6154 - val_loss: 0.0128 - val_mean_squared_error: 0.0018 - val_root_mean_squared_error: 0.0419 - val_noiseToSignalLoss: 20.6292\n",
      "Epoch 15/20\n",
      "800/800 [==============================] - 4s 5ms/step - loss: 0.0133 - mean_squared_error: 0.0017 - root_mean_squared_error: 0.0412 - noiseToSignalLoss: 28.4611 - val_loss: 0.0128 - val_mean_squared_error: 0.0017 - val_root_mean_squared_error: 0.0417 - val_noiseToSignalLoss: 20.3924\n",
      "Epoch 16/20\n",
      "800/800 [==============================] - 4s 5ms/step - loss: 0.0132 - mean_squared_error: 0.0017 - root_mean_squared_error: 0.0411 - noiseToSignalLoss: 28.4123 - val_loss: 0.0127 - val_mean_squared_error: 0.0017 - val_root_mean_squared_error: 0.0417 - val_noiseToSignalLoss: 19.6353\n",
      "Epoch 17/20\n",
      "800/800 [==============================] - 4s 5ms/step - loss: 0.0131 - mean_squared_error: 0.0017 - root_mean_squared_error: 0.0410 - noiseToSignalLoss: 28.2969 - val_loss: 0.0127 - val_mean_squared_error: 0.0017 - val_root_mean_squared_error: 0.0416 - val_noiseToSignalLoss: 18.9715\n",
      "Epoch 18/20\n",
      "800/800 [==============================] - 4s 5ms/step - loss: 0.0131 - mean_squared_error: 0.0017 - root_mean_squared_error: 0.0410 - noiseToSignalLoss: 27.9567 - val_loss: 0.0126 - val_mean_squared_error: 0.0017 - val_root_mean_squared_error: 0.0414 - val_noiseToSignalLoss: 20.0072\n",
      "Epoch 19/20\n",
      "800/800 [==============================] - 4s 5ms/step - loss: 0.0130 - mean_squared_error: 0.0017 - root_mean_squared_error: 0.0409 - noiseToSignalLoss: 27.4604 - val_loss: 0.0125 - val_mean_squared_error: 0.0017 - val_root_mean_squared_error: 0.0414 - val_noiseToSignalLoss: 18.8393\n",
      "Epoch 20/20\n",
      "800/800 [==============================] - 4s 5ms/step - loss: 0.0130 - mean_squared_error: 0.0017 - root_mean_squared_error: 0.0409 - noiseToSignalLoss: 28.0833 - val_loss: 0.0125 - val_mean_squared_error: 0.0017 - val_root_mean_squared_error: 0.0414 - val_noiseToSignalLoss: 18.3795\n",
      "265/265 [==============================] - 1s 3ms/step - loss: 0.0104 - mean_squared_error: 0.0011 - root_mean_squared_error: 0.0328 - noiseToSignalLoss: 15.8171\n"
     ]
    },
    {
     "output_type": "stream",
     "name": "stderr",
     "text": [
      "\u001B[32m[I 2022-06-29 15:38:10,726]\u001B[0m Trial 0 finished with value: 0.01036657951772213 and parameters: {'sequence_length': 7, 'ff1_hidden_neurons': 155, 'ff2_hidden_neurons': 173, 'ff3_hidden_neurons': 137, 'ff4_hidden_neurons': 89, 'ff5_hidden_neurons': 169, 'ff6_hidden_neurons': 90, 'ff7_hidden_neurons': 99, 'ff8_hidden_neurons': 96, 'ff9_hidden_neurons': 249, 'ff10_hidden_neurons': 167, 'ff11_hidden_neurons': 154, 'ff12_hidden_neurons': 217, 'ff13_hidden_neurons': 172, 'ff14_hidden_neurons': 233, 'ff15_hidden_neurons': 186, 'ff16_hidden_neurons': 70, 'ff17_hidden_neurons': 225, 'learning_rate': 9.233281220046108e-07}. Best is trial 0 with value: 0.01036657951772213.\u001B[0m\n"
     ]
    },
    {
     "output_type": "stream",
     "name": "stdout",
     "text": [
      "Epoch 1/20\n",
      "756/756 [==============================] - 5s 5ms/step - loss: 0.1048 - mean_squared_error: 0.0200 - root_mean_squared_error: 0.1415 - noiseToSignalLoss: 2780.5178 - val_loss: 0.0193 - val_mean_squared_error: 0.0022 - val_root_mean_squared_error: 0.0466 - val_noiseToSignalLoss: 71.5738\n",
      "Epoch 2/20\n",
      "756/756 [==============================] - 4s 5ms/step - loss: 0.0596 - mean_squared_error: 0.0067 - root_mean_squared_error: 0.0816 - noiseToSignalLoss: 775.8151 - val_loss: 0.0177 - val_mean_squared_error: 0.0021 - val_root_mean_squared_error: 0.0459 - val_noiseToSignalLoss: 52.4508\n",
      "Epoch 3/20\n",
      "756/756 [==============================] - 4s 5ms/step - loss: 0.0440 - mean_squared_error: 0.0042 - root_mean_squared_error: 0.0647 - noiseToSignalLoss: 378.7591 - val_loss: 0.0169 - val_mean_squared_error: 0.0021 - val_root_mean_squared_error: 0.0454 - val_noiseToSignalLoss: 38.3442\n",
      "Epoch 4/20\n",
      "756/756 [==============================] - 4s 6ms/step - loss: 0.0345 - mean_squared_error: 0.0031 - root_mean_squared_error: 0.0557 - noiseToSignalLoss: 205.4341 - val_loss: 0.0164 - val_mean_squared_error: 0.0020 - val_root_mean_squared_error: 0.0452 - val_noiseToSignalLoss: 29.3140\n",
      "Epoch 5/20\n",
      "756/756 [==============================] - 4s 5ms/step - loss: 0.0284 - mean_squared_error: 0.0026 - root_mean_squared_error: 0.0508 - noiseToSignalLoss: 124.2014 - val_loss: 0.0160 - val_mean_squared_error: 0.0020 - val_root_mean_squared_error: 0.0450 - val_noiseToSignalLoss: 26.6444\n",
      "Epoch 6/20\n",
      "756/756 [==============================] - 4s 5ms/step - loss: 0.0244 - mean_squared_error: 0.0023 - root_mean_squared_error: 0.0483 - noiseToSignalLoss: 80.2860 - val_loss: 0.0157 - val_mean_squared_error: 0.0020 - val_root_mean_squared_error: 0.0449 - val_noiseToSignalLoss: 23.8741\n",
      "Epoch 7/20\n",
      "756/756 [==============================] - 4s 5ms/step - loss: 0.0218 - mean_squared_error: 0.0022 - root_mean_squared_error: 0.0468 - noiseToSignalLoss: 58.4444 - val_loss: 0.0154 - val_mean_squared_error: 0.0020 - val_root_mean_squared_error: 0.0447 - val_noiseToSignalLoss: 22.6441\n",
      "Epoch 8/20\n",
      "756/756 [==============================] - 4s 5ms/step - loss: 0.0201 - mean_squared_error: 0.0021 - root_mean_squared_error: 0.0459 - noiseToSignalLoss: 44.9391 - val_loss: 0.0151 - val_mean_squared_error: 0.0020 - val_root_mean_squared_error: 0.0448 - val_noiseToSignalLoss: 19.7389\n",
      "Epoch 9/20\n",
      "756/756 [==============================] - 4s 5ms/step - loss: 0.0189 - mean_squared_error: 0.0021 - root_mean_squared_error: 0.0454 - noiseToSignalLoss: 37.2796 - val_loss: 0.0149 - val_mean_squared_error: 0.0020 - val_root_mean_squared_error: 0.0447 - val_noiseToSignalLoss: 18.7611\n",
      "Epoch 10/20\n",
      "756/756 [==============================] - 4s 5ms/step - loss: 0.0181 - mean_squared_error: 0.0020 - root_mean_squared_error: 0.0451 - noiseToSignalLoss: 33.0315 - val_loss: 0.0148 - val_mean_squared_error: 0.0020 - val_root_mean_squared_error: 0.0447 - val_noiseToSignalLoss: 16.9914\n",
      "Epoch 11/20\n",
      "756/756 [==============================] - 4s 5ms/step - loss: 0.0174 - mean_squared_error: 0.0020 - root_mean_squared_error: 0.0448 - noiseToSignalLoss: 29.1022 - val_loss: 0.0147 - val_mean_squared_error: 0.0020 - val_root_mean_squared_error: 0.0446 - val_noiseToSignalLoss: 16.8151\n",
      "Epoch 12/20\n",
      "756/756 [==============================] - 4s 5ms/step - loss: 0.0170 - mean_squared_error: 0.0020 - root_mean_squared_error: 0.0445 - noiseToSignalLoss: 26.4056 - val_loss: 0.0146 - val_mean_squared_error: 0.0020 - val_root_mean_squared_error: 0.0444 - val_noiseToSignalLoss: 16.4672\n",
      "Epoch 13/20\n",
      "756/756 [==============================] - 4s 5ms/step - loss: 0.0165 - mean_squared_error: 0.0020 - root_mean_squared_error: 0.0443 - noiseToSignalLoss: 24.4979 - val_loss: 0.0146 - val_mean_squared_error: 0.0020 - val_root_mean_squared_error: 0.0443 - val_noiseToSignalLoss: 16.5587\n",
      "Epoch 14/20\n",
      "756/756 [==============================] - 4s 5ms/step - loss: 0.0162 - mean_squared_error: 0.0019 - root_mean_squared_error: 0.0441 - noiseToSignalLoss: 23.5204 - val_loss: 0.0145 - val_mean_squared_error: 0.0020 - val_root_mean_squared_error: 0.0442 - val_noiseToSignalLoss: 16.0803\n",
      "Epoch 15/20\n",
      "756/756 [==============================] - 4s 5ms/step - loss: 0.0159 - mean_squared_error: 0.0019 - root_mean_squared_error: 0.0439 - noiseToSignalLoss: 22.0410 - val_loss: 0.0144 - val_mean_squared_error: 0.0020 - val_root_mean_squared_error: 0.0442 - val_noiseToSignalLoss: 14.6741\n",
      "Epoch 16/20\n",
      "756/756 [==============================] - 4s 5ms/step - loss: 0.0157 - mean_squared_error: 0.0019 - root_mean_squared_error: 0.0437 - noiseToSignalLoss: 21.7518 - val_loss: 0.0143 - val_mean_squared_error: 0.0019 - val_root_mean_squared_error: 0.0439 - val_noiseToSignalLoss: 15.7984\n",
      "Epoch 17/20\n",
      "756/756 [==============================] - 4s 5ms/step - loss: 0.0155 - mean_squared_error: 0.0019 - root_mean_squared_error: 0.0435 - noiseToSignalLoss: 20.7688 - val_loss: 0.0142 - val_mean_squared_error: 0.0019 - val_root_mean_squared_error: 0.0439 - val_noiseToSignalLoss: 14.1628\n",
      "Epoch 18/20\n",
      "756/756 [==============================] - 4s 5ms/step - loss: 0.0153 - mean_squared_error: 0.0019 - root_mean_squared_error: 0.0433 - noiseToSignalLoss: 20.1259 - val_loss: 0.0141 - val_mean_squared_error: 0.0019 - val_root_mean_squared_error: 0.0436 - val_noiseToSignalLoss: 15.7416\n",
      "Epoch 19/20\n",
      "756/756 [==============================] - 4s 5ms/step - loss: 0.0151 - mean_squared_error: 0.0019 - root_mean_squared_error: 0.0431 - noiseToSignalLoss: 20.1603 - val_loss: 0.0140 - val_mean_squared_error: 0.0019 - val_root_mean_squared_error: 0.0435 - val_noiseToSignalLoss: 15.5330\n",
      "Epoch 20/20\n",
      "756/756 [==============================] - 4s 5ms/step - loss: 0.0149 - mean_squared_error: 0.0018 - root_mean_squared_error: 0.0429 - noiseToSignalLoss: 19.7340 - val_loss: 0.0139 - val_mean_squared_error: 0.0019 - val_root_mean_squared_error: 0.0434 - val_noiseToSignalLoss: 14.6881\n",
      "250/250 [==============================] - 1s 3ms/step - loss: 0.0117 - mean_squared_error: 0.0011 - root_mean_squared_error: 0.0336 - noiseToSignalLoss: 14.6464\n"
     ]
    },
    {
     "output_type": "stream",
     "name": "stderr",
     "text": [
      "\u001B[32m[I 2022-06-29 15:41:16,290]\u001B[0m Trial 1 finished with value: 0.011651416309177876 and parameters: {'sequence_length': 3, 'ff1_hidden_neurons': 194, 'ff2_hidden_neurons': 115, 'ff3_hidden_neurons': 219, 'ff4_hidden_neurons': 101, 'ff5_hidden_neurons': 211, 'ff6_hidden_neurons': 98, 'ff7_hidden_neurons': 91, 'ff8_hidden_neurons': 99, 'ff9_hidden_neurons': 148, 'ff10_hidden_neurons': 217, 'ff11_hidden_neurons': 216, 'ff12_hidden_neurons': 159, 'ff13_hidden_neurons': 79, 'ff14_hidden_neurons': 206, 'ff15_hidden_neurons': 248, 'ff16_hidden_neurons': 169, 'ff17_hidden_neurons': 161, 'learning_rate': 2.567403779135952e-07}. Best is trial 0 with value: 0.01036657951772213.\u001B[0m\n"
     ]
    },
    {
     "output_type": "stream",
     "name": "stdout",
     "text": [
      "Epoch 1/20\n",
      "800/800 [==============================] - 5s 5ms/step - loss: 0.0486 - mean_squared_error: 0.0053 - root_mean_squared_error: 0.0726 - noiseToSignalLoss: 622.5375 - val_loss: 0.0195 - val_mean_squared_error: 0.0021 - val_root_mean_squared_error: 0.0458 - val_noiseToSignalLoss: 47.7092\n",
      "Epoch 2/20\n",
      "800/800 [==============================] - 4s 5ms/step - loss: 0.0252 - mean_squared_error: 0.0024 - root_mean_squared_error: 0.0493 - noiseToSignalLoss: 102.0791 - val_loss: 0.0168 - val_mean_squared_error: 0.0020 - val_root_mean_squared_error: 0.0452 - val_noiseToSignalLoss: 29.5901\n",
      "Epoch 3/20\n",
      "800/800 [==============================] - 4s 5ms/step - loss: 0.0208 - mean_squared_error: 0.0022 - root_mean_squared_error: 0.0470 - noiseToSignalLoss: 57.0236 - val_loss: 0.0158 - val_mean_squared_error: 0.0020 - val_root_mean_squared_error: 0.0449 - val_noiseToSignalLoss: 24.8915\n",
      "Epoch 4/20\n",
      "800/800 [==============================] - 4s 5ms/step - loss: 0.0188 - mean_squared_error: 0.0021 - root_mean_squared_error: 0.0460 - noiseToSignalLoss: 41.8017 - val_loss: 0.0154 - val_mean_squared_error: 0.0020 - val_root_mean_squared_error: 0.0448 - val_noiseToSignalLoss: 21.0743\n",
      "Epoch 5/20\n",
      "800/800 [==============================] - 4s 5ms/step - loss: 0.0177 - mean_squared_error: 0.0021 - root_mean_squared_error: 0.0454 - noiseToSignalLoss: 33.2671 - val_loss: 0.0152 - val_mean_squared_error: 0.0020 - val_root_mean_squared_error: 0.0445 - val_noiseToSignalLoss: 20.8392\n",
      "Epoch 6/20\n",
      "800/800 [==============================] - 4s 5ms/step - loss: 0.0170 - mean_squared_error: 0.0020 - root_mean_squared_error: 0.0450 - noiseToSignalLoss: 28.4555 - val_loss: 0.0149 - val_mean_squared_error: 0.0020 - val_root_mean_squared_error: 0.0443 - val_noiseToSignalLoss: 18.3051\n",
      "Epoch 7/20\n",
      "800/800 [==============================] - 4s 5ms/step - loss: 0.0165 - mean_squared_error: 0.0020 - root_mean_squared_error: 0.0446 - noiseToSignalLoss: 25.5750 - val_loss: 0.0147 - val_mean_squared_error: 0.0019 - val_root_mean_squared_error: 0.0440 - val_noiseToSignalLoss: 17.6964\n",
      "Epoch 8/20\n",
      "800/800 [==============================] - 4s 5ms/step - loss: 0.0161 - mean_squared_error: 0.0020 - root_mean_squared_error: 0.0442 - noiseToSignalLoss: 24.0064 - val_loss: 0.0145 - val_mean_squared_error: 0.0019 - val_root_mean_squared_error: 0.0438 - val_noiseToSignalLoss: 17.1279\n",
      "Epoch 9/20\n",
      "800/800 [==============================] - 4s 5ms/step - loss: 0.0157 - mean_squared_error: 0.0019 - root_mean_squared_error: 0.0439 - noiseToSignalLoss: 22.7870 - val_loss: 0.0143 - val_mean_squared_error: 0.0019 - val_root_mean_squared_error: 0.0435 - val_noiseToSignalLoss: 15.8101\n",
      "Epoch 10/20\n",
      "800/800 [==============================] - 4s 5ms/step - loss: 0.0154 - mean_squared_error: 0.0019 - root_mean_squared_error: 0.0435 - noiseToSignalLoss: 21.5810 - val_loss: 0.0141 - val_mean_squared_error: 0.0019 - val_root_mean_squared_error: 0.0432 - val_noiseToSignalLoss: 15.9716\n",
      "Epoch 11/20\n",
      "800/800 [==============================] - 4s 5ms/step - loss: 0.0151 - mean_squared_error: 0.0019 - root_mean_squared_error: 0.0431 - noiseToSignalLoss: 21.5261 - val_loss: 0.0140 - val_mean_squared_error: 0.0018 - val_root_mean_squared_error: 0.0427 - val_noiseToSignalLoss: 17.2884\n",
      "Epoch 12/20\n",
      "800/800 [==============================] - 4s 5ms/step - loss: 0.0148 - mean_squared_error: 0.0018 - root_mean_squared_error: 0.0428 - noiseToSignalLoss: 21.1633 - val_loss: 0.0138 - val_mean_squared_error: 0.0018 - val_root_mean_squared_error: 0.0426 - val_noiseToSignalLoss: 14.1221\n",
      "Epoch 13/20\n",
      "800/800 [==============================] - 4s 5ms/step - loss: 0.0146 - mean_squared_error: 0.0018 - root_mean_squared_error: 0.0425 - noiseToSignalLoss: 21.6939 - val_loss: 0.0136 - val_mean_squared_error: 0.0018 - val_root_mean_squared_error: 0.0422 - val_noiseToSignalLoss: 17.3979\n",
      "Epoch 14/20\n",
      "800/800 [==============================] - 4s 5ms/step - loss: 0.0144 - mean_squared_error: 0.0018 - root_mean_squared_error: 0.0421 - noiseToSignalLoss: 21.9854 - val_loss: 0.0135 - val_mean_squared_error: 0.0018 - val_root_mean_squared_error: 0.0420 - val_noiseToSignalLoss: 17.0810\n",
      "Epoch 15/20\n",
      "800/800 [==============================] - 4s 5ms/step - loss: 0.0142 - mean_squared_error: 0.0018 - root_mean_squared_error: 0.0419 - noiseToSignalLoss: 23.1838 - val_loss: 0.0133 - val_mean_squared_error: 0.0017 - val_root_mean_squared_error: 0.0418 - val_noiseToSignalLoss: 17.1458\n",
      "Epoch 16/20\n",
      "800/800 [==============================] - 4s 5ms/step - loss: 0.0140 - mean_squared_error: 0.0017 - root_mean_squared_error: 0.0417 - noiseToSignalLoss: 24.2800 - val_loss: 0.0132 - val_mean_squared_error: 0.0017 - val_root_mean_squared_error: 0.0416 - val_noiseToSignalLoss: 18.2336\n",
      "Epoch 17/20\n",
      "800/800 [==============================] - 4s 5ms/step - loss: 0.0139 - mean_squared_error: 0.0017 - root_mean_squared_error: 0.0416 - noiseToSignalLoss: 26.2140 - val_loss: 0.0131 - val_mean_squared_error: 0.0017 - val_root_mean_squared_error: 0.0416 - val_noiseToSignalLoss: 18.1090\n",
      "Epoch 18/20\n",
      "800/800 [==============================] - 4s 5ms/step - loss: 0.0138 - mean_squared_error: 0.0017 - root_mean_squared_error: 0.0415 - noiseToSignalLoss: 27.6320 - val_loss: 0.0130 - val_mean_squared_error: 0.0017 - val_root_mean_squared_error: 0.0416 - val_noiseToSignalLoss: 17.2936\n",
      "Epoch 19/20\n",
      "800/800 [==============================] - 4s 5ms/step - loss: 0.0137 - mean_squared_error: 0.0017 - root_mean_squared_error: 0.0414 - noiseToSignalLoss: 26.9518 - val_loss: 0.0130 - val_mean_squared_error: 0.0017 - val_root_mean_squared_error: 0.0414 - val_noiseToSignalLoss: 20.2742\n",
      "Epoch 20/20\n",
      "800/800 [==============================] - 4s 5ms/step - loss: 0.0136 - mean_squared_error: 0.0017 - root_mean_squared_error: 0.0414 - noiseToSignalLoss: 28.2763 - val_loss: 0.0129 - val_mean_squared_error: 0.0017 - val_root_mean_squared_error: 0.0414 - val_noiseToSignalLoss: 19.3693\n",
      "265/265 [==============================] - 1s 3ms/step - loss: 0.0108 - mean_squared_error: 0.0011 - root_mean_squared_error: 0.0333 - noiseToSignalLoss: 17.7881\n"
     ]
    },
    {
     "output_type": "stream",
     "name": "stderr",
     "text": [
      "\u001B[32m[I 2022-06-29 15:45:27,600]\u001B[0m Trial 2 finished with value: 0.010819125920534134 and parameters: {'sequence_length': 7, 'ff1_hidden_neurons': 92, 'ff2_hidden_neurons': 181, 'ff3_hidden_neurons': 98, 'ff4_hidden_neurons': 142, 'ff5_hidden_neurons': 237, 'ff6_hidden_neurons': 151, 'ff7_hidden_neurons': 74, 'ff8_hidden_neurons': 193, 'ff9_hidden_neurons': 191, 'ff10_hidden_neurons': 97, 'ff11_hidden_neurons': 133, 'ff12_hidden_neurons': 103, 'ff13_hidden_neurons': 174, 'ff14_hidden_neurons': 144, 'ff15_hidden_neurons': 81, 'ff16_hidden_neurons': 176, 'ff17_hidden_neurons': 242, 'learning_rate': 7.08988790798772e-07}. Best is trial 0 with value: 0.01036657951772213.\u001B[0m\n"
     ]
    },
    {
     "output_type": "stream",
     "name": "stdout",
     "text": [
      "Epoch 1/20\n",
      "774/774 [==============================] - 5s 5ms/step - loss: 0.1279 - mean_squared_error: 0.0260 - root_mean_squared_error: 0.1613 - noiseToSignalLoss: 3215.5349 - val_loss: 0.0869 - val_mean_squared_error: 0.0134 - val_root_mean_squared_error: 0.1159 - val_noiseToSignalLoss: 1300.6333\n",
      "Epoch 2/20\n",
      "771/774 [============================>.] - ETA: 0s - loss: 0.1068 - mean_squared_error: 0.0187 - root_mean_squared_error: 0.1368 - noiseToSignalLoss: 2253.5750"
     ]
    },
    {
     "output_type": "stream",
     "name": "stderr",
     "text": [
      "\u001B[32m[I 2022-06-29 15:47:23,243]\u001B[0m Trial 3 pruned. Trial was pruned at epoch 1.\u001B[0m\n"
     ]
    },
    {
     "output_type": "stream",
     "name": "stdout",
     "text": [
      "Epoch 1/20\n",
      "800/800 [==============================] - 5s 6ms/step - loss: 0.1595 - mean_squared_error: 0.0421 - root_mean_squared_error: 0.2052 - noiseToSignalLoss: 6284.1226 - val_loss: 0.1032 - val_mean_squared_error: 0.0201 - val_root_mean_squared_error: 0.1416 - val_noiseToSignalLoss: 2655.6934\n",
      "Epoch 2/20\n",
      "790/800 [============================>.] - ETA: 0s - loss: 0.0963 - mean_squared_error: 0.0162 - root_mean_squared_error: 0.1274 - noiseToSignalLoss: 2165.1978"
     ]
    },
    {
     "output_type": "stream",
     "name": "stderr",
     "text": [
      "\u001B[32m[I 2022-06-29 15:49:21,138]\u001B[0m Trial 4 pruned. Trial was pruned at epoch 1.\u001B[0m\n"
     ]
    },
    {
     "output_type": "stream",
     "name": "stdout",
     "text": [
      "Epoch 1/20\n",
      "774/774 [==============================] - 5s 5ms/step - loss: 0.0513 - mean_squared_error: 0.0066 - root_mean_squared_error: 0.0815 - noiseToSignalLoss: 838.6127 - val_loss: 0.0163 - val_mean_squared_error: 0.0018 - val_root_mean_squared_error: 0.0422 - val_noiseToSignalLoss: 27.1019\n",
      "Epoch 2/20\n",
      "774/774 [==============================] - 4s 5ms/step - loss: 0.0229 - mean_squared_error: 0.0023 - root_mean_squared_error: 0.0476 - noiseToSignalLoss: 70.0238 - val_loss: 0.0149 - val_mean_squared_error: 0.0017 - val_root_mean_squared_error: 0.0416 - val_noiseToSignalLoss: 18.4973\n",
      "Epoch 3/20\n",
      "774/774 [==============================] - 4s 5ms/step - loss: 0.0184 - mean_squared_error: 0.0020 - root_mean_squared_error: 0.0449 - noiseToSignalLoss: 36.4323 - val_loss: 0.0143 - val_mean_squared_error: 0.0017 - val_root_mean_squared_error: 0.0411 - val_noiseToSignalLoss: 15.7032\n",
      "Epoch 4/20\n",
      "774/774 [==============================] - 4s 5ms/step - loss: 0.0165 - mean_squared_error: 0.0019 - root_mean_squared_error: 0.0438 - noiseToSignalLoss: 27.5625 - val_loss: 0.0137 - val_mean_squared_error: 0.0016 - val_root_mean_squared_error: 0.0404 - val_noiseToSignalLoss: 16.7588\n",
      "Epoch 5/20\n",
      "774/774 [==============================] - 4s 5ms/step - loss: 0.0154 - mean_squared_error: 0.0019 - root_mean_squared_error: 0.0431 - noiseToSignalLoss: 23.3361 - val_loss: 0.0133 - val_mean_squared_error: 0.0016 - val_root_mean_squared_error: 0.0400 - val_noiseToSignalLoss: 14.5101\n",
      "Epoch 6/20\n",
      "774/774 [==============================] - 4s 5ms/step - loss: 0.0147 - mean_squared_error: 0.0018 - root_mean_squared_error: 0.0425 - noiseToSignalLoss: 21.1673 - val_loss: 0.0130 - val_mean_squared_error: 0.0016 - val_root_mean_squared_error: 0.0398 - val_noiseToSignalLoss: 13.8688\n",
      "Epoch 7/20\n",
      "774/774 [==============================] - 4s 5ms/step - loss: 0.0142 - mean_squared_error: 0.0018 - root_mean_squared_error: 0.0420 - noiseToSignalLoss: 21.4638 - val_loss: 0.0128 - val_mean_squared_error: 0.0015 - val_root_mean_squared_error: 0.0392 - val_noiseToSignalLoss: 18.3394\n",
      "Epoch 8/20\n",
      "774/774 [==============================] - 4s 5ms/step - loss: 0.0138 - mean_squared_error: 0.0017 - root_mean_squared_error: 0.0417 - noiseToSignalLoss: 22.2347 - val_loss: 0.0125 - val_mean_squared_error: 0.0015 - val_root_mean_squared_error: 0.0391 - val_noiseToSignalLoss: 19.0212\n",
      "Epoch 9/20\n",
      "774/774 [==============================] - 4s 5ms/step - loss: 0.0136 - mean_squared_error: 0.0017 - root_mean_squared_error: 0.0415 - noiseToSignalLoss: 22.5948 - val_loss: 0.0123 - val_mean_squared_error: 0.0015 - val_root_mean_squared_error: 0.0392 - val_noiseToSignalLoss: 19.6808\n",
      "Epoch 10/20\n",
      "774/774 [==============================] - 4s 5ms/step - loss: 0.0134 - mean_squared_error: 0.0017 - root_mean_squared_error: 0.0415 - noiseToSignalLoss: 23.2602 - val_loss: 0.0123 - val_mean_squared_error: 0.0015 - val_root_mean_squared_error: 0.0392 - val_noiseToSignalLoss: 21.3631\n",
      "Epoch 11/20\n",
      "774/774 [==============================] - 4s 5ms/step - loss: 0.0133 - mean_squared_error: 0.0017 - root_mean_squared_error: 0.0414 - noiseToSignalLoss: 23.8225 - val_loss: 0.0122 - val_mean_squared_error: 0.0015 - val_root_mean_squared_error: 0.0392 - val_noiseToSignalLoss: 23.4383\n",
      "Epoch 12/20\n",
      "774/774 [==============================] - 4s 5ms/step - loss: 0.0131 - mean_squared_error: 0.0017 - root_mean_squared_error: 0.0415 - noiseToSignalLoss: 23.5448 - val_loss: 0.0122 - val_mean_squared_error: 0.0015 - val_root_mean_squared_error: 0.0392 - val_noiseToSignalLoss: 23.6961\n",
      "Epoch 13/20\n",
      "774/774 [==============================] - 4s 5ms/step - loss: 0.0131 - mean_squared_error: 0.0017 - root_mean_squared_error: 0.0414 - noiseToSignalLoss: 23.3092 - val_loss: 0.0122 - val_mean_squared_error: 0.0015 - val_root_mean_squared_error: 0.0393 - val_noiseToSignalLoss: 23.1285\n",
      "Epoch 14/20\n",
      "774/774 [==============================] - 4s 5ms/step - loss: 0.0130 - mean_squared_error: 0.0017 - root_mean_squared_error: 0.0414 - noiseToSignalLoss: 23.4978 - val_loss: 0.0121 - val_mean_squared_error: 0.0015 - val_root_mean_squared_error: 0.0393 - val_noiseToSignalLoss: 23.0745\n",
      "Epoch 15/20\n",
      "774/774 [==============================] - 4s 5ms/step - loss: 0.0129 - mean_squared_error: 0.0017 - root_mean_squared_error: 0.0414 - noiseToSignalLoss: 23.7402 - val_loss: 0.0122 - val_mean_squared_error: 0.0015 - val_root_mean_squared_error: 0.0391 - val_noiseToSignalLoss: 25.9380\n",
      "Epoch 16/20\n",
      "774/774 [==============================] - 4s 5ms/step - loss: 0.0129 - mean_squared_error: 0.0017 - root_mean_squared_error: 0.0414 - noiseToSignalLoss: 23.1256 - val_loss: 0.0121 - val_mean_squared_error: 0.0015 - val_root_mean_squared_error: 0.0392 - val_noiseToSignalLoss: 25.0275\n",
      "Epoch 17/20\n",
      "774/774 [==============================] - 4s 5ms/step - loss: 0.0128 - mean_squared_error: 0.0017 - root_mean_squared_error: 0.0413 - noiseToSignalLoss: 24.3401 - val_loss: 0.0121 - val_mean_squared_error: 0.0015 - val_root_mean_squared_error: 0.0394 - val_noiseToSignalLoss: 22.4226\n",
      "Epoch 18/20\n",
      "774/774 [==============================] - 4s 5ms/step - loss: 0.0128 - mean_squared_error: 0.0017 - root_mean_squared_error: 0.0413 - noiseToSignalLoss: 22.8971 - val_loss: 0.0121 - val_mean_squared_error: 0.0016 - val_root_mean_squared_error: 0.0394 - val_noiseToSignalLoss: 22.4990\n",
      "Epoch 19/20\n",
      "774/774 [==============================] - 4s 5ms/step - loss: 0.0127 - mean_squared_error: 0.0017 - root_mean_squared_error: 0.0413 - noiseToSignalLoss: 23.6706 - val_loss: 0.0121 - val_mean_squared_error: 0.0016 - val_root_mean_squared_error: 0.0394 - val_noiseToSignalLoss: 22.3585\n",
      "Epoch 20/20\n",
      "774/774 [==============================] - 4s 5ms/step - loss: 0.0127 - mean_squared_error: 0.0017 - root_mean_squared_error: 0.0412 - noiseToSignalLoss: 23.4495 - val_loss: 0.0120 - val_mean_squared_error: 0.0015 - val_root_mean_squared_error: 0.0393 - val_noiseToSignalLoss: 23.7173\n",
      "257/257 [==============================] - 1s 3ms/step - loss: 0.0099 - mean_squared_error: 0.0010 - root_mean_squared_error: 0.0317 - noiseToSignalLoss: 13.9132\n"
     ]
    },
    {
     "output_type": "stream",
     "name": "stderr",
     "text": [
      "\u001B[32m[I 2022-06-29 15:52:30,048]\u001B[0m Trial 5 finished with value: 0.009861699305474758 and parameters: {'sequence_length': 4, 'ff1_hidden_neurons': 204, 'ff2_hidden_neurons': 247, 'ff3_hidden_neurons': 130, 'ff4_hidden_neurons': 217, 'ff5_hidden_neurons': 117, 'ff6_hidden_neurons': 109, 'ff7_hidden_neurons': 231, 'ff8_hidden_neurons': 164, 'ff9_hidden_neurons': 245, 'ff10_hidden_neurons': 135, 'ff11_hidden_neurons': 189, 'ff12_hidden_neurons': 194, 'ff13_hidden_neurons': 180, 'ff14_hidden_neurons': 115, 'ff15_hidden_neurons': 106, 'ff16_hidden_neurons': 242, 'ff17_hidden_neurons': 112, 'learning_rate': 1.024503648838566e-06}. Best is trial 5 with value: 0.009861699305474758.\u001B[0m\n"
     ]
    },
    {
     "output_type": "stream",
     "name": "stdout",
     "text": [
      "Epoch 1/20\n",
      "800/800 [==============================] - 5s 5ms/step - loss: 0.0204 - mean_squared_error: 0.0024 - root_mean_squared_error: 0.0486 - noiseToSignalLoss: 107.3837 - val_loss: 0.0149 - val_mean_squared_error: 0.0018 - val_root_mean_squared_error: 0.0428 - val_noiseToSignalLoss: 18.1555\n",
      "Epoch 2/20\n",
      "800/800 [==============================] - 4s 5ms/step - loss: 0.0142 - mean_squared_error: 0.0017 - root_mean_squared_error: 0.0418 - noiseToSignalLoss: 25.7195 - val_loss: 0.0133 - val_mean_squared_error: 0.0017 - val_root_mean_squared_error: 0.0415 - val_noiseToSignalLoss: 23.0917\n",
      "Epoch 3/20\n",
      "800/800 [==============================] - 4s 5ms/step - loss: 0.0134 - mean_squared_error: 0.0017 - root_mean_squared_error: 0.0410 - noiseToSignalLoss: 27.6907 - val_loss: 0.0127 - val_mean_squared_error: 0.0017 - val_root_mean_squared_error: 0.0411 - val_noiseToSignalLoss: 24.7276\n",
      "Epoch 4/20\n",
      "800/800 [==============================] - 4s 5ms/step - loss: 0.0130 - mean_squared_error: 0.0017 - root_mean_squared_error: 0.0407 - noiseToSignalLoss: 27.1502 - val_loss: 0.0124 - val_mean_squared_error: 0.0017 - val_root_mean_squared_error: 0.0411 - val_noiseToSignalLoss: 14.6821\n",
      "Epoch 5/20\n",
      "800/800 [==============================] - 4s 5ms/step - loss: 0.0128 - mean_squared_error: 0.0016 - root_mean_squared_error: 0.0404 - noiseToSignalLoss: 26.4940 - val_loss: 0.0127 - val_mean_squared_error: 0.0017 - val_root_mean_squared_error: 0.0411 - val_noiseToSignalLoss: 13.1886\n",
      "Epoch 6/20\n",
      "800/800 [==============================] - 4s 5ms/step - loss: 0.0126 - mean_squared_error: 0.0016 - root_mean_squared_error: 0.0402 - noiseToSignalLoss: 26.0229 - val_loss: 0.0126 - val_mean_squared_error: 0.0016 - val_root_mean_squared_error: 0.0405 - val_noiseToSignalLoss: 17.9959\n",
      "Epoch 7/20\n",
      "800/800 [==============================] - 4s 5ms/step - loss: 0.0125 - mean_squared_error: 0.0016 - root_mean_squared_error: 0.0400 - noiseToSignalLoss: 25.8665 - val_loss: 0.0126 - val_mean_squared_error: 0.0016 - val_root_mean_squared_error: 0.0405 - val_noiseToSignalLoss: 16.9589\n",
      "Epoch 8/20\n",
      "800/800 [==============================] - 4s 5ms/step - loss: 0.0124 - mean_squared_error: 0.0016 - root_mean_squared_error: 0.0399 - noiseToSignalLoss: 25.1631 - val_loss: 0.0124 - val_mean_squared_error: 0.0016 - val_root_mean_squared_error: 0.0403 - val_noiseToSignalLoss: 22.4819\n",
      "Epoch 9/20\n",
      "800/800 [==============================] - 4s 5ms/step - loss: 0.0123 - mean_squared_error: 0.0016 - root_mean_squared_error: 0.0398 - noiseToSignalLoss: 24.7514 - val_loss: 0.0121 - val_mean_squared_error: 0.0016 - val_root_mean_squared_error: 0.0401 - val_noiseToSignalLoss: 22.2136\n",
      "Epoch 10/20\n",
      "800/800 [==============================] - 4s 5ms/step - loss: 0.0122 - mean_squared_error: 0.0016 - root_mean_squared_error: 0.0397 - noiseToSignalLoss: 24.1003 - val_loss: 0.0120 - val_mean_squared_error: 0.0016 - val_root_mean_squared_error: 0.0400 - val_noiseToSignalLoss: 18.1369\n",
      "Epoch 11/20\n",
      "800/800 [==============================] - 4s 5ms/step - loss: 0.0121 - mean_squared_error: 0.0016 - root_mean_squared_error: 0.0396 - noiseToSignalLoss: 23.2486 - val_loss: 0.0121 - val_mean_squared_error: 0.0016 - val_root_mean_squared_error: 0.0400 - val_noiseToSignalLoss: 16.1726\n",
      "Epoch 12/20\n",
      "800/800 [==============================] - 4s 5ms/step - loss: 0.0121 - mean_squared_error: 0.0016 - root_mean_squared_error: 0.0394 - noiseToSignalLoss: 22.4060 - val_loss: 0.0124 - val_mean_squared_error: 0.0016 - val_root_mean_squared_error: 0.0397 - val_noiseToSignalLoss: 21.9234\n",
      "Epoch 13/20\n",
      "800/800 [==============================] - 4s 5ms/step - loss: 0.0120 - mean_squared_error: 0.0015 - root_mean_squared_error: 0.0392 - noiseToSignalLoss: 22.5469 - val_loss: 0.0122 - val_mean_squared_error: 0.0016 - val_root_mean_squared_error: 0.0400 - val_noiseToSignalLoss: 11.7019\n",
      "Epoch 14/20\n",
      "800/800 [==============================] - 4s 5ms/step - loss: 0.0119 - mean_squared_error: 0.0015 - root_mean_squared_error: 0.0390 - noiseToSignalLoss: 21.2814 - val_loss: 0.0119 - val_mean_squared_error: 0.0016 - val_root_mean_squared_error: 0.0394 - val_noiseToSignalLoss: 13.3410\n",
      "Epoch 15/20\n",
      "800/800 [==============================] - 4s 5ms/step - loss: 0.0118 - mean_squared_error: 0.0015 - root_mean_squared_error: 0.0386 - noiseToSignalLoss: 19.4449 - val_loss: 0.0119 - val_mean_squared_error: 0.0015 - val_root_mean_squared_error: 0.0390 - val_noiseToSignalLoss: 12.7759\n",
      "Epoch 16/20\n",
      "800/800 [==============================] - 4s 5ms/step - loss: 0.0117 - mean_squared_error: 0.0015 - root_mean_squared_error: 0.0382 - noiseToSignalLoss: 18.3318 - val_loss: 0.0116 - val_mean_squared_error: 0.0015 - val_root_mean_squared_error: 0.0385 - val_noiseToSignalLoss: 15.6512\n",
      "Epoch 17/20\n",
      "800/800 [==============================] - 4s 5ms/step - loss: 0.0117 - mean_squared_error: 0.0014 - root_mean_squared_error: 0.0380 - noiseToSignalLoss: 17.2256 - val_loss: 0.0119 - val_mean_squared_error: 0.0015 - val_root_mean_squared_error: 0.0389 - val_noiseToSignalLoss: 10.5732\n",
      "Epoch 18/20\n",
      "800/800 [==============================] - 4s 5ms/step - loss: 0.0116 - mean_squared_error: 0.0014 - root_mean_squared_error: 0.0379 - noiseToSignalLoss: 16.9444 - val_loss: 0.0117 - val_mean_squared_error: 0.0015 - val_root_mean_squared_error: 0.0386 - val_noiseToSignalLoss: 13.9681\n",
      "Epoch 19/20\n",
      "800/800 [==============================] - 4s 6ms/step - loss: 0.0116 - mean_squared_error: 0.0014 - root_mean_squared_error: 0.0379 - noiseToSignalLoss: 16.4542 - val_loss: 0.0115 - val_mean_squared_error: 0.0015 - val_root_mean_squared_error: 0.0384 - val_noiseToSignalLoss: 13.8927\n",
      "Epoch 20/20\n",
      "800/800 [==============================] - 4s 5ms/step - loss: 0.0116 - mean_squared_error: 0.0014 - root_mean_squared_error: 0.0378 - noiseToSignalLoss: 16.2447 - val_loss: 0.0120 - val_mean_squared_error: 0.0015 - val_root_mean_squared_error: 0.0387 - val_noiseToSignalLoss: 10.8427\n",
      "265/265 [==============================] - 1s 3ms/step - loss: 0.0099 - mean_squared_error: 9.3687e-04 - root_mean_squared_error: 0.0306 - noiseToSignalLoss: 9.9589\n"
     ]
    },
    {
     "output_type": "stream",
     "name": "stderr",
     "text": [
      "\u001B[32m[I 2022-06-29 15:55:42,607]\u001B[0m Trial 6 finished with value: 0.009886529296636581 and parameters: {'sequence_length': 7, 'ff1_hidden_neurons': 86, 'ff2_hidden_neurons': 71, 'ff3_hidden_neurons': 111, 'ff4_hidden_neurons': 181, 'ff5_hidden_neurons': 177, 'ff6_hidden_neurons': 102, 'ff7_hidden_neurons': 79, 'ff8_hidden_neurons': 151, 'ff9_hidden_neurons': 249, 'ff10_hidden_neurons': 193, 'ff11_hidden_neurons': 182, 'ff12_hidden_neurons': 84, 'ff13_hidden_neurons': 121, 'ff14_hidden_neurons': 89, 'ff15_hidden_neurons': 116, 'ff16_hidden_neurons': 84, 'ff17_hidden_neurons': 123, 'learning_rate': 2.646837827222997e-05}. Best is trial 5 with value: 0.009861699305474758.\u001B[0m\n"
     ]
    },
    {
     "output_type": "stream",
     "name": "stdout",
     "text": [
      "Epoch 1/20\n",
      "785/785 [==============================] - 5s 5ms/step - loss: 0.0347 - mean_squared_error: 0.0035 - root_mean_squared_error: 0.0588 - noiseToSignalLoss: 292.5453 - val_loss: 0.0157 - val_mean_squared_error: 0.0021 - val_root_mean_squared_error: 0.0453 - val_noiseToSignalLoss: 25.7476\n",
      "Epoch 2/20\n",
      "782/785 [============================>.] - ETA: 0s - loss: 0.0192 - mean_squared_error: 0.0021 - root_mean_squared_error: 0.0461 - noiseToSignalLoss: 42.9685"
     ]
    },
    {
     "output_type": "stream",
     "name": "stderr",
     "text": [
      "\u001B[32m[I 2022-06-29 15:57:38,495]\u001B[0m Trial 7 pruned. Trial was pruned at epoch 1.\u001B[0m\n"
     ]
    },
    {
     "output_type": "stream",
     "name": "stdout",
     "text": [
      "Epoch 1/20\n",
      "800/800 [==============================] - 6s 6ms/step - loss: 0.1704 - mean_squared_error: 0.0454 - root_mean_squared_error: 0.2130 - noiseToSignalLoss: 6524.0977 - val_loss: 0.1334 - val_mean_squared_error: 0.0304 - val_root_mean_squared_error: 0.1744 - val_noiseToSignalLoss: 4006.9607\n",
      "Epoch 2/20\n",
      "797/800 [============================>.] - ETA: 0s - loss: 0.1446 - mean_squared_error: 0.0334 - root_mean_squared_error: 0.1827 - noiseToSignalLoss: 4658.5830"
     ]
    },
    {
     "output_type": "stream",
     "name": "stderr",
     "text": [
      "\u001B[32m[I 2022-06-29 15:59:35,883]\u001B[0m Trial 8 pruned. Trial was pruned at epoch 1.\u001B[0m\n"
     ]
    },
    {
     "output_type": "stream",
     "name": "stdout",
     "text": [
      "Epoch 1/20\n",
      "800/800 [==============================] - 5s 5ms/step - loss: 0.0941 - mean_squared_error: 0.0163 - root_mean_squared_error: 0.1277 - noiseToSignalLoss: 2413.9211 - val_loss: 0.0196 - val_mean_squared_error: 0.0021 - val_root_mean_squared_error: 0.0464 - val_noiseToSignalLoss: 48.8757\n",
      "Epoch 2/20\n",
      "792/800 [============================>.] - ETA: 0s - loss: 0.0496 - mean_squared_error: 0.0051 - root_mean_squared_error: 0.0711 - noiseToSignalLoss: 604.3954"
     ]
    },
    {
     "output_type": "stream",
     "name": "stderr",
     "text": [
      "\u001B[32m[I 2022-06-29 16:01:32,623]\u001B[0m Trial 9 pruned. Trial was pruned at epoch 1.\u001B[0m\n"
     ]
    },
    {
     "output_type": "stream",
     "name": "stdout",
     "text": [
      "Epoch 1/20\n",
      "785/785 [==============================] - 5s 5ms/step - loss: 0.1259 - mean_squared_error: 0.0244 - root_mean_squared_error: 0.1563 - noiseToSignalLoss: 4313.1064 - val_loss: 0.1011 - val_mean_squared_error: 0.0144 - val_root_mean_squared_error: 0.1199 - val_noiseToSignalLoss: 2685.2568\n",
      "Epoch 2/20\n",
      "783/785 [============================>.] - ETA: 0s - loss: 0.1238 - mean_squared_error: 0.0237 - root_mean_squared_error: 0.1540 - noiseToSignalLoss: 4183.4434"
     ]
    },
    {
     "output_type": "stream",
     "name": "stderr",
     "text": [
      "\u001B[32m[I 2022-06-29 16:03:27,428]\u001B[0m Trial 10 pruned. Trial was pruned at epoch 1.\u001B[0m\n"
     ]
    },
    {
     "output_type": "stream",
     "name": "stdout",
     "text": [
      "Epoch 1/20\n",
      "774/774 [==============================] - 5s 5ms/step - loss: 0.0159 - mean_squared_error: 0.0019 - root_mean_squared_error: 0.0440 - noiseToSignalLoss: 50.5425 - val_loss: 0.0130 - val_mean_squared_error: 0.0016 - val_root_mean_squared_error: 0.0395 - val_noiseToSignalLoss: 11.1456\n",
      "Epoch 2/20\n",
      "774/774 [==============================] - 4s 5ms/step - loss: 0.0127 - mean_squared_error: 0.0017 - root_mean_squared_error: 0.0407 - noiseToSignalLoss: 20.1293 - val_loss: 0.0123 - val_mean_squared_error: 0.0015 - val_root_mean_squared_error: 0.0388 - val_noiseToSignalLoss: 18.4529\n",
      "Epoch 3/20\n",
      "774/774 [==============================] - 4s 5ms/step - loss: 0.0123 - mean_squared_error: 0.0016 - root_mean_squared_error: 0.0402 - noiseToSignalLoss: 19.2624 - val_loss: 0.0118 - val_mean_squared_error: 0.0015 - val_root_mean_squared_error: 0.0383 - val_noiseToSignalLoss: 16.6601\n",
      "Epoch 4/20\n",
      "774/774 [==============================] - 4s 5ms/step - loss: 0.0121 - mean_squared_error: 0.0016 - root_mean_squared_error: 0.0396 - noiseToSignalLoss: 17.6274 - val_loss: 0.0114 - val_mean_squared_error: 0.0014 - val_root_mean_squared_error: 0.0368 - val_noiseToSignalLoss: 12.2184\n",
      "Epoch 5/20\n",
      "774/774 [==============================] - 4s 5ms/step - loss: 0.0119 - mean_squared_error: 0.0015 - root_mean_squared_error: 0.0389 - noiseToSignalLoss: 16.2594 - val_loss: 0.0113 - val_mean_squared_error: 0.0013 - val_root_mean_squared_error: 0.0364 - val_noiseToSignalLoss: 13.6992\n",
      "Epoch 6/20\n",
      "774/774 [==============================] - 4s 5ms/step - loss: 0.0118 - mean_squared_error: 0.0015 - root_mean_squared_error: 0.0388 - noiseToSignalLoss: 15.5707 - val_loss: 0.0113 - val_mean_squared_error: 0.0013 - val_root_mean_squared_error: 0.0364 - val_noiseToSignalLoss: 11.5851\n",
      "Epoch 7/20\n",
      "774/774 [==============================] - 4s 5ms/step - loss: 0.0118 - mean_squared_error: 0.0015 - root_mean_squared_error: 0.0386 - noiseToSignalLoss: 15.1834 - val_loss: 0.0112 - val_mean_squared_error: 0.0013 - val_root_mean_squared_error: 0.0361 - val_noiseToSignalLoss: 12.3237\n",
      "Epoch 8/20\n",
      "774/774 [==============================] - 4s 5ms/step - loss: 0.0117 - mean_squared_error: 0.0015 - root_mean_squared_error: 0.0385 - noiseToSignalLoss: 15.1686 - val_loss: 0.0112 - val_mean_squared_error: 0.0013 - val_root_mean_squared_error: 0.0358 - val_noiseToSignalLoss: 13.0092\n",
      "Epoch 9/20\n",
      "774/774 [==============================] - 4s 5ms/step - loss: 0.0116 - mean_squared_error: 0.0015 - root_mean_squared_error: 0.0382 - noiseToSignalLoss: 14.6323 - val_loss: 0.0112 - val_mean_squared_error: 0.0013 - val_root_mean_squared_error: 0.0357 - val_noiseToSignalLoss: 12.9763\n",
      "Epoch 10/20\n",
      "774/774 [==============================] - 4s 5ms/step - loss: 0.0116 - mean_squared_error: 0.0015 - root_mean_squared_error: 0.0382 - noiseToSignalLoss: 14.3282 - val_loss: 0.0112 - val_mean_squared_error: 0.0013 - val_root_mean_squared_error: 0.0357 - val_noiseToSignalLoss: 12.7054\n",
      "Epoch 11/20\n",
      "774/774 [==============================] - 4s 5ms/step - loss: 0.0116 - mean_squared_error: 0.0015 - root_mean_squared_error: 0.0381 - noiseToSignalLoss: 14.3023 - val_loss: 0.0113 - val_mean_squared_error: 0.0013 - val_root_mean_squared_error: 0.0355 - val_noiseToSignalLoss: 17.1298\n",
      "Epoch 12/20\n",
      "774/774 [==============================] - 4s 5ms/step - loss: 0.0115 - mean_squared_error: 0.0014 - root_mean_squared_error: 0.0381 - noiseToSignalLoss: 14.1099 - val_loss: 0.0112 - val_mean_squared_error: 0.0013 - val_root_mean_squared_error: 0.0357 - val_noiseToSignalLoss: 13.8755\n",
      "Epoch 13/20\n",
      "774/774 [==============================] - 4s 5ms/step - loss: 0.0115 - mean_squared_error: 0.0014 - root_mean_squared_error: 0.0381 - noiseToSignalLoss: 14.2536 - val_loss: 0.0113 - val_mean_squared_error: 0.0013 - val_root_mean_squared_error: 0.0358 - val_noiseToSignalLoss: 12.0823\n",
      "Epoch 14/20\n",
      "774/774 [==============================] - 4s 5ms/step - loss: 0.0115 - mean_squared_error: 0.0014 - root_mean_squared_error: 0.0380 - noiseToSignalLoss: 14.2217 - val_loss: 0.0112 - val_mean_squared_error: 0.0013 - val_root_mean_squared_error: 0.0356 - val_noiseToSignalLoss: 12.4943\n",
      "Epoch 15/20\n",
      "774/774 [==============================] - 4s 5ms/step - loss: 0.0115 - mean_squared_error: 0.0014 - root_mean_squared_error: 0.0380 - noiseToSignalLoss: 13.8928 - val_loss: 0.0112 - val_mean_squared_error: 0.0013 - val_root_mean_squared_error: 0.0356 - val_noiseToSignalLoss: 14.3326\n",
      "Epoch 16/20\n",
      "774/774 [==============================] - 4s 5ms/step - loss: 0.0115 - mean_squared_error: 0.0014 - root_mean_squared_error: 0.0380 - noiseToSignalLoss: 14.0528 - val_loss: 0.0112 - val_mean_squared_error: 0.0013 - val_root_mean_squared_error: 0.0354 - val_noiseToSignalLoss: 14.0291\n",
      "Epoch 17/20\n",
      "774/774 [==============================] - 4s 5ms/step - loss: 0.0114 - mean_squared_error: 0.0014 - root_mean_squared_error: 0.0379 - noiseToSignalLoss: 14.0419 - val_loss: 0.0113 - val_mean_squared_error: 0.0013 - val_root_mean_squared_error: 0.0355 - val_noiseToSignalLoss: 14.8556\n",
      "Epoch 18/20\n",
      "774/774 [==============================] - 4s 5ms/step - loss: 0.0114 - mean_squared_error: 0.0014 - root_mean_squared_error: 0.0379 - noiseToSignalLoss: 13.7128 - val_loss: 0.0115 - val_mean_squared_error: 0.0013 - val_root_mean_squared_error: 0.0355 - val_noiseToSignalLoss: 15.9476\n",
      "Epoch 19/20\n",
      "774/774 [==============================] - 4s 5ms/step - loss: 0.0114 - mean_squared_error: 0.0014 - root_mean_squared_error: 0.0379 - noiseToSignalLoss: 13.7781 - val_loss: 0.0110 - val_mean_squared_error: 0.0013 - val_root_mean_squared_error: 0.0355 - val_noiseToSignalLoss: 12.0263\n",
      "Epoch 20/20\n",
      "774/774 [==============================] - 4s 5ms/step - loss: 0.0114 - mean_squared_error: 0.0014 - root_mean_squared_error: 0.0379 - noiseToSignalLoss: 13.6872 - val_loss: 0.0111 - val_mean_squared_error: 0.0013 - val_root_mean_squared_error: 0.0355 - val_noiseToSignalLoss: 12.3878\n",
      "257/257 [==============================] - 1s 3ms/step - loss: 0.0092 - mean_squared_error: 8.2345e-04 - root_mean_squared_error: 0.0287 - noiseToSignalLoss: 11.4247\n"
     ]
    },
    {
     "output_type": "stream",
     "name": "stderr",
     "text": [
      "\u001B[32m[I 2022-06-29 16:06:36,287]\u001B[0m Trial 11 finished with value: 0.009202738292515278 and parameters: {'sequence_length': 4, 'ff1_hidden_neurons': 249, 'ff2_hidden_neurons': 71, 'ff3_hidden_neurons': 114, 'ff4_hidden_neurons': 217, 'ff5_hidden_neurons': 158, 'ff6_hidden_neurons': 71, 'ff7_hidden_neurons': 192, 'ff8_hidden_neurons': 141, 'ff9_hidden_neurons': 222, 'ff10_hidden_neurons': 178, 'ff11_hidden_neurons': 70, 'ff12_hidden_neurons': 198, 'ff13_hidden_neurons': 137, 'ff14_hidden_neurons': 75, 'ff15_hidden_neurons': 139, 'ff16_hidden_neurons': 121, 'ff17_hidden_neurons': 120, 'learning_rate': 7.94095015284479e-05}. Best is trial 11 with value: 0.009202738292515278.\u001B[0m\n"
     ]
    },
    {
     "output_type": "stream",
     "name": "stdout",
     "text": [
      "Epoch 1/20\n",
      "756/756 [==============================] - 5s 5ms/step - loss: 0.0158 - mean_squared_error: 0.0019 - root_mean_squared_error: 0.0441 - noiseToSignalLoss: 41.6697 - val_loss: 0.0135 - val_mean_squared_error: 0.0018 - val_root_mean_squared_error: 0.0422 - val_noiseToSignalLoss: 26.9467\n",
      "Epoch 2/20\n",
      "756/756 [==============================] - 4s 5ms/step - loss: 0.0129 - mean_squared_error: 0.0016 - root_mean_squared_error: 0.0405 - noiseToSignalLoss: 19.9539 - val_loss: 0.0126 - val_mean_squared_error: 0.0018 - val_root_mean_squared_error: 0.0422 - val_noiseToSignalLoss: 10.4628\n",
      "Epoch 3/20\n",
      "756/756 [==============================] - 4s 5ms/step - loss: 0.0124 - mean_squared_error: 0.0016 - root_mean_squared_error: 0.0399 - noiseToSignalLoss: 18.8707 - val_loss: 0.0121 - val_mean_squared_error: 0.0017 - val_root_mean_squared_error: 0.0413 - val_noiseToSignalLoss: 13.8217\n",
      "Epoch 4/20\n",
      "756/756 [==============================] - 4s 5ms/step - loss: 0.0122 - mean_squared_error: 0.0015 - root_mean_squared_error: 0.0390 - noiseToSignalLoss: 16.9315 - val_loss: 0.0123 - val_mean_squared_error: 0.0015 - val_root_mean_squared_error: 0.0392 - val_noiseToSignalLoss: 19.0871\n",
      "Epoch 5/20\n",
      "756/756 [==============================] - ETA: 0s - loss: 0.0120 - mean_squared_error: 0.0015 - root_mean_squared_error: 0.0386 - noiseToSignalLoss: 16.3646"
     ]
    },
    {
     "output_type": "stream",
     "name": "stderr",
     "text": [
      "\u001B[32m[I 2022-06-29 16:08:40,298]\u001B[0m Trial 12 pruned. Trial was pruned at epoch 4.\u001B[0m\n"
     ]
    },
    {
     "output_type": "stream",
     "name": "stdout",
     "text": [
      "Epoch 1/20\n",
      "774/774 [==============================] - 5s 5ms/step - loss: 0.0240 - mean_squared_error: 0.0027 - root_mean_squared_error: 0.0524 - noiseToSignalLoss: 150.5894 - val_loss: 0.0141 - val_mean_squared_error: 0.0017 - val_root_mean_squared_error: 0.0414 - val_noiseToSignalLoss: 16.5386\n",
      "Epoch 2/20\n",
      "774/774 [==============================] - 4s 5ms/step - loss: 0.0149 - mean_squared_error: 0.0019 - root_mean_squared_error: 0.0431 - noiseToSignalLoss: 20.7866 - val_loss: 0.0129 - val_mean_squared_error: 0.0016 - val_root_mean_squared_error: 0.0397 - val_noiseToSignalLoss: 15.9439\n",
      "Epoch 3/20\n",
      "774/774 [==============================] - 4s 5ms/step - loss: 0.0135 - mean_squared_error: 0.0017 - root_mean_squared_error: 0.0415 - noiseToSignalLoss: 23.6435 - val_loss: 0.0126 - val_mean_squared_error: 0.0015 - val_root_mean_squared_error: 0.0393 - val_noiseToSignalLoss: 23.1167\n",
      "Epoch 4/20\n",
      "774/774 [==============================] - 4s 5ms/step - loss: 0.0130 - mean_squared_error: 0.0017 - root_mean_squared_error: 0.0412 - noiseToSignalLoss: 24.0765 - val_loss: 0.0122 - val_mean_squared_error: 0.0015 - val_root_mean_squared_error: 0.0389 - val_noiseToSignalLoss: 28.8004\n",
      "Epoch 5/20\n",
      "774/774 [==============================] - ETA: 0s - loss: 0.0128 - mean_squared_error: 0.0017 - root_mean_squared_error: 0.0411 - noiseToSignalLoss: 23.5434"
     ]
    },
    {
     "output_type": "stream",
     "name": "stderr",
     "text": [
      "\u001B[32m[I 2022-06-29 16:10:46,587]\u001B[0m Trial 13 pruned. Trial was pruned at epoch 4.\u001B[0m\n"
     ]
    },
    {
     "output_type": "stream",
     "name": "stdout",
     "text": [
      "Epoch 1/20\n",
      "774/774 [==============================] - 5s 5ms/step - loss: 0.0215 - mean_squared_error: 0.0026 - root_mean_squared_error: 0.0507 - noiseToSignalLoss: 119.5095 - val_loss: 0.0139 - val_mean_squared_error: 0.0017 - val_root_mean_squared_error: 0.0406 - val_noiseToSignalLoss: 15.8777\n",
      "Epoch 2/20\n",
      "774/774 [==============================] - 4s 5ms/step - loss: 0.0141 - mean_squared_error: 0.0018 - root_mean_squared_error: 0.0422 - noiseToSignalLoss: 19.7431 - val_loss: 0.0125 - val_mean_squared_error: 0.0015 - val_root_mean_squared_error: 0.0392 - val_noiseToSignalLoss: 17.7939\n",
      "Epoch 3/20\n",
      "774/774 [==============================] - 4s 5ms/step - loss: 0.0132 - mean_squared_error: 0.0017 - root_mean_squared_error: 0.0414 - noiseToSignalLoss: 24.7139 - val_loss: 0.0122 - val_mean_squared_error: 0.0015 - val_root_mean_squared_error: 0.0390 - val_noiseToSignalLoss: 24.6052\n",
      "Epoch 4/20\n",
      "774/774 [==============================] - 4s 5ms/step - loss: 0.0129 - mean_squared_error: 0.0017 - root_mean_squared_error: 0.0412 - noiseToSignalLoss: 24.1979 - val_loss: 0.0122 - val_mean_squared_error: 0.0015 - val_root_mean_squared_error: 0.0389 - val_noiseToSignalLoss: 27.8507\n",
      "Epoch 5/20\n",
      "765/774 [============================>.] - ETA: 0s - loss: 0.0127 - mean_squared_error: 0.0017 - root_mean_squared_error: 0.0410 - noiseToSignalLoss: 23.0181"
     ]
    },
    {
     "output_type": "stream",
     "name": "stderr",
     "text": [
      "\u001B[32m[I 2022-06-29 16:12:51,846]\u001B[0m Trial 14 pruned. Trial was pruned at epoch 4.\u001B[0m\n"
     ]
    },
    {
     "output_type": "stream",
     "name": "stdout",
     "text": [
      "Epoch 1/20\n",
      "774/774 [==============================] - 5s 5ms/step - loss: 0.1102 - mean_squared_error: 0.0199 - root_mean_squared_error: 0.1410 - noiseToSignalLoss: 2930.3518 - val_loss: 0.0954 - val_mean_squared_error: 0.0144 - val_root_mean_squared_error: 0.1198 - val_noiseToSignalLoss: 1969.9780\n",
      "Epoch 2/20\n",
      "767/774 [============================>.] - ETA: 0s - loss: 0.1100 - mean_squared_error: 0.0198 - root_mean_squared_error: 0.1407 - noiseToSignalLoss: 2926.2307"
     ]
    },
    {
     "output_type": "stream",
     "name": "stderr",
     "text": [
      "\u001B[32m[I 2022-06-29 16:14:44,938]\u001B[0m Trial 15 pruned. Trial was pruned at epoch 1.\u001B[0m\n"
     ]
    },
    {
     "output_type": "stream",
     "name": "stdout",
     "text": [
      "Epoch 1/20\n",
      "793/793 [==============================] - 5s 5ms/step - loss: 0.0174 - mean_squared_error: 0.0022 - root_mean_squared_error: 0.0464 - noiseToSignalLoss: 90.2604 - val_loss: 0.0124 - val_mean_squared_error: 0.0016 - val_root_mean_squared_error: 0.0397 - val_noiseToSignalLoss: 34.2218\n",
      "Epoch 2/20\n",
      "793/793 [==============================] - 4s 5ms/step - loss: 0.0130 - mean_squared_error: 0.0017 - root_mean_squared_error: 0.0410 - noiseToSignalLoss: 23.6659 - val_loss: 0.0121 - val_mean_squared_error: 0.0015 - val_root_mean_squared_error: 0.0394 - val_noiseToSignalLoss: 26.2220\n",
      "Epoch 3/20\n",
      "793/793 [==============================] - 4s 5ms/step - loss: 0.0124 - mean_squared_error: 0.0016 - root_mean_squared_error: 0.0404 - noiseToSignalLoss: 22.2986 - val_loss: 0.0123 - val_mean_squared_error: 0.0015 - val_root_mean_squared_error: 0.0385 - val_noiseToSignalLoss: 40.1598\n",
      "Epoch 4/20\n",
      "793/793 [==============================] - 4s 5ms/step - loss: 0.0122 - mean_squared_error: 0.0016 - root_mean_squared_error: 0.0398 - noiseToSignalLoss: 20.2388 - val_loss: 0.0117 - val_mean_squared_error: 0.0014 - val_root_mean_squared_error: 0.0380 - val_noiseToSignalLoss: 24.6207\n",
      "Epoch 5/20\n",
      "786/793 [============================>.] - ETA: 0s - loss: 0.0120 - mean_squared_error: 0.0015 - root_mean_squared_error: 0.0389 - noiseToSignalLoss: 17.5814"
     ]
    },
    {
     "output_type": "stream",
     "name": "stderr",
     "text": [
      "\u001B[32m[I 2022-06-29 16:16:52,536]\u001B[0m Trial 16 pruned. Trial was pruned at epoch 4.\u001B[0m\n"
     ]
    },
    {
     "output_type": "stream",
     "name": "stdout",
     "text": [
      "Epoch 1/20\n",
      "756/756 [==============================] - 5s 5ms/step - loss: 0.0261 - mean_squared_error: 0.0029 - root_mean_squared_error: 0.0542 - noiseToSignalLoss: 155.4768 - val_loss: 0.0149 - val_mean_squared_error: 0.0020 - val_root_mean_squared_error: 0.0447 - val_noiseToSignalLoss: 17.8982\n",
      "Epoch 2/20\n",
      "750/756 [============================>.] - ETA: 0s - loss: 0.0155 - mean_squared_error: 0.0019 - root_mean_squared_error: 0.0438 - noiseToSignalLoss: 20.8985"
     ]
    },
    {
     "output_type": "stream",
     "name": "stderr",
     "text": [
      "\u001B[32m[I 2022-06-29 16:18:45,625]\u001B[0m Trial 17 pruned. Trial was pruned at epoch 1.\u001B[0m\n"
     ]
    },
    {
     "output_type": "stream",
     "name": "stdout",
     "text": [
      "Epoch 1/20\n",
      "785/785 [==============================] - 5s 5ms/step - loss: 0.2106 - mean_squared_error: 0.0691 - root_mean_squared_error: 0.2629 - noiseToSignalLoss: 11928.1660 - val_loss: 0.2000 - val_mean_squared_error: 0.0570 - val_root_mean_squared_error: 0.2387 - val_noiseToSignalLoss: 10205.9795\n",
      "Epoch 2/20\n",
      "783/785 [============================>.] - ETA: 0s - loss: 0.2106 - mean_squared_error: 0.0691 - root_mean_squared_error: 0.2629 - noiseToSignalLoss: 11931.7637"
     ]
    },
    {
     "output_type": "stream",
     "name": "stderr",
     "text": [
      "\u001B[32m[I 2022-06-29 16:20:39,684]\u001B[0m Trial 18 pruned. Trial was pruned at epoch 1.\u001B[0m\n"
     ]
    },
    {
     "output_type": "stream",
     "name": "stdout",
     "text": [
      "Epoch 1/20\n",
      "793/793 [==============================] - 5s 5ms/step - loss: 0.0329 - mean_squared_error: 0.0038 - root_mean_squared_error: 0.0616 - noiseToSignalLoss: 318.7852 - val_loss: 0.0157 - val_mean_squared_error: 0.0019 - val_root_mean_squared_error: 0.0441 - val_noiseToSignalLoss: 18.8570\n",
      "Epoch 2/20\n",
      "790/793 [============================>.] - ETA: 0s - loss: 0.0176 - mean_squared_error: 0.0021 - root_mean_squared_error: 0.0455 - noiseToSignalLoss: 31.0718"
     ]
    },
    {
     "output_type": "stream",
     "name": "stderr",
     "text": [
      "\u001B[32m[I 2022-06-29 16:22:34,364]\u001B[0m Trial 19 pruned. Trial was pruned at epoch 1.\u001B[0m\n"
     ]
    },
    {
     "output_type": "stream",
     "name": "stdout",
     "text": [
      "Epoch 1/20\n",
      "774/774 [==============================] - 5s 5ms/step - loss: 0.0180 - mean_squared_error: 0.0022 - root_mean_squared_error: 0.0464 - noiseToSignalLoss: 57.3556 - val_loss: 0.0133 - val_mean_squared_error: 0.0016 - val_root_mean_squared_error: 0.0404 - val_noiseToSignalLoss: 12.0584\n",
      "Epoch 2/20\n",
      "774/774 [==============================] - 4s 5ms/step - loss: 0.0136 - mean_squared_error: 0.0017 - root_mean_squared_error: 0.0416 - noiseToSignalLoss: 24.9974 - val_loss: 0.0125 - val_mean_squared_error: 0.0015 - val_root_mean_squared_error: 0.0388 - val_noiseToSignalLoss: 24.3504\n",
      "Epoch 3/20\n",
      "774/774 [==============================] - 4s 5ms/step - loss: 0.0130 - mean_squared_error: 0.0017 - root_mean_squared_error: 0.0413 - noiseToSignalLoss: 22.9055 - val_loss: 0.0120 - val_mean_squared_error: 0.0015 - val_root_mean_squared_error: 0.0390 - val_noiseToSignalLoss: 23.5456\n",
      "Epoch 4/20\n",
      "774/774 [==============================] - 4s 5ms/step - loss: 0.0127 - mean_squared_error: 0.0017 - root_mean_squared_error: 0.0410 - noiseToSignalLoss: 22.4294 - val_loss: 0.0122 - val_mean_squared_error: 0.0015 - val_root_mean_squared_error: 0.0389 - val_noiseToSignalLoss: 28.1675\n",
      "Epoch 5/20\n",
      "768/774 [============================>.] - ETA: 0s - loss: 0.0125 - mean_squared_error: 0.0017 - root_mean_squared_error: 0.0409 - noiseToSignalLoss: 21.0638"
     ]
    },
    {
     "output_type": "stream",
     "name": "stderr",
     "text": [
      "\u001B[32m[I 2022-06-29 16:24:39,151]\u001B[0m Trial 20 pruned. Trial was pruned at epoch 4.\u001B[0m\n"
     ]
    },
    {
     "output_type": "stream",
     "name": "stdout",
     "text": [
      "Epoch 1/20\n",
      "793/793 [==============================] - 5s 5ms/step - loss: 0.0201 - mean_squared_error: 0.0024 - root_mean_squared_error: 0.0485 - noiseToSignalLoss: 105.1933 - val_loss: 0.0138 - val_mean_squared_error: 0.0017 - val_root_mean_squared_error: 0.0408 - val_noiseToSignalLoss: 24.8359\n",
      "Epoch 2/20\n",
      "787/793 [============================>.] - ETA: 0s - loss: 0.0142 - mean_squared_error: 0.0018 - root_mean_squared_error: 0.0419 - noiseToSignalLoss: 24.1552"
     ]
    },
    {
     "output_type": "stream",
     "name": "stderr",
     "text": [
      "\u001B[32m[I 2022-06-29 16:26:34,569]\u001B[0m Trial 21 pruned. Trial was pruned at epoch 1.\u001B[0m\n"
     ]
    },
    {
     "output_type": "stream",
     "name": "stdout",
     "text": [
      "Epoch 1/20\n",
      "785/785 [==============================] - 5s 5ms/step - loss: 0.0206 - mean_squared_error: 0.0024 - root_mean_squared_error: 0.0490 - noiseToSignalLoss: 116.3521 - val_loss: 0.0136 - val_mean_squared_error: 0.0018 - val_root_mean_squared_error: 0.0426 - val_noiseToSignalLoss: 20.6234\n",
      "Epoch 2/20\n",
      "778/785 [============================>.] - ETA: 0s - loss: 0.0140 - mean_squared_error: 0.0018 - root_mean_squared_error: 0.0418 - noiseToSignalLoss: 27.2423"
     ]
    },
    {
     "output_type": "stream",
     "name": "stderr",
     "text": [
      "\u001B[32m[I 2022-06-29 16:28:29,968]\u001B[0m Trial 22 pruned. Trial was pruned at epoch 1.\u001B[0m\n"
     ]
    },
    {
     "output_type": "stream",
     "name": "stdout",
     "text": [
      "Epoch 1/20\n",
      "774/774 [==============================] - 5s 5ms/step - loss: 0.0325 - mean_squared_error: 0.0037 - root_mean_squared_error: 0.0606 - noiseToSignalLoss: 303.1050 - val_loss: 0.0149 - val_mean_squared_error: 0.0018 - val_root_mean_squared_error: 0.0423 - val_noiseToSignalLoss: 19.8859\n",
      "Epoch 2/20\n",
      "768/774 [============================>.] - ETA: 0s - loss: 0.0170 - mean_squared_error: 0.0020 - root_mean_squared_error: 0.0451 - noiseToSignalLoss: 29.1161"
     ]
    },
    {
     "output_type": "stream",
     "name": "stderr",
     "text": [
      "\u001B[32m[I 2022-06-29 16:30:22,955]\u001B[0m Trial 23 pruned. Trial was pruned at epoch 1.\u001B[0m\n"
     ]
    },
    {
     "output_type": "stream",
     "name": "stdout",
     "text": [
      "Epoch 1/20\n",
      "785/785 [==============================] - 5s 5ms/step - loss: 0.0206 - mean_squared_error: 0.0024 - root_mean_squared_error: 0.0494 - noiseToSignalLoss: 124.0833 - val_loss: 0.0134 - val_mean_squared_error: 0.0018 - val_root_mean_squared_error: 0.0426 - val_noiseToSignalLoss: 19.9477\n",
      "Epoch 2/20\n",
      "785/785 [==============================] - 4s 5ms/step - loss: 0.0138 - mean_squared_error: 0.0018 - root_mean_squared_error: 0.0419 - noiseToSignalLoss: 24.3248 - val_loss: 0.0126 - val_mean_squared_error: 0.0018 - val_root_mean_squared_error: 0.0422 - val_noiseToSignalLoss: 21.1045\n",
      "Epoch 3/20\n",
      "785/785 [==============================] - 4s 5ms/step - loss: 0.0132 - mean_squared_error: 0.0017 - root_mean_squared_error: 0.0414 - noiseToSignalLoss: 25.0637 - val_loss: 0.0128 - val_mean_squared_error: 0.0017 - val_root_mean_squared_error: 0.0417 - val_noiseToSignalLoss: 24.1453\n",
      "Epoch 4/20\n",
      "785/785 [==============================] - 4s 5ms/step - loss: 0.0128 - mean_squared_error: 0.0017 - root_mean_squared_error: 0.0411 - noiseToSignalLoss: 23.7679 - val_loss: 0.0123 - val_mean_squared_error: 0.0017 - val_root_mean_squared_error: 0.0417 - val_noiseToSignalLoss: 21.7112\n",
      "Epoch 5/20\n",
      "785/785 [==============================] - ETA: 0s - loss: 0.0127 - mean_squared_error: 0.0017 - root_mean_squared_error: 0.0409 - noiseToSignalLoss: 24.5620"
     ]
    },
    {
     "output_type": "stream",
     "name": "stderr",
     "text": [
      "\u001B[32m[I 2022-06-29 16:32:29,731]\u001B[0m Trial 24 pruned. Trial was pruned at epoch 4.\u001B[0m\n"
     ]
    },
    {
     "output_type": "stream",
     "name": "stdout",
     "text": [
      "Epoch 1/20\n",
      "756/756 [==============================] - 5s 5ms/step - loss: 0.0159 - mean_squared_error: 0.0019 - root_mean_squared_error: 0.0436 - noiseToSignalLoss: 35.9038 - val_loss: 0.0143 - val_mean_squared_error: 0.0018 - val_root_mean_squared_error: 0.0423 - val_noiseToSignalLoss: 34.2947\n",
      "Epoch 2/20\n",
      "748/756 [============================>.] - ETA: 0s - loss: 0.0129 - mean_squared_error: 0.0017 - root_mean_squared_error: 0.0408 - noiseToSignalLoss: 19.8626"
     ]
    },
    {
     "output_type": "stream",
     "name": "stderr",
     "text": [
      "\u001B[32m[I 2022-06-29 16:34:21,866]\u001B[0m Trial 25 pruned. Trial was pruned at epoch 1.\u001B[0m\n"
     ]
    },
    {
     "output_type": "stream",
     "name": "stdout",
     "text": [
      "Epoch 1/20\n",
      "793/793 [==============================] - 5s 5ms/step - loss: 0.0282 - mean_squared_error: 0.0032 - root_mean_squared_error: 0.0563 - noiseToSignalLoss: 243.1348 - val_loss: 0.0147 - val_mean_squared_error: 0.0018 - val_root_mean_squared_error: 0.0430 - val_noiseToSignalLoss: 16.0300\n",
      "Epoch 2/20\n",
      "785/793 [============================>.] - ETA: 0s - loss: 0.0163 - mean_squared_error: 0.0019 - root_mean_squared_error: 0.0441 - noiseToSignalLoss: 24.8846"
     ]
    },
    {
     "output_type": "stream",
     "name": "stderr",
     "text": [
      "\u001B[32m[I 2022-06-29 16:36:16,816]\u001B[0m Trial 26 pruned. Trial was pruned at epoch 1.\u001B[0m\n"
     ]
    },
    {
     "output_type": "stream",
     "name": "stdout",
     "text": [
      "Epoch 1/20\n",
      "774/774 [==============================] - 5s 5ms/step - loss: 0.1187 - mean_squared_error: 0.0235 - root_mean_squared_error: 0.1534 - noiseToSignalLoss: 3449.7363 - val_loss: 0.0302 - val_mean_squared_error: 0.0028 - val_root_mean_squared_error: 0.0527 - val_noiseToSignalLoss: 169.5337\n",
      "Epoch 2/20\n",
      "771/774 [============================>.] - ETA: 0s - loss: 0.0876 - mean_squared_error: 0.0132 - root_mean_squared_error: 0.1149 - noiseToSignalLoss: 1847.2969"
     ]
    },
    {
     "output_type": "stream",
     "name": "stderr",
     "text": [
      "\u001B[32m[I 2022-06-29 16:38:10,189]\u001B[0m Trial 27 pruned. Trial was pruned at epoch 1.\u001B[0m\n"
     ]
    },
    {
     "output_type": "stream",
     "name": "stdout",
     "text": [
      "Epoch 1/20\n",
      "785/785 [==============================] - 5s 5ms/step - loss: 0.0192 - mean_squared_error: 0.0026 - root_mean_squared_error: 0.0511 - noiseToSignalLoss: 170.3438 - val_loss: 0.0133 - val_mean_squared_error: 0.0017 - val_root_mean_squared_error: 0.0413 - val_noiseToSignalLoss: 29.3169\n",
      "Epoch 2/20\n",
      "785/785 [==============================] - 4s 5ms/step - loss: 0.0133 - mean_squared_error: 0.0017 - root_mean_squared_error: 0.0413 - noiseToSignalLoss: 23.2589 - val_loss: 0.0124 - val_mean_squared_error: 0.0017 - val_root_mean_squared_error: 0.0415 - val_noiseToSignalLoss: 20.4011\n",
      "Epoch 3/20\n",
      "785/785 [==============================] - 4s 5ms/step - loss: 0.0127 - mean_squared_error: 0.0017 - root_mean_squared_error: 0.0409 - noiseToSignalLoss: 23.7512 - val_loss: 0.0123 - val_mean_squared_error: 0.0017 - val_root_mean_squared_error: 0.0410 - val_noiseToSignalLoss: 26.9440\n",
      "Epoch 4/20\n",
      "785/785 [==============================] - 4s 5ms/step - loss: 0.0125 - mean_squared_error: 0.0016 - root_mean_squared_error: 0.0406 - noiseToSignalLoss: 23.0618 - val_loss: 0.0120 - val_mean_squared_error: 0.0017 - val_root_mean_squared_error: 0.0412 - val_noiseToSignalLoss: 19.7384\n",
      "Epoch 5/20\n",
      "777/785 [============================>.] - ETA: 0s - loss: 0.0123 - mean_squared_error: 0.0016 - root_mean_squared_error: 0.0404 - noiseToSignalLoss: 23.3264"
     ]
    },
    {
     "output_type": "stream",
     "name": "stderr",
     "text": [
      "\u001B[32m[I 2022-06-29 16:40:16,571]\u001B[0m Trial 28 pruned. Trial was pruned at epoch 4.\u001B[0m\n"
     ]
    },
    {
     "output_type": "stream",
     "name": "stdout",
     "text": [
      "Epoch 1/20\n",
      "756/756 [==============================] - 5s 5ms/step - loss: 0.0594 - mean_squared_error: 0.0072 - root_mean_squared_error: 0.0850 - noiseToSignalLoss: 1029.5542 - val_loss: 0.0172 - val_mean_squared_error: 0.0021 - val_root_mean_squared_error: 0.0454 - val_noiseToSignalLoss: 35.1269\n",
      "Epoch 2/20\n",
      "752/756 [============================>.] - ETA: 0s - loss: 0.0295 - mean_squared_error: 0.0027 - root_mean_squared_error: 0.0523 - noiseToSignalLoss: 142.2504"
     ]
    },
    {
     "output_type": "stream",
     "name": "stderr",
     "text": [
      "\u001B[32m[I 2022-06-29 16:42:08,608]\u001B[0m Trial 29 pruned. Trial was pruned at epoch 1.\u001B[0m\n"
     ]
    },
    {
     "output_type": "stream",
     "name": "stdout",
     "text": [
      "Epoch 1/20\n",
      "774/774 [==============================] - 5s 5ms/step - loss: 0.0376 - mean_squared_error: 0.0040 - root_mean_squared_error: 0.0636 - noiseToSignalLoss: 326.5742 - val_loss: 0.0162 - val_mean_squared_error: 0.0019 - val_root_mean_squared_error: 0.0434 - val_noiseToSignalLoss: 27.4803\n",
      "Epoch 2/20\n",
      "767/774 [============================>.] - ETA: 0s - loss: 0.0192 - mean_squared_error: 0.0022 - root_mean_squared_error: 0.0467 - noiseToSignalLoss: 39.9113"
     ]
    },
    {
     "output_type": "stream",
     "name": "stderr",
     "text": [
      "\u001B[32m[I 2022-06-29 16:44:02,552]\u001B[0m Trial 30 pruned. Trial was pruned at epoch 1.\u001B[0m\n"
     ]
    },
    {
     "output_type": "stream",
     "name": "stdout",
     "text": [
      "Epoch 1/20\n",
      "800/800 [==============================] - 5s 5ms/step - loss: 0.0640 - mean_squared_error: 0.0075 - root_mean_squared_error: 0.0869 - noiseToSignalLoss: 962.7629 - val_loss: 0.0203 - val_mean_squared_error: 0.0022 - val_root_mean_squared_error: 0.0471 - val_noiseToSignalLoss: 54.1386\n",
      "Epoch 2/20\n",
      "794/800 [============================>.] - ETA: 0s - loss: 0.0452 - mean_squared_error: 0.0043 - root_mean_squared_error: 0.0657 - noiseToSignalLoss: 443.7748"
     ]
    },
    {
     "output_type": "stream",
     "name": "stderr",
     "text": [
      "\u001B[32m[I 2022-06-29 16:45:57,954]\u001B[0m Trial 31 pruned. Trial was pruned at epoch 1.\u001B[0m\n"
     ]
    },
    {
     "output_type": "stream",
     "name": "stdout",
     "text": [
      "Epoch 1/20\n",
      "793/793 [==============================] - 5s 5ms/step - loss: 0.0515 - mean_squared_error: 0.0058 - root_mean_squared_error: 0.0765 - noiseToSignalLoss: 752.9150 - val_loss: 0.0181 - val_mean_squared_error: 0.0020 - val_root_mean_squared_error: 0.0449 - val_noiseToSignalLoss: 36.7849\n",
      "Epoch 2/20\n",
      "789/793 [============================>.] - ETA: 0s - loss: 0.0249 - mean_squared_error: 0.0024 - root_mean_squared_error: 0.0493 - noiseToSignalLoss: 90.3385"
     ]
    },
    {
     "output_type": "stream",
     "name": "stderr",
     "text": [
      "\u001B[32m[I 2022-06-29 16:47:52,669]\u001B[0m Trial 32 pruned. Trial was pruned at epoch 1.\u001B[0m\n"
     ]
    },
    {
     "output_type": "stream",
     "name": "stdout",
     "text": [
      "Epoch 1/20\n",
      "800/800 [==============================] - 5s 5ms/step - loss: 0.1885 - mean_squared_error: 0.0534 - root_mean_squared_error: 0.2311 - noiseToSignalLoss: 10177.9834 - val_loss: 0.1429 - val_mean_squared_error: 0.0294 - val_root_mean_squared_error: 0.1715 - val_noiseToSignalLoss: 5904.0068\n",
      "Epoch 2/20\n",
      "792/800 [============================>.] - ETA: 0s - loss: 0.1566 - mean_squared_error: 0.0384 - root_mean_squared_error: 0.1959 - noiseToSignalLoss: 7267.3276"
     ]
    },
    {
     "output_type": "stream",
     "name": "stderr",
     "text": [
      "\u001B[32m[I 2022-06-29 16:49:47,752]\u001B[0m Trial 33 pruned. Trial was pruned at epoch 1.\u001B[0m\n"
     ]
    },
    {
     "output_type": "stream",
     "name": "stdout",
     "text": [
      "Epoch 1/20\n",
      "800/800 [==============================] - 5s 5ms/step - loss: 0.0614 - mean_squared_error: 0.0071 - root_mean_squared_error: 0.0844 - noiseToSignalLoss: 1012.7158 - val_loss: 0.0195 - val_mean_squared_error: 0.0021 - val_root_mean_squared_error: 0.0455 - val_noiseToSignalLoss: 68.3579\n",
      "Epoch 2/20\n",
      "797/800 [============================>.] - ETA: 0s - loss: 0.0348 - mean_squared_error: 0.0031 - root_mean_squared_error: 0.0560 - noiseToSignalLoss: 248.3788"
     ]
    },
    {
     "output_type": "stream",
     "name": "stderr",
     "text": [
      "\u001B[32m[I 2022-06-29 16:51:44,844]\u001B[0m Trial 34 pruned. Trial was pruned at epoch 1.\u001B[0m\n"
     ]
    },
    {
     "output_type": "stream",
     "name": "stdout",
     "text": [
      "Epoch 1/20\n",
      "793/793 [==============================] - 5s 5ms/step - loss: 0.1411 - mean_squared_error: 0.0286 - root_mean_squared_error: 0.1692 - noiseToSignalLoss: 5300.8916 - val_loss: 0.0919 - val_mean_squared_error: 0.0105 - val_root_mean_squared_error: 0.1024 - val_noiseToSignalLoss: 1895.8008\n",
      "Epoch 2/20\n",
      "785/793 [============================>.] - ETA: 0s - loss: 0.0888 - mean_squared_error: 0.0128 - root_mean_squared_error: 0.1132 - noiseToSignalLoss: 2220.9141"
     ]
    },
    {
     "output_type": "stream",
     "name": "stderr",
     "text": [
      "\u001B[32m[I 2022-06-29 16:53:39,707]\u001B[0m Trial 35 pruned. Trial was pruned at epoch 1.\u001B[0m\n"
     ]
    },
    {
     "output_type": "stream",
     "name": "stdout",
     "text": [
      "Epoch 1/20\n",
      "800/800 [==============================] - 5s 5ms/step - loss: 0.0233 - mean_squared_error: 0.0028 - root_mean_squared_error: 0.0534 - noiseToSignalLoss: 180.1232 - val_loss: 0.0141 - val_mean_squared_error: 0.0019 - val_root_mean_squared_error: 0.0431 - val_noiseToSignalLoss: 18.5785\n",
      "Epoch 2/20\n",
      "795/800 [============================>.] - ETA: 0s - loss: 0.0144 - mean_squared_error: 0.0018 - root_mean_squared_error: 0.0422 - noiseToSignalLoss: 24.3176"
     ]
    },
    {
     "output_type": "stream",
     "name": "stderr",
     "text": [
      "\u001B[32m[I 2022-06-29 16:55:34,378]\u001B[0m Trial 36 pruned. Trial was pruned at epoch 1.\u001B[0m\n"
     ]
    },
    {
     "output_type": "stream",
     "name": "stdout",
     "text": [
      "Epoch 1/20\n",
      "800/800 [==============================] - 5s 5ms/step - loss: 0.0301 - mean_squared_error: 0.0031 - root_mean_squared_error: 0.0561 - noiseToSignalLoss: 227.0760 - val_loss: 0.0157 - val_mean_squared_error: 0.0020 - val_root_mean_squared_error: 0.0448 - val_noiseToSignalLoss: 19.0811\n",
      "Epoch 2/20\n",
      "800/800 [==============================] - ETA: 0s - loss: 0.0170 - mean_squared_error: 0.0020 - root_mean_squared_error: 0.0446 - noiseToSignalLoss: 28.1135"
     ]
    },
    {
     "output_type": "stream",
     "name": "stderr",
     "text": [
      "\u001B[32m[I 2022-06-29 16:57:29,822]\u001B[0m Trial 37 pruned. Trial was pruned at epoch 1.\u001B[0m\n"
     ]
    },
    {
     "output_type": "stream",
     "name": "stdout",
     "text": [
      "Epoch 1/20\n",
      "756/756 [==============================] - 5s 5ms/step - loss: 0.0500 - mean_squared_error: 0.0058 - root_mean_squared_error: 0.0764 - noiseToSignalLoss: 612.6764 - val_loss: 0.0164 - val_mean_squared_error: 0.0021 - val_root_mean_squared_error: 0.0455 - val_noiseToSignalLoss: 26.2217\n",
      "Epoch 2/20\n",
      "756/756 [==============================] - ETA: 0s - loss: 0.0222 - mean_squared_error: 0.0023 - root_mean_squared_error: 0.0475 - noiseToSignalLoss: 63.1795"
     ]
    },
    {
     "output_type": "stream",
     "name": "stderr",
     "text": [
      "\u001B[32m[I 2022-06-29 16:59:21,518]\u001B[0m Trial 38 pruned. Trial was pruned at epoch 1.\u001B[0m\n"
     ]
    },
    {
     "output_type": "stream",
     "name": "stdout",
     "text": [
      "Epoch 1/20\n",
      "785/785 [==============================] - 5s 5ms/step - loss: 0.1217 - mean_squared_error: 0.0239 - root_mean_squared_error: 0.1546 - noiseToSignalLoss: 3392.3403 - val_loss: 0.0898 - val_mean_squared_error: 0.0145 - val_root_mean_squared_error: 0.1202 - val_noiseToSignalLoss: 1841.5663\n",
      "Epoch 2/20\n",
      "777/785 [============================>.] - ETA: 0s - loss: 0.1139 - mean_squared_error: 0.0210 - root_mean_squared_error: 0.1449 - noiseToSignalLoss: 2974.3171"
     ]
    },
    {
     "output_type": "stream",
     "name": "stderr",
     "text": [
      "\u001B[32m[I 2022-06-29 17:01:15,278]\u001B[0m Trial 39 pruned. Trial was pruned at epoch 1.\u001B[0m\n"
     ]
    },
    {
     "output_type": "stream",
     "name": "stdout",
     "text": [
      "Epoch 1/20\n",
      "774/774 [==============================] - 5s 5ms/step - loss: 0.0904 - mean_squared_error: 0.0148 - root_mean_squared_error: 0.1217 - noiseToSignalLoss: 1997.5037 - val_loss: 0.0214 - val_mean_squared_error: 0.0021 - val_root_mean_squared_error: 0.0457 - val_noiseToSignalLoss: 51.5179\n",
      "Epoch 2/20\n",
      "773/774 [============================>.] - ETA: 0s - loss: 0.0586 - mean_squared_error: 0.0064 - root_mean_squared_error: 0.0802 - noiseToSignalLoss: 787.0642"
     ]
    },
    {
     "output_type": "stream",
     "name": "stderr",
     "text": [
      "\u001B[32m[I 2022-06-29 17:03:08,635]\u001B[0m Trial 40 pruned. Trial was pruned at epoch 1.\u001B[0m\n"
     ]
    },
    {
     "output_type": "stream",
     "name": "stdout",
     "text": [
      "Epoch 1/20\n",
      "800/800 [==============================] - 5s 5ms/step - loss: 0.0539 - mean_squared_error: 0.0064 - root_mean_squared_error: 0.0801 - noiseToSignalLoss: 716.4372 - val_loss: 0.0174 - val_mean_squared_error: 0.0021 - val_root_mean_squared_error: 0.0455 - val_noiseToSignalLoss: 32.3631\n",
      "Epoch 2/20\n",
      "800/800 [==============================] - ETA: 0s - loss: 0.0296 - mean_squared_error: 0.0027 - root_mean_squared_error: 0.0521 - noiseToSignalLoss: 152.8044"
     ]
    },
    {
     "output_type": "stream",
     "name": "stderr",
     "text": [
      "\u001B[32m[I 2022-06-29 17:05:06,315]\u001B[0m Trial 41 pruned. Trial was pruned at epoch 1.\u001B[0m\n"
     ]
    },
    {
     "output_type": "stream",
     "name": "stdout",
     "text": [
      "Epoch 1/20\n",
      "800/800 [==============================] - 5s 5ms/step - loss: 0.0937 - mean_squared_error: 0.0145 - root_mean_squared_error: 0.1205 - noiseToSignalLoss: 2387.8687 - val_loss: 0.0281 - val_mean_squared_error: 0.0025 - val_root_mean_squared_error: 0.0502 - val_noiseToSignalLoss: 171.6109\n",
      "Epoch 2/20\n",
      "792/800 [============================>.] - ETA: 0s - loss: 0.0774 - mean_squared_error: 0.0103 - root_mean_squared_error: 0.1014 - noiseToSignalLoss: 1575.1842"
     ]
    },
    {
     "output_type": "stream",
     "name": "stderr",
     "text": [
      "\u001B[32m[I 2022-06-29 17:07:01,294]\u001B[0m Trial 42 pruned. Trial was pruned at epoch 1.\u001B[0m\n"
     ]
    },
    {
     "output_type": "stream",
     "name": "stdout",
     "text": [
      "Epoch 1/20\n",
      "800/800 [==============================] - 5s 5ms/step - loss: 0.0387 - mean_squared_error: 0.0041 - root_mean_squared_error: 0.0644 - noiseToSignalLoss: 432.0818 - val_loss: 0.0158 - val_mean_squared_error: 0.0019 - val_root_mean_squared_error: 0.0438 - val_noiseToSignalLoss: 28.3796\n",
      "Epoch 2/20\n",
      "791/800 [============================>.] - ETA: 0s - loss: 0.0191 - mean_squared_error: 0.0020 - root_mean_squared_error: 0.0452 - noiseToSignalLoss: 45.6958"
     ]
    },
    {
     "output_type": "stream",
     "name": "stderr",
     "text": [
      "\u001B[32m[I 2022-06-29 17:08:55,985]\u001B[0m Trial 43 pruned. Trial was pruned at epoch 1.\u001B[0m\n"
     ]
    },
    {
     "output_type": "stream",
     "name": "stdout",
     "text": [
      "Epoch 1/20\n",
      "793/793 [==============================] - 5s 5ms/step - loss: 0.0181 - mean_squared_error: 0.0022 - root_mean_squared_error: 0.0465 - noiseToSignalLoss: 73.5207 - val_loss: 0.0131 - val_mean_squared_error: 0.0016 - val_root_mean_squared_error: 0.0401 - val_noiseToSignalLoss: 29.0812\n",
      "Epoch 2/20\n",
      "793/793 [==============================] - 4s 5ms/step - loss: 0.0135 - mean_squared_error: 0.0017 - root_mean_squared_error: 0.0416 - noiseToSignalLoss: 25.1195 - val_loss: 0.0123 - val_mean_squared_error: 0.0016 - val_root_mean_squared_error: 0.0396 - val_noiseToSignalLoss: 32.5079\n",
      "Epoch 3/20\n",
      "793/793 [==============================] - 4s 5ms/step - loss: 0.0129 - mean_squared_error: 0.0017 - root_mean_squared_error: 0.0412 - noiseToSignalLoss: 24.3966 - val_loss: 0.0121 - val_mean_squared_error: 0.0016 - val_root_mean_squared_error: 0.0395 - val_noiseToSignalLoss: 37.7457\n",
      "Epoch 4/20\n",
      "793/793 [==============================] - 4s 5ms/step - loss: 0.0126 - mean_squared_error: 0.0017 - root_mean_squared_error: 0.0409 - noiseToSignalLoss: 23.3288 - val_loss: 0.0120 - val_mean_squared_error: 0.0015 - val_root_mean_squared_error: 0.0392 - val_noiseToSignalLoss: 43.2514\n",
      "Epoch 5/20\n",
      "793/793 [==============================] - 4s 5ms/step - loss: 0.0124 - mean_squared_error: 0.0017 - root_mean_squared_error: 0.0406 - noiseToSignalLoss: 23.0453 - val_loss: 0.0119 - val_mean_squared_error: 0.0015 - val_root_mean_squared_error: 0.0389 - val_noiseToSignalLoss: 36.5508\n",
      "Epoch 6/20\n",
      "793/793 [==============================] - 4s 5ms/step - loss: 0.0123 - mean_squared_error: 0.0016 - root_mean_squared_error: 0.0404 - noiseToSignalLoss: 22.4233 - val_loss: 0.0117 - val_mean_squared_error: 0.0015 - val_root_mean_squared_error: 0.0389 - val_noiseToSignalLoss: 36.8198\n",
      "Epoch 7/20\n",
      "793/793 [==============================] - 4s 5ms/step - loss: 0.0121 - mean_squared_error: 0.0016 - root_mean_squared_error: 0.0401 - noiseToSignalLoss: 22.2026 - val_loss: 0.0119 - val_mean_squared_error: 0.0015 - val_root_mean_squared_error: 0.0385 - val_noiseToSignalLoss: 28.6032\n",
      "Epoch 8/20\n",
      "793/793 [==============================] - 4s 5ms/step - loss: 0.0120 - mean_squared_error: 0.0015 - root_mean_squared_error: 0.0393 - noiseToSignalLoss: 19.4011 - val_loss: 0.0115 - val_mean_squared_error: 0.0014 - val_root_mean_squared_error: 0.0373 - val_noiseToSignalLoss: 22.7542\n",
      "Epoch 9/20\n",
      "793/793 [==============================] - 4s 5ms/step - loss: 0.0118 - mean_squared_error: 0.0015 - root_mean_squared_error: 0.0386 - noiseToSignalLoss: 17.4084 - val_loss: 0.0114 - val_mean_squared_error: 0.0014 - val_root_mean_squared_error: 0.0371 - val_noiseToSignalLoss: 23.9629\n",
      "Epoch 10/20\n",
      "793/793 [==============================] - 4s 5ms/step - loss: 0.0118 - mean_squared_error: 0.0015 - root_mean_squared_error: 0.0386 - noiseToSignalLoss: 17.2129 - val_loss: 0.0114 - val_mean_squared_error: 0.0014 - val_root_mean_squared_error: 0.0370 - val_noiseToSignalLoss: 19.3729\n",
      "Epoch 11/20\n",
      "793/793 [==============================] - 4s 5ms/step - loss: 0.0117 - mean_squared_error: 0.0015 - root_mean_squared_error: 0.0383 - noiseToSignalLoss: 16.5575 - val_loss: 0.0114 - val_mean_squared_error: 0.0014 - val_root_mean_squared_error: 0.0372 - val_noiseToSignalLoss: 14.8237\n",
      "Epoch 12/20\n",
      "793/793 [==============================] - 4s 5ms/step - loss: 0.0116 - mean_squared_error: 0.0015 - root_mean_squared_error: 0.0382 - noiseToSignalLoss: 16.7374 - val_loss: 0.0116 - val_mean_squared_error: 0.0014 - val_root_mean_squared_error: 0.0372 - val_noiseToSignalLoss: 15.7327\n",
      "Epoch 13/20\n",
      "793/793 [==============================] - 4s 5ms/step - loss: 0.0116 - mean_squared_error: 0.0014 - root_mean_squared_error: 0.0380 - noiseToSignalLoss: 16.0421 - val_loss: 0.0113 - val_mean_squared_error: 0.0013 - val_root_mean_squared_error: 0.0367 - val_noiseToSignalLoss: 17.9310\n",
      "Epoch 14/20\n",
      "793/793 [==============================] - 4s 5ms/step - loss: 0.0115 - mean_squared_error: 0.0014 - root_mean_squared_error: 0.0379 - noiseToSignalLoss: 16.0130 - val_loss: 0.0113 - val_mean_squared_error: 0.0013 - val_root_mean_squared_error: 0.0365 - val_noiseToSignalLoss: 21.3248\n",
      "Epoch 15/20\n",
      "793/793 [==============================] - 4s 5ms/step - loss: 0.0115 - mean_squared_error: 0.0014 - root_mean_squared_error: 0.0378 - noiseToSignalLoss: 15.8895 - val_loss: 0.0116 - val_mean_squared_error: 0.0013 - val_root_mean_squared_error: 0.0364 - val_noiseToSignalLoss: 26.1214\n",
      "Epoch 16/20\n",
      "793/793 [==============================] - 4s 5ms/step - loss: 0.0115 - mean_squared_error: 0.0014 - root_mean_squared_error: 0.0378 - noiseToSignalLoss: 16.1489 - val_loss: 0.0112 - val_mean_squared_error: 0.0013 - val_root_mean_squared_error: 0.0366 - val_noiseToSignalLoss: 16.9082\n",
      "Epoch 17/20\n",
      "793/793 [==============================] - 4s 5ms/step - loss: 0.0114 - mean_squared_error: 0.0014 - root_mean_squared_error: 0.0377 - noiseToSignalLoss: 16.2448 - val_loss: 0.0112 - val_mean_squared_error: 0.0013 - val_root_mean_squared_error: 0.0364 - val_noiseToSignalLoss: 19.3447\n",
      "Epoch 18/20\n",
      "793/793 [==============================] - 4s 5ms/step - loss: 0.0114 - mean_squared_error: 0.0014 - root_mean_squared_error: 0.0377 - noiseToSignalLoss: 15.6143 - val_loss: 0.0112 - val_mean_squared_error: 0.0013 - val_root_mean_squared_error: 0.0365 - val_noiseToSignalLoss: 18.0478\n",
      "Epoch 19/20\n",
      "793/793 [==============================] - 4s 5ms/step - loss: 0.0114 - mean_squared_error: 0.0014 - root_mean_squared_error: 0.0376 - noiseToSignalLoss: 16.1183 - val_loss: 0.0113 - val_mean_squared_error: 0.0014 - val_root_mean_squared_error: 0.0370 - val_noiseToSignalLoss: 12.3066\n",
      "Epoch 20/20\n",
      "793/793 [==============================] - 4s 5ms/step - loss: 0.0114 - mean_squared_error: 0.0014 - root_mean_squared_error: 0.0376 - noiseToSignalLoss: 15.3444 - val_loss: 0.0112 - val_mean_squared_error: 0.0013 - val_root_mean_squared_error: 0.0363 - val_noiseToSignalLoss: 19.0454\n",
      "263/263 [==============================] - 1s 3ms/step - loss: 0.0092 - mean_squared_error: 8.2788e-04 - root_mean_squared_error: 0.0288 - noiseToSignalLoss: 13.9656\n"
     ]
    },
    {
     "output_type": "stream",
     "name": "stderr",
     "text": [
      "\u001B[32m[I 2022-06-29 17:12:02,667]\u001B[0m Trial 44 finished with value: 0.009206574410200119 and parameters: {'sequence_length': 6, 'ff1_hidden_neurons': 94, 'ff2_hidden_neurons': 212, 'ff3_hidden_neurons': 96, 'ff4_hidden_neurons': 120, 'ff5_hidden_neurons': 95, 'ff6_hidden_neurons': 146, 'ff7_hidden_neurons': 100, 'ff8_hidden_neurons': 171, 'ff9_hidden_neurons': 211, 'ff10_hidden_neurons': 100, 'ff11_hidden_neurons': 112, 'ff12_hidden_neurons': 91, 'ff13_hidden_neurons': 211, 'ff14_hidden_neurons': 171, 'ff15_hidden_neurons': 149, 'ff16_hidden_neurons': 236, 'ff17_hidden_neurons': 237, 'learning_rate': 5.1101272218002504e-05}. Best is trial 11 with value: 0.009202738292515278.\u001B[0m\n"
     ]
    },
    {
     "output_type": "stream",
     "name": "stdout",
     "text": [
      "Epoch 1/20\n",
      "793/793 [==============================] - 6s 5ms/step - loss: 0.0172 - mean_squared_error: 0.0021 - root_mean_squared_error: 0.0456 - noiseToSignalLoss: 63.2665 - val_loss: 0.0156 - val_mean_squared_error: 0.0018 - val_root_mean_squared_error: 0.0419 - val_noiseToSignalLoss: 22.4681\n",
      "Epoch 2/20\n",
      "793/793 [==============================] - 4s 5ms/step - loss: 0.0133 - mean_squared_error: 0.0017 - root_mean_squared_error: 0.0413 - noiseToSignalLoss: 22.7202 - val_loss: 0.0126 - val_mean_squared_error: 0.0015 - val_root_mean_squared_error: 0.0392 - val_noiseToSignalLoss: 40.1872\n",
      "Epoch 3/20\n",
      "793/793 [==============================] - 4s 5ms/step - loss: 0.0127 - mean_squared_error: 0.0017 - root_mean_squared_error: 0.0409 - noiseToSignalLoss: 22.1218 - val_loss: 0.0126 - val_mean_squared_error: 0.0016 - val_root_mean_squared_error: 0.0397 - val_noiseToSignalLoss: 33.7459\n",
      "Epoch 4/20\n",
      "793/793 [==============================] - 4s 5ms/step - loss: 0.0125 - mean_squared_error: 0.0017 - root_mean_squared_error: 0.0407 - noiseToSignalLoss: 21.6637 - val_loss: 0.0119 - val_mean_squared_error: 0.0015 - val_root_mean_squared_error: 0.0392 - val_noiseToSignalLoss: 41.1292\n",
      "Epoch 5/20\n",
      "793/793 [==============================] - 4s 5ms/step - loss: 0.0123 - mean_squared_error: 0.0016 - root_mean_squared_error: 0.0405 - noiseToSignalLoss: 22.4795 - val_loss: 0.0118 - val_mean_squared_error: 0.0015 - val_root_mean_squared_error: 0.0391 - val_noiseToSignalLoss: 38.9553\n",
      "Epoch 6/20\n",
      "793/793 [==============================] - 4s 5ms/step - loss: 0.0122 - mean_squared_error: 0.0016 - root_mean_squared_error: 0.0402 - noiseToSignalLoss: 20.7774 - val_loss: 0.0119 - val_mean_squared_error: 0.0015 - val_root_mean_squared_error: 0.0387 - val_noiseToSignalLoss: 35.2037\n",
      "Epoch 7/20\n",
      "793/793 [==============================] - 4s 5ms/step - loss: 0.0121 - mean_squared_error: 0.0016 - root_mean_squared_error: 0.0399 - noiseToSignalLoss: 19.7250 - val_loss: 0.0121 - val_mean_squared_error: 0.0015 - val_root_mean_squared_error: 0.0382 - val_noiseToSignalLoss: 36.4749\n",
      "Epoch 8/20\n",
      "793/793 [==============================] - 4s 5ms/step - loss: 0.0119 - mean_squared_error: 0.0015 - root_mean_squared_error: 0.0391 - noiseToSignalLoss: 18.2618 - val_loss: 0.0117 - val_mean_squared_error: 0.0014 - val_root_mean_squared_error: 0.0374 - val_noiseToSignalLoss: 14.8081\n",
      "Epoch 9/20\n",
      "793/793 [==============================] - 4s 5ms/step - loss: 0.0118 - mean_squared_error: 0.0015 - root_mean_squared_error: 0.0384 - noiseToSignalLoss: 16.6106 - val_loss: 0.0114 - val_mean_squared_error: 0.0014 - val_root_mean_squared_error: 0.0369 - val_noiseToSignalLoss: 17.5052\n",
      "Epoch 10/20\n",
      "793/793 [==============================] - 4s 5ms/step - loss: 0.0117 - mean_squared_error: 0.0015 - root_mean_squared_error: 0.0382 - noiseToSignalLoss: 15.6818 - val_loss: 0.0113 - val_mean_squared_error: 0.0013 - val_root_mean_squared_error: 0.0367 - val_noiseToSignalLoss: 17.6005\n",
      "Epoch 11/20\n",
      "793/793 [==============================] - 4s 5ms/step - loss: 0.0116 - mean_squared_error: 0.0015 - root_mean_squared_error: 0.0381 - noiseToSignalLoss: 15.7857 - val_loss: 0.0114 - val_mean_squared_error: 0.0014 - val_root_mean_squared_error: 0.0373 - val_noiseToSignalLoss: 11.8963\n",
      "Epoch 12/20\n",
      "793/793 [==============================] - 4s 5ms/step - loss: 0.0116 - mean_squared_error: 0.0014 - root_mean_squared_error: 0.0380 - noiseToSignalLoss: 15.8387 - val_loss: 0.0114 - val_mean_squared_error: 0.0013 - val_root_mean_squared_error: 0.0366 - val_noiseToSignalLoss: 20.2990\n",
      "Epoch 13/20\n",
      "793/793 [==============================] - 4s 5ms/step - loss: 0.0115 - mean_squared_error: 0.0014 - root_mean_squared_error: 0.0379 - noiseToSignalLoss: 15.5848 - val_loss: 0.0116 - val_mean_squared_error: 0.0013 - val_root_mean_squared_error: 0.0367 - val_noiseToSignalLoss: 20.1784\n",
      "Epoch 14/20\n",
      "793/793 [==============================] - 4s 5ms/step - loss: 0.0115 - mean_squared_error: 0.0014 - root_mean_squared_error: 0.0379 - noiseToSignalLoss: 15.5303 - val_loss: 0.0112 - val_mean_squared_error: 0.0013 - val_root_mean_squared_error: 0.0367 - val_noiseToSignalLoss: 15.9499\n",
      "Epoch 15/20\n",
      "793/793 [==============================] - 4s 5ms/step - loss: 0.0115 - mean_squared_error: 0.0014 - root_mean_squared_error: 0.0379 - noiseToSignalLoss: 15.5862 - val_loss: 0.0115 - val_mean_squared_error: 0.0013 - val_root_mean_squared_error: 0.0364 - val_noiseToSignalLoss: 21.4006\n",
      "Epoch 16/20\n",
      "793/793 [==============================] - 4s 5ms/step - loss: 0.0114 - mean_squared_error: 0.0014 - root_mean_squared_error: 0.0378 - noiseToSignalLoss: 15.7995 - val_loss: 0.0112 - val_mean_squared_error: 0.0013 - val_root_mean_squared_error: 0.0366 - val_noiseToSignalLoss: 17.4244\n",
      "Epoch 17/20\n",
      "793/793 [==============================] - ETA: 0s - loss: 0.0114 - mean_squared_error: 0.0014 - root_mean_squared_error: 0.0378 - noiseToSignalLoss: 15.9901"
     ]
    },
    {
     "output_type": "stream",
     "name": "stderr",
     "text": [
      "\u001B[32m[I 2022-06-29 17:14:57,868]\u001B[0m Trial 45 pruned. Trial was pruned at epoch 16.\u001B[0m\n"
     ]
    },
    {
     "output_type": "stream",
     "name": "stdout",
     "text": [
      "Epoch 1/20\n",
      "793/793 [==============================] - 5s 5ms/step - loss: 0.0264 - mean_squared_error: 0.0028 - root_mean_squared_error: 0.0533 - noiseToSignalLoss: 167.8096 - val_loss: 0.0148 - val_mean_squared_error: 0.0018 - val_root_mean_squared_error: 0.0426 - val_noiseToSignalLoss: 22.6952\n",
      "Epoch 2/20\n",
      "788/793 [============================>.] - ETA: 0s - loss: 0.0159 - mean_squared_error: 0.0019 - root_mean_squared_error: 0.0440 - noiseToSignalLoss: 23.7612"
     ]
    },
    {
     "output_type": "stream",
     "name": "stderr",
     "text": [
      "\u001B[32m[I 2022-06-29 17:16:52,853]\u001B[0m Trial 46 pruned. Trial was pruned at epoch 1.\u001B[0m\n"
     ]
    },
    {
     "output_type": "stream",
     "name": "stdout",
     "text": [
      "Epoch 1/20\n",
      "800/800 [==============================] - 5s 5ms/step - loss: 0.0216 - mean_squared_error: 0.0025 - root_mean_squared_error: 0.0503 - noiseToSignalLoss: 139.4639 - val_loss: 0.0139 - val_mean_squared_error: 0.0018 - val_root_mean_squared_error: 0.0425 - val_noiseToSignalLoss: 19.4714\n",
      "Epoch 2/20\n",
      "799/800 [============================>.] - ETA: 0s - loss: 0.0142 - mean_squared_error: 0.0017 - root_mean_squared_error: 0.0416 - noiseToSignalLoss: 30.7108"
     ]
    },
    {
     "output_type": "stream",
     "name": "stderr",
     "text": [
      "\u001B[32m[I 2022-06-29 17:18:48,109]\u001B[0m Trial 47 pruned. Trial was pruned at epoch 1.\u001B[0m\n"
     ]
    },
    {
     "output_type": "stream",
     "name": "stdout",
     "text": [
      "Epoch 1/20\n",
      "785/785 [==============================] - 5s 5ms/step - loss: 0.0162 - mean_squared_error: 0.0020 - root_mean_squared_error: 0.0443 - noiseToSignalLoss: 41.8056 - val_loss: 0.0126 - val_mean_squared_error: 0.0017 - val_root_mean_squared_error: 0.0416 - val_noiseToSignalLoss: 22.5659\n",
      "Epoch 2/20\n",
      "785/785 [==============================] - 4s 5ms/step - loss: 0.0129 - mean_squared_error: 0.0017 - root_mean_squared_error: 0.0410 - noiseToSignalLoss: 22.2337 - val_loss: 0.0128 - val_mean_squared_error: 0.0017 - val_root_mean_squared_error: 0.0410 - val_noiseToSignalLoss: 28.2547\n",
      "Epoch 3/20\n",
      "785/785 [==============================] - 4s 5ms/step - loss: 0.0125 - mean_squared_error: 0.0016 - root_mean_squared_error: 0.0405 - noiseToSignalLoss: 21.9858 - val_loss: 0.0119 - val_mean_squared_error: 0.0017 - val_root_mean_squared_error: 0.0408 - val_noiseToSignalLoss: 22.6419\n",
      "Epoch 4/20\n",
      "785/785 [==============================] - 4s 5ms/step - loss: 0.0122 - mean_squared_error: 0.0016 - root_mean_squared_error: 0.0399 - noiseToSignalLoss: 20.6330 - val_loss: 0.0118 - val_mean_squared_error: 0.0016 - val_root_mean_squared_error: 0.0400 - val_noiseToSignalLoss: 20.8470\n",
      "Epoch 5/20\n",
      "785/785 [==============================] - 4s 5ms/step - loss: 0.0120 - mean_squared_error: 0.0015 - root_mean_squared_error: 0.0391 - noiseToSignalLoss: 16.6210 - val_loss: 0.0117 - val_mean_squared_error: 0.0015 - val_root_mean_squared_error: 0.0391 - val_noiseToSignalLoss: 21.2789\n",
      "Epoch 6/20\n",
      "785/785 [==============================] - 4s 5ms/step - loss: 0.0118 - mean_squared_error: 0.0015 - root_mean_squared_error: 0.0387 - noiseToSignalLoss: 15.2849 - val_loss: 0.0122 - val_mean_squared_error: 0.0016 - val_root_mean_squared_error: 0.0394 - val_noiseToSignalLoss: 17.0516\n",
      "Epoch 7/20\n",
      "785/785 [==============================] - 4s 5ms/step - loss: 0.0118 - mean_squared_error: 0.0015 - root_mean_squared_error: 0.0385 - noiseToSignalLoss: 15.3735 - val_loss: 0.0121 - val_mean_squared_error: 0.0015 - val_root_mean_squared_error: 0.0390 - val_noiseToSignalLoss: 21.0604\n",
      "Epoch 8/20\n",
      "785/785 [==============================] - 4s 5ms/step - loss: 0.0117 - mean_squared_error: 0.0015 - root_mean_squared_error: 0.0384 - noiseToSignalLoss: 14.6230 - val_loss: 0.0116 - val_mean_squared_error: 0.0015 - val_root_mean_squared_error: 0.0390 - val_noiseToSignalLoss: 13.1907\n",
      "Epoch 9/20\n",
      "785/785 [==============================] - 4s 5ms/step - loss: 0.0116 - mean_squared_error: 0.0015 - root_mean_squared_error: 0.0382 - noiseToSignalLoss: 14.5301 - val_loss: 0.0116 - val_mean_squared_error: 0.0015 - val_root_mean_squared_error: 0.0386 - val_noiseToSignalLoss: 16.8858\n",
      "Epoch 10/20\n",
      "785/785 [==============================] - 4s 5ms/step - loss: 0.0116 - mean_squared_error: 0.0015 - root_mean_squared_error: 0.0381 - noiseToSignalLoss: 14.5579 - val_loss: 0.0116 - val_mean_squared_error: 0.0015 - val_root_mean_squared_error: 0.0389 - val_noiseToSignalLoss: 13.1131\n",
      "Epoch 11/20\n",
      "785/785 [==============================] - 4s 5ms/step - loss: 0.0115 - mean_squared_error: 0.0015 - root_mean_squared_error: 0.0381 - noiseToSignalLoss: 14.5812 - val_loss: 0.0116 - val_mean_squared_error: 0.0015 - val_root_mean_squared_error: 0.0386 - val_noiseToSignalLoss: 15.9514\n",
      "Epoch 12/20\n",
      "785/785 [==============================] - 4s 5ms/step - loss: 0.0115 - mean_squared_error: 0.0014 - root_mean_squared_error: 0.0380 - noiseToSignalLoss: 14.5712 - val_loss: 0.0116 - val_mean_squared_error: 0.0015 - val_root_mean_squared_error: 0.0386 - val_noiseToSignalLoss: 16.6647\n",
      "Epoch 13/20\n",
      "785/785 [==============================] - 4s 5ms/step - loss: 0.0115 - mean_squared_error: 0.0014 - root_mean_squared_error: 0.0380 - noiseToSignalLoss: 14.3786 - val_loss: 0.0115 - val_mean_squared_error: 0.0015 - val_root_mean_squared_error: 0.0385 - val_noiseToSignalLoss: 15.2538\n",
      "Epoch 14/20\n",
      "785/785 [==============================] - 4s 5ms/step - loss: 0.0115 - mean_squared_error: 0.0014 - root_mean_squared_error: 0.0380 - noiseToSignalLoss: 14.2724 - val_loss: 0.0115 - val_mean_squared_error: 0.0015 - val_root_mean_squared_error: 0.0384 - val_noiseToSignalLoss: 14.9844\n",
      "Epoch 15/20\n",
      "785/785 [==============================] - 4s 5ms/step - loss: 0.0114 - mean_squared_error: 0.0014 - root_mean_squared_error: 0.0380 - noiseToSignalLoss: 14.0067 - val_loss: 0.0114 - val_mean_squared_error: 0.0015 - val_root_mean_squared_error: 0.0384 - val_noiseToSignalLoss: 18.5268\n",
      "Epoch 16/20\n",
      "785/785 [==============================] - 4s 5ms/step - loss: 0.0114 - mean_squared_error: 0.0014 - root_mean_squared_error: 0.0379 - noiseToSignalLoss: 14.0623 - val_loss: 0.0113 - val_mean_squared_error: 0.0015 - val_root_mean_squared_error: 0.0385 - val_noiseToSignalLoss: 14.5652\n",
      "Epoch 17/20\n",
      "783/785 [============================>.] - ETA: 0s - loss: 0.0114 - mean_squared_error: 0.0014 - root_mean_squared_error: 0.0379 - noiseToSignalLoss: 14.0940"
     ]
    },
    {
     "output_type": "stream",
     "name": "stderr",
     "text": [
      "\u001B[32m[I 2022-06-29 17:21:42,083]\u001B[0m Trial 48 pruned. Trial was pruned at epoch 16.\u001B[0m\n"
     ]
    },
    {
     "output_type": "stream",
     "name": "stdout",
     "text": [
      "Epoch 1/20\n",
      "774/774 [==============================] - 5s 5ms/step - loss: 0.0225 - mean_squared_error: 0.0029 - root_mean_squared_error: 0.0541 - noiseToSignalLoss: 169.5704 - val_loss: 0.0141 - val_mean_squared_error: 0.0017 - val_root_mean_squared_error: 0.0408 - val_noiseToSignalLoss: 15.0890\n",
      "Epoch 2/20\n",
      "774/774 [==============================] - 4s 5ms/step - loss: 0.0140 - mean_squared_error: 0.0018 - root_mean_squared_error: 0.0423 - noiseToSignalLoss: 19.6364 - val_loss: 0.0124 - val_mean_squared_error: 0.0015 - val_root_mean_squared_error: 0.0391 - val_noiseToSignalLoss: 19.7425\n",
      "Epoch 3/20\n",
      "774/774 [==============================] - 4s 5ms/step - loss: 0.0131 - mean_squared_error: 0.0017 - root_mean_squared_error: 0.0415 - noiseToSignalLoss: 22.0979 - val_loss: 0.0124 - val_mean_squared_error: 0.0016 - val_root_mean_squared_error: 0.0395 - val_noiseToSignalLoss: 18.5175\n",
      "Epoch 4/20\n",
      "774/774 [==============================] - 4s 5ms/step - loss: 0.0128 - mean_squared_error: 0.0017 - root_mean_squared_error: 0.0412 - noiseToSignalLoss: 21.7651 - val_loss: 0.0120 - val_mean_squared_error: 0.0015 - val_root_mean_squared_error: 0.0390 - val_noiseToSignalLoss: 23.5216\n",
      "Epoch 5/20\n",
      "766/774 [============================>.] - ETA: 0s - loss: 0.0126 - mean_squared_error: 0.0017 - root_mean_squared_error: 0.0411 - noiseToSignalLoss: 20.9127"
     ]
    },
    {
     "output_type": "stream",
     "name": "stderr",
     "text": [
      "\u001B[32m[I 2022-06-29 17:23:46,686]\u001B[0m Trial 49 pruned. Trial was pruned at epoch 4.\u001B[0m\n"
     ]
    },
    {
     "output_type": "stream",
     "name": "stdout",
     "text": [
      "Epoch 1/20\n",
      "793/793 [==============================] - 5s 5ms/step - loss: 0.0173 - mean_squared_error: 0.0021 - root_mean_squared_error: 0.0463 - noiseToSignalLoss: 78.9283 - val_loss: 0.0135 - val_mean_squared_error: 0.0016 - val_root_mean_squared_error: 0.0403 - val_noiseToSignalLoss: 23.1613\n",
      "Epoch 2/20\n",
      "793/793 [==============================] - 4s 5ms/step - loss: 0.0132 - mean_squared_error: 0.0017 - root_mean_squared_error: 0.0411 - noiseToSignalLoss: 22.9214 - val_loss: 0.0123 - val_mean_squared_error: 0.0016 - val_root_mean_squared_error: 0.0396 - val_noiseToSignalLoss: 30.0463\n",
      "Epoch 3/20\n",
      "793/793 [==============================] - 4s 5ms/step - loss: 0.0126 - mean_squared_error: 0.0016 - root_mean_squared_error: 0.0405 - noiseToSignalLoss: 21.1007 - val_loss: 0.0122 - val_mean_squared_error: 0.0015 - val_root_mean_squared_error: 0.0385 - val_noiseToSignalLoss: 37.1296\n",
      "Epoch 4/20\n",
      "793/793 [==============================] - 4s 5ms/step - loss: 0.0122 - mean_squared_error: 0.0016 - root_mean_squared_error: 0.0394 - noiseToSignalLoss: 18.9699 - val_loss: 0.0115 - val_mean_squared_error: 0.0014 - val_root_mean_squared_error: 0.0374 - val_noiseToSignalLoss: 22.0771\n",
      "Epoch 5/20\n",
      "793/793 [==============================] - 4s 5ms/step - loss: 0.0120 - mean_squared_error: 0.0015 - root_mean_squared_error: 0.0387 - noiseToSignalLoss: 16.8549 - val_loss: 0.0115 - val_mean_squared_error: 0.0014 - val_root_mean_squared_error: 0.0374 - val_noiseToSignalLoss: 15.8716\n",
      "Epoch 6/20\n",
      "793/793 [==============================] - 4s 5ms/step - loss: 0.0119 - mean_squared_error: 0.0015 - root_mean_squared_error: 0.0384 - noiseToSignalLoss: 16.0170 - val_loss: 0.0119 - val_mean_squared_error: 0.0014 - val_root_mean_squared_error: 0.0373 - val_noiseToSignalLoss: 20.1399\n",
      "Epoch 7/20\n",
      "793/793 [==============================] - 4s 5ms/step - loss: 0.0117 - mean_squared_error: 0.0015 - root_mean_squared_error: 0.0382 - noiseToSignalLoss: 15.7189 - val_loss: 0.0115 - val_mean_squared_error: 0.0014 - val_root_mean_squared_error: 0.0371 - val_noiseToSignalLoss: 14.7436\n",
      "Epoch 8/20\n",
      "793/793 [==============================] - 4s 5ms/step - loss: 0.0116 - mean_squared_error: 0.0014 - root_mean_squared_error: 0.0380 - noiseToSignalLoss: 16.0331 - val_loss: 0.0113 - val_mean_squared_error: 0.0013 - val_root_mean_squared_error: 0.0364 - val_noiseToSignalLoss: 22.5906\n",
      "Epoch 9/20\n",
      "793/793 [==============================] - 4s 5ms/step - loss: 0.0116 - mean_squared_error: 0.0014 - root_mean_squared_error: 0.0379 - noiseToSignalLoss: 16.1839 - val_loss: 0.0114 - val_mean_squared_error: 0.0013 - val_root_mean_squared_error: 0.0366 - val_noiseToSignalLoss: 18.9659\n",
      "Epoch 10/20\n",
      "793/793 [==============================] - 4s 5ms/step - loss: 0.0115 - mean_squared_error: 0.0014 - root_mean_squared_error: 0.0379 - noiseToSignalLoss: 16.2250 - val_loss: 0.0114 - val_mean_squared_error: 0.0013 - val_root_mean_squared_error: 0.0365 - val_noiseToSignalLoss: 22.3155\n",
      "Epoch 11/20\n",
      "793/793 [==============================] - 4s 5ms/step - loss: 0.0115 - mean_squared_error: 0.0014 - root_mean_squared_error: 0.0378 - noiseToSignalLoss: 15.1272 - val_loss: 0.0113 - val_mean_squared_error: 0.0013 - val_root_mean_squared_error: 0.0364 - val_noiseToSignalLoss: 20.0292\n",
      "Epoch 12/20\n",
      "793/793 [==============================] - 4s 5ms/step - loss: 0.0114 - mean_squared_error: 0.0014 - root_mean_squared_error: 0.0377 - noiseToSignalLoss: 15.3645 - val_loss: 0.0112 - val_mean_squared_error: 0.0013 - val_root_mean_squared_error: 0.0367 - val_noiseToSignalLoss: 16.4833\n",
      "Epoch 13/20\n",
      "793/793 [==============================] - 4s 5ms/step - loss: 0.0114 - mean_squared_error: 0.0014 - root_mean_squared_error: 0.0376 - noiseToSignalLoss: 14.4165 - val_loss: 0.0113 - val_mean_squared_error: 0.0013 - val_root_mean_squared_error: 0.0361 - val_noiseToSignalLoss: 19.3171\n",
      "Epoch 14/20\n",
      "793/793 [==============================] - 4s 5ms/step - loss: 0.0114 - mean_squared_error: 0.0014 - root_mean_squared_error: 0.0376 - noiseToSignalLoss: 14.6020 - val_loss: 0.0111 - val_mean_squared_error: 0.0013 - val_root_mean_squared_error: 0.0366 - val_noiseToSignalLoss: 13.3267\n",
      "Epoch 15/20\n",
      "793/793 [==============================] - 4s 5ms/step - loss: 0.0113 - mean_squared_error: 0.0014 - root_mean_squared_error: 0.0375 - noiseToSignalLoss: 14.6007 - val_loss: 0.0111 - val_mean_squared_error: 0.0013 - val_root_mean_squared_error: 0.0362 - val_noiseToSignalLoss: 15.1854\n",
      "Epoch 16/20\n",
      "793/793 [==============================] - 4s 5ms/step - loss: 0.0113 - mean_squared_error: 0.0014 - root_mean_squared_error: 0.0375 - noiseToSignalLoss: 14.4254 - val_loss: 0.0113 - val_mean_squared_error: 0.0014 - val_root_mean_squared_error: 0.0372 - val_noiseToSignalLoss: 11.4713\n",
      "Epoch 17/20\n",
      "784/793 [============================>.] - ETA: 0s - loss: 0.0113 - mean_squared_error: 0.0014 - root_mean_squared_error: 0.0375 - noiseToSignalLoss: 14.2048"
     ]
    },
    {
     "output_type": "stream",
     "name": "stderr",
     "text": [
      "\u001B[32m[I 2022-06-29 17:26:41,086]\u001B[0m Trial 50 pruned. Trial was pruned at epoch 16.\u001B[0m\n"
     ]
    },
    {
     "output_type": "stream",
     "name": "stdout",
     "text": [
      "Epoch 1/20\n",
      "800/800 [==============================] - 5s 5ms/step - loss: 0.0188 - mean_squared_error: 0.0023 - root_mean_squared_error: 0.0477 - noiseToSignalLoss: 101.5802 - val_loss: 0.0140 - val_mean_squared_error: 0.0017 - val_root_mean_squared_error: 0.0418 - val_noiseToSignalLoss: 27.3986\n",
      "Epoch 2/20\n",
      "796/800 [============================>.] - ETA: 0s - loss: 0.0136 - mean_squared_error: 0.0017 - root_mean_squared_error: 0.0414 - noiseToSignalLoss: 26.9834"
     ]
    },
    {
     "output_type": "stream",
     "name": "stderr",
     "text": [
      "\u001B[32m[I 2022-06-29 17:28:36,546]\u001B[0m Trial 51 pruned. Trial was pruned at epoch 1.\u001B[0m\n"
     ]
    },
    {
     "output_type": "stream",
     "name": "stdout",
     "text": [
      "Epoch 1/20\n",
      "800/800 [==============================] - 5s 5ms/step - loss: 0.0250 - mean_squared_error: 0.0027 - root_mean_squared_error: 0.0518 - noiseToSignalLoss: 137.6420 - val_loss: 0.0148 - val_mean_squared_error: 0.0020 - val_root_mean_squared_error: 0.0442 - val_noiseToSignalLoss: 18.0859\n",
      "Epoch 2/20\n",
      "797/800 [============================>.] - ETA: 0s - loss: 0.0161 - mean_squared_error: 0.0019 - root_mean_squared_error: 0.0439 - noiseToSignalLoss: 26.0657"
     ]
    },
    {
     "output_type": "stream",
     "name": "stderr",
     "text": [
      "\u001B[32m[I 2022-06-29 17:30:31,861]\u001B[0m Trial 52 pruned. Trial was pruned at epoch 1.\u001B[0m\n"
     ]
    },
    {
     "output_type": "stream",
     "name": "stdout",
     "text": [
      "Epoch 1/20\n",
      "800/800 [==============================] - 5s 5ms/step - loss: 0.0878 - mean_squared_error: 0.0143 - root_mean_squared_error: 0.1196 - noiseToSignalLoss: 2340.0283 - val_loss: 0.0202 - val_mean_squared_error: 0.0022 - val_root_mean_squared_error: 0.0470 - val_noiseToSignalLoss: 74.1772\n",
      "Epoch 2/20\n",
      "793/800 [============================>.] - ETA: 0s - loss: 0.0433 - mean_squared_error: 0.0041 - root_mean_squared_error: 0.0642 - noiseToSignalLoss: 427.6669"
     ]
    },
    {
     "output_type": "stream",
     "name": "stderr",
     "text": [
      "\u001B[32m[I 2022-06-29 17:32:26,939]\u001B[0m Trial 53 pruned. Trial was pruned at epoch 1.\u001B[0m\n"
     ]
    },
    {
     "output_type": "stream",
     "name": "stdout",
     "text": [
      "Epoch 1/20\n",
      "793/793 [==============================] - 5s 5ms/step - loss: 0.1406 - mean_squared_error: 0.0335 - root_mean_squared_error: 0.1831 - noiseToSignalLoss: 5553.6587 - val_loss: 0.1206 - val_mean_squared_error: 0.0260 - val_root_mean_squared_error: 0.1613 - val_noiseToSignalLoss: 4025.6841\n",
      "Epoch 2/20\n",
      "788/793 [============================>.] - ETA: 0s - loss: 0.1389 - mean_squared_error: 0.0327 - root_mean_squared_error: 0.1809 - noiseToSignalLoss: 5381.0322"
     ]
    },
    {
     "output_type": "stream",
     "name": "stderr",
     "text": [
      "\u001B[32m[I 2022-06-29 17:34:21,697]\u001B[0m Trial 54 pruned. Trial was pruned at epoch 1.\u001B[0m\n"
     ]
    },
    {
     "output_type": "stream",
     "name": "stdout",
     "text": [
      "Epoch 1/20\n",
      "774/774 [==============================] - 5s 5ms/step - loss: 0.0182 - mean_squared_error: 0.0021 - root_mean_squared_error: 0.0463 - noiseToSignalLoss: 60.7765 - val_loss: 0.0127 - val_mean_squared_error: 0.0016 - val_root_mean_squared_error: 0.0397 - val_noiseToSignalLoss: 12.1041\n",
      "Epoch 2/20\n",
      "774/774 [==============================] - 4s 5ms/step - loss: 0.0134 - mean_squared_error: 0.0017 - root_mean_squared_error: 0.0416 - noiseToSignalLoss: 23.1385 - val_loss: 0.0123 - val_mean_squared_error: 0.0015 - val_root_mean_squared_error: 0.0393 - val_noiseToSignalLoss: 17.3604\n",
      "Epoch 3/20\n",
      "774/774 [==============================] - 4s 5ms/step - loss: 0.0130 - mean_squared_error: 0.0017 - root_mean_squared_error: 0.0412 - noiseToSignalLoss: 22.5222 - val_loss: 0.0128 - val_mean_squared_error: 0.0016 - val_root_mean_squared_error: 0.0398 - val_noiseToSignalLoss: 17.1718\n",
      "Epoch 4/20\n",
      "774/774 [==============================] - 4s 5ms/step - loss: 0.0127 - mean_squared_error: 0.0017 - root_mean_squared_error: 0.0411 - noiseToSignalLoss: 22.7500 - val_loss: 0.0120 - val_mean_squared_error: 0.0015 - val_root_mean_squared_error: 0.0392 - val_noiseToSignalLoss: 22.6816\n",
      "Epoch 5/20\n",
      "768/774 [============================>.] - ETA: 0s - loss: 0.0125 - mean_squared_error: 0.0017 - root_mean_squared_error: 0.0409 - noiseToSignalLoss: 22.2539"
     ]
    },
    {
     "output_type": "stream",
     "name": "stderr",
     "text": [
      "\u001B[32m[I 2022-06-29 17:36:26,293]\u001B[0m Trial 55 pruned. Trial was pruned at epoch 4.\u001B[0m\n"
     ]
    },
    {
     "output_type": "stream",
     "name": "stdout",
     "text": [
      "Epoch 1/20\n",
      "800/800 [==============================] - 6s 5ms/step - loss: 0.0234 - mean_squared_error: 0.0026 - root_mean_squared_error: 0.0513 - noiseToSignalLoss: 123.0644 - val_loss: 0.0150 - val_mean_squared_error: 0.0020 - val_root_mean_squared_error: 0.0448 - val_noiseToSignalLoss: 17.0528\n",
      "Epoch 2/20\n",
      "791/800 [============================>.] - ETA: 0s - loss: 0.0158 - mean_squared_error: 0.0019 - root_mean_squared_error: 0.0441 - noiseToSignalLoss: 22.3722"
     ]
    },
    {
     "output_type": "stream",
     "name": "stderr",
     "text": [
      "\u001B[32m[I 2022-06-29 17:38:22,048]\u001B[0m Trial 56 pruned. Trial was pruned at epoch 1.\u001B[0m\n"
     ]
    },
    {
     "output_type": "stream",
     "name": "stdout",
     "text": [
      "Epoch 1/20\n",
      "793/793 [==============================] - 5s 5ms/step - loss: 0.0524 - mean_squared_error: 0.0057 - root_mean_squared_error: 0.0757 - noiseToSignalLoss: 699.1470 - val_loss: 0.0175 - val_mean_squared_error: 0.0019 - val_root_mean_squared_error: 0.0440 - val_noiseToSignalLoss: 36.1806\n",
      "Epoch 2/20\n",
      "789/793 [============================>.] - ETA: 0s - loss: 0.0276 - mean_squared_error: 0.0026 - root_mean_squared_error: 0.0506 - noiseToSignalLoss: 126.6621"
     ]
    },
    {
     "output_type": "stream",
     "name": "stderr",
     "text": [
      "\u001B[32m[I 2022-06-29 17:40:16,760]\u001B[0m Trial 57 pruned. Trial was pruned at epoch 1.\u001B[0m\n"
     ]
    },
    {
     "output_type": "stream",
     "name": "stdout",
     "text": [
      "Epoch 1/20\n",
      "785/785 [==============================] - 5s 5ms/step - loss: 0.1249 - mean_squared_error: 0.0259 - root_mean_squared_error: 0.1609 - noiseToSignalLoss: 4892.1577 - val_loss: 0.0842 - val_mean_squared_error: 0.0128 - val_root_mean_squared_error: 0.1131 - val_noiseToSignalLoss: 2521.5354\n",
      "Epoch 2/20\n",
      "778/785 [============================>.] - ETA: 0s - loss: 0.0857 - mean_squared_error: 0.0125 - root_mean_squared_error: 0.1117 - noiseToSignalLoss: 2218.0957"
     ]
    },
    {
     "output_type": "stream",
     "name": "stderr",
     "text": [
      "\u001B[32m[I 2022-06-29 17:42:10,245]\u001B[0m Trial 58 pruned. Trial was pruned at epoch 1.\u001B[0m\n"
     ]
    },
    {
     "output_type": "stream",
     "name": "stdout",
     "text": [
      "Epoch 1/20\n",
      "756/756 [==============================] - 5s 5ms/step - loss: 0.0160 - mean_squared_error: 0.0019 - root_mean_squared_error: 0.0435 - noiseToSignalLoss: 36.6359 - val_loss: 0.0127 - val_mean_squared_error: 0.0018 - val_root_mean_squared_error: 0.0427 - val_noiseToSignalLoss: 13.5475\n",
      "Epoch 2/20\n",
      "749/756 [============================>.] - ETA: 0s - loss: 0.0130 - mean_squared_error: 0.0017 - root_mean_squared_error: 0.0408 - noiseToSignalLoss: 20.7221"
     ]
    },
    {
     "output_type": "stream",
     "name": "stderr",
     "text": [
      "\u001B[32m[I 2022-06-29 17:44:04,405]\u001B[0m Trial 59 pruned. Trial was pruned at epoch 1.\u001B[0m\n"
     ]
    },
    {
     "output_type": "stream",
     "name": "stdout",
     "text": [
      "Epoch 1/20\n",
      "800/800 [==============================] - 5s 5ms/step - loss: 0.0380 - mean_squared_error: 0.0043 - root_mean_squared_error: 0.0652 - noiseToSignalLoss: 399.9018 - val_loss: 0.0162 - val_mean_squared_error: 0.0020 - val_root_mean_squared_error: 0.0451 - val_noiseToSignalLoss: 27.8031\n",
      "Epoch 2/20\n",
      "791/800 [============================>.] - ETA: 0s - loss: 0.0189 - mean_squared_error: 0.0021 - root_mean_squared_error: 0.0458 - noiseToSignalLoss: 42.2737"
     ]
    },
    {
     "output_type": "stream",
     "name": "stderr",
     "text": [
      "\u001B[32m[I 2022-06-29 17:45:58,992]\u001B[0m Trial 60 pruned. Trial was pruned at epoch 1.\u001B[0m\n"
     ]
    },
    {
     "output_type": "stream",
     "name": "stdout",
     "text": [
      "Epoch 1/20\n",
      "756/756 [==============================] - 5s 5ms/step - loss: 0.0539 - mean_squared_error: 0.0058 - root_mean_squared_error: 0.0763 - noiseToSignalLoss: 662.2039 - val_loss: 0.0184 - val_mean_squared_error: 0.0021 - val_root_mean_squared_error: 0.0462 - val_noiseToSignalLoss: 42.3206\n",
      "Epoch 2/20\n",
      "754/756 [============================>.] - ETA: 0s - loss: 0.0369 - mean_squared_error: 0.0034 - root_mean_squared_error: 0.0587 - noiseToSignalLoss: 255.7162"
     ]
    },
    {
     "output_type": "stream",
     "name": "stderr",
     "text": [
      "\u001B[32m[I 2022-06-29 17:47:51,783]\u001B[0m Trial 61 pruned. Trial was pruned at epoch 1.\u001B[0m\n"
     ]
    },
    {
     "output_type": "stream",
     "name": "stdout",
     "text": [
      "Epoch 1/20\n",
      "756/756 [==============================] - 5s 5ms/step - loss: 0.0926 - mean_squared_error: 0.0141 - root_mean_squared_error: 0.1186 - noiseToSignalLoss: 2173.7959 - val_loss: 0.0670 - val_mean_squared_error: 0.0076 - val_root_mean_squared_error: 0.0874 - val_noiseToSignalLoss: 1101.4408\n",
      "Epoch 2/20\n",
      "756/756 [==============================] - ETA: 0s - loss: 0.0877 - mean_squared_error: 0.0128 - root_mean_squared_error: 0.1132 - noiseToSignalLoss: 1893.3624"
     ]
    },
    {
     "output_type": "stream",
     "name": "stderr",
     "text": [
      "\u001B[32m[I 2022-06-29 17:49:43,542]\u001B[0m Trial 62 pruned. Trial was pruned at epoch 1.\u001B[0m\n"
     ]
    },
    {
     "output_type": "stream",
     "name": "stdout",
     "text": [
      "Epoch 1/20\n",
      "774/774 [==============================] - 5s 5ms/step - loss: 0.0662 - mean_squared_error: 0.0079 - root_mean_squared_error: 0.0888 - noiseToSignalLoss: 1152.5046 - val_loss: 0.0210 - val_mean_squared_error: 0.0019 - val_root_mean_squared_error: 0.0437 - val_noiseToSignalLoss: 69.6002\n",
      "Epoch 2/20\n",
      "773/774 [============================>.] - ETA: 0s - loss: 0.0491 - mean_squared_error: 0.0049 - root_mean_squared_error: 0.0697 - noiseToSignalLoss: 526.0870"
     ]
    },
    {
     "output_type": "stream",
     "name": "stderr",
     "text": [
      "\u001B[32m[I 2022-06-29 17:51:36,919]\u001B[0m Trial 63 pruned. Trial was pruned at epoch 1.\u001B[0m\n"
     ]
    },
    {
     "output_type": "stream",
     "name": "stdout",
     "text": [
      "Epoch 1/20\n",
      "756/756 [==============================] - 5s 5ms/step - loss: 0.1394 - mean_squared_error: 0.0299 - root_mean_squared_error: 0.1728 - noiseToSignalLoss: 5197.3550 - val_loss: 0.0840 - val_mean_squared_error: 0.0116 - val_root_mean_squared_error: 0.1076 - val_noiseToSignalLoss: 1798.8328\n",
      "Epoch 2/20\n",
      "747/756 [============================>.] - ETA: 0s - loss: 0.0993 - mean_squared_error: 0.0159 - root_mean_squared_error: 0.1263 - noiseToSignalLoss: 2479.7556"
     ]
    },
    {
     "output_type": "stream",
     "name": "stderr",
     "text": [
      "\u001B[32m[I 2022-06-29 17:53:29,257]\u001B[0m Trial 64 pruned. Trial was pruned at epoch 1.\u001B[0m\n"
     ]
    },
    {
     "output_type": "stream",
     "name": "stdout",
     "text": [
      "Epoch 1/20\n",
      "785/785 [==============================] - 5s 5ms/step - loss: 0.0694 - mean_squared_error: 0.0111 - root_mean_squared_error: 0.1056 - noiseToSignalLoss: 1476.4397 - val_loss: 0.0204 - val_mean_squared_error: 0.0023 - val_root_mean_squared_error: 0.0477 - val_noiseToSignalLoss: 56.2481\n",
      "Epoch 2/20\n",
      "777/785 [============================>.] - ETA: 0s - loss: 0.0284 - mean_squared_error: 0.0027 - root_mean_squared_error: 0.0517 - noiseToSignalLoss: 137.5947"
     ]
    },
    {
     "output_type": "stream",
     "name": "stderr",
     "text": [
      "\u001B[32m[I 2022-06-29 17:55:23,372]\u001B[0m Trial 65 pruned. Trial was pruned at epoch 1.\u001B[0m\n"
     ]
    },
    {
     "output_type": "stream",
     "name": "stdout",
     "text": [
      "Epoch 1/20\n",
      "793/793 [==============================] - 6s 6ms/step - loss: 0.0776 - mean_squared_error: 0.0108 - root_mean_squared_error: 0.1041 - noiseToSignalLoss: 1476.1315 - val_loss: 0.0231 - val_mean_squared_error: 0.0023 - val_root_mean_squared_error: 0.0475 - val_noiseToSignalLoss: 80.2067\n",
      "Epoch 2/20\n",
      "786/793 [============================>.] - ETA: 0s - loss: 0.0472 - mean_squared_error: 0.0047 - root_mean_squared_error: 0.0682 - noiseToSignalLoss: 486.7151"
     ]
    },
    {
     "output_type": "stream",
     "name": "stderr",
     "text": [
      "\u001B[32m[I 2022-06-29 17:57:18,223]\u001B[0m Trial 66 pruned. Trial was pruned at epoch 1.\u001B[0m\n"
     ]
    },
    {
     "output_type": "stream",
     "name": "stdout",
     "text": [
      "Epoch 1/20\n",
      "774/774 [==============================] - 5s 5ms/step - loss: 0.0249 - mean_squared_error: 0.0028 - root_mean_squared_error: 0.0527 - noiseToSignalLoss: 148.4255 - val_loss: 0.0143 - val_mean_squared_error: 0.0017 - val_root_mean_squared_error: 0.0412 - val_noiseToSignalLoss: 21.0895\n",
      "Epoch 2/20\n",
      "772/774 [============================>.] - ETA: 0s - loss: 0.0152 - mean_squared_error: 0.0019 - root_mean_squared_error: 0.0436 - noiseToSignalLoss: 23.1263"
     ]
    },
    {
     "output_type": "stream",
     "name": "stderr",
     "text": [
      "\u001B[32m[I 2022-06-29 17:59:12,052]\u001B[0m Trial 67 pruned. Trial was pruned at epoch 1.\u001B[0m\n"
     ]
    },
    {
     "output_type": "stream",
     "name": "stdout",
     "text": [
      "Epoch 1/20\n",
      "785/785 [==============================] - 5s 5ms/step - loss: 0.0186 - mean_squared_error: 0.0022 - root_mean_squared_error: 0.0469 - noiseToSignalLoss: 67.6237 - val_loss: 0.0141 - val_mean_squared_error: 0.0019 - val_root_mean_squared_error: 0.0435 - val_noiseToSignalLoss: 11.6244\n",
      "Epoch 2/20\n",
      "785/785 [==============================] - 4s 5ms/step - loss: 0.0136 - mean_squared_error: 0.0017 - root_mean_squared_error: 0.0418 - noiseToSignalLoss: 24.0174 - val_loss: 0.0130 - val_mean_squared_error: 0.0017 - val_root_mean_squared_error: 0.0416 - val_noiseToSignalLoss: 27.5727\n",
      "Epoch 3/20\n",
      "785/785 [==============================] - 4s 5ms/step - loss: 0.0130 - mean_squared_error: 0.0017 - root_mean_squared_error: 0.0413 - noiseToSignalLoss: 24.2642 - val_loss: 0.0130 - val_mean_squared_error: 0.0017 - val_root_mean_squared_error: 0.0413 - val_noiseToSignalLoss: 33.2829\n",
      "Epoch 4/20\n",
      "785/785 [==============================] - 4s 5ms/step - loss: 0.0128 - mean_squared_error: 0.0017 - root_mean_squared_error: 0.0411 - noiseToSignalLoss: 24.3846 - val_loss: 0.0124 - val_mean_squared_error: 0.0017 - val_root_mean_squared_error: 0.0414 - val_noiseToSignalLoss: 24.8675\n",
      "Epoch 5/20\n",
      "781/785 [============================>.] - ETA: 0s - loss: 0.0126 - mean_squared_error: 0.0017 - root_mean_squared_error: 0.0409 - noiseToSignalLoss: 23.9309"
     ]
    },
    {
     "output_type": "stream",
     "name": "stderr",
     "text": [
      "\u001B[32m[I 2022-06-29 18:01:17,895]\u001B[0m Trial 68 pruned. Trial was pruned at epoch 4.\u001B[0m\n"
     ]
    },
    {
     "output_type": "stream",
     "name": "stdout",
     "text": [
      "Epoch 1/20\n",
      "756/756 [==============================] - 5s 5ms/step - loss: 0.0195 - mean_squared_error: 0.0023 - root_mean_squared_error: 0.0480 - noiseToSignalLoss: 80.0198 - val_loss: 0.0135 - val_mean_squared_error: 0.0018 - val_root_mean_squared_error: 0.0428 - val_noiseToSignalLoss: 10.5991\n",
      "Epoch 2/20\n",
      "756/756 [==============================] - 4s 5ms/step - loss: 0.0138 - mean_squared_error: 0.0017 - root_mean_squared_error: 0.0411 - noiseToSignalLoss: 20.4265 - val_loss: 0.0130 - val_mean_squared_error: 0.0018 - val_root_mean_squared_error: 0.0423 - val_noiseToSignalLoss: 18.6763\n",
      "Epoch 3/20\n",
      "756/756 [==============================] - 4s 5ms/step - loss: 0.0132 - mean_squared_error: 0.0017 - root_mean_squared_error: 0.0409 - noiseToSignalLoss: 20.3497 - val_loss: 0.0125 - val_mean_squared_error: 0.0018 - val_root_mean_squared_error: 0.0429 - val_noiseToSignalLoss: 13.5526\n",
      "Epoch 4/20\n",
      "756/756 [==============================] - 4s 5ms/step - loss: 0.0130 - mean_squared_error: 0.0017 - root_mean_squared_error: 0.0409 - noiseToSignalLoss: 20.7294 - val_loss: 0.0130 - val_mean_squared_error: 0.0018 - val_root_mean_squared_error: 0.0426 - val_noiseToSignalLoss: 18.4205\n",
      "Epoch 5/20\n",
      "751/756 [============================>.] - ETA: 0s - loss: 0.0128 - mean_squared_error: 0.0017 - root_mean_squared_error: 0.0408 - noiseToSignalLoss: 19.8197"
     ]
    },
    {
     "output_type": "stream",
     "name": "stderr",
     "text": [
      "\u001B[32m[I 2022-06-29 18:03:21,873]\u001B[0m Trial 69 pruned. Trial was pruned at epoch 4.\u001B[0m\n"
     ]
    },
    {
     "output_type": "stream",
     "name": "stdout",
     "text": [
      "Epoch 1/20\n",
      "800/800 [==============================] - 5s 5ms/step - loss: 0.1099 - mean_squared_error: 0.0205 - root_mean_squared_error: 0.1432 - noiseToSignalLoss: 3502.0298 - val_loss: 0.0443 - val_mean_squared_error: 0.0043 - val_root_mean_squared_error: 0.0658 - val_noiseToSignalLoss: 464.3868\n",
      "Epoch 2/20\n",
      "792/800 [============================>.] - ETA: 0s - loss: 0.0700 - mean_squared_error: 0.0089 - root_mean_squared_error: 0.0943 - noiseToSignalLoss: 1278.2694"
     ]
    },
    {
     "output_type": "stream",
     "name": "stderr",
     "text": [
      "\u001B[32m[I 2022-06-29 18:05:16,844]\u001B[0m Trial 70 pruned. Trial was pruned at epoch 1.\u001B[0m\n"
     ]
    },
    {
     "output_type": "stream",
     "name": "stdout",
     "text": [
      "Epoch 1/20\n",
      "793/793 [==============================] - 5s 5ms/step - loss: 0.0177 - mean_squared_error: 0.0022 - root_mean_squared_error: 0.0473 - noiseToSignalLoss: 87.3334 - val_loss: 0.0130 - val_mean_squared_error: 0.0016 - val_root_mean_squared_error: 0.0405 - val_noiseToSignalLoss: 35.9374\n",
      "Epoch 2/20\n",
      "793/793 [==============================] - 4s 5ms/step - loss: 0.0134 - mean_squared_error: 0.0017 - root_mean_squared_error: 0.0417 - noiseToSignalLoss: 25.6201 - val_loss: 0.0123 - val_mean_squared_error: 0.0016 - val_root_mean_squared_error: 0.0402 - val_noiseToSignalLoss: 28.6542\n",
      "Epoch 3/20\n",
      "793/793 [==============================] - 4s 5ms/step - loss: 0.0128 - mean_squared_error: 0.0017 - root_mean_squared_error: 0.0412 - noiseToSignalLoss: 24.6551 - val_loss: 0.0122 - val_mean_squared_error: 0.0016 - val_root_mean_squared_error: 0.0396 - val_noiseToSignalLoss: 34.3297\n",
      "Epoch 4/20\n",
      "793/793 [==============================] - 4s 5ms/step - loss: 0.0125 - mean_squared_error: 0.0017 - root_mean_squared_error: 0.0409 - noiseToSignalLoss: 23.5950 - val_loss: 0.0120 - val_mean_squared_error: 0.0016 - val_root_mean_squared_error: 0.0394 - val_noiseToSignalLoss: 38.1183\n",
      "Epoch 5/20\n",
      "789/793 [============================>.] - ETA: 0s - loss: 0.0123 - mean_squared_error: 0.0016 - root_mean_squared_error: 0.0406 - noiseToSignalLoss: 21.9010"
     ]
    },
    {
     "output_type": "stream",
     "name": "stderr",
     "text": [
      "\u001B[32m[I 2022-06-29 18:07:23,362]\u001B[0m Trial 71 pruned. Trial was pruned at epoch 4.\u001B[0m\n"
     ]
    },
    {
     "output_type": "stream",
     "name": "stdout",
     "text": [
      "Epoch 1/20\n",
      "793/793 [==============================] - 6s 5ms/step - loss: 0.0171 - mean_squared_error: 0.0021 - root_mean_squared_error: 0.0457 - noiseToSignalLoss: 56.6879 - val_loss: 0.0128 - val_mean_squared_error: 0.0017 - val_root_mean_squared_error: 0.0408 - val_noiseToSignalLoss: 18.6337\n",
      "Epoch 2/20\n",
      "788/793 [============================>.] - ETA: 0s - loss: 0.0133 - mean_squared_error: 0.0017 - root_mean_squared_error: 0.0417 - noiseToSignalLoss: 24.2805"
     ]
    },
    {
     "output_type": "stream",
     "name": "stderr",
     "text": [
      "\u001B[32m[I 2022-06-29 18:09:17,693]\u001B[0m Trial 72 pruned. Trial was pruned at epoch 1.\u001B[0m\n"
     ]
    },
    {
     "output_type": "stream",
     "name": "stdout",
     "text": [
      "Epoch 1/20\n",
      "800/800 [==============================] - 5s 5ms/step - loss: 0.0204 - mean_squared_error: 0.0025 - root_mean_squared_error: 0.0496 - noiseToSignalLoss: 122.5048 - val_loss: 0.0137 - val_mean_squared_error: 0.0018 - val_root_mean_squared_error: 0.0422 - val_noiseToSignalLoss: 22.1467\n",
      "Epoch 2/20\n",
      "800/800 [==============================] - 4s 5ms/step - loss: 0.0139 - mean_squared_error: 0.0017 - root_mean_squared_error: 0.0417 - noiseToSignalLoss: 31.4740 - val_loss: 0.0128 - val_mean_squared_error: 0.0017 - val_root_mean_squared_error: 0.0416 - val_noiseToSignalLoss: 22.1977\n",
      "Epoch 3/20\n",
      "800/800 [==============================] - 4s 5ms/step - loss: 0.0133 - mean_squared_error: 0.0017 - root_mean_squared_error: 0.0411 - noiseToSignalLoss: 32.3265 - val_loss: 0.0126 - val_mean_squared_error: 0.0017 - val_root_mean_squared_error: 0.0413 - val_noiseToSignalLoss: 19.3985\n",
      "Epoch 4/20\n",
      "800/800 [==============================] - 4s 5ms/step - loss: 0.0129 - mean_squared_error: 0.0017 - root_mean_squared_error: 0.0408 - noiseToSignalLoss: 30.9692 - val_loss: 0.0130 - val_mean_squared_error: 0.0017 - val_root_mean_squared_error: 0.0407 - val_noiseToSignalLoss: 27.8938\n",
      "Epoch 5/20\n",
      "796/800 [============================>.] - ETA: 0s - loss: 0.0127 - mean_squared_error: 0.0016 - root_mean_squared_error: 0.0406 - noiseToSignalLoss: 28.9551"
     ]
    },
    {
     "output_type": "stream",
     "name": "stderr",
     "text": [
      "\u001B[32m[I 2022-06-29 18:11:24,508]\u001B[0m Trial 73 pruned. Trial was pruned at epoch 4.\u001B[0m\n"
     ]
    },
    {
     "output_type": "stream",
     "name": "stdout",
     "text": [
      "Epoch 1/20\n",
      "774/774 [==============================] - 5s 5ms/step - loss: 0.0164 - mean_squared_error: 0.0020 - root_mean_squared_error: 0.0450 - noiseToSignalLoss: 56.5626 - val_loss: 0.0134 - val_mean_squared_error: 0.0016 - val_root_mean_squared_error: 0.0398 - val_noiseToSignalLoss: 13.4425\n",
      "Epoch 2/20\n",
      "774/774 [==============================] - 4s 5ms/step - loss: 0.0130 - mean_squared_error: 0.0017 - root_mean_squared_error: 0.0412 - noiseToSignalLoss: 21.0889 - val_loss: 0.0125 - val_mean_squared_error: 0.0015 - val_root_mean_squared_error: 0.0388 - val_noiseToSignalLoss: 23.7692\n",
      "Epoch 3/20\n",
      "774/774 [==============================] - 4s 5ms/step - loss: 0.0126 - mean_squared_error: 0.0017 - root_mean_squared_error: 0.0408 - noiseToSignalLoss: 19.6285 - val_loss: 0.0120 - val_mean_squared_error: 0.0015 - val_root_mean_squared_error: 0.0388 - val_noiseToSignalLoss: 19.9039\n",
      "Epoch 4/20\n",
      "774/774 [==============================] - 4s 5ms/step - loss: 0.0124 - mean_squared_error: 0.0016 - root_mean_squared_error: 0.0405 - noiseToSignalLoss: 18.9782 - val_loss: 0.0123 - val_mean_squared_error: 0.0015 - val_root_mean_squared_error: 0.0384 - val_noiseToSignalLoss: 22.2177\n",
      "Epoch 5/20\n",
      "766/774 [============================>.] - ETA: 0s - loss: 0.0122 - mean_squared_error: 0.0016 - root_mean_squared_error: 0.0402 - noiseToSignalLoss: 18.7221"
     ]
    },
    {
     "output_type": "stream",
     "name": "stderr",
     "text": [
      "\u001B[32m[I 2022-06-29 18:13:29,135]\u001B[0m Trial 74 pruned. Trial was pruned at epoch 4.\u001B[0m\n"
     ]
    },
    {
     "output_type": "stream",
     "name": "stdout",
     "text": [
      "Epoch 1/20\n",
      "785/785 [==============================] - 5s 5ms/step - loss: 0.2485 - mean_squared_error: 0.0785 - root_mean_squared_error: 0.2803 - noiseToSignalLoss: 14860.8926 - val_loss: 0.2459 - val_mean_squared_error: 0.0691 - val_root_mean_squared_error: 0.2628 - val_noiseToSignalLoss: 13484.9834\n",
      "Epoch 2/20\n",
      "785/785 [==============================] - ETA: 0s - loss: 0.2485 - mean_squared_error: 0.0786 - root_mean_squared_error: 0.2803 - noiseToSignalLoss: 14806.2354"
     ]
    },
    {
     "output_type": "stream",
     "name": "stderr",
     "text": [
      "\u001B[32m[I 2022-06-29 18:15:22,822]\u001B[0m Trial 75 pruned. Trial was pruned at epoch 1.\u001B[0m\n"
     ]
    },
    {
     "output_type": "stream",
     "name": "stdout",
     "text": [
      "Epoch 1/20\n",
      "793/793 [==============================] - 5s 5ms/step - loss: 0.0218 - mean_squared_error: 0.0025 - root_mean_squared_error: 0.0498 - noiseToSignalLoss: 107.3885 - val_loss: 0.0145 - val_mean_squared_error: 0.0019 - val_root_mean_squared_error: 0.0435 - val_noiseToSignalLoss: 10.0207\n",
      "Epoch 2/20\n",
      "787/793 [============================>.] - ETA: 0s - loss: 0.0147 - mean_squared_error: 0.0019 - root_mean_squared_error: 0.0431 - noiseToSignalLoss: 20.0433"
     ]
    },
    {
     "output_type": "stream",
     "name": "stderr",
     "text": [
      "\u001B[32m[I 2022-06-29 18:17:17,290]\u001B[0m Trial 76 pruned. Trial was pruned at epoch 1.\u001B[0m\n"
     ]
    },
    {
     "output_type": "stream",
     "name": "stdout",
     "text": [
      "Epoch 1/20\n",
      "800/800 [==============================] - 6s 6ms/step - loss: 0.0342 - mean_squared_error: 0.0033 - root_mean_squared_error: 0.0576 - noiseToSignalLoss: 259.5069 - val_loss: 0.0165 - val_mean_squared_error: 0.0021 - val_root_mean_squared_error: 0.0454 - val_noiseToSignalLoss: 20.4505\n",
      "Epoch 2/20\n",
      "792/800 [============================>.] - ETA: 0s - loss: 0.0194 - mean_squared_error: 0.0021 - root_mean_squared_error: 0.0460 - noiseToSignalLoss: 39.7556"
     ]
    },
    {
     "output_type": "stream",
     "name": "stderr",
     "text": [
      "\u001B[32m[I 2022-06-29 18:19:12,476]\u001B[0m Trial 77 pruned. Trial was pruned at epoch 1.\u001B[0m\n"
     ]
    },
    {
     "output_type": "stream",
     "name": "stdout",
     "text": [
      "Epoch 1/20\n",
      "800/800 [==============================] - 5s 5ms/step - loss: 0.0183 - mean_squared_error: 0.0021 - root_mean_squared_error: 0.0456 - noiseToSignalLoss: 66.2417 - val_loss: 0.0136 - val_mean_squared_error: 0.0017 - val_root_mean_squared_error: 0.0411 - val_noiseToSignalLoss: 25.6912\n",
      "Epoch 2/20\n",
      "800/800 [==============================] - 4s 5ms/step - loss: 0.0138 - mean_squared_error: 0.0017 - root_mean_squared_error: 0.0408 - noiseToSignalLoss: 24.6885 - val_loss: 0.0128 - val_mean_squared_error: 0.0017 - val_root_mean_squared_error: 0.0411 - val_noiseToSignalLoss: 11.2669\n",
      "Epoch 3/20\n",
      "800/800 [==============================] - 4s 5ms/step - loss: 0.0131 - mean_squared_error: 0.0016 - root_mean_squared_error: 0.0402 - noiseToSignalLoss: 24.1509 - val_loss: 0.0123 - val_mean_squared_error: 0.0016 - val_root_mean_squared_error: 0.0406 - val_noiseToSignalLoss: 11.1461\n",
      "Epoch 4/20\n",
      "800/800 [==============================] - 4s 5ms/step - loss: 0.0126 - mean_squared_error: 0.0016 - root_mean_squared_error: 0.0399 - noiseToSignalLoss: 22.4618 - val_loss: 0.0129 - val_mean_squared_error: 0.0016 - val_root_mean_squared_error: 0.0398 - val_noiseToSignalLoss: 22.7929\n",
      "Epoch 5/20\n",
      "797/800 [============================>.] - ETA: 0s - loss: 0.0124 - mean_squared_error: 0.0016 - root_mean_squared_error: 0.0395 - noiseToSignalLoss: 22.6479"
     ]
    },
    {
     "output_type": "stream",
     "name": "stderr",
     "text": [
      "\u001B[32m[I 2022-06-29 18:21:19,497]\u001B[0m Trial 78 pruned. Trial was pruned at epoch 4.\u001B[0m\n"
     ]
    },
    {
     "output_type": "stream",
     "name": "stdout",
     "text": [
      "Epoch 1/20\n",
      "785/785 [==============================] - 5s 5ms/step - loss: 0.0438 - mean_squared_error: 0.0051 - root_mean_squared_error: 0.0716 - noiseToSignalLoss: 563.9067 - val_loss: 0.0160 - val_mean_squared_error: 0.0021 - val_root_mean_squared_error: 0.0454 - val_noiseToSignalLoss: 21.7688\n",
      "Epoch 2/20\n",
      "777/785 [============================>.] - ETA: 0s - loss: 0.0195 - mean_squared_error: 0.0021 - root_mean_squared_error: 0.0459 - noiseToSignalLoss: 45.0723"
     ]
    },
    {
     "output_type": "stream",
     "name": "stderr",
     "text": [
      "\u001B[32m[I 2022-06-29 18:23:12,989]\u001B[0m Trial 79 pruned. Trial was pruned at epoch 1.\u001B[0m\n"
     ]
    },
    {
     "output_type": "stream",
     "name": "stdout",
     "text": [
      "Epoch 1/20\n",
      "800/800 [==============================] - 5s 5ms/step - loss: 0.0750 - mean_squared_error: 0.0121 - root_mean_squared_error: 0.1099 - noiseToSignalLoss: 1840.2030 - val_loss: 0.0178 - val_mean_squared_error: 0.0021 - val_root_mean_squared_error: 0.0460 - val_noiseToSignalLoss: 41.0755\n",
      "Epoch 2/20\n",
      "791/800 [============================>.] - ETA: 0s - loss: 0.0342 - mean_squared_error: 0.0031 - root_mean_squared_error: 0.0558 - noiseToSignalLoss: 234.3801"
     ]
    },
    {
     "output_type": "stream",
     "name": "stderr",
     "text": [
      "\u001B[32m[I 2022-06-29 18:25:07,938]\u001B[0m Trial 80 pruned. Trial was pruned at epoch 1.\u001B[0m\n"
     ]
    },
    {
     "output_type": "stream",
     "name": "stdout",
     "text": [
      "Epoch 1/20\n",
      "793/793 [==============================] - 5s 5ms/step - loss: 0.0176 - mean_squared_error: 0.0022 - root_mean_squared_error: 0.0467 - noiseToSignalLoss: 77.9297 - val_loss: 0.0124 - val_mean_squared_error: 0.0016 - val_root_mean_squared_error: 0.0401 - val_noiseToSignalLoss: 26.1240\n",
      "Epoch 2/20\n",
      "793/793 [==============================] - 4s 5ms/step - loss: 0.0132 - mean_squared_error: 0.0017 - root_mean_squared_error: 0.0412 - noiseToSignalLoss: 23.4127 - val_loss: 0.0126 - val_mean_squared_error: 0.0016 - val_root_mean_squared_error: 0.0395 - val_noiseToSignalLoss: 31.0098\n",
      "Epoch 3/20\n",
      "793/793 [==============================] - 4s 5ms/step - loss: 0.0126 - mean_squared_error: 0.0016 - root_mean_squared_error: 0.0405 - noiseToSignalLoss: 21.8105 - val_loss: 0.0120 - val_mean_squared_error: 0.0015 - val_root_mean_squared_error: 0.0390 - val_noiseToSignalLoss: 25.4068\n",
      "Epoch 4/20\n",
      "793/793 [==============================] - 4s 5ms/step - loss: 0.0123 - mean_squared_error: 0.0016 - root_mean_squared_error: 0.0400 - noiseToSignalLoss: 20.5954 - val_loss: 0.0119 - val_mean_squared_error: 0.0015 - val_root_mean_squared_error: 0.0381 - val_noiseToSignalLoss: 33.9827\n",
      "Epoch 5/20\n",
      "793/793 [==============================] - 4s 5ms/step - loss: 0.0121 - mean_squared_error: 0.0015 - root_mean_squared_error: 0.0393 - noiseToSignalLoss: 18.6170 - val_loss: 0.0116 - val_mean_squared_error: 0.0014 - val_root_mean_squared_error: 0.0378 - val_noiseToSignalLoss: 22.6053\n",
      "Epoch 6/20\n",
      "793/793 [==============================] - 4s 5ms/step - loss: 0.0119 - mean_squared_error: 0.0015 - root_mean_squared_error: 0.0388 - noiseToSignalLoss: 16.8824 - val_loss: 0.0116 - val_mean_squared_error: 0.0014 - val_root_mean_squared_error: 0.0372 - val_noiseToSignalLoss: 21.4019\n",
      "Epoch 7/20\n",
      "793/793 [==============================] - 4s 5ms/step - loss: 0.0118 - mean_squared_error: 0.0015 - root_mean_squared_error: 0.0385 - noiseToSignalLoss: 16.1988 - val_loss: 0.0121 - val_mean_squared_error: 0.0014 - val_root_mean_squared_error: 0.0372 - val_noiseToSignalLoss: 20.9441\n",
      "Epoch 8/20\n",
      "793/793 [==============================] - 4s 5ms/step - loss: 0.0117 - mean_squared_error: 0.0015 - root_mean_squared_error: 0.0384 - noiseToSignalLoss: 15.9771 - val_loss: 0.0113 - val_mean_squared_error: 0.0014 - val_root_mean_squared_error: 0.0371 - val_noiseToSignalLoss: 15.1516\n",
      "Epoch 9/20\n",
      "793/793 [==============================] - 4s 5ms/step - loss: 0.0116 - mean_squared_error: 0.0015 - root_mean_squared_error: 0.0382 - noiseToSignalLoss: 15.1417 - val_loss: 0.0116 - val_mean_squared_error: 0.0014 - val_root_mean_squared_error: 0.0369 - val_noiseToSignalLoss: 16.8158\n",
      "Epoch 10/20\n",
      "793/793 [==============================] - 4s 5ms/step - loss: 0.0116 - mean_squared_error: 0.0014 - root_mean_squared_error: 0.0381 - noiseToSignalLoss: 15.0140 - val_loss: 0.0112 - val_mean_squared_error: 0.0013 - val_root_mean_squared_error: 0.0366 - val_noiseToSignalLoss: 17.4445\n",
      "Epoch 11/20\n",
      "793/793 [==============================] - 4s 5ms/step - loss: 0.0115 - mean_squared_error: 0.0014 - root_mean_squared_error: 0.0378 - noiseToSignalLoss: 15.2038 - val_loss: 0.0111 - val_mean_squared_error: 0.0013 - val_root_mean_squared_error: 0.0364 - val_noiseToSignalLoss: 18.1258\n",
      "Epoch 12/20\n",
      "793/793 [==============================] - 4s 5ms/step - loss: 0.0114 - mean_squared_error: 0.0014 - root_mean_squared_error: 0.0377 - noiseToSignalLoss: 14.9234 - val_loss: 0.0114 - val_mean_squared_error: 0.0013 - val_root_mean_squared_error: 0.0364 - val_noiseToSignalLoss: 22.5859\n",
      "Epoch 13/20\n",
      "793/793 [==============================] - 4s 6ms/step - loss: 0.0114 - mean_squared_error: 0.0014 - root_mean_squared_error: 0.0376 - noiseToSignalLoss: 14.9536 - val_loss: 0.0112 - val_mean_squared_error: 0.0013 - val_root_mean_squared_error: 0.0365 - val_noiseToSignalLoss: 17.8684\n",
      "Epoch 14/20\n",
      "793/793 [==============================] - 4s 5ms/step - loss: 0.0114 - mean_squared_error: 0.0014 - root_mean_squared_error: 0.0376 - noiseToSignalLoss: 14.6897 - val_loss: 0.0111 - val_mean_squared_error: 0.0013 - val_root_mean_squared_error: 0.0365 - val_noiseToSignalLoss: 16.2511\n",
      "Epoch 15/20\n",
      "793/793 [==============================] - 4s 5ms/step - loss: 0.0113 - mean_squared_error: 0.0014 - root_mean_squared_error: 0.0376 - noiseToSignalLoss: 14.6689 - val_loss: 0.0112 - val_mean_squared_error: 0.0013 - val_root_mean_squared_error: 0.0367 - val_noiseToSignalLoss: 12.1551\n",
      "Epoch 16/20\n",
      "793/793 [==============================] - 4s 5ms/step - loss: 0.0113 - mean_squared_error: 0.0014 - root_mean_squared_error: 0.0376 - noiseToSignalLoss: 14.2680 - val_loss: 0.0111 - val_mean_squared_error: 0.0013 - val_root_mean_squared_error: 0.0364 - val_noiseToSignalLoss: 15.6370\n",
      "Epoch 17/20\n",
      "793/793 [==============================] - 4s 5ms/step - loss: 0.0113 - mean_squared_error: 0.0014 - root_mean_squared_error: 0.0375 - noiseToSignalLoss: 14.2409 - val_loss: 0.0111 - val_mean_squared_error: 0.0013 - val_root_mean_squared_error: 0.0364 - val_noiseToSignalLoss: 15.1211\n",
      "Epoch 18/20\n",
      "793/793 [==============================] - 4s 5ms/step - loss: 0.0113 - mean_squared_error: 0.0014 - root_mean_squared_error: 0.0375 - noiseToSignalLoss: 14.5761 - val_loss: 0.0116 - val_mean_squared_error: 0.0014 - val_root_mean_squared_error: 0.0368 - val_noiseToSignalLoss: 12.2144\n",
      "Epoch 19/20\n",
      "793/793 [==============================] - 4s 5ms/step - loss: 0.0113 - mean_squared_error: 0.0014 - root_mean_squared_error: 0.0375 - noiseToSignalLoss: 13.9483 - val_loss: 0.0114 - val_mean_squared_error: 0.0013 - val_root_mean_squared_error: 0.0360 - val_noiseToSignalLoss: 21.5718\n",
      "Epoch 20/20\n",
      "793/793 [==============================] - 4s 5ms/step - loss: 0.0113 - mean_squared_error: 0.0014 - root_mean_squared_error: 0.0375 - noiseToSignalLoss: 14.1972 - val_loss: 0.0111 - val_mean_squared_error: 0.0013 - val_root_mean_squared_error: 0.0363 - val_noiseToSignalLoss: 14.4148\n",
      "263/263 [==============================] - 1s 3ms/step - loss: 0.0091 - mean_squared_error: 8.2782e-04 - root_mean_squared_error: 0.0288 - noiseToSignalLoss: 10.6792\n"
     ]
    },
    {
     "output_type": "stream",
     "name": "stderr",
     "text": [
      "\u001B[32m[I 2022-06-29 18:28:16,433]\u001B[0m Trial 81 finished with value: 0.009092113934457302 and parameters: {'sequence_length': 6, 'ff1_hidden_neurons': 118, 'ff2_hidden_neurons': 233, 'ff3_hidden_neurons': 108, 'ff4_hidden_neurons': 225, 'ff5_hidden_neurons': 188, 'ff6_hidden_neurons': 205, 'ff7_hidden_neurons': 151, 'ff8_hidden_neurons': 185, 'ff9_hidden_neurons': 243, 'ff10_hidden_neurons': 174, 'ff11_hidden_neurons': 89, 'ff12_hidden_neurons': 88, 'ff13_hidden_neurons': 227, 'ff14_hidden_neurons': 241, 'ff15_hidden_neurons': 140, 'ff16_hidden_neurons': 173, 'ff17_hidden_neurons': 105, 'learning_rate': 9.90350364955544e-05}. Best is trial 81 with value: 0.009092113934457302.\u001B[0m\n"
     ]
    },
    {
     "output_type": "stream",
     "name": "stdout",
     "text": [
      "Epoch 1/20\n",
      "793/793 [==============================] - 5s 5ms/step - loss: 0.0171 - mean_squared_error: 0.0021 - root_mean_squared_error: 0.0462 - noiseToSignalLoss: 72.7998 - val_loss: 0.0126 - val_mean_squared_error: 0.0016 - val_root_mean_squared_error: 0.0404 - val_noiseToSignalLoss: 23.8170\n",
      "Epoch 2/20\n",
      "793/793 [==============================] - 4s 5ms/step - loss: 0.0131 - mean_squared_error: 0.0017 - root_mean_squared_error: 0.0412 - noiseToSignalLoss: 23.5067 - val_loss: 0.0120 - val_mean_squared_error: 0.0016 - val_root_mean_squared_error: 0.0396 - val_noiseToSignalLoss: 31.6828\n",
      "Epoch 3/20\n",
      "793/793 [==============================] - 4s 5ms/step - loss: 0.0126 - mean_squared_error: 0.0016 - root_mean_squared_error: 0.0406 - noiseToSignalLoss: 21.6999 - val_loss: 0.0118 - val_mean_squared_error: 0.0015 - val_root_mean_squared_error: 0.0388 - val_noiseToSignalLoss: 33.6713\n",
      "Epoch 4/20\n",
      "793/793 [==============================] - 4s 5ms/step - loss: 0.0122 - mean_squared_error: 0.0016 - root_mean_squared_error: 0.0397 - noiseToSignalLoss: 19.1193 - val_loss: 0.0132 - val_mean_squared_error: 0.0014 - val_root_mean_squared_error: 0.0380 - val_noiseToSignalLoss: 31.9052\n",
      "Epoch 5/20\n",
      "791/793 [============================>.] - ETA: 0s - loss: 0.0120 - mean_squared_error: 0.0015 - root_mean_squared_error: 0.0388 - noiseToSignalLoss: 17.1271"
     ]
    },
    {
     "output_type": "stream",
     "name": "stderr",
     "text": [
      "\u001B[32m[I 2022-06-29 18:30:22,840]\u001B[0m Trial 82 pruned. Trial was pruned at epoch 4.\u001B[0m\n"
     ]
    },
    {
     "output_type": "stream",
     "name": "stdout",
     "text": [
      "Epoch 1/20\n",
      "793/793 [==============================] - 6s 5ms/step - loss: 0.0171 - mean_squared_error: 0.0020 - root_mean_squared_error: 0.0447 - noiseToSignalLoss: 48.6826 - val_loss: 0.0129 - val_mean_squared_error: 0.0017 - val_root_mean_squared_error: 0.0408 - val_noiseToSignalLoss: 18.4893\n",
      "Epoch 2/20\n",
      "790/793 [============================>.] - ETA: 0s - loss: 0.0135 - mean_squared_error: 0.0017 - root_mean_squared_error: 0.0414 - noiseToSignalLoss: 23.3959"
     ]
    },
    {
     "output_type": "stream",
     "name": "stderr",
     "text": [
      "\u001B[32m[I 2022-06-29 18:32:17,274]\u001B[0m Trial 83 pruned. Trial was pruned at epoch 1.\u001B[0m\n"
     ]
    },
    {
     "output_type": "stream",
     "name": "stdout",
     "text": [
      "Epoch 1/20\n",
      "793/793 [==============================] - 5s 5ms/step - loss: 0.0167 - mean_squared_error: 0.0021 - root_mean_squared_error: 0.0455 - noiseToSignalLoss: 57.0821 - val_loss: 0.0132 - val_mean_squared_error: 0.0016 - val_root_mean_squared_error: 0.0399 - val_noiseToSignalLoss: 33.5841\n",
      "Epoch 2/20\n",
      "793/793 [==============================] - 4s 5ms/step - loss: 0.0132 - mean_squared_error: 0.0017 - root_mean_squared_error: 0.0414 - noiseToSignalLoss: 23.4650 - val_loss: 0.0124 - val_mean_squared_error: 0.0016 - val_root_mean_squared_error: 0.0395 - val_noiseToSignalLoss: 37.0305\n",
      "Epoch 3/20\n",
      "793/793 [==============================] - 4s 5ms/step - loss: 0.0127 - mean_squared_error: 0.0017 - root_mean_squared_error: 0.0409 - noiseToSignalLoss: 23.0892 - val_loss: 0.0120 - val_mean_squared_error: 0.0016 - val_root_mean_squared_error: 0.0397 - val_noiseToSignalLoss: 37.1488\n",
      "Epoch 4/20\n",
      "793/793 [==============================] - 4s 5ms/step - loss: 0.0124 - mean_squared_error: 0.0017 - root_mean_squared_error: 0.0407 - noiseToSignalLoss: 22.3089 - val_loss: 0.0121 - val_mean_squared_error: 0.0016 - val_root_mean_squared_error: 0.0394 - val_noiseToSignalLoss: 33.9422\n",
      "Epoch 5/20\n",
      "793/793 [==============================] - 4s 5ms/step - loss: 0.0123 - mean_squared_error: 0.0016 - root_mean_squared_error: 0.0402 - noiseToSignalLoss: 21.6984 - val_loss: 0.0117 - val_mean_squared_error: 0.0015 - val_root_mean_squared_error: 0.0387 - val_noiseToSignalLoss: 30.7801\n",
      "Epoch 6/20\n",
      "793/793 [==============================] - 4s 5ms/step - loss: 0.0121 - mean_squared_error: 0.0016 - root_mean_squared_error: 0.0395 - noiseToSignalLoss: 19.3489 - val_loss: 0.0115 - val_mean_squared_error: 0.0014 - val_root_mean_squared_error: 0.0375 - val_noiseToSignalLoss: 22.3238\n",
      "Epoch 7/20\n",
      "793/793 [==============================] - 4s 5ms/step - loss: 0.0119 - mean_squared_error: 0.0015 - root_mean_squared_error: 0.0387 - noiseToSignalLoss: 17.4139 - val_loss: 0.0116 - val_mean_squared_error: 0.0014 - val_root_mean_squared_error: 0.0372 - val_noiseToSignalLoss: 19.3184\n",
      "Epoch 8/20\n",
      "793/793 [==============================] - 4s 5ms/step - loss: 0.0118 - mean_squared_error: 0.0015 - root_mean_squared_error: 0.0385 - noiseToSignalLoss: 16.7601 - val_loss: 0.0113 - val_mean_squared_error: 0.0014 - val_root_mean_squared_error: 0.0372 - val_noiseToSignalLoss: 15.6596\n",
      "Epoch 9/20\n",
      "793/793 [==============================] - 4s 5ms/step - loss: 0.0117 - mean_squared_error: 0.0015 - root_mean_squared_error: 0.0383 - noiseToSignalLoss: 16.2355 - val_loss: 0.0114 - val_mean_squared_error: 0.0014 - val_root_mean_squared_error: 0.0368 - val_noiseToSignalLoss: 20.7983\n",
      "Epoch 10/20\n",
      "793/793 [==============================] - 4s 5ms/step - loss: 0.0117 - mean_squared_error: 0.0015 - root_mean_squared_error: 0.0382 - noiseToSignalLoss: 16.5099 - val_loss: 0.0113 - val_mean_squared_error: 0.0014 - val_root_mean_squared_error: 0.0368 - val_noiseToSignalLoss: 20.1119\n",
      "Epoch 11/20\n",
      "793/793 [==============================] - 4s 5ms/step - loss: 0.0116 - mean_squared_error: 0.0014 - root_mean_squared_error: 0.0379 - noiseToSignalLoss: 15.4405 - val_loss: 0.0113 - val_mean_squared_error: 0.0014 - val_root_mean_squared_error: 0.0367 - val_noiseToSignalLoss: 17.4673\n",
      "Epoch 12/20\n",
      "793/793 [==============================] - 4s 5ms/step - loss: 0.0115 - mean_squared_error: 0.0014 - root_mean_squared_error: 0.0379 - noiseToSignalLoss: 16.2185 - val_loss: 0.0112 - val_mean_squared_error: 0.0013 - val_root_mean_squared_error: 0.0366 - val_noiseToSignalLoss: 16.2895\n",
      "Epoch 13/20\n",
      "793/793 [==============================] - 4s 5ms/step - loss: 0.0115 - mean_squared_error: 0.0014 - root_mean_squared_error: 0.0378 - noiseToSignalLoss: 16.3873 - val_loss: 0.0112 - val_mean_squared_error: 0.0013 - val_root_mean_squared_error: 0.0366 - val_noiseToSignalLoss: 20.1363\n",
      "Epoch 14/20\n",
      "793/793 [==============================] - 4s 5ms/step - loss: 0.0115 - mean_squared_error: 0.0014 - root_mean_squared_error: 0.0377 - noiseToSignalLoss: 16.0078 - val_loss: 0.0112 - val_mean_squared_error: 0.0013 - val_root_mean_squared_error: 0.0367 - val_noiseToSignalLoss: 13.5783\n",
      "Epoch 15/20\n",
      "793/793 [==============================] - 4s 5ms/step - loss: 0.0115 - mean_squared_error: 0.0014 - root_mean_squared_error: 0.0377 - noiseToSignalLoss: 16.3176 - val_loss: 0.0112 - val_mean_squared_error: 0.0013 - val_root_mean_squared_error: 0.0366 - val_noiseToSignalLoss: 14.1479\n",
      "Epoch 16/20\n",
      "793/793 [==============================] - 4s 5ms/step - loss: 0.0114 - mean_squared_error: 0.0014 - root_mean_squared_error: 0.0376 - noiseToSignalLoss: 15.9546 - val_loss: 0.0113 - val_mean_squared_error: 0.0014 - val_root_mean_squared_error: 0.0369 - val_noiseToSignalLoss: 11.4854\n",
      "Epoch 17/20\n",
      "792/793 [============================>.] - ETA: 0s - loss: 0.0114 - mean_squared_error: 0.0014 - root_mean_squared_error: 0.0376 - noiseToSignalLoss: 15.6135"
     ]
    },
    {
     "output_type": "stream",
     "name": "stderr",
     "text": [
      "\u001B[32m[I 2022-06-29 18:35:13,230]\u001B[0m Trial 84 pruned. Trial was pruned at epoch 16.\u001B[0m\n"
     ]
    },
    {
     "output_type": "stream",
     "name": "stdout",
     "text": [
      "Epoch 1/20\n",
      "793/793 [==============================] - 5s 5ms/step - loss: 0.0875 - mean_squared_error: 0.0137 - root_mean_squared_error: 0.1169 - noiseToSignalLoss: 2093.1287 - val_loss: 0.0213 - val_mean_squared_error: 0.0022 - val_root_mean_squared_error: 0.0470 - val_noiseToSignalLoss: 64.5951\n",
      "Epoch 2/20\n",
      "791/793 [============================>.] - ETA: 0s - loss: 0.0452 - mean_squared_error: 0.0046 - root_mean_squared_error: 0.0676 - noiseToSignalLoss: 458.6139"
     ]
    },
    {
     "output_type": "stream",
     "name": "stderr",
     "text": [
      "\u001B[32m[I 2022-06-29 18:37:07,432]\u001B[0m Trial 85 pruned. Trial was pruned at epoch 1.\u001B[0m\n"
     ]
    },
    {
     "output_type": "stream",
     "name": "stdout",
     "text": [
      "Epoch 1/20\n",
      "774/774 [==============================] - 5s 5ms/step - loss: 0.0174 - mean_squared_error: 0.0021 - root_mean_squared_error: 0.0458 - noiseToSignalLoss: 68.8606 - val_loss: 0.0129 - val_mean_squared_error: 0.0015 - val_root_mean_squared_error: 0.0384 - val_noiseToSignalLoss: 29.7590\n",
      "Epoch 2/20\n",
      "774/774 [==============================] - 4s 5ms/step - loss: 0.0134 - mean_squared_error: 0.0017 - root_mean_squared_error: 0.0411 - noiseToSignalLoss: 20.5862 - val_loss: 0.0121 - val_mean_squared_error: 0.0015 - val_root_mean_squared_error: 0.0386 - val_noiseToSignalLoss: 22.9465\n",
      "Epoch 3/20\n",
      "774/774 [==============================] - 4s 5ms/step - loss: 0.0127 - mean_squared_error: 0.0016 - root_mean_squared_error: 0.0406 - noiseToSignalLoss: 19.5681 - val_loss: 0.0118 - val_mean_squared_error: 0.0015 - val_root_mean_squared_error: 0.0382 - val_noiseToSignalLoss: 20.1104\n",
      "Epoch 4/20\n",
      "774/774 [==============================] - 4s 5ms/step - loss: 0.0125 - mean_squared_error: 0.0016 - root_mean_squared_error: 0.0403 - noiseToSignalLoss: 19.7311 - val_loss: 0.0119 - val_mean_squared_error: 0.0015 - val_root_mean_squared_error: 0.0384 - val_noiseToSignalLoss: 21.0458\n",
      "Epoch 5/20\n",
      "765/774 [============================>.] - ETA: 0s - loss: 0.0123 - mean_squared_error: 0.0016 - root_mean_squared_error: 0.0399 - noiseToSignalLoss: 18.2196"
     ]
    },
    {
     "output_type": "stream",
     "name": "stderr",
     "text": [
      "\u001B[32m[I 2022-06-29 18:39:12,657]\u001B[0m Trial 86 pruned. Trial was pruned at epoch 4.\u001B[0m\n"
     ]
    },
    {
     "output_type": "stream",
     "name": "stdout",
     "text": [
      "Epoch 1/20\n",
      "800/800 [==============================] - 5s 5ms/step - loss: 0.0197 - mean_squared_error: 0.0022 - root_mean_squared_error: 0.0474 - noiseToSignalLoss: 99.1715 - val_loss: 0.0135 - val_mean_squared_error: 0.0018 - val_root_mean_squared_error: 0.0423 - val_noiseToSignalLoss: 22.2139\n",
      "Epoch 2/20\n",
      "793/800 [============================>.] - ETA: 0s - loss: 0.0141 - mean_squared_error: 0.0017 - root_mean_squared_error: 0.0418 - noiseToSignalLoss: 30.2274"
     ]
    },
    {
     "output_type": "stream",
     "name": "stderr",
     "text": [
      "\u001B[32m[I 2022-06-29 18:41:07,723]\u001B[0m Trial 87 pruned. Trial was pruned at epoch 1.\u001B[0m\n"
     ]
    },
    {
     "output_type": "stream",
     "name": "stdout",
     "text": [
      "Epoch 1/20\n",
      "793/793 [==============================] - 6s 5ms/step - loss: 0.0177 - mean_squared_error: 0.0021 - root_mean_squared_error: 0.0462 - noiseToSignalLoss: 67.2677 - val_loss: 0.0129 - val_mean_squared_error: 0.0016 - val_root_mean_squared_error: 0.0400 - val_noiseToSignalLoss: 27.8532\n",
      "Epoch 2/20\n",
      "793/793 [==============================] - 4s 5ms/step - loss: 0.0135 - mean_squared_error: 0.0017 - root_mean_squared_error: 0.0414 - noiseToSignalLoss: 25.6090 - val_loss: 0.0122 - val_mean_squared_error: 0.0016 - val_root_mean_squared_error: 0.0396 - val_noiseToSignalLoss: 28.3316\n",
      "Epoch 3/20\n",
      "793/793 [==============================] - 4s 5ms/step - loss: 0.0129 - mean_squared_error: 0.0017 - root_mean_squared_error: 0.0411 - noiseToSignalLoss: 25.0804 - val_loss: 0.0121 - val_mean_squared_error: 0.0016 - val_root_mean_squared_error: 0.0395 - val_noiseToSignalLoss: 31.1527\n",
      "Epoch 4/20\n",
      "793/793 [==============================] - 4s 5ms/step - loss: 0.0126 - mean_squared_error: 0.0017 - root_mean_squared_error: 0.0409 - noiseToSignalLoss: 23.6459 - val_loss: 0.0118 - val_mean_squared_error: 0.0015 - val_root_mean_squared_error: 0.0393 - val_noiseToSignalLoss: 34.7658\n",
      "Epoch 5/20\n",
      "787/793 [============================>.] - ETA: 0s - loss: 0.0124 - mean_squared_error: 0.0016 - root_mean_squared_error: 0.0406 - noiseToSignalLoss: 24.2178"
     ]
    },
    {
     "output_type": "stream",
     "name": "stderr",
     "text": [
      "\u001B[32m[I 2022-06-29 18:43:14,814]\u001B[0m Trial 88 pruned. Trial was pruned at epoch 4.\u001B[0m\n"
     ]
    },
    {
     "output_type": "stream",
     "name": "stdout",
     "text": [
      "Epoch 1/20\n",
      "785/785 [==============================] - 5s 5ms/step - loss: 0.1046 - mean_squared_error: 0.0204 - root_mean_squared_error: 0.1427 - noiseToSignalLoss: 3157.9707 - val_loss: 0.0409 - val_mean_squared_error: 0.0040 - val_root_mean_squared_error: 0.0630 - val_noiseToSignalLoss: 336.6950\n",
      "Epoch 2/20\n",
      "784/785 [============================>.] - ETA: 0s - loss: 0.0557 - mean_squared_error: 0.0061 - root_mean_squared_error: 0.0778 - noiseToSignalLoss: 744.5757"
     ]
    },
    {
     "output_type": "stream",
     "name": "stderr",
     "text": [
      "\u001B[32m[I 2022-06-29 18:45:08,344]\u001B[0m Trial 89 pruned. Trial was pruned at epoch 1.\u001B[0m\n"
     ]
    },
    {
     "output_type": "stream",
     "name": "stdout",
     "text": [
      "Epoch 1/20\n",
      "800/800 [==============================] - 5s 6ms/step - loss: 0.0171 - mean_squared_error: 0.0020 - root_mean_squared_error: 0.0449 - noiseToSignalLoss: 75.1467 - val_loss: 0.0133 - val_mean_squared_error: 0.0017 - val_root_mean_squared_error: 0.0409 - val_noiseToSignalLoss: 25.1237\n",
      "Epoch 2/20\n",
      "800/800 [==============================] - 4s 5ms/step - loss: 0.0132 - mean_squared_error: 0.0016 - root_mean_squared_error: 0.0405 - noiseToSignalLoss: 26.3905 - val_loss: 0.0124 - val_mean_squared_error: 0.0016 - val_root_mean_squared_error: 0.0404 - val_noiseToSignalLoss: 20.1547\n",
      "Epoch 3/20\n",
      "800/800 [==============================] - 4s 5ms/step - loss: 0.0126 - mean_squared_error: 0.0016 - root_mean_squared_error: 0.0400 - noiseToSignalLoss: 24.2159 - val_loss: 0.0123 - val_mean_squared_error: 0.0016 - val_root_mean_squared_error: 0.0405 - val_noiseToSignalLoss: 10.9098\n",
      "Epoch 4/20\n",
      "800/800 [==============================] - 4s 5ms/step - loss: 0.0123 - mean_squared_error: 0.0016 - root_mean_squared_error: 0.0395 - noiseToSignalLoss: 21.6253 - val_loss: 0.0119 - val_mean_squared_error: 0.0016 - val_root_mean_squared_error: 0.0398 - val_noiseToSignalLoss: 13.9938\n",
      "Epoch 5/20\n",
      "797/800 [============================>.] - ETA: 0s - loss: 0.0121 - mean_squared_error: 0.0015 - root_mean_squared_error: 0.0390 - noiseToSignalLoss: 20.8630"
     ]
    },
    {
     "output_type": "stream",
     "name": "stderr",
     "text": [
      "\u001B[32m[I 2022-06-29 18:47:15,920]\u001B[0m Trial 90 pruned. Trial was pruned at epoch 4.\u001B[0m\n"
     ]
    },
    {
     "output_type": "stream",
     "name": "stdout",
     "text": [
      "Epoch 1/20\n",
      "793/793 [==============================] - 5s 5ms/step - loss: 0.0174 - mean_squared_error: 0.0021 - root_mean_squared_error: 0.0459 - noiseToSignalLoss: 57.4438 - val_loss: 0.0131 - val_mean_squared_error: 0.0017 - val_root_mean_squared_error: 0.0411 - val_noiseToSignalLoss: 21.4175\n",
      "Epoch 2/20\n",
      "793/793 [==============================] - 4s 5ms/step - loss: 0.0137 - mean_squared_error: 0.0018 - root_mean_squared_error: 0.0419 - noiseToSignalLoss: 23.0834 - val_loss: 0.0126 - val_mean_squared_error: 0.0016 - val_root_mean_squared_error: 0.0404 - val_noiseToSignalLoss: 27.4979\n",
      "Epoch 3/20\n",
      "793/793 [==============================] - 4s 5ms/step - loss: 0.0130 - mean_squared_error: 0.0017 - root_mean_squared_error: 0.0414 - noiseToSignalLoss: 23.4946 - val_loss: 0.0121 - val_mean_squared_error: 0.0016 - val_root_mean_squared_error: 0.0397 - val_noiseToSignalLoss: 34.6235\n",
      "Epoch 4/20\n",
      "793/793 [==============================] - 4s 5ms/step - loss: 0.0126 - mean_squared_error: 0.0017 - root_mean_squared_error: 0.0410 - noiseToSignalLoss: 22.1796 - val_loss: 0.0123 - val_mean_squared_error: 0.0016 - val_root_mean_squared_error: 0.0397 - val_noiseToSignalLoss: 31.6388\n",
      "Epoch 5/20\n",
      "789/793 [============================>.] - ETA: 0s - loss: 0.0125 - mean_squared_error: 0.0017 - root_mean_squared_error: 0.0407 - noiseToSignalLoss: 22.7151"
     ]
    },
    {
     "output_type": "stream",
     "name": "stderr",
     "text": [
      "\u001B[32m[I 2022-06-29 18:49:22,268]\u001B[0m Trial 91 pruned. Trial was pruned at epoch 4.\u001B[0m\n"
     ]
    },
    {
     "output_type": "stream",
     "name": "stdout",
     "text": [
      "Epoch 1/20\n",
      "793/793 [==============================] - 5s 5ms/step - loss: 0.0185 - mean_squared_error: 0.0022 - root_mean_squared_error: 0.0467 - noiseToSignalLoss: 75.5293 - val_loss: 0.0130 - val_mean_squared_error: 0.0017 - val_root_mean_squared_error: 0.0412 - val_noiseToSignalLoss: 19.9005\n",
      "Epoch 2/20\n",
      "793/793 [==============================] - 4s 5ms/step - loss: 0.0137 - mean_squared_error: 0.0017 - root_mean_squared_error: 0.0417 - noiseToSignalLoss: 24.3491 - val_loss: 0.0124 - val_mean_squared_error: 0.0016 - val_root_mean_squared_error: 0.0402 - val_noiseToSignalLoss: 28.2638\n",
      "Epoch 3/20\n",
      "793/793 [==============================] - 4s 5ms/step - loss: 0.0131 - mean_squared_error: 0.0017 - root_mean_squared_error: 0.0413 - noiseToSignalLoss: 24.4969 - val_loss: 0.0123 - val_mean_squared_error: 0.0016 - val_root_mean_squared_error: 0.0398 - val_noiseToSignalLoss: 37.1812\n",
      "Epoch 4/20\n",
      "793/793 [==============================] - 4s 5ms/step - loss: 0.0128 - mean_squared_error: 0.0017 - root_mean_squared_error: 0.0411 - noiseToSignalLoss: 23.8347 - val_loss: 0.0129 - val_mean_squared_error: 0.0016 - val_root_mean_squared_error: 0.0396 - val_noiseToSignalLoss: 43.4476\n",
      "Epoch 5/20\n",
      "784/793 [============================>.] - ETA: 0s - loss: 0.0126 - mean_squared_error: 0.0017 - root_mean_squared_error: 0.0409 - noiseToSignalLoss: 23.5386"
     ]
    },
    {
     "output_type": "stream",
     "name": "stderr",
     "text": [
      "\u001B[32m[I 2022-06-29 18:51:28,322]\u001B[0m Trial 92 pruned. Trial was pruned at epoch 4.\u001B[0m\n"
     ]
    },
    {
     "output_type": "stream",
     "name": "stdout",
     "text": [
      "Epoch 1/20\n",
      "793/793 [==============================] - 5s 6ms/step - loss: 0.0164 - mean_squared_error: 0.0020 - root_mean_squared_error: 0.0443 - noiseToSignalLoss: 46.1330 - val_loss: 0.0156 - val_mean_squared_error: 0.0016 - val_root_mean_squared_error: 0.0403 - val_noiseToSignalLoss: 66.6388\n",
      "Epoch 2/20\n",
      "793/793 [==============================] - 4s 5ms/step - loss: 0.0131 - mean_squared_error: 0.0017 - root_mean_squared_error: 0.0411 - noiseToSignalLoss: 22.4930 - val_loss: 0.0124 - val_mean_squared_error: 0.0015 - val_root_mean_squared_error: 0.0392 - val_noiseToSignalLoss: 35.5030\n",
      "Epoch 3/20\n",
      "793/793 [==============================] - 4s 5ms/step - loss: 0.0126 - mean_squared_error: 0.0017 - root_mean_squared_error: 0.0406 - noiseToSignalLoss: 22.0163 - val_loss: 0.0118 - val_mean_squared_error: 0.0015 - val_root_mean_squared_error: 0.0390 - val_noiseToSignalLoss: 40.5424\n",
      "Epoch 4/20\n",
      "793/793 [==============================] - 4s 5ms/step - loss: 0.0123 - mean_squared_error: 0.0016 - root_mean_squared_error: 0.0401 - noiseToSignalLoss: 21.1613 - val_loss: 0.0118 - val_mean_squared_error: 0.0015 - val_root_mean_squared_error: 0.0387 - val_noiseToSignalLoss: 40.9488\n",
      "Epoch 5/20\n",
      "793/793 [==============================] - 4s 5ms/step - loss: 0.0121 - mean_squared_error: 0.0016 - root_mean_squared_error: 0.0395 - noiseToSignalLoss: 18.9606 - val_loss: 0.0117 - val_mean_squared_error: 0.0014 - val_root_mean_squared_error: 0.0377 - val_noiseToSignalLoss: 20.5044\n",
      "Epoch 6/20\n",
      "793/793 [==============================] - 4s 5ms/step - loss: 0.0119 - mean_squared_error: 0.0015 - root_mean_squared_error: 0.0388 - noiseToSignalLoss: 16.9663 - val_loss: 0.0118 - val_mean_squared_error: 0.0014 - val_root_mean_squared_error: 0.0373 - val_noiseToSignalLoss: 19.0791\n",
      "Epoch 7/20\n",
      "793/793 [==============================] - 4s 5ms/step - loss: 0.0118 - mean_squared_error: 0.0015 - root_mean_squared_error: 0.0385 - noiseToSignalLoss: 16.4835 - val_loss: 0.0119 - val_mean_squared_error: 0.0014 - val_root_mean_squared_error: 0.0370 - val_noiseToSignalLoss: 21.0783\n",
      "Epoch 8/20\n",
      "793/793 [==============================] - 4s 5ms/step - loss: 0.0117 - mean_squared_error: 0.0015 - root_mean_squared_error: 0.0383 - noiseToSignalLoss: 15.4664 - val_loss: 0.0113 - val_mean_squared_error: 0.0014 - val_root_mean_squared_error: 0.0370 - val_noiseToSignalLoss: 14.4851\n",
      "Epoch 9/20\n",
      "793/793 [==============================] - 4s 5ms/step - loss: 0.0116 - mean_squared_error: 0.0015 - root_mean_squared_error: 0.0381 - noiseToSignalLoss: 15.3953 - val_loss: 0.0113 - val_mean_squared_error: 0.0014 - val_root_mean_squared_error: 0.0368 - val_noiseToSignalLoss: 16.5789\n",
      "Epoch 10/20\n",
      "793/793 [==============================] - 4s 5ms/step - loss: 0.0115 - mean_squared_error: 0.0014 - root_mean_squared_error: 0.0379 - noiseToSignalLoss: 15.5726 - val_loss: 0.0113 - val_mean_squared_error: 0.0013 - val_root_mean_squared_error: 0.0364 - val_noiseToSignalLoss: 20.2833\n",
      "Epoch 11/20\n",
      "793/793 [==============================] - 4s 5ms/step - loss: 0.0115 - mean_squared_error: 0.0014 - root_mean_squared_error: 0.0378 - noiseToSignalLoss: 15.3671 - val_loss: 0.0113 - val_mean_squared_error: 0.0013 - val_root_mean_squared_error: 0.0367 - val_noiseToSignalLoss: 16.6347\n",
      "Epoch 12/20\n",
      "793/793 [==============================] - 4s 5ms/step - loss: 0.0115 - mean_squared_error: 0.0014 - root_mean_squared_error: 0.0378 - noiseToSignalLoss: 15.3992 - val_loss: 0.0113 - val_mean_squared_error: 0.0013 - val_root_mean_squared_error: 0.0363 - val_noiseToSignalLoss: 23.0135\n",
      "Epoch 13/20\n",
      "793/793 [==============================] - 4s 5ms/step - loss: 0.0114 - mean_squared_error: 0.0014 - root_mean_squared_error: 0.0377 - noiseToSignalLoss: 15.2193 - val_loss: 0.0112 - val_mean_squared_error: 0.0013 - val_root_mean_squared_error: 0.0366 - val_noiseToSignalLoss: 16.8266\n",
      "Epoch 14/20\n",
      "793/793 [==============================] - 4s 5ms/step - loss: 0.0114 - mean_squared_error: 0.0014 - root_mean_squared_error: 0.0376 - noiseToSignalLoss: 15.2322 - val_loss: 0.0113 - val_mean_squared_error: 0.0013 - val_root_mean_squared_error: 0.0366 - val_noiseToSignalLoss: 21.8558\n",
      "Epoch 15/20\n",
      "793/793 [==============================] - 4s 5ms/step - loss: 0.0114 - mean_squared_error: 0.0014 - root_mean_squared_error: 0.0376 - noiseToSignalLoss: 14.7707 - val_loss: 0.0114 - val_mean_squared_error: 0.0014 - val_root_mean_squared_error: 0.0368 - val_noiseToSignalLoss: 12.3164\n",
      "Epoch 16/20\n",
      "793/793 [==============================] - 4s 5ms/step - loss: 0.0114 - mean_squared_error: 0.0014 - root_mean_squared_error: 0.0376 - noiseToSignalLoss: 14.4885 - val_loss: 0.0111 - val_mean_squared_error: 0.0013 - val_root_mean_squared_error: 0.0361 - val_noiseToSignalLoss: 19.2672\n",
      "Epoch 17/20\n",
      "793/793 [==============================] - ETA: 0s - loss: 0.0113 - mean_squared_error: 0.0014 - root_mean_squared_error: 0.0375 - noiseToSignalLoss: 14.5059"
     ]
    },
    {
     "output_type": "stream",
     "name": "stderr",
     "text": [
      "\u001B[32m[I 2022-06-29 18:54:23,349]\u001B[0m Trial 93 pruned. Trial was pruned at epoch 16.\u001B[0m\n"
     ]
    },
    {
     "output_type": "stream",
     "name": "stdout",
     "text": [
      "Epoch 1/20\n",
      "793/793 [==============================] - 5s 5ms/step - loss: 0.0177 - mean_squared_error: 0.0020 - root_mean_squared_error: 0.0452 - noiseToSignalLoss: 54.7637 - val_loss: 0.0127 - val_mean_squared_error: 0.0016 - val_root_mean_squared_error: 0.0404 - val_noiseToSignalLoss: 22.7828\n",
      "Epoch 2/20\n",
      "793/793 [==============================] - 4s 5ms/step - loss: 0.0137 - mean_squared_error: 0.0017 - root_mean_squared_error: 0.0415 - noiseToSignalLoss: 23.7405 - val_loss: 0.0125 - val_mean_squared_error: 0.0016 - val_root_mean_squared_error: 0.0396 - val_noiseToSignalLoss: 34.6183\n",
      "Epoch 3/20\n",
      "793/793 [==============================] - 4s 5ms/step - loss: 0.0130 - mean_squared_error: 0.0017 - root_mean_squared_error: 0.0412 - noiseToSignalLoss: 23.7966 - val_loss: 0.0124 - val_mean_squared_error: 0.0015 - val_root_mean_squared_error: 0.0394 - val_noiseToSignalLoss: 38.2695\n",
      "Epoch 4/20\n",
      "793/793 [==============================] - 4s 5ms/step - loss: 0.0128 - mean_squared_error: 0.0017 - root_mean_squared_error: 0.0410 - noiseToSignalLoss: 22.7972 - val_loss: 0.0124 - val_mean_squared_error: 0.0016 - val_root_mean_squared_error: 0.0398 - val_noiseToSignalLoss: 31.9003\n",
      "Epoch 5/20\n",
      "788/793 [============================>.] - ETA: 0s - loss: 0.0126 - mean_squared_error: 0.0017 - root_mean_squared_error: 0.0409 - noiseToSignalLoss: 23.2262"
     ]
    },
    {
     "output_type": "stream",
     "name": "stderr",
     "text": [
      "\u001B[32m[I 2022-06-29 18:56:29,773]\u001B[0m Trial 94 pruned. Trial was pruned at epoch 4.\u001B[0m\n"
     ]
    },
    {
     "output_type": "stream",
     "name": "stdout",
     "text": [
      "Epoch 1/20\n",
      "800/800 [==============================] - 5s 5ms/step - loss: 0.0186 - mean_squared_error: 0.0024 - root_mean_squared_error: 0.0488 - noiseToSignalLoss: 119.7292 - val_loss: 0.0134 - val_mean_squared_error: 0.0017 - val_root_mean_squared_error: 0.0413 - val_noiseToSignalLoss: 22.7382\n",
      "Epoch 2/20\n",
      "799/800 [============================>.] - ETA: 0s - loss: 0.0136 - mean_squared_error: 0.0017 - root_mean_squared_error: 0.0408 - noiseToSignalLoss: 24.5178"
     ]
    },
    {
     "output_type": "stream",
     "name": "stderr",
     "text": [
      "\u001B[32m[I 2022-06-29 18:58:44,243]\u001B[0m Trial 95 pruned. Trial was pruned at epoch 1.\u001B[0m\n"
     ]
    },
    {
     "output_type": "stream",
     "name": "stdout",
     "text": [
      "Epoch 1/20\n",
      "793/793 [==============================] - 5s 6ms/step - loss: 0.0622 - mean_squared_error: 0.0076 - root_mean_squared_error: 0.0872 - noiseToSignalLoss: 985.8786 - val_loss: 0.0187 - val_mean_squared_error: 0.0020 - val_root_mean_squared_error: 0.0444 - val_noiseToSignalLoss: 48.5834\n",
      "Epoch 2/20\n",
      "793/793 [==============================] - ETA: 0s - loss: 0.0340 - mean_squared_error: 0.0031 - root_mean_squared_error: 0.0561 - noiseToSignalLoss: 239.6939"
     ]
    },
    {
     "output_type": "stream",
     "name": "stderr",
     "text": [
      "\u001B[32m[I 2022-06-29 19:00:38,508]\u001B[0m Trial 96 pruned. Trial was pruned at epoch 1.\u001B[0m\n"
     ]
    },
    {
     "output_type": "stream",
     "name": "stdout",
     "text": [
      "Epoch 1/20\n",
      "774/774 [==============================] - 5s 5ms/step - loss: 0.0239 - mean_squared_error: 0.0033 - root_mean_squared_error: 0.0571 - noiseToSignalLoss: 238.2382 - val_loss: 0.0146 - val_mean_squared_error: 0.0017 - val_root_mean_squared_error: 0.0409 - val_noiseToSignalLoss: 16.5396\n",
      "Epoch 2/20\n",
      "769/774 [============================>.] - ETA: 0s - loss: 0.0145 - mean_squared_error: 0.0018 - root_mean_squared_error: 0.0427 - noiseToSignalLoss: 20.7255"
     ]
    },
    {
     "output_type": "stream",
     "name": "stderr",
     "text": [
      "\u001B[32m[I 2022-06-29 19:02:31,357]\u001B[0m Trial 97 pruned. Trial was pruned at epoch 1.\u001B[0m\n"
     ]
    },
    {
     "output_type": "stream",
     "name": "stdout",
     "text": [
      "Epoch 1/20\n",
      "785/785 [==============================] - 5s 5ms/step - loss: 0.0154 - mean_squared_error: 0.0019 - root_mean_squared_error: 0.0435 - noiseToSignalLoss: 38.4320 - val_loss: 0.0130 - val_mean_squared_error: 0.0017 - val_root_mean_squared_error: 0.0416 - val_noiseToSignalLoss: 22.8572\n",
      "Epoch 2/20\n",
      "785/785 [==============================] - 4s 5ms/step - loss: 0.0127 - mean_squared_error: 0.0017 - root_mean_squared_error: 0.0409 - noiseToSignalLoss: 22.5648 - val_loss: 0.0126 - val_mean_squared_error: 0.0017 - val_root_mean_squared_error: 0.0414 - val_noiseToSignalLoss: 20.9328\n",
      "Epoch 3/20\n",
      "785/785 [==============================] - 4s 5ms/step - loss: 0.0124 - mean_squared_error: 0.0016 - root_mean_squared_error: 0.0404 - noiseToSignalLoss: 21.5347 - val_loss: 0.0123 - val_mean_squared_error: 0.0017 - val_root_mean_squared_error: 0.0409 - val_noiseToSignalLoss: 13.5187\n",
      "Epoch 4/20\n",
      "785/785 [==============================] - 4s 5ms/step - loss: 0.0122 - mean_squared_error: 0.0016 - root_mean_squared_error: 0.0396 - noiseToSignalLoss: 18.5169 - val_loss: 0.0122 - val_mean_squared_error: 0.0016 - val_root_mean_squared_error: 0.0405 - val_noiseToSignalLoss: 10.7653\n",
      "Epoch 5/20\n",
      "785/785 [==============================] - ETA: 0s - loss: 0.0119 - mean_squared_error: 0.0015 - root_mean_squared_error: 0.0389 - noiseToSignalLoss: 16.1365"
     ]
    },
    {
     "output_type": "stream",
     "name": "stderr",
     "text": [
      "\u001B[32m[I 2022-06-29 19:04:36,542]\u001B[0m Trial 98 pruned. Trial was pruned at epoch 4.\u001B[0m\n"
     ]
    },
    {
     "output_type": "stream",
     "name": "stdout",
     "text": [
      "Epoch 1/20\n",
      "756/756 [==============================] - 5s 5ms/step - loss: 0.0281 - mean_squared_error: 0.0032 - root_mean_squared_error: 0.0568 - noiseToSignalLoss: 227.5069 - val_loss: 0.0149 - val_mean_squared_error: 0.0020 - val_root_mean_squared_error: 0.0446 - val_noiseToSignalLoss: 15.3512\n",
      "Epoch 2/20\n",
      "750/756 [============================>.] - ETA: 0s - loss: 0.0159 - mean_squared_error: 0.0019 - root_mean_squared_error: 0.0437 - noiseToSignalLoss: 21.0081"
     ]
    },
    {
     "output_type": "stream",
     "name": "stderr",
     "text": [
      "\u001B[32m[I 2022-06-29 19:06:29,985]\u001B[0m Trial 99 pruned. Trial was pruned at epoch 1.\u001B[0m\n"
     ]
    },
    {
     "output_type": "stream",
     "name": "stdout",
     "text": [
      "Study statistics:\n",
      "   Number of finished Trials:  100\n",
      "   Number of pruned Trials:  92\n",
      "   Number of complete Trials:  8\n",
      "Best Trial: \n",
      "  MAE:  0.009092113934457302\n",
      "   Params: \n",
      "   sequence_length: 6\n",
      "   ff1_hidden_neurons: 118\n",
      "   ff2_hidden_neurons: 233\n",
      "   ff3_hidden_neurons: 108\n",
      "   ff4_hidden_neurons: 225\n",
      "   ff5_hidden_neurons: 188\n",
      "   ff6_hidden_neurons: 205\n",
      "   ff7_hidden_neurons: 151\n",
      "   ff8_hidden_neurons: 185\n",
      "   ff9_hidden_neurons: 243\n",
      "   ff10_hidden_neurons: 174\n",
      "   ff11_hidden_neurons: 89\n",
      "   ff12_hidden_neurons: 88\n",
      "   ff13_hidden_neurons: 227\n",
      "   ff14_hidden_neurons: 241\n",
      "   ff15_hidden_neurons: 140\n",
      "   ff16_hidden_neurons: 173\n",
      "   ff17_hidden_neurons: 105\n",
      "   learning_rate: 9.90350364955544e-05\n"
     ]
    }
   ]
  },
  {
   "cell_type": "code",
   "source": [
    "study.optimize(objective, n_trials=NUMBER_OF_TRIALS)\n",
    "\n",
    "# show results\n",
    "pruned_trials = study.get_trials(states=[optuna.trial.TrialState.PRUNED])\n",
    "complete_trials = study.get_trials(states=[optuna.trial.TrialState.COMPLETE])\n",
    "\n",
    "print('Study statistics:')\n",
    "print('   Number of finished Trials: ', len(study.trials))\n",
    "print('   Number of pruned Trials: ', len(pruned_trials))\n",
    "print('   Number of complete Trials: ', len(complete_trials))\n",
    "\n",
    "print('Best Trial: ')\n",
    "trial = study.best_trial\n",
    "\n",
    "print('  MAE: ', trial.value)\n",
    "\n",
    "print('   Params: ')\n",
    "for key, value in trial.params.items():\n",
    "    print('   {}: {}'.format(key, value))"
   ],
   "metadata": {
    "colab": {
     "base_uri": "https://localhost:8080/"
    },
    "id": "M55-D-473Afd",
    "outputId": "85d4fe6a-67e4-491b-e65e-71c0bbf43d3b",
    "pycharm": {
     "name": "#%%\n"
    }
   },
   "execution_count": null,
   "outputs": [
    {
     "output_type": "stream",
     "name": "stdout",
     "text": [
      "Epoch 1/20\n",
      "800/800 [==============================] - 5s 5ms/step - loss: 0.0454 - mean_squared_error: 0.0056 - root_mean_squared_error: 0.0745 - noiseToSignalLoss: 660.2209 - val_loss: 0.0162 - val_mean_squared_error: 0.0020 - val_root_mean_squared_error: 0.0442 - val_noiseToSignalLoss: 29.9788\n",
      "Epoch 2/20\n",
      "798/800 [============================>.] - ETA: 0s - loss: 0.0201 - mean_squared_error: 0.0021 - root_mean_squared_error: 0.0455 - noiseToSignalLoss: 55.3023"
     ]
    },
    {
     "output_type": "stream",
     "name": "stderr",
     "text": [
      "\u001B[32m[I 2022-06-29 19:09:13,068]\u001B[0m Trial 100 pruned. Trial was pruned at epoch 1.\u001B[0m\n"
     ]
    },
    {
     "output_type": "stream",
     "name": "stdout",
     "text": [
      "Epoch 1/20\n",
      "793/793 [==============================] - 5s 5ms/step - loss: 0.0172 - mean_squared_error: 0.0021 - root_mean_squared_error: 0.0458 - noiseToSignalLoss: 75.8163 - val_loss: 0.0126 - val_mean_squared_error: 0.0016 - val_root_mean_squared_error: 0.0401 - val_noiseToSignalLoss: 24.8317\n",
      "Epoch 2/20\n",
      "793/793 [==============================] - 4s 5ms/step - loss: 0.0133 - mean_squared_error: 0.0017 - root_mean_squared_error: 0.0412 - noiseToSignalLoss: 22.3458 - val_loss: 0.0124 - val_mean_squared_error: 0.0016 - val_root_mean_squared_error: 0.0394 - val_noiseToSignalLoss: 37.0393\n",
      "Epoch 3/20\n",
      "793/793 [==============================] - 4s 5ms/step - loss: 0.0127 - mean_squared_error: 0.0017 - root_mean_squared_error: 0.0407 - noiseToSignalLoss: 22.4951 - val_loss: 0.0125 - val_mean_squared_error: 0.0015 - val_root_mean_squared_error: 0.0391 - val_noiseToSignalLoss: 42.3728\n",
      "Epoch 4/20\n",
      "793/793 [==============================] - 4s 5ms/step - loss: 0.0125 - mean_squared_error: 0.0016 - root_mean_squared_error: 0.0403 - noiseToSignalLoss: 20.6038 - val_loss: 0.0119 - val_mean_squared_error: 0.0015 - val_root_mean_squared_error: 0.0387 - val_noiseToSignalLoss: 37.1071\n",
      "Epoch 5/20\n",
      "793/793 [==============================] - 4s 5ms/step - loss: 0.0122 - mean_squared_error: 0.0016 - root_mean_squared_error: 0.0397 - noiseToSignalLoss: 18.7220 - val_loss: 0.0117 - val_mean_squared_error: 0.0014 - val_root_mean_squared_error: 0.0379 - val_noiseToSignalLoss: 20.4735\n",
      "Epoch 6/20\n",
      "793/793 [==============================] - 4s 5ms/step - loss: 0.0120 - mean_squared_error: 0.0015 - root_mean_squared_error: 0.0388 - noiseToSignalLoss: 17.0307 - val_loss: 0.0115 - val_mean_squared_error: 0.0014 - val_root_mean_squared_error: 0.0373 - val_noiseToSignalLoss: 17.4361\n",
      "Epoch 7/20\n",
      "793/793 [==============================] - 4s 5ms/step - loss: 0.0118 - mean_squared_error: 0.0015 - root_mean_squared_error: 0.0385 - noiseToSignalLoss: 16.7586 - val_loss: 0.0114 - val_mean_squared_error: 0.0014 - val_root_mean_squared_error: 0.0372 - val_noiseToSignalLoss: 13.7810\n",
      "Epoch 8/20\n",
      "793/793 [==============================] - 4s 5ms/step - loss: 0.0117 - mean_squared_error: 0.0015 - root_mean_squared_error: 0.0383 - noiseToSignalLoss: 15.9292 - val_loss: 0.0116 - val_mean_squared_error: 0.0014 - val_root_mean_squared_error: 0.0368 - val_noiseToSignalLoss: 19.1881\n",
      "Epoch 9/20\n",
      "793/793 [==============================] - 4s 5ms/step - loss: 0.0116 - mean_squared_error: 0.0014 - root_mean_squared_error: 0.0380 - noiseToSignalLoss: 16.1374 - val_loss: 0.0114 - val_mean_squared_error: 0.0014 - val_root_mean_squared_error: 0.0369 - val_noiseToSignalLoss: 13.2119\n",
      "Epoch 10/20\n",
      "793/793 [==============================] - 4s 5ms/step - loss: 0.0116 - mean_squared_error: 0.0014 - root_mean_squared_error: 0.0379 - noiseToSignalLoss: 16.0716 - val_loss: 0.0114 - val_mean_squared_error: 0.0014 - val_root_mean_squared_error: 0.0369 - val_noiseToSignalLoss: 14.9441\n",
      "Epoch 11/20\n",
      "793/793 [==============================] - 4s 5ms/step - loss: 0.0115 - mean_squared_error: 0.0014 - root_mean_squared_error: 0.0378 - noiseToSignalLoss: 16.0328 - val_loss: 0.0116 - val_mean_squared_error: 0.0013 - val_root_mean_squared_error: 0.0365 - val_noiseToSignalLoss: 27.2563\n",
      "Epoch 12/20\n",
      "793/793 [==============================] - 4s 5ms/step - loss: 0.0115 - mean_squared_error: 0.0014 - root_mean_squared_error: 0.0378 - noiseToSignalLoss: 15.9747 - val_loss: 0.0113 - val_mean_squared_error: 0.0013 - val_root_mean_squared_error: 0.0367 - val_noiseToSignalLoss: 16.2975\n",
      "Epoch 13/20\n",
      "793/793 [==============================] - 4s 5ms/step - loss: 0.0115 - mean_squared_error: 0.0014 - root_mean_squared_error: 0.0377 - noiseToSignalLoss: 15.8595 - val_loss: 0.0115 - val_mean_squared_error: 0.0014 - val_root_mean_squared_error: 0.0367 - val_noiseToSignalLoss: 15.2413\n",
      "Epoch 14/20\n",
      "793/793 [==============================] - 4s 5ms/step - loss: 0.0115 - mean_squared_error: 0.0014 - root_mean_squared_error: 0.0377 - noiseToSignalLoss: 15.9099 - val_loss: 0.0116 - val_mean_squared_error: 0.0014 - val_root_mean_squared_error: 0.0368 - val_noiseToSignalLoss: 12.5571\n",
      "Epoch 15/20\n",
      "793/793 [==============================] - 4s 5ms/step - loss: 0.0114 - mean_squared_error: 0.0014 - root_mean_squared_error: 0.0376 - noiseToSignalLoss: 15.5373 - val_loss: 0.0113 - val_mean_squared_error: 0.0013 - val_root_mean_squared_error: 0.0363 - val_noiseToSignalLoss: 17.9906\n",
      "Epoch 16/20\n",
      "793/793 [==============================] - 4s 5ms/step - loss: 0.0114 - mean_squared_error: 0.0014 - root_mean_squared_error: 0.0376 - noiseToSignalLoss: 15.0170 - val_loss: 0.0113 - val_mean_squared_error: 0.0013 - val_root_mean_squared_error: 0.0362 - val_noiseToSignalLoss: 17.7175\n",
      "Epoch 17/20\n",
      "793/793 [==============================] - 4s 5ms/step - loss: 0.0114 - mean_squared_error: 0.0014 - root_mean_squared_error: 0.0375 - noiseToSignalLoss: 14.7939 - val_loss: 0.0111 - val_mean_squared_error: 0.0013 - val_root_mean_squared_error: 0.0362 - val_noiseToSignalLoss: 16.7124\n",
      "Epoch 18/20\n",
      "793/793 [==============================] - 4s 5ms/step - loss: 0.0113 - mean_squared_error: 0.0014 - root_mean_squared_error: 0.0376 - noiseToSignalLoss: 15.2934 - val_loss: 0.0114 - val_mean_squared_error: 0.0014 - val_root_mean_squared_error: 0.0368 - val_noiseToSignalLoss: 11.7231\n",
      "Epoch 19/20\n",
      "793/793 [==============================] - 4s 5ms/step - loss: 0.0113 - mean_squared_error: 0.0014 - root_mean_squared_error: 0.0375 - noiseToSignalLoss: 14.7745 - val_loss: 0.0111 - val_mean_squared_error: 0.0013 - val_root_mean_squared_error: 0.0363 - val_noiseToSignalLoss: 15.0671\n",
      "Epoch 20/20\n",
      "793/793 [==============================] - 4s 5ms/step - loss: 0.0113 - mean_squared_error: 0.0014 - root_mean_squared_error: 0.0375 - noiseToSignalLoss: 14.6326 - val_loss: 0.0112 - val_mean_squared_error: 0.0013 - val_root_mean_squared_error: 0.0364 - val_noiseToSignalLoss: 15.1639\n",
      "263/263 [==============================] - 1s 3ms/step - loss: 0.0093 - mean_squared_error: 8.3390e-04 - root_mean_squared_error: 0.0289 - noiseToSignalLoss: 12.2311\n"
     ]
    },
    {
     "output_type": "stream",
     "name": "stderr",
     "text": [
      "\u001B[32m[I 2022-06-29 19:12:22,107]\u001B[0m Trial 101 finished with value: 0.009342661127448082 and parameters: {'sequence_length': 6, 'ff1_hidden_neurons': 117, 'ff2_hidden_neurons': 229, 'ff3_hidden_neurons': 109, 'ff4_hidden_neurons': 235, 'ff5_hidden_neurons': 192, 'ff6_hidden_neurons': 246, 'ff7_hidden_neurons': 140, 'ff8_hidden_neurons': 186, 'ff9_hidden_neurons': 236, 'ff10_hidden_neurons': 169, 'ff11_hidden_neurons': 88, 'ff12_hidden_neurons': 85, 'ff13_hidden_neurons': 223, 'ff14_hidden_neurons': 241, 'ff15_hidden_neurons': 139, 'ff16_hidden_neurons': 191, 'ff17_hidden_neurons': 99, 'learning_rate': 7.674267112444944e-05}. Best is trial 81 with value: 0.009092113934457302.\u001B[0m\n"
     ]
    },
    {
     "output_type": "stream",
     "name": "stdout",
     "text": [
      "Epoch 1/20\n",
      "793/793 [==============================] - 5s 5ms/step - loss: 0.0169 - mean_squared_error: 0.0020 - root_mean_squared_error: 0.0451 - noiseToSignalLoss: 61.6590 - val_loss: 0.0137 - val_mean_squared_error: 0.0017 - val_root_mean_squared_error: 0.0413 - val_noiseToSignalLoss: 20.0717\n",
      "Epoch 2/20\n",
      "793/793 [==============================] - ETA: 0s - loss: 0.0133 - mean_squared_error: 0.0017 - root_mean_squared_error: 0.0414 - noiseToSignalLoss: 23.1317"
     ]
    },
    {
     "output_type": "stream",
     "name": "stderr",
     "text": [
      "\u001B[32m[I 2022-06-29 19:14:16,532]\u001B[0m Trial 102 pruned. Trial was pruned at epoch 1.\u001B[0m\n"
     ]
    },
    {
     "output_type": "stream",
     "name": "stdout",
     "text": [
      "Epoch 1/20\n",
      "793/793 [==============================] - 5s 5ms/step - loss: 0.0485 - mean_squared_error: 0.0054 - root_mean_squared_error: 0.0736 - noiseToSignalLoss: 624.9249 - val_loss: 0.0170 - val_mean_squared_error: 0.0019 - val_root_mean_squared_error: 0.0441 - val_noiseToSignalLoss: 37.1932\n",
      "Epoch 2/20\n",
      "789/793 [============================>.] - ETA: 0s - loss: 0.0221 - mean_squared_error: 0.0022 - root_mean_squared_error: 0.0473 - noiseToSignalLoss: 70.1035"
     ]
    },
    {
     "output_type": "stream",
     "name": "stderr",
     "text": [
      "\u001B[32m[I 2022-06-29 19:16:10,693]\u001B[0m Trial 103 pruned. Trial was pruned at epoch 1.\u001B[0m\n"
     ]
    },
    {
     "output_type": "stream",
     "name": "stdout",
     "text": [
      "Epoch 1/20\n",
      "793/793 [==============================] - 6s 5ms/step - loss: 0.0164 - mean_squared_error: 0.0020 - root_mean_squared_error: 0.0447 - noiseToSignalLoss: 46.6422 - val_loss: 0.0131 - val_mean_squared_error: 0.0017 - val_root_mean_squared_error: 0.0409 - val_noiseToSignalLoss: 16.5811\n",
      "Epoch 2/20\n",
      "793/793 [==============================] - 4s 5ms/step - loss: 0.0131 - mean_squared_error: 0.0017 - root_mean_squared_error: 0.0414 - noiseToSignalLoss: 22.5190 - val_loss: 0.0120 - val_mean_squared_error: 0.0016 - val_root_mean_squared_error: 0.0396 - val_noiseToSignalLoss: 36.0549\n",
      "Epoch 3/20\n",
      "793/793 [==============================] - 4s 5ms/step - loss: 0.0125 - mean_squared_error: 0.0017 - root_mean_squared_error: 0.0406 - noiseToSignalLoss: 21.5781 - val_loss: 0.0121 - val_mean_squared_error: 0.0015 - val_root_mean_squared_error: 0.0393 - val_noiseToSignalLoss: 29.5183\n",
      "Epoch 4/20\n",
      "793/793 [==============================] - 4s 5ms/step - loss: 0.0122 - mean_squared_error: 0.0016 - root_mean_squared_error: 0.0399 - noiseToSignalLoss: 20.4525 - val_loss: 0.0126 - val_mean_squared_error: 0.0014 - val_root_mean_squared_error: 0.0378 - val_noiseToSignalLoss: 35.1241\n",
      "Epoch 5/20\n",
      "791/793 [============================>.] - ETA: 0s - loss: 0.0120 - mean_squared_error: 0.0015 - root_mean_squared_error: 0.0389 - noiseToSignalLoss: 17.8021"
     ]
    },
    {
     "output_type": "stream",
     "name": "stderr",
     "text": [
      "\u001B[32m[I 2022-06-29 19:18:17,611]\u001B[0m Trial 104 pruned. Trial was pruned at epoch 4.\u001B[0m\n"
     ]
    },
    {
     "output_type": "stream",
     "name": "stdout",
     "text": [
      "Epoch 1/20\n",
      "793/793 [==============================] - 5s 5ms/step - loss: 0.0179 - mean_squared_error: 0.0022 - root_mean_squared_error: 0.0465 - noiseToSignalLoss: 70.7150 - val_loss: 0.0130 - val_mean_squared_error: 0.0016 - val_root_mean_squared_error: 0.0406 - val_noiseToSignalLoss: 20.0404\n",
      "Epoch 2/20\n",
      "788/793 [============================>.] - ETA: 0s - loss: 0.0136 - mean_squared_error: 0.0017 - root_mean_squared_error: 0.0415 - noiseToSignalLoss: 21.7407"
     ]
    },
    {
     "output_type": "stream",
     "name": "stderr",
     "text": [
      "\u001B[32m[I 2022-06-29 19:20:11,933]\u001B[0m Trial 105 pruned. Trial was pruned at epoch 1.\u001B[0m\n"
     ]
    },
    {
     "output_type": "stream",
     "name": "stdout",
     "text": [
      "Epoch 1/20\n",
      "800/800 [==============================] - 5s 5ms/step - loss: 0.0189 - mean_squared_error: 0.0022 - root_mean_squared_error: 0.0470 - noiseToSignalLoss: 85.7514 - val_loss: 0.0145 - val_mean_squared_error: 0.0017 - val_root_mean_squared_error: 0.0413 - val_noiseToSignalLoss: 32.2310\n",
      "Epoch 2/20\n",
      "800/800 [==============================] - 4s 5ms/step - loss: 0.0137 - mean_squared_error: 0.0017 - root_mean_squared_error: 0.0409 - noiseToSignalLoss: 24.5361 - val_loss: 0.0125 - val_mean_squared_error: 0.0017 - val_root_mean_squared_error: 0.0411 - val_noiseToSignalLoss: 11.8512\n",
      "Epoch 3/20\n",
      "800/800 [==============================] - 4s 5ms/step - loss: 0.0130 - mean_squared_error: 0.0016 - root_mean_squared_error: 0.0404 - noiseToSignalLoss: 23.5180 - val_loss: 0.0126 - val_mean_squared_error: 0.0016 - val_root_mean_squared_error: 0.0405 - val_noiseToSignalLoss: 19.2678\n",
      "Epoch 4/20\n",
      "800/800 [==============================] - 4s 5ms/step - loss: 0.0127 - mean_squared_error: 0.0016 - root_mean_squared_error: 0.0402 - noiseToSignalLoss: 24.4012 - val_loss: 0.0122 - val_mean_squared_error: 0.0017 - val_root_mean_squared_error: 0.0407 - val_noiseToSignalLoss: 12.8029\n",
      "Epoch 5/20\n",
      "790/800 [============================>.] - ETA: 0s - loss: 0.0125 - mean_squared_error: 0.0016 - root_mean_squared_error: 0.0400 - noiseToSignalLoss: 23.5001"
     ]
    },
    {
     "output_type": "stream",
     "name": "stderr",
     "text": [
      "\u001B[32m[I 2022-06-29 19:22:18,797]\u001B[0m Trial 106 pruned. Trial was pruned at epoch 4.\u001B[0m\n"
     ]
    },
    {
     "output_type": "stream",
     "name": "stdout",
     "text": [
      "Epoch 1/20\n",
      "785/785 [==============================] - 5s 5ms/step - loss: 0.0598 - mean_squared_error: 0.0071 - root_mean_squared_error: 0.0842 - noiseToSignalLoss: 857.1426 - val_loss: 0.0199 - val_mean_squared_error: 0.0023 - val_root_mean_squared_error: 0.0481 - val_noiseToSignalLoss: 61.2832\n",
      "Epoch 2/20\n",
      "779/785 [============================>.] - ETA: 0s - loss: 0.0339 - mean_squared_error: 0.0032 - root_mean_squared_error: 0.0562 - noiseToSignalLoss: 205.9463"
     ]
    },
    {
     "output_type": "stream",
     "name": "stderr",
     "text": [
      "\u001B[32m[I 2022-06-29 19:24:12,038]\u001B[0m Trial 107 pruned. Trial was pruned at epoch 1.\u001B[0m\n"
     ]
    },
    {
     "output_type": "stream",
     "name": "stdout",
     "text": [
      "Epoch 1/20\n",
      "793/793 [==============================] - 5s 5ms/step - loss: 0.0345 - mean_squared_error: 0.0040 - root_mean_squared_error: 0.0633 - noiseToSignalLoss: 342.6480 - val_loss: 0.0158 - val_mean_squared_error: 0.0020 - val_root_mean_squared_error: 0.0444 - val_noiseToSignalLoss: 22.8795\n",
      "Epoch 2/20\n",
      "792/793 [============================>.] - ETA: 0s - loss: 0.0179 - mean_squared_error: 0.0021 - root_mean_squared_error: 0.0459 - noiseToSignalLoss: 34.3351"
     ]
    },
    {
     "output_type": "stream",
     "name": "stderr",
     "text": [
      "\u001B[32m[I 2022-06-29 19:26:06,141]\u001B[0m Trial 108 pruned. Trial was pruned at epoch 1.\u001B[0m\n"
     ]
    },
    {
     "output_type": "stream",
     "name": "stdout",
     "text": [
      "Epoch 1/20\n",
      "774/774 [==============================] - 5s 5ms/step - loss: 0.0190 - mean_squared_error: 0.0022 - root_mean_squared_error: 0.0467 - noiseToSignalLoss: 60.8985 - val_loss: 0.0134 - val_mean_squared_error: 0.0016 - val_root_mean_squared_error: 0.0397 - val_noiseToSignalLoss: 20.9737\n",
      "Epoch 2/20\n",
      "774/774 [==============================] - 4s 5ms/step - loss: 0.0139 - mean_squared_error: 0.0018 - root_mean_squared_error: 0.0420 - noiseToSignalLoss: 20.6602 - val_loss: 0.0125 - val_mean_squared_error: 0.0016 - val_root_mean_squared_error: 0.0396 - val_noiseToSignalLoss: 15.0577\n",
      "Epoch 3/20\n",
      "774/774 [==============================] - 4s 5ms/step - loss: 0.0132 - mean_squared_error: 0.0017 - root_mean_squared_error: 0.0415 - noiseToSignalLoss: 22.1175 - val_loss: 0.0124 - val_mean_squared_error: 0.0015 - val_root_mean_squared_error: 0.0393 - val_noiseToSignalLoss: 22.4593\n",
      "Epoch 4/20\n",
      "774/774 [==============================] - 4s 5ms/step - loss: 0.0131 - mean_squared_error: 0.0017 - root_mean_squared_error: 0.0413 - noiseToSignalLoss: 21.7939 - val_loss: 0.0121 - val_mean_squared_error: 0.0015 - val_root_mean_squared_error: 0.0393 - val_noiseToSignalLoss: 17.2535\n",
      "Epoch 5/20\n",
      "766/774 [============================>.] - ETA: 0s - loss: 0.0128 - mean_squared_error: 0.0017 - root_mean_squared_error: 0.0411 - noiseToSignalLoss: 20.4227"
     ]
    },
    {
     "output_type": "stream",
     "name": "stderr",
     "text": [
      "\u001B[32m[I 2022-06-29 19:28:11,052]\u001B[0m Trial 109 pruned. Trial was pruned at epoch 4.\u001B[0m\n"
     ]
    },
    {
     "output_type": "stream",
     "name": "stdout",
     "text": [
      "Epoch 1/20\n",
      "756/756 [==============================] - 5s 5ms/step - loss: 0.0165 - mean_squared_error: 0.0020 - root_mean_squared_error: 0.0446 - noiseToSignalLoss: 46.2828 - val_loss: 0.0133 - val_mean_squared_error: 0.0019 - val_root_mean_squared_error: 0.0433 - val_noiseToSignalLoss: 10.1537\n",
      "Epoch 2/20\n",
      "746/756 [============================>.] - ETA: 0s - loss: 0.0131 - mean_squared_error: 0.0017 - root_mean_squared_error: 0.0411 - noiseToSignalLoss: 20.2258"
     ]
    },
    {
     "output_type": "stream",
     "name": "stderr",
     "text": [
      "\u001B[32m[I 2022-06-29 19:30:02,125]\u001B[0m Trial 110 pruned. Trial was pruned at epoch 1.\u001B[0m\n"
     ]
    },
    {
     "output_type": "stream",
     "name": "stdout",
     "text": [
      "Epoch 1/20\n",
      "793/793 [==============================] - 5s 5ms/step - loss: 0.0175 - mean_squared_error: 0.0022 - root_mean_squared_error: 0.0465 - noiseToSignalLoss: 78.4584 - val_loss: 0.0130 - val_mean_squared_error: 0.0016 - val_root_mean_squared_error: 0.0398 - val_noiseToSignalLoss: 37.6256\n",
      "Epoch 2/20\n",
      "793/793 [==============================] - 4s 5ms/step - loss: 0.0132 - mean_squared_error: 0.0017 - root_mean_squared_error: 0.0411 - noiseToSignalLoss: 24.3433 - val_loss: 0.0119 - val_mean_squared_error: 0.0015 - val_root_mean_squared_error: 0.0392 - val_noiseToSignalLoss: 33.2143\n",
      "Epoch 3/20\n",
      "793/793 [==============================] - 4s 5ms/step - loss: 0.0125 - mean_squared_error: 0.0016 - root_mean_squared_error: 0.0402 - noiseToSignalLoss: 22.9318 - val_loss: 0.0119 - val_mean_squared_error: 0.0015 - val_root_mean_squared_error: 0.0382 - val_noiseToSignalLoss: 26.8093\n",
      "Epoch 4/20\n",
      "793/793 [==============================] - 4s 5ms/step - loss: 0.0122 - mean_squared_error: 0.0015 - root_mean_squared_error: 0.0392 - noiseToSignalLoss: 19.4046 - val_loss: 0.0116 - val_mean_squared_error: 0.0014 - val_root_mean_squared_error: 0.0373 - val_noiseToSignalLoss: 23.1292\n",
      "Epoch 5/20\n",
      "793/793 [==============================] - 4s 5ms/step - loss: 0.0120 - mean_squared_error: 0.0015 - root_mean_squared_error: 0.0387 - noiseToSignalLoss: 18.0090 - val_loss: 0.0115 - val_mean_squared_error: 0.0014 - val_root_mean_squared_error: 0.0375 - val_noiseToSignalLoss: 14.3180\n",
      "Epoch 6/20\n",
      "793/793 [==============================] - 4s 5ms/step - loss: 0.0118 - mean_squared_error: 0.0015 - root_mean_squared_error: 0.0384 - noiseToSignalLoss: 17.4224 - val_loss: 0.0113 - val_mean_squared_error: 0.0014 - val_root_mean_squared_error: 0.0371 - val_noiseToSignalLoss: 16.1332\n",
      "Epoch 7/20\n",
      "793/793 [==============================] - 4s 5ms/step - loss: 0.0117 - mean_squared_error: 0.0015 - root_mean_squared_error: 0.0382 - noiseToSignalLoss: 16.9929 - val_loss: 0.0113 - val_mean_squared_error: 0.0014 - val_root_mean_squared_error: 0.0369 - val_noiseToSignalLoss: 18.3188\n",
      "Epoch 8/20\n",
      "793/793 [==============================] - 4s 5ms/step - loss: 0.0116 - mean_squared_error: 0.0014 - root_mean_squared_error: 0.0380 - noiseToSignalLoss: 16.9279 - val_loss: 0.0114 - val_mean_squared_error: 0.0014 - val_root_mean_squared_error: 0.0369 - val_noiseToSignalLoss: 16.7075\n",
      "Epoch 9/20\n",
      "793/793 [==============================] - 4s 5ms/step - loss: 0.0116 - mean_squared_error: 0.0014 - root_mean_squared_error: 0.0379 - noiseToSignalLoss: 17.3739 - val_loss: 0.0114 - val_mean_squared_error: 0.0014 - val_root_mean_squared_error: 0.0368 - val_noiseToSignalLoss: 15.1294\n",
      "Epoch 10/20\n",
      "793/793 [==============================] - 4s 5ms/step - loss: 0.0115 - mean_squared_error: 0.0014 - root_mean_squared_error: 0.0378 - noiseToSignalLoss: 16.8236 - val_loss: 0.0112 - val_mean_squared_error: 0.0013 - val_root_mean_squared_error: 0.0366 - val_noiseToSignalLoss: 24.1095\n",
      "Epoch 11/20\n",
      "793/793 [==============================] - 4s 5ms/step - loss: 0.0115 - mean_squared_error: 0.0014 - root_mean_squared_error: 0.0377 - noiseToSignalLoss: 15.9457 - val_loss: 0.0116 - val_mean_squared_error: 0.0013 - val_root_mean_squared_error: 0.0366 - val_noiseToSignalLoss: 17.5876\n",
      "Epoch 12/20\n",
      "793/793 [==============================] - 4s 5ms/step - loss: 0.0115 - mean_squared_error: 0.0014 - root_mean_squared_error: 0.0378 - noiseToSignalLoss: 15.9512 - val_loss: 0.0115 - val_mean_squared_error: 0.0013 - val_root_mean_squared_error: 0.0364 - val_noiseToSignalLoss: 19.8323\n",
      "Epoch 13/20\n",
      "793/793 [==============================] - 4s 5ms/step - loss: 0.0114 - mean_squared_error: 0.0014 - root_mean_squared_error: 0.0377 - noiseToSignalLoss: 15.5863 - val_loss: 0.0111 - val_mean_squared_error: 0.0013 - val_root_mean_squared_error: 0.0364 - val_noiseToSignalLoss: 16.5939\n",
      "Epoch 14/20\n",
      "793/793 [==============================] - 4s 5ms/step - loss: 0.0114 - mean_squared_error: 0.0014 - root_mean_squared_error: 0.0376 - noiseToSignalLoss: 15.1549 - val_loss: 0.0111 - val_mean_squared_error: 0.0013 - val_root_mean_squared_error: 0.0364 - val_noiseToSignalLoss: 15.8877\n",
      "Epoch 15/20\n",
      "793/793 [==============================] - 4s 5ms/step - loss: 0.0114 - mean_squared_error: 0.0014 - root_mean_squared_error: 0.0376 - noiseToSignalLoss: 14.7740 - val_loss: 0.0111 - val_mean_squared_error: 0.0013 - val_root_mean_squared_error: 0.0366 - val_noiseToSignalLoss: 12.8992\n",
      "Epoch 16/20\n",
      "793/793 [==============================] - 4s 5ms/step - loss: 0.0114 - mean_squared_error: 0.0014 - root_mean_squared_error: 0.0376 - noiseToSignalLoss: 15.0207 - val_loss: 0.0112 - val_mean_squared_error: 0.0013 - val_root_mean_squared_error: 0.0363 - val_noiseToSignalLoss: 20.3566\n",
      "Epoch 17/20\n",
      "793/793 [==============================] - 4s 5ms/step - loss: 0.0113 - mean_squared_error: 0.0014 - root_mean_squared_error: 0.0376 - noiseToSignalLoss: 14.9243 - val_loss: 0.0111 - val_mean_squared_error: 0.0013 - val_root_mean_squared_error: 0.0365 - val_noiseToSignalLoss: 13.6248\n",
      "Epoch 18/20\n",
      "793/793 [==============================] - 4s 5ms/step - loss: 0.0113 - mean_squared_error: 0.0014 - root_mean_squared_error: 0.0376 - noiseToSignalLoss: 14.5013 - val_loss: 0.0111 - val_mean_squared_error: 0.0013 - val_root_mean_squared_error: 0.0362 - val_noiseToSignalLoss: 15.4866\n",
      "Epoch 19/20\n",
      "793/793 [==============================] - 4s 5ms/step - loss: 0.0113 - mean_squared_error: 0.0014 - root_mean_squared_error: 0.0376 - noiseToSignalLoss: 14.3986 - val_loss: 0.0111 - val_mean_squared_error: 0.0013 - val_root_mean_squared_error: 0.0365 - val_noiseToSignalLoss: 14.5744\n",
      "Epoch 20/20\n",
      "793/793 [==============================] - 4s 5ms/step - loss: 0.0113 - mean_squared_error: 0.0014 - root_mean_squared_error: 0.0375 - noiseToSignalLoss: 14.1417 - val_loss: 0.0111 - val_mean_squared_error: 0.0013 - val_root_mean_squared_error: 0.0364 - val_noiseToSignalLoss: 13.5604\n",
      "263/263 [==============================] - 1s 3ms/step - loss: 0.0091 - mean_squared_error: 8.2807e-04 - root_mean_squared_error: 0.0288 - noiseToSignalLoss: 11.1614\n"
     ]
    },
    {
     "output_type": "stream",
     "name": "stderr",
     "text": [
      "\u001B[32m[I 2022-06-29 19:33:09,274]\u001B[0m Trial 111 finished with value: 0.00905136950314045 and parameters: {'sequence_length': 6, 'ff1_hidden_neurons': 127, 'ff2_hidden_neurons': 211, 'ff3_hidden_neurons': 108, 'ff4_hidden_neurons': 209, 'ff5_hidden_neurons': 196, 'ff6_hidden_neurons': 249, 'ff7_hidden_neurons': 140, 'ff8_hidden_neurons': 180, 'ff9_hidden_neurons': 236, 'ff10_hidden_neurons': 174, 'ff11_hidden_neurons': 97, 'ff12_hidden_neurons': 84, 'ff13_hidden_neurons': 222, 'ff14_hidden_neurons': 245, 'ff15_hidden_neurons': 166, 'ff16_hidden_neurons': 200, 'ff17_hidden_neurons': 99, 'learning_rate': 9.505747870366045e-05}. Best is trial 111 with value: 0.00905136950314045.\u001B[0m\n"
     ]
    },
    {
     "output_type": "stream",
     "name": "stdout",
     "text": [
      "Epoch 1/20\n",
      "793/793 [==============================] - 5s 5ms/step - loss: 0.0182 - mean_squared_error: 0.0023 - root_mean_squared_error: 0.0477 - noiseToSignalLoss: 103.5607 - val_loss: 0.0133 - val_mean_squared_error: 0.0017 - val_root_mean_squared_error: 0.0410 - val_noiseToSignalLoss: 19.8128\n",
      "Epoch 2/20\n",
      "793/793 [==============================] - 4s 5ms/step - loss: 0.0134 - mean_squared_error: 0.0017 - root_mean_squared_error: 0.0415 - noiseToSignalLoss: 24.7559 - val_loss: 0.0124 - val_mean_squared_error: 0.0016 - val_root_mean_squared_error: 0.0399 - val_noiseToSignalLoss: 27.5439\n",
      "Epoch 3/20\n",
      "793/793 [==============================] - 4s 5ms/step - loss: 0.0128 - mean_squared_error: 0.0017 - root_mean_squared_error: 0.0409 - noiseToSignalLoss: 23.2521 - val_loss: 0.0121 - val_mean_squared_error: 0.0015 - val_root_mean_squared_error: 0.0391 - val_noiseToSignalLoss: 29.5969\n",
      "Epoch 4/20\n",
      "793/793 [==============================] - 4s 5ms/step - loss: 0.0124 - mean_squared_error: 0.0016 - root_mean_squared_error: 0.0403 - noiseToSignalLoss: 21.7862 - val_loss: 0.0119 - val_mean_squared_error: 0.0015 - val_root_mean_squared_error: 0.0387 - val_noiseToSignalLoss: 29.2986\n",
      "Epoch 5/20\n",
      "787/793 [============================>.] - ETA: 0s - loss: 0.0122 - mean_squared_error: 0.0016 - root_mean_squared_error: 0.0397 - noiseToSignalLoss: 20.4946"
     ]
    },
    {
     "output_type": "stream",
     "name": "stderr",
     "text": [
      "\u001B[32m[I 2022-06-29 19:35:15,197]\u001B[0m Trial 112 pruned. Trial was pruned at epoch 4.\u001B[0m\n"
     ]
    },
    {
     "output_type": "stream",
     "name": "stdout",
     "text": [
      "Epoch 1/20\n",
      "793/793 [==============================] - 5s 5ms/step - loss: 0.0660 - mean_squared_error: 0.0083 - root_mean_squared_error: 0.0909 - noiseToSignalLoss: 1124.9180 - val_loss: 0.0210 - val_mean_squared_error: 0.0022 - val_root_mean_squared_error: 0.0464 - val_noiseToSignalLoss: 79.0318\n",
      "Epoch 2/20\n",
      "787/793 [============================>.] - ETA: 0s - loss: 0.0376 - mean_squared_error: 0.0035 - root_mean_squared_error: 0.0591 - noiseToSignalLoss: 294.7339"
     ]
    },
    {
     "output_type": "stream",
     "name": "stderr",
     "text": [
      "\u001B[32m[I 2022-06-29 19:37:09,405]\u001B[0m Trial 113 pruned. Trial was pruned at epoch 1.\u001B[0m\n"
     ]
    },
    {
     "output_type": "stream",
     "name": "stdout",
     "text": [
      "Epoch 1/20\n",
      "793/793 [==============================] - 5s 5ms/step - loss: 0.0183 - mean_squared_error: 0.0022 - root_mean_squared_error: 0.0464 - noiseToSignalLoss: 69.4681 - val_loss: 0.0129 - val_mean_squared_error: 0.0017 - val_root_mean_squared_error: 0.0406 - val_noiseToSignalLoss: 26.3430\n",
      "Epoch 2/20\n",
      "793/793 [==============================] - ETA: 0s - loss: 0.0137 - mean_squared_error: 0.0017 - root_mean_squared_error: 0.0417 - noiseToSignalLoss: 27.9282"
     ]
    },
    {
     "output_type": "stream",
     "name": "stderr",
     "text": [
      "\u001B[32m[I 2022-06-29 19:39:03,183]\u001B[0m Trial 114 pruned. Trial was pruned at epoch 1.\u001B[0m\n"
     ]
    },
    {
     "output_type": "stream",
     "name": "stdout",
     "text": [
      "Epoch 1/20\n",
      "793/793 [==============================] - 5s 5ms/step - loss: 0.0188 - mean_squared_error: 0.0022 - root_mean_squared_error: 0.0470 - noiseToSignalLoss: 74.6112 - val_loss: 0.0157 - val_mean_squared_error: 0.0017 - val_root_mean_squared_error: 0.0410 - val_noiseToSignalLoss: 39.9393\n",
      "Epoch 2/20\n",
      "793/793 [==============================] - ETA: 0s - loss: 0.0144 - mean_squared_error: 0.0018 - root_mean_squared_error: 0.0424 - noiseToSignalLoss: 24.3528"
     ]
    },
    {
     "output_type": "stream",
     "name": "stderr",
     "text": [
      "\u001B[32m[I 2022-06-29 19:40:57,652]\u001B[0m Trial 115 pruned. Trial was pruned at epoch 1.\u001B[0m\n"
     ]
    },
    {
     "output_type": "stream",
     "name": "stdout",
     "text": [
      "Epoch 1/20\n",
      "800/800 [==============================] - 5s 5ms/step - loss: 0.0397 - mean_squared_error: 0.0041 - root_mean_squared_error: 0.0644 - noiseToSignalLoss: 448.2066 - val_loss: 0.0169 - val_mean_squared_error: 0.0020 - val_root_mean_squared_error: 0.0449 - val_noiseToSignalLoss: 33.6684\n",
      "Epoch 2/20\n",
      "796/800 [============================>.] - ETA: 0s - loss: 0.0210 - mean_squared_error: 0.0022 - root_mean_squared_error: 0.0469 - noiseToSignalLoss: 63.6949"
     ]
    },
    {
     "output_type": "stream",
     "name": "stderr",
     "text": [
      "\u001B[32m[I 2022-06-29 19:42:51,944]\u001B[0m Trial 116 pruned. Trial was pruned at epoch 1.\u001B[0m\n"
     ]
    },
    {
     "output_type": "stream",
     "name": "stdout",
     "text": [
      "Epoch 1/20\n",
      "793/793 [==============================] - 5s 5ms/step - loss: 0.0168 - mean_squared_error: 0.0020 - root_mean_squared_error: 0.0446 - noiseToSignalLoss: 51.8395 - val_loss: 0.0131 - val_mean_squared_error: 0.0017 - val_root_mean_squared_error: 0.0406 - val_noiseToSignalLoss: 17.4634\n",
      "Epoch 2/20\n",
      "793/793 [==============================] - 4s 5ms/step - loss: 0.0131 - mean_squared_error: 0.0017 - root_mean_squared_error: 0.0412 - noiseToSignalLoss: 23.4040 - val_loss: 0.0121 - val_mean_squared_error: 0.0016 - val_root_mean_squared_error: 0.0397 - val_noiseToSignalLoss: 29.0620\n",
      "Epoch 3/20\n",
      "793/793 [==============================] - 4s 5ms/step - loss: 0.0126 - mean_squared_error: 0.0017 - root_mean_squared_error: 0.0408 - noiseToSignalLoss: 22.8517 - val_loss: 0.0119 - val_mean_squared_error: 0.0015 - val_root_mean_squared_error: 0.0391 - val_noiseToSignalLoss: 36.4408\n",
      "Epoch 4/20\n",
      "793/793 [==============================] - 4s 5ms/step - loss: 0.0124 - mean_squared_error: 0.0016 - root_mean_squared_error: 0.0405 - noiseToSignalLoss: 22.2343 - val_loss: 0.0120 - val_mean_squared_error: 0.0015 - val_root_mean_squared_error: 0.0387 - val_noiseToSignalLoss: 42.4061\n",
      "Epoch 5/20\n",
      "790/793 [============================>.] - ETA: 0s - loss: 0.0122 - mean_squared_error: 0.0016 - root_mean_squared_error: 0.0402 - noiseToSignalLoss: 21.9828"
     ]
    },
    {
     "output_type": "stream",
     "name": "stderr",
     "text": [
      "\u001B[32m[I 2022-06-29 19:44:59,981]\u001B[0m Trial 117 pruned. Trial was pruned at epoch 4.\u001B[0m\n"
     ]
    },
    {
     "output_type": "stream",
     "name": "stdout",
     "text": [
      "Epoch 1/20\n",
      "785/785 [==============================] - 5s 5ms/step - loss: 0.0222 - mean_squared_error: 0.0025 - root_mean_squared_error: 0.0502 - noiseToSignalLoss: 129.2710 - val_loss: 0.0140 - val_mean_squared_error: 0.0019 - val_root_mean_squared_error: 0.0432 - val_noiseToSignalLoss: 17.8112\n",
      "Epoch 2/20\n",
      "784/785 [============================>.] - ETA: 0s - loss: 0.0145 - mean_squared_error: 0.0018 - root_mean_squared_error: 0.0423 - noiseToSignalLoss: 23.0685"
     ]
    },
    {
     "output_type": "stream",
     "name": "stderr",
     "text": [
      "\u001B[32m[I 2022-06-29 19:46:53,260]\u001B[0m Trial 118 pruned. Trial was pruned at epoch 1.\u001B[0m\n"
     ]
    },
    {
     "output_type": "stream",
     "name": "stdout",
     "text": [
      "Epoch 1/20\n",
      "800/800 [==============================] - 5s 5ms/step - loss: 0.0169 - mean_squared_error: 0.0020 - root_mean_squared_error: 0.0445 - noiseToSignalLoss: 66.6760 - val_loss: 0.0137 - val_mean_squared_error: 0.0017 - val_root_mean_squared_error: 0.0408 - val_noiseToSignalLoss: 27.0631\n",
      "Epoch 2/20\n",
      "800/800 [==============================] - 4s 5ms/step - loss: 0.0131 - mean_squared_error: 0.0016 - root_mean_squared_error: 0.0405 - noiseToSignalLoss: 25.8221 - val_loss: 0.0126 - val_mean_squared_error: 0.0016 - val_root_mean_squared_error: 0.0404 - val_noiseToSignalLoss: 18.1588\n",
      "Epoch 3/20\n",
      "800/800 [==============================] - 4s 5ms/step - loss: 0.0126 - mean_squared_error: 0.0016 - root_mean_squared_error: 0.0400 - noiseToSignalLoss: 23.9294 - val_loss: 0.0126 - val_mean_squared_error: 0.0016 - val_root_mean_squared_error: 0.0400 - val_noiseToSignalLoss: 19.8327\n",
      "Epoch 4/20\n",
      "800/800 [==============================] - 4s 5ms/step - loss: 0.0123 - mean_squared_error: 0.0016 - root_mean_squared_error: 0.0395 - noiseToSignalLoss: 21.9984 - val_loss: 0.0120 - val_mean_squared_error: 0.0016 - val_root_mean_squared_error: 0.0398 - val_noiseToSignalLoss: 11.7375\n",
      "Epoch 5/20\n",
      "797/800 [============================>.] - ETA: 0s - loss: 0.0121 - mean_squared_error: 0.0015 - root_mean_squared_error: 0.0388 - noiseToSignalLoss: 19.3959"
     ]
    },
    {
     "output_type": "stream",
     "name": "stderr",
     "text": [
      "\u001B[32m[I 2022-06-29 19:48:59,493]\u001B[0m Trial 119 pruned. Trial was pruned at epoch 4.\u001B[0m\n"
     ]
    },
    {
     "output_type": "stream",
     "name": "stdout",
     "text": [
      "Epoch 1/20\n",
      "793/793 [==============================] - 5s 5ms/step - loss: 0.0707 - mean_squared_error: 0.0088 - root_mean_squared_error: 0.0939 - noiseToSignalLoss: 1152.8068 - val_loss: 0.0331 - val_mean_squared_error: 0.0028 - val_root_mean_squared_error: 0.0533 - val_noiseToSignalLoss: 162.2795\n",
      "Epoch 2/20\n",
      "786/793 [============================>.] - ETA: 0s - loss: 0.0566 - mean_squared_error: 0.0061 - root_mean_squared_error: 0.0780 - noiseToSignalLoss: 727.0060"
     ]
    },
    {
     "output_type": "stream",
     "name": "stderr",
     "text": [
      "\u001B[32m[I 2022-06-29 19:50:53,540]\u001B[0m Trial 120 pruned. Trial was pruned at epoch 1.\u001B[0m\n"
     ]
    },
    {
     "output_type": "stream",
     "name": "stdout",
     "text": [
      "Epoch 1/20\n",
      "793/793 [==============================] - 5s 5ms/step - loss: 0.0175 - mean_squared_error: 0.0022 - root_mean_squared_error: 0.0467 - noiseToSignalLoss: 73.8218 - val_loss: 0.0133 - val_mean_squared_error: 0.0017 - val_root_mean_squared_error: 0.0408 - val_noiseToSignalLoss: 19.5391\n",
      "Epoch 2/20\n",
      "793/793 [==============================] - 4s 5ms/step - loss: 0.0133 - mean_squared_error: 0.0017 - root_mean_squared_error: 0.0413 - noiseToSignalLoss: 22.2734 - val_loss: 0.0124 - val_mean_squared_error: 0.0016 - val_root_mean_squared_error: 0.0397 - val_noiseToSignalLoss: 30.4866\n",
      "Epoch 3/20\n",
      "793/793 [==============================] - 4s 5ms/step - loss: 0.0126 - mean_squared_error: 0.0016 - root_mean_squared_error: 0.0405 - noiseToSignalLoss: 21.8401 - val_loss: 0.0119 - val_mean_squared_error: 0.0015 - val_root_mean_squared_error: 0.0386 - val_noiseToSignalLoss: 28.9374\n",
      "Epoch 4/20\n",
      "793/793 [==============================] - 4s 5ms/step - loss: 0.0123 - mean_squared_error: 0.0016 - root_mean_squared_error: 0.0394 - noiseToSignalLoss: 19.8586 - val_loss: 0.0122 - val_mean_squared_error: 0.0015 - val_root_mean_squared_error: 0.0388 - val_noiseToSignalLoss: 11.9774\n",
      "Epoch 5/20\n",
      "785/793 [============================>.] - ETA: 0s - loss: 0.0121 - mean_squared_error: 0.0015 - root_mean_squared_error: 0.0389 - noiseToSignalLoss: 17.9748"
     ]
    },
    {
     "output_type": "stream",
     "name": "stderr",
     "text": [
      "\u001B[32m[I 2022-06-29 19:52:59,356]\u001B[0m Trial 121 pruned. Trial was pruned at epoch 4.\u001B[0m\n"
     ]
    },
    {
     "output_type": "stream",
     "name": "stdout",
     "text": [
      "Epoch 1/20\n",
      "793/793 [==============================] - 5s 5ms/step - loss: 0.0177 - mean_squared_error: 0.0021 - root_mean_squared_error: 0.0461 - noiseToSignalLoss: 75.4815 - val_loss: 0.0125 - val_mean_squared_error: 0.0016 - val_root_mean_squared_error: 0.0398 - val_noiseToSignalLoss: 27.5359\n",
      "Epoch 2/20\n",
      "786/793 [============================>.] - ETA: 0s - loss: 0.0133 - mean_squared_error: 0.0017 - root_mean_squared_error: 0.0412 - noiseToSignalLoss: 24.3427"
     ]
    },
    {
     "output_type": "stream",
     "name": "stderr",
     "text": [
      "\u001B[32m[I 2022-06-29 19:54:53,105]\u001B[0m Trial 122 pruned. Trial was pruned at epoch 1.\u001B[0m\n"
     ]
    },
    {
     "output_type": "stream",
     "name": "stdout",
     "text": [
      "Epoch 1/20\n",
      "793/793 [==============================] - 5s 5ms/step - loss: 0.0183 - mean_squared_error: 0.0022 - root_mean_squared_error: 0.0467 - noiseToSignalLoss: 75.4942 - val_loss: 0.0126 - val_mean_squared_error: 0.0016 - val_root_mean_squared_error: 0.0402 - val_noiseToSignalLoss: 24.0885\n",
      "Epoch 2/20\n",
      "793/793 [==============================] - 4s 5ms/step - loss: 0.0136 - mean_squared_error: 0.0017 - root_mean_squared_error: 0.0415 - noiseToSignalLoss: 24.8883 - val_loss: 0.0123 - val_mean_squared_error: 0.0016 - val_root_mean_squared_error: 0.0396 - val_noiseToSignalLoss: 35.3866\n",
      "Epoch 3/20\n",
      "793/793 [==============================] - 4s 5ms/step - loss: 0.0129 - mean_squared_error: 0.0017 - root_mean_squared_error: 0.0410 - noiseToSignalLoss: 23.6107 - val_loss: 0.0121 - val_mean_squared_error: 0.0016 - val_root_mean_squared_error: 0.0394 - val_noiseToSignalLoss: 41.7190\n",
      "Epoch 4/20\n",
      "793/793 [==============================] - 4s 5ms/step - loss: 0.0127 - mean_squared_error: 0.0017 - root_mean_squared_error: 0.0408 - noiseToSignalLoss: 23.2209 - val_loss: 0.0120 - val_mean_squared_error: 0.0015 - val_root_mean_squared_error: 0.0391 - val_noiseToSignalLoss: 38.1543\n",
      "Epoch 5/20\n",
      "793/793 [==============================] - ETA: 0s - loss: 0.0124 - mean_squared_error: 0.0016 - root_mean_squared_error: 0.0405 - noiseToSignalLoss: 21.2780"
     ]
    },
    {
     "output_type": "stream",
     "name": "stderr",
     "text": [
      "\u001B[32m[I 2022-06-29 19:56:59,463]\u001B[0m Trial 123 pruned. Trial was pruned at epoch 4.\u001B[0m\n"
     ]
    },
    {
     "output_type": "stream",
     "name": "stdout",
     "text": [
      "Epoch 1/20\n",
      "793/793 [==============================] - 5s 5ms/step - loss: 0.0182 - mean_squared_error: 0.0022 - root_mean_squared_error: 0.0470 - noiseToSignalLoss: 75.6067 - val_loss: 0.0140 - val_mean_squared_error: 0.0017 - val_root_mean_squared_error: 0.0410 - val_noiseToSignalLoss: 19.6827\n",
      "Epoch 2/20\n",
      "793/793 [==============================] - 4s 5ms/step - loss: 0.0135 - mean_squared_error: 0.0017 - root_mean_squared_error: 0.0415 - noiseToSignalLoss: 23.5337 - val_loss: 0.0121 - val_mean_squared_error: 0.0016 - val_root_mean_squared_error: 0.0396 - val_noiseToSignalLoss: 31.6849\n",
      "Epoch 3/20\n",
      "793/793 [==============================] - 4s 5ms/step - loss: 0.0128 - mean_squared_error: 0.0017 - root_mean_squared_error: 0.0409 - noiseToSignalLoss: 22.5295 - val_loss: 0.0123 - val_mean_squared_error: 0.0015 - val_root_mean_squared_error: 0.0391 - val_noiseToSignalLoss: 36.0307\n",
      "Epoch 4/20\n",
      "793/793 [==============================] - 4s 5ms/step - loss: 0.0125 - mean_squared_error: 0.0016 - root_mean_squared_error: 0.0405 - noiseToSignalLoss: 22.1183 - val_loss: 0.0118 - val_mean_squared_error: 0.0015 - val_root_mean_squared_error: 0.0388 - val_noiseToSignalLoss: 33.5553\n",
      "Epoch 5/20\n",
      "786/793 [============================>.] - ETA: 0s - loss: 0.0123 - mean_squared_error: 0.0016 - root_mean_squared_error: 0.0401 - noiseToSignalLoss: 20.5835"
     ]
    },
    {
     "output_type": "stream",
     "name": "stderr",
     "text": [
      "\u001B[32m[I 2022-06-29 19:59:05,185]\u001B[0m Trial 124 pruned. Trial was pruned at epoch 4.\u001B[0m\n"
     ]
    },
    {
     "output_type": "stream",
     "name": "stdout",
     "text": [
      "Epoch 1/20\n",
      "793/793 [==============================] - 5s 5ms/step - loss: 0.0205 - mean_squared_error: 0.0025 - root_mean_squared_error: 0.0501 - noiseToSignalLoss: 123.7072 - val_loss: 0.0131 - val_mean_squared_error: 0.0017 - val_root_mean_squared_error: 0.0408 - val_noiseToSignalLoss: 21.0431\n",
      "Epoch 2/20\n",
      "793/793 [==============================] - 4s 5ms/step - loss: 0.0139 - mean_squared_error: 0.0017 - root_mean_squared_error: 0.0418 - noiseToSignalLoss: 24.4364 - val_loss: 0.0124 - val_mean_squared_error: 0.0016 - val_root_mean_squared_error: 0.0399 - val_noiseToSignalLoss: 30.7694\n",
      "Epoch 3/20\n",
      "793/793 [==============================] - 4s 5ms/step - loss: 0.0132 - mean_squared_error: 0.0017 - root_mean_squared_error: 0.0413 - noiseToSignalLoss: 23.4686 - val_loss: 0.0124 - val_mean_squared_error: 0.0016 - val_root_mean_squared_error: 0.0394 - val_noiseToSignalLoss: 42.2772\n",
      "Epoch 4/20\n",
      "793/793 [==============================] - 4s 5ms/step - loss: 0.0129 - mean_squared_error: 0.0017 - root_mean_squared_error: 0.0411 - noiseToSignalLoss: 23.4274 - val_loss: 0.0121 - val_mean_squared_error: 0.0016 - val_root_mean_squared_error: 0.0394 - val_noiseToSignalLoss: 42.1886\n",
      "Epoch 5/20\n",
      "790/793 [============================>.] - ETA: 0s - loss: 0.0127 - mean_squared_error: 0.0017 - root_mean_squared_error: 0.0410 - noiseToSignalLoss: 23.8265"
     ]
    },
    {
     "output_type": "stream",
     "name": "stderr",
     "text": [
      "\u001B[32m[I 2022-06-29 20:01:12,187]\u001B[0m Trial 125 pruned. Trial was pruned at epoch 4.\u001B[0m\n"
     ]
    },
    {
     "output_type": "stream",
     "name": "stdout",
     "text": [
      "Epoch 1/20\n",
      "800/800 [==============================] - 5s 5ms/step - loss: 0.0542 - mean_squared_error: 0.0062 - root_mean_squared_error: 0.0787 - noiseToSignalLoss: 811.0784 - val_loss: 0.0182 - val_mean_squared_error: 0.0021 - val_root_mean_squared_error: 0.0458 - val_noiseToSignalLoss: 40.3114\n",
      "Epoch 2/20\n",
      "792/800 [============================>.] - ETA: 0s - loss: 0.0265 - mean_squared_error: 0.0025 - root_mean_squared_error: 0.0499 - noiseToSignalLoss: 115.9487"
     ]
    },
    {
     "output_type": "stream",
     "name": "stderr",
     "text": [
      "\u001B[32m[I 2022-06-29 20:03:07,244]\u001B[0m Trial 126 pruned. Trial was pruned at epoch 1.\u001B[0m\n"
     ]
    },
    {
     "output_type": "stream",
     "name": "stdout",
     "text": [
      "Epoch 1/20\n",
      "793/793 [==============================] - 5s 5ms/step - loss: 0.0165 - mean_squared_error: 0.0020 - root_mean_squared_error: 0.0451 - noiseToSignalLoss: 51.9233 - val_loss: 0.0128 - val_mean_squared_error: 0.0016 - val_root_mean_squared_error: 0.0405 - val_noiseToSignalLoss: 19.8876\n",
      "Epoch 2/20\n",
      "793/793 [==============================] - 4s 5ms/step - loss: 0.0129 - mean_squared_error: 0.0017 - root_mean_squared_error: 0.0411 - noiseToSignalLoss: 23.4866 - val_loss: 0.0124 - val_mean_squared_error: 0.0015 - val_root_mean_squared_error: 0.0392 - val_noiseToSignalLoss: 40.2856\n",
      "Epoch 3/20\n",
      "793/793 [==============================] - 4s 5ms/step - loss: 0.0124 - mean_squared_error: 0.0016 - root_mean_squared_error: 0.0403 - noiseToSignalLoss: 21.5892 - val_loss: 0.0119 - val_mean_squared_error: 0.0015 - val_root_mean_squared_error: 0.0387 - val_noiseToSignalLoss: 21.9929\n",
      "Epoch 4/20\n",
      "793/793 [==============================] - 4s 5ms/step - loss: 0.0121 - mean_squared_error: 0.0015 - root_mean_squared_error: 0.0391 - noiseToSignalLoss: 18.8323 - val_loss: 0.0114 - val_mean_squared_error: 0.0014 - val_root_mean_squared_error: 0.0375 - val_noiseToSignalLoss: 17.9280\n",
      "Epoch 5/20\n",
      "793/793 [==============================] - 4s 5ms/step - loss: 0.0119 - mean_squared_error: 0.0015 - root_mean_squared_error: 0.0387 - noiseToSignalLoss: 17.0581 - val_loss: 0.0115 - val_mean_squared_error: 0.0014 - val_root_mean_squared_error: 0.0373 - val_noiseToSignalLoss: 16.2245\n",
      "Epoch 6/20\n",
      "793/793 [==============================] - 4s 5ms/step - loss: 0.0118 - mean_squared_error: 0.0015 - root_mean_squared_error: 0.0384 - noiseToSignalLoss: 16.1550 - val_loss: 0.0114 - val_mean_squared_error: 0.0014 - val_root_mean_squared_error: 0.0370 - val_noiseToSignalLoss: 16.4803\n",
      "Epoch 7/20\n",
      "793/793 [==============================] - 4s 5ms/step - loss: 0.0117 - mean_squared_error: 0.0015 - root_mean_squared_error: 0.0382 - noiseToSignalLoss: 15.5531 - val_loss: 0.0118 - val_mean_squared_error: 0.0014 - val_root_mean_squared_error: 0.0369 - val_noiseToSignalLoss: 20.2328\n",
      "Epoch 8/20\n",
      "793/793 [==============================] - 4s 5ms/step - loss: 0.0116 - mean_squared_error: 0.0014 - root_mean_squared_error: 0.0379 - noiseToSignalLoss: 15.7932 - val_loss: 0.0113 - val_mean_squared_error: 0.0014 - val_root_mean_squared_error: 0.0369 - val_noiseToSignalLoss: 13.0955\n",
      "Epoch 9/20\n",
      "793/793 [==============================] - 4s 5ms/step - loss: 0.0115 - mean_squared_error: 0.0014 - root_mean_squared_error: 0.0378 - noiseToSignalLoss: 16.1838 - val_loss: 0.0111 - val_mean_squared_error: 0.0013 - val_root_mean_squared_error: 0.0366 - val_noiseToSignalLoss: 18.3541\n",
      "Epoch 10/20\n",
      "793/793 [==============================] - 4s 5ms/step - loss: 0.0115 - mean_squared_error: 0.0014 - root_mean_squared_error: 0.0378 - noiseToSignalLoss: 16.1735 - val_loss: 0.0112 - val_mean_squared_error: 0.0013 - val_root_mean_squared_error: 0.0367 - val_noiseToSignalLoss: 18.2183\n",
      "Epoch 11/20\n",
      "793/793 [==============================] - 4s 5ms/step - loss: 0.0114 - mean_squared_error: 0.0014 - root_mean_squared_error: 0.0377 - noiseToSignalLoss: 15.4923 - val_loss: 0.0111 - val_mean_squared_error: 0.0013 - val_root_mean_squared_error: 0.0366 - val_noiseToSignalLoss: 16.2111\n",
      "Epoch 12/20\n",
      "793/793 [==============================] - 4s 5ms/step - loss: 0.0114 - mean_squared_error: 0.0014 - root_mean_squared_error: 0.0377 - noiseToSignalLoss: 15.3658 - val_loss: 0.0115 - val_mean_squared_error: 0.0013 - val_root_mean_squared_error: 0.0366 - val_noiseToSignalLoss: 20.4947\n",
      "Epoch 13/20\n",
      "793/793 [==============================] - 4s 5ms/step - loss: 0.0114 - mean_squared_error: 0.0014 - root_mean_squared_error: 0.0376 - noiseToSignalLoss: 15.2912 - val_loss: 0.0111 - val_mean_squared_error: 0.0013 - val_root_mean_squared_error: 0.0363 - val_noiseToSignalLoss: 18.8310\n",
      "Epoch 14/20\n",
      "793/793 [==============================] - 4s 5ms/step - loss: 0.0114 - mean_squared_error: 0.0014 - root_mean_squared_error: 0.0376 - noiseToSignalLoss: 14.7976 - val_loss: 0.0112 - val_mean_squared_error: 0.0013 - val_root_mean_squared_error: 0.0365 - val_noiseToSignalLoss: 15.7931\n",
      "Epoch 15/20\n",
      "793/793 [==============================] - 4s 5ms/step - loss: 0.0113 - mean_squared_error: 0.0014 - root_mean_squared_error: 0.0375 - noiseToSignalLoss: 14.5526 - val_loss: 0.0112 - val_mean_squared_error: 0.0013 - val_root_mean_squared_error: 0.0364 - val_noiseToSignalLoss: 19.6932\n",
      "Epoch 16/20\n",
      "793/793 [==============================] - 4s 5ms/step - loss: 0.0113 - mean_squared_error: 0.0014 - root_mean_squared_error: 0.0375 - noiseToSignalLoss: 14.5609 - val_loss: 0.0114 - val_mean_squared_error: 0.0013 - val_root_mean_squared_error: 0.0362 - val_noiseToSignalLoss: 21.5802\n",
      "Epoch 17/20\n",
      "793/793 [==============================] - 4s 5ms/step - loss: 0.0113 - mean_squared_error: 0.0014 - root_mean_squared_error: 0.0375 - noiseToSignalLoss: 14.0468 - val_loss: 0.0110 - val_mean_squared_error: 0.0013 - val_root_mean_squared_error: 0.0362 - val_noiseToSignalLoss: 15.0150\n",
      "Epoch 18/20\n",
      "793/793 [==============================] - 4s 5ms/step - loss: 0.0113 - mean_squared_error: 0.0014 - root_mean_squared_error: 0.0375 - noiseToSignalLoss: 13.8169 - val_loss: 0.0112 - val_mean_squared_error: 0.0013 - val_root_mean_squared_error: 0.0366 - val_noiseToSignalLoss: 13.8082\n",
      "Epoch 19/20\n",
      "793/793 [==============================] - 4s 5ms/step - loss: 0.0112 - mean_squared_error: 0.0014 - root_mean_squared_error: 0.0375 - noiseToSignalLoss: 13.8038 - val_loss: 0.0112 - val_mean_squared_error: 0.0013 - val_root_mean_squared_error: 0.0363 - val_noiseToSignalLoss: 15.9701\n",
      "Epoch 20/20\n",
      "793/793 [==============================] - 4s 5ms/step - loss: 0.0112 - mean_squared_error: 0.0014 - root_mean_squared_error: 0.0375 - noiseToSignalLoss: 13.7325 - val_loss: 0.0110 - val_mean_squared_error: 0.0013 - val_root_mean_squared_error: 0.0362 - val_noiseToSignalLoss: 14.2931\n",
      "263/263 [==============================] - 1s 3ms/step - loss: 0.0090 - mean_squared_error: 8.1884e-04 - root_mean_squared_error: 0.0286 - noiseToSignalLoss: 11.6623\n"
     ]
    },
    {
     "output_type": "stream",
     "name": "stderr",
     "text": [
      "\u001B[32m[I 2022-06-29 20:06:15,880]\u001B[0m Trial 127 finished with value: 0.009016593918204308 and parameters: {'sequence_length': 6, 'ff1_hidden_neurons': 134, 'ff2_hidden_neurons': 112, 'ff3_hidden_neurons': 90, 'ff4_hidden_neurons': 223, 'ff5_hidden_neurons': 199, 'ff6_hidden_neurons': 100, 'ff7_hidden_neurons': 145, 'ff8_hidden_neurons': 160, 'ff9_hidden_neurons': 231, 'ff10_hidden_neurons': 83, 'ff11_hidden_neurons': 182, 'ff12_hidden_neurons': 147, 'ff13_hidden_neurons': 165, 'ff14_hidden_neurons': 134, 'ff15_hidden_neurons': 139, 'ff16_hidden_neurons': 244, 'ff17_hidden_neurons': 194, 'learning_rate': 9.913904350268535e-05}. Best is trial 127 with value: 0.009016593918204308.\u001B[0m\n"
     ]
    },
    {
     "output_type": "stream",
     "name": "stdout",
     "text": [
      "Epoch 1/20\n",
      "756/756 [==============================] - 5s 5ms/step - loss: 0.0170 - mean_squared_error: 0.0020 - root_mean_squared_error: 0.0451 - noiseToSignalLoss: 51.9615 - val_loss: 0.0128 - val_mean_squared_error: 0.0019 - val_root_mean_squared_error: 0.0431 - val_noiseToSignalLoss: 12.7488\n",
      "Epoch 2/20\n",
      "750/756 [============================>.] - ETA: 0s - loss: 0.0129 - mean_squared_error: 0.0017 - root_mean_squared_error: 0.0410 - noiseToSignalLoss: 21.7221"
     ]
    },
    {
     "output_type": "stream",
     "name": "stderr",
     "text": [
      "\u001B[32m[I 2022-06-29 20:08:07,352]\u001B[0m Trial 128 pruned. Trial was pruned at epoch 1.\u001B[0m\n"
     ]
    },
    {
     "output_type": "stream",
     "name": "stdout",
     "text": [
      "Epoch 1/20\n",
      "793/793 [==============================] - 5s 5ms/step - loss: 0.0186 - mean_squared_error: 0.0024 - root_mean_squared_error: 0.0485 - noiseToSignalLoss: 103.5321 - val_loss: 0.0131 - val_mean_squared_error: 0.0017 - val_root_mean_squared_error: 0.0407 - val_noiseToSignalLoss: 19.2078\n",
      "Epoch 2/20\n",
      "793/793 [==============================] - 4s 5ms/step - loss: 0.0135 - mean_squared_error: 0.0017 - root_mean_squared_error: 0.0415 - noiseToSignalLoss: 22.8651 - val_loss: 0.0122 - val_mean_squared_error: 0.0016 - val_root_mean_squared_error: 0.0398 - val_noiseToSignalLoss: 32.1714\n",
      "Epoch 3/20\n",
      "793/793 [==============================] - 4s 5ms/step - loss: 0.0129 - mean_squared_error: 0.0017 - root_mean_squared_error: 0.0410 - noiseToSignalLoss: 22.3651 - val_loss: 0.0119 - val_mean_squared_error: 0.0016 - val_root_mean_squared_error: 0.0395 - val_noiseToSignalLoss: 31.5275\n",
      "Epoch 4/20\n",
      "793/793 [==============================] - 4s 5ms/step - loss: 0.0125 - mean_squared_error: 0.0017 - root_mean_squared_error: 0.0407 - noiseToSignalLoss: 21.8752 - val_loss: 0.0120 - val_mean_squared_error: 0.0015 - val_root_mean_squared_error: 0.0390 - val_noiseToSignalLoss: 33.8318\n",
      "Epoch 5/20\n",
      "786/793 [============================>.] - ETA: 0s - loss: 0.0123 - mean_squared_error: 0.0016 - root_mean_squared_error: 0.0404 - noiseToSignalLoss: 21.3603"
     ]
    },
    {
     "output_type": "stream",
     "name": "stderr",
     "text": [
      "\u001B[32m[I 2022-06-29 20:10:13,840]\u001B[0m Trial 129 pruned. Trial was pruned at epoch 4.\u001B[0m\n"
     ]
    },
    {
     "output_type": "stream",
     "name": "stdout",
     "text": [
      "Epoch 1/20\n",
      "774/774 [==============================] - 5s 5ms/step - loss: 0.0172 - mean_squared_error: 0.0020 - root_mean_squared_error: 0.0453 - noiseToSignalLoss: 63.1863 - val_loss: 0.0127 - val_mean_squared_error: 0.0015 - val_root_mean_squared_error: 0.0388 - val_noiseToSignalLoss: 26.4783\n",
      "Epoch 2/20\n",
      "773/774 [============================>.] - ETA: 0s - loss: 0.0132 - mean_squared_error: 0.0017 - root_mean_squared_error: 0.0412 - noiseToSignalLoss: 21.5427"
     ]
    },
    {
     "output_type": "stream",
     "name": "stderr",
     "text": [
      "\u001B[32m[I 2022-06-29 20:12:07,127]\u001B[0m Trial 130 pruned. Trial was pruned at epoch 1.\u001B[0m\n"
     ]
    },
    {
     "output_type": "stream",
     "name": "stdout",
     "text": [
      "Epoch 1/20\n",
      "793/793 [==============================] - 5s 5ms/step - loss: 0.0172 - mean_squared_error: 0.0022 - root_mean_squared_error: 0.0467 - noiseToSignalLoss: 84.8547 - val_loss: 0.0138 - val_mean_squared_error: 0.0016 - val_root_mean_squared_error: 0.0397 - val_noiseToSignalLoss: 42.8935\n",
      "Epoch 2/20\n",
      "793/793 [==============================] - ETA: 0s - loss: 0.0130 - mean_squared_error: 0.0017 - root_mean_squared_error: 0.0410 - noiseToSignalLoss: 23.6029"
     ]
    },
    {
     "output_type": "stream",
     "name": "stderr",
     "text": [
      "\u001B[32m[I 2022-06-29 20:14:02,007]\u001B[0m Trial 131 pruned. Trial was pruned at epoch 1.\u001B[0m\n"
     ]
    },
    {
     "output_type": "stream",
     "name": "stdout",
     "text": [
      "Epoch 1/20\n",
      "793/793 [==============================] - 5s 5ms/step - loss: 0.0169 - mean_squared_error: 0.0021 - root_mean_squared_error: 0.0454 - noiseToSignalLoss: 53.0330 - val_loss: 0.0128 - val_mean_squared_error: 0.0016 - val_root_mean_squared_error: 0.0404 - val_noiseToSignalLoss: 21.9650\n",
      "Epoch 2/20\n",
      "785/793 [============================>.] - ETA: 0s - loss: 0.0130 - mean_squared_error: 0.0017 - root_mean_squared_error: 0.0411 - noiseToSignalLoss: 23.0582"
     ]
    },
    {
     "output_type": "stream",
     "name": "stderr",
     "text": [
      "\u001B[32m[I 2022-06-29 20:15:56,673]\u001B[0m Trial 132 pruned. Trial was pruned at epoch 1.\u001B[0m\n"
     ]
    },
    {
     "output_type": "stream",
     "name": "stdout",
     "text": [
      "Epoch 1/20\n",
      "793/793 [==============================] - 5s 6ms/step - loss: 0.0168 - mean_squared_error: 0.0020 - root_mean_squared_error: 0.0450 - noiseToSignalLoss: 50.9649 - val_loss: 0.0128 - val_mean_squared_error: 0.0016 - val_root_mean_squared_error: 0.0401 - val_noiseToSignalLoss: 31.8472\n",
      "Epoch 2/20\n",
      "793/793 [==============================] - 4s 5ms/step - loss: 0.0132 - mean_squared_error: 0.0017 - root_mean_squared_error: 0.0414 - noiseToSignalLoss: 23.6021 - val_loss: 0.0124 - val_mean_squared_error: 0.0016 - val_root_mean_squared_error: 0.0395 - val_noiseToSignalLoss: 34.1658\n",
      "Epoch 3/20\n",
      "793/793 [==============================] - 4s 5ms/step - loss: 0.0126 - mean_squared_error: 0.0017 - root_mean_squared_error: 0.0408 - noiseToSignalLoss: 22.1818 - val_loss: 0.0119 - val_mean_squared_error: 0.0015 - val_root_mean_squared_error: 0.0392 - val_noiseToSignalLoss: 27.7952\n",
      "Epoch 4/20\n",
      "793/793 [==============================] - 4s 6ms/step - loss: 0.0123 - mean_squared_error: 0.0016 - root_mean_squared_error: 0.0404 - noiseToSignalLoss: 21.5749 - val_loss: 0.0118 - val_mean_squared_error: 0.0015 - val_root_mean_squared_error: 0.0388 - val_noiseToSignalLoss: 35.3999\n",
      "Epoch 5/20\n",
      "793/793 [==============================] - 4s 5ms/step - loss: 0.0121 - mean_squared_error: 0.0016 - root_mean_squared_error: 0.0399 - noiseToSignalLoss: 19.9280 - val_loss: 0.0116 - val_mean_squared_error: 0.0014 - val_root_mean_squared_error: 0.0381 - val_noiseToSignalLoss: 28.6419\n",
      "Epoch 6/20\n",
      "793/793 [==============================] - 4s 5ms/step - loss: 0.0120 - mean_squared_error: 0.0015 - root_mean_squared_error: 0.0391 - noiseToSignalLoss: 17.8134 - val_loss: 0.0116 - val_mean_squared_error: 0.0014 - val_root_mean_squared_error: 0.0373 - val_noiseToSignalLoss: 22.4545\n",
      "Epoch 7/20\n",
      "793/793 [==============================] - 4s 5ms/step - loss: 0.0118 - mean_squared_error: 0.0015 - root_mean_squared_error: 0.0385 - noiseToSignalLoss: 16.2945 - val_loss: 0.0114 - val_mean_squared_error: 0.0014 - val_root_mean_squared_error: 0.0373 - val_noiseToSignalLoss: 16.1092\n",
      "Epoch 8/20\n",
      "793/793 [==============================] - 4s 5ms/step - loss: 0.0117 - mean_squared_error: 0.0015 - root_mean_squared_error: 0.0384 - noiseToSignalLoss: 16.1406 - val_loss: 0.0117 - val_mean_squared_error: 0.0014 - val_root_mean_squared_error: 0.0370 - val_noiseToSignalLoss: 17.9423\n",
      "Epoch 9/20\n",
      "793/793 [==============================] - 4s 5ms/step - loss: 0.0116 - mean_squared_error: 0.0015 - root_mean_squared_error: 0.0382 - noiseToSignalLoss: 15.7682 - val_loss: 0.0113 - val_mean_squared_error: 0.0014 - val_root_mean_squared_error: 0.0368 - val_noiseToSignalLoss: 18.1490\n",
      "Epoch 10/20\n",
      "793/793 [==============================] - 4s 5ms/step - loss: 0.0116 - mean_squared_error: 0.0014 - root_mean_squared_error: 0.0380 - noiseToSignalLoss: 15.6890 - val_loss: 0.0113 - val_mean_squared_error: 0.0013 - val_root_mean_squared_error: 0.0364 - val_noiseToSignalLoss: 20.7949\n",
      "Epoch 11/20\n",
      "793/793 [==============================] - 4s 5ms/step - loss: 0.0115 - mean_squared_error: 0.0014 - root_mean_squared_error: 0.0379 - noiseToSignalLoss: 15.6671 - val_loss: 0.0112 - val_mean_squared_error: 0.0013 - val_root_mean_squared_error: 0.0367 - val_noiseToSignalLoss: 18.8196\n",
      "Epoch 12/20\n",
      "793/793 [==============================] - 4s 5ms/step - loss: 0.0115 - mean_squared_error: 0.0014 - root_mean_squared_error: 0.0377 - noiseToSignalLoss: 15.8269 - val_loss: 0.0114 - val_mean_squared_error: 0.0013 - val_root_mean_squared_error: 0.0364 - val_noiseToSignalLoss: 20.3895\n",
      "Epoch 13/20\n",
      "793/793 [==============================] - 4s 5ms/step - loss: 0.0114 - mean_squared_error: 0.0014 - root_mean_squared_error: 0.0377 - noiseToSignalLoss: 15.8716 - val_loss: 0.0112 - val_mean_squared_error: 0.0013 - val_root_mean_squared_error: 0.0367 - val_noiseToSignalLoss: 16.4617\n",
      "Epoch 14/20\n",
      "793/793 [==============================] - 4s 5ms/step - loss: 0.0114 - mean_squared_error: 0.0014 - root_mean_squared_error: 0.0376 - noiseToSignalLoss: 15.4708 - val_loss: 0.0113 - val_mean_squared_error: 0.0013 - val_root_mean_squared_error: 0.0364 - val_noiseToSignalLoss: 22.0095\n",
      "Epoch 15/20\n",
      "793/793 [==============================] - 4s 5ms/step - loss: 0.0114 - mean_squared_error: 0.0014 - root_mean_squared_error: 0.0376 - noiseToSignalLoss: 15.5408 - val_loss: 0.0112 - val_mean_squared_error: 0.0013 - val_root_mean_squared_error: 0.0364 - val_noiseToSignalLoss: 18.9190\n",
      "Epoch 16/20\n",
      "793/793 [==============================] - 4s 5ms/step - loss: 0.0113 - mean_squared_error: 0.0014 - root_mean_squared_error: 0.0375 - noiseToSignalLoss: 15.1354 - val_loss: 0.0112 - val_mean_squared_error: 0.0013 - val_root_mean_squared_error: 0.0366 - val_noiseToSignalLoss: 13.0106\n",
      "Epoch 17/20\n",
      "789/793 [============================>.] - ETA: 0s - loss: 0.0113 - mean_squared_error: 0.0014 - root_mean_squared_error: 0.0375 - noiseToSignalLoss: 15.3209"
     ]
    },
    {
     "output_type": "stream",
     "name": "stderr",
     "text": [
      "\u001B[32m[I 2022-06-29 20:19:19,877]\u001B[0m Trial 133 pruned. Trial was pruned at epoch 16.\u001B[0m\n"
     ]
    },
    {
     "output_type": "stream",
     "name": "stdout",
     "text": [
      "Epoch 1/20\n",
      "793/793 [==============================] - 5s 5ms/step - loss: 0.0776 - mean_squared_error: 0.0101 - root_mean_squared_error: 0.1005 - noiseToSignalLoss: 1424.3043 - val_loss: 0.0368 - val_mean_squared_error: 0.0031 - val_root_mean_squared_error: 0.0554 - val_noiseToSignalLoss: 245.5970\n",
      "Epoch 2/20\n",
      "788/793 [============================>.] - ETA: 0s - loss: 0.0617 - mean_squared_error: 0.0070 - root_mean_squared_error: 0.0835 - noiseToSignalLoss: 935.7979"
     ]
    },
    {
     "output_type": "stream",
     "name": "stderr",
     "text": [
      "\u001B[32m[I 2022-06-29 20:21:15,620]\u001B[0m Trial 134 pruned. Trial was pruned at epoch 1.\u001B[0m\n"
     ]
    },
    {
     "output_type": "stream",
     "name": "stdout",
     "text": [
      "Epoch 1/20\n",
      "793/793 [==============================] - 5s 5ms/step - loss: 0.0176 - mean_squared_error: 0.0021 - root_mean_squared_error: 0.0457 - noiseToSignalLoss: 66.5393 - val_loss: 0.0126 - val_mean_squared_error: 0.0016 - val_root_mean_squared_error: 0.0405 - val_noiseToSignalLoss: 25.0312\n",
      "Epoch 2/20\n",
      "793/793 [==============================] - 4s 5ms/step - loss: 0.0135 - mean_squared_error: 0.0017 - root_mean_squared_error: 0.0416 - noiseToSignalLoss: 24.3524 - val_loss: 0.0122 - val_mean_squared_error: 0.0016 - val_root_mean_squared_error: 0.0397 - val_noiseToSignalLoss: 33.9325\n",
      "Epoch 3/20\n",
      "793/793 [==============================] - 4s 5ms/step - loss: 0.0129 - mean_squared_error: 0.0017 - root_mean_squared_error: 0.0411 - noiseToSignalLoss: 23.1058 - val_loss: 0.0122 - val_mean_squared_error: 0.0016 - val_root_mean_squared_error: 0.0397 - val_noiseToSignalLoss: 27.5267\n",
      "Epoch 4/20\n",
      "793/793 [==============================] - 4s 5ms/step - loss: 0.0125 - mean_squared_error: 0.0017 - root_mean_squared_error: 0.0407 - noiseToSignalLoss: 22.6304 - val_loss: 0.0118 - val_mean_squared_error: 0.0015 - val_root_mean_squared_error: 0.0392 - val_noiseToSignalLoss: 37.1662\n",
      "Epoch 5/20\n",
      "793/793 [==============================] - 4s 5ms/step - loss: 0.0124 - mean_squared_error: 0.0016 - root_mean_squared_error: 0.0405 - noiseToSignalLoss: 22.0316 - val_loss: 0.0117 - val_mean_squared_error: 0.0015 - val_root_mean_squared_error: 0.0391 - val_noiseToSignalLoss: 36.7573\n",
      "Epoch 6/20\n",
      "793/793 [==============================] - 4s 5ms/step - loss: 0.0122 - mean_squared_error: 0.0016 - root_mean_squared_error: 0.0403 - noiseToSignalLoss: 21.9045 - val_loss: 0.0117 - val_mean_squared_error: 0.0015 - val_root_mean_squared_error: 0.0387 - val_noiseToSignalLoss: 34.7374\n",
      "Epoch 7/20\n",
      "793/793 [==============================] - 4s 5ms/step - loss: 0.0121 - mean_squared_error: 0.0016 - root_mean_squared_error: 0.0400 - noiseToSignalLoss: 21.5173 - val_loss: 0.0117 - val_mean_squared_error: 0.0015 - val_root_mean_squared_error: 0.0385 - val_noiseToSignalLoss: 31.8423\n",
      "Epoch 8/20\n",
      "793/793 [==============================] - 4s 5ms/step - loss: 0.0120 - mean_squared_error: 0.0016 - root_mean_squared_error: 0.0397 - noiseToSignalLoss: 19.3124 - val_loss: 0.0124 - val_mean_squared_error: 0.0015 - val_root_mean_squared_error: 0.0382 - val_noiseToSignalLoss: 42.3825\n",
      "Epoch 9/20\n",
      "793/793 [==============================] - 4s 5ms/step - loss: 0.0119 - mean_squared_error: 0.0015 - root_mean_squared_error: 0.0392 - noiseToSignalLoss: 19.3236 - val_loss: 0.0115 - val_mean_squared_error: 0.0014 - val_root_mean_squared_error: 0.0376 - val_noiseToSignalLoss: 21.8965\n",
      "Epoch 10/20\n",
      "793/793 [==============================] - 4s 5ms/step - loss: 0.0118 - mean_squared_error: 0.0015 - root_mean_squared_error: 0.0386 - noiseToSignalLoss: 17.1268 - val_loss: 0.0114 - val_mean_squared_error: 0.0014 - val_root_mean_squared_error: 0.0372 - val_noiseToSignalLoss: 17.1673\n",
      "Epoch 11/20\n",
      "793/793 [==============================] - 4s 5ms/step - loss: 0.0117 - mean_squared_error: 0.0015 - root_mean_squared_error: 0.0383 - noiseToSignalLoss: 16.1844 - val_loss: 0.0116 - val_mean_squared_error: 0.0014 - val_root_mean_squared_error: 0.0369 - val_noiseToSignalLoss: 20.5320\n",
      "Epoch 12/20\n",
      "793/793 [==============================] - 4s 5ms/step - loss: 0.0116 - mean_squared_error: 0.0015 - root_mean_squared_error: 0.0382 - noiseToSignalLoss: 16.2253 - val_loss: 0.0114 - val_mean_squared_error: 0.0014 - val_root_mean_squared_error: 0.0371 - val_noiseToSignalLoss: 15.4532\n",
      "Epoch 13/20\n",
      "793/793 [==============================] - 4s 5ms/step - loss: 0.0115 - mean_squared_error: 0.0014 - root_mean_squared_error: 0.0380 - noiseToSignalLoss: 15.2943 - val_loss: 0.0114 - val_mean_squared_error: 0.0013 - val_root_mean_squared_error: 0.0367 - val_noiseToSignalLoss: 17.8406\n",
      "Epoch 14/20\n",
      "793/793 [==============================] - 4s 5ms/step - loss: 0.0115 - mean_squared_error: 0.0014 - root_mean_squared_error: 0.0379 - noiseToSignalLoss: 15.4609 - val_loss: 0.0113 - val_mean_squared_error: 0.0013 - val_root_mean_squared_error: 0.0366 - val_noiseToSignalLoss: 16.9406\n",
      "Epoch 15/20\n",
      "793/793 [==============================] - 4s 5ms/step - loss: 0.0115 - mean_squared_error: 0.0014 - root_mean_squared_error: 0.0378 - noiseToSignalLoss: 15.6065 - val_loss: 0.0112 - val_mean_squared_error: 0.0013 - val_root_mean_squared_error: 0.0366 - val_noiseToSignalLoss: 17.7470\n",
      "Epoch 16/20\n",
      "793/793 [==============================] - 4s 5ms/step - loss: 0.0114 - mean_squared_error: 0.0014 - root_mean_squared_error: 0.0377 - noiseToSignalLoss: 15.4861 - val_loss: 0.0111 - val_mean_squared_error: 0.0013 - val_root_mean_squared_error: 0.0365 - val_noiseToSignalLoss: 16.1332\n",
      "Epoch 17/20\n",
      "788/793 [============================>.] - ETA: 0s - loss: 0.0114 - mean_squared_error: 0.0014 - root_mean_squared_error: 0.0377 - noiseToSignalLoss: 15.7489"
     ]
    },
    {
     "output_type": "stream",
     "name": "stderr",
     "text": [
      "\u001B[32m[I 2022-06-29 20:24:12,071]\u001B[0m Trial 135 pruned. Trial was pruned at epoch 16.\u001B[0m\n"
     ]
    },
    {
     "output_type": "stream",
     "name": "stdout",
     "text": [
      "Epoch 1/20\n",
      "793/793 [==============================] - 6s 5ms/step - loss: 0.0166 - mean_squared_error: 0.0020 - root_mean_squared_error: 0.0443 - noiseToSignalLoss: 45.3224 - val_loss: 0.0124 - val_mean_squared_error: 0.0016 - val_root_mean_squared_error: 0.0400 - val_noiseToSignalLoss: 23.0486\n",
      "Epoch 2/20\n",
      "793/793 [==============================] - 4s 5ms/step - loss: 0.0132 - mean_squared_error: 0.0017 - root_mean_squared_error: 0.0412 - noiseToSignalLoss: 22.6004 - val_loss: 0.0124 - val_mean_squared_error: 0.0015 - val_root_mean_squared_error: 0.0391 - val_noiseToSignalLoss: 38.6061\n",
      "Epoch 3/20\n",
      "793/793 [==============================] - 4s 5ms/step - loss: 0.0127 - mean_squared_error: 0.0017 - root_mean_squared_error: 0.0407 - noiseToSignalLoss: 22.3183 - val_loss: 0.0119 - val_mean_squared_error: 0.0015 - val_root_mean_squared_error: 0.0390 - val_noiseToSignalLoss: 36.9113\n",
      "Epoch 4/20\n",
      "793/793 [==============================] - 4s 5ms/step - loss: 0.0123 - mean_squared_error: 0.0016 - root_mean_squared_error: 0.0402 - noiseToSignalLoss: 21.4492 - val_loss: 0.0119 - val_mean_squared_error: 0.0015 - val_root_mean_squared_error: 0.0387 - val_noiseToSignalLoss: 27.6955\n",
      "Epoch 5/20\n",
      "793/793 [==============================] - 4s 5ms/step - loss: 0.0121 - mean_squared_error: 0.0016 - root_mean_squared_error: 0.0396 - noiseToSignalLoss: 19.6017 - val_loss: 0.0116 - val_mean_squared_error: 0.0014 - val_root_mean_squared_error: 0.0376 - val_noiseToSignalLoss: 30.0768\n",
      "Epoch 6/20\n",
      "793/793 [==============================] - 4s 5ms/step - loss: 0.0119 - mean_squared_error: 0.0015 - root_mean_squared_error: 0.0388 - noiseToSignalLoss: 17.5951 - val_loss: 0.0114 - val_mean_squared_error: 0.0014 - val_root_mean_squared_error: 0.0374 - val_noiseToSignalLoss: 18.0193\n",
      "Epoch 7/20\n",
      "793/793 [==============================] - 4s 5ms/step - loss: 0.0118 - mean_squared_error: 0.0015 - root_mean_squared_error: 0.0385 - noiseToSignalLoss: 16.6723 - val_loss: 0.0114 - val_mean_squared_error: 0.0014 - val_root_mean_squared_error: 0.0374 - val_noiseToSignalLoss: 15.4500\n",
      "Epoch 8/20\n",
      "793/793 [==============================] - 4s 5ms/step - loss: 0.0117 - mean_squared_error: 0.0015 - root_mean_squared_error: 0.0384 - noiseToSignalLoss: 16.4740 - val_loss: 0.0114 - val_mean_squared_error: 0.0014 - val_root_mean_squared_error: 0.0374 - val_noiseToSignalLoss: 13.8823\n",
      "Epoch 9/20\n",
      "793/793 [==============================] - 4s 5ms/step - loss: 0.0117 - mean_squared_error: 0.0015 - root_mean_squared_error: 0.0383 - noiseToSignalLoss: 15.9237 - val_loss: 0.0115 - val_mean_squared_error: 0.0014 - val_root_mean_squared_error: 0.0369 - val_noiseToSignalLoss: 18.7898\n",
      "Epoch 10/20\n",
      "793/793 [==============================] - 4s 5ms/step - loss: 0.0116 - mean_squared_error: 0.0015 - root_mean_squared_error: 0.0381 - noiseToSignalLoss: 15.4878 - val_loss: 0.0113 - val_mean_squared_error: 0.0014 - val_root_mean_squared_error: 0.0368 - val_noiseToSignalLoss: 16.4670\n",
      "Epoch 11/20\n",
      "793/793 [==============================] - 4s 5ms/step - loss: 0.0116 - mean_squared_error: 0.0014 - root_mean_squared_error: 0.0380 - noiseToSignalLoss: 15.5608 - val_loss: 0.0112 - val_mean_squared_error: 0.0014 - val_root_mean_squared_error: 0.0368 - val_noiseToSignalLoss: 17.5462\n",
      "Epoch 12/20\n",
      "793/793 [==============================] - 4s 5ms/step - loss: 0.0115 - mean_squared_error: 0.0014 - root_mean_squared_error: 0.0379 - noiseToSignalLoss: 15.7065 - val_loss: 0.0112 - val_mean_squared_error: 0.0014 - val_root_mean_squared_error: 0.0369 - val_noiseToSignalLoss: 17.9362\n",
      "Epoch 13/20\n",
      "793/793 [==============================] - 4s 5ms/step - loss: 0.0114 - mean_squared_error: 0.0014 - root_mean_squared_error: 0.0378 - noiseToSignalLoss: 15.7230 - val_loss: 0.0112 - val_mean_squared_error: 0.0013 - val_root_mean_squared_error: 0.0365 - val_noiseToSignalLoss: 21.1315\n",
      "Epoch 14/20\n",
      "793/793 [==============================] - 4s 5ms/step - loss: 0.0114 - mean_squared_error: 0.0014 - root_mean_squared_error: 0.0377 - noiseToSignalLoss: 15.8364 - val_loss: 0.0113 - val_mean_squared_error: 0.0013 - val_root_mean_squared_error: 0.0363 - val_noiseToSignalLoss: 23.7678\n",
      "Epoch 15/20\n",
      "793/793 [==============================] - 4s 5ms/step - loss: 0.0114 - mean_squared_error: 0.0014 - root_mean_squared_error: 0.0377 - noiseToSignalLoss: 15.3198 - val_loss: 0.0113 - val_mean_squared_error: 0.0013 - val_root_mean_squared_error: 0.0364 - val_noiseToSignalLoss: 20.5857\n",
      "Epoch 16/20\n",
      "793/793 [==============================] - 4s 5ms/step - loss: 0.0114 - mean_squared_error: 0.0014 - root_mean_squared_error: 0.0376 - noiseToSignalLoss: 14.9394 - val_loss: 0.0111 - val_mean_squared_error: 0.0013 - val_root_mean_squared_error: 0.0365 - val_noiseToSignalLoss: 17.9173\n",
      "Epoch 17/20\n",
      "787/793 [============================>.] - ETA: 0s - loss: 0.0113 - mean_squared_error: 0.0014 - root_mean_squared_error: 0.0375 - noiseToSignalLoss: 14.5809"
     ]
    },
    {
     "output_type": "stream",
     "name": "stderr",
     "text": [
      "\u001B[32m[I 2022-06-29 20:27:08,660]\u001B[0m Trial 136 pruned. Trial was pruned at epoch 16.\u001B[0m\n"
     ]
    },
    {
     "output_type": "stream",
     "name": "stdout",
     "text": [
      "Epoch 1/20\n",
      "793/793 [==============================] - 5s 5ms/step - loss: 0.0173 - mean_squared_error: 0.0021 - root_mean_squared_error: 0.0461 - noiseToSignalLoss: 66.8038 - val_loss: 0.0133 - val_mean_squared_error: 0.0016 - val_root_mean_squared_error: 0.0402 - val_noiseToSignalLoss: 30.3989\n",
      "Epoch 2/20\n",
      "793/793 [==============================] - 4s 5ms/step - loss: 0.0132 - mean_squared_error: 0.0017 - root_mean_squared_error: 0.0411 - noiseToSignalLoss: 23.1910 - val_loss: 0.0121 - val_mean_squared_error: 0.0016 - val_root_mean_squared_error: 0.0397 - val_noiseToSignalLoss: 33.6016\n",
      "Epoch 3/20\n",
      "793/793 [==============================] - 4s 5ms/step - loss: 0.0126 - mean_squared_error: 0.0017 - root_mean_squared_error: 0.0406 - noiseToSignalLoss: 22.5831 - val_loss: 0.0123 - val_mean_squared_error: 0.0015 - val_root_mean_squared_error: 0.0389 - val_noiseToSignalLoss: 36.5476\n",
      "Epoch 4/20\n",
      "793/793 [==============================] - 4s 5ms/step - loss: 0.0123 - mean_squared_error: 0.0016 - root_mean_squared_error: 0.0402 - noiseToSignalLoss: 21.6408 - val_loss: 0.0123 - val_mean_squared_error: 0.0015 - val_root_mean_squared_error: 0.0391 - val_noiseToSignalLoss: 22.8517\n",
      "Epoch 5/20\n",
      "793/793 [==============================] - 4s 5ms/step - loss: 0.0121 - mean_squared_error: 0.0016 - root_mean_squared_error: 0.0395 - noiseToSignalLoss: 19.0739 - val_loss: 0.0116 - val_mean_squared_error: 0.0014 - val_root_mean_squared_error: 0.0373 - val_noiseToSignalLoss: 22.5002\n",
      "Epoch 6/20\n",
      "793/793 [==============================] - 4s 5ms/step - loss: 0.0119 - mean_squared_error: 0.0015 - root_mean_squared_error: 0.0386 - noiseToSignalLoss: 16.8556 - val_loss: 0.0115 - val_mean_squared_error: 0.0014 - val_root_mean_squared_error: 0.0370 - val_noiseToSignalLoss: 20.3591\n",
      "Epoch 7/20\n",
      "793/793 [==============================] - 4s 5ms/step - loss: 0.0118 - mean_squared_error: 0.0015 - root_mean_squared_error: 0.0384 - noiseToSignalLoss: 16.6585 - val_loss: 0.0114 - val_mean_squared_error: 0.0014 - val_root_mean_squared_error: 0.0368 - val_noiseToSignalLoss: 18.5032\n",
      "Epoch 8/20\n",
      "793/793 [==============================] - 4s 5ms/step - loss: 0.0117 - mean_squared_error: 0.0015 - root_mean_squared_error: 0.0382 - noiseToSignalLoss: 16.1622 - val_loss: 0.0115 - val_mean_squared_error: 0.0014 - val_root_mean_squared_error: 0.0371 - val_noiseToSignalLoss: 14.4278\n",
      "Epoch 9/20\n",
      "793/793 [==============================] - 4s 5ms/step - loss: 0.0116 - mean_squared_error: 0.0014 - root_mean_squared_error: 0.0381 - noiseToSignalLoss: 15.8686 - val_loss: 0.0113 - val_mean_squared_error: 0.0013 - val_root_mean_squared_error: 0.0367 - val_noiseToSignalLoss: 17.8458\n",
      "Epoch 10/20\n",
      "793/793 [==============================] - 4s 5ms/step - loss: 0.0116 - mean_squared_error: 0.0014 - root_mean_squared_error: 0.0379 - noiseToSignalLoss: 15.6633 - val_loss: 0.0116 - val_mean_squared_error: 0.0014 - val_root_mean_squared_error: 0.0371 - val_noiseToSignalLoss: 16.6984\n",
      "Epoch 11/20\n",
      "793/793 [==============================] - 4s 6ms/step - loss: 0.0115 - mean_squared_error: 0.0014 - root_mean_squared_error: 0.0378 - noiseToSignalLoss: 15.9057 - val_loss: 0.0112 - val_mean_squared_error: 0.0013 - val_root_mean_squared_error: 0.0365 - val_noiseToSignalLoss: 18.8057\n",
      "Epoch 12/20\n",
      "793/793 [==============================] - 4s 5ms/step - loss: 0.0115 - mean_squared_error: 0.0014 - root_mean_squared_error: 0.0377 - noiseToSignalLoss: 15.8419 - val_loss: 0.0114 - val_mean_squared_error: 0.0014 - val_root_mean_squared_error: 0.0368 - val_noiseToSignalLoss: 18.0129\n",
      "Epoch 13/20\n",
      "793/793 [==============================] - 4s 5ms/step - loss: 0.0114 - mean_squared_error: 0.0014 - root_mean_squared_error: 0.0377 - noiseToSignalLoss: 16.1047 - val_loss: 0.0113 - val_mean_squared_error: 0.0013 - val_root_mean_squared_error: 0.0367 - val_noiseToSignalLoss: 14.5200\n",
      "Epoch 14/20\n",
      "793/793 [==============================] - 4s 5ms/step - loss: 0.0114 - mean_squared_error: 0.0014 - root_mean_squared_error: 0.0376 - noiseToSignalLoss: 15.7790 - val_loss: 0.0112 - val_mean_squared_error: 0.0013 - val_root_mean_squared_error: 0.0365 - val_noiseToSignalLoss: 18.8039\n",
      "Epoch 15/20\n",
      "793/793 [==============================] - 4s 5ms/step - loss: 0.0114 - mean_squared_error: 0.0014 - root_mean_squared_error: 0.0376 - noiseToSignalLoss: 15.5896 - val_loss: 0.0113 - val_mean_squared_error: 0.0013 - val_root_mean_squared_error: 0.0366 - val_noiseToSignalLoss: 14.9920\n",
      "Epoch 16/20\n",
      "793/793 [==============================] - 4s 5ms/step - loss: 0.0113 - mean_squared_error: 0.0014 - root_mean_squared_error: 0.0375 - noiseToSignalLoss: 15.1565 - val_loss: 0.0113 - val_mean_squared_error: 0.0013 - val_root_mean_squared_error: 0.0364 - val_noiseToSignalLoss: 15.5732\n",
      "Epoch 17/20\n",
      "786/793 [============================>.] - ETA: 0s - loss: 0.0113 - mean_squared_error: 0.0014 - root_mean_squared_error: 0.0375 - noiseToSignalLoss: 14.9095"
     ]
    },
    {
     "output_type": "stream",
     "name": "stderr",
     "text": [
      "\u001B[32m[I 2022-06-29 20:30:05,356]\u001B[0m Trial 137 pruned. Trial was pruned at epoch 16.\u001B[0m\n"
     ]
    },
    {
     "output_type": "stream",
     "name": "stdout",
     "text": [
      "Epoch 1/20\n",
      "800/800 [==============================] - 5s 5ms/step - loss: 0.0163 - mean_squared_error: 0.0019 - root_mean_squared_error: 0.0437 - noiseToSignalLoss: 53.4701 - val_loss: 0.0135 - val_mean_squared_error: 0.0017 - val_root_mean_squared_error: 0.0407 - val_noiseToSignalLoss: 34.6931\n",
      "Epoch 2/20\n",
      "799/800 [============================>.] - ETA: 0s - loss: 0.0131 - mean_squared_error: 0.0016 - root_mean_squared_error: 0.0404 - noiseToSignalLoss: 24.0299"
     ]
    },
    {
     "output_type": "stream",
     "name": "stderr",
     "text": [
      "\u001B[32m[I 2022-06-29 20:32:13,394]\u001B[0m Trial 138 pruned. Trial was pruned at epoch 1.\u001B[0m\n"
     ]
    },
    {
     "output_type": "stream",
     "name": "stdout",
     "text": [
      "Epoch 1/20\n",
      "793/793 [==============================] - 5s 5ms/step - loss: 0.0176 - mean_squared_error: 0.0021 - root_mean_squared_error: 0.0457 - noiseToSignalLoss: 69.5789 - val_loss: 0.0125 - val_mean_squared_error: 0.0016 - val_root_mean_squared_error: 0.0405 - val_noiseToSignalLoss: 23.5019\n",
      "Epoch 2/20\n",
      "793/793 [==============================] - 4s 5ms/step - loss: 0.0134 - mean_squared_error: 0.0017 - root_mean_squared_error: 0.0415 - noiseToSignalLoss: 25.2658 - val_loss: 0.0123 - val_mean_squared_error: 0.0016 - val_root_mean_squared_error: 0.0396 - val_noiseToSignalLoss: 35.0968\n",
      "Epoch 3/20\n",
      "793/793 [==============================] - 4s 5ms/step - loss: 0.0128 - mean_squared_error: 0.0017 - root_mean_squared_error: 0.0410 - noiseToSignalLoss: 24.2455 - val_loss: 0.0120 - val_mean_squared_error: 0.0016 - val_root_mean_squared_error: 0.0395 - val_noiseToSignalLoss: 35.9599\n",
      "Epoch 4/20\n",
      "793/793 [==============================] - 4s 5ms/step - loss: 0.0125 - mean_squared_error: 0.0017 - root_mean_squared_error: 0.0407 - noiseToSignalLoss: 23.5100 - val_loss: 0.0118 - val_mean_squared_error: 0.0015 - val_root_mean_squared_error: 0.0393 - val_noiseToSignalLoss: 33.6227\n",
      "Epoch 5/20\n",
      "783/793 [============================>.] - ETA: 0s - loss: 0.0124 - mean_squared_error: 0.0016 - root_mean_squared_error: 0.0406 - noiseToSignalLoss: 22.7908"
     ]
    },
    {
     "output_type": "stream",
     "name": "stderr",
     "text": [
      "\u001B[32m[I 2022-06-29 20:34:22,288]\u001B[0m Trial 139 pruned. Trial was pruned at epoch 4.\u001B[0m\n"
     ]
    },
    {
     "output_type": "stream",
     "name": "stdout",
     "text": [
      "Epoch 1/20\n",
      "800/800 [==============================] - 5s 5ms/step - loss: 0.0189 - mean_squared_error: 0.0025 - root_mean_squared_error: 0.0500 - noiseToSignalLoss: 157.0308 - val_loss: 0.0153 - val_mean_squared_error: 0.0019 - val_root_mean_squared_error: 0.0434 - val_noiseToSignalLoss: 10.6960\n",
      "Epoch 2/20\n",
      "800/800 [==============================] - 4s 5ms/step - loss: 0.0134 - mean_squared_error: 0.0017 - root_mean_squared_error: 0.0410 - noiseToSignalLoss: 24.9834 - val_loss: 0.0123 - val_mean_squared_error: 0.0017 - val_root_mean_squared_error: 0.0409 - val_noiseToSignalLoss: 16.5697\n",
      "Epoch 3/20\n",
      "800/800 [==============================] - 4s 5ms/step - loss: 0.0128 - mean_squared_error: 0.0016 - root_mean_squared_error: 0.0403 - noiseToSignalLoss: 24.3578 - val_loss: 0.0124 - val_mean_squared_error: 0.0016 - val_root_mean_squared_error: 0.0405 - val_noiseToSignalLoss: 17.8762\n",
      "Epoch 4/20\n",
      "800/800 [==============================] - 4s 5ms/step - loss: 0.0124 - mean_squared_error: 0.0016 - root_mean_squared_error: 0.0399 - noiseToSignalLoss: 22.8157 - val_loss: 0.0119 - val_mean_squared_error: 0.0016 - val_root_mean_squared_error: 0.0401 - val_noiseToSignalLoss: 15.1813\n",
      "Epoch 5/20\n",
      "795/800 [============================>.] - ETA: 0s - loss: 0.0122 - mean_squared_error: 0.0016 - root_mean_squared_error: 0.0394 - noiseToSignalLoss: 21.4152"
     ]
    },
    {
     "output_type": "stream",
     "name": "stderr",
     "text": [
      "\u001B[32m[I 2022-06-29 20:36:29,817]\u001B[0m Trial 140 pruned. Trial was pruned at epoch 4.\u001B[0m\n"
     ]
    },
    {
     "output_type": "stream",
     "name": "stdout",
     "text": [
      "Epoch 1/20\n",
      "793/793 [==============================] - 6s 5ms/step - loss: 0.0169 - mean_squared_error: 0.0020 - root_mean_squared_error: 0.0445 - noiseToSignalLoss: 50.9370 - val_loss: 0.0123 - val_mean_squared_error: 0.0016 - val_root_mean_squared_error: 0.0399 - val_noiseToSignalLoss: 29.6490\n",
      "Epoch 2/20\n",
      "793/793 [==============================] - 4s 5ms/step - loss: 0.0133 - mean_squared_error: 0.0017 - root_mean_squared_error: 0.0412 - noiseToSignalLoss: 23.1125 - val_loss: 0.0124 - val_mean_squared_error: 0.0016 - val_root_mean_squared_error: 0.0394 - val_noiseToSignalLoss: 41.5626\n",
      "Epoch 3/20\n",
      "793/793 [==============================] - 4s 5ms/step - loss: 0.0127 - mean_squared_error: 0.0017 - root_mean_squared_error: 0.0409 - noiseToSignalLoss: 23.2250 - val_loss: 0.0123 - val_mean_squared_error: 0.0015 - val_root_mean_squared_error: 0.0392 - val_noiseToSignalLoss: 39.4059\n",
      "Epoch 4/20\n",
      "793/793 [==============================] - 4s 5ms/step - loss: 0.0124 - mean_squared_error: 0.0016 - root_mean_squared_error: 0.0406 - noiseToSignalLoss: 22.3561 - val_loss: 0.0123 - val_mean_squared_error: 0.0015 - val_root_mean_squared_error: 0.0393 - val_noiseToSignalLoss: 32.1605\n",
      "Epoch 5/20\n",
      "793/793 [==============================] - ETA: 0s - loss: 0.0123 - mean_squared_error: 0.0016 - root_mean_squared_error: 0.0404 - noiseToSignalLoss: 22.4813"
     ]
    },
    {
     "output_type": "stream",
     "name": "stderr",
     "text": [
      "\u001B[32m[I 2022-06-29 20:38:36,361]\u001B[0m Trial 141 pruned. Trial was pruned at epoch 4.\u001B[0m\n"
     ]
    },
    {
     "output_type": "stream",
     "name": "stdout",
     "text": [
      "Epoch 1/20\n",
      "793/793 [==============================] - 5s 5ms/step - loss: 0.0174 - mean_squared_error: 0.0021 - root_mean_squared_error: 0.0455 - noiseToSignalLoss: 61.8023 - val_loss: 0.0129 - val_mean_squared_error: 0.0016 - val_root_mean_squared_error: 0.0400 - val_noiseToSignalLoss: 33.1494\n",
      "Epoch 2/20\n",
      "793/793 [==============================] - 4s 5ms/step - loss: 0.0135 - mean_squared_error: 0.0017 - root_mean_squared_error: 0.0416 - noiseToSignalLoss: 24.0898 - val_loss: 0.0122 - val_mean_squared_error: 0.0016 - val_root_mean_squared_error: 0.0399 - val_noiseToSignalLoss: 30.1609\n",
      "Epoch 3/20\n",
      "793/793 [==============================] - 4s 5ms/step - loss: 0.0130 - mean_squared_error: 0.0017 - root_mean_squared_error: 0.0412 - noiseToSignalLoss: 23.0708 - val_loss: 0.0124 - val_mean_squared_error: 0.0015 - val_root_mean_squared_error: 0.0393 - val_noiseToSignalLoss: 45.4541\n",
      "Epoch 4/20\n",
      "793/793 [==============================] - 4s 5ms/step - loss: 0.0126 - mean_squared_error: 0.0017 - root_mean_squared_error: 0.0409 - noiseToSignalLoss: 23.0803 - val_loss: 0.0119 - val_mean_squared_error: 0.0016 - val_root_mean_squared_error: 0.0394 - val_noiseToSignalLoss: 36.8755\n",
      "Epoch 5/20\n",
      "793/793 [==============================] - ETA: 0s - loss: 0.0124 - mean_squared_error: 0.0017 - root_mean_squared_error: 0.0407 - noiseToSignalLoss: 22.6259"
     ]
    },
    {
     "output_type": "stream",
     "name": "stderr",
     "text": [
      "\u001B[32m[I 2022-06-29 20:40:43,203]\u001B[0m Trial 142 pruned. Trial was pruned at epoch 4.\u001B[0m\n"
     ]
    },
    {
     "output_type": "stream",
     "name": "stdout",
     "text": [
      "Epoch 1/20\n",
      "793/793 [==============================] - 5s 5ms/step - loss: 0.0169 - mean_squared_error: 0.0020 - root_mean_squared_error: 0.0449 - noiseToSignalLoss: 50.0646 - val_loss: 0.0129 - val_mean_squared_error: 0.0016 - val_root_mean_squared_error: 0.0400 - val_noiseToSignalLoss: 31.8910\n",
      "Epoch 2/20\n",
      "787/793 [============================>.] - ETA: 0s - loss: 0.0133 - mean_squared_error: 0.0017 - root_mean_squared_error: 0.0412 - noiseToSignalLoss: 23.0350"
     ]
    },
    {
     "output_type": "stream",
     "name": "stderr",
     "text": [
      "\u001B[32m[I 2022-06-29 20:42:37,343]\u001B[0m Trial 143 pruned. Trial was pruned at epoch 1.\u001B[0m\n"
     ]
    },
    {
     "output_type": "stream",
     "name": "stdout",
     "text": [
      "Epoch 1/20\n",
      "793/793 [==============================] - 5s 5ms/step - loss: 0.0176 - mean_squared_error: 0.0021 - root_mean_squared_error: 0.0461 - noiseToSignalLoss: 72.6522 - val_loss: 0.0128 - val_mean_squared_error: 0.0017 - val_root_mean_squared_error: 0.0407 - val_noiseToSignalLoss: 19.4078\n",
      "Epoch 2/20\n",
      "793/793 [==============================] - 4s 5ms/step - loss: 0.0134 - mean_squared_error: 0.0017 - root_mean_squared_error: 0.0415 - noiseToSignalLoss: 23.7646 - val_loss: 0.0125 - val_mean_squared_error: 0.0016 - val_root_mean_squared_error: 0.0400 - val_noiseToSignalLoss: 27.5939\n",
      "Epoch 3/20\n",
      "793/793 [==============================] - 4s 5ms/step - loss: 0.0128 - mean_squared_error: 0.0017 - root_mean_squared_error: 0.0410 - noiseToSignalLoss: 22.6691 - val_loss: 0.0123 - val_mean_squared_error: 0.0016 - val_root_mean_squared_error: 0.0396 - val_noiseToSignalLoss: 30.8548\n",
      "Epoch 4/20\n",
      "793/793 [==============================] - 4s 5ms/step - loss: 0.0125 - mean_squared_error: 0.0016 - root_mean_squared_error: 0.0406 - noiseToSignalLoss: 21.7991 - val_loss: 0.0120 - val_mean_squared_error: 0.0015 - val_root_mean_squared_error: 0.0390 - val_noiseToSignalLoss: 39.6175\n",
      "Epoch 5/20\n",
      "793/793 [==============================] - ETA: 0s - loss: 0.0123 - mean_squared_error: 0.0016 - root_mean_squared_error: 0.0403 - noiseToSignalLoss: 21.2747"
     ]
    },
    {
     "output_type": "stream",
     "name": "stderr",
     "text": [
      "\u001B[32m[I 2022-06-29 20:44:43,841]\u001B[0m Trial 144 pruned. Trial was pruned at epoch 4.\u001B[0m\n"
     ]
    },
    {
     "output_type": "stream",
     "name": "stdout",
     "text": [
      "Epoch 1/20\n",
      "793/793 [==============================] - 5s 5ms/step - loss: 0.1334 - mean_squared_error: 0.0288 - root_mean_squared_error: 0.1698 - noiseToSignalLoss: 4323.8877 - val_loss: 0.1120 - val_mean_squared_error: 0.0222 - val_root_mean_squared_error: 0.1490 - val_noiseToSignalLoss: 2952.3772\n",
      "Epoch 2/20\n",
      "791/793 [============================>.] - ETA: 0s - loss: 0.1311 - mean_squared_error: 0.0279 - root_mean_squared_error: 0.1670 - noiseToSignalLoss: 4204.0903"
     ]
    },
    {
     "output_type": "stream",
     "name": "stderr",
     "text": [
      "\u001B[32m[I 2022-06-29 20:46:38,371]\u001B[0m Trial 145 pruned. Trial was pruned at epoch 1.\u001B[0m\n"
     ]
    },
    {
     "output_type": "stream",
     "name": "stdout",
     "text": [
      "Epoch 1/20\n",
      "793/793 [==============================] - 5s 5ms/step - loss: 0.0188 - mean_squared_error: 0.0022 - root_mean_squared_error: 0.0470 - noiseToSignalLoss: 65.7276 - val_loss: 0.0132 - val_mean_squared_error: 0.0017 - val_root_mean_squared_error: 0.0409 - val_noiseToSignalLoss: 23.1176\n",
      "Epoch 2/20\n",
      "793/793 [==============================] - 4s 5ms/step - loss: 0.0137 - mean_squared_error: 0.0018 - root_mean_squared_error: 0.0419 - noiseToSignalLoss: 25.5230 - val_loss: 0.0124 - val_mean_squared_error: 0.0016 - val_root_mean_squared_error: 0.0404 - val_noiseToSignalLoss: 26.9307\n",
      "Epoch 3/20\n",
      "793/793 [==============================] - 4s 5ms/step - loss: 0.0131 - mean_squared_error: 0.0017 - root_mean_squared_error: 0.0414 - noiseToSignalLoss: 24.9704 - val_loss: 0.0121 - val_mean_squared_error: 0.0016 - val_root_mean_squared_error: 0.0397 - val_noiseToSignalLoss: 35.6766\n",
      "Epoch 4/20\n",
      "793/793 [==============================] - 4s 5ms/step - loss: 0.0127 - mean_squared_error: 0.0017 - root_mean_squared_error: 0.0412 - noiseToSignalLoss: 24.2226 - val_loss: 0.0120 - val_mean_squared_error: 0.0016 - val_root_mean_squared_error: 0.0395 - val_noiseToSignalLoss: 40.5956\n",
      "Epoch 5/20\n",
      "790/793 [============================>.] - ETA: 0s - loss: 0.0126 - mean_squared_error: 0.0017 - root_mean_squared_error: 0.0410 - noiseToSignalLoss: 24.3161"
     ]
    },
    {
     "output_type": "stream",
     "name": "stderr",
     "text": [
      "\u001B[32m[I 2022-06-29 20:48:44,052]\u001B[0m Trial 146 pruned. Trial was pruned at epoch 4.\u001B[0m\n"
     ]
    },
    {
     "output_type": "stream",
     "name": "stdout",
     "text": [
      "Epoch 1/20\n",
      "785/785 [==============================] - 5s 5ms/step - loss: 0.0170 - mean_squared_error: 0.0021 - root_mean_squared_error: 0.0456 - noiseToSignalLoss: 62.0315 - val_loss: 0.0126 - val_mean_squared_error: 0.0018 - val_root_mean_squared_error: 0.0421 - val_noiseToSignalLoss: 18.0211\n",
      "Epoch 2/20\n",
      "783/785 [============================>.] - ETA: 0s - loss: 0.0130 - mean_squared_error: 0.0017 - root_mean_squared_error: 0.0410 - noiseToSignalLoss: 22.4445"
     ]
    },
    {
     "output_type": "stream",
     "name": "stderr",
     "text": [
      "\u001B[32m[I 2022-06-29 20:50:37,999]\u001B[0m Trial 147 pruned. Trial was pruned at epoch 1.\u001B[0m\n"
     ]
    },
    {
     "output_type": "stream",
     "name": "stdout",
     "text": [
      "Epoch 1/20\n",
      "793/793 [==============================] - 5s 5ms/step - loss: 0.0794 - mean_squared_error: 0.0155 - root_mean_squared_error: 0.1244 - noiseToSignalLoss: 2426.6533 - val_loss: 0.0183 - val_mean_squared_error: 0.0020 - val_root_mean_squared_error: 0.0450 - val_noiseToSignalLoss: 48.5613\n",
      "Epoch 2/20\n",
      "790/793 [============================>.] - ETA: 0s - loss: 0.0269 - mean_squared_error: 0.0026 - root_mean_squared_error: 0.0508 - noiseToSignalLoss: 122.2491"
     ]
    },
    {
     "output_type": "stream",
     "name": "stderr",
     "text": [
      "\u001B[32m[I 2022-06-29 20:52:32,059]\u001B[0m Trial 148 pruned. Trial was pruned at epoch 1.\u001B[0m\n"
     ]
    },
    {
     "output_type": "stream",
     "name": "stdout",
     "text": [
      "Epoch 1/20\n",
      "800/800 [==============================] - 5s 5ms/step - loss: 0.0212 - mean_squared_error: 0.0027 - root_mean_squared_error: 0.0518 - noiseToSignalLoss: 169.9142 - val_loss: 0.0143 - val_mean_squared_error: 0.0018 - val_root_mean_squared_error: 0.0420 - val_noiseToSignalLoss: 35.1832\n",
      "Epoch 2/20\n",
      "798/800 [============================>.] - ETA: 0s - loss: 0.0142 - mean_squared_error: 0.0017 - root_mean_squared_error: 0.0418 - noiseToSignalLoss: 27.1724"
     ]
    },
    {
     "output_type": "stream",
     "name": "stderr",
     "text": [
      "\u001B[32m[I 2022-06-29 20:54:26,732]\u001B[0m Trial 149 pruned. Trial was pruned at epoch 1.\u001B[0m\n"
     ]
    },
    {
     "output_type": "stream",
     "name": "stdout",
     "text": [
      "Epoch 1/20\n",
      "756/756 [==============================] - 5s 5ms/step - loss: 0.0182 - mean_squared_error: 0.0024 - root_mean_squared_error: 0.0485 - noiseToSignalLoss: 96.6248 - val_loss: 0.0140 - val_mean_squared_error: 0.0019 - val_root_mean_squared_error: 0.0432 - val_noiseToSignalLoss: 13.1855\n",
      "Epoch 2/20\n",
      "751/756 [============================>.] - ETA: 0s - loss: 0.0133 - mean_squared_error: 0.0017 - root_mean_squared_error: 0.0410 - noiseToSignalLoss: 20.5545"
     ]
    },
    {
     "output_type": "stream",
     "name": "stderr",
     "text": [
      "\u001B[32m[I 2022-06-29 20:56:18,116]\u001B[0m Trial 150 pruned. Trial was pruned at epoch 1.\u001B[0m\n"
     ]
    },
    {
     "output_type": "stream",
     "name": "stdout",
     "text": [
      "Epoch 1/20\n",
      "793/793 [==============================] - 5s 5ms/step - loss: 0.0165 - mean_squared_error: 0.0020 - root_mean_squared_error: 0.0445 - noiseToSignalLoss: 49.7205 - val_loss: 0.0128 - val_mean_squared_error: 0.0016 - val_root_mean_squared_error: 0.0404 - val_noiseToSignalLoss: 26.1445\n",
      "Epoch 2/20\n",
      "793/793 [==============================] - 4s 5ms/step - loss: 0.0131 - mean_squared_error: 0.0017 - root_mean_squared_error: 0.0412 - noiseToSignalLoss: 23.8144 - val_loss: 0.0121 - val_mean_squared_error: 0.0016 - val_root_mean_squared_error: 0.0397 - val_noiseToSignalLoss: 33.6859\n",
      "Epoch 3/20\n",
      "793/793 [==============================] - 4s 5ms/step - loss: 0.0126 - mean_squared_error: 0.0017 - root_mean_squared_error: 0.0408 - noiseToSignalLoss: 22.9420 - val_loss: 0.0119 - val_mean_squared_error: 0.0015 - val_root_mean_squared_error: 0.0392 - val_noiseToSignalLoss: 33.1746\n",
      "Epoch 4/20\n",
      "793/793 [==============================] - 4s 5ms/step - loss: 0.0123 - mean_squared_error: 0.0016 - root_mean_squared_error: 0.0404 - noiseToSignalLoss: 21.8784 - val_loss: 0.0120 - val_mean_squared_error: 0.0015 - val_root_mean_squared_error: 0.0387 - val_noiseToSignalLoss: 38.8259\n",
      "Epoch 5/20\n",
      "784/793 [============================>.] - ETA: 0s - loss: 0.0122 - mean_squared_error: 0.0016 - root_mean_squared_error: 0.0401 - noiseToSignalLoss: 20.6372"
     ]
    },
    {
     "output_type": "stream",
     "name": "stderr",
     "text": [
      "\u001B[32m[I 2022-06-29 20:58:23,803]\u001B[0m Trial 151 pruned. Trial was pruned at epoch 4.\u001B[0m\n"
     ]
    },
    {
     "output_type": "stream",
     "name": "stdout",
     "text": [
      "Epoch 1/20\n",
      "793/793 [==============================] - 6s 5ms/step - loss: 0.0632 - mean_squared_error: 0.0076 - root_mean_squared_error: 0.0873 - noiseToSignalLoss: 983.2576 - val_loss: 0.0198 - val_mean_squared_error: 0.0021 - val_root_mean_squared_error: 0.0459 - val_noiseToSignalLoss: 46.7265\n",
      "Epoch 2/20\n",
      "783/793 [============================>.] - ETA: 0s - loss: 0.0338 - mean_squared_error: 0.0031 - root_mean_squared_error: 0.0558 - noiseToSignalLoss: 209.9181"
     ]
    },
    {
     "output_type": "stream",
     "name": "stderr",
     "text": [
      "\u001B[32m[I 2022-06-29 21:00:18,337]\u001B[0m Trial 152 pruned. Trial was pruned at epoch 1.\u001B[0m\n"
     ]
    },
    {
     "output_type": "stream",
     "name": "stdout",
     "text": [
      "Epoch 1/20\n",
      "793/793 [==============================] - 5s 5ms/step - loss: 0.0173 - mean_squared_error: 0.0021 - root_mean_squared_error: 0.0459 - noiseToSignalLoss: 64.4827 - val_loss: 0.0134 - val_mean_squared_error: 0.0016 - val_root_mean_squared_error: 0.0401 - val_noiseToSignalLoss: 37.3203\n",
      "Epoch 2/20\n",
      "793/793 [==============================] - 4s 5ms/step - loss: 0.0133 - mean_squared_error: 0.0017 - root_mean_squared_error: 0.0415 - noiseToSignalLoss: 24.5187 - val_loss: 0.0120 - val_mean_squared_error: 0.0016 - val_root_mean_squared_error: 0.0397 - val_noiseToSignalLoss: 31.6663\n",
      "Epoch 3/20\n",
      "793/793 [==============================] - 4s 5ms/step - loss: 0.0127 - mean_squared_error: 0.0017 - root_mean_squared_error: 0.0409 - noiseToSignalLoss: 22.6092 - val_loss: 0.0121 - val_mean_squared_error: 0.0015 - val_root_mean_squared_error: 0.0392 - val_noiseToSignalLoss: 39.3596\n",
      "Epoch 4/20\n",
      "793/793 [==============================] - 4s 5ms/step - loss: 0.0124 - mean_squared_error: 0.0016 - root_mean_squared_error: 0.0406 - noiseToSignalLoss: 22.3589 - val_loss: 0.0125 - val_mean_squared_error: 0.0016 - val_root_mean_squared_error: 0.0395 - val_noiseToSignalLoss: 33.6303\n",
      "Epoch 5/20\n",
      "787/793 [============================>.] - ETA: 0s - loss: 0.0123 - mean_squared_error: 0.0016 - root_mean_squared_error: 0.0402 - noiseToSignalLoss: 21.9040"
     ]
    },
    {
     "output_type": "stream",
     "name": "stderr",
     "text": [
      "\u001B[32m[I 2022-06-29 21:02:24,369]\u001B[0m Trial 153 pruned. Trial was pruned at epoch 4.\u001B[0m\n"
     ]
    },
    {
     "output_type": "stream",
     "name": "stdout",
     "text": [
      "Epoch 1/20\n",
      "793/793 [==============================] - 5s 5ms/step - loss: 0.0176 - mean_squared_error: 0.0021 - root_mean_squared_error: 0.0456 - noiseToSignalLoss: 59.9842 - val_loss: 0.0126 - val_mean_squared_error: 0.0016 - val_root_mean_squared_error: 0.0403 - val_noiseToSignalLoss: 22.5905\n",
      "Epoch 2/20\n",
      "793/793 [==============================] - 4s 5ms/step - loss: 0.0134 - mean_squared_error: 0.0017 - root_mean_squared_error: 0.0414 - noiseToSignalLoss: 23.0587 - val_loss: 0.0121 - val_mean_squared_error: 0.0016 - val_root_mean_squared_error: 0.0397 - val_noiseToSignalLoss: 33.1130\n",
      "Epoch 3/20\n",
      "793/793 [==============================] - 4s 5ms/step - loss: 0.0129 - mean_squared_error: 0.0017 - root_mean_squared_error: 0.0411 - noiseToSignalLoss: 22.8875 - val_loss: 0.0123 - val_mean_squared_error: 0.0016 - val_root_mean_squared_error: 0.0396 - val_noiseToSignalLoss: 32.8754\n",
      "Epoch 4/20\n",
      "793/793 [==============================] - 4s 5ms/step - loss: 0.0126 - mean_squared_error: 0.0017 - root_mean_squared_error: 0.0408 - noiseToSignalLoss: 22.6401 - val_loss: 0.0120 - val_mean_squared_error: 0.0016 - val_root_mean_squared_error: 0.0394 - val_noiseToSignalLoss: 31.9052\n",
      "Epoch 5/20\n",
      "786/793 [============================>.] - ETA: 0s - loss: 0.0124 - mean_squared_error: 0.0017 - root_mean_squared_error: 0.0406 - noiseToSignalLoss: 22.6936"
     ]
    },
    {
     "output_type": "stream",
     "name": "stderr",
     "text": [
      "\u001B[32m[I 2022-06-29 21:04:52,148]\u001B[0m Trial 154 pruned. Trial was pruned at epoch 4.\u001B[0m\n"
     ]
    },
    {
     "output_type": "stream",
     "name": "stdout",
     "text": [
      "Epoch 1/20\n",
      "793/793 [==============================] - 5s 5ms/step - loss: 0.0644 - mean_squared_error: 0.0076 - root_mean_squared_error: 0.0872 - noiseToSignalLoss: 1025.3118 - val_loss: 0.0218 - val_mean_squared_error: 0.0024 - val_root_mean_squared_error: 0.0489 - val_noiseToSignalLoss: 117.8608\n",
      "Epoch 2/20\n",
      "791/793 [============================>.] - ETA: 0s - loss: 0.0470 - mean_squared_error: 0.0047 - root_mean_squared_error: 0.0683 - noiseToSignalLoss: 484.2403"
     ]
    },
    {
     "output_type": "stream",
     "name": "stderr",
     "text": [
      "\u001B[32m[I 2022-06-29 21:06:47,008]\u001B[0m Trial 155 pruned. Trial was pruned at epoch 1.\u001B[0m\n"
     ]
    },
    {
     "output_type": "stream",
     "name": "stdout",
     "text": [
      "Epoch 1/20\n",
      "793/793 [==============================] - 5s 5ms/step - loss: 0.0169 - mean_squared_error: 0.0021 - root_mean_squared_error: 0.0453 - noiseToSignalLoss: 65.2194 - val_loss: 0.0127 - val_mean_squared_error: 0.0016 - val_root_mean_squared_error: 0.0396 - val_noiseToSignalLoss: 32.2156\n",
      "Epoch 2/20\n",
      "790/793 [============================>.] - ETA: 0s - loss: 0.0129 - mean_squared_error: 0.0017 - root_mean_squared_error: 0.0408 - noiseToSignalLoss: 23.3050"
     ]
    },
    {
     "output_type": "stream",
     "name": "stderr",
     "text": [
      "\u001B[32m[I 2022-06-29 21:08:41,224]\u001B[0m Trial 156 pruned. Trial was pruned at epoch 1.\u001B[0m\n"
     ]
    },
    {
     "output_type": "stream",
     "name": "stdout",
     "text": [
      "Epoch 1/20\n",
      "793/793 [==============================] - 5s 5ms/step - loss: 0.0498 - mean_squared_error: 0.0058 - root_mean_squared_error: 0.0765 - noiseToSignalLoss: 731.3876 - val_loss: 0.0167 - val_mean_squared_error: 0.0020 - val_root_mean_squared_error: 0.0442 - val_noiseToSignalLoss: 25.6602\n",
      "Epoch 2/20\n",
      "793/793 [==============================] - ETA: 0s - loss: 0.0239 - mean_squared_error: 0.0023 - root_mean_squared_error: 0.0484 - noiseToSignalLoss: 79.3856"
     ]
    },
    {
     "output_type": "stream",
     "name": "stderr",
     "text": [
      "\u001B[32m[I 2022-06-29 21:10:35,716]\u001B[0m Trial 157 pruned. Trial was pruned at epoch 1.\u001B[0m\n"
     ]
    },
    {
     "output_type": "stream",
     "name": "stdout",
     "text": [
      "Epoch 1/20\n",
      "774/774 [==============================] - 5s 5ms/step - loss: 0.0172 - mean_squared_error: 0.0021 - root_mean_squared_error: 0.0454 - noiseToSignalLoss: 53.8351 - val_loss: 0.0127 - val_mean_squared_error: 0.0016 - val_root_mean_squared_error: 0.0396 - val_noiseToSignalLoss: 13.0839\n",
      "Epoch 2/20\n",
      "774/774 [==============================] - 4s 5ms/step - loss: 0.0133 - mean_squared_error: 0.0017 - root_mean_squared_error: 0.0413 - noiseToSignalLoss: 21.2056 - val_loss: 0.0122 - val_mean_squared_error: 0.0015 - val_root_mean_squared_error: 0.0393 - val_noiseToSignalLoss: 18.0479\n",
      "Epoch 3/20\n",
      "774/774 [==============================] - 4s 5ms/step - loss: 0.0127 - mean_squared_error: 0.0017 - root_mean_squared_error: 0.0408 - noiseToSignalLoss: 20.0396 - val_loss: 0.0121 - val_mean_squared_error: 0.0015 - val_root_mean_squared_error: 0.0385 - val_noiseToSignalLoss: 24.3655\n",
      "Epoch 4/20\n",
      "774/774 [==============================] - 4s 5ms/step - loss: 0.0125 - mean_squared_error: 0.0016 - root_mean_squared_error: 0.0404 - noiseToSignalLoss: 19.1946 - val_loss: 0.0121 - val_mean_squared_error: 0.0015 - val_root_mean_squared_error: 0.0388 - val_noiseToSignalLoss: 18.3345\n",
      "Epoch 5/20\n",
      "766/774 [============================>.] - ETA: 0s - loss: 0.0123 - mean_squared_error: 0.0016 - root_mean_squared_error: 0.0402 - noiseToSignalLoss: 19.0042"
     ]
    },
    {
     "output_type": "stream",
     "name": "stderr",
     "text": [
      "\u001B[32m[I 2022-06-29 21:12:40,439]\u001B[0m Trial 158 pruned. Trial was pruned at epoch 4.\u001B[0m\n"
     ]
    },
    {
     "output_type": "stream",
     "name": "stdout",
     "text": [
      "Epoch 1/20\n",
      "793/793 [==============================] - 5s 5ms/step - loss: 0.0179 - mean_squared_error: 0.0021 - root_mean_squared_error: 0.0463 - noiseToSignalLoss: 79.0528 - val_loss: 0.0153 - val_mean_squared_error: 0.0018 - val_root_mean_squared_error: 0.0422 - val_noiseToSignalLoss: 21.1233\n",
      "Epoch 2/20\n",
      "786/793 [============================>.] - ETA: 0s - loss: 0.0137 - mean_squared_error: 0.0017 - root_mean_squared_error: 0.0415 - noiseToSignalLoss: 25.2433"
     ]
    },
    {
     "output_type": "stream",
     "name": "stderr",
     "text": [
      "\u001B[32m[I 2022-06-29 21:14:34,450]\u001B[0m Trial 159 pruned. Trial was pruned at epoch 1.\u001B[0m\n"
     ]
    },
    {
     "output_type": "stream",
     "name": "stdout",
     "text": [
      "Epoch 1/20\n",
      "785/785 [==============================] - 5s 5ms/step - loss: 0.0187 - mean_squared_error: 0.0022 - root_mean_squared_error: 0.0469 - noiseToSignalLoss: 68.9117 - val_loss: 0.0134 - val_mean_squared_error: 0.0018 - val_root_mean_squared_error: 0.0424 - val_noiseToSignalLoss: 17.4325\n",
      "Epoch 2/20\n",
      "779/785 [============================>.] - ETA: 0s - loss: 0.0138 - mean_squared_error: 0.0017 - root_mean_squared_error: 0.0417 - noiseToSignalLoss: 23.3924"
     ]
    },
    {
     "output_type": "stream",
     "name": "stderr",
     "text": [
      "\u001B[32m[I 2022-06-29 21:16:29,594]\u001B[0m Trial 160 pruned. Trial was pruned at epoch 1.\u001B[0m\n"
     ]
    },
    {
     "output_type": "stream",
     "name": "stdout",
     "text": [
      "Epoch 1/20\n",
      "793/793 [==============================] - 5s 5ms/step - loss: 0.0174 - mean_squared_error: 0.0020 - root_mean_squared_error: 0.0452 - noiseToSignalLoss: 60.9273 - val_loss: 0.0132 - val_mean_squared_error: 0.0016 - val_root_mean_squared_error: 0.0404 - val_noiseToSignalLoss: 28.4950\n",
      "Epoch 2/20\n",
      "789/793 [============================>.] - ETA: 0s - loss: 0.0134 - mean_squared_error: 0.0017 - root_mean_squared_error: 0.0415 - noiseToSignalLoss: 24.2525"
     ]
    },
    {
     "output_type": "stream",
     "name": "stderr",
     "text": [
      "\u001B[32m[I 2022-06-29 21:18:23,222]\u001B[0m Trial 161 pruned. Trial was pruned at epoch 1.\u001B[0m\n"
     ]
    },
    {
     "output_type": "stream",
     "name": "stdout",
     "text": [
      "Epoch 1/20\n",
      "793/793 [==============================] - 5s 5ms/step - loss: 0.0181 - mean_squared_error: 0.0023 - root_mean_squared_error: 0.0476 - noiseToSignalLoss: 102.4586 - val_loss: 0.0133 - val_mean_squared_error: 0.0017 - val_root_mean_squared_error: 0.0409 - val_noiseToSignalLoss: 20.3892\n",
      "Epoch 2/20\n",
      "793/793 [==============================] - 4s 5ms/step - loss: 0.0133 - mean_squared_error: 0.0017 - root_mean_squared_error: 0.0415 - noiseToSignalLoss: 23.7373 - val_loss: 0.0123 - val_mean_squared_error: 0.0016 - val_root_mean_squared_error: 0.0398 - val_noiseToSignalLoss: 29.8686\n",
      "Epoch 3/20\n",
      "793/793 [==============================] - 4s 5ms/step - loss: 0.0127 - mean_squared_error: 0.0017 - root_mean_squared_error: 0.0409 - noiseToSignalLoss: 23.2542 - val_loss: 0.0121 - val_mean_squared_error: 0.0016 - val_root_mean_squared_error: 0.0395 - val_noiseToSignalLoss: 28.3266\n",
      "Epoch 4/20\n",
      "793/793 [==============================] - 4s 5ms/step - loss: 0.0125 - mean_squared_error: 0.0016 - root_mean_squared_error: 0.0406 - noiseToSignalLoss: 22.4302 - val_loss: 0.0122 - val_mean_squared_error: 0.0015 - val_root_mean_squared_error: 0.0393 - val_noiseToSignalLoss: 25.3177\n",
      "Epoch 5/20\n",
      "793/793 [==============================] - 4s 5ms/step - loss: 0.0123 - mean_squared_error: 0.0016 - root_mean_squared_error: 0.0403 - noiseToSignalLoss: 21.8480 - val_loss: 0.0118 - val_mean_squared_error: 0.0015 - val_root_mean_squared_error: 0.0385 - val_noiseToSignalLoss: 31.9935\n",
      "Epoch 6/20\n",
      "793/793 [==============================] - 4s 5ms/step - loss: 0.0122 - mean_squared_error: 0.0016 - root_mean_squared_error: 0.0399 - noiseToSignalLoss: 20.8352 - val_loss: 0.0116 - val_mean_squared_error: 0.0015 - val_root_mean_squared_error: 0.0384 - val_noiseToSignalLoss: 31.5550\n",
      "Epoch 7/20\n",
      "793/793 [==============================] - 4s 5ms/step - loss: 0.0120 - mean_squared_error: 0.0016 - root_mean_squared_error: 0.0394 - noiseToSignalLoss: 19.7494 - val_loss: 0.0119 - val_mean_squared_error: 0.0014 - val_root_mean_squared_error: 0.0377 - val_noiseToSignalLoss: 21.5546\n",
      "Epoch 8/20\n",
      "793/793 [==============================] - 4s 5ms/step - loss: 0.0118 - mean_squared_error: 0.0015 - root_mean_squared_error: 0.0387 - noiseToSignalLoss: 16.7705 - val_loss: 0.0115 - val_mean_squared_error: 0.0014 - val_root_mean_squared_error: 0.0371 - val_noiseToSignalLoss: 18.5268\n",
      "Epoch 9/20\n",
      "793/793 [==============================] - 4s 5ms/step - loss: 0.0118 - mean_squared_error: 0.0015 - root_mean_squared_error: 0.0385 - noiseToSignalLoss: 15.9663 - val_loss: 0.0114 - val_mean_squared_error: 0.0014 - val_root_mean_squared_error: 0.0374 - val_noiseToSignalLoss: 14.4060\n",
      "Epoch 10/20\n",
      "793/793 [==============================] - 4s 5ms/step - loss: 0.0116 - mean_squared_error: 0.0015 - root_mean_squared_error: 0.0383 - noiseToSignalLoss: 15.4793 - val_loss: 0.0113 - val_mean_squared_error: 0.0014 - val_root_mean_squared_error: 0.0368 - val_noiseToSignalLoss: 16.4177\n",
      "Epoch 11/20\n",
      "793/793 [==============================] - 4s 5ms/step - loss: 0.0116 - mean_squared_error: 0.0015 - root_mean_squared_error: 0.0381 - noiseToSignalLoss: 15.4654 - val_loss: 0.0114 - val_mean_squared_error: 0.0013 - val_root_mean_squared_error: 0.0367 - val_noiseToSignalLoss: 19.1639\n",
      "Epoch 12/20\n",
      "793/793 [==============================] - 4s 5ms/step - loss: 0.0115 - mean_squared_error: 0.0014 - root_mean_squared_error: 0.0380 - noiseToSignalLoss: 15.4323 - val_loss: 0.0113 - val_mean_squared_error: 0.0013 - val_root_mean_squared_error: 0.0365 - val_noiseToSignalLoss: 17.6616\n",
      "Epoch 13/20\n",
      "793/793 [==============================] - 4s 5ms/step - loss: 0.0115 - mean_squared_error: 0.0014 - root_mean_squared_error: 0.0379 - noiseToSignalLoss: 15.5605 - val_loss: 0.0113 - val_mean_squared_error: 0.0014 - val_root_mean_squared_error: 0.0371 - val_noiseToSignalLoss: 13.7774\n",
      "Epoch 14/20\n",
      "793/793 [==============================] - 4s 5ms/step - loss: 0.0114 - mean_squared_error: 0.0014 - root_mean_squared_error: 0.0378 - noiseToSignalLoss: 15.2711 - val_loss: 0.0111 - val_mean_squared_error: 0.0013 - val_root_mean_squared_error: 0.0366 - val_noiseToSignalLoss: 17.2368\n",
      "Epoch 15/20\n",
      "793/793 [==============================] - 4s 5ms/step - loss: 0.0114 - mean_squared_error: 0.0014 - root_mean_squared_error: 0.0378 - noiseToSignalLoss: 15.6264 - val_loss: 0.0113 - val_mean_squared_error: 0.0014 - val_root_mean_squared_error: 0.0369 - val_noiseToSignalLoss: 15.7843\n",
      "Epoch 16/20\n",
      "793/793 [==============================] - 4s 5ms/step - loss: 0.0114 - mean_squared_error: 0.0014 - root_mean_squared_error: 0.0378 - noiseToSignalLoss: 15.4643 - val_loss: 0.0113 - val_mean_squared_error: 0.0013 - val_root_mean_squared_error: 0.0366 - val_noiseToSignalLoss: 18.1067\n",
      "Epoch 17/20\n",
      "784/793 [============================>.] - ETA: 0s - loss: 0.0114 - mean_squared_error: 0.0014 - root_mean_squared_error: 0.0377 - noiseToSignalLoss: 15.2985"
     ]
    },
    {
     "output_type": "stream",
     "name": "stderr",
     "text": [
      "\u001B[32m[I 2022-06-29 21:21:16,537]\u001B[0m Trial 162 pruned. Trial was pruned at epoch 16.\u001B[0m\n"
     ]
    },
    {
     "output_type": "stream",
     "name": "stdout",
     "text": [
      "Epoch 1/20\n",
      "793/793 [==============================] - 6s 5ms/step - loss: 0.0180 - mean_squared_error: 0.0021 - root_mean_squared_error: 0.0459 - noiseToSignalLoss: 69.3163 - val_loss: 0.0130 - val_mean_squared_error: 0.0016 - val_root_mean_squared_error: 0.0400 - val_noiseToSignalLoss: 39.4247\n",
      "Epoch 2/20\n",
      "793/793 [==============================] - 4s 5ms/step - loss: 0.0134 - mean_squared_error: 0.0017 - root_mean_squared_error: 0.0415 - noiseToSignalLoss: 29.8733 - val_loss: 0.0123 - val_mean_squared_error: 0.0016 - val_root_mean_squared_error: 0.0399 - val_noiseToSignalLoss: 35.9547\n",
      "Epoch 3/20\n",
      "793/793 [==============================] - 4s 5ms/step - loss: 0.0129 - mean_squared_error: 0.0017 - root_mean_squared_error: 0.0411 - noiseToSignalLoss: 26.7757 - val_loss: 0.0123 - val_mean_squared_error: 0.0015 - val_root_mean_squared_error: 0.0394 - val_noiseToSignalLoss: 40.4581\n",
      "Epoch 4/20\n",
      "793/793 [==============================] - 4s 5ms/step - loss: 0.0126 - mean_squared_error: 0.0017 - root_mean_squared_error: 0.0408 - noiseToSignalLoss: 25.7393 - val_loss: 0.0120 - val_mean_squared_error: 0.0015 - val_root_mean_squared_error: 0.0393 - val_noiseToSignalLoss: 38.1972\n",
      "Epoch 5/20\n",
      "787/793 [============================>.] - ETA: 0s - loss: 0.0124 - mean_squared_error: 0.0017 - root_mean_squared_error: 0.0408 - noiseToSignalLoss: 24.8087"
     ]
    },
    {
     "output_type": "stream",
     "name": "stderr",
     "text": [
      "\u001B[32m[I 2022-06-29 21:23:22,996]\u001B[0m Trial 163 pruned. Trial was pruned at epoch 4.\u001B[0m\n"
     ]
    },
    {
     "output_type": "stream",
     "name": "stdout",
     "text": [
      "Epoch 1/20\n",
      "793/793 [==============================] - 5s 5ms/step - loss: 0.0172 - mean_squared_error: 0.0020 - root_mean_squared_error: 0.0450 - noiseToSignalLoss: 54.4959 - val_loss: 0.0133 - val_mean_squared_error: 0.0016 - val_root_mean_squared_error: 0.0398 - val_noiseToSignalLoss: 34.4127\n",
      "Epoch 2/20\n",
      "793/793 [==============================] - 4s 5ms/step - loss: 0.0134 - mean_squared_error: 0.0017 - root_mean_squared_error: 0.0413 - noiseToSignalLoss: 23.3201 - val_loss: 0.0122 - val_mean_squared_error: 0.0016 - val_root_mean_squared_error: 0.0396 - val_noiseToSignalLoss: 38.9047\n",
      "Epoch 3/20\n",
      "793/793 [==============================] - 4s 5ms/step - loss: 0.0127 - mean_squared_error: 0.0017 - root_mean_squared_error: 0.0409 - noiseToSignalLoss: 22.7510 - val_loss: 0.0121 - val_mean_squared_error: 0.0016 - val_root_mean_squared_error: 0.0395 - val_noiseToSignalLoss: 38.1997\n",
      "Epoch 4/20\n",
      "793/793 [==============================] - 4s 5ms/step - loss: 0.0125 - mean_squared_error: 0.0016 - root_mean_squared_error: 0.0406 - noiseToSignalLoss: 22.2849 - val_loss: 0.0119 - val_mean_squared_error: 0.0015 - val_root_mean_squared_error: 0.0390 - val_noiseToSignalLoss: 40.7957\n",
      "Epoch 5/20\n",
      "791/793 [============================>.] - ETA: 0s - loss: 0.0123 - mean_squared_error: 0.0016 - root_mean_squared_error: 0.0404 - noiseToSignalLoss: 21.8410"
     ]
    },
    {
     "output_type": "stream",
     "name": "stderr",
     "text": [
      "\u001B[32m[I 2022-06-29 21:25:28,553]\u001B[0m Trial 164 pruned. Trial was pruned at epoch 4.\u001B[0m\n"
     ]
    },
    {
     "output_type": "stream",
     "name": "stdout",
     "text": [
      "Epoch 1/20\n",
      "793/793 [==============================] - 5s 5ms/step - loss: 0.0178 - mean_squared_error: 0.0021 - root_mean_squared_error: 0.0457 - noiseToSignalLoss: 68.5957 - val_loss: 0.0127 - val_mean_squared_error: 0.0016 - val_root_mean_squared_error: 0.0406 - val_noiseToSignalLoss: 22.2245\n",
      "Epoch 2/20\n",
      "790/793 [============================>.] - ETA: 0s - loss: 0.0135 - mean_squared_error: 0.0017 - root_mean_squared_error: 0.0415 - noiseToSignalLoss: 23.6913"
     ]
    },
    {
     "output_type": "stream",
     "name": "stderr",
     "text": [
      "\u001B[32m[I 2022-06-29 21:27:22,672]\u001B[0m Trial 165 pruned. Trial was pruned at epoch 1.\u001B[0m\n"
     ]
    },
    {
     "output_type": "stream",
     "name": "stdout",
     "text": [
      "Epoch 1/20\n",
      "800/800 [==============================] - 5s 5ms/step - loss: 0.0175 - mean_squared_error: 0.0021 - root_mean_squared_error: 0.0454 - noiseToSignalLoss: 62.6009 - val_loss: 0.0131 - val_mean_squared_error: 0.0018 - val_root_mean_squared_error: 0.0419 - val_noiseToSignalLoss: 11.6623\n",
      "Epoch 2/20\n",
      "798/800 [============================>.] - ETA: 0s - loss: 0.0135 - mean_squared_error: 0.0017 - root_mean_squared_error: 0.0409 - noiseToSignalLoss: 23.0879"
     ]
    },
    {
     "output_type": "stream",
     "name": "stderr",
     "text": [
      "\u001B[32m[I 2022-06-29 21:29:19,349]\u001B[0m Trial 166 pruned. Trial was pruned at epoch 1.\u001B[0m\n"
     ]
    },
    {
     "output_type": "stream",
     "name": "stdout",
     "text": [
      "Epoch 1/20\n",
      "793/793 [==============================] - 5s 5ms/step - loss: 0.0159 - mean_squared_error: 0.0019 - root_mean_squared_error: 0.0439 - noiseToSignalLoss: 40.1399 - val_loss: 0.0128 - val_mean_squared_error: 0.0016 - val_root_mean_squared_error: 0.0397 - val_noiseToSignalLoss: 31.7017\n",
      "Epoch 2/20\n",
      "793/793 [==============================] - 4s 5ms/step - loss: 0.0128 - mean_squared_error: 0.0017 - root_mean_squared_error: 0.0407 - noiseToSignalLoss: 22.2971 - val_loss: 0.0118 - val_mean_squared_error: 0.0015 - val_root_mean_squared_error: 0.0389 - val_noiseToSignalLoss: 26.9404\n",
      "Epoch 3/20\n",
      "793/793 [==============================] - 4s 5ms/step - loss: 0.0124 - mean_squared_error: 0.0016 - root_mean_squared_error: 0.0397 - noiseToSignalLoss: 19.0585 - val_loss: 0.0116 - val_mean_squared_error: 0.0014 - val_root_mean_squared_error: 0.0379 - val_noiseToSignalLoss: 22.3574\n",
      "Epoch 4/20\n",
      "793/793 [==============================] - 4s 5ms/step - loss: 0.0120 - mean_squared_error: 0.0015 - root_mean_squared_error: 0.0389 - noiseToSignalLoss: 17.5793 - val_loss: 0.0116 - val_mean_squared_error: 0.0014 - val_root_mean_squared_error: 0.0375 - val_noiseToSignalLoss: 16.6018\n",
      "Epoch 5/20\n",
      "787/793 [============================>.] - ETA: 0s - loss: 0.0119 - mean_squared_error: 0.0015 - root_mean_squared_error: 0.0386 - noiseToSignalLoss: 16.5856"
     ]
    },
    {
     "output_type": "stream",
     "name": "stderr",
     "text": [
      "\u001B[32m[I 2022-06-29 21:31:25,200]\u001B[0m Trial 167 pruned. Trial was pruned at epoch 4.\u001B[0m\n"
     ]
    },
    {
     "output_type": "stream",
     "name": "stdout",
     "text": [
      "Epoch 1/20\n",
      "793/793 [==============================] - 5s 5ms/step - loss: 0.0168 - mean_squared_error: 0.0020 - root_mean_squared_error: 0.0451 - noiseToSignalLoss: 67.9358 - val_loss: 0.0133 - val_mean_squared_error: 0.0016 - val_root_mean_squared_error: 0.0397 - val_noiseToSignalLoss: 41.2400\n",
      "Epoch 2/20\n",
      "793/793 [==============================] - 4s 5ms/step - loss: 0.0131 - mean_squared_error: 0.0017 - root_mean_squared_error: 0.0412 - noiseToSignalLoss: 27.2885 - val_loss: 0.0121 - val_mean_squared_error: 0.0016 - val_root_mean_squared_error: 0.0397 - val_noiseToSignalLoss: 28.9404\n",
      "Epoch 3/20\n",
      "793/793 [==============================] - 4s 5ms/step - loss: 0.0126 - mean_squared_error: 0.0017 - root_mean_squared_error: 0.0407 - noiseToSignalLoss: 24.5954 - val_loss: 0.0122 - val_mean_squared_error: 0.0015 - val_root_mean_squared_error: 0.0393 - val_noiseToSignalLoss: 34.2230\n",
      "Epoch 4/20\n",
      "793/793 [==============================] - 4s 5ms/step - loss: 0.0123 - mean_squared_error: 0.0016 - root_mean_squared_error: 0.0404 - noiseToSignalLoss: 23.1827 - val_loss: 0.0117 - val_mean_squared_error: 0.0015 - val_root_mean_squared_error: 0.0389 - val_noiseToSignalLoss: 39.0024\n",
      "Epoch 5/20\n",
      "793/793 [==============================] - 4s 5ms/step - loss: 0.0122 - mean_squared_error: 0.0016 - root_mean_squared_error: 0.0401 - noiseToSignalLoss: 22.3729 - val_loss: 0.0116 - val_mean_squared_error: 0.0015 - val_root_mean_squared_error: 0.0386 - val_noiseToSignalLoss: 36.9367\n",
      "Epoch 6/20\n",
      "793/793 [==============================] - 4s 5ms/step - loss: 0.0121 - mean_squared_error: 0.0016 - root_mean_squared_error: 0.0398 - noiseToSignalLoss: 20.8939 - val_loss: 0.0115 - val_mean_squared_error: 0.0015 - val_root_mean_squared_error: 0.0381 - val_noiseToSignalLoss: 29.5388\n",
      "Epoch 7/20\n",
      "793/793 [==============================] - 4s 5ms/step - loss: 0.0119 - mean_squared_error: 0.0015 - root_mean_squared_error: 0.0391 - noiseToSignalLoss: 18.9689 - val_loss: 0.0115 - val_mean_squared_error: 0.0014 - val_root_mean_squared_error: 0.0375 - val_noiseToSignalLoss: 21.4435\n",
      "Epoch 8/20\n",
      "793/793 [==============================] - 4s 5ms/step - loss: 0.0118 - mean_squared_error: 0.0015 - root_mean_squared_error: 0.0385 - noiseToSignalLoss: 16.6154 - val_loss: 0.0115 - val_mean_squared_error: 0.0014 - val_root_mean_squared_error: 0.0373 - val_noiseToSignalLoss: 15.1809\n",
      "Epoch 9/20\n",
      "793/793 [==============================] - 4s 5ms/step - loss: 0.0116 - mean_squared_error: 0.0015 - root_mean_squared_error: 0.0383 - noiseToSignalLoss: 16.0302 - val_loss: 0.0115 - val_mean_squared_error: 0.0013 - val_root_mean_squared_error: 0.0367 - val_noiseToSignalLoss: 21.2598\n",
      "Epoch 10/20\n",
      "793/793 [==============================] - 4s 5ms/step - loss: 0.0116 - mean_squared_error: 0.0015 - root_mean_squared_error: 0.0382 - noiseToSignalLoss: 15.5263 - val_loss: 0.0114 - val_mean_squared_error: 0.0013 - val_root_mean_squared_error: 0.0367 - val_noiseToSignalLoss: 16.9577\n",
      "Epoch 11/20\n",
      "793/793 [==============================] - 4s 5ms/step - loss: 0.0115 - mean_squared_error: 0.0014 - root_mean_squared_error: 0.0381 - noiseToSignalLoss: 15.1706 - val_loss: 0.0112 - val_mean_squared_error: 0.0013 - val_root_mean_squared_error: 0.0367 - val_noiseToSignalLoss: 16.5504\n",
      "Epoch 12/20\n",
      "793/793 [==============================] - 4s 5ms/step - loss: 0.0115 - mean_squared_error: 0.0014 - root_mean_squared_error: 0.0380 - noiseToSignalLoss: 15.2783 - val_loss: 0.0112 - val_mean_squared_error: 0.0013 - val_root_mean_squared_error: 0.0367 - val_noiseToSignalLoss: 16.6775\n",
      "Epoch 13/20\n",
      "793/793 [==============================] - 4s 5ms/step - loss: 0.0114 - mean_squared_error: 0.0014 - root_mean_squared_error: 0.0379 - noiseToSignalLoss: 15.0964 - val_loss: 0.0112 - val_mean_squared_error: 0.0014 - val_root_mean_squared_error: 0.0368 - val_noiseToSignalLoss: 15.0666\n",
      "Epoch 14/20\n",
      "793/793 [==============================] - 4s 5ms/step - loss: 0.0114 - mean_squared_error: 0.0014 - root_mean_squared_error: 0.0378 - noiseToSignalLoss: 15.2270 - val_loss: 0.0113 - val_mean_squared_error: 0.0014 - val_root_mean_squared_error: 0.0368 - val_noiseToSignalLoss: 15.3464\n",
      "Epoch 15/20\n",
      "793/793 [==============================] - 4s 5ms/step - loss: 0.0114 - mean_squared_error: 0.0014 - root_mean_squared_error: 0.0378 - noiseToSignalLoss: 15.4324 - val_loss: 0.0111 - val_mean_squared_error: 0.0013 - val_root_mean_squared_error: 0.0366 - val_noiseToSignalLoss: 15.5962\n",
      "Epoch 16/20\n",
      "793/793 [==============================] - 4s 5ms/step - loss: 0.0114 - mean_squared_error: 0.0014 - root_mean_squared_error: 0.0377 - noiseToSignalLoss: 15.4188 - val_loss: 0.0114 - val_mean_squared_error: 0.0013 - val_root_mean_squared_error: 0.0363 - val_noiseToSignalLoss: 22.7242\n",
      "Epoch 17/20\n",
      "787/793 [============================>.] - ETA: 0s - loss: 0.0113 - mean_squared_error: 0.0014 - root_mean_squared_error: 0.0376 - noiseToSignalLoss: 15.2160"
     ]
    },
    {
     "output_type": "stream",
     "name": "stderr",
     "text": [
      "\u001B[32m[I 2022-06-29 21:34:20,033]\u001B[0m Trial 168 pruned. Trial was pruned at epoch 16.\u001B[0m\n"
     ]
    },
    {
     "output_type": "stream",
     "name": "stdout",
     "text": [
      "Epoch 1/20\n",
      "774/774 [==============================] - 5s 5ms/step - loss: 0.0166 - mean_squared_error: 0.0020 - root_mean_squared_error: 0.0446 - noiseToSignalLoss: 51.5344 - val_loss: 0.0126 - val_mean_squared_error: 0.0015 - val_root_mean_squared_error: 0.0388 - val_noiseToSignalLoss: 26.4560\n",
      "Epoch 2/20\n",
      "774/774 [==============================] - 4s 5ms/step - loss: 0.0130 - mean_squared_error: 0.0017 - root_mean_squared_error: 0.0411 - noiseToSignalLoss: 23.4737 - val_loss: 0.0120 - val_mean_squared_error: 0.0015 - val_root_mean_squared_error: 0.0389 - val_noiseToSignalLoss: 21.2824\n",
      "Epoch 3/20\n",
      "774/774 [==============================] - 4s 5ms/step - loss: 0.0125 - mean_squared_error: 0.0017 - root_mean_squared_error: 0.0408 - noiseToSignalLoss: 22.3817 - val_loss: 0.0123 - val_mean_squared_error: 0.0015 - val_root_mean_squared_error: 0.0385 - val_noiseToSignalLoss: 26.4920\n",
      "Epoch 4/20\n",
      "774/774 [==============================] - 4s 5ms/step - loss: 0.0123 - mean_squared_error: 0.0016 - root_mean_squared_error: 0.0405 - noiseToSignalLoss: 21.2113 - val_loss: 0.0121 - val_mean_squared_error: 0.0015 - val_root_mean_squared_error: 0.0386 - val_noiseToSignalLoss: 26.3610\n",
      "Epoch 5/20\n",
      "764/774 [============================>.] - ETA: 0s - loss: 0.0122 - mean_squared_error: 0.0016 - root_mean_squared_error: 0.0404 - noiseToSignalLoss: 20.1833"
     ]
    },
    {
     "output_type": "stream",
     "name": "stderr",
     "text": [
      "\u001B[32m[I 2022-06-29 21:36:24,673]\u001B[0m Trial 169 pruned. Trial was pruned at epoch 4.\u001B[0m\n"
     ]
    },
    {
     "output_type": "stream",
     "name": "stdout",
     "text": [
      "Epoch 1/20\n",
      "793/793 [==============================] - 5s 5ms/step - loss: 0.0964 - mean_squared_error: 0.0152 - root_mean_squared_error: 0.1231 - noiseToSignalLoss: 2512.6614 - val_loss: 0.0368 - val_mean_squared_error: 0.0031 - val_root_mean_squared_error: 0.0559 - val_noiseToSignalLoss: 271.4211\n",
      "Epoch 2/20\n",
      "792/793 [============================>.] - ETA: 0s - loss: 0.0769 - mean_squared_error: 0.0102 - root_mean_squared_error: 0.1009 - noiseToSignalLoss: 1514.7954"
     ]
    },
    {
     "output_type": "stream",
     "name": "stderr",
     "text": [
      "\u001B[32m[I 2022-06-29 21:38:18,972]\u001B[0m Trial 170 pruned. Trial was pruned at epoch 1.\u001B[0m\n"
     ]
    },
    {
     "output_type": "stream",
     "name": "stdout",
     "text": [
      "Epoch 1/20\n",
      "793/793 [==============================] - 5s 5ms/step - loss: 0.0165 - mean_squared_error: 0.0020 - root_mean_squared_error: 0.0450 - noiseToSignalLoss: 60.6481 - val_loss: 0.0126 - val_mean_squared_error: 0.0016 - val_root_mean_squared_error: 0.0397 - val_noiseToSignalLoss: 33.1039\n",
      "Epoch 2/20\n",
      "793/793 [==============================] - 4s 5ms/step - loss: 0.0130 - mean_squared_error: 0.0017 - root_mean_squared_error: 0.0410 - noiseToSignalLoss: 22.9823 - val_loss: 0.0120 - val_mean_squared_error: 0.0016 - val_root_mean_squared_error: 0.0394 - val_noiseToSignalLoss: 35.0971\n",
      "Epoch 3/20\n",
      "793/793 [==============================] - 4s 5ms/step - loss: 0.0125 - mean_squared_error: 0.0016 - root_mean_squared_error: 0.0405 - noiseToSignalLoss: 22.5884 - val_loss: 0.0125 - val_mean_squared_error: 0.0015 - val_root_mean_squared_error: 0.0387 - val_noiseToSignalLoss: 45.3554\n",
      "Epoch 4/20\n",
      "793/793 [==============================] - 4s 5ms/step - loss: 0.0123 - mean_squared_error: 0.0016 - root_mean_squared_error: 0.0402 - noiseToSignalLoss: 21.7307 - val_loss: 0.0117 - val_mean_squared_error: 0.0015 - val_root_mean_squared_error: 0.0385 - val_noiseToSignalLoss: 31.8361\n",
      "Epoch 5/20\n",
      "793/793 [==============================] - 4s 5ms/step - loss: 0.0121 - mean_squared_error: 0.0016 - root_mean_squared_error: 0.0397 - noiseToSignalLoss: 20.0258 - val_loss: 0.0117 - val_mean_squared_error: 0.0014 - val_root_mean_squared_error: 0.0379 - val_noiseToSignalLoss: 25.0421\n",
      "Epoch 6/20\n",
      "793/793 [==============================] - 4s 5ms/step - loss: 0.0118 - mean_squared_error: 0.0015 - root_mean_squared_error: 0.0387 - noiseToSignalLoss: 17.3598 - val_loss: 0.0115 - val_mean_squared_error: 0.0014 - val_root_mean_squared_error: 0.0371 - val_noiseToSignalLoss: 20.0787\n",
      "Epoch 7/20\n",
      "793/793 [==============================] - 4s 5ms/step - loss: 0.0118 - mean_squared_error: 0.0015 - root_mean_squared_error: 0.0385 - noiseToSignalLoss: 16.7094 - val_loss: 0.0114 - val_mean_squared_error: 0.0014 - val_root_mean_squared_error: 0.0371 - val_noiseToSignalLoss: 16.9263\n",
      "Epoch 8/20\n",
      "793/793 [==============================] - 4s 5ms/step - loss: 0.0117 - mean_squared_error: 0.0015 - root_mean_squared_error: 0.0382 - noiseToSignalLoss: 16.2960 - val_loss: 0.0113 - val_mean_squared_error: 0.0014 - val_root_mean_squared_error: 0.0370 - val_noiseToSignalLoss: 14.8686\n",
      "Epoch 9/20\n",
      "793/793 [==============================] - 4s 5ms/step - loss: 0.0116 - mean_squared_error: 0.0014 - root_mean_squared_error: 0.0380 - noiseToSignalLoss: 15.9305 - val_loss: 0.0112 - val_mean_squared_error: 0.0014 - val_root_mean_squared_error: 0.0368 - val_noiseToSignalLoss: 16.8011\n",
      "Epoch 10/20\n",
      "793/793 [==============================] - 4s 5ms/step - loss: 0.0115 - mean_squared_error: 0.0014 - root_mean_squared_error: 0.0378 - noiseToSignalLoss: 16.0102 - val_loss: 0.0113 - val_mean_squared_error: 0.0014 - val_root_mean_squared_error: 0.0368 - val_noiseToSignalLoss: 18.8726\n",
      "Epoch 11/20\n",
      "793/793 [==============================] - 4s 5ms/step - loss: 0.0115 - mean_squared_error: 0.0014 - root_mean_squared_error: 0.0378 - noiseToSignalLoss: 16.4419 - val_loss: 0.0113 - val_mean_squared_error: 0.0013 - val_root_mean_squared_error: 0.0365 - val_noiseToSignalLoss: 19.4009\n",
      "Epoch 12/20\n",
      "793/793 [==============================] - 4s 6ms/step - loss: 0.0114 - mean_squared_error: 0.0014 - root_mean_squared_error: 0.0377 - noiseToSignalLoss: 16.1125 - val_loss: 0.0117 - val_mean_squared_error: 0.0014 - val_root_mean_squared_error: 0.0368 - val_noiseToSignalLoss: 18.7355\n",
      "Epoch 13/20\n",
      "793/793 [==============================] - 4s 5ms/step - loss: 0.0114 - mean_squared_error: 0.0014 - root_mean_squared_error: 0.0377 - noiseToSignalLoss: 15.6645 - val_loss: 0.0111 - val_mean_squared_error: 0.0013 - val_root_mean_squared_error: 0.0367 - val_noiseToSignalLoss: 15.1304\n",
      "Epoch 14/20\n",
      "793/793 [==============================] - 4s 5ms/step - loss: 0.0114 - mean_squared_error: 0.0014 - root_mean_squared_error: 0.0376 - noiseToSignalLoss: 15.7988 - val_loss: 0.0114 - val_mean_squared_error: 0.0013 - val_root_mean_squared_error: 0.0365 - val_noiseToSignalLoss: 18.2606\n",
      "Epoch 15/20\n",
      "793/793 [==============================] - 4s 5ms/step - loss: 0.0113 - mean_squared_error: 0.0014 - root_mean_squared_error: 0.0375 - noiseToSignalLoss: 15.4749 - val_loss: 0.0113 - val_mean_squared_error: 0.0013 - val_root_mean_squared_error: 0.0364 - val_noiseToSignalLoss: 18.4600\n",
      "Epoch 16/20\n",
      "793/793 [==============================] - 4s 5ms/step - loss: 0.0113 - mean_squared_error: 0.0014 - root_mean_squared_error: 0.0375 - noiseToSignalLoss: 15.5378 - val_loss: 0.0111 - val_mean_squared_error: 0.0013 - val_root_mean_squared_error: 0.0364 - val_noiseToSignalLoss: 17.2887\n",
      "Epoch 17/20\n",
      "786/793 [============================>.] - ETA: 0s - loss: 0.0113 - mean_squared_error: 0.0014 - root_mean_squared_error: 0.0375 - noiseToSignalLoss: 15.0409"
     ]
    },
    {
     "output_type": "stream",
     "name": "stderr",
     "text": [
      "\u001B[32m[I 2022-06-29 21:41:14,049]\u001B[0m Trial 171 pruned. Trial was pruned at epoch 16.\u001B[0m\n"
     ]
    },
    {
     "output_type": "stream",
     "name": "stdout",
     "text": [
      "Epoch 1/20\n",
      "793/793 [==============================] - 5s 5ms/step - loss: 0.0162 - mean_squared_error: 0.0020 - root_mean_squared_error: 0.0443 - noiseToSignalLoss: 49.0314 - val_loss: 0.0126 - val_mean_squared_error: 0.0016 - val_root_mean_squared_error: 0.0397 - val_noiseToSignalLoss: 30.0739\n",
      "Epoch 2/20\n",
      "793/793 [==============================] - 4s 5ms/step - loss: 0.0129 - mean_squared_error: 0.0017 - root_mean_squared_error: 0.0410 - noiseToSignalLoss: 23.1430 - val_loss: 0.0119 - val_mean_squared_error: 0.0015 - val_root_mean_squared_error: 0.0393 - val_noiseToSignalLoss: 36.4537\n",
      "Epoch 3/20\n",
      "793/793 [==============================] - 4s 5ms/step - loss: 0.0125 - mean_squared_error: 0.0016 - root_mean_squared_error: 0.0405 - noiseToSignalLoss: 22.2609 - val_loss: 0.0119 - val_mean_squared_error: 0.0015 - val_root_mean_squared_error: 0.0390 - val_noiseToSignalLoss: 33.4271\n",
      "Epoch 4/20\n",
      "793/793 [==============================] - 4s 5ms/step - loss: 0.0122 - mean_squared_error: 0.0016 - root_mean_squared_error: 0.0401 - noiseToSignalLoss: 21.0243 - val_loss: 0.0116 - val_mean_squared_error: 0.0015 - val_root_mean_squared_error: 0.0385 - val_noiseToSignalLoss: 33.9114\n",
      "Epoch 5/20\n",
      "790/793 [============================>.] - ETA: 0s - loss: 0.0120 - mean_squared_error: 0.0015 - root_mean_squared_error: 0.0393 - noiseToSignalLoss: 19.1464"
     ]
    },
    {
     "output_type": "stream",
     "name": "stderr",
     "text": [
      "\u001B[32m[I 2022-06-29 21:43:20,010]\u001B[0m Trial 172 pruned. Trial was pruned at epoch 4.\u001B[0m\n"
     ]
    },
    {
     "output_type": "stream",
     "name": "stdout",
     "text": [
      "Epoch 1/20\n",
      "793/793 [==============================] - 5s 5ms/step - loss: 0.0175 - mean_squared_error: 0.0022 - root_mean_squared_error: 0.0470 - noiseToSignalLoss: 92.7036 - val_loss: 0.0121 - val_mean_squared_error: 0.0016 - val_root_mean_squared_error: 0.0398 - val_noiseToSignalLoss: 29.5528\n",
      "Epoch 2/20\n",
      "793/793 [==============================] - 4s 5ms/step - loss: 0.0129 - mean_squared_error: 0.0017 - root_mean_squared_error: 0.0410 - noiseToSignalLoss: 22.7183 - val_loss: 0.0121 - val_mean_squared_error: 0.0015 - val_root_mean_squared_error: 0.0391 - val_noiseToSignalLoss: 41.5428\n",
      "Epoch 3/20\n",
      "793/793 [==============================] - 4s 5ms/step - loss: 0.0125 - mean_squared_error: 0.0016 - root_mean_squared_error: 0.0405 - noiseToSignalLoss: 22.7650 - val_loss: 0.0122 - val_mean_squared_error: 0.0015 - val_root_mean_squared_error: 0.0389 - val_noiseToSignalLoss: 45.1521\n",
      "Epoch 4/20\n",
      "793/793 [==============================] - 4s 5ms/step - loss: 0.0122 - mean_squared_error: 0.0016 - root_mean_squared_error: 0.0400 - noiseToSignalLoss: 21.4592 - val_loss: 0.0117 - val_mean_squared_error: 0.0015 - val_root_mean_squared_error: 0.0384 - val_noiseToSignalLoss: 32.6381\n",
      "Epoch 5/20\n",
      "793/793 [==============================] - 4s 5ms/step - loss: 0.0121 - mean_squared_error: 0.0016 - root_mean_squared_error: 0.0395 - noiseToSignalLoss: 19.7166 - val_loss: 0.0116 - val_mean_squared_error: 0.0014 - val_root_mean_squared_error: 0.0377 - val_noiseToSignalLoss: 24.9389\n",
      "Epoch 6/20\n",
      "793/793 [==============================] - 4s 5ms/step - loss: 0.0119 - mean_squared_error: 0.0015 - root_mean_squared_error: 0.0388 - noiseToSignalLoss: 17.2689 - val_loss: 0.0115 - val_mean_squared_error: 0.0014 - val_root_mean_squared_error: 0.0373 - val_noiseToSignalLoss: 16.8972\n",
      "Epoch 7/20\n",
      "793/793 [==============================] - 4s 5ms/step - loss: 0.0117 - mean_squared_error: 0.0015 - root_mean_squared_error: 0.0385 - noiseToSignalLoss: 16.4509 - val_loss: 0.0115 - val_mean_squared_error: 0.0014 - val_root_mean_squared_error: 0.0369 - val_noiseToSignalLoss: 20.8048\n",
      "Epoch 8/20\n",
      "793/793 [==============================] - 4s 5ms/step - loss: 0.0117 - mean_squared_error: 0.0015 - root_mean_squared_error: 0.0384 - noiseToSignalLoss: 15.8474 - val_loss: 0.0119 - val_mean_squared_error: 0.0014 - val_root_mean_squared_error: 0.0370 - val_noiseToSignalLoss: 21.6503\n",
      "Epoch 9/20\n",
      "793/793 [==============================] - 4s 5ms/step - loss: 0.0116 - mean_squared_error: 0.0015 - root_mean_squared_error: 0.0383 - noiseToSignalLoss: 15.7345 - val_loss: 0.0113 - val_mean_squared_error: 0.0014 - val_root_mean_squared_error: 0.0368 - val_noiseToSignalLoss: 17.8261\n",
      "Epoch 10/20\n",
      "793/793 [==============================] - 4s 5ms/step - loss: 0.0116 - mean_squared_error: 0.0015 - root_mean_squared_error: 0.0381 - noiseToSignalLoss: 15.4997 - val_loss: 0.0113 - val_mean_squared_error: 0.0013 - val_root_mean_squared_error: 0.0366 - val_noiseToSignalLoss: 18.8436\n",
      "Epoch 11/20\n",
      "793/793 [==============================] - 4s 5ms/step - loss: 0.0115 - mean_squared_error: 0.0014 - root_mean_squared_error: 0.0380 - noiseToSignalLoss: 15.6631 - val_loss: 0.0114 - val_mean_squared_error: 0.0014 - val_root_mean_squared_error: 0.0368 - val_noiseToSignalLoss: 16.3968\n",
      "Epoch 12/20\n",
      "793/793 [==============================] - 4s 5ms/step - loss: 0.0115 - mean_squared_error: 0.0014 - root_mean_squared_error: 0.0378 - noiseToSignalLoss: 15.1681 - val_loss: 0.0111 - val_mean_squared_error: 0.0013 - val_root_mean_squared_error: 0.0365 - val_noiseToSignalLoss: 17.6799\n",
      "Epoch 13/20\n",
      "793/793 [==============================] - 4s 5ms/step - loss: 0.0114 - mean_squared_error: 0.0014 - root_mean_squared_error: 0.0377 - noiseToSignalLoss: 15.4179 - val_loss: 0.0111 - val_mean_squared_error: 0.0013 - val_root_mean_squared_error: 0.0364 - val_noiseToSignalLoss: 19.3471\n",
      "Epoch 14/20\n",
      "793/793 [==============================] - 4s 5ms/step - loss: 0.0114 - mean_squared_error: 0.0014 - root_mean_squared_error: 0.0377 - noiseToSignalLoss: 15.2576 - val_loss: 0.0111 - val_mean_squared_error: 0.0013 - val_root_mean_squared_error: 0.0364 - val_noiseToSignalLoss: 18.4405\n",
      "Epoch 15/20\n",
      "793/793 [==============================] - 4s 5ms/step - loss: 0.0113 - mean_squared_error: 0.0014 - root_mean_squared_error: 0.0376 - noiseToSignalLoss: 15.2964 - val_loss: 0.0112 - val_mean_squared_error: 0.0013 - val_root_mean_squared_error: 0.0364 - val_noiseToSignalLoss: 16.8601\n",
      "Epoch 16/20\n",
      "793/793 [==============================] - 4s 5ms/step - loss: 0.0113 - mean_squared_error: 0.0014 - root_mean_squared_error: 0.0375 - noiseToSignalLoss: 14.8958 - val_loss: 0.0111 - val_mean_squared_error: 0.0013 - val_root_mean_squared_error: 0.0366 - val_noiseToSignalLoss: 14.8482\n",
      "Epoch 17/20\n",
      "793/793 [==============================] - 4s 5ms/step - loss: 0.0113 - mean_squared_error: 0.0014 - root_mean_squared_error: 0.0375 - noiseToSignalLoss: 14.9715 - val_loss: 0.0111 - val_mean_squared_error: 0.0013 - val_root_mean_squared_error: 0.0366 - val_noiseToSignalLoss: 14.0374\n",
      "Epoch 18/20\n",
      "793/793 [==============================] - 4s 5ms/step - loss: 0.0113 - mean_squared_error: 0.0014 - root_mean_squared_error: 0.0374 - noiseToSignalLoss: 14.7355 - val_loss: 0.0114 - val_mean_squared_error: 0.0013 - val_root_mean_squared_error: 0.0366 - val_noiseToSignalLoss: 16.0323\n",
      "Epoch 19/20\n",
      "793/793 [==============================] - 4s 5ms/step - loss: 0.0113 - mean_squared_error: 0.0014 - root_mean_squared_error: 0.0374 - noiseToSignalLoss: 14.4752 - val_loss: 0.0110 - val_mean_squared_error: 0.0013 - val_root_mean_squared_error: 0.0363 - val_noiseToSignalLoss: 17.0713\n",
      "Epoch 20/20\n",
      "793/793 [==============================] - 4s 5ms/step - loss: 0.0112 - mean_squared_error: 0.0014 - root_mean_squared_error: 0.0374 - noiseToSignalLoss: 14.5334 - val_loss: 0.0112 - val_mean_squared_error: 0.0013 - val_root_mean_squared_error: 0.0362 - val_noiseToSignalLoss: 17.1436\n",
      "263/263 [==============================] - 1s 3ms/step - loss: 0.0093 - mean_squared_error: 8.1987e-04 - root_mean_squared_error: 0.0286 - noiseToSignalLoss: 14.3661\n"
     ]
    },
    {
     "output_type": "stream",
     "name": "stderr",
     "text": [
      "\u001B[32m[I 2022-06-29 21:46:28,950]\u001B[0m Trial 173 finished with value: 0.00925143901258707 and parameters: {'sequence_length': 6, 'ff1_hidden_neurons': 213, 'ff2_hidden_neurons': 127, 'ff3_hidden_neurons': 109, 'ff4_hidden_neurons': 232, 'ff5_hidden_neurons': 192, 'ff6_hidden_neurons': 150, 'ff7_hidden_neurons': 74, 'ff8_hidden_neurons': 172, 'ff9_hidden_neurons': 102, 'ff10_hidden_neurons': 74, 'ff11_hidden_neurons': 93, 'ff12_hidden_neurons': 160, 'ff13_hidden_neurons': 150, 'ff14_hidden_neurons': 91, 'ff15_hidden_neurons': 103, 'ff16_hidden_neurons': 171, 'ff17_hidden_neurons': 239, 'learning_rate': 6.0232269737782907e-05}. Best is trial 127 with value: 0.009016593918204308.\u001B[0m\n"
     ]
    },
    {
     "output_type": "stream",
     "name": "stdout",
     "text": [
      "Epoch 1/20\n",
      "793/793 [==============================] - 6s 5ms/step - loss: 0.0863 - mean_squared_error: 0.0121 - root_mean_squared_error: 0.1101 - noiseToSignalLoss: 1974.2396 - val_loss: 0.0616 - val_mean_squared_error: 0.0063 - val_root_mean_squared_error: 0.0794 - val_noiseToSignalLoss: 928.4381\n",
      "Epoch 2/20\n",
      "785/793 [============================>.] - ETA: 0s - loss: 0.0756 - mean_squared_error: 0.0096 - root_mean_squared_error: 0.0981 - noiseToSignalLoss: 1518.3311"
     ]
    },
    {
     "output_type": "stream",
     "name": "stderr",
     "text": [
      "\u001B[32m[I 2022-06-29 21:48:23,311]\u001B[0m Trial 174 pruned. Trial was pruned at epoch 1.\u001B[0m\n"
     ]
    },
    {
     "output_type": "stream",
     "name": "stdout",
     "text": [
      "Epoch 1/20\n",
      "793/793 [==============================] - 5s 5ms/step - loss: 0.0172 - mean_squared_error: 0.0021 - root_mean_squared_error: 0.0453 - noiseToSignalLoss: 49.4838 - val_loss: 0.0134 - val_mean_squared_error: 0.0017 - val_root_mean_squared_error: 0.0414 - val_noiseToSignalLoss: 19.4294\n",
      "Epoch 2/20\n",
      "793/793 [==============================] - 4s 5ms/step - loss: 0.0133 - mean_squared_error: 0.0017 - root_mean_squared_error: 0.0416 - noiseToSignalLoss: 22.7332 - val_loss: 0.0123 - val_mean_squared_error: 0.0016 - val_root_mean_squared_error: 0.0399 - val_noiseToSignalLoss: 27.6285\n",
      "Epoch 3/20\n",
      "793/793 [==============================] - 4s 5ms/step - loss: 0.0127 - mean_squared_error: 0.0017 - root_mean_squared_error: 0.0410 - noiseToSignalLoss: 22.3556 - val_loss: 0.0120 - val_mean_squared_error: 0.0015 - val_root_mean_squared_error: 0.0393 - val_noiseToSignalLoss: 37.3259\n",
      "Epoch 4/20\n",
      "793/793 [==============================] - 4s 5ms/step - loss: 0.0124 - mean_squared_error: 0.0016 - root_mean_squared_error: 0.0406 - noiseToSignalLoss: 22.4453 - val_loss: 0.0125 - val_mean_squared_error: 0.0015 - val_root_mean_squared_error: 0.0390 - val_noiseToSignalLoss: 44.9040\n",
      "Epoch 5/20\n",
      "793/793 [==============================] - 4s 5ms/step - loss: 0.0123 - mean_squared_error: 0.0016 - root_mean_squared_error: 0.0404 - noiseToSignalLoss: 21.9121 - val_loss: 0.0117 - val_mean_squared_error: 0.0015 - val_root_mean_squared_error: 0.0389 - val_noiseToSignalLoss: 39.4069\n",
      "Epoch 6/20\n",
      "793/793 [==============================] - 4s 5ms/step - loss: 0.0121 - mean_squared_error: 0.0016 - root_mean_squared_error: 0.0402 - noiseToSignalLoss: 21.3875 - val_loss: 0.0116 - val_mean_squared_error: 0.0015 - val_root_mean_squared_error: 0.0387 - val_noiseToSignalLoss: 40.6758\n",
      "Epoch 7/20\n",
      "793/793 [==============================] - 4s 5ms/step - loss: 0.0121 - mean_squared_error: 0.0016 - root_mean_squared_error: 0.0400 - noiseToSignalLoss: 20.2594 - val_loss: 0.0117 - val_mean_squared_error: 0.0015 - val_root_mean_squared_error: 0.0385 - val_noiseToSignalLoss: 33.0136\n",
      "Epoch 8/20\n",
      "793/793 [==============================] - 4s 5ms/step - loss: 0.0119 - mean_squared_error: 0.0016 - root_mean_squared_error: 0.0397 - noiseToSignalLoss: 20.0236 - val_loss: 0.0118 - val_mean_squared_error: 0.0015 - val_root_mean_squared_error: 0.0384 - val_noiseToSignalLoss: 27.6191\n",
      "Epoch 9/20\n",
      "793/793 [==============================] - 4s 5ms/step - loss: 0.0118 - mean_squared_error: 0.0015 - root_mean_squared_error: 0.0391 - noiseToSignalLoss: 19.3950 - val_loss: 0.0116 - val_mean_squared_error: 0.0014 - val_root_mean_squared_error: 0.0370 - val_noiseToSignalLoss: 27.4563\n",
      "Epoch 10/20\n",
      "793/793 [==============================] - 4s 5ms/step - loss: 0.0116 - mean_squared_error: 0.0015 - root_mean_squared_error: 0.0381 - noiseToSignalLoss: 15.7106 - val_loss: 0.0112 - val_mean_squared_error: 0.0013 - val_root_mean_squared_error: 0.0366 - val_noiseToSignalLoss: 16.9343\n",
      "Epoch 11/20\n",
      "793/793 [==============================] - 4s 5ms/step - loss: 0.0115 - mean_squared_error: 0.0014 - root_mean_squared_error: 0.0378 - noiseToSignalLoss: 15.8446 - val_loss: 0.0112 - val_mean_squared_error: 0.0013 - val_root_mean_squared_error: 0.0364 - val_noiseToSignalLoss: 19.2721\n",
      "Epoch 12/20\n",
      "793/793 [==============================] - 4s 5ms/step - loss: 0.0115 - mean_squared_error: 0.0014 - root_mean_squared_error: 0.0377 - noiseToSignalLoss: 15.6074 - val_loss: 0.0116 - val_mean_squared_error: 0.0014 - val_root_mean_squared_error: 0.0368 - val_noiseToSignalLoss: 15.0138\n",
      "Epoch 13/20\n",
      "793/793 [==============================] - 4s 6ms/step - loss: 0.0115 - mean_squared_error: 0.0014 - root_mean_squared_error: 0.0377 - noiseToSignalLoss: 15.9898 - val_loss: 0.0112 - val_mean_squared_error: 0.0014 - val_root_mean_squared_error: 0.0368 - val_noiseToSignalLoss: 17.0128\n",
      "Epoch 14/20\n",
      "793/793 [==============================] - 4s 5ms/step - loss: 0.0114 - mean_squared_error: 0.0014 - root_mean_squared_error: 0.0377 - noiseToSignalLoss: 15.8769 - val_loss: 0.0117 - val_mean_squared_error: 0.0014 - val_root_mean_squared_error: 0.0373 - val_noiseToSignalLoss: 11.6370\n",
      "Epoch 15/20\n",
      "793/793 [==============================] - 4s 5ms/step - loss: 0.0114 - mean_squared_error: 0.0014 - root_mean_squared_error: 0.0377 - noiseToSignalLoss: 16.1774 - val_loss: 0.0111 - val_mean_squared_error: 0.0013 - val_root_mean_squared_error: 0.0365 - val_noiseToSignalLoss: 16.7217\n",
      "Epoch 16/20\n",
      "793/793 [==============================] - 4s 5ms/step - loss: 0.0114 - mean_squared_error: 0.0014 - root_mean_squared_error: 0.0376 - noiseToSignalLoss: 15.5869 - val_loss: 0.0113 - val_mean_squared_error: 0.0014 - val_root_mean_squared_error: 0.0369 - val_noiseToSignalLoss: 13.5867\n",
      "Epoch 17/20\n",
      "788/793 [============================>.] - ETA: 0s - loss: 0.0113 - mean_squared_error: 0.0014 - root_mean_squared_error: 0.0376 - noiseToSignalLoss: 15.4916"
     ]
    },
    {
     "output_type": "stream",
     "name": "stderr",
     "text": [
      "\u001B[32m[I 2022-06-29 21:51:18,387]\u001B[0m Trial 175 pruned. Trial was pruned at epoch 16.\u001B[0m\n"
     ]
    },
    {
     "output_type": "stream",
     "name": "stdout",
     "text": [
      "Epoch 1/20\n",
      "793/793 [==============================] - 5s 5ms/step - loss: 0.0162 - mean_squared_error: 0.0020 - root_mean_squared_error: 0.0442 - noiseToSignalLoss: 45.5296 - val_loss: 0.0122 - val_mean_squared_error: 0.0016 - val_root_mean_squared_error: 0.0400 - val_noiseToSignalLoss: 26.9625\n",
      "Epoch 2/20\n",
      "793/793 [==============================] - 4s 5ms/step - loss: 0.0129 - mean_squared_error: 0.0017 - root_mean_squared_error: 0.0410 - noiseToSignalLoss: 23.7301 - val_loss: 0.0120 - val_mean_squared_error: 0.0015 - val_root_mean_squared_error: 0.0393 - val_noiseToSignalLoss: 31.3208\n",
      "Epoch 3/20\n",
      "793/793 [==============================] - 4s 5ms/step - loss: 0.0124 - mean_squared_error: 0.0016 - root_mean_squared_error: 0.0403 - noiseToSignalLoss: 21.3648 - val_loss: 0.0119 - val_mean_squared_error: 0.0015 - val_root_mean_squared_error: 0.0385 - val_noiseToSignalLoss: 36.0732\n",
      "Epoch 4/20\n",
      "793/793 [==============================] - 4s 5ms/step - loss: 0.0121 - mean_squared_error: 0.0016 - root_mean_squared_error: 0.0397 - noiseToSignalLoss: 20.2225 - val_loss: 0.0120 - val_mean_squared_error: 0.0015 - val_root_mean_squared_error: 0.0381 - val_noiseToSignalLoss: 35.3728\n",
      "Epoch 5/20\n",
      "793/793 [==============================] - 4s 5ms/step - loss: 0.0119 - mean_squared_error: 0.0015 - root_mean_squared_error: 0.0391 - noiseToSignalLoss: 19.1009 - val_loss: 0.0116 - val_mean_squared_error: 0.0014 - val_root_mean_squared_error: 0.0378 - val_noiseToSignalLoss: 17.3846\n",
      "Epoch 6/20\n",
      "793/793 [==============================] - 4s 5ms/step - loss: 0.0118 - mean_squared_error: 0.0015 - root_mean_squared_error: 0.0386 - noiseToSignalLoss: 16.6637 - val_loss: 0.0113 - val_mean_squared_error: 0.0014 - val_root_mean_squared_error: 0.0372 - val_noiseToSignalLoss: 17.2417\n",
      "Epoch 7/20\n",
      "793/793 [==============================] - 4s 5ms/step - loss: 0.0117 - mean_squared_error: 0.0015 - root_mean_squared_error: 0.0383 - noiseToSignalLoss: 15.9562 - val_loss: 0.0115 - val_mean_squared_error: 0.0014 - val_root_mean_squared_error: 0.0371 - val_noiseToSignalLoss: 15.4391\n",
      "Epoch 8/20\n",
      "793/793 [==============================] - 4s 5ms/step - loss: 0.0116 - mean_squared_error: 0.0015 - root_mean_squared_error: 0.0381 - noiseToSignalLoss: 15.5832 - val_loss: 0.0117 - val_mean_squared_error: 0.0014 - val_root_mean_squared_error: 0.0374 - val_noiseToSignalLoss: 12.6664\n",
      "Epoch 9/20\n",
      "793/793 [==============================] - 4s 5ms/step - loss: 0.0115 - mean_squared_error: 0.0014 - root_mean_squared_error: 0.0380 - noiseToSignalLoss: 14.9911 - val_loss: 0.0113 - val_mean_squared_error: 0.0013 - val_root_mean_squared_error: 0.0366 - val_noiseToSignalLoss: 18.9569\n",
      "Epoch 10/20\n",
      "793/793 [==============================] - 4s 5ms/step - loss: 0.0115 - mean_squared_error: 0.0014 - root_mean_squared_error: 0.0378 - noiseToSignalLoss: 15.3436 - val_loss: 0.0112 - val_mean_squared_error: 0.0013 - val_root_mean_squared_error: 0.0364 - val_noiseToSignalLoss: 20.7220\n",
      "Epoch 11/20\n",
      "793/793 [==============================] - 4s 5ms/step - loss: 0.0114 - mean_squared_error: 0.0014 - root_mean_squared_error: 0.0377 - noiseToSignalLoss: 15.8519 - val_loss: 0.0111 - val_mean_squared_error: 0.0013 - val_root_mean_squared_error: 0.0366 - val_noiseToSignalLoss: 18.1990\n",
      "Epoch 12/20\n",
      "793/793 [==============================] - 4s 5ms/step - loss: 0.0114 - mean_squared_error: 0.0014 - root_mean_squared_error: 0.0377 - noiseToSignalLoss: 15.5360 - val_loss: 0.0115 - val_mean_squared_error: 0.0014 - val_root_mean_squared_error: 0.0371 - val_noiseToSignalLoss: 14.6927\n",
      "Epoch 13/20\n",
      "793/793 [==============================] - 4s 5ms/step - loss: 0.0113 - mean_squared_error: 0.0014 - root_mean_squared_error: 0.0377 - noiseToSignalLoss: 15.2597 - val_loss: 0.0111 - val_mean_squared_error: 0.0013 - val_root_mean_squared_error: 0.0364 - val_noiseToSignalLoss: 18.9903\n",
      "Epoch 14/20\n",
      "793/793 [==============================] - 4s 5ms/step - loss: 0.0113 - mean_squared_error: 0.0014 - root_mean_squared_error: 0.0376 - noiseToSignalLoss: 15.2546 - val_loss: 0.0112 - val_mean_squared_error: 0.0013 - val_root_mean_squared_error: 0.0367 - val_noiseToSignalLoss: 17.6185\n",
      "Epoch 15/20\n",
      "793/793 [==============================] - 4s 5ms/step - loss: 0.0113 - mean_squared_error: 0.0014 - root_mean_squared_error: 0.0376 - noiseToSignalLoss: 15.0770 - val_loss: 0.0113 - val_mean_squared_error: 0.0013 - val_root_mean_squared_error: 0.0366 - val_noiseToSignalLoss: 17.8284\n",
      "Epoch 16/20\n",
      "793/793 [==============================] - 4s 5ms/step - loss: 0.0113 - mean_squared_error: 0.0014 - root_mean_squared_error: 0.0375 - noiseToSignalLoss: 14.9406 - val_loss: 0.0110 - val_mean_squared_error: 0.0013 - val_root_mean_squared_error: 0.0362 - val_noiseToSignalLoss: 22.4329\n",
      "Epoch 17/20\n",
      "793/793 [==============================] - 4s 5ms/step - loss: 0.0113 - mean_squared_error: 0.0014 - root_mean_squared_error: 0.0375 - noiseToSignalLoss: 14.5846 - val_loss: 0.0110 - val_mean_squared_error: 0.0013 - val_root_mean_squared_error: 0.0362 - val_noiseToSignalLoss: 18.2464\n",
      "Epoch 18/20\n",
      "793/793 [==============================] - 4s 5ms/step - loss: 0.0113 - mean_squared_error: 0.0014 - root_mean_squared_error: 0.0375 - noiseToSignalLoss: 14.4080 - val_loss: 0.0111 - val_mean_squared_error: 0.0013 - val_root_mean_squared_error: 0.0363 - val_noiseToSignalLoss: 16.7261\n",
      "Epoch 19/20\n",
      "793/793 [==============================] - 4s 5ms/step - loss: 0.0112 - mean_squared_error: 0.0014 - root_mean_squared_error: 0.0375 - noiseToSignalLoss: 14.0832 - val_loss: 0.0111 - val_mean_squared_error: 0.0013 - val_root_mean_squared_error: 0.0366 - val_noiseToSignalLoss: 14.8572\n",
      "Epoch 20/20\n",
      "793/793 [==============================] - 4s 5ms/step - loss: 0.0112 - mean_squared_error: 0.0014 - root_mean_squared_error: 0.0375 - noiseToSignalLoss: 13.9953 - val_loss: 0.0112 - val_mean_squared_error: 0.0013 - val_root_mean_squared_error: 0.0361 - val_noiseToSignalLoss: 21.5565\n",
      "263/263 [==============================] - 1s 3ms/step - loss: 0.0093 - mean_squared_error: 8.1655e-04 - root_mean_squared_error: 0.0286 - noiseToSignalLoss: 15.1558\n"
     ]
    },
    {
     "output_type": "stream",
     "name": "stderr",
     "text": [
      "\u001B[32m[I 2022-06-29 21:54:24,975]\u001B[0m Trial 176 finished with value: 0.009336162358522415 and parameters: {'sequence_length': 6, 'ff1_hidden_neurons': 204, 'ff2_hidden_neurons': 118, 'ff3_hidden_neurons': 129, 'ff4_hidden_neurons': 79, 'ff5_hidden_neurons': 181, 'ff6_hidden_neurons': 143, 'ff7_hidden_neurons': 70, 'ff8_hidden_neurons': 160, 'ff9_hidden_neurons': 92, 'ff10_hidden_neurons': 71, 'ff11_hidden_neurons': 93, 'ff12_hidden_neurons': 162, 'ff13_hidden_neurons': 138, 'ff14_hidden_neurons': 90, 'ff15_hidden_neurons': 104, 'ff16_hidden_neurons': 178, 'ff17_hidden_neurons': 248, 'learning_rate': 7.92097002557817e-05}. Best is trial 127 with value: 0.009016593918204308.\u001B[0m\n"
     ]
    },
    {
     "output_type": "stream",
     "name": "stdout",
     "text": [
      "Epoch 1/20\n",
      "793/793 [==============================] - 5s 5ms/step - loss: 0.0173 - mean_squared_error: 0.0021 - root_mean_squared_error: 0.0458 - noiseToSignalLoss: 74.1405 - val_loss: 0.0124 - val_mean_squared_error: 0.0016 - val_root_mean_squared_error: 0.0402 - val_noiseToSignalLoss: 25.7402\n",
      "Epoch 2/20\n",
      "793/793 [==============================] - 4s 5ms/step - loss: 0.0131 - mean_squared_error: 0.0017 - root_mean_squared_error: 0.0410 - noiseToSignalLoss: 22.6043 - val_loss: 0.0120 - val_mean_squared_error: 0.0015 - val_root_mean_squared_error: 0.0394 - val_noiseToSignalLoss: 33.3997\n",
      "Epoch 3/20\n",
      "793/793 [==============================] - 4s 5ms/step - loss: 0.0125 - mean_squared_error: 0.0016 - root_mean_squared_error: 0.0405 - noiseToSignalLoss: 22.1112 - val_loss: 0.0119 - val_mean_squared_error: 0.0015 - val_root_mean_squared_error: 0.0389 - val_noiseToSignalLoss: 31.1413\n",
      "Epoch 4/20\n",
      "793/793 [==============================] - 4s 5ms/step - loss: 0.0123 - mean_squared_error: 0.0016 - root_mean_squared_error: 0.0401 - noiseToSignalLoss: 20.9243 - val_loss: 0.0117 - val_mean_squared_error: 0.0015 - val_root_mean_squared_error: 0.0385 - val_noiseToSignalLoss: 34.2058\n",
      "Epoch 5/20\n",
      "790/793 [============================>.] - ETA: 0s - loss: 0.0121 - mean_squared_error: 0.0016 - root_mean_squared_error: 0.0395 - noiseToSignalLoss: 19.5357"
     ]
    },
    {
     "output_type": "stream",
     "name": "stderr",
     "text": [
      "\u001B[32m[I 2022-06-29 21:56:31,089]\u001B[0m Trial 177 pruned. Trial was pruned at epoch 4.\u001B[0m\n"
     ]
    },
    {
     "output_type": "stream",
     "name": "stdout",
     "text": [
      "Epoch 1/20\n",
      "800/800 [==============================] - 5s 5ms/step - loss: 0.0165 - mean_squared_error: 0.0020 - root_mean_squared_error: 0.0443 - noiseToSignalLoss: 58.2495 - val_loss: 0.0125 - val_mean_squared_error: 0.0017 - val_root_mean_squared_error: 0.0409 - val_noiseToSignalLoss: 15.9430\n",
      "Epoch 2/20\n",
      "798/800 [============================>.] - ETA: 0s - loss: 0.0129 - mean_squared_error: 0.0016 - root_mean_squared_error: 0.0402 - noiseToSignalLoss: 23.3148"
     ]
    },
    {
     "output_type": "stream",
     "name": "stderr",
     "text": [
      "\u001B[32m[I 2022-06-29 21:58:24,895]\u001B[0m Trial 178 pruned. Trial was pruned at epoch 1.\u001B[0m\n"
     ]
    },
    {
     "output_type": "stream",
     "name": "stdout",
     "text": [
      "Epoch 1/20\n",
      "793/793 [==============================] - 5s 6ms/step - loss: 0.1938 - mean_squared_error: 0.0571 - root_mean_squared_error: 0.2390 - noiseToSignalLoss: 9671.8057 - val_loss: 0.1727 - val_mean_squared_error: 0.0482 - val_root_mean_squared_error: 0.2195 - val_noiseToSignalLoss: 7833.5781\n",
      "Epoch 2/20\n",
      "785/793 [============================>.] - ETA: 0s - loss: 0.1937 - mean_squared_error: 0.0570 - root_mean_squared_error: 0.2388 - noiseToSignalLoss: 9689.0088"
     ]
    },
    {
     "output_type": "stream",
     "name": "stderr",
     "text": [
      "\u001B[32m[I 2022-06-29 22:00:18,435]\u001B[0m Trial 179 pruned. Trial was pruned at epoch 1.\u001B[0m\n"
     ]
    },
    {
     "output_type": "stream",
     "name": "stdout",
     "text": [
      "Epoch 1/20\n",
      "756/756 [==============================] - 5s 5ms/step - loss: 0.0161 - mean_squared_error: 0.0020 - root_mean_squared_error: 0.0444 - noiseToSignalLoss: 55.5553 - val_loss: 0.0134 - val_mean_squared_error: 0.0018 - val_root_mean_squared_error: 0.0422 - val_noiseToSignalLoss: 26.4352\n",
      "Epoch 2/20\n",
      "749/756 [============================>.] - ETA: 0s - loss: 0.0130 - mean_squared_error: 0.0017 - root_mean_squared_error: 0.0406 - noiseToSignalLoss: 20.6227"
     ]
    },
    {
     "output_type": "stream",
     "name": "stderr",
     "text": [
      "\u001B[32m[I 2022-06-29 22:02:09,559]\u001B[0m Trial 180 pruned. Trial was pruned at epoch 1.\u001B[0m\n"
     ]
    },
    {
     "output_type": "stream",
     "name": "stdout",
     "text": [
      "Epoch 1/20\n",
      "793/793 [==============================] - 5s 5ms/step - loss: 0.0164 - mean_squared_error: 0.0020 - root_mean_squared_error: 0.0446 - noiseToSignalLoss: 55.6399 - val_loss: 0.0123 - val_mean_squared_error: 0.0016 - val_root_mean_squared_error: 0.0399 - val_noiseToSignalLoss: 27.2375\n",
      "Epoch 2/20\n",
      "793/793 [==============================] - 4s 5ms/step - loss: 0.0130 - mean_squared_error: 0.0017 - root_mean_squared_error: 0.0411 - noiseToSignalLoss: 23.7282 - val_loss: 0.0123 - val_mean_squared_error: 0.0015 - val_root_mean_squared_error: 0.0393 - val_noiseToSignalLoss: 38.1939\n",
      "Epoch 3/20\n",
      "793/793 [==============================] - 4s 5ms/step - loss: 0.0126 - mean_squared_error: 0.0017 - root_mean_squared_error: 0.0407 - noiseToSignalLoss: 22.5710 - val_loss: 0.0119 - val_mean_squared_error: 0.0015 - val_root_mean_squared_error: 0.0390 - val_noiseToSignalLoss: 42.6497\n",
      "Epoch 4/20\n",
      "793/793 [==============================] - 4s 5ms/step - loss: 0.0124 - mean_squared_error: 0.0016 - root_mean_squared_error: 0.0405 - noiseToSignalLoss: 22.0331 - val_loss: 0.0120 - val_mean_squared_error: 0.0015 - val_root_mean_squared_error: 0.0389 - val_noiseToSignalLoss: 35.5137\n",
      "Epoch 5/20\n",
      "787/793 [============================>.] - ETA: 0s - loss: 0.0122 - mean_squared_error: 0.0016 - root_mean_squared_error: 0.0402 - noiseToSignalLoss: 21.4071"
     ]
    },
    {
     "output_type": "stream",
     "name": "stderr",
     "text": [
      "\u001B[32m[I 2022-06-29 22:04:15,228]\u001B[0m Trial 181 pruned. Trial was pruned at epoch 4.\u001B[0m\n"
     ]
    },
    {
     "output_type": "stream",
     "name": "stdout",
     "text": [
      "Epoch 1/20\n",
      "793/793 [==============================] - 5s 5ms/step - loss: 0.0170 - mean_squared_error: 0.0021 - root_mean_squared_error: 0.0455 - noiseToSignalLoss: 53.8496 - val_loss: 0.0127 - val_mean_squared_error: 0.0017 - val_root_mean_squared_error: 0.0408 - val_noiseToSignalLoss: 24.3059\n",
      "Epoch 2/20\n",
      "793/793 [==============================] - 4s 5ms/step - loss: 0.0131 - mean_squared_error: 0.0017 - root_mean_squared_error: 0.0415 - noiseToSignalLoss: 24.0830 - val_loss: 0.0122 - val_mean_squared_error: 0.0016 - val_root_mean_squared_error: 0.0396 - val_noiseToSignalLoss: 35.6733\n",
      "Epoch 3/20\n",
      "793/793 [==============================] - 4s 5ms/step - loss: 0.0127 - mean_squared_error: 0.0017 - root_mean_squared_error: 0.0411 - noiseToSignalLoss: 23.6579 - val_loss: 0.0119 - val_mean_squared_error: 0.0016 - val_root_mean_squared_error: 0.0394 - val_noiseToSignalLoss: 37.9553\n",
      "Epoch 4/20\n",
      "793/793 [==============================] - 4s 5ms/step - loss: 0.0124 - mean_squared_error: 0.0017 - root_mean_squared_error: 0.0409 - noiseToSignalLoss: 23.9077 - val_loss: 0.0119 - val_mean_squared_error: 0.0015 - val_root_mean_squared_error: 0.0392 - val_noiseToSignalLoss: 39.2811\n",
      "Epoch 5/20\n",
      "792/793 [============================>.] - ETA: 0s - loss: 0.0123 - mean_squared_error: 0.0017 - root_mean_squared_error: 0.0407 - noiseToSignalLoss: 23.4166"
     ]
    },
    {
     "output_type": "stream",
     "name": "stderr",
     "text": [
      "\u001B[32m[I 2022-06-29 22:06:21,033]\u001B[0m Trial 182 pruned. Trial was pruned at epoch 4.\u001B[0m\n"
     ]
    },
    {
     "output_type": "stream",
     "name": "stdout",
     "text": [
      "Epoch 1/20\n",
      "793/793 [==============================] - 5s 5ms/step - loss: 0.0169 - mean_squared_error: 0.0020 - root_mean_squared_error: 0.0448 - noiseToSignalLoss: 51.2308 - val_loss: 0.0136 - val_mean_squared_error: 0.0017 - val_root_mean_squared_error: 0.0410 - val_noiseToSignalLoss: 22.3077\n",
      "Epoch 2/20\n",
      "793/793 [==============================] - 4s 5ms/step - loss: 0.0134 - mean_squared_error: 0.0017 - root_mean_squared_error: 0.0413 - noiseToSignalLoss: 25.6545 - val_loss: 0.0121 - val_mean_squared_error: 0.0016 - val_root_mean_squared_error: 0.0398 - val_noiseToSignalLoss: 29.1089\n",
      "Epoch 3/20\n",
      "793/793 [==============================] - 4s 5ms/step - loss: 0.0128 - mean_squared_error: 0.0017 - root_mean_squared_error: 0.0408 - noiseToSignalLoss: 24.7063 - val_loss: 0.0121 - val_mean_squared_error: 0.0015 - val_root_mean_squared_error: 0.0391 - val_noiseToSignalLoss: 43.4244\n",
      "Epoch 4/20\n",
      "793/793 [==============================] - 4s 5ms/step - loss: 0.0124 - mean_squared_error: 0.0016 - root_mean_squared_error: 0.0403 - noiseToSignalLoss: 23.7795 - val_loss: 0.0118 - val_mean_squared_error: 0.0015 - val_root_mean_squared_error: 0.0387 - val_noiseToSignalLoss: 31.5062\n",
      "Epoch 5/20\n",
      "790/793 [============================>.] - ETA: 0s - loss: 0.0122 - mean_squared_error: 0.0016 - root_mean_squared_error: 0.0397 - noiseToSignalLoss: 21.8503"
     ]
    },
    {
     "output_type": "stream",
     "name": "stderr",
     "text": [
      "\u001B[32m[I 2022-06-29 22:08:26,711]\u001B[0m Trial 183 pruned. Trial was pruned at epoch 4.\u001B[0m\n"
     ]
    },
    {
     "output_type": "stream",
     "name": "stdout",
     "text": [
      "Epoch 1/20\n",
      "793/793 [==============================] - 5s 5ms/step - loss: 0.0625 - mean_squared_error: 0.0073 - root_mean_squared_error: 0.0855 - noiseToSignalLoss: 1053.2604 - val_loss: 0.0208 - val_mean_squared_error: 0.0022 - val_root_mean_squared_error: 0.0465 - val_noiseToSignalLoss: 69.0970\n",
      "Epoch 2/20\n",
      "784/793 [============================>.] - ETA: 0s - loss: 0.0390 - mean_squared_error: 0.0037 - root_mean_squared_error: 0.0605 - noiseToSignalLoss: 316.3843"
     ]
    },
    {
     "output_type": "stream",
     "name": "stderr",
     "text": [
      "\u001B[32m[I 2022-06-29 22:10:20,047]\u001B[0m Trial 184 pruned. Trial was pruned at epoch 1.\u001B[0m\n"
     ]
    },
    {
     "output_type": "stream",
     "name": "stdout",
     "text": [
      "Epoch 1/20\n",
      "793/793 [==============================] - 6s 5ms/step - loss: 0.0170 - mean_squared_error: 0.0020 - root_mean_squared_error: 0.0449 - noiseToSignalLoss: 50.5720 - val_loss: 0.0128 - val_mean_squared_error: 0.0016 - val_root_mean_squared_error: 0.0402 - val_noiseToSignalLoss: 24.1344\n",
      "Epoch 2/20\n",
      "793/793 [==============================] - ETA: 0s - loss: 0.0131 - mean_squared_error: 0.0017 - root_mean_squared_error: 0.0411 - noiseToSignalLoss: 23.0703"
     ]
    },
    {
     "output_type": "stream",
     "name": "stderr",
     "text": [
      "\u001B[32m[I 2022-06-29 22:12:13,964]\u001B[0m Trial 185 pruned. Trial was pruned at epoch 1.\u001B[0m\n"
     ]
    },
    {
     "output_type": "stream",
     "name": "stdout",
     "text": [
      "Epoch 1/20\n",
      "793/793 [==============================] - 5s 5ms/step - loss: 0.0168 - mean_squared_error: 0.0020 - root_mean_squared_error: 0.0446 - noiseToSignalLoss: 50.5405 - val_loss: 0.0131 - val_mean_squared_error: 0.0016 - val_root_mean_squared_error: 0.0398 - val_noiseToSignalLoss: 31.8129\n",
      "Epoch 2/20\n",
      "786/793 [============================>.] - ETA: 0s - loss: 0.0133 - mean_squared_error: 0.0017 - root_mean_squared_error: 0.0413 - noiseToSignalLoss: 22.1840"
     ]
    },
    {
     "output_type": "stream",
     "name": "stderr",
     "text": [
      "\u001B[32m[I 2022-06-29 22:14:07,744]\u001B[0m Trial 186 pruned. Trial was pruned at epoch 1.\u001B[0m\n"
     ]
    },
    {
     "output_type": "stream",
     "name": "stdout",
     "text": [
      "Epoch 1/20\n",
      "793/793 [==============================] - 5s 5ms/step - loss: 0.0179 - mean_squared_error: 0.0023 - root_mean_squared_error: 0.0479 - noiseToSignalLoss: 90.5209 - val_loss: 0.0136 - val_mean_squared_error: 0.0016 - val_root_mean_squared_error: 0.0401 - val_noiseToSignalLoss: 35.9259\n",
      "Epoch 2/20\n",
      "793/793 [==============================] - 4s 5ms/step - loss: 0.0133 - mean_squared_error: 0.0017 - root_mean_squared_error: 0.0414 - noiseToSignalLoss: 22.9131 - val_loss: 0.0122 - val_mean_squared_error: 0.0016 - val_root_mean_squared_error: 0.0395 - val_noiseToSignalLoss: 33.6420\n",
      "Epoch 3/20\n",
      "793/793 [==============================] - 4s 5ms/step - loss: 0.0127 - mean_squared_error: 0.0017 - root_mean_squared_error: 0.0408 - noiseToSignalLoss: 22.5498 - val_loss: 0.0119 - val_mean_squared_error: 0.0015 - val_root_mean_squared_error: 0.0392 - val_noiseToSignalLoss: 36.5689\n",
      "Epoch 4/20\n",
      "793/793 [==============================] - 4s 5ms/step - loss: 0.0124 - mean_squared_error: 0.0016 - root_mean_squared_error: 0.0404 - noiseToSignalLoss: 21.9835 - val_loss: 0.0117 - val_mean_squared_error: 0.0015 - val_root_mean_squared_error: 0.0388 - val_noiseToSignalLoss: 34.6854\n",
      "Epoch 5/20\n",
      "785/793 [============================>.] - ETA: 0s - loss: 0.0122 - mean_squared_error: 0.0016 - root_mean_squared_error: 0.0400 - noiseToSignalLoss: 21.4415"
     ]
    },
    {
     "output_type": "stream",
     "name": "stderr",
     "text": [
      "\u001B[32m[I 2022-06-29 22:16:13,543]\u001B[0m Trial 187 pruned. Trial was pruned at epoch 4.\u001B[0m\n"
     ]
    },
    {
     "output_type": "stream",
     "name": "stdout",
     "text": [
      "Epoch 1/20\n",
      "800/800 [==============================] - 5s 5ms/step - loss: 0.0406 - mean_squared_error: 0.0046 - root_mean_squared_error: 0.0675 - noiseToSignalLoss: 489.0870 - val_loss: 0.0163 - val_mean_squared_error: 0.0020 - val_root_mean_squared_error: 0.0447 - val_noiseToSignalLoss: 26.4409\n",
      "Epoch 2/20\n",
      "800/800 [==============================] - ETA: 0s - loss: 0.0193 - mean_squared_error: 0.0021 - root_mean_squared_error: 0.0454 - noiseToSignalLoss: 47.8603"
     ]
    },
    {
     "output_type": "stream",
     "name": "stderr",
     "text": [
      "\u001B[32m[I 2022-06-29 22:18:07,945]\u001B[0m Trial 188 pruned. Trial was pruned at epoch 1.\u001B[0m\n"
     ]
    },
    {
     "output_type": "stream",
     "name": "stdout",
     "text": [
      "Epoch 1/20\n",
      "793/793 [==============================] - 5s 5ms/step - loss: 0.0420 - mean_squared_error: 0.0042 - root_mean_squared_error: 0.0650 - noiseToSignalLoss: 407.0551 - val_loss: 0.0168 - val_mean_squared_error: 0.0020 - val_root_mean_squared_error: 0.0444 - val_noiseToSignalLoss: 30.3902\n",
      "Epoch 2/20\n",
      "790/793 [============================>.] - ETA: 0s - loss: 0.0241 - mean_squared_error: 0.0024 - root_mean_squared_error: 0.0487 - noiseToSignalLoss: 85.3749"
     ]
    },
    {
     "output_type": "stream",
     "name": "stderr",
     "text": [
      "\u001B[32m[I 2022-06-29 22:20:01,892]\u001B[0m Trial 189 pruned. Trial was pruned at epoch 1.\u001B[0m\n"
     ]
    },
    {
     "output_type": "stream",
     "name": "stdout",
     "text": [
      "Epoch 1/20\n",
      "793/793 [==============================] - 5s 5ms/step - loss: 0.0184 - mean_squared_error: 0.0022 - root_mean_squared_error: 0.0469 - noiseToSignalLoss: 85.0067 - val_loss: 0.0126 - val_mean_squared_error: 0.0016 - val_root_mean_squared_error: 0.0397 - val_noiseToSignalLoss: 32.3970\n",
      "Epoch 2/20\n",
      "784/793 [============================>.] - ETA: 0s - loss: 0.0133 - mean_squared_error: 0.0017 - root_mean_squared_error: 0.0413 - noiseToSignalLoss: 24.3549"
     ]
    },
    {
     "output_type": "stream",
     "name": "stderr",
     "text": [
      "\u001B[32m[I 2022-06-29 22:21:57,350]\u001B[0m Trial 190 pruned. Trial was pruned at epoch 1.\u001B[0m\n"
     ]
    },
    {
     "output_type": "stream",
     "name": "stdout",
     "text": [
      "Epoch 1/20\n",
      "793/793 [==============================] - 6s 5ms/step - loss: 0.0166 - mean_squared_error: 0.0021 - root_mean_squared_error: 0.0453 - noiseToSignalLoss: 71.4692 - val_loss: 0.0139 - val_mean_squared_error: 0.0017 - val_root_mean_squared_error: 0.0407 - val_noiseToSignalLoss: 22.1593\n",
      "Epoch 2/20\n",
      "793/793 [==============================] - 4s 5ms/step - loss: 0.0129 - mean_squared_error: 0.0017 - root_mean_squared_error: 0.0410 - noiseToSignalLoss: 22.7407 - val_loss: 0.0120 - val_mean_squared_error: 0.0016 - val_root_mean_squared_error: 0.0394 - val_noiseToSignalLoss: 28.8093\n",
      "Epoch 3/20\n",
      "793/793 [==============================] - 4s 5ms/step - loss: 0.0124 - mean_squared_error: 0.0016 - root_mean_squared_error: 0.0403 - noiseToSignalLoss: 21.5538 - val_loss: 0.0119 - val_mean_squared_error: 0.0015 - val_root_mean_squared_error: 0.0386 - val_noiseToSignalLoss: 35.2069\n",
      "Epoch 4/20\n",
      "793/793 [==============================] - 4s 5ms/step - loss: 0.0122 - mean_squared_error: 0.0015 - root_mean_squared_error: 0.0393 - noiseToSignalLoss: 18.9587 - val_loss: 0.0116 - val_mean_squared_error: 0.0014 - val_root_mean_squared_error: 0.0378 - val_noiseToSignalLoss: 15.1078\n",
      "Epoch 5/20\n",
      "793/793 [==============================] - 4s 5ms/step - loss: 0.0119 - mean_squared_error: 0.0015 - root_mean_squared_error: 0.0387 - noiseToSignalLoss: 17.2034 - val_loss: 0.0114 - val_mean_squared_error: 0.0014 - val_root_mean_squared_error: 0.0372 - val_noiseToSignalLoss: 16.6671\n",
      "Epoch 6/20\n",
      "793/793 [==============================] - 4s 5ms/step - loss: 0.0118 - mean_squared_error: 0.0015 - root_mean_squared_error: 0.0384 - noiseToSignalLoss: 16.3979 - val_loss: 0.0119 - val_mean_squared_error: 0.0014 - val_root_mean_squared_error: 0.0375 - val_noiseToSignalLoss: 13.1977\n",
      "Epoch 7/20\n",
      "793/793 [==============================] - 4s 5ms/step - loss: 0.0117 - mean_squared_error: 0.0015 - root_mean_squared_error: 0.0383 - noiseToSignalLoss: 16.1024 - val_loss: 0.0117 - val_mean_squared_error: 0.0014 - val_root_mean_squared_error: 0.0370 - val_noiseToSignalLoss: 19.1331\n",
      "Epoch 8/20\n",
      "793/793 [==============================] - 4s 5ms/step - loss: 0.0116 - mean_squared_error: 0.0015 - root_mean_squared_error: 0.0382 - noiseToSignalLoss: 15.2574 - val_loss: 0.0116 - val_mean_squared_error: 0.0014 - val_root_mean_squared_error: 0.0369 - val_noiseToSignalLoss: 17.9911\n",
      "Epoch 9/20\n",
      "793/793 [==============================] - 4s 5ms/step - loss: 0.0116 - mean_squared_error: 0.0014 - root_mean_squared_error: 0.0381 - noiseToSignalLoss: 15.2704 - val_loss: 0.0118 - val_mean_squared_error: 0.0013 - val_root_mean_squared_error: 0.0367 - val_noiseToSignalLoss: 21.1549\n",
      "Epoch 10/20\n",
      "793/793 [==============================] - 4s 5ms/step - loss: 0.0115 - mean_squared_error: 0.0014 - root_mean_squared_error: 0.0379 - noiseToSignalLoss: 15.8162 - val_loss: 0.0112 - val_mean_squared_error: 0.0013 - val_root_mean_squared_error: 0.0365 - val_noiseToSignalLoss: 21.9710\n",
      "Epoch 11/20\n",
      "793/793 [==============================] - 4s 5ms/step - loss: 0.0115 - mean_squared_error: 0.0014 - root_mean_squared_error: 0.0379 - noiseToSignalLoss: 15.9237 - val_loss: 0.0113 - val_mean_squared_error: 0.0013 - val_root_mean_squared_error: 0.0366 - val_noiseToSignalLoss: 21.3184\n",
      "Epoch 12/20\n",
      "793/793 [==============================] - 4s 5ms/step - loss: 0.0114 - mean_squared_error: 0.0014 - root_mean_squared_error: 0.0378 - noiseToSignalLoss: 15.8158 - val_loss: 0.0113 - val_mean_squared_error: 0.0014 - val_root_mean_squared_error: 0.0368 - val_noiseToSignalLoss: 18.2888\n",
      "Epoch 13/20\n",
      "793/793 [==============================] - 4s 5ms/step - loss: 0.0114 - mean_squared_error: 0.0014 - root_mean_squared_error: 0.0377 - noiseToSignalLoss: 15.7444 - val_loss: 0.0112 - val_mean_squared_error: 0.0014 - val_root_mean_squared_error: 0.0369 - val_noiseToSignalLoss: 14.3137\n",
      "Epoch 14/20\n",
      "793/793 [==============================] - 4s 5ms/step - loss: 0.0114 - mean_squared_error: 0.0014 - root_mean_squared_error: 0.0377 - noiseToSignalLoss: 15.5083 - val_loss: 0.0114 - val_mean_squared_error: 0.0013 - val_root_mean_squared_error: 0.0364 - val_noiseToSignalLoss: 21.4078\n",
      "Epoch 15/20\n",
      "793/793 [==============================] - 4s 5ms/step - loss: 0.0114 - mean_squared_error: 0.0014 - root_mean_squared_error: 0.0376 - noiseToSignalLoss: 15.4300 - val_loss: 0.0112 - val_mean_squared_error: 0.0013 - val_root_mean_squared_error: 0.0363 - val_noiseToSignalLoss: 21.0555\n",
      "Epoch 16/20\n",
      "793/793 [==============================] - 4s 5ms/step - loss: 0.0113 - mean_squared_error: 0.0014 - root_mean_squared_error: 0.0376 - noiseToSignalLoss: 15.0007 - val_loss: 0.0112 - val_mean_squared_error: 0.0013 - val_root_mean_squared_error: 0.0362 - val_noiseToSignalLoss: 18.3135\n",
      "Epoch 17/20\n",
      "788/793 [============================>.] - ETA: 0s - loss: 0.0113 - mean_squared_error: 0.0014 - root_mean_squared_error: 0.0376 - noiseToSignalLoss: 14.2090"
     ]
    },
    {
     "output_type": "stream",
     "name": "stderr",
     "text": [
      "\u001B[32m[I 2022-06-29 22:24:51,954]\u001B[0m Trial 191 pruned. Trial was pruned at epoch 16.\u001B[0m\n"
     ]
    },
    {
     "output_type": "stream",
     "name": "stdout",
     "text": [
      "Epoch 1/20\n",
      "793/793 [==============================] - 5s 5ms/step - loss: 0.0170 - mean_squared_error: 0.0020 - root_mean_squared_error: 0.0451 - noiseToSignalLoss: 71.7609 - val_loss: 0.0126 - val_mean_squared_error: 0.0016 - val_root_mean_squared_error: 0.0397 - val_noiseToSignalLoss: 31.8209\n",
      "Epoch 2/20\n",
      "786/793 [============================>.] - ETA: 0s - loss: 0.0131 - mean_squared_error: 0.0017 - root_mean_squared_error: 0.0411 - noiseToSignalLoss: 22.9380"
     ]
    },
    {
     "output_type": "stream",
     "name": "stderr",
     "text": [
      "\u001B[32m[I 2022-06-29 22:26:45,407]\u001B[0m Trial 192 pruned. Trial was pruned at epoch 1.\u001B[0m\n"
     ]
    },
    {
     "output_type": "stream",
     "name": "stdout",
     "text": [
      "Epoch 1/20\n",
      "793/793 [==============================] - 5s 5ms/step - loss: 0.0170 - mean_squared_error: 0.0020 - root_mean_squared_error: 0.0449 - noiseToSignalLoss: 53.4127 - val_loss: 0.0130 - val_mean_squared_error: 0.0016 - val_root_mean_squared_error: 0.0402 - val_noiseToSignalLoss: 23.0576\n",
      "Epoch 2/20\n",
      "786/793 [============================>.] - ETA: 0s - loss: 0.0133 - mean_squared_error: 0.0017 - root_mean_squared_error: 0.0413 - noiseToSignalLoss: 23.2061"
     ]
    },
    {
     "output_type": "stream",
     "name": "stderr",
     "text": [
      "\u001B[32m[I 2022-06-29 22:28:39,076]\u001B[0m Trial 193 pruned. Trial was pruned at epoch 1.\u001B[0m\n"
     ]
    },
    {
     "output_type": "stream",
     "name": "stdout",
     "text": [
      "Epoch 1/20\n",
      "793/793 [==============================] - 5s 5ms/step - loss: 0.0168 - mean_squared_error: 0.0020 - root_mean_squared_error: 0.0452 - noiseToSignalLoss: 56.5315 - val_loss: 0.0128 - val_mean_squared_error: 0.0016 - val_root_mean_squared_error: 0.0404 - val_noiseToSignalLoss: 24.0890\n",
      "Epoch 2/20\n",
      "793/793 [==============================] - 4s 5ms/step - loss: 0.0132 - mean_squared_error: 0.0017 - root_mean_squared_error: 0.0412 - noiseToSignalLoss: 22.9091 - val_loss: 0.0122 - val_mean_squared_error: 0.0016 - val_root_mean_squared_error: 0.0399 - val_noiseToSignalLoss: 27.6358\n",
      "Epoch 3/20\n",
      "793/793 [==============================] - 4s 5ms/step - loss: 0.0126 - mean_squared_error: 0.0017 - root_mean_squared_error: 0.0407 - noiseToSignalLoss: 22.7680 - val_loss: 0.0119 - val_mean_squared_error: 0.0015 - val_root_mean_squared_error: 0.0390 - val_noiseToSignalLoss: 32.7642\n",
      "Epoch 4/20\n",
      "793/793 [==============================] - 4s 5ms/step - loss: 0.0123 - mean_squared_error: 0.0016 - root_mean_squared_error: 0.0401 - noiseToSignalLoss: 20.7561 - val_loss: 0.0118 - val_mean_squared_error: 0.0015 - val_root_mean_squared_error: 0.0385 - val_noiseToSignalLoss: 24.6383\n",
      "Epoch 5/20\n",
      "793/793 [==============================] - ETA: 0s - loss: 0.0121 - mean_squared_error: 0.0015 - root_mean_squared_error: 0.0394 - noiseToSignalLoss: 18.2675"
     ]
    },
    {
     "output_type": "stream",
     "name": "stderr",
     "text": [
      "\u001B[32m[I 2022-06-29 22:30:44,959]\u001B[0m Trial 194 pruned. Trial was pruned at epoch 4.\u001B[0m\n"
     ]
    },
    {
     "output_type": "stream",
     "name": "stdout",
     "text": [
      "Epoch 1/20\n",
      "793/793 [==============================] - 5s 5ms/step - loss: 0.0161 - mean_squared_error: 0.0019 - root_mean_squared_error: 0.0441 - noiseToSignalLoss: 42.8505 - val_loss: 0.0122 - val_mean_squared_error: 0.0016 - val_root_mean_squared_error: 0.0399 - val_noiseToSignalLoss: 29.6756\n",
      "Epoch 2/20\n",
      "793/793 [==============================] - 4s 5ms/step - loss: 0.0129 - mean_squared_error: 0.0017 - root_mean_squared_error: 0.0412 - noiseToSignalLoss: 23.2193 - val_loss: 0.0123 - val_mean_squared_error: 0.0016 - val_root_mean_squared_error: 0.0396 - val_noiseToSignalLoss: 29.0870\n",
      "Epoch 3/20\n",
      "793/793 [==============================] - 4s 5ms/step - loss: 0.0125 - mean_squared_error: 0.0017 - root_mean_squared_error: 0.0408 - noiseToSignalLoss: 21.9862 - val_loss: 0.0120 - val_mean_squared_error: 0.0015 - val_root_mean_squared_error: 0.0392 - val_noiseToSignalLoss: 32.8429\n",
      "Epoch 4/20\n",
      "793/793 [==============================] - 4s 5ms/step - loss: 0.0123 - mean_squared_error: 0.0016 - root_mean_squared_error: 0.0405 - noiseToSignalLoss: 22.5134 - val_loss: 0.0117 - val_mean_squared_error: 0.0015 - val_root_mean_squared_error: 0.0389 - val_noiseToSignalLoss: 33.1127\n",
      "Epoch 5/20\n",
      "793/793 [==============================] - 4s 5ms/step - loss: 0.0121 - mean_squared_error: 0.0016 - root_mean_squared_error: 0.0401 - noiseToSignalLoss: 21.2927 - val_loss: 0.0117 - val_mean_squared_error: 0.0015 - val_root_mean_squared_error: 0.0385 - val_noiseToSignalLoss: 30.7172\n",
      "Epoch 6/20\n",
      "793/793 [==============================] - 4s 5ms/step - loss: 0.0120 - mean_squared_error: 0.0016 - root_mean_squared_error: 0.0396 - noiseToSignalLoss: 19.6662 - val_loss: 0.0117 - val_mean_squared_error: 0.0014 - val_root_mean_squared_error: 0.0377 - val_noiseToSignalLoss: 20.7079\n",
      "Epoch 7/20\n",
      "793/793 [==============================] - 4s 5ms/step - loss: 0.0118 - mean_squared_error: 0.0015 - root_mean_squared_error: 0.0386 - noiseToSignalLoss: 16.2693 - val_loss: 0.0114 - val_mean_squared_error: 0.0014 - val_root_mean_squared_error: 0.0374 - val_noiseToSignalLoss: 13.1305\n",
      "Epoch 8/20\n",
      "793/793 [==============================] - 4s 5ms/step - loss: 0.0116 - mean_squared_error: 0.0015 - root_mean_squared_error: 0.0383 - noiseToSignalLoss: 15.8646 - val_loss: 0.0113 - val_mean_squared_error: 0.0014 - val_root_mean_squared_error: 0.0369 - val_noiseToSignalLoss: 16.2786\n",
      "Epoch 9/20\n",
      "793/793 [==============================] - 4s 5ms/step - loss: 0.0116 - mean_squared_error: 0.0015 - root_mean_squared_error: 0.0381 - noiseToSignalLoss: 15.5489 - val_loss: 0.0112 - val_mean_squared_error: 0.0013 - val_root_mean_squared_error: 0.0367 - val_noiseToSignalLoss: 17.7427\n",
      "Epoch 10/20\n",
      "793/793 [==============================] - 4s 5ms/step - loss: 0.0115 - mean_squared_error: 0.0014 - root_mean_squared_error: 0.0380 - noiseToSignalLoss: 15.1013 - val_loss: 0.0112 - val_mean_squared_error: 0.0014 - val_root_mean_squared_error: 0.0369 - val_noiseToSignalLoss: 14.5767\n",
      "Epoch 11/20\n",
      "793/793 [==============================] - 4s 5ms/step - loss: 0.0115 - mean_squared_error: 0.0014 - root_mean_squared_error: 0.0379 - noiseToSignalLoss: 15.2154 - val_loss: 0.0112 - val_mean_squared_error: 0.0013 - val_root_mean_squared_error: 0.0366 - val_noiseToSignalLoss: 17.7542\n",
      "Epoch 12/20\n",
      "793/793 [==============================] - 4s 5ms/step - loss: 0.0114 - mean_squared_error: 0.0014 - root_mean_squared_error: 0.0378 - noiseToSignalLoss: 15.3346 - val_loss: 0.0111 - val_mean_squared_error: 0.0013 - val_root_mean_squared_error: 0.0366 - val_noiseToSignalLoss: 16.3010\n",
      "Epoch 13/20\n",
      "793/793 [==============================] - 4s 5ms/step - loss: 0.0114 - mean_squared_error: 0.0014 - root_mean_squared_error: 0.0377 - noiseToSignalLoss: 15.2698 - val_loss: 0.0111 - val_mean_squared_error: 0.0013 - val_root_mean_squared_error: 0.0367 - val_noiseToSignalLoss: 16.1467\n",
      "Epoch 14/20\n",
      "793/793 [==============================] - 4s 5ms/step - loss: 0.0114 - mean_squared_error: 0.0014 - root_mean_squared_error: 0.0377 - noiseToSignalLoss: 15.5408 - val_loss: 0.0112 - val_mean_squared_error: 0.0013 - val_root_mean_squared_error: 0.0367 - val_noiseToSignalLoss: 15.8936\n",
      "Epoch 15/20\n",
      "793/793 [==============================] - 4s 5ms/step - loss: 0.0113 - mean_squared_error: 0.0014 - root_mean_squared_error: 0.0377 - noiseToSignalLoss: 15.1100 - val_loss: 0.0111 - val_mean_squared_error: 0.0013 - val_root_mean_squared_error: 0.0363 - val_noiseToSignalLoss: 21.4891\n",
      "Epoch 16/20\n",
      "793/793 [==============================] - 4s 5ms/step - loss: 0.0113 - mean_squared_error: 0.0014 - root_mean_squared_error: 0.0376 - noiseToSignalLoss: 15.2011 - val_loss: 0.0111 - val_mean_squared_error: 0.0013 - val_root_mean_squared_error: 0.0363 - val_noiseToSignalLoss: 21.6883\n",
      "Epoch 17/20\n",
      "793/793 [==============================] - 4s 5ms/step - loss: 0.0113 - mean_squared_error: 0.0014 - root_mean_squared_error: 0.0376 - noiseToSignalLoss: 15.2119 - val_loss: 0.0111 - val_mean_squared_error: 0.0013 - val_root_mean_squared_error: 0.0365 - val_noiseToSignalLoss: 18.2147\n",
      "Epoch 18/20\n",
      "793/793 [==============================] - 4s 5ms/step - loss: 0.0113 - mean_squared_error: 0.0014 - root_mean_squared_error: 0.0376 - noiseToSignalLoss: 15.1330 - val_loss: 0.0110 - val_mean_squared_error: 0.0013 - val_root_mean_squared_error: 0.0363 - val_noiseToSignalLoss: 18.8664\n",
      "Epoch 19/20\n",
      "793/793 [==============================] - 4s 5ms/step - loss: 0.0113 - mean_squared_error: 0.0014 - root_mean_squared_error: 0.0376 - noiseToSignalLoss: 14.7644 - val_loss: 0.0115 - val_mean_squared_error: 0.0013 - val_root_mean_squared_error: 0.0362 - val_noiseToSignalLoss: 25.1423\n",
      "Epoch 20/20\n",
      "793/793 [==============================] - 4s 5ms/step - loss: 0.0113 - mean_squared_error: 0.0014 - root_mean_squared_error: 0.0376 - noiseToSignalLoss: 15.1241 - val_loss: 0.0112 - val_mean_squared_error: 0.0013 - val_root_mean_squared_error: 0.0362 - val_noiseToSignalLoss: 21.4810\n",
      "263/263 [==============================] - 1s 3ms/step - loss: 0.0093 - mean_squared_error: 8.2628e-04 - root_mean_squared_error: 0.0287 - noiseToSignalLoss: 14.6107\n"
     ]
    },
    {
     "output_type": "stream",
     "name": "stderr",
     "text": [
      "\u001B[32m[I 2022-06-29 22:33:52,367]\u001B[0m Trial 195 finished with value: 0.009258067235350609 and parameters: {'sequence_length': 6, 'ff1_hidden_neurons': 197, 'ff2_hidden_neurons': 117, 'ff3_hidden_neurons': 84, 'ff4_hidden_neurons': 81, 'ff5_hidden_neurons': 194, 'ff6_hidden_neurons': 98, 'ff7_hidden_neurons': 85, 'ff8_hidden_neurons': 100, 'ff9_hidden_neurons': 100, 'ff10_hidden_neurons': 207, 'ff11_hidden_neurons': 96, 'ff12_hidden_neurons': 82, 'ff13_hidden_neurons': 174, 'ff14_hidden_neurons': 240, 'ff15_hidden_neurons': 114, 'ff16_hidden_neurons': 154, 'ff17_hidden_neurons': 241, 'learning_rate': 4.9626268167993497e-05}. Best is trial 127 with value: 0.009016593918204308.\u001B[0m\n"
     ]
    },
    {
     "output_type": "stream",
     "name": "stdout",
     "text": [
      "Epoch 1/20\n",
      "793/793 [==============================] - 6s 5ms/step - loss: 0.0163 - mean_squared_error: 0.0019 - root_mean_squared_error: 0.0441 - noiseToSignalLoss: 40.6585 - val_loss: 0.0130 - val_mean_squared_error: 0.0017 - val_root_mean_squared_error: 0.0411 - val_noiseToSignalLoss: 22.9074\n",
      "Epoch 2/20\n",
      "793/793 [==============================] - 4s 5ms/step - loss: 0.0132 - mean_squared_error: 0.0017 - root_mean_squared_error: 0.0415 - noiseToSignalLoss: 24.4362 - val_loss: 0.0121 - val_mean_squared_error: 0.0016 - val_root_mean_squared_error: 0.0398 - val_noiseToSignalLoss: 33.0519\n",
      "Epoch 3/20\n",
      "793/793 [==============================] - 4s 5ms/step - loss: 0.0127 - mean_squared_error: 0.0017 - root_mean_squared_error: 0.0410 - noiseToSignalLoss: 23.6682 - val_loss: 0.0121 - val_mean_squared_error: 0.0016 - val_root_mean_squared_error: 0.0394 - val_noiseToSignalLoss: 39.4328\n",
      "Epoch 4/20\n",
      "793/793 [==============================] - 4s 5ms/step - loss: 0.0125 - mean_squared_error: 0.0017 - root_mean_squared_error: 0.0408 - noiseToSignalLoss: 22.7576 - val_loss: 0.0118 - val_mean_squared_error: 0.0015 - val_root_mean_squared_error: 0.0393 - val_noiseToSignalLoss: 35.9314\n",
      "Epoch 5/20\n",
      "789/793 [============================>.] - ETA: 0s - loss: 0.0123 - mean_squared_error: 0.0016 - root_mean_squared_error: 0.0406 - noiseToSignalLoss: 23.3598"
     ]
    },
    {
     "output_type": "stream",
     "name": "stderr",
     "text": [
      "\u001B[32m[I 2022-06-29 22:35:59,061]\u001B[0m Trial 196 pruned. Trial was pruned at epoch 4.\u001B[0m\n"
     ]
    },
    {
     "output_type": "stream",
     "name": "stdout",
     "text": [
      "Epoch 1/20\n",
      "793/793 [==============================] - 5s 6ms/step - loss: 0.0165 - mean_squared_error: 0.0020 - root_mean_squared_error: 0.0447 - noiseToSignalLoss: 49.4859 - val_loss: 0.0132 - val_mean_squared_error: 0.0017 - val_root_mean_squared_error: 0.0410 - val_noiseToSignalLoss: 23.5633\n",
      "Epoch 2/20\n",
      "793/793 [==============================] - 4s 5ms/step - loss: 0.0132 - mean_squared_error: 0.0017 - root_mean_squared_error: 0.0413 - noiseToSignalLoss: 23.8617 - val_loss: 0.0122 - val_mean_squared_error: 0.0016 - val_root_mean_squared_error: 0.0396 - val_noiseToSignalLoss: 33.4105\n",
      "Epoch 3/20\n",
      "793/793 [==============================] - 4s 5ms/step - loss: 0.0126 - mean_squared_error: 0.0017 - root_mean_squared_error: 0.0409 - noiseToSignalLoss: 23.6589 - val_loss: 0.0121 - val_mean_squared_error: 0.0016 - val_root_mean_squared_error: 0.0396 - val_noiseToSignalLoss: 31.3052\n",
      "Epoch 4/20\n",
      "793/793 [==============================] - 4s 5ms/step - loss: 0.0124 - mean_squared_error: 0.0017 - root_mean_squared_error: 0.0407 - noiseToSignalLoss: 23.2734 - val_loss: 0.0120 - val_mean_squared_error: 0.0015 - val_root_mean_squared_error: 0.0391 - val_noiseToSignalLoss: 45.2242\n",
      "Epoch 5/20\n",
      "783/793 [============================>.] - ETA: 0s - loss: 0.0123 - mean_squared_error: 0.0016 - root_mean_squared_error: 0.0405 - noiseToSignalLoss: 22.5924"
     ]
    },
    {
     "output_type": "stream",
     "name": "stderr",
     "text": [
      "\u001B[32m[I 2022-06-29 22:38:05,472]\u001B[0m Trial 197 pruned. Trial was pruned at epoch 4.\u001B[0m\n"
     ]
    },
    {
     "output_type": "stream",
     "name": "stdout",
     "text": [
      "Epoch 1/20\n",
      "793/793 [==============================] - 5s 5ms/step - loss: 0.0189 - mean_squared_error: 0.0022 - root_mean_squared_error: 0.0471 - noiseToSignalLoss: 86.0637 - val_loss: 0.0129 - val_mean_squared_error: 0.0016 - val_root_mean_squared_error: 0.0405 - val_noiseToSignalLoss: 29.8510\n",
      "Epoch 2/20\n",
      "791/793 [============================>.] - ETA: 0s - loss: 0.0135 - mean_squared_error: 0.0017 - root_mean_squared_error: 0.0416 - noiseToSignalLoss: 25.5471"
     ]
    },
    {
     "output_type": "stream",
     "name": "stderr",
     "text": [
      "\u001B[32m[I 2022-06-29 22:39:59,345]\u001B[0m Trial 198 pruned. Trial was pruned at epoch 1.\u001B[0m\n"
     ]
    },
    {
     "output_type": "stream",
     "name": "stdout",
     "text": [
      "Epoch 1/20\n",
      "800/800 [==============================] - 5s 5ms/step - loss: 0.0161 - mean_squared_error: 0.0020 - root_mean_squared_error: 0.0442 - noiseToSignalLoss: 54.8441 - val_loss: 0.0125 - val_mean_squared_error: 0.0017 - val_root_mean_squared_error: 0.0412 - val_noiseToSignalLoss: 15.0127\n",
      "Epoch 2/20\n",
      "794/800 [============================>.] - ETA: 0s - loss: 0.0127 - mean_squared_error: 0.0016 - root_mean_squared_error: 0.0402 - noiseToSignalLoss: 23.9410"
     ]
    },
    {
     "output_type": "stream",
     "name": "stderr",
     "text": [
      "\u001B[32m[I 2022-06-29 22:41:55,876]\u001B[0m Trial 199 pruned. Trial was pruned at epoch 1.\u001B[0m\n"
     ]
    },
    {
     "output_type": "stream",
     "name": "stdout",
     "text": [
      "Study statistics:\n",
      "   Number of finished Trials:  200\n",
      "   Number of pruned Trials:  186\n",
      "   Number of complete Trials:  14\n",
      "Best Trial: \n",
      "  MAE:  0.009016593918204308\n",
      "   Params: \n",
      "   sequence_length: 6\n",
      "   ff1_hidden_neurons: 134\n",
      "   ff2_hidden_neurons: 112\n",
      "   ff3_hidden_neurons: 90\n",
      "   ff4_hidden_neurons: 223\n",
      "   ff5_hidden_neurons: 199\n",
      "   ff6_hidden_neurons: 100\n",
      "   ff7_hidden_neurons: 145\n",
      "   ff8_hidden_neurons: 160\n",
      "   ff9_hidden_neurons: 231\n",
      "   ff10_hidden_neurons: 83\n",
      "   ff11_hidden_neurons: 182\n",
      "   ff12_hidden_neurons: 147\n",
      "   ff13_hidden_neurons: 165\n",
      "   ff14_hidden_neurons: 134\n",
      "   ff15_hidden_neurons: 139\n",
      "   ff16_hidden_neurons: 244\n",
      "   ff17_hidden_neurons: 194\n",
      "   learning_rate: 9.913904350268535e-05\n"
     ]
    }
   ]
  }
 ],
 "metadata": {
  "kernelspec": {
   "display_name": "Python 3",
   "language": "python",
   "name": "python3"
  },
  "language_info": {
   "codemirror_mode": {
    "name": "ipython",
    "version": 2
   },
   "file_extension": ".py",
   "mimetype": "text/x-python",
   "name": "python",
   "nbconvert_exporter": "python",
   "pygments_lexer": "ipython2",
   "version": "2.7.6"
  },
  "colab": {
   "provenance": [],
   "collapsed_sections": [],
   "machine_shape": "hm"
  },
  "accelerator": "GPU",
  "gpuClass": "standard"
 },
 "nbformat": 4,
 "nbformat_minor": 0
}