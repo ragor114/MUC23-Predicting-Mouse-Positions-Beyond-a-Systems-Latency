{
 "cells": [
  {
   "cell_type": "markdown",
   "source": [
    "# Load Data"
   ],
   "metadata": {
    "collapsed": false,
    "pycharm": {
     "name": "#%% md\n"
    },
    "id": "o56i7ae9fFdP"
   }
  },
  {
   "cell_type": "code",
   "execution_count": 1,
   "outputs": [],
   "source": [
    "import pandas as pd\n",
    "import os"
   ],
   "metadata": {
    "pycharm": {
     "name": "#%%\n"
    },
    "id": "I-8_w9FLfFdT",
    "executionInfo": {
     "status": "ok",
     "timestamp": 1654593383598,
     "user_tz": -120,
     "elapsed": 322,
     "user": {
      "displayName": "ragor lp",
      "userId": "03519789758803718348"
     }
    }
   }
  },
  {
   "cell_type": "code",
   "execution_count": 2,
   "outputs": [],
   "source": [
    "all_data = []\n",
    "if os.getcwd().split(\"\\\\\")[len(os.getcwd().split(\"\\\\\")) - 1] != \"data\":\n",
    "    os.chdir('./data')\n",
    "\n",
    "for f in os.listdir():\n",
    "    # print(f)\n",
    "    part_id = f.split(\"_\")[1].split(\".\")[0]\n",
    "    # print(part_id)\n",
    "    df = pd.read_csv(f, sep=\";\")\n",
    "    df[\"part_id\"] = part_id\n",
    "    all_data.append(df)"
   ],
   "metadata": {
    "pycharm": {
     "name": "#%%\n"
    },
    "id": "-BIUJ7BQRa0M",
    "executionInfo": {
     "status": "ok",
     "timestamp": 1654593389087,
     "user_tz": -120,
     "elapsed": 3952,
     "user": {
      "displayName": "ragor lp",
      "userId": "03519789758803718348"
     }
    }
   }
  },
  {
   "cell_type": "code",
   "execution_count": 3,
   "outputs": [
    {
     "name": "stdout",
     "output_type": "stream",
     "text": [
      "60\n"
     ]
    },
    {
     "data": {
      "text/plain": "       timestamp  active  xPos  yPos  TargetX  StartX  TunnelAmplitude  \\\n0  1652861652030       0     0     0     79.5  1286.5             1207   \n1  1652861652056       0     0     0     79.5  1286.5             1207   \n2  1652861652116       0   676   593     79.5  1286.5             1207   \n3  1652861652128       0   676   593     79.5  1286.5             1207   \n4  1652861652140       0   676   593     79.5  1286.5             1207   \n\n   TunnelWidth  YDistanceToTop  YDistanceToBottom   part_id  \n0           57          -284.0              341.0  12299398  \n1           57          -284.0              341.0  12299398  \n2           57           237.5             -180.5  12299398  \n3           57           237.5             -180.5  12299398  \n4           57           237.5             -180.5  12299398  ",
      "text/html": "<div>\n<style scoped>\n    .dataframe tbody tr th:only-of-type {\n        vertical-align: middle;\n    }\n\n    .dataframe tbody tr th {\n        vertical-align: top;\n    }\n\n    .dataframe thead th {\n        text-align: right;\n    }\n</style>\n<table border=\"1\" class=\"dataframe\">\n  <thead>\n    <tr style=\"text-align: right;\">\n      <th></th>\n      <th>timestamp</th>\n      <th>active</th>\n      <th>xPos</th>\n      <th>yPos</th>\n      <th>TargetX</th>\n      <th>StartX</th>\n      <th>TunnelAmplitude</th>\n      <th>TunnelWidth</th>\n      <th>YDistanceToTop</th>\n      <th>YDistanceToBottom</th>\n      <th>part_id</th>\n    </tr>\n  </thead>\n  <tbody>\n    <tr>\n      <th>0</th>\n      <td>1652861652030</td>\n      <td>0</td>\n      <td>0</td>\n      <td>0</td>\n      <td>79.5</td>\n      <td>1286.5</td>\n      <td>1207</td>\n      <td>57</td>\n      <td>-284.0</td>\n      <td>341.0</td>\n      <td>12299398</td>\n    </tr>\n    <tr>\n      <th>1</th>\n      <td>1652861652056</td>\n      <td>0</td>\n      <td>0</td>\n      <td>0</td>\n      <td>79.5</td>\n      <td>1286.5</td>\n      <td>1207</td>\n      <td>57</td>\n      <td>-284.0</td>\n      <td>341.0</td>\n      <td>12299398</td>\n    </tr>\n    <tr>\n      <th>2</th>\n      <td>1652861652116</td>\n      <td>0</td>\n      <td>676</td>\n      <td>593</td>\n      <td>79.5</td>\n      <td>1286.5</td>\n      <td>1207</td>\n      <td>57</td>\n      <td>237.5</td>\n      <td>-180.5</td>\n      <td>12299398</td>\n    </tr>\n    <tr>\n      <th>3</th>\n      <td>1652861652128</td>\n      <td>0</td>\n      <td>676</td>\n      <td>593</td>\n      <td>79.5</td>\n      <td>1286.5</td>\n      <td>1207</td>\n      <td>57</td>\n      <td>237.5</td>\n      <td>-180.5</td>\n      <td>12299398</td>\n    </tr>\n    <tr>\n      <th>4</th>\n      <td>1652861652140</td>\n      <td>0</td>\n      <td>676</td>\n      <td>593</td>\n      <td>79.5</td>\n      <td>1286.5</td>\n      <td>1207</td>\n      <td>57</td>\n      <td>237.5</td>\n      <td>-180.5</td>\n      <td>12299398</td>\n    </tr>\n  </tbody>\n</table>\n</div>"
     },
     "execution_count": 3,
     "metadata": {},
     "output_type": "execute_result"
    }
   ],
   "source": [
    "print(len(all_data))\n",
    "all_data[0].head()"
   ],
   "metadata": {
    "pycharm": {
     "name": "#%%\n"
    },
    "colab": {
     "base_uri": "https://localhost:8080/",
     "height": 224
    },
    "id": "0a-7Jwl8Ra0P",
    "executionInfo": {
     "status": "ok",
     "timestamp": 1654593392628,
     "user_tz": -120,
     "elapsed": 334,
     "user": {
      "displayName": "ragor lp",
      "userId": "03519789758803718348"
     }
    },
    "outputId": "d043a9c1-edd4-49db-ec4d-41516cb890c8"
   }
  },
  {
   "cell_type": "markdown",
   "source": [
    "# Preprocess Data"
   ],
   "metadata": {
    "collapsed": false,
    "pycharm": {
     "name": "#%% md\n"
    },
    "id": "vrEGgY7JRa0Q"
   }
  },
  {
   "cell_type": "markdown",
   "source": [
    "## Normalize by Participants Displaysize"
   ],
   "metadata": {
    "collapsed": false,
    "pycharm": {
     "name": "#%% md\n"
    },
    "id": "k4lvLGm9Ra0T"
   }
  },
  {
   "cell_type": "code",
   "execution_count": 3,
   "outputs": [],
   "source": [
    "import copy"
   ],
   "metadata": {
    "pycharm": {
     "name": "#%%\n"
    },
    "id": "vQSq6YESRa0W",
    "executionInfo": {
     "status": "ok",
     "timestamp": 1654593394001,
     "user_tz": -120,
     "elapsed": 310,
     "user": {
      "displayName": "ragor lp",
      "userId": "03519789758803718348"
     }
    }
   }
  },
  {
   "cell_type": "code",
   "execution_count": 4,
   "outputs": [],
   "source": [
    "def normalize_by_screen(datapoint, screenwidth, screenheight):\n",
    "    normalized = copy.deepcopy(datapoint)\n",
    "    normalized[\"xPos\"] /= screenwidth\n",
    "    normalized[\"TargetX\"] /= screenwidth\n",
    "    normalized[\"StartX\"] /= screenwidth\n",
    "    normalized[\"TunnelAmplitude\"] /= screenwidth\n",
    "    normalized[\"yPos\"] /= screenheight\n",
    "    normalized[\"TunnelWidth\"] /= screenheight\n",
    "    normalized[\"YDistanceToTop\"] /= screenheight\n",
    "    normalized[\"YDistanceToBottom\"] /= screenheight\n",
    "    return normalized"
   ],
   "metadata": {
    "pycharm": {
     "name": "#%%\n"
    },
    "id": "weuy6LzcRa0X",
    "executionInfo": {
     "status": "ok",
     "timestamp": 1654593395071,
     "user_tz": -120,
     "elapsed": 4,
     "user": {
      "displayName": "ragor lp",
      "userId": "03519789758803718348"
     }
    }
   }
  },
  {
   "cell_type": "code",
   "execution_count": 5,
   "outputs": [],
   "source": [
    "def get_participants_screensize(datapoint):\n",
    "    x_res = -1\n",
    "    y_res = -1\n",
    "    # print(datapoint)\n",
    "    curr_part_id = datapoint[\"part_id\"][0]\n",
    "    # print(part_id)\n",
    "    for f in os.listdir():\n",
    "        curr_id = f.split(\"_\")[1].split(\".\")[0]\n",
    "        if curr_id == curr_part_id:\n",
    "            demographic = pd.read_csv(f, sep=\";\")\n",
    "            real_res_string = demographic[\"Real Res\"][0]\n",
    "            real_res_string = real_res_string.replace(\"px\", \"\")\n",
    "            x_res = real_res_string.split(\" x \")[0]\n",
    "            y_res = real_res_string.split(\" x \")[1]\n",
    "    return int(x_res), int(y_res)"
   ],
   "metadata": {
    "pycharm": {
     "name": "#%%\n"
    },
    "id": "METZK8CuRa0a",
    "executionInfo": {
     "status": "ok",
     "timestamp": 1654593396384,
     "user_tz": -120,
     "elapsed": 4,
     "user": {
      "displayName": "ragor lp",
      "userId": "03519789758803718348"
     }
    }
   }
  },
  {
   "cell_type": "code",
   "execution_count": 6,
   "outputs": [],
   "source": [
    "def normalize_screensize(dataset):\n",
    "    if os.getcwd().split(\"\\\\\")[len(os.getcwd().split(\"\\\\\")) - 1] != \"demographic_data\":\n",
    "        os.chdir(\"../demographic_data\")\n",
    "    for i, datapoint in enumerate(dataset):\n",
    "        screenwidth, screenheight = get_participants_screensize(datapoint)\n",
    "        dataset[i] = normalize_by_screen(datapoint, screenwidth, screenheight)"
   ],
   "metadata": {
    "pycharm": {
     "name": "#%%\n"
    },
    "id": "FkndMo5yRa0b",
    "executionInfo": {
     "status": "ok",
     "timestamp": 1654593398160,
     "user_tz": -120,
     "elapsed": 325,
     "user": {
      "displayName": "ragor lp",
      "userId": "03519789758803718348"
     }
    }
   }
  },
  {
   "cell_type": "markdown",
   "source": [
    "## First Order Derivation\n",
    "The goal is to make the movement independent of the positions\n",
    "Therefore, xPos and yPos are converted to speeds by taking the first derivation"
   ],
   "metadata": {
    "collapsed": false,
    "pycharm": {
     "name": "#%% md\n"
    },
    "id": "7zINz_3PRa0d"
   }
  },
  {
   "cell_type": "code",
   "execution_count": 35,
   "outputs": [],
   "source": [
    "def get_data_with_derivate(datapoint):\n",
    "    diffSeries = datapoint[\"xPos\"].diff(periods=1)\n",
    "    datapoint.insert(3, \"xSpeed\", diffSeries)\n",
    "    diffSeries = datapoint[\"yPos\"].diff(periods=1)\n",
    "    datapoint.insert(5, \"ySpeed\", diffSeries)"
   ],
   "metadata": {
    "pycharm": {
     "name": "#%%\n"
    },
    "id": "OGYZLJM7Ra0f",
    "executionInfo": {
     "status": "ok",
     "timestamp": 1654593399225,
     "user_tz": -120,
     "elapsed": 4,
     "user": {
      "displayName": "ragor lp",
      "userId": "03519789758803718348"
     }
    }
   }
  },
  {
   "cell_type": "markdown",
   "source": [
    "## Umwandeln in Array"
   ],
   "metadata": {
    "collapsed": false,
    "pycharm": {
     "name": "#%% md\n"
    },
    "id": "Mr_bZv4jRa0h"
   }
  },
  {
   "cell_type": "code",
   "execution_count": 7,
   "outputs": [],
   "source": [
    "import numpy as np"
   ],
   "metadata": {
    "pycharm": {
     "name": "#%%\n"
    },
    "id": "0CWbjoTWRa0i",
    "executionInfo": {
     "status": "ok",
     "timestamp": 1654593400820,
     "user_tz": -120,
     "elapsed": 340,
     "user": {
      "displayName": "ragor lp",
      "userId": "03519789758803718348"
     }
    }
   }
  },
  {
   "cell_type": "code",
   "execution_count": 8,
   "outputs": [],
   "source": [
    "def get_np_arrays(data):\n",
    "    data_array = []\n",
    "    for curr in data:\n",
    "        removed = copy.deepcopy(curr)\n",
    "        removed = removed.drop('timestamp', axis=1)\n",
    "        removed = removed.drop('xPos', axis=1)\n",
    "        removed = removed.drop('yPos', axis=1)\n",
    "        removed = removed.drop('part_id', axis=1)\n",
    "        data_array.append(removed.to_numpy(copy=True, dtype='float32'))\n",
    "    return data_array"
   ],
   "metadata": {
    "pycharm": {
     "name": "#%%\n"
    },
    "id": "58-atKtuRa0j",
    "executionInfo": {
     "status": "ok",
     "timestamp": 1654593402258,
     "user_tz": -120,
     "elapsed": 2,
     "user": {
      "displayName": "ragor lp",
      "userId": "03519789758803718348"
     }
    }
   }
  },
  {
   "cell_type": "markdown",
   "source": [
    "## Split into sections of n samples"
   ],
   "metadata": {
    "collapsed": false,
    "pycharm": {
     "name": "#%% md\n"
    },
    "id": "86bGSEqyRa0k"
   }
  },
  {
   "cell_type": "code",
   "execution_count": 9,
   "outputs": [],
   "source": [
    "def append_samples_of_length_n(participant_data, n, samples, labels, label_distance):\n",
    "    for i in range(participant_data.shape[0] - (n+label_distance)):\n",
    "        samples.append(copy.deepcopy(participant_data[i:i+n]))\n",
    "        sum_to_label = np.array([0,0], dtype='float64')\n",
    "        for j in range (i+n+1, i+n+label_distance+1):\n",
    "            sum_to_label += participant_data[j][1:3]\n",
    "        labels.append(copy.deepcopy(sum_to_label))\n",
    "        # labels.append(copy.deepcopy(participant_data[i+n+label_distance][1:3]))"
   ],
   "metadata": {
    "pycharm": {
     "name": "#%%\n"
    },
    "id": "SY8p21R6Ra0m",
    "executionInfo": {
     "status": "ok",
     "timestamp": 1654593403411,
     "user_tz": -120,
     "elapsed": 8,
     "user": {
      "displayName": "ragor lp",
      "userId": "03519789758803718348"
     }
    }
   }
  },
  {
   "cell_type": "code",
   "execution_count": 10,
   "outputs": [],
   "source": [
    "def get_samples_and_labels(data_array, N=10, label_distance=10):\n",
    "    samples = []\n",
    "    labels = []\n",
    "    for participant_data in data_array:\n",
    "        append_samples_of_length_n(participant_data, N, samples, labels, label_distance)\n",
    "    return samples, labels"
   ],
   "metadata": {
    "pycharm": {
     "name": "#%%\n"
    },
    "id": "4QJkYRQgRa0m",
    "executionInfo": {
     "status": "ok",
     "timestamp": 1654593404320,
     "user_tz": -120,
     "elapsed": 4,
     "user": {
      "displayName": "ragor lp",
      "userId": "03519789758803718348"
     }
    }
   }
  },
  {
   "cell_type": "markdown",
   "source": [
    "## Remove unusable samples\n",
    "If in one sample all 10 xSpeeds and ySpeeds are equal the sample is removed, if between the last sample and the label the mouse isn't moved the sample is removed"
   ],
   "metadata": {
    "collapsed": false,
    "pycharm": {
     "name": "#%% md\n"
    },
    "id": "Zw8hjA6SRa0n"
   }
  },
  {
   "cell_type": "code",
   "execution_count": 11,
   "outputs": [],
   "source": [
    "def remove_unusable(data, labels, verbose=0):\n",
    "    # print(labels)\n",
    "    new_data = []\n",
    "    new_labels = []\n",
    "    for i, sample in enumerate(data):\n",
    "        bool_array = np.all(sample == sample[0,:], axis=0)\n",
    "        if bool_array[1] == False or bool_array[2] == False:\n",
    "            if labels[i][0] != 0:\n",
    "                new_data.append(sample)\n",
    "                new_labels.append(labels[i])\n",
    "        if verbose > 1 and i % 100000 == 0:\n",
    "            print(f'evaluated {i}')\n",
    "\n",
    "    if verbose > 0:\n",
    "        print(f'removed {len(data) - len(new_data)} samples')\n",
    "\n",
    "    return new_data, new_labels"
   ],
   "metadata": {
    "pycharm": {
     "name": "#%%\n"
    },
    "id": "G_T9BcsURa0o",
    "executionInfo": {
     "status": "ok",
     "timestamp": 1654593406077,
     "user_tz": -120,
     "elapsed": 390,
     "user": {
      "displayName": "ragor lp",
      "userId": "03519789758803718348"
     }
    }
   }
  },
  {
   "cell_type": "markdown",
   "source": [
    "## Make all Samples face the same way\n",
    "The average xSpeed is calculated, if this average is negative all xSpeeds are multiplied by one to make all vectors face in the same direction"
   ],
   "metadata": {
    "collapsed": false,
    "pycharm": {
     "name": "#%% md\n"
    },
    "id": "9W1cCJSQRa0o"
   }
  },
  {
   "cell_type": "code",
   "execution_count": 12,
   "outputs": [],
   "source": [
    "def make_same_orientation(data, verbose=0):\n",
    "    changed = 0\n",
    "    for sample in data:\n",
    "        average_x_speed = np.average(sample, axis=0)[1]\n",
    "        if average_x_speed < 0:\n",
    "            sample[:, 1] *= -1\n",
    "            if verbose > 0:\n",
    "                changed += 1\n",
    "    if verbose > 0:\n",
    "        print(f'Changed {changed} samples')"
   ],
   "metadata": {
    "pycharm": {
     "name": "#%%\n"
    },
    "id": "xx7t-mLDRa0p",
    "executionInfo": {
     "status": "ok",
     "timestamp": 1654593407557,
     "user_tz": -120,
     "elapsed": 3,
     "user": {
      "displayName": "ragor lp",
      "userId": "03519789758803718348"
     }
    }
   }
  },
  {
   "cell_type": "markdown",
   "source": [
    "## Transform a dataset"
   ],
   "metadata": {
    "collapsed": false,
    "pycharm": {
     "name": "#%% md\n"
    },
    "id": "iZhcLlXXRa0q"
   }
  },
  {
   "cell_type": "code",
   "execution_count": 13,
   "outputs": [],
   "source": [
    "def get_transformed_data(dataset, N, label_distance, verbose):\n",
    "    normalize_screensize(dataset)\n",
    "\n",
    "    if'xSpeed' not in dataset[0].columns:\n",
    "        for datapoint in dataset:\n",
    "            get_data_with_derivate(datapoint)\n",
    "            datapoint.drop(index=0, axis=0, inplace=True)\n",
    "\n",
    "    data_array = get_np_arrays(dataset)\n",
    "\n",
    "    samples, labels = get_samples_and_labels(data_array, N, label_distance)\n",
    "\n",
    "    samples, labels = remove_unusable(samples, labels, verbose=verbose)\n",
    "\n",
    "    make_same_orientation(samples, verbose=verbose)\n",
    "\n",
    "    return samples, labels"
   ],
   "metadata": {
    "pycharm": {
     "name": "#%%\n"
    },
    "id": "N25fjPc5Ra0q",
    "executionInfo": {
     "status": "ok",
     "timestamp": 1654593408699,
     "user_tz": -120,
     "elapsed": 4,
     "user": {
      "displayName": "ragor lp",
      "userId": "03519789758803718348"
     }
    }
   }
  },
  {
   "cell_type": "markdown",
   "source": [
    "## Train-Test-Split\n",
    "Initially the entire dataset given in all_data are split into Test and Train group by participants, than the datasets are preprocessed in the same way"
   ],
   "metadata": {
    "collapsed": false,
    "pycharm": {
     "name": "#%% md\n"
    },
    "id": "sthPg4EeRa0q"
   }
  },
  {
   "cell_type": "code",
   "execution_count": 14,
   "outputs": [],
   "source": [
    "TRAIN_SPLIT = 0.8\n",
    "TEST_SPLIT = 1.0 - TRAIN_SPLIT"
   ],
   "metadata": {
    "pycharm": {
     "name": "#%%\n"
    },
    "id": "-e0NepAyRa0r",
    "executionInfo": {
     "status": "ok",
     "timestamp": 1654593409841,
     "user_tz": -120,
     "elapsed": 3,
     "user": {
      "displayName": "ragor lp",
      "userId": "03519789758803718348"
     }
    }
   }
  },
  {
   "cell_type": "code",
   "execution_count": 15,
   "outputs": [],
   "source": [
    "import random as rand\n",
    "SEED = 16961"
   ],
   "metadata": {
    "pycharm": {
     "name": "#%%\n"
    },
    "id": "clDQAsRFRa0r",
    "executionInfo": {
     "status": "ok",
     "timestamp": 1654593411260,
     "user_tz": -120,
     "elapsed": 3,
     "user": {
      "displayName": "ragor lp",
      "userId": "03519789758803718348"
     }
    }
   }
  },
  {
   "cell_type": "code",
   "execution_count": 16,
   "outputs": [],
   "source": [
    "def get_train_test_split_data(dataset):\n",
    "    train_data_amount = 0.8 * len(dataset)\n",
    "\n",
    "    train_data = []\n",
    "    test_data = []\n",
    "\n",
    "    rand.seed(SEED)\n",
    "    train_indizes = rand.sample(range(len(dataset)), int(train_data_amount))\n",
    "    # print(train_indizes)\n",
    "\n",
    "    for i, sample in enumerate(dataset):\n",
    "        if i in train_indizes:\n",
    "            train_data.append(sample)\n",
    "        else:\n",
    "            test_data.append(sample)\n",
    "\n",
    "    # print(len(train_data))\n",
    "    # print(len(test_data))\n",
    "\n",
    "    return train_data, test_data"
   ],
   "metadata": {
    "pycharm": {
     "name": "#%%\n"
    },
    "id": "OQrsMfvgRa0r",
    "executionInfo": {
     "status": "ok",
     "timestamp": 1654593412313,
     "user_tz": -120,
     "elapsed": 3,
     "user": {
      "displayName": "ragor lp",
      "userId": "03519789758803718348"
     }
    }
   }
  },
  {
   "cell_type": "markdown",
   "source": [
    "## Normalize Trainingdata\n",
    "The average column values of the training data is calculated, each value in test and training data is divided by the average of its column"
   ],
   "metadata": {
    "collapsed": false,
    "pycharm": {
     "name": "#%% md\n"
    },
    "id": "9zFZq6E9Ra0s"
   }
  },
  {
   "cell_type": "code",
   "execution_count": 17,
   "outputs": [],
   "source": [
    "def get_average_array(arr, axis=(0,1)):\n",
    "    return np.mean(arr, axis=axis)"
   ],
   "metadata": {
    "pycharm": {
     "name": "#%%\n"
    },
    "id": "dO38uWBORa0t",
    "executionInfo": {
     "status": "ok",
     "timestamp": 1654593413569,
     "user_tz": -120,
     "elapsed": 4,
     "user": {
      "displayName": "ragor lp",
      "userId": "03519789758803718348"
     }
    }
   }
  },
  {
   "cell_type": "code",
   "execution_count": 18,
   "outputs": [],
   "source": [
    "def get_normalized_arrays(train_samples, train_labels, test_samples, test_labels):\n",
    "    avg_array = get_average_array(train_samples)\n",
    "    avg_label_array = get_average_array(train_labels, 0)\n",
    "\n",
    "    train_array = np.array(train_samples)\n",
    "    test_array = np.array(test_samples)\n",
    "    train_labels_array = np.array(train_labels)\n",
    "    test_labels_array = np.array(test_labels)\n",
    "\n",
    "    train_normalized = train_array[:, :, ] / avg_array\n",
    "    train_normalized[:, : , 0] = train_array[:, :, 0]\n",
    "    train_normalized[:, :, 2] = train_array[:, :, 2]\n",
    "\n",
    "    test_normalized = test_array[:, :, ] / avg_array\n",
    "    test_normalized[:, :, 0] = test_array[:, :, 0]\n",
    "    test_normalized[:, :, 2] = test_array[:, :, 2]\n",
    "\n",
    "    # train_labels_array[:, 0] /= avg_label_array[0:1] - averages are very low!\n",
    "\n",
    "    # test_labels_array[:, 0] /= avg_label_array[0:1]\n",
    "\n",
    "    return train_normalized, train_labels_array, test_normalized, test_labels_array"
   ],
   "metadata": {
    "pycharm": {
     "name": "#%%\n"
    },
    "id": "IZTyg2I1Ra0u",
    "executionInfo": {
     "status": "ok",
     "timestamp": 1654593415051,
     "user_tz": -120,
     "elapsed": 331,
     "user": {
      "displayName": "ragor lp",
      "userId": "03519789758803718348"
     }
    }
   }
  },
  {
   "cell_type": "markdown",
   "source": [
    "## Shuffle Arrays"
   ],
   "metadata": {
    "collapsed": false,
    "pycharm": {
     "name": "#%% md\n"
    },
    "id": "xxAX3h8pRa0u"
   }
  },
  {
   "cell_type": "code",
   "execution_count": 19,
   "outputs": [],
   "source": [
    "from sklearn.utils import shuffle"
   ],
   "metadata": {
    "pycharm": {
     "name": "#%%\n"
    },
    "id": "elzcacaeRa0v",
    "executionInfo": {
     "status": "ok",
     "timestamp": 1654593416588,
     "user_tz": -120,
     "elapsed": 342,
     "user": {
      "displayName": "ragor lp",
      "userId": "03519789758803718348"
     }
    }
   }
  },
  {
   "cell_type": "code",
   "execution_count": 20,
   "outputs": [],
   "source": [
    "VERBOSE = 1\n",
    "LABEL_DISTANCE = 6 # 6 => 100ms\n",
    "\n",
    "def get_preprocessed_data(N):\n",
    "    train_data, test_data = get_train_test_split_data(all_data)\n",
    "\n",
    "    train_samples, train_labels = get_transformed_data(train_data, N, LABEL_DISTANCE, 0)\n",
    "    test_samples, test_labels = get_transformed_data(test_data, N, LABEL_DISTANCE, 0)\n",
    "\n",
    "    train_samples, train_labels, test_samples, test_labels = get_normalized_arrays(train_samples, train_labels, test_samples, test_labels)\n",
    "\n",
    "    train_samples, train_labels = shuffle(train_samples, train_labels, random_state=SEED)\n",
    "    test_samples, test_labels = shuffle(test_samples, test_labels, random_state=SEED)\n",
    "\n",
    "    return train_samples, train_labels, test_samples, test_labels"
   ],
   "metadata": {
    "pycharm": {
     "name": "#%%\n"
    },
    "id": "slPtax1QRa0w",
    "executionInfo": {
     "status": "ok",
     "timestamp": 1654593417677,
     "user_tz": -120,
     "elapsed": 6,
     "user": {
      "displayName": "ragor lp",
      "userId": "03519789758803718348"
     }
    }
   }
  },
  {
   "cell_type": "markdown",
   "source": [
    "# Hyperparameter Optimization"
   ],
   "metadata": {
    "collapsed": false,
    "pycharm": {
     "name": "#%% md\n"
    },
    "id": "0nPkqx7FRa0w"
   }
  },
  {
   "cell_type": "code",
   "execution_count": 21,
   "outputs": [],
   "source": [
    "import tensorflow as tf\n",
    "from tensorflow import keras\n",
    "from keras import layers\n",
    "import optuna"
   ],
   "metadata": {
    "pycharm": {
     "name": "#%%\n"
    },
    "id": "NW03G_cvRa0x",
    "executionInfo": {
     "status": "ok",
     "timestamp": 1654593421631,
     "user_tz": -120,
     "elapsed": 2569,
     "user": {
      "displayName": "ragor lp",
      "userId": "03519789758803718348"
     }
    }
   }
  },
  {
   "cell_type": "code",
   "execution_count": 22,
   "outputs": [
    {
     "name": "stdout",
     "output_type": "stream",
     "text": [
      "[PhysicalDevice(name='/physical_device:GPU:0', device_type='GPU')]\n"
     ]
    }
   ],
   "source": [
    "physical_devices = tf.config.list_physical_devices('GPU')\n",
    "print(physical_devices)\n",
    "tf.config.experimental.set_memory_growth(physical_devices[0], True)"
   ],
   "metadata": {
    "collapsed": false,
    "pycharm": {
     "name": "#%%\n"
    }
   }
  },
  {
   "cell_type": "code",
   "execution_count": 23,
   "outputs": [],
   "source": [
    "OPTIMIZATION_SPLIT = 0.2\n",
    "NUMBER_OF_TRIALS = 200\n",
    "EPOCHS = 10"
   ],
   "metadata": {
    "pycharm": {
     "name": "#%%\n"
    },
    "id": "T-y0WJofRa0x",
    "executionInfo": {
     "status": "ok",
     "timestamp": 1654593422742,
     "user_tz": -120,
     "elapsed": 4,
     "user": {
      "displayName": "ragor lp",
      "userId": "03519789758803718348"
     }
    }
   }
  },
  {
   "cell_type": "markdown",
   "source": [
    "## Fully-Connected Feed-Forward Neural Network"
   ],
   "metadata": {
    "collapsed": false,
    "pycharm": {
     "name": "#%% md\n"
    },
    "id": "i-IjnqRKRa0y"
   }
  },
  {
   "cell_type": "markdown",
   "source": [
    "Optimize Dataset - How many samples to predict next"
   ],
   "metadata": {
    "collapsed": false,
    "pycharm": {
     "name": "#%% md\n"
    },
    "id": "igZm_odCRa0z"
   }
  },
  {
   "cell_type": "code",
   "execution_count": 34,
   "outputs": [],
   "source": [
    "def create_dataset(trial):\n",
    "    N = trial.suggest_int('sequence_length', 5, 30)\n",
    "\n",
    "    train_samples, train_labels, test_samples, test_labels = get_preprocessed_data(N)\n",
    "\n",
    "    highest_index_train = int(train_samples.shape[0] * OPTIMIZATION_SPLIT)\n",
    "    highest_index_test = int(test_samples.shape[0] * OPTIMIZATION_SPLIT)\n",
    "\n",
    "    train_samples = train_samples.reshape(train_samples.shape[0], train_samples.shape[1] * train_samples.shape[2])\n",
    "    test_samples = test_samples.reshape(test_samples.shape[0], test_samples.shape[1] * test_samples.shape[2])\n",
    "\n",
    "    return train_samples[:highest_index_train], train_labels[:highest_index_train], test_samples[:highest_index_test], test_labels[:highest_index_test]"
   ],
   "metadata": {
    "pycharm": {
     "name": "#%%\n"
    },
    "id": "8hF_z273Ra0z",
    "executionInfo": {
     "status": "ok",
     "timestamp": 1654591027514,
     "user_tz": -120,
     "elapsed": 324,
     "user": {
      "displayName": "ragor lp",
      "userId": "03519789758803718348"
     }
    }
   }
  },
  {
   "cell_type": "markdown",
   "source": [
    "Optimize Model\n",
    "- Number of hidden layers\n",
    "- Neurons per layer\n",
    "- Dropoutrate\n",
    "- Activation function\n",
    "- weight initialization"
   ],
   "metadata": {
    "collapsed": false,
    "pycharm": {
     "name": "#%% md\n"
    },
    "id": "lpkHGoW_Ra00"
   }
  },
  {
   "cell_type": "code",
   "execution_count": 35,
   "outputs": [],
   "source": [
    "def create_model(trial, train_X):\n",
    "    number_of_inputs = train_X.shape[1]\n",
    "\n",
    "    number_of_hidden_neurons = trial.suggest_int('hidden_neurons', 5, 1000)\n",
    "    number_of_hidden_layers = trial.suggest_int('hidden_layers', 1, 20)\n",
    "    dropout_rate = trial.suggest_float('dropout_rate', 0., 0.5)\n",
    "    activation_function = trial.suggest_categorical('activation', ['relu', 'tanh', 'sigmoid'])\n",
    "\n",
    "    model = keras.Sequential()\n",
    "    model.add(layers.Input(shape=(number_of_inputs, )))\n",
    "    model.add(layers.BatchNormalization())\n",
    "\n",
    "    for _ in range(number_of_hidden_layers):\n",
    "        model.add(layers.Dense(number_of_hidden_neurons, activation=activation_function))\n",
    "\n",
    "    model.add(layers.Dropout(dropout_rate))\n",
    "\n",
    "    model.add(layers.Dense(2, activation='linear'))\n",
    "\n",
    "    return model"
   ],
   "metadata": {
    "pycharm": {
     "name": "#%%\n"
    },
    "id": "-B2gLFT3Ra01"
   }
  },
  {
   "cell_type": "markdown",
   "source": [
    "Optimize Training\n",
    "- Optimizer\n",
    "- Loss function (?)\n",
    "- Learning rate\n",
    "- batch size\n",
    "- Epochs (?)\n",
    "\n",
    "**Prune bad Trials!**"
   ],
   "metadata": {
    "collapsed": false,
    "pycharm": {
     "name": "#%% md\n"
    },
    "id": "qZhMf0MrRa01"
   }
  },
  {
   "cell_type": "code",
   "execution_count": 36,
   "outputs": [],
   "source": [
    "def objective(trial):\n",
    "    train_X, train_Y, test_X, test_Y = create_dataset(trial)\n",
    "\n",
    "    model = create_model(trial, train_X)\n",
    "\n",
    "    monitor = 'val_loss'\n",
    "\n",
    "    callbacks = [\n",
    "        # keras.callbacks.EarlyStopping(patience=10),\n",
    "        optuna.integration.TFKerasPruningCallback(trial, monitor),\n",
    "    ]\n",
    "\n",
    "    # lr = trial.suggest_float('learning_rate', 1e-4, 1e-1, log=True)\n",
    "    optimizer = trial.suggest_categorical('optimizer', ['sgd', 'rmsprop', 'adagrad', 'adam'])\n",
    "    batch_size = trial.suggest_int('batch_size', 1, 1000)\n",
    "\n",
    "    model.compile(optimizer=optimizer, loss=keras.losses.MeanSquaredError(), metrics=['mean_absolute_percentage_error'])\n",
    "\n",
    "    history = model.fit(train_X, train_Y, batch_size=batch_size, validation_split=0.1, verbose=1, epochs=EPOCHS, callbacks=callbacks)\n",
    "\n",
    "    eval_results = model.evaluate(test_X, test_Y, batch_size=batch_size)\n",
    "\n",
    "    return float(eval_results[0])"
   ],
   "metadata": {
    "pycharm": {
     "name": "#%%\n"
    },
    "id": "r0MD8b01Ra02"
   }
  },
  {
   "cell_type": "markdown",
   "source": [
    "Start Optuna Optimization"
   ],
   "metadata": {
    "collapsed": false,
    "pycharm": {
     "name": "#%% md\n"
    },
    "id": "BytXNJ9vRa02"
   }
  },
  {
   "cell_type": "code",
   "execution_count": 37,
   "outputs": [],
   "source": [
    "def make_study():\n",
    "    study = optuna.create_study(direction='minimize', pruner=optuna.pruners.SuccessiveHalvingPruner(), sampler=optuna.samplers.TPESampler())\n",
    "\n",
    "    study.optimize(objective, n_trials=NUMBER_OF_TRIALS)\n",
    "\n",
    "    # show results\n",
    "    pruned_trials = study.get_trials(states=[optuna.trial.TrialState.PRUNED])\n",
    "    complete_trials = study.get_trials(states=[optuna.trial.TrialState.COMPLETE])\n",
    "\n",
    "    print('Study statistics:')\n",
    "    print('   Number of finished Trials: ', len(study.trials))\n",
    "    print('   Number of pruned Trials: ', len(pruned_trials))\n",
    "    print('   Number of complete Trials: ', len(complete_trials))\n",
    "\n",
    "    print('Best Trial: ')\n",
    "    trial = study.best_trial\n",
    "\n",
    "    print('  MSE: ', trial.value)\n",
    "\n",
    "    print('   Params: ')\n",
    "    for key, value in trial.params.items():\n",
    "        print('   {}: {}'.format(key, value))"
   ],
   "metadata": {
    "pycharm": {
     "name": "#%%\n"
    },
    "id": "lUpagZgGRa02"
   }
  },
  {
   "cell_type": "code",
   "execution_count": 38,
   "outputs": [
    {
     "name": "stderr",
     "output_type": "stream",
     "text": [
      "\u001B[32m[I 2022-06-07 12:44:07,613]\u001B[0m A new study created in memory with name: no-name-2ac73301-e3b2-42f0-b38f-79a105f80119\u001B[0m\n"
     ]
    },
    {
     "name": "stdout",
     "output_type": "stream",
     "text": [
      "Epoch 1/10\n",
      "997/997 [==============================] - 34s 26ms/step - loss: 0.2936 - mean_absolute_percentage_error: 82204536.0000 - val_loss: 0.0329 - val_mean_absolute_percentage_error: 30362768.0000\n",
      "Epoch 2/10\n",
      "997/997 [==============================] - 27s 27ms/step - loss: 0.0250 - mean_absolute_percentage_error: 26987402.0000 - val_loss: 0.0088 - val_mean_absolute_percentage_error: 18433136.0000\n",
      "Epoch 3/10\n",
      "997/997 [==============================] - 26s 26ms/step - loss: 0.0069 - mean_absolute_percentage_error: 6921556.5000 - val_loss: 0.0032 - val_mean_absolute_percentage_error: 1119292.2500\n",
      "Epoch 4/10\n",
      "997/997 [==============================] - 25s 26ms/step - loss: 0.0064 - mean_absolute_percentage_error: 6020566.5000 - val_loss: 0.0088 - val_mean_absolute_percentage_error: 16809938.0000\n",
      "Epoch 5/10\n",
      "997/997 [==============================] - 25s 25ms/step - loss: 0.0060 - mean_absolute_percentage_error: 5131376.0000 - val_loss: 0.0031 - val_mean_absolute_percentage_error: 607911.8125\n",
      "Epoch 6/10\n",
      "997/997 [==============================] - 24s 24ms/step - loss: 0.0055 - mean_absolute_percentage_error: 4648917.0000 - val_loss: 0.0042 - val_mean_absolute_percentage_error: 8079204.5000\n",
      "Epoch 7/10\n",
      "997/997 [==============================] - 26s 26ms/step - loss: 0.0050 - mean_absolute_percentage_error: 3722228.0000 - val_loss: 0.0031 - val_mean_absolute_percentage_error: 372051.2188\n",
      "Epoch 8/10\n",
      "997/997 [==============================] - 25s 25ms/step - loss: 0.0046 - mean_absolute_percentage_error: 3467613.0000 - val_loss: 0.0031 - val_mean_absolute_percentage_error: 172265.7969\n",
      "Epoch 9/10\n",
      "997/997 [==============================] - 25s 25ms/step - loss: 0.0045 - mean_absolute_percentage_error: 3385795.7500 - val_loss: 0.0031 - val_mean_absolute_percentage_error: 282818.9375\n",
      "Epoch 10/10\n",
      "997/997 [==============================] - 25s 26ms/step - loss: 0.0044 - mean_absolute_percentage_error: 3149750.7500 - val_loss: 0.0031 - val_mean_absolute_percentage_error: 203381.3125\n",
      "247/247 [==============================] - 1s 6ms/step - loss: 0.0029 - mean_absolute_percentage_error: 224342.0469\n"
     ]
    },
    {
     "name": "stderr",
     "output_type": "stream",
     "text": [
      "\u001B[32m[I 2022-06-07 12:53:58,254]\u001B[0m Trial 0 finished with value: 0.00288063520565629 and parameters: {'sequence_length': 19, 'hidden_neurons': 278, 'hidden_layers': 16, 'dropout_rate': 0.19068054717816801, 'activation': 'tanh', 'optimizer': 'rmsprop', 'batch_size': 348}. Best is trial 0 with value: 0.00288063520565629.\u001B[0m\n"
     ]
    },
    {
     "name": "stdout",
     "output_type": "stream",
     "text": [
      "Epoch 1/10\n",
      "549/549 [==============================] - 5s 8ms/step - loss: 0.1567 - mean_absolute_percentage_error: 64460992.0000 - val_loss: 0.0032 - val_mean_absolute_percentage_error: 738157.0625\n",
      "Epoch 2/10\n",
      "549/549 [==============================] - 4s 8ms/step - loss: 0.0232 - mean_absolute_percentage_error: 24089950.0000 - val_loss: 0.0032 - val_mean_absolute_percentage_error: 536137.9375\n",
      "Epoch 3/10\n",
      "549/549 [==============================] - 4s 8ms/step - loss: 0.0094 - mean_absolute_percentage_error: 13671872.0000 - val_loss: 0.0032 - val_mean_absolute_percentage_error: 437018.1875\n",
      "Epoch 4/10\n",
      "549/549 [==============================] - 5s 8ms/step - loss: 0.0058 - mean_absolute_percentage_error: 9104158.0000 - val_loss: 0.0032 - val_mean_absolute_percentage_error: 539042.9375\n",
      "Epoch 5/10\n",
      "549/549 [==============================] - 4s 8ms/step - loss: 0.0045 - mean_absolute_percentage_error: 6604597.0000 - val_loss: 0.0032 - val_mean_absolute_percentage_error: 275001.1562\n",
      "Epoch 6/10\n",
      "549/549 [==============================] - 4s 8ms/step - loss: 0.0039 - mean_absolute_percentage_error: 5111699.0000 - val_loss: 0.0032 - val_mean_absolute_percentage_error: 64127.4844\n",
      "Epoch 7/10\n",
      "549/549 [==============================] - 4s 8ms/step - loss: 0.0035 - mean_absolute_percentage_error: 4098724.7500 - val_loss: 0.0032 - val_mean_absolute_percentage_error: 200137.3750\n",
      "Epoch 8/10\n",
      "549/549 [==============================] - 4s 8ms/step - loss: 0.0034 - mean_absolute_percentage_error: 3377015.7500 - val_loss: 0.0032 - val_mean_absolute_percentage_error: 225567.6250\n",
      "Epoch 9/10\n",
      "549/549 [==============================] - 4s 8ms/step - loss: 0.0032 - mean_absolute_percentage_error: 2803711.2500 - val_loss: 0.0032 - val_mean_absolute_percentage_error: 60927.9141\n",
      "Epoch 10/10\n",
      "549/549 [==============================] - 4s 8ms/step - loss: 0.0032 - mean_absolute_percentage_error: 2384593.2500 - val_loss: 0.0032 - val_mean_absolute_percentage_error: 89775.9609\n",
      "137/137 [==============================] - 1s 4ms/step - loss: 0.0028 - mean_absolute_percentage_error: 100191.8281\n"
     ]
    },
    {
     "name": "stderr",
     "output_type": "stream",
     "text": [
      "\u001B[32m[I 2022-06-07 12:59:04,561]\u001B[0m Trial 1 finished with value: 0.002840838860720396 and parameters: {'sequence_length': 16, 'hidden_neurons': 243, 'hidden_layers': 6, 'dropout_rate': 0.49936005513335796, 'activation': 'sigmoid', 'optimizer': 'sgd', 'batch_size': 626}. Best is trial 1 with value: 0.002840838860720396.\u001B[0m\n"
     ]
    },
    {
     "name": "stdout",
     "output_type": "stream",
     "text": [
      "Epoch 1/10\n",
      "   4/1216 [..............................] - ETA: 1:08 - loss: 0.0022 - mean_absolute_percentage_error: 1771012.6250WARNING:tensorflow:Callback method `on_train_batch_end` is slow compared to the batch time (batch time: 0.0220s vs `on_train_batch_end` time: 0.0288s). Check your callbacks.\n",
      "1216/1216 [==============================] - 26s 20ms/step - loss: 0.0029 - mean_absolute_percentage_error: 750542.3125 - val_loss: 0.0029 - val_mean_absolute_percentage_error: 480285.1875\n",
      "Epoch 2/10\n",
      "1216/1216 [==============================] - 23s 19ms/step - loss: 0.0029 - mean_absolute_percentage_error: 667580.3125 - val_loss: 0.0029 - val_mean_absolute_percentage_error: 425493.4375\n",
      "Epoch 3/10\n",
      "1216/1216 [==============================] - 23s 19ms/step - loss: 0.0029 - mean_absolute_percentage_error: 623324.5625 - val_loss: 0.0029 - val_mean_absolute_percentage_error: 380840.7500\n",
      "Epoch 4/10\n",
      "1216/1216 [==============================] - 24s 19ms/step - loss: 0.0029 - mean_absolute_percentage_error: 592542.1250 - val_loss: 0.0029 - val_mean_absolute_percentage_error: 337702.2500\n",
      "Epoch 5/10\n",
      "1216/1216 [==============================] - 23s 19ms/step - loss: 0.0029 - mean_absolute_percentage_error: 565501.6250 - val_loss: 0.0029 - val_mean_absolute_percentage_error: 327443.3125\n",
      "Epoch 6/10\n",
      "1216/1216 [==============================] - 24s 19ms/step - loss: 0.0029 - mean_absolute_percentage_error: 542463.4375 - val_loss: 0.0029 - val_mean_absolute_percentage_error: 307219.9062\n",
      "Epoch 7/10\n",
      "1216/1216 [==============================] - 24s 19ms/step - loss: 0.0029 - mean_absolute_percentage_error: 523778.0938 - val_loss: 0.0029 - val_mean_absolute_percentage_error: 284300.0625\n",
      "Epoch 8/10\n",
      "1216/1216 [==============================] - 24s 19ms/step - loss: 0.0029 - mean_absolute_percentage_error: 505551.0938 - val_loss: 0.0029 - val_mean_absolute_percentage_error: 276819.5625\n",
      "Epoch 9/10\n",
      "1216/1216 [==============================] - 26s 22ms/step - loss: 0.0029 - mean_absolute_percentage_error: 490888.7500 - val_loss: 0.0029 - val_mean_absolute_percentage_error: 264714.0625\n",
      "Epoch 10/10\n",
      "1216/1216 [==============================] - 25s 21ms/step - loss: 0.0029 - mean_absolute_percentage_error: 479590.7500 - val_loss: 0.0029 - val_mean_absolute_percentage_error: 266556.3750\n",
      "304/304 [==============================] - 3s 8ms/step - loss: 0.0029 - mean_absolute_percentage_error: 259595.3906\n"
     ]
    },
    {
     "name": "stderr",
     "output_type": "stream",
     "text": [
      "\u001B[32m[I 2022-06-07 13:07:26,312]\u001B[0m Trial 2 finished with value: 0.0029311031103134155 and parameters: {'sequence_length': 7, 'hidden_neurons': 894, 'hidden_layers': 13, 'dropout_rate': 0.29321031863285085, 'activation': 'relu', 'optimizer': 'adagrad', 'batch_size': 270}. Best is trial 1 with value: 0.002840838860720396.\u001B[0m\n"
     ]
    },
    {
     "name": "stdout",
     "output_type": "stream",
     "text": [
      "Epoch 1/10\n",
      "  3/505 [..............................] - ETA: 34s - loss: 0.0914 - mean_absolute_percentage_error: 31054682.0000WARNING:tensorflow:Callback method `on_train_batch_end` is slow compared to the batch time (batch time: 0.0176s vs `on_train_batch_end` time: 0.0215s). Check your callbacks.\n",
      "505/505 [==============================] - 7s 12ms/step - loss: 0.0149 - mean_absolute_percentage_error: 15591510.0000 - val_loss: 0.0042 - val_mean_absolute_percentage_error: 5878778.5000\n",
      "Epoch 2/10\n",
      "505/505 [==============================] - 6s 11ms/step - loss: 0.0081 - mean_absolute_percentage_error: 12005003.0000 - val_loss: 0.0038 - val_mean_absolute_percentage_error: 2825516.7500\n"
     ]
    },
    {
     "name": "stderr",
     "output_type": "stream",
     "text": [
      "\u001B[32m[I 2022-06-07 13:12:04,654]\u001B[0m Trial 3 pruned. Trial was pruned at epoch 1.\u001B[0m\n"
     ]
    },
    {
     "name": "stdout",
     "output_type": "stream",
     "text": [
      "Epoch 1/10\n",
      "953/953 [==============================] - 22s 22ms/step - loss: 0.0220 - mean_absolute_percentage_error: 16310650.0000 - val_loss: 0.0030 - val_mean_absolute_percentage_error: 690146.0000\n",
      "Epoch 2/10\n",
      "953/953 [==============================] - 20s 21ms/step - loss: 0.0032 - mean_absolute_percentage_error: 2642756.2500 - val_loss: 0.0030 - val_mean_absolute_percentage_error: 116225.6328\n"
     ]
    },
    {
     "name": "stderr",
     "output_type": "stream",
     "text": [
      "\u001B[32m[I 2022-06-07 13:17:23,772]\u001B[0m Trial 4 pruned. Trial was pruned at epoch 1.\u001B[0m\n"
     ]
    },
    {
     "name": "stdout",
     "output_type": "stream",
     "text": [
      "Epoch 1/10\n",
      "  5/662 [..............................] - ETA: 29s - loss: 0.0042 - mean_absolute_percentage_error: 7232013.0000WARNING:tensorflow:Callback method `on_train_batch_end` is slow compared to the batch time (batch time: 0.0180s vs `on_train_batch_end` time: 0.0210s). Check your callbacks.\n",
      "662/662 [==============================] - 8s 12ms/step - loss: 0.0040 - mean_absolute_percentage_error: 5061305.5000 - val_loss: 0.0030 - val_mean_absolute_percentage_error: 2081357.1250\n",
      "Epoch 2/10\n",
      "662/662 [==============================] - 7s 11ms/step - loss: 0.0037 - mean_absolute_percentage_error: 4402452.5000 - val_loss: 0.0030 - val_mean_absolute_percentage_error: 1712598.1250\n"
     ]
    },
    {
     "name": "stderr",
     "output_type": "stream",
     "text": [
      "\u001B[32m[I 2022-06-07 13:22:05,006]\u001B[0m Trial 5 pruned. Trial was pruned at epoch 1.\u001B[0m\n"
     ]
    },
    {
     "name": "stdout",
     "output_type": "stream",
     "text": [
      "Epoch 1/10\n",
      "   4/8210 [..............................] - ETA: 6:37 - loss: 0.0173 - mean_absolute_percentage_error: 2890990.5000 WARNING:tensorflow:Callback method `on_train_batch_end` is slow compared to the batch time (batch time: 0.0111s vs `on_train_batch_end` time: 0.0237s). Check your callbacks.\n",
      "8210/8210 [==============================] - 93s 11ms/step - loss: 0.0030 - mean_absolute_percentage_error: 266596.5938 - val_loss: 0.0031 - val_mean_absolute_percentage_error: 106198.3359\n",
      "Epoch 2/10\n",
      "8210/8210 [==============================] - 85s 10ms/step - loss: 0.0029 - mean_absolute_percentage_error: 224145.6406 - val_loss: 0.0031 - val_mean_absolute_percentage_error: 330894.6562\n"
     ]
    },
    {
     "name": "stderr",
     "output_type": "stream",
     "text": [
      "\u001B[32m[I 2022-06-07 13:30:33,772]\u001B[0m Trial 6 pruned. Trial was pruned at epoch 1.\u001B[0m\n"
     ]
    },
    {
     "name": "stdout",
     "output_type": "stream",
     "text": [
      "Epoch 1/10\n",
      "2711/2711 [==============================] - 24s 8ms/step - loss: 0.0061 - mean_absolute_percentage_error: 1255519.8750 - val_loss: 0.0031 - val_mean_absolute_percentage_error: 229671.5000\n",
      "Epoch 2/10\n",
      "2711/2711 [==============================] - 23s 9ms/step - loss: 0.0029 - mean_absolute_percentage_error: 285043.6562 - val_loss: 0.0031 - val_mean_absolute_percentage_error: 159410.5625\n"
     ]
    },
    {
     "name": "stderr",
     "output_type": "stream",
     "text": [
      "\u001B[32m[I 2022-06-07 13:35:53,698]\u001B[0m Trial 7 pruned. Trial was pruned at epoch 1.\u001B[0m\n"
     ]
    },
    {
     "name": "stdout",
     "output_type": "stream",
     "text": [
      "Epoch 1/10\n",
      "466/466 [==============================] - 14s 28ms/step - loss: 0.3501 - mean_absolute_percentage_error: 68369056.0000 - val_loss: 0.0030 - val_mean_absolute_percentage_error: 1261418.2500\n",
      "Epoch 2/10\n",
      "466/466 [==============================] - 13s 27ms/step - loss: 0.0398 - mean_absolute_percentage_error: 35555556.0000 - val_loss: 0.0031 - val_mean_absolute_percentage_error: 1975977.8750\n"
     ]
    },
    {
     "name": "stderr",
     "output_type": "stream",
     "text": [
      "\u001B[32m[I 2022-06-07 13:40:36,963]\u001B[0m Trial 8 pruned. Trial was pruned at epoch 1.\u001B[0m\n"
     ]
    },
    {
     "name": "stdout",
     "output_type": "stream",
     "text": [
      "Epoch 1/10\n",
      "843/843 [==============================] - 14s 14ms/step - loss: 0.0063 - mean_absolute_percentage_error: 5391381.0000 - val_loss: 0.0028 - val_mean_absolute_percentage_error: 1282935.0000\n",
      "Epoch 2/10\n",
      "843/843 [==============================] - 14s 16ms/step - loss: 0.0032 - mean_absolute_percentage_error: 3068949.0000 - val_loss: 0.0028 - val_mean_absolute_percentage_error: 1340947.8750\n",
      "Epoch 3/10\n",
      "843/843 [==============================] - 13s 16ms/step - loss: 0.0030 - mean_absolute_percentage_error: 2138348.2500 - val_loss: 0.0028 - val_mean_absolute_percentage_error: 1022385.7500\n",
      "Epoch 4/10\n",
      "843/843 [==============================] - 12s 15ms/step - loss: 0.0030 - mean_absolute_percentage_error: 1648604.6250 - val_loss: 0.0029 - val_mean_absolute_percentage_error: 3144216.2500\n",
      "Epoch 5/10\n",
      "843/843 [==============================] - 12s 14ms/step - loss: 0.0029 - mean_absolute_percentage_error: 1455517.0000 - val_loss: 0.0027 - val_mean_absolute_percentage_error: 499099.8438\n",
      "Epoch 6/10\n",
      "843/843 [==============================] - 12s 14ms/step - loss: 0.0029 - mean_absolute_percentage_error: 1333344.5000 - val_loss: 0.0028 - val_mean_absolute_percentage_error: 1086277.5000\n",
      "Epoch 7/10\n",
      "843/843 [==============================] - 12s 15ms/step - loss: 0.0029 - mean_absolute_percentage_error: 1238635.5000 - val_loss: 0.0028 - val_mean_absolute_percentage_error: 489758.7812\n",
      "Epoch 8/10\n",
      "843/843 [==============================] - 12s 14ms/step - loss: 0.0029 - mean_absolute_percentage_error: 1138784.8750 - val_loss: 0.0028 - val_mean_absolute_percentage_error: 1221099.2500\n",
      "Epoch 9/10\n",
      "843/843 [==============================] - 12s 15ms/step - loss: 0.0029 - mean_absolute_percentage_error: 1070017.1250 - val_loss: 0.0028 - val_mean_absolute_percentage_error: 858619.3125\n",
      "Epoch 10/10\n",
      "843/843 [==============================] - 12s 14ms/step - loss: 0.0029 - mean_absolute_percentage_error: 981803.5000 - val_loss: 0.0028 - val_mean_absolute_percentage_error: 1114135.3750\n",
      "211/211 [==============================] - 1s 6ms/step - loss: 0.0028 - mean_absolute_percentage_error: 1253607.8750\n"
     ]
    },
    {
     "name": "stderr",
     "output_type": "stream",
     "text": [
      "\u001B[32m[I 2022-06-07 13:46:40,199]\u001B[0m Trial 9 finished with value: 0.0028108484111726284 and parameters: {'sequence_length': 5, 'hidden_neurons': 154, 'hidden_layers': 17, 'dropout_rate': 0.2295818303474188, 'activation': 'tanh', 'optimizer': 'adam', 'batch_size': 382}. Best is trial 9 with value: 0.0028108484111726284.\u001B[0m\n"
     ]
    },
    {
     "name": "stdout",
     "output_type": "stream",
     "text": [
      "Epoch 1/10\n",
      "366/366 [==============================] - 7s 16ms/step - loss: 0.0031 - mean_absolute_percentage_error: 1121645.2500 - val_loss: 0.0030 - val_mean_absolute_percentage_error: 592786.9375\n",
      "Epoch 2/10\n",
      "366/366 [==============================] - 6s 15ms/step - loss: 0.0030 - mean_absolute_percentage_error: 818799.0000 - val_loss: 0.0030 - val_mean_absolute_percentage_error: 917422.7500\n"
     ]
    },
    {
     "name": "stderr",
     "output_type": "stream",
     "text": [
      "\u001B[32m[I 2022-06-07 13:51:31,062]\u001B[0m Trial 10 pruned. Trial was pruned at epoch 1.\u001B[0m\n"
     ]
    },
    {
     "name": "stdout",
     "output_type": "stream",
     "text": [
      "Epoch 1/10\n",
      "576/576 [==============================] - 9s 10ms/step - loss: 0.1447 - mean_absolute_percentage_error: 61848704.0000 - val_loss: 0.0031 - val_mean_absolute_percentage_error: 472483.7500\n",
      "Epoch 2/10\n",
      "576/576 [==============================] - 5s 9ms/step - loss: 0.0220 - mean_absolute_percentage_error: 24336890.0000 - val_loss: 0.0031 - val_mean_absolute_percentage_error: 91582.7891\n"
     ]
    },
    {
     "name": "stderr",
     "output_type": "stream",
     "text": [
      "\u001B[32m[I 2022-06-07 13:56:40,302]\u001B[0m Trial 11 pruned. Trial was pruned at epoch 1.\u001B[0m\n"
     ]
    },
    {
     "name": "stdout",
     "output_type": "stream",
     "text": [
      "Epoch 1/10\n",
      "374/374 [==============================] - 4s 9ms/step - loss: 0.0520 - mean_absolute_percentage_error: 36699796.0000 - val_loss: 0.0041 - val_mean_absolute_percentage_error: 5655149.0000\n",
      "Epoch 2/10\n",
      "374/374 [==============================] - 3s 8ms/step - loss: 0.0203 - mean_absolute_percentage_error: 20926002.0000 - val_loss: 0.0036 - val_mean_absolute_percentage_error: 3686404.2500\n"
     ]
    },
    {
     "name": "stderr",
     "output_type": "stream",
     "text": [
      "\u001B[32m[I 2022-06-07 14:00:50,707]\u001B[0m Trial 12 pruned. Trial was pruned at epoch 1.\u001B[0m\n"
     ]
    },
    {
     "name": "stdout",
     "output_type": "stream",
     "text": [
      "Epoch 1/10\n",
      "781/781 [==============================] - 13s 16ms/step - loss: 0.0647 - mean_absolute_percentage_error: 22982346.0000 - val_loss: 0.0030 - val_mean_absolute_percentage_error: 131570.5625\n",
      "Epoch 2/10\n",
      "781/781 [==============================] - 10s 12ms/step - loss: 0.0045 - mean_absolute_percentage_error: 4375740.5000 - val_loss: 0.0030 - val_mean_absolute_percentage_error: 76766.2500\n"
     ]
    },
    {
     "name": "stderr",
     "output_type": "stream",
     "text": [
      "\u001B[32m[I 2022-06-07 14:05:44,902]\u001B[0m Trial 13 pruned. Trial was pruned at epoch 1.\u001B[0m\n"
     ]
    },
    {
     "name": "stdout",
     "output_type": "stream",
     "text": [
      "Epoch 1/10\n",
      "616/616 [==============================] - 9s 13ms/step - loss: 0.0295 - mean_absolute_percentage_error: 13162787.0000 - val_loss: 0.0031 - val_mean_absolute_percentage_error: 121149.4922\n",
      "Epoch 2/10\n",
      "616/616 [==============================] - 8s 13ms/step - loss: 0.0032 - mean_absolute_percentage_error: 2243950.7500 - val_loss: 0.0031 - val_mean_absolute_percentage_error: 23657.9102\n"
     ]
    },
    {
     "name": "stderr",
     "output_type": "stream",
     "text": [
      "\u001B[32m[I 2022-06-07 14:10:23,133]\u001B[0m Trial 14 pruned. Trial was pruned at epoch 1.\u001B[0m\n"
     ]
    },
    {
     "name": "stdout",
     "output_type": "stream",
     "text": [
      "Epoch 1/10\n",
      "461/461 [==============================] - 9s 10ms/step - loss: 0.0197 - mean_absolute_percentage_error: 20513720.0000 - val_loss: 0.0045 - val_mean_absolute_percentage_error: 5651179.5000\n",
      "Epoch 2/10\n",
      "461/461 [==============================] - 5s 10ms/step - loss: 0.0111 - mean_absolute_percentage_error: 14265591.0000 - val_loss: 0.0039 - val_mean_absolute_percentage_error: 4328910.0000\n"
     ]
    },
    {
     "name": "stderr",
     "output_type": "stream",
     "text": [
      "\u001B[32m[I 2022-06-07 14:16:03,297]\u001B[0m Trial 15 pruned. Trial was pruned at epoch 1.\u001B[0m\n"
     ]
    },
    {
     "name": "stdout",
     "output_type": "stream",
     "text": [
      "Epoch 1/10\n",
      "1987/1987 [==============================] - 17s 8ms/step - loss: 0.0467 - mean_absolute_percentage_error: 18702344.0000 - val_loss: 0.0031 - val_mean_absolute_percentage_error: 1475490.7500\n",
      "Epoch 2/10\n",
      "1987/1987 [==============================] - 14s 7ms/step - loss: 0.0032 - mean_absolute_percentage_error: 1768268.3750 - val_loss: 0.0033 - val_mean_absolute_percentage_error: 664517.2500\n"
     ]
    },
    {
     "name": "stderr",
     "output_type": "stream",
     "text": [
      "\u001B[32m[I 2022-06-07 14:21:22,864]\u001B[0m Trial 16 pruned. Trial was pruned at epoch 1.\u001B[0m\n"
     ]
    },
    {
     "name": "stdout",
     "output_type": "stream",
     "text": [
      "Epoch 1/10\n",
      "770/770 [==============================] - 13s 14ms/step - loss: 0.2908 - mean_absolute_percentage_error: 98048688.0000 - val_loss: 0.0029 - val_mean_absolute_percentage_error: 2340388.0000\n",
      "Epoch 2/10\n",
      "770/770 [==============================] - 13s 17ms/step - loss: 0.1668 - mean_absolute_percentage_error: 75602976.0000 - val_loss: 0.0028 - val_mean_absolute_percentage_error: 289065.3750\n",
      "Epoch 3/10\n",
      "770/770 [==============================] - 12s 15ms/step - loss: 0.1126 - mean_absolute_percentage_error: 62118472.0000 - val_loss: 0.0028 - val_mean_absolute_percentage_error: 544133.8125\n",
      "Epoch 4/10\n",
      "770/770 [==============================] - 11s 15ms/step - loss: 0.0823 - mean_absolute_percentage_error: 53496632.0000 - val_loss: 0.0028 - val_mean_absolute_percentage_error: 591517.9375\n",
      "Epoch 5/10\n",
      "770/770 [==============================] - 11s 14ms/step - loss: 0.0633 - mean_absolute_percentage_error: 46838932.0000 - val_loss: 0.0028 - val_mean_absolute_percentage_error: 337590.1875\n"
     ]
    },
    {
     "name": "stderr",
     "output_type": "stream",
     "text": [
      "\u001B[32m[I 2022-06-07 14:26:26,408]\u001B[0m Trial 17 pruned. Trial was pruned at epoch 4.\u001B[0m\n"
     ]
    },
    {
     "name": "stdout",
     "output_type": "stream",
     "text": [
      "Epoch 1/10\n",
      "1246/1246 [==============================] - 11s 8ms/step - loss: 0.0643 - mean_absolute_percentage_error: 41554476.0000 - val_loss: 0.0033 - val_mean_absolute_percentage_error: 509013.2188\n",
      "Epoch 2/10\n",
      "1246/1246 [==============================] - 10s 8ms/step - loss: 0.0124 - mean_absolute_percentage_error: 17610178.0000 - val_loss: 0.0031 - val_mean_absolute_percentage_error: 4789.3882\n"
     ]
    },
    {
     "name": "stderr",
     "output_type": "stream",
     "text": [
      "\u001B[32m[I 2022-06-07 14:31:07,613]\u001B[0m Trial 18 pruned. Trial was pruned at epoch 1.\u001B[0m\n"
     ]
    },
    {
     "name": "stdout",
     "output_type": "stream",
     "text": [
      "Epoch 1/10\n",
      "589/589 [==============================] - 6s 9ms/step - loss: 0.0093 - mean_absolute_percentage_error: 9026812.0000 - val_loss: 0.0033 - val_mean_absolute_percentage_error: 1055410.6250\n",
      "Epoch 2/10\n",
      "589/589 [==============================] - 5s 8ms/step - loss: 0.0036 - mean_absolute_percentage_error: 3570096.0000 - val_loss: 0.0032 - val_mean_absolute_percentage_error: 950309.5000\n"
     ]
    },
    {
     "name": "stderr",
     "output_type": "stream",
     "text": [
      "\u001B[32m[I 2022-06-07 14:35:46,827]\u001B[0m Trial 19 pruned. Trial was pruned at epoch 1.\u001B[0m\n"
     ]
    },
    {
     "name": "stdout",
     "output_type": "stream",
     "text": [
      "Epoch 1/10\n",
      "417/417 [==============================] - 21s 39ms/step - loss: 0.0423 - mean_absolute_percentage_error: 17567560.0000 - val_loss: 0.0033 - val_mean_absolute_percentage_error: 1618737.1250\n",
      "Epoch 2/10\n",
      "417/417 [==============================] - 16s 38ms/step - loss: 0.0078 - mean_absolute_percentage_error: 12110501.0000 - val_loss: 0.0032 - val_mean_absolute_percentage_error: 1105110.3750\n"
     ]
    },
    {
     "name": "stderr",
     "output_type": "stream",
     "text": [
      "\u001B[32m[I 2022-06-07 14:41:31,038]\u001B[0m Trial 20 pruned. Trial was pruned at epoch 1.\u001B[0m\n"
     ]
    },
    {
     "name": "stdout",
     "output_type": "stream",
     "text": [
      "Epoch 1/10\n",
      "1078/1078 [==============================] - 34s 26ms/step - loss: 0.3775 - mean_absolute_percentage_error: 90592872.0000 - val_loss: 0.0859 - val_mean_absolute_percentage_error: 34743704.0000\n",
      "Epoch 2/10\n",
      "1078/1078 [==============================] - 27s 25ms/step - loss: 0.0521 - mean_absolute_percentage_error: 42014868.0000 - val_loss: 0.0656 - val_mean_absolute_percentage_error: 29737936.0000\n"
     ]
    },
    {
     "name": "stderr",
     "output_type": "stream",
     "text": [
      "\u001B[32m[I 2022-06-07 14:47:11,573]\u001B[0m Trial 21 pruned. Trial was pruned at epoch 1.\u001B[0m\n"
     ]
    },
    {
     "name": "stdout",
     "output_type": "stream",
     "text": [
      "Epoch 1/10\n",
      "793/793 [==============================] - 20s 23ms/step - loss: 0.3038 - mean_absolute_percentage_error: 80576752.0000 - val_loss: 0.0189 - val_mean_absolute_percentage_error: 38816876.0000\n",
      "Epoch 2/10\n",
      "793/793 [==============================] - 18s 22ms/step - loss: 0.0378 - mean_absolute_percentage_error: 32342280.0000 - val_loss: 0.0243 - val_mean_absolute_percentage_error: 34624316.0000\n"
     ]
    },
    {
     "name": "stderr",
     "output_type": "stream",
     "text": [
      "\u001B[32m[I 2022-06-07 14:52:34,259]\u001B[0m Trial 22 pruned. Trial was pruned at epoch 1.\u001B[0m\n"
     ]
    },
    {
     "name": "stdout",
     "output_type": "stream",
     "text": [
      "Epoch 1/10\n",
      "1689/1689 [==============================] - 33s 19ms/step - loss: 0.0657 - mean_absolute_percentage_error: 20305454.0000 - val_loss: 0.0035 - val_mean_absolute_percentage_error: 3116886.5000\n",
      "Epoch 2/10\n",
      "1689/1689 [==============================] - 31s 18ms/step - loss: 0.0031 - mean_absolute_percentage_error: 1058582.8750 - val_loss: 0.0030 - val_mean_absolute_percentage_error: 858023.2500\n"
     ]
    },
    {
     "name": "stderr",
     "output_type": "stream",
     "text": [
      "\u001B[32m[I 2022-06-07 14:58:11,970]\u001B[0m Trial 23 pruned. Trial was pruned at epoch 1.\u001B[0m\n"
     ]
    },
    {
     "name": "stdout",
     "output_type": "stream",
     "text": [
      "Epoch 1/10\n",
      "951/951 [==============================] - 28s 26ms/step - loss: 0.4376 - mean_absolute_percentage_error: 96015136.0000 - val_loss: 0.0975 - val_mean_absolute_percentage_error: 56211308.0000\n",
      "Epoch 2/10\n",
      "951/951 [==============================] - 24s 25ms/step - loss: 0.0578 - mean_absolute_percentage_error: 43760848.0000 - val_loss: 0.0063 - val_mean_absolute_percentage_error: 16624330.0000\n"
     ]
    },
    {
     "name": "stderr",
     "output_type": "stream",
     "text": [
      "\u001B[32m[I 2022-06-07 15:04:00,249]\u001B[0m Trial 24 pruned. Trial was pruned at epoch 1.\u001B[0m\n"
     ]
    },
    {
     "name": "stdout",
     "output_type": "stream",
     "text": [
      "Epoch 1/10\n",
      "684/684 [==============================] - 17s 22ms/step - loss: 0.3766 - mean_absolute_percentage_error: 93346808.0000 - val_loss: 0.0190 - val_mean_absolute_percentage_error: 32828718.0000\n",
      "Epoch 2/10\n",
      "684/684 [==============================] - 15s 22ms/step - loss: 0.0512 - mean_absolute_percentage_error: 38728152.0000 - val_loss: 0.0247 - val_mean_absolute_percentage_error: 43673660.0000\n"
     ]
    },
    {
     "name": "stderr",
     "output_type": "stream",
     "text": [
      "\u001B[32m[I 2022-06-07 15:08:53,038]\u001B[0m Trial 25 pruned. Trial was pruned at epoch 1.\u001B[0m\n"
     ]
    },
    {
     "name": "stdout",
     "output_type": "stream",
     "text": [
      "Epoch 1/10\n",
      "87759/87759 [==============================] - 1135s 13ms/step - loss: 0.0035 - mean_absolute_percentage_error: 3245516.7500 - val_loss: 0.0031 - val_mean_absolute_percentage_error: 825786.1875\n",
      "Epoch 2/10\n",
      "87759/87759 [==============================] - 1165s 13ms/step - loss: 0.0031 - mean_absolute_percentage_error: 1804560.7500 - val_loss: 0.0031 - val_mean_absolute_percentage_error: 867035.8750\n"
     ]
    },
    {
     "name": "stderr",
     "output_type": "stream",
     "text": [
      "\u001B[32m[I 2022-06-07 15:52:18,716]\u001B[0m Trial 26 pruned. Trial was pruned at epoch 1.\u001B[0m\n"
     ]
    },
    {
     "name": "stdout",
     "output_type": "stream",
     "text": [
      "Epoch 1/10\n",
      "489/489 [==============================] - 7s 13ms/step - loss: 0.0030 - mean_absolute_percentage_error: 755791.3125 - val_loss: 0.0032 - val_mean_absolute_percentage_error: 352917.7188\n",
      "Epoch 2/10\n",
      "489/489 [==============================] - 6s 12ms/step - loss: 0.0030 - mean_absolute_percentage_error: 689397.0000 - val_loss: 0.0032 - val_mean_absolute_percentage_error: 332138.3125\n"
     ]
    },
    {
     "name": "stderr",
     "output_type": "stream",
     "text": [
      "\u001B[32m[I 2022-06-07 15:57:06,527]\u001B[0m Trial 27 pruned. Trial was pruned at epoch 1.\u001B[0m\n"
     ]
    },
    {
     "name": "stdout",
     "output_type": "stream",
     "text": [
      "Epoch 1/10\n",
      "637/637 [==============================] - 5s 7ms/step - loss: 0.0372 - mean_absolute_percentage_error: 29363604.0000 - val_loss: 0.0069 - val_mean_absolute_percentage_error: 7735283.5000\n",
      "Epoch 2/10\n",
      "637/637 [==============================] - 4s 7ms/step - loss: 0.0177 - mean_absolute_percentage_error: 19249316.0000 - val_loss: 0.0052 - val_mean_absolute_percentage_error: 5726951.0000\n"
     ]
    },
    {
     "name": "stderr",
     "output_type": "stream",
     "text": [
      "\u001B[32m[I 2022-06-07 16:01:30,897]\u001B[0m Trial 28 pruned. Trial was pruned at epoch 1.\u001B[0m\n"
     ]
    },
    {
     "name": "stdout",
     "output_type": "stream",
     "text": [
      "Epoch 1/10\n",
      "   5/1203 [..............................] - ETA: 40s - loss: 1.7725 - mean_absolute_percentage_error: 231854240.0000WARNING:tensorflow:Callback method `on_train_batch_end` is slow compared to the batch time (batch time: 0.0163s vs `on_train_batch_end` time: 0.0170s). Check your callbacks.\n",
      "1203/1203 [==============================] - 15s 11ms/step - loss: 0.1960 - mean_absolute_percentage_error: 74934584.0000 - val_loss: 0.0029 - val_mean_absolute_percentage_error: 426215.7812\n",
      "Epoch 2/10\n",
      "1203/1203 [==============================] - 13s 11ms/step - loss: 0.1289 - mean_absolute_percentage_error: 60641304.0000 - val_loss: 0.0029 - val_mean_absolute_percentage_error: 155184.6562\n",
      "Epoch 3/10\n",
      "1203/1203 [==============================] - 13s 11ms/step - loss: 0.0953 - mean_absolute_percentage_error: 51620936.0000 - val_loss: 0.0029 - val_mean_absolute_percentage_error: 745601.3125\n",
      "Epoch 4/10\n",
      "1203/1203 [==============================] - 14s 11ms/step - loss: 0.0738 - mean_absolute_percentage_error: 44956956.0000 - val_loss: 0.0029 - val_mean_absolute_percentage_error: 9662.1582\n",
      "Epoch 5/10\n",
      "1203/1203 [==============================] - 13s 11ms/step - loss: 0.0595 - mean_absolute_percentage_error: 39946768.0000 - val_loss: 0.0029 - val_mean_absolute_percentage_error: 783471.3750\n"
     ]
    },
    {
     "name": "stderr",
     "output_type": "stream",
     "text": [
      "\u001B[32m[I 2022-06-07 16:06:46,488]\u001B[0m Trial 29 pruned. Trial was pruned at epoch 4.\u001B[0m\n"
     ]
    },
    {
     "name": "stdout",
     "output_type": "stream",
     "text": [
      "Epoch 1/10\n",
      "574/574 [==============================] - 19s 25ms/step - loss: 0.0038 - mean_absolute_percentage_error: 433839.6562 - val_loss: 0.0031 - val_mean_absolute_percentage_error: 205253.3281\n",
      "Epoch 2/10\n",
      "574/574 [==============================] - 14s 24ms/step - loss: 0.0030 - mean_absolute_percentage_error: 244440.2500 - val_loss: 0.0031 - val_mean_absolute_percentage_error: 54323.2422\n"
     ]
    },
    {
     "name": "stderr",
     "output_type": "stream",
     "text": [
      "\u001B[32m[I 2022-06-07 16:12:19,984]\u001B[0m Trial 30 pruned. Trial was pruned at epoch 1.\u001B[0m\n"
     ]
    },
    {
     "name": "stdout",
     "output_type": "stream",
     "text": [
      "Epoch 1/10\n",
      "   4/1374 [..............................] - ETA: 27s - loss: 0.0029 - mean_absolute_percentage_error: 449905.5938  WARNING:tensorflow:Callback method `on_train_batch_end` is slow compared to the batch time (batch time: 0.0142s vs `on_train_batch_end` time: 0.0165s). Check your callbacks.\n",
      "1374/1374 [==============================] - 27s 18ms/step - loss: 0.0029 - mean_absolute_percentage_error: 352107.3750 - val_loss: 0.0029 - val_mean_absolute_percentage_error: 267764.1562\n",
      "Epoch 2/10\n",
      "1374/1374 [==============================] - 25s 18ms/step - loss: 0.0029 - mean_absolute_percentage_error: 337007.2500 - val_loss: 0.0029 - val_mean_absolute_percentage_error: 253501.3750\n",
      "Epoch 3/10\n",
      "1374/1374 [==============================] - 25s 18ms/step - loss: 0.0029 - mean_absolute_percentage_error: 330100.9062 - val_loss: 0.0029 - val_mean_absolute_percentage_error: 249548.1094\n",
      "Epoch 4/10\n",
      "1374/1374 [==============================] - 25s 18ms/step - loss: 0.0029 - mean_absolute_percentage_error: 326978.0312 - val_loss: 0.0029 - val_mean_absolute_percentage_error: 245937.2656\n",
      "Epoch 5/10\n",
      "1374/1374 [==============================] - 25s 18ms/step - loss: 0.0029 - mean_absolute_percentage_error: 326655.3438 - val_loss: 0.0029 - val_mean_absolute_percentage_error: 244203.9062\n"
     ]
    },
    {
     "name": "stderr",
     "output_type": "stream",
     "text": [
      "\u001B[32m[I 2022-06-07 16:18:38,120]\u001B[0m Trial 31 pruned. Trial was pruned at epoch 4.\u001B[0m\n"
     ]
    },
    {
     "name": "stdout",
     "output_type": "stream",
     "text": [
      "Epoch 1/10\n",
      "  5/965 [..............................] - ETA: 25s - loss: 0.0029 - mean_absolute_percentage_error: 406535.0938WARNING:tensorflow:Callback method `on_train_batch_end` is slow compared to the batch time (batch time: 0.0175s vs `on_train_batch_end` time: 0.0232s). Check your callbacks.\n",
      "965/965 [==============================] - 26s 23ms/step - loss: 0.0029 - mean_absolute_percentage_error: 193934.3750 - val_loss: 0.0029 - val_mean_absolute_percentage_error: 109622.5703\n",
      "Epoch 2/10\n",
      "965/965 [==============================] - 22s 22ms/step - loss: 0.0029 - mean_absolute_percentage_error: 174863.4219 - val_loss: 0.0029 - val_mean_absolute_percentage_error: 114080.8359\n",
      "Epoch 3/10\n",
      "965/965 [==============================] - 22s 23ms/step - loss: 0.0029 - mean_absolute_percentage_error: 172403.5625 - val_loss: 0.0029 - val_mean_absolute_percentage_error: 113545.4766\n",
      "Epoch 4/10\n",
      "965/965 [==============================] - 22s 23ms/step - loss: 0.0029 - mean_absolute_percentage_error: 170479.2969 - val_loss: 0.0029 - val_mean_absolute_percentage_error: 115136.1797\n",
      "Epoch 5/10\n",
      "965/965 [==============================] - 22s 23ms/step - loss: 0.0029 - mean_absolute_percentage_error: 169357.3438 - val_loss: 0.0029 - val_mean_absolute_percentage_error: 108667.4688\n"
     ]
    },
    {
     "name": "stderr",
     "output_type": "stream",
     "text": [
      "\u001B[32m[I 2022-06-07 16:24:47,079]\u001B[0m Trial 32 pruned. Trial was pruned at epoch 4.\u001B[0m\n"
     ]
    },
    {
     "name": "stdout",
     "output_type": "stream",
     "text": [
      "Epoch 1/10\n",
      "   6/2342 [..............................] - ETA: 1:38 - loss: 0.0028 - mean_absolute_percentage_error: 151741.6562WARNING:tensorflow:Callback method `on_train_batch_end` is slow compared to the batch time (batch time: 0.0263s vs `on_train_batch_end` time: 0.0278s). Check your callbacks.\n",
      "2342/2342 [==============================] - 54s 23ms/step - loss: 0.0030 - mean_absolute_percentage_error: 68088.8281 - val_loss: 0.0028 - val_mean_absolute_percentage_error: 41371.6797\n",
      "Epoch 2/10\n",
      "2342/2342 [==============================] - 52s 22ms/step - loss: 0.0030 - mean_absolute_percentage_error: 67082.5781 - val_loss: 0.0028 - val_mean_absolute_percentage_error: 41904.6875\n",
      "Epoch 3/10\n",
      "2342/2342 [==============================] - 52s 22ms/step - loss: 0.0030 - mean_absolute_percentage_error: 67704.8906 - val_loss: 0.0028 - val_mean_absolute_percentage_error: 46372.8672\n",
      "Epoch 4/10\n",
      "2342/2342 [==============================] - 52s 22ms/step - loss: 0.0030 - mean_absolute_percentage_error: 74070.1172 - val_loss: 0.0028 - val_mean_absolute_percentage_error: 46988.5312\n",
      "Epoch 5/10\n",
      "2342/2342 [==============================] - 53s 23ms/step - loss: 0.0030 - mean_absolute_percentage_error: 78276.4141 - val_loss: 0.0028 - val_mean_absolute_percentage_error: 56268.0312\n",
      "Epoch 6/10\n",
      "2342/2342 [==============================] - 53s 22ms/step - loss: 0.0030 - mean_absolute_percentage_error: 85164.0234 - val_loss: 0.0028 - val_mean_absolute_percentage_error: 60499.5977\n",
      "Epoch 7/10\n",
      "2342/2342 [==============================] - 53s 23ms/step - loss: 0.0030 - mean_absolute_percentage_error: 92125.3359 - val_loss: 0.0027 - val_mean_absolute_percentage_error: 66289.7500\n",
      "Epoch 8/10\n",
      "2342/2342 [==============================] - 53s 23ms/step - loss: 0.0030 - mean_absolute_percentage_error: 97601.7578 - val_loss: 0.0027 - val_mean_absolute_percentage_error: 72066.6562\n",
      "Epoch 9/10\n",
      "2342/2342 [==============================] - 54s 23ms/step - loss: 0.0030 - mean_absolute_percentage_error: 105750.2734 - val_loss: 0.0027 - val_mean_absolute_percentage_error: 96610.0938\n",
      "Epoch 10/10\n",
      "2342/2342 [==============================] - 53s 23ms/step - loss: 0.0030 - mean_absolute_percentage_error: 112190.7578 - val_loss: 0.0027 - val_mean_absolute_percentage_error: 83006.3828\n",
      "584/584 [==============================] - 6s 10ms/step - loss: 0.0030 - mean_absolute_percentage_error: 86039.1406\n"
     ]
    },
    {
     "name": "stderr",
     "output_type": "stream",
     "text": [
      "\u001B[32m[I 2022-06-07 16:37:48,703]\u001B[0m Trial 33 finished with value: 0.0029648509807884693 and parameters: {'sequence_length': 6, 'hidden_neurons': 867, 'hidden_layers': 20, 'dropout_rate': 0.3775773939100119, 'activation': 'relu', 'optimizer': 'adagrad', 'batch_size': 139}. Best is trial 9 with value: 0.0028108484111726284.\u001B[0m\n"
     ]
    },
    {
     "name": "stdout",
     "output_type": "stream",
     "text": [
      "Epoch 1/10\n",
      "  6/861 [..............................] - ETA: 30s - loss: 0.0149 - mean_absolute_percentage_error: 8329358.5000 WARNING:tensorflow:Callback method `on_train_batch_end` is slow compared to the batch time (batch time: 0.0175s vs `on_train_batch_end` time: 0.0176s). Check your callbacks.\n",
      "861/861 [==============================] - 14s 15ms/step - loss: 0.0030 - mean_absolute_percentage_error: 546638.5000 - val_loss: 0.0031 - val_mean_absolute_percentage_error: 359625.7188\n",
      "Epoch 2/10\n",
      "861/861 [==============================] - 12s 14ms/step - loss: 0.0029 - mean_absolute_percentage_error: 284036.6562 - val_loss: 0.0031 - val_mean_absolute_percentage_error: 55394.8086\n"
     ]
    },
    {
     "name": "stderr",
     "output_type": "stream",
     "text": [
      "\u001B[32m[I 2022-06-07 16:42:37,421]\u001B[0m Trial 34 pruned. Trial was pruned at epoch 1.\u001B[0m\n"
     ]
    },
    {
     "name": "stdout",
     "output_type": "stream",
     "text": [
      "Epoch 1/10\n",
      "1110/1110 [==============================] - 18s 16ms/step - loss: 0.0030 - mean_absolute_percentage_error: 508904.0000 - val_loss: 0.0030 - val_mean_absolute_percentage_error: 259325.0156\n",
      "Epoch 2/10\n",
      "1110/1110 [==============================] - 17s 15ms/step - loss: 0.0030 - mean_absolute_percentage_error: 465875.7188 - val_loss: 0.0029 - val_mean_absolute_percentage_error: 246626.3750\n",
      "Epoch 3/10\n",
      "1110/1110 [==============================] - 17s 15ms/step - loss: 0.0030 - mean_absolute_percentage_error: 445542.9062 - val_loss: 0.0029 - val_mean_absolute_percentage_error: 226100.8438\n",
      "Epoch 4/10\n",
      "1110/1110 [==============================] - 17s 15ms/step - loss: 0.0030 - mean_absolute_percentage_error: 426188.0312 - val_loss: 0.0029 - val_mean_absolute_percentage_error: 210453.2188\n",
      "Epoch 5/10\n",
      "1110/1110 [==============================] - 17s 15ms/step - loss: 0.0030 - mean_absolute_percentage_error: 406363.5312 - val_loss: 0.0029 - val_mean_absolute_percentage_error: 209714.5625\n"
     ]
    },
    {
     "name": "stderr",
     "output_type": "stream",
     "text": [
      "\u001B[32m[I 2022-06-07 16:48:29,955]\u001B[0m Trial 35 pruned. Trial was pruned at epoch 4.\u001B[0m\n"
     ]
    },
    {
     "name": "stdout",
     "output_type": "stream",
     "text": [
      "Epoch 1/10\n",
      "   5/3635 [..............................] - ETA: 2:23 - loss: 3.1006 - mean_absolute_percentage_error: 98709520.0000 WARNING:tensorflow:Callback method `on_train_batch_end` is slow compared to the batch time (batch time: 0.0202s vs `on_train_batch_end` time: 0.0238s). Check your callbacks.\n",
      "3635/3635 [==============================] - 73s 20ms/step - loss: 0.0201 - mean_absolute_percentage_error: 6834849.5000 - val_loss: 0.0031 - val_mean_absolute_percentage_error: 89999.4688\n",
      "Epoch 2/10\n",
      "3635/3635 [==============================] - 69s 19ms/step - loss: 0.0029 - mean_absolute_percentage_error: 531319.1250 - val_loss: 0.0031 - val_mean_absolute_percentage_error: 119969.4922\n"
     ]
    },
    {
     "name": "stderr",
     "output_type": "stream",
     "text": [
      "\u001B[32m[I 2022-06-07 16:55:01,725]\u001B[0m Trial 36 pruned. Trial was pruned at epoch 1.\u001B[0m\n"
     ]
    },
    {
     "name": "stdout",
     "output_type": "stream",
     "text": [
      "Epoch 1/10\n",
      "741/741 [==============================] - 17s 18ms/step - loss: 0.0142 - mean_absolute_percentage_error: 14942699.0000 - val_loss: 0.0034 - val_mean_absolute_percentage_error: 2334107.2500\n",
      "Epoch 2/10\n",
      "741/741 [==============================] - 13s 17ms/step - loss: 0.0066 - mean_absolute_percentage_error: 9822636.0000 - val_loss: 0.0032 - val_mean_absolute_percentage_error: 1878165.5000\n"
     ]
    },
    {
     "name": "stderr",
     "output_type": "stream",
     "text": [
      "\u001B[32m[I 2022-06-07 17:00:18,353]\u001B[0m Trial 37 pruned. Trial was pruned at epoch 1.\u001B[0m\n"
     ]
    },
    {
     "name": "stdout",
     "output_type": "stream",
     "text": [
      "Epoch 1/10\n",
      "  5/512 [..............................] - ETA: 19s - loss: 0.0135 - mean_absolute_percentage_error: 12890740.0000WARNING:tensorflow:Callback method `on_train_batch_end` is slow compared to the batch time (batch time: 0.0158s vs `on_train_batch_end` time: 0.0170s). Check your callbacks.\n",
      "512/512 [==============================] - 8s 13ms/step - loss: 0.0090 - mean_absolute_percentage_error: 11779114.0000 - val_loss: 0.0036 - val_mean_absolute_percentage_error: 3849035.7500\n",
      "Epoch 2/10\n",
      "512/512 [==============================] - 5s 9ms/step - loss: 0.0069 - mean_absolute_percentage_error: 9783784.0000 - val_loss: 0.0033 - val_mean_absolute_percentage_error: 3257451.7500\n"
     ]
    },
    {
     "name": "stderr",
     "output_type": "stream",
     "text": [
      "\u001B[32m[I 2022-06-07 17:04:50,749]\u001B[0m Trial 38 pruned. Trial was pruned at epoch 1.\u001B[0m\n"
     ]
    },
    {
     "name": "stdout",
     "output_type": "stream",
     "text": [
      "Epoch 1/10\n",
      "   6/1556 [..............................] - ETA: 1:04 - loss: 11.6203 - mean_absolute_percentage_error: 762562048.0000WARNING:tensorflow:Callback method `on_train_batch_end` is slow compared to the batch time (batch time: 0.0176s vs `on_train_batch_end` time: 0.0221s). Check your callbacks.\n",
      "1556/1556 [==============================] - 25s 15ms/step - loss: 0.0894 - mean_absolute_percentage_error: 33157504.0000 - val_loss: 0.0068 - val_mean_absolute_percentage_error: 14301266.0000\n",
      "Epoch 2/10\n",
      "1556/1556 [==============================] - 22s 14ms/step - loss: 0.0078 - mean_absolute_percentage_error: 14386258.0000 - val_loss: 0.0031 - val_mean_absolute_percentage_error: 3644113.5000\n"
     ]
    },
    {
     "name": "stderr",
     "output_type": "stream",
     "text": [
      "\u001B[32m[I 2022-06-07 17:10:13,666]\u001B[0m Trial 39 pruned. Trial was pruned at epoch 1.\u001B[0m\n"
     ]
    },
    {
     "name": "stdout",
     "output_type": "stream",
     "text": [
      "Epoch 1/10\n",
      "834/834 [==============================] - 12s 13ms/step - loss: 0.0287 - mean_absolute_percentage_error: 28665878.0000 - val_loss: 0.0028 - val_mean_absolute_percentage_error: 401483.9062\n",
      "Epoch 2/10\n",
      "834/834 [==============================] - 11s 13ms/step - loss: 0.0210 - mean_absolute_percentage_error: 24048342.0000 - val_loss: 0.0028 - val_mean_absolute_percentage_error: 243703.1250\n",
      "Epoch 3/10\n",
      "834/834 [==============================] - 11s 13ms/step - loss: 0.0161 - mean_absolute_percentage_error: 20653326.0000 - val_loss: 0.0028 - val_mean_absolute_percentage_error: 904095.7500\n",
      "Epoch 4/10\n",
      "834/834 [==============================] - 10s 13ms/step - loss: 0.0130 - mean_absolute_percentage_error: 18105520.0000 - val_loss: 0.0028 - val_mean_absolute_percentage_error: 1510558.1250\n",
      "Epoch 5/10\n",
      "834/834 [==============================] - 11s 13ms/step - loss: 0.0107 - mean_absolute_percentage_error: 15954599.0000 - val_loss: 0.0028 - val_mean_absolute_percentage_error: 2016.1672\n"
     ]
    },
    {
     "name": "stderr",
     "output_type": "stream",
     "text": [
      "\u001B[32m[I 2022-06-07 17:15:12,471]\u001B[0m Trial 40 pruned. Trial was pruned at epoch 4.\u001B[0m\n"
     ]
    },
    {
     "name": "stdout",
     "output_type": "stream",
     "text": [
      "Epoch 1/10\n",
      "   6/2292 [..............................] - ETA: 1:24 - loss: 0.0025 - mean_absolute_percentage_error: 56336.9375WARNING:tensorflow:Callback method `on_train_batch_end` is slow compared to the batch time (batch time: 0.0243s vs `on_train_batch_end` time: 0.0264s). Check your callbacks.\n",
      "2292/2292 [==============================] - 57s 24ms/step - loss: 0.0030 - mean_absolute_percentage_error: 64916.4531 - val_loss: 0.0028 - val_mean_absolute_percentage_error: 37212.9844\n",
      "Epoch 2/10\n",
      "2292/2292 [==============================] - 56s 25ms/step - loss: 0.0030 - mean_absolute_percentage_error: 71728.1875 - val_loss: 0.0028 - val_mean_absolute_percentage_error: 47643.7227\n",
      "Epoch 3/10\n",
      "2292/2292 [==============================] - 55s 24ms/step - loss: 0.0030 - mean_absolute_percentage_error: 77038.7656 - val_loss: 0.0028 - val_mean_absolute_percentage_error: 59374.5820\n",
      "Epoch 4/10\n",
      "2292/2292 [==============================] - 55s 24ms/step - loss: 0.0030 - mean_absolute_percentage_error: 86704.9297 - val_loss: 0.0028 - val_mean_absolute_percentage_error: 56244.6641\n",
      "Epoch 5/10\n",
      "2292/2292 [==============================] - 56s 24ms/step - loss: 0.0030 - mean_absolute_percentage_error: 94418.7344 - val_loss: 0.0028 - val_mean_absolute_percentage_error: 62884.9414\n",
      "Epoch 6/10\n",
      "2292/2292 [==============================] - 56s 24ms/step - loss: 0.0030 - mean_absolute_percentage_error: 104191.1406 - val_loss: 0.0027 - val_mean_absolute_percentage_error: 83017.7578\n",
      "Epoch 7/10\n",
      "2292/2292 [==============================] - 58s 25ms/step - loss: 0.0030 - mean_absolute_percentage_error: 112691.8438 - val_loss: 0.0027 - val_mean_absolute_percentage_error: 77793.7422\n",
      "Epoch 8/10\n",
      "2292/2292 [==============================] - 59s 26ms/step - loss: 0.0030 - mean_absolute_percentage_error: 120116.0156 - val_loss: 0.0027 - val_mean_absolute_percentage_error: 87206.5703\n",
      "Epoch 9/10\n",
      "2292/2292 [==============================] - 56s 24ms/step - loss: 0.0030 - mean_absolute_percentage_error: 129123.8672 - val_loss: 0.0027 - val_mean_absolute_percentage_error: 92537.7031\n",
      "Epoch 10/10\n",
      "2292/2292 [==============================] - 56s 25ms/step - loss: 0.0030 - mean_absolute_percentage_error: 137590.6875 - val_loss: 0.0027 - val_mean_absolute_percentage_error: 98033.0938\n",
      "572/572 [==============================] - 6s 10ms/step - loss: 0.0030 - mean_absolute_percentage_error: 95204.7266\n"
     ]
    },
    {
     "name": "stderr",
     "output_type": "stream",
     "text": [
      "\u001B[32m[I 2022-06-07 17:28:50,153]\u001B[0m Trial 41 finished with value: 0.002964008366689086 and parameters: {'sequence_length': 6, 'hidden_neurons': 924, 'hidden_layers': 20, 'dropout_rate': 0.49937729806574715, 'activation': 'relu', 'optimizer': 'adagrad', 'batch_size': 142}. Best is trial 9 with value: 0.0028108484111726284.\u001B[0m\n"
     ]
    },
    {
     "name": "stdout",
     "output_type": "stream",
     "text": [
      "Epoch 1/10\n",
      "   3/4560 [..............................] - ETA: 5:19 - loss: 0.0019 - mean_absolute_percentage_error: 146418.6875WARNING:tensorflow:Callback method `on_train_batch_end` is slow compared to the batch time (batch time: 0.0163s vs `on_train_batch_end` time: 0.0250s). Check your callbacks.\n",
      "4560/4560 [==============================] - 72s 15ms/step - loss: 0.0029 - mean_absolute_percentage_error: 118838.5938 - val_loss: 0.0029 - val_mean_absolute_percentage_error: 36042.6250\n",
      "Epoch 2/10\n",
      "4560/4560 [==============================] - 71s 15ms/step - loss: 0.0029 - mean_absolute_percentage_error: 106638.1094 - val_loss: 0.0029 - val_mean_absolute_percentage_error: 47652.6133\n",
      "Epoch 3/10\n",
      "4560/4560 [==============================] - 71s 16ms/step - loss: 0.0029 - mean_absolute_percentage_error: 107621.0938 - val_loss: 0.0029 - val_mean_absolute_percentage_error: 51919.4258\n",
      "Epoch 4/10\n",
      "4560/4560 [==============================] - 72s 16ms/step - loss: 0.0029 - mean_absolute_percentage_error: 112020.1172 - val_loss: 0.0029 - val_mean_absolute_percentage_error: 64097.1758\n",
      "Epoch 5/10\n",
      "4560/4560 [==============================] - 73s 16ms/step - loss: 0.0029 - mean_absolute_percentage_error: 120426.7266 - val_loss: 0.0029 - val_mean_absolute_percentage_error: 69512.5000\n"
     ]
    },
    {
     "name": "stderr",
     "output_type": "stream",
     "text": [
      "\u001B[32m[I 2022-06-07 17:39:01,919]\u001B[0m Trial 42 pruned. Trial was pruned at epoch 4.\u001B[0m\n"
     ]
    },
    {
     "name": "stdout",
     "output_type": "stream",
     "text": [
      "Epoch 1/10\n",
      "   4/1985 [..............................] - ETA: 1:59 - loss: 0.0026 - mean_absolute_percentage_error: 115637.8047WARNING:tensorflow:Callback method `on_train_batch_end` is slow compared to the batch time (batch time: 0.0249s vs `on_train_batch_end` time: 0.0294s). Check your callbacks.\n",
      "1985/1985 [==============================] - 42s 21ms/step - loss: 0.0030 - mean_absolute_percentage_error: 97994.9453 - val_loss: 0.0028 - val_mean_absolute_percentage_error: 30483.4258\n",
      "Epoch 2/10\n",
      "1985/1985 [==============================] - 41s 21ms/step - loss: 0.0030 - mean_absolute_percentage_error: 94581.8125 - val_loss: 0.0028 - val_mean_absolute_percentage_error: 37647.7227\n",
      "Epoch 3/10\n",
      "1985/1985 [==============================] - 41s 21ms/step - loss: 0.0030 - mean_absolute_percentage_error: 98054.5312 - val_loss: 0.0028 - val_mean_absolute_percentage_error: 47784.8867\n",
      "Epoch 4/10\n",
      "1985/1985 [==============================] - 42s 21ms/step - loss: 0.0030 - mean_absolute_percentage_error: 104592.5469 - val_loss: 0.0028 - val_mean_absolute_percentage_error: 58927.2422\n",
      "Epoch 5/10\n",
      "1985/1985 [==============================] - 42s 21ms/step - loss: 0.0030 - mean_absolute_percentage_error: 112423.2344 - val_loss: 0.0028 - val_mean_absolute_percentage_error: 77300.5859\n"
     ]
    },
    {
     "name": "stderr",
     "output_type": "stream",
     "text": [
      "\u001B[32m[I 2022-06-07 17:46:38,368]\u001B[0m Trial 43 pruned. Trial was pruned at epoch 4.\u001B[0m\n"
     ]
    },
    {
     "name": "stdout",
     "output_type": "stream",
     "text": [
      "Epoch 1/10\n",
      "1230/1230 [==============================] - 18s 14ms/step - loss: 0.0029 - mean_absolute_percentage_error: 114519.0859 - val_loss: 0.0031 - val_mean_absolute_percentage_error: 123351.2188\n",
      "Epoch 2/10\n",
      "1230/1230 [==============================] - 17s 14ms/step - loss: 0.0029 - mean_absolute_percentage_error: 139724.4844 - val_loss: 0.0031 - val_mean_absolute_percentage_error: 127250.3203\n"
     ]
    },
    {
     "name": "stderr",
     "output_type": "stream",
     "text": [
      "\u001B[32m[I 2022-06-07 17:51:29,382]\u001B[0m Trial 44 pruned. Trial was pruned at epoch 1.\u001B[0m\n"
     ]
    },
    {
     "name": "stdout",
     "output_type": "stream",
     "text": [
      "Epoch 1/10\n",
      "2615/2615 [==============================] - 60s 22ms/step - loss: 0.0029 - mean_absolute_percentage_error: 187050.5312 - val_loss: 0.0029 - val_mean_absolute_percentage_error: 31562.1660\n",
      "Epoch 2/10\n",
      "2615/2615 [==============================] - 57s 22ms/step - loss: 0.0029 - mean_absolute_percentage_error: 157174.6406 - val_loss: 0.0029 - val_mean_absolute_percentage_error: 257629.7969\n"
     ]
    },
    {
     "name": "stderr",
     "output_type": "stream",
     "text": [
      "\u001B[32m[I 2022-06-07 17:57:43,985]\u001B[0m Trial 45 pruned. Trial was pruned at epoch 1.\u001B[0m\n"
     ]
    },
    {
     "name": "stdout",
     "output_type": "stream",
     "text": [
      "Epoch 1/10\n",
      "1021/1021 [==============================] - 13s 12ms/step - loss: 0.0981 - mean_absolute_percentage_error: 51392296.0000 - val_loss: 0.0028 - val_mean_absolute_percentage_error: 1901409.2500\n",
      "Epoch 2/10\n",
      "1021/1021 [==============================] - 12s 12ms/step - loss: 0.0097 - mean_absolute_percentage_error: 15557312.0000 - val_loss: 0.0028 - val_mean_absolute_percentage_error: 1007005.0000\n",
      "Epoch 3/10\n",
      "1021/1021 [==============================] - 12s 12ms/step - loss: 0.0048 - mean_absolute_percentage_error: 8515175.0000 - val_loss: 0.0028 - val_mean_absolute_percentage_error: 337951.5938\n",
      "Epoch 4/10\n",
      "1021/1021 [==============================] - 12s 12ms/step - loss: 0.0038 - mean_absolute_percentage_error: 5654903.0000 - val_loss: 0.0028 - val_mean_absolute_percentage_error: 301108.9375\n",
      "Epoch 5/10\n",
      "1021/1021 [==============================] - 12s 12ms/step - loss: 0.0034 - mean_absolute_percentage_error: 4198100.0000 - val_loss: 0.0028 - val_mean_absolute_percentage_error: 96262.1719\n"
     ]
    },
    {
     "name": "stderr",
     "output_type": "stream",
     "text": [
      "\u001B[32m[I 2022-06-07 18:02:52,770]\u001B[0m Trial 46 pruned. Trial was pruned at epoch 4.\u001B[0m\n"
     ]
    },
    {
     "name": "stdout",
     "output_type": "stream",
     "text": [
      "Epoch 1/10\n",
      "  6/602 [..............................] - ETA: 39s - loss: 99.6535 - mean_absolute_percentage_error: 1444827904.0000 WARNING:tensorflow:Callback method `on_train_batch_end` is slow compared to the batch time (batch time: 0.0329s vs `on_train_batch_end` time: 0.0381s). Check your callbacks.\n",
      "602/602 [==============================] - 31s 48ms/step - loss: 1.6627 - mean_absolute_percentage_error: 157903584.0000 - val_loss: 0.2196 - val_mean_absolute_percentage_error: 128688696.0000\n",
      "Epoch 2/10\n",
      "602/602 [==============================] - 29s 47ms/step - loss: 0.4110 - mean_absolute_percentage_error: 119040280.0000 - val_loss: 0.3113 - val_mean_absolute_percentage_error: 135024160.0000\n"
     ]
    },
    {
     "name": "stderr",
     "output_type": "stream",
     "text": [
      "\u001B[32m[I 2022-06-07 18:08:15,886]\u001B[0m Trial 47 pruned. Trial was pruned at epoch 1.\u001B[0m\n"
     ]
    },
    {
     "name": "stdout",
     "output_type": "stream",
     "text": [
      "Epoch 1/10\n",
      "675/675 [==============================] - 10s 12ms/step - loss: 0.0033 - mean_absolute_percentage_error: 2527582.2500 - val_loss: 0.0030 - val_mean_absolute_percentage_error: 1320285.3750\n",
      "Epoch 2/10\n",
      "675/675 [==============================] - 8s 11ms/step - loss: 0.0032 - mean_absolute_percentage_error: 2246994.0000 - val_loss: 0.0030 - val_mean_absolute_percentage_error: 1166430.0000\n"
     ]
    },
    {
     "name": "stderr",
     "output_type": "stream",
     "text": [
      "\u001B[32m[I 2022-06-07 18:13:23,078]\u001B[0m Trial 48 pruned. Trial was pruned at epoch 1.\u001B[0m\n"
     ]
    },
    {
     "name": "stdout",
     "output_type": "stream",
     "text": [
      "Epoch 1/10\n",
      "417/417 [==============================] - 5s 9ms/step - loss: 0.0535 - mean_absolute_percentage_error: 22328236.0000 - val_loss: 0.0028 - val_mean_absolute_percentage_error: 364089.9688\n",
      "Epoch 2/10\n",
      "417/417 [==============================] - 3s 8ms/step - loss: 0.0035 - mean_absolute_percentage_error: 3912760.2500 - val_loss: 0.0028 - val_mean_absolute_percentage_error: 138835.7031\n",
      "Epoch 3/10\n",
      "417/417 [==============================] - 3s 8ms/step - loss: 0.0031 - mean_absolute_percentage_error: 2471578.0000 - val_loss: 0.0028 - val_mean_absolute_percentage_error: 118962.1172\n",
      "Epoch 4/10\n",
      "417/417 [==============================] - 3s 7ms/step - loss: 0.0030 - mean_absolute_percentage_error: 1819940.1250 - val_loss: 0.0028 - val_mean_absolute_percentage_error: 136834.7031\n",
      "Epoch 5/10\n",
      "417/417 [==============================] - 3s 8ms/step - loss: 0.0030 - mean_absolute_percentage_error: 1448910.1250 - val_loss: 0.0028 - val_mean_absolute_percentage_error: 156108.2656\n"
     ]
    },
    {
     "name": "stderr",
     "output_type": "stream",
     "text": [
      "\u001B[32m[I 2022-06-07 18:17:44,668]\u001B[0m Trial 49 pruned. Trial was pruned at epoch 4.\u001B[0m\n"
     ]
    },
    {
     "name": "stdout",
     "output_type": "stream",
     "text": [
      "Epoch 1/10\n",
      "843/843 [==============================] - 12s 10ms/step - loss: 0.0234 - mean_absolute_percentage_error: 22684934.0000 - val_loss: 0.0039 - val_mean_absolute_percentage_error: 4026137.2500\n",
      "Epoch 2/10\n",
      "843/843 [==============================] - 8s 9ms/step - loss: 0.0118 - mean_absolute_percentage_error: 14582836.0000 - val_loss: 0.0035 - val_mean_absolute_percentage_error: 3001167.5000\n"
     ]
    },
    {
     "name": "stderr",
     "output_type": "stream",
     "text": [
      "\u001B[32m[I 2022-06-07 18:23:04,509]\u001B[0m Trial 50 pruned. Trial was pruned at epoch 1.\u001B[0m\n"
     ]
    },
    {
     "name": "stdout",
     "output_type": "stream",
     "text": [
      "Epoch 1/10\n",
      "2429/2429 [==============================] - 60s 24ms/step - loss: 0.0030 - mean_absolute_percentage_error: 62418.0156 - val_loss: 0.0028 - val_mean_absolute_percentage_error: 31983.1191\n",
      "Epoch 2/10\n",
      "2429/2429 [==============================] - 56s 23ms/step - loss: 0.0030 - mean_absolute_percentage_error: 68632.5938 - val_loss: 0.0028 - val_mean_absolute_percentage_error: 41279.3242\n",
      "Epoch 3/10\n",
      "2429/2429 [==============================] - 55s 23ms/step - loss: 0.0030 - mean_absolute_percentage_error: 77754.8750 - val_loss: 0.0028 - val_mean_absolute_percentage_error: 50388.4336\n",
      "Epoch 4/10\n",
      "2429/2429 [==============================] - 56s 23ms/step - loss: 0.0030 - mean_absolute_percentage_error: 85092.6172 - val_loss: 0.0028 - val_mean_absolute_percentage_error: 56811.9219\n",
      "Epoch 5/10\n",
      "2429/2429 [==============================] - 56s 23ms/step - loss: 0.0030 - mean_absolute_percentage_error: 93401.9688 - val_loss: 0.0028 - val_mean_absolute_percentage_error: 69550.0234\n",
      "Epoch 6/10\n",
      "2429/2429 [==============================] - 57s 23ms/step - loss: 0.0030 - mean_absolute_percentage_error: 103426.7344 - val_loss: 0.0028 - val_mean_absolute_percentage_error: 76191.1172\n",
      "Epoch 7/10\n",
      "2429/2429 [==============================] - 57s 23ms/step - loss: 0.0030 - mean_absolute_percentage_error: 113671.2734 - val_loss: 0.0028 - val_mean_absolute_percentage_error: 84642.9531\n",
      "Epoch 8/10\n",
      "2429/2429 [==============================] - 57s 23ms/step - loss: 0.0030 - mean_absolute_percentage_error: 120607.5781 - val_loss: 0.0027 - val_mean_absolute_percentage_error: 88041.9219\n",
      "Epoch 9/10\n",
      "2429/2429 [==============================] - 57s 24ms/step - loss: 0.0030 - mean_absolute_percentage_error: 127899.7266 - val_loss: 0.0027 - val_mean_absolute_percentage_error: 100503.5234\n",
      "Epoch 10/10\n",
      "2429/2429 [==============================] - 58s 24ms/step - loss: 0.0030 - mean_absolute_percentage_error: 135089.1562 - val_loss: 0.0027 - val_mean_absolute_percentage_error: 96741.3359\n",
      "606/606 [==============================] - 6s 10ms/step - loss: 0.0030 - mean_absolute_percentage_error: 100162.0469\n"
     ]
    },
    {
     "name": "stderr",
     "output_type": "stream",
     "text": [
      "\u001B[32m[I 2022-06-07 18:36:54,583]\u001B[0m Trial 51 finished with value: 0.0029638553969562054 and parameters: {'sequence_length': 6, 'hidden_neurons': 869, 'hidden_layers': 20, 'dropout_rate': 0.3824066863092847, 'activation': 'relu', 'optimizer': 'adagrad', 'batch_size': 134}. Best is trial 9 with value: 0.0028108484111726284.\u001B[0m\n"
     ]
    },
    {
     "name": "stdout",
     "output_type": "stream",
     "text": [
      "Epoch 1/10\n",
      "   3/9450 [..............................] - ETA: 11:59 - loss: 0.0019 - mean_absolute_percentage_error: 153503.0938WARNING:tensorflow:Callback method `on_train_batch_end` is slow compared to the batch time (batch time: 0.0173s vs `on_train_batch_end` time: 0.0263s). Check your callbacks.\n",
      "9450/9450 [==============================] - 148s 16ms/step - loss: 0.0029 - mean_absolute_percentage_error: 138564.6094 - val_loss: 0.0031 - val_mean_absolute_percentage_error: 113118.6719\n",
      "Epoch 2/10\n",
      "9450/9450 [==============================] - 149s 16ms/step - loss: 0.0029 - mean_absolute_percentage_error: 162595.1562 - val_loss: 0.0031 - val_mean_absolute_percentage_error: 122885.7969\n"
     ]
    },
    {
     "name": "stderr",
     "output_type": "stream",
     "text": [
      "\u001B[32m[I 2022-06-07 18:46:05,102]\u001B[0m Trial 52 pruned. Trial was pruned at epoch 1.\u001B[0m\n"
     ]
    },
    {
     "name": "stdout",
     "output_type": "stream",
     "text": [
      "Epoch 1/10\n",
      "   5/1528 [..............................] - ETA: 1:11 - loss: 0.0040 - mean_absolute_percentage_error: 72821.9844WARNING:tensorflow:Callback method `on_train_batch_end` is slow compared to the batch time (batch time: 0.0216s vs `on_train_batch_end` time: 0.0301s). Check your callbacks.\n",
      "1528/1528 [==============================] - 33s 21ms/step - loss: 0.0030 - mean_absolute_percentage_error: 64860.4141 - val_loss: 0.0028 - val_mean_absolute_percentage_error: 36486.1719\n",
      "Epoch 2/10\n",
      "1528/1528 [==============================] - 32s 21ms/step - loss: 0.0030 - mean_absolute_percentage_error: 67810.1875 - val_loss: 0.0028 - val_mean_absolute_percentage_error: 54076.9062\n",
      "Epoch 3/10\n",
      "1528/1528 [==============================] - 32s 21ms/step - loss: 0.0030 - mean_absolute_percentage_error: 71306.0156 - val_loss: 0.0028 - val_mean_absolute_percentage_error: 49425.1289\n",
      "Epoch 4/10\n",
      "1528/1528 [==============================] - 33s 21ms/step - loss: 0.0030 - mean_absolute_percentage_error: 77149.1328 - val_loss: 0.0028 - val_mean_absolute_percentage_error: 50344.5234\n",
      "Epoch 5/10\n",
      "1528/1528 [==============================] - 33s 21ms/step - loss: 0.0030 - mean_absolute_percentage_error: 83084.0469 - val_loss: 0.0028 - val_mean_absolute_percentage_error: 57878.7227\n"
     ]
    },
    {
     "name": "stderr",
     "output_type": "stream",
     "text": [
      "\u001B[32m[I 2022-06-07 18:53:00,320]\u001B[0m Trial 53 pruned. Trial was pruned at epoch 4.\u001B[0m\n"
     ]
    },
    {
     "name": "stdout",
     "output_type": "stream",
     "text": [
      "Epoch 1/10\n",
      "1999/1999 [==============================] - 52s 25ms/step - loss: 0.0030 - mean_absolute_percentage_error: 97472.4609 - val_loss: 0.0030 - val_mean_absolute_percentage_error: 68873.7578\n",
      "Epoch 2/10\n",
      "1999/1999 [==============================] - 50s 25ms/step - loss: 0.0030 - mean_absolute_percentage_error: 96994.7891 - val_loss: 0.0030 - val_mean_absolute_percentage_error: 74151.7656\n"
     ]
    },
    {
     "name": "stderr",
     "output_type": "stream",
     "text": [
      "\u001B[32m[I 2022-06-07 19:00:31,914]\u001B[0m Trial 54 pruned. Trial was pruned at epoch 1.\u001B[0m\n"
     ]
    },
    {
     "name": "stdout",
     "output_type": "stream",
     "text": [
      "Epoch 1/10\n",
      "3916/3916 [==============================] - 133s 33ms/step - loss: 0.0038 - mean_absolute_percentage_error: 263611.8438 - val_loss: 0.0028 - val_mean_absolute_percentage_error: 490830.4375\n",
      "Epoch 2/10\n",
      "3916/3916 [==============================] - 130s 33ms/step - loss: 0.0029 - mean_absolute_percentage_error: 196041.7188 - val_loss: 0.0028 - val_mean_absolute_percentage_error: 280158.6562\n",
      "Epoch 3/10\n",
      "3916/3916 [==============================] - 132s 34ms/step - loss: 0.0029 - mean_absolute_percentage_error: 195602.1250 - val_loss: 0.0028 - val_mean_absolute_percentage_error: 66938.5781\n",
      "Epoch 4/10\n",
      "3916/3916 [==============================] - 133s 34ms/step - loss: 0.0029 - mean_absolute_percentage_error: 193098.0938 - val_loss: 0.0029 - val_mean_absolute_percentage_error: 115851.3438\n",
      "Epoch 5/10\n",
      "3916/3916 [==============================] - 134s 34ms/step - loss: 0.0029 - mean_absolute_percentage_error: 192085.6562 - val_loss: 0.0028 - val_mean_absolute_percentage_error: 455639.6562\n"
     ]
    },
    {
     "name": "stderr",
     "output_type": "stream",
     "text": [
      "\u001B[32m[I 2022-06-07 19:15:48,360]\u001B[0m Trial 55 pruned. Trial was pruned at epoch 4.\u001B[0m\n"
     ]
    },
    {
     "name": "stdout",
     "output_type": "stream",
     "text": [
      "Epoch 1/10\n",
      "1226/1226 [==============================] - 19s 15ms/step - loss: 0.0137 - mean_absolute_percentage_error: 16311249.0000 - val_loss: 0.0037 - val_mean_absolute_percentage_error: 3044358.2500\n",
      "Epoch 2/10\n",
      "1226/1226 [==============================] - 17s 14ms/step - loss: 0.0071 - mean_absolute_percentage_error: 10442203.0000 - val_loss: 0.0034 - val_mean_absolute_percentage_error: 2205368.7500\n"
     ]
    },
    {
     "name": "stderr",
     "output_type": "stream",
     "text": [
      "\u001B[32m[I 2022-06-07 19:20:57,069]\u001B[0m Trial 56 pruned. Trial was pruned at epoch 1.\u001B[0m\n"
     ]
    },
    {
     "name": "stdout",
     "output_type": "stream",
     "text": [
      "Epoch 1/10\n",
      "998/998 [==============================] - 26s 22ms/step - loss: 0.0877 - mean_absolute_percentage_error: 29970788.0000 - val_loss: 0.0031 - val_mean_absolute_percentage_error: 91044.6328\n",
      "Epoch 2/10\n",
      "998/998 [==============================] - 22s 22ms/step - loss: 0.0034 - mean_absolute_percentage_error: 4027502.7500 - val_loss: 0.0031 - val_mean_absolute_percentage_error: 74675.5234\n"
     ]
    },
    {
     "name": "stderr",
     "output_type": "stream",
     "text": [
      "\u001B[32m[I 2022-06-07 19:27:21,676]\u001B[0m Trial 57 pruned. Trial was pruned at epoch 1.\u001B[0m\n"
     ]
    },
    {
     "name": "stdout",
     "output_type": "stream",
     "text": [
      "Epoch 1/10\n",
      "691/691 [==============================] - 6s 8ms/step - loss: 0.0299 - mean_absolute_percentage_error: 17068208.0000 - val_loss: 0.0030 - val_mean_absolute_percentage_error: 1726172.1250\n",
      "Epoch 2/10\n",
      "691/691 [==============================] - 5s 8ms/step - loss: 0.0030 - mean_absolute_percentage_error: 1329015.5000 - val_loss: 0.0029 - val_mean_absolute_percentage_error: 747681.1250\n"
     ]
    },
    {
     "name": "stderr",
     "output_type": "stream",
     "text": [
      "\u001B[32m[I 2022-06-07 19:31:40,782]\u001B[0m Trial 58 pruned. Trial was pruned at epoch 1.\u001B[0m\n"
     ]
    },
    {
     "name": "stdout",
     "output_type": "stream",
     "text": [
      "Epoch 1/10\n",
      "1865/1865 [==============================] - 25s 13ms/step - loss: 0.0030 - mean_absolute_percentage_error: 345727.2500 - val_loss: 0.0031 - val_mean_absolute_percentage_error: 144105.8281\n",
      "Epoch 2/10\n",
      "1865/1865 [==============================] - 23s 12ms/step - loss: 0.0030 - mean_absolute_percentage_error: 188027.6250 - val_loss: 0.0031 - val_mean_absolute_percentage_error: 157717.6094\n"
     ]
    },
    {
     "name": "stderr",
     "output_type": "stream",
     "text": [
      "\u001B[32m[I 2022-06-07 19:37:17,039]\u001B[0m Trial 59 pruned. Trial was pruned at epoch 1.\u001B[0m\n"
     ]
    },
    {
     "name": "stdout",
     "output_type": "stream",
     "text": [
      "Epoch 1/10\n",
      "1346/1346 [==============================] - 19s 13ms/step - loss: 0.2441 - mean_absolute_percentage_error: 87805336.0000 - val_loss: 0.0029 - val_mean_absolute_percentage_error: 697512.6250\n",
      "Epoch 2/10\n",
      "1346/1346 [==============================] - 18s 13ms/step - loss: 0.1089 - mean_absolute_percentage_error: 58349468.0000 - val_loss: 0.0029 - val_mean_absolute_percentage_error: 220275.7031\n",
      "Epoch 3/10\n",
      "1346/1346 [==============================] - 18s 13ms/step - loss: 0.0652 - mean_absolute_percentage_error: 44793312.0000 - val_loss: 0.0029 - val_mean_absolute_percentage_error: 91386.9766\n",
      "Epoch 4/10\n",
      "1346/1346 [==============================] - 18s 13ms/step - loss: 0.0444 - mean_absolute_percentage_error: 36508768.0000 - val_loss: 0.0029 - val_mean_absolute_percentage_error: 270091.1250\n",
      "Epoch 5/10\n",
      "1346/1346 [==============================] - 18s 13ms/step - loss: 0.0327 - mean_absolute_percentage_error: 30901614.0000 - val_loss: 0.0029 - val_mean_absolute_percentage_error: 105364.8828\n"
     ]
    },
    {
     "name": "stderr",
     "output_type": "stream",
     "text": [
      "\u001B[32m[I 2022-06-07 19:43:01,871]\u001B[0m Trial 60 pruned. Trial was pruned at epoch 4.\u001B[0m\n"
     ]
    },
    {
     "name": "stdout",
     "output_type": "stream",
     "text": [
      "Epoch 1/10\n",
      "  6/335 [..............................] - ETA: 19s - loss: 0.0025 - mean_absolute_percentage_error: 60874.0273WARNING:tensorflow:Callback method `on_train_batch_end` is slow compared to the batch time (batch time: 0.0306s vs `on_train_batch_end` time: 0.0571s). Check your callbacks.\n",
      "335/335 [==============================] - 19s 52ms/step - loss: 0.0030 - mean_absolute_percentage_error: 47854.9766 - val_loss: 0.0028 - val_mean_absolute_percentage_error: 21230.3105\n",
      "Epoch 2/10\n",
      "335/335 [==============================] - 17s 52ms/step - loss: 0.0030 - mean_absolute_percentage_error: 46141.9297 - val_loss: 0.0028 - val_mean_absolute_percentage_error: 20867.2754\n",
      "Epoch 3/10\n",
      "335/335 [==============================] - 17s 52ms/step - loss: 0.0030 - mean_absolute_percentage_error: 46214.3672 - val_loss: 0.0028 - val_mean_absolute_percentage_error: 21977.1895\n",
      "Epoch 4/10\n",
      "335/335 [==============================] - 17s 52ms/step - loss: 0.0030 - mean_absolute_percentage_error: 47145.7695 - val_loss: 0.0028 - val_mean_absolute_percentage_error: 21906.2656\n",
      "Epoch 5/10\n",
      "335/335 [==============================] - 17s 52ms/step - loss: 0.0030 - mean_absolute_percentage_error: 47620.4258 - val_loss: 0.0028 - val_mean_absolute_percentage_error: 24917.2559\n"
     ]
    },
    {
     "name": "stderr",
     "output_type": "stream",
     "text": [
      "\u001B[32m[I 2022-06-07 19:48:38,550]\u001B[0m Trial 61 pruned. Trial was pruned at epoch 4.\u001B[0m\n"
     ]
    },
    {
     "name": "stdout",
     "output_type": "stream",
     "text": [
      "Epoch 1/10\n",
      "1997/1997 [==============================] - 47s 23ms/step - loss: 0.0030 - mean_absolute_percentage_error: 46559.6289 - val_loss: 0.0028 - val_mean_absolute_percentage_error: 46771.9375\n",
      "Epoch 2/10\n",
      "1997/1997 [==============================] - 46s 23ms/step - loss: 0.0030 - mean_absolute_percentage_error: 49826.9258 - val_loss: 0.0028 - val_mean_absolute_percentage_error: 50475.0781\n",
      "Epoch 3/10\n",
      "1997/1997 [==============================] - 46s 23ms/step - loss: 0.0030 - mean_absolute_percentage_error: 55856.8008 - val_loss: 0.0028 - val_mean_absolute_percentage_error: 33972.6836\n",
      "Epoch 4/10\n",
      "1997/1997 [==============================] - 46s 23ms/step - loss: 0.0030 - mean_absolute_percentage_error: 57725.2578 - val_loss: 0.0028 - val_mean_absolute_percentage_error: 38299.2695\n",
      "Epoch 5/10\n",
      "1997/1997 [==============================] - 46s 23ms/step - loss: 0.0030 - mean_absolute_percentage_error: 61087.5273 - val_loss: 0.0028 - val_mean_absolute_percentage_error: 44131.2656\n"
     ]
    },
    {
     "name": "stderr",
     "output_type": "stream",
     "text": [
      "\u001B[32m[I 2022-06-07 19:56:37,234]\u001B[0m Trial 62 pruned. Trial was pruned at epoch 4.\u001B[0m\n"
     ]
    },
    {
     "name": "stdout",
     "output_type": "stream",
     "text": [
      "Epoch 1/10\n",
      "2734/2734 [==============================] - 51s 18ms/step - loss: 0.0029 - mean_absolute_percentage_error: 144652.0469 - val_loss: 0.0031 - val_mean_absolute_percentage_error: 65558.2891\n",
      "Epoch 2/10\n",
      "2734/2734 [==============================] - 50s 18ms/step - loss: 0.0029 - mean_absolute_percentage_error: 126748.2812 - val_loss: 0.0031 - val_mean_absolute_percentage_error: 71994.3047\n"
     ]
    },
    {
     "name": "stderr",
     "output_type": "stream",
     "text": [
      "\u001B[32m[I 2022-06-07 20:02:33,139]\u001B[0m Trial 63 pruned. Trial was pruned at epoch 1.\u001B[0m\n"
     ]
    },
    {
     "name": "stdout",
     "output_type": "stream",
     "text": [
      "Epoch 1/10\n",
      "2533/2533 [==============================] - 38s 15ms/step - loss: 0.0029 - mean_absolute_percentage_error: 130740.8438 - val_loss: 0.0028 - val_mean_absolute_percentage_error: 129303.1328\n",
      "Epoch 2/10\n",
      "2533/2533 [==============================] - 37s 14ms/step - loss: 0.0029 - mean_absolute_percentage_error: 107958.3203 - val_loss: 0.0028 - val_mean_absolute_percentage_error: 79872.2891\n",
      "Epoch 3/10\n",
      "2533/2533 [==============================] - 37s 15ms/step - loss: 0.0029 - mean_absolute_percentage_error: 96578.6484 - val_loss: 0.0028 - val_mean_absolute_percentage_error: 71974.5859\n",
      "Epoch 4/10\n",
      "2533/2533 [==============================] - 37s 15ms/step - loss: 0.0029 - mean_absolute_percentage_error: 97352.9219 - val_loss: 0.0028 - val_mean_absolute_percentage_error: 75544.0781\n",
      "Epoch 5/10\n",
      "2533/2533 [==============================] - 37s 15ms/step - loss: 0.0029 - mean_absolute_percentage_error: 106030.3828 - val_loss: 0.0028 - val_mean_absolute_percentage_error: 110468.6797\n"
     ]
    },
    {
     "name": "stderr",
     "output_type": "stream",
     "text": [
      "\u001B[32m[I 2022-06-07 20:09:43,531]\u001B[0m Trial 64 pruned. Trial was pruned at epoch 4.\u001B[0m\n"
     ]
    },
    {
     "name": "stdout",
     "output_type": "stream",
     "text": [
      "Epoch 1/10\n",
      "8807/8807 [==============================] - 218s 25ms/step - loss: 0.0287 - mean_absolute_percentage_error: 8917459.0000 - val_loss: 0.0030 - val_mean_absolute_percentage_error: 462898.0000\n",
      "Epoch 2/10\n",
      "8807/8807 [==============================] - 217s 25ms/step - loss: 0.0030 - mean_absolute_percentage_error: 461236.2812 - val_loss: 0.0030 - val_mean_absolute_percentage_error: 554865.0625\n"
     ]
    },
    {
     "name": "stderr",
     "output_type": "stream",
     "text": [
      "\u001B[32m[I 2022-06-07 20:21:18,237]\u001B[0m Trial 65 pruned. Trial was pruned at epoch 1.\u001B[0m\n"
     ]
    },
    {
     "name": "stdout",
     "output_type": "stream",
     "text": [
      "Epoch 1/10\n",
      "1172/1172 [==============================] - 32s 26ms/step - loss: 0.0030 - mean_absolute_percentage_error: 79557.9766 - val_loss: 0.0030 - val_mean_absolute_percentage_error: 57796.1641\n",
      "Epoch 2/10\n",
      "1172/1172 [==============================] - 30s 26ms/step - loss: 0.0030 - mean_absolute_percentage_error: 77608.1875 - val_loss: 0.0030 - val_mean_absolute_percentage_error: 47008.0117\n"
     ]
    },
    {
     "name": "stderr",
     "output_type": "stream",
     "text": [
      "\u001B[32m[I 2022-06-07 20:27:04,048]\u001B[0m Trial 66 pruned. Trial was pruned at epoch 1.\u001B[0m\n"
     ]
    },
    {
     "name": "stdout",
     "output_type": "stream",
     "text": [
      "Epoch 1/10\n",
      "1357/1357 [==============================] - 26s 18ms/step - loss: 0.1104 - mean_absolute_percentage_error: 30023276.0000 - val_loss: 0.0033 - val_mean_absolute_percentage_error: 5506823.0000\n",
      "Epoch 2/10\n",
      "1357/1357 [==============================] - 25s 18ms/step - loss: 0.0087 - mean_absolute_percentage_error: 11590612.0000 - val_loss: 0.0031 - val_mean_absolute_percentage_error: 2017186.2500\n"
     ]
    },
    {
     "name": "stderr",
     "output_type": "stream",
     "text": [
      "\u001B[32m[I 2022-06-07 20:32:06,459]\u001B[0m Trial 67 pruned. Trial was pruned at epoch 1.\u001B[0m\n"
     ]
    },
    {
     "name": "stdout",
     "output_type": "stream",
     "text": [
      "Epoch 1/10\n",
      "     5/162720 [..............................] - ETA: 43:19 - loss: 0.0062 - mean_absolute_percentage_error: 8102291.0000    WARNING:tensorflow:Callback method `on_train_batch_end` is slow compared to the batch time (batch time: 0.0047s vs `on_train_batch_end` time: 0.0116s). Check your callbacks.\n",
      "162720/162720 [==============================] - 963s 6ms/step - loss: 0.0031 - mean_absolute_percentage_error: 1398320.7500 - val_loss: 0.0029 - val_mean_absolute_percentage_error: 1133031.6250\n",
      "Epoch 2/10\n",
      "162720/162720 [==============================] - 1027s 6ms/step - loss: 0.0030 - mean_absolute_percentage_error: 658598.3125 - val_loss: 0.0028 - val_mean_absolute_percentage_error: 868001.1250\n",
      "Epoch 3/10\n",
      "162720/162720 [==============================] - 1038s 6ms/step - loss: 0.0030 - mean_absolute_percentage_error: 587508.0000 - val_loss: 0.0028 - val_mean_absolute_percentage_error: 952671.0625\n",
      "Epoch 4/10\n",
      "162720/162720 [==============================] - 1047s 6ms/step - loss: 0.0030 - mean_absolute_percentage_error: 564029.1875 - val_loss: 0.0028 - val_mean_absolute_percentage_error: 944068.5000\n",
      "Epoch 5/10\n",
      "162720/162720 [==============================] - 1053s 6ms/step - loss: 0.0030 - mean_absolute_percentage_error: 557303.3125 - val_loss: 0.0028 - val_mean_absolute_percentage_error: 708886.1875\n"
     ]
    },
    {
     "name": "stderr",
     "output_type": "stream",
     "text": [
      "\u001B[32m[I 2022-06-07 22:01:45,155]\u001B[0m Trial 68 pruned. Trial was pruned at epoch 4.\u001B[0m\n"
     ]
    },
    {
     "name": "stdout",
     "output_type": "stream",
     "text": [
      "Epoch 1/10\n",
      "2296/2296 [==============================] - 51s 22ms/step - loss: 0.1137 - mean_absolute_percentage_error: 59356228.0000 - val_loss: 0.0029 - val_mean_absolute_percentage_error: 1075498.7500\n",
      "Epoch 2/10\n",
      "2296/2296 [==============================] - 50s 22ms/step - loss: 0.0617 - mean_absolute_percentage_error: 43586740.0000 - val_loss: 0.0029 - val_mean_absolute_percentage_error: 1113007.3750\n"
     ]
    },
    {
     "name": "stderr",
     "output_type": "stream",
     "text": [
      "\u001B[32m[I 2022-06-07 22:07:37,508]\u001B[0m Trial 69 pruned. Trial was pruned at epoch 1.\u001B[0m\n"
     ]
    },
    {
     "name": "stdout",
     "output_type": "stream",
     "text": [
      "Epoch 1/10\n",
      "1045/1045 [==============================] - 31s 23ms/step - loss: 0.0031 - mean_absolute_percentage_error: 397213.2188 - val_loss: 0.0030 - val_mean_absolute_percentage_error: 225595.2812\n",
      "Epoch 2/10\n",
      "1045/1045 [==============================] - 23s 22ms/step - loss: 0.0030 - mean_absolute_percentage_error: 284758.6250 - val_loss: 0.0029 - val_mean_absolute_percentage_error: 436384.1562\n"
     ]
    },
    {
     "name": "stderr",
     "output_type": "stream",
     "text": [
      "\u001B[32m[I 2022-06-07 22:13:35,708]\u001B[0m Trial 70 pruned. Trial was pruned at epoch 1.\u001B[0m\n"
     ]
    },
    {
     "name": "stdout",
     "output_type": "stream",
     "text": [
      "Epoch 1/10\n",
      "2049/2049 [==============================] - 43s 20ms/step - loss: 0.0029 - mean_absolute_percentage_error: 118307.9844 - val_loss: 0.0028 - val_mean_absolute_percentage_error: 68759.7891\n",
      "Epoch 2/10\n",
      "2049/2049 [==============================] - 42s 20ms/step - loss: 0.0029 - mean_absolute_percentage_error: 105861.7969 - val_loss: 0.0028 - val_mean_absolute_percentage_error: 39372.7109\n",
      "Epoch 3/10\n",
      "2049/2049 [==============================] - 42s 20ms/step - loss: 0.0029 - mean_absolute_percentage_error: 98240.4922 - val_loss: 0.0028 - val_mean_absolute_percentage_error: 42732.0938\n",
      "Epoch 4/10\n",
      "2049/2049 [==============================] - 42s 20ms/step - loss: 0.0029 - mean_absolute_percentage_error: 97462.3516 - val_loss: 0.0028 - val_mean_absolute_percentage_error: 55129.4453\n",
      "Epoch 5/10\n",
      "2049/2049 [==============================] - 42s 20ms/step - loss: 0.0029 - mean_absolute_percentage_error: 100661.3359 - val_loss: 0.0028 - val_mean_absolute_percentage_error: 55753.7109\n"
     ]
    },
    {
     "name": "stderr",
     "output_type": "stream",
     "text": [
      "\u001B[32m[I 2022-06-07 22:21:13,712]\u001B[0m Trial 71 pruned. Trial was pruned at epoch 4.\u001B[0m\n"
     ]
    },
    {
     "name": "stdout",
     "output_type": "stream",
     "text": [
      "Epoch 1/10\n",
      "3295/3295 [==============================] - 66s 20ms/step - loss: 0.0029 - mean_absolute_percentage_error: 108708.0312 - val_loss: 0.0028 - val_mean_absolute_percentage_error: 37178.3906\n",
      "Epoch 2/10\n",
      "3295/3295 [==============================] - 65s 20ms/step - loss: 0.0029 - mean_absolute_percentage_error: 101788.1094 - val_loss: 0.0028 - val_mean_absolute_percentage_error: 39941.0234\n",
      "Epoch 3/10\n",
      "3295/3295 [==============================] - 65s 20ms/step - loss: 0.0029 - mean_absolute_percentage_error: 100743.9922 - val_loss: 0.0028 - val_mean_absolute_percentage_error: 55807.5195\n",
      "Epoch 4/10\n",
      "3295/3295 [==============================] - 65s 20ms/step - loss: 0.0029 - mean_absolute_percentage_error: 102330.7109 - val_loss: 0.0028 - val_mean_absolute_percentage_error: 68036.1953\n",
      "Epoch 5/10\n",
      "3295/3295 [==============================] - 66s 20ms/step - loss: 0.0029 - mean_absolute_percentage_error: 107773.6641 - val_loss: 0.0028 - val_mean_absolute_percentage_error: 94740.1094\n"
     ]
    },
    {
     "name": "stderr",
     "output_type": "stream",
     "text": [
      "\u001B[32m[I 2022-06-07 22:30:54,226]\u001B[0m Trial 72 pruned. Trial was pruned at epoch 4.\u001B[0m\n"
     ]
    },
    {
     "name": "stdout",
     "output_type": "stream",
     "text": [
      "Epoch 1/10\n",
      "1652/1652 [==============================] - 38s 23ms/step - loss: 0.0030 - mean_absolute_percentage_error: 64525.8008 - val_loss: 0.0028 - val_mean_absolute_percentage_error: 24573.1387\n",
      "Epoch 2/10\n",
      "1652/1652 [==============================] - 37s 22ms/step - loss: 0.0030 - mean_absolute_percentage_error: 63522.9258 - val_loss: 0.0028 - val_mean_absolute_percentage_error: 38830.9648\n",
      "Epoch 3/10\n",
      "1652/1652 [==============================] - 37s 22ms/step - loss: 0.0030 - mean_absolute_percentage_error: 65616.4219 - val_loss: 0.0028 - val_mean_absolute_percentage_error: 53918.0273\n",
      "Epoch 4/10\n",
      "1652/1652 [==============================] - 37s 22ms/step - loss: 0.0030 - mean_absolute_percentage_error: 66699.2891 - val_loss: 0.0028 - val_mean_absolute_percentage_error: 31447.3984\n",
      "Epoch 5/10\n",
      "1652/1652 [==============================] - 37s 23ms/step - loss: 0.0030 - mean_absolute_percentage_error: 67619.4062 - val_loss: 0.0028 - val_mean_absolute_percentage_error: 39076.5859\n"
     ]
    },
    {
     "name": "stderr",
     "output_type": "stream",
     "text": [
      "\u001B[32m[I 2022-06-07 22:38:08,784]\u001B[0m Trial 73 pruned. Trial was pruned at epoch 4.\u001B[0m\n"
     ]
    },
    {
     "name": "stdout",
     "output_type": "stream",
     "text": [
      "Epoch 1/10\n",
      "   4/5085 [..............................] - ETA: 3:18 - loss: 0.0031 - mean_absolute_percentage_error: 234619.1562WARNING:tensorflow:Callback method `on_train_batch_end` is slow compared to the batch time (batch time: 0.0096s vs `on_train_batch_end` time: 0.0221s). Check your callbacks.\n",
      "5085/5085 [==============================] - 68s 13ms/step - loss: 0.0030 - mean_absolute_percentage_error: 189679.0156 - val_loss: 0.0028 - val_mean_absolute_percentage_error: 73022.0781\n",
      "Epoch 2/10\n",
      "5085/5085 [==============================] - 67s 13ms/step - loss: 0.0030 - mean_absolute_percentage_error: 171114.1562 - val_loss: 0.0027 - val_mean_absolute_percentage_error: 77620.6328\n",
      "Epoch 3/10\n",
      "5085/5085 [==============================] - 67s 13ms/step - loss: 0.0030 - mean_absolute_percentage_error: 166358.0625 - val_loss: 0.0027 - val_mean_absolute_percentage_error: 89892.6406\n",
      "Epoch 4/10\n",
      "5085/5085 [==============================] - 67s 13ms/step - loss: 0.0030 - mean_absolute_percentage_error: 168944.7656 - val_loss: 0.0027 - val_mean_absolute_percentage_error: 101031.5078\n",
      "Epoch 5/10\n",
      "5085/5085 [==============================] - 68s 13ms/step - loss: 0.0030 - mean_absolute_percentage_error: 174299.8594 - val_loss: 0.0027 - val_mean_absolute_percentage_error: 106402.2266\n",
      "Epoch 6/10\n",
      "5085/5085 [==============================] - 69s 13ms/step - loss: 0.0030 - mean_absolute_percentage_error: 182114.9219 - val_loss: 0.0027 - val_mean_absolute_percentage_error: 107634.8750\n",
      "Epoch 7/10\n",
      "5085/5085 [==============================] - 69s 14ms/step - loss: 0.0029 - mean_absolute_percentage_error: 191293.3906 - val_loss: 0.0027 - val_mean_absolute_percentage_error: 122660.4141\n",
      "Epoch 8/10\n",
      "5085/5085 [==============================] - 69s 14ms/step - loss: 0.0029 - mean_absolute_percentage_error: 200550.2812 - val_loss: 0.0027 - val_mean_absolute_percentage_error: 136648.4531\n",
      "Epoch 9/10\n",
      "5085/5085 [==============================] - 69s 14ms/step - loss: 0.0029 - mean_absolute_percentage_error: 209639.7031 - val_loss: 0.0027 - val_mean_absolute_percentage_error: 145832.7031\n",
      "Epoch 10/10\n",
      "5085/5085 [==============================] - 72s 14ms/step - loss: 0.0029 - mean_absolute_percentage_error: 219628.5938 - val_loss: 0.0027 - val_mean_absolute_percentage_error: 167518.9844\n",
      "1269/1269 [==============================] - 10s 7ms/step - loss: 0.0030 - mean_absolute_percentage_error: 161827.2188\n"
     ]
    },
    {
     "name": "stderr",
     "output_type": "stream",
     "text": [
      "\u001B[32m[I 2022-06-07 22:53:54,909]\u001B[0m Trial 74 finished with value: 0.002960433019325137 and parameters: {'sequence_length': 6, 'hidden_neurons': 745, 'hidden_layers': 17, 'dropout_rate': 0.48129553542605963, 'activation': 'relu', 'optimizer': 'adagrad', 'batch_size': 64}. Best is trial 9 with value: 0.0028108484111726284.\u001B[0m\n"
     ]
    },
    {
     "name": "stdout",
     "output_type": "stream",
     "text": [
      "Epoch 1/10\n",
      "   3/4864 [..............................] - ETA: 5:23 - loss: 0.0731 - mean_absolute_percentage_error: 42570088.0000WARNING:tensorflow:Callback method `on_train_batch_end` is slow compared to the batch time (batch time: 0.0168s vs `on_train_batch_end` time: 0.0223s). Check your callbacks.\n",
      "4864/4864 [==============================] - 71s 14ms/step - loss: 0.0080 - mean_absolute_percentage_error: 10869288.0000 - val_loss: 0.0032 - val_mean_absolute_percentage_error: 1276953.7500\n",
      "Epoch 2/10\n",
      "4864/4864 [==============================] - 71s 15ms/step - loss: 0.0047 - mean_absolute_percentage_error: 6552298.0000 - val_loss: 0.0031 - val_mean_absolute_percentage_error: 1047272.2500\n"
     ]
    },
    {
     "name": "stderr",
     "output_type": "stream",
     "text": [
      "\u001B[32m[I 2022-06-07 23:00:32,436]\u001B[0m Trial 75 pruned. Trial was pruned at epoch 1.\u001B[0m\n"
     ]
    },
    {
     "name": "stdout",
     "output_type": "stream",
     "text": [
      "Epoch 1/10\n",
      "   3/7433 [..............................] - ETA: 8:33 - loss: 0.0033 - mean_absolute_percentage_error: 987393.0625 WARNING:tensorflow:Callback method `on_train_batch_end` is slow compared to the batch time (batch time: 0.0151s vs `on_train_batch_end` time: 0.0246s). Check your callbacks.\n",
      "7433/7433 [==============================] - 111s 15ms/step - loss: 0.0030 - mean_absolute_percentage_error: 405123.4688 - val_loss: 0.0030 - val_mean_absolute_percentage_error: 184033.1719\n",
      "Epoch 2/10\n",
      "7433/7433 [==============================] - 108s 15ms/step - loss: 0.0030 - mean_absolute_percentage_error: 303932.6250 - val_loss: 0.0030 - val_mean_absolute_percentage_error: 144919.9844\n"
     ]
    },
    {
     "name": "stderr",
     "output_type": "stream",
     "text": [
      "\u001B[32m[I 2022-06-07 23:08:47,027]\u001B[0m Trial 76 pruned. Trial was pruned at epoch 1.\u001B[0m\n"
     ]
    },
    {
     "name": "stdout",
     "output_type": "stream",
     "text": [
      "Epoch 1/10\n",
      "  5/537 [..............................] - ETA: 17s - loss: 0.0037 - mean_absolute_percentage_error: 685285.1250WARNING:tensorflow:Callback method `on_train_batch_end` is slow compared to the batch time (batch time: 0.0211s vs `on_train_batch_end` time: 0.0255s). Check your callbacks.\n",
      "537/537 [==============================] - 16s 27ms/step - loss: 0.0030 - mean_absolute_percentage_error: 247770.0156 - val_loss: 0.0031 - val_mean_absolute_percentage_error: 138973.4844\n",
      "Epoch 2/10\n",
      "537/537 [==============================] - 14s 27ms/step - loss: 0.0030 - mean_absolute_percentage_error: 100653.4297 - val_loss: 0.0031 - val_mean_absolute_percentage_error: 170461.0000\n"
     ]
    },
    {
     "name": "stderr",
     "output_type": "stream",
     "text": [
      "\u001B[32m[I 2022-06-07 23:13:41,528]\u001B[0m Trial 77 pruned. Trial was pruned at epoch 1.\u001B[0m\n"
     ]
    },
    {
     "name": "stdout",
     "output_type": "stream",
     "text": [
      "Epoch 1/10\n",
      "3245/3245 [==============================] - 44s 13ms/step - loss: 0.0084 - mean_absolute_percentage_error: 11070188.0000 - val_loss: 0.0032 - val_mean_absolute_percentage_error: 1698055.5000\n",
      "Epoch 2/10\n",
      "3245/3245 [==============================] - 39s 12ms/step - loss: 0.0049 - mean_absolute_percentage_error: 6780293.5000 - val_loss: 0.0031 - val_mean_absolute_percentage_error: 1115719.3750\n"
     ]
    },
    {
     "name": "stderr",
     "output_type": "stream",
     "text": [
      "\u001B[32m[I 2022-06-07 23:20:14,410]\u001B[0m Trial 78 pruned. Trial was pruned at epoch 1.\u001B[0m\n"
     ]
    },
    {
     "name": "stdout",
     "output_type": "stream",
     "text": [
      "Epoch 1/10\n",
      "455/455 [==============================] - 7s 13ms/step - loss: 0.1089 - mean_absolute_percentage_error: 56590132.0000 - val_loss: 0.0029 - val_mean_absolute_percentage_error: 862048.6250\n",
      "Epoch 2/10\n",
      "455/455 [==============================] - 5s 12ms/step - loss: 0.0925 - mean_absolute_percentage_error: 52649560.0000 - val_loss: 0.0029 - val_mean_absolute_percentage_error: 304412.4688\n"
     ]
    },
    {
     "name": "stderr",
     "output_type": "stream",
     "text": [
      "\u001B[32m[I 2022-06-07 23:24:40,458]\u001B[0m Trial 79 pruned. Trial was pruned at epoch 1.\u001B[0m\n"
     ]
    },
    {
     "name": "stdout",
     "output_type": "stream",
     "text": [
      "Epoch 1/10\n",
      "  5/881 [..............................] - ETA: 51s - loss: 9.8747 - mean_absolute_percentage_error: 385907040.0000  WARNING:tensorflow:Callback method `on_train_batch_end` is slow compared to the batch time (batch time: 0.0302s vs `on_train_batch_end` time: 0.0369s). Check your callbacks.\n",
      "881/881 [==============================] - 35s 35ms/step - loss: 0.0591 - mean_absolute_percentage_error: 2545519.7500 - val_loss: 0.0031 - val_mean_absolute_percentage_error: 121273.0938\n",
      "Epoch 2/10\n",
      "881/881 [==============================] - 31s 35ms/step - loss: 0.0030 - mean_absolute_percentage_error: 165768.0625 - val_loss: 0.0031 - val_mean_absolute_percentage_error: 66039.4531\n"
     ]
    },
    {
     "name": "stderr",
     "output_type": "stream",
     "text": [
      "\u001B[32m[I 2022-06-07 23:30:42,426]\u001B[0m Trial 80 pruned. Trial was pruned at epoch 1.\u001B[0m\n"
     ]
    },
    {
     "name": "stdout",
     "output_type": "stream",
     "text": [
      "Epoch 1/10\n",
      "   4/2114 [..............................] - ETA: 2:04 - loss: 0.0024 - mean_absolute_percentage_error: 94838.0469WARNING:tensorflow:Callback method `on_train_batch_end` is slow compared to the batch time (batch time: 0.0225s vs `on_train_batch_end` time: 0.0315s). Check your callbacks.\n",
      "2114/2114 [==============================] - 49s 22ms/step - loss: 0.0030 - mean_absolute_percentage_error: 74236.4766 - val_loss: 0.0028 - val_mean_absolute_percentage_error: 41935.0742\n",
      "Epoch 2/10\n",
      "2114/2114 [==============================] - 47s 22ms/step - loss: 0.0030 - mean_absolute_percentage_error: 79075.7109 - val_loss: 0.0028 - val_mean_absolute_percentage_error: 36716.6836\n",
      "Epoch 3/10\n",
      "2114/2114 [==============================] - 47s 22ms/step - loss: 0.0030 - mean_absolute_percentage_error: 84687.1875 - val_loss: 0.0028 - val_mean_absolute_percentage_error: 52080.3945\n",
      "Epoch 4/10\n",
      "2114/2114 [==============================] - 47s 22ms/step - loss: 0.0030 - mean_absolute_percentage_error: 93154.4453 - val_loss: 0.0028 - val_mean_absolute_percentage_error: 56044.6172\n",
      "Epoch 5/10\n",
      "2114/2114 [==============================] - 47s 22ms/step - loss: 0.0030 - mean_absolute_percentage_error: 101560.0391 - val_loss: 0.0028 - val_mean_absolute_percentage_error: 65568.1406\n",
      "Epoch 6/10\n",
      "2114/2114 [==============================] - 47s 22ms/step - loss: 0.0030 - mean_absolute_percentage_error: 111437.6953 - val_loss: 0.0028 - val_mean_absolute_percentage_error: 71818.1953\n",
      "Epoch 7/10\n",
      "2114/2114 [==============================] - 47s 22ms/step - loss: 0.0030 - mean_absolute_percentage_error: 120698.9688 - val_loss: 0.0027 - val_mean_absolute_percentage_error: 78594.5234\n",
      "Epoch 8/10\n",
      "2114/2114 [==============================] - 48s 23ms/step - loss: 0.0030 - mean_absolute_percentage_error: 129925.7656 - val_loss: 0.0027 - val_mean_absolute_percentage_error: 86723.6641\n",
      "Epoch 9/10\n",
      "2114/2114 [==============================] - 48s 23ms/step - loss: 0.0030 - mean_absolute_percentage_error: 136002.7031 - val_loss: 0.0027 - val_mean_absolute_percentage_error: 88754.0938\n",
      "Epoch 10/10\n",
      "2114/2114 [==============================] - 48s 23ms/step - loss: 0.0030 - mean_absolute_percentage_error: 143223.7656 - val_loss: 0.0027 - val_mean_absolute_percentage_error: 131384.7812\n",
      "528/528 [==============================] - 5s 9ms/step - loss: 0.0030 - mean_absolute_percentage_error: 136176.7812\n"
     ]
    },
    {
     "name": "stderr",
     "output_type": "stream",
     "text": [
      "\u001B[32m[I 2022-06-07 23:42:54,042]\u001B[0m Trial 81 finished with value: 0.0029638863634318113 and parameters: {'sequence_length': 6, 'hidden_neurons': 838, 'hidden_layers': 20, 'dropout_rate': 0.492425244121771, 'activation': 'relu', 'optimizer': 'adagrad', 'batch_size': 154}. Best is trial 9 with value: 0.0028108484111726284.\u001B[0m\n"
     ]
    },
    {
     "name": "stdout",
     "output_type": "stream",
     "text": [
      "Epoch 1/10\n",
      "1430/1430 [==============================] - 34s 21ms/step - loss: 0.0029 - mean_absolute_percentage_error: 74432.1641 - val_loss: 0.0028 - val_mean_absolute_percentage_error: 33887.0938\n",
      "Epoch 2/10\n",
      "1430/1430 [==============================] - 29s 21ms/step - loss: 0.0029 - mean_absolute_percentage_error: 69900.9375 - val_loss: 0.0028 - val_mean_absolute_percentage_error: 38809.9023\n",
      "Epoch 3/10\n",
      "1430/1430 [==============================] - 30s 21ms/step - loss: 0.0029 - mean_absolute_percentage_error: 68490.5312 - val_loss: 0.0028 - val_mean_absolute_percentage_error: 62053.5859\n",
      "Epoch 4/10\n",
      "1430/1430 [==============================] - 29s 21ms/step - loss: 0.0029 - mean_absolute_percentage_error: 70604.1641 - val_loss: 0.0028 - val_mean_absolute_percentage_error: 43562.7656\n",
      "Epoch 5/10\n",
      "1430/1430 [==============================] - 30s 21ms/step - loss: 0.0029 - mean_absolute_percentage_error: 75505.5391 - val_loss: 0.0028 - val_mean_absolute_percentage_error: 44890.7773\n"
     ]
    },
    {
     "name": "stderr",
     "output_type": "stream",
     "text": [
      "\u001B[32m[I 2022-06-07 23:49:31,502]\u001B[0m Trial 82 pruned. Trial was pruned at epoch 4.\u001B[0m\n"
     ]
    },
    {
     "name": "stdout",
     "output_type": "stream",
     "text": [
      "Epoch 1/10\n",
      "1288/1288 [==============================] - 31s 23ms/step - loss: 0.0029 - mean_absolute_percentage_error: 149547.5156 - val_loss: 0.0029 - val_mean_absolute_percentage_error: 38853.2695\n",
      "Epoch 2/10\n",
      "1288/1288 [==============================] - 29s 23ms/step - loss: 0.0029 - mean_absolute_percentage_error: 141965.8281 - val_loss: 0.0029 - val_mean_absolute_percentage_error: 44871.9766\n"
     ]
    },
    {
     "name": "stderr",
     "output_type": "stream",
     "text": [
      "\u001B[32m[I 2022-06-07 23:54:49,500]\u001B[0m Trial 83 pruned. Trial was pruned at epoch 1.\u001B[0m\n"
     ]
    },
    {
     "name": "stdout",
     "output_type": "stream",
     "text": [
      "Epoch 1/10\n",
      "   6/4786 [..............................] - ETA: 1:51 - loss: 0.0053 - mean_absolute_percentage_error: 5132509.0000WARNING:tensorflow:Callback method `on_train_batch_end` is slow compared to the batch time (batch time: 0.0134s vs `on_train_batch_end` time: 0.0141s). Check your callbacks.\n",
      "4786/4786 [==============================] - 61s 13ms/step - loss: 0.0031 - mean_absolute_percentage_error: 1958514.5000 - val_loss: 0.0028 - val_mean_absolute_percentage_error: 599938.6875\n",
      "Epoch 2/10\n",
      "4786/4786 [==============================] - 60s 13ms/step - loss: 0.0030 - mean_absolute_percentage_error: 1429606.2500 - val_loss: 0.0027 - val_mean_absolute_percentage_error: 466342.4688\n",
      "Epoch 3/10\n",
      "4786/4786 [==============================] - 60s 13ms/step - loss: 0.0030 - mean_absolute_percentage_error: 1182453.6250 - val_loss: 0.0027 - val_mean_absolute_percentage_error: 435046.1875\n",
      "Epoch 4/10\n",
      "4786/4786 [==============================] - 61s 13ms/step - loss: 0.0030 - mean_absolute_percentage_error: 1032727.7500 - val_loss: 0.0027 - val_mean_absolute_percentage_error: 405286.0312\n",
      "Epoch 5/10\n",
      "4786/4786 [==============================] - 62s 13ms/step - loss: 0.0030 - mean_absolute_percentage_error: 926560.6875 - val_loss: 0.0027 - val_mean_absolute_percentage_error: 391008.9688\n",
      "Epoch 6/10\n",
      "4786/4786 [==============================] - 62s 13ms/step - loss: 0.0030 - mean_absolute_percentage_error: 850328.8125 - val_loss: 0.0027 - val_mean_absolute_percentage_error: 379239.6250\n",
      "Epoch 7/10\n",
      "4786/4786 [==============================] - 63s 13ms/step - loss: 0.0030 - mean_absolute_percentage_error: 792295.0000 - val_loss: 0.0027 - val_mean_absolute_percentage_error: 362470.3750\n",
      "Epoch 8/10\n",
      "4786/4786 [==============================] - 63s 13ms/step - loss: 0.0029 - mean_absolute_percentage_error: 734360.6250 - val_loss: 0.0027 - val_mean_absolute_percentage_error: 351861.8125\n",
      "Epoch 9/10\n",
      "4786/4786 [==============================] - 64s 13ms/step - loss: 0.0029 - mean_absolute_percentage_error: 695006.0000 - val_loss: 0.0027 - val_mean_absolute_percentage_error: 344885.9375\n",
      "Epoch 10/10\n",
      "4786/4786 [==============================] - 64s 13ms/step - loss: 0.0029 - mean_absolute_percentage_error: 664367.7500 - val_loss: 0.0027 - val_mean_absolute_percentage_error: 339444.0000\n",
      "1194/1194 [==============================] - 8s 6ms/step - loss: 0.0029 - mean_absolute_percentage_error: 354678.7188\n"
     ]
    },
    {
     "name": "stderr",
     "output_type": "stream",
     "text": [
      "\u001B[32m[I 2022-06-08 00:09:28,084]\u001B[0m Trial 84 finished with value: 0.00294690509326756 and parameters: {'sequence_length': 6, 'hidden_neurons': 921, 'hidden_layers': 10, 'dropout_rate': 0.43984414113567194, 'activation': 'relu', 'optimizer': 'adagrad', 'batch_size': 68}. Best is trial 9 with value: 0.0028108484111726284.\u001B[0m\n"
     ]
    },
    {
     "name": "stdout",
     "output_type": "stream",
     "text": [
      "Epoch 1/10\n",
      "    5/13781 [..............................] - ETA: 7:32 - loss: 0.0100 - mean_absolute_percentage_error: 7088621.0000WARNING:tensorflow:Callback method `on_train_batch_end` is slow compared to the batch time (batch time: 0.0112s vs `on_train_batch_end` time: 0.0204s). Check your callbacks.\n",
      "13781/13781 [==============================] - 125s 9ms/step - loss: 0.0035 - mean_absolute_percentage_error: 3774661.7500 - val_loss: 0.0031 - val_mean_absolute_percentage_error: 965997.6875\n",
      "Epoch 2/10\n",
      "13781/13781 [==============================] - 123s 9ms/step - loss: 0.0031 - mean_absolute_percentage_error: 2208152.5000 - val_loss: 0.0031 - val_mean_absolute_percentage_error: 744968.1250\n"
     ]
    },
    {
     "name": "stderr",
     "output_type": "stream",
     "text": [
      "\u001B[32m[I 2022-06-08 00:17:51,260]\u001B[0m Trial 85 pruned. Trial was pruned at epoch 1.\u001B[0m\n"
     ]
    },
    {
     "name": "stdout",
     "output_type": "stream",
     "text": [
      "Epoch 1/10\n",
      "   6/4858 [..............................] - ETA: 2:00 - loss: 0.0106 - mean_absolute_percentage_error: 15356867.0000WARNING:tensorflow:Callback method `on_train_batch_end` is slow compared to the batch time (batch time: 0.0123s vs `on_train_batch_end` time: 0.0138s). Check your callbacks.\n",
      "4858/4858 [==============================] - 46s 9ms/step - loss: 0.0044 - mean_absolute_percentage_error: 5995760.0000 - val_loss: 0.0028 - val_mean_absolute_percentage_error: 1294863.0000\n",
      "Epoch 2/10\n",
      "4858/4858 [==============================] - 45s 9ms/step - loss: 0.0036 - mean_absolute_percentage_error: 3975358.5000 - val_loss: 0.0028 - val_mean_absolute_percentage_error: 1081740.1250\n",
      "Epoch 3/10\n",
      "4858/4858 [==============================] - 45s 9ms/step - loss: 0.0033 - mean_absolute_percentage_error: 3188216.5000 - val_loss: 0.0028 - val_mean_absolute_percentage_error: 964475.2500\n",
      "Epoch 4/10\n",
      "4858/4858 [==============================] - 45s 9ms/step - loss: 0.0032 - mean_absolute_percentage_error: 2723876.0000 - val_loss: 0.0028 - val_mean_absolute_percentage_error: 854168.1250\n",
      "Epoch 5/10\n",
      "4858/4858 [==============================] - 45s 9ms/step - loss: 0.0032 - mean_absolute_percentage_error: 2427235.2500 - val_loss: 0.0028 - val_mean_absolute_percentage_error: 792057.0625\n"
     ]
    },
    {
     "name": "stderr",
     "output_type": "stream",
     "text": [
      "\u001B[32m[I 2022-06-08 00:25:45,369]\u001B[0m Trial 86 pruned. Trial was pruned at epoch 4.\u001B[0m\n"
     ]
    },
    {
     "name": "stdout",
     "output_type": "stream",
     "text": [
      "Epoch 1/10\n",
      "429/429 [==============================] - 6s 10ms/step - loss: 0.0079 - mean_absolute_percentage_error: 7413828.0000 - val_loss: 0.0029 - val_mean_absolute_percentage_error: 1498254.0000\n",
      "Epoch 2/10\n",
      "429/429 [==============================] - 4s 10ms/step - loss: 0.0033 - mean_absolute_percentage_error: 3002415.2500 - val_loss: 0.0028 - val_mean_absolute_percentage_error: 800058.7500\n"
     ]
    },
    {
     "name": "stderr",
     "output_type": "stream",
     "text": [
      "\u001B[32m[I 2022-06-08 00:30:09,797]\u001B[0m Trial 87 pruned. Trial was pruned at epoch 1.\u001B[0m\n"
     ]
    },
    {
     "name": "stdout",
     "output_type": "stream",
     "text": [
      "Epoch 1/10\n",
      "  4/471 [..............................] - ETA: 10s - loss: 0.0030 - mean_absolute_percentage_error: 2441445.2500 WARNING:tensorflow:Callback method `on_train_batch_end` is slow compared to the batch time (batch time: 0.0134s vs `on_train_batch_end` time: 0.0193s). Check your callbacks.\n",
      "471/471 [==============================] - 10s 19ms/step - loss: 0.0032 - mean_absolute_percentage_error: 2267051.2500 - val_loss: 0.0028 - val_mean_absolute_percentage_error: 693968.9375\n",
      "Epoch 2/10\n",
      "471/471 [==============================] - 9s 18ms/step - loss: 0.0031 - mean_absolute_percentage_error: 2028679.7500 - val_loss: 0.0028 - val_mean_absolute_percentage_error: 626570.2500\n",
      "Epoch 3/10\n",
      "471/471 [==============================] - 9s 18ms/step - loss: 0.0031 - mean_absolute_percentage_error: 1853942.1250 - val_loss: 0.0028 - val_mean_absolute_percentage_error: 586374.5000\n",
      "Epoch 4/10\n",
      "471/471 [==============================] - 9s 19ms/step - loss: 0.0030 - mean_absolute_percentage_error: 1719930.0000 - val_loss: 0.0028 - val_mean_absolute_percentage_error: 563782.3750\n",
      "Epoch 5/10\n",
      "471/471 [==============================] - 9s 19ms/step - loss: 0.0030 - mean_absolute_percentage_error: 1609761.0000 - val_loss: 0.0028 - val_mean_absolute_percentage_error: 547757.1250\n"
     ]
    },
    {
     "name": "stderr",
     "output_type": "stream",
     "text": [
      "\u001B[32m[I 2022-06-08 00:34:58,956]\u001B[0m Trial 88 pruned. Trial was pruned at epoch 4.\u001B[0m\n"
     ]
    },
    {
     "name": "stdout",
     "output_type": "stream",
     "text": [
      "Epoch 1/10\n",
      "  6/779 [..............................] - ETA: 32s - loss: 0.4848 - mean_absolute_percentage_error: 118072488.0000WARNING:tensorflow:Callback method `on_train_batch_end` is slow compared to the batch time (batch time: 0.0203s vs `on_train_batch_end` time: 0.0215s). Check your callbacks.\n",
      "779/779 [==============================] - 13s 15ms/step - loss: 0.3031 - mean_absolute_percentage_error: 93913344.0000 - val_loss: 0.0030 - val_mean_absolute_percentage_error: 847951.2500\n",
      "Epoch 2/10\n",
      "779/779 [==============================] - 11s 14ms/step - loss: 0.1639 - mean_absolute_percentage_error: 68532456.0000 - val_loss: 0.0030 - val_mean_absolute_percentage_error: 553294.1875\n"
     ]
    },
    {
     "name": "stderr",
     "output_type": "stream",
     "text": [
      "\u001B[32m[I 2022-06-08 00:39:43,022]\u001B[0m Trial 89 pruned. Trial was pruned at epoch 1.\u001B[0m\n"
     ]
    },
    {
     "name": "stdout",
     "output_type": "stream",
     "text": [
      "Epoch 1/10\n",
      "  5/690 [..............................] - ETA: 18s - loss: 0.0030 - mean_absolute_percentage_error: 3848263.5000WARNING:tensorflow:Callback method `on_train_batch_end` is slow compared to the batch time (batch time: 0.0166s vs `on_train_batch_end` time: 0.0228s). Check your callbacks.\n",
      "690/690 [==============================] - 16s 20ms/step - loss: 0.0031 - mean_absolute_percentage_error: 2141697.7500 - val_loss: 0.0029 - val_mean_absolute_percentage_error: 1030261.5625\n",
      "Epoch 2/10\n",
      "690/690 [==============================] - 14s 20ms/step - loss: 0.0030 - mean_absolute_percentage_error: 1914720.6250 - val_loss: 0.0029 - val_mean_absolute_percentage_error: 856641.3750\n"
     ]
    },
    {
     "name": "stderr",
     "output_type": "stream",
     "text": [
      "\u001B[32m[I 2022-06-08 00:44:23,671]\u001B[0m Trial 90 pruned. Trial was pruned at epoch 1.\u001B[0m\n"
     ]
    },
    {
     "name": "stdout",
     "output_type": "stream",
     "text": [
      "Epoch 1/10\n",
      "   6/2170 [..............................] - ETA: 1:20 - loss: 0.0042 - mean_absolute_percentage_error: 37221.8633WARNING:tensorflow:Callback method `on_train_batch_end` is slow compared to the batch time (batch time: 0.0238s vs `on_train_batch_end` time: 0.0252s). Check your callbacks.\n",
      "2170/2170 [==============================] - 51s 23ms/step - loss: 0.0030 - mean_absolute_percentage_error: 47210.1211 - val_loss: 0.0028 - val_mean_absolute_percentage_error: 61274.9102\n",
      "Epoch 2/10\n",
      "2170/2170 [==============================] - 49s 23ms/step - loss: 0.0030 - mean_absolute_percentage_error: 54927.8828 - val_loss: 0.0028 - val_mean_absolute_percentage_error: 38574.3438\n",
      "Epoch 3/10\n",
      "2170/2170 [==============================] - 50s 23ms/step - loss: 0.0030 - mean_absolute_percentage_error: 60506.1094 - val_loss: 0.0028 - val_mean_absolute_percentage_error: 43231.8242\n",
      "Epoch 4/10\n",
      "2170/2170 [==============================] - 50s 23ms/step - loss: 0.0030 - mean_absolute_percentage_error: 66391.6797 - val_loss: 0.0028 - val_mean_absolute_percentage_error: 51374.7617\n",
      "Epoch 5/10\n",
      "2170/2170 [==============================] - 50s 23ms/step - loss: 0.0030 - mean_absolute_percentage_error: 74252.7266 - val_loss: 0.0028 - val_mean_absolute_percentage_error: 57667.9648\n"
     ]
    },
    {
     "name": "stderr",
     "output_type": "stream",
     "text": [
      "\u001B[32m[I 2022-06-08 00:52:41,893]\u001B[0m Trial 91 pruned. Trial was pruned at epoch 4.\u001B[0m\n"
     ]
    },
    {
     "name": "stdout",
     "output_type": "stream",
     "text": [
      "Epoch 1/10\n",
      "   4/4073 [..............................] - ETA: 1:40 - loss: 0.0241 - mean_absolute_percentage_error: 35136996.0000 WARNING:tensorflow:Callback method `on_train_batch_end` is slow compared to the batch time (batch time: 0.0106s vs `on_train_batch_end` time: 0.0121s). Check your callbacks.\n",
      "4073/4073 [==============================] - 34s 8ms/step - loss: 0.0051 - mean_absolute_percentage_error: 7240689.0000 - val_loss: 0.0030 - val_mean_absolute_percentage_error: 2036257.5000\n",
      "Epoch 2/10\n",
      "4073/4073 [==============================] - 33s 8ms/step - loss: 0.0042 - mean_absolute_percentage_error: 5578938.0000 - val_loss: 0.0029 - val_mean_absolute_percentage_error: 1701935.3750\n"
     ]
    },
    {
     "name": "stderr",
     "output_type": "stream",
     "text": [
      "\u001B[32m[I 2022-06-08 00:57:55,860]\u001B[0m Trial 92 pruned. Trial was pruned at epoch 1.\u001B[0m\n"
     ]
    },
    {
     "name": "stdout",
     "output_type": "stream",
     "text": [
      "Epoch 1/10\n",
      "2450/2450 [==============================] - 36s 14ms/step - loss: 0.0030 - mean_absolute_percentage_error: 995604.1875 - val_loss: 0.0031 - val_mean_absolute_percentage_error: 523066.9375\n",
      "Epoch 2/10\n",
      "2450/2450 [==============================] - 35s 14ms/step - loss: 0.0029 - mean_absolute_percentage_error: 933153.4375 - val_loss: 0.0031 - val_mean_absolute_percentage_error: 500378.8125\n"
     ]
    },
    {
     "name": "stderr",
     "output_type": "stream",
     "text": [
      "\u001B[32m[I 2022-06-08 01:03:20,064]\u001B[0m Trial 93 pruned. Trial was pruned at epoch 1.\u001B[0m\n"
     ]
    },
    {
     "name": "stdout",
     "output_type": "stream",
     "text": [
      "Epoch 1/10\n",
      "   5/3014 [..............................] - ETA: 2:18 - loss: 0.0035 - mean_absolute_percentage_error: 269841.8750WARNING:tensorflow:Callback method `on_train_batch_end` is slow compared to the batch time (batch time: 0.0194s vs `on_train_batch_end` time: 0.0290s). Check your callbacks.\n",
      "3014/3014 [==============================] - 58s 19ms/step - loss: 0.0030 - mean_absolute_percentage_error: 171308.6250 - val_loss: 0.0028 - val_mean_absolute_percentage_error: 65892.5469\n",
      "Epoch 2/10\n",
      "3014/3014 [==============================] - 56s 19ms/step - loss: 0.0030 - mean_absolute_percentage_error: 161568.9531 - val_loss: 0.0028 - val_mean_absolute_percentage_error: 77514.3125\n",
      "Epoch 3/10\n",
      "3014/3014 [==============================] - 56s 19ms/step - loss: 0.0030 - mean_absolute_percentage_error: 159073.6250 - val_loss: 0.0028 - val_mean_absolute_percentage_error: 85092.5703\n",
      "Epoch 4/10\n",
      "3014/3014 [==============================] - 57s 19ms/step - loss: 0.0030 - mean_absolute_percentage_error: 161904.2188 - val_loss: 0.0028 - val_mean_absolute_percentage_error: 103060.4141\n",
      "Epoch 5/10\n",
      "3014/3014 [==============================] - 57s 19ms/step - loss: 0.0030 - mean_absolute_percentage_error: 162975.3438 - val_loss: 0.0028 - val_mean_absolute_percentage_error: 93815.7422\n",
      "Epoch 6/10\n",
      "3014/3014 [==============================] - 57s 19ms/step - loss: 0.0030 - mean_absolute_percentage_error: 164292.0469 - val_loss: 0.0027 - val_mean_absolute_percentage_error: 100573.6875\n",
      "Epoch 7/10\n",
      "3014/3014 [==============================] - 57s 19ms/step - loss: 0.0029 - mean_absolute_percentage_error: 170714.8281 - val_loss: 0.0028 - val_mean_absolute_percentage_error: 114733.9609\n",
      "Epoch 8/10\n",
      "3014/3014 [==============================] - 58s 19ms/step - loss: 0.0029 - mean_absolute_percentage_error: 176474.0469 - val_loss: 0.0027 - val_mean_absolute_percentage_error: 140255.1250\n",
      "Epoch 9/10\n",
      "3014/3014 [==============================] - 58s 19ms/step - loss: 0.0029 - mean_absolute_percentage_error: 182977.2656 - val_loss: 0.0027 - val_mean_absolute_percentage_error: 137940.2031\n",
      "Epoch 10/10\n",
      "3014/3014 [==============================] - 58s 19ms/step - loss: 0.0029 - mean_absolute_percentage_error: 187523.5469 - val_loss: 0.0027 - val_mean_absolute_percentage_error: 122686.3984\n",
      "752/752 [==============================] - 6s 8ms/step - loss: 0.0030 - mean_absolute_percentage_error: 119790.8281\n"
     ]
    },
    {
     "name": "stderr",
     "output_type": "stream",
     "text": [
      "\u001B[32m[I 2022-06-08 01:17:06,898]\u001B[0m Trial 94 finished with value: 0.0029619780834764242 and parameters: {'sequence_length': 6, 'hidden_neurons': 974, 'hidden_layers': 17, 'dropout_rate': 0.420273441396165, 'activation': 'relu', 'optimizer': 'adagrad', 'batch_size': 108}. Best is trial 9 with value: 0.0028108484111726284.\u001B[0m\n"
     ]
    },
    {
     "name": "stdout",
     "output_type": "stream",
     "text": [
      "Epoch 1/10\n",
      "5918/5918 [==============================] - 177s 30ms/step - loss: 0.4421 - mean_absolute_percentage_error: 105932192.0000 - val_loss: 0.1261 - val_mean_absolute_percentage_error: 64993800.0000\n",
      "Epoch 2/10\n",
      "5918/5918 [==============================] - 177s 30ms/step - loss: 0.1597 - mean_absolute_percentage_error: 71257296.0000 - val_loss: 0.2163 - val_mean_absolute_percentage_error: 76953832.0000\n"
     ]
    },
    {
     "name": "stderr",
     "output_type": "stream",
     "text": [
      "\u001B[32m[I 2022-06-08 01:27:11,264]\u001B[0m Trial 95 pruned. Trial was pruned at epoch 1.\u001B[0m\n"
     ]
    },
    {
     "name": "stdout",
     "output_type": "stream",
     "text": [
      "Epoch 1/10\n",
      "   6/1792 [..............................] - ETA: 1:38 - loss: 0.0040 - mean_absolute_percentage_error: 868946.8125WARNING:tensorflow:Callback method `on_train_batch_end` is slow compared to the batch time (batch time: 0.0249s vs `on_train_batch_end` time: 0.0309s). Check your callbacks.\n",
      "1792/1792 [==============================] - 38s 20ms/step - loss: 0.0030 - mean_absolute_percentage_error: 793401.6250 - val_loss: 0.0030 - val_mean_absolute_percentage_error: 242426.2656\n",
      "Epoch 2/10\n",
      "1792/1792 [==============================] - 34s 19ms/step - loss: 0.0030 - mean_absolute_percentage_error: 725828.6875 - val_loss: 0.0030 - val_mean_absolute_percentage_error: 246098.5156\n"
     ]
    },
    {
     "name": "stderr",
     "output_type": "stream",
     "text": [
      "\u001B[32m[I 2022-06-08 01:33:19,407]\u001B[0m Trial 96 pruned. Trial was pruned at epoch 1.\u001B[0m\n"
     ]
    },
    {
     "name": "stdout",
     "output_type": "stream",
     "text": [
      "Epoch 1/10\n",
      "13987/13987 [==============================] - 203s 14ms/step - loss: 0.0029 - mean_absolute_percentage_error: 270220.6875 - val_loss: 0.0028 - val_mean_absolute_percentage_error: 956235.7500\n",
      "Epoch 2/10\n",
      "13987/13987 [==============================] - 198s 14ms/step - loss: 0.0029 - mean_absolute_percentage_error: 265911.3125 - val_loss: 0.0028 - val_mean_absolute_percentage_error: 532847.8750\n",
      "Epoch 3/10\n",
      "13987/13987 [==============================] - 199s 14ms/step - loss: 0.0029 - mean_absolute_percentage_error: 258868.1719 - val_loss: 0.0028 - val_mean_absolute_percentage_error: 520788.0000\n",
      "Epoch 4/10\n",
      "13987/13987 [==============================] - 199s 14ms/step - loss: 0.0029 - mean_absolute_percentage_error: 261801.8438 - val_loss: 0.0028 - val_mean_absolute_percentage_error: 231361.0000\n",
      "Epoch 5/10\n",
      "13987/13987 [==============================] - 200s 14ms/step - loss: 0.0029 - mean_absolute_percentage_error: 256067.1406 - val_loss: 0.0028 - val_mean_absolute_percentage_error: 757525.5625\n"
     ]
    },
    {
     "name": "stderr",
     "output_type": "stream",
     "text": [
      "\u001B[32m[I 2022-06-08 01:54:07,524]\u001B[0m Trial 97 pruned. Trial was pruned at epoch 4.\u001B[0m\n"
     ]
    },
    {
     "name": "stdout",
     "output_type": "stream",
     "text": [
      "Epoch 1/10\n",
      "   4/3063 [..............................] - ETA: 3:21 - loss: 1.9300 - mean_absolute_percentage_error: 285956032.0000WARNING:tensorflow:Callback method `on_train_batch_end` is slow compared to the batch time (batch time: 0.0203s vs `on_train_batch_end` time: 0.0273s). Check your callbacks.\n",
      "3063/3063 [==============================] - 47s 15ms/step - loss: 0.1465 - mean_absolute_percentage_error: 25896352.0000 - val_loss: 0.0031 - val_mean_absolute_percentage_error: 1227445.2500\n",
      "Epoch 2/10\n",
      "3063/3063 [==============================] - 45s 15ms/step - loss: 0.0048 - mean_absolute_percentage_error: 7751281.0000 - val_loss: 0.0032 - val_mean_absolute_percentage_error: 100418.6172\n"
     ]
    },
    {
     "name": "stderr",
     "output_type": "stream",
     "text": [
      "\u001B[32m[I 2022-06-08 01:59:58,803]\u001B[0m Trial 98 pruned. Trial was pruned at epoch 1.\u001B[0m\n"
     ]
    },
    {
     "name": "stdout",
     "output_type": "stream",
     "text": [
      "Epoch 1/10\n",
      "  6/369 [..............................] - ETA: 21s - loss: 0.0030 - mean_absolute_percentage_error: 266693.4062WARNING:tensorflow:Callback method `on_train_batch_end` is slow compared to the batch time (batch time: 0.0262s vs `on_train_batch_end` time: 0.0330s). Check your callbacks.\n",
      "369/369 [==============================] - 19s 49ms/step - loss: 0.0029 - mean_absolute_percentage_error: 158947.7344 - val_loss: 0.0029 - val_mean_absolute_percentage_error: 74549.0938\n",
      "Epoch 2/10\n",
      "369/369 [==============================] - 18s 49ms/step - loss: 0.0029 - mean_absolute_percentage_error: 138243.4844 - val_loss: 0.0029 - val_mean_absolute_percentage_error: 80891.3438\n"
     ]
    },
    {
     "name": "stderr",
     "output_type": "stream",
     "text": [
      "\u001B[32m[I 2022-06-08 02:04:45,122]\u001B[0m Trial 99 pruned. Trial was pruned at epoch 1.\u001B[0m\n"
     ]
    },
    {
     "name": "stdout",
     "output_type": "stream",
     "text": [
      "Epoch 1/10\n",
      "  6/965 [..............................] - ETA: 51s - loss: 0.0790 - mean_absolute_percentage_error: 46813748.0000 WARNING:tensorflow:Callback method `on_train_batch_end` is slow compared to the batch time (batch time: 0.0251s vs `on_train_batch_end` time: 0.0379s). Check your callbacks.\n",
      "965/965 [==============================] - 29s 25ms/step - loss: 0.0188 - mean_absolute_percentage_error: 20302514.0000 - val_loss: 0.0036 - val_mean_absolute_percentage_error: 3060629.7500\n",
      "Epoch 2/10\n",
      "965/965 [==============================] - 24s 25ms/step - loss: 0.0108 - mean_absolute_percentage_error: 13957844.0000 - val_loss: 0.0035 - val_mean_absolute_percentage_error: 2312040.7500\n"
     ]
    },
    {
     "name": "stderr",
     "output_type": "stream",
     "text": [
      "\u001B[32m[I 2022-06-08 02:11:20,079]\u001B[0m Trial 100 pruned. Trial was pruned at epoch 1.\u001B[0m\n"
     ]
    },
    {
     "name": "stdout",
     "output_type": "stream",
     "text": [
      "Study statistics:\n",
      "   Number of finished Trials:  100\n",
      "   Number of pruned Trials:  60\n",
      "   Number of complete Trials:  40\n",
      "Best Trial: \n",
      "  MSE:  0.0028108484111726284\n",
      "   Params: \n",
      "   sequence_length: 5\n",
      "   hidden_neurons: 154\n",
      "   hidden_layers: 17\n",
      "   dropout_rate: 0.2295818303474188\n",
      "   activation: tanh\n",
      "   optimizer: adam\n",
      "   batch_size: 382\n"
     ]
    }
   ],
   "source": [
    "make_study()"
   ],
   "metadata": {
    "pycharm": {
     "name": "#%%\n"
    },
    "colab": {
     "base_uri": "https://localhost:8080/"
    },
    "id": "fLoRrElwRa03",
    "outputId": "b88f4c41-2f18-46a8-ac43-00b6c9fb6a15"
   }
  },
  {
   "cell_type": "markdown",
   "source": [
    "## RNN"
   ],
   "metadata": {
    "collapsed": false,
    "pycharm": {
     "name": "#%% md\n"
    },
    "id": "y5IP9lR8Ra05"
   }
  },
  {
   "cell_type": "code",
   "execution_count": 31,
   "outputs": [],
   "source": [
    "def create_rnn_dataset(trial):\n",
    "    N = trial.suggest_int('sequence_length', 5, 30)\n",
    "\n",
    "    train_samples, train_labels, test_samples, test_labels = get_preprocessed_data(N)\n",
    "\n",
    "    highest_index_train = int(train_samples.shape[0] * OPTIMIZATION_SPLIT)\n",
    "    highest_index_test = int(test_samples.shape[0] * OPTIMIZATION_SPLIT)\n",
    "\n",
    "    return train_samples[:highest_index_train], train_labels[:highest_index_train], test_samples[:highest_index_test], test_labels[:highest_index_test]"
   ],
   "metadata": {
    "pycharm": {
     "name": "#%%\n"
    },
    "id": "7FrTQ1WoRa06"
   }
  },
  {
   "cell_type": "code",
   "execution_count": 36,
   "outputs": [],
   "source": [
    "def create_rnn_model(trial, train_X):\n",
    "    number_of_inputs = train_X.shape[1]\n",
    "\n",
    "    number_of_hidden_neurons = trial.suggest_int('hidden_neurons', 5, 300)\n",
    "    number_of_hidden_layers = trial.suggest_int('hidden_layers', 1, 5)\n",
    "    dropout_rate = trial.suggest_float('dropout_rate', 0., 0.5)\n",
    "    activation_function = trial.suggest_categorical('activation', ['relu', 'tanh', 'sigmoid'])\n",
    "    normalize = trial.suggest_categorical('normalize', [True, False])\n",
    "\n",
    "    model = keras.Sequential()\n",
    "    if number_of_hidden_layers > 1:\n",
    "        model.add(layers.SimpleRNN(number_of_hidden_neurons, activation=activation_function, input_shape=(number_of_inputs, 9), return_sequences=True))\n",
    "    else:\n",
    "        model.add(layers.SimpleRNN(number_of_hidden_neurons, activation=activation_function, input_shape=(number_of_inputs, 9), return_sequences=False))\n",
    "        if normalize:\n",
    "            model.add(layers.BatchNormalization())\n",
    "        model.add(layers.Dropout(dropout_rate))\n",
    "        model.add(layers.Dense(2, activation='linear'))\n",
    "        return model\n",
    "\n",
    "\n",
    "    if normalize:\n",
    "        model.add(layers.BatchNormalization())\n",
    "\n",
    "    for _ in range(number_of_hidden_layers-2):\n",
    "        model.add(layers.SimpleRNN(number_of_hidden_neurons, activation=activation_function, return_sequences=True))\n",
    "        if normalize:\n",
    "            model.add(layers.BatchNormalization())\n",
    "\n",
    "    model.add(layers.SimpleRNN(number_of_hidden_neurons, activation=activation_function, return_sequences=False))\n",
    "    if normalize:\n",
    "        model.add(layers.BatchNormalization())\n",
    "\n",
    "    model.add(layers.Dropout(dropout_rate))\n",
    "\n",
    "    model.add(layers.Dense(2, activation='linear'))\n",
    "\n",
    "    return model"
   ],
   "metadata": {
    "pycharm": {
     "name": "#%%\n"
    },
    "id": "kmXrx97kRa07"
   }
  },
  {
   "cell_type": "code",
   "execution_count": 37,
   "outputs": [],
   "source": [
    "def rnn_objective(trial):\n",
    "    train_X, train_Y, test_X, test_Y = create_rnn_dataset(trial)\n",
    "\n",
    "    model = create_rnn_model(trial, train_X)\n",
    "\n",
    "    monitor = 'val_loss'\n",
    "\n",
    "    callbacks = [\n",
    "        # keras.callbacks.EarlyStopping(patience=10),\n",
    "        optuna.integration.TFKerasPruningCallback(trial, monitor),\n",
    "    ]\n",
    "\n",
    "    # lr = trial.suggest_float('learning_rate', 1e-4, 1e-1, log=True)\n",
    "    optimizer = trial.suggest_categorical('optimizer', ['sgd', 'rmsprop', 'adagrad', 'adam'])\n",
    "    batch_size = trial.suggest_int('batch_size', 32, 200)\n",
    "\n",
    "    model.compile(optimizer=optimizer, loss=keras.losses.MeanSquaredError(), metrics=['mean_absolute_percentage_error'])\n",
    "\n",
    "    history = model.fit(train_X, train_Y, batch_size=batch_size, validation_split=0.1, verbose=1, epochs=EPOCHS, callbacks=callbacks)\n",
    "\n",
    "    eval_results = model.evaluate(test_X, test_Y, batch_size=batch_size)\n",
    "    print(f'Result: {float(eval_results[0])}')\n",
    "\n",
    "    return float(eval_results[0])"
   ],
   "metadata": {
    "pycharm": {
     "name": "#%%\n"
    },
    "id": "yXno3BTQRa07"
   }
  },
  {
   "cell_type": "code",
   "execution_count": 40,
   "outputs": [],
   "source": [
    "def make_rnn_study():\n",
    "    study = optuna.create_study(direction='minimize', pruner=optuna.pruners.SuccessiveHalvingPruner(), sampler=optuna.samplers.TPESampler())\n",
    "\n",
    "    study.optimize(rnn_objective, n_trials=100)\n",
    "\n",
    "    # show results\n",
    "    pruned_trials = study.get_trials(states=[optuna.trial.TrialState.PRUNED])\n",
    "    complete_trials = study.get_trials(states=[optuna.trial.TrialState.COMPLETE])\n",
    "\n",
    "    print('Study statistics:')\n",
    "    print('   Number of finished Trials: ', len(study.trials))\n",
    "    print('   Number of pruned Trials: ', len(pruned_trials))\n",
    "    print('   Number of complete Trials: ', len(complete_trials))\n",
    "\n",
    "    print('Best Trial: ')\n",
    "    trial = study.best_trial\n",
    "\n",
    "    print('  MSE: ', trial.value)\n",
    "\n",
    "    print('   Params: ')\n",
    "    for key, value in trial.params.items():\n",
    "        print('   {}: {}'.format(key, value))"
   ],
   "metadata": {
    "pycharm": {
     "name": "#%%\n"
    },
    "id": "c7Iiqp8rRa08"
   }
  },
  {
   "cell_type": "code",
   "execution_count": null,
   "outputs": [
    {
     "name": "stderr",
     "output_type": "stream",
     "text": [
      "\u001B[32m[I 2022-06-10 11:09:36,915]\u001B[0m A new study created in memory with name: no-name-bdbabcf1-8e2b-483f-8f3c-0e0a052ecda2\u001B[0m\n"
     ]
    },
    {
     "name": "stdout",
     "output_type": "stream",
     "text": [
      "Epoch 1/10\n",
      "4526/4526 [==============================] - 1214s 267ms/step - loss: 0.0482 - mean_absolute_percentage_error: 9380647.0000 - val_loss: 0.0031 - val_mean_absolute_percentage_error: 479944.7500\n",
      "Epoch 2/10\n",
      "4526/4526 [==============================] - 1198s 265ms/step - loss: 0.0029 - mean_absolute_percentage_error: 527095.2500 - val_loss: 0.0031 - val_mean_absolute_percentage_error: 608616.5000\n",
      "Epoch 3/10\n",
      "4526/4526 [==============================] - 1207s 267ms/step - loss: 0.0029 - mean_absolute_percentage_error: 406984.1250 - val_loss: 0.0031 - val_mean_absolute_percentage_error: 194492.4375\n",
      "Epoch 4/10\n",
      "4526/4526 [==============================] - 1209s 267ms/step - loss: 0.0029 - mean_absolute_percentage_error: 430779.2500 - val_loss: 0.0031 - val_mean_absolute_percentage_error: 306917.4375\n",
      "Epoch 5/10\n",
      "4526/4526 [==============================] - 1214s 268ms/step - loss: 0.0029 - mean_absolute_percentage_error: 412074.6250 - val_loss: 0.0031 - val_mean_absolute_percentage_error: 794296.1875\n",
      "Epoch 6/10\n",
      "4526/4526 [==============================] - 1218s 269ms/step - loss: 0.0029 - mean_absolute_percentage_error: 410831.4688 - val_loss: 0.0031 - val_mean_absolute_percentage_error: 299988.7188\n",
      "Epoch 7/10\n",
      "4526/4526 [==============================] - 1224s 270ms/step - loss: 0.0029 - mean_absolute_percentage_error: 437038.3750 - val_loss: 0.0031 - val_mean_absolute_percentage_error: 338532.3438\n",
      "Epoch 8/10\n",
      "4526/4526 [==============================] - 1229s 271ms/step - loss: 0.0029 - mean_absolute_percentage_error: 432141.3438 - val_loss: 0.0031 - val_mean_absolute_percentage_error: 879438.5625\n",
      "Epoch 9/10\n",
      "4526/4526 [==============================] - 1244s 275ms/step - loss: 0.0029 - mean_absolute_percentage_error: 445963.0312 - val_loss: 0.0031 - val_mean_absolute_percentage_error: 230149.4531\n",
      "Epoch 10/10\n",
      "4526/4526 [==============================] - 1244s 275ms/step - loss: 0.0029 - mean_absolute_percentage_error: 448623.0938 - val_loss: 0.0031 - val_mean_absolute_percentage_error: 639487.1875\n",
      "1116/1116 [==============================] - 36s 32ms/step - loss: 0.0028 - mean_absolute_percentage_error: 622813.0000\n",
      "Result: 0.0028397408314049244\n"
     ]
    },
    {
     "name": "stderr",
     "output_type": "stream",
     "text": [
      "\u001B[32m[I 2022-06-10 14:39:29,666]\u001B[0m Trial 0 finished with value: 0.0028397408314049244 and parameters: {'sequence_length': 28, 'hidden_neurons': 58, 'hidden_layers': 3, 'dropout_rate': 0.440584636751394, 'activation': 'tanh', 'normalize': True, 'optimizer': 'rmsprop', 'batch_size': 78}. Best is trial 0 with value: 0.0028397408314049244.\u001B[0m\n"
     ]
    },
    {
     "name": "stdout",
     "output_type": "stream",
     "text": [
      "Epoch 1/10\n",
      "2103/2103 [==============================] - 447s 211ms/step - loss: 0.1280 - mean_absolute_percentage_error: 20405672.0000 - val_loss: 0.3318 - val_mean_absolute_percentage_error: 164742160.0000\n",
      "Epoch 2/10\n",
      "2103/2103 [==============================] - 440s 209ms/step - loss: 0.0030 - mean_absolute_percentage_error: 391534.8125 - val_loss: 0.0110 - val_mean_absolute_percentage_error: 22504752.0000\n",
      "Epoch 3/10\n",
      "2103/2103 [==============================] - 425s 202ms/step - loss: 0.0030 - mean_absolute_percentage_error: 458044.5000 - val_loss: 0.0117 - val_mean_absolute_percentage_error: 28981610.0000\n",
      "Epoch 4/10\n",
      "2103/2103 [==============================] - 416s 198ms/step - loss: 0.0030 - mean_absolute_percentage_error: 465770.3750 - val_loss: 0.0081 - val_mean_absolute_percentage_error: 18184890.0000\n",
      "Epoch 5/10\n",
      "2103/2103 [==============================] - 416s 198ms/step - loss: 0.0030 - mean_absolute_percentage_error: 483925.4062 - val_loss: 0.0051 - val_mean_absolute_percentage_error: 14632878.0000\n",
      "Epoch 6/10\n",
      "2103/2103 [==============================] - 417s 198ms/step - loss: 0.0030 - mean_absolute_percentage_error: 478271.9688 - val_loss: 0.7017 - val_mean_absolute_percentage_error: 227076256.0000\n",
      "Epoch 7/10\n",
      "2103/2103 [==============================] - 418s 199ms/step - loss: 0.0030 - mean_absolute_percentage_error: 499963.1250 - val_loss: 0.1403 - val_mean_absolute_percentage_error: 116727024.0000\n",
      "Epoch 8/10\n",
      "2103/2103 [==============================] - 419s 199ms/step - loss: 0.0030 - mean_absolute_percentage_error: 496312.1250 - val_loss: 0.4754 - val_mean_absolute_percentage_error: 210877168.0000\n",
      "Epoch 9/10\n",
      "2103/2103 [==============================] - 417s 198ms/step - loss: 0.0030 - mean_absolute_percentage_error: 481870.3438 - val_loss: 0.0032 - val_mean_absolute_percentage_error: 4803725.0000\n",
      "Epoch 10/10\n",
      "2103/2103 [==============================] - 417s 198ms/step - loss: 0.0030 - mean_absolute_percentage_error: 501760.3125 - val_loss: 0.0682 - val_mean_absolute_percentage_error: 41511976.0000\n",
      "523/523 [==============================] - 12s 22ms/step - loss: 0.0682 - mean_absolute_percentage_error: 46552636.0000\n",
      "Result: 0.06824205815792084\n"
     ]
    },
    {
     "name": "stderr",
     "output_type": "stream",
     "text": [
      "\u001B[32m[I 2022-06-10 15:54:35,682]\u001B[0m Trial 1 finished with value: 0.06824205815792084 and parameters: {'sequence_length': 14, 'hidden_neurons': 175, 'hidden_layers': 4, 'dropout_rate': 0.46607273679449474, 'activation': 'sigmoid', 'normalize': True, 'optimizer': 'rmsprop', 'batch_size': 162}. Best is trial 0 with value: 0.0028397408314049244.\u001B[0m\n"
     ]
    },
    {
     "name": "stdout",
     "output_type": "stream",
     "text": [
      "Epoch 1/10\n",
      "3373/3373 [==============================] - 315s 91ms/step - loss: 0.0092 - mean_absolute_percentage_error: 3371708.2500 - val_loss: 0.0029 - val_mean_absolute_percentage_error: 253858.4531\n",
      "Epoch 2/10\n",
      "3373/3373 [==============================] - 305s 90ms/step - loss: 0.0030 - mean_absolute_percentage_error: 290449.9688 - val_loss: 0.0029 - val_mean_absolute_percentage_error: 201599.5781\n",
      "Epoch 3/10\n",
      "3373/3373 [==============================] - 305s 91ms/step - loss: 0.0030 - mean_absolute_percentage_error: 287958.4688 - val_loss: 0.0029 - val_mean_absolute_percentage_error: 154591.1250\n",
      "Epoch 4/10\n",
      "3373/3373 [==============================] - 308s 91ms/step - loss: 0.0030 - mean_absolute_percentage_error: 282742.7812 - val_loss: 0.0029 - val_mean_absolute_percentage_error: 172850.0156\n",
      "Epoch 5/10\n",
      "3373/3373 [==============================] - 307s 91ms/step - loss: 0.0030 - mean_absolute_percentage_error: 288327.6875 - val_loss: 0.0029 - val_mean_absolute_percentage_error: 233823.4062\n",
      "Epoch 6/10\n",
      "3373/3373 [==============================] - 308s 91ms/step - loss: 0.0030 - mean_absolute_percentage_error: 303391.1250 - val_loss: 0.0029 - val_mean_absolute_percentage_error: 187945.2188\n",
      "Epoch 7/10\n",
      "3373/3373 [==============================] - 310s 92ms/step - loss: 0.0030 - mean_absolute_percentage_error: 328140.6562 - val_loss: 0.0029 - val_mean_absolute_percentage_error: 806505.5000\n",
      "Epoch 8/10\n",
      "3373/3373 [==============================] - 313s 93ms/step - loss: 0.0030 - mean_absolute_percentage_error: 283682.4375 - val_loss: 0.0029 - val_mean_absolute_percentage_error: 111749.7188\n",
      "Epoch 9/10\n",
      "3373/3373 [==============================] - 316s 94ms/step - loss: 0.0030 - mean_absolute_percentage_error: 270334.9062 - val_loss: 0.0029 - val_mean_absolute_percentage_error: 163503.2031\n",
      "Epoch 10/10\n",
      "3373/3373 [==============================] - 313s 93ms/step - loss: 0.0030 - mean_absolute_percentage_error: 280790.5625 - val_loss: 0.0029 - val_mean_absolute_percentage_error: 580015.0625\n",
      "839/839 [==============================] - 11s 13ms/step - loss: 0.0028 - mean_absolute_percentage_error: 629369.0625\n",
      "Result: 0.0028490223921835423\n"
     ]
    },
    {
     "name": "stderr",
     "output_type": "stream",
     "text": [
      "\u001B[32m[I 2022-06-10 16:50:47,408]\u001B[0m Trial 2 finished with value: 0.0028490223921835423 and parameters: {'sequence_length': 14, 'hidden_neurons': 216, 'hidden_layers': 2, 'dropout_rate': 0.26479057567655245, 'activation': 'sigmoid', 'normalize': False, 'optimizer': 'rmsprop', 'batch_size': 101}. Best is trial 0 with value: 0.0028397408314049244.\u001B[0m\n"
     ]
    },
    {
     "name": "stdout",
     "output_type": "stream",
     "text": [
      "Epoch 1/10\n",
      "4765/4765 [==============================] - 2168s 454ms/step - loss: 0.0230 - mean_absolute_percentage_error: 19826550.0000 - val_loss: 0.0034 - val_mean_absolute_percentage_error: 1977995.5000\n",
      "Epoch 2/10\n",
      "4765/4765 [==============================] - 2148s 451ms/step - loss: 0.0036 - mean_absolute_percentage_error: 3764364.0000 - val_loss: 0.0030 - val_mean_absolute_percentage_error: 2547737.2500\n"
     ]
    },
    {
     "name": "stderr",
     "output_type": "stream",
     "text": [
      "\u001B[32m[I 2022-06-10 18:08:08,706]\u001B[0m Trial 3 pruned. Trial was pruned at epoch 1.\u001B[0m\n"
     ]
    },
    {
     "name": "stdout",
     "output_type": "stream",
     "text": [
      "Epoch 1/10\n",
      "1845/1845 [==============================] - 505s 270ms/step - loss: 0.1361 - mean_absolute_percentage_error: 20391944.0000 - val_loss: 0.0031 - val_mean_absolute_percentage_error: 240641.8594\n",
      "Epoch 2/10\n",
      "1845/1845 [==============================] - 494s 268ms/step - loss: 0.0030 - mean_absolute_percentage_error: 558545.3125 - val_loss: 0.0031 - val_mean_absolute_percentage_error: 813242.2500\n"
     ]
    },
    {
     "name": "stderr",
     "output_type": "stream",
     "text": [
      "\u001B[32m[I 2022-06-10 18:29:52,192]\u001B[0m Trial 4 pruned. Trial was pruned at epoch 1.\u001B[0m\n"
     ]
    },
    {
     "name": "stdout",
     "output_type": "stream",
     "text": [
      "Epoch 1/10\n",
      "2668/2668 [==============================] - 148s 53ms/step - loss: 0.0186 - mean_absolute_percentage_error: 7127262.5000 - val_loss: 0.0033 - val_mean_absolute_percentage_error: 725084.5625\n",
      "Epoch 2/10\n",
      "2668/2668 [==============================] - 136s 51ms/step - loss: 0.0057 - mean_absolute_percentage_error: 2225611.5000 - val_loss: 0.0031 - val_mean_absolute_percentage_error: 499872.9688\n"
     ]
    },
    {
     "name": "stderr",
     "output_type": "stream",
     "text": [
      "\u001B[32m[I 2022-06-10 18:39:35,699]\u001B[0m Trial 5 pruned. Trial was pruned at epoch 1.\u001B[0m\n"
     ]
    },
    {
     "name": "stdout",
     "output_type": "stream",
     "text": [
      "Epoch 1/10\n",
      "9693/9693 [==============================] - 1749s 180ms/step - loss: 0.0049 - mean_absolute_percentage_error: 2754208.7500 - val_loss: 0.0031 - val_mean_absolute_percentage_error: 573817.5625\n",
      "Epoch 2/10\n",
      "9693/9693 [==============================] - 1745s 180ms/step - loss: 0.0030 - mean_absolute_percentage_error: 615158.3125 - val_loss: 0.0031 - val_mean_absolute_percentage_error: 336521.7812\n"
     ]
    },
    {
     "name": "stderr",
     "output_type": "stream",
     "text": [
      "\u001B[32m[I 2022-06-10 19:42:20,315]\u001B[0m Trial 6 pruned. Trial was pruned at epoch 1.\u001B[0m\n"
     ]
    },
    {
     "name": "stdout",
     "output_type": "stream",
     "text": [
      "Epoch 1/10\n",
      "2360/2360 [==============================] - 463s 194ms/step - loss: 0.1093 - mean_absolute_percentage_error: 15499522.0000 - val_loss: 0.0031 - val_mean_absolute_percentage_error: 833488.5000\n",
      "Epoch 2/10\n",
      "2360/2360 [==============================] - 457s 194ms/step - loss: 0.0032 - mean_absolute_percentage_error: 877798.6875 - val_loss: 0.0032 - val_mean_absolute_percentage_error: 1001365.1250\n"
     ]
    },
    {
     "name": "stderr",
     "output_type": "stream",
     "text": [
      "\u001B[32m[I 2022-06-10 20:02:39,027]\u001B[0m Trial 7 pruned. Trial was pruned at epoch 1.\u001B[0m\n"
     ]
    },
    {
     "name": "stdout",
     "output_type": "stream",
     "text": [
      "Epoch 1/10\n",
      "2046/2046 [==============================] - 816s 395ms/step - loss: 0.0084 - mean_absolute_percentage_error: 6627395.0000 - val_loss: 0.0036 - val_mean_absolute_percentage_error: 2671259.5000\n",
      "Epoch 2/10\n",
      "2046/2046 [==============================] - 813s 398ms/step - loss: 0.0040 - mean_absolute_percentage_error: 3221275.2500 - val_loss: 0.0033 - val_mean_absolute_percentage_error: 1821040.2500\n"
     ]
    },
    {
     "name": "stderr",
     "output_type": "stream",
     "text": [
      "\u001B[32m[I 2022-06-10 20:37:17,198]\u001B[0m Trial 8 pruned. Trial was pruned at epoch 1.\u001B[0m\n"
     ]
    },
    {
     "name": "stdout",
     "output_type": "stream",
     "text": [
      "Epoch 1/10\n",
      "4842/4842 [==============================] - 389s 79ms/step - loss: 0.0511 - mean_absolute_percentage_error: 9849126.0000 - val_loss: 0.0029 - val_mean_absolute_percentage_error: 1826738.2500\n",
      "Epoch 2/10\n",
      "4842/4842 [==============================] - 394s 81ms/step - loss: 0.0032 - mean_absolute_percentage_error: 1098749.7500 - val_loss: 0.0029 - val_mean_absolute_percentage_error: 1110467.2500\n",
      "Epoch 3/10\n",
      "4842/4842 [==============================] - 394s 81ms/step - loss: 0.0030 - mean_absolute_percentage_error: 542126.4375 - val_loss: 0.0029 - val_mean_absolute_percentage_error: 834028.6250\n",
      "Epoch 4/10\n",
      "4842/4842 [==============================] - 393s 81ms/step - loss: 0.0030 - mean_absolute_percentage_error: 564983.3750 - val_loss: 1.2517 - val_mean_absolute_percentage_error: 8843804.0000\n",
      "Epoch 5/10\n",
      "4842/4842 [==============================] - 392s 81ms/step - loss: 0.0030 - mean_absolute_percentage_error: 581809.8750 - val_loss: 614758940672.0000 - val_mean_absolute_percentage_error: 78537547776.0000\n"
     ]
    },
    {
     "name": "stderr",
     "output_type": "stream",
     "text": [
      "\u001B[32m[I 2022-06-10 21:15:50,695]\u001B[0m Trial 9 pruned. Trial was pruned at epoch 4.\u001B[0m\n"
     ]
    },
    {
     "name": "stdout",
     "output_type": "stream",
     "text": [
      "Epoch 1/10\n",
      "8639/8639 [==============================] - 462s 53ms/step - loss: 0.9337 - mean_absolute_percentage_error: 205786304.0000 - val_loss: 0.0489 - val_mean_absolute_percentage_error: 37692344.0000\n",
      "Epoch 2/10\n",
      "8639/8639 [==============================] - 465s 54ms/step - loss: 0.5088 - mean_absolute_percentage_error: 156663632.0000 - val_loss: 0.0268 - val_mean_absolute_percentage_error: 27432806.0000\n"
     ]
    },
    {
     "name": "stderr",
     "output_type": "stream",
     "text": [
      "\u001B[32m[I 2022-06-10 21:35:39,178]\u001B[0m Trial 10 pruned. Trial was pruned at epoch 1.\u001B[0m\n"
     ]
    },
    {
     "name": "stdout",
     "output_type": "stream",
     "text": [
      "Epoch 1/10\n",
      "3741/3741 [==============================] - 596s 158ms/step - loss: 0.0084 - mean_absolute_percentage_error: 4340872.5000 - val_loss: 0.0030 - val_mean_absolute_percentage_error: 423081.8438\n",
      "Epoch 2/10\n",
      "3741/3741 [==============================] - 590s 158ms/step - loss: 0.0030 - mean_absolute_percentage_error: 703131.5000 - val_loss: 0.0029 - val_mean_absolute_percentage_error: 388790.5625\n"
     ]
    },
    {
     "name": "stderr",
     "output_type": "stream",
     "text": [
      "\u001B[32m[I 2022-06-10 22:00:55,063]\u001B[0m Trial 11 pruned. Trial was pruned at epoch 1.\u001B[0m\n"
     ]
    },
    {
     "name": "stdout",
     "output_type": "stream",
     "text": [
      "Epoch 1/10\n",
      "3181/3181 [==============================] - 199s 60ms/step - loss: 0.0052 - mean_absolute_percentage_error: 2349741.2500 - val_loss: 0.0031 - val_mean_absolute_percentage_error: 653562.3125\n",
      "Epoch 2/10\n",
      "3181/3181 [==============================] - 189s 60ms/step - loss: 0.0029 - mean_absolute_percentage_error: 270049.7812 - val_loss: 0.0031 - val_mean_absolute_percentage_error: 507479.8750\n"
     ]
    },
    {
     "name": "stderr",
     "output_type": "stream",
     "text": [
      "\u001B[32m[I 2022-06-10 22:11:44,616]\u001B[0m Trial 12 pruned. Trial was pruned at epoch 1.\u001B[0m\n"
     ]
    },
    {
     "name": "stdout",
     "output_type": "stream",
     "text": [
      "Epoch 1/10\n",
      "5006/5006 [==============================] - 1122s 224ms/step - loss: 0.0387 - mean_absolute_percentage_error: 28634276.0000 - val_loss: 0.0063 - val_mean_absolute_percentage_error: 6709675.0000\n",
      "Epoch 2/10\n",
      "5006/5006 [==============================] - 1124s 224ms/step - loss: 0.0133 - mean_absolute_percentage_error: 13939279.0000 - val_loss: 0.0050 - val_mean_absolute_percentage_error: 5979193.5000\n"
     ]
    },
    {
     "name": "stderr",
     "output_type": "stream",
     "text": [
      "\u001B[32m[I 2022-06-10 22:54:10,582]\u001B[0m Trial 13 pruned. Trial was pruned at epoch 1.\u001B[0m\n"
     ]
    },
    {
     "name": "stdout",
     "output_type": "stream",
     "text": [
      "Epoch 1/10\n",
      "2964/2964 [==============================] - 259s 87ms/step - loss: 0.0718 - mean_absolute_percentage_error: 17267622.0000 - val_loss: 0.0031 - val_mean_absolute_percentage_error: 369260.5938\n",
      "Epoch 2/10\n",
      "2964/2964 [==============================] - 252s 85ms/step - loss: 0.0029 - mean_absolute_percentage_error: 448193.7812 - val_loss: 0.0031 - val_mean_absolute_percentage_error: 238137.0469\n"
     ]
    },
    {
     "name": "stderr",
     "output_type": "stream",
     "text": [
      "\u001B[32m[I 2022-06-10 23:07:09,379]\u001B[0m Trial 14 pruned. Trial was pruned at epoch 1.\u001B[0m\n"
     ]
    },
    {
     "name": "stdout",
     "output_type": "stream",
     "text": [
      "Epoch 1/10\n",
      "3974/3974 [==============================] - 889s 222ms/step - loss: 0.0047 - mean_absolute_percentage_error: 2196453.0000 - val_loss: 0.0030 - val_mean_absolute_percentage_error: 629792.0625\n",
      "Epoch 2/10\n",
      "3974/3974 [==============================] - 882s 222ms/step - loss: 0.0029 - mean_absolute_percentage_error: 392232.3438 - val_loss: 0.0030 - val_mean_absolute_percentage_error: 122701.4453\n"
     ]
    },
    {
     "name": "stderr",
     "output_type": "stream",
     "text": [
      "\u001B[32m[I 2022-06-10 23:41:54,494]\u001B[0m Trial 15 pruned. Trial was pruned at epoch 1.\u001B[0m\n"
     ]
    },
    {
     "name": "stdout",
     "output_type": "stream",
     "text": [
      "Epoch 1/10\n",
      "2514/2514 [==============================] - 117s 46ms/step - loss: 0.0606 - mean_absolute_percentage_error: 26420788.0000 - val_loss: 0.0108 - val_mean_absolute_percentage_error: 6487918.0000\n",
      "Epoch 2/10\n",
      "2514/2514 [==============================] - 115s 46ms/step - loss: 0.0146 - mean_absolute_percentage_error: 12455259.0000 - val_loss: 0.0083 - val_mean_absolute_percentage_error: 3658335.5000\n"
     ]
    },
    {
     "name": "stderr",
     "output_type": "stream",
     "text": [
      "\u001B[32m[I 2022-06-10 23:50:30,654]\u001B[0m Trial 16 pruned. Trial was pruned at epoch 1.\u001B[0m\n"
     ]
    },
    {
     "name": "stdout",
     "output_type": "stream",
     "text": [
      "Epoch 1/10\n",
      "5020/5020 [==============================] - 382s 76ms/step - loss: 0.0124 - mean_absolute_percentage_error: 5151966.0000 - val_loss: 0.0031 - val_mean_absolute_percentage_error: 747982.9375\n",
      "Epoch 2/10\n",
      "5020/5020 [==============================] - 379s 76ms/step - loss: 0.0029 - mean_absolute_percentage_error: 523344.8438 - val_loss: 0.0031 - val_mean_absolute_percentage_error: 237630.2031\n"
     ]
    },
    {
     "name": "stderr",
     "output_type": "stream",
     "text": [
      "\u001B[32m[I 2022-06-11 00:07:40,744]\u001B[0m Trial 17 pruned. Trial was pruned at epoch 1.\u001B[0m\n"
     ]
    },
    {
     "name": "stdout",
     "output_type": "stream",
     "text": [
      "Epoch 1/10\n",
      "6308/6308 [==============================] - 421s 66ms/step - loss: 0.8895 - mean_absolute_percentage_error: 146802016.0000 - val_loss: 0.0199 - val_mean_absolute_percentage_error: 20522116.0000\n",
      "Epoch 2/10\n",
      "6308/6308 [==============================] - 411s 65ms/step - loss: 0.4305 - mean_absolute_percentage_error: 98287128.0000 - val_loss: 0.0084 - val_mean_absolute_percentage_error: 8515204.0000\n"
     ]
    },
    {
     "name": "stderr",
     "output_type": "stream",
     "text": [
      "\u001B[32m[I 2022-06-11 00:25:39,376]\u001B[0m Trial 18 pruned. Trial was pruned at epoch 1.\u001B[0m\n"
     ]
    },
    {
     "name": "stdout",
     "output_type": "stream",
     "text": [
      "Epoch 1/10\n",
      "2860/2860 [==============================] - 829s 288ms/step - loss: 0.1047 - mean_absolute_percentage_error: 36112556.0000 - val_loss: 0.0106 - val_mean_absolute_percentage_error: 15525448.0000\n",
      "Epoch 2/10\n",
      "2860/2860 [==============================] - 797s 279ms/step - loss: 0.0045 - mean_absolute_percentage_error: 5833843.0000 - val_loss: 0.0049 - val_mean_absolute_percentage_error: 5952421.5000\n"
     ]
    },
    {
     "name": "stderr",
     "output_type": "stream",
     "text": [
      "\u001B[32m[I 2022-06-11 00:57:27,757]\u001B[0m Trial 19 pruned. Trial was pruned at epoch 1.\u001B[0m\n"
     ]
    },
    {
     "name": "stdout",
     "output_type": "stream",
     "text": [
      "Epoch 1/10\n",
      "3760/3760 [==============================] - 856s 226ms/step - loss: 0.0053 - mean_absolute_percentage_error: 1850251.5000 - val_loss: 0.0030 - val_mean_absolute_percentage_error: 604613.8125\n",
      "Epoch 2/10\n",
      "3760/3760 [==============================] - 846s 225ms/step - loss: 0.0030 - mean_absolute_percentage_error: 329822.6250 - val_loss: 0.0030 - val_mean_absolute_percentage_error: 367892.4688\n",
      "Epoch 3/10\n",
      "3760/3760 [==============================] - 849s 226ms/step - loss: 0.0029 - mean_absolute_percentage_error: 344991.0625 - val_loss: 0.0030 - val_mean_absolute_percentage_error: 290726.2188\n",
      "Epoch 4/10\n",
      "3760/3760 [==============================] - 847s 225ms/step - loss: 0.0029 - mean_absolute_percentage_error: 371211.4062 - val_loss: 0.0030 - val_mean_absolute_percentage_error: 415058.8438\n",
      "Epoch 5/10\n",
      "3760/3760 [==============================] - 847s 225ms/step - loss: 0.0029 - mean_absolute_percentage_error: 388669.7500 - val_loss: 0.0030 - val_mean_absolute_percentage_error: 690185.4375\n"
     ]
    },
    {
     "name": "stderr",
     "output_type": "stream",
     "text": [
      "\u001B[32m[I 2022-06-11 02:13:31,534]\u001B[0m Trial 20 pruned. Trial was pruned at epoch 4.\u001B[0m\n"
     ]
    },
    {
     "name": "stdout",
     "output_type": "stream",
     "text": [
      "Epoch 1/10\n",
      "2295/2295 [==============================] - 538s 230ms/step - loss: 0.1094 - mean_absolute_percentage_error: 17279514.0000 - val_loss: 0.0098 - val_mean_absolute_percentage_error: 25781280.0000\n",
      "Epoch 2/10\n",
      "2295/2295 [==============================] - 526s 229ms/step - loss: 0.0030 - mean_absolute_percentage_error: 379424.3125 - val_loss: 0.1098 - val_mean_absolute_percentage_error: 98489288.0000\n"
     ]
    },
    {
     "name": "stderr",
     "output_type": "stream",
     "text": [
      "\u001B[32m[I 2022-06-11 02:36:00,463]\u001B[0m Trial 21 pruned. Trial was pruned at epoch 1.\u001B[0m\n"
     ]
    },
    {
     "name": "stdout",
     "output_type": "stream",
     "text": [
      "Epoch 1/10\n",
      "1860/1860 [==============================] - 268s 142ms/step - loss: 0.1170 - mean_absolute_percentage_error: 22623086.0000 - val_loss: 0.0034 - val_mean_absolute_percentage_error: 6844111.5000\n",
      "Epoch 2/10\n",
      "1860/1860 [==============================] - 264s 142ms/step - loss: 0.0029 - mean_absolute_percentage_error: 375651.5000 - val_loss: 0.2056 - val_mean_absolute_percentage_error: 133856640.0000\n"
     ]
    },
    {
     "name": "stderr",
     "output_type": "stream",
     "text": [
      "\u001B[32m[I 2022-06-11 02:49:16,777]\u001B[0m Trial 22 pruned. Trial was pruned at epoch 1.\u001B[0m\n"
     ]
    },
    {
     "name": "stdout",
     "output_type": "stream",
     "text": [
      "Epoch 1/10\n",
      "2039/2039 [==============================] - 395s 191ms/step - loss: 0.1222 - mean_absolute_percentage_error: 19035500.0000 - val_loss: 0.0031 - val_mean_absolute_percentage_error: 4014083.7500\n",
      "Epoch 2/10\n",
      "2039/2039 [==============================] - 404s 198ms/step - loss: 0.0030 - mean_absolute_percentage_error: 385912.8750 - val_loss: 0.0035 - val_mean_absolute_percentage_error: 6826955.5000\n"
     ]
    },
    {
     "name": "stderr",
     "output_type": "stream",
     "text": [
      "\u001B[32m[I 2022-06-11 03:07:26,150]\u001B[0m Trial 23 pruned. Trial was pruned at epoch 1.\u001B[0m\n"
     ]
    },
    {
     "name": "stdout",
     "output_type": "stream",
     "text": [
      "Epoch 1/10\n",
      "1712/1712 [==============================] - 471s 272ms/step - loss: 0.0617 - mean_absolute_percentage_error: 29457908.0000 - val_loss: 0.0034 - val_mean_absolute_percentage_error: 4464991.0000\n",
      "Epoch 2/10\n",
      "1712/1712 [==============================] - 445s 260ms/step - loss: 0.0032 - mean_absolute_percentage_error: 606680.8125 - val_loss: 0.0036 - val_mean_absolute_percentage_error: 7988582.5000\n"
     ]
    },
    {
     "name": "stderr",
     "output_type": "stream",
     "text": [
      "\u001B[32m[I 2022-06-11 03:27:23,303]\u001B[0m Trial 24 pruned. Trial was pruned at epoch 1.\u001B[0m\n"
     ]
    },
    {
     "name": "stdout",
     "output_type": "stream",
     "text": [
      "Epoch 1/10\n",
      "2079/2079 [==============================] - 156s 74ms/step - loss: 0.1551 - mean_absolute_percentage_error: 27378676.0000 - val_loss: 0.0173 - val_mean_absolute_percentage_error: 6212935.0000\n",
      "Epoch 2/10\n",
      "2079/2079 [==============================] - 154s 74ms/step - loss: 0.0063 - mean_absolute_percentage_error: 1870058.2500 - val_loss: 0.0291 - val_mean_absolute_percentage_error: 16282030.0000\n"
     ]
    },
    {
     "name": "stderr",
     "output_type": "stream",
     "text": [
      "\u001B[32m[I 2022-06-11 03:36:55,701]\u001B[0m Trial 25 pruned. Trial was pruned at epoch 1.\u001B[0m\n"
     ]
    },
    {
     "name": "stdout",
     "output_type": "stream",
     "text": [
      "Epoch 1/10\n",
      "3262/3262 [==============================] - 881s 268ms/step - loss: 0.0352 - mean_absolute_percentage_error: 8236606.0000 - val_loss: 0.0030 - val_mean_absolute_percentage_error: 648512.4375\n",
      "Epoch 2/10\n",
      "3262/3262 [==============================] - 862s 264ms/step - loss: 0.0031 - mean_absolute_percentage_error: 844342.3125 - val_loss: 0.0030 - val_mean_absolute_percentage_error: 343768.2188\n",
      "Epoch 3/10\n",
      "3262/3262 [==============================] - 864s 265ms/step - loss: 0.0031 - mean_absolute_percentage_error: 835475.8125 - val_loss: 0.0030 - val_mean_absolute_percentage_error: 480289.8125\n",
      "Epoch 4/10\n",
      "3262/3262 [==============================] - 864s 265ms/step - loss: 0.0031 - mean_absolute_percentage_error: 839202.8750 - val_loss: 0.0030 - val_mean_absolute_percentage_error: 990624.8750\n",
      "Epoch 5/10\n",
      "3262/3262 [==============================] - 865s 265ms/step - loss: 0.0031 - mean_absolute_percentage_error: 833643.7500 - val_loss: 0.0031 - val_mean_absolute_percentage_error: 225055.4844\n"
     ]
    },
    {
     "name": "stderr",
     "output_type": "stream",
     "text": [
      "\u001B[32m[I 2022-06-11 04:54:06,938]\u001B[0m Trial 26 pruned. Trial was pruned at epoch 4.\u001B[0m\n"
     ]
    },
    {
     "name": "stdout",
     "output_type": "stream",
     "text": [
      "Epoch 1/10\n",
      "6583/6583 [==============================] - 1484s 225ms/step - loss: 0.0434 - mean_absolute_percentage_error: 12054048.0000 - val_loss: 0.0115 - val_mean_absolute_percentage_error: 9187975.0000\n",
      "Epoch 2/10\n",
      "6583/6583 [==============================] - 1468s 223ms/step - loss: 0.0071 - mean_absolute_percentage_error: 1735424.7500 - val_loss: 0.0055 - val_mean_absolute_percentage_error: 8997246.0000\n"
     ]
    },
    {
     "name": "stderr",
     "output_type": "stream",
     "text": [
      "\u001B[32m[I 2022-06-11 05:48:35,203]\u001B[0m Trial 27 pruned. Trial was pruned at epoch 1.\u001B[0m\n"
     ]
    },
    {
     "name": "stdout",
     "output_type": "stream",
     "text": [
      "Epoch 1/10\n",
      "4186/4186 [==============================] - 1022s 243ms/step - loss: 0.1090 - mean_absolute_percentage_error: 52377272.0000 - val_loss: 0.0030 - val_mean_absolute_percentage_error: 580675.0625\n",
      "Epoch 2/10\n",
      "4186/4186 [==============================] - 1007s 241ms/step - loss: 0.0391 - mean_absolute_percentage_error: 30751726.0000 - val_loss: 0.0030 - val_mean_absolute_percentage_error: 775762.0625\n",
      "Epoch 3/10\n",
      "4186/4186 [==============================] - 1017s 243ms/step - loss: 0.0236 - mean_absolute_percentage_error: 23006054.0000 - val_loss: 0.0030 - val_mean_absolute_percentage_error: 228294.0000\n",
      "Epoch 4/10\n",
      "4186/4186 [==============================] - 1013s 242ms/step - loss: 0.0167 - mean_absolute_percentage_error: 18675626.0000 - val_loss: 0.0030 - val_mean_absolute_percentage_error: 420697.9375\n",
      "Epoch 5/10\n",
      "4186/4186 [==============================] - 1011s 242ms/step - loss: 0.0128 - mean_absolute_percentage_error: 15759498.0000 - val_loss: 0.0030 - val_mean_absolute_percentage_error: 186489.5625\n"
     ]
    },
    {
     "name": "stderr",
     "output_type": "stream",
     "text": [
      "\u001B[32m[I 2022-06-11 07:18:42,354]\u001B[0m Trial 28 pruned. Trial was pruned at epoch 4.\u001B[0m\n"
     ]
    },
    {
     "name": "stdout",
     "output_type": "stream",
     "text": [
      "Epoch 1/10\n",
      "5984/5984 [==============================] - 2938s 488ms/step - loss: 0.0139 - mean_absolute_percentage_error: 13480805.0000 - val_loss: 0.0048 - val_mean_absolute_percentage_error: 3961254.0000\n",
      "Epoch 2/10\n",
      "5984/5984 [==============================] - 2921s 488ms/step - loss: 0.0061 - mean_absolute_percentage_error: 7843779.5000 - val_loss: 0.0035 - val_mean_absolute_percentage_error: 3239025.0000\n"
     ]
    },
    {
     "name": "stderr",
     "output_type": "stream",
     "text": [
      "\u001B[32m[I 2022-06-11 09:03:50,007]\u001B[0m Trial 29 pruned. Trial was pruned at epoch 1.\u001B[0m\n"
     ]
    },
    {
     "name": "stdout",
     "output_type": "stream",
     "text": [
      "Epoch 1/10\n",
      "2751/2751 [==============================] - 495s 177ms/step - loss: 0.0644 - mean_absolute_percentage_error: 14688581.0000 - val_loss: 0.0033 - val_mean_absolute_percentage_error: 1002182.0000\n",
      "Epoch 2/10\n",
      "2751/2751 [==============================] - 488s 177ms/step - loss: 0.0031 - mean_absolute_percentage_error: 691031.0625 - val_loss: 0.0032 - val_mean_absolute_percentage_error: 1077751.5000\n"
     ]
    },
    {
     "name": "stderr",
     "output_type": "stream",
     "text": [
      "\u001B[32m[I 2022-06-11 09:26:15,338]\u001B[0m Trial 30 pruned. Trial was pruned at epoch 1.\u001B[0m\n"
     ]
    },
    {
     "name": "stderr",
     "output_type": "stream",
     "text": [
      "\u001B[32m[I 2022-06-11 05:48:35,203]\u001B[0m Trial 31 pruned. Trial was pruned at epoch 1.\u001B[0m\n"
     ]
    },
    {
     "name": "stdout",
     "output_type": "stream",
     "text": [
      "Epoch 1/10\n",
      "4186/4186 [==============================] - 1022s 243ms/step - loss: 0.1090 - mean_absolute_percentage_error: 52377272.0000 - val_loss: 0.0030 - val_mean_absolute_percentage_error: 580675.0625\n",
      "Epoch 2/10\n",
      "4186/4186 [==============================] - 1007s 241ms/step - loss: 0.0391 - mean_absolute_percentage_error: 30751726.0000 - val_loss: 0.0030 - val_mean_absolute_percentage_error: 775762.0625\n",
      "Epoch 3/10\n",
      "4186/4186 [==============================] - 1017s 243ms/step - loss: 0.0236 - mean_absolute_percentage_error: 23006054.0000 - val_loss: 0.0030 - val_mean_absolute_percentage_error: 228294.0000\n",
      "Epoch 4/10\n",
      "4186/4186 [==============================] - 1013s 242ms/step - loss: 0.0167 - mean_absolute_percentage_error: 18675626.0000 - val_loss: 0.0030 - val_mean_absolute_percentage_error: 420697.9375\n",
      "Epoch 5/10\n",
      "4186/4186 [==============================] - 1011s 242ms/step - loss: 0.0128 - mean_absolute_percentage_error: 15759498.0000 - val_loss: 0.0030 - val_mean_absolute_percentage_error: 186489.5625\n"
     ]
    },
    {
     "name": "stderr",
     "output_type": "stream",
     "text": [
      "\u001B[32m[I 2022-06-11 07:18:42,354]\u001B[0m Trial 32 pruned. Trial was pruned at epoch 4.\u001B[0m\n"
     ]
    },
    {
     "name": "stdout",
     "output_type": "stream",
     "text": [
      "Epoch 1/10\n",
      "5984/5984 [==============================] - 2938s 488ms/step - loss: 0.0139 - mean_absolute_percentage_error: 13480805.0000 - val_loss: 0.0048 - val_mean_absolute_percentage_error: 3961254.0000\n",
      "Epoch 2/10\n",
      "5984/5984 [==============================] - 2921s 488ms/step - loss: 0.0061 - mean_absolute_percentage_error: 7843779.5000 - val_loss: 0.0035 - val_mean_absolute_percentage_error: 3239025.0000\n"
     ]
    },
    {
     "name": "stderr",
     "output_type": "stream",
     "text": [
      "\u001B[32m[I 2022-06-11 09:03:50,007]\u001B[0m Trial 33 pruned. Trial was pruned at epoch 1.\u001B[0m\n"
     ]
    },
    {
     "name": "stdout",
     "output_type": "stream",
     "text": [
      "Epoch 1/10\n",
      "2751/2751 [==============================] - 495s 177ms/step - loss: 0.0644 - mean_absolute_percentage_error: 14688581.0000 - val_loss: 0.0033 - val_mean_absolute_percentage_error: 1002182.0000\n",
      "Epoch 2/10\n",
      "2751/2751 [==============================] - 488s 177ms/step - loss: 0.0031 - mean_absolute_percentage_error: 691031.0625 - val_loss: 0.0032 - val_mean_absolute_percentage_error: 1077751.5000\n"
     ]
    },
    {
     "name": "stderr",
     "output_type": "stream",
     "text": [
      "\u001B[32m[I 2022-06-11 09:26:15,338]\u001B[0m Trial 34 pruned. Trial was pruned at epoch 1.\u001B[0m\n"
     ]
    },
    {
     "name": "stdout",
     "output_type": "stream",
     "text": [
      "Epoch 1/10\n",
      "4230/4230 [==============================] - 1038s 244ms/step - loss: 0.1067 - mean_absolute_percentage_error: 52823380.0000 - val_loss: 0.0032 - val_mean_absolute_percentage_error: 539993.0000\n",
      "Epoch 2/10\n",
      "4230/4230 [==============================] - 1027s 243ms/step - loss: 0.0376 - mean_absolute_percentage_error: 30720894.0000 - val_loss: 0.0031 - val_mean_absolute_percentage_error: 606418.9375\n"
     ]
    },
    {
     "name": "stderr",
     "output_type": "stream",
     "text": [
      "\u001B[32m[I 2022-06-11 10:06:33,464]\u001B[0m Trial 35 pruned. Trial was pruned at epoch 1.\u001B[0m\n"
     ]
    },
    {
     "name": "stdout",
     "output_type": "stream",
     "text": [
      "Epoch 1/10\n",
      "2295/2295 [==============================] - 538s 230ms/step - loss: 0.1094 - mean_absolute_percentage_error: 17279514.0000 - val_loss: 0.0098 - val_mean_absolute_percentage_error: 25781280.0000\n",
      "Epoch 2/10\n",
      "2295/2295 [==============================] - 526s 229ms/step - loss: 0.0030 - mean_absolute_percentage_error: 379424.3125 - val_loss: 0.1098 - val_mean_absolute_percentage_error: 98489288.0000\n"
     ]
    },
    {
     "name": "stderr",
     "output_type": "stream",
     "text": [
      "\u001B[32m[I 2022-06-11 02:36:00,463]\u001B[0m Trial 36 pruned. Trial was pruned at epoch 1.\u001B[0m\n"
     ]
    },
    {
     "name": "stdout",
     "output_type": "stream",
     "text": [
      "Epoch 1/10\n",
      "1860/1860 [==============================] - 268s 142ms/step - loss: 0.1170 - mean_absolute_percentage_error: 22623086.0000 - val_loss: 0.0034 - val_mean_absolute_percentage_error: 6844111.5000\n",
      "Epoch 2/10\n",
      "1860/1860 [==============================] - 264s 142ms/step - loss: 0.0029 - mean_absolute_percentage_error: 375651.5000 - val_loss: 0.2056 - val_mean_absolute_percentage_error: 133856640.0000\n"
     ]
    },
    {
     "name": "stderr",
     "output_type": "stream",
     "text": [
      "\u001B[32m[I 2022-06-11 02:49:16,777]\u001B[0m Trial 37 pruned. Trial was pruned at epoch 1.\u001B[0m\n"
     ]
    },
    {
     "name": "stdout",
     "output_type": "stream",
     "text": [
      "Epoch 1/10\n",
      "2039/2039 [==============================] - 395s 191ms/step - loss: 0.1222 - mean_absolute_percentage_error: 19035500.0000 - val_loss: 0.0031 - val_mean_absolute_percentage_error: 4014083.7500\n",
      "Epoch 2/10\n",
      "2039/2039 [==============================] - 404s 198ms/step - loss: 0.0030 - mean_absolute_percentage_error: 385912.8750 - val_loss: 0.0035 - val_mean_absolute_percentage_error: 6826955.5000\n"
     ]
    },
    {
     "name": "stderr",
     "output_type": "stream",
     "text": [
      "\u001B[32m[I 2022-06-11 03:07:26,150]\u001B[0m Trial 38 pruned. Trial was pruned at epoch 1.\u001B[0m\n"
     ]
    },
    {
     "name": "stdout",
     "output_type": "stream",
     "text": [
      "Epoch 1/10\n",
      "1712/1712 [==============================] - 471s 272ms/step - loss: 0.0617 - mean_absolute_percentage_error: 29457908.0000 - val_loss: 0.0034 - val_mean_absolute_percentage_error: 4464991.0000\n",
      "Epoch 2/10\n",
      "1712/1712 [==============================] - 445s 260ms/step - loss: 0.0032 - mean_absolute_percentage_error: 606680.8125 - val_loss: 0.0036 - val_mean_absolute_percentage_error: 7988582.5000\n"
     ]
    },
    {
     "name": "stderr",
     "output_type": "stream",
     "text": [
      "\u001B[32m[I 2022-06-11 03:27:23,303]\u001B[0m Trial 39 pruned. Trial was pruned at epoch 1.\u001B[0m\n"
     ]
    },
    {
     "name": "stdout",
     "output_type": "stream",
     "text": [
      "Epoch 1/10\n",
      "2079/2079 [==============================] - 156s 74ms/step - loss: 0.1551 - mean_absolute_percentage_error: 27378676.0000 - val_loss: 0.0173 - val_mean_absolute_percentage_error: 6212935.0000\n",
      "Epoch 2/10\n",
      "2079/2079 [==============================] - 154s 74ms/step - loss: 0.0063 - mean_absolute_percentage_error: 1870058.2500 - val_loss: 0.0291 - val_mean_absolute_percentage_error: 16282030.0000\n"
     ]
    },
    {
     "name": "stderr",
     "output_type": "stream",
     "text": [
      "\u001B[32m[I 2022-06-11 03:36:55,701]\u001B[0m Trial 40 pruned. Trial was pruned at epoch 1.\u001B[0m\n"
     ]
    },
    {
     "name": "stdout",
     "output_type": "stream",
     "text": [
      "Epoch 1/10\n",
      "3262/3262 [==============================] - 881s 268ms/step - loss: 0.0352 - mean_absolute_percentage_error: 8236606.0000 - val_loss: 0.0030 - val_mean_absolute_percentage_error: 648512.4375\n",
      "Epoch 2/10\n",
      "3262/3262 [==============================] - 862s 264ms/step - loss: 0.0031 - mean_absolute_percentage_error: 844342.3125 - val_loss: 0.0030 - val_mean_absolute_percentage_error: 343768.2188\n",
      "Epoch 3/10\n",
      "3262/3262 [==============================] - 864s 265ms/step - loss: 0.0031 - mean_absolute_percentage_error: 835475.8125 - val_loss: 0.0030 - val_mean_absolute_percentage_error: 480289.8125\n",
      "Epoch 4/10\n",
      "3262/3262 [==============================] - 864s 265ms/step - loss: 0.0031 - mean_absolute_percentage_error: 839202.8750 - val_loss: 0.0030 - val_mean_absolute_percentage_error: 990624.8750\n",
      "Epoch 5/10\n",
      "3262/3262 [==============================] - 865s 265ms/step - loss: 0.0031 - mean_absolute_percentage_error: 833643.7500 - val_loss: 0.0031 - val_mean_absolute_percentage_error: 225055.4844\n"
     ]
    },
    {
     "name": "stderr",
     "output_type": "stream",
     "text": [
      "\u001B[32m[I 2022-06-11 04:54:06,938]\u001B[0m Trial 41 pruned. Trial was pruned at epoch 4.\u001B[0m\n"
     ]
    },
    {
     "name": "stdout",
     "output_type": "stream",
     "text": [
      "Epoch 1/10\n",
      "6583/6583 [==============================] - 1484s 225ms/step - loss: 0.0434 - mean_absolute_percentage_error: 12054048.0000 - val_loss: 0.0115 - val_mean_absolute_percentage_error: 9187975.0000\n",
      "Epoch 2/10\n",
      "6583/6583 [==============================] - 1468s 223ms/step - loss: 0.0071 - mean_absolute_percentage_error: 1735424.7500 - val_loss: 0.0055 - val_mean_absolute_percentage_error: 8997246.0000\n"
     ]
    },
    {
     "name": "stderr",
     "output_type": "stream",
     "text": [
      "\u001B[32m[I 2022-06-11 05:48:35,203]\u001B[0m Trial 42 pruned. Trial was pruned at epoch 1.\u001B[0m\n"
     ]
    },
    {
     "name": "stdout",
     "output_type": "stream",
     "text": [
      "Epoch 1/10\n",
      "4186/4186 [==============================] - 1022s 243ms/step - loss: 0.1090 - mean_absolute_percentage_error: 52377272.0000 - val_loss: 0.0030 - val_mean_absolute_percentage_error: 580675.0625\n",
      "Epoch 2/10\n",
      "4186/4186 [==============================] - 1007s 241ms/step - loss: 0.0391 - mean_absolute_percentage_error: 30751726.0000 - val_loss: 0.0030 - val_mean_absolute_percentage_error: 775762.0625\n",
      "Epoch 3/10\n",
      "4186/4186 [==============================] - 1017s 243ms/step - loss: 0.0236 - mean_absolute_percentage_error: 23006054.0000 - val_loss: 0.0030 - val_mean_absolute_percentage_error: 228294.0000\n",
      "Epoch 4/10\n",
      "4186/4186 [==============================] - 1013s 242ms/step - loss: 0.0167 - mean_absolute_percentage_error: 18675626.0000 - val_loss: 0.0030 - val_mean_absolute_percentage_error: 420697.9375\n",
      "Epoch 5/10\n",
      "4186/4186 [==============================] - 1011s 242ms/step - loss: 0.0128 - mean_absolute_percentage_error: 15759498.0000 - val_loss: 0.0030 - val_mean_absolute_percentage_error: 186489.5625\n"
     ]
    },
    {
     "name": "stderr",
     "output_type": "stream",
     "text": [
      "\u001B[32m[I 2022-06-11 07:18:42,354]\u001B[0m Trial 43 pruned. Trial was pruned at epoch 4.\u001B[0m\n"
     ]
    },
    {
     "name": "stdout",
     "output_type": "stream",
     "text": [
      "Epoch 1/10\n",
      "5984/5984 [==============================] - 2938s 488ms/step - loss: 0.0139 - mean_absolute_percentage_error: 13480805.0000 - val_loss: 0.0048 - val_mean_absolute_percentage_error: 3961254.0000\n",
      "Epoch 2/10\n",
      "5984/5984 [==============================] - 2921s 488ms/step - loss: 0.0061 - mean_absolute_percentage_error: 7843779.5000 - val_loss: 0.0035 - val_mean_absolute_percentage_error: 3239025.0000\n"
     ]
    },
    {
     "name": "stderr",
     "output_type": "stream",
     "text": [
      "\u001B[32m[I 2022-06-11 09:03:50,007]\u001B[0m Trial 44 pruned. Trial was pruned at epoch 1.\u001B[0m\n"
     ]
    },
    {
     "name": "stdout",
     "output_type": "stream",
     "text": [
      "Epoch 1/10\n",
      "2751/2751 [==============================] - 495s 177ms/step - loss: 0.0644 - mean_absolute_percentage_error: 14688581.0000 - val_loss: 0.0033 - val_mean_absolute_percentage_error: 1002182.0000\n",
      "Epoch 2/10\n",
      "2751/2751 [==============================] - 488s 177ms/step - loss: 0.0031 - mean_absolute_percentage_error: 691031.0625 - val_loss: 0.0032 - val_mean_absolute_percentage_error: 1077751.5000\n"
     ]
    },
    {
     "name": "stderr",
     "output_type": "stream",
     "text": [
      "\u001B[32m[I 2022-06-11 09:26:15,338]\u001B[0m Trial 45 pruned. Trial was pruned at epoch 1.\u001B[0m\n"
     ]
    },
    {
     "name": "stdout",
     "output_type": "stream",
     "text": [
      "Epoch 1/10\n",
      "4230/4230 [==============================] - 1038s 244ms/step - loss: 0.1067 - mean_absolute_percentage_error: 52823380.0000 - val_loss: 0.0032 - val_mean_absolute_percentage_error: 539993.0000\n",
      "Epoch 2/10\n",
      "4230/4230 [==============================] - 1027s 243ms/step - loss: 0.0376 - mean_absolute_percentage_error: 30720894.0000 - val_loss: 0.0031 - val_mean_absolute_percentage_error: 606418.9375\n"
     ]
    },
    {
     "name": "stderr",
     "output_type": "stream",
     "text": [
      "\u001B[32m[I 2022-06-11 10:06:33,464]\u001B[0m Trial 46 pruned. Trial was pruned at epoch 1.\u001B[0m\n"
     ]
    },
    {
     "name": "stdout",
     "output_type": "stream",
     "text": [
      "Epoch 1/10\n",
      "2295/2295 [==============================] - 538s 230ms/step - loss: 0.1094 - mean_absolute_percentage_error: 17279514.0000 - val_loss: 0.0098 - val_mean_absolute_percentage_error: 25781280.0000\n",
      "Epoch 2/10\n",
      "2295/2295 [==============================] - 526s 229ms/step - loss: 0.0030 - mean_absolute_percentage_error: 379424.3125 - val_loss: 0.1098 - val_mean_absolute_percentage_error: 98489288.0000\n"
     ]
    },
    {
     "name": "stderr",
     "output_type": "stream",
     "text": [
      "\u001B[32m[I 2022-06-11 02:36:00,463]\u001B[0m Trial 47 pruned. Trial was pruned at epoch 1.\u001B[0m\n"
     ]
    },
    {
     "name": "stdout",
     "output_type": "stream",
     "text": [
      "Epoch 1/10\n",
      "1860/1860 [==============================] - 268s 142ms/step - loss: 0.1170 - mean_absolute_percentage_error: 22623086.0000 - val_loss: 0.0034 - val_mean_absolute_percentage_error: 6844111.5000\n",
      "Epoch 2/10\n",
      "1860/1860 [==============================] - 264s 142ms/step - loss: 0.0029 - mean_absolute_percentage_error: 375651.5000 - val_loss: 0.2056 - val_mean_absolute_percentage_error: 133856640.0000\n"
     ]
    },
    {
     "name": "stderr",
     "output_type": "stream",
     "text": [
      "\u001B[32m[I 2022-06-11 02:49:16,777]\u001B[0m Trial 48 pruned. Trial was pruned at epoch 1.\u001B[0m\n"
     ]
    },
    {
     "name": "stdout",
     "output_type": "stream",
     "text": [
      "Epoch 1/10\n",
      "2039/2039 [==============================] - 395s 191ms/step - loss: 0.1222 - mean_absolute_percentage_error: 19035500.0000 - val_loss: 0.0031 - val_mean_absolute_percentage_error: 4014083.7500\n",
      "Epoch 2/10\n",
      "2039/2039 [==============================] - 404s 198ms/step - loss: 0.0030 - mean_absolute_percentage_error: 385912.8750 - val_loss: 0.0035 - val_mean_absolute_percentage_error: 6826955.5000\n"
     ]
    },
    {
     "name": "stderr",
     "output_type": "stream",
     "text": [
      "\u001B[32m[I 2022-06-11 03:07:26,150]\u001B[0m Trial 49 pruned. Trial was pruned at epoch 1.\u001B[0m\n"
     ]
    },
    {
     "name": "stdout",
     "output_type": "stream",
     "text": [
      "Epoch 1/10\n",
      "1712/1712 [==============================] - 471s 272ms/step - loss: 0.0617 - mean_absolute_percentage_error: 29457908.0000 - val_loss: 0.0034 - val_mean_absolute_percentage_error: 4464991.0000\n",
      "Epoch 2/10\n",
      "1712/1712 [==============================] - 445s 260ms/step - loss: 0.0032 - mean_absolute_percentage_error: 606680.8125 - val_loss: 0.0036 - val_mean_absolute_percentage_error: 7988582.5000\n"
     ]
    },
    {
     "name": "stderr",
     "output_type": "stream",
     "text": [
      "\u001B[32m[I 2022-06-11 03:27:23,303]\u001B[0m Trial 50 pruned. Trial was pruned at epoch 1.\u001B[0m\n"
     ]
    },
    {
     "name": "stdout",
     "output_type": "stream",
     "text": [
      "Epoch 1/10\n",
      "2079/2079 [==============================] - 156s 74ms/step - loss: 0.1551 - mean_absolute_percentage_error: 27378676.0000 - val_loss: 0.0173 - val_mean_absolute_percentage_error: 6212935.0000\n",
      "Epoch 2/10\n",
      "2079/2079 [==============================] - 154s 74ms/step - loss: 0.0063 - mean_absolute_percentage_error: 1870058.2500 - val_loss: 0.0291 - val_mean_absolute_percentage_error: 16282030.0000\n"
     ]
    },
    {
     "name": "stderr",
     "output_type": "stream",
     "text": [
      "\u001B[32m[I 2022-06-11 03:36:55,701]\u001B[0m Trial 51 pruned. Trial was pruned at epoch 1.\u001B[0m\n"
     ]
    },
    {
     "name": "stdout",
     "output_type": "stream",
     "text": [
      "Epoch 1/10\n",
      "3262/3262 [==============================] - 881s 268ms/step - loss: 0.0352 - mean_absolute_percentage_error: 8236606.0000 - val_loss: 0.0030 - val_mean_absolute_percentage_error: 648512.4375\n",
      "Epoch 2/10\n",
      "3262/3262 [==============================] - 862s 264ms/step - loss: 0.0031 - mean_absolute_percentage_error: 844342.3125 - val_loss: 0.0030 - val_mean_absolute_percentage_error: 343768.2188\n",
      "Epoch 3/10\n",
      "3262/3262 [==============================] - 864s 265ms/step - loss: 0.0031 - mean_absolute_percentage_error: 835475.8125 - val_loss: 0.0030 - val_mean_absolute_percentage_error: 480289.8125\n",
      "Epoch 4/10\n",
      "3262/3262 [==============================] - 864s 265ms/step - loss: 0.0031 - mean_absolute_percentage_error: 839202.8750 - val_loss: 0.0030 - val_mean_absolute_percentage_error: 990624.8750\n",
      "Epoch 5/10\n",
      "3262/3262 [==============================] - 865s 265ms/step - loss: 0.0031 - mean_absolute_percentage_error: 833643.7500 - val_loss: 0.0031 - val_mean_absolute_percentage_error: 225055.4844\n"
     ]
    },
    {
     "name": "stderr",
     "output_type": "stream",
     "text": [
      "\u001B[32m[I 2022-06-11 04:54:06,938]\u001B[0m Trial 52 pruned. Trial was pruned at epoch 4.\u001B[0m\n"
     ]
    },
    {
     "name": "stdout",
     "output_type": "stream",
     "text": [
      "Epoch 1/10\n",
      "6583/6583 [==============================] - 1484s 225ms/step - loss: 0.0434 - mean_absolute_percentage_error: 12054048.0000 - val_loss: 0.0115 - val_mean_absolute_percentage_error: 9187975.0000\n",
      "Epoch 2/10\n",
      "6583/6583 [==============================] - 1468s 223ms/step - loss: 0.0071 - mean_absolute_percentage_error: 1735424.7500 - val_loss: 0.0055 - val_mean_absolute_percentage_error: 8997246.0000\n"
     ]
    },
    {
     "name": "stderr",
     "output_type": "stream",
     "text": [
      "\u001B[32m[I 2022-06-11 05:48:35,203]\u001B[0m Trial 53 pruned. Trial was pruned at epoch 1.\u001B[0m\n"
     ]
    },
    {
     "name": "stdout",
     "output_type": "stream",
     "text": [
      "Epoch 1/10\n",
      "4186/4186 [==============================] - 1022s 243ms/step - loss: 0.1090 - mean_absolute_percentage_error: 52377272.0000 - val_loss: 0.0030 - val_mean_absolute_percentage_error: 580675.0625\n",
      "Epoch 2/10\n",
      "4186/4186 [==============================] - 1007s 241ms/step - loss: 0.0391 - mean_absolute_percentage_error: 30751726.0000 - val_loss: 0.0030 - val_mean_absolute_percentage_error: 775762.0625\n",
      "Epoch 3/10\n",
      "4186/4186 [==============================] - 1017s 243ms/step - loss: 0.0236 - mean_absolute_percentage_error: 23006054.0000 - val_loss: 0.0030 - val_mean_absolute_percentage_error: 228294.0000\n",
      "Epoch 4/10\n",
      "4186/4186 [==============================] - 1013s 242ms/step - loss: 0.0167 - mean_absolute_percentage_error: 18675626.0000 - val_loss: 0.0030 - val_mean_absolute_percentage_error: 420697.9375\n",
      "Epoch 5/10\n",
      "4186/4186 [==============================] - 1011s 242ms/step - loss: 0.0128 - mean_absolute_percentage_error: 15759498.0000 - val_loss: 0.0030 - val_mean_absolute_percentage_error: 186489.5625\n"
     ]
    },
    {
     "name": "stderr",
     "output_type": "stream",
     "text": [
      "\u001B[32m[I 2022-06-11 07:18:42,354]\u001B[0m Trial 54 pruned. Trial was pruned at epoch 4.\u001B[0m\n"
     ]
    },
    {
     "name": "stdout",
     "output_type": "stream",
     "text": [
      "Epoch 1/10\n",
      "5984/5984 [==============================] - 2938s 488ms/step - loss: 0.0139 - mean_absolute_percentage_error: 13480805.0000 - val_loss: 0.0048 - val_mean_absolute_percentage_error: 3961254.0000\n",
      "Epoch 2/10\n",
      "5984/5984 [==============================] - 2921s 488ms/step - loss: 0.0061 - mean_absolute_percentage_error: 7843779.5000 - val_loss: 0.0035 - val_mean_absolute_percentage_error: 3239025.0000\n"
     ]
    },
    {
     "name": "stderr",
     "output_type": "stream",
     "text": [
      "\u001B[32m[I 2022-06-11 09:03:50,007]\u001B[0m Trial 55 pruned. Trial was pruned at epoch 1.\u001B[0m\n"
     ]
    },
    {
     "name": "stdout",
     "output_type": "stream",
     "text": [
      "Epoch 1/10\n",
      "2751/2751 [==============================] - 495s 177ms/step - loss: 0.0644 - mean_absolute_percentage_error: 14688581.0000 - val_loss: 0.0033 - val_mean_absolute_percentage_error: 1002182.0000\n",
      "Epoch 2/10\n",
      "2751/2751 [==============================] - 488s 177ms/step - loss: 0.0031 - mean_absolute_percentage_error: 691031.0625 - val_loss: 0.0032 - val_mean_absolute_percentage_error: 1077751.5000\n"
     ]
    },
    {
     "name": "stderr",
     "output_type": "stream",
     "text": [
      "\u001B[32m[I 2022-06-11 09:26:15,338]\u001B[0m Trial 56 pruned. Trial was pruned at epoch 1.\u001B[0m\n"
     ]
    },
    {
     "name": "stdout",
     "output_type": "stream",
     "text": [
      "Epoch 1/10\n",
      "4230/4230 [==============================] - 1038s 244ms/step - loss: 0.1067 - mean_absolute_percentage_error: 52823380.0000 - val_loss: 0.0032 - val_mean_absolute_percentage_error: 539993.0000\n",
      "Epoch 2/10\n",
      "4230/4230 [==============================] - 1027s 243ms/step - loss: 0.0376 - mean_absolute_percentage_error: 30720894.0000 - val_loss: 0.0031 - val_mean_absolute_percentage_error: 606418.9375\n"
     ]
    },
    {
     "name": "stderr",
     "output_type": "stream",
     "text": [
      "\u001B[32m[I 2022-06-11 10:06:33,464]\u001B[0m Trial 57 pruned. Trial was pruned at epoch 1.\u001B[0m\n"
     ]
    },
    {
     "name": "stdout",
     "output_type": "stream",
     "text": [
      "Epoch 1/10\n",
      "2295/2295 [==============================] - 538s 230ms/step - loss: 0.1094 - mean_absolute_percentage_error: 17279514.0000 - val_loss: 0.0098 - val_mean_absolute_percentage_error: 25781280.0000\n",
      "Epoch 2/10\n",
      "2295/2295 [==============================] - 526s 229ms/step - loss: 0.0030 - mean_absolute_percentage_error: 379424.3125 - val_loss: 0.1098 - val_mean_absolute_percentage_error: 98489288.0000\n"
     ]
    },
    {
     "name": "stderr",
     "output_type": "stream",
     "text": [
      "\u001B[32m[I 2022-06-11 02:36:00,463]\u001B[0m Trial 58 pruned. Trial was pruned at epoch 1.\u001B[0m\n"
     ]
    },
    {
     "name": "stdout",
     "output_type": "stream",
     "text": [
      "Epoch 1/10\n",
      "1860/1860 [==============================] - 268s 142ms/step - loss: 0.1170 - mean_absolute_percentage_error: 22623086.0000 - val_loss: 0.0034 - val_mean_absolute_percentage_error: 6844111.5000\n",
      "Epoch 2/10\n",
      "1860/1860 [==============================] - 264s 142ms/step - loss: 0.0029 - mean_absolute_percentage_error: 375651.5000 - val_loss: 0.2056 - val_mean_absolute_percentage_error: 133856640.0000\n"
     ]
    },
    {
     "name": "stderr",
     "output_type": "stream",
     "text": [
      "\u001B[32m[I 2022-06-11 02:49:16,777]\u001B[0m Trial 59 pruned. Trial was pruned at epoch 1.\u001B[0m\n"
     ]
    },
    {
     "name": "stdout",
     "output_type": "stream",
     "text": [
      "Epoch 1/10\n",
      "2039/2039 [==============================] - 395s 191ms/step - loss: 0.1222 - mean_absolute_percentage_error: 19035500.0000 - val_loss: 0.0031 - val_mean_absolute_percentage_error: 4014083.7500\n",
      "Epoch 2/10\n",
      "2039/2039 [==============================] - 404s 198ms/step - loss: 0.0030 - mean_absolute_percentage_error: 385912.8750 - val_loss: 0.0035 - val_mean_absolute_percentage_error: 6826955.5000\n"
     ]
    },
    {
     "name": "stderr",
     "output_type": "stream",
     "text": [
      "\u001B[32m[I 2022-06-11 03:07:26,150]\u001B[0m Trial 60 pruned. Trial was pruned at epoch 1.\u001B[0m\n"
     ]
    },
    {
     "name": "stdout",
     "output_type": "stream",
     "text": [
      "Epoch 1/10\n",
      "1712/1712 [==============================] - 471s 272ms/step - loss: 0.0617 - mean_absolute_percentage_error: 29457908.0000 - val_loss: 0.0034 - val_mean_absolute_percentage_error: 4464991.0000\n",
      "Epoch 2/10\n",
      "1712/1712 [==============================] - 445s 260ms/step - loss: 0.0032 - mean_absolute_percentage_error: 606680.8125 - val_loss: 0.0036 - val_mean_absolute_percentage_error: 7988582.5000\n"
     ]
    },
    {
     "name": "stderr",
     "output_type": "stream",
     "text": [
      "\u001B[32m[I 2022-06-11 03:27:23,303]\u001B[0m Trial 61 pruned. Trial was pruned at epoch 1.\u001B[0m\n"
     ]
    },
    {
     "name": "stdout",
     "output_type": "stream",
     "text": [
      "Epoch 1/10\n",
      "2079/2079 [==============================] - 156s 74ms/step - loss: 0.1551 - mean_absolute_percentage_error: 27378676.0000 - val_loss: 0.0173 - val_mean_absolute_percentage_error: 6212935.0000\n",
      "Epoch 2/10\n",
      "2079/2079 [==============================] - 154s 74ms/step - loss: 0.0063 - mean_absolute_percentage_error: 1870058.2500 - val_loss: 0.0291 - val_mean_absolute_percentage_error: 16282030.0000\n"
     ]
    },
    {
     "name": "stderr",
     "output_type": "stream",
     "text": [
      "\u001B[32m[I 2022-06-11 03:36:55,701]\u001B[0m Trial 62 pruned. Trial was pruned at epoch 1.\u001B[0m\n"
     ]
    },
    {
     "name": "stdout",
     "output_type": "stream",
     "text": [
      "Epoch 1/10\n",
      "3262/3262 [==============================] - 881s 268ms/step - loss: 0.0352 - mean_absolute_percentage_error: 8236606.0000 - val_loss: 0.0030 - val_mean_absolute_percentage_error: 648512.4375\n",
      "Epoch 2/10\n",
      "3262/3262 [==============================] - 862s 264ms/step - loss: 0.0031 - mean_absolute_percentage_error: 844342.3125 - val_loss: 0.0030 - val_mean_absolute_percentage_error: 343768.2188\n",
      "Epoch 3/10\n",
      "3262/3262 [==============================] - 864s 265ms/step - loss: 0.0031 - mean_absolute_percentage_error: 835475.8125 - val_loss: 0.0030 - val_mean_absolute_percentage_error: 480289.8125\n",
      "Epoch 4/10\n",
      "3262/3262 [==============================] - 864s 265ms/step - loss: 0.0031 - mean_absolute_percentage_error: 839202.8750 - val_loss: 0.0030 - val_mean_absolute_percentage_error: 990624.8750\n",
      "Epoch 5/10\n",
      "3262/3262 [==============================] - 865s 265ms/step - loss: 0.0031 - mean_absolute_percentage_error: 833643.7500 - val_loss: 0.0031 - val_mean_absolute_percentage_error: 225055.4844\n"
     ]
    },
    {
     "name": "stderr",
     "output_type": "stream",
     "text": [
      "\u001B[32m[I 2022-06-11 04:54:06,938]\u001B[0m Trial 63 pruned. Trial was pruned at epoch 4.\u001B[0m\n"
     ]
    },
    {
     "name": "stdout",
     "output_type": "stream",
     "text": [
      "Epoch 1/10\n",
      "6583/6583 [==============================] - 1484s 225ms/step - loss: 0.0434 - mean_absolute_percentage_error: 12054048.0000 - val_loss: 0.0115 - val_mean_absolute_percentage_error: 9187975.0000\n",
      "Epoch 2/10\n",
      "6583/6583 [==============================] - 1468s 223ms/step - loss: 0.0071 - mean_absolute_percentage_error: 1735424.7500 - val_loss: 0.0055 - val_mean_absolute_percentage_error: 8997246.0000\n"
     ]
    },
    {
     "name": "stderr",
     "output_type": "stream",
     "text": [
      "\u001B[32m[I 2022-06-11 05:48:35,203]\u001B[0m Trial 64 pruned. Trial was pruned at epoch 1.\u001B[0m\n"
     ]
    },
    {
     "name": "stdout",
     "output_type": "stream",
     "text": [
      "Epoch 1/10\n",
      "4186/4186 [==============================] - 1022s 243ms/step - loss: 0.1090 - mean_absolute_percentage_error: 52377272.0000 - val_loss: 0.0030 - val_mean_absolute_percentage_error: 580675.0625\n",
      "Epoch 2/10\n",
      "4186/4186 [==============================] - 1007s 241ms/step - loss: 0.0391 - mean_absolute_percentage_error: 30751726.0000 - val_loss: 0.0030 - val_mean_absolute_percentage_error: 775762.0625\n",
      "Epoch 3/10\n",
      "4186/4186 [==============================] - 1017s 243ms/step - loss: 0.0236 - mean_absolute_percentage_error: 23006054.0000 - val_loss: 0.0030 - val_mean_absolute_percentage_error: 228294.0000\n",
      "Epoch 4/10\n",
      "4186/4186 [==============================] - 1013s 242ms/step - loss: 0.0167 - mean_absolute_percentage_error: 18675626.0000 - val_loss: 0.0030 - val_mean_absolute_percentage_error: 420697.9375\n",
      "Epoch 5/10\n",
      "4186/4186 [==============================] - 1011s 242ms/step - loss: 0.0128 - mean_absolute_percentage_error: 15759498.0000 - val_loss: 0.0030 - val_mean_absolute_percentage_error: 186489.5625\n"
     ]
    },
    {
     "name": "stderr",
     "output_type": "stream",
     "text": [
      "\u001B[32m[I 2022-06-11 07:18:42,354]\u001B[0m Trial 65 pruned. Trial was pruned at epoch 4.\u001B[0m\n"
     ]
    },
    {
     "name": "stdout",
     "output_type": "stream",
     "text": [
      "Epoch 1/10\n",
      "5984/5984 [==============================] - 2938s 488ms/step - loss: 0.0139 - mean_absolute_percentage_error: 13480805.0000 - val_loss: 0.0048 - val_mean_absolute_percentage_error: 3961254.0000\n",
      "Epoch 2/10\n",
      "5984/5984 [==============================] - 2921s 488ms/step - loss: 0.0061 - mean_absolute_percentage_error: 7843779.5000 - val_loss: 0.0035 - val_mean_absolute_percentage_error: 3239025.0000\n"
     ]
    },
    {
     "name": "stderr",
     "output_type": "stream",
     "text": [
      "\u001B[32m[I 2022-06-11 09:03:50,007]\u001B[0m Trial 66 pruned. Trial was pruned at epoch 1.\u001B[0m\n"
     ]
    },
    {
     "name": "stdout",
     "output_type": "stream",
     "text": [
      "Epoch 1/10\n",
      "2751/2751 [==============================] - 495s 177ms/step - loss: 0.0644 - mean_absolute_percentage_error: 14688581.0000 - val_loss: 0.0033 - val_mean_absolute_percentage_error: 1002182.0000\n",
      "Epoch 2/10\n",
      "2751/2751 [==============================] - 488s 177ms/step - loss: 0.0031 - mean_absolute_percentage_error: 691031.0625 - val_loss: 0.0032 - val_mean_absolute_percentage_error: 1077751.5000\n"
     ]
    },
    {
     "name": "stderr",
     "output_type": "stream",
     "text": [
      "\u001B[32m[I 2022-06-11 09:26:15,338]\u001B[0m Trial 67 pruned. Trial was pruned at epoch 1.\u001B[0m\n"
     ]
    },
    {
     "name": "stdout",
     "output_type": "stream",
     "text": [
      "Epoch 1/10\n",
      "4230/4230 [==============================] - 1038s 244ms/step - loss: 0.1067 - mean_absolute_percentage_error: 52823380.0000 - val_loss: 0.0032 - val_mean_absolute_percentage_error: 539993.0000\n",
      "Epoch 2/10\n",
      "4230/4230 [==============================] - 1027s 243ms/step - loss: 0.0376 - mean_absolute_percentage_error: 30720894.0000 - val_loss: 0.0031 - val_mean_absolute_percentage_error: 606418.9375\n"
     ]
    },
    {
     "name": "stderr",
     "output_type": "stream",
     "text": [
      "\u001B[32m[I 2022-06-11 10:06:33,464]\u001B[0m Trial 68 pruned. Trial was pruned at epoch 1.\u001B[0m\n"
     ]
    },
    {
     "name": "stdout",
     "output_type": "stream",
     "text": [
      "Epoch 1/10\n",
      "2295/2295 [==============================] - 538s 230ms/step - loss: 0.1094 - mean_absolute_percentage_error: 17279514.0000 - val_loss: 0.0098 - val_mean_absolute_percentage_error: 25781280.0000\n",
      "Epoch 2/10\n",
      "2295/2295 [==============================] - 526s 229ms/step - loss: 0.0030 - mean_absolute_percentage_error: 379424.3125 - val_loss: 0.1098 - val_mean_absolute_percentage_error: 98489288.0000\n"
     ]
    },
    {
     "name": "stderr",
     "output_type": "stream",
     "text": [
      "\u001B[32m[I 2022-06-11 02:36:00,463]\u001B[0m Trial 69 pruned. Trial was pruned at epoch 1.\u001B[0m\n"
     ]
    },
    {
     "name": "stdout",
     "output_type": "stream",
     "text": [
      "Epoch 1/10\n",
      "1860/1860 [==============================] - 268s 142ms/step - loss: 0.1170 - mean_absolute_percentage_error: 22623086.0000 - val_loss: 0.0034 - val_mean_absolute_percentage_error: 6844111.5000\n",
      "Epoch 2/10\n",
      "1860/1860 [==============================] - 264s 142ms/step - loss: 0.0029 - mean_absolute_percentage_error: 375651.5000 - val_loss: 0.2056 - val_mean_absolute_percentage_error: 133856640.0000\n"
     ]
    },
    {
     "name": "stderr",
     "output_type": "stream",
     "text": [
      "\u001B[32m[I 2022-06-11 02:49:16,777]\u001B[0m Trial 70 pruned. Trial was pruned at epoch 1.\u001B[0m\n"
     ]
    },
    {
     "name": "stdout",
     "output_type": "stream",
     "text": [
      "Epoch 1/10\n",
      "2039/2039 [==============================] - 395s 191ms/step - loss: 0.1222 - mean_absolute_percentage_error: 19035500.0000 - val_loss: 0.0031 - val_mean_absolute_percentage_error: 4014083.7500\n",
      "Epoch 2/10\n",
      "2039/2039 [==============================] - 404s 198ms/step - loss: 0.0030 - mean_absolute_percentage_error: 385912.8750 - val_loss: 0.0035 - val_mean_absolute_percentage_error: 6826955.5000\n"
     ]
    },
    {
     "name": "stderr",
     "output_type": "stream",
     "text": [
      "\u001B[32m[I 2022-06-11 03:07:26,150]\u001B[0m Trial 71 pruned. Trial was pruned at epoch 1.\u001B[0m\n"
     ]
    },
    {
     "name": "stdout",
     "output_type": "stream",
     "text": [
      "Epoch 1/10\n",
      "1712/1712 [==============================] - 471s 272ms/step - loss: 0.0617 - mean_absolute_percentage_error: 29457908.0000 - val_loss: 0.0034 - val_mean_absolute_percentage_error: 4464991.0000\n",
      "Epoch 2/10\n",
      "1712/1712 [==============================] - 445s 260ms/step - loss: 0.0032 - mean_absolute_percentage_error: 606680.8125 - val_loss: 0.0036 - val_mean_absolute_percentage_error: 7988582.5000\n"
     ]
    },
    {
     "name": "stderr",
     "output_type": "stream",
     "text": [
      "\u001B[32m[I 2022-06-11 03:27:23,303]\u001B[0m Trial 72 pruned. Trial was pruned at epoch 1.\u001B[0m\n"
     ]
    },
    {
     "name": "stdout",
     "output_type": "stream",
     "text": [
      "Epoch 1/10\n",
      "2079/2079 [==============================] - 156s 74ms/step - loss: 0.1551 - mean_absolute_percentage_error: 27378676.0000 - val_loss: 0.0173 - val_mean_absolute_percentage_error: 6212935.0000\n",
      "Epoch 2/10\n",
      "2079/2079 [==============================] - 154s 74ms/step - loss: 0.0063 - mean_absolute_percentage_error: 1870058.2500 - val_loss: 0.0291 - val_mean_absolute_percentage_error: 16282030.0000\n"
     ]
    },
    {
     "name": "stderr",
     "output_type": "stream",
     "text": [
      "\u001B[32m[I 2022-06-11 03:36:55,701]\u001B[0m Trial 73 pruned. Trial was pruned at epoch 1.\u001B[0m\n"
     ]
    },
    {
     "name": "stdout",
     "output_type": "stream",
     "text": [
      "Epoch 1/10\n",
      "3262/3262 [==============================] - 881s 268ms/step - loss: 0.0352 - mean_absolute_percentage_error: 8236606.0000 - val_loss: 0.0030 - val_mean_absolute_percentage_error: 648512.4375\n",
      "Epoch 2/10\n",
      "3262/3262 [==============================] - 862s 264ms/step - loss: 0.0031 - mean_absolute_percentage_error: 844342.3125 - val_loss: 0.0030 - val_mean_absolute_percentage_error: 343768.2188\n",
      "Epoch 3/10\n",
      "3262/3262 [==============================] - 864s 265ms/step - loss: 0.0031 - mean_absolute_percentage_error: 835475.8125 - val_loss: 0.0030 - val_mean_absolute_percentage_error: 480289.8125\n",
      "Epoch 4/10\n",
      "3262/3262 [==============================] - 864s 265ms/step - loss: 0.0031 - mean_absolute_percentage_error: 839202.8750 - val_loss: 0.0030 - val_mean_absolute_percentage_error: 990624.8750\n",
      "Epoch 5/10\n",
      "3262/3262 [==============================] - 865s 265ms/step - loss: 0.0031 - mean_absolute_percentage_error: 833643.7500 - val_loss: 0.0031 - val_mean_absolute_percentage_error: 225055.4844\n"
     ]
    },
    {
     "name": "stderr",
     "output_type": "stream",
     "text": [
      "\u001B[32m[I 2022-06-11 04:54:06,938]\u001B[0m Trial 74 pruned. Trial was pruned at epoch 4.\u001B[0m\n"
     ]
    },
    {
     "name": "stdout",
     "output_type": "stream",
     "text": [
      "Epoch 1/10\n",
      "6583/6583 [==============================] - 1484s 225ms/step - loss: 0.0434 - mean_absolute_percentage_error: 12054048.0000 - val_loss: 0.0115 - val_mean_absolute_percentage_error: 9187975.0000\n",
      "Epoch 2/10\n",
      "6583/6583 [==============================] - 1468s 223ms/step - loss: 0.0071 - mean_absolute_percentage_error: 1735424.7500 - val_loss: 0.0055 - val_mean_absolute_percentage_error: 8997246.0000\n"
     ]
    },
    {
     "name": "stderr",
     "output_type": "stream",
     "text": [
      "\u001B[32m[I 2022-06-11 05:48:35,203]\u001B[0m Trial 75 pruned. Trial was pruned at epoch 1.\u001B[0m\n"
     ]
    },
    {
     "name": "stdout",
     "output_type": "stream",
     "text": [
      "Epoch 1/10\n",
      "4186/4186 [==============================] - 1022s 243ms/step - loss: 0.1090 - mean_absolute_percentage_error: 52377272.0000 - val_loss: 0.0030 - val_mean_absolute_percentage_error: 580675.0625\n",
      "Epoch 2/10\n",
      "4186/4186 [==============================] - 1007s 241ms/step - loss: 0.0391 - mean_absolute_percentage_error: 30751726.0000 - val_loss: 0.0030 - val_mean_absolute_percentage_error: 775762.0625\n",
      "Epoch 3/10\n",
      "4186/4186 [==============================] - 1017s 243ms/step - loss: 0.0236 - mean_absolute_percentage_error: 23006054.0000 - val_loss: 0.0030 - val_mean_absolute_percentage_error: 228294.0000\n",
      "Epoch 4/10\n",
      "4186/4186 [==============================] - 1013s 242ms/step - loss: 0.0167 - mean_absolute_percentage_error: 18675626.0000 - val_loss: 0.0030 - val_mean_absolute_percentage_error: 420697.9375\n",
      "Epoch 5/10\n",
      "4186/4186 [==============================] - 1011s 242ms/step - loss: 0.0128 - mean_absolute_percentage_error: 15759498.0000 - val_loss: 0.0030 - val_mean_absolute_percentage_error: 186489.5625\n"
     ]
    },
    {
     "name": "stderr",
     "output_type": "stream",
     "text": [
      "\u001B[32m[I 2022-06-11 07:18:42,354]\u001B[0m Trial 76 pruned. Trial was pruned at epoch 4.\u001B[0m\n"
     ]
    },
    {
     "name": "stdout",
     "output_type": "stream",
     "text": [
      "Epoch 1/10\n",
      "5984/5984 [==============================] - 2938s 488ms/step - loss: 0.0139 - mean_absolute_percentage_error: 13480805.0000 - val_loss: 0.0048 - val_mean_absolute_percentage_error: 3961254.0000\n",
      "Epoch 2/10\n",
      "5984/5984 [==============================] - 2921s 488ms/step - loss: 0.0061 - mean_absolute_percentage_error: 7843779.5000 - val_loss: 0.0035 - val_mean_absolute_percentage_error: 3239025.0000\n"
     ]
    },
    {
     "name": "stderr",
     "output_type": "stream",
     "text": [
      "\u001B[32m[I 2022-06-11 09:03:50,007]\u001B[0m Trial 77 pruned. Trial was pruned at epoch 1.\u001B[0m\n"
     ]
    },
    {
     "name": "stdout",
     "output_type": "stream",
     "text": [
      "Epoch 1/10\n",
      "2751/2751 [==============================] - 495s 177ms/step - loss: 0.0644 - mean_absolute_percentage_error: 14688581.0000 - val_loss: 0.0033 - val_mean_absolute_percentage_error: 1002182.0000\n",
      "Epoch 2/10\n",
      "2751/2751 [==============================] - 488s 177ms/step - loss: 0.0031 - mean_absolute_percentage_error: 691031.0625 - val_loss: 0.0032 - val_mean_absolute_percentage_error: 1077751.5000\n"
     ]
    },
    {
     "name": "stderr",
     "output_type": "stream",
     "text": [
      "\u001B[32m[I 2022-06-11 09:26:15,338]\u001B[0m Trial 78 pruned. Trial was pruned at epoch 1.\u001B[0m\n"
     ]
    },
    {
     "name": "stdout",
     "output_type": "stream",
     "text": [
      "Epoch 1/10\n",
      "4230/4230 [==============================] - 1038s 244ms/step - loss: 0.1067 - mean_absolute_percentage_error: 52823380.0000 - val_loss: 0.0032 - val_mean_absolute_percentage_error: 539993.0000\n",
      "Epoch 2/10\n",
      "4230/4230 [==============================] - 1027s 243ms/step - loss: 0.0376 - mean_absolute_percentage_error: 30720894.0000 - val_loss: 0.0031 - val_mean_absolute_percentage_error: 606418.9375\n"
     ]
    },
    {
     "name": "stderr",
     "output_type": "stream",
     "text": [
      "\u001B[32m[I 2022-06-11 10:06:33,464]\u001B[0m Trial 79 pruned. Trial was pruned at epoch 1.\u001B[0m\n"
     ]
    },
    {
     "name": "stdout",
     "output_type": "stream",
     "text": [
      "Epoch 1/10\n",
      "2295/2295 [==============================] - 538s 230ms/step - loss: 0.1094 - mean_absolute_percentage_error: 17279514.0000 - val_loss: 0.0098 - val_mean_absolute_percentage_error: 25781280.0000\n",
      "Epoch 2/10\n",
      "2295/2295 [==============================] - 526s 229ms/step - loss: 0.0030 - mean_absolute_percentage_error: 379424.3125 - val_loss: 0.1098 - val_mean_absolute_percentage_error: 98489288.0000\n"
     ]
    },
    {
     "name": "stderr",
     "output_type": "stream",
     "text": [
      "\u001B[32m[I 2022-06-11 02:36:00,463]\u001B[0m Trial 80 pruned. Trial was pruned at epoch 1.\u001B[0m\n"
     ]
    },
    {
     "name": "stdout",
     "output_type": "stream",
     "text": [
      "Epoch 1/10\n",
      "1860/1860 [==============================] - 268s 142ms/step - loss: 0.1170 - mean_absolute_percentage_error: 22623086.0000 - val_loss: 0.0034 - val_mean_absolute_percentage_error: 6844111.5000\n",
      "Epoch 2/10\n",
      "1860/1860 [==============================] - 264s 142ms/step - loss: 0.0029 - mean_absolute_percentage_error: 375651.5000 - val_loss: 0.2056 - val_mean_absolute_percentage_error: 133856640.0000\n"
     ]
    },
    {
     "name": "stderr",
     "output_type": "stream",
     "text": [
      "\u001B[32m[I 2022-06-11 02:49:16,777]\u001B[0m Trial 81 pruned. Trial was pruned at epoch 1.\u001B[0m\n"
     ]
    },
    {
     "name": "stdout",
     "output_type": "stream",
     "text": [
      "Epoch 1/10\n",
      "2039/2039 [==============================] - 395s 191ms/step - loss: 0.1222 - mean_absolute_percentage_error: 19035500.0000 - val_loss: 0.0031 - val_mean_absolute_percentage_error: 4014083.7500\n",
      "Epoch 2/10\n",
      "2039/2039 [==============================] - 404s 198ms/step - loss: 0.0030 - mean_absolute_percentage_error: 385912.8750 - val_loss: 0.0035 - val_mean_absolute_percentage_error: 6826955.5000\n"
     ]
    },
    {
     "name": "stderr",
     "output_type": "stream",
     "text": [
      "\u001B[32m[I 2022-06-11 03:07:26,150]\u001B[0m Trial 82 pruned. Trial was pruned at epoch 1.\u001B[0m\n"
     ]
    },
    {
     "name": "stdout",
     "output_type": "stream",
     "text": [
      "Epoch 1/10\n",
      "1712/1712 [==============================] - 471s 272ms/step - loss: 0.0617 - mean_absolute_percentage_error: 29457908.0000 - val_loss: 0.0034 - val_mean_absolute_percentage_error: 4464991.0000\n",
      "Epoch 2/10\n",
      "1712/1712 [==============================] - 445s 260ms/step - loss: 0.0032 - mean_absolute_percentage_error: 606680.8125 - val_loss: 0.0036 - val_mean_absolute_percentage_error: 7988582.5000\n"
     ]
    },
    {
     "name": "stderr",
     "output_type": "stream",
     "text": [
      "\u001B[32m[I 2022-06-11 03:27:23,303]\u001B[0m Trial 83 pruned. Trial was pruned at epoch 1.\u001B[0m\n"
     ]
    },
    {
     "name": "stdout",
     "output_type": "stream",
     "text": [
      "Epoch 1/10\n",
      "2079/2079 [==============================] - 156s 74ms/step - loss: 0.1551 - mean_absolute_percentage_error: 27378676.0000 - val_loss: 0.0173 - val_mean_absolute_percentage_error: 6212935.0000\n",
      "Epoch 2/10\n",
      "2079/2079 [==============================] - 154s 74ms/step - loss: 0.0063 - mean_absolute_percentage_error: 1870058.2500 - val_loss: 0.0291 - val_mean_absolute_percentage_error: 16282030.0000\n"
     ]
    },
    {
     "name": "stderr",
     "output_type": "stream",
     "text": [
      "\u001B[32m[I 2022-06-11 03:36:55,701]\u001B[0m Trial 84 pruned. Trial was pruned at epoch 1.\u001B[0m\n"
     ]
    },
    {
     "name": "stdout",
     "output_type": "stream",
     "text": [
      "Epoch 1/10\n",
      "3262/3262 [==============================] - 881s 268ms/step - loss: 0.0352 - mean_absolute_percentage_error: 8236606.0000 - val_loss: 0.0030 - val_mean_absolute_percentage_error: 648512.4375\n",
      "Epoch 2/10\n",
      "3262/3262 [==============================] - 862s 264ms/step - loss: 0.0031 - mean_absolute_percentage_error: 844342.3125 - val_loss: 0.0030 - val_mean_absolute_percentage_error: 343768.2188\n",
      "Epoch 3/10\n",
      "3262/3262 [==============================] - 864s 265ms/step - loss: 0.0031 - mean_absolute_percentage_error: 835475.8125 - val_loss: 0.0030 - val_mean_absolute_percentage_error: 480289.8125\n",
      "Epoch 4/10\n",
      "3262/3262 [==============================] - 864s 265ms/step - loss: 0.0031 - mean_absolute_percentage_error: 839202.8750 - val_loss: 0.0030 - val_mean_absolute_percentage_error: 990624.8750\n",
      "Epoch 5/10\n",
      "3262/3262 [==============================] - 865s 265ms/step - loss: 0.0031 - mean_absolute_percentage_error: 833643.7500 - val_loss: 0.0031 - val_mean_absolute_percentage_error: 225055.4844\n"
     ]
    },
    {
     "name": "stderr",
     "output_type": "stream",
     "text": [
      "\u001B[32m[I 2022-06-11 04:54:06,938]\u001B[0m Trial 85 pruned. Trial was pruned at epoch 4.\u001B[0m\n"
     ]
    },
    {
     "name": "stdout",
     "output_type": "stream",
     "text": [
      "Epoch 1/10\n",
      "6583/6583 [==============================] - 1484s 225ms/step - loss: 0.0434 - mean_absolute_percentage_error: 12054048.0000 - val_loss: 0.0115 - val_mean_absolute_percentage_error: 9187975.0000\n",
      "Epoch 2/10\n",
      "6583/6583 [==============================] - 1468s 223ms/step - loss: 0.0071 - mean_absolute_percentage_error: 1735424.7500 - val_loss: 0.0055 - val_mean_absolute_percentage_error: 8997246.0000\n"
     ]
    },
    {
     "name": "stderr",
     "output_type": "stream",
     "text": [
      "\u001B[32m[I 2022-06-11 05:48:35,203]\u001B[0m Trial 86 pruned. Trial was pruned at epoch 1.\u001B[0m\n"
     ]
    },
    {
     "name": "stdout",
     "output_type": "stream",
     "text": [
      "Epoch 1/10\n",
      "4186/4186 [==============================] - 1022s 243ms/step - loss: 0.1090 - mean_absolute_percentage_error: 52377272.0000 - val_loss: 0.0030 - val_mean_absolute_percentage_error: 580675.0625\n",
      "Epoch 2/10\n",
      "4186/4186 [==============================] - 1007s 241ms/step - loss: 0.0391 - mean_absolute_percentage_error: 30751726.0000 - val_loss: 0.0030 - val_mean_absolute_percentage_error: 775762.0625\n",
      "Epoch 3/10\n",
      "4186/4186 [==============================] - 1017s 243ms/step - loss: 0.0236 - mean_absolute_percentage_error: 23006054.0000 - val_loss: 0.0030 - val_mean_absolute_percentage_error: 228294.0000\n",
      "Epoch 4/10\n",
      "4186/4186 [==============================] - 1013s 242ms/step - loss: 0.0167 - mean_absolute_percentage_error: 18675626.0000 - val_loss: 0.0030 - val_mean_absolute_percentage_error: 420697.9375\n",
      "Epoch 5/10\n",
      "4186/4186 [==============================] - 1011s 242ms/step - loss: 0.0128 - mean_absolute_percentage_error: 15759498.0000 - val_loss: 0.0030 - val_mean_absolute_percentage_error: 186489.5625\n"
     ]
    },
    {
     "name": "stderr",
     "output_type": "stream",
     "text": [
      "\u001B[32m[I 2022-06-11 07:18:42,354]\u001B[0m Trial 87 pruned. Trial was pruned at epoch 4.\u001B[0m\n"
     ]
    },
    {
     "name": "stdout",
     "output_type": "stream",
     "text": [
      "Epoch 1/10\n",
      "5984/5984 [==============================] - 2938s 488ms/step - loss: 0.0139 - mean_absolute_percentage_error: 13480805.0000 - val_loss: 0.0048 - val_mean_absolute_percentage_error: 3961254.0000\n",
      "Epoch 2/10\n",
      "5984/5984 [==============================] - 2921s 488ms/step - loss: 0.0061 - mean_absolute_percentage_error: 7843779.5000 - val_loss: 0.0035 - val_mean_absolute_percentage_error: 3239025.0000\n"
     ]
    },
    {
     "name": "stderr",
     "output_type": "stream",
     "text": [
      "\u001B[32m[I 2022-06-11 09:03:50,007]\u001B[0m Trial 88 pruned. Trial was pruned at epoch 1.\u001B[0m\n"
     ]
    },
    {
     "name": "stdout",
     "output_type": "stream",
     "text": [
      "Epoch 1/10\n",
      "2751/2751 [==============================] - 495s 177ms/step - loss: 0.0644 - mean_absolute_percentage_error: 14688581.0000 - val_loss: 0.0033 - val_mean_absolute_percentage_error: 1002182.0000\n",
      "Epoch 2/10\n",
      "2751/2751 [==============================] - 488s 177ms/step - loss: 0.0031 - mean_absolute_percentage_error: 691031.0625 - val_loss: 0.0032 - val_mean_absolute_percentage_error: 1077751.5000\n"
     ]
    },
    {
     "name": "stderr",
     "output_type": "stream",
     "text": [
      "\u001B[32m[I 2022-06-11 09:26:15,338]\u001B[0m Trial 89 pruned. Trial was pruned at epoch 1.\u001B[0m\n"
     ]
    },
    {
     "name": "stdout",
     "output_type": "stream",
     "text": [
      "Epoch 1/10\n",
      "4230/4230 [==============================] - 1038s 244ms/step - loss: 0.1067 - mean_absolute_percentage_error: 52823380.0000 - val_loss: 0.0032 - val_mean_absolute_percentage_error: 539993.0000\n",
      "Epoch 2/10\n",
      "4230/4230 [==============================] - 1027s 243ms/step - loss: 0.0376 - mean_absolute_percentage_error: 30720894.0000 - val_loss: 0.0031 - val_mean_absolute_percentage_error: 606418.9375\n"
     ]
    },
    {
     "name": "stderr",
     "output_type": "stream",
     "text": [
      "\u001B[32m[I 2022-06-11 10:06:33,464]\u001B[0m Trial 90 pruned. Trial was pruned at epoch 1.\u001B[0m\n"
     ]
    },
    {
     "name": "stdout",
     "output_type": "stream",
     "text": [
      "Epoch 1/10\n",
      "2295/2295 [==============================] - 538s 230ms/step - loss: 0.1094 - mean_absolute_percentage_error: 17279514.0000 - val_loss: 0.0098 - val_mean_absolute_percentage_error: 25781280.0000\n",
      "Epoch 2/10\n",
      "2295/2295 [==============================] - 526s 229ms/step - loss: 0.0030 - mean_absolute_percentage_error: 379424.3125 - val_loss: 0.1098 - val_mean_absolute_percentage_error: 98489288.0000\n"
     ]
    },
    {
     "name": "stderr",
     "output_type": "stream",
     "text": [
      "\u001B[32m[I 2022-06-11 02:36:00,463]\u001B[0m Trial 91 pruned. Trial was pruned at epoch 1.\u001B[0m\n"
     ]
    },
    {
     "name": "stdout",
     "output_type": "stream",
     "text": [
      "Epoch 1/10\n",
      "1860/1860 [==============================] - 268s 142ms/step - loss: 0.1170 - mean_absolute_percentage_error: 22623086.0000 - val_loss: 0.0034 - val_mean_absolute_percentage_error: 6844111.5000\n",
      "Epoch 2/10\n",
      "1860/1860 [==============================] - 264s 142ms/step - loss: 0.0029 - mean_absolute_percentage_error: 375651.5000 - val_loss: 0.2056 - val_mean_absolute_percentage_error: 133856640.0000\n"
     ]
    },
    {
     "name": "stderr",
     "output_type": "stream",
     "text": [
      "\u001B[32m[I 2022-06-11 02:49:16,777]\u001B[0m Trial 92 pruned. Trial was pruned at epoch 1.\u001B[0m\n"
     ]
    },
    {
     "name": "stdout",
     "output_type": "stream",
     "text": [
      "Epoch 1/10\n",
      "2039/2039 [==============================] - 395s 191ms/step - loss: 0.1222 - mean_absolute_percentage_error: 19035500.0000 - val_loss: 0.0031 - val_mean_absolute_percentage_error: 4014083.7500\n",
      "Epoch 2/10\n",
      "2039/2039 [==============================] - 404s 198ms/step - loss: 0.0030 - mean_absolute_percentage_error: 385912.8750 - val_loss: 0.0035 - val_mean_absolute_percentage_error: 6826955.5000\n"
     ]
    },
    {
     "name": "stderr",
     "output_type": "stream",
     "text": [
      "\u001B[32m[I 2022-06-11 03:07:26,150]\u001B[0m Trial 93 pruned. Trial was pruned at epoch 1.\u001B[0m\n"
     ]
    },
    {
     "name": "stdout",
     "output_type": "stream",
     "text": [
      "Epoch 1/10\n",
      "1712/1712 [==============================] - 471s 272ms/step - loss: 0.0617 - mean_absolute_percentage_error: 29457908.0000 - val_loss: 0.0034 - val_mean_absolute_percentage_error: 4464991.0000\n",
      "Epoch 2/10\n",
      "1712/1712 [==============================] - 445s 260ms/step - loss: 0.0032 - mean_absolute_percentage_error: 606680.8125 - val_loss: 0.0036 - val_mean_absolute_percentage_error: 7988582.5000\n"
     ]
    },
    {
     "name": "stderr",
     "output_type": "stream",
     "text": [
      "\u001B[32m[I 2022-06-11 03:27:23,303]\u001B[0m Trial 94 pruned. Trial was pruned at epoch 1.\u001B[0m\n"
     ]
    },
    {
     "name": "stdout",
     "output_type": "stream",
     "text": [
      "Epoch 1/10\n",
      "2079/2079 [==============================] - 156s 74ms/step - loss: 0.1551 - mean_absolute_percentage_error: 27378676.0000 - val_loss: 0.0173 - val_mean_absolute_percentage_error: 6212935.0000\n",
      "Epoch 2/10\n",
      "2079/2079 [==============================] - 154s 74ms/step - loss: 0.0063 - mean_absolute_percentage_error: 1870058.2500 - val_loss: 0.0291 - val_mean_absolute_percentage_error: 16282030.0000\n"
     ]
    },
    {
     "name": "stderr",
     "output_type": "stream",
     "text": [
      "\u001B[32m[I 2022-06-11 03:36:55,701]\u001B[0m Trial 95 pruned. Trial was pruned at epoch 1.\u001B[0m\n"
     ]
    },
    {
     "name": "stdout",
     "output_type": "stream",
     "text": [
      "Epoch 1/10\n",
      "3262/3262 [==============================] - 881s 268ms/step - loss: 0.0352 - mean_absolute_percentage_error: 8236606.0000 - val_loss: 0.0030 - val_mean_absolute_percentage_error: 648512.4375\n",
      "Epoch 2/10\n",
      "3262/3262 [==============================] - 862s 264ms/step - loss: 0.0031 - mean_absolute_percentage_error: 844342.3125 - val_loss: 0.0030 - val_mean_absolute_percentage_error: 343768.2188\n",
      "Epoch 3/10\n",
      "3262/3262 [==============================] - 864s 265ms/step - loss: 0.0031 - mean_absolute_percentage_error: 835475.8125 - val_loss: 0.0030 - val_mean_absolute_percentage_error: 480289.8125\n",
      "Epoch 4/10\n",
      "3262/3262 [==============================] - 864s 265ms/step - loss: 0.0031 - mean_absolute_percentage_error: 839202.8750 - val_loss: 0.0030 - val_mean_absolute_percentage_error: 990624.8750\n",
      "Epoch 5/10\n",
      "3262/3262 [==============================] - 865s 265ms/step - loss: 0.0031 - mean_absolute_percentage_error: 833643.7500 - val_loss: 0.0031 - val_mean_absolute_percentage_error: 225055.4844\n"
     ]
    },
    {
     "name": "stderr",
     "output_type": "stream",
     "text": [
      "\u001B[32m[I 2022-06-11 04:54:06,938]\u001B[0m Trial 96 pruned. Trial was pruned at epoch 4.\u001B[0m\n"
     ]
    },
    {
     "name": "stdout",
     "output_type": "stream",
     "text": [
      "Epoch 1/10\n",
      "6583/6583 [==============================] - 1484s 225ms/step - loss: 0.0434 - mean_absolute_percentage_error: 12054048.0000 - val_loss: 0.0115 - val_mean_absolute_percentage_error: 9187975.0000\n",
      "Epoch 2/10\n",
      "6583/6583 [==============================] - 1468s 223ms/step - loss: 0.0071 - mean_absolute_percentage_error: 1735424.7500 - val_loss: 0.0055 - val_mean_absolute_percentage_error: 8997246.0000\n"
     ]
    },
    {
     "name": "stderr",
     "output_type": "stream",
     "text": [
      "\u001B[32m[I 2022-06-11 05:48:35,203]\u001B[0m Trial 97 pruned. Trial was pruned at epoch 1.\u001B[0m\n"
     ]
    },
    {
     "name": "stdout",
     "output_type": "stream",
     "text": [
      "Epoch 1/10\n",
      "4186/4186 [==============================] - 1022s 243ms/step - loss: 0.1090 - mean_absolute_percentage_error: 52377272.0000 - val_loss: 0.0030 - val_mean_absolute_percentage_error: 580675.0625\n",
      "Epoch 2/10\n",
      "4186/4186 [==============================] - 1007s 241ms/step - loss: 0.0391 - mean_absolute_percentage_error: 30751726.0000 - val_loss: 0.0030 - val_mean_absolute_percentage_error: 775762.0625\n",
      "Epoch 3/10\n",
      "4186/4186 [==============================] - 1017s 243ms/step - loss: 0.0236 - mean_absolute_percentage_error: 23006054.0000 - val_loss: 0.0030 - val_mean_absolute_percentage_error: 228294.0000\n",
      "Epoch 4/10\n",
      "4186/4186 [==============================] - 1013s 242ms/step - loss: 0.0167 - mean_absolute_percentage_error: 18675626.0000 - val_loss: 0.0030 - val_mean_absolute_percentage_error: 420697.9375\n",
      "Epoch 5/10\n",
      "4186/4186 [==============================] - 1011s 242ms/step - loss: 0.0128 - mean_absolute_percentage_error: 15759498.0000 - val_loss: 0.0030 - val_mean_absolute_percentage_error: 186489.5625\n"
     ]
    },
    {
     "name": "stderr",
     "output_type": "stream",
     "text": [
      "\u001B[32m[I 2022-06-11 07:18:42,354]\u001B[0m Trial 98 pruned. Trial was pruned at epoch 4.\u001B[0m\n"
     ]
    },
    {
     "name": "stdout",
     "output_type": "stream",
     "text": [
      "Epoch 1/10\n",
      "5984/5984 [==============================] - 2938s 488ms/step - loss: 0.0139 - mean_absolute_percentage_error: 13480805.0000 - val_loss: 0.0048 - val_mean_absolute_percentage_error: 3961254.0000\n",
      "Epoch 2/10\n",
      "5984/5984 [==============================] - 2921s 488ms/step - loss: 0.0061 - mean_absolute_percentage_error: 7843779.5000 - val_loss: 0.0035 - val_mean_absolute_percentage_error: 3239025.0000\n"
     ]
    },
    {
     "name": "stderr",
     "output_type": "stream",
     "text": [
      "\u001B[32m[I 2022-06-11 09:03:50,007]\u001B[0m Trial 99 pruned. Trial was pruned at epoch 1.\u001B[0m\n"
     ]
    },
    {
     "name": "stdout",
     "output_type": "stream",
     "text": [
      "Epoch 1/10\n",
      "2751/2751 [==============================] - 495s 177ms/step - loss: 0.0644 - mean_absolute_percentage_error: 14688581.0000 - val_loss: 0.0033 - val_mean_absolute_percentage_error: 1002182.0000\n",
      "Epoch 2/10\n",
      "2751/2751 [==============================] - 488s 177ms/step - loss: 0.0031 - mean_absolute_percentage_error: 691031.0625 - val_loss: 0.0032 - val_mean_absolute_percentage_error: 1077751.5000\n"
     ]
    },
    {
     "name": "stderr",
     "output_type": "stream",
     "text": [
      "\u001B[32m[I 2022-06-11 09:26:15,338]\u001B[0m Trial 100 pruned. Trial was pruned at epoch 1.\u001B[0m\n"
     ]
    },
    {
     "name": "stdout",
     "output_type": "stream",
     "text": [
      "Study statistics:\n",
      "   Number of finished Trials:  100\n",
      "   Number of pruned Trials:  76\n",
      "   Number of complete Trials:  24\n",
      "Best Trial: \n",
      "  MSE:  0.09282874974024\n",
      "   Params: \n",
      "   sequence_length: 7\n",
      "   hidden_layers: 1\n",
      "   number_of_neurons: 91\n",
      "   dropout_rate: 0.080122423144556634\n",
      "   activation: sigmoid\n",
      "   normalize: False\n",
      "   dropout_rate: 0.013421302851038347\n",
      "   batch_size: 138\n",
      "   optimizer: SGD\n"
     ]
    }
   ],
   "source": [
    "make_rnn_study()"
   ],
   "metadata": {
    "pycharm": {
     "name": "#%%\n",
     "is_executing": true
    },
    "id": "nDDIGwYQRa09",
    "colab": {
     "base_uri": "https://localhost:8080/"
    },
    "outputId": "e9f3f404-c3e0-4601-b62d-5725c6e5c905"
   }
  },
  {
   "cell_type": "markdown",
   "source": [
    "## Transformer"
   ],
   "metadata": {
    "collapsed": false,
    "pycharm": {
     "name": "#%% md\n"
    },
    "id": "aCqaNct2Ra09"
   }
  },
  {
   "cell_type": "markdown",
   "source": [
    "### Transformer Model implementation"
   ],
   "metadata": {
    "collapsed": false,
    "pycharm": {
     "name": "#%% md\n"
    },
    "id": "fYhquuCiRa0-"
   }
  },
  {
   "cell_type": "code",
   "execution_count": 24,
   "outputs": [],
   "source": [
    "import math"
   ],
   "metadata": {
    "pycharm": {
     "name": "#%%\n"
    },
    "id": "bORCKb_zRa0-",
    "executionInfo": {
     "status": "ok",
     "timestamp": 1654593430064,
     "user_tz": -120,
     "elapsed": 326,
     "user": {
      "displayName": "ragor lp",
      "userId": "03519789758803718348"
     }
    }
   }
  },
  {
   "cell_type": "code",
   "execution_count": 25,
   "outputs": [],
   "source": [
    "class LearnablePositionEncoding(layers.Layer):\n",
    "    def __init__(self, d_model, dropout=0.1, max_len=10):\n",
    "        super(LearnablePositionEncoding, self).__init__()\n",
    "        self.dropout= layers.Dropout(dropout)\n",
    "        # self.encoding = tf.Variable(tf.random.uniform((max_len, 1, d_model), -0.2, 0.2), trainable=True)\n",
    "        self.encoding = tf.Variable(tf.random.uniform((max_len, d_model), -0.2, 0.2), trainable=True)\n",
    "\n",
    "    def call(self, inputs):\n",
    "        # print(f\"Pos_Encoding Matrix Shape: {self.encoding[:inputs.shape[0], :].shape}\")\n",
    "        x = inputs + self.encoding[:inputs.shape[0], :]\n",
    "        return self.dropout(x)"
   ],
   "metadata": {
    "pycharm": {
     "name": "#%%\n"
    },
    "id": "yoyzE7tCRa0_",
    "executionInfo": {
     "status": "ok",
     "timestamp": 1654593431604,
     "user_tz": -120,
     "elapsed": 10,
     "user": {
      "displayName": "ragor lp",
      "userId": "03519789758803718348"
     }
    }
   }
  },
  {
   "cell_type": "code",
   "execution_count": 26,
   "outputs": [],
   "source": [
    "class TransformerBatchNormEncoderLayer(layers.Layer):\n",
    "\n",
    "    def __init__(self, num_heads, d_model, dropout, dim_ff, activation):\n",
    "        super(TransformerBatchNormEncoderLayer, self).__init__()\n",
    "        self.self_attn = layers.MultiHeadAttention(num_heads, d_model, dropout=dropout)\n",
    "\n",
    "        self.linear1 = layers.Dense(dim_ff, activation=activation)\n",
    "        self.dropout = layers.Dropout(dropout)\n",
    "        self.linear2 = layers.Dense(d_model, activation='linear')\n",
    "\n",
    "        self.norm1 = layers.BatchNormalization(epsilon=1e-5)\n",
    "        self.norm2 = layers.BatchNormalization(epsilon=1e-5)\n",
    "        self.dropout1 = layers.Dropout(dropout)\n",
    "        self.dropout2 = layers.Dropout(dropout)\n",
    "\n",
    "    def call(self, value):\n",
    "        mha_out = self.self_attn(value, value)\n",
    "        drop1_out = self.dropout(mha_out)\n",
    "        norm1_out = self.norm1(drop1_out)\n",
    "        combined_1 = norm1_out + drop1_out\n",
    "\n",
    "        linear1_out = self.linear1(combined_1)\n",
    "        drop2_out = self.dropout1(linear1_out)\n",
    "        linear2_out = self.linear2(drop2_out)\n",
    "        drop3_out = self.dropout2(linear2_out)\n",
    "\n",
    "        norm2_out = self.norm2(drop3_out)\n",
    "\n",
    "        out = norm2_out + combined_1\n",
    "\n",
    "        return out"
   ],
   "metadata": {
    "pycharm": {
     "name": "#%%\n"
    },
    "id": "fa1muaFdRa1A",
    "executionInfo": {
     "status": "ok",
     "timestamp": 1654593433270,
     "user_tz": -120,
     "elapsed": 3,
     "user": {
      "displayName": "ragor lp",
      "userId": "03519789758803718348"
     }
    }
   }
  },
  {
   "cell_type": "code",
   "execution_count": 27,
   "outputs": [],
   "source": [
    "class TransformerBatchNormEncoderBlock(layers.Layer):\n",
    "\n",
    "    def __init__(self, num_layers, num_heads, d_model, dropout, dim_ff, activation):\n",
    "        super(TransformerBatchNormEncoderBlock, self).__init__()\n",
    "        self.model = keras.Sequential()\n",
    "\n",
    "        for _ in range(num_layers):\n",
    "            self.model.add(TransformerBatchNormEncoderLayer(num_heads, d_model, dropout, dim_ff, activation))\n",
    "\n",
    "    def call(self, inputs):\n",
    "        return self.model(inputs)"
   ],
   "metadata": {
    "pycharm": {
     "name": "#%%\n"
    },
    "id": "3fRuOqODRa1B",
    "executionInfo": {
     "status": "ok",
     "timestamp": 1654593434587,
     "user_tz": -120,
     "elapsed": 11,
     "user": {
      "displayName": "ragor lp",
      "userId": "03519789758803718348"
     }
    }
   }
  },
  {
   "cell_type": "code",
   "execution_count": 28,
   "outputs": [],
   "source": [
    "class TransformerEncoderRegressor(layers.Layer):\n",
    "\n",
    "    def __init__(self, max_len, d_model, n_heads, num_layers, dim_ff, num_classes, dropout=0.1, activation='relu', num_output_layers=1):\n",
    "        super(TransformerEncoderRegressor, self).__init__()\n",
    "\n",
    "        self.max_len = max_len\n",
    "        self.d_model = d_model\n",
    "        self.n_heads = n_heads\n",
    "        self.num_classes = num_classes\n",
    "\n",
    "        self.input_embedding = layers.Dense(d_model, activation='linear')\n",
    "        self.pos_encoding = LearnablePositionEncoding(d_model, dropout, max_len)\n",
    "\n",
    "        self.encoder = TransformerBatchNormEncoderBlock(num_layers, n_heads, d_model, dropout, dim_ff, activation)\n",
    "\n",
    "        self.dropout = layers.Dropout(dropout)\n",
    "\n",
    "        self.flatten_layer = layers.Flatten()\n",
    "        self.output_layers = self.build_output_module(d_model, num_output_layers, num_classes, dropout)\n",
    "\n",
    "\n",
    "    def build_output_module(self, d_model, num_output_layers, num_classes, dropout=0.1):\n",
    "        output = keras.Sequential()\n",
    "\n",
    "        i = 1\n",
    "        while i < num_output_layers:\n",
    "            output.add(layers.Dense(d_model, activation='relu'))\n",
    "            output.add(layers.Dropout(dropout))\n",
    "            i += 1\n",
    "\n",
    "        output.add(layers.Dense(num_classes, activation='linear'))\n",
    "\n",
    "        return output\n",
    "\n",
    "    def call(self, input):\n",
    "        x = self.input_embedding(input) * math.sqrt(self.d_model)\n",
    "\n",
    "        # print(f\"shape before pos_encoding: {x.shape}\") # okay\n",
    "        x = self.pos_encoding(x) # problem!\n",
    "\n",
    "        # print(f\"shape before transformer: {x.shape}\") # not okay\n",
    "        x = self.encoder(x)\n",
    "        x = self.dropout(x)\n",
    "\n",
    "        # x = x.reshape(x.shape[0], -1)\n",
    "        # print(f\"shape before reshape: {x.shape}\")\n",
    "        # x = tf.reshape(x, (x.shape[0], -1))\n",
    "        # x = tf.reshape(x, (x.shape[0], -1))\n",
    "        x = self.flatten_layer(x)\n",
    "\n",
    "\n",
    "        output = self.output_layers(x)\n",
    "\n",
    "        return output"
   ],
   "metadata": {
    "pycharm": {
     "name": "#%%\n"
    },
    "id": "dOOGYv1DRa1C",
    "executionInfo": {
     "status": "ok",
     "timestamp": 1654593435818,
     "user_tz": -120,
     "elapsed": 4,
     "user": {
      "displayName": "ragor lp",
      "userId": "03519789758803718348"
     }
    }
   }
  },
  {
   "cell_type": "code",
   "execution_count": 29,
   "outputs": [],
   "source": [
    "def get_model(input_shape, max_len, d_model, n_heads, num_layers, dim_ff, num_classes, dropout=0.1, activation='relu', num_output_layers=1):\n",
    "    input = layers.Input(shape=input_shape)\n",
    "\n",
    "    # print(f\"shape before regressor: {input.shape}\")\n",
    "    regressor = TransformerEncoderRegressor(max_len, d_model, n_heads, num_layers, dim_ff, num_classes, dropout, activation, num_output_layers)\n",
    "\n",
    "    x = regressor(input)\n",
    "\n",
    "    return keras.Model(input, x)"
   ],
   "metadata": {
    "pycharm": {
     "name": "#%%\n"
    },
    "id": "ldbAz6-xRa1D",
    "executionInfo": {
     "status": "ok",
     "timestamp": 1654593438600,
     "user_tz": -120,
     "elapsed": 315,
     "user": {
      "displayName": "ragor lp",
      "userId": "03519789758803718348"
     }
    }
   }
  },
  {
   "cell_type": "markdown",
   "source": [
    "### Transformer Study"
   ],
   "metadata": {
    "collapsed": false,
    "pycharm": {
     "name": "#%% md\n"
    },
    "id": "OaW02kE5Ra1D"
   }
  },
  {
   "cell_type": "code",
   "execution_count": 30,
   "outputs": [],
   "source": [
    "def create_transformer_dataset(trial):\n",
    "    N = trial.suggest_int('sequence_length', 8, 25)\n",
    "\n",
    "    train_samples, train_labels, test_samples, test_labels = get_preprocessed_data(N)\n",
    "\n",
    "    highest_index_train = int(train_samples.shape[0] * OPTIMIZATION_SPLIT)\n",
    "    highest_index_test = int(test_samples.shape[0] * OPTIMIZATION_SPLIT)\n",
    "\n",
    "    return train_samples[:highest_index_train], train_labels[:highest_index_train], test_samples[:highest_index_test], test_labels[:highest_index_test]"
   ],
   "metadata": {
    "pycharm": {
     "name": "#%%\n"
    },
    "id": "B18thSq1Ra1D",
    "executionInfo": {
     "status": "ok",
     "timestamp": 1654593443901,
     "user_tz": -120,
     "elapsed": 327,
     "user": {
      "displayName": "ragor lp",
      "userId": "03519789758803718348"
     }
    }
   }
  },
  {
   "cell_type": "code",
   "execution_count": 31,
   "outputs": [],
   "source": [
    "def create_transformer_model(trial, train_X):\n",
    "    number_of_inputs = train_X.shape[1]\n",
    "\n",
    "    internal_dimension = trial.suggest_int('model_dimension', 20, 256)\n",
    "    number_of_heads = trial.suggest_int('number_of_attention_heads', 2, 10)\n",
    "    number_of_encoder_layers = trial.suggest_int('encoder_layers', 1, 10)\n",
    "    number_of_ff_neurons = trial.suggest_int('ff_neurons', 5, 256)\n",
    "    number_of_ff_layers = trial.suggest_int('hidden_layers', 1, 10)\n",
    "    dropout_rate = trial.suggest_float('dropout_rate', 0., 0.5)\n",
    "    activation_function = trial.suggest_categorical('activation', ['relu', 'tanh', 'sigmoid'])\n",
    "\n",
    "    model = get_model([number_of_inputs, 9], number_of_inputs, internal_dimension, number_of_heads, number_of_encoder_layers, number_of_ff_neurons, 2, dropout_rate, activation_function, number_of_ff_layers)\n",
    "\n",
    "    return model"
   ],
   "metadata": {
    "pycharm": {
     "name": "#%%\n"
    },
    "id": "4iHYMEBHRa1E",
    "executionInfo": {
     "status": "ok",
     "timestamp": 1654593458979,
     "user_tz": -120,
     "elapsed": 334,
     "user": {
      "displayName": "ragor lp",
      "userId": "03519789758803718348"
     }
    }
   }
  },
  {
   "cell_type": "code",
   "execution_count": 32,
   "outputs": [],
   "source": [
    "def transformer_objective(trial):\n",
    "    train_X, train_Y, test_X, test_Y = create_transformer_dataset(trial)\n",
    "\n",
    "    model = create_transformer_model(trial, train_X)\n",
    "\n",
    "    monitor = 'val_loss'\n",
    "\n",
    "    callbacks = [\n",
    "        # keras.callbacks.EarlyStopping(patience=10),\n",
    "        optuna.integration.TFKerasPruningCallback(trial, monitor),\n",
    "    ]\n",
    "\n",
    "    # lr = trial.suggest_float('learning_rate', 1e-4, 1e-1, log=True)\n",
    "    optimizer = trial.suggest_categorical('optimizer', ['sgd', 'rmsprop', 'adagrad', 'adam'])\n",
    "    batch_size = trial.suggest_int('batch_size', 8, 200)\n",
    "\n",
    "    model.compile(optimizer=optimizer, loss=keras.losses.MeanSquaredError(), metrics=['mean_absolute_percentage_error'])\n",
    "\n",
    "    history = model.fit(train_X, train_Y, batch_size=batch_size, validation_split=0.1, verbose=1, epochs=EPOCHS, callbacks=callbacks)\n",
    "\n",
    "    eval_results = model.evaluate(test_X, test_Y, batch_size=batch_size)\n",
    "    print(f'Result: {float(eval_results[0])}')\n",
    "\n",
    "    return float(eval_results[0])"
   ],
   "metadata": {
    "pycharm": {
     "name": "#%%\n"
    },
    "id": "q3JpMN8pRa1E",
    "executionInfo": {
     "status": "ok",
     "timestamp": 1654593464522,
     "user_tz": -120,
     "elapsed": 321,
     "user": {
      "displayName": "ragor lp",
      "userId": "03519789758803718348"
     }
    }
   }
  },
  {
   "cell_type": "code",
   "execution_count": 33,
   "outputs": [],
   "source": [
    "def make_transformer_study():\n",
    "    study = optuna.create_study(direction='minimize', pruner=optuna.pruners.SuccessiveHalvingPruner(), sampler=optuna.samplers.TPESampler())\n",
    "\n",
    "    study.optimize(transformer_objective, n_trials=NUMBER_OF_TRIALS)\n",
    "\n",
    "    # show results\n",
    "    pruned_trials = study.get_trials(states=[optuna.trial.TrialState.PRUNED])\n",
    "    complete_trials = study.get_trials(states=[optuna.trial.TrialState.COMPLETE])\n",
    "\n",
    "    print('Study statistics:')\n",
    "    print('   Number of finished Trials: ', len(study.trials))\n",
    "    print('   Number of pruned Trials: ', len(pruned_trials))\n",
    "    print('   Number of complete Trials: ', len(complete_trials))\n",
    "\n",
    "    print('Best Trial: ')\n",
    "    trial = study.best_trial\n",
    "\n",
    "    print('  MSE: ', trial.value)\n",
    "\n",
    "    print('   Params: ')\n",
    "    for key, value in trial.params.items():\n",
    "        print('   {}: {}'.format(key, value))"
   ],
   "metadata": {
    "pycharm": {
     "name": "#%%\n"
    },
    "id": "YNNC-OBhRa1F",
    "executionInfo": {
     "status": "ok",
     "timestamp": 1654593467310,
     "user_tz": -120,
     "elapsed": 3,
     "user": {
      "displayName": "ragor lp",
      "userId": "03519789758803718348"
     }
    }
   }
  },
  {
   "cell_type": "code",
   "execution_count": null,
   "outputs": [],
   "source": [
    "make_transformer_study()"
   ],
   "metadata": {
    "pycharm": {
     "name": "#%%\n",
     "is_executing": true
    },
    "id": "Xpnv75OYRa1F",
    "colab": {
     "base_uri": "https://localhost:8080/"
    },
    "outputId": "e8cc514f-d72f-4771-a19e-606132885afb"
   }
  },
  {
   "cell_type": "code",
   "execution_count": 36,
   "outputs": [
    {
     "name": "stderr",
     "output_type": "stream",
     "text": [
      "\u001B[32m[I 2022-06-12 20:45:36,249]\u001B[0m A new study created in memory with name: no-name-e95e3cda-dbb1-4b48-9686-bc3193ac48f1\u001B[0m\n"
     ]
    },
    {
     "name": "stdout",
     "output_type": "stream",
     "text": [
      "Epoch 1/10\n",
      "2503/2503 [==============================] - 194s 74ms/step - loss: 0.0465 - mean_absolute_percentage_error: 23756938.0000 - val_loss: 0.0031 - val_mean_absolute_percentage_error: 1547225.1250\n",
      "Epoch 2/10\n",
      "2503/2503 [==============================] - 184s 73ms/step - loss: 0.0142 - mean_absolute_percentage_error: 12437446.0000 - val_loss: 0.0031 - val_mean_absolute_percentage_error: 1312282.3750\n",
      "Epoch 3/10\n",
      "2503/2503 [==============================] - 185s 74ms/step - loss: 0.0097 - mean_absolute_percentage_error: 9418482.0000 - val_loss: 0.0030 - val_mean_absolute_percentage_error: 1533887.8750\n",
      "Epoch 4/10\n",
      "2503/2503 [==============================] - 185s 74ms/step - loss: 0.0077 - mean_absolute_percentage_error: 7765007.0000 - val_loss: 0.0030 - val_mean_absolute_percentage_error: 1332687.7500\n",
      "Epoch 5/10\n",
      "2503/2503 [==============================] - 189s 76ms/step - loss: 0.0065 - mean_absolute_percentage_error: 6604262.5000 - val_loss: 0.0030 - val_mean_absolute_percentage_error: 1035454.6875\n",
      "Epoch 6/10\n",
      "2503/2503 [==============================] - 186s 74ms/step - loss: 0.0058 - mean_absolute_percentage_error: 5705765.5000 - val_loss: 0.0030 - val_mean_absolute_percentage_error: 663905.5625\n",
      "Epoch 7/10\n",
      "2503/2503 [==============================] - 186s 74ms/step - loss: 0.0052 - mean_absolute_percentage_error: 5092234.5000 - val_loss: 0.0030 - val_mean_absolute_percentage_error: 358365.0938\n",
      "Epoch 8/10\n",
      "2503/2503 [==============================] - 186s 74ms/step - loss: 0.0049 - mean_absolute_percentage_error: 4652288.0000 - val_loss: 0.0030 - val_mean_absolute_percentage_error: 269607.5625\n",
      "Epoch 9/10\n",
      "2503/2503 [==============================] - 187s 75ms/step - loss: 0.0045 - mean_absolute_percentage_error: 4193122.5000 - val_loss: 0.0030 - val_mean_absolute_percentage_error: 335204.6875\n",
      "Epoch 10/10\n",
      "2503/2503 [==============================] - 187s 75ms/step - loss: 0.0044 - mean_absolute_percentage_error: 3870429.2500 - val_loss: 0.0030 - val_mean_absolute_percentage_error: 367044.6562\n",
      "624/624 [==============================] - 18s 29ms/step - loss: 0.0029 - mean_absolute_percentage_error: 431293.0000\n",
      "Result: 0.002883722772821784\n"
     ]
    },
    {
     "name": "stderr",
     "output_type": "stream",
     "text": [
      "\u001B[32m[I 2022-06-12 21:19:34,452]\u001B[0m Trial 0 finished with value: 0.002883722772821784 and parameters: {'sequence_length': 9, 'model_dimension': 65, 'number_of_attention_heads': 3, 'encoder_layers': 7, 'ff_neurons': 61, 'hidden_layers': 6, 'dropout_rate': 0.1403716054129206, 'activation': 'relu', 'optimizer': 'adagrad', 'batch_size': 133}. Best is trial 0 with value: 0.002883722772821784.\u001B[0m\n"
     ]
    },
    {
     "name": "stdout",
     "output_type": "stream",
     "text": [
      "Epoch 1/10\n",
      "28026/28026 [==============================] - 1326s 47ms/step - loss: nan - mean_absolute_percentage_error: nan - val_loss: nan - val_mean_absolute_percentage_error: nan\n",
      "Epoch 2/10\n",
      "28025/28026 [============================>.] - ETA: 0s - loss: nan - mean_absolute_percentage_error: nan"
     ]
    },
    {
     "name": "stderr",
     "output_type": "stream",
     "text": [
      "\u001B[32m[I 2022-06-12 22:06:45,116]\u001B[0m Trial 1 pruned. Trial was pruned at epoch 1.\u001B[0m\n"
     ]
    },
    {
     "name": "stdout",
     "output_type": "stream",
     "text": [
      "Epoch 1/10\n",
      "3121/3121 [==============================] - 82s 26ms/step - loss: 0.3353 - mean_absolute_percentage_error: 5072461.0000 - val_loss: 0.0157 - val_mean_absolute_percentage_error: 610077.0000\n",
      "Epoch 2/10\n",
      "3121/3121 [==============================] - 79s 25ms/step - loss: 0.0105 - mean_absolute_percentage_error: 224876.3750 - val_loss: 0.0030 - val_mean_absolute_percentage_error: 5619.5005\n",
      "Epoch 3/10\n",
      "3121/3121 [==============================] - 79s 25ms/step - loss: 0.0145 - mean_absolute_percentage_error: 241506.9844 - val_loss: 0.0030 - val_mean_absolute_percentage_error: 42291.8750\n",
      "Epoch 4/10\n",
      "3121/3121 [==============================] - 79s 25ms/step - loss: 0.0243 - mean_absolute_percentage_error: 191272.5469 - val_loss: 0.0030 - val_mean_absolute_percentage_error: 36806.3750\n",
      "Epoch 5/10\n",
      "3121/3121 [==============================] - 79s 25ms/step - loss: 0.0029 - mean_absolute_percentage_error: 189308.8281 - val_loss: 0.0030 - val_mean_absolute_percentage_error: 813694.9375\n",
      "Epoch 6/10\n",
      "3121/3121 [==============================] - 80s 25ms/step - loss: 0.0031 - mean_absolute_percentage_error: 193780.7656 - val_loss: 0.0030 - val_mean_absolute_percentage_error: 368577.5000\n",
      "Epoch 7/10\n",
      "3121/3121 [==============================] - 79s 25ms/step - loss: 0.0029 - mean_absolute_percentage_error: 192366.6562 - val_loss: 0.0030 - val_mean_absolute_percentage_error: 372058.5625\n",
      "Epoch 8/10\n",
      "3121/3121 [==============================] - 80s 26ms/step - loss: 0.0029 - mean_absolute_percentage_error: 183824.7188 - val_loss: 0.0030 - val_mean_absolute_percentage_error: 83178.4375\n",
      "Epoch 9/10\n",
      "3121/3121 [==============================] - 80s 26ms/step - loss: 0.0031 - mean_absolute_percentage_error: 195180.2344 - val_loss: 0.0030 - val_mean_absolute_percentage_error: 11670.8896\n",
      "Epoch 10/10\n",
      "3121/3121 [==============================] - 80s 26ms/step - loss: 0.0034 - mean_absolute_percentage_error: 183941.8438 - val_loss: 0.0030 - val_mean_absolute_percentage_error: 12924.8555\n",
      "778/778 [==============================] - 7s 9ms/step - loss: 0.0029 - mean_absolute_percentage_error: 14369.9824\n",
      "Result: 0.0028894548304378986\n"
     ]
    },
    {
     "name": "stderr",
     "output_type": "stream",
     "text": [
      "\u001B[32m[I 2022-06-12 22:22:34,511]\u001B[0m Trial 2 finished with value: 0.0028894548304378986 and parameters: {'sequence_length': 8, 'model_dimension': 105, 'number_of_attention_heads': 7, 'encoder_layers': 1, 'ff_neurons': 78, 'hidden_layers': 4, 'dropout_rate': 0.23690550476257832, 'activation': 'tanh', 'optimizer': 'rmsprop', 'batch_size': 106}. Best is trial 0 with value: 0.002883722772821784.\u001B[0m\n"
     ]
    },
    {
     "name": "stdout",
     "output_type": "stream",
     "text": [
      "Epoch 1/10\n",
      "3793/3793 [==============================] - 576s 150ms/step - loss: 7687384334336.0000 - mean_absolute_percentage_error: 159088625319936.0000 - val_loss: 324412288.0000 - val_mean_absolute_percentage_error: 1435836481536.0000\n",
      "Epoch 2/10\n",
      "3793/3793 [==============================] - ETA: 0s - loss: nan - mean_absolute_percentage_error: nan"
     ]
    },
    {
     "name": "stderr",
     "output_type": "stream",
     "text": [
      "\u001B[32m[I 2022-06-12 22:44:16,415]\u001B[0m Trial 3 pruned. Trial was pruned at epoch 1.\u001B[0m\n"
     ]
    },
    {
     "name": "stdout",
     "output_type": "stream",
     "text": [
      "Epoch 1/10\n",
      "5773/5773 [==============================] - 86s 15ms/step - loss: 0.1518 - mean_absolute_percentage_error: 32769642.0000 - val_loss: 0.0324 - val_mean_absolute_percentage_error: 12171616.0000\n",
      "Epoch 2/10\n",
      "5770/5773 [============================>.] - ETA: 0s - loss: 0.0441 - mean_absolute_percentage_error: 21164634.0000"
     ]
    },
    {
     "name": "stderr",
     "output_type": "stream",
     "text": [
      "\u001B[32m[I 2022-06-12 22:49:39,975]\u001B[0m Trial 4 pruned. Trial was pruned at epoch 1.\u001B[0m\n"
     ]
    },
    {
     "name": "stdout",
     "output_type": "stream",
     "text": [
      "Epoch 1/10\n",
      "   6/1872 [..............................] - ETA: 8:37 - loss: 0.0382 - mean_absolute_percentage_error: 29553442.0000WARNING:tensorflow:Callback method `on_train_batch_end` is slow compared to the batch time (batch time: 0.1214s vs `on_train_batch_end` time: 0.1576s). Check your callbacks.\n",
      "1872/1872 [==============================] - 550s 290ms/step - loss: 0.0066 - mean_absolute_percentage_error: 9571523.0000 - val_loss: 0.0031 - val_mean_absolute_percentage_error: 1204606.0000\n",
      "Epoch 2/10\n",
      "1872/1872 [==============================] - ETA: 0s - loss: 0.0040 - mean_absolute_percentage_error: 5552539.5000"
     ]
    },
    {
     "name": "stderr",
     "output_type": "stream",
     "text": [
      "\u001B[32m[I 2022-06-12 23:10:24,252]\u001B[0m Trial 5 pruned. Trial was pruned at epoch 1.\u001B[0m\n"
     ]
    },
    {
     "name": "stdout",
     "output_type": "stream",
     "text": [
      "Epoch 1/10\n",
      "2212/2212 [==============================] - 119s 53ms/step - loss: 16.6067 - mean_absolute_percentage_error: 265096160.0000 - val_loss: 0.1335 - val_mean_absolute_percentage_error: 21682560.0000\n",
      "Epoch 2/10\n",
      "2211/2212 [============================>.] - ETA: 0s - loss: 0.2791 - mean_absolute_percentage_error: 47396536.0000"
     ]
    },
    {
     "name": "stderr",
     "output_type": "stream",
     "text": [
      "\u001B[32m[I 2022-06-12 23:16:50,792]\u001B[0m Trial 6 pruned. Trial was pruned at epoch 1.\u001B[0m\n"
     ]
    },
    {
     "name": "stdout",
     "output_type": "stream",
     "text": [
      "Epoch 1/10\n",
      "2435/2435 [==============================] - 225s 89ms/step - loss: 0.0112 - mean_absolute_percentage_error: 8961163.0000 - val_loss: 0.0031 - val_mean_absolute_percentage_error: 380515.1875\n",
      "Epoch 2/10\n",
      "2435/2435 [==============================] - 216s 89ms/step - loss: 0.0050 - mean_absolute_percentage_error: 4671831.0000 - val_loss: 0.0030 - val_mean_absolute_percentage_error: 272413.5625\n",
      "Epoch 3/10\n",
      "2435/2435 [==============================] - 217s 89ms/step - loss: 0.0041 - mean_absolute_percentage_error: 3371391.2500 - val_loss: 0.0030 - val_mean_absolute_percentage_error: 60712.6914\n",
      "Epoch 4/10\n",
      "2435/2435 [==============================] - 217s 89ms/step - loss: 0.0038 - mean_absolute_percentage_error: 2642740.5000 - val_loss: 0.0030 - val_mean_absolute_percentage_error: 130428.5781\n",
      "Epoch 5/10\n",
      "2435/2435 [==============================] - 218s 89ms/step - loss: 0.0036 - mean_absolute_percentage_error: 2167717.2500 - val_loss: 0.0030 - val_mean_absolute_percentage_error: 118603.8359\n",
      "Epoch 6/10\n",
      "2435/2435 [==============================] - 218s 90ms/step - loss: 0.0035 - mean_absolute_percentage_error: 1835503.2500 - val_loss: 0.0030 - val_mean_absolute_percentage_error: 89741.6094\n",
      "Epoch 7/10\n",
      "2435/2435 [==============================] - 219s 90ms/step - loss: 0.0034 - mean_absolute_percentage_error: 1594730.0000 - val_loss: 0.0030 - val_mean_absolute_percentage_error: 94190.4766\n",
      "Epoch 8/10\n",
      "2435/2435 [==============================] - 219s 90ms/step - loss: 0.0033 - mean_absolute_percentage_error: 1388341.6250 - val_loss: 0.0030 - val_mean_absolute_percentage_error: 87989.2969\n",
      "Epoch 9/10\n",
      "2435/2435 [==============================] - 219s 90ms/step - loss: 0.0033 - mean_absolute_percentage_error: 1221387.0000 - val_loss: 0.0030 - val_mean_absolute_percentage_error: 88115.9062\n",
      "Epoch 10/10\n",
      "2435/2435 [==============================] - 220s 90ms/step - loss: 0.0032 - mean_absolute_percentage_error: 1093796.7500 - val_loss: 0.0030 - val_mean_absolute_percentage_error: 63369.4688\n",
      "605/605 [==============================] - 20s 33ms/step - loss: 0.0028 - mean_absolute_percentage_error: 70479.1172\n",
      "Result: 0.002843492431566119\n"
     ]
    },
    {
     "name": "stderr",
     "output_type": "stream",
     "text": [
      "\u001B[32m[I 2022-06-12 23:56:44,626]\u001B[0m Trial 7 finished with value: 0.002843492431566119 and parameters: {'sequence_length': 16, 'model_dimension': 32, 'number_of_attention_heads': 4, 'encoder_layers': 8, 'ff_neurons': 129, 'hidden_layers': 10, 'dropout_rate': 0.15351902893202574, 'activation': 'sigmoid', 'optimizer': 'adagrad', 'batch_size': 141}. Best is trial 7 with value: 0.002843492431566119.\u001B[0m\n"
     ]
    },
    {
     "name": "stdout",
     "output_type": "stream",
     "text": [
      "Epoch 1/10\n",
      "   6/2022 [..............................] - ETA: 1:57 - loss: nan - mean_absolute_percentage_error: nanWARNING:tensorflow:Callback method `on_train_batch_end` is slow compared to the batch time (batch time: 0.0272s vs `on_train_batch_end` time: 0.0298s). Check your callbacks.\n",
      "2022/2022 [==============================] - 109s 53ms/step - loss: nan - mean_absolute_percentage_error: nan - val_loss: nan - val_mean_absolute_percentage_error: nan\n",
      "Epoch 2/10\n",
      "2021/2022 [============================>.] - ETA: 0s - loss: nan - mean_absolute_percentage_error: nan"
     ]
    },
    {
     "name": "stderr",
     "output_type": "stream",
     "text": [
      "\u001B[32m[I 2022-06-13 00:02:55,239]\u001B[0m Trial 8 pruned. Trial was pruned at epoch 1.\u001B[0m\n"
     ]
    },
    {
     "name": "stdout",
     "output_type": "stream",
     "text": [
      "Epoch 1/10\n",
      "   6/1770 [..............................] - ETA: 7:14 - loss: nan - mean_absolute_percentage_error: nanWARNING:tensorflow:Callback method `on_train_batch_end` is slow compared to the batch time (batch time: 0.1090s vs `on_train_batch_end` time: 0.1388s). Check your callbacks.\n",
      "1770/1770 [==============================] - 453s 253ms/step - loss: nan - mean_absolute_percentage_error: nan - val_loss: nan - val_mean_absolute_percentage_error: nan\n",
      "Epoch 2/10\n",
      "1770/1770 [==============================] - ETA: 0s - loss: nan - mean_absolute_percentage_error: nan"
     ]
    },
    {
     "name": "stderr",
     "output_type": "stream",
     "text": [
      "\u001B[32m[I 2022-06-13 00:21:18,705]\u001B[0m Trial 9 pruned. Trial was pruned at epoch 1.\u001B[0m\n"
     ]
    },
    {
     "name": "stdout",
     "output_type": "stream",
     "text": [
      "Epoch 1/10\n",
      "2926/2926 [==============================] - 349s 116ms/step - loss: 0.2627 - mean_absolute_percentage_error: 17074570.0000 - val_loss: 0.0032 - val_mean_absolute_percentage_error: 2497598.2500\n",
      "Epoch 2/10\n",
      "2926/2926 [==============================] - ETA: 0s - loss: 0.1163 - mean_absolute_percentage_error: 9146588.0000"
     ]
    },
    {
     "name": "stderr",
     "output_type": "stream",
     "text": [
      "\u001B[32m[I 2022-06-13 00:35:29,002]\u001B[0m Trial 10 pruned. Trial was pruned at epoch 1.\u001B[0m\n"
     ]
    },
    {
     "name": "stdout",
     "output_type": "stream",
     "text": [
      "Epoch 1/10\n",
      "2330/2330 [==============================] - 199s 81ms/step - loss: 0.0190 - mean_absolute_percentage_error: 8046845.0000 - val_loss: 0.0030 - val_mean_absolute_percentage_error: 719795.3750\n",
      "Epoch 2/10\n",
      "2330/2330 [==============================] - ETA: 0s - loss: 0.0088 - mean_absolute_percentage_error: 4172123.2500"
     ]
    },
    {
     "name": "stderr",
     "output_type": "stream",
     "text": [
      "\u001B[32m[I 2022-06-13 00:44:26,385]\u001B[0m Trial 11 pruned. Trial was pruned at epoch 1.\u001B[0m\n"
     ]
    },
    {
     "name": "stdout",
     "output_type": "stream",
     "text": [
      "Epoch 1/10\n",
      "2608/2608 [==============================] - 283s 106ms/step - loss: 0.2491 - mean_absolute_percentage_error: 55830592.0000 - val_loss: 0.0033 - val_mean_absolute_percentage_error: 3221342.7500\n",
      "Epoch 2/10\n",
      "2608/2608 [==============================] - ETA: 0s - loss: 0.0808 - mean_absolute_percentage_error: 29765954.0000"
     ]
    },
    {
     "name": "stderr",
     "output_type": "stream",
     "text": [
      "\u001B[32m[I 2022-06-13 00:56:23,795]\u001B[0m Trial 12 pruned. Trial was pruned at epoch 1.\u001B[0m\n"
     ]
    },
    {
     "name": "stdout",
     "output_type": "stream",
     "text": [
      "Epoch 1/10\n",
      "4463/4463 [==============================] - 262s 57ms/step - loss: 0.0046 - mean_absolute_percentage_error: 4066529.2500 - val_loss: 0.0033 - val_mean_absolute_percentage_error: 672570.8125\n",
      "Epoch 2/10\n",
      "4463/4463 [==============================] - ETA: 0s - loss: 0.0033 - mean_absolute_percentage_error: 2398106.7500"
     ]
    },
    {
     "name": "stderr",
     "output_type": "stream",
     "text": [
      "\u001B[32m[I 2022-06-13 01:07:33,270]\u001B[0m Trial 13 pruned. Trial was pruned at epoch 1.\u001B[0m\n"
     ]
    },
    {
     "name": "stdout",
     "output_type": "stream",
     "text": [
      "Epoch 1/10\n",
      "   6/2146 [..............................] - ETA: 23:18 - loss: 0.7013 - mean_absolute_percentage_error: 146195056.0000WARNING:tensorflow:Callback method `on_train_batch_end` is slow compared to the batch time (batch time: 0.2802s vs `on_train_batch_end` time: 0.3713s). Check your callbacks.\n",
      "2146/2146 [==============================] - 1461s 676ms/step - loss: 0.0581 - mean_absolute_percentage_error: 36389852.0000 - val_loss: 0.0030 - val_mean_absolute_percentage_error: 1328861.2500\n",
      "Epoch 2/10\n",
      "2146/2146 [==============================] - 1449s 675ms/step - loss: 0.0163 - mean_absolute_percentage_error: 19665000.0000 - val_loss: 0.0030 - val_mean_absolute_percentage_error: 1185922.2500\n",
      "Epoch 3/10\n",
      "2146/2146 [==============================] - 1450s 676ms/step - loss: 0.0113 - mean_absolute_percentage_error: 15457266.0000 - val_loss: 0.0030 - val_mean_absolute_percentage_error: 1076312.0000\n",
      "Epoch 4/10\n",
      "2146/2146 [==============================] - 1450s 675ms/step - loss: 0.0090 - mean_absolute_percentage_error: 13127315.0000 - val_loss: 0.0030 - val_mean_absolute_percentage_error: 915173.3125\n",
      "Epoch 5/10\n",
      "2146/2146 [==============================] - 1450s 676ms/step - loss: 0.0076 - mean_absolute_percentage_error: 11583994.0000 - val_loss: 0.0030 - val_mean_absolute_percentage_error: 887360.2500\n",
      "Epoch 6/10\n",
      "2146/2146 [==============================] - 1451s 676ms/step - loss: 0.0068 - mean_absolute_percentage_error: 10463823.0000 - val_loss: 0.0029 - val_mean_absolute_percentage_error: 761004.4375\n",
      "Epoch 7/10\n",
      "2146/2146 [==============================] - 1451s 676ms/step - loss: 0.0062 - mean_absolute_percentage_error: 9586495.0000 - val_loss: 0.0029 - val_mean_absolute_percentage_error: 704342.6875\n",
      "Epoch 8/10\n",
      "2146/2146 [==============================] - 1450s 676ms/step - loss: 0.0058 - mean_absolute_percentage_error: 8893725.0000 - val_loss: 0.0029 - val_mean_absolute_percentage_error: 642320.1250\n",
      "Epoch 9/10\n",
      "2146/2146 [==============================] - 1450s 676ms/step - loss: 0.0054 - mean_absolute_percentage_error: 8285081.0000 - val_loss: 0.0029 - val_mean_absolute_percentage_error: 620553.8125\n",
      "Epoch 10/10\n",
      "2146/2146 [==============================] - 1403s 654ms/step - loss: 0.0051 - mean_absolute_percentage_error: 7787159.0000 - val_loss: 0.0029 - val_mean_absolute_percentage_error: 563575.0625\n",
      "530/530 [==============================] - 115s 217ms/step - loss: 0.0029 - mean_absolute_percentage_error: 632194.7500\n",
      "Result: 0.002932238392531872\n"
     ]
    },
    {
     "name": "stderr",
     "output_type": "stream",
     "text": [
      "\u001B[32m[I 2022-06-13 05:14:07,241]\u001B[0m Trial 14 finished with value: 0.002932238392531872 and parameters: {'sequence_length': 22, 'model_dimension': 256, 'number_of_attention_heads': 7, 'encoder_layers': 10, 'ff_neurons': 80, 'hidden_layers': 7, 'dropout_rate': 0.2667696458929326, 'activation': 'tanh', 'optimizer': 'adagrad', 'batch_size': 163}. Best is trial 7 with value: 0.002843492431566119.\u001B[0m\n"
     ]
    },
    {
     "name": "stdout",
     "output_type": "stream",
     "text": [
      "Epoch 1/10\n",
      "2816/2816 [==============================] - 228s 78ms/step - loss: 0.2149 - mean_absolute_percentage_error: 69490176.0000 - val_loss: 0.0046 - val_mean_absolute_percentage_error: 4266528.5000\n",
      "Epoch 2/10\n",
      "2816/2816 [==============================] - ETA: 0s - loss: 0.0617 - mean_absolute_percentage_error: 38193516.0000"
     ]
    },
    {
     "name": "stderr",
     "output_type": "stream",
     "text": [
      "\u001B[32m[I 2022-06-13 05:23:57,299]\u001B[0m Trial 15 pruned. Trial was pruned at epoch 1.\u001B[0m\n"
     ]
    },
    {
     "name": "stdout",
     "output_type": "stream",
     "text": [
      "Epoch 1/10\n",
      "7330/7330 [==============================] - 271s 37ms/step - loss: 0.0113 - mean_absolute_percentage_error: 8007113.0000 - val_loss: 0.0030 - val_mean_absolute_percentage_error: 82458.6953\n",
      "Epoch 2/10\n",
      "7330/7330 [==============================] - 267s 36ms/step - loss: 0.0046 - mean_absolute_percentage_error: 3718993.5000 - val_loss: 0.0030 - val_mean_absolute_percentage_error: 247454.7812\n",
      "Epoch 3/10\n",
      "7330/7330 [==============================] - 268s 37ms/step - loss: 0.0040 - mean_absolute_percentage_error: 2753286.7500 - val_loss: 0.0030 - val_mean_absolute_percentage_error: 309642.6562\n",
      "Epoch 4/10\n",
      "7330/7330 [==============================] - 267s 36ms/step - loss: 0.0036 - mean_absolute_percentage_error: 2289033.7500 - val_loss: 0.0030 - val_mean_absolute_percentage_error: 259012.0156\n",
      "Epoch 5/10\n",
      "7329/7330 [============================>.] - ETA: 0s - loss: 0.0035 - mean_absolute_percentage_error: 1822698.8750"
     ]
    },
    {
     "name": "stderr",
     "output_type": "stream",
     "text": [
      "\u001B[32m[I 2022-06-13 05:48:44,978]\u001B[0m Trial 16 pruned. Trial was pruned at epoch 4.\u001B[0m\n"
     ]
    },
    {
     "name": "stdout",
     "output_type": "stream",
     "text": [
      "Epoch 1/10\n",
      "3823/3823 [==============================] - 258s 66ms/step - loss: 0.6432 - mean_absolute_percentage_error: 6362025.0000 - val_loss: 0.0031 - val_mean_absolute_percentage_error: 53494.3555\n",
      "Epoch 2/10\n",
      "3822/3823 [============================>.] - ETA: 0s - loss: 0.0090 - mean_absolute_percentage_error: 220233.9531"
     ]
    },
    {
     "name": "stderr",
     "output_type": "stream",
     "text": [
      "\u001B[32m[I 2022-06-13 05:59:43,307]\u001B[0m Trial 17 pruned. Trial was pruned at epoch 1.\u001B[0m\n"
     ]
    },
    {
     "name": "stdout",
     "output_type": "stream",
     "text": [
      "Epoch 1/10\n",
      "2417/2417 [==============================] - 372s 149ms/step - loss: 1.3058 - mean_absolute_percentage_error: 13866588.0000 - val_loss: 0.0030 - val_mean_absolute_percentage_error: 345720.7500\n",
      "Epoch 2/10\n",
      "2417/2417 [==============================] - ETA: 0s - loss: 0.0994 - mean_absolute_percentage_error: 490664.4375"
     ]
    },
    {
     "name": "stderr",
     "output_type": "stream",
     "text": [
      "\u001B[32m[I 2022-06-13 06:15:21,085]\u001B[0m Trial 18 pruned. Trial was pruned at epoch 1.\u001B[0m\n"
     ]
    },
    {
     "name": "stdout",
     "output_type": "stream",
     "text": [
      "Epoch 1/10\n",
      "   6/2746 [..............................] - ETA: 14:37 - loss: 2.4977 - mean_absolute_percentage_error: 282946400.0000WARNING:tensorflow:Callback method `on_train_batch_end` is slow compared to the batch time (batch time: 0.1506s vs `on_train_batch_end` time: 0.1749s). Check your callbacks.\n",
      "2746/2746 [==============================] - 914s 330ms/step - loss: 0.0900 - mean_absolute_percentage_error: 42029692.0000 - val_loss: 0.0030 - val_mean_absolute_percentage_error: 2307837.7500\n",
      "Epoch 2/10\n",
      "2746/2746 [==============================] - ETA: 0s - loss: 0.0173 - mean_absolute_percentage_error: 19833296.0000"
     ]
    },
    {
     "name": "stderr",
     "output_type": "stream",
     "text": [
      "\u001B[32m[I 2022-06-13 06:48:27,428]\u001B[0m Trial 19 pruned. Trial was pruned at epoch 1.\u001B[0m\n"
     ]
    },
    {
     "name": "stdout",
     "output_type": "stream",
     "text": [
      "Epoch 1/10\n",
      "1742/1742 [==============================] - 83s 45ms/step - loss: 0.0286 - mean_absolute_percentage_error: 23554944.0000 - val_loss: 0.0093 - val_mean_absolute_percentage_error: 8488455.0000\n",
      "Epoch 2/10\n",
      "1741/1742 [============================>.] - ETA: 0s - loss: 0.0120 - mean_absolute_percentage_error: 15274909.0000"
     ]
    },
    {
     "name": "stderr",
     "output_type": "stream",
     "text": [
      "\u001B[32m[I 2022-06-13 06:53:29,007]\u001B[0m Trial 20 pruned. Trial was pruned at epoch 1.\u001B[0m\n"
     ]
    },
    {
     "name": "stdout",
     "output_type": "stream",
     "text": [
      "Epoch 1/10\n",
      "3243/3243 [==============================] - 147s 44ms/step - loss: 0.9901 - mean_absolute_percentage_error: 6505193.0000 - val_loss: 0.8240 - val_mean_absolute_percentage_error: 317745.5625\n",
      "Epoch 2/10\n",
      "3243/3243 [==============================] - ETA: 0s - loss: 3.8876 - mean_absolute_percentage_error: 1306163.8750"
     ]
    },
    {
     "name": "stderr",
     "output_type": "stream",
     "text": [
      "\u001B[32m[I 2022-06-13 07:00:37,024]\u001B[0m Trial 21 pruned. Trial was pruned at epoch 1.\u001B[0m\n"
     ]
    },
    {
     "name": "stdout",
     "output_type": "stream",
     "text": [
      "Epoch 1/10\n",
      "3140/3140 [==============================] - 361s 112ms/step - loss: 75.1825 - mean_absolute_percentage_error: 195807232.0000 - val_loss: 0.0030 - val_mean_absolute_percentage_error: 1071.8578\n",
      "Epoch 2/10\n",
      "3140/3140 [==============================] - 351s 112ms/step - loss: 457.0014 - mean_absolute_percentage_error: 14466753.0000 - val_loss: 0.0030 - val_mean_absolute_percentage_error: 218130.9062\n",
      "Epoch 3/10\n",
      "3140/3140 [==============================] - 351s 112ms/step - loss: 461.5795 - mean_absolute_percentage_error: 12565621.0000 - val_loss: 0.0030 - val_mean_absolute_percentage_error: 479294.9688\n",
      "Epoch 4/10\n",
      "3140/3140 [==============================] - 351s 112ms/step - loss: 2817.4636 - mean_absolute_percentage_error: 32304096.0000 - val_loss: 0.0030 - val_mean_absolute_percentage_error: 104561.3672\n",
      "Epoch 5/10\n",
      "3140/3140 [==============================] - ETA: 0s - loss: 195397.1250 - mean_absolute_percentage_error: 56979804.0000"
     ]
    },
    {
     "name": "stderr",
     "output_type": "stream",
     "text": [
      "\u001B[32m[I 2022-06-13 07:32:57,884]\u001B[0m Trial 22 pruned. Trial was pruned at epoch 4.\u001B[0m\n"
     ]
    },
    {
     "name": "stdout",
     "output_type": "stream",
     "text": [
      "Epoch 1/10\n",
      "2188/2188 [==============================] - 146s 65ms/step - loss: 365.0539 - mean_absolute_percentage_error: 36858992.0000 - val_loss: 0.0031 - val_mean_absolute_percentage_error: 1258844.2500\n",
      "Epoch 2/10\n",
      "2187/2188 [============================>.] - ETA: 0s - loss: 56.6175 - mean_absolute_percentage_error: 2975042.7500"
     ]
    },
    {
     "name": "stderr",
     "output_type": "stream",
     "text": [
      "\u001B[32m[I 2022-06-13 07:40:07,660]\u001B[0m Trial 23 pruned. Trial was pruned at epoch 1.\u001B[0m\n"
     ]
    },
    {
     "name": "stdout",
     "output_type": "stream",
     "text": [
      "Epoch 1/10\n",
      "3100/3100 [==============================] - 481s 151ms/step - loss: 191.9019 - mean_absolute_percentage_error: 339383808.0000 - val_loss: 0.0029 - val_mean_absolute_percentage_error: 76598.0312\n",
      "Epoch 2/10\n",
      "3100/3100 [==============================] - 471s 152ms/step - loss: 5015.1167 - mean_absolute_percentage_error: 14671577.0000 - val_loss: 0.0029 - val_mean_absolute_percentage_error: 185250.7812\n",
      "Epoch 3/10\n",
      "3100/3100 [==============================] - 472s 152ms/step - loss: 1051.1819 - mean_absolute_percentage_error: 686072.0000 - val_loss: 0.0029 - val_mean_absolute_percentage_error: 483570.7812\n",
      "Epoch 4/10\n",
      "3100/3100 [==============================] - 471s 152ms/step - loss: 51.7882 - mean_absolute_percentage_error: 330064.3750 - val_loss: 0.0029 - val_mean_absolute_percentage_error: 60664.8594\n",
      "Epoch 5/10\n",
      "3100/3100 [==============================] - 471s 152ms/step - loss: 93.1281 - mean_absolute_percentage_error: 3423146.0000 - val_loss: 0.0029 - val_mean_absolute_percentage_error: 1349745.7500\n",
      "Epoch 6/10\n",
      "3100/3100 [==============================] - 472s 152ms/step - loss: 10.9740 - mean_absolute_percentage_error: 3347416.5000 - val_loss: 0.0029 - val_mean_absolute_percentage_error: 105297.1016\n",
      "Epoch 7/10\n",
      "3100/3100 [==============================] - 472s 152ms/step - loss: 2102.0750 - mean_absolute_percentage_error: 20705014.0000 - val_loss: 0.0029 - val_mean_absolute_percentage_error: 152891.1875\n",
      "Epoch 8/10\n",
      "3100/3100 [==============================] - 473s 152ms/step - loss: 0.1241 - mean_absolute_percentage_error: 195487.5938 - val_loss: 0.0029 - val_mean_absolute_percentage_error: 884307.2500\n",
      "Epoch 9/10\n",
      "3100/3100 [==============================] - 473s 152ms/step - loss: 1676.7260 - mean_absolute_percentage_error: 6604113.5000 - val_loss: 0.0029 - val_mean_absolute_percentage_error: 246096.9375\n",
      "Epoch 10/10\n",
      "3100/3100 [==============================] - 474s 153ms/step - loss: 332.9402 - mean_absolute_percentage_error: 2587629.2500 - val_loss: 0.0029 - val_mean_absolute_percentage_error: 122518.1953\n",
      "772/772 [==============================] - 36s 46ms/step - loss: 0.0029 - mean_absolute_percentage_error: 137183.8125\n",
      "Result: 0.00289224274456501\n"
     ]
    },
    {
     "name": "stderr",
     "output_type": "stream",
     "text": [
      "\u001B[32m[I 2022-06-13 09:02:30,180]\u001B[0m Trial 24 finished with value: 0.00289224274456501 and parameters: {'sequence_length': 12, 'model_dimension': 148, 'number_of_attention_heads': 4, 'encoder_layers': 9, 'ff_neurons': 113, 'hidden_layers': 4, 'dropout_rate': 0.1198870010676013, 'activation': 'tanh', 'optimizer': 'rmsprop', 'batch_size': 109}. Best is trial 7 with value: 0.002843492431566119.\u001B[0m\n"
     ]
    },
    {
     "name": "stdout",
     "output_type": "stream",
     "text": [
      "Epoch 1/10\n",
      "4241/4241 [==============================] - 328s 75ms/step - loss: 0.0513 - mean_absolute_percentage_error: 5503620.5000 - val_loss: 0.0030 - val_mean_absolute_percentage_error: 38339.6719\n",
      "Epoch 2/10\n",
      "4241/4241 [==============================] - ETA: 0s - loss: 0.0168 - mean_absolute_percentage_error: 282203.8125"
     ]
    },
    {
     "name": "stderr",
     "output_type": "stream",
     "text": [
      "\u001B[32m[I 2022-06-13 09:15:35,295]\u001B[0m Trial 25 pruned. Trial was pruned at epoch 1.\u001B[0m\n"
     ]
    },
    {
     "name": "stdout",
     "output_type": "stream",
     "text": [
      "Epoch 1/10\n",
      "2480/2480 [==============================] - 159s 62ms/step - loss: nan - mean_absolute_percentage_error: nan - val_loss: nan - val_mean_absolute_percentage_error: nan\n",
      "Epoch 2/10\n",
      "2479/2480 [============================>.] - ETA: 0s - loss: nan - mean_absolute_percentage_error: nan"
     ]
    },
    {
     "name": "stderr",
     "output_type": "stream",
     "text": [
      "\u001B[32m[I 2022-06-13 09:23:06,208]\u001B[0m Trial 26 pruned. Trial was pruned at epoch 1.\u001B[0m\n"
     ]
    },
    {
     "name": "stdout",
     "output_type": "stream",
     "text": [
      "Epoch 1/10\n",
      "1962/1962 [==============================] - 167s 81ms/step - loss: 25812.3047 - mean_absolute_percentage_error: 5516484608.0000 - val_loss: 0.0242 - val_mean_absolute_percentage_error: 42143232.0000\n",
      "Epoch 2/10\n",
      "1962/1962 [==============================] - ETA: 0s - loss: 0.0235 - mean_absolute_percentage_error: 32415838.0000"
     ]
    },
    {
     "name": "stderr",
     "output_type": "stream",
     "text": [
      "\u001B[32m[I 2022-06-13 09:30:52,723]\u001B[0m Trial 27 pruned. Trial was pruned at epoch 1.\u001B[0m\n"
     ]
    },
    {
     "name": "stdout",
     "output_type": "stream",
     "text": [
      "Epoch 1/10\n",
      "12212/12212 [==============================] - 438s 36ms/step - loss: 0.0082 - mean_absolute_percentage_error: 9146132.0000 - val_loss: 0.0033 - val_mean_absolute_percentage_error: 1356694.3750\n",
      "Epoch 2/10\n",
      "12211/12212 [============================>.] - ETA: 0s - loss: 0.0041 - mean_absolute_percentage_error: 4689622.5000"
     ]
    },
    {
     "name": "stderr",
     "output_type": "stream",
     "text": [
      "\u001B[32m[I 2022-06-13 09:47:47,944]\u001B[0m Trial 28 pruned. Trial was pruned at epoch 1.\u001B[0m\n"
     ]
    },
    {
     "name": "stdout",
     "output_type": "stream",
     "text": [
      "Epoch 1/10\n",
      "4152/4152 [==============================] - 108s 26ms/step - loss: 0.2196 - mean_absolute_percentage_error: 11987990.0000 - val_loss: 0.0030 - val_mean_absolute_percentage_error: 72468.1016\n",
      "Epoch 2/10\n",
      "4152/4152 [==============================] - 105s 25ms/step - loss: 0.0361 - mean_absolute_percentage_error: 749702.8125 - val_loss: 0.0030 - val_mean_absolute_percentage_error: 347305.7812\n",
      "Epoch 3/10\n",
      "4152/4152 [==============================] - 105s 25ms/step - loss: 0.0070 - mean_absolute_percentage_error: 210824.0469 - val_loss: 0.0030 - val_mean_absolute_percentage_error: 47518.3438\n",
      "Epoch 4/10\n",
      "4152/4152 [==============================] - 105s 25ms/step - loss: 1.9567 - mean_absolute_percentage_error: 1717581.7500 - val_loss: 0.0030 - val_mean_absolute_percentage_error: 339735.5000\n",
      "Epoch 5/10\n",
      "4151/4152 [============================>.] - ETA: 0s - loss: 0.0619 - mean_absolute_percentage_error: 369010.2188"
     ]
    },
    {
     "name": "stderr",
     "output_type": "stream",
     "text": [
      "\u001B[32m[I 2022-06-13 09:58:56,915]\u001B[0m Trial 29 pruned. Trial was pruned at epoch 4.\u001B[0m\n"
     ]
    },
    {
     "name": "stdout",
     "output_type": "stream",
     "text": [
      "Epoch 1/10\n",
      "2972/2972 [==============================] - 183s 59ms/step - loss: 0.0074 - mean_absolute_percentage_error: 1676528.1250 - val_loss: 0.0030 - val_mean_absolute_percentage_error: 200952.3281\n",
      "Epoch 2/10\n",
      "2972/2972 [==============================] - 174s 59ms/step - loss: 0.0350 - mean_absolute_percentage_error: 276532.4062 - val_loss: 0.0030 - val_mean_absolute_percentage_error: 254131.5469\n",
      "Epoch 3/10\n",
      "2972/2972 [==============================] - 176s 59ms/step - loss: 0.0046 - mean_absolute_percentage_error: 242699.3750 - val_loss: 0.0030 - val_mean_absolute_percentage_error: 208449.6719\n",
      "Epoch 4/10\n",
      "2972/2972 [==============================] - 176s 59ms/step - loss: 0.6694 - mean_absolute_percentage_error: 246308.3281 - val_loss: 0.0067 - val_mean_absolute_percentage_error: 80555.0938\n",
      "Epoch 5/10\n",
      "2971/2972 [============================>.] - ETA: 0s - loss: 0.3535 - mean_absolute_percentage_error: 486164.1562"
     ]
    },
    {
     "name": "stderr",
     "output_type": "stream",
     "text": [
      "\u001B[32m[I 2022-06-13 10:16:01,607]\u001B[0m Trial 30 pruned. Trial was pruned at epoch 4.\u001B[0m\n"
     ]
    },
    {
     "name": "stdout",
     "output_type": "stream",
     "text": [
      "Epoch 1/10\n",
      "3448/3448 [==============================] - 520s 148ms/step - loss: 161.0084 - mean_absolute_percentage_error: 321588608.0000 - val_loss: 0.0029 - val_mean_absolute_percentage_error: 489070.0938\n",
      "Epoch 2/10\n",
      "3448/3448 [==============================] - 509s 148ms/step - loss: 1208.5857 - mean_absolute_percentage_error: 51411920.0000 - val_loss: 0.0029 - val_mean_absolute_percentage_error: 1318433.8750\n",
      "Epoch 3/10\n",
      "3448/3448 [==============================] - 509s 148ms/step - loss: 265.5518 - mean_absolute_percentage_error: 27598752.0000 - val_loss: 0.0029 - val_mean_absolute_percentage_error: 95294.8438\n",
      "Epoch 4/10\n",
      "3448/3448 [==============================] - 510s 148ms/step - loss: 1634.1077 - mean_absolute_percentage_error: 57531244.0000 - val_loss: 0.0029 - val_mean_absolute_percentage_error: 198105.3594\n",
      "Epoch 5/10\n",
      "3448/3448 [==============================] - 510s 148ms/step - loss: 277.7340 - mean_absolute_percentage_error: 4823194.5000 - val_loss: 0.0029 - val_mean_absolute_percentage_error: 214333.5781\n",
      "Epoch 6/10\n",
      "3448/3448 [==============================] - 512s 148ms/step - loss: 128.1427 - mean_absolute_percentage_error: 4342752.5000 - val_loss: 0.0029 - val_mean_absolute_percentage_error: 580667.3750\n",
      "Epoch 7/10\n",
      "3448/3448 [==============================] - 511s 148ms/step - loss: 7531.0947 - mean_absolute_percentage_error: 71620560.0000 - val_loss: 0.0029 - val_mean_absolute_percentage_error: 432240.5312\n",
      "Epoch 8/10\n",
      "3448/3448 [==============================] - 512s 148ms/step - loss: 481.7637 - mean_absolute_percentage_error: 515059.9375 - val_loss: 0.0029 - val_mean_absolute_percentage_error: 254458.3125\n",
      "Epoch 9/10\n",
      "3448/3448 [==============================] - 512s 148ms/step - loss: 113.7397 - mean_absolute_percentage_error: 1861439.3750 - val_loss: 0.0029 - val_mean_absolute_percentage_error: 72602.6328\n",
      "Epoch 10/10\n",
      "3448/3448 [==============================] - 512s 149ms/step - loss: 913.0703 - mean_absolute_percentage_error: 16611106.0000 - val_loss: 0.0029 - val_mean_absolute_percentage_error: 55495.3945\n",
      "859/859 [==============================] - 38s 44ms/step - loss: 0.0029 - mean_absolute_percentage_error: 62082.1523\n",
      "Result: 0.0028925463557243347\n"
     ]
    },
    {
     "name": "stderr",
     "output_type": "stream",
     "text": [
      "\u001B[32m[I 2022-06-13 11:44:17,726]\u001B[0m Trial 31 finished with value: 0.0028925463557243347 and parameters: {'sequence_length': 12, 'model_dimension': 151, 'number_of_attention_heads': 4, 'encoder_layers': 9, 'ff_neurons': 108, 'hidden_layers': 4, 'dropout_rate': 0.10958857572598663, 'activation': 'tanh', 'optimizer': 'rmsprop', 'batch_size': 98}. Best is trial 7 with value: 0.002843492431566119.\u001B[0m\n"
     ]
    },
    {
     "name": "stdout",
     "output_type": "stream",
     "text": [
      "Epoch 1/10\n",
      "2977/2977 [==============================] - 595s 196ms/step - loss: 96364.1016 - mean_absolute_percentage_error: 948263552.0000 - val_loss: 0.0030 - val_mean_absolute_percentage_error: 171010.5000\n",
      "Epoch 2/10\n",
      "2977/2977 [==============================] - 584s 196ms/step - loss: 1036996.1875 - mean_absolute_percentage_error: 979889472.0000 - val_loss: 0.0030 - val_mean_absolute_percentage_error: 787566.7500\n",
      "Epoch 3/10\n",
      "2977/2977 [==============================] - 583s 196ms/step - loss: 7396796.0000 - mean_absolute_percentage_error: 203162960.0000 - val_loss: 0.0030 - val_mean_absolute_percentage_error: 155601.1719\n",
      "Epoch 4/10\n",
      "2977/2977 [==============================] - 584s 196ms/step - loss: 4734782.5000 - mean_absolute_percentage_error: 1785395200.0000 - val_loss: 0.0030 - val_mean_absolute_percentage_error: 145144.4531\n",
      "Epoch 5/10\n",
      "2977/2977 [==============================] - ETA: 0s - loss: 1224172.6250 - mean_absolute_percentage_error: 280688256.0000"
     ]
    },
    {
     "name": "stderr",
     "output_type": "stream",
     "text": [
      "\u001B[32m[I 2022-06-13 12:35:29,144]\u001B[0m Trial 32 pruned. Trial was pruned at epoch 4.\u001B[0m\n"
     ]
    },
    {
     "name": "stdout",
     "output_type": "stream",
     "text": [
      "Epoch 1/10\n",
      "2595/2595 [==============================] - 328s 122ms/step - loss: 1.7656 - mean_absolute_percentage_error: 37338124.0000 - val_loss: 0.0554 - val_mean_absolute_percentage_error: 288870.6562\n",
      "Epoch 2/10\n",
      "2595/2595 [==============================] - ETA: 0s - loss: 63.4115 - mean_absolute_percentage_error: 2399279.5000"
     ]
    },
    {
     "name": "stderr",
     "output_type": "stream",
     "text": [
      "\u001B[32m[I 2022-06-13 12:49:13,334]\u001B[0m Trial 33 pruned. Trial was pruned at epoch 1.\u001B[0m\n"
     ]
    },
    {
     "name": "stdout",
     "output_type": "stream",
     "text": [
      "Epoch 1/10\n",
      "2249/2249 [==============================] - 217s 93ms/step - loss: 0.4106 - mean_absolute_percentage_error: 18349158.0000 - val_loss: 0.0030 - val_mean_absolute_percentage_error: 163669.0938\n",
      "Epoch 2/10\n",
      "2249/2249 [==============================] - 207s 92ms/step - loss: 6.9772 - mean_absolute_percentage_error: 3983224.0000 - val_loss: 0.0030 - val_mean_absolute_percentage_error: 137902.2031\n",
      "Epoch 3/10\n",
      "2249/2249 [==============================] - 208s 93ms/step - loss: 0.3586 - mean_absolute_percentage_error: 674799.1875 - val_loss: 0.0030 - val_mean_absolute_percentage_error: 179694.3281\n",
      "Epoch 4/10\n",
      "2249/2249 [==============================] - 208s 92ms/step - loss: 3.1980 - mean_absolute_percentage_error: 965644.5000 - val_loss: 0.0030 - val_mean_absolute_percentage_error: 471190.9688\n",
      "Epoch 5/10\n",
      "2249/2249 [==============================] - ETA: 0s - loss: 0.9572 - mean_absolute_percentage_error: 314824.5938"
     ]
    },
    {
     "name": "stderr",
     "output_type": "stream",
     "text": [
      "\u001B[32m[I 2022-06-13 13:09:01,483]\u001B[0m Trial 34 pruned. Trial was pruned at epoch 4.\u001B[0m\n"
     ]
    },
    {
     "name": "stdout",
     "output_type": "stream",
     "text": [
      "Epoch 1/10\n",
      "5584/5584 [==============================] - 594s 105ms/step - loss: nan - mean_absolute_percentage_error: nan - val_loss: nan - val_mean_absolute_percentage_error: nan\n",
      "Epoch 2/10\n",
      "5584/5584 [==============================] - ETA: 0s - loss: nan - mean_absolute_percentage_error: nan"
     ]
    },
    {
     "name": "stderr",
     "output_type": "stream",
     "text": [
      "\u001B[32m[I 2022-06-13 13:31:06,462]\u001B[0m Trial 35 pruned. Trial was pruned at epoch 1.\u001B[0m\n"
     ]
    },
    {
     "name": "stdout",
     "output_type": "stream",
     "text": [
      "Epoch 1/10\n",
      "3975/3975 [==============================] - 245s 60ms/step - loss: 1.0885 - mean_absolute_percentage_error: 178224368.0000 - val_loss: 0.0071 - val_mean_absolute_percentage_error: 10695881.0000\n",
      "Epoch 2/10\n",
      "3975/3975 [==============================] - ETA: 0s - loss: 0.4843 - mean_absolute_percentage_error: 123504936.0000"
     ]
    },
    {
     "name": "stderr",
     "output_type": "stream",
     "text": [
      "\u001B[32m[I 2022-06-13 13:41:31,912]\u001B[0m Trial 36 pruned. Trial was pruned at epoch 1.\u001B[0m\n"
     ]
    },
    {
     "name": "stdout",
     "output_type": "stream",
     "text": [
      "Epoch 1/10\n",
      "   6/2069 [..............................] - ETA: 1:47 - loss: nan - mean_absolute_percentage_error: nanWARNING:tensorflow:Callback method `on_train_batch_end` is slow compared to the batch time (batch time: 0.0276s vs `on_train_batch_end` time: 0.0295s). Check your callbacks.\n",
      "2069/2069 [==============================] - 47s 22ms/step - loss: nan - mean_absolute_percentage_error: nan - val_loss: nan - val_mean_absolute_percentage_error: nan\n",
      "Epoch 2/10\n",
      "2068/2069 [============================>.] - ETA: 0s - loss: nan - mean_absolute_percentage_error: nan"
     ]
    },
    {
     "name": "stderr",
     "output_type": "stream",
     "text": [
      "\u001B[32m[I 2022-06-13 13:45:24,793]\u001B[0m Trial 37 pruned. Trial was pruned at epoch 1.\u001B[0m\n"
     ]
    },
    {
     "name": "stdout",
     "output_type": "stream",
     "text": [
      "Epoch 1/10\n",
      "5402/5402 [==============================] - 640s 117ms/step - loss: 0.5683 - mean_absolute_percentage_error: 8716527.0000 - val_loss: 0.0032 - val_mean_absolute_percentage_error: 42085.2578\n",
      "Epoch 2/10\n",
      "5402/5402 [==============================] - ETA: 0s - loss: 0.0860 - mean_absolute_percentage_error: 612784.3125"
     ]
    },
    {
     "name": "stderr",
     "output_type": "stream",
     "text": [
      "\u001B[32m[I 2022-06-13 14:09:04,379]\u001B[0m Trial 38 pruned. Trial was pruned at epoch 1.\u001B[0m\n"
     ]
    },
    {
     "name": "stdout",
     "output_type": "stream",
     "text": [
      "Epoch 1/10\n",
      "3000/3000 [==============================] - 225s 73ms/step - loss: 0.2197 - mean_absolute_percentage_error: 16749373.0000 - val_loss: 0.0035 - val_mean_absolute_percentage_error: 2281187.2500\n",
      "Epoch 2/10\n",
      "3000/3000 [==============================] - ETA: 0s - loss: 0.0740 - mean_absolute_percentage_error: 10874146.0000"
     ]
    },
    {
     "name": "stderr",
     "output_type": "stream",
     "text": [
      "\u001B[32m[I 2022-06-13 14:19:08,626]\u001B[0m Trial 39 pruned. Trial was pruned at epoch 1.\u001B[0m\n"
     ]
    },
    {
     "name": "stdout",
     "output_type": "stream",
     "text": [
      "Epoch 1/10\n",
      "2516/2516 [==============================] - 158s 62ms/step - loss: 0.1580 - mean_absolute_percentage_error: 7130485.0000 - val_loss: 0.0029 - val_mean_absolute_percentage_error: 193796.4219\n",
      "Epoch 2/10\n",
      "2516/2516 [==============================] - 157s 62ms/step - loss: 0.0031 - mean_absolute_percentage_error: 186362.6875 - val_loss: 0.0029 - val_mean_absolute_percentage_error: 227344.1250\n",
      "Epoch 3/10\n",
      "2516/2516 [==============================] - 156s 62ms/step - loss: 0.0030 - mean_absolute_percentage_error: 179494.3438 - val_loss: 0.0029 - val_mean_absolute_percentage_error: 97389.9609\n",
      "Epoch 4/10\n",
      "2516/2516 [==============================] - 155s 62ms/step - loss: 0.0030 - mean_absolute_percentage_error: 179586.8594 - val_loss: 0.0029 - val_mean_absolute_percentage_error: 285404.7188\n",
      "Epoch 5/10\n",
      "2516/2516 [==============================] - 155s 62ms/step - loss: 0.0030 - mean_absolute_percentage_error: 180928.5938 - val_loss: 0.0029 - val_mean_absolute_percentage_error: 119315.1328\n",
      "Epoch 6/10\n",
      "2516/2516 [==============================] - 155s 62ms/step - loss: 0.0030 - mean_absolute_percentage_error: 176481.9375 - val_loss: 0.0029 - val_mean_absolute_percentage_error: 167464.4062\n",
      "Epoch 7/10\n",
      "2516/2516 [==============================] - 156s 62ms/step - loss: 0.0030 - mean_absolute_percentage_error: 185626.0781 - val_loss: 0.0029 - val_mean_absolute_percentage_error: 131076.8594\n",
      "Epoch 8/10\n",
      "2516/2516 [==============================] - 157s 62ms/step - loss: 0.0030 - mean_absolute_percentage_error: 167064.6875 - val_loss: 0.0029 - val_mean_absolute_percentage_error: 89542.8281\n",
      "Epoch 9/10\n",
      "2516/2516 [==============================] - 157s 62ms/step - loss: 0.0030 - mean_absolute_percentage_error: 182798.4688 - val_loss: 0.0029 - val_mean_absolute_percentage_error: 135446.9844\n",
      "Epoch 10/10\n",
      "2516/2516 [==============================] - 157s 62ms/step - loss: 0.0030 - mean_absolute_percentage_error: 180269.8750 - val_loss: 0.0029 - val_mean_absolute_percentage_error: 11220.8916\n",
      "621/621 [==============================] - 12s 19ms/step - loss: 0.0029 - mean_absolute_percentage_error: 12419.3789\n",
      "Result: 0.002893649972975254\n"
     ]
    },
    {
     "name": "stderr",
     "output_type": "stream",
     "text": [
      "\u001B[32m[I 2022-06-13 14:47:51,283]\u001B[0m Trial 40 finished with value: 0.002893649972975254 and parameters: {'sequence_length': 22, 'model_dimension': 132, 'number_of_attention_heads': 5, 'encoder_layers': 2, 'ff_neurons': 151, 'hidden_layers': 6, 'dropout_rate': 0.1278642558293794, 'activation': 'tanh', 'optimizer': 'rmsprop', 'batch_size': 139}. Best is trial 7 with value: 0.002843492431566119.\u001B[0m\n"
     ]
    },
    {
     "name": "stdout",
     "output_type": "stream",
     "text": [
      "Epoch 1/10\n",
      "3498/3498 [==============================] - 548s 153ms/step - loss: 136248.7188 - mean_absolute_percentage_error: 543068608.0000 - val_loss: 0.0028 - val_mean_absolute_percentage_error: 1664690.1250\n",
      "Epoch 2/10\n",
      "3498/3498 [==============================] - 538s 154ms/step - loss: 94457080.0000 - mean_absolute_percentage_error: 147930960.0000 - val_loss: 0.0028 - val_mean_absolute_percentage_error: 269645.0938\n",
      "Epoch 3/10\n",
      "3498/3498 [==============================] - 537s 154ms/step - loss: 35114819584.0000 - mean_absolute_percentage_error: 18007873536.0000 - val_loss: 0.0028 - val_mean_absolute_percentage_error: 1392161.3750\n",
      "Epoch 4/10\n",
      "3498/3498 [==============================] - 538s 154ms/step - loss: 837787451392.0000 - mean_absolute_percentage_error: 339477200896.0000 - val_loss: 0.0028 - val_mean_absolute_percentage_error: 69743.2812\n",
      "Epoch 5/10\n",
      "3498/3498 [==============================] - 538s 154ms/step - loss: 2735753.2500 - mean_absolute_percentage_error: 136943424.0000 - val_loss: 0.0028 - val_mean_absolute_percentage_error: 249139.3750\n",
      "Epoch 6/10\n",
      "3498/3498 [==============================] - 560s 160ms/step - loss: 0.0030 - mean_absolute_percentage_error: 190475.4062 - val_loss: 0.0028 - val_mean_absolute_percentage_error: 156747.5000\n",
      "Epoch 7/10\n",
      "3498/3498 [==============================] - 592s 169ms/step - loss: 77349.9531 - mean_absolute_percentage_error: 225232224.0000 - val_loss: 0.0028 - val_mean_absolute_percentage_error: 148003.3281\n",
      "Epoch 8/10\n",
      "3498/3498 [==============================] - 594s 170ms/step - loss: 732518656.0000 - mean_absolute_percentage_error: 29986516992.0000 - val_loss: 0.0028 - val_mean_absolute_percentage_error: 405369.5625\n",
      "Epoch 9/10\n",
      "3498/3498 [==============================] - 593s 170ms/step - loss: 24348518400.0000 - mean_absolute_percentage_error: 267092180992.0000 - val_loss: 0.0029 - val_mean_absolute_percentage_error: 2088522.1250\n",
      "Epoch 10/10\n",
      "3498/3498 [==============================] - 543s 155ms/step - loss: 577341952.0000 - mean_absolute_percentage_error: 21416001536.0000 - val_loss: 0.0028 - val_mean_absolute_percentage_error: 173481.6406\n",
      "871/871 [==============================] - 40s 45ms/step - loss: 0.0028 - mean_absolute_percentage_error: 192789.3906\n",
      "Result: 0.0028200154192745686\n"
     ]
    },
    {
     "name": "stderr",
     "output_type": "stream",
     "text": [
      "\u001B[32m[I 2022-06-13 16:23:55,517]\u001B[0m Trial 41 finished with value: 0.0028200154192745686 and parameters: {'sequence_length': 13, 'model_dimension': 157, 'number_of_attention_heads': 4, 'encoder_layers': 9, 'ff_neurons': 108, 'hidden_layers': 4, 'dropout_rate': 0.10995636208524415, 'activation': 'tanh', 'optimizer': 'rmsprop', 'batch_size': 97}. Best is trial 41 with value: 0.0028200154192745686.\u001B[0m\n"
     ]
    },
    {
     "name": "stdout",
     "output_type": "stream",
     "text": [
      "Epoch 1/10\n",
      "3534/3534 [==============================] - 590s 164ms/step - loss: 5708936.0000 - mean_absolute_percentage_error: 1363350656.0000 - val_loss: 0.0028 - val_mean_absolute_percentage_error: 1168490.2500\n",
      "Epoch 2/10\n",
      "3534/3534 [==============================] - 580s 164ms/step - loss: 1980578048.0000 - mean_absolute_percentage_error: 529314816.0000 - val_loss: 0.0028 - val_mean_absolute_percentage_error: 339159.0625\n",
      "Epoch 3/10\n",
      "3534/3534 [==============================] - 580s 164ms/step - loss: 90.7812 - mean_absolute_percentage_error: 204565.0469 - val_loss: 0.0028 - val_mean_absolute_percentage_error: 183492.3750\n",
      "Epoch 4/10\n",
      "3534/3534 [==============================] - 581s 164ms/step - loss: 203851904.0000 - mean_absolute_percentage_error: 680171392.0000 - val_loss: 0.0028 - val_mean_absolute_percentage_error: 94697.7734\n",
      "Epoch 5/10\n",
      "3534/3534 [==============================] - 611s 173ms/step - loss: 692624320.0000 - mean_absolute_percentage_error: 35099041792.0000 - val_loss: 0.0028 - val_mean_absolute_percentage_error: 118448.7656\n",
      "Epoch 6/10\n",
      "3534/3534 [==============================] - 581s 164ms/step - loss: 7220276224.0000 - mean_absolute_percentage_error: 56963899392.0000 - val_loss: 0.0028 - val_mean_absolute_percentage_error: 25465.5449\n",
      "Epoch 7/10\n",
      "3534/3534 [==============================] - 582s 165ms/step - loss: 43566891008.0000 - mean_absolute_percentage_error: 205209075712.0000 - val_loss: 0.0028 - val_mean_absolute_percentage_error: 114261.7734\n",
      "Epoch 8/10\n",
      "3534/3534 [==============================] - 583s 165ms/step - loss: 0.0030 - mean_absolute_percentage_error: 196636.3750 - val_loss: 0.0028 - val_mean_absolute_percentage_error: 162596.5781\n",
      "Epoch 9/10\n",
      "3534/3534 [==============================] - 583s 165ms/step - loss: 0.0030 - mean_absolute_percentage_error: 191207.8750 - val_loss: 0.0028 - val_mean_absolute_percentage_error: 32484.4688\n",
      "Epoch 10/10\n",
      "3534/3534 [==============================] - 586s 166ms/step - loss: 5340133376.0000 - mean_absolute_percentage_error: 7663859.0000 - val_loss: 0.0028 - val_mean_absolute_percentage_error: 86117.4531\n",
      "880/880 [==============================] - 43s 49ms/step - loss: 0.0028 - mean_absolute_percentage_error: 95626.6250\n",
      "Result: 0.002822780515998602\n"
     ]
    },
    {
     "name": "stderr",
     "output_type": "stream",
     "text": [
      "\u001B[32m[I 2022-06-13 18:04:38,273]\u001B[0m Trial 42 finished with value: 0.002822780515998602 and parameters: {'sequence_length': 13, 'model_dimension': 175, 'number_of_attention_heads': 4, 'encoder_layers': 9, 'ff_neurons': 135, 'hidden_layers': 4, 'dropout_rate': 0.03149177430608134, 'activation': 'tanh', 'optimizer': 'rmsprop', 'batch_size': 96}. Best is trial 41 with value: 0.0028200154192745686.\u001B[0m\n"
     ]
    },
    {
     "name": "stdout",
     "output_type": "stream",
     "text": [
      "Epoch 1/10\n",
      "3665/3665 [==============================] - 629s 168ms/step - loss: 89.2728 - mean_absolute_percentage_error: 76943136.0000 - val_loss: 0.0030 - val_mean_absolute_percentage_error: 40811.4883\n",
      "Epoch 2/10\n",
      "3665/3665 [==============================] - ETA: 0s - loss: 12.2406 - mean_absolute_percentage_error: 1489733.8750"
     ]
    },
    {
     "name": "stderr",
     "output_type": "stream",
     "text": [
      "\u001B[32m[I 2022-06-13 18:27:48,786]\u001B[0m Trial 43 pruned. Trial was pruned at epoch 1.\u001B[0m\n"
     ]
    },
    {
     "name": "stdout",
     "output_type": "stream",
     "text": [
      "Epoch 1/10\n",
      "2780/2780 [==============================] - 589s 209ms/step - loss: nan - mean_absolute_percentage_error: nan - val_loss: nan - val_mean_absolute_percentage_error: nan\n",
      "Epoch 2/10\n",
      "2780/2780 [==============================] - ETA: 0s - loss: nan - mean_absolute_percentage_error: nan"
     ]
    },
    {
     "name": "stderr",
     "output_type": "stream",
     "text": [
      "\u001B[32m[I 2022-06-13 18:50:57,222]\u001B[0m Trial 44 pruned. Trial was pruned at epoch 1.\u001B[0m\n"
     ]
    },
    {
     "name": "stdout",
     "output_type": "stream",
     "text": [
      "Epoch 1/10\n",
      "3856/3856 [==============================] - 491s 126ms/step - loss: 0.0042 - mean_absolute_percentage_error: 5987848.5000 - val_loss: 0.0029 - val_mean_absolute_percentage_error: 1573688.6250\n",
      "Epoch 2/10\n",
      "3856/3856 [==============================] - 483s 125ms/step - loss: 0.0034 - mean_absolute_percentage_error: 3833904.0000 - val_loss: 0.0029 - val_mean_absolute_percentage_error: 1255208.6250\n",
      "Epoch 3/10\n",
      "3856/3856 [==============================] - 485s 126ms/step - loss: 0.0033 - mean_absolute_percentage_error: 3174243.2500 - val_loss: 0.0029 - val_mean_absolute_percentage_error: 1246644.3750\n",
      "Epoch 4/10\n",
      "3856/3856 [==============================] - 486s 126ms/step - loss: 0.0032 - mean_absolute_percentage_error: 2786884.7500 - val_loss: 0.0028 - val_mean_absolute_percentage_error: 1062741.6250\n",
      "Epoch 5/10\n",
      "3856/3856 [==============================] - 486s 126ms/step - loss: 0.0031 - mean_absolute_percentage_error: 2509921.7500 - val_loss: 0.0028 - val_mean_absolute_percentage_error: 925336.0000\n",
      "Epoch 6/10\n",
      "3856/3856 [==============================] - 486s 126ms/step - loss: 0.0031 - mean_absolute_percentage_error: 2304648.5000 - val_loss: 0.0028 - val_mean_absolute_percentage_error: 928483.5000\n",
      "Epoch 7/10\n",
      "3856/3856 [==============================] - 486s 126ms/step - loss: 0.0031 - mean_absolute_percentage_error: 2137694.5000 - val_loss: 0.0028 - val_mean_absolute_percentage_error: 845506.9375\n",
      "Epoch 8/10\n",
      "3856/3856 [==============================] - 488s 127ms/step - loss: 0.0031 - mean_absolute_percentage_error: 1992683.5000 - val_loss: 0.0028 - val_mean_absolute_percentage_error: 746706.8750\n",
      "Epoch 9/10\n",
      "3856/3856 [==============================] - 489s 127ms/step - loss: 0.0031 - mean_absolute_percentage_error: 1876319.0000 - val_loss: 0.0028 - val_mean_absolute_percentage_error: 647195.5625\n",
      "Epoch 10/10\n",
      "3856/3856 [==============================] - 490s 127ms/step - loss: 0.0031 - mean_absolute_percentage_error: 1771315.6250 - val_loss: 0.0028 - val_mean_absolute_percentage_error: 547248.8750\n",
      "960/960 [==============================] - 44s 46ms/step - loss: 0.0028 - mean_absolute_percentage_error: 653195.3125\n",
      "Result: 0.0028167979326099157\n"
     ]
    },
    {
     "name": "stderr",
     "output_type": "stream",
     "text": [
      "\u001B[32m[I 2022-06-13 20:15:21,836]\u001B[0m Trial 45 finished with value: 0.0028167979326099157 and parameters: {'sequence_length': 13, 'model_dimension': 180, 'number_of_attention_heads': 4, 'encoder_layers': 7, 'ff_neurons': 192, 'hidden_layers': 10, 'dropout_rate': 0.03316042307281653, 'activation': 'sigmoid', 'optimizer': 'adagrad', 'batch_size': 88}. Best is trial 45 with value: 0.0028167979326099157.\u001B[0m\n"
     ]
    },
    {
     "name": "stdout",
     "output_type": "stream",
     "text": [
      "Epoch 1/10\n",
      "7405/7405 [==============================] - 784s 105ms/step - loss: 0.0036 - mean_absolute_percentage_error: 3971892.7500 - val_loss: 0.0031 - val_mean_absolute_percentage_error: 2220326.2500\n",
      "Epoch 2/10\n",
      "7405/7405 [==============================] - ETA: 0s - loss: 0.0031 - mean_absolute_percentage_error: 2467916.5000"
     ]
    },
    {
     "name": "stderr",
     "output_type": "stream",
     "text": [
      "\u001B[32m[I 2022-06-13 20:44:00,869]\u001B[0m Trial 46 pruned. Trial was pruned at epoch 1.\u001B[0m\n"
     ]
    },
    {
     "name": "stdout",
     "output_type": "stream",
     "text": [
      "Epoch 1/10\n",
      "4712/4712 [==============================] - 621s 130ms/step - loss: 0.0057 - mean_absolute_percentage_error: 7937122.0000 - val_loss: 0.0029 - val_mean_absolute_percentage_error: 907697.3125\n",
      "Epoch 2/10\n",
      "4712/4712 [==============================] - 615s 131ms/step - loss: 0.0038 - mean_absolute_percentage_error: 4587970.0000 - val_loss: 0.0028 - val_mean_absolute_percentage_error: 422074.8750\n",
      "Epoch 3/10\n",
      "4712/4712 [==============================] - 615s 130ms/step - loss: 0.0035 - mean_absolute_percentage_error: 3625879.0000 - val_loss: 0.0028 - val_mean_absolute_percentage_error: 405341.1562\n",
      "Epoch 4/10\n",
      "4712/4712 [==============================] - 616s 131ms/step - loss: 0.0033 - mean_absolute_percentage_error: 3070588.5000 - val_loss: 0.0028 - val_mean_absolute_percentage_error: 459394.3125\n",
      "Epoch 5/10\n",
      "4712/4712 [==============================] - 616s 131ms/step - loss: 0.0032 - mean_absolute_percentage_error: 2700071.7500 - val_loss: 0.0028 - val_mean_absolute_percentage_error: 495631.9688\n",
      "Epoch 6/10\n",
      "4712/4712 [==============================] - 617s 131ms/step - loss: 0.0032 - mean_absolute_percentage_error: 2430476.2500 - val_loss: 0.0028 - val_mean_absolute_percentage_error: 527938.1250\n",
      "Epoch 7/10\n",
      "4712/4712 [==============================] - 617s 131ms/step - loss: 0.0031 - mean_absolute_percentage_error: 2226771.2500 - val_loss: 0.0028 - val_mean_absolute_percentage_error: 546285.8125\n",
      "Epoch 8/10\n",
      "4712/4712 [==============================] - 621s 132ms/step - loss: 0.0031 - mean_absolute_percentage_error: 2044321.0000 - val_loss: 0.0028 - val_mean_absolute_percentage_error: 587382.5625\n",
      "Epoch 9/10\n",
      "4712/4712 [==============================] - 616s 131ms/step - loss: 0.0031 - mean_absolute_percentage_error: 1908496.5000 - val_loss: 0.0028 - val_mean_absolute_percentage_error: 564457.5625\n",
      "Epoch 10/10\n",
      "4712/4712 [==============================] - 616s 131ms/step - loss: 0.0031 - mean_absolute_percentage_error: 1794381.0000 - val_loss: 0.0028 - val_mean_absolute_percentage_error: 518942.4375\n",
      "1173/1173 [==============================] - 55s 47ms/step - loss: 0.0028 - mean_absolute_percentage_error: 571875.8125\n",
      "Result: 0.002840370638296008\n"
     ]
    },
    {
     "name": "stderr",
     "output_type": "stream",
     "text": [
      "\u001B[32m[I 2022-06-13 22:30:17,016]\u001B[0m Trial 47 finished with value: 0.002840370638296008 and parameters: {'sequence_length': 13, 'model_dimension': 196, 'number_of_attention_heads': 4, 'encoder_layers': 8, 'ff_neurons': 196, 'hidden_layers': 10, 'dropout_rate': 0.08084032463175427, 'activation': 'sigmoid', 'optimizer': 'adagrad', 'batch_size': 72}. Best is trial 45 with value: 0.0028167979326099157.\u001B[0m\n"
     ]
    },
    {
     "name": "stdout",
     "output_type": "stream",
     "text": [
      "Epoch 1/10\n",
      "3856/3856 [==============================] - 641s 164ms/step - loss: 0.0039 - mean_absolute_percentage_error: 4348270.0000 - val_loss: 0.0029 - val_mean_absolute_percentage_error: 1241931.3750\n",
      "Epoch 2/10\n",
      "3856/3856 [==============================] - 632s 164ms/step - loss: 0.0033 - mean_absolute_percentage_error: 2953438.7500 - val_loss: 0.0029 - val_mean_absolute_percentage_error: 945462.0000\n",
      "Epoch 3/10\n",
      "3856/3856 [==============================] - 635s 165ms/step - loss: 0.0032 - mean_absolute_percentage_error: 2506591.5000 - val_loss: 0.0029 - val_mean_absolute_percentage_error: 826282.5000\n",
      "Epoch 4/10\n",
      "3856/3856 [==============================] - 632s 164ms/step - loss: 0.0031 - mean_absolute_percentage_error: 2226584.0000 - val_loss: 0.0028 - val_mean_absolute_percentage_error: 673308.5625\n",
      "Epoch 5/10\n",
      "3856/3856 [==============================] - ETA: 0s - loss: 0.0031 - mean_absolute_percentage_error: 2015932.5000"
     ]
    },
    {
     "name": "stderr",
     "output_type": "stream",
     "text": [
      "\u001B[32m[I 2022-06-13 23:25:39,777]\u001B[0m Trial 48 pruned. Trial was pruned at epoch 4.\u001B[0m\n"
     ]
    },
    {
     "name": "stdout",
     "output_type": "stream",
     "text": [
      "Epoch 1/10\n",
      "4975/4975 [==============================] - 973s 194ms/step - loss: 0.0060 - mean_absolute_percentage_error: 9195652.0000 - val_loss: 0.0030 - val_mean_absolute_percentage_error: 879231.3125\n",
      "Epoch 2/10\n",
      "4975/4975 [==============================] - ETA: 0s - loss: 0.0039 - mean_absolute_percentage_error: 5477661.0000"
     ]
    },
    {
     "name": "stderr",
     "output_type": "stream",
     "text": [
      "\u001B[32m[I 2022-06-14 00:00:30,367]\u001B[0m Trial 49 pruned. Trial was pruned at epoch 1.\u001B[0m\n"
     ]
    },
    {
     "name": "stdout",
     "output_type": "stream",
     "text": [
      "Epoch 1/10\n",
      "6525/6525 [==============================] - 967s 147ms/step - loss: 0.0046 - mean_absolute_percentage_error: 6451363.0000 - val_loss: 0.0030 - val_mean_absolute_percentage_error: 2671712.0000\n",
      "Epoch 2/10\n",
      "6525/6525 [==============================] - 959s 147ms/step - loss: 0.0034 - mean_absolute_percentage_error: 3658881.7500 - val_loss: 0.0029 - val_mean_absolute_percentage_error: 1799950.8750\n",
      "Epoch 3/10\n",
      "6525/6525 [==============================] - 962s 147ms/step - loss: 0.0033 - mean_absolute_percentage_error: 2865349.5000 - val_loss: 0.0029 - val_mean_absolute_percentage_error: 1402992.0000\n",
      "Epoch 4/10\n",
      "6525/6525 [==============================] - 964s 148ms/step - loss: 0.0032 - mean_absolute_percentage_error: 2418743.5000 - val_loss: 0.0028 - val_mean_absolute_percentage_error: 1123471.1250\n",
      "Epoch 5/10\n",
      "6525/6525 [==============================] - 965s 148ms/step - loss: 0.0031 - mean_absolute_percentage_error: 2140053.7500 - val_loss: 0.0028 - val_mean_absolute_percentage_error: 956935.1250\n",
      "Epoch 6/10\n",
      "6525/6525 [==============================] - 965s 148ms/step - loss: 0.0031 - mean_absolute_percentage_error: 1930259.0000 - val_loss: 0.0028 - val_mean_absolute_percentage_error: 869731.8750\n",
      "Epoch 7/10\n",
      "6525/6525 [==============================] - 967s 148ms/step - loss: 0.0031 - mean_absolute_percentage_error: 1762856.2500 - val_loss: 0.0028 - val_mean_absolute_percentage_error: 829949.9375\n",
      "Epoch 8/10\n",
      "6525/6525 [==============================] - 968s 148ms/step - loss: 0.0031 - mean_absolute_percentage_error: 1623747.7500 - val_loss: 0.0028 - val_mean_absolute_percentage_error: 748977.9375\n",
      "Epoch 9/10\n",
      "6525/6525 [==============================] - 967s 148ms/step - loss: 0.0030 - mean_absolute_percentage_error: 1516438.1250 - val_loss: 0.0028 - val_mean_absolute_percentage_error: 702642.5000\n",
      "Epoch 10/10\n",
      "6525/6525 [==============================] - 969s 148ms/step - loss: 0.0030 - mean_absolute_percentage_error: 1426744.5000 - val_loss: 0.0028 - val_mean_absolute_percentage_error: 567901.0625\n",
      "1624/1624 [==============================] - 89s 55ms/step - loss: 0.0028 - mean_absolute_percentage_error: 626504.4375\n",
      "Result: 0.0028232280164957047\n"
     ]
    },
    {
     "name": "stderr",
     "output_type": "stream",
     "text": [
      "\u001B[32m[I 2022-06-14 02:45:22,160]\u001B[0m Trial 50 finished with value: 0.0028232280164957047 and parameters: {'sequence_length': 13, 'model_dimension': 191, 'number_of_attention_heads': 5, 'encoder_layers': 10, 'ff_neurons': 228, 'hidden_layers': 10, 'dropout_rate': 0.05946628803211375, 'activation': 'sigmoid', 'optimizer': 'adagrad', 'batch_size': 52}. Best is trial 45 with value: 0.0028167979326099157.\u001B[0m\n"
     ]
    },
    {
     "name": "stdout",
     "output_type": "stream",
     "text": [
      "Epoch 1/10\n",
      "7376/7376 [==============================] - 1022s 137ms/step - loss: 0.0042 - mean_absolute_percentage_error: 5415105.0000 - val_loss: 0.0028 - val_mean_absolute_percentage_error: 731124.1250\n",
      "Epoch 2/10\n",
      "7376/7376 [==============================] - 1014s 138ms/step - loss: 0.0033 - mean_absolute_percentage_error: 3069615.5000 - val_loss: 0.0028 - val_mean_absolute_percentage_error: 576766.3750\n",
      "Epoch 3/10\n",
      "7376/7376 [==============================] - 1017s 138ms/step - loss: 0.0032 - mean_absolute_percentage_error: 2413992.0000 - val_loss: 0.0028 - val_mean_absolute_percentage_error: 791858.3125\n",
      "Epoch 4/10\n",
      "7376/7376 [==============================] - 986s 134ms/step - loss: 0.0031 - mean_absolute_percentage_error: 2050698.3750 - val_loss: 0.0028 - val_mean_absolute_percentage_error: 780326.6875\n",
      "Epoch 5/10\n",
      "7376/7376 [==============================] - 889s 120ms/step - loss: 0.0031 - mean_absolute_percentage_error: 1809456.1250 - val_loss: 0.0028 - val_mean_absolute_percentage_error: 940864.8125\n",
      "Epoch 6/10\n",
      "7376/7376 [==============================] - 888s 120ms/step - loss: 0.0031 - mean_absolute_percentage_error: 1643121.0000 - val_loss: 0.0028 - val_mean_absolute_percentage_error: 830393.6875\n",
      "Epoch 7/10\n",
      "7376/7376 [==============================] - 890s 121ms/step - loss: 0.0030 - mean_absolute_percentage_error: 1496897.3750 - val_loss: 0.0028 - val_mean_absolute_percentage_error: 813020.0000\n",
      "Epoch 8/10\n",
      "7376/7376 [==============================] - 892s 121ms/step - loss: 0.0030 - mean_absolute_percentage_error: 1386614.3750 - val_loss: 0.0028 - val_mean_absolute_percentage_error: 785170.6875\n",
      "Epoch 9/10\n",
      "7376/7376 [==============================] - 896s 121ms/step - loss: 0.0030 - mean_absolute_percentage_error: 1291420.0000 - val_loss: 0.0028 - val_mean_absolute_percentage_error: 730942.7500\n",
      "Epoch 10/10\n",
      "7376/7376 [==============================] - 894s 121ms/step - loss: 0.0030 - mean_absolute_percentage_error: 1216489.1250 - val_loss: 0.0028 - val_mean_absolute_percentage_error: 584110.4375\n",
      "1836/1836 [==============================] - 81s 44ms/step - loss: 0.0028 - mean_absolute_percentage_error: 625542.7500\n",
      "Result: 0.0028252145275473595\n"
     ]
    },
    {
     "name": "stderr",
     "output_type": "stream",
     "text": [
      "\u001B[32m[I 2022-06-14 05:25:41,273]\u001B[0m Trial 51 finished with value: 0.0028252145275473595 and parameters: {'sequence_length': 13, 'model_dimension': 190, 'number_of_attention_heads': 5, 'encoder_layers': 10, 'ff_neurons': 237, 'hidden_layers': 10, 'dropout_rate': 0.05751156372657435, 'activation': 'sigmoid', 'optimizer': 'adagrad', 'batch_size': 46}. Best is trial 45 with value: 0.0028167979326099157.\u001B[0m\n"
     ]
    },
    {
     "name": "stdout",
     "output_type": "stream",
     "text": [
      "Epoch 1/10\n",
      "7570/7570 [==============================] - 958s 125ms/step - loss: 0.0042 - mean_absolute_percentage_error: 5617062.0000 - val_loss: 0.0031 - val_mean_absolute_percentage_error: 1200380.3750\n",
      "Epoch 2/10\n",
      "7570/7570 [==============================] - ETA: 0s - loss: 0.0033 - mean_absolute_percentage_error: 3392896.2500"
     ]
    },
    {
     "name": "stderr",
     "output_type": "stream",
     "text": [
      "\u001B[32m[I 2022-06-14 05:59:54,517]\u001B[0m Trial 52 pruned. Trial was pruned at epoch 1.\u001B[0m\n"
     ]
    },
    {
     "name": "stdout",
     "output_type": "stream",
     "text": [
      "Epoch 1/10\n",
      "9693/9693 [==============================] - 900s 92ms/step - loss: 0.0038 - mean_absolute_percentage_error: 4824795.5000 - val_loss: 0.0029 - val_mean_absolute_percentage_error: 2497487.7500\n",
      "Epoch 2/10\n",
      "9693/9693 [==============================] - 893s 92ms/step - loss: 0.0032 - mean_absolute_percentage_error: 2834688.2500 - val_loss: 0.0028 - val_mean_absolute_percentage_error: 1786437.8750\n",
      "Epoch 3/10\n",
      "9693/9693 [==============================] - 899s 93ms/step - loss: 0.0031 - mean_absolute_percentage_error: 2317434.7500 - val_loss: 0.0028 - val_mean_absolute_percentage_error: 1616198.2500\n",
      "Epoch 4/10\n",
      "9693/9693 [==============================] - 905s 93ms/step - loss: 0.0031 - mean_absolute_percentage_error: 2029248.7500 - val_loss: 0.0028 - val_mean_absolute_percentage_error: 1240050.8750\n",
      "Epoch 5/10\n",
      "9693/9693 [==============================] - 907s 94ms/step - loss: 0.0030 - mean_absolute_percentage_error: 1819282.6250 - val_loss: 0.0028 - val_mean_absolute_percentage_error: 1079979.3750\n",
      "Epoch 6/10\n",
      "9693/9693 [==============================] - 910s 94ms/step - loss: 0.0030 - mean_absolute_percentage_error: 1680298.7500 - val_loss: 0.0028 - val_mean_absolute_percentage_error: 1005045.1875\n",
      "Epoch 7/10\n",
      "9693/9693 [==============================] - 914s 94ms/step - loss: 0.0030 - mean_absolute_percentage_error: 1560548.2500 - val_loss: 0.0028 - val_mean_absolute_percentage_error: 739532.6250\n",
      "Epoch 8/10\n",
      "9693/9693 [==============================] - 1003s 103ms/step - loss: 0.0030 - mean_absolute_percentage_error: 1465808.3750 - val_loss: 0.0028 - val_mean_absolute_percentage_error: 685032.3125\n",
      "Epoch 9/10\n",
      "9693/9693 [==============================] - 1078s 111ms/step - loss: 0.0030 - mean_absolute_percentage_error: 1378801.2500 - val_loss: 0.0028 - val_mean_absolute_percentage_error: 609910.0000\n",
      "Epoch 10/10\n",
      "9693/9693 [==============================] - 1080s 111ms/step - loss: 0.0030 - mean_absolute_percentage_error: 1319865.5000 - val_loss: 0.0028 - val_mean_absolute_percentage_error: 500543.4688\n",
      "2413/2413 [==============================] - 102s 42ms/step - loss: 0.0028 - mean_absolute_percentage_error: 526935.2500\n",
      "Result: 0.0028134321328252554\n"
     ]
    },
    {
     "name": "stderr",
     "output_type": "stream",
     "text": [
      "\u001B[32m[I 2022-06-14 08:42:52,051]\u001B[0m Trial 53 finished with value: 0.0028134321328252554 and parameters: {'sequence_length': 13, 'model_dimension': 176, 'number_of_attention_heads': 4, 'encoder_layers': 10, 'ff_neurons': 229, 'hidden_layers': 9, 'dropout_rate': 0.013421302851038347, 'activation': 'sigmoid', 'optimizer': 'adagrad', 'batch_size': 35}. Best is trial 53 with value: 0.0028134321328252554.\u001B[0m\n"
     ]
    },
    {
     "name": "stdout",
     "output_type": "stream",
     "text": [
      "Epoch 1/10\n",
      "30574/30574 [==============================] - 2851s 93ms/step - loss: 0.0032 - mean_absolute_percentage_error: 2579388.5000 - val_loss: 0.0030 - val_mean_absolute_percentage_error: 1057281.8750\n",
      "Epoch 2/10\n",
      "30574/30574 [==============================] - ETA: 0s - loss: 0.0030 - mean_absolute_percentage_error: 1535844.2500"
     ]
    },
    {
     "name": "stderr",
     "output_type": "stream",
     "text": [
      "\u001B[32m[I 2022-06-14 10:21:04,757]\u001B[0m Trial 54 pruned. Trial was pruned at epoch 1.\u001B[0m\n"
     ]
    },
    {
     "name": "stdout",
     "output_type": "stream",
     "text": [
      "Epoch 1/10\n",
      "17097/17097 [==============================] - 1954s 114ms/step - loss: 0.0039 - mean_absolute_percentage_error: 4652213.0000 - val_loss: 0.0032 - val_mean_absolute_percentage_error: 774266.8125\n",
      "Epoch 2/10\n",
      "17097/17097 [==============================] - ETA: 0s - loss: 0.0032 - mean_absolute_percentage_error: 2654406.2500"
     ]
    },
    {
     "name": "stderr",
     "output_type": "stream",
     "text": [
      "\u001B[32m[I 2022-06-14 11:28:51,211]\u001B[0m Trial 55 pruned. Trial was pruned at epoch 1.\u001B[0m\n"
     ]
    },
    {
     "name": "stdout",
     "output_type": "stream",
     "text": [
      "Epoch 1/10\n",
      "9424/9424 [==============================] - 1070s 112ms/step - loss: 0.0031 - mean_absolute_percentage_error: 2083120.2500 - val_loss: 0.0028 - val_mean_absolute_percentage_error: 1128206.5000\n",
      "Epoch 2/10\n",
      "9424/9424 [==============================] - 1078s 114ms/step - loss: 0.0030 - mean_absolute_percentage_error: 1338215.5000 - val_loss: 0.0028 - val_mean_absolute_percentage_error: 1108344.8750\n",
      "Epoch 3/10\n",
      "9424/9424 [==============================] - 1081s 115ms/step - loss: 0.0030 - mean_absolute_percentage_error: 1130173.7500 - val_loss: 0.0028 - val_mean_absolute_percentage_error: 857741.8125\n",
      "Epoch 4/10\n",
      "9424/9424 [==============================] - 1099s 117ms/step - loss: 0.0030 - mean_absolute_percentage_error: 1012459.0000 - val_loss: 0.0028 - val_mean_absolute_percentage_error: 884976.1250\n",
      "Epoch 5/10\n",
      "9424/9424 [==============================] - 1100s 117ms/step - loss: 0.0030 - mean_absolute_percentage_error: 933023.4375 - val_loss: 0.0028 - val_mean_absolute_percentage_error: 709234.5625\n",
      "Epoch 6/10\n",
      "9424/9424 [==============================] - 1101s 117ms/step - loss: 0.0030 - mean_absolute_percentage_error: 885350.0000 - val_loss: 0.0028 - val_mean_absolute_percentage_error: 710939.6250\n",
      "Epoch 7/10\n",
      "9424/9424 [==============================] - 1087s 115ms/step - loss: 0.0030 - mean_absolute_percentage_error: 850543.5000 - val_loss: 0.0028 - val_mean_absolute_percentage_error: 677867.9375\n",
      "Epoch 8/10\n",
      "9424/9424 [==============================] - 1087s 115ms/step - loss: 0.0029 - mean_absolute_percentage_error: 807587.1250 - val_loss: 0.0028 - val_mean_absolute_percentage_error: 645654.1875\n",
      "Epoch 9/10\n",
      "9424/9424 [==============================] - 1095s 116ms/step - loss: 0.0029 - mean_absolute_percentage_error: 773730.9375 - val_loss: 0.0028 - val_mean_absolute_percentage_error: 583464.8125\n",
      "Epoch 10/10\n",
      "9424/9424 [==============================] - 1082s 115ms/step - loss: 0.0029 - mean_absolute_percentage_error: 756010.8750 - val_loss: 0.0028 - val_mean_absolute_percentage_error: 614610.9375\n",
      "2346/2346 [==============================] - 99s 42ms/step - loss: 0.0029 - mean_absolute_percentage_error: 689112.1875\n",
      "Result: 0.002854615217074752\n"
     ]
    },
    {
     "name": "stderr",
     "output_type": "stream",
     "text": [
      "\u001B[32m[I 2022-06-14 14:34:21,677]\u001B[0m Trial 56 finished with value: 0.002854615217074752 and parameters: {'sequence_length': 13, 'model_dimension': 175, 'number_of_attention_heads': 4, 'encoder_layers': 10, 'ff_neurons': 221, 'hidden_layers': 10, 'dropout_rate': 0.00014676746538830332, 'activation': 'sigmoid', 'optimizer': 'adagrad', 'batch_size': 36}. Best is trial 53 with value: 0.0028134321328252554.\u001B[0m\n"
     ]
    },
    {
     "name": "stdout",
     "output_type": "stream",
     "text": [
      "Epoch 1/10\n",
      "5976/5976 [==============================] - 776s 128ms/step - loss: 0.0068 - mean_absolute_percentage_error: 9737045.0000 - val_loss: 0.0031 - val_mean_absolute_percentage_error: 1082338.7500\n",
      "Epoch 2/10\n",
      "5976/5976 [==============================] - ETA: 0s - loss: 0.0040 - mean_absolute_percentage_error: 5441102.5000"
     ]
    },
    {
     "name": "stderr",
     "output_type": "stream",
     "text": [
      "\u001B[32m[I 2022-06-14 15:02:37,109]\u001B[0m Trial 57 pruned. Trial was pruned at epoch 1.\u001B[0m\n"
     ]
    },
    {
     "name": "stdout",
     "output_type": "stream",
     "text": [
      "Epoch 1/10\n",
      "6228/6228 [==============================] - 961s 153ms/step - loss: 0.0039 - mean_absolute_percentage_error: 4804439.0000 - val_loss: 0.0031 - val_mean_absolute_percentage_error: 1296182.3750\n",
      "Epoch 2/10\n",
      "6228/6228 [==============================] - ETA: 0s - loss: 0.0033 - mean_absolute_percentage_error: 3112060.0000"
     ]
    },
    {
     "name": "stderr",
     "output_type": "stream",
     "text": [
      "\u001B[32m[I 2022-06-14 15:37:00,531]\u001B[0m Trial 58 pruned. Trial was pruned at epoch 1.\u001B[0m\n"
     ]
    },
    {
     "name": "stdout",
     "output_type": "stream",
     "text": [
      "Epoch 1/10\n",
      "9170/9170 [==============================] - 1046s 113ms/step - loss: 0.0053 - mean_absolute_percentage_error: 7758931.0000 - val_loss: 0.0028 - val_mean_absolute_percentage_error: 803926.0000\n",
      "Epoch 2/10\n",
      "9170/9170 [==============================] - 1042s 114ms/step - loss: 0.0035 - mean_absolute_percentage_error: 4026514.0000 - val_loss: 0.0028 - val_mean_absolute_percentage_error: 836580.0000\n",
      "Epoch 3/10\n",
      "9170/9170 [==============================] - 1045s 114ms/step - loss: 0.0033 - mean_absolute_percentage_error: 3074539.7500 - val_loss: 0.0028 - val_mean_absolute_percentage_error: 973780.3125\n",
      "Epoch 4/10\n",
      "9170/9170 [==============================] - 1047s 114ms/step - loss: 0.0032 - mean_absolute_percentage_error: 2544983.7500 - val_loss: 0.0028 - val_mean_absolute_percentage_error: 1062711.8750\n",
      "Epoch 5/10\n",
      "9170/9170 [==============================] - ETA: 0s - loss: 0.0031 - mean_absolute_percentage_error: 2175768.2500"
     ]
    },
    {
     "name": "stderr",
     "output_type": "stream",
     "text": [
      "\u001B[32m[I 2022-06-14 17:06:47,186]\u001B[0m Trial 59 pruned. Trial was pruned at epoch 4.\u001B[0m\n"
     ]
    },
    {
     "name": "stdout",
     "output_type": "stream",
     "text": [
      "Epoch 1/10\n",
      "14078/14078 [==============================] - 1263s 89ms/step - loss: nan - mean_absolute_percentage_error: nan - val_loss: nan - val_mean_absolute_percentage_error: nan\n",
      "Epoch 2/10\n",
      "14078/14078 [==============================] - ETA: 0s - loss: nan - mean_absolute_percentage_error: nan"
     ]
    },
    {
     "name": "stderr",
     "output_type": "stream",
     "text": [
      "\u001B[32m[I 2022-06-14 17:51:30,291]\u001B[0m Trial 60 pruned. Trial was pruned at epoch 1.\u001B[0m\n"
     ]
    },
    {
     "name": "stdout",
     "output_type": "stream",
     "text": [
      "Epoch 1/10\n",
      "4779/4779 [==============================] - 782s 162ms/step - loss: 0.0041 - mean_absolute_percentage_error: 5602265.5000 - val_loss: 0.0029 - val_mean_absolute_percentage_error: 2872081.0000\n",
      "Epoch 2/10\n",
      "4779/4779 [==============================] - 770s 161ms/step - loss: 0.0034 - mean_absolute_percentage_error: 3441411.0000 - val_loss: 0.0029 - val_mean_absolute_percentage_error: 2281358.2500\n",
      "Epoch 3/10\n",
      "4779/4779 [==============================] - 770s 161ms/step - loss: 0.0032 - mean_absolute_percentage_error: 2822518.0000 - val_loss: 0.0028 - val_mean_absolute_percentage_error: 1720697.8750\n",
      "Epoch 4/10\n",
      "4779/4779 [==============================] - 771s 161ms/step - loss: 0.0032 - mean_absolute_percentage_error: 2465956.5000 - val_loss: 0.0028 - val_mean_absolute_percentage_error: 1546699.0000\n",
      "Epoch 5/10\n",
      "4779/4779 [==============================] - ETA: 0s - loss: 0.0031 - mean_absolute_percentage_error: 2193768.7500"
     ]
    },
    {
     "name": "stderr",
     "output_type": "stream",
     "text": [
      "\u001B[32m[I 2022-06-14 18:58:25,888]\u001B[0m Trial 61 pruned. Trial was pruned at epoch 4.\u001B[0m\n"
     ]
    },
    {
     "name": "stdout",
     "output_type": "stream",
     "text": [
      "Epoch 1/10\n",
      "6679/6679 [==============================] - 780s 116ms/step - loss: 0.0046 - mean_absolute_percentage_error: 6709171.0000 - val_loss: 0.0030 - val_mean_absolute_percentage_error: 1023254.8750\n",
      "Epoch 2/10\n",
      "6679/6679 [==============================] - ETA: 0s - loss: 0.0034 - mean_absolute_percentage_error: 3858489.7500"
     ]
    },
    {
     "name": "stderr",
     "output_type": "stream",
     "text": [
      "\u001B[32m[I 2022-06-14 19:27:00,417]\u001B[0m Trial 62 pruned. Trial was pruned at epoch 1.\u001B[0m\n"
     ]
    },
    {
     "name": "stdout",
     "output_type": "stream",
     "text": [
      "Epoch 1/10\n",
      "9242/9242 [==============================] - 1120s 120ms/step - loss: 0.0038 - mean_absolute_percentage_error: 4729612.5000 - val_loss: 0.0032 - val_mean_absolute_percentage_error: 1045488.0000\n",
      "Epoch 2/10\n",
      "9242/9242 [==============================] - ETA: 0s - loss: 0.0032 - mean_absolute_percentage_error: 2867997.0000"
     ]
    },
    {
     "name": "stderr",
     "output_type": "stream",
     "text": [
      "\u001B[32m[I 2022-06-14 20:07:21,295]\u001B[0m Trial 63 pruned. Trial was pruned at epoch 1.\u001B[0m\n"
     ]
    },
    {
     "name": "stdout",
     "output_type": "stream",
     "text": [
      "Epoch 1/10\n",
      "5064/5064 [==============================] - 618s 121ms/step - loss: 0.0053 - mean_absolute_percentage_error: 7455341.5000 - val_loss: 0.0028 - val_mean_absolute_percentage_error: 951077.8125\n",
      "Epoch 2/10\n",
      "5064/5064 [==============================] - 611s 121ms/step - loss: 0.0037 - mean_absolute_percentage_error: 4367744.0000 - val_loss: 0.0028 - val_mean_absolute_percentage_error: 1291486.6250\n",
      "Epoch 3/10\n",
      "5064/5064 [==============================] - 611s 121ms/step - loss: 0.0034 - mean_absolute_percentage_error: 3499717.2500 - val_loss: 0.0028 - val_mean_absolute_percentage_error: 1214777.2500\n",
      "Epoch 4/10\n",
      "5064/5064 [==============================] - 612s 121ms/step - loss: 0.0033 - mean_absolute_percentage_error: 2993666.2500 - val_loss: 0.0028 - val_mean_absolute_percentage_error: 1187806.2500\n",
      "Epoch 5/10\n",
      "5064/5064 [==============================] - ETA: 0s - loss: 0.0032 - mean_absolute_percentage_error: 2653725.7500"
     ]
    },
    {
     "name": "stderr",
     "output_type": "stream",
     "text": [
      "\u001B[32m[I 2022-06-14 21:01:23,076]\u001B[0m Trial 64 pruned. Trial was pruned at epoch 4.\u001B[0m\n"
     ]
    },
    {
     "name": "stdout",
     "output_type": "stream",
     "text": [
      "Epoch 1/10\n",
      "4566/4566 [==============================] - 626s 135ms/step - loss: 0.0046 - mean_absolute_percentage_error: 7013517.0000 - val_loss: 0.0029 - val_mean_absolute_percentage_error: 1763812.1250\n",
      "Epoch 2/10\n",
      "4566/4566 [==============================] - ETA: 0s - loss: 0.0035 - mean_absolute_percentage_error: 4216127.0000"
     ]
    },
    {
     "name": "stderr",
     "output_type": "stream",
     "text": [
      "\u001B[32m[I 2022-06-14 21:24:53,806]\u001B[0m Trial 65 pruned. Trial was pruned at epoch 1.\u001B[0m\n"
     ]
    },
    {
     "name": "stdout",
     "output_type": "stream",
     "text": [
      "Epoch 1/10\n",
      "3307/3307 [==============================] - 613s 183ms/step - loss: 0.0043 - mean_absolute_percentage_error: 5808180.0000 - val_loss: 0.0031 - val_mean_absolute_percentage_error: 1387716.3750\n",
      "Epoch 2/10\n",
      "3307/3307 [==============================] - ETA: 0s - loss: 0.0033 - mean_absolute_percentage_error: 3494277.5000"
     ]
    },
    {
     "name": "stderr",
     "output_type": "stream",
     "text": [
      "\u001B[32m[I 2022-06-14 21:47:44,372]\u001B[0m Trial 66 pruned. Trial was pruned at epoch 1.\u001B[0m\n"
     ]
    },
    {
     "name": "stdout",
     "output_type": "stream",
     "text": [
      "Epoch 1/10\n",
      "   6/4171 [..............................] - ETA: 11:04 - loss: 0.2570 - mean_absolute_percentage_error: 125650056.0000WARNING:tensorflow:Callback method `on_train_batch_end` is slow compared to the batch time (batch time: 0.0724s vs `on_train_batch_end` time: 0.0860s). Check your callbacks.\n",
      "4171/4171 [==============================] - 671s 159ms/step - loss: 0.0112 - mean_absolute_percentage_error: 15558302.0000 - val_loss: 0.0030 - val_mean_absolute_percentage_error: 2021686.0000\n",
      "Epoch 2/10\n",
      "4171/4171 [==============================] - ETA: 0s - loss: 0.0056 - mean_absolute_percentage_error: 9289596.0000"
     ]
    },
    {
     "name": "stderr",
     "output_type": "stream",
     "text": [
      "\u001B[32m[I 2022-06-14 22:12:32,273]\u001B[0m Trial 67 pruned. Trial was pruned at epoch 1.\u001B[0m\n"
     ]
    },
    {
     "name": "stdout",
     "output_type": "stream",
     "text": [
      "Epoch 1/10\n",
      "3504/3504 [==============================] - 559s 157ms/step - loss: 0.0036 - mean_absolute_percentage_error: 4353563.0000 - val_loss: 0.0030 - val_mean_absolute_percentage_error: 1536557.1250\n",
      "Epoch 2/10\n",
      "3504/3504 [==============================] - ETA: 0s - loss: 0.0032 - mean_absolute_percentage_error: 2738178.2500"
     ]
    },
    {
     "name": "stderr",
     "output_type": "stream",
     "text": [
      "\u001B[32m[I 2022-06-14 22:33:45,194]\u001B[0m Trial 68 pruned. Trial was pruned at epoch 1.\u001B[0m\n"
     ]
    },
    {
     "name": "stdout",
     "output_type": "stream",
     "text": [
      "Epoch 1/10\n",
      "3900/3900 [==============================] - 719s 181ms/step - loss: 0.0445 - mean_absolute_percentage_error: 2870281.7500 - val_loss: 0.0028 - val_mean_absolute_percentage_error: 79129.2422\n",
      "Epoch 2/10\n",
      "3900/3900 [==============================] - 705s 181ms/step - loss: 0.2675 - mean_absolute_percentage_error: 470658.1250 - val_loss: 0.0028 - val_mean_absolute_percentage_error: 236697.7344\n",
      "Epoch 3/10\n",
      "3900/3900 [==============================] - 708s 182ms/step - loss: 0.0057 - mean_absolute_percentage_error: 213536.3750 - val_loss: 0.0028 - val_mean_absolute_percentage_error: 452969.2500\n",
      "Epoch 4/10\n",
      "3900/3900 [==============================] - 708s 181ms/step - loss: 0.0144 - mean_absolute_percentage_error: 201769.5938 - val_loss: 0.0028 - val_mean_absolute_percentage_error: 625814.8125\n",
      "Epoch 5/10\n",
      "3900/3900 [==============================] - 708s 182ms/step - loss: 0.0243 - mean_absolute_percentage_error: 249915.8438 - val_loss: 0.0028 - val_mean_absolute_percentage_error: 207038.5469\n",
      "Epoch 6/10\n",
      "3900/3900 [==============================] - 709s 182ms/step - loss: 0.0291 - mean_absolute_percentage_error: 197885.0625 - val_loss: 0.0028 - val_mean_absolute_percentage_error: 150828.7656\n",
      "Epoch 7/10\n",
      "3900/3900 [==============================] - 710s 182ms/step - loss: 0.0058 - mean_absolute_percentage_error: 197481.0312 - val_loss: 0.0028 - val_mean_absolute_percentage_error: 87959.0391\n",
      "Epoch 8/10\n",
      "3900/3900 [==============================] - 713s 183ms/step - loss: 0.0030 - mean_absolute_percentage_error: 201004.2656 - val_loss: 0.0028 - val_mean_absolute_percentage_error: 285384.8750\n",
      "Epoch 9/10\n",
      "3900/3900 [==============================] - 712s 182ms/step - loss: 0.0050 - mean_absolute_percentage_error: 208565.0156 - val_loss: 0.0028 - val_mean_absolute_percentage_error: 21084.0215\n",
      "Epoch 10/10\n",
      "3900/3900 [==============================] - 717s 184ms/step - loss: 0.0032 - mean_absolute_percentage_error: 200666.5312 - val_loss: 0.0028 - val_mean_absolute_percentage_error: 170115.0938\n",
      "971/971 [==============================] - 56s 57ms/step - loss: 0.0028 - mean_absolute_percentage_error: 189045.8125\n",
      "Result: 0.002821354428306222\n"
     ]
    },
    {
     "name": "stderr",
     "output_type": "stream",
     "text": [
      "\u001B[32m[I 2022-06-15 00:35:40,110]\u001B[0m Trial 69 finished with value: 0.002821354428306222 and parameters: {'sequence_length': 13, 'model_dimension': 140, 'number_of_attention_heads': 4, 'encoder_layers': 10, 'ff_neurons': 159, 'hidden_layers': 9, 'dropout_rate': 0.03742761615600195, 'activation': 'sigmoid', 'optimizer': 'rmsprop', 'batch_size': 87}. Best is trial 53 with value: 0.0028134321328252554.\u001B[0m\n"
     ]
    },
    {
     "name": "stdout",
     "output_type": "stream",
     "text": [
      "Epoch 1/10\n",
      "3901/3901 [==============================] - 932s 235ms/step - loss: 2.8292 - mean_absolute_percentage_error: 8176770.0000 - val_loss: 0.0030 - val_mean_absolute_percentage_error: 249836.2969\n",
      "Epoch 2/10\n",
      "3901/3901 [==============================] - ETA: 0s - loss: 45.2431 - mean_absolute_percentage_error: 1589938.3750"
     ]
    },
    {
     "name": "stderr",
     "output_type": "stream",
     "text": [
      "\u001B[32m[I 2022-06-15 01:09:07,469]\u001B[0m Trial 70 pruned. Trial was pruned at epoch 1.\u001B[0m\n"
     ]
    },
    {
     "name": "stdout",
     "output_type": "stream",
     "text": [
      "Epoch 1/10\n",
      "10602/10602 [==============================] - 1554s 145ms/step - loss: 61.3854 - mean_absolute_percentage_error: 6239942.0000 - val_loss: 0.0028 - val_mean_absolute_percentage_error: 69430.0000\n",
      "Epoch 2/10\n",
      "10602/10602 [==============================] - 1561s 147ms/step - loss: 3.8335 - mean_absolute_percentage_error: 2092431.5000 - val_loss: 0.0028 - val_mean_absolute_percentage_error: 117823.8281\n",
      "Epoch 3/10\n",
      "10602/10602 [==============================] - 1579s 149ms/step - loss: 5.0041 - mean_absolute_percentage_error: 354448.1562 - val_loss: 0.0028 - val_mean_absolute_percentage_error: 221021.9062\n",
      "Epoch 4/10\n",
      "10602/10602 [==============================] - 1584s 149ms/step - loss: 1.2486 - mean_absolute_percentage_error: 381969.8438 - val_loss: 0.0028 - val_mean_absolute_percentage_error: 262881.9375\n",
      "Epoch 5/10\n",
      "10602/10602 [==============================] - 1588s 150ms/step - loss: 1.2611 - mean_absolute_percentage_error: 1440929.6250 - val_loss: 0.0028 - val_mean_absolute_percentage_error: 1357.6011\n",
      "Epoch 6/10\n",
      "10602/10602 [==============================] - 1603s 151ms/step - loss: 0.1719 - mean_absolute_percentage_error: 312887.8125 - val_loss: 0.0028 - val_mean_absolute_percentage_error: 316486.8438\n",
      "Epoch 7/10\n",
      "10602/10602 [==============================] - 1604s 151ms/step - loss: 0.0172 - mean_absolute_percentage_error: 291986.5625 - val_loss: 0.0028 - val_mean_absolute_percentage_error: 242013.5625\n",
      "Epoch 8/10\n",
      "10602/10602 [==============================] - 1593s 150ms/step - loss: 0.0030 - mean_absolute_percentage_error: 236703.6719 - val_loss: 0.0028 - val_mean_absolute_percentage_error: 746276.5000\n",
      "Epoch 9/10\n",
      "10602/10602 [==============================] - 1596s 151ms/step - loss: 8.1813 - mean_absolute_percentage_error: 445311.3750 - val_loss: 0.0028 - val_mean_absolute_percentage_error: 7261.1704\n",
      "Epoch 10/10\n",
      "10602/10602 [==============================] - 1597s 151ms/step - loss: 14.9852 - mean_absolute_percentage_error: 411883.1562 - val_loss: 0.0028 - val_mean_absolute_percentage_error: 467371.7500\n",
      "2639/2639 [==============================] - 110s 42ms/step - loss: 0.0028 - mean_absolute_percentage_error: 519467.0938\n",
      "Result: 0.0028226226568222046\n"
     ]
    },
    {
     "name": "stderr",
     "output_type": "stream",
     "text": [
      "\u001B[32m[I 2022-06-15 05:37:48,541]\u001B[0m Trial 71 finished with value: 0.0028226226568222046 and parameters: {'sequence_length': 13, 'model_dimension': 179, 'number_of_attention_heads': 4, 'encoder_layers': 10, 'ff_neurons': 164, 'hidden_layers': 10, 'dropout_rate': 0.0632280781772483, 'activation': 'sigmoid', 'optimizer': 'rmsprop', 'batch_size': 32}. Best is trial 53 with value: 0.0028134321328252554.\u001B[0m\n"
     ]
    },
    {
     "name": "stdout",
     "output_type": "stream",
     "text": [
      "Epoch 1/10\n",
      "16893/16893 [==============================] - 2182s 128ms/step - loss: 5.9822 - mean_absolute_percentage_error: 6162102.5000 - val_loss: 0.0029 - val_mean_absolute_percentage_error: 116891.0781\n",
      "Epoch 2/10\n",
      "16893/16893 [==============================] - ETA: 0s - loss: 96.5950 - mean_absolute_percentage_error: 9624496.0000"
     ]
    },
    {
     "name": "stderr",
     "output_type": "stream",
     "text": [
      "\u001B[32m[I 2022-06-15 06:53:18,500]\u001B[0m Trial 72 pruned. Trial was pruned at epoch 1.\u001B[0m\n"
     ]
    },
    {
     "name": "stdout",
     "output_type": "stream",
     "text": [
      "Epoch 1/10\n",
      "8308/8308 [==============================] - 1124s 133ms/step - loss: 0.0146 - mean_absolute_percentage_error: 1575246.3750 - val_loss: 0.0030 - val_mean_absolute_percentage_error: 708687.5625\n",
      "Epoch 2/10\n",
      "8308/8308 [==============================] - ETA: 0s - loss: 0.6206 - mean_absolute_percentage_error: 240991.8906"
     ]
    },
    {
     "name": "stderr",
     "output_type": "stream",
     "text": [
      "\u001B[32m[I 2022-06-15 07:33:41,047]\u001B[0m Trial 73 pruned. Trial was pruned at epoch 1.\u001B[0m\n"
     ]
    },
    {
     "name": "stdout",
     "output_type": "stream",
     "text": [
      "Epoch 1/10\n",
      "11156/11156 [==============================] - 1527s 136ms/step - loss: 187.4454 - mean_absolute_percentage_error: 11453740.0000 - val_loss: 0.0031 - val_mean_absolute_percentage_error: 16905.5352\n",
      "Epoch 2/10\n",
      "11156/11156 [==============================] - ETA: 0s - loss: 0.5349 - mean_absolute_percentage_error: 333460.6250"
     ]
    },
    {
     "name": "stderr",
     "output_type": "stream",
     "text": [
      "\u001B[32m[I 2022-06-15 08:26:52,354]\u001B[0m Trial 74 pruned. Trial was pruned at epoch 1.\u001B[0m\n"
     ]
    },
    {
     "name": "stdout",
     "output_type": "stream",
     "text": [
      "Epoch 1/10\n",
      "20114/20114 [==============================] - 2066s 102ms/step - loss: 34.0683 - mean_absolute_percentage_error: 10808379.0000 - val_loss: 0.0032 - val_mean_absolute_percentage_error: 602407.2500\n",
      "Epoch 2/10\n",
      "20114/20114 [==============================] - ETA: 0s - loss: 240.0978 - mean_absolute_percentage_error: 420577.7188"
     ]
    },
    {
     "name": "stderr",
     "output_type": "stream",
     "text": [
      "\u001B[32m[I 2022-06-15 09:38:41,040]\u001B[0m Trial 75 pruned. Trial was pruned at epoch 1.\u001B[0m\n"
     ]
    },
    {
     "name": "stdout",
     "output_type": "stream",
     "text": [
      "Epoch 1/10\n",
      "3364/3364 [==============================] - 686s 200ms/step - loss: 0.3104 - mean_absolute_percentage_error: 8851320.0000 - val_loss: 0.0030 - val_mean_absolute_percentage_error: 65263.0391\n",
      "Epoch 2/10\n",
      "3364/3364 [==============================] - ETA: 0s - loss: 0.0759 - mean_absolute_percentage_error: 277065.5000"
     ]
    },
    {
     "name": "stderr",
     "output_type": "stream",
     "text": [
      "\u001B[32m[I 2022-06-15 10:03:46,590]\u001B[0m Trial 76 pruned. Trial was pruned at epoch 1.\u001B[0m\n"
     ]
    },
    {
     "name": "stdout",
     "output_type": "stream",
     "text": [
      "Epoch 1/10\n",
      "11699/11699 [==============================] - 1174s 99ms/step - loss: 44622.0820 - mean_absolute_percentage_error: 275856896.0000 - val_loss: 0.0028 - val_mean_absolute_percentage_error: 23803.1387\n",
      "Epoch 2/10\n",
      "11699/11699 [==============================] - 1184s 101ms/step - loss: 1172.5272 - mean_absolute_percentage_error: 15443078.0000 - val_loss: 0.0028 - val_mean_absolute_percentage_error: 243198.0000\n",
      "Epoch 3/10\n",
      "11699/11699 [==============================] - 1206s 103ms/step - loss: 743.9636 - mean_absolute_percentage_error: 4657393.5000 - val_loss: 0.0028 - val_mean_absolute_percentage_error: 565940.6250\n",
      "Epoch 4/10\n",
      "11699/11699 [==============================] - 1194s 102ms/step - loss: 53.0260 - mean_absolute_percentage_error: 4027596.2500 - val_loss: 0.0028 - val_mean_absolute_percentage_error: 957972.0625\n",
      "Epoch 5/10\n",
      "11699/11699 [==============================] - 1187s 101ms/step - loss: 964.8704 - mean_absolute_percentage_error: 4955462.0000 - val_loss: 0.0028 - val_mean_absolute_percentage_error: 5241.1909\n",
      "Epoch 6/10\n",
      "11699/11699 [==============================] - 1199s 103ms/step - loss: 5064.9370 - mean_absolute_percentage_error: 56639960.0000 - val_loss: 0.0028 - val_mean_absolute_percentage_error: 133178.7188\n",
      "Epoch 7/10\n",
      "11699/11699 [==============================] - 1186s 101ms/step - loss: 413.2820 - mean_absolute_percentage_error: 18473406.0000 - val_loss: 0.0028 - val_mean_absolute_percentage_error: 271396.2812\n",
      "Epoch 8/10\n",
      "11699/11699 [==============================] - 1181s 101ms/step - loss: 110.6929 - mean_absolute_percentage_error: 13030316.0000 - val_loss: 0.0028 - val_mean_absolute_percentage_error: 90581.0000\n",
      "Epoch 9/10\n",
      "11699/11699 [==============================] - 1184s 101ms/step - loss: 626.0753 - mean_absolute_percentage_error: 369392.4375 - val_loss: 0.0028 - val_mean_absolute_percentage_error: 949009.5625\n",
      "Epoch 10/10\n",
      "11699/11699 [==============================] - 1186s 101ms/step - loss: 2150.8779 - mean_absolute_percentage_error: 35833656.0000 - val_loss: 0.0028 - val_mean_absolute_percentage_error: 54268.9258\n",
      "2912/2912 [==============================] - 86s 30ms/step - loss: 0.0028 - mean_absolute_percentage_error: 60271.7188\n",
      "Result: 0.00282072345726192\n"
     ]
    },
    {
     "name": "stderr",
     "output_type": "stream",
     "text": [
      "\u001B[32m[I 2022-06-15 13:25:39,055]\u001B[0m Trial 77 finished with value: 0.00282072345726192 and parameters: {'sequence_length': 13, 'model_dimension': 145, 'number_of_attention_heads': 3, 'encoder_layers': 9, 'ff_neurons': 154, 'hidden_layers': 4, 'dropout_rate': 0.1346462285775975, 'activation': 'sigmoid', 'optimizer': 'rmsprop', 'batch_size': 29}. Best is trial 53 with value: 0.0028134321328252554.\u001B[0m\n"
     ]
    },
    {
     "name": "stdout",
     "output_type": "stream",
     "text": [
      "Epoch 1/10\n",
      "11354/11354 [==============================] - 1073s 93ms/step - loss: 67.1958 - mean_absolute_percentage_error: 24049100.0000 - val_loss: 0.0031 - val_mean_absolute_percentage_error: 511094.4062\n",
      "Epoch 2/10\n",
      "11354/11354 [==============================] - ETA: 0s - loss: 34.2961 - mean_absolute_percentage_error: 3544720.2500"
     ]
    },
    {
     "name": "stderr",
     "output_type": "stream",
     "text": [
      "\u001B[32m[I 2022-06-15 14:04:09,685]\u001B[0m Trial 78 pruned. Trial was pruned at epoch 1.\u001B[0m\n"
     ]
    },
    {
     "name": "stdout",
     "output_type": "stream",
     "text": [
      "Epoch 1/10\n",
      "22524/22524 [==============================] - 2065s 91ms/step - loss: 15147204608.0000 - mean_absolute_percentage_error: 179772669952.0000 - val_loss: 0.0029 - val_mean_absolute_percentage_error: 125952.8750\n",
      "Epoch 2/10\n",
      "22524/22524 [==============================] - ETA: 0s - loss: 61133934592.0000 - mean_absolute_percentage_error: 150698033152.0000"
     ]
    },
    {
     "name": "stderr",
     "output_type": "stream",
     "text": [
      "\u001B[32m[I 2022-06-15 15:15:35,466]\u001B[0m Trial 79 pruned. Trial was pruned at epoch 1.\u001B[0m\n"
     ]
    },
    {
     "name": "stdout",
     "output_type": "stream",
     "text": [
      "Epoch 1/10\n",
      "3729/3729 [==============================] - 487s 127ms/step - loss: 4913.3423 - mean_absolute_percentage_error: 972215488.0000 - val_loss: 0.0030 - val_mean_absolute_percentage_error: 4476907.0000\n",
      "Epoch 2/10\n",
      "3729/3729 [==============================] - 476s 128ms/step - loss: 57741.7617 - mean_absolute_percentage_error: 160672288.0000 - val_loss: 0.0028 - val_mean_absolute_percentage_error: 1385293.0000\n",
      "Epoch 3/10\n",
      "3729/3729 [==============================] - 476s 128ms/step - loss: 139395.0938 - mean_absolute_percentage_error: 235771472.0000 - val_loss: 0.0028 - val_mean_absolute_percentage_error: 233929.9531\n",
      "Epoch 4/10\n",
      "3729/3729 [==============================] - 477s 128ms/step - loss: 1481081.2500 - mean_absolute_percentage_error: 187265344.0000 - val_loss: 0.0028 - val_mean_absolute_percentage_error: 348621.5000\n",
      "Epoch 5/10\n",
      "3729/3729 [==============================] - 478s 128ms/step - loss: 14597460.0000 - mean_absolute_percentage_error: 1563561856.0000 - val_loss: 0.0028 - val_mean_absolute_percentage_error: 230287.0156\n",
      "Epoch 6/10\n",
      "3729/3729 [==============================] - 480s 129ms/step - loss: 4365395.5000 - mean_absolute_percentage_error: 1492763776.0000 - val_loss: 0.0028 - val_mean_absolute_percentage_error: 632510.3125\n",
      "Epoch 7/10\n",
      "3729/3729 [==============================] - 479s 128ms/step - loss: 3483950.5000 - mean_absolute_percentage_error: 1354310528.0000 - val_loss: 0.0028 - val_mean_absolute_percentage_error: 498055.6250\n",
      "Epoch 8/10\n",
      "3729/3729 [==============================] - 479s 128ms/step - loss: 162827328.0000 - mean_absolute_percentage_error: 10609460224.0000 - val_loss: 0.0028 - val_mean_absolute_percentage_error: 169225.4062\n",
      "Epoch 9/10\n",
      "3729/3729 [==============================] - 479s 129ms/step - loss: 15553840.0000 - mean_absolute_percentage_error: 277284416.0000 - val_loss: 0.0028 - val_mean_absolute_percentage_error: 1353084.3750\n",
      "Epoch 10/10\n",
      "3729/3729 [==============================] - 480s 129ms/step - loss: 48626820.0000 - mean_absolute_percentage_error: 1256632960.0000 - val_loss: 0.0028 - val_mean_absolute_percentage_error: 436112.3750\n",
      "928/928 [==============================] - 34s 37ms/step - loss: 0.0028 - mean_absolute_percentage_error: 484804.2500\n",
      "Result: 0.002821611240506172\n"
     ]
    },
    {
     "name": "stderr",
     "output_type": "stream",
     "text": [
      "\u001B[32m[I 2022-06-15 16:39:01,366]\u001B[0m Trial 80 finished with value: 0.002821611240506172 and parameters: {'sequence_length': 13, 'model_dimension': 129, 'number_of_attention_heads': 3, 'encoder_layers': 9, 'ff_neurons': 174, 'hidden_layers': 5, 'dropout_rate': 0.4351686376280519, 'activation': 'sigmoid', 'optimizer': 'rmsprop', 'batch_size': 91}. Best is trial 53 with value: 0.0028134321328252554.\u001B[0m\n"
     ]
    },
    {
     "name": "stdout",
     "output_type": "stream",
     "text": [
      "Epoch 1/10\n",
      "3688/3688 [==============================] - 431s 114ms/step - loss: 1315.3866 - mean_absolute_percentage_error: 214871840.0000 - val_loss: 0.0028 - val_mean_absolute_percentage_error: 568069.6875\n",
      "Epoch 2/10\n",
      "3688/3688 [==============================] - 419s 114ms/step - loss: 4526.8618 - mean_absolute_percentage_error: 100384648.0000 - val_loss: 0.0028 - val_mean_absolute_percentage_error: 537728.6875\n",
      "Epoch 3/10\n",
      "3688/3688 [==============================] - 421s 114ms/step - loss: 10026.7773 - mean_absolute_percentage_error: 29913880.0000 - val_loss: 0.0029 - val_mean_absolute_percentage_error: 2738364.2500\n",
      "Epoch 4/10\n",
      "3688/3688 [==============================] - 420s 114ms/step - loss: 17184.1465 - mean_absolute_percentage_error: 58314696.0000 - val_loss: 0.0028 - val_mean_absolute_percentage_error: 812947.6250\n",
      "Epoch 5/10\n",
      "3688/3688 [==============================] - 420s 114ms/step - loss: 12841.8789 - mean_absolute_percentage_error: 118882408.0000 - val_loss: 0.0028 - val_mean_absolute_percentage_error: 5455.0361\n",
      "Epoch 6/10\n",
      "3688/3688 [==============================] - 422s 114ms/step - loss: 348147.9375 - mean_absolute_percentage_error: 781182208.0000 - val_loss: 0.0028 - val_mean_absolute_percentage_error: 771789.8125\n",
      "Epoch 7/10\n",
      "3688/3688 [==============================] - 422s 114ms/step - loss: 13059.5146 - mean_absolute_percentage_error: 88827360.0000 - val_loss: 0.0028 - val_mean_absolute_percentage_error: 96511.0000\n",
      "Epoch 8/10\n",
      "3688/3688 [==============================] - 446s 121ms/step - loss: 143975.8438 - mean_absolute_percentage_error: 58478448.0000 - val_loss: 0.0028 - val_mean_absolute_percentage_error: 970234.4375\n",
      "Epoch 9/10\n",
      "3688/3688 [==============================] - 445s 121ms/step - loss: 134732.7031 - mean_absolute_percentage_error: 84402136.0000 - val_loss: 0.0028 - val_mean_absolute_percentage_error: 388130.5625\n",
      "Epoch 10/10\n",
      "3688/3688 [==============================] - 446s 121ms/step - loss: 369111.7500 - mean_absolute_percentage_error: 464459520.0000 - val_loss: 0.0028 - val_mean_absolute_percentage_error: 775684.1250\n",
      "918/918 [==============================] - 32s 34ms/step - loss: 0.0028 - mean_absolute_percentage_error: 862186.0000\n",
      "Result: 0.0028298539109528065\n"
     ]
    },
    {
     "name": "stderr",
     "output_type": "stream",
     "text": [
      "\u001B[32m[I 2022-06-15 17:53:29,650]\u001B[0m Trial 81 finished with value: 0.0028298539109528065 and parameters: {'sequence_length': 13, 'model_dimension': 130, 'number_of_attention_heads': 2, 'encoder_layers': 9, 'ff_neurons': 176, 'hidden_layers': 5, 'dropout_rate': 0.40889312507508424, 'activation': 'sigmoid', 'optimizer': 'rmsprop', 'batch_size': 92}. Best is trial 53 with value: 0.0028134321328252554.\u001B[0m\n"
     ]
    },
    {
     "name": "stdout",
     "output_type": "stream",
     "text": [
      "Epoch 1/10\n",
      "3184/3184 [==============================] - 395s 121ms/step - loss: 2316.0530 - mean_absolute_percentage_error: 1108108416.0000 - val_loss: 0.0031 - val_mean_absolute_percentage_error: 1752530.7500\n",
      "Epoch 2/10\n",
      "3184/3184 [==============================] - ETA: 0s - loss: 39961.0664 - mean_absolute_percentage_error: 337669088.0000"
     ]
    },
    {
     "name": "stderr",
     "output_type": "stream",
     "text": [
      "\u001B[32m[I 2022-06-15 18:08:57,886]\u001B[0m Trial 82 pruned. Trial was pruned at epoch 1.\u001B[0m\n"
     ]
    },
    {
     "name": "stdout",
     "output_type": "stream",
     "text": [
      "Epoch 1/10\n",
      "4329/4329 [==============================] - 533s 121ms/step - loss: 1885.3142 - mean_absolute_percentage_error: 623796672.0000 - val_loss: 0.0032 - val_mean_absolute_percentage_error: 907753.6250\n",
      "Epoch 2/10\n",
      "4329/4329 [==============================] - ETA: 0s - loss: 170022.2500 - mean_absolute_percentage_error: 138271696.0000"
     ]
    },
    {
     "name": "stderr",
     "output_type": "stream",
     "text": [
      "\u001B[32m[I 2022-06-15 18:29:03,685]\u001B[0m Trial 83 pruned. Trial was pruned at epoch 1.\u001B[0m\n"
     ]
    },
    {
     "name": "stdout",
     "output_type": "stream",
     "text": [
      "Epoch 1/10\n",
      "4023/4023 [==============================] - 524s 127ms/step - loss: 745.2218 - mean_absolute_percentage_error: 158745328.0000 - val_loss: 0.0029 - val_mean_absolute_percentage_error: 229633.8281\n",
      "Epoch 2/10\n",
      "4023/4023 [==============================] - ETA: 0s - loss: 3917.7598 - mean_absolute_percentage_error: 122893336.0000"
     ]
    },
    {
     "name": "stderr",
     "output_type": "stream",
     "text": [
      "\u001B[32m[I 2022-06-15 18:49:40,969]\u001B[0m Trial 84 pruned. Trial was pruned at epoch 1.\u001B[0m\n"
     ]
    },
    {
     "name": "stdout",
     "output_type": "stream",
     "text": [
      "Epoch 1/10\n",
      "2925/2925 [==============================] - 541s 180ms/step - loss: 73746.7891 - mean_absolute_percentage_error: 5699618304.0000 - val_loss: 0.0031 - val_mean_absolute_percentage_error: 3608299.5000\n",
      "Epoch 2/10\n",
      "2925/2925 [==============================] - 528s 180ms/step - loss: 197297.9531 - mean_absolute_percentage_error: 846982592.0000 - val_loss: 0.0029 - val_mean_absolute_percentage_error: 750429.3750\n",
      "Epoch 3/10\n",
      "2925/2925 [==============================] - 527s 180ms/step - loss: 9737159.0000 - mean_absolute_percentage_error: 1983058432.0000 - val_loss: 0.0031 - val_mean_absolute_percentage_error: 3239039.5000\n",
      "Epoch 4/10\n",
      "2925/2925 [==============================] - 527s 180ms/step - loss: 1194108416.0000 - mean_absolute_percentage_error: 18546327552.0000 - val_loss: 0.0030 - val_mean_absolute_percentage_error: 1512173.0000\n",
      "Epoch 5/10\n",
      "2925/2925 [==============================] - ETA: 0s - loss: 4278362880.0000 - mean_absolute_percentage_error: 5548735488.0000"
     ]
    },
    {
     "name": "stderr",
     "output_type": "stream",
     "text": [
      "\u001B[32m[I 2022-06-15 19:36:17,780]\u001B[0m Trial 85 pruned. Trial was pruned at epoch 4.\u001B[0m\n"
     ]
    },
    {
     "name": "stdout",
     "output_type": "stream",
     "text": [
      "Epoch 1/10\n",
      "3770/3770 [==============================] - 461s 119ms/step - loss: 60.5406 - mean_absolute_percentage_error: 166344752.0000 - val_loss: 0.0028 - val_mean_absolute_percentage_error: 158607.6094\n",
      "Epoch 2/10\n",
      "3770/3770 [==============================] - 447s 119ms/step - loss: 188.8469 - mean_absolute_percentage_error: 15816625.0000 - val_loss: 0.0028 - val_mean_absolute_percentage_error: 1506010.5000\n",
      "Epoch 3/10\n",
      "3770/3770 [==============================] - 447s 119ms/step - loss: 284573.0312 - mean_absolute_percentage_error: 732310912.0000 - val_loss: 0.0028 - val_mean_absolute_percentage_error: 799304.1875\n",
      "Epoch 4/10\n",
      "3770/3770 [==============================] - 451s 120ms/step - loss: 8554248.0000 - mean_absolute_percentage_error: 160141200.0000 - val_loss: 0.0029 - val_mean_absolute_percentage_error: 3657322.2500\n",
      "Epoch 5/10\n",
      "3770/3770 [==============================] - ETA: 0s - loss: 51169.8281 - mean_absolute_percentage_error: 251957216.0000"
     ]
    },
    {
     "name": "stderr",
     "output_type": "stream",
     "text": [
      "\u001B[32m[I 2022-06-15 20:16:20,491]\u001B[0m Trial 86 pruned. Trial was pruned at epoch 4.\u001B[0m\n"
     ]
    },
    {
     "name": "stdout",
     "output_type": "stream",
     "text": [
      "Epoch 1/10\n",
      "12995/12995 [==============================] - 909s 69ms/step - loss: 3.9740 - mean_absolute_percentage_error: 14085172.0000 - val_loss: 0.0029 - val_mean_absolute_percentage_error: 108447.7734\n",
      "Epoch 2/10\n",
      "12995/12995 [==============================] - ETA: 0s - loss: 0.1820 - mean_absolute_percentage_error: 771211.5625"
     ]
    },
    {
     "name": "stderr",
     "output_type": "stream",
     "text": [
      "\u001B[32m[I 2022-06-15 20:49:13,605]\u001B[0m Trial 87 pruned. Trial was pruned at epoch 1.\u001B[0m\n"
     ]
    },
    {
     "name": "stdout",
     "output_type": "stream",
     "text": [
      "Epoch 1/10\n",
      "10192/10192 [==============================] - 770s 75ms/step - loss: nan - mean_absolute_percentage_error: nan - val_loss: nan - val_mean_absolute_percentage_error: nan\n",
      "Epoch 2/10\n",
      "10192/10192 [==============================] - ETA: 0s - loss: nan - mean_absolute_percentage_error: nan"
     ]
    },
    {
     "name": "stderr",
     "output_type": "stream",
     "text": [
      "\u001B[32m[I 2022-06-15 21:17:19,659]\u001B[0m Trial 88 pruned. Trial was pruned at epoch 1.\u001B[0m\n"
     ]
    },
    {
     "name": "stdout",
     "output_type": "stream",
     "text": [
      "Epoch 1/10\n",
      "43062/43062 [==============================] - 3603s 83ms/step - loss: 11316054016.0000 - mean_absolute_percentage_error: 11295947776.0000 - val_loss: 0.0030 - val_mean_absolute_percentage_error: 176621.6719\n",
      "Epoch 2/10\n",
      "43062/43062 [==============================] - ETA: 0s - loss: 11208582144.0000 - mean_absolute_percentage_error: 198554370048.0000"
     ]
    },
    {
     "name": "stderr",
     "output_type": "stream",
     "text": [
      "\u001B[32m[I 2022-06-15 23:22:50,700]\u001B[0m Trial 89 pruned. Trial was pruned at epoch 1.\u001B[0m\n"
     ]
    },
    {
     "name": "stdout",
     "output_type": "stream",
     "text": [
      "Epoch 1/10\n",
      "3441/3441 [==============================] - 656s 187ms/step - loss: 1695.0205 - mean_absolute_percentage_error: 407359552.0000 - val_loss: 0.0030 - val_mean_absolute_percentage_error: 70171.0000\n",
      "Epoch 2/10\n",
      "3441/3441 [==============================] - ETA: 0s - loss: 86866.0781 - mean_absolute_percentage_error: 331806720.0000"
     ]
    },
    {
     "name": "stderr",
     "output_type": "stream",
     "text": [
      "\u001B[32m[I 2022-06-15 23:46:56,131]\u001B[0m Trial 90 pruned. Trial was pruned at epoch 1.\u001B[0m\n"
     ]
    },
    {
     "name": "stdout",
     "output_type": "stream",
     "text": [
      "Epoch 1/10\n",
      "5472/5472 [==============================] - 793s 143ms/step - loss: 302156.3438 - mean_absolute_percentage_error: 1087184128.0000 - val_loss: 0.0028 - val_mean_absolute_percentage_error: 414068.5938\n",
      "Epoch 2/10\n",
      "5472/5472 [==============================] - 780s 142ms/step - loss: 149004112.0000 - mean_absolute_percentage_error: 20395153408.0000 - val_loss: 0.0028 - val_mean_absolute_percentage_error: 483085.9688\n",
      "Epoch 3/10\n",
      "5472/5472 [==============================] - 782s 143ms/step - loss: 31018043392.0000 - mean_absolute_percentage_error: 73156116480.0000 - val_loss: 0.0028 - val_mean_absolute_percentage_error: 1536812.2500\n",
      "Epoch 4/10\n",
      "5472/5472 [==============================] - 818s 150ms/step - loss: 15409001529344.0000 - mean_absolute_percentage_error: 1138117967872.0000 - val_loss: 410173.6875 - val_mean_absolute_percentage_error: 421482688.0000\n",
      "Epoch 5/10\n",
      "5472/5472 [==============================] - ETA: 0s - loss: 13411255296.0000 - mean_absolute_percentage_error: 97196539904.0000"
     ]
    },
    {
     "name": "stderr",
     "output_type": "stream",
     "text": [
      "\u001B[32m[I 2022-06-16 00:55:59,130]\u001B[0m Trial 91 pruned. Trial was pruned at epoch 4.\u001B[0m\n"
     ]
    },
    {
     "name": "stdout",
     "output_type": "stream",
     "text": [
      "Epoch 1/10\n",
      "8078/8078 [==============================] - 943s 116ms/step - loss: nan - mean_absolute_percentage_error: nan - val_loss: nan - val_mean_absolute_percentage_error: nan\n",
      "Epoch 2/10\n",
      "8078/8078 [==============================] - ETA: 0s - loss: nan - mean_absolute_percentage_error: nan"
     ]
    },
    {
     "name": "stderr",
     "output_type": "stream",
     "text": [
      "\u001B[32m[I 2022-06-16 01:30:40,784]\u001B[0m Trial 92 pruned. Trial was pruned at epoch 1.\u001B[0m\n"
     ]
    },
    {
     "name": "stdout",
     "output_type": "stream",
     "text": [
      "Epoch 1/10\n",
      "7096/7096 [==============================] - 791s 110ms/step - loss: 0.4864 - mean_absolute_percentage_error: 5839677.5000 - val_loss: 0.0030 - val_mean_absolute_percentage_error: 151220.8750\n",
      "Epoch 2/10\n",
      "7096/7096 [==============================] - ETA: 0s - loss: 0.4818 - mean_absolute_percentage_error: 458845.8125"
     ]
    },
    {
     "name": "stderr",
     "output_type": "stream",
     "text": [
      "\u001B[32m[I 2022-06-16 01:59:27,798]\u001B[0m Trial 93 pruned. Trial was pruned at epoch 1.\u001B[0m\n"
     ]
    },
    {
     "name": "stdout",
     "output_type": "stream",
     "text": [
      "Epoch 1/10\n",
      "6498/6498 [==============================] - 1025s 156ms/step - loss: 2516.0037 - mean_absolute_percentage_error: 5426460.5000 - val_loss: 0.0029 - val_mean_absolute_percentage_error: 310816.9688\n",
      "Epoch 2/10\n",
      "6498/6498 [==============================] - ETA: 0s - loss: 1092.2546 - mean_absolute_percentage_error: 58998588.0000"
     ]
    },
    {
     "name": "stderr",
     "output_type": "stream",
     "text": [
      "\u001B[32m[I 2022-06-16 02:35:55,888]\u001B[0m Trial 94 pruned. Trial was pruned at epoch 1.\u001B[0m\n"
     ]
    },
    {
     "name": "stdout",
     "output_type": "stream",
     "text": [
      "Epoch 1/10\n",
      "15421/15421 [==============================] - 1425s 92ms/step - loss: nan - mean_absolute_percentage_error: nan - val_loss: nan - val_mean_absolute_percentage_error: nan\n",
      "Epoch 2/10\n",
      "15421/15421 [==============================] - ETA: 0s - loss: nan - mean_absolute_percentage_error: nan"
     ]
    },
    {
     "name": "stderr",
     "output_type": "stream",
     "text": [
      "\u001B[32m[I 2022-06-16 03:25:56,726]\u001B[0m Trial 95 pruned. Trial was pruned at epoch 1.\u001B[0m\n"
     ]
    },
    {
     "name": "stdout",
     "output_type": "stream",
     "text": [
      "Epoch 1/10\n",
      "3071/3071 [==============================] - 561s 179ms/step - loss: 5629602304.0000 - mean_absolute_percentage_error: 22527920128.0000 - val_loss: 888345728.0000 - val_mean_absolute_percentage_error: 106226606080.0000\n",
      "Epoch 2/10\n",
      "3071/3071 [==============================] - ETA: 0s - loss: 859837056.0000 - mean_absolute_percentage_error: 56110911488.0000"
     ]
    },
    {
     "name": "stderr",
     "output_type": "stream",
     "text": [
      "\u001B[32m[I 2022-06-16 03:46:49,717]\u001B[0m Trial 96 pruned. Trial was pruned at epoch 1.\u001B[0m\n"
     ]
    },
    {
     "name": "stdout",
     "output_type": "stream",
     "text": [
      "Epoch 1/10\n",
      "5896/5896 [==============================] - 504s 84ms/step - loss: 0.0057 - mean_absolute_percentage_error: 8844028.0000 - val_loss: 0.0033 - val_mean_absolute_percentage_error: 2707596.2500\n",
      "Epoch 2/10\n",
      "5896/5896 [==============================] - ETA: 0s - loss: 0.0038 - mean_absolute_percentage_error: 5051023.5000"
     ]
    },
    {
     "name": "stderr",
     "output_type": "stream",
     "text": [
      "\u001B[32m[I 2022-06-16 04:06:05,543]\u001B[0m Trial 97 pruned. Trial was pruned at epoch 1.\u001B[0m\n"
     ]
    },
    {
     "name": "stdout",
     "output_type": "stream",
     "text": [
      "Epoch 1/10\n",
      "8008/8008 [==============================] - 864s 107ms/step - loss: 0.0033 - mean_absolute_percentage_error: 3079776.0000 - val_loss: 0.0030 - val_mean_absolute_percentage_error: 620603.5000\n",
      "Epoch 2/10\n",
      "8008/8008 [==============================] - ETA: 0s - loss: 0.0030 - mean_absolute_percentage_error: 1593417.1250"
     ]
    },
    {
     "name": "stderr",
     "output_type": "stream",
     "text": [
      "\u001B[32m[I 2022-06-16 04:37:12,125]\u001B[0m Trial 98 pruned. Trial was pruned at epoch 1.\u001B[0m\n"
     ]
    },
    {
     "name": "stdout",
     "output_type": "stream",
     "text": [
      "Epoch 1/10\n",
      "4023/4023 [==============================] - 887s 217ms/step - loss: 9454.3115 - mean_absolute_percentage_error: 107672664.0000 - val_loss: 0.0029 - val_mean_absolute_percentage_error: 75442.1016\n",
      "Epoch 2/10\n",
      "4023/4023 [==============================] - ETA: 0s - loss: 61942.3203 - mean_absolute_percentage_error: 112134104.0000"
     ]
    },
    {
     "name": "stderr",
     "output_type": "stream",
     "text": [
      "\u001B[32m[I 2022-06-16 05:09:01,383]\u001B[0m Trial 99 pruned. Trial was pruned at epoch 1.\u001B[0m\n"
     ]
    },
    {
     "name": "stdout",
     "output_type": "stream",
     "text": [
      "Epoch 1/10\n",
      "4464/4464 [==============================] - 626s 138ms/step - loss: 0.0171 - mean_absolute_percentage_error: 17823826.0000 - val_loss: 0.0028 - val_mean_absolute_percentage_error: 660132.9375\n",
      "Epoch 2/10\n",
      "4464/4464 [==============================] - 617s 138ms/step - loss: 0.0058 - mean_absolute_percentage_error: 8668210.0000 - val_loss: 0.0028 - val_mean_absolute_percentage_error: 240771.1875\n",
      "Epoch 3/10\n",
      "4464/4464 [==============================] - 617s 138ms/step - loss: 0.0046 - mean_absolute_percentage_error: 6413662.0000 - val_loss: 0.0028 - val_mean_absolute_percentage_error: 73434.9766\n",
      "Epoch 4/10\n",
      "4464/4464 [==============================] - 618s 138ms/step - loss: 0.0041 - mean_absolute_percentage_error: 5164399.0000 - val_loss: 0.0028 - val_mean_absolute_percentage_error: 65613.9531\n",
      "Epoch 5/10\n",
      "4464/4464 [==============================] - ETA: 0s - loss: 0.0038 - mean_absolute_percentage_error: 4388795.0000"
     ]
    },
    {
     "name": "stderr",
     "output_type": "stream",
     "text": [
      "\u001B[32m[I 2022-06-16 06:03:06,544]\u001B[0m Trial 100 pruned. Trial was pruned at epoch 4.\u001B[0m\n"
     ]
    }
   ],
   "source": [
    "study = optuna.create_study(direction='minimize', pruner=optuna.pruners.SuccessiveHalvingPruner(), sampler=optuna.samplers.TPESampler())\n",
    "\n",
    "study.optimize(transformer_objective, n_trials=NUMBER_OF_TRIALS)\n",
    "\n",
    "# show results\n",
    "pruned_trials = study.get_trials(states=[optuna.trial.TrialState.PRUNED])\n",
    "complete_trials = study.get_trials(states=[optuna.trial.TrialState.COMPLETE])\n",
    "\n",
    "print('Study statistics:')\n",
    "print('   Number of finished Trials: ', len(study.trials))\n",
    "print('   Number of pruned Trials: ', len(pruned_trials))\n",
    "print('   Number of complete Trials: ', len(complete_trials))\n",
    "\n",
    "print('Best Trial: ')\n",
    "trial = study.best_trial\n",
    "\n",
    "print('  MSE: ', trial.value)\n",
    "\n",
    "print('   Params: ')\n",
    "for key, value in trial.params.items():\n",
    "    print('   {}: {}'.format(key, value))"
   ],
   "metadata": {
    "collapsed": false,
    "pycharm": {
     "name": "#%%\n"
    }
   }
  },
  {
   "cell_type": "code",
   "execution_count": 37,
   "outputs": [
    {
     "name": "stdout",
     "output_type": "stream",
     "text": [
      "Study statistics:\n",
      "   Number of finished Trials:  100\n",
      "   Number of pruned Trials:  78\n",
      "   Number of complete Trials:  22\n",
      "Best Trial: \n",
      "  MSE:  0.0028134321328252554\n",
      "   Params: \n",
      "   sequence_length: 13\n",
      "   model_dimension: 176\n",
      "   number_of_attention_heads: 4\n",
      "   encoder_layers: 10\n",
      "   ff_neurons: 229\n",
      "   hidden_layers: 9\n",
      "   dropout_rate: 0.013421302851038347\n",
      "   activation: sigmoid\n",
      "   optimizer: adagrad\n",
      "   batch_size: 35\n"
     ]
    }
   ],
   "source": [
    "# show results\n",
    "pruned_trials = study.get_trials(states=[optuna.trial.TrialState.PRUNED])\n",
    "complete_trials = study.get_trials(states=[optuna.trial.TrialState.COMPLETE])\n",
    "\n",
    "print('Study statistics:')\n",
    "print('   Number of finished Trials: ', len(study.trials))\n",
    "print('   Number of pruned Trials: ', len(pruned_trials))\n",
    "print('   Number of complete Trials: ', len(complete_trials))\n",
    "\n",
    "print('Best Trial: ')\n",
    "trial = study.best_trial\n",
    "\n",
    "print('  MSE: ', trial.value)\n",
    "\n",
    "print('   Params: ')\n",
    "for key, value in trial.params.items():\n",
    "    print('   {}: {}'.format(key, value))"
   ],
   "metadata": {
    "collapsed": false,
    "pycharm": {
     "name": "#%%\n"
    }
   }
  }
 ],
 "metadata": {
  "kernelspec": {
   "display_name": "Python 3",
   "language": "python",
   "name": "python3"
  },
  "language_info": {
   "codemirror_mode": {
    "name": "ipython",
    "version": 2
   },
   "file_extension": ".py",
   "mimetype": "text/x-python",
   "name": "python",
   "nbconvert_exporter": "python",
   "pygments_lexer": "ipython2",
   "version": "2.7.6"
  },
  "colab": {
   "name": "model_selection_with rnn and transformer.ipynb",
   "provenance": [],
   "collapsed_sections": [],
   "machine_shape": "hm"
  },
  "accelerator": "GPU"
 },
 "nbformat": 4,
 "nbformat_minor": 0
}