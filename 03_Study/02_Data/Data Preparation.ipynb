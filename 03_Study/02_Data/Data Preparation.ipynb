{
 "cells": [
  {
   "cell_type": "code",
   "execution_count": 1,
   "outputs": [],
   "source": [
    "import os\n",
    "import pandas as pd\n",
    "from copy import deepcopy\n",
    "import numpy as np"
   ],
   "metadata": {
    "collapsed": false,
    "pycharm": {
     "name": "#%%\n"
    }
   }
  },
  {
   "cell_type": "code",
   "execution_count": 2,
   "outputs": [],
   "source": [
    "base_path = os.getcwd()"
   ],
   "metadata": {
    "collapsed": false,
    "pycharm": {
     "name": "#%%\n"
    }
   }
  },
  {
   "cell_type": "markdown",
   "source": [
    "# Demografic Analysis"
   ],
   "metadata": {
    "collapsed": false,
    "pycharm": {
     "name": "#%% md\n"
    }
   }
  },
  {
   "cell_type": "code",
   "execution_count": 7,
   "outputs": [
    {
     "data": {
      "text/plain": "             Timestamp  ID  Age  Gender                     Degree  \\\n0  2022-07-27 12:59:44   1   21  female                     Abitur   \n1  2022-07-27 14:12:26   2   24    male                     Abitur   \n2  2022-07-27 15:06:58   3   24  female                   Bachelor   \n3  2022-07-27 16:25:10   4   19  female                     Abitur   \n4  2022-07-27 17:15:17   5   23    male                     Abitur   \n5  2022-07-27 18:48:53   6   23  female                     Abitur   \n6  2022-07-28 10:08:11   7   22    male                   Bachelor   \n7  2022-07-28 11:05:23   8   22    male                     Abitur   \n8  2022-07-28 12:17:01   9   23    male                   Bachelor   \n9  2022-07-28 14:03:01   1   20    male                     Abitur   \n10 2022-07-28 15:01:29  11   21    male                     Abitur   \n11 2022-07-28 16:04:22  12   22  female                     Abitur   \n12 2022-07-28 17:12:58  13   27  female                     Abitur   \n13 2022-07-28 18:20:27  14   22    male                   Bachelor   \n14 2022-07-29 10:44:07  15   28    male              Master/Diplom   \n15 2022-07-29 12:02:29  16   25    male                   Bachelor   \n16 2022-07-29 16:10:04  17   22  female  Abgeschlossene Ausbildung   \n17 2022-07-29 17:14:14  18   22    male                     Abitur   \n18 2022-08-01 10:06:42  19   21  female                     Abitur   \n19 2022-08-01 11:15:22  20   22  female                     Abitur   \n20 2022-08-01 12:26:11  21   22    male                     Abitur   \n21 2022-08-01 14:08:51  22   23    male                     Abitur   \n22 2022-08-01 15:09:35  23   22    male                     Abitur   \n23 2022-08-01 16:05:52  24   22    male  Abgeschlossene Ausbildung   \n24 2022-08-01 17:11:28  25   21    male                     Abitur   \n25 2022-08-02 09:33:00  26   22    male                   Bachelor   \n26 2022-08-02 11:04:23  27   22  female                     Abitur   \n27 2022-08-02 14:16:10  28   23    male                     Abitur   \n28 2022-08-02 15:59:17  29   23  female                     Abitur   \n29 2022-08-02 17:23:01  30   21    male  Abgeschlossene Ausbildung   \n30 2022-08-02 18:26:57  31   23  female                     Abitur   \n\n       Occupation  Good with computers Use a computer mouse Use a computer  \\\n0         student                    4                daily          daily   \n1         student                    5                daily          daily   \n2         student                    4     every six months          daily   \n3         student                    3                daily          daily   \n4         student                    5                daily          daily   \n5         student                    4         almost never          daily   \n6         student                    3                daily          daily   \n7         student                    5                daily          daily   \n8         student                    4                daily          daily   \n9         student                    4                daily          daily   \n10        student                    4                daily          daily   \n11        student                    3         almost never         weekly   \n12        student                    4              monthly         weekly   \n13        student                    4                daily          daily   \n14  self-employed                    4                daily          daily   \n15       employed                    5                daily          daily   \n16       employed                    4              monthly         weekly   \n17        student                    4                daily          daily   \n18        student                    4              monthly          daily   \n19        student                    4     every six months          daily   \n20        student                    3                daily          daily   \n21        student                    5                daily          daily   \n22        student                    4                daily          daily   \n23        student                    5                daily          daily   \n24        student                    5                daily          daily   \n25        student                    4                daily          daily   \n26        student                    3     every six months          daily   \n27        student                    4                daily          daily   \n28        student                    3                daily          daily   \n29  self-employed                    4         almost never          daily   \n30        student                    1         almost never          daily   \n\n   Previously noticed latency  Unnamed: 10 Unnamed: 11  Unnamed: 12  \n0              multiple times          NaN         NaN          NaN  \n1              multiple times          NaN     Female:    11.000000  \n2              multiple times          NaN   Student:     26.000000  \n3                        once          NaN      Mouse:    21.000000  \n4              multiple times          NaN   Mean Age:    22.466667  \n5                       never          NaN     SD Age:     1.783878  \n6              multiple times          NaN         NaN          NaN  \n7              multiple times          NaN         NaN          NaN  \n8                        once          NaN         NaN          NaN  \n9              multiple times          NaN         NaN          NaN  \n10             multiple times          NaN         NaN          NaN  \n11                       once          NaN         NaN          NaN  \n12             multiple times          NaN         NaN          NaN  \n13             multiple times          NaN         NaN          NaN  \n14             multiple times          NaN         NaN          NaN  \n15             multiple times          NaN         NaN          NaN  \n16             multiple times          NaN         NaN          NaN  \n17             multiple times          NaN         NaN          NaN  \n18             multiple times          NaN         NaN          NaN  \n19             multiple times          NaN         NaN          NaN  \n20             multiple times          NaN         NaN          NaN  \n21             multiple times          NaN         NaN          NaN  \n22             multiple times          NaN         NaN          NaN  \n23             multiple times          NaN         NaN          NaN  \n24             multiple times          NaN         NaN          NaN  \n25             multiple times          NaN         NaN          NaN  \n26             multiple times          NaN         NaN          NaN  \n27             multiple times          NaN         NaN          NaN  \n28             multiple times          NaN         NaN          NaN  \n29             multiple times          NaN         NaN          NaN  \n30             multiple times          NaN         NaN          NaN  ",
      "text/html": "<div>\n<style scoped>\n    .dataframe tbody tr th:only-of-type {\n        vertical-align: middle;\n    }\n\n    .dataframe tbody tr th {\n        vertical-align: top;\n    }\n\n    .dataframe thead th {\n        text-align: right;\n    }\n</style>\n<table border=\"1\" class=\"dataframe\">\n  <thead>\n    <tr style=\"text-align: right;\">\n      <th></th>\n      <th>Timestamp</th>\n      <th>ID</th>\n      <th>Age</th>\n      <th>Gender</th>\n      <th>Degree</th>\n      <th>Occupation</th>\n      <th>Good with computers</th>\n      <th>Use a computer mouse</th>\n      <th>Use a computer</th>\n      <th>Previously noticed latency</th>\n      <th>Unnamed: 10</th>\n      <th>Unnamed: 11</th>\n      <th>Unnamed: 12</th>\n    </tr>\n  </thead>\n  <tbody>\n    <tr>\n      <th>0</th>\n      <td>2022-07-27 12:59:44</td>\n      <td>1</td>\n      <td>21</td>\n      <td>female</td>\n      <td>Abitur</td>\n      <td>student</td>\n      <td>4</td>\n      <td>daily</td>\n      <td>daily</td>\n      <td>multiple times</td>\n      <td>NaN</td>\n      <td>NaN</td>\n      <td>NaN</td>\n    </tr>\n    <tr>\n      <th>1</th>\n      <td>2022-07-27 14:12:26</td>\n      <td>2</td>\n      <td>24</td>\n      <td>male</td>\n      <td>Abitur</td>\n      <td>student</td>\n      <td>5</td>\n      <td>daily</td>\n      <td>daily</td>\n      <td>multiple times</td>\n      <td>NaN</td>\n      <td>Female:</td>\n      <td>11.000000</td>\n    </tr>\n    <tr>\n      <th>2</th>\n      <td>2022-07-27 15:06:58</td>\n      <td>3</td>\n      <td>24</td>\n      <td>female</td>\n      <td>Bachelor</td>\n      <td>student</td>\n      <td>4</td>\n      <td>every six months</td>\n      <td>daily</td>\n      <td>multiple times</td>\n      <td>NaN</td>\n      <td>Student:</td>\n      <td>26.000000</td>\n    </tr>\n    <tr>\n      <th>3</th>\n      <td>2022-07-27 16:25:10</td>\n      <td>4</td>\n      <td>19</td>\n      <td>female</td>\n      <td>Abitur</td>\n      <td>student</td>\n      <td>3</td>\n      <td>daily</td>\n      <td>daily</td>\n      <td>once</td>\n      <td>NaN</td>\n      <td>Mouse:</td>\n      <td>21.000000</td>\n    </tr>\n    <tr>\n      <th>4</th>\n      <td>2022-07-27 17:15:17</td>\n      <td>5</td>\n      <td>23</td>\n      <td>male</td>\n      <td>Abitur</td>\n      <td>student</td>\n      <td>5</td>\n      <td>daily</td>\n      <td>daily</td>\n      <td>multiple times</td>\n      <td>NaN</td>\n      <td>Mean Age:</td>\n      <td>22.466667</td>\n    </tr>\n    <tr>\n      <th>5</th>\n      <td>2022-07-27 18:48:53</td>\n      <td>6</td>\n      <td>23</td>\n      <td>female</td>\n      <td>Abitur</td>\n      <td>student</td>\n      <td>4</td>\n      <td>almost never</td>\n      <td>daily</td>\n      <td>never</td>\n      <td>NaN</td>\n      <td>SD Age:</td>\n      <td>1.783878</td>\n    </tr>\n    <tr>\n      <th>6</th>\n      <td>2022-07-28 10:08:11</td>\n      <td>7</td>\n      <td>22</td>\n      <td>male</td>\n      <td>Bachelor</td>\n      <td>student</td>\n      <td>3</td>\n      <td>daily</td>\n      <td>daily</td>\n      <td>multiple times</td>\n      <td>NaN</td>\n      <td>NaN</td>\n      <td>NaN</td>\n    </tr>\n    <tr>\n      <th>7</th>\n      <td>2022-07-28 11:05:23</td>\n      <td>8</td>\n      <td>22</td>\n      <td>male</td>\n      <td>Abitur</td>\n      <td>student</td>\n      <td>5</td>\n      <td>daily</td>\n      <td>daily</td>\n      <td>multiple times</td>\n      <td>NaN</td>\n      <td>NaN</td>\n      <td>NaN</td>\n    </tr>\n    <tr>\n      <th>8</th>\n      <td>2022-07-28 12:17:01</td>\n      <td>9</td>\n      <td>23</td>\n      <td>male</td>\n      <td>Bachelor</td>\n      <td>student</td>\n      <td>4</td>\n      <td>daily</td>\n      <td>daily</td>\n      <td>once</td>\n      <td>NaN</td>\n      <td>NaN</td>\n      <td>NaN</td>\n    </tr>\n    <tr>\n      <th>9</th>\n      <td>2022-07-28 14:03:01</td>\n      <td>1</td>\n      <td>20</td>\n      <td>male</td>\n      <td>Abitur</td>\n      <td>student</td>\n      <td>4</td>\n      <td>daily</td>\n      <td>daily</td>\n      <td>multiple times</td>\n      <td>NaN</td>\n      <td>NaN</td>\n      <td>NaN</td>\n    </tr>\n    <tr>\n      <th>10</th>\n      <td>2022-07-28 15:01:29</td>\n      <td>11</td>\n      <td>21</td>\n      <td>male</td>\n      <td>Abitur</td>\n      <td>student</td>\n      <td>4</td>\n      <td>daily</td>\n      <td>daily</td>\n      <td>multiple times</td>\n      <td>NaN</td>\n      <td>NaN</td>\n      <td>NaN</td>\n    </tr>\n    <tr>\n      <th>11</th>\n      <td>2022-07-28 16:04:22</td>\n      <td>12</td>\n      <td>22</td>\n      <td>female</td>\n      <td>Abitur</td>\n      <td>student</td>\n      <td>3</td>\n      <td>almost never</td>\n      <td>weekly</td>\n      <td>once</td>\n      <td>NaN</td>\n      <td>NaN</td>\n      <td>NaN</td>\n    </tr>\n    <tr>\n      <th>12</th>\n      <td>2022-07-28 17:12:58</td>\n      <td>13</td>\n      <td>27</td>\n      <td>female</td>\n      <td>Abitur</td>\n      <td>student</td>\n      <td>4</td>\n      <td>monthly</td>\n      <td>weekly</td>\n      <td>multiple times</td>\n      <td>NaN</td>\n      <td>NaN</td>\n      <td>NaN</td>\n    </tr>\n    <tr>\n      <th>13</th>\n      <td>2022-07-28 18:20:27</td>\n      <td>14</td>\n      <td>22</td>\n      <td>male</td>\n      <td>Bachelor</td>\n      <td>student</td>\n      <td>4</td>\n      <td>daily</td>\n      <td>daily</td>\n      <td>multiple times</td>\n      <td>NaN</td>\n      <td>NaN</td>\n      <td>NaN</td>\n    </tr>\n    <tr>\n      <th>14</th>\n      <td>2022-07-29 10:44:07</td>\n      <td>15</td>\n      <td>28</td>\n      <td>male</td>\n      <td>Master/Diplom</td>\n      <td>self-employed</td>\n      <td>4</td>\n      <td>daily</td>\n      <td>daily</td>\n      <td>multiple times</td>\n      <td>NaN</td>\n      <td>NaN</td>\n      <td>NaN</td>\n    </tr>\n    <tr>\n      <th>15</th>\n      <td>2022-07-29 12:02:29</td>\n      <td>16</td>\n      <td>25</td>\n      <td>male</td>\n      <td>Bachelor</td>\n      <td>employed</td>\n      <td>5</td>\n      <td>daily</td>\n      <td>daily</td>\n      <td>multiple times</td>\n      <td>NaN</td>\n      <td>NaN</td>\n      <td>NaN</td>\n    </tr>\n    <tr>\n      <th>16</th>\n      <td>2022-07-29 16:10:04</td>\n      <td>17</td>\n      <td>22</td>\n      <td>female</td>\n      <td>Abgeschlossene Ausbildung</td>\n      <td>employed</td>\n      <td>4</td>\n      <td>monthly</td>\n      <td>weekly</td>\n      <td>multiple times</td>\n      <td>NaN</td>\n      <td>NaN</td>\n      <td>NaN</td>\n    </tr>\n    <tr>\n      <th>17</th>\n      <td>2022-07-29 17:14:14</td>\n      <td>18</td>\n      <td>22</td>\n      <td>male</td>\n      <td>Abitur</td>\n      <td>student</td>\n      <td>4</td>\n      <td>daily</td>\n      <td>daily</td>\n      <td>multiple times</td>\n      <td>NaN</td>\n      <td>NaN</td>\n      <td>NaN</td>\n    </tr>\n    <tr>\n      <th>18</th>\n      <td>2022-08-01 10:06:42</td>\n      <td>19</td>\n      <td>21</td>\n      <td>female</td>\n      <td>Abitur</td>\n      <td>student</td>\n      <td>4</td>\n      <td>monthly</td>\n      <td>daily</td>\n      <td>multiple times</td>\n      <td>NaN</td>\n      <td>NaN</td>\n      <td>NaN</td>\n    </tr>\n    <tr>\n      <th>19</th>\n      <td>2022-08-01 11:15:22</td>\n      <td>20</td>\n      <td>22</td>\n      <td>female</td>\n      <td>Abitur</td>\n      <td>student</td>\n      <td>4</td>\n      <td>every six months</td>\n      <td>daily</td>\n      <td>multiple times</td>\n      <td>NaN</td>\n      <td>NaN</td>\n      <td>NaN</td>\n    </tr>\n    <tr>\n      <th>20</th>\n      <td>2022-08-01 12:26:11</td>\n      <td>21</td>\n      <td>22</td>\n      <td>male</td>\n      <td>Abitur</td>\n      <td>student</td>\n      <td>3</td>\n      <td>daily</td>\n      <td>daily</td>\n      <td>multiple times</td>\n      <td>NaN</td>\n      <td>NaN</td>\n      <td>NaN</td>\n    </tr>\n    <tr>\n      <th>21</th>\n      <td>2022-08-01 14:08:51</td>\n      <td>22</td>\n      <td>23</td>\n      <td>male</td>\n      <td>Abitur</td>\n      <td>student</td>\n      <td>5</td>\n      <td>daily</td>\n      <td>daily</td>\n      <td>multiple times</td>\n      <td>NaN</td>\n      <td>NaN</td>\n      <td>NaN</td>\n    </tr>\n    <tr>\n      <th>22</th>\n      <td>2022-08-01 15:09:35</td>\n      <td>23</td>\n      <td>22</td>\n      <td>male</td>\n      <td>Abitur</td>\n      <td>student</td>\n      <td>4</td>\n      <td>daily</td>\n      <td>daily</td>\n      <td>multiple times</td>\n      <td>NaN</td>\n      <td>NaN</td>\n      <td>NaN</td>\n    </tr>\n    <tr>\n      <th>23</th>\n      <td>2022-08-01 16:05:52</td>\n      <td>24</td>\n      <td>22</td>\n      <td>male</td>\n      <td>Abgeschlossene Ausbildung</td>\n      <td>student</td>\n      <td>5</td>\n      <td>daily</td>\n      <td>daily</td>\n      <td>multiple times</td>\n      <td>NaN</td>\n      <td>NaN</td>\n      <td>NaN</td>\n    </tr>\n    <tr>\n      <th>24</th>\n      <td>2022-08-01 17:11:28</td>\n      <td>25</td>\n      <td>21</td>\n      <td>male</td>\n      <td>Abitur</td>\n      <td>student</td>\n      <td>5</td>\n      <td>daily</td>\n      <td>daily</td>\n      <td>multiple times</td>\n      <td>NaN</td>\n      <td>NaN</td>\n      <td>NaN</td>\n    </tr>\n    <tr>\n      <th>25</th>\n      <td>2022-08-02 09:33:00</td>\n      <td>26</td>\n      <td>22</td>\n      <td>male</td>\n      <td>Bachelor</td>\n      <td>student</td>\n      <td>4</td>\n      <td>daily</td>\n      <td>daily</td>\n      <td>multiple times</td>\n      <td>NaN</td>\n      <td>NaN</td>\n      <td>NaN</td>\n    </tr>\n    <tr>\n      <th>26</th>\n      <td>2022-08-02 11:04:23</td>\n      <td>27</td>\n      <td>22</td>\n      <td>female</td>\n      <td>Abitur</td>\n      <td>student</td>\n      <td>3</td>\n      <td>every six months</td>\n      <td>daily</td>\n      <td>multiple times</td>\n      <td>NaN</td>\n      <td>NaN</td>\n      <td>NaN</td>\n    </tr>\n    <tr>\n      <th>27</th>\n      <td>2022-08-02 14:16:10</td>\n      <td>28</td>\n      <td>23</td>\n      <td>male</td>\n      <td>Abitur</td>\n      <td>student</td>\n      <td>4</td>\n      <td>daily</td>\n      <td>daily</td>\n      <td>multiple times</td>\n      <td>NaN</td>\n      <td>NaN</td>\n      <td>NaN</td>\n    </tr>\n    <tr>\n      <th>28</th>\n      <td>2022-08-02 15:59:17</td>\n      <td>29</td>\n      <td>23</td>\n      <td>female</td>\n      <td>Abitur</td>\n      <td>student</td>\n      <td>3</td>\n      <td>daily</td>\n      <td>daily</td>\n      <td>multiple times</td>\n      <td>NaN</td>\n      <td>NaN</td>\n      <td>NaN</td>\n    </tr>\n    <tr>\n      <th>29</th>\n      <td>2022-08-02 17:23:01</td>\n      <td>30</td>\n      <td>21</td>\n      <td>male</td>\n      <td>Abgeschlossene Ausbildung</td>\n      <td>self-employed</td>\n      <td>4</td>\n      <td>almost never</td>\n      <td>daily</td>\n      <td>multiple times</td>\n      <td>NaN</td>\n      <td>NaN</td>\n      <td>NaN</td>\n    </tr>\n    <tr>\n      <th>30</th>\n      <td>2022-08-02 18:26:57</td>\n      <td>31</td>\n      <td>23</td>\n      <td>female</td>\n      <td>Abitur</td>\n      <td>student</td>\n      <td>1</td>\n      <td>almost never</td>\n      <td>daily</td>\n      <td>multiple times</td>\n      <td>NaN</td>\n      <td>NaN</td>\n      <td>NaN</td>\n    </tr>\n  </tbody>\n</table>\n</div>"
     },
     "execution_count": 7,
     "metadata": {},
     "output_type": "execute_result"
    }
   ],
   "source": [
    "demographic_data = pd.read_excel('./Questionnaire/Questionnaire Results.xlsx', sheet_name='Demographic')\n",
    "demographic_data"
   ],
   "metadata": {
    "collapsed": false,
    "pycharm": {
     "name": "#%%\n"
    }
   }
  },
  {
   "cell_type": "code",
   "execution_count": 10,
   "outputs": [
    {
     "data": {
      "text/plain": "    Age  Gender                     Degree     Occupation  \\\n0    21  female                     Abitur        student   \n1    24    male                     Abitur        student   \n2    24  female                   Bachelor        student   \n3    19  female                     Abitur        student   \n4    23    male                     Abitur        student   \n5    23  female                     Abitur        student   \n6    22    male                   Bachelor        student   \n7    22    male                     Abitur        student   \n8    23    male                   Bachelor        student   \n9    20    male                     Abitur        student   \n10   21    male                     Abitur        student   \n11   22  female                     Abitur        student   \n12   27  female                     Abitur        student   \n13   22    male                   Bachelor        student   \n14   28    male              Master/Diplom  self-employed   \n15   25    male                   Bachelor       employed   \n16   22  female  Abgeschlossene Ausbildung       employed   \n17   22    male                     Abitur        student   \n18   21  female                     Abitur        student   \n19   22  female                     Abitur        student   \n20   22    male                     Abitur        student   \n21   23    male                     Abitur        student   \n22   22    male                     Abitur        student   \n23   22    male  Abgeschlossene Ausbildung        student   \n24   21    male                     Abitur        student   \n25   22    male                   Bachelor        student   \n26   22  female                     Abitur        student   \n27   23    male                     Abitur        student   \n28   23  female                     Abitur        student   \n29   21    male  Abgeschlossene Ausbildung  self-employed   \n30   23  female                     Abitur        student   \n\n    Good with computers Use a computer mouse Use a computer  \\\n0                     4                daily          daily   \n1                     5                daily          daily   \n2                     4     every six months          daily   \n3                     3                daily          daily   \n4                     5                daily          daily   \n5                     4         almost never          daily   \n6                     3                daily          daily   \n7                     5                daily          daily   \n8                     4                daily          daily   \n9                     4                daily          daily   \n10                    4                daily          daily   \n11                    3         almost never         weekly   \n12                    4              monthly         weekly   \n13                    4                daily          daily   \n14                    4                daily          daily   \n15                    5                daily          daily   \n16                    4              monthly         weekly   \n17                    4                daily          daily   \n18                    4              monthly          daily   \n19                    4     every six months          daily   \n20                    3                daily          daily   \n21                    5                daily          daily   \n22                    4                daily          daily   \n23                    5                daily          daily   \n24                    5                daily          daily   \n25                    4                daily          daily   \n26                    3     every six months          daily   \n27                    4                daily          daily   \n28                    3                daily          daily   \n29                    4         almost never          daily   \n30                    1         almost never          daily   \n\n   Previously noticed latency  \n0              multiple times  \n1              multiple times  \n2              multiple times  \n3                        once  \n4              multiple times  \n5                       never  \n6              multiple times  \n7              multiple times  \n8                        once  \n9              multiple times  \n10             multiple times  \n11                       once  \n12             multiple times  \n13             multiple times  \n14             multiple times  \n15             multiple times  \n16             multiple times  \n17             multiple times  \n18             multiple times  \n19             multiple times  \n20             multiple times  \n21             multiple times  \n22             multiple times  \n23             multiple times  \n24             multiple times  \n25             multiple times  \n26             multiple times  \n27             multiple times  \n28             multiple times  \n29             multiple times  \n30             multiple times  ",
      "text/html": "<div>\n<style scoped>\n    .dataframe tbody tr th:only-of-type {\n        vertical-align: middle;\n    }\n\n    .dataframe tbody tr th {\n        vertical-align: top;\n    }\n\n    .dataframe thead th {\n        text-align: right;\n    }\n</style>\n<table border=\"1\" class=\"dataframe\">\n  <thead>\n    <tr style=\"text-align: right;\">\n      <th></th>\n      <th>Age</th>\n      <th>Gender</th>\n      <th>Degree</th>\n      <th>Occupation</th>\n      <th>Good with computers</th>\n      <th>Use a computer mouse</th>\n      <th>Use a computer</th>\n      <th>Previously noticed latency</th>\n    </tr>\n  </thead>\n  <tbody>\n    <tr>\n      <th>0</th>\n      <td>21</td>\n      <td>female</td>\n      <td>Abitur</td>\n      <td>student</td>\n      <td>4</td>\n      <td>daily</td>\n      <td>daily</td>\n      <td>multiple times</td>\n    </tr>\n    <tr>\n      <th>1</th>\n      <td>24</td>\n      <td>male</td>\n      <td>Abitur</td>\n      <td>student</td>\n      <td>5</td>\n      <td>daily</td>\n      <td>daily</td>\n      <td>multiple times</td>\n    </tr>\n    <tr>\n      <th>2</th>\n      <td>24</td>\n      <td>female</td>\n      <td>Bachelor</td>\n      <td>student</td>\n      <td>4</td>\n      <td>every six months</td>\n      <td>daily</td>\n      <td>multiple times</td>\n    </tr>\n    <tr>\n      <th>3</th>\n      <td>19</td>\n      <td>female</td>\n      <td>Abitur</td>\n      <td>student</td>\n      <td>3</td>\n      <td>daily</td>\n      <td>daily</td>\n      <td>once</td>\n    </tr>\n    <tr>\n      <th>4</th>\n      <td>23</td>\n      <td>male</td>\n      <td>Abitur</td>\n      <td>student</td>\n      <td>5</td>\n      <td>daily</td>\n      <td>daily</td>\n      <td>multiple times</td>\n    </tr>\n    <tr>\n      <th>5</th>\n      <td>23</td>\n      <td>female</td>\n      <td>Abitur</td>\n      <td>student</td>\n      <td>4</td>\n      <td>almost never</td>\n      <td>daily</td>\n      <td>never</td>\n    </tr>\n    <tr>\n      <th>6</th>\n      <td>22</td>\n      <td>male</td>\n      <td>Bachelor</td>\n      <td>student</td>\n      <td>3</td>\n      <td>daily</td>\n      <td>daily</td>\n      <td>multiple times</td>\n    </tr>\n    <tr>\n      <th>7</th>\n      <td>22</td>\n      <td>male</td>\n      <td>Abitur</td>\n      <td>student</td>\n      <td>5</td>\n      <td>daily</td>\n      <td>daily</td>\n      <td>multiple times</td>\n    </tr>\n    <tr>\n      <th>8</th>\n      <td>23</td>\n      <td>male</td>\n      <td>Bachelor</td>\n      <td>student</td>\n      <td>4</td>\n      <td>daily</td>\n      <td>daily</td>\n      <td>once</td>\n    </tr>\n    <tr>\n      <th>9</th>\n      <td>20</td>\n      <td>male</td>\n      <td>Abitur</td>\n      <td>student</td>\n      <td>4</td>\n      <td>daily</td>\n      <td>daily</td>\n      <td>multiple times</td>\n    </tr>\n    <tr>\n      <th>10</th>\n      <td>21</td>\n      <td>male</td>\n      <td>Abitur</td>\n      <td>student</td>\n      <td>4</td>\n      <td>daily</td>\n      <td>daily</td>\n      <td>multiple times</td>\n    </tr>\n    <tr>\n      <th>11</th>\n      <td>22</td>\n      <td>female</td>\n      <td>Abitur</td>\n      <td>student</td>\n      <td>3</td>\n      <td>almost never</td>\n      <td>weekly</td>\n      <td>once</td>\n    </tr>\n    <tr>\n      <th>12</th>\n      <td>27</td>\n      <td>female</td>\n      <td>Abitur</td>\n      <td>student</td>\n      <td>4</td>\n      <td>monthly</td>\n      <td>weekly</td>\n      <td>multiple times</td>\n    </tr>\n    <tr>\n      <th>13</th>\n      <td>22</td>\n      <td>male</td>\n      <td>Bachelor</td>\n      <td>student</td>\n      <td>4</td>\n      <td>daily</td>\n      <td>daily</td>\n      <td>multiple times</td>\n    </tr>\n    <tr>\n      <th>14</th>\n      <td>28</td>\n      <td>male</td>\n      <td>Master/Diplom</td>\n      <td>self-employed</td>\n      <td>4</td>\n      <td>daily</td>\n      <td>daily</td>\n      <td>multiple times</td>\n    </tr>\n    <tr>\n      <th>15</th>\n      <td>25</td>\n      <td>male</td>\n      <td>Bachelor</td>\n      <td>employed</td>\n      <td>5</td>\n      <td>daily</td>\n      <td>daily</td>\n      <td>multiple times</td>\n    </tr>\n    <tr>\n      <th>16</th>\n      <td>22</td>\n      <td>female</td>\n      <td>Abgeschlossene Ausbildung</td>\n      <td>employed</td>\n      <td>4</td>\n      <td>monthly</td>\n      <td>weekly</td>\n      <td>multiple times</td>\n    </tr>\n    <tr>\n      <th>17</th>\n      <td>22</td>\n      <td>male</td>\n      <td>Abitur</td>\n      <td>student</td>\n      <td>4</td>\n      <td>daily</td>\n      <td>daily</td>\n      <td>multiple times</td>\n    </tr>\n    <tr>\n      <th>18</th>\n      <td>21</td>\n      <td>female</td>\n      <td>Abitur</td>\n      <td>student</td>\n      <td>4</td>\n      <td>monthly</td>\n      <td>daily</td>\n      <td>multiple times</td>\n    </tr>\n    <tr>\n      <th>19</th>\n      <td>22</td>\n      <td>female</td>\n      <td>Abitur</td>\n      <td>student</td>\n      <td>4</td>\n      <td>every six months</td>\n      <td>daily</td>\n      <td>multiple times</td>\n    </tr>\n    <tr>\n      <th>20</th>\n      <td>22</td>\n      <td>male</td>\n      <td>Abitur</td>\n      <td>student</td>\n      <td>3</td>\n      <td>daily</td>\n      <td>daily</td>\n      <td>multiple times</td>\n    </tr>\n    <tr>\n      <th>21</th>\n      <td>23</td>\n      <td>male</td>\n      <td>Abitur</td>\n      <td>student</td>\n      <td>5</td>\n      <td>daily</td>\n      <td>daily</td>\n      <td>multiple times</td>\n    </tr>\n    <tr>\n      <th>22</th>\n      <td>22</td>\n      <td>male</td>\n      <td>Abitur</td>\n      <td>student</td>\n      <td>4</td>\n      <td>daily</td>\n      <td>daily</td>\n      <td>multiple times</td>\n    </tr>\n    <tr>\n      <th>23</th>\n      <td>22</td>\n      <td>male</td>\n      <td>Abgeschlossene Ausbildung</td>\n      <td>student</td>\n      <td>5</td>\n      <td>daily</td>\n      <td>daily</td>\n      <td>multiple times</td>\n    </tr>\n    <tr>\n      <th>24</th>\n      <td>21</td>\n      <td>male</td>\n      <td>Abitur</td>\n      <td>student</td>\n      <td>5</td>\n      <td>daily</td>\n      <td>daily</td>\n      <td>multiple times</td>\n    </tr>\n    <tr>\n      <th>25</th>\n      <td>22</td>\n      <td>male</td>\n      <td>Bachelor</td>\n      <td>student</td>\n      <td>4</td>\n      <td>daily</td>\n      <td>daily</td>\n      <td>multiple times</td>\n    </tr>\n    <tr>\n      <th>26</th>\n      <td>22</td>\n      <td>female</td>\n      <td>Abitur</td>\n      <td>student</td>\n      <td>3</td>\n      <td>every six months</td>\n      <td>daily</td>\n      <td>multiple times</td>\n    </tr>\n    <tr>\n      <th>27</th>\n      <td>23</td>\n      <td>male</td>\n      <td>Abitur</td>\n      <td>student</td>\n      <td>4</td>\n      <td>daily</td>\n      <td>daily</td>\n      <td>multiple times</td>\n    </tr>\n    <tr>\n      <th>28</th>\n      <td>23</td>\n      <td>female</td>\n      <td>Abitur</td>\n      <td>student</td>\n      <td>3</td>\n      <td>daily</td>\n      <td>daily</td>\n      <td>multiple times</td>\n    </tr>\n    <tr>\n      <th>29</th>\n      <td>21</td>\n      <td>male</td>\n      <td>Abgeschlossene Ausbildung</td>\n      <td>self-employed</td>\n      <td>4</td>\n      <td>almost never</td>\n      <td>daily</td>\n      <td>multiple times</td>\n    </tr>\n    <tr>\n      <th>30</th>\n      <td>23</td>\n      <td>female</td>\n      <td>Abitur</td>\n      <td>student</td>\n      <td>1</td>\n      <td>almost never</td>\n      <td>daily</td>\n      <td>multiple times</td>\n    </tr>\n  </tbody>\n</table>\n</div>"
     },
     "execution_count": 10,
     "metadata": {},
     "output_type": "execute_result"
    }
   ],
   "source": [
    "demographic_data = demographic_data[['Age', 'Gender', 'Degree', 'Occupation', 'Good with computers', 'Use a computer mouse', 'Use a computer', 'Previously noticed latency']]\n",
    "demographic_data"
   ],
   "metadata": {
    "collapsed": false,
    "pycharm": {
     "name": "#%%\n"
    }
   }
  },
  {
   "cell_type": "code",
   "execution_count": 11,
   "outputs": [
    {
     "data": {
      "text/plain": "             Age  Good with computers\ncount  31.000000            31.000000\nmean   22.483871             3.935484\nstd     1.786448             0.853834\nmin    19.000000             1.000000\n25%    22.000000             4.000000\n50%    22.000000             4.000000\n75%    23.000000             4.000000\nmax    28.000000             5.000000",
      "text/html": "<div>\n<style scoped>\n    .dataframe tbody tr th:only-of-type {\n        vertical-align: middle;\n    }\n\n    .dataframe tbody tr th {\n        vertical-align: top;\n    }\n\n    .dataframe thead th {\n        text-align: right;\n    }\n</style>\n<table border=\"1\" class=\"dataframe\">\n  <thead>\n    <tr style=\"text-align: right;\">\n      <th></th>\n      <th>Age</th>\n      <th>Good with computers</th>\n    </tr>\n  </thead>\n  <tbody>\n    <tr>\n      <th>count</th>\n      <td>31.000000</td>\n      <td>31.000000</td>\n    </tr>\n    <tr>\n      <th>mean</th>\n      <td>22.483871</td>\n      <td>3.935484</td>\n    </tr>\n    <tr>\n      <th>std</th>\n      <td>1.786448</td>\n      <td>0.853834</td>\n    </tr>\n    <tr>\n      <th>min</th>\n      <td>19.000000</td>\n      <td>1.000000</td>\n    </tr>\n    <tr>\n      <th>25%</th>\n      <td>22.000000</td>\n      <td>4.000000</td>\n    </tr>\n    <tr>\n      <th>50%</th>\n      <td>22.000000</td>\n      <td>4.000000</td>\n    </tr>\n    <tr>\n      <th>75%</th>\n      <td>23.000000</td>\n      <td>4.000000</td>\n    </tr>\n    <tr>\n      <th>max</th>\n      <td>28.000000</td>\n      <td>5.000000</td>\n    </tr>\n  </tbody>\n</table>\n</div>"
     },
     "execution_count": 11,
     "metadata": {},
     "output_type": "execute_result"
    }
   ],
   "source": [
    "demographic_data.describe()"
   ],
   "metadata": {
    "collapsed": false,
    "pycharm": {
     "name": "#%%\n"
    }
   }
  },
  {
   "cell_type": "markdown",
   "source": [
    "# Questionnaire Answers"
   ],
   "metadata": {
    "collapsed": false,
    "pycharm": {
     "name": "#%% md\n"
    }
   }
  },
  {
   "cell_type": "code",
   "execution_count": 71,
   "outputs": [
    {
     "data": {
      "text/plain": "               Timestamp  Latency  ID  How many  Enjoyed  Caused  Lateness  \\\n0    2022-07-27 13:02:57    16.67   1         0        3       4         3   \n1    2022-07-27 13:03:56   -50.00   1         1        5       5         1   \n2    2022-07-27 13:04:39   -16.67   1         2        5       1         1   \n3    2022-07-27 13:06:03    50.00   1         3        4       4         5   \n4    2022-07-27 13:07:20   -16.67   1         4        4       4         4   \n...                  ...      ...  ..       ...      ...     ...       ...   \n1081 2022-08-02 19:57:11   -50.00  31        30        4       3         1   \n1082 2022-08-02 19:58:46    16.67  31        31        5       2         1   \n1083 2022-08-02 20:01:32    50.00  31        32        4       4         2   \n1084 2022-08-02 20:03:01    16.67  31        33        3       4         2   \n1085 2022-08-02 20:05:27   -50.00  31        34        4       2         2   \n\n      Over-Anticipate  Wrong Distance  Wrong Orientation  Jitter  Jumps  \\\n0                   4               3                  4       4      4   \n1                   1               1                  1       1      1   \n2                   1               1                  1       1      1   \n3                   1               4                  1       1      1   \n4                   3               3                  3       3      3   \n...               ...             ...                ...     ...    ...   \n1081                4               4                  2       3      2   \n1082                2               2                  1       1      2   \n1083                4               5                  2       2      3   \n1084                4               5                  1       1      1   \n1085                4               5                  4       2      2   \n\n      Spring effect  Stick  \n0                 4      4  \n1                 1      1  \n2                 1      1  \n3                 1      1  \n4                 3      3  \n...             ...    ...  \n1081              5      3  \n1082              2      4  \n1083              2      4  \n1084              1      1  \n1085              2      2  \n\n[1086 rows x 14 columns]",
      "text/html": "<div>\n<style scoped>\n    .dataframe tbody tr th:only-of-type {\n        vertical-align: middle;\n    }\n\n    .dataframe tbody tr th {\n        vertical-align: top;\n    }\n\n    .dataframe thead th {\n        text-align: right;\n    }\n</style>\n<table border=\"1\" class=\"dataframe\">\n  <thead>\n    <tr style=\"text-align: right;\">\n      <th></th>\n      <th>Timestamp</th>\n      <th>Latency</th>\n      <th>ID</th>\n      <th>How many</th>\n      <th>Enjoyed</th>\n      <th>Caused</th>\n      <th>Lateness</th>\n      <th>Over-Anticipate</th>\n      <th>Wrong Distance</th>\n      <th>Wrong Orientation</th>\n      <th>Jitter</th>\n      <th>Jumps</th>\n      <th>Spring effect</th>\n      <th>Stick</th>\n    </tr>\n  </thead>\n  <tbody>\n    <tr>\n      <th>0</th>\n      <td>2022-07-27 13:02:57</td>\n      <td>16.67</td>\n      <td>1</td>\n      <td>0</td>\n      <td>3</td>\n      <td>4</td>\n      <td>3</td>\n      <td>4</td>\n      <td>3</td>\n      <td>4</td>\n      <td>4</td>\n      <td>4</td>\n      <td>4</td>\n      <td>4</td>\n    </tr>\n    <tr>\n      <th>1</th>\n      <td>2022-07-27 13:03:56</td>\n      <td>-50.00</td>\n      <td>1</td>\n      <td>1</td>\n      <td>5</td>\n      <td>5</td>\n      <td>1</td>\n      <td>1</td>\n      <td>1</td>\n      <td>1</td>\n      <td>1</td>\n      <td>1</td>\n      <td>1</td>\n      <td>1</td>\n    </tr>\n    <tr>\n      <th>2</th>\n      <td>2022-07-27 13:04:39</td>\n      <td>-16.67</td>\n      <td>1</td>\n      <td>2</td>\n      <td>5</td>\n      <td>1</td>\n      <td>1</td>\n      <td>1</td>\n      <td>1</td>\n      <td>1</td>\n      <td>1</td>\n      <td>1</td>\n      <td>1</td>\n      <td>1</td>\n    </tr>\n    <tr>\n      <th>3</th>\n      <td>2022-07-27 13:06:03</td>\n      <td>50.00</td>\n      <td>1</td>\n      <td>3</td>\n      <td>4</td>\n      <td>4</td>\n      <td>5</td>\n      <td>1</td>\n      <td>4</td>\n      <td>1</td>\n      <td>1</td>\n      <td>1</td>\n      <td>1</td>\n      <td>1</td>\n    </tr>\n    <tr>\n      <th>4</th>\n      <td>2022-07-27 13:07:20</td>\n      <td>-16.67</td>\n      <td>1</td>\n      <td>4</td>\n      <td>4</td>\n      <td>4</td>\n      <td>4</td>\n      <td>3</td>\n      <td>3</td>\n      <td>3</td>\n      <td>3</td>\n      <td>3</td>\n      <td>3</td>\n      <td>3</td>\n    </tr>\n    <tr>\n      <th>...</th>\n      <td>...</td>\n      <td>...</td>\n      <td>...</td>\n      <td>...</td>\n      <td>...</td>\n      <td>...</td>\n      <td>...</td>\n      <td>...</td>\n      <td>...</td>\n      <td>...</td>\n      <td>...</td>\n      <td>...</td>\n      <td>...</td>\n      <td>...</td>\n    </tr>\n    <tr>\n      <th>1081</th>\n      <td>2022-08-02 19:57:11</td>\n      <td>-50.00</td>\n      <td>31</td>\n      <td>30</td>\n      <td>4</td>\n      <td>3</td>\n      <td>1</td>\n      <td>4</td>\n      <td>4</td>\n      <td>2</td>\n      <td>3</td>\n      <td>2</td>\n      <td>5</td>\n      <td>3</td>\n    </tr>\n    <tr>\n      <th>1082</th>\n      <td>2022-08-02 19:58:46</td>\n      <td>16.67</td>\n      <td>31</td>\n      <td>31</td>\n      <td>5</td>\n      <td>2</td>\n      <td>1</td>\n      <td>2</td>\n      <td>2</td>\n      <td>1</td>\n      <td>1</td>\n      <td>2</td>\n      <td>2</td>\n      <td>4</td>\n    </tr>\n    <tr>\n      <th>1083</th>\n      <td>2022-08-02 20:01:32</td>\n      <td>50.00</td>\n      <td>31</td>\n      <td>32</td>\n      <td>4</td>\n      <td>4</td>\n      <td>2</td>\n      <td>4</td>\n      <td>5</td>\n      <td>2</td>\n      <td>2</td>\n      <td>3</td>\n      <td>2</td>\n      <td>4</td>\n    </tr>\n    <tr>\n      <th>1084</th>\n      <td>2022-08-02 20:03:01</td>\n      <td>16.67</td>\n      <td>31</td>\n      <td>33</td>\n      <td>3</td>\n      <td>4</td>\n      <td>2</td>\n      <td>4</td>\n      <td>5</td>\n      <td>1</td>\n      <td>1</td>\n      <td>1</td>\n      <td>1</td>\n      <td>1</td>\n    </tr>\n    <tr>\n      <th>1085</th>\n      <td>2022-08-02 20:05:27</td>\n      <td>-50.00</td>\n      <td>31</td>\n      <td>34</td>\n      <td>4</td>\n      <td>2</td>\n      <td>2</td>\n      <td>4</td>\n      <td>5</td>\n      <td>4</td>\n      <td>2</td>\n      <td>2</td>\n      <td>2</td>\n      <td>2</td>\n    </tr>\n  </tbody>\n</table>\n<p>1086 rows × 14 columns</p>\n</div>"
     },
     "execution_count": 71,
     "metadata": {},
     "output_type": "execute_result"
    }
   ],
   "source": [
    "raw_questionnaire_data = pd.read_excel('./Questionnaire/Questionnaire Results.xlsx', sheet_name='Questionnaires')\n",
    "raw_questionnaire_data"
   ],
   "metadata": {
    "collapsed": false,
    "pycharm": {
     "name": "#%%\n"
    }
   }
  },
  {
   "cell_type": "code",
   "execution_count": 72,
   "outputs": [
    {
     "data": {
      "text/plain": "      Latency  ID  How many  Enjoyed  Caused  Lateness  Over-Anticipate  \\\n0       16.67   1         0        3       4         3                4   \n1      -50.00   1         1        5       5         1                1   \n2      -16.67   1         2        5       1         1                1   \n3       50.00   1         3        4       4         5                1   \n4      -16.67   1         4        4       4         4                3   \n...       ...  ..       ...      ...     ...       ...              ...   \n1081   -50.00  31        30        4       3         1                4   \n1082    16.67  31        31        5       2         1                2   \n1083    50.00  31        32        4       4         2                4   \n1084    16.67  31        33        3       4         2                4   \n1085   -50.00  31        34        4       2         2                4   \n\n      Wrong Distance  Wrong Orientation  Jitter  Jumps  Spring effect  Stick  \n0                  3                  4       4      4              4      4  \n1                  1                  1       1      1              1      1  \n2                  1                  1       1      1              1      1  \n3                  4                  1       1      1              1      1  \n4                  3                  3       3      3              3      3  \n...              ...                ...     ...    ...            ...    ...  \n1081               4                  2       3      2              5      3  \n1082               2                  1       1      2              2      4  \n1083               5                  2       2      3              2      4  \n1084               5                  1       1      1              1      1  \n1085               5                  4       2      2              2      2  \n\n[1086 rows x 13 columns]",
      "text/html": "<div>\n<style scoped>\n    .dataframe tbody tr th:only-of-type {\n        vertical-align: middle;\n    }\n\n    .dataframe tbody tr th {\n        vertical-align: top;\n    }\n\n    .dataframe thead th {\n        text-align: right;\n    }\n</style>\n<table border=\"1\" class=\"dataframe\">\n  <thead>\n    <tr style=\"text-align: right;\">\n      <th></th>\n      <th>Latency</th>\n      <th>ID</th>\n      <th>How many</th>\n      <th>Enjoyed</th>\n      <th>Caused</th>\n      <th>Lateness</th>\n      <th>Over-Anticipate</th>\n      <th>Wrong Distance</th>\n      <th>Wrong Orientation</th>\n      <th>Jitter</th>\n      <th>Jumps</th>\n      <th>Spring effect</th>\n      <th>Stick</th>\n    </tr>\n  </thead>\n  <tbody>\n    <tr>\n      <th>0</th>\n      <td>16.67</td>\n      <td>1</td>\n      <td>0</td>\n      <td>3</td>\n      <td>4</td>\n      <td>3</td>\n      <td>4</td>\n      <td>3</td>\n      <td>4</td>\n      <td>4</td>\n      <td>4</td>\n      <td>4</td>\n      <td>4</td>\n    </tr>\n    <tr>\n      <th>1</th>\n      <td>-50.00</td>\n      <td>1</td>\n      <td>1</td>\n      <td>5</td>\n      <td>5</td>\n      <td>1</td>\n      <td>1</td>\n      <td>1</td>\n      <td>1</td>\n      <td>1</td>\n      <td>1</td>\n      <td>1</td>\n      <td>1</td>\n    </tr>\n    <tr>\n      <th>2</th>\n      <td>-16.67</td>\n      <td>1</td>\n      <td>2</td>\n      <td>5</td>\n      <td>1</td>\n      <td>1</td>\n      <td>1</td>\n      <td>1</td>\n      <td>1</td>\n      <td>1</td>\n      <td>1</td>\n      <td>1</td>\n      <td>1</td>\n    </tr>\n    <tr>\n      <th>3</th>\n      <td>50.00</td>\n      <td>1</td>\n      <td>3</td>\n      <td>4</td>\n      <td>4</td>\n      <td>5</td>\n      <td>1</td>\n      <td>4</td>\n      <td>1</td>\n      <td>1</td>\n      <td>1</td>\n      <td>1</td>\n      <td>1</td>\n    </tr>\n    <tr>\n      <th>4</th>\n      <td>-16.67</td>\n      <td>1</td>\n      <td>4</td>\n      <td>4</td>\n      <td>4</td>\n      <td>4</td>\n      <td>3</td>\n      <td>3</td>\n      <td>3</td>\n      <td>3</td>\n      <td>3</td>\n      <td>3</td>\n      <td>3</td>\n    </tr>\n    <tr>\n      <th>...</th>\n      <td>...</td>\n      <td>...</td>\n      <td>...</td>\n      <td>...</td>\n      <td>...</td>\n      <td>...</td>\n      <td>...</td>\n      <td>...</td>\n      <td>...</td>\n      <td>...</td>\n      <td>...</td>\n      <td>...</td>\n      <td>...</td>\n    </tr>\n    <tr>\n      <th>1081</th>\n      <td>-50.00</td>\n      <td>31</td>\n      <td>30</td>\n      <td>4</td>\n      <td>3</td>\n      <td>1</td>\n      <td>4</td>\n      <td>4</td>\n      <td>2</td>\n      <td>3</td>\n      <td>2</td>\n      <td>5</td>\n      <td>3</td>\n    </tr>\n    <tr>\n      <th>1082</th>\n      <td>16.67</td>\n      <td>31</td>\n      <td>31</td>\n      <td>5</td>\n      <td>2</td>\n      <td>1</td>\n      <td>2</td>\n      <td>2</td>\n      <td>1</td>\n      <td>1</td>\n      <td>2</td>\n      <td>2</td>\n      <td>4</td>\n    </tr>\n    <tr>\n      <th>1083</th>\n      <td>50.00</td>\n      <td>31</td>\n      <td>32</td>\n      <td>4</td>\n      <td>4</td>\n      <td>2</td>\n      <td>4</td>\n      <td>5</td>\n      <td>2</td>\n      <td>2</td>\n      <td>3</td>\n      <td>2</td>\n      <td>4</td>\n    </tr>\n    <tr>\n      <th>1084</th>\n      <td>16.67</td>\n      <td>31</td>\n      <td>33</td>\n      <td>3</td>\n      <td>4</td>\n      <td>2</td>\n      <td>4</td>\n      <td>5</td>\n      <td>1</td>\n      <td>1</td>\n      <td>1</td>\n      <td>1</td>\n      <td>1</td>\n    </tr>\n    <tr>\n      <th>1085</th>\n      <td>-50.00</td>\n      <td>31</td>\n      <td>34</td>\n      <td>4</td>\n      <td>2</td>\n      <td>2</td>\n      <td>4</td>\n      <td>5</td>\n      <td>4</td>\n      <td>2</td>\n      <td>2</td>\n      <td>2</td>\n      <td>2</td>\n    </tr>\n  </tbody>\n</table>\n<p>1086 rows × 13 columns</p>\n</div>"
     },
     "execution_count": 72,
     "metadata": {},
     "output_type": "execute_result"
    }
   ],
   "source": [
    "mean_questionnaire_data = raw_questionnaire_data.drop('Timestamp', axis=1)\n",
    "mean_questionnaire_data"
   ],
   "metadata": {
    "collapsed": false,
    "pycharm": {
     "name": "#%%\n"
    }
   }
  },
  {
   "cell_type": "code",
   "execution_count": 73,
   "outputs": [
    {
     "data": {
      "text/plain": "array([ 1,  2,  3,  4,  5,  6,  7,  8,  9, 10, 11, 12, 13, 14, 15, 16, 17,\n       18, 19, 20, 21, 22, 23, 24, 25, 26, 27, 28, 29, 30, 31],\n      dtype=int64)"
     },
     "execution_count": 73,
     "metadata": {},
     "output_type": "execute_result"
    }
   ],
   "source": [
    "unique_ids = mean_questionnaire_data['ID'].unique()\n",
    "unique_ids"
   ],
   "metadata": {
    "collapsed": false,
    "pycharm": {
     "name": "#%%\n"
    }
   }
  },
  {
   "cell_type": "code",
   "execution_count": 6,
   "outputs": [
    {
     "data": {
      "text/plain": "array([ 16.67, -50.  , -16.67,  50.  ,   0.  ])"
     },
     "execution_count": 6,
     "metadata": {},
     "output_type": "execute_result"
    }
   ],
   "source": [
    "unique_latencies = mean_questionnaire_data['Latency'].unique()\n",
    "unique_latencies"
   ],
   "metadata": {
    "collapsed": false,
    "pycharm": {
     "name": "#%%\n"
    }
   }
  },
  {
   "cell_type": "code",
   "execution_count": 74,
   "outputs": [
    {
     "data": {
      "text/plain": "     ID  Latency   Enjoyed  Caused the Movements  Lateness  Over-Anticipation  \\\n0     1    50.00  3.333333              3.333333  2.666667           2.000000   \n1     1    16.67  3.571429              3.571429  2.428571           2.428571   \n2     1     0.00  4.142857              3.571429  2.000000           2.142857   \n3     1   -16.67  4.285714              3.714286  1.714286           1.714286   \n4     1   -50.00  4.250000              3.875000  1.250000           1.250000   \n..   ..      ...       ...                   ...       ...                ...   \n150  31    50.00  3.750000              3.375000  2.250000           4.000000   \n151  31    16.67  3.666667              3.500000  1.666667           3.166667   \n152  31     0.00  4.000000              3.428571  2.714286           3.285714   \n153  31   -16.67  4.000000              3.833333  2.666667           3.166667   \n154  31   -50.00  3.750000              2.875000  2.125000           3.750000   \n\n     Wrong Distance  Wrong Orientation    Jitter     Jumps  Spring Effect  \\\n0          2.500000           2.000000  3.000000  3.000000       3.000000   \n1          2.571429           2.714286  3.142857  3.142857       3.142857   \n2          1.857143           1.857143  2.571429  2.714286       2.571429   \n3          1.857143           1.714286  2.571429  2.571429       2.285714   \n4          1.375000           1.375000  2.375000  2.500000       2.125000   \n..              ...                ...       ...       ...            ...   \n150        4.500000           2.625000  3.375000  3.750000       3.750000   \n151        4.000000           2.000000  2.333333  2.833333       2.833333   \n152        4.714286           3.285714  3.142857  4.000000       4.000000   \n153        4.166667           2.500000  2.833333  3.666667       3.333333   \n154        3.875000           2.125000  2.750000  3.375000       3.875000   \n\n        Stick  \n0    1.833333  \n1    2.714286  \n2    1.857143  \n3    2.142857  \n4    1.250000  \n..        ...  \n150  4.375000  \n151  2.833333  \n152  3.285714  \n153  3.166667  \n154  2.125000  \n\n[155 rows x 12 columns]",
      "text/html": "<div>\n<style scoped>\n    .dataframe tbody tr th:only-of-type {\n        vertical-align: middle;\n    }\n\n    .dataframe tbody tr th {\n        vertical-align: top;\n    }\n\n    .dataframe thead th {\n        text-align: right;\n    }\n</style>\n<table border=\"1\" class=\"dataframe\">\n  <thead>\n    <tr style=\"text-align: right;\">\n      <th></th>\n      <th>ID</th>\n      <th>Latency</th>\n      <th>Enjoyed</th>\n      <th>Caused the Movements</th>\n      <th>Lateness</th>\n      <th>Over-Anticipation</th>\n      <th>Wrong Distance</th>\n      <th>Wrong Orientation</th>\n      <th>Jitter</th>\n      <th>Jumps</th>\n      <th>Spring Effect</th>\n      <th>Stick</th>\n    </tr>\n  </thead>\n  <tbody>\n    <tr>\n      <th>0</th>\n      <td>1</td>\n      <td>50.00</td>\n      <td>3.333333</td>\n      <td>3.333333</td>\n      <td>2.666667</td>\n      <td>2.000000</td>\n      <td>2.500000</td>\n      <td>2.000000</td>\n      <td>3.000000</td>\n      <td>3.000000</td>\n      <td>3.000000</td>\n      <td>1.833333</td>\n    </tr>\n    <tr>\n      <th>1</th>\n      <td>1</td>\n      <td>16.67</td>\n      <td>3.571429</td>\n      <td>3.571429</td>\n      <td>2.428571</td>\n      <td>2.428571</td>\n      <td>2.571429</td>\n      <td>2.714286</td>\n      <td>3.142857</td>\n      <td>3.142857</td>\n      <td>3.142857</td>\n      <td>2.714286</td>\n    </tr>\n    <tr>\n      <th>2</th>\n      <td>1</td>\n      <td>0.00</td>\n      <td>4.142857</td>\n      <td>3.571429</td>\n      <td>2.000000</td>\n      <td>2.142857</td>\n      <td>1.857143</td>\n      <td>1.857143</td>\n      <td>2.571429</td>\n      <td>2.714286</td>\n      <td>2.571429</td>\n      <td>1.857143</td>\n    </tr>\n    <tr>\n      <th>3</th>\n      <td>1</td>\n      <td>-16.67</td>\n      <td>4.285714</td>\n      <td>3.714286</td>\n      <td>1.714286</td>\n      <td>1.714286</td>\n      <td>1.857143</td>\n      <td>1.714286</td>\n      <td>2.571429</td>\n      <td>2.571429</td>\n      <td>2.285714</td>\n      <td>2.142857</td>\n    </tr>\n    <tr>\n      <th>4</th>\n      <td>1</td>\n      <td>-50.00</td>\n      <td>4.250000</td>\n      <td>3.875000</td>\n      <td>1.250000</td>\n      <td>1.250000</td>\n      <td>1.375000</td>\n      <td>1.375000</td>\n      <td>2.375000</td>\n      <td>2.500000</td>\n      <td>2.125000</td>\n      <td>1.250000</td>\n    </tr>\n    <tr>\n      <th>...</th>\n      <td>...</td>\n      <td>...</td>\n      <td>...</td>\n      <td>...</td>\n      <td>...</td>\n      <td>...</td>\n      <td>...</td>\n      <td>...</td>\n      <td>...</td>\n      <td>...</td>\n      <td>...</td>\n      <td>...</td>\n    </tr>\n    <tr>\n      <th>150</th>\n      <td>31</td>\n      <td>50.00</td>\n      <td>3.750000</td>\n      <td>3.375000</td>\n      <td>2.250000</td>\n      <td>4.000000</td>\n      <td>4.500000</td>\n      <td>2.625000</td>\n      <td>3.375000</td>\n      <td>3.750000</td>\n      <td>3.750000</td>\n      <td>4.375000</td>\n    </tr>\n    <tr>\n      <th>151</th>\n      <td>31</td>\n      <td>16.67</td>\n      <td>3.666667</td>\n      <td>3.500000</td>\n      <td>1.666667</td>\n      <td>3.166667</td>\n      <td>4.000000</td>\n      <td>2.000000</td>\n      <td>2.333333</td>\n      <td>2.833333</td>\n      <td>2.833333</td>\n      <td>2.833333</td>\n    </tr>\n    <tr>\n      <th>152</th>\n      <td>31</td>\n      <td>0.00</td>\n      <td>4.000000</td>\n      <td>3.428571</td>\n      <td>2.714286</td>\n      <td>3.285714</td>\n      <td>4.714286</td>\n      <td>3.285714</td>\n      <td>3.142857</td>\n      <td>4.000000</td>\n      <td>4.000000</td>\n      <td>3.285714</td>\n    </tr>\n    <tr>\n      <th>153</th>\n      <td>31</td>\n      <td>-16.67</td>\n      <td>4.000000</td>\n      <td>3.833333</td>\n      <td>2.666667</td>\n      <td>3.166667</td>\n      <td>4.166667</td>\n      <td>2.500000</td>\n      <td>2.833333</td>\n      <td>3.666667</td>\n      <td>3.333333</td>\n      <td>3.166667</td>\n    </tr>\n    <tr>\n      <th>154</th>\n      <td>31</td>\n      <td>-50.00</td>\n      <td>3.750000</td>\n      <td>2.875000</td>\n      <td>2.125000</td>\n      <td>3.750000</td>\n      <td>3.875000</td>\n      <td>2.125000</td>\n      <td>2.750000</td>\n      <td>3.375000</td>\n      <td>3.875000</td>\n      <td>2.125000</td>\n    </tr>\n  </tbody>\n</table>\n<p>155 rows × 12 columns</p>\n</div>"
     },
     "execution_count": 74,
     "metadata": {},
     "output_type": "execute_result"
    }
   ],
   "source": [
    "mean_values = []\n",
    "for curr_id in unique_ids:\n",
    "    for curr_lat in unique_latencies:\n",
    "        curr = mean_questionnaire_data[(mean_questionnaire_data['ID'] == curr_id) & (mean_questionnaire_data['Latency'] == curr_lat)]\n",
    "        curr = curr.mean(axis=0)\n",
    "        mean_values.append([curr_id, curr_lat, curr['Enjoyed'], curr['Caused'], curr['Lateness'], curr['Over-Anticipate'], curr['Wrong Distance'], curr['Wrong Orientation'], curr['Jitter'], curr['Jumps'], curr['Spring effect'], curr['Stick']])\n",
    "mean_values = pd.DataFrame(mean_values, columns=['ID', 'Latency', 'Enjoyed', 'Caused the Movements', 'Lateness', 'Over-Anticipation', 'Wrong Distance', 'Wrong Orientation', 'Jitter', 'Jumps', 'Spring Effect', 'Stick'])\n",
    "mean_values"
   ],
   "metadata": {
    "collapsed": false,
    "pycharm": {
     "name": "#%%\n"
    }
   }
  },
  {
   "cell_type": "code",
   "execution_count": 75,
   "outputs": [
    {
     "data": {
      "text/plain": "ID                      16.000000\nLatency                  0.000000\nEnjoyed                  3.374521\nCaused the Movements     3.198144\nLateness                 2.443848\nOver-Anticipation        3.004112\nWrong Distance           2.814478\nWrong Orientation        2.244626\nJitter                   2.824828\nJumps                    3.046278\nSpring Effect            2.644076\nStick                    1.931011\ndtype: float64"
     },
     "execution_count": 75,
     "metadata": {},
     "output_type": "execute_result"
    }
   ],
   "source": [
    "mean_values.mean(axis=0)"
   ],
   "metadata": {
    "collapsed": false,
    "pycharm": {
     "name": "#%%\n"
    }
   }
  },
  {
   "cell_type": "code",
   "execution_count": 76,
   "outputs": [
    {
     "data": {
      "text/plain": "ID                       8.973265\nLatency                 33.442052\nEnjoyed                  0.829892\nCaused the Movements     0.838389\nLateness                 0.772863\nOver-Anticipation        0.846865\nWrong Distance           0.803542\nWrong Orientation        0.769460\nJitter                   0.910606\nJumps                    0.848337\nSpring Effect            1.039480\nStick                    0.936038\ndtype: float64"
     },
     "execution_count": 76,
     "metadata": {},
     "output_type": "execute_result"
    }
   ],
   "source": [
    "mean_values.std(axis=0)"
   ],
   "metadata": {
    "collapsed": false,
    "pycharm": {
     "name": "#%%\n"
    }
   }
  },
  {
   "cell_type": "code",
   "execution_count": 77,
   "outputs": [
    {
     "name": "stdout",
     "output_type": "stream",
     "text": [
      "50ms:\n",
      "ID                      16.000000\n",
      "Latency                 50.000000\n",
      "Enjoyed                  3.350256\n",
      "Caused the Movements     3.138569\n",
      "Lateness                 2.632028\n",
      "Over-Anticipation        2.927394\n",
      "Wrong Distance           2.851306\n",
      "Wrong Orientation        2.258461\n",
      "Jitter                   2.968881\n",
      "Jumps                    2.988761\n",
      "Spring Effect            2.653789\n",
      "Stick                    2.005287\n",
      "dtype: float64\n",
      "16.67ms:\n",
      "ID                      16.000000\n",
      "Latency                 16.670000\n",
      "Enjoyed                  3.256720\n",
      "Caused the Movements     3.151498\n",
      "Lateness                 2.519009\n",
      "Over-Anticipation        2.905338\n",
      "Wrong Distance           2.814708\n",
      "Wrong Orientation        2.314132\n",
      "Jitter                   2.884601\n",
      "Jumps                    3.060292\n",
      "Spring Effect            2.716206\n",
      "Stick                    1.957757\n",
      "dtype: float64\n",
      "0ms:\n",
      "ID                      16.000000\n",
      "Latency                  0.000000\n",
      "Enjoyed                  3.438479\n",
      "Caused the Movements     3.295276\n",
      "Lateness                 2.404378\n",
      "Over-Anticipation        2.966590\n",
      "Wrong Distance           2.747350\n",
      "Wrong Orientation        2.234101\n",
      "Jitter                   2.674194\n",
      "Jumps                    2.992396\n",
      "Spring Effect            2.623387\n",
      "Stick                    1.950000\n",
      "dtype: float64\n",
      "-16.67ms:\n",
      "ID                      16.000000\n",
      "Latency                -16.670000\n",
      "Enjoyed                  3.545699\n",
      "Caused the Movements     3.346390\n",
      "Lateness                 2.383065\n",
      "Over-Anticipation        2.934716\n",
      "Wrong Distance           2.732527\n",
      "Wrong Orientation        2.135561\n",
      "Jitter                   2.739439\n",
      "Jumps                    3.066436\n",
      "Spring Effect            2.537250\n",
      "Stick                    1.824501\n",
      "dtype: float64\n",
      "-50ms:\n",
      "ID                      16.000000\n",
      "Latency                -50.000000\n",
      "Enjoyed                  3.281452\n",
      "Caused the Movements     3.058986\n",
      "Lateness                 2.280760\n",
      "Over-Anticipation        3.286521\n",
      "Wrong Distance           2.926498\n",
      "Wrong Orientation        2.280876\n",
      "Jitter                   2.857028\n",
      "Jumps                    3.123502\n",
      "Spring Effect            2.689747\n",
      "Stick                    1.917512\n",
      "dtype: float64\n"
     ]
    }
   ],
   "source": [
    "print('50ms:')\n",
    "print(mean_values[mean_values['Latency'] == 50].mean(axis=0))\n",
    "print('16.67ms:')\n",
    "print(mean_values[mean_values['Latency'] == 16.67].mean(axis=0))\n",
    "print('0ms:')\n",
    "print(mean_values[mean_values['Latency'] == 0].mean(axis=0))\n",
    "print('-16.67ms:')\n",
    "print(mean_values[mean_values['Latency'] == -16.67].mean(axis=0))\n",
    "print('-50ms:')\n",
    "print(mean_values[mean_values['Latency'] == -50].mean(axis=0))"
   ],
   "metadata": {
    "collapsed": false,
    "pycharm": {
     "name": "#%%\n"
    }
   }
  },
  {
   "cell_type": "code",
   "execution_count": 78,
   "outputs": [
    {
     "name": "stdout",
     "output_type": "stream",
     "text": [
      "50ms:\n",
      "ID                      9.092121\n",
      "Latency                 0.000000\n",
      "Enjoyed                 0.816085\n",
      "Caused the Movements    0.918757\n",
      "Lateness                0.811119\n",
      "Over-Anticipation       0.955142\n",
      "Wrong Distance          0.910901\n",
      "Wrong Orientation       0.781270\n",
      "Jitter                  0.930473\n",
      "Jumps                   0.864606\n",
      "Spring Effect           1.070497\n",
      "Stick                   1.005061\n",
      "dtype: float64\n",
      "16.67ms:\n",
      "ID                      9.092121e+00\n",
      "Latency                 7.222880e-15\n",
      "Enjoyed                 8.348579e-01\n",
      "Caused the Movements    8.042044e-01\n",
      "Lateness                8.326307e-01\n",
      "Over-Anticipation       8.336017e-01\n",
      "Wrong Distance          8.075983e-01\n",
      "Wrong Orientation       8.564298e-01\n",
      "Jitter                  9.966363e-01\n",
      "Jumps                   8.952544e-01\n",
      "Spring Effect           1.053214e+00\n",
      "Stick                   1.028868e+00\n",
      "dtype: float64\n",
      "0ms:\n",
      "ID                      9.092121\n",
      "Latency                 0.000000\n",
      "Enjoyed                 0.776120\n",
      "Caused the Movements    0.794204\n",
      "Lateness                0.732818\n",
      "Over-Anticipation       0.810063\n",
      "Wrong Distance          0.768234\n",
      "Wrong Orientation       0.787052\n",
      "Jitter                  0.797039\n",
      "Jumps                   0.883112\n",
      "Spring Effect           0.950358\n",
      "Stick                   0.956938\n",
      "dtype: float64\n",
      "-16.67ms:\n",
      "ID                      9.092121e+00\n",
      "Latency                 7.222880e-15\n",
      "Enjoyed                 7.932187e-01\n",
      "Caused the Movements    8.140127e-01\n",
      "Lateness                7.345578e-01\n",
      "Over-Anticipation       7.094271e-01\n",
      "Wrong Distance          7.648488e-01\n",
      "Wrong Orientation       6.701911e-01\n",
      "Jitter                  9.404808e-01\n",
      "Jumps                   7.671063e-01\n",
      "Spring Effect           1.061536e+00\n",
      "Stick                   8.260336e-01\n",
      "dtype: float64\n",
      "-50ms:\n",
      "ID                      9.092121\n",
      "Latency                 0.000000\n",
      "Enjoyed                 0.939407\n",
      "Caused the Movements    0.874973\n",
      "Lateness                0.750402\n",
      "Over-Anticipation       0.899911\n",
      "Wrong Distance          0.794603\n",
      "Wrong Orientation       0.779662\n",
      "Jitter                  0.905840\n",
      "Jumps                   0.873938\n",
      "Spring Effect           1.114241\n",
      "Stick                   0.901196\n",
      "dtype: float64\n"
     ]
    }
   ],
   "source": [
    "print('50ms:')\n",
    "print(mean_values[mean_values['Latency'] == 50].std(axis=0))\n",
    "print('16.67ms:')\n",
    "print(mean_values[mean_values['Latency'] == 16.67].std(axis=0))\n",
    "print('0ms:')\n",
    "print(mean_values[mean_values['Latency'] == 0].std(axis=0))\n",
    "print('-16.67ms:')\n",
    "print(mean_values[mean_values['Latency'] == -16.67].std(axis=0))\n",
    "print('-50ms:')\n",
    "print(mean_values[mean_values['Latency'] == -50].std(axis=0))"
   ],
   "metadata": {
    "collapsed": false,
    "pycharm": {
     "name": "#%%\n"
    }
   }
  },
  {
   "cell_type": "code",
   "execution_count": 79,
   "outputs": [],
   "source": [
    "mean_questionnaire_data = deepcopy(mean_values)"
   ],
   "metadata": {
    "collapsed": false,
    "pycharm": {
     "name": "#%%\n"
    }
   }
  },
  {
   "cell_type": "code",
   "execution_count": 11,
   "outputs": [],
   "source": [
    "os.chdir(base_path)\n",
    "mean_questionnaire_data.to_csv('./questionnaire_data_prepared.csv', sep=';')"
   ],
   "metadata": {
    "collapsed": false,
    "pycharm": {
     "name": "#%%\n"
    }
   }
  },
  {
   "cell_type": "code",
   "execution_count": 80,
   "outputs": [
    {
     "data": {
      "text/plain": "     ID  Latency   Enjoyed  Caused the Movements  Lateness  Over-Anticipation  \\\n0     1    50.00  3.333333              3.333333  2.666667           2.000000   \n1     1    16.67  3.571429              3.571429  2.428571           2.428571   \n2     1     0.00  4.142857              3.571429  2.000000           2.142857   \n3     1   -16.67  4.285714              3.714286  1.714286           1.714286   \n4     1   -50.00  4.250000              3.875000  1.250000           1.250000   \n..   ..      ...       ...                   ...       ...                ...   \n150  31    50.00  3.750000              3.375000  2.250000           4.000000   \n151  31    16.67  3.666667              3.500000  1.666667           3.166667   \n152  31     0.00  4.000000              3.428571  2.714286           3.285714   \n153  31   -16.67  4.000000              3.833333  2.666667           3.166667   \n154  31   -50.00  3.750000              2.875000  2.125000           3.750000   \n\n     Wrong Distance  Wrong Orientation    Jitter     Jumps  Spring Effect  \\\n0          2.500000           2.000000  3.000000  3.000000       3.000000   \n1          2.571429           2.714286  3.142857  3.142857       3.142857   \n2          1.857143           1.857143  2.571429  2.714286       2.571429   \n3          1.857143           1.714286  2.571429  2.571429       2.285714   \n4          1.375000           1.375000  2.375000  2.500000       2.125000   \n..              ...                ...       ...       ...            ...   \n150        4.500000           2.625000  3.375000  3.750000       3.750000   \n151        4.000000           2.000000  2.333333  2.833333       2.833333   \n152        4.714286           3.285714  3.142857  4.000000       4.000000   \n153        4.166667           2.500000  2.833333  3.666667       3.333333   \n154        3.875000           2.125000  2.750000  3.375000       3.875000   \n\n        Stick  \n0    1.833333  \n1    2.714286  \n2    1.857143  \n3    2.142857  \n4    1.250000  \n..        ...  \n150  4.375000  \n151  2.833333  \n152  3.285714  \n153  3.166667  \n154  2.125000  \n\n[155 rows x 12 columns]",
      "text/html": "<div>\n<style scoped>\n    .dataframe tbody tr th:only-of-type {\n        vertical-align: middle;\n    }\n\n    .dataframe tbody tr th {\n        vertical-align: top;\n    }\n\n    .dataframe thead th {\n        text-align: right;\n    }\n</style>\n<table border=\"1\" class=\"dataframe\">\n  <thead>\n    <tr style=\"text-align: right;\">\n      <th></th>\n      <th>ID</th>\n      <th>Latency</th>\n      <th>Enjoyed</th>\n      <th>Caused the Movements</th>\n      <th>Lateness</th>\n      <th>Over-Anticipation</th>\n      <th>Wrong Distance</th>\n      <th>Wrong Orientation</th>\n      <th>Jitter</th>\n      <th>Jumps</th>\n      <th>Spring Effect</th>\n      <th>Stick</th>\n    </tr>\n  </thead>\n  <tbody>\n    <tr>\n      <th>0</th>\n      <td>1</td>\n      <td>50.00</td>\n      <td>3.333333</td>\n      <td>3.333333</td>\n      <td>2.666667</td>\n      <td>2.000000</td>\n      <td>2.500000</td>\n      <td>2.000000</td>\n      <td>3.000000</td>\n      <td>3.000000</td>\n      <td>3.000000</td>\n      <td>1.833333</td>\n    </tr>\n    <tr>\n      <th>1</th>\n      <td>1</td>\n      <td>16.67</td>\n      <td>3.571429</td>\n      <td>3.571429</td>\n      <td>2.428571</td>\n      <td>2.428571</td>\n      <td>2.571429</td>\n      <td>2.714286</td>\n      <td>3.142857</td>\n      <td>3.142857</td>\n      <td>3.142857</td>\n      <td>2.714286</td>\n    </tr>\n    <tr>\n      <th>2</th>\n      <td>1</td>\n      <td>0.00</td>\n      <td>4.142857</td>\n      <td>3.571429</td>\n      <td>2.000000</td>\n      <td>2.142857</td>\n      <td>1.857143</td>\n      <td>1.857143</td>\n      <td>2.571429</td>\n      <td>2.714286</td>\n      <td>2.571429</td>\n      <td>1.857143</td>\n    </tr>\n    <tr>\n      <th>3</th>\n      <td>1</td>\n      <td>-16.67</td>\n      <td>4.285714</td>\n      <td>3.714286</td>\n      <td>1.714286</td>\n      <td>1.714286</td>\n      <td>1.857143</td>\n      <td>1.714286</td>\n      <td>2.571429</td>\n      <td>2.571429</td>\n      <td>2.285714</td>\n      <td>2.142857</td>\n    </tr>\n    <tr>\n      <th>4</th>\n      <td>1</td>\n      <td>-50.00</td>\n      <td>4.250000</td>\n      <td>3.875000</td>\n      <td>1.250000</td>\n      <td>1.250000</td>\n      <td>1.375000</td>\n      <td>1.375000</td>\n      <td>2.375000</td>\n      <td>2.500000</td>\n      <td>2.125000</td>\n      <td>1.250000</td>\n    </tr>\n    <tr>\n      <th>...</th>\n      <td>...</td>\n      <td>...</td>\n      <td>...</td>\n      <td>...</td>\n      <td>...</td>\n      <td>...</td>\n      <td>...</td>\n      <td>...</td>\n      <td>...</td>\n      <td>...</td>\n      <td>...</td>\n      <td>...</td>\n    </tr>\n    <tr>\n      <th>150</th>\n      <td>31</td>\n      <td>50.00</td>\n      <td>3.750000</td>\n      <td>3.375000</td>\n      <td>2.250000</td>\n      <td>4.000000</td>\n      <td>4.500000</td>\n      <td>2.625000</td>\n      <td>3.375000</td>\n      <td>3.750000</td>\n      <td>3.750000</td>\n      <td>4.375000</td>\n    </tr>\n    <tr>\n      <th>151</th>\n      <td>31</td>\n      <td>16.67</td>\n      <td>3.666667</td>\n      <td>3.500000</td>\n      <td>1.666667</td>\n      <td>3.166667</td>\n      <td>4.000000</td>\n      <td>2.000000</td>\n      <td>2.333333</td>\n      <td>2.833333</td>\n      <td>2.833333</td>\n      <td>2.833333</td>\n    </tr>\n    <tr>\n      <th>152</th>\n      <td>31</td>\n      <td>0.00</td>\n      <td>4.000000</td>\n      <td>3.428571</td>\n      <td>2.714286</td>\n      <td>3.285714</td>\n      <td>4.714286</td>\n      <td>3.285714</td>\n      <td>3.142857</td>\n      <td>4.000000</td>\n      <td>4.000000</td>\n      <td>3.285714</td>\n    </tr>\n    <tr>\n      <th>153</th>\n      <td>31</td>\n      <td>-16.67</td>\n      <td>4.000000</td>\n      <td>3.833333</td>\n      <td>2.666667</td>\n      <td>3.166667</td>\n      <td>4.166667</td>\n      <td>2.500000</td>\n      <td>2.833333</td>\n      <td>3.666667</td>\n      <td>3.333333</td>\n      <td>3.166667</td>\n    </tr>\n    <tr>\n      <th>154</th>\n      <td>31</td>\n      <td>-50.00</td>\n      <td>3.750000</td>\n      <td>2.875000</td>\n      <td>2.125000</td>\n      <td>3.750000</td>\n      <td>3.875000</td>\n      <td>2.125000</td>\n      <td>2.750000</td>\n      <td>3.375000</td>\n      <td>3.875000</td>\n      <td>2.125000</td>\n    </tr>\n  </tbody>\n</table>\n<p>155 rows × 12 columns</p>\n</div>"
     },
     "execution_count": 80,
     "metadata": {},
     "output_type": "execute_result"
    }
   ],
   "source": [
    "mean_questionnaire_data"
   ],
   "metadata": {
    "collapsed": false,
    "pycharm": {
     "name": "#%%\n"
    }
   }
  },
  {
   "cell_type": "markdown",
   "source": [
    "# Throughput"
   ],
   "metadata": {
    "collapsed": false,
    "pycharm": {
     "name": "#%% md\n"
    }
   }
  },
  {
   "cell_type": "code",
   "execution_count": 7,
   "outputs": [],
   "source": [
    "os.chdir(base_path + '/MT')"
   ],
   "metadata": {
    "collapsed": false,
    "pycharm": {
     "name": "#%%\n"
    }
   }
  },
  {
   "cell_type": "code",
   "execution_count": 8,
   "outputs": [
    {
     "data": {
      "text/plain": "    part_id  compensation  width  length   MT\n0        10           100     57     603   -1\n1        10           100     57     603  202\n2        10           100     45     905   -1\n3        10           100     45     905   -1\n4        10           100     45     905  317\n..      ...           ...    ...     ...  ...\n562       9             0     45    1207  368\n563       9             0     79     603  211\n564       9             0     45     905   -1\n565       9             0     45     905  305\n566       9             0     45     905  305\n\n[18540 rows x 5 columns]",
      "text/html": "<div>\n<style scoped>\n    .dataframe tbody tr th:only-of-type {\n        vertical-align: middle;\n    }\n\n    .dataframe tbody tr th {\n        vertical-align: top;\n    }\n\n    .dataframe thead th {\n        text-align: right;\n    }\n</style>\n<table border=\"1\" class=\"dataframe\">\n  <thead>\n    <tr style=\"text-align: right;\">\n      <th></th>\n      <th>part_id</th>\n      <th>compensation</th>\n      <th>width</th>\n      <th>length</th>\n      <th>MT</th>\n    </tr>\n  </thead>\n  <tbody>\n    <tr>\n      <th>0</th>\n      <td>10</td>\n      <td>100</td>\n      <td>57</td>\n      <td>603</td>\n      <td>-1</td>\n    </tr>\n    <tr>\n      <th>1</th>\n      <td>10</td>\n      <td>100</td>\n      <td>57</td>\n      <td>603</td>\n      <td>202</td>\n    </tr>\n    <tr>\n      <th>2</th>\n      <td>10</td>\n      <td>100</td>\n      <td>45</td>\n      <td>905</td>\n      <td>-1</td>\n    </tr>\n    <tr>\n      <th>3</th>\n      <td>10</td>\n      <td>100</td>\n      <td>45</td>\n      <td>905</td>\n      <td>-1</td>\n    </tr>\n    <tr>\n      <th>4</th>\n      <td>10</td>\n      <td>100</td>\n      <td>45</td>\n      <td>905</td>\n      <td>317</td>\n    </tr>\n    <tr>\n      <th>...</th>\n      <td>...</td>\n      <td>...</td>\n      <td>...</td>\n      <td>...</td>\n      <td>...</td>\n    </tr>\n    <tr>\n      <th>562</th>\n      <td>9</td>\n      <td>0</td>\n      <td>45</td>\n      <td>1207</td>\n      <td>368</td>\n    </tr>\n    <tr>\n      <th>563</th>\n      <td>9</td>\n      <td>0</td>\n      <td>79</td>\n      <td>603</td>\n      <td>211</td>\n    </tr>\n    <tr>\n      <th>564</th>\n      <td>9</td>\n      <td>0</td>\n      <td>45</td>\n      <td>905</td>\n      <td>-1</td>\n    </tr>\n    <tr>\n      <th>565</th>\n      <td>9</td>\n      <td>0</td>\n      <td>45</td>\n      <td>905</td>\n      <td>305</td>\n    </tr>\n    <tr>\n      <th>566</th>\n      <td>9</td>\n      <td>0</td>\n      <td>45</td>\n      <td>905</td>\n      <td>305</td>\n    </tr>\n  </tbody>\n</table>\n<p>18540 rows × 5 columns</p>\n</div>"
     },
     "execution_count": 8,
     "metadata": {},
     "output_type": "execute_result"
    }
   ],
   "source": [
    "raw_mt_data = []\n",
    "for f in os.listdir():\n",
    "    part_id = f.split(\"_\")[1].split(\".\")[0]\n",
    "\n",
    "    curr = pd.read_csv(f, sep=\";\")\n",
    "    curr[\"part_id\"] = part_id\n",
    "\n",
    "    curr = curr[['part_id', 'compensation', 'width', 'length', 'MT']]\n",
    "    raw_mt_data.append(curr)\n",
    "\n",
    "raw_mt_data = pd.concat(raw_mt_data)\n",
    "raw_mt_data"
   ],
   "metadata": {
    "collapsed": false,
    "pycharm": {
     "name": "#%%\n"
    }
   }
  },
  {
   "cell_type": "code",
   "execution_count": 15,
   "outputs": [
    {
     "data": {
      "text/plain": "       compensation         width        length            MT\ncount  18540.000000  18540.000000  18540.000000  18540.000000\nmean      50.304369     64.224703    797.898706    449.013323\nstd       33.842829     23.039117    337.067559    951.909639\nmin        0.000000     34.000000    302.000000     -1.000000\n25%       33.000000     45.000000    603.000000     -1.000000\n50%       50.000000     68.000000    905.000000    169.000000\n75%       67.000000     79.000000   1207.000000    482.000000\nmax      100.000000    102.000000   1207.000000  24358.000000",
      "text/html": "<div>\n<style scoped>\n    .dataframe tbody tr th:only-of-type {\n        vertical-align: middle;\n    }\n\n    .dataframe tbody tr th {\n        vertical-align: top;\n    }\n\n    .dataframe thead th {\n        text-align: right;\n    }\n</style>\n<table border=\"1\" class=\"dataframe\">\n  <thead>\n    <tr style=\"text-align: right;\">\n      <th></th>\n      <th>compensation</th>\n      <th>width</th>\n      <th>length</th>\n      <th>MT</th>\n    </tr>\n  </thead>\n  <tbody>\n    <tr>\n      <th>count</th>\n      <td>18540.000000</td>\n      <td>18540.000000</td>\n      <td>18540.000000</td>\n      <td>18540.000000</td>\n    </tr>\n    <tr>\n      <th>mean</th>\n      <td>50.304369</td>\n      <td>64.224703</td>\n      <td>797.898706</td>\n      <td>449.013323</td>\n    </tr>\n    <tr>\n      <th>std</th>\n      <td>33.842829</td>\n      <td>23.039117</td>\n      <td>337.067559</td>\n      <td>951.909639</td>\n    </tr>\n    <tr>\n      <th>min</th>\n      <td>0.000000</td>\n      <td>34.000000</td>\n      <td>302.000000</td>\n      <td>-1.000000</td>\n    </tr>\n    <tr>\n      <th>25%</th>\n      <td>33.000000</td>\n      <td>45.000000</td>\n      <td>603.000000</td>\n      <td>-1.000000</td>\n    </tr>\n    <tr>\n      <th>50%</th>\n      <td>50.000000</td>\n      <td>68.000000</td>\n      <td>905.000000</td>\n      <td>169.000000</td>\n    </tr>\n    <tr>\n      <th>75%</th>\n      <td>67.000000</td>\n      <td>79.000000</td>\n      <td>1207.000000</td>\n      <td>482.000000</td>\n    </tr>\n    <tr>\n      <th>max</th>\n      <td>100.000000</td>\n      <td>102.000000</td>\n      <td>1207.000000</td>\n      <td>24358.000000</td>\n    </tr>\n  </tbody>\n</table>\n</div>"
     },
     "execution_count": 15,
     "metadata": {},
     "output_type": "execute_result"
    }
   ],
   "source": [
    "raw_mt_data.describe()"
   ],
   "metadata": {
    "collapsed": false,
    "pycharm": {
     "name": "#%%\n"
    }
   }
  },
  {
   "cell_type": "markdown",
   "source": [],
   "metadata": {
    "collapsed": false,
    "pycharm": {
     "name": "#%% md\n"
    }
   }
  },
  {
   "cell_type": "code",
   "execution_count": 9,
   "outputs": [],
   "source": [
    "raw_mt_data['compensation'].replace(0, 1000, inplace=True)\n",
    "raw_mt_data['compensation'].replace(33, 16.67, inplace=True)\n",
    "raw_mt_data['compensation'].replace(50, 0, inplace=True) # SHIT!\n",
    "raw_mt_data['compensation'].replace(67, -16.67, inplace=True)\n",
    "raw_mt_data['compensation'].replace(100, -50, inplace=True)\n",
    "raw_mt_data['compensation'].replace(1000, 50, inplace=True)"
   ],
   "metadata": {
    "collapsed": false,
    "pycharm": {
     "name": "#%%\n"
    }
   }
  },
  {
   "cell_type": "code",
   "execution_count": 10,
   "outputs": [],
   "source": [
    "raw_mt_data['ID'] = raw_mt_data['length'] / raw_mt_data['width']"
   ],
   "metadata": {
    "collapsed": false,
    "pycharm": {
     "name": "#%%\n"
    }
   }
  },
  {
   "cell_type": "code",
   "execution_count": 11,
   "outputs": [
    {
     "data": {
      "text/plain": "       compensation         width        length            MT            ID\ncount  13105.000000  13105.000000  13105.000000  13105.000000  13105.000000\nmean       0.067400     68.045250    755.205570    635.646089     12.627105\nstd       33.252113     22.549769    337.312507   1078.485107      7.743888\nmin      -50.000000     34.000000    302.000000     16.000000      2.960784\n25%      -16.670000     45.000000    603.000000    148.000000      6.700000\n50%        0.000000     68.000000    905.000000    317.000000     11.455696\n75%       16.670000     90.000000   1207.000000    674.000000     15.877193\nmax       50.000000    102.000000   1207.000000  24358.000000     35.500000",
      "text/html": "<div>\n<style scoped>\n    .dataframe tbody tr th:only-of-type {\n        vertical-align: middle;\n    }\n\n    .dataframe tbody tr th {\n        vertical-align: top;\n    }\n\n    .dataframe thead th {\n        text-align: right;\n    }\n</style>\n<table border=\"1\" class=\"dataframe\">\n  <thead>\n    <tr style=\"text-align: right;\">\n      <th></th>\n      <th>compensation</th>\n      <th>width</th>\n      <th>length</th>\n      <th>MT</th>\n      <th>ID</th>\n    </tr>\n  </thead>\n  <tbody>\n    <tr>\n      <th>count</th>\n      <td>13105.000000</td>\n      <td>13105.000000</td>\n      <td>13105.000000</td>\n      <td>13105.000000</td>\n      <td>13105.000000</td>\n    </tr>\n    <tr>\n      <th>mean</th>\n      <td>0.067400</td>\n      <td>68.045250</td>\n      <td>755.205570</td>\n      <td>635.646089</td>\n      <td>12.627105</td>\n    </tr>\n    <tr>\n      <th>std</th>\n      <td>33.252113</td>\n      <td>22.549769</td>\n      <td>337.312507</td>\n      <td>1078.485107</td>\n      <td>7.743888</td>\n    </tr>\n    <tr>\n      <th>min</th>\n      <td>-50.000000</td>\n      <td>34.000000</td>\n      <td>302.000000</td>\n      <td>16.000000</td>\n      <td>2.960784</td>\n    </tr>\n    <tr>\n      <th>25%</th>\n      <td>-16.670000</td>\n      <td>45.000000</td>\n      <td>603.000000</td>\n      <td>148.000000</td>\n      <td>6.700000</td>\n    </tr>\n    <tr>\n      <th>50%</th>\n      <td>0.000000</td>\n      <td>68.000000</td>\n      <td>905.000000</td>\n      <td>317.000000</td>\n      <td>11.455696</td>\n    </tr>\n    <tr>\n      <th>75%</th>\n      <td>16.670000</td>\n      <td>90.000000</td>\n      <td>1207.000000</td>\n      <td>674.000000</td>\n      <td>15.877193</td>\n    </tr>\n    <tr>\n      <th>max</th>\n      <td>50.000000</td>\n      <td>102.000000</td>\n      <td>1207.000000</td>\n      <td>24358.000000</td>\n      <td>35.500000</td>\n    </tr>\n  </tbody>\n</table>\n</div>"
     },
     "execution_count": 11,
     "metadata": {},
     "output_type": "execute_result"
    }
   ],
   "source": [
    "tp_data = raw_mt_data[raw_mt_data['MT'] != -1]\n",
    "tp_data.describe()"
   ],
   "metadata": {
    "collapsed": false,
    "pycharm": {
     "name": "#%%\n"
    }
   }
  },
  {
   "cell_type": "code",
   "execution_count": 12,
   "outputs": [],
   "source": [
    "tp_data = deepcopy(tp_data)"
   ],
   "metadata": {
    "collapsed": false,
    "pycharm": {
     "name": "#%%\n"
    }
   }
  },
  {
   "cell_type": "code",
   "execution_count": 15,
   "outputs": [],
   "source": [
    "tp_data['MT'] = tp_data['MT']/1000"
   ],
   "metadata": {
    "collapsed": false,
    "pycharm": {
     "name": "#%%\n"
    }
   }
  },
  {
   "cell_type": "code",
   "execution_count": 16,
   "outputs": [
    {
     "data": {
      "text/plain": "    part_id  compensation  width  length     MT         ID\n1        10         -50.0     57     603  0.202  10.578947\n4        10         -50.0     45     905  0.317  20.111111\n5        10         -50.0     90     905  0.117  10.055556\n6        10         -50.0     57    1207  0.282  21.175439\n9        10         -50.0     45     905  0.114  20.111111\n..      ...           ...    ...     ...    ...        ...\n561       9          50.0     68     905  0.311  13.308824\n562       9          50.0     45    1207  0.368  26.822222\n563       9          50.0     79     603  0.211   7.632911\n565       9          50.0     45     905  0.305  20.111111\n566       9          50.0     45     905  0.305  20.111111\n\n[13105 rows x 6 columns]",
      "text/html": "<div>\n<style scoped>\n    .dataframe tbody tr th:only-of-type {\n        vertical-align: middle;\n    }\n\n    .dataframe tbody tr th {\n        vertical-align: top;\n    }\n\n    .dataframe thead th {\n        text-align: right;\n    }\n</style>\n<table border=\"1\" class=\"dataframe\">\n  <thead>\n    <tr style=\"text-align: right;\">\n      <th></th>\n      <th>part_id</th>\n      <th>compensation</th>\n      <th>width</th>\n      <th>length</th>\n      <th>MT</th>\n      <th>ID</th>\n    </tr>\n  </thead>\n  <tbody>\n    <tr>\n      <th>1</th>\n      <td>10</td>\n      <td>-50.0</td>\n      <td>57</td>\n      <td>603</td>\n      <td>0.202</td>\n      <td>10.578947</td>\n    </tr>\n    <tr>\n      <th>4</th>\n      <td>10</td>\n      <td>-50.0</td>\n      <td>45</td>\n      <td>905</td>\n      <td>0.317</td>\n      <td>20.111111</td>\n    </tr>\n    <tr>\n      <th>5</th>\n      <td>10</td>\n      <td>-50.0</td>\n      <td>90</td>\n      <td>905</td>\n      <td>0.117</td>\n      <td>10.055556</td>\n    </tr>\n    <tr>\n      <th>6</th>\n      <td>10</td>\n      <td>-50.0</td>\n      <td>57</td>\n      <td>1207</td>\n      <td>0.282</td>\n      <td>21.175439</td>\n    </tr>\n    <tr>\n      <th>9</th>\n      <td>10</td>\n      <td>-50.0</td>\n      <td>45</td>\n      <td>905</td>\n      <td>0.114</td>\n      <td>20.111111</td>\n    </tr>\n    <tr>\n      <th>...</th>\n      <td>...</td>\n      <td>...</td>\n      <td>...</td>\n      <td>...</td>\n      <td>...</td>\n      <td>...</td>\n    </tr>\n    <tr>\n      <th>561</th>\n      <td>9</td>\n      <td>50.0</td>\n      <td>68</td>\n      <td>905</td>\n      <td>0.311</td>\n      <td>13.308824</td>\n    </tr>\n    <tr>\n      <th>562</th>\n      <td>9</td>\n      <td>50.0</td>\n      <td>45</td>\n      <td>1207</td>\n      <td>0.368</td>\n      <td>26.822222</td>\n    </tr>\n    <tr>\n      <th>563</th>\n      <td>9</td>\n      <td>50.0</td>\n      <td>79</td>\n      <td>603</td>\n      <td>0.211</td>\n      <td>7.632911</td>\n    </tr>\n    <tr>\n      <th>565</th>\n      <td>9</td>\n      <td>50.0</td>\n      <td>45</td>\n      <td>905</td>\n      <td>0.305</td>\n      <td>20.111111</td>\n    </tr>\n    <tr>\n      <th>566</th>\n      <td>9</td>\n      <td>50.0</td>\n      <td>45</td>\n      <td>905</td>\n      <td>0.305</td>\n      <td>20.111111</td>\n    </tr>\n  </tbody>\n</table>\n<p>13105 rows × 6 columns</p>\n</div>"
     },
     "execution_count": 16,
     "metadata": {},
     "output_type": "execute_result"
    }
   ],
   "source": [
    "tp_data"
   ],
   "metadata": {
    "collapsed": false,
    "pycharm": {
     "name": "#%%\n"
    }
   }
  },
  {
   "cell_type": "code",
   "execution_count": 17,
   "outputs": [],
   "source": [
    "unique_ids = tp_data['part_id'].unique()\n",
    "unique_latencies = tp_data['compensation'].unique()"
   ],
   "metadata": {
    "collapsed": false,
    "pycharm": {
     "name": "#%%\n"
    }
   }
  },
  {
   "cell_type": "code",
   "execution_count": 19,
   "outputs": [
    {
     "data": {
      "text/plain": "   ID  Latency  Throughput\n0  10   -50.00  138.452454\n1  10     0.00   76.915987\n2  10   -16.67   78.453389\n3  10    50.00   51.951731\n4  10    16.67   62.961283",
      "text/html": "<div>\n<style scoped>\n    .dataframe tbody tr th:only-of-type {\n        vertical-align: middle;\n    }\n\n    .dataframe tbody tr th {\n        vertical-align: top;\n    }\n\n    .dataframe thead th {\n        text-align: right;\n    }\n</style>\n<table border=\"1\" class=\"dataframe\">\n  <thead>\n    <tr style=\"text-align: right;\">\n      <th></th>\n      <th>ID</th>\n      <th>Latency</th>\n      <th>Throughput</th>\n    </tr>\n  </thead>\n  <tbody>\n    <tr>\n      <th>0</th>\n      <td>10</td>\n      <td>-50.00</td>\n      <td>138.452454</td>\n    </tr>\n    <tr>\n      <th>1</th>\n      <td>10</td>\n      <td>0.00</td>\n      <td>76.915987</td>\n    </tr>\n    <tr>\n      <th>2</th>\n      <td>10</td>\n      <td>-16.67</td>\n      <td>78.453389</td>\n    </tr>\n    <tr>\n      <th>3</th>\n      <td>10</td>\n      <td>50.00</td>\n      <td>51.951731</td>\n    </tr>\n    <tr>\n      <th>4</th>\n      <td>10</td>\n      <td>16.67</td>\n      <td>62.961283</td>\n    </tr>\n  </tbody>\n</table>\n</div>"
     },
     "execution_count": 19,
     "metadata": {},
     "output_type": "execute_result"
    }
   ],
   "source": [
    "tp_arr = []\n",
    "for curr_id in unique_ids:\n",
    "    for curr_lat in unique_latencies:\n",
    "        ids = tp_data[(tp_data['part_id'] == curr_id) & (tp_data['compensation'] == curr_lat)]['ID']\n",
    "        mts = tp_data[(tp_data['part_id'] == curr_id) & (tp_data['compensation'] == curr_lat)]['MT']\n",
    "        throughput = ids / mts\n",
    "        throughput = throughput.mean()\n",
    "        tp_arr.append([curr_id, curr_lat, throughput])\n",
    "\n",
    "tp_arr = pd.DataFrame(tp_arr, columns=('ID', 'Latency', 'Throughput'))\n",
    "tp_arr.head()"
   ],
   "metadata": {
    "collapsed": false,
    "pycharm": {
     "name": "#%%\n"
    }
   }
  },
  {
   "cell_type": "code",
   "execution_count": 24,
   "outputs": [
    {
     "name": "stdout",
     "output_type": "stream",
     "text": [
      "54.58782243297422\n",
      "39.814544707802696\n"
     ]
    }
   ],
   "source": [
    "print(tp_arr['Throughput'].mean())\n",
    "print(tp_arr['Throughput'].std())"
   ],
   "metadata": {
    "collapsed": false,
    "pycharm": {
     "name": "#%%\n"
    }
   }
  },
  {
   "cell_type": "code",
   "execution_count": 20,
   "outputs": [
    {
     "name": "stdout",
     "output_type": "stream",
     "text": [
      "41.78937493501671\n",
      "46.73666466420767\n",
      "50.4489379159\n",
      "58.08527133040041\n",
      "75.87886331934637\n"
     ]
    }
   ],
   "source": [
    "print(tp_arr[tp_arr['Latency'] == 50]['Throughput'].mean())\n",
    "print(tp_arr[tp_arr['Latency'] == 16.67]['Throughput'].mean())\n",
    "print(tp_arr[tp_arr['Latency'] == 0]['Throughput'].mean())\n",
    "print(tp_arr[tp_arr['Latency'] == -16.67]['Throughput'].mean())\n",
    "print(tp_arr[tp_arr['Latency'] == -50]['Throughput'].mean())"
   ],
   "metadata": {
    "collapsed": false,
    "pycharm": {
     "name": "#%%\n"
    }
   }
  },
  {
   "cell_type": "code",
   "execution_count": 25,
   "outputs": [
    {
     "name": "stdout",
     "output_type": "stream",
     "text": [
      "29.79017875452183\n",
      "31.442552615322242\n",
      "32.66506085823905\n",
      "39.82082448587155\n",
      "53.63618974541387\n"
     ]
    }
   ],
   "source": [
    "print(tp_arr[tp_arr['Latency'] == 50]['Throughput'].std())\n",
    "print(tp_arr[tp_arr['Latency'] == 16.67]['Throughput'].std())\n",
    "print(tp_arr[tp_arr['Latency'] == 0]['Throughput'].std())\n",
    "print(tp_arr[tp_arr['Latency'] == -16.67]['Throughput'].std())\n",
    "print(tp_arr[tp_arr['Latency'] == -50]['Throughput'].std())"
   ],
   "metadata": {
    "collapsed": false,
    "pycharm": {
     "name": "#%%\n"
    }
   }
  },
  {
   "cell_type": "code",
   "execution_count": 21,
   "outputs": [],
   "source": [
    "tp_data = deepcopy(tp_arr)"
   ],
   "metadata": {
    "collapsed": false,
    "pycharm": {
     "name": "#%%\n"
    }
   }
  },
  {
   "cell_type": "code",
   "execution_count": 22,
   "outputs": [],
   "source": [
    "os.chdir(base_path)\n",
    "tp_data.to_csv('./tp_data_prepared_2.csv', sep=';')"
   ],
   "metadata": {
    "collapsed": false,
    "pycharm": {
     "name": "#%%\n"
    }
   }
  },
  {
   "cell_type": "markdown",
   "source": [
    "# Errors"
   ],
   "metadata": {
    "collapsed": false,
    "pycharm": {
     "name": "#%% md\n"
    }
   }
  },
  {
   "cell_type": "code",
   "execution_count": 45,
   "outputs": [
    {
     "data": {
      "text/plain": "     part_id  compensation  width  length   MT         ID\n0       10.0         -50.0     57     603   -1  10.578947\n1       10.0         -50.0     57     603  202  10.578947\n2       10.0         -50.0     45     905   -1  20.111111\n3       10.0         -50.0     45     905   -1  20.111111\n4       10.0         -50.0     45     905  317  20.111111\n..       ...           ...    ...     ...  ...        ...\n562      9.0          50.0     45    1207  368  26.822222\n563      9.0          50.0     79     603  211   7.632911\n564      9.0          50.0     45     905   -1  20.111111\n565      9.0          50.0     45     905  305  20.111111\n566      9.0          50.0     45     905  305  20.111111\n\n[18540 rows x 6 columns]",
      "text/html": "<div>\n<style scoped>\n    .dataframe tbody tr th:only-of-type {\n        vertical-align: middle;\n    }\n\n    .dataframe tbody tr th {\n        vertical-align: top;\n    }\n\n    .dataframe thead th {\n        text-align: right;\n    }\n</style>\n<table border=\"1\" class=\"dataframe\">\n  <thead>\n    <tr style=\"text-align: right;\">\n      <th></th>\n      <th>part_id</th>\n      <th>compensation</th>\n      <th>width</th>\n      <th>length</th>\n      <th>MT</th>\n      <th>ID</th>\n    </tr>\n  </thead>\n  <tbody>\n    <tr>\n      <th>0</th>\n      <td>10.0</td>\n      <td>-50.0</td>\n      <td>57</td>\n      <td>603</td>\n      <td>-1</td>\n      <td>10.578947</td>\n    </tr>\n    <tr>\n      <th>1</th>\n      <td>10.0</td>\n      <td>-50.0</td>\n      <td>57</td>\n      <td>603</td>\n      <td>202</td>\n      <td>10.578947</td>\n    </tr>\n    <tr>\n      <th>2</th>\n      <td>10.0</td>\n      <td>-50.0</td>\n      <td>45</td>\n      <td>905</td>\n      <td>-1</td>\n      <td>20.111111</td>\n    </tr>\n    <tr>\n      <th>3</th>\n      <td>10.0</td>\n      <td>-50.0</td>\n      <td>45</td>\n      <td>905</td>\n      <td>-1</td>\n      <td>20.111111</td>\n    </tr>\n    <tr>\n      <th>4</th>\n      <td>10.0</td>\n      <td>-50.0</td>\n      <td>45</td>\n      <td>905</td>\n      <td>317</td>\n      <td>20.111111</td>\n    </tr>\n    <tr>\n      <th>...</th>\n      <td>...</td>\n      <td>...</td>\n      <td>...</td>\n      <td>...</td>\n      <td>...</td>\n      <td>...</td>\n    </tr>\n    <tr>\n      <th>562</th>\n      <td>9.0</td>\n      <td>50.0</td>\n      <td>45</td>\n      <td>1207</td>\n      <td>368</td>\n      <td>26.822222</td>\n    </tr>\n    <tr>\n      <th>563</th>\n      <td>9.0</td>\n      <td>50.0</td>\n      <td>79</td>\n      <td>603</td>\n      <td>211</td>\n      <td>7.632911</td>\n    </tr>\n    <tr>\n      <th>564</th>\n      <td>9.0</td>\n      <td>50.0</td>\n      <td>45</td>\n      <td>905</td>\n      <td>-1</td>\n      <td>20.111111</td>\n    </tr>\n    <tr>\n      <th>565</th>\n      <td>9.0</td>\n      <td>50.0</td>\n      <td>45</td>\n      <td>905</td>\n      <td>305</td>\n      <td>20.111111</td>\n    </tr>\n    <tr>\n      <th>566</th>\n      <td>9.0</td>\n      <td>50.0</td>\n      <td>45</td>\n      <td>905</td>\n      <td>305</td>\n      <td>20.111111</td>\n    </tr>\n  </tbody>\n</table>\n<p>18540 rows × 6 columns</p>\n</div>"
     },
     "execution_count": 45,
     "metadata": {},
     "output_type": "execute_result"
    }
   ],
   "source": [
    "raw_mt_data['part_id'] = raw_mt_data['part_id'].astype(float)\n",
    "raw_mt_data"
   ],
   "metadata": {
    "collapsed": false,
    "pycharm": {
     "name": "#%%\n"
    }
   }
  },
  {
   "cell_type": "code",
   "execution_count": 43,
   "outputs": [
    {
     "data": {
      "text/plain": "           part_id  compensation        width       length      MT  \\\ncount  5435.000000   5435.000000  5435.000000  5435.000000  5435.0   \nmean     16.274149     -1.205098    55.012511   900.841398    -1.0   \nstd       9.349012     35.003966    21.554901   313.436112     0.0   \nmin       1.000000    -50.000000    34.000000   302.000000    -1.0   \n25%       8.000000    -16.670000    34.000000   603.000000    -1.0   \n50%      16.000000      0.000000    45.000000   905.000000    -1.0   \n75%      25.000000     16.670000    68.000000  1207.000000    -1.0   \nmax      31.000000     50.000000   102.000000  1207.000000    -1.0   \n\n                ID  \ncount  5435.000000  \nmean     18.933027  \nstd       9.674135  \nmin       2.960784  \n25%      11.455696  \n50%      17.735294  \n75%      26.617647  \nmax      35.500000  ",
      "text/html": "<div>\n<style scoped>\n    .dataframe tbody tr th:only-of-type {\n        vertical-align: middle;\n    }\n\n    .dataframe tbody tr th {\n        vertical-align: top;\n    }\n\n    .dataframe thead th {\n        text-align: right;\n    }\n</style>\n<table border=\"1\" class=\"dataframe\">\n  <thead>\n    <tr style=\"text-align: right;\">\n      <th></th>\n      <th>part_id</th>\n      <th>compensation</th>\n      <th>width</th>\n      <th>length</th>\n      <th>MT</th>\n      <th>ID</th>\n    </tr>\n  </thead>\n  <tbody>\n    <tr>\n      <th>count</th>\n      <td>5435.000000</td>\n      <td>5435.000000</td>\n      <td>5435.000000</td>\n      <td>5435.000000</td>\n      <td>5435.0</td>\n      <td>5435.000000</td>\n    </tr>\n    <tr>\n      <th>mean</th>\n      <td>16.274149</td>\n      <td>-1.205098</td>\n      <td>55.012511</td>\n      <td>900.841398</td>\n      <td>-1.0</td>\n      <td>18.933027</td>\n    </tr>\n    <tr>\n      <th>std</th>\n      <td>9.349012</td>\n      <td>35.003966</td>\n      <td>21.554901</td>\n      <td>313.436112</td>\n      <td>0.0</td>\n      <td>9.674135</td>\n    </tr>\n    <tr>\n      <th>min</th>\n      <td>1.000000</td>\n      <td>-50.000000</td>\n      <td>34.000000</td>\n      <td>302.000000</td>\n      <td>-1.0</td>\n      <td>2.960784</td>\n    </tr>\n    <tr>\n      <th>25%</th>\n      <td>8.000000</td>\n      <td>-16.670000</td>\n      <td>34.000000</td>\n      <td>603.000000</td>\n      <td>-1.0</td>\n      <td>11.455696</td>\n    </tr>\n    <tr>\n      <th>50%</th>\n      <td>16.000000</td>\n      <td>0.000000</td>\n      <td>45.000000</td>\n      <td>905.000000</td>\n      <td>-1.0</td>\n      <td>17.735294</td>\n    </tr>\n    <tr>\n      <th>75%</th>\n      <td>25.000000</td>\n      <td>16.670000</td>\n      <td>68.000000</td>\n      <td>1207.000000</td>\n      <td>-1.0</td>\n      <td>26.617647</td>\n    </tr>\n    <tr>\n      <th>max</th>\n      <td>31.000000</td>\n      <td>50.000000</td>\n      <td>102.000000</td>\n      <td>1207.000000</td>\n      <td>-1.0</td>\n      <td>35.500000</td>\n    </tr>\n  </tbody>\n</table>\n</div>"
     },
     "execution_count": 43,
     "metadata": {},
     "output_type": "execute_result"
    }
   ],
   "source": [
    "error_data = raw_mt_data[raw_mt_data['MT'] == -1]\n",
    "error_data.describe()"
   ],
   "metadata": {
    "collapsed": false,
    "pycharm": {
     "name": "#%%\n"
    }
   }
  },
  {
   "cell_type": "code",
   "execution_count": 29,
   "outputs": [
    {
     "data": {
      "text/plain": "     part_id  compensation  width  length  MT         ID\n0       10.0         -50.0     57     603  -1  10.578947\n2       10.0         -50.0     45     905  -1  20.111111\n3       10.0         -50.0     45     905  -1  20.111111\n7       10.0         -50.0     45     905  -1  20.111111\n8       10.0         -50.0     45     905  -1  20.111111\n..       ...           ...    ...     ...  ..        ...\n511      9.0          50.0     34    1207  -1  35.500000\n512      9.0          50.0     34    1207  -1  35.500000\n516      9.0         -50.0     68     302  -1   4.441176\n523      9.0         -50.0     90    1207  -1  13.411111\n564      9.0          50.0     45     905  -1  20.111111\n\n[5435 rows x 6 columns]",
      "text/html": "<div>\n<style scoped>\n    .dataframe tbody tr th:only-of-type {\n        vertical-align: middle;\n    }\n\n    .dataframe tbody tr th {\n        vertical-align: top;\n    }\n\n    .dataframe thead th {\n        text-align: right;\n    }\n</style>\n<table border=\"1\" class=\"dataframe\">\n  <thead>\n    <tr style=\"text-align: right;\">\n      <th></th>\n      <th>part_id</th>\n      <th>compensation</th>\n      <th>width</th>\n      <th>length</th>\n      <th>MT</th>\n      <th>ID</th>\n    </tr>\n  </thead>\n  <tbody>\n    <tr>\n      <th>0</th>\n      <td>10.0</td>\n      <td>-50.0</td>\n      <td>57</td>\n      <td>603</td>\n      <td>-1</td>\n      <td>10.578947</td>\n    </tr>\n    <tr>\n      <th>2</th>\n      <td>10.0</td>\n      <td>-50.0</td>\n      <td>45</td>\n      <td>905</td>\n      <td>-1</td>\n      <td>20.111111</td>\n    </tr>\n    <tr>\n      <th>3</th>\n      <td>10.0</td>\n      <td>-50.0</td>\n      <td>45</td>\n      <td>905</td>\n      <td>-1</td>\n      <td>20.111111</td>\n    </tr>\n    <tr>\n      <th>7</th>\n      <td>10.0</td>\n      <td>-50.0</td>\n      <td>45</td>\n      <td>905</td>\n      <td>-1</td>\n      <td>20.111111</td>\n    </tr>\n    <tr>\n      <th>8</th>\n      <td>10.0</td>\n      <td>-50.0</td>\n      <td>45</td>\n      <td>905</td>\n      <td>-1</td>\n      <td>20.111111</td>\n    </tr>\n    <tr>\n      <th>...</th>\n      <td>...</td>\n      <td>...</td>\n      <td>...</td>\n      <td>...</td>\n      <td>...</td>\n      <td>...</td>\n    </tr>\n    <tr>\n      <th>511</th>\n      <td>9.0</td>\n      <td>50.0</td>\n      <td>34</td>\n      <td>1207</td>\n      <td>-1</td>\n      <td>35.500000</td>\n    </tr>\n    <tr>\n      <th>512</th>\n      <td>9.0</td>\n      <td>50.0</td>\n      <td>34</td>\n      <td>1207</td>\n      <td>-1</td>\n      <td>35.500000</td>\n    </tr>\n    <tr>\n      <th>516</th>\n      <td>9.0</td>\n      <td>-50.0</td>\n      <td>68</td>\n      <td>302</td>\n      <td>-1</td>\n      <td>4.441176</td>\n    </tr>\n    <tr>\n      <th>523</th>\n      <td>9.0</td>\n      <td>-50.0</td>\n      <td>90</td>\n      <td>1207</td>\n      <td>-1</td>\n      <td>13.411111</td>\n    </tr>\n    <tr>\n      <th>564</th>\n      <td>9.0</td>\n      <td>50.0</td>\n      <td>45</td>\n      <td>905</td>\n      <td>-1</td>\n      <td>20.111111</td>\n    </tr>\n  </tbody>\n</table>\n<p>5435 rows × 6 columns</p>\n</div>"
     },
     "execution_count": 29,
     "metadata": {},
     "output_type": "execute_result"
    }
   ],
   "source": [
    "error_data"
   ],
   "metadata": {
    "collapsed": false,
    "pycharm": {
     "name": "#%%\n"
    }
   }
  },
  {
   "cell_type": "code",
   "execution_count": 30,
   "outputs": [
    {
     "name": "stderr",
     "output_type": "stream",
     "text": [
      "C:\\Users\\ragor\\AppData\\Local\\Temp\\ipykernel_24972\\3809666838.py:1: SettingWithCopyWarning: \n",
      "A value is trying to be set on a copy of a slice from a DataFrame.\n",
      "Try using .loc[row_indexer,col_indexer] = value instead\n",
      "\n",
      "See the caveats in the documentation: https://pandas.pydata.org/pandas-docs/stable/user_guide/indexing.html#returning-a-view-versus-a-copy\n",
      "  error_data['part_id'] = error_data['part_id'].astype(float)\n"
     ]
    }
   ],
   "source": [
    "error_data['part_id'] = error_data['part_id'].astype(float)"
   ],
   "metadata": {
    "collapsed": false,
    "pycharm": {
     "name": "#%%\n"
    }
   }
  },
  {
   "cell_type": "code",
   "execution_count": 32,
   "outputs": [
    {
     "data": {
      "text/plain": "     part_id  compensation  width  length  MT         ID\n1        1.0         16.67     90    1207  -1  13.411111\n3        1.0         16.67     90     603  -1   6.700000\n4        1.0         16.67     90     603  -1   6.700000\n6        1.0         16.67     45     905  -1  20.111111\n7        1.0         16.67     45     905  -1  20.111111\n..       ...           ...    ...     ...  ..        ...\n254      1.0          0.00     57    1207  -1  21.175439\n261      1.0         50.00     34     905  -1  26.617647\n281      1.0        -16.67     34     603  -1  17.735294\n282      1.0        -16.67     34     603  -1  17.735294\n288      1.0        -16.67     57    1207  -1  21.175439\n\n[97 rows x 6 columns]",
      "text/html": "<div>\n<style scoped>\n    .dataframe tbody tr th:only-of-type {\n        vertical-align: middle;\n    }\n\n    .dataframe tbody tr th {\n        vertical-align: top;\n    }\n\n    .dataframe thead th {\n        text-align: right;\n    }\n</style>\n<table border=\"1\" class=\"dataframe\">\n  <thead>\n    <tr style=\"text-align: right;\">\n      <th></th>\n      <th>part_id</th>\n      <th>compensation</th>\n      <th>width</th>\n      <th>length</th>\n      <th>MT</th>\n      <th>ID</th>\n    </tr>\n  </thead>\n  <tbody>\n    <tr>\n      <th>1</th>\n      <td>1.0</td>\n      <td>16.67</td>\n      <td>90</td>\n      <td>1207</td>\n      <td>-1</td>\n      <td>13.411111</td>\n    </tr>\n    <tr>\n      <th>3</th>\n      <td>1.0</td>\n      <td>16.67</td>\n      <td>90</td>\n      <td>603</td>\n      <td>-1</td>\n      <td>6.700000</td>\n    </tr>\n    <tr>\n      <th>4</th>\n      <td>1.0</td>\n      <td>16.67</td>\n      <td>90</td>\n      <td>603</td>\n      <td>-1</td>\n      <td>6.700000</td>\n    </tr>\n    <tr>\n      <th>6</th>\n      <td>1.0</td>\n      <td>16.67</td>\n      <td>45</td>\n      <td>905</td>\n      <td>-1</td>\n      <td>20.111111</td>\n    </tr>\n    <tr>\n      <th>7</th>\n      <td>1.0</td>\n      <td>16.67</td>\n      <td>45</td>\n      <td>905</td>\n      <td>-1</td>\n      <td>20.111111</td>\n    </tr>\n    <tr>\n      <th>...</th>\n      <td>...</td>\n      <td>...</td>\n      <td>...</td>\n      <td>...</td>\n      <td>...</td>\n      <td>...</td>\n    </tr>\n    <tr>\n      <th>254</th>\n      <td>1.0</td>\n      <td>0.00</td>\n      <td>57</td>\n      <td>1207</td>\n      <td>-1</td>\n      <td>21.175439</td>\n    </tr>\n    <tr>\n      <th>261</th>\n      <td>1.0</td>\n      <td>50.00</td>\n      <td>34</td>\n      <td>905</td>\n      <td>-1</td>\n      <td>26.617647</td>\n    </tr>\n    <tr>\n      <th>281</th>\n      <td>1.0</td>\n      <td>-16.67</td>\n      <td>34</td>\n      <td>603</td>\n      <td>-1</td>\n      <td>17.735294</td>\n    </tr>\n    <tr>\n      <th>282</th>\n      <td>1.0</td>\n      <td>-16.67</td>\n      <td>34</td>\n      <td>603</td>\n      <td>-1</td>\n      <td>17.735294</td>\n    </tr>\n    <tr>\n      <th>288</th>\n      <td>1.0</td>\n      <td>-16.67</td>\n      <td>57</td>\n      <td>1207</td>\n      <td>-1</td>\n      <td>21.175439</td>\n    </tr>\n  </tbody>\n</table>\n<p>97 rows × 6 columns</p>\n</div>"
     },
     "execution_count": 32,
     "metadata": {},
     "output_type": "execute_result"
    }
   ],
   "source": [
    "error_data[error_data['part_id'] == 1]"
   ],
   "metadata": {
    "collapsed": false,
    "pycharm": {
     "name": "#%%\n"
    }
   }
  },
  {
   "cell_type": "code",
   "execution_count": 34,
   "outputs": [
    {
     "data": {
      "text/plain": "array([10., 11., 12., 13., 14., 15., 16., 17., 18., 19.,  1.,  2., 20.,\n       21., 22., 23., 24., 25., 26., 27., 28., 29., 30., 31.,  3.,  4.,\n        5.,  6.,  7.,  8.,  9.])"
     },
     "execution_count": 34,
     "metadata": {},
     "output_type": "execute_result"
    }
   ],
   "source": [
    "unique_ids = error_data['part_id'].unique()\n",
    "unique_ids"
   ],
   "metadata": {
    "collapsed": false,
    "pycharm": {
     "name": "#%%\n"
    }
   }
  },
  {
   "cell_type": "code",
   "execution_count": 35,
   "outputs": [
    {
     "data": {
      "text/plain": "      ID  Errors\n0   10.0      96\n1   11.0     104\n2   12.0     206\n3   13.0     252\n4   14.0     144\n5   15.0     225\n6   16.0     154\n7   17.0     116\n8   18.0     276\n9   19.0     124\n10   1.0      97\n11   2.0      77\n12  20.0     180\n13  21.0     203\n14  22.0      97\n15  23.0     121\n16  24.0     105\n17  25.0     150\n18  26.0     220\n19  27.0     201\n20  28.0     263\n21  29.0     215\n22  30.0     170\n23  31.0     241\n24   3.0     657\n25   4.0     144\n26   5.0      68\n27   6.0     146\n28   7.0     145\n29   8.0      91\n30   9.0     147",
      "text/html": "<div>\n<style scoped>\n    .dataframe tbody tr th:only-of-type {\n        vertical-align: middle;\n    }\n\n    .dataframe tbody tr th {\n        vertical-align: top;\n    }\n\n    .dataframe thead th {\n        text-align: right;\n    }\n</style>\n<table border=\"1\" class=\"dataframe\">\n  <thead>\n    <tr style=\"text-align: right;\">\n      <th></th>\n      <th>ID</th>\n      <th>Errors</th>\n    </tr>\n  </thead>\n  <tbody>\n    <tr>\n      <th>0</th>\n      <td>10.0</td>\n      <td>96</td>\n    </tr>\n    <tr>\n      <th>1</th>\n      <td>11.0</td>\n      <td>104</td>\n    </tr>\n    <tr>\n      <th>2</th>\n      <td>12.0</td>\n      <td>206</td>\n    </tr>\n    <tr>\n      <th>3</th>\n      <td>13.0</td>\n      <td>252</td>\n    </tr>\n    <tr>\n      <th>4</th>\n      <td>14.0</td>\n      <td>144</td>\n    </tr>\n    <tr>\n      <th>5</th>\n      <td>15.0</td>\n      <td>225</td>\n    </tr>\n    <tr>\n      <th>6</th>\n      <td>16.0</td>\n      <td>154</td>\n    </tr>\n    <tr>\n      <th>7</th>\n      <td>17.0</td>\n      <td>116</td>\n    </tr>\n    <tr>\n      <th>8</th>\n      <td>18.0</td>\n      <td>276</td>\n    </tr>\n    <tr>\n      <th>9</th>\n      <td>19.0</td>\n      <td>124</td>\n    </tr>\n    <tr>\n      <th>10</th>\n      <td>1.0</td>\n      <td>97</td>\n    </tr>\n    <tr>\n      <th>11</th>\n      <td>2.0</td>\n      <td>77</td>\n    </tr>\n    <tr>\n      <th>12</th>\n      <td>20.0</td>\n      <td>180</td>\n    </tr>\n    <tr>\n      <th>13</th>\n      <td>21.0</td>\n      <td>203</td>\n    </tr>\n    <tr>\n      <th>14</th>\n      <td>22.0</td>\n      <td>97</td>\n    </tr>\n    <tr>\n      <th>15</th>\n      <td>23.0</td>\n      <td>121</td>\n    </tr>\n    <tr>\n      <th>16</th>\n      <td>24.0</td>\n      <td>105</td>\n    </tr>\n    <tr>\n      <th>17</th>\n      <td>25.0</td>\n      <td>150</td>\n    </tr>\n    <tr>\n      <th>18</th>\n      <td>26.0</td>\n      <td>220</td>\n    </tr>\n    <tr>\n      <th>19</th>\n      <td>27.0</td>\n      <td>201</td>\n    </tr>\n    <tr>\n      <th>20</th>\n      <td>28.0</td>\n      <td>263</td>\n    </tr>\n    <tr>\n      <th>21</th>\n      <td>29.0</td>\n      <td>215</td>\n    </tr>\n    <tr>\n      <th>22</th>\n      <td>30.0</td>\n      <td>170</td>\n    </tr>\n    <tr>\n      <th>23</th>\n      <td>31.0</td>\n      <td>241</td>\n    </tr>\n    <tr>\n      <th>24</th>\n      <td>3.0</td>\n      <td>657</td>\n    </tr>\n    <tr>\n      <th>25</th>\n      <td>4.0</td>\n      <td>144</td>\n    </tr>\n    <tr>\n      <th>26</th>\n      <td>5.0</td>\n      <td>68</td>\n    </tr>\n    <tr>\n      <th>27</th>\n      <td>6.0</td>\n      <td>146</td>\n    </tr>\n    <tr>\n      <th>28</th>\n      <td>7.0</td>\n      <td>145</td>\n    </tr>\n    <tr>\n      <th>29</th>\n      <td>8.0</td>\n      <td>91</td>\n    </tr>\n    <tr>\n      <th>30</th>\n      <td>9.0</td>\n      <td>147</td>\n    </tr>\n  </tbody>\n</table>\n</div>"
     },
     "execution_count": 35,
     "metadata": {},
     "output_type": "execute_result"
    }
   ],
   "source": [
    "error_arr = []\n",
    "for curr_id in unique_ids:\n",
    "    curr = error_data[error_data['part_id'] == curr_id]['MT'].count()\n",
    "    error_arr.append([curr_id, curr])\n",
    "error_arr = pd.DataFrame(error_arr, columns=('ID', 'Errors'))\n",
    "error_arr"
   ],
   "metadata": {
    "collapsed": false,
    "pycharm": {
     "name": "#%%\n"
    }
   }
  },
  {
   "cell_type": "code",
   "execution_count": null,
   "outputs": [],
   "source": [
    "unique_difficulties = error_data['ID'].unique()"
   ],
   "metadata": {
    "collapsed": false,
    "pycharm": {
     "name": "#%%\n"
    }
   }
  },
  {
   "cell_type": "code",
   "execution_count": 46,
   "outputs": [
    {
     "data": {
      "text/plain": "       ID  Difficulty    Errors\n0    10.0   10.578947  0.062500\n1    10.0   20.111111  0.558824\n2    10.0   17.735294  0.375000\n3    10.0   17.750000  0.210526\n4    10.0    8.872549  0.117647\n..    ...         ...       ...\n863   9.0   11.833333  0.285714\n864   9.0    7.632911  0.062500\n865   9.0    3.355556  0.000000\n866   9.0    6.711111  0.117647\n867   9.0    3.822785  0.117647\n\n[868 rows x 3 columns]",
      "text/html": "<div>\n<style scoped>\n    .dataframe tbody tr th:only-of-type {\n        vertical-align: middle;\n    }\n\n    .dataframe tbody tr th {\n        vertical-align: top;\n    }\n\n    .dataframe thead th {\n        text-align: right;\n    }\n</style>\n<table border=\"1\" class=\"dataframe\">\n  <thead>\n    <tr style=\"text-align: right;\">\n      <th></th>\n      <th>ID</th>\n      <th>Difficulty</th>\n      <th>Errors</th>\n    </tr>\n  </thead>\n  <tbody>\n    <tr>\n      <th>0</th>\n      <td>10.0</td>\n      <td>10.578947</td>\n      <td>0.062500</td>\n    </tr>\n    <tr>\n      <th>1</th>\n      <td>10.0</td>\n      <td>20.111111</td>\n      <td>0.558824</td>\n    </tr>\n    <tr>\n      <th>2</th>\n      <td>10.0</td>\n      <td>17.735294</td>\n      <td>0.375000</td>\n    </tr>\n    <tr>\n      <th>3</th>\n      <td>10.0</td>\n      <td>17.750000</td>\n      <td>0.210526</td>\n    </tr>\n    <tr>\n      <th>4</th>\n      <td>10.0</td>\n      <td>8.872549</td>\n      <td>0.117647</td>\n    </tr>\n    <tr>\n      <th>...</th>\n      <td>...</td>\n      <td>...</td>\n      <td>...</td>\n    </tr>\n    <tr>\n      <th>863</th>\n      <td>9.0</td>\n      <td>11.833333</td>\n      <td>0.285714</td>\n    </tr>\n    <tr>\n      <th>864</th>\n      <td>9.0</td>\n      <td>7.632911</td>\n      <td>0.062500</td>\n    </tr>\n    <tr>\n      <th>865</th>\n      <td>9.0</td>\n      <td>3.355556</td>\n      <td>0.000000</td>\n    </tr>\n    <tr>\n      <th>866</th>\n      <td>9.0</td>\n      <td>6.711111</td>\n      <td>0.117647</td>\n    </tr>\n    <tr>\n      <th>867</th>\n      <td>9.0</td>\n      <td>3.822785</td>\n      <td>0.117647</td>\n    </tr>\n  </tbody>\n</table>\n<p>868 rows × 3 columns</p>\n</div>"
     },
     "execution_count": 46,
     "metadata": {},
     "output_type": "execute_result"
    }
   ],
   "source": [
    "error_arr = []\n",
    "for curr_id in unique_ids:\n",
    "    for curr_diff in unique_difficulties:\n",
    "        curr = error_data[(error_data['part_id'] == curr_id) & (error_data['ID'] == curr_diff)]['MT'].count() / raw_mt_data[(raw_mt_data['part_id'] == curr_id) & (raw_mt_data['ID'] == curr_diff)]['MT'].count()\n",
    "        error_arr.append([curr_id, curr_diff, curr])\n",
    "\n",
    "error_arr = pd.DataFrame(error_arr, columns=('ID', 'Difficulty', 'Errors'))\n",
    "error_arr"
   ],
   "metadata": {
    "collapsed": false,
    "pycharm": {
     "name": "#%%\n"
    }
   }
  },
  {
   "cell_type": "code",
   "execution_count": 47,
   "outputs": [
    {
     "data": {
      "text/plain": "    Difficulty  Mean Errors        SD\n0    10.578947     0.182527  0.124673\n1    20.111111     0.323522  0.191287\n2    17.735294     0.397764  0.158125\n3    17.750000     0.275943  0.137958\n4     8.872549     0.131589  0.106031\n5    35.500000     0.592955  0.161967\n6     2.960784     0.083982  0.098559\n7     5.298246     0.153262  0.122082\n8    11.455696     0.193573  0.122647\n9     5.911765     0.097818  0.089474\n10   13.411111     0.198461  0.122071\n11   21.175439     0.328136  0.151062\n12   26.822222     0.426647  0.134572\n13   26.617647     0.471229  0.134622\n14   15.278481     0.258800  0.152514\n15   15.877193     0.273760  0.130693\n16    8.882353     0.247862  0.096123\n17    6.700000     0.139640  0.099837\n18   10.055556     0.209750  0.118573\n19   13.308824     0.238256  0.148715\n20   13.400000     0.252133  0.148561\n21    8.867647     0.159523  0.141643\n22    4.441176     0.119011  0.117054\n23   11.833333     0.206773  0.113509\n24    7.632911     0.136826  0.105297\n25    3.355556     0.078604  0.095595\n26    6.711111     0.216225  0.143495\n27    3.822785     0.118517  0.106455",
      "text/html": "<div>\n<style scoped>\n    .dataframe tbody tr th:only-of-type {\n        vertical-align: middle;\n    }\n\n    .dataframe tbody tr th {\n        vertical-align: top;\n    }\n\n    .dataframe thead th {\n        text-align: right;\n    }\n</style>\n<table border=\"1\" class=\"dataframe\">\n  <thead>\n    <tr style=\"text-align: right;\">\n      <th></th>\n      <th>Difficulty</th>\n      <th>Mean Errors</th>\n      <th>SD</th>\n    </tr>\n  </thead>\n  <tbody>\n    <tr>\n      <th>0</th>\n      <td>10.578947</td>\n      <td>0.182527</td>\n      <td>0.124673</td>\n    </tr>\n    <tr>\n      <th>1</th>\n      <td>20.111111</td>\n      <td>0.323522</td>\n      <td>0.191287</td>\n    </tr>\n    <tr>\n      <th>2</th>\n      <td>17.735294</td>\n      <td>0.397764</td>\n      <td>0.158125</td>\n    </tr>\n    <tr>\n      <th>3</th>\n      <td>17.750000</td>\n      <td>0.275943</td>\n      <td>0.137958</td>\n    </tr>\n    <tr>\n      <th>4</th>\n      <td>8.872549</td>\n      <td>0.131589</td>\n      <td>0.106031</td>\n    </tr>\n    <tr>\n      <th>5</th>\n      <td>35.500000</td>\n      <td>0.592955</td>\n      <td>0.161967</td>\n    </tr>\n    <tr>\n      <th>6</th>\n      <td>2.960784</td>\n      <td>0.083982</td>\n      <td>0.098559</td>\n    </tr>\n    <tr>\n      <th>7</th>\n      <td>5.298246</td>\n      <td>0.153262</td>\n      <td>0.122082</td>\n    </tr>\n    <tr>\n      <th>8</th>\n      <td>11.455696</td>\n      <td>0.193573</td>\n      <td>0.122647</td>\n    </tr>\n    <tr>\n      <th>9</th>\n      <td>5.911765</td>\n      <td>0.097818</td>\n      <td>0.089474</td>\n    </tr>\n    <tr>\n      <th>10</th>\n      <td>13.411111</td>\n      <td>0.198461</td>\n      <td>0.122071</td>\n    </tr>\n    <tr>\n      <th>11</th>\n      <td>21.175439</td>\n      <td>0.328136</td>\n      <td>0.151062</td>\n    </tr>\n    <tr>\n      <th>12</th>\n      <td>26.822222</td>\n      <td>0.426647</td>\n      <td>0.134572</td>\n    </tr>\n    <tr>\n      <th>13</th>\n      <td>26.617647</td>\n      <td>0.471229</td>\n      <td>0.134622</td>\n    </tr>\n    <tr>\n      <th>14</th>\n      <td>15.278481</td>\n      <td>0.258800</td>\n      <td>0.152514</td>\n    </tr>\n    <tr>\n      <th>15</th>\n      <td>15.877193</td>\n      <td>0.273760</td>\n      <td>0.130693</td>\n    </tr>\n    <tr>\n      <th>16</th>\n      <td>8.882353</td>\n      <td>0.247862</td>\n      <td>0.096123</td>\n    </tr>\n    <tr>\n      <th>17</th>\n      <td>6.700000</td>\n      <td>0.139640</td>\n      <td>0.099837</td>\n    </tr>\n    <tr>\n      <th>18</th>\n      <td>10.055556</td>\n      <td>0.209750</td>\n      <td>0.118573</td>\n    </tr>\n    <tr>\n      <th>19</th>\n      <td>13.308824</td>\n      <td>0.238256</td>\n      <td>0.148715</td>\n    </tr>\n    <tr>\n      <th>20</th>\n      <td>13.400000</td>\n      <td>0.252133</td>\n      <td>0.148561</td>\n    </tr>\n    <tr>\n      <th>21</th>\n      <td>8.867647</td>\n      <td>0.159523</td>\n      <td>0.141643</td>\n    </tr>\n    <tr>\n      <th>22</th>\n      <td>4.441176</td>\n      <td>0.119011</td>\n      <td>0.117054</td>\n    </tr>\n    <tr>\n      <th>23</th>\n      <td>11.833333</td>\n      <td>0.206773</td>\n      <td>0.113509</td>\n    </tr>\n    <tr>\n      <th>24</th>\n      <td>7.632911</td>\n      <td>0.136826</td>\n      <td>0.105297</td>\n    </tr>\n    <tr>\n      <th>25</th>\n      <td>3.355556</td>\n      <td>0.078604</td>\n      <td>0.095595</td>\n    </tr>\n    <tr>\n      <th>26</th>\n      <td>6.711111</td>\n      <td>0.216225</td>\n      <td>0.143495</td>\n    </tr>\n    <tr>\n      <th>27</th>\n      <td>3.822785</td>\n      <td>0.118517</td>\n      <td>0.106455</td>\n    </tr>\n  </tbody>\n</table>\n</div>"
     },
     "execution_count": 47,
     "metadata": {},
     "output_type": "execute_result"
    }
   ],
   "source": [
    "errors_per_id = []\n",
    "for curr_diff in unique_difficulties:\n",
    "    curr_mean = error_arr[error_arr['Difficulty'] == curr_diff]['Errors'].mean()\n",
    "    curr_std = error_arr[error_arr['Difficulty'] == curr_diff]['Errors'].std()\n",
    "    errors_per_id.append([curr_diff, curr_mean, curr_std])\n",
    "\n",
    "errors_per_id = pd.DataFrame(errors_per_id, columns=('Difficulty', 'Mean Errors', 'SD'))\n",
    "errors_per_id"
   ],
   "metadata": {
    "collapsed": false,
    "pycharm": {
     "name": "#%%\n"
    }
   }
  },
  {
   "cell_type": "code",
   "execution_count": 60,
   "outputs": [
    {
     "data": {
      "text/plain": "    Difficulty  Mean Errors        SD\n25    3.355556     0.078604  0.095595",
      "text/html": "<div>\n<style scoped>\n    .dataframe tbody tr th:only-of-type {\n        vertical-align: middle;\n    }\n\n    .dataframe tbody tr th {\n        vertical-align: top;\n    }\n\n    .dataframe thead th {\n        text-align: right;\n    }\n</style>\n<table border=\"1\" class=\"dataframe\">\n  <thead>\n    <tr style=\"text-align: right;\">\n      <th></th>\n      <th>Difficulty</th>\n      <th>Mean Errors</th>\n      <th>SD</th>\n    </tr>\n  </thead>\n  <tbody>\n    <tr>\n      <th>25</th>\n      <td>3.355556</td>\n      <td>0.078604</td>\n      <td>0.095595</td>\n    </tr>\n  </tbody>\n</table>\n</div>"
     },
     "execution_count": 60,
     "metadata": {},
     "output_type": "execute_result"
    }
   ],
   "source": [
    "errors_per_id[errors_per_id['Mean Errors'] == errors_per_id['Mean Errors'].min()]"
   ],
   "metadata": {
    "collapsed": false,
    "pycharm": {
     "name": "#%%\n"
    }
   }
  },
  {
   "cell_type": "code",
   "execution_count": 61,
   "outputs": [
    {
     "data": {
      "text/plain": "   Difficulty  Mean Errors        SD\n5        35.5     0.592955  0.161967",
      "text/html": "<div>\n<style scoped>\n    .dataframe tbody tr th:only-of-type {\n        vertical-align: middle;\n    }\n\n    .dataframe tbody tr th {\n        vertical-align: top;\n    }\n\n    .dataframe thead th {\n        text-align: right;\n    }\n</style>\n<table border=\"1\" class=\"dataframe\">\n  <thead>\n    <tr style=\"text-align: right;\">\n      <th></th>\n      <th>Difficulty</th>\n      <th>Mean Errors</th>\n      <th>SD</th>\n    </tr>\n  </thead>\n  <tbody>\n    <tr>\n      <th>5</th>\n      <td>35.5</td>\n      <td>0.592955</td>\n      <td>0.161967</td>\n    </tr>\n  </tbody>\n</table>\n</div>"
     },
     "execution_count": 61,
     "metadata": {},
     "output_type": "execute_result"
    }
   ],
   "source": [
    "errors_per_id[errors_per_id['Mean Errors'] == errors_per_id['Mean Errors'].max()]"
   ],
   "metadata": {
    "collapsed": false,
    "pycharm": {
     "name": "#%%\n"
    }
   }
  },
  {
   "cell_type": "code",
   "execution_count": 48,
   "outputs": [
    {
     "data": {
      "text/plain": "       ID  Latency    Errors\n0    10.0   -50.00  0.256637\n1    10.0     0.00  0.160000\n2    10.0   -16.67  0.168317\n3    10.0    50.00  0.184466\n4    10.0    16.67  0.151515\n..    ...      ...       ...\n150   9.0   -50.00  0.305785\n151   9.0     0.00  0.343750\n152   9.0   -16.67  0.222222\n153   9.0    50.00  0.184466\n154   9.0    16.67  0.214953\n\n[155 rows x 3 columns]",
      "text/html": "<div>\n<style scoped>\n    .dataframe tbody tr th:only-of-type {\n        vertical-align: middle;\n    }\n\n    .dataframe tbody tr th {\n        vertical-align: top;\n    }\n\n    .dataframe thead th {\n        text-align: right;\n    }\n</style>\n<table border=\"1\" class=\"dataframe\">\n  <thead>\n    <tr style=\"text-align: right;\">\n      <th></th>\n      <th>ID</th>\n      <th>Latency</th>\n      <th>Errors</th>\n    </tr>\n  </thead>\n  <tbody>\n    <tr>\n      <th>0</th>\n      <td>10.0</td>\n      <td>-50.00</td>\n      <td>0.256637</td>\n    </tr>\n    <tr>\n      <th>1</th>\n      <td>10.0</td>\n      <td>0.00</td>\n      <td>0.160000</td>\n    </tr>\n    <tr>\n      <th>2</th>\n      <td>10.0</td>\n      <td>-16.67</td>\n      <td>0.168317</td>\n    </tr>\n    <tr>\n      <th>3</th>\n      <td>10.0</td>\n      <td>50.00</td>\n      <td>0.184466</td>\n    </tr>\n    <tr>\n      <th>4</th>\n      <td>10.0</td>\n      <td>16.67</td>\n      <td>0.151515</td>\n    </tr>\n    <tr>\n      <th>...</th>\n      <td>...</td>\n      <td>...</td>\n      <td>...</td>\n    </tr>\n    <tr>\n      <th>150</th>\n      <td>9.0</td>\n      <td>-50.00</td>\n      <td>0.305785</td>\n    </tr>\n    <tr>\n      <th>151</th>\n      <td>9.0</td>\n      <td>0.00</td>\n      <td>0.343750</td>\n    </tr>\n    <tr>\n      <th>152</th>\n      <td>9.0</td>\n      <td>-16.67</td>\n      <td>0.222222</td>\n    </tr>\n    <tr>\n      <th>153</th>\n      <td>9.0</td>\n      <td>50.00</td>\n      <td>0.184466</td>\n    </tr>\n    <tr>\n      <th>154</th>\n      <td>9.0</td>\n      <td>16.67</td>\n      <td>0.214953</td>\n    </tr>\n  </tbody>\n</table>\n<p>155 rows × 3 columns</p>\n</div>"
     },
     "execution_count": 48,
     "metadata": {},
     "output_type": "execute_result"
    }
   ],
   "source": [
    "error_arr = []\n",
    "for curr_id in unique_ids:\n",
    "    for curr_lat in unique_latencies:\n",
    "        curr = error_data[(error_data['part_id'] == curr_id) & (error_data['compensation'] == curr_lat)]['MT'].count() / raw_mt_data[(raw_mt_data['part_id'] == curr_id) & (raw_mt_data['compensation'] == curr_lat)]['MT'].count()\n",
    "        error_arr.append([curr_id, curr_lat, curr])\n",
    "\n",
    "error_arr = pd.DataFrame(error_arr, columns=('ID', 'Latency', 'Errors'))\n",
    "error_arr"
   ],
   "metadata": {
    "collapsed": false,
    "pycharm": {
     "name": "#%%\n"
    }
   }
  },
  {
   "cell_type": "code",
   "execution_count": 49,
   "outputs": [],
   "source": [
    "error_data = deepcopy(error_arr)"
   ],
   "metadata": {
    "collapsed": false,
    "pycharm": {
     "name": "#%%\n"
    }
   }
  },
  {
   "cell_type": "code",
   "execution_count": 50,
   "outputs": [],
   "source": [
    "os.chdir(base_path)\n",
    "error_data.to_csv('./errors_per_latency_prepared_2.csv', sep=';')"
   ],
   "metadata": {
    "collapsed": false,
    "pycharm": {
     "name": "#%%\n"
    }
   }
  },
  {
   "cell_type": "code",
   "execution_count": 56,
   "outputs": [
    {
     "name": "stdout",
     "output_type": "stream",
     "text": [
      "0.2695473087801142\n",
      "0.11427906414158351\n"
     ]
    }
   ],
   "source": [
    "print(error_data['Errors'].mean())\n",
    "print(error_data['Errors'].std())"
   ],
   "metadata": {
    "collapsed": false,
    "pycharm": {
     "name": "#%%\n"
    }
   }
  },
  {
   "cell_type": "code",
   "execution_count": 54,
   "outputs": [
    {
     "name": "stdout",
     "output_type": "stream",
     "text": [
      "0.2713848830702462\n",
      "0.25710524152026404\n",
      "0.2568972006528823\n",
      "0.2435894489160624\n",
      "0.3187597697411165\n"
     ]
    }
   ],
   "source": [
    "print(error_data[error_data['Latency'] == 50]['Errors'].mean())\n",
    "print(error_data[error_data['Latency'] == 16.67]['Errors'].mean())\n",
    "print(error_data[error_data['Latency'] == 0]['Errors'].mean())\n",
    "print(error_data[error_data['Latency'] == -16.67]['Errors'].mean())\n",
    "print(error_data[error_data['Latency'] == -50]['Errors'].mean())"
   ],
   "metadata": {
    "collapsed": false,
    "pycharm": {
     "name": "#%%\n"
    }
   }
  },
  {
   "cell_type": "code",
   "execution_count": 55,
   "outputs": [
    {
     "name": "stdout",
     "output_type": "stream",
     "text": [
      "0.12141546917433824\n",
      "0.1272820314288935\n",
      "0.10363110031368851\n",
      "0.09832293959089795\n",
      "0.11028553611880804\n"
     ]
    }
   ],
   "source": [
    "print(error_data[error_data['Latency'] == 50]['Errors'].std())\n",
    "print(error_data[error_data['Latency'] == 16.67]['Errors'].std())\n",
    "print(error_data[error_data['Latency'] == 0]['Errors'].std())\n",
    "print(error_data[error_data['Latency'] == -16.67]['Errors'].std())\n",
    "print(error_data[error_data['Latency'] == -50]['Errors'].std())"
   ],
   "metadata": {
    "collapsed": false,
    "pycharm": {
     "name": "#%%\n"
    }
   }
  },
  {
   "cell_type": "markdown",
   "source": [
    "# Prepare for SPSS"
   ],
   "metadata": {
    "collapsed": false,
    "pycharm": {
     "name": "#%% md\n"
    }
   }
  },
  {
   "cell_type": "code",
   "execution_count": 62,
   "outputs": [],
   "source": [
    "unique_latencies.sort()\n",
    "unique_latencies = np.flip(unique_latencies)"
   ],
   "metadata": {
    "collapsed": false,
    "pycharm": {
     "name": "#%%\n"
    }
   }
  },
  {
   "cell_type": "code",
   "execution_count": 64,
   "outputs": [
    {
     "data": {
      "text/plain": "array([ 1.,  2.,  3.,  4.,  5.,  6.,  7.,  8.,  9., 10., 11., 12., 13.,\n       14., 15., 16., 17., 18., 19., 20., 21., 22., 23., 24., 25., 26.,\n       27., 28., 29., 30., 31.])"
     },
     "execution_count": 64,
     "metadata": {},
     "output_type": "execute_result"
    }
   ],
   "source": [
    "unique_ids = unique_ids.astype(np.float)\n",
    "unique_ids.sort()\n",
    "unique_ids"
   ],
   "metadata": {
    "collapsed": false,
    "pycharm": {
     "name": "#%%\n"
    }
   }
  },
  {
   "cell_type": "code",
   "execution_count": 66,
   "outputs": [],
   "source": [
    "tp_data['ID'] = tp_data['ID'].astype(float)\n",
    "error_data['ID'] = error_data['ID'].astype(float)\n",
    "mean_questionnaire_data['ID'] = mean_questionnaire_data['ID'].astype(float)"
   ],
   "metadata": {
    "collapsed": false,
    "pycharm": {
     "name": "#%%\n"
    }
   }
  },
  {
   "cell_type": "code",
   "execution_count": 67,
   "outputs": [
    {
     "data": {
      "text/plain": "     ID  Latency  Throughput\n0  10.0   -50.00  138.452454\n1  10.0     0.00   76.915987\n2  10.0   -16.67   78.453389\n3  10.0    50.00   51.951731\n4  10.0    16.67   62.961283",
      "text/html": "<div>\n<style scoped>\n    .dataframe tbody tr th:only-of-type {\n        vertical-align: middle;\n    }\n\n    .dataframe tbody tr th {\n        vertical-align: top;\n    }\n\n    .dataframe thead th {\n        text-align: right;\n    }\n</style>\n<table border=\"1\" class=\"dataframe\">\n  <thead>\n    <tr style=\"text-align: right;\">\n      <th></th>\n      <th>ID</th>\n      <th>Latency</th>\n      <th>Throughput</th>\n    </tr>\n  </thead>\n  <tbody>\n    <tr>\n      <th>0</th>\n      <td>10.0</td>\n      <td>-50.00</td>\n      <td>138.452454</td>\n    </tr>\n    <tr>\n      <th>1</th>\n      <td>10.0</td>\n      <td>0.00</td>\n      <td>76.915987</td>\n    </tr>\n    <tr>\n      <th>2</th>\n      <td>10.0</td>\n      <td>-16.67</td>\n      <td>78.453389</td>\n    </tr>\n    <tr>\n      <th>3</th>\n      <td>10.0</td>\n      <td>50.00</td>\n      <td>51.951731</td>\n    </tr>\n    <tr>\n      <th>4</th>\n      <td>10.0</td>\n      <td>16.67</td>\n      <td>62.961283</td>\n    </tr>\n  </tbody>\n</table>\n</div>"
     },
     "execution_count": 67,
     "metadata": {},
     "output_type": "execute_result"
    }
   ],
   "source": [
    "tp_data.head()"
   ],
   "metadata": {
    "collapsed": false,
    "pycharm": {
     "name": "#%%\n"
    }
   }
  },
  {
   "cell_type": "code",
   "execution_count": 81,
   "outputs": [],
   "source": [
    "spss_data = []\n",
    "\n",
    "for curr_id in unique_ids:\n",
    "    curr_questionnaire = mean_questionnaire_data[mean_questionnaire_data['ID'] == curr_id]\n",
    "    curr_tp = tp_data[tp_data['ID'] == curr_id]\n",
    "    curr_error = error_data[error_data['ID'] == curr_id]\n",
    "\n",
    "    curr_data = [curr_id]\n",
    "    for curr_lat in unique_latencies:\n",
    "        curr_data.append(curr_tp[curr_tp['Latency'] == curr_lat]['Throughput'].values[0])\n",
    "\n",
    "        curr_data.append(curr_error[curr_error['Latency'] == curr_lat]['Errors'].values[0])\n",
    "\n",
    "        curr_data.append(curr_questionnaire[curr_questionnaire['Latency'] == curr_lat]['Enjoyed'].values[0])\n",
    "        curr_data.append(curr_questionnaire[curr_questionnaire['Latency'] == curr_lat]['Caused the Movements'].values[0])\n",
    "        curr_data.append(curr_questionnaire[curr_questionnaire['Latency'] == curr_lat]['Lateness'].values[0])\n",
    "        curr_data.append(curr_questionnaire[curr_questionnaire['Latency'] == curr_lat]['Over-Anticipation'].values[0])\n",
    "        curr_data.append(curr_questionnaire[curr_questionnaire['Latency'] == curr_lat]['Wrong Distance'].values[0])\n",
    "        curr_data.append(curr_questionnaire[curr_questionnaire['Latency'] == curr_lat]['Wrong Orientation'].values[0])\n",
    "        curr_data.append(curr_questionnaire[curr_questionnaire['Latency'] == curr_lat]['Jitter'].values[0])\n",
    "        curr_data.append(curr_questionnaire[curr_questionnaire['Latency'] == curr_lat]['Jumps'].values[0])\n",
    "        curr_data.append(curr_questionnaire[curr_questionnaire['Latency'] == curr_lat]['Spring Effect'].values[0])\n",
    "        curr_data.append(curr_questionnaire[curr_questionnaire['Latency'] == curr_lat]['Stick'].values[0])\n",
    "    spss_data.append(curr_data)\n",
    "\n",
    "spss_data = pd.DataFrame(spss_data, columns=('ID', 'TP_50', 'Errors_50', 'Enjoyment_50', 'Caused_50', 'Lateness_50', 'OverAnticipation_50', 'WrongDistance_50', 'WrongOrientation_50', 'Jitter_50', 'Jumps_50', 'Spring_50', 'Stick_50', 'TP_16', 'Errors_16', 'Enjoyment_16', 'Caused_16', 'Lateness_16', 'OverAnticipation_16', 'WrongDistance_16', 'WrongOrientation_16', 'Jitter_16', 'Jumps_16', 'Spring_16', 'Stick_16', 'TP_0', 'Errors_0', 'Enjoyment_0', 'Caused_0', 'Lateness_0', 'OverAnticipation_0', 'WrongDistance_0', 'WrongOrientation_0', 'Jitter_0', 'Jumps_0', 'Spring_0', 'Stick_0', 'TP_n16', 'Errors_n16', 'Enjoyment_n16', 'Caused_n16', 'Lateness_n16', 'OverAnticipation_n16', 'WrongDistance_n16', 'WrongOrientation_n16', 'Jitter_n16', 'Jumps_n16', 'Spring_n16', 'Stick_n16', 'TP_n50', 'Errors_n50', 'Enjoyment_n50', 'Caused_n50', 'Lateness_n50', 'OverAnticipation_n50', 'WrongDistance_n50', 'WrongOrientation_n50', 'Jitter_n50', 'Jumps_n50', 'Spring_n50', 'Stick_n50'))"
   ],
   "metadata": {
    "collapsed": false,
    "pycharm": {
     "name": "#%%\n"
    }
   }
  },
  {
   "cell_type": "code",
   "execution_count": 82,
   "outputs": [
    {
     "data": {
      "text/plain": "   ID       TP_50  Errors_50  Enjoyment_50  Caused_50  Lateness_50  \\\n0   1  138.296923   0.176471      3.333333   3.333333     2.666667   \n1   2   26.393435   0.222222      3.428571   3.285714     1.857143   \n2   3   23.571091   0.659574      3.888889   3.444444     3.333333   \n3   4   23.471787   0.440000      3.285714   3.714286     3.000000   \n4   5   35.789925   0.214953      2.142857   2.428571     4.714286   \n\n   OverAnticipation_50  WrongDistance_50  WrongOrientation_50  Jitter_50  ...  \\\n0             2.000000          2.500000             2.000000   3.000000  ...   \n1             2.285714          2.285714             2.142857   2.857143  ...   \n2             3.777778          3.333333             3.444444   3.888889  ...   \n3             3.000000          3.285714             2.285714   3.142857  ...   \n4             2.714286          3.714286             1.428571   3.285714  ...   \n\n   Enjoyment_n50  Caused_n50  Lateness_n50  OverAnticipation_n50  \\\n0       4.250000    3.875000      1.250000              1.250000   \n1       3.571429    3.142857      2.000000              3.428571   \n2       4.000000    4.000000      3.200000              3.800000   \n3       2.714286    3.428571      3.428571              3.714286   \n4       3.000000    3.000000      1.857143              3.714286   \n\n   WrongDistance_n50  WrongOrientation_n50  Jitter_n50  Jumps_n50  Spring_n50  \\\n0           1.375000              1.375000    2.375000   2.500000    2.125000   \n1           2.857143              2.000000    3.285714   3.714286    3.428571   \n2           3.600000              3.600000    3.200000   2.800000    3.200000   \n3           3.714286              2.142857    4.285714   3.714286    3.714286   \n4           3.000000              1.285714    2.142857   3.857143    2.428571   \n\n   Stick_n50  \n0   1.250000  \n1   2.000000  \n2   2.800000  \n3   1.285714  \n4   1.428571  \n\n[5 rows x 61 columns]",
      "text/html": "<div>\n<style scoped>\n    .dataframe tbody tr th:only-of-type {\n        vertical-align: middle;\n    }\n\n    .dataframe tbody tr th {\n        vertical-align: top;\n    }\n\n    .dataframe thead th {\n        text-align: right;\n    }\n</style>\n<table border=\"1\" class=\"dataframe\">\n  <thead>\n    <tr style=\"text-align: right;\">\n      <th></th>\n      <th>ID</th>\n      <th>TP_50</th>\n      <th>Errors_50</th>\n      <th>Enjoyment_50</th>\n      <th>Caused_50</th>\n      <th>Lateness_50</th>\n      <th>OverAnticipation_50</th>\n      <th>WrongDistance_50</th>\n      <th>WrongOrientation_50</th>\n      <th>Jitter_50</th>\n      <th>...</th>\n      <th>Enjoyment_n50</th>\n      <th>Caused_n50</th>\n      <th>Lateness_n50</th>\n      <th>OverAnticipation_n50</th>\n      <th>WrongDistance_n50</th>\n      <th>WrongOrientation_n50</th>\n      <th>Jitter_n50</th>\n      <th>Jumps_n50</th>\n      <th>Spring_n50</th>\n      <th>Stick_n50</th>\n    </tr>\n  </thead>\n  <tbody>\n    <tr>\n      <th>0</th>\n      <td>1</td>\n      <td>138.296923</td>\n      <td>0.176471</td>\n      <td>3.333333</td>\n      <td>3.333333</td>\n      <td>2.666667</td>\n      <td>2.000000</td>\n      <td>2.500000</td>\n      <td>2.000000</td>\n      <td>3.000000</td>\n      <td>...</td>\n      <td>4.250000</td>\n      <td>3.875000</td>\n      <td>1.250000</td>\n      <td>1.250000</td>\n      <td>1.375000</td>\n      <td>1.375000</td>\n      <td>2.375000</td>\n      <td>2.500000</td>\n      <td>2.125000</td>\n      <td>1.250000</td>\n    </tr>\n    <tr>\n      <th>1</th>\n      <td>2</td>\n      <td>26.393435</td>\n      <td>0.222222</td>\n      <td>3.428571</td>\n      <td>3.285714</td>\n      <td>1.857143</td>\n      <td>2.285714</td>\n      <td>2.285714</td>\n      <td>2.142857</td>\n      <td>2.857143</td>\n      <td>...</td>\n      <td>3.571429</td>\n      <td>3.142857</td>\n      <td>2.000000</td>\n      <td>3.428571</td>\n      <td>2.857143</td>\n      <td>2.000000</td>\n      <td>3.285714</td>\n      <td>3.714286</td>\n      <td>3.428571</td>\n      <td>2.000000</td>\n    </tr>\n    <tr>\n      <th>2</th>\n      <td>3</td>\n      <td>23.571091</td>\n      <td>0.659574</td>\n      <td>3.888889</td>\n      <td>3.444444</td>\n      <td>3.333333</td>\n      <td>3.777778</td>\n      <td>3.333333</td>\n      <td>3.444444</td>\n      <td>3.888889</td>\n      <td>...</td>\n      <td>4.000000</td>\n      <td>4.000000</td>\n      <td>3.200000</td>\n      <td>3.800000</td>\n      <td>3.600000</td>\n      <td>3.600000</td>\n      <td>3.200000</td>\n      <td>2.800000</td>\n      <td>3.200000</td>\n      <td>2.800000</td>\n    </tr>\n    <tr>\n      <th>3</th>\n      <td>4</td>\n      <td>23.471787</td>\n      <td>0.440000</td>\n      <td>3.285714</td>\n      <td>3.714286</td>\n      <td>3.000000</td>\n      <td>3.000000</td>\n      <td>3.285714</td>\n      <td>2.285714</td>\n      <td>3.142857</td>\n      <td>...</td>\n      <td>2.714286</td>\n      <td>3.428571</td>\n      <td>3.428571</td>\n      <td>3.714286</td>\n      <td>3.714286</td>\n      <td>2.142857</td>\n      <td>4.285714</td>\n      <td>3.714286</td>\n      <td>3.714286</td>\n      <td>1.285714</td>\n    </tr>\n    <tr>\n      <th>4</th>\n      <td>5</td>\n      <td>35.789925</td>\n      <td>0.214953</td>\n      <td>2.142857</td>\n      <td>2.428571</td>\n      <td>4.714286</td>\n      <td>2.714286</td>\n      <td>3.714286</td>\n      <td>1.428571</td>\n      <td>3.285714</td>\n      <td>...</td>\n      <td>3.000000</td>\n      <td>3.000000</td>\n      <td>1.857143</td>\n      <td>3.714286</td>\n      <td>3.000000</td>\n      <td>1.285714</td>\n      <td>2.142857</td>\n      <td>3.857143</td>\n      <td>2.428571</td>\n      <td>1.428571</td>\n    </tr>\n  </tbody>\n</table>\n<p>5 rows × 61 columns</p>\n</div>"
     },
     "execution_count": 82,
     "metadata": {},
     "output_type": "execute_result"
    }
   ],
   "source": [
    "spss_data.head()"
   ],
   "metadata": {
    "collapsed": false,
    "pycharm": {
     "name": "#%%\n"
    }
   }
  },
  {
   "cell_type": "code",
   "execution_count": 83,
   "outputs": [],
   "source": [
    "os.chdir(base_path)\n",
    "spss_data.to_csv('./for_spss_2.csv', sep=';')"
   ],
   "metadata": {
    "collapsed": false,
    "pycharm": {
     "name": "#%%\n"
    }
   }
  },
  {
   "cell_type": "markdown",
   "source": [
    "# MT vs ID on Latency"
   ],
   "metadata": {
    "collapsed": false,
    "pycharm": {
     "name": "#%% md\n"
    }
   }
  },
  {
   "cell_type": "code",
   "execution_count": 65,
   "outputs": [
    {
     "name": "stderr",
     "output_type": "stream",
     "text": [
      "C:\\Users\\ragor\\AppData\\Local\\Temp\\ipykernel_24972\\3050960439.py:2: SettingWithCopyWarning: \n",
      "A value is trying to be set on a copy of a slice from a DataFrame.\n",
      "Try using .loc[row_indexer,col_indexer] = value instead\n",
      "\n",
      "See the caveats in the documentation: https://pandas.pydata.org/pandas-docs/stable/user_guide/indexing.html#returning-a-view-versus-a-copy\n",
      "  mt_data['MT'] = mt_data['MT'] / 1000\n"
     ]
    },
    {
     "data": {
      "text/plain": "     part_id  compensation  width  length     MT         ID\n1       10.0         -50.0     57     603  0.202  10.578947\n4       10.0         -50.0     45     905  0.317  20.111111\n5       10.0         -50.0     90     905  0.117  10.055556\n6       10.0         -50.0     57    1207  0.282  21.175439\n9       10.0         -50.0     45     905  0.114  20.111111\n..       ...           ...    ...     ...    ...        ...\n561      9.0          50.0     68     905  0.311  13.308824\n562      9.0          50.0     45    1207  0.368  26.822222\n563      9.0          50.0     79     603  0.211   7.632911\n565      9.0          50.0     45     905  0.305  20.111111\n566      9.0          50.0     45     905  0.305  20.111111\n\n[13105 rows x 6 columns]",
      "text/html": "<div>\n<style scoped>\n    .dataframe tbody tr th:only-of-type {\n        vertical-align: middle;\n    }\n\n    .dataframe tbody tr th {\n        vertical-align: top;\n    }\n\n    .dataframe thead th {\n        text-align: right;\n    }\n</style>\n<table border=\"1\" class=\"dataframe\">\n  <thead>\n    <tr style=\"text-align: right;\">\n      <th></th>\n      <th>part_id</th>\n      <th>compensation</th>\n      <th>width</th>\n      <th>length</th>\n      <th>MT</th>\n      <th>ID</th>\n    </tr>\n  </thead>\n  <tbody>\n    <tr>\n      <th>1</th>\n      <td>10.0</td>\n      <td>-50.0</td>\n      <td>57</td>\n      <td>603</td>\n      <td>0.202</td>\n      <td>10.578947</td>\n    </tr>\n    <tr>\n      <th>4</th>\n      <td>10.0</td>\n      <td>-50.0</td>\n      <td>45</td>\n      <td>905</td>\n      <td>0.317</td>\n      <td>20.111111</td>\n    </tr>\n    <tr>\n      <th>5</th>\n      <td>10.0</td>\n      <td>-50.0</td>\n      <td>90</td>\n      <td>905</td>\n      <td>0.117</td>\n      <td>10.055556</td>\n    </tr>\n    <tr>\n      <th>6</th>\n      <td>10.0</td>\n      <td>-50.0</td>\n      <td>57</td>\n      <td>1207</td>\n      <td>0.282</td>\n      <td>21.175439</td>\n    </tr>\n    <tr>\n      <th>9</th>\n      <td>10.0</td>\n      <td>-50.0</td>\n      <td>45</td>\n      <td>905</td>\n      <td>0.114</td>\n      <td>20.111111</td>\n    </tr>\n    <tr>\n      <th>...</th>\n      <td>...</td>\n      <td>...</td>\n      <td>...</td>\n      <td>...</td>\n      <td>...</td>\n      <td>...</td>\n    </tr>\n    <tr>\n      <th>561</th>\n      <td>9.0</td>\n      <td>50.0</td>\n      <td>68</td>\n      <td>905</td>\n      <td>0.311</td>\n      <td>13.308824</td>\n    </tr>\n    <tr>\n      <th>562</th>\n      <td>9.0</td>\n      <td>50.0</td>\n      <td>45</td>\n      <td>1207</td>\n      <td>0.368</td>\n      <td>26.822222</td>\n    </tr>\n    <tr>\n      <th>563</th>\n      <td>9.0</td>\n      <td>50.0</td>\n      <td>79</td>\n      <td>603</td>\n      <td>0.211</td>\n      <td>7.632911</td>\n    </tr>\n    <tr>\n      <th>565</th>\n      <td>9.0</td>\n      <td>50.0</td>\n      <td>45</td>\n      <td>905</td>\n      <td>0.305</td>\n      <td>20.111111</td>\n    </tr>\n    <tr>\n      <th>566</th>\n      <td>9.0</td>\n      <td>50.0</td>\n      <td>45</td>\n      <td>905</td>\n      <td>0.305</td>\n      <td>20.111111</td>\n    </tr>\n  </tbody>\n</table>\n<p>13105 rows × 6 columns</p>\n</div>"
     },
     "execution_count": 65,
     "metadata": {},
     "output_type": "execute_result"
    }
   ],
   "source": [
    "mt_data = raw_mt_data[raw_mt_data['MT'] != -1]\n",
    "mt_data['MT'] = mt_data['MT'] / 1000\n",
    "mt_data"
   ],
   "metadata": {
    "collapsed": false,
    "pycharm": {
     "name": "#%%\n"
    }
   }
  },
  {
   "cell_type": "code",
   "execution_count": 48,
   "outputs": [
    {
     "name": "stdout",
     "output_type": "stream",
     "text": [
      "M = 635.6460892789012, SD = 1078.4851065466285\n"
     ]
    }
   ],
   "source": [
    "print(f\"M = {mt_data['MT'].mean()}, SD = {mt_data['MT'].std()}\")"
   ],
   "metadata": {
    "collapsed": false,
    "pycharm": {
     "name": "#%%\n"
    }
   }
  },
  {
   "cell_type": "code",
   "execution_count": 49,
   "outputs": [
    {
     "data": {
      "text/plain": "    part_id  compensation         ID   MT\n1        10         -50.0  10.578947  202\n4        10         -50.0  20.111111  317\n5        10         -50.0  10.055556  117\n6        10         -50.0  21.175439  282\n9        10         -50.0  20.111111  114\n..      ...           ...        ...  ...\n561       9          50.0  13.308824  311\n562       9          50.0  26.822222  368\n563       9          50.0   7.632911  211\n565       9          50.0  20.111111  305\n566       9          50.0  20.111111  305\n\n[13105 rows x 4 columns]",
      "text/html": "<div>\n<style scoped>\n    .dataframe tbody tr th:only-of-type {\n        vertical-align: middle;\n    }\n\n    .dataframe tbody tr th {\n        vertical-align: top;\n    }\n\n    .dataframe thead th {\n        text-align: right;\n    }\n</style>\n<table border=\"1\" class=\"dataframe\">\n  <thead>\n    <tr style=\"text-align: right;\">\n      <th></th>\n      <th>part_id</th>\n      <th>compensation</th>\n      <th>ID</th>\n      <th>MT</th>\n    </tr>\n  </thead>\n  <tbody>\n    <tr>\n      <th>1</th>\n      <td>10</td>\n      <td>-50.0</td>\n      <td>10.578947</td>\n      <td>202</td>\n    </tr>\n    <tr>\n      <th>4</th>\n      <td>10</td>\n      <td>-50.0</td>\n      <td>20.111111</td>\n      <td>317</td>\n    </tr>\n    <tr>\n      <th>5</th>\n      <td>10</td>\n      <td>-50.0</td>\n      <td>10.055556</td>\n      <td>117</td>\n    </tr>\n    <tr>\n      <th>6</th>\n      <td>10</td>\n      <td>-50.0</td>\n      <td>21.175439</td>\n      <td>282</td>\n    </tr>\n    <tr>\n      <th>9</th>\n      <td>10</td>\n      <td>-50.0</td>\n      <td>20.111111</td>\n      <td>114</td>\n    </tr>\n    <tr>\n      <th>...</th>\n      <td>...</td>\n      <td>...</td>\n      <td>...</td>\n      <td>...</td>\n    </tr>\n    <tr>\n      <th>561</th>\n      <td>9</td>\n      <td>50.0</td>\n      <td>13.308824</td>\n      <td>311</td>\n    </tr>\n    <tr>\n      <th>562</th>\n      <td>9</td>\n      <td>50.0</td>\n      <td>26.822222</td>\n      <td>368</td>\n    </tr>\n    <tr>\n      <th>563</th>\n      <td>9</td>\n      <td>50.0</td>\n      <td>7.632911</td>\n      <td>211</td>\n    </tr>\n    <tr>\n      <th>565</th>\n      <td>9</td>\n      <td>50.0</td>\n      <td>20.111111</td>\n      <td>305</td>\n    </tr>\n    <tr>\n      <th>566</th>\n      <td>9</td>\n      <td>50.0</td>\n      <td>20.111111</td>\n      <td>305</td>\n    </tr>\n  </tbody>\n</table>\n<p>13105 rows × 4 columns</p>\n</div>"
     },
     "execution_count": 49,
     "metadata": {},
     "output_type": "execute_result"
    }
   ],
   "source": [
    "mt_data = mt_data[['part_id', 'compensation', 'ID', 'MT']]\n",
    "mt_data"
   ],
   "metadata": {
    "collapsed": false,
    "pycharm": {
     "name": "#%%\n"
    }
   }
  },
  {
   "cell_type": "code",
   "execution_count": 50,
   "outputs": [],
   "source": [
    "unique_participants = mt_data['part_id'].unique()\n",
    "unique_difficulties = mt_data['ID'].unique()\n",
    "unique_latencies = mt_data['compensation'].unique()"
   ],
   "metadata": {
    "collapsed": false,
    "pycharm": {
     "name": "#%%\n"
    }
   }
  },
  {
   "cell_type": "code",
   "execution_count": 54,
   "outputs": [],
   "source": [
    "unique_participants = unique_participants.astype(float)\n",
    "unique_participants.sort()\n",
    "unique_latencies.sort()\n",
    "unique_difficulties.sort()"
   ],
   "metadata": {
    "collapsed": false,
    "pycharm": {
     "name": "#%%\n"
    }
   }
  },
  {
   "cell_type": "code",
   "execution_count": 55,
   "outputs": [
    {
     "name": "stderr",
     "output_type": "stream",
     "text": [
      "C:\\Users\\ragor\\AppData\\Local\\Temp\\ipykernel_9880\\928844.py:1: SettingWithCopyWarning: \n",
      "A value is trying to be set on a copy of a slice from a DataFrame.\n",
      "Try using .loc[row_indexer,col_indexer] = value instead\n",
      "\n",
      "See the caveats in the documentation: https://pandas.pydata.org/pandas-docs/stable/user_guide/indexing.html#returning-a-view-versus-a-copy\n",
      "  mt_data['part_id'] = mt_data['part_id'].astype(float)\n"
     ]
    }
   ],
   "source": [
    "mt_data['part_id'] = mt_data['part_id'].astype(float)"
   ],
   "metadata": {
    "collapsed": false,
    "pycharm": {
     "name": "#%%\n"
    }
   }
  },
  {
   "cell_type": "code",
   "execution_count": 56,
   "outputs": [],
   "source": [
    "mt_arr = []\n",
    "\n",
    "for curr_part in unique_participants:\n",
    "    for curr_lat in unique_latencies:\n",
    "        for curr_diff in unique_difficulties:\n",
    "            mean_mt = mt_data[(mt_data['part_id'] == curr_part) & (mt_data['compensation'] == curr_lat) & (mt_data['ID'] == curr_diff)]['MT'].mean()\n",
    "            # print(mean_mt)\n",
    "            sd_mt = mt_data[(mt_data['part_id'] == curr_part) & (mt_data['compensation'] == curr_lat) & (mt_data['ID'] == curr_diff)]['MT'].std()\n",
    "            mt_arr.append([curr_part, curr_lat, curr_diff, mean_mt, sd_mt])\n",
    "\n",
    "mt_arr = pd.DataFrame(mt_arr, columns=('Participant', 'Latency', 'Difficulty', 'MT', 'SD'))"
   ],
   "metadata": {
    "collapsed": false,
    "pycharm": {
     "name": "#%%\n"
    }
   }
  },
  {
   "cell_type": "code",
   "execution_count": 58,
   "outputs": [],
   "source": [
    "mt_arr.to_csv(base_path + '/mt_data_prepared_2.csv', sep=';')"
   ],
   "metadata": {
    "collapsed": false,
    "pycharm": {
     "name": "#%%\n"
    }
   }
  },
  {
   "cell_type": "code",
   "execution_count": 59,
   "outputs": [
    {
     "data": {
      "text/plain": "     Latency  Difficulty      Mean MT        SD MT\n0      -50.0    2.960784   134.888710   104.658395\n1      -50.0    3.355556   150.298387   154.807006\n2      -50.0    3.822785   221.868280   208.466813\n3      -50.0    4.441176   179.833333   159.889991\n4      -50.0    5.298246   210.033333   179.335563\n..       ...         ...          ...          ...\n135     50.0   20.111111  1052.568817  1168.954705\n136     50.0   21.175439  1283.453226  1176.933553\n137     50.0   26.617647  1394.306452  1759.953332\n138     50.0   26.822222  1329.432258  1453.158082\n139     50.0   35.500000  1772.086022  2018.283622\n\n[140 rows x 4 columns]",
      "text/html": "<div>\n<style scoped>\n    .dataframe tbody tr th:only-of-type {\n        vertical-align: middle;\n    }\n\n    .dataframe tbody tr th {\n        vertical-align: top;\n    }\n\n    .dataframe thead th {\n        text-align: right;\n    }\n</style>\n<table border=\"1\" class=\"dataframe\">\n  <thead>\n    <tr style=\"text-align: right;\">\n      <th></th>\n      <th>Latency</th>\n      <th>Difficulty</th>\n      <th>Mean MT</th>\n      <th>SD MT</th>\n    </tr>\n  </thead>\n  <tbody>\n    <tr>\n      <th>0</th>\n      <td>-50.0</td>\n      <td>2.960784</td>\n      <td>134.888710</td>\n      <td>104.658395</td>\n    </tr>\n    <tr>\n      <th>1</th>\n      <td>-50.0</td>\n      <td>3.355556</td>\n      <td>150.298387</td>\n      <td>154.807006</td>\n    </tr>\n    <tr>\n      <th>2</th>\n      <td>-50.0</td>\n      <td>3.822785</td>\n      <td>221.868280</td>\n      <td>208.466813</td>\n    </tr>\n    <tr>\n      <th>3</th>\n      <td>-50.0</td>\n      <td>4.441176</td>\n      <td>179.833333</td>\n      <td>159.889991</td>\n    </tr>\n    <tr>\n      <th>4</th>\n      <td>-50.0</td>\n      <td>5.298246</td>\n      <td>210.033333</td>\n      <td>179.335563</td>\n    </tr>\n    <tr>\n      <th>...</th>\n      <td>...</td>\n      <td>...</td>\n      <td>...</td>\n      <td>...</td>\n    </tr>\n    <tr>\n      <th>135</th>\n      <td>50.0</td>\n      <td>20.111111</td>\n      <td>1052.568817</td>\n      <td>1168.954705</td>\n    </tr>\n    <tr>\n      <th>136</th>\n      <td>50.0</td>\n      <td>21.175439</td>\n      <td>1283.453226</td>\n      <td>1176.933553</td>\n    </tr>\n    <tr>\n      <th>137</th>\n      <td>50.0</td>\n      <td>26.617647</td>\n      <td>1394.306452</td>\n      <td>1759.953332</td>\n    </tr>\n    <tr>\n      <th>138</th>\n      <td>50.0</td>\n      <td>26.822222</td>\n      <td>1329.432258</td>\n      <td>1453.158082</td>\n    </tr>\n    <tr>\n      <th>139</th>\n      <td>50.0</td>\n      <td>35.500000</td>\n      <td>1772.086022</td>\n      <td>2018.283622</td>\n    </tr>\n  </tbody>\n</table>\n<p>140 rows × 4 columns</p>\n</div>"
     },
     "execution_count": 59,
     "metadata": {},
     "output_type": "execute_result"
    }
   ],
   "source": [
    "mean_arr = []\n",
    "for curr_lat in unique_latencies:\n",
    "    for curr_diff in unique_difficulties:\n",
    "        curr = mt_arr[(mt_arr['Latency'] == curr_lat) & (mt_arr['Difficulty'] == curr_diff)]['MT'].mean()\n",
    "        curr_sd = mt_arr[(mt_arr['Latency'] == curr_lat) & (mt_arr['Difficulty'] == curr_diff)]['MT'].std()\n",
    "        mean_arr.append([curr_lat, curr_diff, curr, curr_sd])\n",
    "\n",
    "mean_arr = pd.DataFrame(mean_arr, columns=('Latency', 'Difficulty', 'Mean MT', 'SD MT'))\n",
    "mean_arr"
   ],
   "metadata": {
    "collapsed": false,
    "pycharm": {
     "name": "#%%\n"
    }
   }
  },
  {
   "cell_type": "code",
   "execution_count": 60,
   "outputs": [],
   "source": [
    "mean_arr.to_csv(base_path + '/mean_mts_prepared.csv', sep=';')"
   ],
   "metadata": {
    "collapsed": false,
    "pycharm": {
     "name": "#%%\n"
    }
   }
  },
  {
   "cell_type": "code",
   "execution_count": 64,
   "outputs": [
    {
     "data": {
      "text/plain": "    Difficulty      Mean MT           SD\n0     2.960784   170.812903   130.855220\n1     3.355556   193.361935   176.225283\n2     3.822785   196.911905   157.355223\n3     4.441176   209.789827   196.398156\n4     5.298246   268.571212   275.760088\n5     5.911765   328.286129   249.749670\n6     6.700000   346.396774   271.965616\n7     6.711111   257.364839   296.966934\n8     7.632911   384.065929   300.967582\n9     8.867647   377.496296   334.745451\n10    8.872549   530.132688   427.130156\n11    8.882353   315.672807   339.981507\n12   10.055556   611.707952   581.048741\n13   10.578947   456.099032   407.096740\n14   11.455696   653.903118   592.967647\n15   11.833333   764.251183   596.305032\n16   13.308824   670.113420   655.489967\n17   13.400000   546.724134   536.864958\n18   13.411111   863.060714   914.602949\n19   15.278481   897.053871   828.220821\n20   15.877193   760.476948   799.630260\n21   17.735294   715.525272   808.408663\n22   17.750000   894.372151   794.441751\n23   20.111111   925.759140  1174.199319\n24   21.175439  1166.042581  1192.920802\n25   26.617647  1187.785823  1393.316293\n26   26.822222  1332.035839  1359.348260\n27   35.500000  1733.744516  1876.973536",
      "text/html": "<div>\n<style scoped>\n    .dataframe tbody tr th:only-of-type {\n        vertical-align: middle;\n    }\n\n    .dataframe tbody tr th {\n        vertical-align: top;\n    }\n\n    .dataframe thead th {\n        text-align: right;\n    }\n</style>\n<table border=\"1\" class=\"dataframe\">\n  <thead>\n    <tr style=\"text-align: right;\">\n      <th></th>\n      <th>Difficulty</th>\n      <th>Mean MT</th>\n      <th>SD</th>\n    </tr>\n  </thead>\n  <tbody>\n    <tr>\n      <th>0</th>\n      <td>2.960784</td>\n      <td>170.812903</td>\n      <td>130.855220</td>\n    </tr>\n    <tr>\n      <th>1</th>\n      <td>3.355556</td>\n      <td>193.361935</td>\n      <td>176.225283</td>\n    </tr>\n    <tr>\n      <th>2</th>\n      <td>3.822785</td>\n      <td>196.911905</td>\n      <td>157.355223</td>\n    </tr>\n    <tr>\n      <th>3</th>\n      <td>4.441176</td>\n      <td>209.789827</td>\n      <td>196.398156</td>\n    </tr>\n    <tr>\n      <th>4</th>\n      <td>5.298246</td>\n      <td>268.571212</td>\n      <td>275.760088</td>\n    </tr>\n    <tr>\n      <th>5</th>\n      <td>5.911765</td>\n      <td>328.286129</td>\n      <td>249.749670</td>\n    </tr>\n    <tr>\n      <th>6</th>\n      <td>6.700000</td>\n      <td>346.396774</td>\n      <td>271.965616</td>\n    </tr>\n    <tr>\n      <th>7</th>\n      <td>6.711111</td>\n      <td>257.364839</td>\n      <td>296.966934</td>\n    </tr>\n    <tr>\n      <th>8</th>\n      <td>7.632911</td>\n      <td>384.065929</td>\n      <td>300.967582</td>\n    </tr>\n    <tr>\n      <th>9</th>\n      <td>8.867647</td>\n      <td>377.496296</td>\n      <td>334.745451</td>\n    </tr>\n    <tr>\n      <th>10</th>\n      <td>8.872549</td>\n      <td>530.132688</td>\n      <td>427.130156</td>\n    </tr>\n    <tr>\n      <th>11</th>\n      <td>8.882353</td>\n      <td>315.672807</td>\n      <td>339.981507</td>\n    </tr>\n    <tr>\n      <th>12</th>\n      <td>10.055556</td>\n      <td>611.707952</td>\n      <td>581.048741</td>\n    </tr>\n    <tr>\n      <th>13</th>\n      <td>10.578947</td>\n      <td>456.099032</td>\n      <td>407.096740</td>\n    </tr>\n    <tr>\n      <th>14</th>\n      <td>11.455696</td>\n      <td>653.903118</td>\n      <td>592.967647</td>\n    </tr>\n    <tr>\n      <th>15</th>\n      <td>11.833333</td>\n      <td>764.251183</td>\n      <td>596.305032</td>\n    </tr>\n    <tr>\n      <th>16</th>\n      <td>13.308824</td>\n      <td>670.113420</td>\n      <td>655.489967</td>\n    </tr>\n    <tr>\n      <th>17</th>\n      <td>13.400000</td>\n      <td>546.724134</td>\n      <td>536.864958</td>\n    </tr>\n    <tr>\n      <th>18</th>\n      <td>13.411111</td>\n      <td>863.060714</td>\n      <td>914.602949</td>\n    </tr>\n    <tr>\n      <th>19</th>\n      <td>15.278481</td>\n      <td>897.053871</td>\n      <td>828.220821</td>\n    </tr>\n    <tr>\n      <th>20</th>\n      <td>15.877193</td>\n      <td>760.476948</td>\n      <td>799.630260</td>\n    </tr>\n    <tr>\n      <th>21</th>\n      <td>17.735294</td>\n      <td>715.525272</td>\n      <td>808.408663</td>\n    </tr>\n    <tr>\n      <th>22</th>\n      <td>17.750000</td>\n      <td>894.372151</td>\n      <td>794.441751</td>\n    </tr>\n    <tr>\n      <th>23</th>\n      <td>20.111111</td>\n      <td>925.759140</td>\n      <td>1174.199319</td>\n    </tr>\n    <tr>\n      <th>24</th>\n      <td>21.175439</td>\n      <td>1166.042581</td>\n      <td>1192.920802</td>\n    </tr>\n    <tr>\n      <th>25</th>\n      <td>26.617647</td>\n      <td>1187.785823</td>\n      <td>1393.316293</td>\n    </tr>\n    <tr>\n      <th>26</th>\n      <td>26.822222</td>\n      <td>1332.035839</td>\n      <td>1359.348260</td>\n    </tr>\n    <tr>\n      <th>27</th>\n      <td>35.500000</td>\n      <td>1733.744516</td>\n      <td>1876.973536</td>\n    </tr>\n  </tbody>\n</table>\n</div>"
     },
     "execution_count": 64,
     "metadata": {},
     "output_type": "execute_result"
    }
   ],
   "source": [
    "mean_per_id = []\n",
    "for curr_diff in unique_difficulties:\n",
    "    curr = mt_arr[(mt_arr['Difficulty'] == curr_diff)]['MT'].mean()\n",
    "    curr_sd = mt_arr[(mt_arr['Difficulty'] == curr_diff)]['MT'].std()\n",
    "    mean_per_id.append([curr_diff, curr, curr_sd])\n",
    "\n",
    "mean_per_id = pd.DataFrame(mean_per_id, columns=('Difficulty', 'Mean MT', 'SD'))\n",
    "mean_per_id"
   ],
   "metadata": {
    "collapsed": false,
    "pycharm": {
     "name": "#%%\n"
    }
   }
  },
  {
   "cell_type": "code",
   "execution_count": 65,
   "outputs": [],
   "source": [
    "mean_per_id.to_csv(base_path + '/mean_per_id.csv', sep=';')"
   ],
   "metadata": {
    "collapsed": false,
    "pycharm": {
     "name": "#%%\n"
    }
   }
  },
  {
   "cell_type": "code",
   "execution_count": 67,
   "outputs": [
    {
     "data": {
      "text/plain": "   Latency     Mean MT          SD\n0   -50.00  605.635889  900.535934\n1   -16.67  612.184877  868.378783\n2     0.00  631.249984  778.823041\n3    16.67  632.715106  832.614861\n4    50.00  689.556972  884.133498",
      "text/html": "<div>\n<style scoped>\n    .dataframe tbody tr th:only-of-type {\n        vertical-align: middle;\n    }\n\n    .dataframe tbody tr th {\n        vertical-align: top;\n    }\n\n    .dataframe thead th {\n        text-align: right;\n    }\n</style>\n<table border=\"1\" class=\"dataframe\">\n  <thead>\n    <tr style=\"text-align: right;\">\n      <th></th>\n      <th>Latency</th>\n      <th>Mean MT</th>\n      <th>SD</th>\n    </tr>\n  </thead>\n  <tbody>\n    <tr>\n      <th>0</th>\n      <td>-50.00</td>\n      <td>605.635889</td>\n      <td>900.535934</td>\n    </tr>\n    <tr>\n      <th>1</th>\n      <td>-16.67</td>\n      <td>612.184877</td>\n      <td>868.378783</td>\n    </tr>\n    <tr>\n      <th>2</th>\n      <td>0.00</td>\n      <td>631.249984</td>\n      <td>778.823041</td>\n    </tr>\n    <tr>\n      <th>3</th>\n      <td>16.67</td>\n      <td>632.715106</td>\n      <td>832.614861</td>\n    </tr>\n    <tr>\n      <th>4</th>\n      <td>50.00</td>\n      <td>689.556972</td>\n      <td>884.133498</td>\n    </tr>\n  </tbody>\n</table>\n</div>"
     },
     "execution_count": 67,
     "metadata": {},
     "output_type": "execute_result"
    }
   ],
   "source": [
    "mean_per_lat = []\n",
    "for curr_lat in unique_latencies:\n",
    "    curr = mt_arr[(mt_arr['Latency'] == curr_lat)]['MT'].mean()\n",
    "    curr_sd = mt_arr[(mt_arr['Latency'] == curr_lat)]['MT'].std()\n",
    "    mean_per_lat.append([curr_lat, curr, curr_sd])\n",
    "\n",
    "mean_per_lat = pd.DataFrame(mean_per_lat, columns=('Latency', 'Mean MT', 'SD'))\n",
    "mean_per_lat"
   ],
   "metadata": {
    "collapsed": false,
    "pycharm": {
     "name": "#%%\n"
    }
   }
  },
  {
   "cell_type": "code",
   "execution_count": 40,
   "outputs": [
    {
     "data": {
      "text/plain": "    Particpiant  -50.0_2.9607843137254903  -50.0_3.3555555555555556  \\\n0           1.0                 33.500000                 29.000000   \n1           2.0                 55.333333                 59.000000   \n2           3.0                 85.000000                164.750000   \n3           4.0                129.000000                148.000000   \n4           5.0                211.666667                130.000000   \n5           6.0                215.250000                331.666667   \n6           7.0                 84.666667                135.000000   \n7           8.0                 28.333333                 39.333333   \n8           9.0                139.666667                111.000000   \n9          10.0                 47.333333                 38.333333   \n10         11.0                174.000000                302.333333   \n11         12.0                 86.666667                118.000000   \n12         13.0                 69.000000                 89.666667   \n13         14.0                111.666667                 81.666667   \n14         15.0                 27.666667                 57.333333   \n15         16.0                 88.000000                203.666667   \n16         17.0                119.333333                 81.333333   \n17         18.0                 29.000000                 43.500000   \n18         19.0                221.000000                 58.333333   \n19         20.0                127.000000                190.666667   \n20         21.0                 76.000000                 47.333333   \n21         22.0                301.333333                 83.666667   \n22         23.0                195.666667                 69.000000   \n23         24.0                256.333333                176.666667   \n24         25.0                 49.000000                 48.666667   \n25         26.0                501.333333                801.333333   \n26         27.0                182.000000                139.666667   \n27         28.0                 92.666667                334.333333   \n28         29.0                306.666667                397.333333   \n29         30.0                 50.666667                 39.666667   \n30         31.0                 86.800000                109.000000   \n\n    -50.0_3.8227848101265822  -50.0_4.4411764705882355  \\\n0                  43.250000                 35.666667   \n1                 163.333333                 57.333333   \n2                 176.000000                 85.500000   \n3                 186.666667                290.000000   \n4                  86.666667                 70.000000   \n5                 130.666667                202.000000   \n6                  67.666667                135.000000   \n7                 171.000000                 68.333333   \n8                 192.333333                131.666667   \n9                  78.333333                 75.000000   \n10                401.333333                440.666667   \n11                343.666667                218.666667   \n12                101.333333                118.333333   \n13                164.333333                 83.333333   \n14                 65.333333                116.000000   \n15                418.333333                277.000000   \n16                657.666667                137.333333   \n17                 30.666667                 56.000000   \n18                 96.333333                 86.333333   \n19                420.000000                151.000000   \n20                 59.333333                 38.000000   \n21                116.666667                126.333333   \n22                 39.333333                 98.000000   \n23                163.000000                353.666667   \n24                 49.333333                 74.666667   \n25                826.000000                269.000000   \n26                408.333333                432.333333   \n27                436.666667                581.666667   \n28                649.666667                642.666667   \n29                 52.000000                 80.000000   \n30                 82.666667                 43.333333   \n\n    -50.0_5.298245614035087  -50.0_5.911764705882353    -50.0_6.7  \\\n0                 23.666667               106.000000    76.000000   \n1                273.000000               452.000000   557.333333   \n2                467.000000               292.666667   236.000000   \n3                209.666667               269.000000   250.333333   \n4                 88.666667                60.666667    89.000000   \n5                333.000000               188.333333   448.333333   \n6                 84.666667                28.666667    58.333333   \n7                 79.666667                85.000000   111.666667   \n8                139.000000               252.000000   313.666667   \n9                100.333333               115.000000   118.333333   \n10               159.666667               480.666667   342.333333   \n11                57.666667               172.000000   170.666667   \n12               121.333333               109.333333   132.666667   \n13               101.666667               156.666667   207.666667   \n14                57.666667               199.000000   649.333333   \n15               212.666667               424.000000   145.666667   \n16               312.333333               530.333333   308.333333   \n17                      NaN                72.800000    62.400000   \n18               183.000000               270.333333   407.666667   \n19               461.000000               378.000000   674.666667   \n20                40.000000                95.666667    99.333333   \n21               217.000000               210.333333   132.000000   \n22                59.666667                57.666667    99.000000   \n23               476.000000               804.333333   359.000000   \n24               165.000000                69.666667    88.666667   \n25               674.666667               181.666667   141.333333   \n26               205.333333               721.000000   806.333333   \n27                78.666667               697.000000   884.333333   \n28               679.666667               764.000000  1257.333333   \n29               194.333333                39.333333   306.666667   \n30                45.000000                99.800000   192.800000   \n\n    -50.0_6.711111111111111  -50.0_7.632911392405063  ...  \\\n0                 28.200000                82.600000  ...   \n1                288.000000               289.333333  ...   \n2                306.000000               423.000000  ...   \n3                285.000000               368.000000  ...   \n4                 62.333333               116.666667  ...   \n5                277.333333               358.666667  ...   \n6                 57.000000                57.000000  ...   \n7                 57.000000                49.000000  ...   \n8                119.666667               295.666667  ...   \n9                 89.000000               118.333333  ...   \n10               395.666667               650.000000  ...   \n11               268.666667               250.000000  ...   \n12                81.000000               151.666667  ...   \n13               100.666667               492.666667  ...   \n14               139.333333               414.666667  ...   \n15               110.000000               621.333333  ...   \n16               204.666667               282.333333  ...   \n17                52.500000                60.000000  ...   \n18               248.666667               354.000000  ...   \n19               181.000000               387.000000  ...   \n20                93.666667               105.000000  ...   \n21               207.333333               211.666667  ...   \n22                48.666667               102.000000  ...   \n23               480.333333               251.666667  ...   \n24                51.000000                74.666667  ...   \n25               372.333333              1179.000000  ...   \n26              1799.666667              1151.666667  ...   \n27               235.000000               752.000000  ...   \n28              1311.666667              1220.000000  ...   \n29               100.000000               369.666667  ...   \n30                88.000000               215.000000  ...   \n\n    50.0_13.411111111111111  50.0_15.278481012658228  50.0_15.87719298245614  \\\n0                123.666667               242.000000              166.666667   \n1                920.000000               560.000000             1103.000000   \n2               2903.400000               388.500000              568.000000   \n3                637.333333              1024.000000             1025.000000   \n4                507.666667               403.333333              520.666667   \n5                458.666667               493.333333              697.000000   \n6                502.333333               295.333333              584.000000   \n7                456.666667               544.000000              339.000000   \n8                835.000000               615.333333              308.333333   \n9                318.333333               420.000000              509.666667   \n10              1054.000000               867.333333             1200.333333   \n11               731.333333               914.333333              431.333333   \n12               532.333333               735.333333              325.666667   \n13               462.000000               738.666667              544.000000   \n14               853.333333               523.333333              681.666667   \n15              1207.666667              1392.333333             1002.333333   \n16               649.000000               433.333333              458.000000   \n17               131.666667               171.666667              181.000000   \n18               710.666667               992.666667              750.666667   \n19              1058.000000              1052.333333              773.666667   \n20               260.333333               310.666667              131.000000   \n21               578.000000              1527.000000              760.666667   \n22               297.333333               323.000000              667.333333   \n23               740.333333              1262.000000              722.666667   \n24               475.333333               461.666667              316.666667   \n25              1297.000000              3334.000000             3160.000000   \n26              2022.666667              5533.000000             1720.000000   \n27               424.333333               735.000000             1335.000000   \n28              2522.666667              1808.333333             1512.666667   \n29               715.000000               616.000000              645.666667   \n30               559.333333               329.400000              436.666667   \n\n    50.0_17.735294117647058   50.0_17.75  50.0_20.11111111111111  \\\n0                 58.666667    97.500000              108.000000   \n1                668.666667  1180.000000              544.000000   \n2                556.333333   524.333333             5440.333333   \n3                484.666667   553.333333              820.000000   \n4                595.333333   512.000000              328.333333   \n5                865.000000   625.000000              754.800000   \n6                209.333333   943.666667              720.333333   \n7                449.666667   348.000000              281.333333   \n8                457.666667   772.000000              335.666667   \n9                245.333333   378.333333              240.333333   \n10              1971.666667   878.333333             1168.000000   \n11               459.666667   507.000000              367.000000   \n12               134.333333   945.333333              530.333333   \n13               586.000000   774.666667              511.000000   \n14              1988.000000   450.000000              554.000000   \n15              1350.333333  1401.333333             1641.666667   \n16               765.666667   607.000000              573.666667   \n17                      NaN   167.500000               81.000000   \n18               592.666667   927.333333              730.666667   \n19               748.666667  1676.333333             1874.333333   \n20               159.333333   825.666667              731.666667   \n21               506.333333  1419.333333              470.666667   \n22               313.333333   800.666667              274.666667   \n23              1035.333333  1014.333333              767.666667   \n24               100.333333   456.000000              339.000000   \n25              1864.000000  2609.666667             2836.666667   \n26              2081.000000  2836.333333             3105.000000   \n27               497.000000  2406.000000              621.666667   \n28              1972.000000  3450.000000             2504.000000   \n29               460.000000   563.666667             2763.333333   \n30               389.200000   382.250000              610.500000   \n\n    50.0_21.17543859649123  50.0_26.61764705882353  50.0_26.822222222222223  \\\n0               121.800000              224.000000               306.666667   \n1               770.333333             1777.000000              1252.666667   \n2              3634.250000              601.000000              5241.000000   \n3               857.666667             8877.666667               767.333333   \n4               631.000000              469.000000               746.666667   \n5               906.000000              647.000000               811.400000   \n6               580.666667              584.333333               508.000000   \n7               366.333333              348.000000               390.000000   \n8               701.333333              587.000000               845.333333   \n9               284.000000              296.666667               529.333333   \n10             2267.000000             1767.000000              1956.666667   \n11             1299.333333              560.000000               746.000000   \n12              739.000000              561.666667               441.666667   \n13              487.333333              610.333333               697.333333   \n14              571.666667              615.333333              1642.666667   \n15             1201.666667             2568.666667               945.333333   \n16              568.333333             1037.000000               999.333333   \n17             1147.666667              106.500000               337.000000   \n18             1376.333333             1261.666667               943.333333   \n19             1019.000000             2016.666667              2230.000000   \n20              406.666667              186.666667               416.333333   \n21             1082.666667              866.000000               825.000000   \n22              746.000000              300.000000               445.333333   \n23             1981.333333              834.000000               424.000000   \n24              431.666667              873.666667               282.000000   \n25             3670.666667             2303.333333              5435.000000   \n26             5398.000000             3528.666667              2886.000000   \n27             2600.000000             4051.000000              1092.666667   \n28             1930.000000             3790.000000              5294.666667   \n29             1608.333333              697.666667              1190.666667   \n30              401.000000              276.000000               583.000000   \n\n      50.0_35.5  \n0    134.000000  \n1   2022.000000  \n2    890.000000  \n3   1003.666667  \n4   1055.333333  \n5    757.000000  \n6    658.333333  \n7    736.000000  \n8    465.333333  \n9    381.333333  \n10  1909.666667  \n11  1506.666667  \n12   452.666667  \n13   582.000000  \n14  4777.666667  \n15  3873.666667  \n16  2760.333333  \n17   164.000000  \n18  1339.000000  \n19  1648.000000  \n20   221.666667  \n21   868.000000  \n22   875.000000  \n23  3709.000000  \n24   151.333333  \n25  7027.000000  \n26  5321.333333  \n27   745.000000  \n28  7733.666667  \n29   793.666667  \n30   372.333333  \n\n[31 rows x 141 columns]",
      "text/html": "<div>\n<style scoped>\n    .dataframe tbody tr th:only-of-type {\n        vertical-align: middle;\n    }\n\n    .dataframe tbody tr th {\n        vertical-align: top;\n    }\n\n    .dataframe thead th {\n        text-align: right;\n    }\n</style>\n<table border=\"1\" class=\"dataframe\">\n  <thead>\n    <tr style=\"text-align: right;\">\n      <th></th>\n      <th>Particpiant</th>\n      <th>-50.0_2.9607843137254903</th>\n      <th>-50.0_3.3555555555555556</th>\n      <th>-50.0_3.8227848101265822</th>\n      <th>-50.0_4.4411764705882355</th>\n      <th>-50.0_5.298245614035087</th>\n      <th>-50.0_5.911764705882353</th>\n      <th>-50.0_6.7</th>\n      <th>-50.0_6.711111111111111</th>\n      <th>-50.0_7.632911392405063</th>\n      <th>...</th>\n      <th>50.0_13.411111111111111</th>\n      <th>50.0_15.278481012658228</th>\n      <th>50.0_15.87719298245614</th>\n      <th>50.0_17.735294117647058</th>\n      <th>50.0_17.75</th>\n      <th>50.0_20.11111111111111</th>\n      <th>50.0_21.17543859649123</th>\n      <th>50.0_26.61764705882353</th>\n      <th>50.0_26.822222222222223</th>\n      <th>50.0_35.5</th>\n    </tr>\n  </thead>\n  <tbody>\n    <tr>\n      <th>0</th>\n      <td>1.0</td>\n      <td>33.500000</td>\n      <td>29.000000</td>\n      <td>43.250000</td>\n      <td>35.666667</td>\n      <td>23.666667</td>\n      <td>106.000000</td>\n      <td>76.000000</td>\n      <td>28.200000</td>\n      <td>82.600000</td>\n      <td>...</td>\n      <td>123.666667</td>\n      <td>242.000000</td>\n      <td>166.666667</td>\n      <td>58.666667</td>\n      <td>97.500000</td>\n      <td>108.000000</td>\n      <td>121.800000</td>\n      <td>224.000000</td>\n      <td>306.666667</td>\n      <td>134.000000</td>\n    </tr>\n    <tr>\n      <th>1</th>\n      <td>2.0</td>\n      <td>55.333333</td>\n      <td>59.000000</td>\n      <td>163.333333</td>\n      <td>57.333333</td>\n      <td>273.000000</td>\n      <td>452.000000</td>\n      <td>557.333333</td>\n      <td>288.000000</td>\n      <td>289.333333</td>\n      <td>...</td>\n      <td>920.000000</td>\n      <td>560.000000</td>\n      <td>1103.000000</td>\n      <td>668.666667</td>\n      <td>1180.000000</td>\n      <td>544.000000</td>\n      <td>770.333333</td>\n      <td>1777.000000</td>\n      <td>1252.666667</td>\n      <td>2022.000000</td>\n    </tr>\n    <tr>\n      <th>2</th>\n      <td>3.0</td>\n      <td>85.000000</td>\n      <td>164.750000</td>\n      <td>176.000000</td>\n      <td>85.500000</td>\n      <td>467.000000</td>\n      <td>292.666667</td>\n      <td>236.000000</td>\n      <td>306.000000</td>\n      <td>423.000000</td>\n      <td>...</td>\n      <td>2903.400000</td>\n      <td>388.500000</td>\n      <td>568.000000</td>\n      <td>556.333333</td>\n      <td>524.333333</td>\n      <td>5440.333333</td>\n      <td>3634.250000</td>\n      <td>601.000000</td>\n      <td>5241.000000</td>\n      <td>890.000000</td>\n    </tr>\n    <tr>\n      <th>3</th>\n      <td>4.0</td>\n      <td>129.000000</td>\n      <td>148.000000</td>\n      <td>186.666667</td>\n      <td>290.000000</td>\n      <td>209.666667</td>\n      <td>269.000000</td>\n      <td>250.333333</td>\n      <td>285.000000</td>\n      <td>368.000000</td>\n      <td>...</td>\n      <td>637.333333</td>\n      <td>1024.000000</td>\n      <td>1025.000000</td>\n      <td>484.666667</td>\n      <td>553.333333</td>\n      <td>820.000000</td>\n      <td>857.666667</td>\n      <td>8877.666667</td>\n      <td>767.333333</td>\n      <td>1003.666667</td>\n    </tr>\n    <tr>\n      <th>4</th>\n      <td>5.0</td>\n      <td>211.666667</td>\n      <td>130.000000</td>\n      <td>86.666667</td>\n      <td>70.000000</td>\n      <td>88.666667</td>\n      <td>60.666667</td>\n      <td>89.000000</td>\n      <td>62.333333</td>\n      <td>116.666667</td>\n      <td>...</td>\n      <td>507.666667</td>\n      <td>403.333333</td>\n      <td>520.666667</td>\n      <td>595.333333</td>\n      <td>512.000000</td>\n      <td>328.333333</td>\n      <td>631.000000</td>\n      <td>469.000000</td>\n      <td>746.666667</td>\n      <td>1055.333333</td>\n    </tr>\n    <tr>\n      <th>5</th>\n      <td>6.0</td>\n      <td>215.250000</td>\n      <td>331.666667</td>\n      <td>130.666667</td>\n      <td>202.000000</td>\n      <td>333.000000</td>\n      <td>188.333333</td>\n      <td>448.333333</td>\n      <td>277.333333</td>\n      <td>358.666667</td>\n      <td>...</td>\n      <td>458.666667</td>\n      <td>493.333333</td>\n      <td>697.000000</td>\n      <td>865.000000</td>\n      <td>625.000000</td>\n      <td>754.800000</td>\n      <td>906.000000</td>\n      <td>647.000000</td>\n      <td>811.400000</td>\n      <td>757.000000</td>\n    </tr>\n    <tr>\n      <th>6</th>\n      <td>7.0</td>\n      <td>84.666667</td>\n      <td>135.000000</td>\n      <td>67.666667</td>\n      <td>135.000000</td>\n      <td>84.666667</td>\n      <td>28.666667</td>\n      <td>58.333333</td>\n      <td>57.000000</td>\n      <td>57.000000</td>\n      <td>...</td>\n      <td>502.333333</td>\n      <td>295.333333</td>\n      <td>584.000000</td>\n      <td>209.333333</td>\n      <td>943.666667</td>\n      <td>720.333333</td>\n      <td>580.666667</td>\n      <td>584.333333</td>\n      <td>508.000000</td>\n      <td>658.333333</td>\n    </tr>\n    <tr>\n      <th>7</th>\n      <td>8.0</td>\n      <td>28.333333</td>\n      <td>39.333333</td>\n      <td>171.000000</td>\n      <td>68.333333</td>\n      <td>79.666667</td>\n      <td>85.000000</td>\n      <td>111.666667</td>\n      <td>57.000000</td>\n      <td>49.000000</td>\n      <td>...</td>\n      <td>456.666667</td>\n      <td>544.000000</td>\n      <td>339.000000</td>\n      <td>449.666667</td>\n      <td>348.000000</td>\n      <td>281.333333</td>\n      <td>366.333333</td>\n      <td>348.000000</td>\n      <td>390.000000</td>\n      <td>736.000000</td>\n    </tr>\n    <tr>\n      <th>8</th>\n      <td>9.0</td>\n      <td>139.666667</td>\n      <td>111.000000</td>\n      <td>192.333333</td>\n      <td>131.666667</td>\n      <td>139.000000</td>\n      <td>252.000000</td>\n      <td>313.666667</td>\n      <td>119.666667</td>\n      <td>295.666667</td>\n      <td>...</td>\n      <td>835.000000</td>\n      <td>615.333333</td>\n      <td>308.333333</td>\n      <td>457.666667</td>\n      <td>772.000000</td>\n      <td>335.666667</td>\n      <td>701.333333</td>\n      <td>587.000000</td>\n      <td>845.333333</td>\n      <td>465.333333</td>\n    </tr>\n    <tr>\n      <th>9</th>\n      <td>10.0</td>\n      <td>47.333333</td>\n      <td>38.333333</td>\n      <td>78.333333</td>\n      <td>75.000000</td>\n      <td>100.333333</td>\n      <td>115.000000</td>\n      <td>118.333333</td>\n      <td>89.000000</td>\n      <td>118.333333</td>\n      <td>...</td>\n      <td>318.333333</td>\n      <td>420.000000</td>\n      <td>509.666667</td>\n      <td>245.333333</td>\n      <td>378.333333</td>\n      <td>240.333333</td>\n      <td>284.000000</td>\n      <td>296.666667</td>\n      <td>529.333333</td>\n      <td>381.333333</td>\n    </tr>\n    <tr>\n      <th>10</th>\n      <td>11.0</td>\n      <td>174.000000</td>\n      <td>302.333333</td>\n      <td>401.333333</td>\n      <td>440.666667</td>\n      <td>159.666667</td>\n      <td>480.666667</td>\n      <td>342.333333</td>\n      <td>395.666667</td>\n      <td>650.000000</td>\n      <td>...</td>\n      <td>1054.000000</td>\n      <td>867.333333</td>\n      <td>1200.333333</td>\n      <td>1971.666667</td>\n      <td>878.333333</td>\n      <td>1168.000000</td>\n      <td>2267.000000</td>\n      <td>1767.000000</td>\n      <td>1956.666667</td>\n      <td>1909.666667</td>\n    </tr>\n    <tr>\n      <th>11</th>\n      <td>12.0</td>\n      <td>86.666667</td>\n      <td>118.000000</td>\n      <td>343.666667</td>\n      <td>218.666667</td>\n      <td>57.666667</td>\n      <td>172.000000</td>\n      <td>170.666667</td>\n      <td>268.666667</td>\n      <td>250.000000</td>\n      <td>...</td>\n      <td>731.333333</td>\n      <td>914.333333</td>\n      <td>431.333333</td>\n      <td>459.666667</td>\n      <td>507.000000</td>\n      <td>367.000000</td>\n      <td>1299.333333</td>\n      <td>560.000000</td>\n      <td>746.000000</td>\n      <td>1506.666667</td>\n    </tr>\n    <tr>\n      <th>12</th>\n      <td>13.0</td>\n      <td>69.000000</td>\n      <td>89.666667</td>\n      <td>101.333333</td>\n      <td>118.333333</td>\n      <td>121.333333</td>\n      <td>109.333333</td>\n      <td>132.666667</td>\n      <td>81.000000</td>\n      <td>151.666667</td>\n      <td>...</td>\n      <td>532.333333</td>\n      <td>735.333333</td>\n      <td>325.666667</td>\n      <td>134.333333</td>\n      <td>945.333333</td>\n      <td>530.333333</td>\n      <td>739.000000</td>\n      <td>561.666667</td>\n      <td>441.666667</td>\n      <td>452.666667</td>\n    </tr>\n    <tr>\n      <th>13</th>\n      <td>14.0</td>\n      <td>111.666667</td>\n      <td>81.666667</td>\n      <td>164.333333</td>\n      <td>83.333333</td>\n      <td>101.666667</td>\n      <td>156.666667</td>\n      <td>207.666667</td>\n      <td>100.666667</td>\n      <td>492.666667</td>\n      <td>...</td>\n      <td>462.000000</td>\n      <td>738.666667</td>\n      <td>544.000000</td>\n      <td>586.000000</td>\n      <td>774.666667</td>\n      <td>511.000000</td>\n      <td>487.333333</td>\n      <td>610.333333</td>\n      <td>697.333333</td>\n      <td>582.000000</td>\n    </tr>\n    <tr>\n      <th>14</th>\n      <td>15.0</td>\n      <td>27.666667</td>\n      <td>57.333333</td>\n      <td>65.333333</td>\n      <td>116.000000</td>\n      <td>57.666667</td>\n      <td>199.000000</td>\n      <td>649.333333</td>\n      <td>139.333333</td>\n      <td>414.666667</td>\n      <td>...</td>\n      <td>853.333333</td>\n      <td>523.333333</td>\n      <td>681.666667</td>\n      <td>1988.000000</td>\n      <td>450.000000</td>\n      <td>554.000000</td>\n      <td>571.666667</td>\n      <td>615.333333</td>\n      <td>1642.666667</td>\n      <td>4777.666667</td>\n    </tr>\n    <tr>\n      <th>15</th>\n      <td>16.0</td>\n      <td>88.000000</td>\n      <td>203.666667</td>\n      <td>418.333333</td>\n      <td>277.000000</td>\n      <td>212.666667</td>\n      <td>424.000000</td>\n      <td>145.666667</td>\n      <td>110.000000</td>\n      <td>621.333333</td>\n      <td>...</td>\n      <td>1207.666667</td>\n      <td>1392.333333</td>\n      <td>1002.333333</td>\n      <td>1350.333333</td>\n      <td>1401.333333</td>\n      <td>1641.666667</td>\n      <td>1201.666667</td>\n      <td>2568.666667</td>\n      <td>945.333333</td>\n      <td>3873.666667</td>\n    </tr>\n    <tr>\n      <th>16</th>\n      <td>17.0</td>\n      <td>119.333333</td>\n      <td>81.333333</td>\n      <td>657.666667</td>\n      <td>137.333333</td>\n      <td>312.333333</td>\n      <td>530.333333</td>\n      <td>308.333333</td>\n      <td>204.666667</td>\n      <td>282.333333</td>\n      <td>...</td>\n      <td>649.000000</td>\n      <td>433.333333</td>\n      <td>458.000000</td>\n      <td>765.666667</td>\n      <td>607.000000</td>\n      <td>573.666667</td>\n      <td>568.333333</td>\n      <td>1037.000000</td>\n      <td>999.333333</td>\n      <td>2760.333333</td>\n    </tr>\n    <tr>\n      <th>17</th>\n      <td>18.0</td>\n      <td>29.000000</td>\n      <td>43.500000</td>\n      <td>30.666667</td>\n      <td>56.000000</td>\n      <td>NaN</td>\n      <td>72.800000</td>\n      <td>62.400000</td>\n      <td>52.500000</td>\n      <td>60.000000</td>\n      <td>...</td>\n      <td>131.666667</td>\n      <td>171.666667</td>\n      <td>181.000000</td>\n      <td>NaN</td>\n      <td>167.500000</td>\n      <td>81.000000</td>\n      <td>1147.666667</td>\n      <td>106.500000</td>\n      <td>337.000000</td>\n      <td>164.000000</td>\n    </tr>\n    <tr>\n      <th>18</th>\n      <td>19.0</td>\n      <td>221.000000</td>\n      <td>58.333333</td>\n      <td>96.333333</td>\n      <td>86.333333</td>\n      <td>183.000000</td>\n      <td>270.333333</td>\n      <td>407.666667</td>\n      <td>248.666667</td>\n      <td>354.000000</td>\n      <td>...</td>\n      <td>710.666667</td>\n      <td>992.666667</td>\n      <td>750.666667</td>\n      <td>592.666667</td>\n      <td>927.333333</td>\n      <td>730.666667</td>\n      <td>1376.333333</td>\n      <td>1261.666667</td>\n      <td>943.333333</td>\n      <td>1339.000000</td>\n    </tr>\n    <tr>\n      <th>19</th>\n      <td>20.0</td>\n      <td>127.000000</td>\n      <td>190.666667</td>\n      <td>420.000000</td>\n      <td>151.000000</td>\n      <td>461.000000</td>\n      <td>378.000000</td>\n      <td>674.666667</td>\n      <td>181.000000</td>\n      <td>387.000000</td>\n      <td>...</td>\n      <td>1058.000000</td>\n      <td>1052.333333</td>\n      <td>773.666667</td>\n      <td>748.666667</td>\n      <td>1676.333333</td>\n      <td>1874.333333</td>\n      <td>1019.000000</td>\n      <td>2016.666667</td>\n      <td>2230.000000</td>\n      <td>1648.000000</td>\n    </tr>\n    <tr>\n      <th>20</th>\n      <td>21.0</td>\n      <td>76.000000</td>\n      <td>47.333333</td>\n      <td>59.333333</td>\n      <td>38.000000</td>\n      <td>40.000000</td>\n      <td>95.666667</td>\n      <td>99.333333</td>\n      <td>93.666667</td>\n      <td>105.000000</td>\n      <td>...</td>\n      <td>260.333333</td>\n      <td>310.666667</td>\n      <td>131.000000</td>\n      <td>159.333333</td>\n      <td>825.666667</td>\n      <td>731.666667</td>\n      <td>406.666667</td>\n      <td>186.666667</td>\n      <td>416.333333</td>\n      <td>221.666667</td>\n    </tr>\n    <tr>\n      <th>21</th>\n      <td>22.0</td>\n      <td>301.333333</td>\n      <td>83.666667</td>\n      <td>116.666667</td>\n      <td>126.333333</td>\n      <td>217.000000</td>\n      <td>210.333333</td>\n      <td>132.000000</td>\n      <td>207.333333</td>\n      <td>211.666667</td>\n      <td>...</td>\n      <td>578.000000</td>\n      <td>1527.000000</td>\n      <td>760.666667</td>\n      <td>506.333333</td>\n      <td>1419.333333</td>\n      <td>470.666667</td>\n      <td>1082.666667</td>\n      <td>866.000000</td>\n      <td>825.000000</td>\n      <td>868.000000</td>\n    </tr>\n    <tr>\n      <th>22</th>\n      <td>23.0</td>\n      <td>195.666667</td>\n      <td>69.000000</td>\n      <td>39.333333</td>\n      <td>98.000000</td>\n      <td>59.666667</td>\n      <td>57.666667</td>\n      <td>99.000000</td>\n      <td>48.666667</td>\n      <td>102.000000</td>\n      <td>...</td>\n      <td>297.333333</td>\n      <td>323.000000</td>\n      <td>667.333333</td>\n      <td>313.333333</td>\n      <td>800.666667</td>\n      <td>274.666667</td>\n      <td>746.000000</td>\n      <td>300.000000</td>\n      <td>445.333333</td>\n      <td>875.000000</td>\n    </tr>\n    <tr>\n      <th>23</th>\n      <td>24.0</td>\n      <td>256.333333</td>\n      <td>176.666667</td>\n      <td>163.000000</td>\n      <td>353.666667</td>\n      <td>476.000000</td>\n      <td>804.333333</td>\n      <td>359.000000</td>\n      <td>480.333333</td>\n      <td>251.666667</td>\n      <td>...</td>\n      <td>740.333333</td>\n      <td>1262.000000</td>\n      <td>722.666667</td>\n      <td>1035.333333</td>\n      <td>1014.333333</td>\n      <td>767.666667</td>\n      <td>1981.333333</td>\n      <td>834.000000</td>\n      <td>424.000000</td>\n      <td>3709.000000</td>\n    </tr>\n    <tr>\n      <th>24</th>\n      <td>25.0</td>\n      <td>49.000000</td>\n      <td>48.666667</td>\n      <td>49.333333</td>\n      <td>74.666667</td>\n      <td>165.000000</td>\n      <td>69.666667</td>\n      <td>88.666667</td>\n      <td>51.000000</td>\n      <td>74.666667</td>\n      <td>...</td>\n      <td>475.333333</td>\n      <td>461.666667</td>\n      <td>316.666667</td>\n      <td>100.333333</td>\n      <td>456.000000</td>\n      <td>339.000000</td>\n      <td>431.666667</td>\n      <td>873.666667</td>\n      <td>282.000000</td>\n      <td>151.333333</td>\n    </tr>\n    <tr>\n      <th>25</th>\n      <td>26.0</td>\n      <td>501.333333</td>\n      <td>801.333333</td>\n      <td>826.000000</td>\n      <td>269.000000</td>\n      <td>674.666667</td>\n      <td>181.666667</td>\n      <td>141.333333</td>\n      <td>372.333333</td>\n      <td>1179.000000</td>\n      <td>...</td>\n      <td>1297.000000</td>\n      <td>3334.000000</td>\n      <td>3160.000000</td>\n      <td>1864.000000</td>\n      <td>2609.666667</td>\n      <td>2836.666667</td>\n      <td>3670.666667</td>\n      <td>2303.333333</td>\n      <td>5435.000000</td>\n      <td>7027.000000</td>\n    </tr>\n    <tr>\n      <th>26</th>\n      <td>27.0</td>\n      <td>182.000000</td>\n      <td>139.666667</td>\n      <td>408.333333</td>\n      <td>432.333333</td>\n      <td>205.333333</td>\n      <td>721.000000</td>\n      <td>806.333333</td>\n      <td>1799.666667</td>\n      <td>1151.666667</td>\n      <td>...</td>\n      <td>2022.666667</td>\n      <td>5533.000000</td>\n      <td>1720.000000</td>\n      <td>2081.000000</td>\n      <td>2836.333333</td>\n      <td>3105.000000</td>\n      <td>5398.000000</td>\n      <td>3528.666667</td>\n      <td>2886.000000</td>\n      <td>5321.333333</td>\n    </tr>\n    <tr>\n      <th>27</th>\n      <td>28.0</td>\n      <td>92.666667</td>\n      <td>334.333333</td>\n      <td>436.666667</td>\n      <td>581.666667</td>\n      <td>78.666667</td>\n      <td>697.000000</td>\n      <td>884.333333</td>\n      <td>235.000000</td>\n      <td>752.000000</td>\n      <td>...</td>\n      <td>424.333333</td>\n      <td>735.000000</td>\n      <td>1335.000000</td>\n      <td>497.000000</td>\n      <td>2406.000000</td>\n      <td>621.666667</td>\n      <td>2600.000000</td>\n      <td>4051.000000</td>\n      <td>1092.666667</td>\n      <td>745.000000</td>\n    </tr>\n    <tr>\n      <th>28</th>\n      <td>29.0</td>\n      <td>306.666667</td>\n      <td>397.333333</td>\n      <td>649.666667</td>\n      <td>642.666667</td>\n      <td>679.666667</td>\n      <td>764.000000</td>\n      <td>1257.333333</td>\n      <td>1311.666667</td>\n      <td>1220.000000</td>\n      <td>...</td>\n      <td>2522.666667</td>\n      <td>1808.333333</td>\n      <td>1512.666667</td>\n      <td>1972.000000</td>\n      <td>3450.000000</td>\n      <td>2504.000000</td>\n      <td>1930.000000</td>\n      <td>3790.000000</td>\n      <td>5294.666667</td>\n      <td>7733.666667</td>\n    </tr>\n    <tr>\n      <th>29</th>\n      <td>30.0</td>\n      <td>50.666667</td>\n      <td>39.666667</td>\n      <td>52.000000</td>\n      <td>80.000000</td>\n      <td>194.333333</td>\n      <td>39.333333</td>\n      <td>306.666667</td>\n      <td>100.000000</td>\n      <td>369.666667</td>\n      <td>...</td>\n      <td>715.000000</td>\n      <td>616.000000</td>\n      <td>645.666667</td>\n      <td>460.000000</td>\n      <td>563.666667</td>\n      <td>2763.333333</td>\n      <td>1608.333333</td>\n      <td>697.666667</td>\n      <td>1190.666667</td>\n      <td>793.666667</td>\n    </tr>\n    <tr>\n      <th>30</th>\n      <td>31.0</td>\n      <td>86.800000</td>\n      <td>109.000000</td>\n      <td>82.666667</td>\n      <td>43.333333</td>\n      <td>45.000000</td>\n      <td>99.800000</td>\n      <td>192.800000</td>\n      <td>88.000000</td>\n      <td>215.000000</td>\n      <td>...</td>\n      <td>559.333333</td>\n      <td>329.400000</td>\n      <td>436.666667</td>\n      <td>389.200000</td>\n      <td>382.250000</td>\n      <td>610.500000</td>\n      <td>401.000000</td>\n      <td>276.000000</td>\n      <td>583.000000</td>\n      <td>372.333333</td>\n    </tr>\n  </tbody>\n</table>\n<p>31 rows × 141 columns</p>\n</div>"
     },
     "execution_count": 40,
     "metadata": {},
     "output_type": "execute_result"
    }
   ],
   "source": [
    "spss_arr = []\n",
    "\n",
    "for curr_part in unique_participants:\n",
    "    curr_part_arr = [curr_part]\n",
    "    for curr_lat in unique_latencies:\n",
    "        for curr_diff in unique_difficulties:\n",
    "            curr_part_arr.append(mt_arr[(mt_arr['Participant'] == curr_part) & (mt_arr['Latency'] == curr_lat) & (mt_arr['Difficulty'] == curr_diff)]['MT'].values[0])\n",
    "    spss_arr.append(curr_part_arr)\n",
    "\n",
    "spss_arr = pd.DataFrame(spss_arr, columns=('Particpiant', f'{unique_latencies[0]}_{unique_difficulties[0]}', f'{unique_latencies[0]}_{unique_difficulties[1]}', f'{unique_latencies[0]}_{unique_difficulties[2]}', f'{unique_latencies[0]}_{unique_difficulties[3]}', f'{unique_latencies[0]}_{unique_difficulties[4]}', f'{unique_latencies[0]}_{unique_difficulties[5]}', f'{unique_latencies[0]}_{unique_difficulties[6]}', f'{unique_latencies[0]}_{unique_difficulties[7]}', f'{unique_latencies[0]}_{unique_difficulties[8]}', f'{unique_latencies[0]}_{unique_difficulties[9]}', f'{unique_latencies[0]}_{unique_difficulties[10]}', f'{unique_latencies[0]}_{unique_difficulties[11]}', f'{unique_latencies[0]}_{unique_difficulties[12]}', f'{unique_latencies[0]}_{unique_difficulties[13]}', f'{unique_latencies[0]}_{unique_difficulties[14]}', f'{unique_latencies[0]}_{unique_difficulties[15]}', f'{unique_latencies[0]}_{unique_difficulties[16]}', f'{unique_latencies[0]}_{unique_difficulties[17]}', f'{unique_latencies[0]}_{unique_difficulties[18]}', f'{unique_latencies[0]}_{unique_difficulties[19]}', f'{unique_latencies[0]}_{unique_difficulties[20]}', f'{unique_latencies[0]}_{unique_difficulties[21]}', f'{unique_latencies[0]}_{unique_difficulties[22]}', f'{unique_latencies[0]}_{unique_difficulties[23]}', f'{unique_latencies[0]}_{unique_difficulties[24]}', f'{unique_latencies[0]}_{unique_difficulties[25]}', f'{unique_latencies[0]}_{unique_difficulties[26]}', f'{unique_latencies[0]}_{unique_difficulties[27]}', f'{unique_latencies[1]}_{unique_difficulties[0]}', f'{unique_latencies[1]}_{unique_difficulties[1]}', f'{unique_latencies[1]}_{unique_difficulties[2]}', f'{unique_latencies[1]}_{unique_difficulties[3]}', f'{unique_latencies[1]}_{unique_difficulties[4]}', f'{unique_latencies[1]}_{unique_difficulties[5]}', f'{unique_latencies[1]}_{unique_difficulties[6]}', f'{unique_latencies[1]}_{unique_difficulties[7]}', f'{unique_latencies[1]}_{unique_difficulties[8]}', f'{unique_latencies[1]}_{unique_difficulties[9]}', f'{unique_latencies[1]}_{unique_difficulties[10]}', f'{unique_latencies[1]}_{unique_difficulties[11]}', f'{unique_latencies[1]}_{unique_difficulties[12]}', f'{unique_latencies[1]}_{unique_difficulties[13]}', f'{unique_latencies[1]}_{unique_difficulties[14]}', f'{unique_latencies[1]}_{unique_difficulties[15]}', f'{unique_latencies[1]}_{unique_difficulties[16]}', f'{unique_latencies[1]}_{unique_difficulties[17]}', f'{unique_latencies[1]}_{unique_difficulties[18]}', f'{unique_latencies[1]}_{unique_difficulties[19]}', f'{unique_latencies[1]}_{unique_difficulties[20]}', f'{unique_latencies[1]}_{unique_difficulties[21]}', f'{unique_latencies[1]}_{unique_difficulties[22]}', f'{unique_latencies[1]}_{unique_difficulties[23]}', f'{unique_latencies[1]}_{unique_difficulties[24]}', f'{unique_latencies[1]}_{unique_difficulties[25]}', f'{unique_latencies[1]}_{unique_difficulties[26]}', f'{unique_latencies[1]}_{unique_difficulties[27]}', f'{unique_latencies[2]}_{unique_difficulties[0]}', f'{unique_latencies[2]}_{unique_difficulties[1]}', f'{unique_latencies[2]}_{unique_difficulties[2]}', f'{unique_latencies[2]}_{unique_difficulties[3]}', f'{unique_latencies[2]}_{unique_difficulties[4]}', f'{unique_latencies[2]}_{unique_difficulties[5]}', f'{unique_latencies[2]}_{unique_difficulties[6]}', f'{unique_latencies[2]}_{unique_difficulties[7]}', f'{unique_latencies[2]}_{unique_difficulties[8]}', f'{unique_latencies[2]}_{unique_difficulties[9]}', f'{unique_latencies[2]}_{unique_difficulties[10]}', f'{unique_latencies[2]}_{unique_difficulties[11]}', f'{unique_latencies[2]}_{unique_difficulties[12]}', f'{unique_latencies[2]}_{unique_difficulties[13]}', f'{unique_latencies[2]}_{unique_difficulties[14]}', f'{unique_latencies[2]}_{unique_difficulties[15]}', f'{unique_latencies[2]}_{unique_difficulties[16]}', f'{unique_latencies[2]}_{unique_difficulties[17]}', f'{unique_latencies[2]}_{unique_difficulties[18]}', f'{unique_latencies[2]}_{unique_difficulties[19]}', f'{unique_latencies[2]}_{unique_difficulties[20]}', f'{unique_latencies[2]}_{unique_difficulties[21]}', f'{unique_latencies[2]}_{unique_difficulties[22]}', f'{unique_latencies[2]}_{unique_difficulties[23]}', f'{unique_latencies[2]}_{unique_difficulties[24]}', f'{unique_latencies[2]}_{unique_difficulties[25]}', f'{unique_latencies[2]}_{unique_difficulties[26]}', f'{unique_latencies[2]}_{unique_difficulties[27]}', f'{unique_latencies[3]}_{unique_difficulties[0]}', f'{unique_latencies[3]}_{unique_difficulties[1]}', f'{unique_latencies[3]}_{unique_difficulties[2]}', f'{unique_latencies[3]}_{unique_difficulties[3]}', f'{unique_latencies[3]}_{unique_difficulties[4]}', f'{unique_latencies[3]}_{unique_difficulties[5]}', f'{unique_latencies[3]}_{unique_difficulties[6]}', f'{unique_latencies[3]}_{unique_difficulties[7]}', f'{unique_latencies[3]}_{unique_difficulties[8]}', f'{unique_latencies[3]}_{unique_difficulties[9]}', f'{unique_latencies[3]}_{unique_difficulties[10]}', f'{unique_latencies[3]}_{unique_difficulties[11]}', f'{unique_latencies[3]}_{unique_difficulties[12]}', f'{unique_latencies[3]}_{unique_difficulties[13]}', f'{unique_latencies[3]}_{unique_difficulties[14]}', f'{unique_latencies[3]}_{unique_difficulties[15]}', f'{unique_latencies[3]}_{unique_difficulties[16]}', f'{unique_latencies[3]}_{unique_difficulties[17]}', f'{unique_latencies[3]}_{unique_difficulties[18]}', f'{unique_latencies[3]}_{unique_difficulties[19]}', f'{unique_latencies[3]}_{unique_difficulties[20]}', f'{unique_latencies[3]}_{unique_difficulties[21]}', f'{unique_latencies[3]}_{unique_difficulties[22]}', f'{unique_latencies[3]}_{unique_difficulties[23]}', f'{unique_latencies[3]}_{unique_difficulties[24]}', f'{unique_latencies[3]}_{unique_difficulties[25]}', f'{unique_latencies[3]}_{unique_difficulties[26]}', f'{unique_latencies[3]}_{unique_difficulties[27]}', f'{unique_latencies[4]}_{unique_difficulties[0]}', f'{unique_latencies[4]}_{unique_difficulties[1]}', f'{unique_latencies[4]}_{unique_difficulties[2]}', f'{unique_latencies[4]}_{unique_difficulties[3]}', f'{unique_latencies[4]}_{unique_difficulties[4]}', f'{unique_latencies[4]}_{unique_difficulties[5]}', f'{unique_latencies[4]}_{unique_difficulties[6]}', f'{unique_latencies[4]}_{unique_difficulties[7]}', f'{unique_latencies[4]}_{unique_difficulties[8]}', f'{unique_latencies[4]}_{unique_difficulties[9]}', f'{unique_latencies[4]}_{unique_difficulties[10]}', f'{unique_latencies[4]}_{unique_difficulties[11]}', f'{unique_latencies[4]}_{unique_difficulties[12]}', f'{unique_latencies[4]}_{unique_difficulties[13]}', f'{unique_latencies[4]}_{unique_difficulties[14]}', f'{unique_latencies[4]}_{unique_difficulties[15]}', f'{unique_latencies[4]}_{unique_difficulties[16]}', f'{unique_latencies[4]}_{unique_difficulties[17]}', f'{unique_latencies[4]}_{unique_difficulties[18]}', f'{unique_latencies[4]}_{unique_difficulties[19]}', f'{unique_latencies[4]}_{unique_difficulties[20]}', f'{unique_latencies[4]}_{unique_difficulties[21]}', f'{unique_latencies[4]}_{unique_difficulties[22]}', f'{unique_latencies[4]}_{unique_difficulties[23]}', f'{unique_latencies[4]}_{unique_difficulties[24]}', f'{unique_latencies[4]}_{unique_difficulties[25]}', f'{unique_latencies[4]}_{unique_difficulties[26]}', f'{unique_latencies[4]}_{unique_difficulties[27]}'))\n",
    "\n",
    "spss_arr"
   ],
   "metadata": {
    "collapsed": false,
    "pycharm": {
     "name": "#%%\n"
    }
   }
  },
  {
   "cell_type": "code",
   "execution_count": 41,
   "outputs": [],
   "source": [
    "spss_arr.to_csv(base_path + '/latency_and_id_vs_mt.csv', sep=';')"
   ],
   "metadata": {
    "collapsed": false,
    "pycharm": {
     "name": "#%%\n"
    }
   }
  },
  {
   "cell_type": "markdown",
   "source": [
    "# Errors vs ID on Latency"
   ],
   "metadata": {
    "collapsed": false,
    "pycharm": {
     "name": "#%% md\n"
    }
   }
  },
  {
   "cell_type": "code",
   "execution_count": 84,
   "outputs": [
    {
     "name": "stderr",
     "output_type": "stream",
     "text": [
      "C:\\Users\\ragor\\AppData\\Local\\Temp\\ipykernel_24972\\3523060998.py:2: SettingWithCopyWarning: \n",
      "A value is trying to be set on a copy of a slice from a DataFrame.\n",
      "Try using .loc[row_indexer,col_indexer] = value instead\n",
      "\n",
      "See the caveats in the documentation: https://pandas.pydata.org/pandas-docs/stable/user_guide/indexing.html#returning-a-view-versus-a-copy\n",
      "  error_data['part_id'] = error_data['part_id'].astype(float)\n"
     ]
    },
    {
     "data": {
      "text/plain": "     part_id  compensation  width  length  MT         ID\n0       10.0         -50.0     57     603  -1  10.578947\n2       10.0         -50.0     45     905  -1  20.111111\n3       10.0         -50.0     45     905  -1  20.111111\n7       10.0         -50.0     45     905  -1  20.111111\n8       10.0         -50.0     45     905  -1  20.111111\n..       ...           ...    ...     ...  ..        ...\n511      9.0          50.0     34    1207  -1  35.500000\n512      9.0          50.0     34    1207  -1  35.500000\n516      9.0         -50.0     68     302  -1   4.441176\n523      9.0         -50.0     90    1207  -1  13.411111\n564      9.0          50.0     45     905  -1  20.111111\n\n[5435 rows x 6 columns]",
      "text/html": "<div>\n<style scoped>\n    .dataframe tbody tr th:only-of-type {\n        vertical-align: middle;\n    }\n\n    .dataframe tbody tr th {\n        vertical-align: top;\n    }\n\n    .dataframe thead th {\n        text-align: right;\n    }\n</style>\n<table border=\"1\" class=\"dataframe\">\n  <thead>\n    <tr style=\"text-align: right;\">\n      <th></th>\n      <th>part_id</th>\n      <th>compensation</th>\n      <th>width</th>\n      <th>length</th>\n      <th>MT</th>\n      <th>ID</th>\n    </tr>\n  </thead>\n  <tbody>\n    <tr>\n      <th>0</th>\n      <td>10.0</td>\n      <td>-50.0</td>\n      <td>57</td>\n      <td>603</td>\n      <td>-1</td>\n      <td>10.578947</td>\n    </tr>\n    <tr>\n      <th>2</th>\n      <td>10.0</td>\n      <td>-50.0</td>\n      <td>45</td>\n      <td>905</td>\n      <td>-1</td>\n      <td>20.111111</td>\n    </tr>\n    <tr>\n      <th>3</th>\n      <td>10.0</td>\n      <td>-50.0</td>\n      <td>45</td>\n      <td>905</td>\n      <td>-1</td>\n      <td>20.111111</td>\n    </tr>\n    <tr>\n      <th>7</th>\n      <td>10.0</td>\n      <td>-50.0</td>\n      <td>45</td>\n      <td>905</td>\n      <td>-1</td>\n      <td>20.111111</td>\n    </tr>\n    <tr>\n      <th>8</th>\n      <td>10.0</td>\n      <td>-50.0</td>\n      <td>45</td>\n      <td>905</td>\n      <td>-1</td>\n      <td>20.111111</td>\n    </tr>\n    <tr>\n      <th>...</th>\n      <td>...</td>\n      <td>...</td>\n      <td>...</td>\n      <td>...</td>\n      <td>...</td>\n      <td>...</td>\n    </tr>\n    <tr>\n      <th>511</th>\n      <td>9.0</td>\n      <td>50.0</td>\n      <td>34</td>\n      <td>1207</td>\n      <td>-1</td>\n      <td>35.500000</td>\n    </tr>\n    <tr>\n      <th>512</th>\n      <td>9.0</td>\n      <td>50.0</td>\n      <td>34</td>\n      <td>1207</td>\n      <td>-1</td>\n      <td>35.500000</td>\n    </tr>\n    <tr>\n      <th>516</th>\n      <td>9.0</td>\n      <td>-50.0</td>\n      <td>68</td>\n      <td>302</td>\n      <td>-1</td>\n      <td>4.441176</td>\n    </tr>\n    <tr>\n      <th>523</th>\n      <td>9.0</td>\n      <td>-50.0</td>\n      <td>90</td>\n      <td>1207</td>\n      <td>-1</td>\n      <td>13.411111</td>\n    </tr>\n    <tr>\n      <th>564</th>\n      <td>9.0</td>\n      <td>50.0</td>\n      <td>45</td>\n      <td>905</td>\n      <td>-1</td>\n      <td>20.111111</td>\n    </tr>\n  </tbody>\n</table>\n<p>5435 rows × 6 columns</p>\n</div>"
     },
     "execution_count": 84,
     "metadata": {},
     "output_type": "execute_result"
    }
   ],
   "source": [
    "error_data = raw_mt_data[raw_mt_data['MT'] == -1]\n",
    "error_data['part_id'] = error_data['part_id'].astype(float)\n",
    "error_data"
   ],
   "metadata": {
    "collapsed": false,
    "pycharm": {
     "name": "#%%\n"
    }
   }
  },
  {
   "cell_type": "code",
   "execution_count": 92,
   "outputs": [],
   "source": [
    "unique_difficulties = error_data['ID'].unique()"
   ],
   "metadata": {
    "collapsed": false,
    "pycharm": {
     "name": "#%%\n"
    }
   }
  },
  {
   "cell_type": "code",
   "execution_count": 93,
   "outputs": [
    {
     "name": "stdout",
     "output_type": "stream",
     "text": [
      "[ 2.96078431  3.35555556  3.82278481  4.44117647  5.29824561  5.91176471\n",
      "  6.7         6.71111111  7.63291139  8.86764706  8.87254902  8.88235294\n",
      " 10.05555556 10.57894737 11.4556962  11.83333333 13.30882353 13.4\n",
      " 13.41111111 15.27848101 15.87719298 17.73529412 17.75       20.11111111\n",
      " 21.1754386  26.61764706 26.82222222 35.5       ]\n"
     ]
    }
   ],
   "source": [
    "unique_difficulties.sort()\n",
    "print(unique_difficulties)"
   ],
   "metadata": {
    "collapsed": false,
    "pycharm": {
     "name": "#%%\n"
    }
   }
  },
  {
   "cell_type": "code",
   "execution_count": 94,
   "outputs": [
    {
     "name": "stderr",
     "output_type": "stream",
     "text": [
      "C:\\Users\\ragor\\AppData\\Local\\Temp\\ipykernel_24972\\2040243416.py:6: RuntimeWarning: invalid value encountered in longlong_scalars\n",
      "  curr_part_data.append(error_data[(error_data['part_id'] == curr_id) & (error_data['compensation'] == curr_lat) & (error_data['ID'] == curr_diff)]['MT'].count() / raw_mt_data[(raw_mt_data['part_id'] == curr_id) & (raw_mt_data['compensation'] == curr_lat) & (raw_mt_data['ID'] == curr_diff)]['MT'].count())\n"
     ]
    },
    {
     "data": {
      "text/plain": "    Particpiant  50.0_2.9607843137254903  50.0_3.3555555555555556  \\\n0             1                     0.00                 0.000000   \n1             2                     0.00                 0.000000   \n2             3                     0.50                 0.000000   \n3             4                     0.00                 0.000000   \n4             5                     0.00                 0.000000   \n5             6                     0.00                 0.000000   \n6             7                     0.00                 0.000000   \n7             8                     0.00                 0.000000   \n8             9                     0.00                 0.000000   \n9            10                     0.00                 0.000000   \n10           11                     0.00                 0.000000   \n11           12                     0.00                 0.000000   \n12           13                     0.00                 0.000000   \n13           14                     0.00                 0.250000   \n14           15                     0.00                 0.250000   \n15           16                     0.00                 0.250000   \n16           17                     0.00                 0.000000   \n17           18                     0.00                 0.500000   \n18           19                     0.00                 0.000000   \n19           20                     0.00                 0.000000   \n20           21                     0.00                 0.000000   \n21           22                     0.25                 0.000000   \n22           23                     0.00                 0.000000   \n23           24                     0.00                 0.250000   \n24           25                     0.00                 0.000000   \n25           26                     0.00                 0.571429   \n26           27                     0.00                 0.250000   \n27           28                     0.25                 0.000000   \n28           29                     0.00                 0.000000   \n29           30                     0.00                 0.000000   \n30           31                     0.00                 0.000000   \n\n    50.0_3.8227848101265822  50.0_4.4411764705882355  50.0_5.298245614035087  \\\n0                  0.000000                     0.00                0.250000   \n1                  0.250000                     0.00                0.400000   \n2                  0.200000                     0.00                0.615385   \n3                  0.000000                     0.00                0.500000   \n4                  0.000000                     0.00                0.000000   \n5                  0.333333                     0.00                0.200000   \n6                  0.250000                     0.00                0.500000   \n7                  0.000000                     0.00                0.000000   \n8                  0.000000                     0.00                0.250000   \n9                  0.000000                     0.00                0.000000   \n10                 0.000000                     0.00                0.000000   \n11                 0.250000                     0.00                0.000000   \n12                 0.000000                     0.00                0.000000   \n13                 0.000000                     0.25                0.000000   \n14                 0.250000                     0.00                0.000000   \n15                 0.000000                     0.25                0.250000   \n16                 0.000000                     0.00                0.000000   \n17                 0.400000                     0.00                0.000000   \n18                 0.000000                     0.40                0.000000   \n19                 0.000000                     0.00                0.000000   \n20                 0.000000                     0.00                0.000000   \n21                 0.000000                     0.00                0.000000   \n22                 0.000000                     0.00                0.000000   \n23                 0.000000                     0.00                0.000000   \n24                 0.000000                     0.00                0.000000   \n25                 0.250000                     0.40                0.400000   \n26                 0.000000                     0.00                0.250000   \n27                 0.000000                     0.40                0.000000   \n28                 0.000000                     0.00                0.000000   \n29                 0.000000                     0.00                0.000000   \n30                      NaN                     0.00                0.500000   \n\n    50.0_5.911764705882353  50.0_6.7  50.0_6.711111111111111  \\\n0                     0.00  0.000000                0.000000   \n1                     0.00  0.000000                0.000000   \n2                     0.00  0.400000                0.636364   \n3                     0.50  0.000000                0.000000   \n4                     0.00  0.000000                0.400000   \n5                     0.00  0.000000                0.333333   \n6                     0.00  0.000000                0.250000   \n7                     0.00  0.000000                0.000000   \n8                     0.00  0.000000                0.000000   \n9                     0.25  0.500000                0.000000   \n10                    0.00  0.000000                0.000000   \n11                    0.00  0.000000                0.400000   \n12                    0.00  0.000000                0.250000   \n13                    0.00  0.000000                0.250000   \n14                    0.00  0.000000                0.250000   \n15                    0.00  0.000000                0.250000   \n16                    0.25  0.000000                0.000000   \n17                    0.25  0.000000                0.333333   \n18                    0.00  0.000000                0.250000   \n19                    0.00  0.250000                0.250000   \n20                    0.25  0.500000                0.400000   \n21                    0.00  0.000000                0.000000   \n22                    0.25  0.000000                0.000000   \n23                    0.00  0.000000                0.000000   \n24                    0.40  0.000000                0.000000   \n25                    0.00  0.250000                0.250000   \n26                    0.00  0.250000                0.000000   \n27                    0.25  0.250000                0.000000   \n28                    0.00  0.250000                0.000000   \n29                    0.00  0.250000                0.000000   \n30                    0.00  0.428571                0.333333   \n\n    50.0_7.632911392405063  ...  -50.0_13.411111111111111  \\\n0                     0.00  ...                  0.166667   \n1                     0.00  ...                  0.000000   \n2                     0.25  ...                  0.000000   \n3                     0.00  ...                  0.000000   \n4                     0.25  ...                  0.000000   \n5                     0.00  ...                  0.727273   \n6                     0.25  ...                  0.000000   \n7                     0.25  ...                  0.000000   \n8                     0.00  ...                  0.571429   \n9                     0.00  ...                  0.250000   \n10                    0.00  ...                  0.250000   \n11                    0.25  ...                  0.250000   \n12                    0.00  ...                  0.000000   \n13                    0.00  ...                  0.000000   \n14                    0.00  ...                  0.250000   \n15                    0.25  ...                  0.400000   \n16                    0.00  ...                  0.250000   \n17                    0.40  ...                  0.000000   \n18                    0.40  ...                  0.250000   \n19                    0.00  ...                  0.250000   \n20                    0.50  ...                  0.000000   \n21                    0.00  ...                  0.400000   \n22                    0.25  ...                  0.000000   \n23                    0.25  ...                  0.000000   \n24                    0.00  ...                  0.000000   \n25                    0.00  ...                  0.250000   \n26                    0.25  ...                  0.000000   \n27                    0.00  ...                  0.000000   \n28                    0.40  ...                  0.000000   \n29                    0.00  ...                  0.571429   \n30                    0.20  ...                  0.333333   \n\n    -50.0_15.278481012658228  -50.0_15.87719298245614  \\\n0                   0.166667                 0.333333   \n1                   0.000000                 0.000000   \n2                   0.700000                 0.571429   \n3                   0.000000                 0.400000   \n4                   0.000000                 0.250000   \n5                   0.666667                 0.400000   \n6                   0.400000                 0.250000   \n7                   0.250000                 0.250000   \n8                   0.250000                 0.250000   \n9                   0.250000                 0.400000   \n10                  0.625000                 0.000000   \n11                  0.500000                 0.666667   \n12                  0.000000                 0.500000   \n13                  0.250000                 0.400000   \n14                  0.250000                 0.000000   \n15                  0.250000                 0.400000   \n16                  0.000000                 0.400000   \n17                  0.250000                      NaN   \n18                  0.000000                 0.250000   \n19                  0.000000                 0.400000   \n20                  0.571429                 0.000000   \n21                  0.250000                 0.250000   \n22                  0.400000                 0.000000   \n23                  0.000000                 0.250000   \n24                  0.500000                 0.000000   \n25                  0.666667                 0.000000   \n26                  0.250000                 0.000000   \n27                  0.250000                 0.500000   \n28                  0.000000                 0.769231   \n29                  0.727273                 0.400000   \n30                  0.285714                 0.200000   \n\n    -50.0_17.735294117647058  -50.0_17.75  -50.0_20.11111111111111  \\\n0                   0.000000     0.000000                 0.285714   \n1                   0.250000     0.000000                 0.000000   \n2                   0.625000     0.666667                 0.400000   \n3                   0.400000     0.400000                 0.000000   \n4                   0.000000     0.000000                 0.000000   \n5                   0.428571     0.428571                 0.000000   \n6                   0.250000     0.250000                 0.500000   \n7                   0.000000     0.000000                 0.666667   \n8                   0.250000     0.000000                 0.000000   \n9                   0.571429     0.000000                 0.700000   \n10                  0.500000     0.571429                 0.250000   \n11                  0.400000     0.000000                 0.000000   \n12                  0.571429     0.250000                 0.400000   \n13                  0.625000     0.000000                 0.500000   \n14                  0.727273     0.000000                 0.500000   \n15                  0.571429     0.000000                 0.250000   \n16                  0.250000     0.000000                 0.000000   \n17                  0.500000     0.000000                 0.636364   \n18                  0.700000     0.250000                 0.000000   \n19                  0.727273     0.500000                 0.400000   \n20                  0.400000     0.571429                 0.000000   \n21                  0.000000     0.250000                 0.000000   \n22                  0.250000     0.000000                 0.000000   \n23                  0.250000     0.250000                 0.000000   \n24                  0.666667     0.250000                 0.400000   \n25                  0.666667     0.000000                 0.785714   \n26                  0.000000     0.000000                 0.500000   \n27                  0.925000     0.400000                 0.571429   \n28                  0.000000     0.625000                 0.500000   \n29                  0.000000     0.750000                 0.250000   \n30                  0.250000     0.333333                 0.250000   \n\n    -50.0_21.17543859649123  -50.0_26.61764705882353  \\\n0                  0.333333                 0.333333   \n1                  0.000000                 0.000000   \n2                  0.000000                 0.545455   \n3                  0.625000                 0.000000   \n4                  0.250000                 0.250000   \n5                  0.000000                 0.250000   \n6                  0.250000                 0.400000   \n7                  0.250000                 0.500000   \n8                  0.250000                 0.500000   \n9                  0.000000                 0.500000   \n10                 0.250000                 0.250000   \n11                 0.250000                 0.625000   \n12                 0.250000                 0.750000   \n13                 0.000000                 0.000000   \n14                 0.571429                 0.500000   \n15                 0.000000                 0.250000   \n16                 0.000000                 0.250000   \n17                 0.000000                      NaN   \n18                 0.571429                 0.000000   \n19                 0.000000                 0.250000   \n20                 0.000000                 0.769231   \n21                 0.250000                 0.500000   \n22                 0.250000                 0.500000   \n23                 0.400000                 0.250000   \n24                 0.571429                 0.571429   \n25                 0.000000                 0.625000   \n26                 0.666667                 0.875000   \n27                 0.625000                 0.000000   \n28                 0.500000                 0.250000   \n29                 0.250000                 0.500000   \n30                 0.333333                 0.000000   \n\n    -50.0_26.822222222222223  -50.0_35.5  \n0                        NaN    0.200000  \n1                   0.250000    0.400000  \n2                   0.833333    0.800000  \n3                   0.571429    0.400000  \n4                   0.000000    0.500000  \n5                   0.250000    0.571429  \n6                   0.571429    0.571429  \n7                   0.250000    0.000000  \n8                   0.000000    0.800000  \n9                   0.400000    0.000000  \n10                  0.400000    0.625000  \n11                  0.750000    0.625000  \n12                  0.000000    0.625000  \n13                  0.571429    0.769231  \n14                  0.700000    0.666667  \n15                  0.000000    0.500000  \n16                  0.000000    0.400000  \n17                  0.000000    0.666667  \n18                  0.700000    0.000000  \n19                  0.625000    0.571429  \n20                  0.400000    0.666667  \n21                  0.250000    0.000000  \n22                  0.625000    0.000000  \n23                  0.400000    0.875000  \n24                  0.625000    0.500000  \n25                  0.000000    0.571429  \n26                  0.000000    0.727273  \n27                  0.400000    0.700000  \n28                  0.400000    0.571429  \n29                  0.700000    0.000000  \n30                  0.600000    0.500000  \n\n[31 rows x 141 columns]",
      "text/html": "<div>\n<style scoped>\n    .dataframe tbody tr th:only-of-type {\n        vertical-align: middle;\n    }\n\n    .dataframe tbody tr th {\n        vertical-align: top;\n    }\n\n    .dataframe thead th {\n        text-align: right;\n    }\n</style>\n<table border=\"1\" class=\"dataframe\">\n  <thead>\n    <tr style=\"text-align: right;\">\n      <th></th>\n      <th>Particpiant</th>\n      <th>50.0_2.9607843137254903</th>\n      <th>50.0_3.3555555555555556</th>\n      <th>50.0_3.8227848101265822</th>\n      <th>50.0_4.4411764705882355</th>\n      <th>50.0_5.298245614035087</th>\n      <th>50.0_5.911764705882353</th>\n      <th>50.0_6.7</th>\n      <th>50.0_6.711111111111111</th>\n      <th>50.0_7.632911392405063</th>\n      <th>...</th>\n      <th>-50.0_13.411111111111111</th>\n      <th>-50.0_15.278481012658228</th>\n      <th>-50.0_15.87719298245614</th>\n      <th>-50.0_17.735294117647058</th>\n      <th>-50.0_17.75</th>\n      <th>-50.0_20.11111111111111</th>\n      <th>-50.0_21.17543859649123</th>\n      <th>-50.0_26.61764705882353</th>\n      <th>-50.0_26.822222222222223</th>\n      <th>-50.0_35.5</th>\n    </tr>\n  </thead>\n  <tbody>\n    <tr>\n      <th>0</th>\n      <td>1</td>\n      <td>0.00</td>\n      <td>0.000000</td>\n      <td>0.000000</td>\n      <td>0.00</td>\n      <td>0.250000</td>\n      <td>0.00</td>\n      <td>0.000000</td>\n      <td>0.000000</td>\n      <td>0.00</td>\n      <td>...</td>\n      <td>0.166667</td>\n      <td>0.166667</td>\n      <td>0.333333</td>\n      <td>0.000000</td>\n      <td>0.000000</td>\n      <td>0.285714</td>\n      <td>0.333333</td>\n      <td>0.333333</td>\n      <td>NaN</td>\n      <td>0.200000</td>\n    </tr>\n    <tr>\n      <th>1</th>\n      <td>2</td>\n      <td>0.00</td>\n      <td>0.000000</td>\n      <td>0.250000</td>\n      <td>0.00</td>\n      <td>0.400000</td>\n      <td>0.00</td>\n      <td>0.000000</td>\n      <td>0.000000</td>\n      <td>0.00</td>\n      <td>...</td>\n      <td>0.000000</td>\n      <td>0.000000</td>\n      <td>0.000000</td>\n      <td>0.250000</td>\n      <td>0.000000</td>\n      <td>0.000000</td>\n      <td>0.000000</td>\n      <td>0.000000</td>\n      <td>0.250000</td>\n      <td>0.400000</td>\n    </tr>\n    <tr>\n      <th>2</th>\n      <td>3</td>\n      <td>0.50</td>\n      <td>0.000000</td>\n      <td>0.200000</td>\n      <td>0.00</td>\n      <td>0.615385</td>\n      <td>0.00</td>\n      <td>0.400000</td>\n      <td>0.636364</td>\n      <td>0.25</td>\n      <td>...</td>\n      <td>0.000000</td>\n      <td>0.700000</td>\n      <td>0.571429</td>\n      <td>0.625000</td>\n      <td>0.666667</td>\n      <td>0.400000</td>\n      <td>0.000000</td>\n      <td>0.545455</td>\n      <td>0.833333</td>\n      <td>0.800000</td>\n    </tr>\n    <tr>\n      <th>3</th>\n      <td>4</td>\n      <td>0.00</td>\n      <td>0.000000</td>\n      <td>0.000000</td>\n      <td>0.00</td>\n      <td>0.500000</td>\n      <td>0.50</td>\n      <td>0.000000</td>\n      <td>0.000000</td>\n      <td>0.00</td>\n      <td>...</td>\n      <td>0.000000</td>\n      <td>0.000000</td>\n      <td>0.400000</td>\n      <td>0.400000</td>\n      <td>0.400000</td>\n      <td>0.000000</td>\n      <td>0.625000</td>\n      <td>0.000000</td>\n      <td>0.571429</td>\n      <td>0.400000</td>\n    </tr>\n    <tr>\n      <th>4</th>\n      <td>5</td>\n      <td>0.00</td>\n      <td>0.000000</td>\n      <td>0.000000</td>\n      <td>0.00</td>\n      <td>0.000000</td>\n      <td>0.00</td>\n      <td>0.000000</td>\n      <td>0.400000</td>\n      <td>0.25</td>\n      <td>...</td>\n      <td>0.000000</td>\n      <td>0.000000</td>\n      <td>0.250000</td>\n      <td>0.000000</td>\n      <td>0.000000</td>\n      <td>0.000000</td>\n      <td>0.250000</td>\n      <td>0.250000</td>\n      <td>0.000000</td>\n      <td>0.500000</td>\n    </tr>\n    <tr>\n      <th>5</th>\n      <td>6</td>\n      <td>0.00</td>\n      <td>0.000000</td>\n      <td>0.333333</td>\n      <td>0.00</td>\n      <td>0.200000</td>\n      <td>0.00</td>\n      <td>0.000000</td>\n      <td>0.333333</td>\n      <td>0.00</td>\n      <td>...</td>\n      <td>0.727273</td>\n      <td>0.666667</td>\n      <td>0.400000</td>\n      <td>0.428571</td>\n      <td>0.428571</td>\n      <td>0.000000</td>\n      <td>0.000000</td>\n      <td>0.250000</td>\n      <td>0.250000</td>\n      <td>0.571429</td>\n    </tr>\n    <tr>\n      <th>6</th>\n      <td>7</td>\n      <td>0.00</td>\n      <td>0.000000</td>\n      <td>0.250000</td>\n      <td>0.00</td>\n      <td>0.500000</td>\n      <td>0.00</td>\n      <td>0.000000</td>\n      <td>0.250000</td>\n      <td>0.25</td>\n      <td>...</td>\n      <td>0.000000</td>\n      <td>0.400000</td>\n      <td>0.250000</td>\n      <td>0.250000</td>\n      <td>0.250000</td>\n      <td>0.500000</td>\n      <td>0.250000</td>\n      <td>0.400000</td>\n      <td>0.571429</td>\n      <td>0.571429</td>\n    </tr>\n    <tr>\n      <th>7</th>\n      <td>8</td>\n      <td>0.00</td>\n      <td>0.000000</td>\n      <td>0.000000</td>\n      <td>0.00</td>\n      <td>0.000000</td>\n      <td>0.00</td>\n      <td>0.000000</td>\n      <td>0.000000</td>\n      <td>0.25</td>\n      <td>...</td>\n      <td>0.000000</td>\n      <td>0.250000</td>\n      <td>0.250000</td>\n      <td>0.000000</td>\n      <td>0.000000</td>\n      <td>0.666667</td>\n      <td>0.250000</td>\n      <td>0.500000</td>\n      <td>0.250000</td>\n      <td>0.000000</td>\n    </tr>\n    <tr>\n      <th>8</th>\n      <td>9</td>\n      <td>0.00</td>\n      <td>0.000000</td>\n      <td>0.000000</td>\n      <td>0.00</td>\n      <td>0.250000</td>\n      <td>0.00</td>\n      <td>0.000000</td>\n      <td>0.000000</td>\n      <td>0.00</td>\n      <td>...</td>\n      <td>0.571429</td>\n      <td>0.250000</td>\n      <td>0.250000</td>\n      <td>0.250000</td>\n      <td>0.000000</td>\n      <td>0.000000</td>\n      <td>0.250000</td>\n      <td>0.500000</td>\n      <td>0.000000</td>\n      <td>0.800000</td>\n    </tr>\n    <tr>\n      <th>9</th>\n      <td>10</td>\n      <td>0.00</td>\n      <td>0.000000</td>\n      <td>0.000000</td>\n      <td>0.00</td>\n      <td>0.000000</td>\n      <td>0.25</td>\n      <td>0.500000</td>\n      <td>0.000000</td>\n      <td>0.00</td>\n      <td>...</td>\n      <td>0.250000</td>\n      <td>0.250000</td>\n      <td>0.400000</td>\n      <td>0.571429</td>\n      <td>0.000000</td>\n      <td>0.700000</td>\n      <td>0.000000</td>\n      <td>0.500000</td>\n      <td>0.400000</td>\n      <td>0.000000</td>\n    </tr>\n    <tr>\n      <th>10</th>\n      <td>11</td>\n      <td>0.00</td>\n      <td>0.000000</td>\n      <td>0.000000</td>\n      <td>0.00</td>\n      <td>0.000000</td>\n      <td>0.00</td>\n      <td>0.000000</td>\n      <td>0.000000</td>\n      <td>0.00</td>\n      <td>...</td>\n      <td>0.250000</td>\n      <td>0.625000</td>\n      <td>0.000000</td>\n      <td>0.500000</td>\n      <td>0.571429</td>\n      <td>0.250000</td>\n      <td>0.250000</td>\n      <td>0.250000</td>\n      <td>0.400000</td>\n      <td>0.625000</td>\n    </tr>\n    <tr>\n      <th>11</th>\n      <td>12</td>\n      <td>0.00</td>\n      <td>0.000000</td>\n      <td>0.250000</td>\n      <td>0.00</td>\n      <td>0.000000</td>\n      <td>0.00</td>\n      <td>0.000000</td>\n      <td>0.400000</td>\n      <td>0.25</td>\n      <td>...</td>\n      <td>0.250000</td>\n      <td>0.500000</td>\n      <td>0.666667</td>\n      <td>0.400000</td>\n      <td>0.000000</td>\n      <td>0.000000</td>\n      <td>0.250000</td>\n      <td>0.625000</td>\n      <td>0.750000</td>\n      <td>0.625000</td>\n    </tr>\n    <tr>\n      <th>12</th>\n      <td>13</td>\n      <td>0.00</td>\n      <td>0.000000</td>\n      <td>0.000000</td>\n      <td>0.00</td>\n      <td>0.000000</td>\n      <td>0.00</td>\n      <td>0.000000</td>\n      <td>0.250000</td>\n      <td>0.00</td>\n      <td>...</td>\n      <td>0.000000</td>\n      <td>0.000000</td>\n      <td>0.500000</td>\n      <td>0.571429</td>\n      <td>0.250000</td>\n      <td>0.400000</td>\n      <td>0.250000</td>\n      <td>0.750000</td>\n      <td>0.000000</td>\n      <td>0.625000</td>\n    </tr>\n    <tr>\n      <th>13</th>\n      <td>14</td>\n      <td>0.00</td>\n      <td>0.250000</td>\n      <td>0.000000</td>\n      <td>0.25</td>\n      <td>0.000000</td>\n      <td>0.00</td>\n      <td>0.000000</td>\n      <td>0.250000</td>\n      <td>0.00</td>\n      <td>...</td>\n      <td>0.000000</td>\n      <td>0.250000</td>\n      <td>0.400000</td>\n      <td>0.625000</td>\n      <td>0.000000</td>\n      <td>0.500000</td>\n      <td>0.000000</td>\n      <td>0.000000</td>\n      <td>0.571429</td>\n      <td>0.769231</td>\n    </tr>\n    <tr>\n      <th>14</th>\n      <td>15</td>\n      <td>0.00</td>\n      <td>0.250000</td>\n      <td>0.250000</td>\n      <td>0.00</td>\n      <td>0.000000</td>\n      <td>0.00</td>\n      <td>0.000000</td>\n      <td>0.250000</td>\n      <td>0.00</td>\n      <td>...</td>\n      <td>0.250000</td>\n      <td>0.250000</td>\n      <td>0.000000</td>\n      <td>0.727273</td>\n      <td>0.000000</td>\n      <td>0.500000</td>\n      <td>0.571429</td>\n      <td>0.500000</td>\n      <td>0.700000</td>\n      <td>0.666667</td>\n    </tr>\n    <tr>\n      <th>15</th>\n      <td>16</td>\n      <td>0.00</td>\n      <td>0.250000</td>\n      <td>0.000000</td>\n      <td>0.25</td>\n      <td>0.250000</td>\n      <td>0.00</td>\n      <td>0.000000</td>\n      <td>0.250000</td>\n      <td>0.25</td>\n      <td>...</td>\n      <td>0.400000</td>\n      <td>0.250000</td>\n      <td>0.400000</td>\n      <td>0.571429</td>\n      <td>0.000000</td>\n      <td>0.250000</td>\n      <td>0.000000</td>\n      <td>0.250000</td>\n      <td>0.000000</td>\n      <td>0.500000</td>\n    </tr>\n    <tr>\n      <th>16</th>\n      <td>17</td>\n      <td>0.00</td>\n      <td>0.000000</td>\n      <td>0.000000</td>\n      <td>0.00</td>\n      <td>0.000000</td>\n      <td>0.25</td>\n      <td>0.000000</td>\n      <td>0.000000</td>\n      <td>0.00</td>\n      <td>...</td>\n      <td>0.250000</td>\n      <td>0.000000</td>\n      <td>0.400000</td>\n      <td>0.250000</td>\n      <td>0.000000</td>\n      <td>0.000000</td>\n      <td>0.000000</td>\n      <td>0.250000</td>\n      <td>0.000000</td>\n      <td>0.400000</td>\n    </tr>\n    <tr>\n      <th>17</th>\n      <td>18</td>\n      <td>0.00</td>\n      <td>0.500000</td>\n      <td>0.400000</td>\n      <td>0.00</td>\n      <td>0.000000</td>\n      <td>0.25</td>\n      <td>0.000000</td>\n      <td>0.333333</td>\n      <td>0.40</td>\n      <td>...</td>\n      <td>0.000000</td>\n      <td>0.250000</td>\n      <td>NaN</td>\n      <td>0.500000</td>\n      <td>0.000000</td>\n      <td>0.636364</td>\n      <td>0.000000</td>\n      <td>NaN</td>\n      <td>0.000000</td>\n      <td>0.666667</td>\n    </tr>\n    <tr>\n      <th>18</th>\n      <td>19</td>\n      <td>0.00</td>\n      <td>0.000000</td>\n      <td>0.000000</td>\n      <td>0.40</td>\n      <td>0.000000</td>\n      <td>0.00</td>\n      <td>0.000000</td>\n      <td>0.250000</td>\n      <td>0.40</td>\n      <td>...</td>\n      <td>0.250000</td>\n      <td>0.000000</td>\n      <td>0.250000</td>\n      <td>0.700000</td>\n      <td>0.250000</td>\n      <td>0.000000</td>\n      <td>0.571429</td>\n      <td>0.000000</td>\n      <td>0.700000</td>\n      <td>0.000000</td>\n    </tr>\n    <tr>\n      <th>19</th>\n      <td>20</td>\n      <td>0.00</td>\n      <td>0.000000</td>\n      <td>0.000000</td>\n      <td>0.00</td>\n      <td>0.000000</td>\n      <td>0.00</td>\n      <td>0.250000</td>\n      <td>0.250000</td>\n      <td>0.00</td>\n      <td>...</td>\n      <td>0.250000</td>\n      <td>0.000000</td>\n      <td>0.400000</td>\n      <td>0.727273</td>\n      <td>0.500000</td>\n      <td>0.400000</td>\n      <td>0.000000</td>\n      <td>0.250000</td>\n      <td>0.625000</td>\n      <td>0.571429</td>\n    </tr>\n    <tr>\n      <th>20</th>\n      <td>21</td>\n      <td>0.00</td>\n      <td>0.000000</td>\n      <td>0.000000</td>\n      <td>0.00</td>\n      <td>0.000000</td>\n      <td>0.25</td>\n      <td>0.500000</td>\n      <td>0.400000</td>\n      <td>0.50</td>\n      <td>...</td>\n      <td>0.000000</td>\n      <td>0.571429</td>\n      <td>0.000000</td>\n      <td>0.400000</td>\n      <td>0.571429</td>\n      <td>0.000000</td>\n      <td>0.000000</td>\n      <td>0.769231</td>\n      <td>0.400000</td>\n      <td>0.666667</td>\n    </tr>\n    <tr>\n      <th>21</th>\n      <td>22</td>\n      <td>0.25</td>\n      <td>0.000000</td>\n      <td>0.000000</td>\n      <td>0.00</td>\n      <td>0.000000</td>\n      <td>0.00</td>\n      <td>0.000000</td>\n      <td>0.000000</td>\n      <td>0.00</td>\n      <td>...</td>\n      <td>0.400000</td>\n      <td>0.250000</td>\n      <td>0.250000</td>\n      <td>0.000000</td>\n      <td>0.250000</td>\n      <td>0.000000</td>\n      <td>0.250000</td>\n      <td>0.500000</td>\n      <td>0.250000</td>\n      <td>0.000000</td>\n    </tr>\n    <tr>\n      <th>22</th>\n      <td>23</td>\n      <td>0.00</td>\n      <td>0.000000</td>\n      <td>0.000000</td>\n      <td>0.00</td>\n      <td>0.000000</td>\n      <td>0.25</td>\n      <td>0.000000</td>\n      <td>0.000000</td>\n      <td>0.25</td>\n      <td>...</td>\n      <td>0.000000</td>\n      <td>0.400000</td>\n      <td>0.000000</td>\n      <td>0.250000</td>\n      <td>0.000000</td>\n      <td>0.000000</td>\n      <td>0.250000</td>\n      <td>0.500000</td>\n      <td>0.625000</td>\n      <td>0.000000</td>\n    </tr>\n    <tr>\n      <th>23</th>\n      <td>24</td>\n      <td>0.00</td>\n      <td>0.250000</td>\n      <td>0.000000</td>\n      <td>0.00</td>\n      <td>0.000000</td>\n      <td>0.00</td>\n      <td>0.000000</td>\n      <td>0.000000</td>\n      <td>0.25</td>\n      <td>...</td>\n      <td>0.000000</td>\n      <td>0.000000</td>\n      <td>0.250000</td>\n      <td>0.250000</td>\n      <td>0.250000</td>\n      <td>0.000000</td>\n      <td>0.400000</td>\n      <td>0.250000</td>\n      <td>0.400000</td>\n      <td>0.875000</td>\n    </tr>\n    <tr>\n      <th>24</th>\n      <td>25</td>\n      <td>0.00</td>\n      <td>0.000000</td>\n      <td>0.000000</td>\n      <td>0.00</td>\n      <td>0.000000</td>\n      <td>0.40</td>\n      <td>0.000000</td>\n      <td>0.000000</td>\n      <td>0.00</td>\n      <td>...</td>\n      <td>0.000000</td>\n      <td>0.500000</td>\n      <td>0.000000</td>\n      <td>0.666667</td>\n      <td>0.250000</td>\n      <td>0.400000</td>\n      <td>0.571429</td>\n      <td>0.571429</td>\n      <td>0.625000</td>\n      <td>0.500000</td>\n    </tr>\n    <tr>\n      <th>25</th>\n      <td>26</td>\n      <td>0.00</td>\n      <td>0.571429</td>\n      <td>0.250000</td>\n      <td>0.40</td>\n      <td>0.400000</td>\n      <td>0.00</td>\n      <td>0.250000</td>\n      <td>0.250000</td>\n      <td>0.00</td>\n      <td>...</td>\n      <td>0.250000</td>\n      <td>0.666667</td>\n      <td>0.000000</td>\n      <td>0.666667</td>\n      <td>0.000000</td>\n      <td>0.785714</td>\n      <td>0.000000</td>\n      <td>0.625000</td>\n      <td>0.000000</td>\n      <td>0.571429</td>\n    </tr>\n    <tr>\n      <th>26</th>\n      <td>27</td>\n      <td>0.00</td>\n      <td>0.250000</td>\n      <td>0.000000</td>\n      <td>0.00</td>\n      <td>0.250000</td>\n      <td>0.00</td>\n      <td>0.250000</td>\n      <td>0.000000</td>\n      <td>0.25</td>\n      <td>...</td>\n      <td>0.000000</td>\n      <td>0.250000</td>\n      <td>0.000000</td>\n      <td>0.000000</td>\n      <td>0.000000</td>\n      <td>0.500000</td>\n      <td>0.666667</td>\n      <td>0.875000</td>\n      <td>0.000000</td>\n      <td>0.727273</td>\n    </tr>\n    <tr>\n      <th>27</th>\n      <td>28</td>\n      <td>0.25</td>\n      <td>0.000000</td>\n      <td>0.000000</td>\n      <td>0.40</td>\n      <td>0.000000</td>\n      <td>0.25</td>\n      <td>0.250000</td>\n      <td>0.000000</td>\n      <td>0.00</td>\n      <td>...</td>\n      <td>0.000000</td>\n      <td>0.250000</td>\n      <td>0.500000</td>\n      <td>0.925000</td>\n      <td>0.400000</td>\n      <td>0.571429</td>\n      <td>0.625000</td>\n      <td>0.000000</td>\n      <td>0.400000</td>\n      <td>0.700000</td>\n    </tr>\n    <tr>\n      <th>28</th>\n      <td>29</td>\n      <td>0.00</td>\n      <td>0.000000</td>\n      <td>0.000000</td>\n      <td>0.00</td>\n      <td>0.000000</td>\n      <td>0.00</td>\n      <td>0.250000</td>\n      <td>0.000000</td>\n      <td>0.40</td>\n      <td>...</td>\n      <td>0.000000</td>\n      <td>0.000000</td>\n      <td>0.769231</td>\n      <td>0.000000</td>\n      <td>0.625000</td>\n      <td>0.500000</td>\n      <td>0.500000</td>\n      <td>0.250000</td>\n      <td>0.400000</td>\n      <td>0.571429</td>\n    </tr>\n    <tr>\n      <th>29</th>\n      <td>30</td>\n      <td>0.00</td>\n      <td>0.000000</td>\n      <td>0.000000</td>\n      <td>0.00</td>\n      <td>0.000000</td>\n      <td>0.00</td>\n      <td>0.250000</td>\n      <td>0.000000</td>\n      <td>0.00</td>\n      <td>...</td>\n      <td>0.571429</td>\n      <td>0.727273</td>\n      <td>0.400000</td>\n      <td>0.000000</td>\n      <td>0.750000</td>\n      <td>0.250000</td>\n      <td>0.250000</td>\n      <td>0.500000</td>\n      <td>0.700000</td>\n      <td>0.000000</td>\n    </tr>\n    <tr>\n      <th>30</th>\n      <td>31</td>\n      <td>0.00</td>\n      <td>0.000000</td>\n      <td>NaN</td>\n      <td>0.00</td>\n      <td>0.500000</td>\n      <td>0.00</td>\n      <td>0.428571</td>\n      <td>0.333333</td>\n      <td>0.20</td>\n      <td>...</td>\n      <td>0.333333</td>\n      <td>0.285714</td>\n      <td>0.200000</td>\n      <td>0.250000</td>\n      <td>0.333333</td>\n      <td>0.250000</td>\n      <td>0.333333</td>\n      <td>0.000000</td>\n      <td>0.600000</td>\n      <td>0.500000</td>\n    </tr>\n  </tbody>\n</table>\n<p>31 rows × 141 columns</p>\n</div>"
     },
     "execution_count": 94,
     "metadata": {},
     "output_type": "execute_result"
    }
   ],
   "source": [
    "error_vs_id_arr = []\n",
    "for curr_id in unique_ids:\n",
    "    curr_part_data = [curr_id]\n",
    "    for curr_lat in unique_latencies:\n",
    "        for curr_diff in unique_difficulties:\n",
    "            curr_part_data.append(error_data[(error_data['part_id'] == curr_id) & (error_data['compensation'] == curr_lat) & (error_data['ID'] == curr_diff)]['MT'].count() / raw_mt_data[(raw_mt_data['part_id'] == curr_id) & (raw_mt_data['compensation'] == curr_lat) & (raw_mt_data['ID'] == curr_diff)]['MT'].count())\n",
    "    error_vs_id_arr.append(curr_part_data)\n",
    "\n",
    "error_vs_id_arr = pd.DataFrame(error_vs_id_arr, columns=('Particpiant', f'{unique_latencies[0]}_{unique_difficulties[0]}', f'{unique_latencies[0]}_{unique_difficulties[1]}', f'{unique_latencies[0]}_{unique_difficulties[2]}', f'{unique_latencies[0]}_{unique_difficulties[3]}', f'{unique_latencies[0]}_{unique_difficulties[4]}', f'{unique_latencies[0]}_{unique_difficulties[5]}', f'{unique_latencies[0]}_{unique_difficulties[6]}', f'{unique_latencies[0]}_{unique_difficulties[7]}', f'{unique_latencies[0]}_{unique_difficulties[8]}', f'{unique_latencies[0]}_{unique_difficulties[9]}', f'{unique_latencies[0]}_{unique_difficulties[10]}', f'{unique_latencies[0]}_{unique_difficulties[11]}', f'{unique_latencies[0]}_{unique_difficulties[12]}', f'{unique_latencies[0]}_{unique_difficulties[13]}', f'{unique_latencies[0]}_{unique_difficulties[14]}', f'{unique_latencies[0]}_{unique_difficulties[15]}', f'{unique_latencies[0]}_{unique_difficulties[16]}', f'{unique_latencies[0]}_{unique_difficulties[17]}', f'{unique_latencies[0]}_{unique_difficulties[18]}', f'{unique_latencies[0]}_{unique_difficulties[19]}', f'{unique_latencies[0]}_{unique_difficulties[20]}', f'{unique_latencies[0]}_{unique_difficulties[21]}', f'{unique_latencies[0]}_{unique_difficulties[22]}', f'{unique_latencies[0]}_{unique_difficulties[23]}', f'{unique_latencies[0]}_{unique_difficulties[24]}', f'{unique_latencies[0]}_{unique_difficulties[25]}', f'{unique_latencies[0]}_{unique_difficulties[26]}', f'{unique_latencies[0]}_{unique_difficulties[27]}', f'{unique_latencies[1]}_{unique_difficulties[0]}', f'{unique_latencies[1]}_{unique_difficulties[1]}', f'{unique_latencies[1]}_{unique_difficulties[2]}', f'{unique_latencies[1]}_{unique_difficulties[3]}', f'{unique_latencies[1]}_{unique_difficulties[4]}', f'{unique_latencies[1]}_{unique_difficulties[5]}', f'{unique_latencies[1]}_{unique_difficulties[6]}', f'{unique_latencies[1]}_{unique_difficulties[7]}', f'{unique_latencies[1]}_{unique_difficulties[8]}', f'{unique_latencies[1]}_{unique_difficulties[9]}', f'{unique_latencies[1]}_{unique_difficulties[10]}', f'{unique_latencies[1]}_{unique_difficulties[11]}', f'{unique_latencies[1]}_{unique_difficulties[12]}', f'{unique_latencies[1]}_{unique_difficulties[13]}', f'{unique_latencies[1]}_{unique_difficulties[14]}', f'{unique_latencies[1]}_{unique_difficulties[15]}', f'{unique_latencies[1]}_{unique_difficulties[16]}', f'{unique_latencies[1]}_{unique_difficulties[17]}', f'{unique_latencies[1]}_{unique_difficulties[18]}', f'{unique_latencies[1]}_{unique_difficulties[19]}', f'{unique_latencies[1]}_{unique_difficulties[20]}', f'{unique_latencies[1]}_{unique_difficulties[21]}', f'{unique_latencies[1]}_{unique_difficulties[22]}', f'{unique_latencies[1]}_{unique_difficulties[23]}', f'{unique_latencies[1]}_{unique_difficulties[24]}', f'{unique_latencies[1]}_{unique_difficulties[25]}', f'{unique_latencies[1]}_{unique_difficulties[26]}', f'{unique_latencies[1]}_{unique_difficulties[27]}', f'{unique_latencies[2]}_{unique_difficulties[0]}', f'{unique_latencies[2]}_{unique_difficulties[1]}', f'{unique_latencies[2]}_{unique_difficulties[2]}', f'{unique_latencies[2]}_{unique_difficulties[3]}', f'{unique_latencies[2]}_{unique_difficulties[4]}', f'{unique_latencies[2]}_{unique_difficulties[5]}', f'{unique_latencies[2]}_{unique_difficulties[6]}', f'{unique_latencies[2]}_{unique_difficulties[7]}', f'{unique_latencies[2]}_{unique_difficulties[8]}', f'{unique_latencies[2]}_{unique_difficulties[9]}', f'{unique_latencies[2]}_{unique_difficulties[10]}', f'{unique_latencies[2]}_{unique_difficulties[11]}', f'{unique_latencies[2]}_{unique_difficulties[12]}', f'{unique_latencies[2]}_{unique_difficulties[13]}', f'{unique_latencies[2]}_{unique_difficulties[14]}', f'{unique_latencies[2]}_{unique_difficulties[15]}', f'{unique_latencies[2]}_{unique_difficulties[16]}', f'{unique_latencies[2]}_{unique_difficulties[17]}', f'{unique_latencies[2]}_{unique_difficulties[18]}', f'{unique_latencies[2]}_{unique_difficulties[19]}', f'{unique_latencies[2]}_{unique_difficulties[20]}', f'{unique_latencies[2]}_{unique_difficulties[21]}', f'{unique_latencies[2]}_{unique_difficulties[22]}', f'{unique_latencies[2]}_{unique_difficulties[23]}', f'{unique_latencies[2]}_{unique_difficulties[24]}', f'{unique_latencies[2]}_{unique_difficulties[25]}', f'{unique_latencies[2]}_{unique_difficulties[26]}', f'{unique_latencies[2]}_{unique_difficulties[27]}', f'{unique_latencies[3]}_{unique_difficulties[0]}', f'{unique_latencies[3]}_{unique_difficulties[1]}', f'{unique_latencies[3]}_{unique_difficulties[2]}', f'{unique_latencies[3]}_{unique_difficulties[3]}', f'{unique_latencies[3]}_{unique_difficulties[4]}', f'{unique_latencies[3]}_{unique_difficulties[5]}', f'{unique_latencies[3]}_{unique_difficulties[6]}', f'{unique_latencies[3]}_{unique_difficulties[7]}', f'{unique_latencies[3]}_{unique_difficulties[8]}', f'{unique_latencies[3]}_{unique_difficulties[9]}', f'{unique_latencies[3]}_{unique_difficulties[10]}', f'{unique_latencies[3]}_{unique_difficulties[11]}', f'{unique_latencies[3]}_{unique_difficulties[12]}', f'{unique_latencies[3]}_{unique_difficulties[13]}', f'{unique_latencies[3]}_{unique_difficulties[14]}', f'{unique_latencies[3]}_{unique_difficulties[15]}', f'{unique_latencies[3]}_{unique_difficulties[16]}', f'{unique_latencies[3]}_{unique_difficulties[17]}', f'{unique_latencies[3]}_{unique_difficulties[18]}', f'{unique_latencies[3]}_{unique_difficulties[19]}', f'{unique_latencies[3]}_{unique_difficulties[20]}', f'{unique_latencies[3]}_{unique_difficulties[21]}', f'{unique_latencies[3]}_{unique_difficulties[22]}', f'{unique_latencies[3]}_{unique_difficulties[23]}', f'{unique_latencies[3]}_{unique_difficulties[24]}', f'{unique_latencies[3]}_{unique_difficulties[25]}', f'{unique_latencies[3]}_{unique_difficulties[26]}', f'{unique_latencies[3]}_{unique_difficulties[27]}', f'{unique_latencies[4]}_{unique_difficulties[0]}', f'{unique_latencies[4]}_{unique_difficulties[1]}', f'{unique_latencies[4]}_{unique_difficulties[2]}', f'{unique_latencies[4]}_{unique_difficulties[3]}', f'{unique_latencies[4]}_{unique_difficulties[4]}', f'{unique_latencies[4]}_{unique_difficulties[5]}', f'{unique_latencies[4]}_{unique_difficulties[6]}', f'{unique_latencies[4]}_{unique_difficulties[7]}', f'{unique_latencies[4]}_{unique_difficulties[8]}', f'{unique_latencies[4]}_{unique_difficulties[9]}', f'{unique_latencies[4]}_{unique_difficulties[10]}', f'{unique_latencies[4]}_{unique_difficulties[11]}', f'{unique_latencies[4]}_{unique_difficulties[12]}', f'{unique_latencies[4]}_{unique_difficulties[13]}', f'{unique_latencies[4]}_{unique_difficulties[14]}', f'{unique_latencies[4]}_{unique_difficulties[15]}', f'{unique_latencies[4]}_{unique_difficulties[16]}', f'{unique_latencies[4]}_{unique_difficulties[17]}', f'{unique_latencies[4]}_{unique_difficulties[18]}', f'{unique_latencies[4]}_{unique_difficulties[19]}', f'{unique_latencies[4]}_{unique_difficulties[20]}', f'{unique_latencies[4]}_{unique_difficulties[21]}', f'{unique_latencies[4]}_{unique_difficulties[22]}', f'{unique_latencies[4]}_{unique_difficulties[23]}', f'{unique_latencies[4]}_{unique_difficulties[24]}', f'{unique_latencies[4]}_{unique_difficulties[25]}', f'{unique_latencies[4]}_{unique_difficulties[26]}', f'{unique_latencies[4]}_{unique_difficulties[27]}'))\n",
    "\n",
    "error_vs_id_arr"
   ],
   "metadata": {
    "collapsed": false,
    "pycharm": {
     "name": "#%%\n"
    }
   }
  },
  {
   "cell_type": "code",
   "execution_count": 95,
   "outputs": [],
   "source": [
    "error_vs_id_arr.to_csv(base_path + '/error_vs_id_and_lat.csv', sep=';')"
   ],
   "metadata": {
    "collapsed": false,
    "pycharm": {
     "name": "#%%\n"
    }
   }
  }
 ],
 "metadata": {
  "kernelspec": {
   "display_name": "Python 3",
   "language": "python",
   "name": "python3"
  },
  "language_info": {
   "codemirror_mode": {
    "name": "ipython",
    "version": 2
   },
   "file_extension": ".py",
   "mimetype": "text/x-python",
   "name": "python",
   "nbconvert_exporter": "python",
   "pygments_lexer": "ipython2",
   "version": "2.7.6"
  }
 },
 "nbformat": 4,
 "nbformat_minor": 0
}