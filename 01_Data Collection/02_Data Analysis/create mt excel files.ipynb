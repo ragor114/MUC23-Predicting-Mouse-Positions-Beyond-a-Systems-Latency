{
 "cells": [
  {
   "cell_type": "code",
   "execution_count": 1,
   "metadata": {
    "collapsed": true,
    "pycharm": {
     "name": "#%%\n"
    }
   },
   "outputs": [],
   "source": [
    "import pandas as pd\n",
    "import os"
   ]
  },
  {
   "cell_type": "code",
   "execution_count": 36,
   "outputs": [
    {
     "data": {
      "text/plain": "'C:\\\\Users\\\\ragor\\\\OneDrive\\\\Dokumente\\\\Bachelorarbeit\\\\BA-Prediction-Beyond-the-Systems-Latency\\\\01_Data Collection\\\\02_Data\\\\MT Analysis\\\\demographic'"
     },
     "execution_count": 36,
     "metadata": {},
     "output_type": "execute_result"
    }
   ],
   "source": [
    "base_path = os.getcwd()\n",
    "base_path"
   ],
   "metadata": {
    "collapsed": false,
    "pycharm": {
     "name": "#%%\n"
    }
   }
  },
  {
   "cell_type": "markdown",
   "source": [
    "# Load Data\n",
    "\n",
    "## Create Dataframe for each MT csv"
   ],
   "metadata": {
    "collapsed": false,
    "pycharm": {
     "name": "#%% md\n"
    }
   }
  },
  {
   "cell_type": "code",
   "execution_count": 2,
   "outputs": [
    {
     "name": "stdout",
     "output_type": "stream",
     "text": [
      "60\n"
     ]
    },
    {
     "data": {
      "text/plain": "    part_id  width  length     MT\n0  12299398     57    1207     -1\n1  12299398     57    1207     -1\n2  12299398     57    1207   7171\n3  12299398     34     905  12359\n4  12299398     23     302     -1",
      "text/html": "<div>\n<style scoped>\n    .dataframe tbody tr th:only-of-type {\n        vertical-align: middle;\n    }\n\n    .dataframe tbody tr th {\n        vertical-align: top;\n    }\n\n    .dataframe thead th {\n        text-align: right;\n    }\n</style>\n<table border=\"1\" class=\"dataframe\">\n  <thead>\n    <tr style=\"text-align: right;\">\n      <th></th>\n      <th>part_id</th>\n      <th>width</th>\n      <th>length</th>\n      <th>MT</th>\n    </tr>\n  </thead>\n  <tbody>\n    <tr>\n      <th>0</th>\n      <td>12299398</td>\n      <td>57</td>\n      <td>1207</td>\n      <td>-1</td>\n    </tr>\n    <tr>\n      <th>1</th>\n      <td>12299398</td>\n      <td>57</td>\n      <td>1207</td>\n      <td>-1</td>\n    </tr>\n    <tr>\n      <th>2</th>\n      <td>12299398</td>\n      <td>57</td>\n      <td>1207</td>\n      <td>7171</td>\n    </tr>\n    <tr>\n      <th>3</th>\n      <td>12299398</td>\n      <td>34</td>\n      <td>905</td>\n      <td>12359</td>\n    </tr>\n    <tr>\n      <th>4</th>\n      <td>12299398</td>\n      <td>23</td>\n      <td>302</td>\n      <td>-1</td>\n    </tr>\n  </tbody>\n</table>\n</div>"
     },
     "execution_count": 2,
     "metadata": {},
     "output_type": "execute_result"
    }
   ],
   "source": [
    "all_data = []\n",
    "if os.getcwd().split(\"\\\\\")[len(os.getcwd().split(\"\\\\\")) - 1] != \"mt_data\":\n",
    "    os.chdir('./mt_data')\n",
    "\n",
    "for f in os.listdir():\n",
    "    part_id = f.split(\"_\")[1].split(\".\")[0]\n",
    "\n",
    "    curr = pd.read_csv(f, sep=\";\")\n",
    "    curr[\"part_id\"] = part_id\n",
    "\n",
    "    curr = curr[['part_id', 'width', 'length', 'MT']]\n",
    "\n",
    "    all_data.append(curr)\n",
    "\n",
    "print(len(all_data))\n",
    "all_data[0].head()"
   ],
   "metadata": {
    "collapsed": false,
    "pycharm": {
     "name": "#%%\n"
    }
   }
  },
  {
   "cell_type": "markdown",
   "source": [
    "# Add demographic data"
   ],
   "metadata": {
    "collapsed": false,
    "pycharm": {
     "name": "#%% md\n"
    }
   }
  },
  {
   "cell_type": "code",
   "execution_count": 3,
   "outputs": [
    {
     "data": {
      "text/plain": "    part_id  width  length     MT   Age Gender  Screen Size in inch  \\\n0  12299398     57    1207     -1  25.0   male                 14.0   \n1  12299398     57    1207     -1  25.0   male                 14.0   \n2  12299398     57    1207   7171  25.0   male                 14.0   \n3  12299398     34     905  12359  25.0   male                 14.0   \n4  12299398     23     302     -1  25.0   male                 14.0   \n\n       Real Res  \n0  1366 x 768px  \n1  1366 x 768px  \n2  1366 x 768px  \n3  1366 x 768px  \n4  1366 x 768px  ",
      "text/html": "<div>\n<style scoped>\n    .dataframe tbody tr th:only-of-type {\n        vertical-align: middle;\n    }\n\n    .dataframe tbody tr th {\n        vertical-align: top;\n    }\n\n    .dataframe thead th {\n        text-align: right;\n    }\n</style>\n<table border=\"1\" class=\"dataframe\">\n  <thead>\n    <tr style=\"text-align: right;\">\n      <th></th>\n      <th>part_id</th>\n      <th>width</th>\n      <th>length</th>\n      <th>MT</th>\n      <th>Age</th>\n      <th>Gender</th>\n      <th>Screen Size in inch</th>\n      <th>Real Res</th>\n    </tr>\n  </thead>\n  <tbody>\n    <tr>\n      <th>0</th>\n      <td>12299398</td>\n      <td>57</td>\n      <td>1207</td>\n      <td>-1</td>\n      <td>25.0</td>\n      <td>male</td>\n      <td>14.0</td>\n      <td>1366 x 768px</td>\n    </tr>\n    <tr>\n      <th>1</th>\n      <td>12299398</td>\n      <td>57</td>\n      <td>1207</td>\n      <td>-1</td>\n      <td>25.0</td>\n      <td>male</td>\n      <td>14.0</td>\n      <td>1366 x 768px</td>\n    </tr>\n    <tr>\n      <th>2</th>\n      <td>12299398</td>\n      <td>57</td>\n      <td>1207</td>\n      <td>7171</td>\n      <td>25.0</td>\n      <td>male</td>\n      <td>14.0</td>\n      <td>1366 x 768px</td>\n    </tr>\n    <tr>\n      <th>3</th>\n      <td>12299398</td>\n      <td>34</td>\n      <td>905</td>\n      <td>12359</td>\n      <td>25.0</td>\n      <td>male</td>\n      <td>14.0</td>\n      <td>1366 x 768px</td>\n    </tr>\n    <tr>\n      <th>4</th>\n      <td>12299398</td>\n      <td>23</td>\n      <td>302</td>\n      <td>-1</td>\n      <td>25.0</td>\n      <td>male</td>\n      <td>14.0</td>\n      <td>1366 x 768px</td>\n    </tr>\n  </tbody>\n</table>\n</div>"
     },
     "execution_count": 3,
     "metadata": {},
     "output_type": "execute_result"
    }
   ],
   "source": [
    "if os.getcwd().split(\"\\\\\")[len(os.getcwd().split(\"\\\\\")) - 1] != \"demographic\":\n",
    "    os.chdir('../demographic')\n",
    "\n",
    "for f in os.listdir():\n",
    "    curr_id = f.split(\"_\")[1].split(\".\")[0]\n",
    "    for i, datapoint in enumerate(all_data):\n",
    "        if datapoint['part_id'][0] == curr_id:\n",
    "            demographic_data = pd.read_csv(f, sep=';')\n",
    "            all_data[i] = pd.concat([datapoint, demographic_data], axis=1)\n",
    "\n",
    "#print(all_data[0].head())\n",
    "\n",
    "for datapoint in all_data:\n",
    "    # print(datapoint['Age'].values[0])\n",
    "    datapoint['Age'] = datapoint['Age'].values[0]\n",
    "    datapoint['Gender'] = datapoint['Gender'].values[0]\n",
    "    datapoint.drop('Screen Resolution', inplace=True, axis=1)\n",
    "    datapoint['Screen Size in inch'] = datapoint['Screen Size in inch'].values[0]\n",
    "    datapoint.drop('Screen Refresh Rate', inplace=True, axis=1)\n",
    "    datapoint.drop('OS', inplace=True,axis=1)\n",
    "    datapoint.drop('Inputdevice', inplace=True,axis=1)\n",
    "    datapoint['Real Res'] = datapoint['Real Res'].values[0]\n",
    "\n",
    "all_data[0].head()"
   ],
   "metadata": {
    "collapsed": false,
    "pycharm": {
     "name": "#%%\n"
    }
   }
  },
  {
   "cell_type": "markdown",
   "source": [
    "## Add ID column"
   ],
   "metadata": {
    "collapsed": false,
    "pycharm": {
     "name": "#%% md\n"
    }
   }
  },
  {
   "cell_type": "code",
   "execution_count": 4,
   "outputs": [
    {
     "data": {
      "text/plain": "      part_id  width  length         ID     MT   Age Gender  \\\n0    12299398     57    1207  21.175439     -1  25.0   male   \n1    12299398     57    1207  21.175439     -1  25.0   male   \n2    12299398     57    1207  21.175439   7171  25.0   male   \n3    12299398     34     905  26.617647  12359  25.0   male   \n4    12299398     23     302  13.130435     -1  25.0   male   \n..        ...    ...     ...        ...    ...   ...    ...   \n202  12299398    102     905   8.872549    768  25.0   male   \n203  12299398     68    1207  17.750000   1834  25.0   male   \n204  12299398     90    1207  13.411111   1468  25.0   male   \n205  12299398     90     302   3.355556    255  25.0   male   \n206  12299398     68    1207  17.750000   1512  25.0   male   \n\n     Screen Size in inch      Real Res  \n0                   14.0  1366 x 768px  \n1                   14.0  1366 x 768px  \n2                   14.0  1366 x 768px  \n3                   14.0  1366 x 768px  \n4                   14.0  1366 x 768px  \n..                   ...           ...  \n202                 14.0  1366 x 768px  \n203                 14.0  1366 x 768px  \n204                 14.0  1366 x 768px  \n205                 14.0  1366 x 768px  \n206                 14.0  1366 x 768px  \n\n[207 rows x 9 columns]",
      "text/html": "<div>\n<style scoped>\n    .dataframe tbody tr th:only-of-type {\n        vertical-align: middle;\n    }\n\n    .dataframe tbody tr th {\n        vertical-align: top;\n    }\n\n    .dataframe thead th {\n        text-align: right;\n    }\n</style>\n<table border=\"1\" class=\"dataframe\">\n  <thead>\n    <tr style=\"text-align: right;\">\n      <th></th>\n      <th>part_id</th>\n      <th>width</th>\n      <th>length</th>\n      <th>ID</th>\n      <th>MT</th>\n      <th>Age</th>\n      <th>Gender</th>\n      <th>Screen Size in inch</th>\n      <th>Real Res</th>\n    </tr>\n  </thead>\n  <tbody>\n    <tr>\n      <th>0</th>\n      <td>12299398</td>\n      <td>57</td>\n      <td>1207</td>\n      <td>21.175439</td>\n      <td>-1</td>\n      <td>25.0</td>\n      <td>male</td>\n      <td>14.0</td>\n      <td>1366 x 768px</td>\n    </tr>\n    <tr>\n      <th>1</th>\n      <td>12299398</td>\n      <td>57</td>\n      <td>1207</td>\n      <td>21.175439</td>\n      <td>-1</td>\n      <td>25.0</td>\n      <td>male</td>\n      <td>14.0</td>\n      <td>1366 x 768px</td>\n    </tr>\n    <tr>\n      <th>2</th>\n      <td>12299398</td>\n      <td>57</td>\n      <td>1207</td>\n      <td>21.175439</td>\n      <td>7171</td>\n      <td>25.0</td>\n      <td>male</td>\n      <td>14.0</td>\n      <td>1366 x 768px</td>\n    </tr>\n    <tr>\n      <th>3</th>\n      <td>12299398</td>\n      <td>34</td>\n      <td>905</td>\n      <td>26.617647</td>\n      <td>12359</td>\n      <td>25.0</td>\n      <td>male</td>\n      <td>14.0</td>\n      <td>1366 x 768px</td>\n    </tr>\n    <tr>\n      <th>4</th>\n      <td>12299398</td>\n      <td>23</td>\n      <td>302</td>\n      <td>13.130435</td>\n      <td>-1</td>\n      <td>25.0</td>\n      <td>male</td>\n      <td>14.0</td>\n      <td>1366 x 768px</td>\n    </tr>\n    <tr>\n      <th>...</th>\n      <td>...</td>\n      <td>...</td>\n      <td>...</td>\n      <td>...</td>\n      <td>...</td>\n      <td>...</td>\n      <td>...</td>\n      <td>...</td>\n      <td>...</td>\n    </tr>\n    <tr>\n      <th>202</th>\n      <td>12299398</td>\n      <td>102</td>\n      <td>905</td>\n      <td>8.872549</td>\n      <td>768</td>\n      <td>25.0</td>\n      <td>male</td>\n      <td>14.0</td>\n      <td>1366 x 768px</td>\n    </tr>\n    <tr>\n      <th>203</th>\n      <td>12299398</td>\n      <td>68</td>\n      <td>1207</td>\n      <td>17.750000</td>\n      <td>1834</td>\n      <td>25.0</td>\n      <td>male</td>\n      <td>14.0</td>\n      <td>1366 x 768px</td>\n    </tr>\n    <tr>\n      <th>204</th>\n      <td>12299398</td>\n      <td>90</td>\n      <td>1207</td>\n      <td>13.411111</td>\n      <td>1468</td>\n      <td>25.0</td>\n      <td>male</td>\n      <td>14.0</td>\n      <td>1366 x 768px</td>\n    </tr>\n    <tr>\n      <th>205</th>\n      <td>12299398</td>\n      <td>90</td>\n      <td>302</td>\n      <td>3.355556</td>\n      <td>255</td>\n      <td>25.0</td>\n      <td>male</td>\n      <td>14.0</td>\n      <td>1366 x 768px</td>\n    </tr>\n    <tr>\n      <th>206</th>\n      <td>12299398</td>\n      <td>68</td>\n      <td>1207</td>\n      <td>17.750000</td>\n      <td>1512</td>\n      <td>25.0</td>\n      <td>male</td>\n      <td>14.0</td>\n      <td>1366 x 768px</td>\n    </tr>\n  </tbody>\n</table>\n<p>207 rows × 9 columns</p>\n</div>"
     },
     "execution_count": 4,
     "metadata": {},
     "output_type": "execute_result"
    }
   ],
   "source": [
    "for datapoint in all_data:\n",
    "    datapoint['ID'] = datapoint['length'] / datapoint['width']\n",
    "\n",
    "sorted_data = []\n",
    "for datapoint in all_data:\n",
    "    curr = datapoint[['part_id', 'width', 'length', 'ID', 'MT', 'Age', 'Gender', 'Screen Size in inch', 'Real Res']]\n",
    "    sorted_data.append(curr)\n",
    "\n",
    "all_data = sorted_data\n",
    "all_data[0]"
   ],
   "metadata": {
    "collapsed": false,
    "pycharm": {
     "name": "#%%\n"
    }
   }
  },
  {
   "cell_type": "markdown",
   "source": [
    "## Add Movement Direction"
   ],
   "metadata": {
    "collapsed": false,
    "pycharm": {
     "name": "#%% md\n"
    }
   }
  },
  {
   "cell_type": "code",
   "execution_count": 5,
   "outputs": [
    {
     "data": {
      "text/plain": "    part_id  width  length         ID     MT   Age Gender  \\\n0  12299398     57    1207  21.175439     -1  25.0   male   \n1  12299398     57    1207  21.175439     -1  25.0   male   \n2  12299398     57    1207  21.175439   7171  25.0   male   \n3  12299398     34     905  26.617647  12359  25.0   male   \n4  12299398     23     302  13.130435     -1  25.0   male   \n\n   Screen Size in inch      Real Res Direction  \n0                 14.0  1366 x 768px       l-r  \n1                 14.0  1366 x 768px       r-l  \n2                 14.0  1366 x 768px       l-r  \n3                 14.0  1366 x 768px       r-l  \n4                 14.0  1366 x 768px       l-r  ",
      "text/html": "<div>\n<style scoped>\n    .dataframe tbody tr th:only-of-type {\n        vertical-align: middle;\n    }\n\n    .dataframe tbody tr th {\n        vertical-align: top;\n    }\n\n    .dataframe thead th {\n        text-align: right;\n    }\n</style>\n<table border=\"1\" class=\"dataframe\">\n  <thead>\n    <tr style=\"text-align: right;\">\n      <th></th>\n      <th>part_id</th>\n      <th>width</th>\n      <th>length</th>\n      <th>ID</th>\n      <th>MT</th>\n      <th>Age</th>\n      <th>Gender</th>\n      <th>Screen Size in inch</th>\n      <th>Real Res</th>\n      <th>Direction</th>\n    </tr>\n  </thead>\n  <tbody>\n    <tr>\n      <th>0</th>\n      <td>12299398</td>\n      <td>57</td>\n      <td>1207</td>\n      <td>21.175439</td>\n      <td>-1</td>\n      <td>25.0</td>\n      <td>male</td>\n      <td>14.0</td>\n      <td>1366 x 768px</td>\n      <td>l-r</td>\n    </tr>\n    <tr>\n      <th>1</th>\n      <td>12299398</td>\n      <td>57</td>\n      <td>1207</td>\n      <td>21.175439</td>\n      <td>-1</td>\n      <td>25.0</td>\n      <td>male</td>\n      <td>14.0</td>\n      <td>1366 x 768px</td>\n      <td>r-l</td>\n    </tr>\n    <tr>\n      <th>2</th>\n      <td>12299398</td>\n      <td>57</td>\n      <td>1207</td>\n      <td>21.175439</td>\n      <td>7171</td>\n      <td>25.0</td>\n      <td>male</td>\n      <td>14.0</td>\n      <td>1366 x 768px</td>\n      <td>l-r</td>\n    </tr>\n    <tr>\n      <th>3</th>\n      <td>12299398</td>\n      <td>34</td>\n      <td>905</td>\n      <td>26.617647</td>\n      <td>12359</td>\n      <td>25.0</td>\n      <td>male</td>\n      <td>14.0</td>\n      <td>1366 x 768px</td>\n      <td>r-l</td>\n    </tr>\n    <tr>\n      <th>4</th>\n      <td>12299398</td>\n      <td>23</td>\n      <td>302</td>\n      <td>13.130435</td>\n      <td>-1</td>\n      <td>25.0</td>\n      <td>male</td>\n      <td>14.0</td>\n      <td>1366 x 768px</td>\n      <td>l-r</td>\n    </tr>\n  </tbody>\n</table>\n</div>"
     },
     "execution_count": 5,
     "metadata": {},
     "output_type": "execute_result"
    }
   ],
   "source": [
    "for datapoint in all_data:\n",
    "    sequence = []\n",
    "    for index, row in datapoint.iterrows():\n",
    "        # print(row)\n",
    "        if index % 2 == 0:\n",
    "            sequence.append('l-r')\n",
    "        else:\n",
    "            sequence.append('r-l')\n",
    "    #print(sequence)\n",
    "    datapoint['Direction'] = sequence\n",
    "\n",
    "all_data[0].head()"
   ],
   "metadata": {
    "collapsed": false,
    "pycharm": {
     "name": "#%%\n"
    }
   }
  },
  {
   "cell_type": "markdown",
   "source": [
    "# Add Display diagonal"
   ],
   "metadata": {
    "collapsed": false,
    "pycharm": {
     "name": "#%% md\n"
    }
   }
  },
  {
   "cell_type": "code",
   "execution_count": 7,
   "outputs": [],
   "source": [
    "import math"
   ],
   "metadata": {
    "collapsed": false,
    "pycharm": {
     "name": "#%%\n"
    }
   }
  },
  {
   "cell_type": "code",
   "execution_count": 8,
   "outputs": [
    {
     "data": {
      "text/plain": "      part_id  width  length         ID     MT   Age Gender  \\\n0    12299398     57    1207  21.175439     -1  25.0   male   \n1    12299398     57    1207  21.175439     -1  25.0   male   \n2    12299398     57    1207  21.175439   7171  25.0   male   \n3    12299398     34     905  26.617647  12359  25.0   male   \n4    12299398     23     302  13.130435     -1  25.0   male   \n..        ...    ...     ...        ...    ...   ...    ...   \n202  12299398    102     905   8.872549    768  25.0   male   \n203  12299398     68    1207  17.750000   1834  25.0   male   \n204  12299398     90    1207  13.411111   1468  25.0   male   \n205  12299398     90     302   3.355556    255  25.0   male   \n206  12299398     68    1207  17.750000   1512  25.0   male   \n\n     Screen Size in inch      Real Res Direction  display diagonal  \n0                   14.0  1366 x 768px       l-r        1567.09285  \n1                   14.0  1366 x 768px       r-l        1567.09285  \n2                   14.0  1366 x 768px       l-r        1567.09285  \n3                   14.0  1366 x 768px       r-l        1567.09285  \n4                   14.0  1366 x 768px       l-r        1567.09285  \n..                   ...           ...       ...               ...  \n202                 14.0  1366 x 768px       l-r        1567.09285  \n203                 14.0  1366 x 768px       r-l        1567.09285  \n204                 14.0  1366 x 768px       l-r        1567.09285  \n205                 14.0  1366 x 768px       r-l        1567.09285  \n206                 14.0  1366 x 768px       l-r        1567.09285  \n\n[207 rows x 11 columns]",
      "text/html": "<div>\n<style scoped>\n    .dataframe tbody tr th:only-of-type {\n        vertical-align: middle;\n    }\n\n    .dataframe tbody tr th {\n        vertical-align: top;\n    }\n\n    .dataframe thead th {\n        text-align: right;\n    }\n</style>\n<table border=\"1\" class=\"dataframe\">\n  <thead>\n    <tr style=\"text-align: right;\">\n      <th></th>\n      <th>part_id</th>\n      <th>width</th>\n      <th>length</th>\n      <th>ID</th>\n      <th>MT</th>\n      <th>Age</th>\n      <th>Gender</th>\n      <th>Screen Size in inch</th>\n      <th>Real Res</th>\n      <th>Direction</th>\n      <th>display diagonal</th>\n    </tr>\n  </thead>\n  <tbody>\n    <tr>\n      <th>0</th>\n      <td>12299398</td>\n      <td>57</td>\n      <td>1207</td>\n      <td>21.175439</td>\n      <td>-1</td>\n      <td>25.0</td>\n      <td>male</td>\n      <td>14.0</td>\n      <td>1366 x 768px</td>\n      <td>l-r</td>\n      <td>1567.09285</td>\n    </tr>\n    <tr>\n      <th>1</th>\n      <td>12299398</td>\n      <td>57</td>\n      <td>1207</td>\n      <td>21.175439</td>\n      <td>-1</td>\n      <td>25.0</td>\n      <td>male</td>\n      <td>14.0</td>\n      <td>1366 x 768px</td>\n      <td>r-l</td>\n      <td>1567.09285</td>\n    </tr>\n    <tr>\n      <th>2</th>\n      <td>12299398</td>\n      <td>57</td>\n      <td>1207</td>\n      <td>21.175439</td>\n      <td>7171</td>\n      <td>25.0</td>\n      <td>male</td>\n      <td>14.0</td>\n      <td>1366 x 768px</td>\n      <td>l-r</td>\n      <td>1567.09285</td>\n    </tr>\n    <tr>\n      <th>3</th>\n      <td>12299398</td>\n      <td>34</td>\n      <td>905</td>\n      <td>26.617647</td>\n      <td>12359</td>\n      <td>25.0</td>\n      <td>male</td>\n      <td>14.0</td>\n      <td>1366 x 768px</td>\n      <td>r-l</td>\n      <td>1567.09285</td>\n    </tr>\n    <tr>\n      <th>4</th>\n      <td>12299398</td>\n      <td>23</td>\n      <td>302</td>\n      <td>13.130435</td>\n      <td>-1</td>\n      <td>25.0</td>\n      <td>male</td>\n      <td>14.0</td>\n      <td>1366 x 768px</td>\n      <td>l-r</td>\n      <td>1567.09285</td>\n    </tr>\n    <tr>\n      <th>...</th>\n      <td>...</td>\n      <td>...</td>\n      <td>...</td>\n      <td>...</td>\n      <td>...</td>\n      <td>...</td>\n      <td>...</td>\n      <td>...</td>\n      <td>...</td>\n      <td>...</td>\n      <td>...</td>\n    </tr>\n    <tr>\n      <th>202</th>\n      <td>12299398</td>\n      <td>102</td>\n      <td>905</td>\n      <td>8.872549</td>\n      <td>768</td>\n      <td>25.0</td>\n      <td>male</td>\n      <td>14.0</td>\n      <td>1366 x 768px</td>\n      <td>l-r</td>\n      <td>1567.09285</td>\n    </tr>\n    <tr>\n      <th>203</th>\n      <td>12299398</td>\n      <td>68</td>\n      <td>1207</td>\n      <td>17.750000</td>\n      <td>1834</td>\n      <td>25.0</td>\n      <td>male</td>\n      <td>14.0</td>\n      <td>1366 x 768px</td>\n      <td>r-l</td>\n      <td>1567.09285</td>\n    </tr>\n    <tr>\n      <th>204</th>\n      <td>12299398</td>\n      <td>90</td>\n      <td>1207</td>\n      <td>13.411111</td>\n      <td>1468</td>\n      <td>25.0</td>\n      <td>male</td>\n      <td>14.0</td>\n      <td>1366 x 768px</td>\n      <td>l-r</td>\n      <td>1567.09285</td>\n    </tr>\n    <tr>\n      <th>205</th>\n      <td>12299398</td>\n      <td>90</td>\n      <td>302</td>\n      <td>3.355556</td>\n      <td>255</td>\n      <td>25.0</td>\n      <td>male</td>\n      <td>14.0</td>\n      <td>1366 x 768px</td>\n      <td>r-l</td>\n      <td>1567.09285</td>\n    </tr>\n    <tr>\n      <th>206</th>\n      <td>12299398</td>\n      <td>68</td>\n      <td>1207</td>\n      <td>17.750000</td>\n      <td>1512</td>\n      <td>25.0</td>\n      <td>male</td>\n      <td>14.0</td>\n      <td>1366 x 768px</td>\n      <td>l-r</td>\n      <td>1567.09285</td>\n    </tr>\n  </tbody>\n</table>\n<p>207 rows × 11 columns</p>\n</div>"
     },
     "execution_count": 8,
     "metadata": {},
     "output_type": "execute_result"
    }
   ],
   "source": [
    "def get_diagonal(x):\n",
    "    displayX = int(x.split(' x ')[0].replace('px', ''))\n",
    "    displayY = int(x.split(' x ')[1].replace('px', ''))\n",
    "    return math.sqrt(math.pow(displayX, 2) + math.pow(displayY, 2))\n",
    "\n",
    "for datapoint in all_data:\n",
    "    diagonal = [get_diagonal(x) for x in datapoint['Real Res']]\n",
    "    datapoint['display diagonal'] = diagonal\n",
    "\n",
    "all_data[0]"
   ],
   "metadata": {
    "collapsed": false,
    "pycharm": {
     "name": "#%%\n"
    }
   }
  },
  {
   "cell_type": "markdown",
   "source": [
    "# Prepare MT Analysis Excel\n",
    "\n",
    "One dataframe/file for all participants, one row per trial, Errortrials are removed."
   ],
   "metadata": {
    "collapsed": false,
    "pycharm": {
     "name": "#%% md\n"
    }
   }
  },
  {
   "cell_type": "markdown",
   "source": [
    "## Combine dataframes"
   ],
   "metadata": {
    "collapsed": false,
    "pycharm": {
     "name": "#%% md\n"
    }
   }
  },
  {
   "cell_type": "code",
   "execution_count": 9,
   "outputs": [],
   "source": [
    "import copy"
   ],
   "metadata": {
    "collapsed": false,
    "pycharm": {
     "name": "#%%\n"
    }
   }
  },
  {
   "cell_type": "code",
   "execution_count": 10,
   "outputs": [
    {
     "data": {
      "text/plain": "      part_id  width  length         ID     MT   Age  Gender  \\\n0    12299398     57    1207  21.175439     -1  25.0    male   \n1    12299398     57    1207  21.175439     -1  25.0    male   \n2    12299398     57    1207  21.175439   7171  25.0    male   \n3    12299398     34     905  26.617647  12359  25.0    male   \n4    12299398     23     302  13.130435     -1  25.0    male   \n..        ...    ...     ...        ...    ...   ...     ...   \n229  99307457     23     302  13.130435     -1  23.0  female   \n230  99307457     23     302  13.130435     -1  23.0  female   \n231  99307457     23     302  13.130435   5061  23.0  female   \n232  99307457     23     302  13.130435   4436  23.0  female   \n233  99307457    102     603   5.911765    406  23.0  female   \n\n     Screen Size in inch      Real Res Direction  display diagonal  \n0                   14.0  1366 x 768px       l-r        1567.09285  \n1                   14.0  1366 x 768px       r-l        1567.09285  \n2                   14.0  1366 x 768px       l-r        1567.09285  \n3                   14.0  1366 x 768px       r-l        1567.09285  \n4                   14.0  1366 x 768px       l-r        1567.09285  \n..                   ...           ...       ...               ...  \n229                 26.0  1366 x 768px       r-l        1567.09285  \n230                 26.0  1366 x 768px       l-r        1567.09285  \n231                 26.0  1366 x 768px       r-l        1567.09285  \n232                 26.0  1366 x 768px       l-r        1567.09285  \n233                 26.0  1366 x 768px       r-l        1567.09285  \n\n[12652 rows x 11 columns]",
      "text/html": "<div>\n<style scoped>\n    .dataframe tbody tr th:only-of-type {\n        vertical-align: middle;\n    }\n\n    .dataframe tbody tr th {\n        vertical-align: top;\n    }\n\n    .dataframe thead th {\n        text-align: right;\n    }\n</style>\n<table border=\"1\" class=\"dataframe\">\n  <thead>\n    <tr style=\"text-align: right;\">\n      <th></th>\n      <th>part_id</th>\n      <th>width</th>\n      <th>length</th>\n      <th>ID</th>\n      <th>MT</th>\n      <th>Age</th>\n      <th>Gender</th>\n      <th>Screen Size in inch</th>\n      <th>Real Res</th>\n      <th>Direction</th>\n      <th>display diagonal</th>\n    </tr>\n  </thead>\n  <tbody>\n    <tr>\n      <th>0</th>\n      <td>12299398</td>\n      <td>57</td>\n      <td>1207</td>\n      <td>21.175439</td>\n      <td>-1</td>\n      <td>25.0</td>\n      <td>male</td>\n      <td>14.0</td>\n      <td>1366 x 768px</td>\n      <td>l-r</td>\n      <td>1567.09285</td>\n    </tr>\n    <tr>\n      <th>1</th>\n      <td>12299398</td>\n      <td>57</td>\n      <td>1207</td>\n      <td>21.175439</td>\n      <td>-1</td>\n      <td>25.0</td>\n      <td>male</td>\n      <td>14.0</td>\n      <td>1366 x 768px</td>\n      <td>r-l</td>\n      <td>1567.09285</td>\n    </tr>\n    <tr>\n      <th>2</th>\n      <td>12299398</td>\n      <td>57</td>\n      <td>1207</td>\n      <td>21.175439</td>\n      <td>7171</td>\n      <td>25.0</td>\n      <td>male</td>\n      <td>14.0</td>\n      <td>1366 x 768px</td>\n      <td>l-r</td>\n      <td>1567.09285</td>\n    </tr>\n    <tr>\n      <th>3</th>\n      <td>12299398</td>\n      <td>34</td>\n      <td>905</td>\n      <td>26.617647</td>\n      <td>12359</td>\n      <td>25.0</td>\n      <td>male</td>\n      <td>14.0</td>\n      <td>1366 x 768px</td>\n      <td>r-l</td>\n      <td>1567.09285</td>\n    </tr>\n    <tr>\n      <th>4</th>\n      <td>12299398</td>\n      <td>23</td>\n      <td>302</td>\n      <td>13.130435</td>\n      <td>-1</td>\n      <td>25.0</td>\n      <td>male</td>\n      <td>14.0</td>\n      <td>1366 x 768px</td>\n      <td>l-r</td>\n      <td>1567.09285</td>\n    </tr>\n    <tr>\n      <th>...</th>\n      <td>...</td>\n      <td>...</td>\n      <td>...</td>\n      <td>...</td>\n      <td>...</td>\n      <td>...</td>\n      <td>...</td>\n      <td>...</td>\n      <td>...</td>\n      <td>...</td>\n      <td>...</td>\n    </tr>\n    <tr>\n      <th>229</th>\n      <td>99307457</td>\n      <td>23</td>\n      <td>302</td>\n      <td>13.130435</td>\n      <td>-1</td>\n      <td>23.0</td>\n      <td>female</td>\n      <td>26.0</td>\n      <td>1366 x 768px</td>\n      <td>r-l</td>\n      <td>1567.09285</td>\n    </tr>\n    <tr>\n      <th>230</th>\n      <td>99307457</td>\n      <td>23</td>\n      <td>302</td>\n      <td>13.130435</td>\n      <td>-1</td>\n      <td>23.0</td>\n      <td>female</td>\n      <td>26.0</td>\n      <td>1366 x 768px</td>\n      <td>l-r</td>\n      <td>1567.09285</td>\n    </tr>\n    <tr>\n      <th>231</th>\n      <td>99307457</td>\n      <td>23</td>\n      <td>302</td>\n      <td>13.130435</td>\n      <td>5061</td>\n      <td>23.0</td>\n      <td>female</td>\n      <td>26.0</td>\n      <td>1366 x 768px</td>\n      <td>r-l</td>\n      <td>1567.09285</td>\n    </tr>\n    <tr>\n      <th>232</th>\n      <td>99307457</td>\n      <td>23</td>\n      <td>302</td>\n      <td>13.130435</td>\n      <td>4436</td>\n      <td>23.0</td>\n      <td>female</td>\n      <td>26.0</td>\n      <td>1366 x 768px</td>\n      <td>l-r</td>\n      <td>1567.09285</td>\n    </tr>\n    <tr>\n      <th>233</th>\n      <td>99307457</td>\n      <td>102</td>\n      <td>603</td>\n      <td>5.911765</td>\n      <td>406</td>\n      <td>23.0</td>\n      <td>female</td>\n      <td>26.0</td>\n      <td>1366 x 768px</td>\n      <td>r-l</td>\n      <td>1567.09285</td>\n    </tr>\n  </tbody>\n</table>\n<p>12652 rows × 11 columns</p>\n</div>"
     },
     "execution_count": 10,
     "metadata": {},
     "output_type": "execute_result"
    }
   ],
   "source": [
    "frames = []\n",
    "\n",
    "for datapoint in all_data:\n",
    "    curr = copy.deepcopy(datapoint)\n",
    "    frames.append(curr)\n",
    "\n",
    "combined = pd.concat(frames)\n",
    "\n",
    "combined"
   ],
   "metadata": {
    "collapsed": false,
    "pycharm": {
     "name": "#%%\n"
    }
   }
  },
  {
   "cell_type": "markdown",
   "source": [
    "## Table 1: ID vs MT"
   ],
   "metadata": {
    "collapsed": false,
    "pycharm": {
     "name": "#%% md\n"
    }
   }
  },
  {
   "cell_type": "code",
   "execution_count": 25,
   "outputs": [
    {
     "data": {
      "text/plain": "array(['12299398', '14239653', '15065059', '17722961', '17978640',\n       '17985804', '19330011', '20073570', '21245612', '2183014',\n       '23977713', '26401324', '26712442', '26886273', '27867816',\n       '28184233', '28315891', '28725313', '2881314', '30669565',\n       '31136533', '31256077', '33744500', '33848466', '34198438',\n       '34547995', '39618267', '40159356', '41096354', '44264673',\n       '47459713', '50393653', '50400149', '50866194', '54567679',\n       '58472494', '60997059', '66283818', '70165854', '70882663',\n       '71686964', '72852612', '73406414', '73616785', '76584802',\n       '77439901', '82493269', '82493972', '82656133', '84736176',\n       '86821191', '88009054', '88319338', '89184070', '89532417',\n       '94667625', '95528384', '97962051', '98975745', '99307457'],\n      dtype=object)"
     },
     "execution_count": 25,
     "metadata": {},
     "output_type": "execute_result"
    }
   ],
   "source": [
    "individual_part_ids = combined['part_id'].unique()\n",
    "individual_part_ids"
   ],
   "metadata": {
    "collapsed": false,
    "pycharm": {
     "name": "#%%\n"
    }
   }
  },
  {
   "cell_type": "code",
   "execution_count": 26,
   "outputs": [
    {
     "data": {
      "text/plain": "array([21.1754386 , 26.61764706, 13.13043478,  6.71111111,  3.82278481,\n        7.63291139, 10.05555556,  2.96078431, 17.75      , 11.83333333,\n       52.47826087, 13.4       , 11.4556962 ,  8.86764706, 15.27848101,\n       35.5       , 20.11111111,  8.88235294, 15.87719298,  8.87254902,\n        4.44117647, 13.30882353,  6.7       , 39.34782609, 10.57894737,\n       17.73529412, 26.82222222, 13.41111111,  3.35555556, 26.2173913 ,\n        5.91176471,  5.29824561])"
     },
     "execution_count": 26,
     "metadata": {},
     "output_type": "execute_result"
    }
   ],
   "source": [
    "individual_ids = combined['ID'].unique()\n",
    "individual_ids"
   ],
   "metadata": {
    "collapsed": false,
    "pycharm": {
     "name": "#%%\n"
    }
   }
  },
  {
   "cell_type": "code",
   "execution_count": 16,
   "outputs": [
    {
     "data": {
      "text/plain": "       part_id         ID      MT\n0     12299398  21.175439  5207.4\n1     12299398  26.617647  5434.2\n2     12299398  13.130435  2842.4\n3     12299398   6.711111   894.4\n4     12299398   3.822785   372.2\n...        ...        ...     ...\n1915  99307457  13.411111   763.2\n1916  99307457   3.355556   137.8\n1917  99307457  26.217391  5150.2\n1918  99307457   5.911765   293.6\n1919  99307457   5.298246   274.8\n\n[1920 rows x 3 columns]",
      "text/html": "<div>\n<style scoped>\n    .dataframe tbody tr th:only-of-type {\n        vertical-align: middle;\n    }\n\n    .dataframe tbody tr th {\n        vertical-align: top;\n    }\n\n    .dataframe thead th {\n        text-align: right;\n    }\n</style>\n<table border=\"1\" class=\"dataframe\">\n  <thead>\n    <tr style=\"text-align: right;\">\n      <th></th>\n      <th>part_id</th>\n      <th>ID</th>\n      <th>MT</th>\n    </tr>\n  </thead>\n  <tbody>\n    <tr>\n      <th>0</th>\n      <td>12299398</td>\n      <td>21.175439</td>\n      <td>5207.4</td>\n    </tr>\n    <tr>\n      <th>1</th>\n      <td>12299398</td>\n      <td>26.617647</td>\n      <td>5434.2</td>\n    </tr>\n    <tr>\n      <th>2</th>\n      <td>12299398</td>\n      <td>13.130435</td>\n      <td>2842.4</td>\n    </tr>\n    <tr>\n      <th>3</th>\n      <td>12299398</td>\n      <td>6.711111</td>\n      <td>894.4</td>\n    </tr>\n    <tr>\n      <th>4</th>\n      <td>12299398</td>\n      <td>3.822785</td>\n      <td>372.2</td>\n    </tr>\n    <tr>\n      <th>...</th>\n      <td>...</td>\n      <td>...</td>\n      <td>...</td>\n    </tr>\n    <tr>\n      <th>1915</th>\n      <td>99307457</td>\n      <td>13.411111</td>\n      <td>763.2</td>\n    </tr>\n    <tr>\n      <th>1916</th>\n      <td>99307457</td>\n      <td>3.355556</td>\n      <td>137.8</td>\n    </tr>\n    <tr>\n      <th>1917</th>\n      <td>99307457</td>\n      <td>26.217391</td>\n      <td>5150.2</td>\n    </tr>\n    <tr>\n      <th>1918</th>\n      <td>99307457</td>\n      <td>5.911765</td>\n      <td>293.6</td>\n    </tr>\n    <tr>\n      <th>1919</th>\n      <td>99307457</td>\n      <td>5.298246</td>\n      <td>274.8</td>\n    </tr>\n  </tbody>\n</table>\n<p>1920 rows × 3 columns</p>\n</div>"
     },
     "execution_count": 16,
     "metadata": {},
     "output_type": "execute_result"
    }
   ],
   "source": [
    "id_v_mt = copy.deepcopy(combined)\n",
    "id_v_mt = id_v_mt[id_v_mt['MT'] != -1]\n",
    "id_v_mt.drop(['width', 'length', 'Age', 'Gender', 'Screen Size in inch', 'Real Res', 'Direction', 'display diagonal'], inplace=True, axis=1)\n",
    "\n",
    "arr = []\n",
    "for pid in individual_part_ids:\n",
    "    for diff in individual_ids:\n",
    "        mt_per_id = id_v_mt[(id_v_mt['part_id'] == pid) & (id_v_mt['ID'] == diff)]['MT'].mean()\n",
    "        arr.append([pid, diff, mt_per_id])\n",
    "\n",
    "id_v_mt = pd.DataFrame(arr, columns=('part_id', 'ID', 'MT'))\n",
    "id_v_mt"
   ],
   "metadata": {
    "collapsed": false,
    "pycharm": {
     "name": "#%%\n"
    }
   }
  },
  {
   "cell_type": "code",
   "execution_count": null,
   "outputs": [],
   "source": [],
   "metadata": {
    "collapsed": false,
    "pycharm": {
     "name": "#%%\n"
    }
   }
  },
  {
   "cell_type": "markdown",
   "source": [
    "## Table 2: ID vs Errorrate"
   ],
   "metadata": {
    "collapsed": false,
    "pycharm": {
     "name": "#%% md\n"
    }
   }
  },
  {
   "cell_type": "code",
   "execution_count": 17,
   "outputs": [
    {
     "data": {
      "text/plain": "3"
     },
     "execution_count": 17,
     "metadata": {},
     "output_type": "execute_result"
    }
   ],
   "source": [
    "error_trials = combined[(combined['part_id'] == individual_part_ids[0]) & (combined['MT'] == -1)]\n",
    "error_trials[error_trials['ID'] == individual_ids[15]]['MT'].count()"
   ],
   "metadata": {
    "collapsed": false,
    "pycharm": {
     "name": "#%%\n"
    }
   }
  },
  {
   "cell_type": "code",
   "execution_count": 23,
   "outputs": [
    {
     "data": {
      "text/plain": "    part_id  width  length         ID     MT   Age Gender  \\\n0  12299398     57    1207  21.175439     -1  25.0   male   \n1  12299398     57    1207  21.175439     -1  25.0   male   \n2  12299398     57    1207  21.175439   7171  25.0   male   \n3  12299398     34     905  26.617647  12359  25.0   male   \n4  12299398     23     302  13.130435     -1  25.0   male   \n\n   Screen Size in inch      Real Res Direction  display diagonal  \n0                 14.0  1366 x 768px       l-r        1567.09285  \n1                 14.0  1366 x 768px       r-l        1567.09285  \n2                 14.0  1366 x 768px       l-r        1567.09285  \n3                 14.0  1366 x 768px       r-l        1567.09285  \n4                 14.0  1366 x 768px       l-r        1567.09285  ",
      "text/html": "<div>\n<style scoped>\n    .dataframe tbody tr th:only-of-type {\n        vertical-align: middle;\n    }\n\n    .dataframe tbody tr th {\n        vertical-align: top;\n    }\n\n    .dataframe thead th {\n        text-align: right;\n    }\n</style>\n<table border=\"1\" class=\"dataframe\">\n  <thead>\n    <tr style=\"text-align: right;\">\n      <th></th>\n      <th>part_id</th>\n      <th>width</th>\n      <th>length</th>\n      <th>ID</th>\n      <th>MT</th>\n      <th>Age</th>\n      <th>Gender</th>\n      <th>Screen Size in inch</th>\n      <th>Real Res</th>\n      <th>Direction</th>\n      <th>display diagonal</th>\n    </tr>\n  </thead>\n  <tbody>\n    <tr>\n      <th>0</th>\n      <td>12299398</td>\n      <td>57</td>\n      <td>1207</td>\n      <td>21.175439</td>\n      <td>-1</td>\n      <td>25.0</td>\n      <td>male</td>\n      <td>14.0</td>\n      <td>1366 x 768px</td>\n      <td>l-r</td>\n      <td>1567.09285</td>\n    </tr>\n    <tr>\n      <th>1</th>\n      <td>12299398</td>\n      <td>57</td>\n      <td>1207</td>\n      <td>21.175439</td>\n      <td>-1</td>\n      <td>25.0</td>\n      <td>male</td>\n      <td>14.0</td>\n      <td>1366 x 768px</td>\n      <td>r-l</td>\n      <td>1567.09285</td>\n    </tr>\n    <tr>\n      <th>2</th>\n      <td>12299398</td>\n      <td>57</td>\n      <td>1207</td>\n      <td>21.175439</td>\n      <td>7171</td>\n      <td>25.0</td>\n      <td>male</td>\n      <td>14.0</td>\n      <td>1366 x 768px</td>\n      <td>l-r</td>\n      <td>1567.09285</td>\n    </tr>\n    <tr>\n      <th>3</th>\n      <td>12299398</td>\n      <td>34</td>\n      <td>905</td>\n      <td>26.617647</td>\n      <td>12359</td>\n      <td>25.0</td>\n      <td>male</td>\n      <td>14.0</td>\n      <td>1366 x 768px</td>\n      <td>r-l</td>\n      <td>1567.09285</td>\n    </tr>\n    <tr>\n      <th>4</th>\n      <td>12299398</td>\n      <td>23</td>\n      <td>302</td>\n      <td>13.130435</td>\n      <td>-1</td>\n      <td>25.0</td>\n      <td>male</td>\n      <td>14.0</td>\n      <td>1366 x 768px</td>\n      <td>l-r</td>\n      <td>1567.09285</td>\n    </tr>\n  </tbody>\n</table>\n</div>"
     },
     "execution_count": 23,
     "metadata": {},
     "output_type": "execute_result"
    }
   ],
   "source": [
    "combined.head()"
   ],
   "metadata": {
    "collapsed": false,
    "pycharm": {
     "name": "#%%\n"
    }
   }
  },
  {
   "cell_type": "code",
   "execution_count": 28,
   "outputs": [],
   "source": [
    "arr = []\n",
    "for i in range(individual_part_ids.shape[0]):\n",
    "    error_trials = combined[(combined['part_id'] == individual_part_ids[i]) & (combined['MT'] == -1)]\n",
    "    for j in range(individual_ids.shape[0]):\n",
    "        errors = error_trials[error_trials['ID'] == individual_ids[j]]['MT'].count() / combined[(combined['part_id'] == individual_part_ids[i]) & (combined['ID'] == individual_ids[j])]['MT'].count()\n",
    "        arr.append([individual_part_ids[i], individual_ids[j], errors])"
   ],
   "metadata": {
    "collapsed": false,
    "pycharm": {
     "name": "#%%\n"
    }
   }
  },
  {
   "cell_type": "code",
   "execution_count": 30,
   "outputs": [
    {
     "data": {
      "text/plain": "       part_id         ID  Error Rate\n0     12299398  21.175439    0.375000\n1     12299398  26.617647    0.166667\n2     12299398  13.130435    0.545455\n3     12299398   6.711111    0.166667\n4     12299398   3.822785    0.000000\n...        ...        ...         ...\n1915  99307457  13.411111    0.000000\n1916  99307457   3.355556    0.166667\n1917  99307457  26.217391    0.375000\n1918  99307457   5.911765    0.000000\n1919  99307457   5.298246    0.000000\n\n[1920 rows x 3 columns]",
      "text/html": "<div>\n<style scoped>\n    .dataframe tbody tr th:only-of-type {\n        vertical-align: middle;\n    }\n\n    .dataframe tbody tr th {\n        vertical-align: top;\n    }\n\n    .dataframe thead th {\n        text-align: right;\n    }\n</style>\n<table border=\"1\" class=\"dataframe\">\n  <thead>\n    <tr style=\"text-align: right;\">\n      <th></th>\n      <th>part_id</th>\n      <th>ID</th>\n      <th>Error Rate</th>\n    </tr>\n  </thead>\n  <tbody>\n    <tr>\n      <th>0</th>\n      <td>12299398</td>\n      <td>21.175439</td>\n      <td>0.375000</td>\n    </tr>\n    <tr>\n      <th>1</th>\n      <td>12299398</td>\n      <td>26.617647</td>\n      <td>0.166667</td>\n    </tr>\n    <tr>\n      <th>2</th>\n      <td>12299398</td>\n      <td>13.130435</td>\n      <td>0.545455</td>\n    </tr>\n    <tr>\n      <th>3</th>\n      <td>12299398</td>\n      <td>6.711111</td>\n      <td>0.166667</td>\n    </tr>\n    <tr>\n      <th>4</th>\n      <td>12299398</td>\n      <td>3.822785</td>\n      <td>0.000000</td>\n    </tr>\n    <tr>\n      <th>...</th>\n      <td>...</td>\n      <td>...</td>\n      <td>...</td>\n    </tr>\n    <tr>\n      <th>1915</th>\n      <td>99307457</td>\n      <td>13.411111</td>\n      <td>0.000000</td>\n    </tr>\n    <tr>\n      <th>1916</th>\n      <td>99307457</td>\n      <td>3.355556</td>\n      <td>0.166667</td>\n    </tr>\n    <tr>\n      <th>1917</th>\n      <td>99307457</td>\n      <td>26.217391</td>\n      <td>0.375000</td>\n    </tr>\n    <tr>\n      <th>1918</th>\n      <td>99307457</td>\n      <td>5.911765</td>\n      <td>0.000000</td>\n    </tr>\n    <tr>\n      <th>1919</th>\n      <td>99307457</td>\n      <td>5.298246</td>\n      <td>0.000000</td>\n    </tr>\n  </tbody>\n</table>\n<p>1920 rows × 3 columns</p>\n</div>"
     },
     "execution_count": 30,
     "metadata": {},
     "output_type": "execute_result"
    }
   ],
   "source": [
    "id_v_error = pd.DataFrame(arr, columns=('part_id', 'ID', 'Error Rate'))\n",
    "id_v_error"
   ],
   "metadata": {
    "collapsed": false,
    "pycharm": {
     "name": "#%%\n"
    }
   }
  },
  {
   "cell_type": "code",
   "execution_count": 33,
   "outputs": [
    {
     "name": "stdout",
     "output_type": "stream",
     "text": [
      "Mean Error Rate: 0.15965295689967127 -- SD: 0.19977516333049417\n"
     ]
    }
   ],
   "source": [
    "print(f'Mean Error Rate: {id_v_error[\"Error Rate\"].mean()} -- SD: {id_v_error[\"Error Rate\"].std()}')"
   ],
   "metadata": {
    "collapsed": false,
    "pycharm": {
     "name": "#%%\n"
    }
   }
  },
  {
   "cell_type": "markdown",
   "source": [
    "## Table 3: ID vs Mean Errorate per ID"
   ],
   "metadata": {
    "collapsed": false,
    "pycharm": {
     "name": "#%% md\n"
    }
   }
  },
  {
   "cell_type": "code",
   "execution_count": 32,
   "outputs": [
    {
     "data": {
      "text/plain": "           ID  Mean Errors        SD\n0   21.175439     0.213158  0.179659\n1   26.617647     0.292554  0.209296\n2   13.130435     0.254955  0.181881\n3    6.711111     0.108366  0.130853\n4    3.822785     0.049603  0.090615\n5    7.632911     0.058631  0.117636\n6   10.055556     0.075298  0.103086\n7    2.960784     0.013095  0.051202\n8   17.750000     0.157849  0.184722\n9   11.833333     0.099336  0.128852\n10  52.478261     0.527404  0.231468\n11  13.400000     0.207269  0.179879\n12  11.455696     0.093912  0.155999\n13   8.867647     0.087500  0.128659\n14  15.278481     0.170855  0.183193\n15  35.500000     0.350598  0.230289\n16  20.111111     0.210376  0.196359\n17   8.882353     0.151885  0.155359\n18  15.877193     0.129167  0.153417\n19   8.872549     0.040675  0.105170\n20   4.441176     0.035218  0.084764\n21  13.308824     0.106680  0.138016\n22   6.700000     0.075165  0.110184\n23  39.347826     0.422787  0.225060\n24  10.578947     0.091336  0.127866\n25  17.735294     0.200486  0.181824\n26  26.822222     0.271399  0.216133\n27  13.411111     0.097884  0.141221\n28   3.355556     0.033234  0.080065\n29  26.217391     0.342503  0.235461\n30   5.911765     0.073082  0.115869\n31   5.298246     0.066634  0.125403",
      "text/html": "<div>\n<style scoped>\n    .dataframe tbody tr th:only-of-type {\n        vertical-align: middle;\n    }\n\n    .dataframe tbody tr th {\n        vertical-align: top;\n    }\n\n    .dataframe thead th {\n        text-align: right;\n    }\n</style>\n<table border=\"1\" class=\"dataframe\">\n  <thead>\n    <tr style=\"text-align: right;\">\n      <th></th>\n      <th>ID</th>\n      <th>Mean Errors</th>\n      <th>SD</th>\n    </tr>\n  </thead>\n  <tbody>\n    <tr>\n      <th>0</th>\n      <td>21.175439</td>\n      <td>0.213158</td>\n      <td>0.179659</td>\n    </tr>\n    <tr>\n      <th>1</th>\n      <td>26.617647</td>\n      <td>0.292554</td>\n      <td>0.209296</td>\n    </tr>\n    <tr>\n      <th>2</th>\n      <td>13.130435</td>\n      <td>0.254955</td>\n      <td>0.181881</td>\n    </tr>\n    <tr>\n      <th>3</th>\n      <td>6.711111</td>\n      <td>0.108366</td>\n      <td>0.130853</td>\n    </tr>\n    <tr>\n      <th>4</th>\n      <td>3.822785</td>\n      <td>0.049603</td>\n      <td>0.090615</td>\n    </tr>\n    <tr>\n      <th>5</th>\n      <td>7.632911</td>\n      <td>0.058631</td>\n      <td>0.117636</td>\n    </tr>\n    <tr>\n      <th>6</th>\n      <td>10.055556</td>\n      <td>0.075298</td>\n      <td>0.103086</td>\n    </tr>\n    <tr>\n      <th>7</th>\n      <td>2.960784</td>\n      <td>0.013095</td>\n      <td>0.051202</td>\n    </tr>\n    <tr>\n      <th>8</th>\n      <td>17.750000</td>\n      <td>0.157849</td>\n      <td>0.184722</td>\n    </tr>\n    <tr>\n      <th>9</th>\n      <td>11.833333</td>\n      <td>0.099336</td>\n      <td>0.128852</td>\n    </tr>\n    <tr>\n      <th>10</th>\n      <td>52.478261</td>\n      <td>0.527404</td>\n      <td>0.231468</td>\n    </tr>\n    <tr>\n      <th>11</th>\n      <td>13.400000</td>\n      <td>0.207269</td>\n      <td>0.179879</td>\n    </tr>\n    <tr>\n      <th>12</th>\n      <td>11.455696</td>\n      <td>0.093912</td>\n      <td>0.155999</td>\n    </tr>\n    <tr>\n      <th>13</th>\n      <td>8.867647</td>\n      <td>0.087500</td>\n      <td>0.128659</td>\n    </tr>\n    <tr>\n      <th>14</th>\n      <td>15.278481</td>\n      <td>0.170855</td>\n      <td>0.183193</td>\n    </tr>\n    <tr>\n      <th>15</th>\n      <td>35.500000</td>\n      <td>0.350598</td>\n      <td>0.230289</td>\n    </tr>\n    <tr>\n      <th>16</th>\n      <td>20.111111</td>\n      <td>0.210376</td>\n      <td>0.196359</td>\n    </tr>\n    <tr>\n      <th>17</th>\n      <td>8.882353</td>\n      <td>0.151885</td>\n      <td>0.155359</td>\n    </tr>\n    <tr>\n      <th>18</th>\n      <td>15.877193</td>\n      <td>0.129167</td>\n      <td>0.153417</td>\n    </tr>\n    <tr>\n      <th>19</th>\n      <td>8.872549</td>\n      <td>0.040675</td>\n      <td>0.105170</td>\n    </tr>\n    <tr>\n      <th>20</th>\n      <td>4.441176</td>\n      <td>0.035218</td>\n      <td>0.084764</td>\n    </tr>\n    <tr>\n      <th>21</th>\n      <td>13.308824</td>\n      <td>0.106680</td>\n      <td>0.138016</td>\n    </tr>\n    <tr>\n      <th>22</th>\n      <td>6.700000</td>\n      <td>0.075165</td>\n      <td>0.110184</td>\n    </tr>\n    <tr>\n      <th>23</th>\n      <td>39.347826</td>\n      <td>0.422787</td>\n      <td>0.225060</td>\n    </tr>\n    <tr>\n      <th>24</th>\n      <td>10.578947</td>\n      <td>0.091336</td>\n      <td>0.127866</td>\n    </tr>\n    <tr>\n      <th>25</th>\n      <td>17.735294</td>\n      <td>0.200486</td>\n      <td>0.181824</td>\n    </tr>\n    <tr>\n      <th>26</th>\n      <td>26.822222</td>\n      <td>0.271399</td>\n      <td>0.216133</td>\n    </tr>\n    <tr>\n      <th>27</th>\n      <td>13.411111</td>\n      <td>0.097884</td>\n      <td>0.141221</td>\n    </tr>\n    <tr>\n      <th>28</th>\n      <td>3.355556</td>\n      <td>0.033234</td>\n      <td>0.080065</td>\n    </tr>\n    <tr>\n      <th>29</th>\n      <td>26.217391</td>\n      <td>0.342503</td>\n      <td>0.235461</td>\n    </tr>\n    <tr>\n      <th>30</th>\n      <td>5.911765</td>\n      <td>0.073082</td>\n      <td>0.115869</td>\n    </tr>\n    <tr>\n      <th>31</th>\n      <td>5.298246</td>\n      <td>0.066634</td>\n      <td>0.125403</td>\n    </tr>\n  </tbody>\n</table>\n</div>"
     },
     "execution_count": 32,
     "metadata": {},
     "output_type": "execute_result"
    }
   ],
   "source": [
    "arr = []\n",
    "for i in range(individual_ids.shape[0]):\n",
    "    mean_error_rate = id_v_error[id_v_error['ID'] == individual_ids[i]]['Error Rate'].mean()\n",
    "    std_error_rate = id_v_error[id_v_error['ID'] == individual_ids[i]]['Error Rate'].std()\n",
    "    arr.append([individual_ids[i], mean_error_rate, std_error_rate])\n",
    "\n",
    "id_v_mean_error = pd.DataFrame(arr, columns=('ID', 'Mean Errors', 'SD'))\n",
    "id_v_mean_error"
   ],
   "metadata": {
    "collapsed": false,
    "pycharm": {
     "name": "#%%\n"
    }
   }
  },
  {
   "cell_type": "code",
   "execution_count": 40,
   "outputs": [
    {
     "data": {
      "text/plain": "           ID  Mean Errors        SD\n7    2.960784     0.013095  0.051202\n28   3.355556     0.033234  0.080065\n4    3.822785     0.049603  0.090615\n20   4.441176     0.035218  0.084764\n31   5.298246     0.066634  0.125403\n30   5.911765     0.073082  0.115869\n22   6.700000     0.075165  0.110184\n3    6.711111     0.108366  0.130853\n5    7.632911     0.058631  0.117636\n13   8.867647     0.087500  0.128659\n19   8.872549     0.040675  0.105170\n17   8.882353     0.151885  0.155359\n6   10.055556     0.075298  0.103086\n24  10.578947     0.091336  0.127866\n12  11.455696     0.093912  0.155999\n9   11.833333     0.099336  0.128852\n2   13.130435     0.254955  0.181881\n21  13.308824     0.106680  0.138016\n11  13.400000     0.207269  0.179879\n27  13.411111     0.097884  0.141221\n14  15.278481     0.170855  0.183193\n18  15.877193     0.129167  0.153417\n25  17.735294     0.200486  0.181824\n8   17.750000     0.157849  0.184722\n16  20.111111     0.210376  0.196359\n0   21.175439     0.213158  0.179659\n29  26.217391     0.342503  0.235461\n1   26.617647     0.292554  0.209296\n26  26.822222     0.271399  0.216133\n15  35.500000     0.350598  0.230289\n23  39.347826     0.422787  0.225060\n10  52.478261     0.527404  0.231468",
      "text/html": "<div>\n<style scoped>\n    .dataframe tbody tr th:only-of-type {\n        vertical-align: middle;\n    }\n\n    .dataframe tbody tr th {\n        vertical-align: top;\n    }\n\n    .dataframe thead th {\n        text-align: right;\n    }\n</style>\n<table border=\"1\" class=\"dataframe\">\n  <thead>\n    <tr style=\"text-align: right;\">\n      <th></th>\n      <th>ID</th>\n      <th>Mean Errors</th>\n      <th>SD</th>\n    </tr>\n  </thead>\n  <tbody>\n    <tr>\n      <th>7</th>\n      <td>2.960784</td>\n      <td>0.013095</td>\n      <td>0.051202</td>\n    </tr>\n    <tr>\n      <th>28</th>\n      <td>3.355556</td>\n      <td>0.033234</td>\n      <td>0.080065</td>\n    </tr>\n    <tr>\n      <th>4</th>\n      <td>3.822785</td>\n      <td>0.049603</td>\n      <td>0.090615</td>\n    </tr>\n    <tr>\n      <th>20</th>\n      <td>4.441176</td>\n      <td>0.035218</td>\n      <td>0.084764</td>\n    </tr>\n    <tr>\n      <th>31</th>\n      <td>5.298246</td>\n      <td>0.066634</td>\n      <td>0.125403</td>\n    </tr>\n    <tr>\n      <th>30</th>\n      <td>5.911765</td>\n      <td>0.073082</td>\n      <td>0.115869</td>\n    </tr>\n    <tr>\n      <th>22</th>\n      <td>6.700000</td>\n      <td>0.075165</td>\n      <td>0.110184</td>\n    </tr>\n    <tr>\n      <th>3</th>\n      <td>6.711111</td>\n      <td>0.108366</td>\n      <td>0.130853</td>\n    </tr>\n    <tr>\n      <th>5</th>\n      <td>7.632911</td>\n      <td>0.058631</td>\n      <td>0.117636</td>\n    </tr>\n    <tr>\n      <th>13</th>\n      <td>8.867647</td>\n      <td>0.087500</td>\n      <td>0.128659</td>\n    </tr>\n    <tr>\n      <th>19</th>\n      <td>8.872549</td>\n      <td>0.040675</td>\n      <td>0.105170</td>\n    </tr>\n    <tr>\n      <th>17</th>\n      <td>8.882353</td>\n      <td>0.151885</td>\n      <td>0.155359</td>\n    </tr>\n    <tr>\n      <th>6</th>\n      <td>10.055556</td>\n      <td>0.075298</td>\n      <td>0.103086</td>\n    </tr>\n    <tr>\n      <th>24</th>\n      <td>10.578947</td>\n      <td>0.091336</td>\n      <td>0.127866</td>\n    </tr>\n    <tr>\n      <th>12</th>\n      <td>11.455696</td>\n      <td>0.093912</td>\n      <td>0.155999</td>\n    </tr>\n    <tr>\n      <th>9</th>\n      <td>11.833333</td>\n      <td>0.099336</td>\n      <td>0.128852</td>\n    </tr>\n    <tr>\n      <th>2</th>\n      <td>13.130435</td>\n      <td>0.254955</td>\n      <td>0.181881</td>\n    </tr>\n    <tr>\n      <th>21</th>\n      <td>13.308824</td>\n      <td>0.106680</td>\n      <td>0.138016</td>\n    </tr>\n    <tr>\n      <th>11</th>\n      <td>13.400000</td>\n      <td>0.207269</td>\n      <td>0.179879</td>\n    </tr>\n    <tr>\n      <th>27</th>\n      <td>13.411111</td>\n      <td>0.097884</td>\n      <td>0.141221</td>\n    </tr>\n    <tr>\n      <th>14</th>\n      <td>15.278481</td>\n      <td>0.170855</td>\n      <td>0.183193</td>\n    </tr>\n    <tr>\n      <th>18</th>\n      <td>15.877193</td>\n      <td>0.129167</td>\n      <td>0.153417</td>\n    </tr>\n    <tr>\n      <th>25</th>\n      <td>17.735294</td>\n      <td>0.200486</td>\n      <td>0.181824</td>\n    </tr>\n    <tr>\n      <th>8</th>\n      <td>17.750000</td>\n      <td>0.157849</td>\n      <td>0.184722</td>\n    </tr>\n    <tr>\n      <th>16</th>\n      <td>20.111111</td>\n      <td>0.210376</td>\n      <td>0.196359</td>\n    </tr>\n    <tr>\n      <th>0</th>\n      <td>21.175439</td>\n      <td>0.213158</td>\n      <td>0.179659</td>\n    </tr>\n    <tr>\n      <th>29</th>\n      <td>26.217391</td>\n      <td>0.342503</td>\n      <td>0.235461</td>\n    </tr>\n    <tr>\n      <th>1</th>\n      <td>26.617647</td>\n      <td>0.292554</td>\n      <td>0.209296</td>\n    </tr>\n    <tr>\n      <th>26</th>\n      <td>26.822222</td>\n      <td>0.271399</td>\n      <td>0.216133</td>\n    </tr>\n    <tr>\n      <th>15</th>\n      <td>35.500000</td>\n      <td>0.350598</td>\n      <td>0.230289</td>\n    </tr>\n    <tr>\n      <th>23</th>\n      <td>39.347826</td>\n      <td>0.422787</td>\n      <td>0.225060</td>\n    </tr>\n    <tr>\n      <th>10</th>\n      <td>52.478261</td>\n      <td>0.527404</td>\n      <td>0.231468</td>\n    </tr>\n  </tbody>\n</table>\n</div>"
     },
     "execution_count": 40,
     "metadata": {},
     "output_type": "execute_result"
    }
   ],
   "source": [
    "id_v_mean_error.sort_values('ID')"
   ],
   "metadata": {
    "collapsed": false,
    "pycharm": {
     "name": "#%%\n"
    }
   }
  },
  {
   "cell_type": "code",
   "execution_count": 34,
   "outputs": [
    {
     "data": {
      "text/plain": "         ID  Mean Errors        SD\n7  2.960784     0.013095  0.051202",
      "text/html": "<div>\n<style scoped>\n    .dataframe tbody tr th:only-of-type {\n        vertical-align: middle;\n    }\n\n    .dataframe tbody tr th {\n        vertical-align: top;\n    }\n\n    .dataframe thead th {\n        text-align: right;\n    }\n</style>\n<table border=\"1\" class=\"dataframe\">\n  <thead>\n    <tr style=\"text-align: right;\">\n      <th></th>\n      <th>ID</th>\n      <th>Mean Errors</th>\n      <th>SD</th>\n    </tr>\n  </thead>\n  <tbody>\n    <tr>\n      <th>7</th>\n      <td>2.960784</td>\n      <td>0.013095</td>\n      <td>0.051202</td>\n    </tr>\n  </tbody>\n</table>\n</div>"
     },
     "execution_count": 34,
     "metadata": {},
     "output_type": "execute_result"
    }
   ],
   "source": [
    "id_v_mean_error[id_v_mean_error['Mean Errors'] == id_v_mean_error['Mean Errors'].min()]"
   ],
   "metadata": {
    "collapsed": false,
    "pycharm": {
     "name": "#%%\n"
    }
   }
  },
  {
   "cell_type": "code",
   "execution_count": 35,
   "outputs": [
    {
     "data": {
      "text/plain": "           ID  Mean Errors        SD\n10  52.478261     0.527404  0.231468",
      "text/html": "<div>\n<style scoped>\n    .dataframe tbody tr th:only-of-type {\n        vertical-align: middle;\n    }\n\n    .dataframe tbody tr th {\n        vertical-align: top;\n    }\n\n    .dataframe thead th {\n        text-align: right;\n    }\n</style>\n<table border=\"1\" class=\"dataframe\">\n  <thead>\n    <tr style=\"text-align: right;\">\n      <th></th>\n      <th>ID</th>\n      <th>Mean Errors</th>\n      <th>SD</th>\n    </tr>\n  </thead>\n  <tbody>\n    <tr>\n      <th>10</th>\n      <td>52.478261</td>\n      <td>0.527404</td>\n      <td>0.231468</td>\n    </tr>\n  </tbody>\n</table>\n</div>"
     },
     "execution_count": 35,
     "metadata": {},
     "output_type": "execute_result"
    }
   ],
   "source": [
    "id_v_mean_error[id_v_mean_error['Mean Errors'] == id_v_mean_error['Mean Errors'].max()]"
   ],
   "metadata": {
    "collapsed": false,
    "pycharm": {
     "name": "#%%\n"
    }
   }
  },
  {
   "cell_type": "code",
   "execution_count": 38,
   "outputs": [],
   "source": [
    "id_v_mean_error.to_csv(base_path + '/mean_error_rate_per_id.csv', sep=';')"
   ],
   "metadata": {
    "collapsed": false,
    "pycharm": {
     "name": "#%%\n"
    }
   }
  },
  {
   "cell_type": "markdown",
   "source": [
    "## Table 4: Throughput per participant v direction\n",
    "\n",
    "Throughput = Mean(MT/ID)"
   ],
   "metadata": {
    "collapsed": false,
    "pycharm": {
     "name": "#%% md\n"
    }
   }
  },
  {
   "cell_type": "code",
   "execution_count": 22,
   "outputs": [
    {
     "data": {
      "text/plain": "      part_id         ID     MT Direction\n2    12299398  21.175439   7171       l-r\n3    12299398  26.617647  12359       r-l\n7    12299398  13.130435   4007       r-l\n8    12299398   6.711111   1533       l-r\n9    12299398   3.822785    542       r-l\n..        ...        ...    ...       ...\n227  99307457  39.347826  21220       r-l\n228  99307457   5.911765    188       l-r\n231  99307457  13.130435   5061       r-l\n232  99307457  13.130435   4436       l-r\n233  99307457   5.911765    406       r-l\n\n[9593 rows x 4 columns]",
      "text/html": "<div>\n<style scoped>\n    .dataframe tbody tr th:only-of-type {\n        vertical-align: middle;\n    }\n\n    .dataframe tbody tr th {\n        vertical-align: top;\n    }\n\n    .dataframe thead th {\n        text-align: right;\n    }\n</style>\n<table border=\"1\" class=\"dataframe\">\n  <thead>\n    <tr style=\"text-align: right;\">\n      <th></th>\n      <th>part_id</th>\n      <th>ID</th>\n      <th>MT</th>\n      <th>Direction</th>\n    </tr>\n  </thead>\n  <tbody>\n    <tr>\n      <th>2</th>\n      <td>12299398</td>\n      <td>21.175439</td>\n      <td>7171</td>\n      <td>l-r</td>\n    </tr>\n    <tr>\n      <th>3</th>\n      <td>12299398</td>\n      <td>26.617647</td>\n      <td>12359</td>\n      <td>r-l</td>\n    </tr>\n    <tr>\n      <th>7</th>\n      <td>12299398</td>\n      <td>13.130435</td>\n      <td>4007</td>\n      <td>r-l</td>\n    </tr>\n    <tr>\n      <th>8</th>\n      <td>12299398</td>\n      <td>6.711111</td>\n      <td>1533</td>\n      <td>l-r</td>\n    </tr>\n    <tr>\n      <th>9</th>\n      <td>12299398</td>\n      <td>3.822785</td>\n      <td>542</td>\n      <td>r-l</td>\n    </tr>\n    <tr>\n      <th>...</th>\n      <td>...</td>\n      <td>...</td>\n      <td>...</td>\n      <td>...</td>\n    </tr>\n    <tr>\n      <th>227</th>\n      <td>99307457</td>\n      <td>39.347826</td>\n      <td>21220</td>\n      <td>r-l</td>\n    </tr>\n    <tr>\n      <th>228</th>\n      <td>99307457</td>\n      <td>5.911765</td>\n      <td>188</td>\n      <td>l-r</td>\n    </tr>\n    <tr>\n      <th>231</th>\n      <td>99307457</td>\n      <td>13.130435</td>\n      <td>5061</td>\n      <td>r-l</td>\n    </tr>\n    <tr>\n      <th>232</th>\n      <td>99307457</td>\n      <td>13.130435</td>\n      <td>4436</td>\n      <td>l-r</td>\n    </tr>\n    <tr>\n      <th>233</th>\n      <td>99307457</td>\n      <td>5.911765</td>\n      <td>406</td>\n      <td>r-l</td>\n    </tr>\n  </tbody>\n</table>\n<p>9593 rows × 4 columns</p>\n</div>"
     },
     "execution_count": 22,
     "metadata": {},
     "output_type": "execute_result"
    }
   ],
   "source": [
    "tp_v_direction = copy.deepcopy(combined)\n",
    "\n",
    "tp_v_direction.drop(['width', 'length', 'Age', 'Gender', 'Screen Size in inch', 'Real Res', 'display diagonal'], inplace=True, axis=1)\n",
    "\n",
    "tp_v_direction = tp_v_direction[tp_v_direction['MT'] != -1]\n",
    "\n",
    "tp_v_direction"
   ],
   "metadata": {
    "collapsed": false,
    "pycharm": {
     "name": "#%%\n"
    }
   }
  },
  {
   "cell_type": "code",
   "execution_count": 23,
   "outputs": [],
   "source": [
    "l_n_r = tp_v_direction[tp_v_direction['Direction'] == 'l-r']\n",
    "r_n_l = tp_v_direction[tp_v_direction['Direction'] == 'r-l']"
   ],
   "metadata": {
    "collapsed": false,
    "pycharm": {
     "name": "#%%\n"
    }
   }
  },
  {
   "cell_type": "code",
   "execution_count": 24,
   "outputs": [
    {
     "data": {
      "text/plain": "      part_id         TP Direction\n0    12299398   7.738337       l-r\n1    12299398   8.562238       r-l\n2    14239653  10.825069       l-r\n3    14239653  13.984105       r-l\n4    15065059  45.016550       l-r\n..        ...        ...       ...\n115  97962051  53.334343       r-l\n116  98975745   5.789354       l-r\n117  98975745   7.540131       r-l\n118  99307457  16.840208       l-r\n119  99307457  20.244405       r-l\n\n[120 rows x 3 columns]",
      "text/html": "<div>\n<style scoped>\n    .dataframe tbody tr th:only-of-type {\n        vertical-align: middle;\n    }\n\n    .dataframe tbody tr th {\n        vertical-align: top;\n    }\n\n    .dataframe thead th {\n        text-align: right;\n    }\n</style>\n<table border=\"1\" class=\"dataframe\">\n  <thead>\n    <tr style=\"text-align: right;\">\n      <th></th>\n      <th>part_id</th>\n      <th>TP</th>\n      <th>Direction</th>\n    </tr>\n  </thead>\n  <tbody>\n    <tr>\n      <th>0</th>\n      <td>12299398</td>\n      <td>7.738337</td>\n      <td>l-r</td>\n    </tr>\n    <tr>\n      <th>1</th>\n      <td>12299398</td>\n      <td>8.562238</td>\n      <td>r-l</td>\n    </tr>\n    <tr>\n      <th>2</th>\n      <td>14239653</td>\n      <td>10.825069</td>\n      <td>l-r</td>\n    </tr>\n    <tr>\n      <th>3</th>\n      <td>14239653</td>\n      <td>13.984105</td>\n      <td>r-l</td>\n    </tr>\n    <tr>\n      <th>4</th>\n      <td>15065059</td>\n      <td>45.016550</td>\n      <td>l-r</td>\n    </tr>\n    <tr>\n      <th>...</th>\n      <td>...</td>\n      <td>...</td>\n      <td>...</td>\n    </tr>\n    <tr>\n      <th>115</th>\n      <td>97962051</td>\n      <td>53.334343</td>\n      <td>r-l</td>\n    </tr>\n    <tr>\n      <th>116</th>\n      <td>98975745</td>\n      <td>5.789354</td>\n      <td>l-r</td>\n    </tr>\n    <tr>\n      <th>117</th>\n      <td>98975745</td>\n      <td>7.540131</td>\n      <td>r-l</td>\n    </tr>\n    <tr>\n      <th>118</th>\n      <td>99307457</td>\n      <td>16.840208</td>\n      <td>l-r</td>\n    </tr>\n    <tr>\n      <th>119</th>\n      <td>99307457</td>\n      <td>20.244405</td>\n      <td>r-l</td>\n    </tr>\n  </tbody>\n</table>\n<p>120 rows × 3 columns</p>\n</div>"
     },
     "execution_count": 24,
     "metadata": {},
     "output_type": "execute_result"
    }
   ],
   "source": [
    "arr = []\n",
    "for pid in individual_part_ids:\n",
    "    throughput_l = (l_n_r[l_n_r['part_id'] == pid]['ID'] / (l_n_r[l_n_r['part_id'] == pid]['MT'] / 1000)).sum() / l_n_r[l_n_r['part_id'] == pid]['MT'].count()\n",
    "    throughput_r = (r_n_l[r_n_l['part_id'] == pid]['ID'] / (r_n_l[r_n_l['part_id'] == pid]['MT'] / 1000)).sum() / r_n_l[r_n_l['part_id'] == pid]['MT'].count()\n",
    "    arr.append([pid, throughput_l, 'l-r'])\n",
    "    arr.append([pid, throughput_r, 'r-l'])\n",
    "\n",
    "tp_v_direction = pd.DataFrame(arr, columns=('part_id', 'TP', 'Direction'))\n",
    "tp_v_direction"
   ],
   "metadata": {
    "collapsed": false,
    "pycharm": {
     "name": "#%%\n"
    }
   }
  },
  {
   "cell_type": "code",
   "execution_count": null,
   "outputs": [],
   "source": [],
   "metadata": {
    "collapsed": false,
    "pycharm": {
     "name": "#%%\n"
    }
   }
  },
  {
   "cell_type": "markdown",
   "source": [
    "## Table 5: Throughput per participant vs Diagonal vs Screensize"
   ],
   "metadata": {
    "collapsed": false,
    "pycharm": {
     "name": "#%% md\n"
    }
   }
  },
  {
   "cell_type": "code",
   "execution_count": 25,
   "outputs": [
    {
     "data": {
      "text/plain": "      part_id         ID     MT  Screen Size in inch  display diagonal\n2    12299398  21.175439   7171                 14.0        1567.09285\n3    12299398  26.617647  12359                 14.0        1567.09285\n7    12299398  13.130435   4007                 14.0        1567.09285\n8    12299398   6.711111   1533                 14.0        1567.09285\n9    12299398   3.822785    542                 14.0        1567.09285\n..        ...        ...    ...                  ...               ...\n227  99307457  39.347826  21220                 26.0        1567.09285\n228  99307457   5.911765    188                 26.0        1567.09285\n231  99307457  13.130435   5061                 26.0        1567.09285\n232  99307457  13.130435   4436                 26.0        1567.09285\n233  99307457   5.911765    406                 26.0        1567.09285\n\n[9593 rows x 5 columns]",
      "text/html": "<div>\n<style scoped>\n    .dataframe tbody tr th:only-of-type {\n        vertical-align: middle;\n    }\n\n    .dataframe tbody tr th {\n        vertical-align: top;\n    }\n\n    .dataframe thead th {\n        text-align: right;\n    }\n</style>\n<table border=\"1\" class=\"dataframe\">\n  <thead>\n    <tr style=\"text-align: right;\">\n      <th></th>\n      <th>part_id</th>\n      <th>ID</th>\n      <th>MT</th>\n      <th>Screen Size in inch</th>\n      <th>display diagonal</th>\n    </tr>\n  </thead>\n  <tbody>\n    <tr>\n      <th>2</th>\n      <td>12299398</td>\n      <td>21.175439</td>\n      <td>7171</td>\n      <td>14.0</td>\n      <td>1567.09285</td>\n    </tr>\n    <tr>\n      <th>3</th>\n      <td>12299398</td>\n      <td>26.617647</td>\n      <td>12359</td>\n      <td>14.0</td>\n      <td>1567.09285</td>\n    </tr>\n    <tr>\n      <th>7</th>\n      <td>12299398</td>\n      <td>13.130435</td>\n      <td>4007</td>\n      <td>14.0</td>\n      <td>1567.09285</td>\n    </tr>\n    <tr>\n      <th>8</th>\n      <td>12299398</td>\n      <td>6.711111</td>\n      <td>1533</td>\n      <td>14.0</td>\n      <td>1567.09285</td>\n    </tr>\n    <tr>\n      <th>9</th>\n      <td>12299398</td>\n      <td>3.822785</td>\n      <td>542</td>\n      <td>14.0</td>\n      <td>1567.09285</td>\n    </tr>\n    <tr>\n      <th>...</th>\n      <td>...</td>\n      <td>...</td>\n      <td>...</td>\n      <td>...</td>\n      <td>...</td>\n    </tr>\n    <tr>\n      <th>227</th>\n      <td>99307457</td>\n      <td>39.347826</td>\n      <td>21220</td>\n      <td>26.0</td>\n      <td>1567.09285</td>\n    </tr>\n    <tr>\n      <th>228</th>\n      <td>99307457</td>\n      <td>5.911765</td>\n      <td>188</td>\n      <td>26.0</td>\n      <td>1567.09285</td>\n    </tr>\n    <tr>\n      <th>231</th>\n      <td>99307457</td>\n      <td>13.130435</td>\n      <td>5061</td>\n      <td>26.0</td>\n      <td>1567.09285</td>\n    </tr>\n    <tr>\n      <th>232</th>\n      <td>99307457</td>\n      <td>13.130435</td>\n      <td>4436</td>\n      <td>26.0</td>\n      <td>1567.09285</td>\n    </tr>\n    <tr>\n      <th>233</th>\n      <td>99307457</td>\n      <td>5.911765</td>\n      <td>406</td>\n      <td>26.0</td>\n      <td>1567.09285</td>\n    </tr>\n  </tbody>\n</table>\n<p>9593 rows × 5 columns</p>\n</div>"
     },
     "execution_count": 25,
     "metadata": {},
     "output_type": "execute_result"
    }
   ],
   "source": [
    "tp_v_screen = copy.deepcopy(combined)\n",
    "\n",
    "tp_v_screen.drop(['width', 'length', 'Age', 'Gender', 'Real Res', 'Direction'], inplace=True, axis=1)\n",
    "\n",
    "tp_v_screen = tp_v_screen[tp_v_screen['MT'] != -1]\n",
    "\n",
    "tp_v_screen"
   ],
   "metadata": {
    "collapsed": false,
    "pycharm": {
     "name": "#%%\n"
    }
   }
  },
  {
   "cell_type": "code",
   "execution_count": 26,
   "outputs": [
    {
     "data": {
      "text/plain": "     part_id  throughput  screen size  diagonal screen res\n0   12299398    8.124540       14.000          1567.092850\n1   14239653   12.424331       27.000          2202.907170\n2   15065059   47.976523       12.000          1280.000000\n3   17722961   14.519404       14.000          1567.092850\n4   17978640   21.008840       23.000          1561.865551\n5   17985804   10.814512       21.500          2202.907170\n6   19330011    4.560821       24.000          1567.092850\n7   20073570    4.102584       19.000          1567.092850\n8   21245612  198.789772       24.000          1567.092850\n9    2183014   20.821150       15.000          1567.092850\n10  23977713    9.773553       24.000          1639.199805\n11  26401324   11.295954       16.000          1594.423093\n12  26712442    2.688665       22.000          1567.092850\n13  26886273    5.101202       25.000          1567.092850\n14  27867816   54.062861       23.000          1567.092850\n15  28184233  124.946862       23.000          1567.092850\n16  28315891   23.309857       24.000          1565.349801\n17  28725313   60.902513       14.000          1567.092850\n18   2881314   64.197342       15.000          2202.907170\n19  30669565   15.490689       24.000          1565.349801\n20  31136533   25.901691       27.000          2778.488798\n21  31256077   23.635974       24.000          1567.092850\n22  33744500   13.704165       21.000          1981.136038\n23  33848466   21.518222       24.000          1567.092850\n24  34198438    3.701227       26.000          1567.092850\n25  34547995   14.246999       27.000          1879.405491\n26  39618267   22.349050       15.000          1567.092850\n27  40159356   52.125384       24.000          1567.092850\n28  41096354   12.509613       15.000          1567.092850\n29  44264673   46.447526       17.000          1835.755975\n30  47459713   15.229718       15.000          1567.092850\n31  50393653   17.185238       24.000          1698.116604\n32  50400149    9.580221       23.000          1567.092850\n33  50866194   27.533335       59.986          1567.092850\n34  54567679   30.501254       23.000          1567.092850\n35  58472494    4.828175       34.000          1567.092850\n36  60997059   10.246149  1366768.000          1567.092850\n37  66283818   11.521539       12.000          1280.000000\n38  70165854    6.517813       14.000          1567.092850\n39  70882663   19.888640       12.000          1280.000000\n40  71686964   19.832919       25.000          1698.116604\n41  72852612    7.183871       17.000          1710.766203\n42  73406414   56.225413       24.000          1567.092850\n43  73616785    7.550717       23.000          2202.907170\n44  76584802    9.110116       21.500          2202.907170\n45  77439901   10.299498       15.000          1567.092850\n46  82493269   16.340443       14.000          1567.092850\n47  82493972    9.965072       15.000          1422.956078\n48  82656133   16.630617       13.000          1567.092850\n49  84736176   45.072575       15.000          1567.092850\n50  86821191   13.340564       14.000          1567.092850\n51  88009054    9.690898       34.000          2778.488798\n52  88319338  140.325929       20.000          1567.092850\n53  89184070   11.113945       24.000          2111.080292\n54  89532417    9.980460       14.000          1567.092850\n55  94667625   19.551645       15.000          1567.092850\n56  95528384   10.754807       27.000          2202.907170\n57  97962051   54.077563       15.000          1567.092850\n58  98975745    6.664742       24.000          1639.199805\n59  99307457   18.584859       26.000          1567.092850",
      "text/html": "<div>\n<style scoped>\n    .dataframe tbody tr th:only-of-type {\n        vertical-align: middle;\n    }\n\n    .dataframe tbody tr th {\n        vertical-align: top;\n    }\n\n    .dataframe thead th {\n        text-align: right;\n    }\n</style>\n<table border=\"1\" class=\"dataframe\">\n  <thead>\n    <tr style=\"text-align: right;\">\n      <th></th>\n      <th>part_id</th>\n      <th>throughput</th>\n      <th>screen size</th>\n      <th>diagonal screen res</th>\n    </tr>\n  </thead>\n  <tbody>\n    <tr>\n      <th>0</th>\n      <td>12299398</td>\n      <td>8.124540</td>\n      <td>14.000</td>\n      <td>1567.092850</td>\n    </tr>\n    <tr>\n      <th>1</th>\n      <td>14239653</td>\n      <td>12.424331</td>\n      <td>27.000</td>\n      <td>2202.907170</td>\n    </tr>\n    <tr>\n      <th>2</th>\n      <td>15065059</td>\n      <td>47.976523</td>\n      <td>12.000</td>\n      <td>1280.000000</td>\n    </tr>\n    <tr>\n      <th>3</th>\n      <td>17722961</td>\n      <td>14.519404</td>\n      <td>14.000</td>\n      <td>1567.092850</td>\n    </tr>\n    <tr>\n      <th>4</th>\n      <td>17978640</td>\n      <td>21.008840</td>\n      <td>23.000</td>\n      <td>1561.865551</td>\n    </tr>\n    <tr>\n      <th>5</th>\n      <td>17985804</td>\n      <td>10.814512</td>\n      <td>21.500</td>\n      <td>2202.907170</td>\n    </tr>\n    <tr>\n      <th>6</th>\n      <td>19330011</td>\n      <td>4.560821</td>\n      <td>24.000</td>\n      <td>1567.092850</td>\n    </tr>\n    <tr>\n      <th>7</th>\n      <td>20073570</td>\n      <td>4.102584</td>\n      <td>19.000</td>\n      <td>1567.092850</td>\n    </tr>\n    <tr>\n      <th>8</th>\n      <td>21245612</td>\n      <td>198.789772</td>\n      <td>24.000</td>\n      <td>1567.092850</td>\n    </tr>\n    <tr>\n      <th>9</th>\n      <td>2183014</td>\n      <td>20.821150</td>\n      <td>15.000</td>\n      <td>1567.092850</td>\n    </tr>\n    <tr>\n      <th>10</th>\n      <td>23977713</td>\n      <td>9.773553</td>\n      <td>24.000</td>\n      <td>1639.199805</td>\n    </tr>\n    <tr>\n      <th>11</th>\n      <td>26401324</td>\n      <td>11.295954</td>\n      <td>16.000</td>\n      <td>1594.423093</td>\n    </tr>\n    <tr>\n      <th>12</th>\n      <td>26712442</td>\n      <td>2.688665</td>\n      <td>22.000</td>\n      <td>1567.092850</td>\n    </tr>\n    <tr>\n      <th>13</th>\n      <td>26886273</td>\n      <td>5.101202</td>\n      <td>25.000</td>\n      <td>1567.092850</td>\n    </tr>\n    <tr>\n      <th>14</th>\n      <td>27867816</td>\n      <td>54.062861</td>\n      <td>23.000</td>\n      <td>1567.092850</td>\n    </tr>\n    <tr>\n      <th>15</th>\n      <td>28184233</td>\n      <td>124.946862</td>\n      <td>23.000</td>\n      <td>1567.092850</td>\n    </tr>\n    <tr>\n      <th>16</th>\n      <td>28315891</td>\n      <td>23.309857</td>\n      <td>24.000</td>\n      <td>1565.349801</td>\n    </tr>\n    <tr>\n      <th>17</th>\n      <td>28725313</td>\n      <td>60.902513</td>\n      <td>14.000</td>\n      <td>1567.092850</td>\n    </tr>\n    <tr>\n      <th>18</th>\n      <td>2881314</td>\n      <td>64.197342</td>\n      <td>15.000</td>\n      <td>2202.907170</td>\n    </tr>\n    <tr>\n      <th>19</th>\n      <td>30669565</td>\n      <td>15.490689</td>\n      <td>24.000</td>\n      <td>1565.349801</td>\n    </tr>\n    <tr>\n      <th>20</th>\n      <td>31136533</td>\n      <td>25.901691</td>\n      <td>27.000</td>\n      <td>2778.488798</td>\n    </tr>\n    <tr>\n      <th>21</th>\n      <td>31256077</td>\n      <td>23.635974</td>\n      <td>24.000</td>\n      <td>1567.092850</td>\n    </tr>\n    <tr>\n      <th>22</th>\n      <td>33744500</td>\n      <td>13.704165</td>\n      <td>21.000</td>\n      <td>1981.136038</td>\n    </tr>\n    <tr>\n      <th>23</th>\n      <td>33848466</td>\n      <td>21.518222</td>\n      <td>24.000</td>\n      <td>1567.092850</td>\n    </tr>\n    <tr>\n      <th>24</th>\n      <td>34198438</td>\n      <td>3.701227</td>\n      <td>26.000</td>\n      <td>1567.092850</td>\n    </tr>\n    <tr>\n      <th>25</th>\n      <td>34547995</td>\n      <td>14.246999</td>\n      <td>27.000</td>\n      <td>1879.405491</td>\n    </tr>\n    <tr>\n      <th>26</th>\n      <td>39618267</td>\n      <td>22.349050</td>\n      <td>15.000</td>\n      <td>1567.092850</td>\n    </tr>\n    <tr>\n      <th>27</th>\n      <td>40159356</td>\n      <td>52.125384</td>\n      <td>24.000</td>\n      <td>1567.092850</td>\n    </tr>\n    <tr>\n      <th>28</th>\n      <td>41096354</td>\n      <td>12.509613</td>\n      <td>15.000</td>\n      <td>1567.092850</td>\n    </tr>\n    <tr>\n      <th>29</th>\n      <td>44264673</td>\n      <td>46.447526</td>\n      <td>17.000</td>\n      <td>1835.755975</td>\n    </tr>\n    <tr>\n      <th>30</th>\n      <td>47459713</td>\n      <td>15.229718</td>\n      <td>15.000</td>\n      <td>1567.092850</td>\n    </tr>\n    <tr>\n      <th>31</th>\n      <td>50393653</td>\n      <td>17.185238</td>\n      <td>24.000</td>\n      <td>1698.116604</td>\n    </tr>\n    <tr>\n      <th>32</th>\n      <td>50400149</td>\n      <td>9.580221</td>\n      <td>23.000</td>\n      <td>1567.092850</td>\n    </tr>\n    <tr>\n      <th>33</th>\n      <td>50866194</td>\n      <td>27.533335</td>\n      <td>59.986</td>\n      <td>1567.092850</td>\n    </tr>\n    <tr>\n      <th>34</th>\n      <td>54567679</td>\n      <td>30.501254</td>\n      <td>23.000</td>\n      <td>1567.092850</td>\n    </tr>\n    <tr>\n      <th>35</th>\n      <td>58472494</td>\n      <td>4.828175</td>\n      <td>34.000</td>\n      <td>1567.092850</td>\n    </tr>\n    <tr>\n      <th>36</th>\n      <td>60997059</td>\n      <td>10.246149</td>\n      <td>1366768.000</td>\n      <td>1567.092850</td>\n    </tr>\n    <tr>\n      <th>37</th>\n      <td>66283818</td>\n      <td>11.521539</td>\n      <td>12.000</td>\n      <td>1280.000000</td>\n    </tr>\n    <tr>\n      <th>38</th>\n      <td>70165854</td>\n      <td>6.517813</td>\n      <td>14.000</td>\n      <td>1567.092850</td>\n    </tr>\n    <tr>\n      <th>39</th>\n      <td>70882663</td>\n      <td>19.888640</td>\n      <td>12.000</td>\n      <td>1280.000000</td>\n    </tr>\n    <tr>\n      <th>40</th>\n      <td>71686964</td>\n      <td>19.832919</td>\n      <td>25.000</td>\n      <td>1698.116604</td>\n    </tr>\n    <tr>\n      <th>41</th>\n      <td>72852612</td>\n      <td>7.183871</td>\n      <td>17.000</td>\n      <td>1710.766203</td>\n    </tr>\n    <tr>\n      <th>42</th>\n      <td>73406414</td>\n      <td>56.225413</td>\n      <td>24.000</td>\n      <td>1567.092850</td>\n    </tr>\n    <tr>\n      <th>43</th>\n      <td>73616785</td>\n      <td>7.550717</td>\n      <td>23.000</td>\n      <td>2202.907170</td>\n    </tr>\n    <tr>\n      <th>44</th>\n      <td>76584802</td>\n      <td>9.110116</td>\n      <td>21.500</td>\n      <td>2202.907170</td>\n    </tr>\n    <tr>\n      <th>45</th>\n      <td>77439901</td>\n      <td>10.299498</td>\n      <td>15.000</td>\n      <td>1567.092850</td>\n    </tr>\n    <tr>\n      <th>46</th>\n      <td>82493269</td>\n      <td>16.340443</td>\n      <td>14.000</td>\n      <td>1567.092850</td>\n    </tr>\n    <tr>\n      <th>47</th>\n      <td>82493972</td>\n      <td>9.965072</td>\n      <td>15.000</td>\n      <td>1422.956078</td>\n    </tr>\n    <tr>\n      <th>48</th>\n      <td>82656133</td>\n      <td>16.630617</td>\n      <td>13.000</td>\n      <td>1567.092850</td>\n    </tr>\n    <tr>\n      <th>49</th>\n      <td>84736176</td>\n      <td>45.072575</td>\n      <td>15.000</td>\n      <td>1567.092850</td>\n    </tr>\n    <tr>\n      <th>50</th>\n      <td>86821191</td>\n      <td>13.340564</td>\n      <td>14.000</td>\n      <td>1567.092850</td>\n    </tr>\n    <tr>\n      <th>51</th>\n      <td>88009054</td>\n      <td>9.690898</td>\n      <td>34.000</td>\n      <td>2778.488798</td>\n    </tr>\n    <tr>\n      <th>52</th>\n      <td>88319338</td>\n      <td>140.325929</td>\n      <td>20.000</td>\n      <td>1567.092850</td>\n    </tr>\n    <tr>\n      <th>53</th>\n      <td>89184070</td>\n      <td>11.113945</td>\n      <td>24.000</td>\n      <td>2111.080292</td>\n    </tr>\n    <tr>\n      <th>54</th>\n      <td>89532417</td>\n      <td>9.980460</td>\n      <td>14.000</td>\n      <td>1567.092850</td>\n    </tr>\n    <tr>\n      <th>55</th>\n      <td>94667625</td>\n      <td>19.551645</td>\n      <td>15.000</td>\n      <td>1567.092850</td>\n    </tr>\n    <tr>\n      <th>56</th>\n      <td>95528384</td>\n      <td>10.754807</td>\n      <td>27.000</td>\n      <td>2202.907170</td>\n    </tr>\n    <tr>\n      <th>57</th>\n      <td>97962051</td>\n      <td>54.077563</td>\n      <td>15.000</td>\n      <td>1567.092850</td>\n    </tr>\n    <tr>\n      <th>58</th>\n      <td>98975745</td>\n      <td>6.664742</td>\n      <td>24.000</td>\n      <td>1639.199805</td>\n    </tr>\n    <tr>\n      <th>59</th>\n      <td>99307457</td>\n      <td>18.584859</td>\n      <td>26.000</td>\n      <td>1567.092850</td>\n    </tr>\n  </tbody>\n</table>\n</div>"
     },
     "execution_count": 26,
     "metadata": {},
     "output_type": "execute_result"
    }
   ],
   "source": [
    "arr = []\n",
    "for pid in individual_part_ids:\n",
    "    throughput = (tp_v_screen[tp_v_screen['part_id'] == pid]['ID'] / (tp_v_screen[tp_v_screen['part_id'] == pid]['MT'] / 1000)).sum() / tp_v_screen[tp_v_screen['part_id'] == pid]['MT'].count()\n",
    "\n",
    "    arr.append([pid, throughput, tp_v_screen[tp_v_screen['part_id'] == pid]['Screen Size in inch'].iloc[0], tp_v_screen[tp_v_screen['part_id'] == pid]['display diagonal'].iloc[0]])\n",
    "\n",
    "tp_v_screen = pd.DataFrame(arr, columns=('part_id', 'throughput', 'screen size', 'diagonal screen res'))\n",
    "tp_v_screen"
   ],
   "metadata": {
    "collapsed": false,
    "pycharm": {
     "name": "#%%\n"
    }
   }
  },
  {
   "cell_type": "code",
   "execution_count": null,
   "outputs": [],
   "source": [],
   "metadata": {
    "collapsed": false,
    "pycharm": {
     "name": "#%%\n"
    }
   }
  },
  {
   "cell_type": "markdown",
   "source": [
    "## Table 6: ID vs Mean Movement Time per ID"
   ],
   "metadata": {
    "collapsed": false,
    "pycharm": {
     "name": "#%% md\n"
    }
   }
  },
  {
   "cell_type": "code",
   "execution_count": 27,
   "outputs": [
    {
     "data": {
      "text/plain": "            ID     MT\n2    21.175439   7171\n3    26.617647  12359\n7    13.130435   4007\n8     6.711111   1533\n9     3.822785    542\n..         ...    ...\n227  39.347826  21220\n228   5.911765    188\n231  13.130435   5061\n232  13.130435   4436\n233   5.911765    406\n\n[9593 rows x 2 columns]",
      "text/html": "<div>\n<style scoped>\n    .dataframe tbody tr th:only-of-type {\n        vertical-align: middle;\n    }\n\n    .dataframe tbody tr th {\n        vertical-align: top;\n    }\n\n    .dataframe thead th {\n        text-align: right;\n    }\n</style>\n<table border=\"1\" class=\"dataframe\">\n  <thead>\n    <tr style=\"text-align: right;\">\n      <th></th>\n      <th>ID</th>\n      <th>MT</th>\n    </tr>\n  </thead>\n  <tbody>\n    <tr>\n      <th>2</th>\n      <td>21.175439</td>\n      <td>7171</td>\n    </tr>\n    <tr>\n      <th>3</th>\n      <td>26.617647</td>\n      <td>12359</td>\n    </tr>\n    <tr>\n      <th>7</th>\n      <td>13.130435</td>\n      <td>4007</td>\n    </tr>\n    <tr>\n      <th>8</th>\n      <td>6.711111</td>\n      <td>1533</td>\n    </tr>\n    <tr>\n      <th>9</th>\n      <td>3.822785</td>\n      <td>542</td>\n    </tr>\n    <tr>\n      <th>...</th>\n      <td>...</td>\n      <td>...</td>\n    </tr>\n    <tr>\n      <th>227</th>\n      <td>39.347826</td>\n      <td>21220</td>\n    </tr>\n    <tr>\n      <th>228</th>\n      <td>5.911765</td>\n      <td>188</td>\n    </tr>\n    <tr>\n      <th>231</th>\n      <td>13.130435</td>\n      <td>5061</td>\n    </tr>\n    <tr>\n      <th>232</th>\n      <td>13.130435</td>\n      <td>4436</td>\n    </tr>\n    <tr>\n      <th>233</th>\n      <td>5.911765</td>\n      <td>406</td>\n    </tr>\n  </tbody>\n</table>\n<p>9593 rows × 2 columns</p>\n</div>"
     },
     "execution_count": 27,
     "metadata": {},
     "output_type": "execute_result"
    }
   ],
   "source": [
    "id_v_mean_mt = copy.deepcopy(combined)\n",
    "\n",
    "id_v_mean_mt.drop(['part_id', 'width', 'length', 'Age', 'Gender', 'Real Res', 'Direction', 'Screen Size in inch', 'display diagonal'], inplace=True, axis=1)\n",
    "\n",
    "id_v_mean_mt = id_v_mean_mt[id_v_mean_mt['MT'] != -1]\n",
    "\n",
    "id_v_mean_mt"
   ],
   "metadata": {
    "collapsed": false,
    "pycharm": {
     "name": "#%%\n"
    }
   }
  },
  {
   "cell_type": "code",
   "execution_count": 28,
   "outputs": [
    {
     "data": {
      "text/plain": "           ID      Mean MT\n0   21.175439  2553.140000\n1   26.617647  3252.033445\n2   13.130435  1636.615385\n3    6.711111   630.993333\n4    3.822785   392.410000\n5    7.632911   780.528428\n6   10.055556  1112.765886\n7    2.960784   342.256667\n8   17.750000  2118.650000\n9   11.833333  1538.156667\n10  52.478261  9745.763333\n11  13.400000  1445.460000\n12  11.455696  1379.090000\n13   8.867647   863.816667\n14  15.278481  2057.036667\n15  35.500000  5243.166667\n16  20.111111  2292.837209\n17   8.882353   952.404682\n18  15.877193  1765.580000\n19   8.872549  1049.511706\n20   4.441176   447.950000\n21  13.308824  1506.780000\n22   6.700000   745.693333\n23  39.347826  5615.943144\n24  10.578947  1024.860000\n25  17.735294  1851.454849\n26  26.822222  3323.090000\n27  13.411111  1755.953333\n28   3.355556   388.870000\n29  26.217391  3663.256667\n30   5.911765   750.713333\n31   5.298246   564.876667",
      "text/html": "<div>\n<style scoped>\n    .dataframe tbody tr th:only-of-type {\n        vertical-align: middle;\n    }\n\n    .dataframe tbody tr th {\n        vertical-align: top;\n    }\n\n    .dataframe thead th {\n        text-align: right;\n    }\n</style>\n<table border=\"1\" class=\"dataframe\">\n  <thead>\n    <tr style=\"text-align: right;\">\n      <th></th>\n      <th>ID</th>\n      <th>Mean MT</th>\n    </tr>\n  </thead>\n  <tbody>\n    <tr>\n      <th>0</th>\n      <td>21.175439</td>\n      <td>2553.140000</td>\n    </tr>\n    <tr>\n      <th>1</th>\n      <td>26.617647</td>\n      <td>3252.033445</td>\n    </tr>\n    <tr>\n      <th>2</th>\n      <td>13.130435</td>\n      <td>1636.615385</td>\n    </tr>\n    <tr>\n      <th>3</th>\n      <td>6.711111</td>\n      <td>630.993333</td>\n    </tr>\n    <tr>\n      <th>4</th>\n      <td>3.822785</td>\n      <td>392.410000</td>\n    </tr>\n    <tr>\n      <th>5</th>\n      <td>7.632911</td>\n      <td>780.528428</td>\n    </tr>\n    <tr>\n      <th>6</th>\n      <td>10.055556</td>\n      <td>1112.765886</td>\n    </tr>\n    <tr>\n      <th>7</th>\n      <td>2.960784</td>\n      <td>342.256667</td>\n    </tr>\n    <tr>\n      <th>8</th>\n      <td>17.750000</td>\n      <td>2118.650000</td>\n    </tr>\n    <tr>\n      <th>9</th>\n      <td>11.833333</td>\n      <td>1538.156667</td>\n    </tr>\n    <tr>\n      <th>10</th>\n      <td>52.478261</td>\n      <td>9745.763333</td>\n    </tr>\n    <tr>\n      <th>11</th>\n      <td>13.400000</td>\n      <td>1445.460000</td>\n    </tr>\n    <tr>\n      <th>12</th>\n      <td>11.455696</td>\n      <td>1379.090000</td>\n    </tr>\n    <tr>\n      <th>13</th>\n      <td>8.867647</td>\n      <td>863.816667</td>\n    </tr>\n    <tr>\n      <th>14</th>\n      <td>15.278481</td>\n      <td>2057.036667</td>\n    </tr>\n    <tr>\n      <th>15</th>\n      <td>35.500000</td>\n      <td>5243.166667</td>\n    </tr>\n    <tr>\n      <th>16</th>\n      <td>20.111111</td>\n      <td>2292.837209</td>\n    </tr>\n    <tr>\n      <th>17</th>\n      <td>8.882353</td>\n      <td>952.404682</td>\n    </tr>\n    <tr>\n      <th>18</th>\n      <td>15.877193</td>\n      <td>1765.580000</td>\n    </tr>\n    <tr>\n      <th>19</th>\n      <td>8.872549</td>\n      <td>1049.511706</td>\n    </tr>\n    <tr>\n      <th>20</th>\n      <td>4.441176</td>\n      <td>447.950000</td>\n    </tr>\n    <tr>\n      <th>21</th>\n      <td>13.308824</td>\n      <td>1506.780000</td>\n    </tr>\n    <tr>\n      <th>22</th>\n      <td>6.700000</td>\n      <td>745.693333</td>\n    </tr>\n    <tr>\n      <th>23</th>\n      <td>39.347826</td>\n      <td>5615.943144</td>\n    </tr>\n    <tr>\n      <th>24</th>\n      <td>10.578947</td>\n      <td>1024.860000</td>\n    </tr>\n    <tr>\n      <th>25</th>\n      <td>17.735294</td>\n      <td>1851.454849</td>\n    </tr>\n    <tr>\n      <th>26</th>\n      <td>26.822222</td>\n      <td>3323.090000</td>\n    </tr>\n    <tr>\n      <th>27</th>\n      <td>13.411111</td>\n      <td>1755.953333</td>\n    </tr>\n    <tr>\n      <th>28</th>\n      <td>3.355556</td>\n      <td>388.870000</td>\n    </tr>\n    <tr>\n      <th>29</th>\n      <td>26.217391</td>\n      <td>3663.256667</td>\n    </tr>\n    <tr>\n      <th>30</th>\n      <td>5.911765</td>\n      <td>750.713333</td>\n    </tr>\n    <tr>\n      <th>31</th>\n      <td>5.298246</td>\n      <td>564.876667</td>\n    </tr>\n  </tbody>\n</table>\n</div>"
     },
     "execution_count": 28,
     "metadata": {},
     "output_type": "execute_result"
    }
   ],
   "source": [
    "arr = []\n",
    "for curr_id in individual_ids:\n",
    "    mean_mt = id_v_mean_mt[id_v_mean_mt['ID'] == curr_id]['MT'].mean()\n",
    "    arr.append([curr_id, mean_mt])\n",
    "\n",
    "id_v_mean_mt = pd.DataFrame(arr, columns=('ID', 'Mean MT'))\n",
    "\n",
    "id_v_mean_mt"
   ],
   "metadata": {
    "collapsed": false,
    "pycharm": {
     "name": "#%%\n"
    }
   }
  },
  {
   "cell_type": "code",
   "execution_count": null,
   "outputs": [],
   "source": [],
   "metadata": {
    "collapsed": false,
    "pycharm": {
     "name": "#%%\n"
    }
   }
  },
  {
   "cell_type": "markdown",
   "source": [
    "# Export zu Excel"
   ],
   "metadata": {
    "collapsed": false,
    "pycharm": {
     "name": "#%% md\n"
    }
   }
  },
  {
   "cell_type": "code",
   "execution_count": 29,
   "outputs": [
    {
     "data": {
      "text/plain": "'C:\\\\Users\\\\ragor\\\\OneDrive\\\\Dokumente\\\\Bachelorarbeit\\\\BA-Prediction-Beyond-the-Systems-Latency\\\\01_Data Collection\\\\02_Data\\\\MT Analysis\\\\demographic'"
     },
     "execution_count": 29,
     "metadata": {},
     "output_type": "execute_result"
    }
   ],
   "source": [
    "os.getcwd()"
   ],
   "metadata": {
    "collapsed": false,
    "pycharm": {
     "name": "#%%\n"
    }
   }
  },
  {
   "cell_type": "code",
   "execution_count": 30,
   "outputs": [],
   "source": [
    "os.chdir('..')\n",
    "\n",
    "writer = pd.ExcelWriter('all_data2.xlsx', engine='xlsxwriter')\n",
    "id_v_mt.to_excel(writer, sheet_name='ID v MT')\n",
    "id_v_error.to_excel(writer, sheet_name='ID v Error')\n",
    "id_v_mean_error.to_excel(writer, sheet_name='ID v Mean Error')\n",
    "tp_v_direction.to_excel(writer, sheet_name='TP v Direction')\n",
    "tp_v_screen.to_excel(writer, sheet_name='TP v Screen')\n",
    "id_v_mean_mt.to_excel(writer, sheet_name='TP v Mean MT')\n",
    "\n",
    "writer.save()"
   ],
   "metadata": {
    "collapsed": false,
    "pycharm": {
     "name": "#%%\n"
    }
   }
  },
  {
   "cell_type": "code",
   "execution_count": 31,
   "outputs": [
    {
     "name": "stderr",
     "output_type": "stream",
     "text": [
      "C:\\Users\\ragor\\anaconda3\\envs\\Comp Intelligence\\lib\\site-packages\\xlsxwriter\\workbook.py:339: UserWarning: Calling close() on already closed file.\n",
      "  warn(\"Calling close() on already closed file.\")\n"
     ]
    }
   ],
   "source": [
    "writer.close()"
   ],
   "metadata": {
    "collapsed": false,
    "pycharm": {
     "name": "#%%\n"
    }
   }
  },
  {
   "cell_type": "code",
   "execution_count": null,
   "outputs": [],
   "source": [],
   "metadata": {
    "collapsed": false,
    "pycharm": {
     "name": "#%%\n"
    }
   }
  },
  {
   "cell_type": "markdown",
   "source": [
    "# Prepare Error rate Analysis Excel\n",
    "\n",
    "One row per participant per ID, Count errors on this ID and divide by count+5 -> errorrate per ID"
   ],
   "metadata": {
    "collapsed": false,
    "pycharm": {
     "name": "#%% md\n"
    }
   }
  },
  {
   "cell_type": "code",
   "execution_count": 67,
   "outputs": [
    {
     "data": {
      "text/plain": "      part_id  width  length         ID     MT   Age Gender  \\\n0    12299398     57    1207  21.175439     -1  25.0   male   \n1    12299398     57    1207  21.175439     -1  25.0   male   \n2    12299398     57    1207  21.175439   7171  25.0   male   \n3    12299398     34     905  26.617647  12359  25.0   male   \n4    12299398     23     302  13.130435     -1  25.0   male   \n..        ...    ...     ...        ...    ...   ...    ...   \n202  12299398    102     905   8.872549    768  25.0   male   \n203  12299398     68    1207  17.750000   1834  25.0   male   \n204  12299398     90    1207  13.411111   1468  25.0   male   \n205  12299398     90     302   3.355556    255  25.0   male   \n206  12299398     68    1207  17.750000   1512  25.0   male   \n\n     Screen Size in inch      Real Res Direction  \n0                   14.0  1366 x 768px       l-r  \n1                   14.0  1366 x 768px       r-l  \n2                   14.0  1366 x 768px       l-r  \n3                   14.0  1366 x 768px       r-l  \n4                   14.0  1366 x 768px       l-r  \n..                   ...           ...       ...  \n202                 14.0  1366 x 768px       l-r  \n203                 14.0  1366 x 768px       r-l  \n204                 14.0  1366 x 768px       l-r  \n205                 14.0  1366 x 768px       r-l  \n206                 14.0  1366 x 768px       l-r  \n\n[207 rows x 10 columns]",
      "text/html": "<div>\n<style scoped>\n    .dataframe tbody tr th:only-of-type {\n        vertical-align: middle;\n    }\n\n    .dataframe tbody tr th {\n        vertical-align: top;\n    }\n\n    .dataframe thead th {\n        text-align: right;\n    }\n</style>\n<table border=\"1\" class=\"dataframe\">\n  <thead>\n    <tr style=\"text-align: right;\">\n      <th></th>\n      <th>part_id</th>\n      <th>width</th>\n      <th>length</th>\n      <th>ID</th>\n      <th>MT</th>\n      <th>Age</th>\n      <th>Gender</th>\n      <th>Screen Size in inch</th>\n      <th>Real Res</th>\n      <th>Direction</th>\n    </tr>\n  </thead>\n  <tbody>\n    <tr>\n      <th>0</th>\n      <td>12299398</td>\n      <td>57</td>\n      <td>1207</td>\n      <td>21.175439</td>\n      <td>-1</td>\n      <td>25.0</td>\n      <td>male</td>\n      <td>14.0</td>\n      <td>1366 x 768px</td>\n      <td>l-r</td>\n    </tr>\n    <tr>\n      <th>1</th>\n      <td>12299398</td>\n      <td>57</td>\n      <td>1207</td>\n      <td>21.175439</td>\n      <td>-1</td>\n      <td>25.0</td>\n      <td>male</td>\n      <td>14.0</td>\n      <td>1366 x 768px</td>\n      <td>r-l</td>\n    </tr>\n    <tr>\n      <th>2</th>\n      <td>12299398</td>\n      <td>57</td>\n      <td>1207</td>\n      <td>21.175439</td>\n      <td>7171</td>\n      <td>25.0</td>\n      <td>male</td>\n      <td>14.0</td>\n      <td>1366 x 768px</td>\n      <td>l-r</td>\n    </tr>\n    <tr>\n      <th>3</th>\n      <td>12299398</td>\n      <td>34</td>\n      <td>905</td>\n      <td>26.617647</td>\n      <td>12359</td>\n      <td>25.0</td>\n      <td>male</td>\n      <td>14.0</td>\n      <td>1366 x 768px</td>\n      <td>r-l</td>\n    </tr>\n    <tr>\n      <th>4</th>\n      <td>12299398</td>\n      <td>23</td>\n      <td>302</td>\n      <td>13.130435</td>\n      <td>-1</td>\n      <td>25.0</td>\n      <td>male</td>\n      <td>14.0</td>\n      <td>1366 x 768px</td>\n      <td>l-r</td>\n    </tr>\n    <tr>\n      <th>...</th>\n      <td>...</td>\n      <td>...</td>\n      <td>...</td>\n      <td>...</td>\n      <td>...</td>\n      <td>...</td>\n      <td>...</td>\n      <td>...</td>\n      <td>...</td>\n      <td>...</td>\n    </tr>\n    <tr>\n      <th>202</th>\n      <td>12299398</td>\n      <td>102</td>\n      <td>905</td>\n      <td>8.872549</td>\n      <td>768</td>\n      <td>25.0</td>\n      <td>male</td>\n      <td>14.0</td>\n      <td>1366 x 768px</td>\n      <td>l-r</td>\n    </tr>\n    <tr>\n      <th>203</th>\n      <td>12299398</td>\n      <td>68</td>\n      <td>1207</td>\n      <td>17.750000</td>\n      <td>1834</td>\n      <td>25.0</td>\n      <td>male</td>\n      <td>14.0</td>\n      <td>1366 x 768px</td>\n      <td>r-l</td>\n    </tr>\n    <tr>\n      <th>204</th>\n      <td>12299398</td>\n      <td>90</td>\n      <td>1207</td>\n      <td>13.411111</td>\n      <td>1468</td>\n      <td>25.0</td>\n      <td>male</td>\n      <td>14.0</td>\n      <td>1366 x 768px</td>\n      <td>l-r</td>\n    </tr>\n    <tr>\n      <th>205</th>\n      <td>12299398</td>\n      <td>90</td>\n      <td>302</td>\n      <td>3.355556</td>\n      <td>255</td>\n      <td>25.0</td>\n      <td>male</td>\n      <td>14.0</td>\n      <td>1366 x 768px</td>\n      <td>r-l</td>\n    </tr>\n    <tr>\n      <th>206</th>\n      <td>12299398</td>\n      <td>68</td>\n      <td>1207</td>\n      <td>17.750000</td>\n      <td>1512</td>\n      <td>25.0</td>\n      <td>male</td>\n      <td>14.0</td>\n      <td>1366 x 768px</td>\n      <td>l-r</td>\n    </tr>\n  </tbody>\n</table>\n<p>207 rows × 10 columns</p>\n</div>"
     },
     "execution_count": 67,
     "metadata": {},
     "output_type": "execute_result"
    }
   ],
   "source": [
    "all_data[0]"
   ],
   "metadata": {
    "collapsed": false,
    "pycharm": {
     "name": "#%%\n"
    }
   }
  },
  {
   "cell_type": "code",
   "execution_count": 79,
   "outputs": [
    {
     "data": {
      "text/plain": "     part_id         ID  Errors\n0   12299398   2.960784       0\n1   12299398   3.822785       0\n2   12299398   4.441176       0\n3   12299398   3.355556       0\n4   12299398   6.711111       1\n5   12299398   7.632911       0\n6   12299398   8.867647       1\n7   12299398   8.882353       0\n8   12299398  10.055556       0\n9   12299398  11.833333       1\n10  12299398  11.455696       0\n11  12299398  13.130435       6\n12  12299398  13.400000       0\n13  12299398  15.278481       3\n14  12299398  15.877193       1\n15  12299398  17.750000       1\n16  12299398  13.308824       0\n17  12299398  10.578947       0\n18  12299398  20.111111       0\n19  12299398  21.175439       3\n20  12299398  17.735294       1\n21  12299398  26.617647       1\n22  12299398  26.822222       2\n23  12299398  26.217391       6\n24  12299398   5.911765       1\n25  12299398   5.298246       0\n26  12299398  35.500000       3\n27  12299398  39.347826       8\n28  12299398   8.872549       0\n29  12299398  52.478261       6\n30  12299398  13.411111       1\n31  12299398   6.700000       1",
      "text/html": "<div>\n<style scoped>\n    .dataframe tbody tr th:only-of-type {\n        vertical-align: middle;\n    }\n\n    .dataframe tbody tr th {\n        vertical-align: top;\n    }\n\n    .dataframe thead th {\n        text-align: right;\n    }\n</style>\n<table border=\"1\" class=\"dataframe\">\n  <thead>\n    <tr style=\"text-align: right;\">\n      <th></th>\n      <th>part_id</th>\n      <th>ID</th>\n      <th>Errors</th>\n    </tr>\n  </thead>\n  <tbody>\n    <tr>\n      <th>0</th>\n      <td>12299398</td>\n      <td>2.960784</td>\n      <td>0</td>\n    </tr>\n    <tr>\n      <th>1</th>\n      <td>12299398</td>\n      <td>3.822785</td>\n      <td>0</td>\n    </tr>\n    <tr>\n      <th>2</th>\n      <td>12299398</td>\n      <td>4.441176</td>\n      <td>0</td>\n    </tr>\n    <tr>\n      <th>3</th>\n      <td>12299398</td>\n      <td>3.355556</td>\n      <td>0</td>\n    </tr>\n    <tr>\n      <th>4</th>\n      <td>12299398</td>\n      <td>6.711111</td>\n      <td>1</td>\n    </tr>\n    <tr>\n      <th>5</th>\n      <td>12299398</td>\n      <td>7.632911</td>\n      <td>0</td>\n    </tr>\n    <tr>\n      <th>6</th>\n      <td>12299398</td>\n      <td>8.867647</td>\n      <td>1</td>\n    </tr>\n    <tr>\n      <th>7</th>\n      <td>12299398</td>\n      <td>8.882353</td>\n      <td>0</td>\n    </tr>\n    <tr>\n      <th>8</th>\n      <td>12299398</td>\n      <td>10.055556</td>\n      <td>0</td>\n    </tr>\n    <tr>\n      <th>9</th>\n      <td>12299398</td>\n      <td>11.833333</td>\n      <td>1</td>\n    </tr>\n    <tr>\n      <th>10</th>\n      <td>12299398</td>\n      <td>11.455696</td>\n      <td>0</td>\n    </tr>\n    <tr>\n      <th>11</th>\n      <td>12299398</td>\n      <td>13.130435</td>\n      <td>6</td>\n    </tr>\n    <tr>\n      <th>12</th>\n      <td>12299398</td>\n      <td>13.400000</td>\n      <td>0</td>\n    </tr>\n    <tr>\n      <th>13</th>\n      <td>12299398</td>\n      <td>15.278481</td>\n      <td>3</td>\n    </tr>\n    <tr>\n      <th>14</th>\n      <td>12299398</td>\n      <td>15.877193</td>\n      <td>1</td>\n    </tr>\n    <tr>\n      <th>15</th>\n      <td>12299398</td>\n      <td>17.750000</td>\n      <td>1</td>\n    </tr>\n    <tr>\n      <th>16</th>\n      <td>12299398</td>\n      <td>13.308824</td>\n      <td>0</td>\n    </tr>\n    <tr>\n      <th>17</th>\n      <td>12299398</td>\n      <td>10.578947</td>\n      <td>0</td>\n    </tr>\n    <tr>\n      <th>18</th>\n      <td>12299398</td>\n      <td>20.111111</td>\n      <td>0</td>\n    </tr>\n    <tr>\n      <th>19</th>\n      <td>12299398</td>\n      <td>21.175439</td>\n      <td>3</td>\n    </tr>\n    <tr>\n      <th>20</th>\n      <td>12299398</td>\n      <td>17.735294</td>\n      <td>1</td>\n    </tr>\n    <tr>\n      <th>21</th>\n      <td>12299398</td>\n      <td>26.617647</td>\n      <td>1</td>\n    </tr>\n    <tr>\n      <th>22</th>\n      <td>12299398</td>\n      <td>26.822222</td>\n      <td>2</td>\n    </tr>\n    <tr>\n      <th>23</th>\n      <td>12299398</td>\n      <td>26.217391</td>\n      <td>6</td>\n    </tr>\n    <tr>\n      <th>24</th>\n      <td>12299398</td>\n      <td>5.911765</td>\n      <td>1</td>\n    </tr>\n    <tr>\n      <th>25</th>\n      <td>12299398</td>\n      <td>5.298246</td>\n      <td>0</td>\n    </tr>\n    <tr>\n      <th>26</th>\n      <td>12299398</td>\n      <td>35.500000</td>\n      <td>3</td>\n    </tr>\n    <tr>\n      <th>27</th>\n      <td>12299398</td>\n      <td>39.347826</td>\n      <td>8</td>\n    </tr>\n    <tr>\n      <th>28</th>\n      <td>12299398</td>\n      <td>8.872549</td>\n      <td>0</td>\n    </tr>\n    <tr>\n      <th>29</th>\n      <td>12299398</td>\n      <td>52.478261</td>\n      <td>6</td>\n    </tr>\n    <tr>\n      <th>30</th>\n      <td>12299398</td>\n      <td>13.411111</td>\n      <td>1</td>\n    </tr>\n    <tr>\n      <th>31</th>\n      <td>12299398</td>\n      <td>6.700000</td>\n      <td>1</td>\n    </tr>\n  </tbody>\n</table>\n</div>"
     },
     "execution_count": 79,
     "metadata": {},
     "output_type": "execute_result"
    }
   ],
   "source": [
    "removed = []\n",
    "errordfs = []\n",
    "\n",
    "one_data = [all_data[0]]\n",
    "\n",
    "for datapoint in one_data:\n",
    "    curr = copy.deepcopy(datapoint)\n",
    "\n",
    "    individual_ids = set()\n",
    "\n",
    "    for index, row in datapoint.iterrows():\n",
    "        individual_ids.add(row['ID'])\n",
    "\n",
    "    \"\"\"\n",
    "    for iid in individual_ids:\n",
    "        errorcount = 0\n",
    "        id_error_dict = dict()\n",
    "        for index, row in datapoint.iterrows():\n",
    "            if row['ID'] == iid:\n",
    "                if row['MT'] == -1:\n",
    "                    errorcount += 1\n",
    "            id_error_dict[row['ID']] = errorcount\n",
    "            # print(id_error_dict)\n",
    "        errordfs.append(pd.DataFrame.from_records([id_error_dict]))\n",
    "    \"\"\"\n",
    "\n",
    "    errors_for_part = []\n",
    "    for iid in individual_ids:\n",
    "        curr_iid = datapoint[datapoint['ID'] == iid]\n",
    "        # print(curr_id)\n",
    "        error_count = len(curr_iid[curr_iid['MT'] == -1].index)\n",
    "\n",
    "        errdf = {\n",
    "            'part_id': datapoint['part_id'].values[0],\n",
    "            'ID': curr_iid['ID'].values[0],\n",
    "            'Errors': error_count\n",
    "        }\n",
    "\n",
    "        #print(errdf)\n",
    "        errors_for_part.append(errdf)\n",
    "\n",
    "    errordfs.append(pd.DataFrame.from_records(errors_for_part))\n",
    "\n",
    "    # print(individual_ids)\n",
    "    removed.append(curr)\n",
    "\n",
    "errordfs[0]"
   ],
   "metadata": {
    "collapsed": false,
    "pycharm": {
     "name": "#%%\n"
    }
   }
  },
  {
   "cell_type": "markdown",
   "source": [
    "# Throughput"
   ],
   "metadata": {
    "collapsed": false,
    "pycharm": {
     "name": "#%% md\n"
    }
   }
  },
  {
   "cell_type": "code",
   "execution_count": 11,
   "outputs": [],
   "source": [
    "tp_data = copy.deepcopy(combined)"
   ],
   "metadata": {
    "collapsed": false,
    "pycharm": {
     "name": "#%%\n"
    }
   }
  },
  {
   "cell_type": "code",
   "execution_count": 18,
   "outputs": [
    {
     "data": {
      "text/plain": "    part_id  width  length         ID      MT   Age Gender  \\\n2  12299398     57    1207  21.175439   7.171  25.0   male   \n3  12299398     34     905  26.617647  12.359  25.0   male   \n7  12299398     23     302  13.130435   4.007  25.0   male   \n8  12299398     45     302   6.711111   1.533  25.0   male   \n9  12299398     79     302   3.822785   0.542  25.0   male   \n\n   Screen Size in inch      Real Res Direction  display diagonal  \n2                 14.0  1366 x 768px       l-r        1567.09285  \n3                 14.0  1366 x 768px       r-l        1567.09285  \n7                 14.0  1366 x 768px       r-l        1567.09285  \n8                 14.0  1366 x 768px       l-r        1567.09285  \n9                 14.0  1366 x 768px       r-l        1567.09285  ",
      "text/html": "<div>\n<style scoped>\n    .dataframe tbody tr th:only-of-type {\n        vertical-align: middle;\n    }\n\n    .dataframe tbody tr th {\n        vertical-align: top;\n    }\n\n    .dataframe thead th {\n        text-align: right;\n    }\n</style>\n<table border=\"1\" class=\"dataframe\">\n  <thead>\n    <tr style=\"text-align: right;\">\n      <th></th>\n      <th>part_id</th>\n      <th>width</th>\n      <th>length</th>\n      <th>ID</th>\n      <th>MT</th>\n      <th>Age</th>\n      <th>Gender</th>\n      <th>Screen Size in inch</th>\n      <th>Real Res</th>\n      <th>Direction</th>\n      <th>display diagonal</th>\n    </tr>\n  </thead>\n  <tbody>\n    <tr>\n      <th>2</th>\n      <td>12299398</td>\n      <td>57</td>\n      <td>1207</td>\n      <td>21.175439</td>\n      <td>7.171</td>\n      <td>25.0</td>\n      <td>male</td>\n      <td>14.0</td>\n      <td>1366 x 768px</td>\n      <td>l-r</td>\n      <td>1567.09285</td>\n    </tr>\n    <tr>\n      <th>3</th>\n      <td>12299398</td>\n      <td>34</td>\n      <td>905</td>\n      <td>26.617647</td>\n      <td>12.359</td>\n      <td>25.0</td>\n      <td>male</td>\n      <td>14.0</td>\n      <td>1366 x 768px</td>\n      <td>r-l</td>\n      <td>1567.09285</td>\n    </tr>\n    <tr>\n      <th>7</th>\n      <td>12299398</td>\n      <td>23</td>\n      <td>302</td>\n      <td>13.130435</td>\n      <td>4.007</td>\n      <td>25.0</td>\n      <td>male</td>\n      <td>14.0</td>\n      <td>1366 x 768px</td>\n      <td>r-l</td>\n      <td>1567.09285</td>\n    </tr>\n    <tr>\n      <th>8</th>\n      <td>12299398</td>\n      <td>45</td>\n      <td>302</td>\n      <td>6.711111</td>\n      <td>1.533</td>\n      <td>25.0</td>\n      <td>male</td>\n      <td>14.0</td>\n      <td>1366 x 768px</td>\n      <td>l-r</td>\n      <td>1567.09285</td>\n    </tr>\n    <tr>\n      <th>9</th>\n      <td>12299398</td>\n      <td>79</td>\n      <td>302</td>\n      <td>3.822785</td>\n      <td>0.542</td>\n      <td>25.0</td>\n      <td>male</td>\n      <td>14.0</td>\n      <td>1366 x 768px</td>\n      <td>r-l</td>\n      <td>1567.09285</td>\n    </tr>\n  </tbody>\n</table>\n</div>"
     },
     "execution_count": 18,
     "metadata": {},
     "output_type": "execute_result"
    }
   ],
   "source": [
    "tp_data = tp_data[tp_data['MT'] != -1]\n",
    "tp_data['MT'] = tp_data['MT']/1000\n",
    "tp_data.head()"
   ],
   "metadata": {
    "collapsed": false,
    "pycharm": {
     "name": "#%%\n"
    }
   }
  },
  {
   "cell_type": "code",
   "execution_count": 19,
   "outputs": [
    {
     "data": {
      "text/plain": "array([12299398, 14239653, 15065059, 17722961, 17978640, 17985804,\n       19330011, 20073570, 21245612,  2183014, 23977713, 26401324,\n       26712442, 26886273, 27867816, 28184233, 28315891, 28725313,\n        2881314, 30669565, 31136533, 31256077, 33744500, 33848466,\n       34198438, 34547995, 39618267, 40159356, 41096354, 44264673,\n       47459713, 50393653, 50400149, 50866194, 54567679, 58472494,\n       60997059, 66283818, 70165854, 70882663, 71686964, 72852612,\n       73406414, 73616785, 76584802, 77439901, 82493269, 82493972,\n       82656133, 84736176, 86821191, 88009054, 88319338, 89184070,\n       89532417, 94667625, 95528384, 97962051, 98975745, 99307457])"
     },
     "execution_count": 19,
     "metadata": {},
     "output_type": "execute_result"
    }
   ],
   "source": [
    "tp_data['part_id'] = tp_data['part_id'].astype(int)\n",
    "unique_part = tp_data['part_id'].unique()\n",
    "unique_part"
   ],
   "metadata": {
    "collapsed": false,
    "pycharm": {
     "name": "#%%\n"
    }
   }
  },
  {
   "cell_type": "code",
   "execution_count": 20,
   "outputs": [
    {
     "data": {
      "text/plain": "     part_id          TP\n0   12299398    8.124540\n1   14239653   12.424331\n2   15065059   47.976523\n3   17722961   14.519404\n4   17978640   21.008840\n5   17985804   10.814512\n6   19330011    4.560821\n7   20073570    4.102584\n8   21245612  198.789772\n9    2183014   20.821150\n10  23977713    9.773553\n11  26401324   11.295954\n12  26712442    2.688665\n13  26886273    5.101202\n14  27867816   54.062861\n15  28184233  124.946862\n16  28315891   23.309857\n17  28725313   60.902513\n18   2881314   64.197342\n19  30669565   15.490689\n20  31136533   25.901691\n21  31256077   23.635974\n22  33744500   13.704165\n23  33848466   21.518222\n24  34198438    3.701227\n25  34547995   14.246999\n26  39618267   22.349050\n27  40159356   52.125384\n28  41096354   12.509613\n29  44264673   46.447526\n30  47459713   15.229718\n31  50393653   17.185238\n32  50400149    9.580221\n33  50866194   27.533335\n34  54567679   30.501254\n35  58472494    4.828175\n36  60997059   10.246149\n37  66283818   11.521539\n38  70165854    6.517813\n39  70882663   19.888640\n40  71686964   19.832919\n41  72852612    7.183871\n42  73406414   56.225413\n43  73616785    7.550717\n44  76584802    9.110116\n45  77439901   10.299498\n46  82493269   16.340443\n47  82493972    9.965072\n48  82656133   16.630617\n49  84736176   45.072575\n50  86821191   13.340564\n51  88009054    9.690898\n52  88319338  140.325929\n53  89184070   11.113945\n54  89532417    9.980460\n55  94667625   19.551645\n56  95528384   10.754807\n57  97962051   54.077563\n58  98975745    6.664742\n59  99307457   18.584859",
      "text/html": "<div>\n<style scoped>\n    .dataframe tbody tr th:only-of-type {\n        vertical-align: middle;\n    }\n\n    .dataframe tbody tr th {\n        vertical-align: top;\n    }\n\n    .dataframe thead th {\n        text-align: right;\n    }\n</style>\n<table border=\"1\" class=\"dataframe\">\n  <thead>\n    <tr style=\"text-align: right;\">\n      <th></th>\n      <th>part_id</th>\n      <th>TP</th>\n    </tr>\n  </thead>\n  <tbody>\n    <tr>\n      <th>0</th>\n      <td>12299398</td>\n      <td>8.124540</td>\n    </tr>\n    <tr>\n      <th>1</th>\n      <td>14239653</td>\n      <td>12.424331</td>\n    </tr>\n    <tr>\n      <th>2</th>\n      <td>15065059</td>\n      <td>47.976523</td>\n    </tr>\n    <tr>\n      <th>3</th>\n      <td>17722961</td>\n      <td>14.519404</td>\n    </tr>\n    <tr>\n      <th>4</th>\n      <td>17978640</td>\n      <td>21.008840</td>\n    </tr>\n    <tr>\n      <th>5</th>\n      <td>17985804</td>\n      <td>10.814512</td>\n    </tr>\n    <tr>\n      <th>6</th>\n      <td>19330011</td>\n      <td>4.560821</td>\n    </tr>\n    <tr>\n      <th>7</th>\n      <td>20073570</td>\n      <td>4.102584</td>\n    </tr>\n    <tr>\n      <th>8</th>\n      <td>21245612</td>\n      <td>198.789772</td>\n    </tr>\n    <tr>\n      <th>9</th>\n      <td>2183014</td>\n      <td>20.821150</td>\n    </tr>\n    <tr>\n      <th>10</th>\n      <td>23977713</td>\n      <td>9.773553</td>\n    </tr>\n    <tr>\n      <th>11</th>\n      <td>26401324</td>\n      <td>11.295954</td>\n    </tr>\n    <tr>\n      <th>12</th>\n      <td>26712442</td>\n      <td>2.688665</td>\n    </tr>\n    <tr>\n      <th>13</th>\n      <td>26886273</td>\n      <td>5.101202</td>\n    </tr>\n    <tr>\n      <th>14</th>\n      <td>27867816</td>\n      <td>54.062861</td>\n    </tr>\n    <tr>\n      <th>15</th>\n      <td>28184233</td>\n      <td>124.946862</td>\n    </tr>\n    <tr>\n      <th>16</th>\n      <td>28315891</td>\n      <td>23.309857</td>\n    </tr>\n    <tr>\n      <th>17</th>\n      <td>28725313</td>\n      <td>60.902513</td>\n    </tr>\n    <tr>\n      <th>18</th>\n      <td>2881314</td>\n      <td>64.197342</td>\n    </tr>\n    <tr>\n      <th>19</th>\n      <td>30669565</td>\n      <td>15.490689</td>\n    </tr>\n    <tr>\n      <th>20</th>\n      <td>31136533</td>\n      <td>25.901691</td>\n    </tr>\n    <tr>\n      <th>21</th>\n      <td>31256077</td>\n      <td>23.635974</td>\n    </tr>\n    <tr>\n      <th>22</th>\n      <td>33744500</td>\n      <td>13.704165</td>\n    </tr>\n    <tr>\n      <th>23</th>\n      <td>33848466</td>\n      <td>21.518222</td>\n    </tr>\n    <tr>\n      <th>24</th>\n      <td>34198438</td>\n      <td>3.701227</td>\n    </tr>\n    <tr>\n      <th>25</th>\n      <td>34547995</td>\n      <td>14.246999</td>\n    </tr>\n    <tr>\n      <th>26</th>\n      <td>39618267</td>\n      <td>22.349050</td>\n    </tr>\n    <tr>\n      <th>27</th>\n      <td>40159356</td>\n      <td>52.125384</td>\n    </tr>\n    <tr>\n      <th>28</th>\n      <td>41096354</td>\n      <td>12.509613</td>\n    </tr>\n    <tr>\n      <th>29</th>\n      <td>44264673</td>\n      <td>46.447526</td>\n    </tr>\n    <tr>\n      <th>30</th>\n      <td>47459713</td>\n      <td>15.229718</td>\n    </tr>\n    <tr>\n      <th>31</th>\n      <td>50393653</td>\n      <td>17.185238</td>\n    </tr>\n    <tr>\n      <th>32</th>\n      <td>50400149</td>\n      <td>9.580221</td>\n    </tr>\n    <tr>\n      <th>33</th>\n      <td>50866194</td>\n      <td>27.533335</td>\n    </tr>\n    <tr>\n      <th>34</th>\n      <td>54567679</td>\n      <td>30.501254</td>\n    </tr>\n    <tr>\n      <th>35</th>\n      <td>58472494</td>\n      <td>4.828175</td>\n    </tr>\n    <tr>\n      <th>36</th>\n      <td>60997059</td>\n      <td>10.246149</td>\n    </tr>\n    <tr>\n      <th>37</th>\n      <td>66283818</td>\n      <td>11.521539</td>\n    </tr>\n    <tr>\n      <th>38</th>\n      <td>70165854</td>\n      <td>6.517813</td>\n    </tr>\n    <tr>\n      <th>39</th>\n      <td>70882663</td>\n      <td>19.888640</td>\n    </tr>\n    <tr>\n      <th>40</th>\n      <td>71686964</td>\n      <td>19.832919</td>\n    </tr>\n    <tr>\n      <th>41</th>\n      <td>72852612</td>\n      <td>7.183871</td>\n    </tr>\n    <tr>\n      <th>42</th>\n      <td>73406414</td>\n      <td>56.225413</td>\n    </tr>\n    <tr>\n      <th>43</th>\n      <td>73616785</td>\n      <td>7.550717</td>\n    </tr>\n    <tr>\n      <th>44</th>\n      <td>76584802</td>\n      <td>9.110116</td>\n    </tr>\n    <tr>\n      <th>45</th>\n      <td>77439901</td>\n      <td>10.299498</td>\n    </tr>\n    <tr>\n      <th>46</th>\n      <td>82493269</td>\n      <td>16.340443</td>\n    </tr>\n    <tr>\n      <th>47</th>\n      <td>82493972</td>\n      <td>9.965072</td>\n    </tr>\n    <tr>\n      <th>48</th>\n      <td>82656133</td>\n      <td>16.630617</td>\n    </tr>\n    <tr>\n      <th>49</th>\n      <td>84736176</td>\n      <td>45.072575</td>\n    </tr>\n    <tr>\n      <th>50</th>\n      <td>86821191</td>\n      <td>13.340564</td>\n    </tr>\n    <tr>\n      <th>51</th>\n      <td>88009054</td>\n      <td>9.690898</td>\n    </tr>\n    <tr>\n      <th>52</th>\n      <td>88319338</td>\n      <td>140.325929</td>\n    </tr>\n    <tr>\n      <th>53</th>\n      <td>89184070</td>\n      <td>11.113945</td>\n    </tr>\n    <tr>\n      <th>54</th>\n      <td>89532417</td>\n      <td>9.980460</td>\n    </tr>\n    <tr>\n      <th>55</th>\n      <td>94667625</td>\n      <td>19.551645</td>\n    </tr>\n    <tr>\n      <th>56</th>\n      <td>95528384</td>\n      <td>10.754807</td>\n    </tr>\n    <tr>\n      <th>57</th>\n      <td>97962051</td>\n      <td>54.077563</td>\n    </tr>\n    <tr>\n      <th>58</th>\n      <td>98975745</td>\n      <td>6.664742</td>\n    </tr>\n    <tr>\n      <th>59</th>\n      <td>99307457</td>\n      <td>18.584859</td>\n    </tr>\n  </tbody>\n</table>\n</div>"
     },
     "execution_count": 20,
     "metadata": {},
     "output_type": "execute_result"
    }
   ],
   "source": [
    "tp_per_part = []\n",
    "\n",
    "for curr_part in unique_part:\n",
    "    curr_data = tp_data[tp_data['part_id'] == curr_part]\n",
    "    curr_tp = (curr_data['ID'] / curr_data['MT']).mean()\n",
    "    tp_per_part.append([curr_part, curr_tp])\n",
    "\n",
    "tp_per_part = pd.DataFrame(tp_per_part, columns=('part_id', 'TP'))\n",
    "tp_per_part"
   ],
   "metadata": {
    "collapsed": false,
    "pycharm": {
     "name": "#%%\n"
    }
   }
  },
  {
   "cell_type": "code",
   "execution_count": 22,
   "outputs": [
    {
     "name": "stdout",
     "output_type": "stream",
     "text": [
      "Mean TP: 26.606342703112194 -- SD TP: 34.28935643525853\n"
     ]
    }
   ],
   "source": [
    "print(f'Mean TP: {tp_per_part[\"TP\"].mean()} -- SD TP: {tp_per_part[\"TP\"].std()}')"
   ],
   "metadata": {
    "collapsed": false,
    "pycharm": {
     "name": "#%%\n"
    }
   }
  },
  {
   "cell_type": "code",
   "execution_count": null,
   "outputs": [],
   "source": [],
   "metadata": {
    "collapsed": false,
    "pycharm": {
     "name": "#%%\n"
    }
   }
  }
 ],
 "metadata": {
  "kernelspec": {
   "display_name": "Python 3",
   "language": "python",
   "name": "python3"
  },
  "language_info": {
   "codemirror_mode": {
    "name": "ipython",
    "version": 2
   },
   "file_extension": ".py",
   "mimetype": "text/x-python",
   "name": "python",
   "nbconvert_exporter": "python",
   "pygments_lexer": "ipython2",
   "version": "2.7.6"
  }
 },
 "nbformat": 4,
 "nbformat_minor": 0
}